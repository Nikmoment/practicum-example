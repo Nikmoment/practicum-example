{
 "cells": [
  {
   "cell_type": "markdown",
   "id": "142954e1",
   "metadata": {},
   "source": [
    "# Исследование надежности заемщиков."
   ]
  },
  {
   "cell_type": "markdown",
   "id": "65579583",
   "metadata": {},
   "source": [
    "Заказчик — кредитный отдел банка. Нужно разобраться, влияет ли семейное положение и количество детей клиента на факт погашения кредита в срок. Входные данные от банка — статистика о платёжеспособности клиентов."
   ]
  },
  {
   "cell_type": "markdown",
   "id": "886f691f",
   "metadata": {},
   "source": [
    "Результаты исследования будут учтены при построении модели кредитного скоринга — специальной системы, которая оценивает способность потенциального заёмщика вернуть кредит банку."
   ]
  },
  {
   "cell_type": "markdown",
   "id": "b301f76b",
   "metadata": {},
   "source": [
    "В ходе исследования постараемся выяснить как ключевые показатели, указанные в таблице влияют на своевременность погашения кредита заемщиком."
   ]
  },
  {
   "cell_type": "markdown",
   "id": "57392d89",
   "metadata": {},
   "source": [
    "На первом этапе познакомимся с таблицей, посмотрим какие показатели имеются, с чем предстоит работать. Далее подготовим таблицу для анализа: избавимся от пропусков, дубликатов, приведем таблицу к комфортному для анализа виду. Проведем изучение ключевых характеристик клиентов в разрезе своевременного возврата заемных средств."
   ]
  },
  {
   "cell_type": "markdown",
   "id": "778ff5e6",
   "metadata": {},
   "source": [
    "## Обзор данных"
   ]
  },
  {
   "cell_type": "markdown",
   "id": "e933de06",
   "metadata": {},
   "source": [
    "Составим первое представление о данных "
   ]
  },
  {
   "cell_type": "code",
   "execution_count": 1,
   "id": "a67aac81",
   "metadata": {},
   "outputs": [],
   "source": [
    "# импорт библиотеки pandas\n",
    "import pandas as pd"
   ]
  },
  {
   "cell_type": "code",
   "execution_count": 2,
   "id": "e0e45c45",
   "metadata": {},
   "outputs": [],
   "source": [
    "# чтение файла с данными и сохранение его в переменную data\n",
    "data = pd.read_csv('/datasets/data.csv')"
   ]
  },
  {
   "cell_type": "code",
   "execution_count": 3,
   "id": "de06697f",
   "metadata": {},
   "outputs": [
    {
     "data": {
      "text/html": [
       "<div>\n",
       "<style scoped>\n",
       "    .dataframe tbody tr th:only-of-type {\n",
       "        vertical-align: middle;\n",
       "    }\n",
       "\n",
       "    .dataframe tbody tr th {\n",
       "        vertical-align: top;\n",
       "    }\n",
       "\n",
       "    .dataframe thead th {\n",
       "        text-align: right;\n",
       "    }\n",
       "</style>\n",
       "<table border=\"1\" class=\"dataframe\">\n",
       "  <thead>\n",
       "    <tr style=\"text-align: right;\">\n",
       "      <th></th>\n",
       "      <th>children</th>\n",
       "      <th>days_employed</th>\n",
       "      <th>dob_years</th>\n",
       "      <th>education</th>\n",
       "      <th>education_id</th>\n",
       "      <th>family_status</th>\n",
       "      <th>family_status_id</th>\n",
       "      <th>gender</th>\n",
       "      <th>income_type</th>\n",
       "      <th>debt</th>\n",
       "      <th>total_income</th>\n",
       "      <th>purpose</th>\n",
       "    </tr>\n",
       "  </thead>\n",
       "  <tbody>\n",
       "    <tr>\n",
       "      <th>0</th>\n",
       "      <td>1</td>\n",
       "      <td>-8437.673028</td>\n",
       "      <td>42</td>\n",
       "      <td>высшее</td>\n",
       "      <td>0</td>\n",
       "      <td>женат / замужем</td>\n",
       "      <td>0</td>\n",
       "      <td>F</td>\n",
       "      <td>сотрудник</td>\n",
       "      <td>0</td>\n",
       "      <td>253875.639453</td>\n",
       "      <td>покупка жилья</td>\n",
       "    </tr>\n",
       "    <tr>\n",
       "      <th>1</th>\n",
       "      <td>1</td>\n",
       "      <td>-4024.803754</td>\n",
       "      <td>36</td>\n",
       "      <td>среднее</td>\n",
       "      <td>1</td>\n",
       "      <td>женат / замужем</td>\n",
       "      <td>0</td>\n",
       "      <td>F</td>\n",
       "      <td>сотрудник</td>\n",
       "      <td>0</td>\n",
       "      <td>112080.014102</td>\n",
       "      <td>приобретение автомобиля</td>\n",
       "    </tr>\n",
       "    <tr>\n",
       "      <th>2</th>\n",
       "      <td>0</td>\n",
       "      <td>-5623.422610</td>\n",
       "      <td>33</td>\n",
       "      <td>Среднее</td>\n",
       "      <td>1</td>\n",
       "      <td>женат / замужем</td>\n",
       "      <td>0</td>\n",
       "      <td>M</td>\n",
       "      <td>сотрудник</td>\n",
       "      <td>0</td>\n",
       "      <td>145885.952297</td>\n",
       "      <td>покупка жилья</td>\n",
       "    </tr>\n",
       "    <tr>\n",
       "      <th>3</th>\n",
       "      <td>3</td>\n",
       "      <td>-4124.747207</td>\n",
       "      <td>32</td>\n",
       "      <td>среднее</td>\n",
       "      <td>1</td>\n",
       "      <td>женат / замужем</td>\n",
       "      <td>0</td>\n",
       "      <td>M</td>\n",
       "      <td>сотрудник</td>\n",
       "      <td>0</td>\n",
       "      <td>267628.550329</td>\n",
       "      <td>дополнительное образование</td>\n",
       "    </tr>\n",
       "    <tr>\n",
       "      <th>4</th>\n",
       "      <td>0</td>\n",
       "      <td>340266.072047</td>\n",
       "      <td>53</td>\n",
       "      <td>среднее</td>\n",
       "      <td>1</td>\n",
       "      <td>гражданский брак</td>\n",
       "      <td>1</td>\n",
       "      <td>F</td>\n",
       "      <td>пенсионер</td>\n",
       "      <td>0</td>\n",
       "      <td>158616.077870</td>\n",
       "      <td>сыграть свадьбу</td>\n",
       "    </tr>\n",
       "    <tr>\n",
       "      <th>5</th>\n",
       "      <td>0</td>\n",
       "      <td>-926.185831</td>\n",
       "      <td>27</td>\n",
       "      <td>высшее</td>\n",
       "      <td>0</td>\n",
       "      <td>гражданский брак</td>\n",
       "      <td>1</td>\n",
       "      <td>M</td>\n",
       "      <td>компаньон</td>\n",
       "      <td>0</td>\n",
       "      <td>255763.565419</td>\n",
       "      <td>покупка жилья</td>\n",
       "    </tr>\n",
       "    <tr>\n",
       "      <th>6</th>\n",
       "      <td>0</td>\n",
       "      <td>-2879.202052</td>\n",
       "      <td>43</td>\n",
       "      <td>высшее</td>\n",
       "      <td>0</td>\n",
       "      <td>женат / замужем</td>\n",
       "      <td>0</td>\n",
       "      <td>F</td>\n",
       "      <td>компаньон</td>\n",
       "      <td>0</td>\n",
       "      <td>240525.971920</td>\n",
       "      <td>операции с жильем</td>\n",
       "    </tr>\n",
       "    <tr>\n",
       "      <th>7</th>\n",
       "      <td>0</td>\n",
       "      <td>-152.779569</td>\n",
       "      <td>50</td>\n",
       "      <td>СРЕДНЕЕ</td>\n",
       "      <td>1</td>\n",
       "      <td>женат / замужем</td>\n",
       "      <td>0</td>\n",
       "      <td>M</td>\n",
       "      <td>сотрудник</td>\n",
       "      <td>0</td>\n",
       "      <td>135823.934197</td>\n",
       "      <td>образование</td>\n",
       "    </tr>\n",
       "    <tr>\n",
       "      <th>8</th>\n",
       "      <td>2</td>\n",
       "      <td>-6929.865299</td>\n",
       "      <td>35</td>\n",
       "      <td>ВЫСШЕЕ</td>\n",
       "      <td>0</td>\n",
       "      <td>гражданский брак</td>\n",
       "      <td>1</td>\n",
       "      <td>F</td>\n",
       "      <td>сотрудник</td>\n",
       "      <td>0</td>\n",
       "      <td>95856.832424</td>\n",
       "      <td>на проведение свадьбы</td>\n",
       "    </tr>\n",
       "    <tr>\n",
       "      <th>9</th>\n",
       "      <td>0</td>\n",
       "      <td>-2188.756445</td>\n",
       "      <td>41</td>\n",
       "      <td>среднее</td>\n",
       "      <td>1</td>\n",
       "      <td>женат / замужем</td>\n",
       "      <td>0</td>\n",
       "      <td>M</td>\n",
       "      <td>сотрудник</td>\n",
       "      <td>0</td>\n",
       "      <td>144425.938277</td>\n",
       "      <td>покупка жилья для семьи</td>\n",
       "    </tr>\n",
       "  </tbody>\n",
       "</table>\n",
       "</div>"
      ],
      "text/plain": [
       "   children  days_employed  dob_years education  education_id  \\\n",
       "0         1   -8437.673028         42    высшее             0   \n",
       "1         1   -4024.803754         36   среднее             1   \n",
       "2         0   -5623.422610         33   Среднее             1   \n",
       "3         3   -4124.747207         32   среднее             1   \n",
       "4         0  340266.072047         53   среднее             1   \n",
       "5         0    -926.185831         27    высшее             0   \n",
       "6         0   -2879.202052         43    высшее             0   \n",
       "7         0    -152.779569         50   СРЕДНЕЕ             1   \n",
       "8         2   -6929.865299         35    ВЫСШЕЕ             0   \n",
       "9         0   -2188.756445         41   среднее             1   \n",
       "\n",
       "      family_status  family_status_id gender income_type  debt   total_income  \\\n",
       "0   женат / замужем                 0      F   сотрудник     0  253875.639453   \n",
       "1   женат / замужем                 0      F   сотрудник     0  112080.014102   \n",
       "2   женат / замужем                 0      M   сотрудник     0  145885.952297   \n",
       "3   женат / замужем                 0      M   сотрудник     0  267628.550329   \n",
       "4  гражданский брак                 1      F   пенсионер     0  158616.077870   \n",
       "5  гражданский брак                 1      M   компаньон     0  255763.565419   \n",
       "6   женат / замужем                 0      F   компаньон     0  240525.971920   \n",
       "7   женат / замужем                 0      M   сотрудник     0  135823.934197   \n",
       "8  гражданский брак                 1      F   сотрудник     0   95856.832424   \n",
       "9   женат / замужем                 0      M   сотрудник     0  144425.938277   \n",
       "\n",
       "                      purpose  \n",
       "0               покупка жилья  \n",
       "1     приобретение автомобиля  \n",
       "2               покупка жилья  \n",
       "3  дополнительное образование  \n",
       "4             сыграть свадьбу  \n",
       "5               покупка жилья  \n",
       "6           операции с жильем  \n",
       "7                 образование  \n",
       "8       на проведение свадьбы  \n",
       "9     покупка жилья для семьи  "
      ]
     },
     "execution_count": 3,
     "metadata": {},
     "output_type": "execute_result"
    }
   ],
   "source": [
    "# получение первых 10 строк таблицы data \n",
    "data.head(10)"
   ]
  },
  {
   "cell_type": "code",
   "execution_count": 4,
   "id": "7a718fbb",
   "metadata": {},
   "outputs": [
    {
     "name": "stdout",
     "output_type": "stream",
     "text": [
      "<class 'pandas.core.frame.DataFrame'>\n",
      "RangeIndex: 21525 entries, 0 to 21524\n",
      "Data columns (total 12 columns):\n",
      " #   Column            Non-Null Count  Dtype  \n",
      "---  ------            --------------  -----  \n",
      " 0   children          21525 non-null  int64  \n",
      " 1   days_employed     19351 non-null  float64\n",
      " 2   dob_years         21525 non-null  int64  \n",
      " 3   education         21525 non-null  object \n",
      " 4   education_id      21525 non-null  int64  \n",
      " 5   family_status     21525 non-null  object \n",
      " 6   family_status_id  21525 non-null  int64  \n",
      " 7   gender            21525 non-null  object \n",
      " 8   income_type       21525 non-null  object \n",
      " 9   debt              21525 non-null  int64  \n",
      " 10  total_income      19351 non-null  float64\n",
      " 11  purpose           21525 non-null  object \n",
      "dtypes: float64(2), int64(5), object(5)\n",
      "memory usage: 2.0+ MB\n"
     ]
    }
   ],
   "source": [
    "# получение общей информации о таблице\n",
    "data.info()"
   ]
  },
  {
   "cell_type": "markdown",
   "id": "ffccd714",
   "metadata": {},
   "source": [
    "В таблице всего 12 колонок, 5 из которых принадлежат типу `object`, 5 типу `int64` и еще 2 типу `float64`\n",
    "\n",
    "Согласно документации к данным:\n",
    "* `children`     — количество детей в семье;\n",
    "* `days_employe` — общий трудовой стаж в днях;  \n",
    "* `dob_years`    — возраст клиента в годах;\n",
    "* `education`    — уровень образования клиента;\n",
    "* `education_id` — идентификатор уровня образования;\n",
    "* `family_status` — семейное положение;\n",
    "* `family_status_id` — идентификатор семейного положения;\n",
    "* `gender`       — пол клиента;\n",
    "* `income_type`  — тип занятости;  \n",
    "* `debt`         — имел ли задолженность по возврату кредитов;\n",
    "* `total_income` — ежемесячный доход;\n",
    "* `purpose`      — цель получения кредита;"
   ]
  },
  {
   "cell_type": "markdown",
   "id": "9d66a89c",
   "metadata": {},
   "source": [
    "Каждая строка таблицы - сведения о заемщике. В колонках описываются данные помогающие составить представление о социальном статусе клиента: количество детей, трудовой стаж, уровень образования, семейное положение, тип занятости, ежемесячный доход, возраст, пол. Остальные данные рассказывают непосредственно о кредитной истории клиента: имел ли задолженность по возврату кредита, цель получения кредита.\n",
    "\n",
    "Содержание колонок, а также количество строк является достаточным для проведения анализа и ответа на поставленные вопросы.\n",
    "При этом в некоторых колонках встречаются пропуски. Перед тем как перейти к анализу необходимо устранить пропуски, проверить есть ли другие проблемы с данными, при наличии устранить. "
   ]
  },
  {
   "cell_type": "markdown",
   "id": "778fe5f0",
   "metadata": {},
   "source": [
    "##  Заполнение пропусков"
   ]
  },
  {
   "cell_type": "markdown",
   "id": "31cb4198",
   "metadata": {},
   "source": [
    "Пропуски в данных появляются разными путями. Например, пользователь не указал о себе какие-нибудь сведения или автоматизированная система сбора информации дала сбой. Иногда пропуски оставляют умышленно, рассчитывая на автозаполнение спецсимволами."
   ]
  },
  {
   "cell_type": "markdown",
   "id": "760da7f7",
   "metadata": {},
   "source": [
    "Посмотрим какова доля пропущеных значений в колонках 'days_employed' и 'total_income'. Мы не должны удалять более 5-7% данных, чтобы коренным образом не повлиять на конечный результат анализа."
   ]
  },
  {
   "cell_type": "code",
   "execution_count": 5,
   "id": "46af3862",
   "metadata": {},
   "outputs": [
    {
     "data": {
      "text/plain": [
       "children            0.000000\n",
       "days_employed       0.100999\n",
       "dob_years           0.000000\n",
       "education           0.000000\n",
       "education_id        0.000000\n",
       "family_status       0.000000\n",
       "family_status_id    0.000000\n",
       "gender              0.000000\n",
       "income_type         0.000000\n",
       "debt                0.000000\n",
       "total_income        0.100999\n",
       "purpose             0.000000\n",
       "dtype: float64"
      ]
     },
     "execution_count": 5,
     "metadata": {},
     "output_type": "execute_result"
    }
   ],
   "source": [
    "data.isna().mean()"
   ]
  },
  {
   "cell_type": "markdown",
   "id": "34dc5ff3",
   "metadata": {},
   "source": [
    "Доля пропущенных значений равна 0.1, тогда удалив строки с None, мы лишим себя почти 1/10 данных. Это повлияет на выводы исследования. Тем не менее, пропуски нельзя оставлять без внимания, поэтому заполним обнаруженные пропуски в колонке 'total_income'."
   ]
  },
  {
   "cell_type": "markdown",
   "id": "3625bbd8",
   "metadata": {},
   "source": [
    "Пропущенные значения можно заполнить средним значением или медианой. Если тех, кто получает высокую зарплату, столько же, сколько тех, кто получает небольшие деньги, — среднее подойдёт. Но когда есть оторванные от основной массы лидеры, их результаты сильно смещают значение среднего вверх. Вот почему оценивать данные широкого круга людей лучше медианой."
   ]
  },
  {
   "cell_type": "code",
   "execution_count": 6,
   "id": "7a80adb4",
   "metadata": {},
   "outputs": [],
   "source": [
    "data['total_income'] = data['total_income'].fillna(value = data['total_income'].median()) # в аргумет метода fillna() подставим\n",
    "                                                                                    # медианное значение колонки total_income"
   ]
  },
  {
   "cell_type": "code",
   "execution_count": 7,
   "id": "bbb81595",
   "metadata": {},
   "outputs": [
    {
     "name": "stdout",
     "output_type": "stream",
     "text": [
      "<class 'pandas.core.frame.DataFrame'>\n",
      "RangeIndex: 21525 entries, 0 to 21524\n",
      "Data columns (total 12 columns):\n",
      " #   Column            Non-Null Count  Dtype  \n",
      "---  ------            --------------  -----  \n",
      " 0   children          21525 non-null  int64  \n",
      " 1   days_employed     19351 non-null  float64\n",
      " 2   dob_years         21525 non-null  int64  \n",
      " 3   education         21525 non-null  object \n",
      " 4   education_id      21525 non-null  int64  \n",
      " 5   family_status     21525 non-null  object \n",
      " 6   family_status_id  21525 non-null  int64  \n",
      " 7   gender            21525 non-null  object \n",
      " 8   income_type       21525 non-null  object \n",
      " 9   debt              21525 non-null  int64  \n",
      " 10  total_income      21525 non-null  float64\n",
      " 11  purpose           21525 non-null  object \n",
      "dtypes: float64(2), int64(5), object(5)\n",
      "memory usage: 2.0+ MB\n"
     ]
    }
   ],
   "source": [
    "data.info() # проверим заполнились ли пропуски"
   ]
  },
  {
   "cell_type": "markdown",
   "id": "b06f4cea",
   "metadata": {},
   "source": [
    "## Проверка данных на аномалии и исправления"
   ]
  },
  {
   "cell_type": "markdown",
   "id": "6a762f83",
   "metadata": {},
   "source": [
    "При знакомстве с данными колонки 'days_employed' обнаружены отрицательные значения. Это можно воспринять как ошибку вызванную человеческим фактором, поэтому избавимся от знака минус во всех этих числах."
   ]
  },
  {
   "cell_type": "code",
   "execution_count": 8,
   "id": "5450a075",
   "metadata": {},
   "outputs": [],
   "source": [
    "data['days_employed'] = data['days_employed'].abs() # избавимся от знака минус в колонке "
   ]
  },
  {
   "cell_type": "markdown",
   "id": "69a9a59b",
   "metadata": {},
   "source": [
    "Данные колонки days_employed взаимодействуют с колонкой dob_years. Общий трудовой стаж должен корректно соотноситься с возрастом человека. Официальный возраст, с которого можно работать согласно заканодательству равен 16 лет. Соответственно трудовой стаж который будет превышать разницу между текущем возрастом и шестнадцатью лет, будет являться аномальным и не подходит нам для анализа. Избавимся от этих значений, заменив их на '0'."
   ]
  },
  {
   "cell_type": "code",
   "execution_count": 9,
   "id": "b657391f",
   "metadata": {},
   "outputs": [
    {
     "data": {
      "text/html": [
       "<div>\n",
       "<style scoped>\n",
       "    .dataframe tbody tr th:only-of-type {\n",
       "        vertical-align: middle;\n",
       "    }\n",
       "\n",
       "    .dataframe tbody tr th {\n",
       "        vertical-align: top;\n",
       "    }\n",
       "\n",
       "    .dataframe thead th {\n",
       "        text-align: right;\n",
       "    }\n",
       "</style>\n",
       "<table border=\"1\" class=\"dataframe\">\n",
       "  <thead>\n",
       "    <tr style=\"text-align: right;\">\n",
       "      <th></th>\n",
       "      <th>children</th>\n",
       "      <th>days_employed</th>\n",
       "      <th>dob_years</th>\n",
       "      <th>education</th>\n",
       "      <th>education_id</th>\n",
       "      <th>family_status</th>\n",
       "      <th>family_status_id</th>\n",
       "      <th>gender</th>\n",
       "      <th>income_type</th>\n",
       "      <th>debt</th>\n",
       "      <th>total_income</th>\n",
       "      <th>purpose</th>\n",
       "    </tr>\n",
       "  </thead>\n",
       "  <tbody>\n",
       "    <tr>\n",
       "      <th>0</th>\n",
       "      <td>1</td>\n",
       "      <td>8437.673028</td>\n",
       "      <td>42</td>\n",
       "      <td>высшее</td>\n",
       "      <td>0</td>\n",
       "      <td>женат / замужем</td>\n",
       "      <td>0</td>\n",
       "      <td>F</td>\n",
       "      <td>сотрудник</td>\n",
       "      <td>0</td>\n",
       "      <td>253875.639453</td>\n",
       "      <td>покупка жилья</td>\n",
       "    </tr>\n",
       "    <tr>\n",
       "      <th>1</th>\n",
       "      <td>1</td>\n",
       "      <td>4024.803754</td>\n",
       "      <td>36</td>\n",
       "      <td>среднее</td>\n",
       "      <td>1</td>\n",
       "      <td>женат / замужем</td>\n",
       "      <td>0</td>\n",
       "      <td>F</td>\n",
       "      <td>сотрудник</td>\n",
       "      <td>0</td>\n",
       "      <td>112080.014102</td>\n",
       "      <td>приобретение автомобиля</td>\n",
       "    </tr>\n",
       "    <tr>\n",
       "      <th>2</th>\n",
       "      <td>0</td>\n",
       "      <td>5623.42261</td>\n",
       "      <td>33</td>\n",
       "      <td>Среднее</td>\n",
       "      <td>1</td>\n",
       "      <td>женат / замужем</td>\n",
       "      <td>0</td>\n",
       "      <td>M</td>\n",
       "      <td>сотрудник</td>\n",
       "      <td>0</td>\n",
       "      <td>145885.952297</td>\n",
       "      <td>покупка жилья</td>\n",
       "    </tr>\n",
       "    <tr>\n",
       "      <th>3</th>\n",
       "      <td>3</td>\n",
       "      <td>4124.747207</td>\n",
       "      <td>32</td>\n",
       "      <td>среднее</td>\n",
       "      <td>1</td>\n",
       "      <td>женат / замужем</td>\n",
       "      <td>0</td>\n",
       "      <td>M</td>\n",
       "      <td>сотрудник</td>\n",
       "      <td>0</td>\n",
       "      <td>267628.550329</td>\n",
       "      <td>дополнительное образование</td>\n",
       "    </tr>\n",
       "    <tr>\n",
       "      <th>4</th>\n",
       "      <td>0</td>\n",
       "      <td>0</td>\n",
       "      <td>53</td>\n",
       "      <td>среднее</td>\n",
       "      <td>1</td>\n",
       "      <td>гражданский брак</td>\n",
       "      <td>1</td>\n",
       "      <td>F</td>\n",
       "      <td>пенсионер</td>\n",
       "      <td>0</td>\n",
       "      <td>158616.077870</td>\n",
       "      <td>сыграть свадьбу</td>\n",
       "    </tr>\n",
       "    <tr>\n",
       "      <th>5</th>\n",
       "      <td>0</td>\n",
       "      <td>926.185831</td>\n",
       "      <td>27</td>\n",
       "      <td>высшее</td>\n",
       "      <td>0</td>\n",
       "      <td>гражданский брак</td>\n",
       "      <td>1</td>\n",
       "      <td>M</td>\n",
       "      <td>компаньон</td>\n",
       "      <td>0</td>\n",
       "      <td>255763.565419</td>\n",
       "      <td>покупка жилья</td>\n",
       "    </tr>\n",
       "    <tr>\n",
       "      <th>6</th>\n",
       "      <td>0</td>\n",
       "      <td>2879.202052</td>\n",
       "      <td>43</td>\n",
       "      <td>высшее</td>\n",
       "      <td>0</td>\n",
       "      <td>женат / замужем</td>\n",
       "      <td>0</td>\n",
       "      <td>F</td>\n",
       "      <td>компаньон</td>\n",
       "      <td>0</td>\n",
       "      <td>240525.971920</td>\n",
       "      <td>операции с жильем</td>\n",
       "    </tr>\n",
       "    <tr>\n",
       "      <th>7</th>\n",
       "      <td>0</td>\n",
       "      <td>152.779569</td>\n",
       "      <td>50</td>\n",
       "      <td>СРЕДНЕЕ</td>\n",
       "      <td>1</td>\n",
       "      <td>женат / замужем</td>\n",
       "      <td>0</td>\n",
       "      <td>M</td>\n",
       "      <td>сотрудник</td>\n",
       "      <td>0</td>\n",
       "      <td>135823.934197</td>\n",
       "      <td>образование</td>\n",
       "    </tr>\n",
       "    <tr>\n",
       "      <th>8</th>\n",
       "      <td>2</td>\n",
       "      <td>6929.865299</td>\n",
       "      <td>35</td>\n",
       "      <td>ВЫСШЕЕ</td>\n",
       "      <td>0</td>\n",
       "      <td>гражданский брак</td>\n",
       "      <td>1</td>\n",
       "      <td>F</td>\n",
       "      <td>сотрудник</td>\n",
       "      <td>0</td>\n",
       "      <td>95856.832424</td>\n",
       "      <td>на проведение свадьбы</td>\n",
       "    </tr>\n",
       "    <tr>\n",
       "      <th>9</th>\n",
       "      <td>0</td>\n",
       "      <td>2188.756445</td>\n",
       "      <td>41</td>\n",
       "      <td>среднее</td>\n",
       "      <td>1</td>\n",
       "      <td>женат / замужем</td>\n",
       "      <td>0</td>\n",
       "      <td>M</td>\n",
       "      <td>сотрудник</td>\n",
       "      <td>0</td>\n",
       "      <td>144425.938277</td>\n",
       "      <td>покупка жилья для семьи</td>\n",
       "    </tr>\n",
       "  </tbody>\n",
       "</table>\n",
       "</div>"
      ],
      "text/plain": [
       "   children days_employed  dob_years education  education_id  \\\n",
       "0         1   8437.673028         42    высшее             0   \n",
       "1         1   4024.803754         36   среднее             1   \n",
       "2         0    5623.42261         33   Среднее             1   \n",
       "3         3   4124.747207         32   среднее             1   \n",
       "4         0             0         53   среднее             1   \n",
       "5         0    926.185831         27    высшее             0   \n",
       "6         0   2879.202052         43    высшее             0   \n",
       "7         0    152.779569         50   СРЕДНЕЕ             1   \n",
       "8         2   6929.865299         35    ВЫСШЕЕ             0   \n",
       "9         0   2188.756445         41   среднее             1   \n",
       "\n",
       "      family_status  family_status_id gender income_type  debt   total_income  \\\n",
       "0   женат / замужем                 0      F   сотрудник     0  253875.639453   \n",
       "1   женат / замужем                 0      F   сотрудник     0  112080.014102   \n",
       "2   женат / замужем                 0      M   сотрудник     0  145885.952297   \n",
       "3   женат / замужем                 0      M   сотрудник     0  267628.550329   \n",
       "4  гражданский брак                 1      F   пенсионер     0  158616.077870   \n",
       "5  гражданский брак                 1      M   компаньон     0  255763.565419   \n",
       "6   женат / замужем                 0      F   компаньон     0  240525.971920   \n",
       "7   женат / замужем                 0      M   сотрудник     0  135823.934197   \n",
       "8  гражданский брак                 1      F   сотрудник     0   95856.832424   \n",
       "9   женат / замужем                 0      M   сотрудник     0  144425.938277   \n",
       "\n",
       "                      purpose  \n",
       "0               покупка жилья  \n",
       "1     приобретение автомобиля  \n",
       "2               покупка жилья  \n",
       "3  дополнительное образование  \n",
       "4             сыграть свадьбу  \n",
       "5               покупка жилья  \n",
       "6           операции с жильем  \n",
       "7                 образование  \n",
       "8       на проведение свадьбы  \n",
       "9     покупка жилья для семьи  "
      ]
     },
     "execution_count": 9,
     "metadata": {},
     "output_type": "execute_result"
    }
   ],
   "source": [
    "rows = data['days_employed'] > (data['dob_years'] * 365 - 16 * 365) # вычислим максимально возможное количество дней стажа\n",
    "                                                                    # сравним с имеющимся количество. Все, что больше-аномалия\n",
    "\n",
    "data.loc[rows, 'days_employed'] = '0' # сначала заменяем на '0', чтобы отсечь аномалии при поиске медианного значения\n",
    "\n",
    "data.head(10)   # проверим результат замены "
   ]
  },
  {
   "cell_type": "markdown",
   "id": "74bfccb3",
   "metadata": {},
   "source": [
    "У оставшихся данных колонки days_employed определим медианное значение. Подставим его вместо пропусков, а также вместо аномальных значений."
   ]
  },
  {
   "cell_type": "code",
   "execution_count": 10,
   "id": "bd12e919",
   "metadata": {},
   "outputs": [
    {
     "name": "stdout",
     "output_type": "stream",
     "text": [
      "<class 'pandas.core.frame.DataFrame'>\n",
      "RangeIndex: 21525 entries, 0 to 21524\n",
      "Data columns (total 12 columns):\n",
      " #   Column            Non-Null Count  Dtype  \n",
      "---  ------            --------------  -----  \n",
      " 0   children          21525 non-null  int64  \n",
      " 1   days_employed     21525 non-null  float64\n",
      " 2   dob_years         21525 non-null  int64  \n",
      " 3   education         21525 non-null  object \n",
      " 4   education_id      21525 non-null  int64  \n",
      " 5   family_status     21525 non-null  object \n",
      " 6   family_status_id  21525 non-null  int64  \n",
      " 7   gender            21525 non-null  object \n",
      " 8   income_type       21525 non-null  object \n",
      " 9   debt              21525 non-null  int64  \n",
      " 10  total_income      21525 non-null  float64\n",
      " 11  purpose           21525 non-null  object \n",
      "dtypes: float64(2), int64(5), object(5)\n",
      "memory usage: 2.0+ MB\n"
     ]
    }
   ],
   "source": [
    "rows = data['days_employed'] == '0' # создаем список с необходимым значением для логической индексации\n",
    "\n",
    "\n",
    "days_employed_median = data['days_employed'].median() # вычисляем медианное значение колонки и сохраняем в переменную\n",
    "data.loc[rows, 'days_employed'] = days_employed_median # с помощью логической индексации заменяем все значения \"0\" на медиан.зн.\n",
    "data['days_employed'] = data['days_employed'].fillna(value = days_employed_median) # заменяем пропуски на медианное значение\n",
    "\n",
    "data.info() # проверяем остались ли пропуски                         "
   ]
  },
  {
   "cell_type": "markdown",
   "id": "551c9a5c",
   "metadata": {},
   "source": [
    "## Изменение типов данных"
   ]
  },
  {
   "cell_type": "markdown",
   "id": "da63c38d",
   "metadata": {},
   "source": [
    "Для удобства заменим значения колонки с данными об общем трудовом стаже в днях и ежемесячном доходе с вещественного значения на целочисленный"
   ]
  },
  {
   "cell_type": "code",
   "execution_count": 11,
   "id": "1acd9119",
   "metadata": {},
   "outputs": [],
   "source": [
    "data['total_income'] = data['total_income'].astype('int32')"
   ]
  },
  {
   "cell_type": "code",
   "execution_count": 12,
   "id": "cc921b9b",
   "metadata": {},
   "outputs": [],
   "source": [
    "data['days_employed'] = data['days_employed'].astype('int32')"
   ]
  },
  {
   "cell_type": "markdown",
   "id": "e6151ef6",
   "metadata": {},
   "source": [
    "Замена типа данных с int64 на int32 позволит съэкономить память"
   ]
  },
  {
   "cell_type": "code",
   "execution_count": 13,
   "id": "a8a108a1",
   "metadata": {},
   "outputs": [],
   "source": [
    "data['children'] = data['children'].astype('int32')"
   ]
  },
  {
   "cell_type": "code",
   "execution_count": 14,
   "id": "16c6210b",
   "metadata": {},
   "outputs": [],
   "source": [
    "data['dob_years'] = data['dob_years'].astype('int32')"
   ]
  },
  {
   "cell_type": "code",
   "execution_count": 15,
   "id": "6109999c",
   "metadata": {},
   "outputs": [],
   "source": [
    "data['education_id'] = data['education_id'].astype('int32')"
   ]
  },
  {
   "cell_type": "code",
   "execution_count": 16,
   "id": "909d6f5e",
   "metadata": {},
   "outputs": [],
   "source": [
    "data['family_status_id'] = data['family_status_id'].astype('int32')"
   ]
  },
  {
   "cell_type": "code",
   "execution_count": 17,
   "id": "6e951566",
   "metadata": {},
   "outputs": [],
   "source": [
    "data['debt'] = data['debt'].astype('int32')"
   ]
  },
  {
   "cell_type": "code",
   "execution_count": 18,
   "id": "b2fe0cb3",
   "metadata": {},
   "outputs": [
    {
     "name": "stdout",
     "output_type": "stream",
     "text": [
      "<class 'pandas.core.frame.DataFrame'>\n",
      "RangeIndex: 21525 entries, 0 to 21524\n",
      "Data columns (total 12 columns):\n",
      " #   Column            Non-Null Count  Dtype \n",
      "---  ------            --------------  ----- \n",
      " 0   children          21525 non-null  int32 \n",
      " 1   days_employed     21525 non-null  int32 \n",
      " 2   dob_years         21525 non-null  int32 \n",
      " 3   education         21525 non-null  object\n",
      " 4   education_id      21525 non-null  int32 \n",
      " 5   family_status     21525 non-null  object\n",
      " 6   family_status_id  21525 non-null  int32 \n",
      " 7   gender            21525 non-null  object\n",
      " 8   income_type       21525 non-null  object\n",
      " 9   debt              21525 non-null  int32 \n",
      " 10  total_income      21525 non-null  int32 \n",
      " 11  purpose           21525 non-null  object\n",
      "dtypes: int32(7), object(5)\n",
      "memory usage: 1.4+ MB\n"
     ]
    }
   ],
   "source": [
    "data.info()"
   ]
  },
  {
   "cell_type": "markdown",
   "id": "4a5811bb",
   "metadata": {},
   "source": [
    "Использование память уменьшилось с 2.0+ MB до 1.4+ MD. "
   ]
  },
  {
   "cell_type": "markdown",
   "id": "5c771a42",
   "metadata": {},
   "source": [
    "## Удаление дубликатов"
   ]
  },
  {
   "cell_type": "markdown",
   "id": "da6f260d",
   "metadata": {},
   "source": [
    "В колонке одно и то же значение может быть записано по разному (разный регистр, язык, опечатки) — это неявные дубликаты. Используем метод unique(). Он возвращает перечень уникальных значений в столбце"
   ]
  },
  {
   "cell_type": "code",
   "execution_count": 19,
   "id": "e57709da",
   "metadata": {},
   "outputs": [
    {
     "data": {
      "text/plain": [
       "array(['высшее', 'среднее', 'Среднее', 'СРЕДНЕЕ', 'ВЫСШЕЕ',\n",
       "       'неоконченное высшее', 'начальное', 'Высшее',\n",
       "       'НЕОКОНЧЕННОЕ ВЫСШЕЕ', 'Неоконченное высшее', 'НАЧАЛЬНОЕ',\n",
       "       'Начальное', 'Ученая степень', 'УЧЕНАЯ СТЕПЕНЬ', 'ученая степень'],\n",
       "      dtype=object)"
      ]
     },
     "execution_count": 19,
     "metadata": {},
     "output_type": "execute_result"
    }
   ],
   "source": [
    "data['education'].unique() "
   ]
  },
  {
   "cell_type": "markdown",
   "id": "2f9b400a",
   "metadata": {},
   "source": [
    "Среди уникальных значений ищут неявные дубликаты. Например ВЫСШЕЕ, Высшее и высшее. Неправильные и альтернативные написания значений исправляют методом replace(). "
   ]
  },
  {
   "cell_type": "code",
   "execution_count": 20,
   "id": "67c5e717",
   "metadata": {},
   "outputs": [],
   "source": [
    "data['education'] = data['education'].str.lower()"
   ]
  },
  {
   "cell_type": "code",
   "execution_count": 21,
   "id": "65e0d056",
   "metadata": {},
   "outputs": [
    {
     "data": {
      "text/plain": [
       "array(['высшее', 'среднее', 'неоконченное высшее', 'начальное',\n",
       "       'ученая степень'], dtype=object)"
      ]
     },
     "execution_count": 21,
     "metadata": {},
     "output_type": "execute_result"
    }
   ],
   "source": [
    "data['education'].unique()"
   ]
  },
  {
   "cell_type": "code",
   "execution_count": 22,
   "id": "151bd463",
   "metadata": {},
   "outputs": [
    {
     "data": {
      "text/plain": [
       "array(['высшее', 'среднее', 'неоконченное высшее', 'начальное',\n",
       "       'ученая степень'], dtype=object)"
      ]
     },
     "execution_count": 22,
     "metadata": {},
     "output_type": "execute_result"
    }
   ],
   "source": [
    "data['education'].unique() "
   ]
  },
  {
   "cell_type": "markdown",
   "id": "0b78c04b",
   "metadata": {},
   "source": [
    "Проверим оставшиеся колонки на наличие неявных дубликатов."
   ]
  },
  {
   "cell_type": "markdown",
   "id": "727fb744",
   "metadata": {},
   "source": [
    "*******\n"
   ]
  },
  {
   "cell_type": "code",
   "execution_count": 23,
   "id": "68f7e55a",
   "metadata": {},
   "outputs": [
    {
     "data": {
      "text/plain": [
       "array([42, 36, 33, 32, 53, 27, 43, 50, 35, 41, 40, 65, 54, 56, 26, 48, 24,\n",
       "       21, 57, 67, 28, 63, 62, 47, 34, 68, 25, 31, 30, 20, 49, 37, 45, 61,\n",
       "       64, 44, 52, 46, 23, 38, 39, 51,  0, 59, 29, 60, 55, 58, 71, 22, 73,\n",
       "       66, 69, 19, 72, 70, 74, 75], dtype=int32)"
      ]
     },
     "execution_count": 23,
     "metadata": {},
     "output_type": "execute_result"
    }
   ],
   "source": [
    "data['dob_years'].unique() "
   ]
  },
  {
   "cell_type": "markdown",
   "id": "5afdcfa9",
   "metadata": {},
   "source": [
    "Среди уникальных значений имеется 0. Так, как возраст клиента, взявшего кредит не может быть равен 0, очевидно, что данное значение не подходит для анализа. Выявим у скольких человек в графе возраст указано 0."
   ]
  },
  {
   "cell_type": "code",
   "execution_count": 24,
   "id": "2c3ad5a0",
   "metadata": {},
   "outputs": [],
   "source": [
    "incorrect_1 = len(data.loc[data['dob_years'] == 0]) # посчитаем количество строк со значением 0 в колонке и сохраним в перемен."
   ]
  },
  {
   "cell_type": "code",
   "execution_count": 25,
   "id": "d744cee0",
   "metadata": {},
   "outputs": [],
   "source": [
    "data_total = len(data) # посчитаем общее количество строк в датафрейме"
   ]
  },
  {
   "cell_type": "markdown",
   "id": "8d49748e",
   "metadata": {},
   "source": [
    "Определим на сколько данное количество существенно для анализа."
   ]
  },
  {
   "cell_type": "code",
   "execution_count": 26,
   "id": "2982d410",
   "metadata": {},
   "outputs": [
    {
     "name": "stdout",
     "output_type": "stream",
     "text": [
      "0.5%\n"
     ]
    }
   ],
   "source": [
    "incorrect_total_1 = incorrect_1/data_total\n",
    "print(f'{incorrect_total_1:.1%}')"
   ]
  },
  {
   "cell_type": "markdown",
   "id": "a2c4643b",
   "metadata": {},
   "source": [
    "Количество строк меньше одного процента, значит мы можешь удалить данный строки, не боясь, что их отсутствие определяющим образом скажется на результате."
   ]
  },
  {
   "cell_type": "code",
   "execution_count": 27,
   "id": "e14731e8",
   "metadata": {},
   "outputs": [],
   "source": [
    "data = data.loc[data['dob_years'] != 0] # удаляем все строки со значением 0 в колонке, перезаписав датафрейм"
   ]
  },
  {
   "cell_type": "markdown",
   "id": "e24ba263",
   "metadata": {},
   "source": [
    "Убедимся, что значение 0 удалено."
   ]
  },
  {
   "cell_type": "code",
   "execution_count": 28,
   "id": "744e5a7d",
   "metadata": {},
   "outputs": [
    {
     "data": {
      "text/plain": [
       "array([42, 36, 33, 32, 53, 27, 43, 50, 35, 41, 40, 65, 54, 56, 26, 48, 24,\n",
       "       21, 57, 67, 28, 63, 62, 47, 34, 68, 25, 31, 30, 20, 49, 37, 45, 61,\n",
       "       64, 44, 52, 46, 23, 38, 39, 51, 59, 29, 60, 55, 58, 71, 22, 73, 66,\n",
       "       69, 19, 72, 70, 74, 75], dtype=int32)"
      ]
     },
     "execution_count": 28,
     "metadata": {},
     "output_type": "execute_result"
    }
   ],
   "source": [
    "data['dob_years'].unique() "
   ]
  },
  {
   "cell_type": "markdown",
   "id": "306c4e6c",
   "metadata": {},
   "source": [
    "*****"
   ]
  },
  {
   "cell_type": "markdown",
   "id": "125c5632",
   "metadata": {},
   "source": [
    "Выведем уникальные значения колонки 'children'"
   ]
  },
  {
   "cell_type": "code",
   "execution_count": 29,
   "id": "8774340f",
   "metadata": {},
   "outputs": [
    {
     "data": {
      "text/plain": [
       "array([ 1,  0,  3,  2, -1,  4, 20,  5], dtype=int32)"
      ]
     },
     "execution_count": 29,
     "metadata": {},
     "output_type": "execute_result"
    }
   ],
   "source": [
    "data['children'].unique() "
   ]
  },
  {
   "cell_type": "markdown",
   "id": "8226ed97",
   "metadata": {},
   "source": [
    "Значения -1 и 20 являются аномальнымии не подходят для анализа "
   ]
  },
  {
   "cell_type": "code",
   "execution_count": 30,
   "id": "b3bb7a71",
   "metadata": {},
   "outputs": [],
   "source": [
    "incorrect_2 = len(data.loc[data['children'] == -1]) + len(data.loc[data['children'] == 20])"
   ]
  },
  {
   "cell_type": "code",
   "execution_count": 31,
   "id": "6ab9e95b",
   "metadata": {},
   "outputs": [
    {
     "name": "stdout",
     "output_type": "stream",
     "text": [
      "0.6%\n"
     ]
    }
   ],
   "source": [
    "incorrect_total_2 = incorrect_2/data_total\n",
    "print(f'{incorrect_total_2:.1%}')"
   ]
  },
  {
   "cell_type": "markdown",
   "id": "1ef2841e",
   "metadata": {},
   "source": [
    "Данное количество строк не критично для анализа, поэтому удалим их из таблицы."
   ]
  },
  {
   "cell_type": "code",
   "execution_count": 32,
   "id": "f55e43a9",
   "metadata": {},
   "outputs": [],
   "source": [
    "data = data.loc[(data['children'] != -1) & (data['children'] != 20)] # используем логическую индексацию, чтобы перезаписать \n",
    "#датафрейм, исключив строки с неподходящими значениями "
   ]
  },
  {
   "cell_type": "markdown",
   "id": "8be9f2c2",
   "metadata": {},
   "source": [
    "Проверим, что мы избавились от этих значений"
   ]
  },
  {
   "cell_type": "code",
   "execution_count": 33,
   "id": "ae8de78a",
   "metadata": {},
   "outputs": [
    {
     "data": {
      "text/html": [
       "<div>\n",
       "<style scoped>\n",
       "    .dataframe tbody tr th:only-of-type {\n",
       "        vertical-align: middle;\n",
       "    }\n",
       "\n",
       "    .dataframe tbody tr th {\n",
       "        vertical-align: top;\n",
       "    }\n",
       "\n",
       "    .dataframe thead th {\n",
       "        text-align: right;\n",
       "    }\n",
       "</style>\n",
       "<table border=\"1\" class=\"dataframe\">\n",
       "  <thead>\n",
       "    <tr style=\"text-align: right;\">\n",
       "      <th></th>\n",
       "      <th>days_employed</th>\n",
       "      <th>dob_years</th>\n",
       "      <th>education</th>\n",
       "      <th>education_id</th>\n",
       "      <th>family_status</th>\n",
       "      <th>family_status_id</th>\n",
       "      <th>gender</th>\n",
       "      <th>income_type</th>\n",
       "      <th>debt</th>\n",
       "      <th>total_income</th>\n",
       "      <th>purpose</th>\n",
       "    </tr>\n",
       "    <tr>\n",
       "      <th>children</th>\n",
       "      <th></th>\n",
       "      <th></th>\n",
       "      <th></th>\n",
       "      <th></th>\n",
       "      <th></th>\n",
       "      <th></th>\n",
       "      <th></th>\n",
       "      <th></th>\n",
       "      <th></th>\n",
       "      <th></th>\n",
       "      <th></th>\n",
       "    </tr>\n",
       "  </thead>\n",
       "  <tbody>\n",
       "    <tr>\n",
       "      <th>0</th>\n",
       "      <td>14080</td>\n",
       "      <td>14080</td>\n",
       "      <td>14080</td>\n",
       "      <td>14080</td>\n",
       "      <td>14080</td>\n",
       "      <td>14080</td>\n",
       "      <td>14080</td>\n",
       "      <td>14080</td>\n",
       "      <td>14080</td>\n",
       "      <td>14080</td>\n",
       "      <td>14080</td>\n",
       "    </tr>\n",
       "    <tr>\n",
       "      <th>1</th>\n",
       "      <td>4802</td>\n",
       "      <td>4802</td>\n",
       "      <td>4802</td>\n",
       "      <td>4802</td>\n",
       "      <td>4802</td>\n",
       "      <td>4802</td>\n",
       "      <td>4802</td>\n",
       "      <td>4802</td>\n",
       "      <td>4802</td>\n",
       "      <td>4802</td>\n",
       "      <td>4802</td>\n",
       "    </tr>\n",
       "    <tr>\n",
       "      <th>2</th>\n",
       "      <td>2042</td>\n",
       "      <td>2042</td>\n",
       "      <td>2042</td>\n",
       "      <td>2042</td>\n",
       "      <td>2042</td>\n",
       "      <td>2042</td>\n",
       "      <td>2042</td>\n",
       "      <td>2042</td>\n",
       "      <td>2042</td>\n",
       "      <td>2042</td>\n",
       "      <td>2042</td>\n",
       "    </tr>\n",
       "    <tr>\n",
       "      <th>3</th>\n",
       "      <td>328</td>\n",
       "      <td>328</td>\n",
       "      <td>328</td>\n",
       "      <td>328</td>\n",
       "      <td>328</td>\n",
       "      <td>328</td>\n",
       "      <td>328</td>\n",
       "      <td>328</td>\n",
       "      <td>328</td>\n",
       "      <td>328</td>\n",
       "      <td>328</td>\n",
       "    </tr>\n",
       "    <tr>\n",
       "      <th>4</th>\n",
       "      <td>41</td>\n",
       "      <td>41</td>\n",
       "      <td>41</td>\n",
       "      <td>41</td>\n",
       "      <td>41</td>\n",
       "      <td>41</td>\n",
       "      <td>41</td>\n",
       "      <td>41</td>\n",
       "      <td>41</td>\n",
       "      <td>41</td>\n",
       "      <td>41</td>\n",
       "    </tr>\n",
       "    <tr>\n",
       "      <th>5</th>\n",
       "      <td>9</td>\n",
       "      <td>9</td>\n",
       "      <td>9</td>\n",
       "      <td>9</td>\n",
       "      <td>9</td>\n",
       "      <td>9</td>\n",
       "      <td>9</td>\n",
       "      <td>9</td>\n",
       "      <td>9</td>\n",
       "      <td>9</td>\n",
       "      <td>9</td>\n",
       "    </tr>\n",
       "  </tbody>\n",
       "</table>\n",
       "</div>"
      ],
      "text/plain": [
       "          days_employed  dob_years  education  education_id  family_status  \\\n",
       "children                                                                     \n",
       "0                 14080      14080      14080         14080          14080   \n",
       "1                  4802       4802       4802          4802           4802   \n",
       "2                  2042       2042       2042          2042           2042   \n",
       "3                   328        328        328           328            328   \n",
       "4                    41         41         41            41             41   \n",
       "5                     9          9          9             9              9   \n",
       "\n",
       "          family_status_id  gender  income_type   debt  total_income  purpose  \n",
       "children                                                                       \n",
       "0                    14080   14080        14080  14080         14080    14080  \n",
       "1                     4802    4802         4802   4802          4802     4802  \n",
       "2                     2042    2042         2042   2042          2042     2042  \n",
       "3                      328     328          328    328           328      328  \n",
       "4                       41      41           41     41            41       41  \n",
       "5                        9       9            9      9             9        9  "
      ]
     },
     "execution_count": 33,
     "metadata": {},
     "output_type": "execute_result"
    }
   ],
   "source": [
    "data.groupby('children').count() "
   ]
  },
  {
   "cell_type": "markdown",
   "id": "61dbfd1e",
   "metadata": {},
   "source": [
    "******\n"
   ]
  },
  {
   "cell_type": "markdown",
   "id": "da77d563",
   "metadata": {},
   "source": [
    "Выведем на экран уникальные значения столбца 'family_status'"
   ]
  },
  {
   "cell_type": "code",
   "execution_count": 34,
   "id": "f99596f6",
   "metadata": {},
   "outputs": [
    {
     "data": {
      "text/plain": [
       "array(['женат / замужем', 'гражданский брак', 'вдовец / вдова',\n",
       "       'в разводе', 'Не женат / не замужем'], dtype=object)"
      ]
     },
     "execution_count": 34,
     "metadata": {},
     "output_type": "execute_result"
    }
   ],
   "source": [
    "data['family_status'].unique()"
   ]
  },
  {
   "cell_type": "markdown",
   "id": "763cc63a",
   "metadata": {},
   "source": [
    "Здесь все показатели представлены корректно"
   ]
  },
  {
   "cell_type": "markdown",
   "id": "7eeac7fc",
   "metadata": {},
   "source": [
    "***"
   ]
  },
  {
   "cell_type": "markdown",
   "id": "727e7b38",
   "metadata": {},
   "source": [
    "Аналогичная ситуация со столбцом 'education_id'. Показатели не вызываю вопросов."
   ]
  },
  {
   "cell_type": "code",
   "execution_count": 35,
   "id": "1607da0d",
   "metadata": {},
   "outputs": [
    {
     "data": {
      "text/plain": [
       "array([0, 1, 2, 3, 4], dtype=int32)"
      ]
     },
     "execution_count": 35,
     "metadata": {},
     "output_type": "execute_result"
    }
   ],
   "source": [
    "data['education_id'].unique() "
   ]
  },
  {
   "cell_type": "markdown",
   "id": "8468d4b7",
   "metadata": {},
   "source": [
    "******\n"
   ]
  },
  {
   "cell_type": "markdown",
   "id": "0ef50365",
   "metadata": {},
   "source": [
    "Посмотрим уникальные знаения в следующей колонке"
   ]
  },
  {
   "cell_type": "code",
   "execution_count": 36,
   "id": "37742cd0",
   "metadata": {},
   "outputs": [
    {
     "data": {
      "text/plain": [
       "array(['F', 'M', 'XNA'], dtype=object)"
      ]
     },
     "execution_count": 36,
     "metadata": {},
     "output_type": "execute_result"
    }
   ],
   "source": [
    "data['gender'].unique() "
   ]
  },
  {
   "cell_type": "markdown",
   "id": "d5333a32",
   "metadata": {},
   "source": [
    "Показатель 'XNA' некорректный и не подходит для анализа. Выясним количество строк с данным значением, чтобы понять, насколько их удаление повлияет на результат анализа."
   ]
  },
  {
   "cell_type": "code",
   "execution_count": 37,
   "id": "10d23019",
   "metadata": {},
   "outputs": [
    {
     "data": {
      "text/html": [
       "<div>\n",
       "<style scoped>\n",
       "    .dataframe tbody tr th:only-of-type {\n",
       "        vertical-align: middle;\n",
       "    }\n",
       "\n",
       "    .dataframe tbody tr th {\n",
       "        vertical-align: top;\n",
       "    }\n",
       "\n",
       "    .dataframe thead th {\n",
       "        text-align: right;\n",
       "    }\n",
       "</style>\n",
       "<table border=\"1\" class=\"dataframe\">\n",
       "  <thead>\n",
       "    <tr style=\"text-align: right;\">\n",
       "      <th></th>\n",
       "      <th>children</th>\n",
       "      <th>days_employed</th>\n",
       "      <th>dob_years</th>\n",
       "      <th>education</th>\n",
       "      <th>education_id</th>\n",
       "      <th>family_status</th>\n",
       "      <th>family_status_id</th>\n",
       "      <th>income_type</th>\n",
       "      <th>debt</th>\n",
       "      <th>total_income</th>\n",
       "      <th>purpose</th>\n",
       "    </tr>\n",
       "    <tr>\n",
       "      <th>gender</th>\n",
       "      <th></th>\n",
       "      <th></th>\n",
       "      <th></th>\n",
       "      <th></th>\n",
       "      <th></th>\n",
       "      <th></th>\n",
       "      <th></th>\n",
       "      <th></th>\n",
       "      <th></th>\n",
       "      <th></th>\n",
       "      <th></th>\n",
       "    </tr>\n",
       "  </thead>\n",
       "  <tbody>\n",
       "    <tr>\n",
       "      <th>F</th>\n",
       "      <td>14083</td>\n",
       "      <td>14083</td>\n",
       "      <td>14083</td>\n",
       "      <td>14083</td>\n",
       "      <td>14083</td>\n",
       "      <td>14083</td>\n",
       "      <td>14083</td>\n",
       "      <td>14083</td>\n",
       "      <td>14083</td>\n",
       "      <td>14083</td>\n",
       "      <td>14083</td>\n",
       "    </tr>\n",
       "    <tr>\n",
       "      <th>M</th>\n",
       "      <td>7218</td>\n",
       "      <td>7218</td>\n",
       "      <td>7218</td>\n",
       "      <td>7218</td>\n",
       "      <td>7218</td>\n",
       "      <td>7218</td>\n",
       "      <td>7218</td>\n",
       "      <td>7218</td>\n",
       "      <td>7218</td>\n",
       "      <td>7218</td>\n",
       "      <td>7218</td>\n",
       "    </tr>\n",
       "    <tr>\n",
       "      <th>XNA</th>\n",
       "      <td>1</td>\n",
       "      <td>1</td>\n",
       "      <td>1</td>\n",
       "      <td>1</td>\n",
       "      <td>1</td>\n",
       "      <td>1</td>\n",
       "      <td>1</td>\n",
       "      <td>1</td>\n",
       "      <td>1</td>\n",
       "      <td>1</td>\n",
       "      <td>1</td>\n",
       "    </tr>\n",
       "  </tbody>\n",
       "</table>\n",
       "</div>"
      ],
      "text/plain": [
       "        children  days_employed  dob_years  education  education_id  \\\n",
       "gender                                                                \n",
       "F          14083          14083      14083      14083         14083   \n",
       "M           7218           7218       7218       7218          7218   \n",
       "XNA            1              1          1          1             1   \n",
       "\n",
       "        family_status  family_status_id  income_type   debt  total_income  \\\n",
       "gender                                                                      \n",
       "F               14083             14083        14083  14083         14083   \n",
       "M                7218              7218         7218   7218          7218   \n",
       "XNA                 1                 1            1      1             1   \n",
       "\n",
       "        purpose  \n",
       "gender           \n",
       "F         14083  \n",
       "M          7218  \n",
       "XNA           1  "
      ]
     },
     "execution_count": 37,
     "metadata": {},
     "output_type": "execute_result"
    }
   ],
   "source": [
    "data.groupby('gender').count()"
   ]
  },
  {
   "cell_type": "markdown",
   "id": "35b4630b",
   "metadata": {},
   "source": [
    "В таблице присутствует всего одна строка с данным показателем, поэтому мы можем ее удалить."
   ]
  },
  {
   "cell_type": "code",
   "execution_count": 38,
   "id": "9067f8c8",
   "metadata": {},
   "outputs": [],
   "source": [
    "data = data.loc[data['gender'] != 'XNA']"
   ]
  },
  {
   "cell_type": "markdown",
   "id": "ec5ea6d1",
   "metadata": {},
   "source": [
    "Проверим результат"
   ]
  },
  {
   "cell_type": "code",
   "execution_count": 39,
   "id": "ce648a45",
   "metadata": {},
   "outputs": [
    {
     "data": {
      "text/html": [
       "<div>\n",
       "<style scoped>\n",
       "    .dataframe tbody tr th:only-of-type {\n",
       "        vertical-align: middle;\n",
       "    }\n",
       "\n",
       "    .dataframe tbody tr th {\n",
       "        vertical-align: top;\n",
       "    }\n",
       "\n",
       "    .dataframe thead th {\n",
       "        text-align: right;\n",
       "    }\n",
       "</style>\n",
       "<table border=\"1\" class=\"dataframe\">\n",
       "  <thead>\n",
       "    <tr style=\"text-align: right;\">\n",
       "      <th></th>\n",
       "      <th>children</th>\n",
       "      <th>days_employed</th>\n",
       "      <th>dob_years</th>\n",
       "      <th>education</th>\n",
       "      <th>education_id</th>\n",
       "      <th>family_status</th>\n",
       "      <th>family_status_id</th>\n",
       "      <th>income_type</th>\n",
       "      <th>debt</th>\n",
       "      <th>total_income</th>\n",
       "      <th>purpose</th>\n",
       "    </tr>\n",
       "    <tr>\n",
       "      <th>gender</th>\n",
       "      <th></th>\n",
       "      <th></th>\n",
       "      <th></th>\n",
       "      <th></th>\n",
       "      <th></th>\n",
       "      <th></th>\n",
       "      <th></th>\n",
       "      <th></th>\n",
       "      <th></th>\n",
       "      <th></th>\n",
       "      <th></th>\n",
       "    </tr>\n",
       "  </thead>\n",
       "  <tbody>\n",
       "    <tr>\n",
       "      <th>F</th>\n",
       "      <td>14083</td>\n",
       "      <td>14083</td>\n",
       "      <td>14083</td>\n",
       "      <td>14083</td>\n",
       "      <td>14083</td>\n",
       "      <td>14083</td>\n",
       "      <td>14083</td>\n",
       "      <td>14083</td>\n",
       "      <td>14083</td>\n",
       "      <td>14083</td>\n",
       "      <td>14083</td>\n",
       "    </tr>\n",
       "    <tr>\n",
       "      <th>M</th>\n",
       "      <td>7218</td>\n",
       "      <td>7218</td>\n",
       "      <td>7218</td>\n",
       "      <td>7218</td>\n",
       "      <td>7218</td>\n",
       "      <td>7218</td>\n",
       "      <td>7218</td>\n",
       "      <td>7218</td>\n",
       "      <td>7218</td>\n",
       "      <td>7218</td>\n",
       "      <td>7218</td>\n",
       "    </tr>\n",
       "  </tbody>\n",
       "</table>\n",
       "</div>"
      ],
      "text/plain": [
       "        children  days_employed  dob_years  education  education_id  \\\n",
       "gender                                                                \n",
       "F          14083          14083      14083      14083         14083   \n",
       "M           7218           7218       7218       7218          7218   \n",
       "\n",
       "        family_status  family_status_id  income_type   debt  total_income  \\\n",
       "gender                                                                      \n",
       "F               14083             14083        14083  14083         14083   \n",
       "M                7218              7218         7218   7218          7218   \n",
       "\n",
       "        purpose  \n",
       "gender           \n",
       "F         14083  \n",
       "M          7218  "
      ]
     },
     "execution_count": 39,
     "metadata": {},
     "output_type": "execute_result"
    }
   ],
   "source": [
    "data.groupby('gender').count()"
   ]
  },
  {
   "cell_type": "markdown",
   "id": "8eb9ae46",
   "metadata": {},
   "source": [
    "*****\n"
   ]
  },
  {
   "cell_type": "markdown",
   "id": "df5182ee",
   "metadata": {},
   "source": [
    "Выведем на экран уникальные значения столбца 'income_type'. Здесь все значения представлены корректно"
   ]
  },
  {
   "cell_type": "code",
   "execution_count": 40,
   "id": "7724339f",
   "metadata": {},
   "outputs": [
    {
     "data": {
      "text/plain": [
       "array(['сотрудник', 'пенсионер', 'компаньон', 'госслужащий',\n",
       "       'безработный', 'предприниматель', 'студент', 'в декрете'],\n",
       "      dtype=object)"
      ]
     },
     "execution_count": 40,
     "metadata": {},
     "output_type": "execute_result"
    }
   ],
   "source": [
    "data['income_type'].unique() "
   ]
  },
  {
   "cell_type": "markdown",
   "id": "8edf33c0",
   "metadata": {},
   "source": [
    "*******\n"
   ]
  },
  {
   "cell_type": "markdown",
   "id": "45b420b0",
   "metadata": {},
   "source": [
    "Аналогичная ситуация со столбцом 'debt'. Показатели не вызываю вопросов."
   ]
  },
  {
   "cell_type": "code",
   "execution_count": 41,
   "id": "a85ad703",
   "metadata": {},
   "outputs": [
    {
     "data": {
      "text/plain": [
       "array([0, 1], dtype=int32)"
      ]
     },
     "execution_count": 41,
     "metadata": {},
     "output_type": "execute_result"
    }
   ],
   "source": [
    "data['debt'].unique() "
   ]
  },
  {
   "cell_type": "markdown",
   "id": "8246b996",
   "metadata": {},
   "source": [
    "***\n"
   ]
  },
  {
   "cell_type": "markdown",
   "id": "0adfd86a",
   "metadata": {},
   "source": [
    "Метод duplicated() ищет дубликаты. По умолчанию он признаёт дубликатами те строки, которые полностью повторяют уже встречавшиеся в датасете. Основные причины возникновения дубликатов — повторные представления, неправильное соединение данных из разных источников, ошибки пользователя при занесении информации. В первую очередь выясним количество явных дубликатови удалим их."
   ]
  },
  {
   "cell_type": "code",
   "execution_count": 42,
   "id": "feadade9",
   "metadata": {},
   "outputs": [
    {
     "data": {
      "text/plain": [
       "71"
      ]
     },
     "execution_count": 42,
     "metadata": {},
     "output_type": "execute_result"
    }
   ],
   "source": [
    "data.duplicated().sum() # вычисляем количество явных дубликатов"
   ]
  },
  {
   "cell_type": "code",
   "execution_count": 43,
   "id": "0c4dbce1",
   "metadata": {},
   "outputs": [
    {
     "data": {
      "text/plain": [
       "0"
      ]
     },
     "execution_count": 43,
     "metadata": {},
     "output_type": "execute_result"
    }
   ],
   "source": [
    "data = data.drop_duplicates().reset_index(drop=True) # удалим дубликаты и заново проиндексируем датафрейм\n",
    "\n",
    "data.duplicated().sum() # проверим остались ли какие-нибудь явные дубликаты"
   ]
  },
  {
   "cell_type": "markdown",
   "id": "dc49df67",
   "metadata": {},
   "source": [
    "## Формирование дополнительных датафреймов словарей, декомпозиция исходного датафрейма"
   ]
  },
  {
   "cell_type": "markdown",
   "id": "c673e080",
   "metadata": {},
   "source": [
    "Создадим новый DataFrame на основании data. Каждому уникальному значению из 'education' соответствует уникальное значение 'education_id'"
   ]
  },
  {
   "cell_type": "code",
   "execution_count": 44,
   "id": "51d01b02",
   "metadata": {},
   "outputs": [],
   "source": [
    "data_education = data[['education','education_id']]"
   ]
  },
  {
   "cell_type": "code",
   "execution_count": 45,
   "id": "d2eaa347",
   "metadata": {},
   "outputs": [
    {
     "data": {
      "text/html": [
       "<div>\n",
       "<style scoped>\n",
       "    .dataframe tbody tr th:only-of-type {\n",
       "        vertical-align: middle;\n",
       "    }\n",
       "\n",
       "    .dataframe tbody tr th {\n",
       "        vertical-align: top;\n",
       "    }\n",
       "\n",
       "    .dataframe thead th {\n",
       "        text-align: right;\n",
       "    }\n",
       "</style>\n",
       "<table border=\"1\" class=\"dataframe\">\n",
       "  <thead>\n",
       "    <tr style=\"text-align: right;\">\n",
       "      <th></th>\n",
       "      <th>education</th>\n",
       "      <th>education_id</th>\n",
       "    </tr>\n",
       "  </thead>\n",
       "  <tbody>\n",
       "    <tr>\n",
       "      <th>0</th>\n",
       "      <td>высшее</td>\n",
       "      <td>0</td>\n",
       "    </tr>\n",
       "    <tr>\n",
       "      <th>1</th>\n",
       "      <td>среднее</td>\n",
       "      <td>1</td>\n",
       "    </tr>\n",
       "    <tr>\n",
       "      <th>2</th>\n",
       "      <td>среднее</td>\n",
       "      <td>1</td>\n",
       "    </tr>\n",
       "    <tr>\n",
       "      <th>3</th>\n",
       "      <td>среднее</td>\n",
       "      <td>1</td>\n",
       "    </tr>\n",
       "    <tr>\n",
       "      <th>4</th>\n",
       "      <td>среднее</td>\n",
       "      <td>1</td>\n",
       "    </tr>\n",
       "    <tr>\n",
       "      <th>...</th>\n",
       "      <td>...</td>\n",
       "      <td>...</td>\n",
       "    </tr>\n",
       "    <tr>\n",
       "      <th>21225</th>\n",
       "      <td>среднее</td>\n",
       "      <td>1</td>\n",
       "    </tr>\n",
       "    <tr>\n",
       "      <th>21226</th>\n",
       "      <td>среднее</td>\n",
       "      <td>1</td>\n",
       "    </tr>\n",
       "    <tr>\n",
       "      <th>21227</th>\n",
       "      <td>среднее</td>\n",
       "      <td>1</td>\n",
       "    </tr>\n",
       "    <tr>\n",
       "      <th>21228</th>\n",
       "      <td>среднее</td>\n",
       "      <td>1</td>\n",
       "    </tr>\n",
       "    <tr>\n",
       "      <th>21229</th>\n",
       "      <td>среднее</td>\n",
       "      <td>1</td>\n",
       "    </tr>\n",
       "  </tbody>\n",
       "</table>\n",
       "<p>21230 rows × 2 columns</p>\n",
       "</div>"
      ],
      "text/plain": [
       "      education  education_id\n",
       "0        высшее             0\n",
       "1       среднее             1\n",
       "2       среднее             1\n",
       "3       среднее             1\n",
       "4       среднее             1\n",
       "...         ...           ...\n",
       "21225   среднее             1\n",
       "21226   среднее             1\n",
       "21227   среднее             1\n",
       "21228   среднее             1\n",
       "21229   среднее             1\n",
       "\n",
       "[21230 rows x 2 columns]"
      ]
     },
     "execution_count": 45,
     "metadata": {},
     "output_type": "execute_result"
    }
   ],
   "source": [
    "data_education # познакомимся с таблицей"
   ]
  },
  {
   "cell_type": "markdown",
   "id": "74ca8993",
   "metadata": {},
   "source": [
    "**********\n"
   ]
  },
  {
   "cell_type": "markdown",
   "id": "ec06262d",
   "metadata": {},
   "source": [
    "Создадим еще один новый DataFrame на основании data. Каждому уникальному значению из 'family_status' соответствует уникальное значение 'family_status_id'"
   ]
  },
  {
   "cell_type": "code",
   "execution_count": 46,
   "id": "4ee03910",
   "metadata": {},
   "outputs": [],
   "source": [
    "data_family_status = data[['family_status','family_status_id']]"
   ]
  },
  {
   "cell_type": "code",
   "execution_count": 47,
   "id": "5009a97c",
   "metadata": {},
   "outputs": [
    {
     "data": {
      "text/html": [
       "<div>\n",
       "<style scoped>\n",
       "    .dataframe tbody tr th:only-of-type {\n",
       "        vertical-align: middle;\n",
       "    }\n",
       "\n",
       "    .dataframe tbody tr th {\n",
       "        vertical-align: top;\n",
       "    }\n",
       "\n",
       "    .dataframe thead th {\n",
       "        text-align: right;\n",
       "    }\n",
       "</style>\n",
       "<table border=\"1\" class=\"dataframe\">\n",
       "  <thead>\n",
       "    <tr style=\"text-align: right;\">\n",
       "      <th></th>\n",
       "      <th>family_status</th>\n",
       "      <th>family_status_id</th>\n",
       "    </tr>\n",
       "  </thead>\n",
       "  <tbody>\n",
       "    <tr>\n",
       "      <th>0</th>\n",
       "      <td>женат / замужем</td>\n",
       "      <td>0</td>\n",
       "    </tr>\n",
       "    <tr>\n",
       "      <th>1</th>\n",
       "      <td>женат / замужем</td>\n",
       "      <td>0</td>\n",
       "    </tr>\n",
       "    <tr>\n",
       "      <th>2</th>\n",
       "      <td>женат / замужем</td>\n",
       "      <td>0</td>\n",
       "    </tr>\n",
       "    <tr>\n",
       "      <th>3</th>\n",
       "      <td>женат / замужем</td>\n",
       "      <td>0</td>\n",
       "    </tr>\n",
       "    <tr>\n",
       "      <th>4</th>\n",
       "      <td>гражданский брак</td>\n",
       "      <td>1</td>\n",
       "    </tr>\n",
       "    <tr>\n",
       "      <th>...</th>\n",
       "      <td>...</td>\n",
       "      <td>...</td>\n",
       "    </tr>\n",
       "    <tr>\n",
       "      <th>21225</th>\n",
       "      <td>гражданский брак</td>\n",
       "      <td>1</td>\n",
       "    </tr>\n",
       "    <tr>\n",
       "      <th>21226</th>\n",
       "      <td>женат / замужем</td>\n",
       "      <td>0</td>\n",
       "    </tr>\n",
       "    <tr>\n",
       "      <th>21227</th>\n",
       "      <td>гражданский брак</td>\n",
       "      <td>1</td>\n",
       "    </tr>\n",
       "    <tr>\n",
       "      <th>21228</th>\n",
       "      <td>женат / замужем</td>\n",
       "      <td>0</td>\n",
       "    </tr>\n",
       "    <tr>\n",
       "      <th>21229</th>\n",
       "      <td>женат / замужем</td>\n",
       "      <td>0</td>\n",
       "    </tr>\n",
       "  </tbody>\n",
       "</table>\n",
       "<p>21230 rows × 2 columns</p>\n",
       "</div>"
      ],
      "text/plain": [
       "          family_status  family_status_id\n",
       "0       женат / замужем                 0\n",
       "1       женат / замужем                 0\n",
       "2       женат / замужем                 0\n",
       "3       женат / замужем                 0\n",
       "4      гражданский брак                 1\n",
       "...                 ...               ...\n",
       "21225  гражданский брак                 1\n",
       "21226   женат / замужем                 0\n",
       "21227  гражданский брак                 1\n",
       "21228   женат / замужем                 0\n",
       "21229   женат / замужем                 0\n",
       "\n",
       "[21230 rows x 2 columns]"
      ]
     },
     "execution_count": 47,
     "metadata": {},
     "output_type": "execute_result"
    }
   ],
   "source": [
    "data_family_status"
   ]
  },
  {
   "cell_type": "markdown",
   "id": "4a6d5882",
   "metadata": {},
   "source": [
    "*******"
   ]
  },
  {
   "cell_type": "markdown",
   "id": "9f5a1ba1",
   "metadata": {},
   "source": [
    "Из датафрейма data удалим колонки 'education' и 'family_status'"
   ]
  },
  {
   "cell_type": "code",
   "execution_count": 48,
   "id": "a3d6c72c",
   "metadata": {},
   "outputs": [],
   "source": [
    "data = data.drop(columns = ['education', 'family_status'], axis = 1) # axis = 1 - удаляем столбцы"
   ]
  },
  {
   "cell_type": "markdown",
   "id": "e611b569",
   "metadata": {},
   "source": [
    "## Категоризация дохода"
   ]
  },
  {
   "cell_type": "markdown",
   "id": "b243ddcf",
   "metadata": {},
   "source": [
    "Создадим функцию, которая будет присваивать каждой строчке категорию доходности на основании заработка клиента"
   ]
  },
  {
   "cell_type": "code",
   "execution_count": 49,
   "id": "f6270340",
   "metadata": {},
   "outputs": [],
   "source": [
    "def income_category(total_income):\n",
    "    \"\"\"\n",
    "    Возвращает категорию дохода по значению дохода total_income, используя правила:\n",
    "    - 0–30000 — 'E';\n",
    "    - 30001–50000 — 'D';\n",
    "    - 50001–200000 — 'C';\n",
    "    - 200001–1000000 — 'B';\n",
    "    - 1000001 и выше — 'A'.\n",
    "    \"\"\"\n",
    "    \n",
    "    if total_income <= 30000:\n",
    "        return 'E'\n",
    "    if total_income <= 50000:\n",
    "        return 'D'\n",
    "    if total_income <= 200000:\n",
    "        return 'C'\n",
    "    if total_income <= 1000000:\n",
    "        return 'B'\n",
    "    return 'A' "
   ]
  },
  {
   "cell_type": "markdown",
   "id": "731320e2",
   "metadata": {},
   "source": [
    "Добавим соответствующую колонку в датафрейм data"
   ]
  },
  {
   "cell_type": "code",
   "execution_count": 50,
   "id": "69738754",
   "metadata": {},
   "outputs": [],
   "source": [
    "data['total_income_category'] = data['total_income'].apply(income_category) #применим функцию к столбцу total_income\n",
    "# результаты сохраним в новый столбец"
   ]
  },
  {
   "cell_type": "markdown",
   "id": "7694cf1e",
   "metadata": {},
   "source": [
    "Проверим результат выведя на экран первый пять строк таблицы."
   ]
  },
  {
   "cell_type": "code",
   "execution_count": 51,
   "id": "57bfcd72",
   "metadata": {},
   "outputs": [
    {
     "data": {
      "text/html": [
       "<div>\n",
       "<style scoped>\n",
       "    .dataframe tbody tr th:only-of-type {\n",
       "        vertical-align: middle;\n",
       "    }\n",
       "\n",
       "    .dataframe tbody tr th {\n",
       "        vertical-align: top;\n",
       "    }\n",
       "\n",
       "    .dataframe thead th {\n",
       "        text-align: right;\n",
       "    }\n",
       "</style>\n",
       "<table border=\"1\" class=\"dataframe\">\n",
       "  <thead>\n",
       "    <tr style=\"text-align: right;\">\n",
       "      <th></th>\n",
       "      <th>children</th>\n",
       "      <th>days_employed</th>\n",
       "      <th>dob_years</th>\n",
       "      <th>education_id</th>\n",
       "      <th>family_status_id</th>\n",
       "      <th>gender</th>\n",
       "      <th>income_type</th>\n",
       "      <th>debt</th>\n",
       "      <th>total_income</th>\n",
       "      <th>purpose</th>\n",
       "      <th>total_income_category</th>\n",
       "    </tr>\n",
       "  </thead>\n",
       "  <tbody>\n",
       "    <tr>\n",
       "      <th>0</th>\n",
       "      <td>1</td>\n",
       "      <td>8437</td>\n",
       "      <td>42</td>\n",
       "      <td>0</td>\n",
       "      <td>0</td>\n",
       "      <td>F</td>\n",
       "      <td>сотрудник</td>\n",
       "      <td>0</td>\n",
       "      <td>253875</td>\n",
       "      <td>покупка жилья</td>\n",
       "      <td>B</td>\n",
       "    </tr>\n",
       "    <tr>\n",
       "      <th>1</th>\n",
       "      <td>1</td>\n",
       "      <td>4024</td>\n",
       "      <td>36</td>\n",
       "      <td>1</td>\n",
       "      <td>0</td>\n",
       "      <td>F</td>\n",
       "      <td>сотрудник</td>\n",
       "      <td>0</td>\n",
       "      <td>112080</td>\n",
       "      <td>приобретение автомобиля</td>\n",
       "      <td>C</td>\n",
       "    </tr>\n",
       "    <tr>\n",
       "      <th>2</th>\n",
       "      <td>0</td>\n",
       "      <td>5623</td>\n",
       "      <td>33</td>\n",
       "      <td>1</td>\n",
       "      <td>0</td>\n",
       "      <td>M</td>\n",
       "      <td>сотрудник</td>\n",
       "      <td>0</td>\n",
       "      <td>145885</td>\n",
       "      <td>покупка жилья</td>\n",
       "      <td>C</td>\n",
       "    </tr>\n",
       "    <tr>\n",
       "      <th>3</th>\n",
       "      <td>3</td>\n",
       "      <td>4124</td>\n",
       "      <td>32</td>\n",
       "      <td>1</td>\n",
       "      <td>0</td>\n",
       "      <td>M</td>\n",
       "      <td>сотрудник</td>\n",
       "      <td>0</td>\n",
       "      <td>267628</td>\n",
       "      <td>дополнительное образование</td>\n",
       "      <td>B</td>\n",
       "    </tr>\n",
       "    <tr>\n",
       "      <th>4</th>\n",
       "      <td>0</td>\n",
       "      <td>1177</td>\n",
       "      <td>53</td>\n",
       "      <td>1</td>\n",
       "      <td>1</td>\n",
       "      <td>F</td>\n",
       "      <td>пенсионер</td>\n",
       "      <td>0</td>\n",
       "      <td>158616</td>\n",
       "      <td>сыграть свадьбу</td>\n",
       "      <td>C</td>\n",
       "    </tr>\n",
       "  </tbody>\n",
       "</table>\n",
       "</div>"
      ],
      "text/plain": [
       "   children  days_employed  dob_years  education_id  family_status_id gender  \\\n",
       "0         1           8437         42             0                 0      F   \n",
       "1         1           4024         36             1                 0      F   \n",
       "2         0           5623         33             1                 0      M   \n",
       "3         3           4124         32             1                 0      M   \n",
       "4         0           1177         53             1                 1      F   \n",
       "\n",
       "  income_type  debt  total_income                     purpose  \\\n",
       "0   сотрудник     0        253875               покупка жилья   \n",
       "1   сотрудник     0        112080     приобретение автомобиля   \n",
       "2   сотрудник     0        145885               покупка жилья   \n",
       "3   сотрудник     0        267628  дополнительное образование   \n",
       "4   пенсионер     0        158616             сыграть свадьбу   \n",
       "\n",
       "  total_income_category  \n",
       "0                     B  \n",
       "1                     C  \n",
       "2                     C  \n",
       "3                     B  \n",
       "4                     C  "
      ]
     },
     "execution_count": 51,
     "metadata": {},
     "output_type": "execute_result"
    }
   ],
   "source": [
    "data.head() # ознакомимся с результатами"
   ]
  },
  {
   "cell_type": "markdown",
   "id": "7aa4bed6",
   "metadata": {},
   "source": [
    "## Категоризация целей кредита"
   ]
  },
  {
   "cell_type": "markdown",
   "id": "f3e5e117",
   "metadata": {},
   "source": [
    "Создайте функцию, которая на основании данных из столбца 'purpose' сформирует новый столбец 'purpose_category', в который войдут следующие категории:\n",
    "\n",
    "- 'операции с автомобилем',\n",
    "\n",
    "- 'операции с недвижимостью',\n",
    "\n",
    "- 'проведение свадьбы',\n",
    "\n",
    "- 'получение образования'."
   ]
  },
  {
   "cell_type": "code",
   "execution_count": 52,
   "id": "f563d47c",
   "metadata": {},
   "outputs": [],
   "source": [
    "def purpose_category(purpose):\n",
    "    \"\"\"\n",
    "    Возвращает категорию целей кредита согласно цели , используя правила:\n",
    "    \"\"\"\n",
    "    if 'свадьб' in purpose:\n",
    "        return 'проведение свадьбы'\n",
    "    if 'образовани' in purpose:\n",
    "        return 'получение образования'\n",
    "    if 'автомобил' in purpose:\n",
    "        return 'операции с автомобилем'\n",
    "    return 'операции с недвижимостью' "
   ]
  },
  {
   "cell_type": "markdown",
   "id": "66c1f6fc",
   "metadata": {},
   "source": [
    "Добавим соответствующую колонку в датафрейм data"
   ]
  },
  {
   "cell_type": "code",
   "execution_count": 53,
   "id": "168f0a10",
   "metadata": {},
   "outputs": [],
   "source": [
    "data['purpose_category'] = data['purpose'].apply(purpose_category)"
   ]
  },
  {
   "cell_type": "markdown",
   "id": "4cb08bf3",
   "metadata": {},
   "source": [
    "Проверим результат, выведя на экран первые двадцать строк таблицы"
   ]
  },
  {
   "cell_type": "code",
   "execution_count": 54,
   "id": "4d284a00",
   "metadata": {},
   "outputs": [
    {
     "data": {
      "text/html": [
       "<div>\n",
       "<style scoped>\n",
       "    .dataframe tbody tr th:only-of-type {\n",
       "        vertical-align: middle;\n",
       "    }\n",
       "\n",
       "    .dataframe tbody tr th {\n",
       "        vertical-align: top;\n",
       "    }\n",
       "\n",
       "    .dataframe thead th {\n",
       "        text-align: right;\n",
       "    }\n",
       "</style>\n",
       "<table border=\"1\" class=\"dataframe\">\n",
       "  <thead>\n",
       "    <tr style=\"text-align: right;\">\n",
       "      <th></th>\n",
       "      <th>children</th>\n",
       "      <th>days_employed</th>\n",
       "      <th>dob_years</th>\n",
       "      <th>education_id</th>\n",
       "      <th>family_status_id</th>\n",
       "      <th>gender</th>\n",
       "      <th>income_type</th>\n",
       "      <th>debt</th>\n",
       "      <th>total_income</th>\n",
       "      <th>purpose</th>\n",
       "      <th>total_income_category</th>\n",
       "      <th>purpose_category</th>\n",
       "    </tr>\n",
       "  </thead>\n",
       "  <tbody>\n",
       "    <tr>\n",
       "      <th>0</th>\n",
       "      <td>1</td>\n",
       "      <td>8437</td>\n",
       "      <td>42</td>\n",
       "      <td>0</td>\n",
       "      <td>0</td>\n",
       "      <td>F</td>\n",
       "      <td>сотрудник</td>\n",
       "      <td>0</td>\n",
       "      <td>253875</td>\n",
       "      <td>покупка жилья</td>\n",
       "      <td>B</td>\n",
       "      <td>операции с недвижимостью</td>\n",
       "    </tr>\n",
       "    <tr>\n",
       "      <th>1</th>\n",
       "      <td>1</td>\n",
       "      <td>4024</td>\n",
       "      <td>36</td>\n",
       "      <td>1</td>\n",
       "      <td>0</td>\n",
       "      <td>F</td>\n",
       "      <td>сотрудник</td>\n",
       "      <td>0</td>\n",
       "      <td>112080</td>\n",
       "      <td>приобретение автомобиля</td>\n",
       "      <td>C</td>\n",
       "      <td>операции с автомобилем</td>\n",
       "    </tr>\n",
       "    <tr>\n",
       "      <th>2</th>\n",
       "      <td>0</td>\n",
       "      <td>5623</td>\n",
       "      <td>33</td>\n",
       "      <td>1</td>\n",
       "      <td>0</td>\n",
       "      <td>M</td>\n",
       "      <td>сотрудник</td>\n",
       "      <td>0</td>\n",
       "      <td>145885</td>\n",
       "      <td>покупка жилья</td>\n",
       "      <td>C</td>\n",
       "      <td>операции с недвижимостью</td>\n",
       "    </tr>\n",
       "    <tr>\n",
       "      <th>3</th>\n",
       "      <td>3</td>\n",
       "      <td>4124</td>\n",
       "      <td>32</td>\n",
       "      <td>1</td>\n",
       "      <td>0</td>\n",
       "      <td>M</td>\n",
       "      <td>сотрудник</td>\n",
       "      <td>0</td>\n",
       "      <td>267628</td>\n",
       "      <td>дополнительное образование</td>\n",
       "      <td>B</td>\n",
       "      <td>получение образования</td>\n",
       "    </tr>\n",
       "    <tr>\n",
       "      <th>4</th>\n",
       "      <td>0</td>\n",
       "      <td>1177</td>\n",
       "      <td>53</td>\n",
       "      <td>1</td>\n",
       "      <td>1</td>\n",
       "      <td>F</td>\n",
       "      <td>пенсионер</td>\n",
       "      <td>0</td>\n",
       "      <td>158616</td>\n",
       "      <td>сыграть свадьбу</td>\n",
       "      <td>C</td>\n",
       "      <td>проведение свадьбы</td>\n",
       "    </tr>\n",
       "    <tr>\n",
       "      <th>5</th>\n",
       "      <td>0</td>\n",
       "      <td>926</td>\n",
       "      <td>27</td>\n",
       "      <td>0</td>\n",
       "      <td>1</td>\n",
       "      <td>M</td>\n",
       "      <td>компаньон</td>\n",
       "      <td>0</td>\n",
       "      <td>255763</td>\n",
       "      <td>покупка жилья</td>\n",
       "      <td>B</td>\n",
       "      <td>операции с недвижимостью</td>\n",
       "    </tr>\n",
       "    <tr>\n",
       "      <th>6</th>\n",
       "      <td>0</td>\n",
       "      <td>2879</td>\n",
       "      <td>43</td>\n",
       "      <td>0</td>\n",
       "      <td>0</td>\n",
       "      <td>F</td>\n",
       "      <td>компаньон</td>\n",
       "      <td>0</td>\n",
       "      <td>240525</td>\n",
       "      <td>операции с жильем</td>\n",
       "      <td>B</td>\n",
       "      <td>операции с недвижимостью</td>\n",
       "    </tr>\n",
       "    <tr>\n",
       "      <th>7</th>\n",
       "      <td>0</td>\n",
       "      <td>152</td>\n",
       "      <td>50</td>\n",
       "      <td>1</td>\n",
       "      <td>0</td>\n",
       "      <td>M</td>\n",
       "      <td>сотрудник</td>\n",
       "      <td>0</td>\n",
       "      <td>135823</td>\n",
       "      <td>образование</td>\n",
       "      <td>C</td>\n",
       "      <td>получение образования</td>\n",
       "    </tr>\n",
       "    <tr>\n",
       "      <th>8</th>\n",
       "      <td>2</td>\n",
       "      <td>6929</td>\n",
       "      <td>35</td>\n",
       "      <td>0</td>\n",
       "      <td>1</td>\n",
       "      <td>F</td>\n",
       "      <td>сотрудник</td>\n",
       "      <td>0</td>\n",
       "      <td>95856</td>\n",
       "      <td>на проведение свадьбы</td>\n",
       "      <td>C</td>\n",
       "      <td>проведение свадьбы</td>\n",
       "    </tr>\n",
       "    <tr>\n",
       "      <th>9</th>\n",
       "      <td>0</td>\n",
       "      <td>2188</td>\n",
       "      <td>41</td>\n",
       "      <td>1</td>\n",
       "      <td>0</td>\n",
       "      <td>M</td>\n",
       "      <td>сотрудник</td>\n",
       "      <td>0</td>\n",
       "      <td>144425</td>\n",
       "      <td>покупка жилья для семьи</td>\n",
       "      <td>C</td>\n",
       "      <td>операции с недвижимостью</td>\n",
       "    </tr>\n",
       "    <tr>\n",
       "      <th>10</th>\n",
       "      <td>2</td>\n",
       "      <td>4171</td>\n",
       "      <td>36</td>\n",
       "      <td>0</td>\n",
       "      <td>0</td>\n",
       "      <td>M</td>\n",
       "      <td>компаньон</td>\n",
       "      <td>0</td>\n",
       "      <td>113943</td>\n",
       "      <td>покупка недвижимости</td>\n",
       "      <td>C</td>\n",
       "      <td>операции с недвижимостью</td>\n",
       "    </tr>\n",
       "    <tr>\n",
       "      <th>11</th>\n",
       "      <td>0</td>\n",
       "      <td>792</td>\n",
       "      <td>40</td>\n",
       "      <td>1</td>\n",
       "      <td>0</td>\n",
       "      <td>F</td>\n",
       "      <td>сотрудник</td>\n",
       "      <td>0</td>\n",
       "      <td>77069</td>\n",
       "      <td>покупка коммерческой недвижимости</td>\n",
       "      <td>C</td>\n",
       "      <td>операции с недвижимостью</td>\n",
       "    </tr>\n",
       "    <tr>\n",
       "      <th>12</th>\n",
       "      <td>0</td>\n",
       "      <td>1177</td>\n",
       "      <td>65</td>\n",
       "      <td>1</td>\n",
       "      <td>1</td>\n",
       "      <td>M</td>\n",
       "      <td>пенсионер</td>\n",
       "      <td>0</td>\n",
       "      <td>145017</td>\n",
       "      <td>сыграть свадьбу</td>\n",
       "      <td>C</td>\n",
       "      <td>проведение свадьбы</td>\n",
       "    </tr>\n",
       "    <tr>\n",
       "      <th>13</th>\n",
       "      <td>0</td>\n",
       "      <td>1846</td>\n",
       "      <td>54</td>\n",
       "      <td>2</td>\n",
       "      <td>0</td>\n",
       "      <td>F</td>\n",
       "      <td>сотрудник</td>\n",
       "      <td>0</td>\n",
       "      <td>130458</td>\n",
       "      <td>приобретение автомобиля</td>\n",
       "      <td>C</td>\n",
       "      <td>операции с автомобилем</td>\n",
       "    </tr>\n",
       "    <tr>\n",
       "      <th>14</th>\n",
       "      <td>0</td>\n",
       "      <td>1844</td>\n",
       "      <td>56</td>\n",
       "      <td>0</td>\n",
       "      <td>1</td>\n",
       "      <td>F</td>\n",
       "      <td>компаньон</td>\n",
       "      <td>1</td>\n",
       "      <td>165127</td>\n",
       "      <td>покупка жилой недвижимости</td>\n",
       "      <td>C</td>\n",
       "      <td>операции с недвижимостью</td>\n",
       "    </tr>\n",
       "    <tr>\n",
       "      <th>15</th>\n",
       "      <td>1</td>\n",
       "      <td>972</td>\n",
       "      <td>26</td>\n",
       "      <td>1</td>\n",
       "      <td>0</td>\n",
       "      <td>F</td>\n",
       "      <td>сотрудник</td>\n",
       "      <td>0</td>\n",
       "      <td>116820</td>\n",
       "      <td>строительство собственной недвижимости</td>\n",
       "      <td>C</td>\n",
       "      <td>операции с недвижимостью</td>\n",
       "    </tr>\n",
       "    <tr>\n",
       "      <th>16</th>\n",
       "      <td>0</td>\n",
       "      <td>1719</td>\n",
       "      <td>35</td>\n",
       "      <td>1</td>\n",
       "      <td>0</td>\n",
       "      <td>F</td>\n",
       "      <td>сотрудник</td>\n",
       "      <td>0</td>\n",
       "      <td>289202</td>\n",
       "      <td>недвижимость</td>\n",
       "      <td>B</td>\n",
       "      <td>операции с недвижимостью</td>\n",
       "    </tr>\n",
       "    <tr>\n",
       "      <th>17</th>\n",
       "      <td>0</td>\n",
       "      <td>2369</td>\n",
       "      <td>33</td>\n",
       "      <td>0</td>\n",
       "      <td>1</td>\n",
       "      <td>M</td>\n",
       "      <td>сотрудник</td>\n",
       "      <td>0</td>\n",
       "      <td>90410</td>\n",
       "      <td>строительство недвижимости</td>\n",
       "      <td>C</td>\n",
       "      <td>операции с недвижимостью</td>\n",
       "    </tr>\n",
       "    <tr>\n",
       "      <th>18</th>\n",
       "      <td>0</td>\n",
       "      <td>1177</td>\n",
       "      <td>53</td>\n",
       "      <td>1</td>\n",
       "      <td>2</td>\n",
       "      <td>F</td>\n",
       "      <td>пенсионер</td>\n",
       "      <td>0</td>\n",
       "      <td>56823</td>\n",
       "      <td>на покупку подержанного автомобиля</td>\n",
       "      <td>C</td>\n",
       "      <td>операции с автомобилем</td>\n",
       "    </tr>\n",
       "    <tr>\n",
       "      <th>19</th>\n",
       "      <td>0</td>\n",
       "      <td>10038</td>\n",
       "      <td>48</td>\n",
       "      <td>1</td>\n",
       "      <td>3</td>\n",
       "      <td>F</td>\n",
       "      <td>сотрудник</td>\n",
       "      <td>0</td>\n",
       "      <td>242831</td>\n",
       "      <td>на покупку своего автомобиля</td>\n",
       "      <td>B</td>\n",
       "      <td>операции с автомобилем</td>\n",
       "    </tr>\n",
       "  </tbody>\n",
       "</table>\n",
       "</div>"
      ],
      "text/plain": [
       "    children  days_employed  dob_years  education_id  family_status_id gender  \\\n",
       "0          1           8437         42             0                 0      F   \n",
       "1          1           4024         36             1                 0      F   \n",
       "2          0           5623         33             1                 0      M   \n",
       "3          3           4124         32             1                 0      M   \n",
       "4          0           1177         53             1                 1      F   \n",
       "5          0            926         27             0                 1      M   \n",
       "6          0           2879         43             0                 0      F   \n",
       "7          0            152         50             1                 0      M   \n",
       "8          2           6929         35             0                 1      F   \n",
       "9          0           2188         41             1                 0      M   \n",
       "10         2           4171         36             0                 0      M   \n",
       "11         0            792         40             1                 0      F   \n",
       "12         0           1177         65             1                 1      M   \n",
       "13         0           1846         54             2                 0      F   \n",
       "14         0           1844         56             0                 1      F   \n",
       "15         1            972         26             1                 0      F   \n",
       "16         0           1719         35             1                 0      F   \n",
       "17         0           2369         33             0                 1      M   \n",
       "18         0           1177         53             1                 2      F   \n",
       "19         0          10038         48             1                 3      F   \n",
       "\n",
       "   income_type  debt  total_income                                 purpose  \\\n",
       "0    сотрудник     0        253875                           покупка жилья   \n",
       "1    сотрудник     0        112080                 приобретение автомобиля   \n",
       "2    сотрудник     0        145885                           покупка жилья   \n",
       "3    сотрудник     0        267628              дополнительное образование   \n",
       "4    пенсионер     0        158616                         сыграть свадьбу   \n",
       "5    компаньон     0        255763                           покупка жилья   \n",
       "6    компаньон     0        240525                       операции с жильем   \n",
       "7    сотрудник     0        135823                             образование   \n",
       "8    сотрудник     0         95856                   на проведение свадьбы   \n",
       "9    сотрудник     0        144425                 покупка жилья для семьи   \n",
       "10   компаньон     0        113943                    покупка недвижимости   \n",
       "11   сотрудник     0         77069       покупка коммерческой недвижимости   \n",
       "12   пенсионер     0        145017                         сыграть свадьбу   \n",
       "13   сотрудник     0        130458                 приобретение автомобиля   \n",
       "14   компаньон     1        165127              покупка жилой недвижимости   \n",
       "15   сотрудник     0        116820  строительство собственной недвижимости   \n",
       "16   сотрудник     0        289202                            недвижимость   \n",
       "17   сотрудник     0         90410              строительство недвижимости   \n",
       "18   пенсионер     0         56823      на покупку подержанного автомобиля   \n",
       "19   сотрудник     0        242831            на покупку своего автомобиля   \n",
       "\n",
       "   total_income_category          purpose_category  \n",
       "0                      B  операции с недвижимостью  \n",
       "1                      C    операции с автомобилем  \n",
       "2                      C  операции с недвижимостью  \n",
       "3                      B     получение образования  \n",
       "4                      C        проведение свадьбы  \n",
       "5                      B  операции с недвижимостью  \n",
       "6                      B  операции с недвижимостью  \n",
       "7                      C     получение образования  \n",
       "8                      C        проведение свадьбы  \n",
       "9                      C  операции с недвижимостью  \n",
       "10                     C  операции с недвижимостью  \n",
       "11                     C  операции с недвижимостью  \n",
       "12                     C        проведение свадьбы  \n",
       "13                     C    операции с автомобилем  \n",
       "14                     C  операции с недвижимостью  \n",
       "15                     C  операции с недвижимостью  \n",
       "16                     B  операции с недвижимостью  \n",
       "17                     C  операции с недвижимостью  \n",
       "18                     C    операции с автомобилем  \n",
       "19                     B    операции с автомобилем  "
      ]
     },
     "execution_count": 54,
     "metadata": {},
     "output_type": "execute_result"
    }
   ],
   "source": [
    "data.head(20)"
   ]
  },
  {
   "cell_type": "markdown",
   "id": "901c9c4c",
   "metadata": {},
   "source": [
    "## Ответы на вопросы"
   ]
  },
  {
   "cell_type": "markdown",
   "id": "2bc2dcdd",
   "metadata": {},
   "source": [
    "### Вопрос 1"
   ]
  },
  {
   "cell_type": "markdown",
   "id": "d6ba02ac",
   "metadata": {},
   "source": [
    "Проведем анализ показателей, которые могут влиять на возврат кредита в срок. "
   ]
  },
  {
   "cell_type": "markdown",
   "id": "398db4ed",
   "metadata": {},
   "source": [
    "Создадим сводную таблицу влияния количества детей на возврат кредита в срок "
   ]
  },
  {
   "cell_type": "code",
   "execution_count": 55,
   "id": "b4c6d4d8",
   "metadata": {},
   "outputs": [
    {
     "data": {
      "text/html": [
       "<div>\n",
       "<style scoped>\n",
       "    .dataframe tbody tr th:only-of-type {\n",
       "        vertical-align: middle;\n",
       "    }\n",
       "\n",
       "    .dataframe tbody tr th {\n",
       "        vertical-align: top;\n",
       "    }\n",
       "\n",
       "    .dataframe thead th {\n",
       "        text-align: right;\n",
       "    }\n",
       "</style>\n",
       "<table border=\"1\" class=\"dataframe\">\n",
       "  <thead>\n",
       "    <tr style=\"text-align: right;\">\n",
       "      <th>children</th>\n",
       "      <th>0</th>\n",
       "      <th>1</th>\n",
       "      <th>2</th>\n",
       "      <th>3</th>\n",
       "      <th>4</th>\n",
       "      <th>5</th>\n",
       "    </tr>\n",
       "  </thead>\n",
       "  <tbody>\n",
       "    <tr>\n",
       "      <th>debt</th>\n",
       "      <td>0.075458</td>\n",
       "      <td>0.092028</td>\n",
       "      <td>0.095145</td>\n",
       "      <td>0.082317</td>\n",
       "      <td>0.097561</td>\n",
       "      <td>0.0</td>\n",
       "    </tr>\n",
       "  </tbody>\n",
       "</table>\n",
       "</div>"
      ],
      "text/plain": [
       "children         0         1         2         3         4    5\n",
       "debt      0.075458  0.092028  0.095145  0.082317  0.097561  0.0"
      ]
     },
     "execution_count": 55,
     "metadata": {},
     "output_type": "execute_result"
    }
   ],
   "source": [
    "data_pivot_1 = data.pivot_table(columns='children', values='debt',aggfunc='mean') \n",
    "#columns — столбец, по значениям которого происходит группировка \n",
    "#values — значения, по которым мы хотим увидеть сводную таблицу \n",
    "#aggfunc — функция, применяемая к значениям (медиана) \n",
    "data_pivot_1"
   ]
  },
  {
   "cell_type": "markdown",
   "id": "6c842ecf",
   "metadata": {},
   "source": [
    "****\n"
   ]
  },
  {
   "cell_type": "markdown",
   "id": "09722b3f",
   "metadata": {},
   "source": [
    "Теперь с помощью сводной таблицы определим зависимость между семейным положением и задолженностями по кредиту."
   ]
  },
  {
   "cell_type": "code",
   "execution_count": 56,
   "id": "02d3e2a9",
   "metadata": {},
   "outputs": [
    {
     "data": {
      "text/html": [
       "<div>\n",
       "<style scoped>\n",
       "    .dataframe tbody tr th:only-of-type {\n",
       "        vertical-align: middle;\n",
       "    }\n",
       "\n",
       "    .dataframe tbody tr th {\n",
       "        vertical-align: top;\n",
       "    }\n",
       "\n",
       "    .dataframe thead th {\n",
       "        text-align: right;\n",
       "    }\n",
       "</style>\n",
       "<table border=\"1\" class=\"dataframe\">\n",
       "  <thead>\n",
       "    <tr style=\"text-align: right;\">\n",
       "      <th>family_status</th>\n",
       "      <th>Не женат / не замужем</th>\n",
       "      <th>в разводе</th>\n",
       "      <th>вдовец / вдова</th>\n",
       "      <th>гражданский брак</th>\n",
       "      <th>женат / замужем</th>\n",
       "    </tr>\n",
       "  </thead>\n",
       "  <tbody>\n",
       "    <tr>\n",
       "      <th>debt</th>\n",
       "      <td>0.097842</td>\n",
       "      <td>0.071247</td>\n",
       "      <td>0.065539</td>\n",
       "      <td>0.093142</td>\n",
       "      <td>0.075575</td>\n",
       "    </tr>\n",
       "  </tbody>\n",
       "</table>\n",
       "</div>"
      ],
      "text/plain": [
       "family_status  Не женат / не замужем  в разводе  вдовец / вдова  \\\n",
       "debt                        0.097842   0.071247        0.065539   \n",
       "\n",
       "family_status  гражданский брак  женат / замужем  \n",
       "debt                   0.093142         0.075575  "
      ]
     },
     "execution_count": 56,
     "metadata": {},
     "output_type": "execute_result"
    }
   ],
   "source": [
    "data_pivot_2 = data.pivot_table(columns=data_family_status['family_status'], values='debt',aggfunc='mean')\n",
    "data_pivot_2\n"
   ]
  },
  {
   "cell_type": "markdown",
   "id": "6e3f8441",
   "metadata": {},
   "source": [
    "****"
   ]
  },
  {
   "cell_type": "markdown",
   "id": "51b9c90c",
   "metadata": {},
   "source": [
    "Создадим сводную таблицу по уровню дохода и возвратом кредита в срок"
   ]
  },
  {
   "cell_type": "code",
   "execution_count": 57,
   "id": "dc405d0e",
   "metadata": {},
   "outputs": [
    {
     "data": {
      "text/html": [
       "<div>\n",
       "<style scoped>\n",
       "    .dataframe tbody tr th:only-of-type {\n",
       "        vertical-align: middle;\n",
       "    }\n",
       "\n",
       "    .dataframe tbody tr th {\n",
       "        vertical-align: top;\n",
       "    }\n",
       "\n",
       "    .dataframe thead th {\n",
       "        text-align: right;\n",
       "    }\n",
       "</style>\n",
       "<table border=\"1\" class=\"dataframe\">\n",
       "  <thead>\n",
       "    <tr style=\"text-align: right;\">\n",
       "      <th>total_income_category</th>\n",
       "      <th>A</th>\n",
       "      <th>B</th>\n",
       "      <th>C</th>\n",
       "      <th>D</th>\n",
       "      <th>E</th>\n",
       "    </tr>\n",
       "  </thead>\n",
       "  <tbody>\n",
       "    <tr>\n",
       "      <th>debt</th>\n",
       "      <td>0.08</td>\n",
       "      <td>0.070798</td>\n",
       "      <td>0.084921</td>\n",
       "      <td>0.060519</td>\n",
       "      <td>0.090909</td>\n",
       "    </tr>\n",
       "  </tbody>\n",
       "</table>\n",
       "</div>"
      ],
      "text/plain": [
       "total_income_category     A         B         C         D         E\n",
       "debt                   0.08  0.070798  0.084921  0.060519  0.090909"
      ]
     },
     "execution_count": 57,
     "metadata": {},
     "output_type": "execute_result"
    }
   ],
   "source": [
    "data_pivot_3 = data.pivot_table(columns='total_income_category', values='debt',aggfunc='mean')\n",
    "data_pivot_3"
   ]
  },
  {
   "cell_type": "markdown",
   "id": "38982fb7",
   "metadata": {},
   "source": [
    "****"
   ]
  },
  {
   "cell_type": "markdown",
   "id": "8d4984be",
   "metadata": {},
   "source": [
    "Создадим сводную таблицу влияния целей кредита на возврат долга в срок."
   ]
  },
  {
   "cell_type": "code",
   "execution_count": 58,
   "id": "97d718dc",
   "metadata": {},
   "outputs": [
    {
     "data": {
      "text/html": [
       "<div>\n",
       "<style scoped>\n",
       "    .dataframe tbody tr th:only-of-type {\n",
       "        vertical-align: middle;\n",
       "    }\n",
       "\n",
       "    .dataframe tbody tr th {\n",
       "        vertical-align: top;\n",
       "    }\n",
       "\n",
       "    .dataframe thead th {\n",
       "        text-align: right;\n",
       "    }\n",
       "</style>\n",
       "<table border=\"1\" class=\"dataframe\">\n",
       "  <thead>\n",
       "    <tr style=\"text-align: right;\">\n",
       "      <th>purpose_category</th>\n",
       "      <th>операции с автомобилем</th>\n",
       "      <th>операции с недвижимостью</th>\n",
       "      <th>получение образования</th>\n",
       "      <th>проведение свадьбы</th>\n",
       "    </tr>\n",
       "  </thead>\n",
       "  <tbody>\n",
       "    <tr>\n",
       "      <th>debt</th>\n",
       "      <td>0.093236</td>\n",
       "      <td>0.072596</td>\n",
       "      <td>0.092947</td>\n",
       "      <td>0.07873</td>\n",
       "    </tr>\n",
       "  </tbody>\n",
       "</table>\n",
       "</div>"
      ],
      "text/plain": [
       "purpose_category  операции с автомобилем  операции с недвижимостью  \\\n",
       "debt                            0.093236                  0.072596   \n",
       "\n",
       "purpose_category  получение образования  проведение свадьбы  \n",
       "debt                           0.092947             0.07873  "
      ]
     },
     "execution_count": 58,
     "metadata": {},
     "output_type": "execute_result"
    }
   ],
   "source": [
    "data_pivot_4 = data.pivot_table(columns='purpose_category', values='debt',aggfunc='mean')\n",
    "data_pivot_4"
   ]
  },
  {
   "cell_type": "markdown",
   "id": "e87c2140",
   "metadata": {},
   "source": [
    "### Вывод 1"
   ]
  },
  {
   "cell_type": "markdown",
   "id": "5b98d4df",
   "metadata": {},
   "source": [
    "Сгруппировав значения по различным показателям можно сделать следующие выводы. \n",
    "\n",
    "Отсутствие детей у заемщиков повышает вероятность возврата кредита в срок. Наличие детей может нести риск возникновения незапланированных трат. Не имея детей, о которых необходимо заботиться деньги можно тратить только на себя, можно лучше спланировать бюджет.\n",
    "\n",
    "Люди находящиеся или находившиеся в браке являются более дисциплинированными заемщиками. Это может быть связано с более ответственным подходом к жизни, умением вести бюджет, планировать траты. \n",
    "\n",
    "Нельзя отметить серьезную зависимость между доходом и фактом возврата кредита в срок, за исключением ситуации, когда у клиента совсем низкий уровень зароботка. В таком случае могут возникать проблемы. Денег в таком случае может не хватать, что негативно сказывается на своевременный возврат кредита.\n",
    "\n",
    "Как показывает анализ кредиты, взятые на операции с недвижимостью и проведение свадьбы возвращают более дисциплинированно, чем кредиты, взятые на операции с автомобилем и получение образования. К Можно сделать вывод, что к покупке недвижимости и обслуживанию кредита, взятого на эти цели клиенты подходят более ответственно, как к необходимому имуществу. Образование и автомобиль не являются жизненнонеобходимыми приобретениями и это может откладывать соответствующий отпечатам на дисциплину возврата кредита."
   ]
  },
  {
   "cell_type": "markdown",
   "id": "beb2b00f",
   "metadata": {},
   "source": [
    "## Общий вывод"
   ]
  },
  {
   "cell_type": "markdown",
   "id": "c66bfe3d",
   "metadata": {},
   "source": [
    "От банка была получена таблица платежеспособности клиента. На первом этапе изучили основную информацию о таблице. \n",
    "Затем приступили к предобработке данных. Избавились от аномальных показателей, а пропущенные заменили медианным значением.\n",
    "На следующем этапе избавились от явных и неявных дубликатов, чтобы избавиться от показателей, которые могут негативно повлиять на анализ.\n",
    "\n",
    "Для удобства изменили тип данных float на int, где это показалось целесообразным, создали новые датафреймы и перемистили туда некоторые колонки, чтобы сделать основной датафрейм более удобным для анализа.\n",
    "\n",
    "Провели категоризацию доходов и целей кредита, чтобы систематизировать информацию для более удобного и качественного анализа данных показателей. Полученные данные добавили в основной датафрейм.\n",
    "\n",
    "Для анализа мы использовали метод, строящий сводные таблицы. Построение сводных таблиц позволяет быстро анализировать данные и сразу подготовить отчёты.\n",
    "\n",
    "Проанализировав таблицу, можно сделать выводы, что идеальный заемщик для банка - это семейный человек, не имеющий детей, получающий доход выше необходимого минимума (A-D), основной целью которого является получения кредита для приобретения недвижимости или проведения свадьбы"
   ]
  },
  {
   "cell_type": "code",
   "execution_count": null,
   "id": "79e3de9d",
   "metadata": {},
   "outputs": [],
   "source": []
  }
 ],
 "metadata": {
  "ExecuteTimeLog": [
   {
    "duration": 815,
    "start_time": "2022-06-14T15:35:52.865Z"
   },
   {
    "duration": 109,
    "start_time": "2022-06-14T15:36:03.510Z"
   },
   {
    "duration": 423,
    "start_time": "2022-06-15T05:31:19.906Z"
   },
   {
    "duration": 303,
    "start_time": "2022-06-15T05:31:35.103Z"
   },
   {
    "duration": 15,
    "start_time": "2022-06-15T05:31:40.845Z"
   },
   {
    "duration": 81,
    "start_time": "2022-06-15T05:56:46.214Z"
   },
   {
    "duration": 17,
    "start_time": "2022-06-15T05:57:00.007Z"
   },
   {
    "duration": 14,
    "start_time": "2022-06-15T05:58:31.956Z"
   },
   {
    "duration": 31,
    "start_time": "2022-06-16T20:27:32.454Z"
   },
   {
    "duration": 349,
    "start_time": "2022-06-16T20:27:39.903Z"
   },
   {
    "duration": 286,
    "start_time": "2022-06-16T20:27:40.254Z"
   },
   {
    "duration": 18,
    "start_time": "2022-06-16T20:27:40.542Z"
   },
   {
    "duration": 13,
    "start_time": "2022-06-16T20:27:40.562Z"
   },
   {
    "duration": 4,
    "start_time": "2022-06-16T20:27:40.577Z"
   },
   {
    "duration": 3,
    "start_time": "2022-06-16T20:27:55.960Z"
   },
   {
    "duration": 69,
    "start_time": "2022-06-16T20:27:56.840Z"
   },
   {
    "duration": 12,
    "start_time": "2022-06-16T20:27:57.480Z"
   },
   {
    "duration": 15,
    "start_time": "2022-06-16T20:28:00.016Z"
   },
   {
    "duration": 4,
    "start_time": "2022-06-16T20:28:02.616Z"
   },
   {
    "duration": 4,
    "start_time": "2022-06-16T20:28:16.588Z"
   },
   {
    "duration": 6,
    "start_time": "2022-06-16T20:28:29.830Z"
   },
   {
    "duration": 40,
    "start_time": "2022-06-16T20:28:43.228Z"
   },
   {
    "duration": 25,
    "start_time": "2022-06-16T20:28:47.861Z"
   },
   {
    "duration": 2,
    "start_time": "2022-06-16T20:28:56.964Z"
   },
   {
    "duration": 67,
    "start_time": "2022-06-16T20:28:57.299Z"
   },
   {
    "duration": 15,
    "start_time": "2022-06-16T20:28:57.598Z"
   },
   {
    "duration": 17,
    "start_time": "2022-06-16T20:28:59.644Z"
   },
   {
    "duration": 57,
    "start_time": "2022-06-16T20:29:02.035Z"
   },
   {
    "duration": 14,
    "start_time": "2022-06-16T20:32:19.483Z"
   },
   {
    "duration": 5,
    "start_time": "2022-06-16T20:32:46.180Z"
   },
   {
    "duration": 16,
    "start_time": "2022-06-16T20:32:54.657Z"
   },
   {
    "duration": 5,
    "start_time": "2022-06-16T20:33:15.386Z"
   },
   {
    "duration": 15,
    "start_time": "2022-06-16T20:33:33.953Z"
   },
   {
    "duration": 24,
    "start_time": "2022-06-16T20:33:41.839Z"
   },
   {
    "duration": 12,
    "start_time": "2022-06-16T20:33:51.832Z"
   },
   {
    "duration": 9,
    "start_time": "2022-06-16T20:34:45.227Z"
   },
   {
    "duration": 7,
    "start_time": "2022-06-16T20:35:04.039Z"
   },
   {
    "duration": 20,
    "start_time": "2022-06-16T20:36:16.137Z"
   },
   {
    "duration": 21,
    "start_time": "2022-06-16T20:36:31.498Z"
   },
   {
    "duration": 12,
    "start_time": "2022-06-16T20:36:48.283Z"
   },
   {
    "duration": 3,
    "start_time": "2022-06-16T20:37:11.292Z"
   },
   {
    "duration": 68,
    "start_time": "2022-06-16T20:37:11.644Z"
   },
   {
    "duration": 13,
    "start_time": "2022-06-16T20:37:12.125Z"
   },
   {
    "duration": 20,
    "start_time": "2022-06-16T20:37:16.861Z"
   },
   {
    "duration": 15,
    "start_time": "2022-06-16T20:37:24.351Z"
   },
   {
    "duration": 20,
    "start_time": "2022-06-16T20:37:27.235Z"
   },
   {
    "duration": 14,
    "start_time": "2022-06-16T20:37:45.394Z"
   },
   {
    "duration": 14,
    "start_time": "2022-06-16T20:37:52.530Z"
   },
   {
    "duration": 16,
    "start_time": "2022-06-16T20:38:15.936Z"
   },
   {
    "duration": 403,
    "start_time": "2022-06-16T21:05:48.549Z"
   },
   {
    "duration": 6,
    "start_time": "2022-06-16T21:05:58.526Z"
   },
   {
    "duration": 4,
    "start_time": "2022-06-16T21:21:20.296Z"
   },
   {
    "duration": 34,
    "start_time": "2022-06-16T21:22:26.050Z"
   },
   {
    "duration": 34,
    "start_time": "2022-06-16T21:22:43.978Z"
   },
   {
    "duration": 7,
    "start_time": "2022-06-16T21:26:26.705Z"
   },
   {
    "duration": 20,
    "start_time": "2022-06-16T21:26:50.102Z"
   },
   {
    "duration": 23,
    "start_time": "2022-06-16T21:50:33.013Z"
   },
   {
    "duration": 15,
    "start_time": "2022-06-16T21:50:40.252Z"
   },
   {
    "duration": 10,
    "start_time": "2022-06-16T21:51:43.306Z"
   },
   {
    "duration": 6,
    "start_time": "2022-06-16T21:51:49.175Z"
   },
   {
    "duration": 116,
    "start_time": "2022-06-16T21:52:00.694Z"
   },
   {
    "duration": 357,
    "start_time": "2022-06-16T21:52:08.718Z"
   },
   {
    "duration": 69,
    "start_time": "2022-06-16T21:52:09.077Z"
   },
   {
    "duration": 18,
    "start_time": "2022-06-16T21:52:09.148Z"
   },
   {
    "duration": 14,
    "start_time": "2022-06-16T21:52:09.168Z"
   },
   {
    "duration": 15,
    "start_time": "2022-06-16T21:52:09.183Z"
   },
   {
    "duration": 5,
    "start_time": "2022-06-16T21:52:09.199Z"
   },
   {
    "duration": 19,
    "start_time": "2022-06-16T21:52:09.205Z"
   },
   {
    "duration": 73,
    "start_time": "2022-06-16T21:52:18.732Z"
   },
   {
    "duration": 408,
    "start_time": "2022-06-16T21:52:25.039Z"
   },
   {
    "duration": 70,
    "start_time": "2022-06-16T21:52:25.449Z"
   },
   {
    "duration": 18,
    "start_time": "2022-06-16T21:52:25.521Z"
   },
   {
    "duration": 15,
    "start_time": "2022-06-16T21:52:25.541Z"
   },
   {
    "duration": 27,
    "start_time": "2022-06-16T21:52:25.559Z"
   },
   {
    "duration": 5,
    "start_time": "2022-06-16T21:52:25.588Z"
   },
   {
    "duration": 24,
    "start_time": "2022-06-16T21:52:25.595Z"
   },
   {
    "duration": 69,
    "start_time": "2022-06-16T21:52:39.217Z"
   },
   {
    "duration": 423,
    "start_time": "2022-06-16T21:52:48.243Z"
   },
   {
    "duration": 78,
    "start_time": "2022-06-16T21:52:48.668Z"
   },
   {
    "duration": 21,
    "start_time": "2022-06-16T21:52:48.747Z"
   },
   {
    "duration": 15,
    "start_time": "2022-06-16T21:52:48.771Z"
   },
   {
    "duration": 15,
    "start_time": "2022-06-16T21:52:48.788Z"
   },
   {
    "duration": 5,
    "start_time": "2022-06-16T21:52:48.804Z"
   },
   {
    "duration": 18,
    "start_time": "2022-06-16T21:52:48.811Z"
   },
   {
    "duration": 70,
    "start_time": "2022-06-16T21:53:01.250Z"
   },
   {
    "duration": 2,
    "start_time": "2022-06-16T21:53:04.747Z"
   },
   {
    "duration": 65,
    "start_time": "2022-06-16T21:53:05.034Z"
   },
   {
    "duration": 12,
    "start_time": "2022-06-16T21:53:05.226Z"
   },
   {
    "duration": 15,
    "start_time": "2022-06-16T21:53:05.746Z"
   },
   {
    "duration": 17,
    "start_time": "2022-06-16T21:53:07.025Z"
   },
   {
    "duration": 5,
    "start_time": "2022-06-16T21:53:08.722Z"
   },
   {
    "duration": 15,
    "start_time": "2022-06-16T21:53:10.161Z"
   },
   {
    "duration": 11,
    "start_time": "2022-06-16T21:53:29.345Z"
   },
   {
    "duration": 2,
    "start_time": "2022-06-16T21:53:32.944Z"
   },
   {
    "duration": 65,
    "start_time": "2022-06-16T21:53:33.112Z"
   },
   {
    "duration": 13,
    "start_time": "2022-06-16T21:53:33.280Z"
   },
   {
    "duration": 13,
    "start_time": "2022-06-16T21:53:33.455Z"
   },
   {
    "duration": 15,
    "start_time": "2022-06-16T21:53:34.448Z"
   },
   {
    "duration": 3,
    "start_time": "2022-06-16T21:53:36.311Z"
   },
   {
    "duration": 16,
    "start_time": "2022-06-16T21:53:36.777Z"
   },
   {
    "duration": 23,
    "start_time": "2022-06-16T21:56:01.998Z"
   },
   {
    "duration": 3,
    "start_time": "2022-06-16T21:56:06.620Z"
   },
   {
    "duration": 68,
    "start_time": "2022-06-16T21:56:06.795Z"
   },
   {
    "duration": 12,
    "start_time": "2022-06-16T21:56:06.983Z"
   },
   {
    "duration": 13,
    "start_time": "2022-06-16T21:56:07.140Z"
   },
   {
    "duration": 16,
    "start_time": "2022-06-16T21:56:08.156Z"
   },
   {
    "duration": 3,
    "start_time": "2022-06-16T21:56:09.244Z"
   },
   {
    "duration": 15,
    "start_time": "2022-06-16T21:56:09.933Z"
   },
   {
    "duration": 15,
    "start_time": "2022-06-16T21:56:10.575Z"
   },
   {
    "duration": 17,
    "start_time": "2022-06-16T21:57:14.729Z"
   },
   {
    "duration": 16,
    "start_time": "2022-06-16T21:57:20.187Z"
   },
   {
    "duration": 2,
    "start_time": "2022-06-16T21:57:23.919Z"
   },
   {
    "duration": 65,
    "start_time": "2022-06-16T21:57:24.079Z"
   },
   {
    "duration": 12,
    "start_time": "2022-06-16T21:57:24.275Z"
   },
   {
    "duration": 14,
    "start_time": "2022-06-16T21:57:24.422Z"
   },
   {
    "duration": 16,
    "start_time": "2022-06-16T21:57:25.438Z"
   },
   {
    "duration": 4,
    "start_time": "2022-06-16T21:57:26.349Z"
   },
   {
    "duration": 16,
    "start_time": "2022-06-16T21:57:27.079Z"
   },
   {
    "duration": 16,
    "start_time": "2022-06-16T21:57:27.446Z"
   },
   {
    "duration": 14,
    "start_time": "2022-06-16T21:59:06.050Z"
   },
   {
    "duration": 10,
    "start_time": "2022-06-16T21:59:09.207Z"
   },
   {
    "duration": 81,
    "start_time": "2022-06-16T21:59:09.503Z"
   },
   {
    "duration": 350,
    "start_time": "2022-06-16T21:59:23.305Z"
   },
   {
    "duration": 69,
    "start_time": "2022-06-16T21:59:23.658Z"
   },
   {
    "duration": 20,
    "start_time": "2022-06-16T21:59:23.729Z"
   },
   {
    "duration": 15,
    "start_time": "2022-06-16T21:59:23.751Z"
   },
   {
    "duration": 15,
    "start_time": "2022-06-16T21:59:23.768Z"
   },
   {
    "duration": 4,
    "start_time": "2022-06-16T21:59:23.784Z"
   },
   {
    "duration": 18,
    "start_time": "2022-06-16T21:59:23.789Z"
   },
   {
    "duration": 88,
    "start_time": "2022-06-16T21:59:23.809Z"
   },
   {
    "duration": 13,
    "start_time": "2022-06-16T21:59:28.710Z"
   },
   {
    "duration": 4,
    "start_time": "2022-06-16T22:00:09.956Z"
   },
   {
    "duration": 9,
    "start_time": "2022-06-16T22:00:15.003Z"
   },
   {
    "duration": 7,
    "start_time": "2022-06-16T22:00:40.075Z"
   },
   {
    "duration": 81,
    "start_time": "2022-06-16T22:00:44.331Z"
   },
   {
    "duration": 9,
    "start_time": "2022-06-16T22:00:47.040Z"
   },
   {
    "duration": 102,
    "start_time": "2022-06-16T22:00:47.512Z"
   },
   {
    "duration": 409,
    "start_time": "2022-06-16T22:00:52.837Z"
   },
   {
    "duration": 70,
    "start_time": "2022-06-16T22:00:53.248Z"
   },
   {
    "duration": 18,
    "start_time": "2022-06-16T22:00:53.320Z"
   },
   {
    "duration": 21,
    "start_time": "2022-06-16T22:00:53.340Z"
   },
   {
    "duration": 27,
    "start_time": "2022-06-16T22:00:53.363Z"
   },
   {
    "duration": 31,
    "start_time": "2022-06-16T22:00:53.392Z"
   },
   {
    "duration": 47,
    "start_time": "2022-06-16T22:00:53.424Z"
   },
   {
    "duration": 13,
    "start_time": "2022-06-16T22:00:53.472Z"
   },
   {
    "duration": 9,
    "start_time": "2022-06-16T22:00:58.275Z"
   },
   {
    "duration": 8,
    "start_time": "2022-06-16T22:01:33.405Z"
   },
   {
    "duration": 19,
    "start_time": "2022-06-16T22:01:52.875Z"
   },
   {
    "duration": 17,
    "start_time": "2022-06-16T22:03:35.087Z"
   },
   {
    "duration": 15,
    "start_time": "2022-06-16T22:03:44.373Z"
   },
   {
    "duration": 17,
    "start_time": "2022-06-16T22:03:50.577Z"
   },
   {
    "duration": 4,
    "start_time": "2022-06-16T22:05:43.450Z"
   },
   {
    "duration": 12,
    "start_time": "2022-06-16T22:05:52.841Z"
   },
   {
    "duration": 4,
    "start_time": "2022-06-16T22:06:06.386Z"
   },
   {
    "duration": 19,
    "start_time": "2022-06-16T22:06:55.652Z"
   },
   {
    "duration": 61,
    "start_time": "2022-06-16T22:07:26.675Z"
   },
   {
    "duration": 16,
    "start_time": "2022-06-16T22:07:59.816Z"
   },
   {
    "duration": 7,
    "start_time": "2022-06-16T22:08:31.277Z"
   },
   {
    "duration": 20,
    "start_time": "2022-06-16T22:11:44.975Z"
   },
   {
    "duration": 24,
    "start_time": "2022-06-16T22:12:01.509Z"
   },
   {
    "duration": 30,
    "start_time": "2022-06-16T22:12:20.061Z"
   },
   {
    "duration": 33,
    "start_time": "2022-06-16T22:12:23.012Z"
   },
   {
    "duration": 37,
    "start_time": "2022-06-16T22:12:27.324Z"
   },
   {
    "duration": 42,
    "start_time": "2022-06-16T22:12:37.499Z"
   },
   {
    "duration": 28,
    "start_time": "2022-06-16T22:12:57.890Z"
   },
   {
    "duration": 6,
    "start_time": "2022-06-16T22:14:02.475Z"
   },
   {
    "duration": 8,
    "start_time": "2022-06-16T22:19:47.155Z"
   },
   {
    "duration": 17,
    "start_time": "2022-06-16T22:20:33.919Z"
   },
   {
    "duration": 6,
    "start_time": "2022-06-16T22:20:45.791Z"
   },
   {
    "duration": 6,
    "start_time": "2022-06-16T22:21:07.156Z"
   },
   {
    "duration": 6,
    "start_time": "2022-06-16T22:22:42.678Z"
   },
   {
    "duration": 6,
    "start_time": "2022-06-16T22:22:47.859Z"
   },
   {
    "duration": 5,
    "start_time": "2022-06-16T22:23:10.235Z"
   },
   {
    "duration": 4,
    "start_time": "2022-06-16T22:23:38.616Z"
   },
   {
    "duration": 4,
    "start_time": "2022-06-16T22:24:20.157Z"
   },
   {
    "duration": 5,
    "start_time": "2022-06-16T22:24:52.332Z"
   },
   {
    "duration": 5,
    "start_time": "2022-06-16T22:25:22.209Z"
   },
   {
    "duration": 5,
    "start_time": "2022-06-16T22:25:29.040Z"
   },
   {
    "duration": 4,
    "start_time": "2022-06-16T22:25:44.631Z"
   },
   {
    "duration": 5,
    "start_time": "2022-06-16T22:26:06.310Z"
   },
   {
    "duration": 30,
    "start_time": "2022-06-16T22:46:15.977Z"
   },
   {
    "duration": 28,
    "start_time": "2022-06-16T22:48:23.232Z"
   },
   {
    "duration": 27,
    "start_time": "2022-06-16T22:48:38.423Z"
   },
   {
    "duration": 24,
    "start_time": "2022-06-16T22:49:11.820Z"
   },
   {
    "duration": 36,
    "start_time": "2022-06-16T22:49:35.298Z"
   },
   {
    "duration": 25,
    "start_time": "2022-06-16T22:50:08.955Z"
   },
   {
    "duration": 71,
    "start_time": "2022-06-17T02:29:13.262Z"
   },
   {
    "duration": 421,
    "start_time": "2022-06-17T02:29:19.968Z"
   },
   {
    "duration": 381,
    "start_time": "2022-06-17T02:29:20.391Z"
   },
   {
    "duration": 21,
    "start_time": "2022-06-17T02:29:20.775Z"
   },
   {
    "duration": 19,
    "start_time": "2022-06-17T02:29:20.799Z"
   },
   {
    "duration": 57,
    "start_time": "2022-06-17T02:29:20.820Z"
   },
   {
    "duration": 5,
    "start_time": "2022-06-17T02:29:20.879Z"
   },
   {
    "duration": 29,
    "start_time": "2022-06-17T02:29:20.886Z"
   },
   {
    "duration": 41,
    "start_time": "2022-06-17T02:29:20.917Z"
   },
   {
    "duration": 17,
    "start_time": "2022-06-17T02:29:20.962Z"
   },
   {
    "duration": 30,
    "start_time": "2022-06-17T02:29:20.981Z"
   },
   {
    "duration": 44,
    "start_time": "2022-06-17T02:29:21.013Z"
   },
   {
    "duration": 28,
    "start_time": "2022-06-17T02:29:21.066Z"
   },
   {
    "duration": 6,
    "start_time": "2022-06-17T02:29:21.095Z"
   },
   {
    "duration": 31,
    "start_time": "2022-06-17T02:29:21.103Z"
   },
   {
    "duration": 41,
    "start_time": "2022-06-17T02:29:21.136Z"
   },
   {
    "duration": 25,
    "start_time": "2022-06-17T02:29:21.178Z"
   },
   {
    "duration": 14,
    "start_time": "2022-06-17T02:29:21.205Z"
   },
   {
    "duration": 36,
    "start_time": "2022-06-17T02:29:21.221Z"
   },
   {
    "duration": 30,
    "start_time": "2022-06-17T02:29:21.259Z"
   },
   {
    "duration": 15,
    "start_time": "2022-06-17T02:29:21.291Z"
   },
   {
    "duration": 59,
    "start_time": "2022-06-17T02:29:21.309Z"
   },
   {
    "duration": 86,
    "start_time": "2022-06-17T02:29:21.370Z"
   },
   {
    "duration": 18,
    "start_time": "2022-06-17T02:29:21.460Z"
   },
   {
    "duration": 109,
    "start_time": "2022-06-17T02:36:32.038Z"
   },
   {
    "duration": 46,
    "start_time": "2022-06-17T02:36:40.421Z"
   },
   {
    "duration": 7,
    "start_time": "2022-06-17T02:41:42.302Z"
   },
   {
    "duration": 18,
    "start_time": "2022-06-17T02:41:58.386Z"
   },
   {
    "duration": 6,
    "start_time": "2022-06-17T02:43:12.385Z"
   },
   {
    "duration": 40,
    "start_time": "2022-06-17T02:43:42.181Z"
   },
   {
    "duration": 38,
    "start_time": "2022-06-17T02:44:16.504Z"
   },
   {
    "duration": 23,
    "start_time": "2022-06-17T02:44:25.772Z"
   },
   {
    "duration": 11,
    "start_time": "2022-06-17T02:46:01.656Z"
   },
   {
    "duration": 24,
    "start_time": "2022-06-17T02:47:38.763Z"
   },
   {
    "duration": 10,
    "start_time": "2022-06-17T02:48:24.754Z"
   },
   {
    "duration": 13,
    "start_time": "2022-06-17T02:51:16.097Z"
   },
   {
    "duration": 3,
    "start_time": "2022-06-17T02:51:23.872Z"
   },
   {
    "duration": 50,
    "start_time": "2022-06-17T02:58:37.062Z"
   },
   {
    "duration": 17,
    "start_time": "2022-06-17T02:58:39.259Z"
   },
   {
    "duration": 36,
    "start_time": "2022-06-17T03:00:34.367Z"
   },
   {
    "duration": 44,
    "start_time": "2022-06-17T03:01:01.641Z"
   },
   {
    "duration": 6,
    "start_time": "2022-06-17T03:01:02.477Z"
   },
   {
    "duration": 210,
    "start_time": "2022-06-17T03:06:47.568Z"
   },
   {
    "duration": 440,
    "start_time": "2022-06-17T03:07:19.230Z"
   },
   {
    "duration": 83,
    "start_time": "2022-06-17T03:07:19.672Z"
   },
   {
    "duration": 27,
    "start_time": "2022-06-17T03:07:19.775Z"
   },
   {
    "duration": 15,
    "start_time": "2022-06-17T03:07:19.805Z"
   },
   {
    "duration": 29,
    "start_time": "2022-06-17T03:07:19.822Z"
   },
   {
    "duration": 6,
    "start_time": "2022-06-17T03:07:19.855Z"
   },
   {
    "duration": 29,
    "start_time": "2022-06-17T03:07:19.863Z"
   },
   {
    "duration": 24,
    "start_time": "2022-06-17T03:07:19.895Z"
   },
   {
    "duration": 27,
    "start_time": "2022-06-17T03:07:19.921Z"
   },
   {
    "duration": 40,
    "start_time": "2022-06-17T03:07:19.951Z"
   },
   {
    "duration": 30,
    "start_time": "2022-06-17T03:07:19.993Z"
   },
   {
    "duration": 27,
    "start_time": "2022-06-17T03:07:20.025Z"
   },
   {
    "duration": 17,
    "start_time": "2022-06-17T03:07:20.056Z"
   },
   {
    "duration": 8,
    "start_time": "2022-06-17T03:07:20.074Z"
   },
   {
    "duration": 6,
    "start_time": "2022-06-17T03:07:20.083Z"
   },
   {
    "duration": 8,
    "start_time": "2022-06-17T03:07:20.090Z"
   },
   {
    "duration": 6,
    "start_time": "2022-06-17T03:07:20.099Z"
   },
   {
    "duration": 37,
    "start_time": "2022-06-17T03:07:20.107Z"
   },
   {
    "duration": 16,
    "start_time": "2022-06-17T03:07:20.147Z"
   },
   {
    "duration": 18,
    "start_time": "2022-06-17T03:07:20.165Z"
   },
   {
    "duration": 5,
    "start_time": "2022-06-17T03:07:20.185Z"
   },
   {
    "duration": 6,
    "start_time": "2022-06-17T03:07:20.192Z"
   },
   {
    "duration": 9,
    "start_time": "2022-06-17T03:07:20.199Z"
   },
   {
    "duration": 24,
    "start_time": "2022-06-17T03:07:20.227Z"
   },
   {
    "duration": 10,
    "start_time": "2022-06-17T03:07:20.253Z"
   },
   {
    "duration": 13,
    "start_time": "2022-06-17T03:07:20.264Z"
   },
   {
    "duration": 5,
    "start_time": "2022-06-17T03:07:20.279Z"
   },
   {
    "duration": 11,
    "start_time": "2022-06-17T03:07:20.288Z"
   },
   {
    "duration": 69,
    "start_time": "2022-06-17T03:07:20.301Z"
   },
   {
    "duration": 11,
    "start_time": "2022-06-17T03:07:20.372Z"
   },
   {
    "duration": 109,
    "start_time": "2022-06-17T03:07:20.385Z"
   },
   {
    "duration": 23,
    "start_time": "2022-06-17T03:08:13.526Z"
   },
   {
    "duration": 31,
    "start_time": "2022-06-17T03:08:24.466Z"
   },
   {
    "duration": 296,
    "start_time": "2022-06-17T03:08:30.881Z"
   },
   {
    "duration": 807,
    "start_time": "2022-06-17T03:08:59.311Z"
   },
   {
    "duration": 4,
    "start_time": "2022-06-17T03:09:19.621Z"
   },
   {
    "duration": 12,
    "start_time": "2022-06-17T03:09:35.524Z"
   },
   {
    "duration": 5,
    "start_time": "2022-06-17T03:46:32.675Z"
   },
   {
    "duration": 15,
    "start_time": "2022-06-17T03:46:42.024Z"
   },
   {
    "duration": 4,
    "start_time": "2022-06-17T03:47:01.566Z"
   },
   {
    "duration": 9,
    "start_time": "2022-06-17T03:47:02.285Z"
   },
   {
    "duration": 18,
    "start_time": "2022-06-17T03:50:40.008Z"
   },
   {
    "duration": 4,
    "start_time": "2022-06-17T04:07:42.375Z"
   },
   {
    "duration": 18,
    "start_time": "2022-06-17T04:08:03.127Z"
   },
   {
    "duration": 5,
    "start_time": "2022-06-17T04:08:27.274Z"
   },
   {
    "duration": 9,
    "start_time": "2022-06-17T04:09:42.209Z"
   },
   {
    "duration": 24,
    "start_time": "2022-06-17T04:09:48.795Z"
   },
   {
    "duration": 18,
    "start_time": "2022-06-17T04:10:07.411Z"
   },
   {
    "duration": 7,
    "start_time": "2022-06-17T04:10:18.067Z"
   },
   {
    "duration": 5,
    "start_time": "2022-06-17T04:10:22.575Z"
   },
   {
    "duration": 17,
    "start_time": "2022-06-17T04:10:22.866Z"
   },
   {
    "duration": 16,
    "start_time": "2022-06-17T04:10:23.170Z"
   },
   {
    "duration": 397,
    "start_time": "2022-06-18T04:06:45.189Z"
   },
   {
    "duration": 289,
    "start_time": "2022-06-18T04:06:45.588Z"
   },
   {
    "duration": 25,
    "start_time": "2022-06-18T04:06:45.879Z"
   },
   {
    "duration": 18,
    "start_time": "2022-06-18T04:06:45.906Z"
   },
   {
    "duration": 14,
    "start_time": "2022-06-18T04:06:45.926Z"
   },
   {
    "duration": 9,
    "start_time": "2022-06-18T04:06:45.942Z"
   },
   {
    "duration": 17,
    "start_time": "2022-06-18T04:06:45.953Z"
   },
   {
    "duration": 38,
    "start_time": "2022-06-18T04:06:45.971Z"
   },
   {
    "duration": 3,
    "start_time": "2022-06-18T04:06:46.010Z"
   },
   {
    "duration": 20,
    "start_time": "2022-06-18T04:06:46.016Z"
   },
   {
    "duration": 33,
    "start_time": "2022-06-18T04:06:46.037Z"
   },
   {
    "duration": 38,
    "start_time": "2022-06-18T04:06:46.071Z"
   },
   {
    "duration": 27,
    "start_time": "2022-06-18T04:06:46.111Z"
   },
   {
    "duration": 34,
    "start_time": "2022-06-18T04:06:46.140Z"
   },
   {
    "duration": 40,
    "start_time": "2022-06-18T04:06:46.176Z"
   },
   {
    "duration": 24,
    "start_time": "2022-06-18T04:06:46.218Z"
   },
   {
    "duration": 30,
    "start_time": "2022-06-18T04:06:46.244Z"
   },
   {
    "duration": 44,
    "start_time": "2022-06-18T04:06:46.276Z"
   },
   {
    "duration": 15,
    "start_time": "2022-06-18T04:06:46.322Z"
   },
   {
    "duration": 40,
    "start_time": "2022-06-18T04:06:46.338Z"
   },
   {
    "duration": 18,
    "start_time": "2022-06-18T04:06:46.380Z"
   },
   {
    "duration": 14,
    "start_time": "2022-06-18T04:06:46.400Z"
   },
   {
    "duration": 13,
    "start_time": "2022-06-18T04:06:46.416Z"
   },
   {
    "duration": 40,
    "start_time": "2022-06-18T04:06:46.431Z"
   },
   {
    "duration": 7,
    "start_time": "2022-06-18T04:06:46.473Z"
   },
   {
    "duration": 17,
    "start_time": "2022-06-18T04:06:46.481Z"
   },
   {
    "duration": 32,
    "start_time": "2022-06-18T04:06:46.500Z"
   },
   {
    "duration": 8,
    "start_time": "2022-06-18T04:06:46.536Z"
   },
   {
    "duration": 23,
    "start_time": "2022-06-18T04:06:46.546Z"
   },
   {
    "duration": 29,
    "start_time": "2022-06-18T04:06:46.571Z"
   },
   {
    "duration": 23,
    "start_time": "2022-06-18T04:06:46.601Z"
   },
   {
    "duration": 18,
    "start_time": "2022-06-18T04:06:46.625Z"
   },
   {
    "duration": 14,
    "start_time": "2022-06-18T04:06:46.644Z"
   },
   {
    "duration": 28,
    "start_time": "2022-06-18T04:06:46.660Z"
   },
   {
    "duration": 16,
    "start_time": "2022-06-18T04:06:46.690Z"
   },
   {
    "duration": 18,
    "start_time": "2022-06-18T04:06:46.707Z"
   },
   {
    "duration": 6,
    "start_time": "2022-06-18T04:07:07.935Z"
   },
   {
    "duration": 5,
    "start_time": "2022-06-18T04:20:50.048Z"
   },
   {
    "duration": 9,
    "start_time": "2022-06-18T04:21:59.124Z"
   },
   {
    "duration": 15,
    "start_time": "2022-06-18T04:22:17.967Z"
   },
   {
    "duration": 11,
    "start_time": "2022-06-18T05:02:19.832Z"
   },
   {
    "duration": 14,
    "start_time": "2022-06-18T05:02:29.933Z"
   },
   {
    "duration": 17,
    "start_time": "2022-06-18T05:02:51.829Z"
   },
   {
    "duration": 22,
    "start_time": "2022-06-18T05:08:39.041Z"
   },
   {
    "duration": 13,
    "start_time": "2022-06-18T05:08:56.693Z"
   },
   {
    "duration": 16,
    "start_time": "2022-06-18T05:09:19.301Z"
   },
   {
    "duration": 21,
    "start_time": "2022-06-18T05:12:42.087Z"
   },
   {
    "duration": 19,
    "start_time": "2022-06-18T05:12:44.613Z"
   },
   {
    "duration": 23,
    "start_time": "2022-06-18T05:12:46.555Z"
   },
   {
    "duration": 77,
    "start_time": "2022-06-18T05:14:10.264Z"
   },
   {
    "duration": 18,
    "start_time": "2022-06-18T05:14:17.725Z"
   },
   {
    "duration": 22,
    "start_time": "2022-06-18T05:16:24.292Z"
   },
   {
    "duration": 18,
    "start_time": "2022-06-18T05:16:47.401Z"
   },
   {
    "duration": 18,
    "start_time": "2022-06-18T05:52:10.532Z"
   },
   {
    "duration": 17,
    "start_time": "2022-06-18T05:53:23.367Z"
   },
   {
    "duration": 6,
    "start_time": "2022-06-18T06:07:48.169Z"
   },
   {
    "duration": 16,
    "start_time": "2022-06-18T06:11:08.091Z"
   },
   {
    "duration": 63,
    "start_time": "2022-06-20T05:07:41.621Z"
   },
   {
    "duration": 11,
    "start_time": "2022-06-20T05:07:50.120Z"
   },
   {
    "duration": 489,
    "start_time": "2022-06-20T05:07:56.050Z"
   },
   {
    "duration": 349,
    "start_time": "2022-06-20T05:07:56.545Z"
   },
   {
    "duration": 28,
    "start_time": "2022-06-20T05:07:56.896Z"
   },
   {
    "duration": 23,
    "start_time": "2022-06-20T05:07:56.929Z"
   },
   {
    "duration": 18,
    "start_time": "2022-06-20T05:07:56.954Z"
   },
   {
    "duration": 6,
    "start_time": "2022-06-20T05:07:56.974Z"
   },
   {
    "duration": 24,
    "start_time": "2022-06-20T05:07:56.982Z"
   },
   {
    "duration": 8,
    "start_time": "2022-06-20T05:07:57.026Z"
   },
   {
    "duration": 42,
    "start_time": "2022-06-20T05:07:57.037Z"
   },
   {
    "duration": 35,
    "start_time": "2022-06-20T05:07:57.084Z"
   },
   {
    "duration": 14,
    "start_time": "2022-06-20T05:07:57.121Z"
   },
   {
    "duration": 50,
    "start_time": "2022-06-20T05:07:57.137Z"
   },
   {
    "duration": 33,
    "start_time": "2022-06-20T05:07:57.189Z"
   },
   {
    "duration": 26,
    "start_time": "2022-06-20T05:07:57.223Z"
   },
   {
    "duration": 16,
    "start_time": "2022-06-20T05:07:57.251Z"
   },
   {
    "duration": 12,
    "start_time": "2022-06-20T05:07:57.269Z"
   },
   {
    "duration": 6,
    "start_time": "2022-06-20T05:07:57.282Z"
   },
   {
    "duration": 10,
    "start_time": "2022-06-20T05:07:57.290Z"
   },
   {
    "duration": 18,
    "start_time": "2022-06-20T05:07:57.301Z"
   },
   {
    "duration": 34,
    "start_time": "2022-06-20T05:07:57.325Z"
   },
   {
    "duration": 7,
    "start_time": "2022-06-20T05:07:57.361Z"
   },
   {
    "duration": 34,
    "start_time": "2022-06-20T05:07:57.370Z"
   },
   {
    "duration": 6,
    "start_time": "2022-06-20T05:07:57.406Z"
   },
   {
    "duration": 15,
    "start_time": "2022-06-20T05:07:57.413Z"
   },
   {
    "duration": 25,
    "start_time": "2022-06-20T05:07:57.433Z"
   },
   {
    "duration": 39,
    "start_time": "2022-06-20T05:07:57.460Z"
   },
   {
    "duration": 17,
    "start_time": "2022-06-20T05:07:57.502Z"
   },
   {
    "duration": 25,
    "start_time": "2022-06-20T05:07:57.523Z"
   },
   {
    "duration": 11,
    "start_time": "2022-06-20T05:07:57.550Z"
   },
   {
    "duration": 8,
    "start_time": "2022-06-20T05:07:57.564Z"
   },
   {
    "duration": 19,
    "start_time": "2022-06-20T05:07:57.574Z"
   },
   {
    "duration": 12,
    "start_time": "2022-06-20T05:07:57.594Z"
   },
   {
    "duration": 15,
    "start_time": "2022-06-20T05:07:57.609Z"
   },
   {
    "duration": 24,
    "start_time": "2022-06-20T05:07:57.632Z"
   },
   {
    "duration": 6,
    "start_time": "2022-06-20T05:07:57.658Z"
   },
   {
    "duration": 18,
    "start_time": "2022-06-20T05:07:57.667Z"
   },
   {
    "duration": 11,
    "start_time": "2022-06-20T05:07:57.687Z"
   },
   {
    "duration": 6,
    "start_time": "2022-06-20T05:07:57.700Z"
   },
   {
    "duration": 25,
    "start_time": "2022-06-20T05:07:57.707Z"
   },
   {
    "duration": 21,
    "start_time": "2022-06-20T05:07:57.736Z"
   },
   {
    "duration": 17,
    "start_time": "2022-06-20T05:07:57.759Z"
   },
   {
    "duration": 17,
    "start_time": "2022-06-20T05:07:57.777Z"
   },
   {
    "duration": 48,
    "start_time": "2022-06-20T05:07:57.796Z"
   },
   {
    "duration": 17,
    "start_time": "2022-06-20T05:07:57.846Z"
   },
   {
    "duration": 4,
    "start_time": "2022-06-20T05:09:06.656Z"
   },
   {
    "duration": 9,
    "start_time": "2022-06-20T12:57:13.316Z"
   },
   {
    "duration": 3,
    "start_time": "2022-06-20T12:57:51.221Z"
   },
   {
    "duration": 3,
    "start_time": "2022-06-20T12:58:04.307Z"
   },
   {
    "duration": 4,
    "start_time": "2022-06-20T12:58:13.716Z"
   },
   {
    "duration": 83,
    "start_time": "2022-06-20T13:03:44.030Z"
   },
   {
    "duration": 89,
    "start_time": "2022-06-20T13:03:52.129Z"
   },
   {
    "duration": 3,
    "start_time": "2022-06-20T13:06:32.265Z"
   },
   {
    "duration": 48,
    "start_time": "2022-06-20T13:18:28.988Z"
   },
   {
    "duration": 7,
    "start_time": "2022-06-20T13:18:29.957Z"
   },
   {
    "duration": 7,
    "start_time": "2022-06-20T13:18:33.957Z"
   },
   {
    "duration": 436,
    "start_time": "2022-06-20T13:18:39.643Z"
   },
   {
    "duration": 130,
    "start_time": "2022-06-20T13:18:40.081Z"
   },
   {
    "duration": 22,
    "start_time": "2022-06-20T13:18:40.213Z"
   },
   {
    "duration": 17,
    "start_time": "2022-06-20T13:18:40.238Z"
   },
   {
    "duration": 7,
    "start_time": "2022-06-20T13:18:40.257Z"
   },
   {
    "duration": 15,
    "start_time": "2022-06-20T13:18:40.265Z"
   },
   {
    "duration": 16,
    "start_time": "2022-06-20T13:18:40.282Z"
   },
   {
    "duration": 4,
    "start_time": "2022-06-20T13:18:40.300Z"
   },
   {
    "duration": 23,
    "start_time": "2022-06-20T13:18:40.305Z"
   },
   {
    "duration": 48,
    "start_time": "2022-06-20T13:18:40.332Z"
   },
   {
    "duration": 4,
    "start_time": "2022-06-20T13:18:40.381Z"
   },
   {
    "duration": 24,
    "start_time": "2022-06-20T13:18:40.386Z"
   },
   {
    "duration": 31,
    "start_time": "2022-06-20T13:18:40.412Z"
   },
   {
    "duration": 18,
    "start_time": "2022-06-20T13:18:40.454Z"
   },
   {
    "duration": 5,
    "start_time": "2022-06-20T13:18:40.474Z"
   },
   {
    "duration": 9,
    "start_time": "2022-06-20T13:18:40.480Z"
   },
   {
    "duration": 7,
    "start_time": "2022-06-20T13:18:40.490Z"
   },
   {
    "duration": 10,
    "start_time": "2022-06-20T13:18:40.498Z"
   },
   {
    "duration": 6,
    "start_time": "2022-06-20T13:18:40.509Z"
   },
   {
    "duration": 43,
    "start_time": "2022-06-20T13:18:40.517Z"
   },
   {
    "duration": 5,
    "start_time": "2022-06-20T13:18:40.562Z"
   },
   {
    "duration": 18,
    "start_time": "2022-06-20T13:18:40.569Z"
   },
   {
    "duration": 5,
    "start_time": "2022-06-20T13:18:40.588Z"
   },
   {
    "duration": 9,
    "start_time": "2022-06-20T13:18:40.595Z"
   },
   {
    "duration": 17,
    "start_time": "2022-06-20T13:18:40.606Z"
   },
   {
    "duration": 36,
    "start_time": "2022-06-20T13:18:40.624Z"
   },
   {
    "duration": 10,
    "start_time": "2022-06-20T13:18:40.662Z"
   },
   {
    "duration": 13,
    "start_time": "2022-06-20T13:18:40.675Z"
   },
   {
    "duration": 7,
    "start_time": "2022-06-20T13:18:40.689Z"
   },
   {
    "duration": 8,
    "start_time": "2022-06-20T13:18:40.697Z"
   },
   {
    "duration": 13,
    "start_time": "2022-06-20T13:18:40.707Z"
   },
   {
    "duration": 9,
    "start_time": "2022-06-20T13:18:40.721Z"
   },
   {
    "duration": 22,
    "start_time": "2022-06-20T13:18:40.732Z"
   },
   {
    "duration": 5,
    "start_time": "2022-06-20T13:18:40.755Z"
   },
   {
    "duration": 7,
    "start_time": "2022-06-20T13:18:40.761Z"
   },
   {
    "duration": 11,
    "start_time": "2022-06-20T13:18:40.770Z"
   },
   {
    "duration": 11,
    "start_time": "2022-06-20T13:18:40.782Z"
   },
   {
    "duration": 6,
    "start_time": "2022-06-20T13:18:40.795Z"
   },
   {
    "duration": 12,
    "start_time": "2022-06-20T13:18:40.803Z"
   },
   {
    "duration": 38,
    "start_time": "2022-06-20T13:18:40.816Z"
   },
   {
    "duration": 18,
    "start_time": "2022-06-20T13:18:40.855Z"
   },
   {
    "duration": 15,
    "start_time": "2022-06-20T13:18:40.875Z"
   },
   {
    "duration": 15,
    "start_time": "2022-06-20T13:18:40.892Z"
   },
   {
    "duration": 16,
    "start_time": "2022-06-20T13:18:40.908Z"
   },
   {
    "duration": 4,
    "start_time": "2022-06-20T13:32:22.507Z"
   },
   {
    "duration": 396,
    "start_time": "2022-06-20T13:32:27.761Z"
   },
   {
    "duration": 70,
    "start_time": "2022-06-20T13:32:28.159Z"
   },
   {
    "duration": 19,
    "start_time": "2022-06-20T13:32:28.231Z"
   },
   {
    "duration": 15,
    "start_time": "2022-06-20T13:32:28.253Z"
   },
   {
    "duration": 4,
    "start_time": "2022-06-20T13:32:28.270Z"
   },
   {
    "duration": 11,
    "start_time": "2022-06-20T13:32:28.276Z"
   },
   {
    "duration": 24,
    "start_time": "2022-06-20T13:32:28.289Z"
   },
   {
    "duration": 4,
    "start_time": "2022-06-20T13:32:28.315Z"
   },
   {
    "duration": 51,
    "start_time": "2022-06-20T13:32:28.322Z"
   },
   {
    "duration": 26,
    "start_time": "2022-06-20T13:32:28.377Z"
   },
   {
    "duration": 4,
    "start_time": "2022-06-20T13:32:28.405Z"
   },
   {
    "duration": 7,
    "start_time": "2022-06-20T13:32:28.411Z"
   },
   {
    "duration": 42,
    "start_time": "2022-06-20T13:32:28.420Z"
   },
   {
    "duration": 35,
    "start_time": "2022-06-20T13:32:28.464Z"
   },
   {
    "duration": 21,
    "start_time": "2022-06-20T13:32:28.503Z"
   },
   {
    "duration": 6,
    "start_time": "2022-06-20T13:32:28.526Z"
   },
   {
    "duration": 5,
    "start_time": "2022-06-20T13:32:28.554Z"
   },
   {
    "duration": 4,
    "start_time": "2022-06-20T13:32:28.561Z"
   },
   {
    "duration": 8,
    "start_time": "2022-06-20T13:32:28.566Z"
   },
   {
    "duration": 7,
    "start_time": "2022-06-20T13:32:28.576Z"
   },
   {
    "duration": 19,
    "start_time": "2022-06-20T13:32:28.584Z"
   },
   {
    "duration": 5,
    "start_time": "2022-06-20T13:32:28.604Z"
   },
   {
    "duration": 22,
    "start_time": "2022-06-20T13:32:28.610Z"
   },
   {
    "duration": 23,
    "start_time": "2022-06-20T13:32:28.633Z"
   },
   {
    "duration": 7,
    "start_time": "2022-06-20T13:32:28.657Z"
   },
   {
    "duration": 14,
    "start_time": "2022-06-20T13:32:28.666Z"
   },
   {
    "duration": 22,
    "start_time": "2022-06-20T13:32:28.681Z"
   },
   {
    "duration": 6,
    "start_time": "2022-06-20T13:32:28.707Z"
   },
   {
    "duration": 9,
    "start_time": "2022-06-20T13:32:28.714Z"
   },
   {
    "duration": 31,
    "start_time": "2022-06-20T13:32:28.725Z"
   },
   {
    "duration": 9,
    "start_time": "2022-06-20T13:32:28.758Z"
   },
   {
    "duration": 16,
    "start_time": "2022-06-20T13:32:28.768Z"
   },
   {
    "duration": 9,
    "start_time": "2022-06-20T13:32:28.786Z"
   },
   {
    "duration": 11,
    "start_time": "2022-06-20T13:32:28.798Z"
   },
   {
    "duration": 13,
    "start_time": "2022-06-20T13:32:28.811Z"
   },
   {
    "duration": 8,
    "start_time": "2022-06-20T13:32:28.825Z"
   },
   {
    "duration": 21,
    "start_time": "2022-06-20T13:32:28.834Z"
   },
   {
    "duration": 16,
    "start_time": "2022-06-20T13:32:28.856Z"
   },
   {
    "duration": 5,
    "start_time": "2022-06-20T13:32:28.873Z"
   },
   {
    "duration": 12,
    "start_time": "2022-06-20T13:32:28.880Z"
   },
   {
    "duration": 15,
    "start_time": "2022-06-20T13:32:28.893Z"
   },
   {
    "duration": 19,
    "start_time": "2022-06-20T13:32:28.909Z"
   },
   {
    "duration": 24,
    "start_time": "2022-06-20T13:32:28.929Z"
   },
   {
    "duration": 13,
    "start_time": "2022-06-20T13:32:28.955Z"
   },
   {
    "duration": 14,
    "start_time": "2022-06-20T13:32:28.969Z"
   },
   {
    "duration": 60,
    "start_time": "2022-06-20T19:21:02.347Z"
   },
   {
    "duration": 412,
    "start_time": "2022-06-20T19:21:08.449Z"
   },
   {
    "duration": 346,
    "start_time": "2022-06-20T19:21:08.864Z"
   },
   {
    "duration": 28,
    "start_time": "2022-06-20T19:21:09.213Z"
   },
   {
    "duration": 19,
    "start_time": "2022-06-20T19:21:09.243Z"
   },
   {
    "duration": 4,
    "start_time": "2022-06-20T19:21:09.264Z"
   },
   {
    "duration": 10,
    "start_time": "2022-06-20T19:21:09.270Z"
   },
   {
    "duration": 36,
    "start_time": "2022-06-20T19:21:09.282Z"
   },
   {
    "duration": 6,
    "start_time": "2022-06-20T19:21:09.320Z"
   },
   {
    "duration": 25,
    "start_time": "2022-06-20T19:21:09.329Z"
   },
   {
    "duration": 46,
    "start_time": "2022-06-20T19:21:09.356Z"
   },
   {
    "duration": 5,
    "start_time": "2022-06-20T19:21:09.406Z"
   },
   {
    "duration": 9,
    "start_time": "2022-06-20T19:21:09.413Z"
   },
   {
    "duration": 20,
    "start_time": "2022-06-20T19:21:09.425Z"
   },
   {
    "duration": 56,
    "start_time": "2022-06-20T19:21:09.449Z"
   },
   {
    "duration": 28,
    "start_time": "2022-06-20T19:21:09.507Z"
   },
   {
    "duration": 7,
    "start_time": "2022-06-20T19:21:09.538Z"
   },
   {
    "duration": 11,
    "start_time": "2022-06-20T19:21:09.547Z"
   },
   {
    "duration": 7,
    "start_time": "2022-06-20T19:21:09.560Z"
   },
   {
    "duration": 31,
    "start_time": "2022-06-20T19:21:09.569Z"
   },
   {
    "duration": 25,
    "start_time": "2022-06-20T19:21:09.603Z"
   },
   {
    "duration": 28,
    "start_time": "2022-06-20T19:21:09.630Z"
   },
   {
    "duration": 6,
    "start_time": "2022-06-20T19:21:09.660Z"
   },
   {
    "duration": 18,
    "start_time": "2022-06-20T19:21:09.667Z"
   },
   {
    "duration": 12,
    "start_time": "2022-06-20T19:21:09.687Z"
   },
   {
    "duration": 20,
    "start_time": "2022-06-20T19:21:09.701Z"
   },
   {
    "duration": 7,
    "start_time": "2022-06-20T19:21:09.723Z"
   },
   {
    "duration": 19,
    "start_time": "2022-06-20T19:21:09.732Z"
   },
   {
    "duration": 7,
    "start_time": "2022-06-20T19:21:09.752Z"
   },
   {
    "duration": 39,
    "start_time": "2022-06-20T19:21:09.761Z"
   },
   {
    "duration": 21,
    "start_time": "2022-06-20T19:21:09.802Z"
   },
   {
    "duration": 7,
    "start_time": "2022-06-20T19:21:09.825Z"
   },
   {
    "duration": 11,
    "start_time": "2022-06-20T19:21:09.835Z"
   },
   {
    "duration": 6,
    "start_time": "2022-06-20T19:21:09.847Z"
   },
   {
    "duration": 11,
    "start_time": "2022-06-20T19:21:09.855Z"
   },
   {
    "duration": 7,
    "start_time": "2022-06-20T19:21:09.868Z"
   },
   {
    "duration": 38,
    "start_time": "2022-06-20T19:21:09.877Z"
   },
   {
    "duration": 15,
    "start_time": "2022-06-20T19:21:09.917Z"
   },
   {
    "duration": 11,
    "start_time": "2022-06-20T19:21:09.934Z"
   },
   {
    "duration": 5,
    "start_time": "2022-06-20T19:21:09.947Z"
   },
   {
    "duration": 11,
    "start_time": "2022-06-20T19:21:09.953Z"
   },
   {
    "duration": 26,
    "start_time": "2022-06-20T19:21:09.968Z"
   },
   {
    "duration": 27,
    "start_time": "2022-06-20T19:21:09.996Z"
   },
   {
    "duration": 27,
    "start_time": "2022-06-20T19:21:10.025Z"
   },
   {
    "duration": 59,
    "start_time": "2022-06-20T19:21:10.055Z"
   },
   {
    "duration": 18,
    "start_time": "2022-06-20T19:21:10.116Z"
   },
   {
    "duration": 1099,
    "start_time": "2022-06-20T19:21:58.754Z"
   },
   {
    "duration": 978,
    "start_time": "2022-06-20T19:22:03.113Z"
   },
   {
    "duration": 437,
    "start_time": "2022-06-20T19:22:11.457Z"
   },
   {
    "duration": 89,
    "start_time": "2022-06-20T19:22:11.896Z"
   },
   {
    "duration": 29,
    "start_time": "2022-06-20T19:22:11.987Z"
   },
   {
    "duration": 35,
    "start_time": "2022-06-20T19:22:12.019Z"
   },
   {
    "duration": 10,
    "start_time": "2022-06-20T19:22:12.057Z"
   },
   {
    "duration": 11,
    "start_time": "2022-06-20T19:22:12.069Z"
   },
   {
    "duration": 30,
    "start_time": "2022-06-20T19:22:12.083Z"
   },
   {
    "duration": 20,
    "start_time": "2022-06-20T19:22:12.115Z"
   },
   {
    "duration": 40,
    "start_time": "2022-06-20T19:22:12.137Z"
   },
   {
    "duration": 47,
    "start_time": "2022-06-20T19:22:12.183Z"
   },
   {
    "duration": 5,
    "start_time": "2022-06-20T19:22:12.232Z"
   },
   {
    "duration": 8,
    "start_time": "2022-06-20T19:22:12.240Z"
   },
   {
    "duration": 26,
    "start_time": "2022-06-20T19:22:12.251Z"
   },
   {
    "duration": 58,
    "start_time": "2022-06-20T19:22:12.293Z"
   },
   {
    "duration": 6,
    "start_time": "2022-06-20T19:22:12.353Z"
   },
   {
    "duration": 59,
    "start_time": "2022-06-20T19:22:12.361Z"
   },
   {
    "duration": 6,
    "start_time": "2022-06-20T19:22:12.422Z"
   },
   {
    "duration": 23,
    "start_time": "2022-06-20T19:22:12.431Z"
   },
   {
    "duration": 34,
    "start_time": "2022-06-20T19:22:12.456Z"
   },
   {
    "duration": 50,
    "start_time": "2022-06-20T19:22:12.493Z"
   },
   {
    "duration": 22,
    "start_time": "2022-06-20T19:22:12.545Z"
   },
   {
    "duration": 38,
    "start_time": "2022-06-20T19:22:12.569Z"
   },
   {
    "duration": 12,
    "start_time": "2022-06-20T19:22:12.609Z"
   },
   {
    "duration": 38,
    "start_time": "2022-06-20T19:22:12.623Z"
   },
   {
    "duration": 7,
    "start_time": "2022-06-20T19:22:12.663Z"
   },
   {
    "duration": 22,
    "start_time": "2022-06-20T19:22:12.673Z"
   },
   {
    "duration": 32,
    "start_time": "2022-06-20T19:22:12.697Z"
   },
   {
    "duration": 18,
    "start_time": "2022-06-20T19:22:12.733Z"
   },
   {
    "duration": 8,
    "start_time": "2022-06-20T19:22:12.753Z"
   },
   {
    "duration": 26,
    "start_time": "2022-06-20T19:22:12.762Z"
   },
   {
    "duration": 25,
    "start_time": "2022-06-20T19:22:12.791Z"
   },
   {
    "duration": 14,
    "start_time": "2022-06-20T19:22:12.818Z"
   },
   {
    "duration": 19,
    "start_time": "2022-06-20T19:22:12.834Z"
   },
   {
    "duration": 11,
    "start_time": "2022-06-20T19:22:12.854Z"
   },
   {
    "duration": 20,
    "start_time": "2022-06-20T19:22:12.867Z"
   },
   {
    "duration": 33,
    "start_time": "2022-06-20T19:22:12.890Z"
   },
   {
    "duration": 37,
    "start_time": "2022-06-20T19:22:12.927Z"
   },
   {
    "duration": 20,
    "start_time": "2022-06-20T19:22:12.966Z"
   },
   {
    "duration": 16,
    "start_time": "2022-06-20T19:22:12.988Z"
   },
   {
    "duration": 23,
    "start_time": "2022-06-20T19:22:13.006Z"
   },
   {
    "duration": 24,
    "start_time": "2022-06-20T19:22:13.030Z"
   },
   {
    "duration": 29,
    "start_time": "2022-06-20T19:22:13.056Z"
   },
   {
    "duration": 49,
    "start_time": "2022-06-20T19:22:13.087Z"
   },
   {
    "duration": 28,
    "start_time": "2022-06-20T19:22:13.139Z"
   },
   {
    "duration": 31,
    "start_time": "2022-06-20T19:22:13.169Z"
   },
   {
    "duration": 28,
    "start_time": "2022-06-20T19:22:13.202Z"
   },
   {
    "duration": 7,
    "start_time": "2022-06-20T19:35:35.288Z"
   },
   {
    "duration": 56,
    "start_time": "2022-06-20T19:36:22.252Z"
   },
   {
    "duration": 24,
    "start_time": "2022-06-20T19:36:27.555Z"
   },
   {
    "duration": 15,
    "start_time": "2022-06-20T19:36:52.524Z"
   },
   {
    "duration": 90,
    "start_time": "2022-06-20T19:36:59.412Z"
   },
   {
    "duration": 18,
    "start_time": "2022-06-20T19:37:05.862Z"
   },
   {
    "duration": 14,
    "start_time": "2022-06-20T19:37:24.712Z"
   },
   {
    "duration": 432,
    "start_time": "2022-06-20T19:37:36.515Z"
   },
   {
    "duration": 82,
    "start_time": "2022-06-20T19:37:36.949Z"
   },
   {
    "duration": 21,
    "start_time": "2022-06-20T19:37:37.032Z"
   },
   {
    "duration": 16,
    "start_time": "2022-06-20T19:37:37.056Z"
   },
   {
    "duration": 24,
    "start_time": "2022-06-20T19:37:37.074Z"
   },
   {
    "duration": 14,
    "start_time": "2022-06-20T19:37:37.100Z"
   },
   {
    "duration": 19,
    "start_time": "2022-06-20T19:37:37.117Z"
   },
   {
    "duration": 4,
    "start_time": "2022-06-20T19:37:37.138Z"
   },
   {
    "duration": 28,
    "start_time": "2022-06-20T19:37:37.144Z"
   },
   {
    "duration": 33,
    "start_time": "2022-06-20T19:37:37.197Z"
   },
   {
    "duration": 4,
    "start_time": "2022-06-20T19:37:37.232Z"
   },
   {
    "duration": 6,
    "start_time": "2022-06-20T19:37:37.238Z"
   },
   {
    "duration": 19,
    "start_time": "2022-06-20T19:37:37.246Z"
   },
   {
    "duration": 60,
    "start_time": "2022-06-20T19:37:37.267Z"
   },
   {
    "duration": 6,
    "start_time": "2022-06-20T19:37:37.329Z"
   },
   {
    "duration": 19,
    "start_time": "2022-06-20T19:37:37.336Z"
   },
   {
    "duration": 5,
    "start_time": "2022-06-20T19:37:37.356Z"
   },
   {
    "duration": 5,
    "start_time": "2022-06-20T19:37:37.397Z"
   },
   {
    "duration": 20,
    "start_time": "2022-06-20T19:37:37.404Z"
   },
   {
    "duration": 13,
    "start_time": "2022-06-20T19:37:37.425Z"
   },
   {
    "duration": 7,
    "start_time": "2022-06-20T19:37:37.439Z"
   },
   {
    "duration": 19,
    "start_time": "2022-06-20T19:37:37.447Z"
   },
   {
    "duration": 30,
    "start_time": "2022-06-20T19:37:37.467Z"
   },
   {
    "duration": 27,
    "start_time": "2022-06-20T19:37:37.500Z"
   },
   {
    "duration": 6,
    "start_time": "2022-06-20T19:37:37.529Z"
   },
   {
    "duration": 5,
    "start_time": "2022-06-20T19:37:37.537Z"
   },
   {
    "duration": 10,
    "start_time": "2022-06-20T19:37:37.544Z"
   },
   {
    "duration": 39,
    "start_time": "2022-06-20T19:37:37.558Z"
   },
   {
    "duration": 9,
    "start_time": "2022-06-20T19:37:37.598Z"
   },
   {
    "duration": 18,
    "start_time": "2022-06-20T19:37:37.609Z"
   },
   {
    "duration": 9,
    "start_time": "2022-06-20T19:37:37.629Z"
   },
   {
    "duration": 5,
    "start_time": "2022-06-20T19:37:37.640Z"
   },
   {
    "duration": 12,
    "start_time": "2022-06-20T19:37:37.647Z"
   },
   {
    "duration": 8,
    "start_time": "2022-06-20T19:37:37.660Z"
   },
   {
    "duration": 28,
    "start_time": "2022-06-20T19:37:37.669Z"
   },
   {
    "duration": 7,
    "start_time": "2022-06-20T19:37:37.700Z"
   },
   {
    "duration": 19,
    "start_time": "2022-06-20T19:37:37.710Z"
   },
   {
    "duration": 20,
    "start_time": "2022-06-20T19:37:37.731Z"
   },
   {
    "duration": 17,
    "start_time": "2022-06-20T19:37:37.753Z"
   },
   {
    "duration": 8,
    "start_time": "2022-06-20T19:37:37.772Z"
   },
   {
    "duration": 12,
    "start_time": "2022-06-20T19:37:37.782Z"
   },
   {
    "duration": 21,
    "start_time": "2022-06-20T19:37:37.795Z"
   },
   {
    "duration": 20,
    "start_time": "2022-06-20T19:37:37.819Z"
   },
   {
    "duration": 16,
    "start_time": "2022-06-20T19:37:37.841Z"
   },
   {
    "duration": 37,
    "start_time": "2022-06-20T19:37:37.859Z"
   },
   {
    "duration": 22,
    "start_time": "2022-06-20T19:37:37.898Z"
   },
   {
    "duration": 3,
    "start_time": "2022-06-20T19:40:37.327Z"
   },
   {
    "duration": 5,
    "start_time": "2022-06-20T19:40:44.108Z"
   },
   {
    "duration": 4,
    "start_time": "2022-06-20T19:42:02.271Z"
   },
   {
    "duration": 384,
    "start_time": "2022-06-20T19:52:16.236Z"
   },
   {
    "duration": 82,
    "start_time": "2022-06-20T19:52:16.622Z"
   },
   {
    "duration": 24,
    "start_time": "2022-06-20T19:52:16.706Z"
   },
   {
    "duration": 15,
    "start_time": "2022-06-20T19:52:16.732Z"
   },
   {
    "duration": 3,
    "start_time": "2022-06-20T19:52:16.748Z"
   },
   {
    "duration": 8,
    "start_time": "2022-06-20T19:52:16.753Z"
   },
   {
    "duration": 44,
    "start_time": "2022-06-20T19:52:16.763Z"
   },
   {
    "duration": 4,
    "start_time": "2022-06-20T19:52:16.809Z"
   },
   {
    "duration": 21,
    "start_time": "2022-06-20T19:52:16.814Z"
   },
   {
    "duration": 32,
    "start_time": "2022-06-20T19:52:16.839Z"
   },
   {
    "duration": 3,
    "start_time": "2022-06-20T19:52:16.873Z"
   },
   {
    "duration": 30,
    "start_time": "2022-06-20T19:52:16.878Z"
   },
   {
    "duration": 21,
    "start_time": "2022-06-20T19:52:16.910Z"
   },
   {
    "duration": 32,
    "start_time": "2022-06-20T19:52:16.933Z"
   },
   {
    "duration": 5,
    "start_time": "2022-06-20T19:52:16.967Z"
   },
   {
    "duration": 35,
    "start_time": "2022-06-20T19:52:16.974Z"
   },
   {
    "duration": 5,
    "start_time": "2022-06-20T19:52:17.012Z"
   },
   {
    "duration": 8,
    "start_time": "2022-06-20T19:52:17.018Z"
   },
   {
    "duration": 20,
    "start_time": "2022-06-20T19:52:17.028Z"
   },
   {
    "duration": 3,
    "start_time": "2022-06-20T19:52:17.050Z"
   },
   {
    "duration": 7,
    "start_time": "2022-06-20T19:52:17.055Z"
   },
   {
    "duration": 38,
    "start_time": "2022-06-20T19:52:17.064Z"
   },
   {
    "duration": 11,
    "start_time": "2022-06-20T19:52:17.104Z"
   },
   {
    "duration": 20,
    "start_time": "2022-06-20T19:52:17.117Z"
   },
   {
    "duration": 6,
    "start_time": "2022-06-20T19:52:17.139Z"
   },
   {
    "duration": 20,
    "start_time": "2022-06-20T19:52:17.147Z"
   },
   {
    "duration": 31,
    "start_time": "2022-06-20T19:52:17.170Z"
   },
   {
    "duration": 16,
    "start_time": "2022-06-20T19:52:17.205Z"
   },
   {
    "duration": 8,
    "start_time": "2022-06-20T19:52:17.222Z"
   },
   {
    "duration": 18,
    "start_time": "2022-06-20T19:52:17.231Z"
   },
   {
    "duration": 6,
    "start_time": "2022-06-20T19:52:17.250Z"
   },
   {
    "duration": 16,
    "start_time": "2022-06-20T19:52:17.258Z"
   },
   {
    "duration": 23,
    "start_time": "2022-06-20T19:52:17.277Z"
   },
   {
    "duration": 20,
    "start_time": "2022-06-20T19:52:17.302Z"
   },
   {
    "duration": 7,
    "start_time": "2022-06-20T19:52:17.324Z"
   },
   {
    "duration": 11,
    "start_time": "2022-06-20T19:52:17.333Z"
   },
   {
    "duration": 9,
    "start_time": "2022-06-20T19:52:17.346Z"
   },
   {
    "duration": 11,
    "start_time": "2022-06-20T19:52:17.357Z"
   },
   {
    "duration": 10,
    "start_time": "2022-06-20T19:52:17.370Z"
   },
   {
    "duration": 32,
    "start_time": "2022-06-20T19:52:17.381Z"
   },
   {
    "duration": 16,
    "start_time": "2022-06-20T19:52:17.415Z"
   },
   {
    "duration": 10,
    "start_time": "2022-06-20T19:52:17.433Z"
   },
   {
    "duration": 10,
    "start_time": "2022-06-20T19:52:17.444Z"
   },
   {
    "duration": 12,
    "start_time": "2022-06-20T19:52:17.455Z"
   },
   {
    "duration": 13,
    "start_time": "2022-06-20T19:52:17.468Z"
   },
   {
    "duration": 26,
    "start_time": "2022-06-20T19:52:17.483Z"
   },
   {
    "duration": 17,
    "start_time": "2022-06-20T19:52:17.511Z"
   },
   {
    "duration": 15,
    "start_time": "2022-06-20T19:52:17.530Z"
   },
   {
    "duration": 16,
    "start_time": "2022-06-20T19:52:17.547Z"
   },
   {
    "duration": 479,
    "start_time": "2022-06-22T00:49:37.787Z"
   },
   {
    "duration": 456,
    "start_time": "2022-06-22T00:49:38.269Z"
   },
   {
    "duration": 43,
    "start_time": "2022-06-22T00:49:38.740Z"
   },
   {
    "duration": 20,
    "start_time": "2022-06-22T00:49:38.785Z"
   },
   {
    "duration": 3,
    "start_time": "2022-06-22T00:49:38.808Z"
   },
   {
    "duration": 10,
    "start_time": "2022-06-22T00:49:38.813Z"
   },
   {
    "duration": 75,
    "start_time": "2022-06-22T00:49:38.825Z"
   },
   {
    "duration": 3,
    "start_time": "2022-06-22T00:49:38.902Z"
   },
   {
    "duration": 54,
    "start_time": "2022-06-22T00:49:38.907Z"
   },
   {
    "duration": 38,
    "start_time": "2022-06-22T00:49:38.968Z"
   },
   {
    "duration": 5,
    "start_time": "2022-06-22T00:49:39.008Z"
   },
   {
    "duration": 11,
    "start_time": "2022-06-22T00:49:39.015Z"
   },
   {
    "duration": 73,
    "start_time": "2022-06-22T00:49:39.036Z"
   },
   {
    "duration": 57,
    "start_time": "2022-06-22T00:49:39.113Z"
   },
   {
    "duration": 13,
    "start_time": "2022-06-22T00:49:39.172Z"
   },
   {
    "duration": 35,
    "start_time": "2022-06-22T00:49:39.189Z"
   },
   {
    "duration": 22,
    "start_time": "2022-06-22T00:49:39.226Z"
   },
   {
    "duration": 53,
    "start_time": "2022-06-22T00:49:39.250Z"
   },
   {
    "duration": 18,
    "start_time": "2022-06-22T00:49:39.304Z"
   },
   {
    "duration": 15,
    "start_time": "2022-06-22T00:49:39.324Z"
   },
   {
    "duration": 41,
    "start_time": "2022-06-22T00:49:39.358Z"
   },
   {
    "duration": 12,
    "start_time": "2022-06-22T00:49:39.400Z"
   },
   {
    "duration": 7,
    "start_time": "2022-06-22T00:49:39.414Z"
   },
   {
    "duration": 77,
    "start_time": "2022-06-22T00:49:39.423Z"
   },
   {
    "duration": 10,
    "start_time": "2022-06-22T00:49:39.502Z"
   },
   {
    "duration": 24,
    "start_time": "2022-06-22T00:49:39.513Z"
   },
   {
    "duration": 26,
    "start_time": "2022-06-22T00:49:39.539Z"
   },
   {
    "duration": 25,
    "start_time": "2022-06-22T00:49:39.567Z"
   },
   {
    "duration": 30,
    "start_time": "2022-06-22T00:49:39.594Z"
   },
   {
    "duration": 72,
    "start_time": "2022-06-22T00:49:39.626Z"
   },
   {
    "duration": 19,
    "start_time": "2022-06-22T00:49:39.699Z"
   },
   {
    "duration": 70,
    "start_time": "2022-06-22T00:49:39.720Z"
   },
   {
    "duration": 9,
    "start_time": "2022-06-22T00:49:39.793Z"
   },
   {
    "duration": 6,
    "start_time": "2022-06-22T00:49:39.804Z"
   },
   {
    "duration": 9,
    "start_time": "2022-06-22T00:49:39.812Z"
   },
   {
    "duration": 70,
    "start_time": "2022-06-22T00:49:39.823Z"
   },
   {
    "duration": 10,
    "start_time": "2022-06-22T00:49:39.895Z"
   },
   {
    "duration": 25,
    "start_time": "2022-06-22T00:49:39.907Z"
   },
   {
    "duration": 58,
    "start_time": "2022-06-22T00:49:39.946Z"
   },
   {
    "duration": 8,
    "start_time": "2022-06-22T00:49:40.006Z"
   },
   {
    "duration": 56,
    "start_time": "2022-06-22T00:49:40.019Z"
   },
   {
    "duration": 28,
    "start_time": "2022-06-22T00:49:40.077Z"
   },
   {
    "duration": 8,
    "start_time": "2022-06-22T00:49:40.107Z"
   },
   {
    "duration": 23,
    "start_time": "2022-06-22T00:49:40.117Z"
   },
   {
    "duration": 74,
    "start_time": "2022-06-22T00:49:40.141Z"
   },
   {
    "duration": 29,
    "start_time": "2022-06-22T00:49:40.217Z"
   },
   {
    "duration": 24,
    "start_time": "2022-06-22T00:49:40.250Z"
   },
   {
    "duration": 39,
    "start_time": "2022-06-22T00:49:40.280Z"
   },
   {
    "duration": 60,
    "start_time": "2022-06-22T00:49:40.321Z"
   },
   {
    "duration": 426,
    "start_time": "2022-06-22T02:39:05.328Z"
   },
   {
    "duration": 93,
    "start_time": "2022-06-22T02:39:05.761Z"
   },
   {
    "duration": 29,
    "start_time": "2022-06-22T02:39:05.859Z"
   },
   {
    "duration": 20,
    "start_time": "2022-06-22T02:39:05.890Z"
   },
   {
    "duration": 3,
    "start_time": "2022-06-22T02:39:05.912Z"
   },
   {
    "duration": 16,
    "start_time": "2022-06-22T02:39:05.916Z"
   },
   {
    "duration": 50,
    "start_time": "2022-06-22T02:39:05.939Z"
   },
   {
    "duration": 3,
    "start_time": "2022-06-22T02:39:05.991Z"
   },
   {
    "duration": 25,
    "start_time": "2022-06-22T02:39:05.996Z"
   },
   {
    "duration": 46,
    "start_time": "2022-06-22T02:39:06.024Z"
   },
   {
    "duration": 13,
    "start_time": "2022-06-22T02:39:06.071Z"
   },
   {
    "duration": 6,
    "start_time": "2022-06-22T02:39:06.085Z"
   },
   {
    "duration": 24,
    "start_time": "2022-06-22T02:39:06.092Z"
   },
   {
    "duration": 56,
    "start_time": "2022-06-22T02:39:06.117Z"
   },
   {
    "duration": 18,
    "start_time": "2022-06-22T02:39:06.177Z"
   },
   {
    "duration": 24,
    "start_time": "2022-06-22T02:39:06.197Z"
   },
   {
    "duration": 55,
    "start_time": "2022-06-22T02:39:06.223Z"
   },
   {
    "duration": 6,
    "start_time": "2022-06-22T02:39:06.280Z"
   },
   {
    "duration": 24,
    "start_time": "2022-06-22T02:39:06.287Z"
   },
   {
    "duration": 2,
    "start_time": "2022-06-22T02:39:06.313Z"
   },
   {
    "duration": 21,
    "start_time": "2022-06-22T02:39:06.317Z"
   },
   {
    "duration": 40,
    "start_time": "2022-06-22T02:39:06.341Z"
   },
   {
    "duration": 9,
    "start_time": "2022-06-22T02:39:06.383Z"
   },
   {
    "duration": 22,
    "start_time": "2022-06-22T02:39:06.393Z"
   },
   {
    "duration": 5,
    "start_time": "2022-06-22T02:39:06.417Z"
   },
   {
    "duration": 63,
    "start_time": "2022-06-22T02:39:06.423Z"
   },
   {
    "duration": 5,
    "start_time": "2022-06-22T02:39:06.488Z"
   },
   {
    "duration": 4,
    "start_time": "2022-06-22T02:39:06.496Z"
   },
   {
    "duration": 6,
    "start_time": "2022-06-22T02:39:06.501Z"
   },
   {
    "duration": 15,
    "start_time": "2022-06-22T02:39:06.508Z"
   },
   {
    "duration": 46,
    "start_time": "2022-06-22T02:39:06.525Z"
   },
   {
    "duration": 24,
    "start_time": "2022-06-22T02:39:06.573Z"
   },
   {
    "duration": 4,
    "start_time": "2022-06-22T02:39:06.598Z"
   },
   {
    "duration": 5,
    "start_time": "2022-06-22T02:39:06.604Z"
   },
   {
    "duration": 7,
    "start_time": "2022-06-22T02:39:06.610Z"
   },
   {
    "duration": 53,
    "start_time": "2022-06-22T02:39:06.618Z"
   },
   {
    "duration": 8,
    "start_time": "2022-06-22T02:39:06.674Z"
   },
   {
    "duration": 15,
    "start_time": "2022-06-22T02:39:06.684Z"
   },
   {
    "duration": 5,
    "start_time": "2022-06-22T02:39:06.701Z"
   },
   {
    "duration": 14,
    "start_time": "2022-06-22T02:39:06.708Z"
   },
   {
    "duration": 53,
    "start_time": "2022-06-22T02:39:06.723Z"
   },
   {
    "duration": 10,
    "start_time": "2022-06-22T02:39:06.777Z"
   },
   {
    "duration": 4,
    "start_time": "2022-06-22T02:39:06.789Z"
   },
   {
    "duration": 11,
    "start_time": "2022-06-22T02:39:06.794Z"
   },
   {
    "duration": 15,
    "start_time": "2022-06-22T02:39:06.806Z"
   },
   {
    "duration": 23,
    "start_time": "2022-06-22T02:39:06.823Z"
   },
   {
    "duration": 48,
    "start_time": "2022-06-22T02:39:06.848Z"
   },
   {
    "duration": 14,
    "start_time": "2022-06-22T02:39:06.897Z"
   },
   {
    "duration": 23,
    "start_time": "2022-06-22T02:39:06.912Z"
   },
   {
    "duration": 81,
    "start_time": "2022-06-22T06:10:52.741Z"
   },
   {
    "duration": 59,
    "start_time": "2022-06-22T17:57:12.296Z"
   },
   {
    "duration": 425,
    "start_time": "2022-06-22T17:57:23.901Z"
   },
   {
    "duration": 199,
    "start_time": "2022-06-22T17:57:24.328Z"
   },
   {
    "duration": 18,
    "start_time": "2022-06-22T17:57:24.529Z"
   },
   {
    "duration": 41,
    "start_time": "2022-06-22T17:57:24.549Z"
   },
   {
    "duration": 29,
    "start_time": "2022-06-22T17:57:24.595Z"
   },
   {
    "duration": 15,
    "start_time": "2022-06-22T17:57:24.626Z"
   },
   {
    "duration": 7,
    "start_time": "2022-06-22T17:57:24.643Z"
   },
   {
    "duration": 70,
    "start_time": "2022-06-22T17:57:24.652Z"
   },
   {
    "duration": 10,
    "start_time": "2022-06-22T17:57:24.724Z"
   },
   {
    "duration": 24,
    "start_time": "2022-06-22T17:57:24.736Z"
   },
   {
    "duration": 49,
    "start_time": "2022-06-22T17:57:24.762Z"
   },
   {
    "duration": 14,
    "start_time": "2022-06-22T17:57:24.814Z"
   },
   {
    "duration": 5,
    "start_time": "2022-06-22T17:57:24.830Z"
   },
   {
    "duration": 21,
    "start_time": "2022-06-22T17:57:24.838Z"
   },
   {
    "duration": 61,
    "start_time": "2022-06-22T17:57:24.861Z"
   },
   {
    "duration": 5,
    "start_time": "2022-06-22T17:57:24.924Z"
   },
   {
    "duration": 18,
    "start_time": "2022-06-22T17:57:24.930Z"
   },
   {
    "duration": 48,
    "start_time": "2022-06-22T17:57:24.949Z"
   },
   {
    "duration": 15,
    "start_time": "2022-06-22T17:57:24.999Z"
   },
   {
    "duration": 21,
    "start_time": "2022-06-22T17:57:25.016Z"
   },
   {
    "duration": 8,
    "start_time": "2022-06-22T17:57:25.038Z"
   },
   {
    "duration": 36,
    "start_time": "2022-06-22T17:57:25.047Z"
   },
   {
    "duration": 24,
    "start_time": "2022-06-22T17:57:25.086Z"
   },
   {
    "duration": 7,
    "start_time": "2022-06-22T17:57:25.112Z"
   },
   {
    "duration": 21,
    "start_time": "2022-06-22T17:57:25.120Z"
   },
   {
    "duration": 7,
    "start_time": "2022-06-22T17:57:25.143Z"
   },
   {
    "duration": 52,
    "start_time": "2022-06-22T17:57:25.151Z"
   },
   {
    "duration": 8,
    "start_time": "2022-06-22T17:57:25.205Z"
   },
   {
    "duration": 6,
    "start_time": "2022-06-22T17:57:25.215Z"
   },
   {
    "duration": 10,
    "start_time": "2022-06-22T17:57:25.222Z"
   },
   {
    "duration": 36,
    "start_time": "2022-06-22T17:57:25.234Z"
   },
   {
    "duration": 15,
    "start_time": "2022-06-22T17:57:25.273Z"
   },
   {
    "duration": 28,
    "start_time": "2022-06-22T17:57:25.297Z"
   },
   {
    "duration": 5,
    "start_time": "2022-06-22T17:57:25.327Z"
   },
   {
    "duration": 7,
    "start_time": "2022-06-22T17:57:25.334Z"
   },
   {
    "duration": 5,
    "start_time": "2022-06-22T17:57:25.342Z"
   },
   {
    "duration": 43,
    "start_time": "2022-06-22T17:57:25.348Z"
   },
   {
    "duration": 17,
    "start_time": "2022-06-22T17:57:25.393Z"
   },
   {
    "duration": 15,
    "start_time": "2022-06-22T17:57:25.412Z"
   },
   {
    "duration": 7,
    "start_time": "2022-06-22T17:57:25.429Z"
   },
   {
    "duration": 5,
    "start_time": "2022-06-22T17:57:25.441Z"
   },
   {
    "duration": 29,
    "start_time": "2022-06-22T17:57:25.448Z"
   },
   {
    "duration": 36,
    "start_time": "2022-06-22T17:57:25.480Z"
   },
   {
    "duration": 3,
    "start_time": "2022-06-22T17:57:25.518Z"
   },
   {
    "duration": 13,
    "start_time": "2022-06-22T17:57:25.523Z"
   },
   {
    "duration": 14,
    "start_time": "2022-06-22T17:57:25.537Z"
   },
   {
    "duration": 74,
    "start_time": "2022-06-22T17:57:25.556Z"
   },
   {
    "duration": 19,
    "start_time": "2022-06-22T17:57:25.632Z"
   },
   {
    "duration": 31,
    "start_time": "2022-06-22T17:57:25.653Z"
   },
   {
    "duration": 36,
    "start_time": "2022-06-22T17:57:25.688Z"
   },
   {
    "duration": 120,
    "start_time": "2022-06-22T17:58:21.684Z"
   },
   {
    "duration": 114,
    "start_time": "2022-06-22T17:58:28.632Z"
   },
   {
    "duration": 98,
    "start_time": "2022-06-22T17:58:42.936Z"
   },
   {
    "duration": 72,
    "start_time": "2022-06-22T17:58:51.280Z"
   },
   {
    "duration": 89,
    "start_time": "2022-06-22T17:58:59.526Z"
   },
   {
    "duration": 11,
    "start_time": "2022-06-22T17:59:08.894Z"
   },
   {
    "duration": 13,
    "start_time": "2022-06-22T17:59:16.080Z"
   },
   {
    "duration": 3,
    "start_time": "2022-06-22T17:59:20.421Z"
   },
   {
    "duration": 17,
    "start_time": "2022-06-22T17:59:21.131Z"
   },
   {
    "duration": 398,
    "start_time": "2022-06-22T17:59:37.703Z"
   },
   {
    "duration": 100,
    "start_time": "2022-06-22T17:59:38.103Z"
   },
   {
    "duration": 21,
    "start_time": "2022-06-22T17:59:38.205Z"
   },
   {
    "duration": 25,
    "start_time": "2022-06-22T17:59:38.228Z"
   },
   {
    "duration": 8,
    "start_time": "2022-06-22T17:59:38.255Z"
   },
   {
    "duration": 44,
    "start_time": "2022-06-22T17:59:38.265Z"
   },
   {
    "duration": 10,
    "start_time": "2022-06-22T17:59:38.311Z"
   },
   {
    "duration": 24,
    "start_time": "2022-06-22T17:59:38.323Z"
   },
   {
    "duration": 11,
    "start_time": "2022-06-22T17:59:38.349Z"
   },
   {
    "duration": 51,
    "start_time": "2022-06-22T17:59:38.365Z"
   },
   {
    "duration": 26,
    "start_time": "2022-06-22T17:59:38.418Z"
   },
   {
    "duration": 10,
    "start_time": "2022-06-22T17:59:38.446Z"
   },
   {
    "duration": 32,
    "start_time": "2022-06-22T17:59:38.462Z"
   },
   {
    "duration": 29,
    "start_time": "2022-06-22T17:59:38.496Z"
   },
   {
    "duration": 47,
    "start_time": "2022-06-22T17:59:38.527Z"
   },
   {
    "duration": 11,
    "start_time": "2022-06-22T17:59:38.576Z"
   },
   {
    "duration": 16,
    "start_time": "2022-06-22T17:59:38.589Z"
   },
   {
    "duration": 5,
    "start_time": "2022-06-22T17:59:38.607Z"
   },
   {
    "duration": 11,
    "start_time": "2022-06-22T17:59:38.613Z"
   },
   {
    "duration": 18,
    "start_time": "2022-06-22T17:59:38.625Z"
   },
   {
    "duration": 19,
    "start_time": "2022-06-22T17:59:38.665Z"
   },
   {
    "duration": 9,
    "start_time": "2022-06-22T17:59:38.686Z"
   },
   {
    "duration": 6,
    "start_time": "2022-06-22T17:59:38.696Z"
   },
   {
    "duration": 9,
    "start_time": "2022-06-22T17:59:38.703Z"
   },
   {
    "duration": 21,
    "start_time": "2022-06-22T17:59:38.713Z"
   },
   {
    "duration": 5,
    "start_time": "2022-06-22T17:59:38.736Z"
   },
   {
    "duration": 51,
    "start_time": "2022-06-22T17:59:38.743Z"
   },
   {
    "duration": 5,
    "start_time": "2022-06-22T17:59:38.797Z"
   },
   {
    "duration": 5,
    "start_time": "2022-06-22T17:59:38.803Z"
   },
   {
    "duration": 5,
    "start_time": "2022-06-22T17:59:38.809Z"
   },
   {
    "duration": 15,
    "start_time": "2022-06-22T17:59:38.815Z"
   },
   {
    "duration": 6,
    "start_time": "2022-06-22T17:59:38.831Z"
   },
   {
    "duration": 47,
    "start_time": "2022-06-22T17:59:38.838Z"
   },
   {
    "duration": 7,
    "start_time": "2022-06-22T17:59:38.888Z"
   },
   {
    "duration": 8,
    "start_time": "2022-06-22T17:59:38.896Z"
   },
   {
    "duration": 5,
    "start_time": "2022-06-22T17:59:38.905Z"
   },
   {
    "duration": 10,
    "start_time": "2022-06-22T17:59:38.911Z"
   },
   {
    "duration": 6,
    "start_time": "2022-06-22T17:59:38.922Z"
   },
   {
    "duration": 31,
    "start_time": "2022-06-22T17:59:38.929Z"
   },
   {
    "duration": 29,
    "start_time": "2022-06-22T17:59:38.961Z"
   },
   {
    "duration": 7,
    "start_time": "2022-06-22T17:59:38.991Z"
   },
   {
    "duration": 10,
    "start_time": "2022-06-22T17:59:38.999Z"
   },
   {
    "duration": 9,
    "start_time": "2022-06-22T17:59:39.011Z"
   },
   {
    "duration": 4,
    "start_time": "2022-06-22T17:59:39.021Z"
   },
   {
    "duration": 11,
    "start_time": "2022-06-22T17:59:39.027Z"
   },
   {
    "duration": 29,
    "start_time": "2022-06-22T17:59:39.040Z"
   },
   {
    "duration": 35,
    "start_time": "2022-06-22T17:59:39.071Z"
   },
   {
    "duration": 18,
    "start_time": "2022-06-22T17:59:39.108Z"
   },
   {
    "duration": 29,
    "start_time": "2022-06-22T17:59:39.127Z"
   },
   {
    "duration": 25,
    "start_time": "2022-06-22T17:59:39.161Z"
   },
   {
    "duration": 15,
    "start_time": "2022-06-22T18:04:48.083Z"
   },
   {
    "duration": 10,
    "start_time": "2022-06-22T18:06:23.810Z"
   },
   {
    "duration": 413,
    "start_time": "2022-06-22T18:06:31.291Z"
   },
   {
    "duration": 94,
    "start_time": "2022-06-22T18:06:31.706Z"
   },
   {
    "duration": 20,
    "start_time": "2022-06-22T18:06:31.802Z"
   },
   {
    "duration": 15,
    "start_time": "2022-06-22T18:06:31.824Z"
   },
   {
    "duration": 17,
    "start_time": "2022-06-22T18:06:31.857Z"
   },
   {
    "duration": 21,
    "start_time": "2022-06-22T18:06:31.876Z"
   },
   {
    "duration": 19,
    "start_time": "2022-06-22T18:06:31.900Z"
   },
   {
    "duration": 3,
    "start_time": "2022-06-22T18:06:31.921Z"
   },
   {
    "duration": 19,
    "start_time": "2022-06-22T18:06:31.926Z"
   },
   {
    "duration": 44,
    "start_time": "2022-06-22T18:06:31.957Z"
   },
   {
    "duration": 5,
    "start_time": "2022-06-22T18:06:32.003Z"
   },
   {
    "duration": 5,
    "start_time": "2022-06-22T18:06:32.010Z"
   },
   {
    "duration": 45,
    "start_time": "2022-06-22T18:06:32.017Z"
   },
   {
    "duration": 49,
    "start_time": "2022-06-22T18:06:32.064Z"
   },
   {
    "duration": 5,
    "start_time": "2022-06-22T18:06:32.114Z"
   },
   {
    "duration": 49,
    "start_time": "2022-06-22T18:06:32.120Z"
   },
   {
    "duration": 10,
    "start_time": "2022-06-22T18:06:32.171Z"
   },
   {
    "duration": 17,
    "start_time": "2022-06-22T18:06:32.185Z"
   },
   {
    "duration": 21,
    "start_time": "2022-06-22T18:06:32.204Z"
   },
   {
    "duration": 5,
    "start_time": "2022-06-22T18:06:32.226Z"
   },
   {
    "duration": 31,
    "start_time": "2022-06-22T18:06:32.233Z"
   },
   {
    "duration": 28,
    "start_time": "2022-06-22T18:06:32.266Z"
   },
   {
    "duration": 6,
    "start_time": "2022-06-22T18:06:32.296Z"
   },
   {
    "duration": 18,
    "start_time": "2022-06-22T18:06:32.304Z"
   },
   {
    "duration": 5,
    "start_time": "2022-06-22T18:06:32.324Z"
   },
   {
    "duration": 43,
    "start_time": "2022-06-22T18:06:32.330Z"
   },
   {
    "duration": 21,
    "start_time": "2022-06-22T18:06:32.375Z"
   },
   {
    "duration": 8,
    "start_time": "2022-06-22T18:06:32.401Z"
   },
   {
    "duration": 6,
    "start_time": "2022-06-22T18:06:32.411Z"
   },
   {
    "duration": 37,
    "start_time": "2022-06-22T18:06:32.419Z"
   },
   {
    "duration": 8,
    "start_time": "2022-06-22T18:06:32.458Z"
   },
   {
    "duration": 40,
    "start_time": "2022-06-22T18:06:32.469Z"
   },
   {
    "duration": 6,
    "start_time": "2022-06-22T18:06:32.510Z"
   },
   {
    "duration": 5,
    "start_time": "2022-06-22T18:06:32.518Z"
   },
   {
    "duration": 7,
    "start_time": "2022-06-22T18:06:32.524Z"
   },
   {
    "duration": 25,
    "start_time": "2022-06-22T18:06:32.532Z"
   },
   {
    "duration": 30,
    "start_time": "2022-06-22T18:06:32.558Z"
   },
   {
    "duration": 12,
    "start_time": "2022-06-22T18:06:32.590Z"
   },
   {
    "duration": 6,
    "start_time": "2022-06-22T18:06:32.604Z"
   },
   {
    "duration": 10,
    "start_time": "2022-06-22T18:06:32.612Z"
   },
   {
    "duration": 15,
    "start_time": "2022-06-22T18:06:32.623Z"
   },
   {
    "duration": 17,
    "start_time": "2022-06-22T18:06:32.640Z"
   },
   {
    "duration": 36,
    "start_time": "2022-06-22T18:06:32.661Z"
   },
   {
    "duration": 12,
    "start_time": "2022-06-22T18:06:32.699Z"
   },
   {
    "duration": 17,
    "start_time": "2022-06-22T18:06:32.712Z"
   },
   {
    "duration": 19,
    "start_time": "2022-06-22T18:06:32.731Z"
   },
   {
    "duration": 42,
    "start_time": "2022-06-22T18:06:32.752Z"
   },
   {
    "duration": 18,
    "start_time": "2022-06-22T18:06:32.796Z"
   },
   {
    "duration": 18,
    "start_time": "2022-06-22T18:06:32.817Z"
   },
   {
    "duration": 15,
    "start_time": "2022-06-22T18:07:42.730Z"
   },
   {
    "duration": 5,
    "start_time": "2022-06-22T18:08:31.185Z"
   },
   {
    "duration": 433,
    "start_time": "2022-06-22T18:08:37.186Z"
   },
   {
    "duration": 85,
    "start_time": "2022-06-22T18:08:37.620Z"
   },
   {
    "duration": 21,
    "start_time": "2022-06-22T18:08:37.706Z"
   },
   {
    "duration": 15,
    "start_time": "2022-06-22T18:08:37.729Z"
   },
   {
    "duration": 28,
    "start_time": "2022-06-22T18:08:37.754Z"
   },
   {
    "duration": 13,
    "start_time": "2022-06-22T18:08:37.789Z"
   },
   {
    "duration": 23,
    "start_time": "2022-06-22T18:08:37.803Z"
   },
   {
    "duration": 4,
    "start_time": "2022-06-22T18:08:37.827Z"
   },
   {
    "duration": 34,
    "start_time": "2022-06-22T18:08:37.832Z"
   },
   {
    "duration": 36,
    "start_time": "2022-06-22T18:08:37.867Z"
   },
   {
    "duration": 4,
    "start_time": "2022-06-22T18:08:37.905Z"
   },
   {
    "duration": 11,
    "start_time": "2022-06-22T18:08:37.911Z"
   },
   {
    "duration": 17,
    "start_time": "2022-06-22T18:08:37.923Z"
   },
   {
    "duration": 30,
    "start_time": "2022-06-22T18:08:37.958Z"
   },
   {
    "duration": 46,
    "start_time": "2022-06-22T18:08:37.990Z"
   },
   {
    "duration": 5,
    "start_time": "2022-06-22T18:08:38.038Z"
   },
   {
    "duration": 39,
    "start_time": "2022-06-22T18:08:38.045Z"
   },
   {
    "duration": 12,
    "start_time": "2022-06-22T18:08:38.086Z"
   },
   {
    "duration": 9,
    "start_time": "2022-06-22T18:08:38.100Z"
   },
   {
    "duration": 35,
    "start_time": "2022-06-22T18:08:38.111Z"
   },
   {
    "duration": 9,
    "start_time": "2022-06-22T18:08:38.158Z"
   },
   {
    "duration": 35,
    "start_time": "2022-06-22T18:08:38.170Z"
   },
   {
    "duration": 11,
    "start_time": "2022-06-22T18:08:38.207Z"
   },
   {
    "duration": 21,
    "start_time": "2022-06-22T18:08:38.227Z"
   },
   {
    "duration": 55,
    "start_time": "2022-06-22T18:08:38.250Z"
   },
   {
    "duration": 8,
    "start_time": "2022-06-22T18:08:38.308Z"
   },
   {
    "duration": 40,
    "start_time": "2022-06-22T18:08:38.318Z"
   },
   {
    "duration": 31,
    "start_time": "2022-06-22T18:08:38.360Z"
   },
   {
    "duration": 20,
    "start_time": "2022-06-22T18:08:38.393Z"
   },
   {
    "duration": 12,
    "start_time": "2022-06-22T18:08:38.415Z"
   },
   {
    "duration": 37,
    "start_time": "2022-06-22T18:08:38.429Z"
   },
   {
    "duration": 43,
    "start_time": "2022-06-22T18:08:38.468Z"
   },
   {
    "duration": 22,
    "start_time": "2022-06-22T18:08:38.513Z"
   },
   {
    "duration": 12,
    "start_time": "2022-06-22T18:08:38.537Z"
   },
   {
    "duration": 51,
    "start_time": "2022-06-22T18:08:38.550Z"
   },
   {
    "duration": 29,
    "start_time": "2022-06-22T18:08:38.603Z"
   },
   {
    "duration": 16,
    "start_time": "2022-06-22T18:08:38.634Z"
   },
   {
    "duration": 43,
    "start_time": "2022-06-22T18:08:38.653Z"
   },
   {
    "duration": 13,
    "start_time": "2022-06-22T18:08:38.698Z"
   },
   {
    "duration": 6,
    "start_time": "2022-06-22T18:08:38.713Z"
   },
   {
    "duration": 4,
    "start_time": "2022-06-22T18:08:38.723Z"
   },
   {
    "duration": 10,
    "start_time": "2022-06-22T18:08:38.729Z"
   },
   {
    "duration": 16,
    "start_time": "2022-06-22T18:08:38.741Z"
   },
   {
    "duration": 35,
    "start_time": "2022-06-22T18:08:38.760Z"
   },
   {
    "duration": 14,
    "start_time": "2022-06-22T18:08:38.797Z"
   },
   {
    "duration": 27,
    "start_time": "2022-06-22T18:08:38.813Z"
   },
   {
    "duration": 29,
    "start_time": "2022-06-22T18:08:38.842Z"
   },
   {
    "duration": 38,
    "start_time": "2022-06-22T18:08:38.875Z"
   },
   {
    "duration": 15,
    "start_time": "2022-06-22T18:08:38.915Z"
   },
   {
    "duration": 16,
    "start_time": "2022-06-22T18:08:38.932Z"
   },
   {
    "duration": 1890,
    "start_time": "2022-06-22T18:09:18.226Z"
   },
   {
    "duration": 164,
    "start_time": "2022-06-22T18:09:29.945Z"
   },
   {
    "duration": 10,
    "start_time": "2022-06-22T18:09:33.875Z"
   },
   {
    "duration": 5,
    "start_time": "2022-06-22T18:09:53.493Z"
   },
   {
    "duration": 5,
    "start_time": "2022-06-22T18:09:58.579Z"
   },
   {
    "duration": 455,
    "start_time": "2022-06-22T18:12:49.912Z"
   },
   {
    "duration": 101,
    "start_time": "2022-06-22T18:12:50.370Z"
   },
   {
    "duration": 28,
    "start_time": "2022-06-22T18:12:50.472Z"
   },
   {
    "duration": 26,
    "start_time": "2022-06-22T18:12:50.502Z"
   },
   {
    "duration": 29,
    "start_time": "2022-06-22T18:12:50.530Z"
   },
   {
    "duration": 6,
    "start_time": "2022-06-22T18:12:50.564Z"
   },
   {
    "duration": 53,
    "start_time": "2022-06-22T18:12:50.573Z"
   },
   {
    "duration": 3,
    "start_time": "2022-06-22T18:12:50.628Z"
   },
   {
    "duration": 18,
    "start_time": "2022-06-22T18:12:50.633Z"
   },
   {
    "duration": 49,
    "start_time": "2022-06-22T18:12:50.670Z"
   },
   {
    "duration": 4,
    "start_time": "2022-06-22T18:12:50.721Z"
   },
   {
    "duration": 6,
    "start_time": "2022-06-22T18:12:50.726Z"
   },
   {
    "duration": 2408,
    "start_time": "2022-06-22T18:12:50.734Z"
   },
   {
    "duration": 0,
    "start_time": "2022-06-22T18:12:53.145Z"
   },
   {
    "duration": 0,
    "start_time": "2022-06-22T18:12:53.146Z"
   },
   {
    "duration": 0,
    "start_time": "2022-06-22T18:12:53.147Z"
   },
   {
    "duration": 0,
    "start_time": "2022-06-22T18:12:53.149Z"
   },
   {
    "duration": 0,
    "start_time": "2022-06-22T18:12:53.151Z"
   },
   {
    "duration": 0,
    "start_time": "2022-06-22T18:12:53.152Z"
   },
   {
    "duration": 0,
    "start_time": "2022-06-22T18:12:53.153Z"
   },
   {
    "duration": 0,
    "start_time": "2022-06-22T18:12:53.154Z"
   },
   {
    "duration": 0,
    "start_time": "2022-06-22T18:12:53.154Z"
   },
   {
    "duration": 0,
    "start_time": "2022-06-22T18:12:53.155Z"
   },
   {
    "duration": 0,
    "start_time": "2022-06-22T18:12:53.156Z"
   },
   {
    "duration": 0,
    "start_time": "2022-06-22T18:12:53.159Z"
   },
   {
    "duration": 0,
    "start_time": "2022-06-22T18:12:53.160Z"
   },
   {
    "duration": 0,
    "start_time": "2022-06-22T18:12:53.162Z"
   },
   {
    "duration": 0,
    "start_time": "2022-06-22T18:12:53.164Z"
   },
   {
    "duration": 0,
    "start_time": "2022-06-22T18:12:53.165Z"
   },
   {
    "duration": 0,
    "start_time": "2022-06-22T18:12:53.167Z"
   },
   {
    "duration": 0,
    "start_time": "2022-06-22T18:12:53.169Z"
   },
   {
    "duration": 0,
    "start_time": "2022-06-22T18:12:53.171Z"
   },
   {
    "duration": 1,
    "start_time": "2022-06-22T18:12:53.172Z"
   },
   {
    "duration": 0,
    "start_time": "2022-06-22T18:12:53.174Z"
   },
   {
    "duration": 0,
    "start_time": "2022-06-22T18:12:53.175Z"
   },
   {
    "duration": 0,
    "start_time": "2022-06-22T18:12:53.176Z"
   },
   {
    "duration": 0,
    "start_time": "2022-06-22T18:12:53.177Z"
   },
   {
    "duration": 0,
    "start_time": "2022-06-22T18:12:53.178Z"
   },
   {
    "duration": 0,
    "start_time": "2022-06-22T18:12:53.182Z"
   },
   {
    "duration": 0,
    "start_time": "2022-06-22T18:12:53.184Z"
   },
   {
    "duration": 0,
    "start_time": "2022-06-22T18:12:53.185Z"
   },
   {
    "duration": 0,
    "start_time": "2022-06-22T18:12:53.186Z"
   },
   {
    "duration": 0,
    "start_time": "2022-06-22T18:12:53.189Z"
   },
   {
    "duration": 0,
    "start_time": "2022-06-22T18:12:53.190Z"
   },
   {
    "duration": 0,
    "start_time": "2022-06-22T18:12:53.191Z"
   },
   {
    "duration": 0,
    "start_time": "2022-06-22T18:12:53.194Z"
   },
   {
    "duration": 0,
    "start_time": "2022-06-22T18:12:53.195Z"
   },
   {
    "duration": 0,
    "start_time": "2022-06-22T18:12:53.196Z"
   },
   {
    "duration": 0,
    "start_time": "2022-06-22T18:12:53.199Z"
   },
   {
    "duration": 0,
    "start_time": "2022-06-22T18:12:53.200Z"
   },
   {
    "duration": 0,
    "start_time": "2022-06-22T18:12:53.202Z"
   },
   {
    "duration": 0,
    "start_time": "2022-06-22T18:12:53.204Z"
   },
   {
    "duration": 0,
    "start_time": "2022-06-22T18:12:53.205Z"
   },
   {
    "duration": 0,
    "start_time": "2022-06-22T18:12:53.207Z"
   },
   {
    "duration": 0,
    "start_time": "2022-06-22T18:12:53.208Z"
   },
   {
    "duration": 424,
    "start_time": "2022-06-22T18:13:10.279Z"
   },
   {
    "duration": 85,
    "start_time": "2022-06-22T18:13:10.706Z"
   },
   {
    "duration": 19,
    "start_time": "2022-06-22T18:13:10.793Z"
   },
   {
    "duration": 15,
    "start_time": "2022-06-22T18:13:10.813Z"
   },
   {
    "duration": 28,
    "start_time": "2022-06-22T18:13:10.830Z"
   },
   {
    "duration": 34,
    "start_time": "2022-06-22T18:13:10.860Z"
   },
   {
    "duration": 15,
    "start_time": "2022-06-22T18:13:10.896Z"
   },
   {
    "duration": 4,
    "start_time": "2022-06-22T18:13:10.912Z"
   },
   {
    "duration": 20,
    "start_time": "2022-06-22T18:13:10.918Z"
   },
   {
    "duration": 37,
    "start_time": "2022-06-22T18:13:10.939Z"
   },
   {
    "duration": 31,
    "start_time": "2022-06-22T18:13:10.978Z"
   },
   {
    "duration": 9,
    "start_time": "2022-06-22T18:13:11.012Z"
   },
   {
    "duration": 5,
    "start_time": "2022-06-22T18:13:11.023Z"
   },
   {
    "duration": 5,
    "start_time": "2022-06-22T18:13:11.033Z"
   },
   {
    "duration": 13,
    "start_time": "2022-06-22T18:13:11.040Z"
   },
   {
    "duration": 62,
    "start_time": "2022-06-22T18:13:11.055Z"
   },
   {
    "duration": 6,
    "start_time": "2022-06-22T18:13:11.119Z"
   },
   {
    "duration": 21,
    "start_time": "2022-06-22T18:13:11.127Z"
   },
   {
    "duration": 41,
    "start_time": "2022-06-22T18:13:11.150Z"
   },
   {
    "duration": 69,
    "start_time": "2022-06-22T18:13:11.193Z"
   },
   {
    "duration": 12,
    "start_time": "2022-06-22T18:13:11.263Z"
   },
   {
    "duration": 37,
    "start_time": "2022-06-22T18:13:11.277Z"
   },
   {
    "duration": 5,
    "start_time": "2022-06-22T18:13:11.315Z"
   },
   {
    "duration": 6,
    "start_time": "2022-06-22T18:13:11.321Z"
   },
   {
    "duration": 17,
    "start_time": "2022-06-22T18:13:11.328Z"
   },
   {
    "duration": 8,
    "start_time": "2022-06-22T18:13:11.346Z"
   },
   {
    "duration": 34,
    "start_time": "2022-06-22T18:13:11.356Z"
   },
   {
    "duration": 10,
    "start_time": "2022-06-22T18:13:11.392Z"
   },
   {
    "duration": 5,
    "start_time": "2022-06-22T18:13:11.403Z"
   },
   {
    "duration": 19,
    "start_time": "2022-06-22T18:13:11.410Z"
   },
   {
    "duration": 6,
    "start_time": "2022-06-22T18:13:11.431Z"
   },
   {
    "duration": 34,
    "start_time": "2022-06-22T18:13:11.439Z"
   },
   {
    "duration": 22,
    "start_time": "2022-06-22T18:13:11.474Z"
   },
   {
    "duration": 5,
    "start_time": "2022-06-22T18:13:11.498Z"
   },
   {
    "duration": 6,
    "start_time": "2022-06-22T18:13:11.505Z"
   },
   {
    "duration": 19,
    "start_time": "2022-06-22T18:13:11.513Z"
   },
   {
    "duration": 5,
    "start_time": "2022-06-22T18:13:11.534Z"
   },
   {
    "duration": 25,
    "start_time": "2022-06-22T18:13:11.557Z"
   },
   {
    "duration": 18,
    "start_time": "2022-06-22T18:13:11.584Z"
   },
   {
    "duration": 6,
    "start_time": "2022-06-22T18:13:11.603Z"
   },
   {
    "duration": 4,
    "start_time": "2022-06-22T18:13:11.614Z"
   },
   {
    "duration": 13,
    "start_time": "2022-06-22T18:13:11.620Z"
   },
   {
    "duration": 23,
    "start_time": "2022-06-22T18:13:11.635Z"
   },
   {
    "duration": 39,
    "start_time": "2022-06-22T18:13:11.662Z"
   },
   {
    "duration": 4,
    "start_time": "2022-06-22T18:13:11.703Z"
   },
   {
    "duration": 5,
    "start_time": "2022-06-22T18:13:11.709Z"
   },
   {
    "duration": 14,
    "start_time": "2022-06-22T18:13:11.716Z"
   },
   {
    "duration": 18,
    "start_time": "2022-06-22T18:13:11.733Z"
   },
   {
    "duration": 42,
    "start_time": "2022-06-22T18:13:11.753Z"
   },
   {
    "duration": 16,
    "start_time": "2022-06-22T18:13:11.797Z"
   },
   {
    "duration": 19,
    "start_time": "2022-06-22T18:13:11.815Z"
   },
   {
    "duration": 25,
    "start_time": "2022-06-22T18:13:11.836Z"
   },
   {
    "duration": 23,
    "start_time": "2022-06-22T18:13:11.863Z"
   },
   {
    "duration": 19,
    "start_time": "2022-06-22T18:13:11.888Z"
   },
   {
    "duration": 59,
    "start_time": "2022-06-22T18:13:11.909Z"
   },
   {
    "duration": 430,
    "start_time": "2022-06-22T18:16:47.696Z"
   },
   {
    "duration": 97,
    "start_time": "2022-06-22T18:16:48.128Z"
   },
   {
    "duration": 26,
    "start_time": "2022-06-22T18:16:48.227Z"
   },
   {
    "duration": 77,
    "start_time": "2022-06-22T18:16:48.256Z"
   },
   {
    "duration": 32,
    "start_time": "2022-06-22T18:16:48.335Z"
   },
   {
    "duration": 61,
    "start_time": "2022-06-22T18:16:48.369Z"
   },
   {
    "duration": 36,
    "start_time": "2022-06-22T18:16:48.433Z"
   },
   {
    "duration": 55,
    "start_time": "2022-06-22T18:16:48.470Z"
   },
   {
    "duration": 47,
    "start_time": "2022-06-22T18:16:48.527Z"
   },
   {
    "duration": 87,
    "start_time": "2022-06-22T18:16:48.580Z"
   },
   {
    "duration": 30,
    "start_time": "2022-06-22T18:16:48.669Z"
   },
   {
    "duration": 8,
    "start_time": "2022-06-22T18:16:48.706Z"
   },
   {
    "duration": 14,
    "start_time": "2022-06-22T18:16:48.716Z"
   },
   {
    "duration": 15,
    "start_time": "2022-06-22T18:16:48.733Z"
   },
   {
    "duration": 64,
    "start_time": "2022-06-22T18:16:48.750Z"
   },
   {
    "duration": 9,
    "start_time": "2022-06-22T18:16:48.816Z"
   },
   {
    "duration": 7,
    "start_time": "2022-06-22T18:16:48.826Z"
   },
   {
    "duration": 25,
    "start_time": "2022-06-22T18:16:48.834Z"
   },
   {
    "duration": 14,
    "start_time": "2022-06-22T18:16:48.860Z"
   },
   {
    "duration": 46,
    "start_time": "2022-06-22T18:16:48.879Z"
   },
   {
    "duration": 6,
    "start_time": "2022-06-22T18:16:48.926Z"
   },
   {
    "duration": 8,
    "start_time": "2022-06-22T18:16:48.933Z"
   },
   {
    "duration": 25,
    "start_time": "2022-06-22T18:16:48.942Z"
   },
   {
    "duration": 44,
    "start_time": "2022-06-22T18:16:48.971Z"
   },
   {
    "duration": 8,
    "start_time": "2022-06-22T18:16:49.016Z"
   },
   {
    "duration": 6,
    "start_time": "2022-06-22T18:16:49.026Z"
   },
   {
    "duration": 8,
    "start_time": "2022-06-22T18:16:49.034Z"
   },
   {
    "duration": 33,
    "start_time": "2022-06-22T18:16:49.046Z"
   },
   {
    "duration": 28,
    "start_time": "2022-06-22T18:16:49.082Z"
   },
   {
    "duration": 25,
    "start_time": "2022-06-22T18:16:49.111Z"
   },
   {
    "duration": 6,
    "start_time": "2022-06-22T18:16:49.137Z"
   },
   {
    "duration": 7,
    "start_time": "2022-06-22T18:16:49.144Z"
   },
   {
    "duration": 64,
    "start_time": "2022-06-22T18:16:49.153Z"
   },
   {
    "duration": 26,
    "start_time": "2022-06-22T18:16:49.220Z"
   },
   {
    "duration": 7,
    "start_time": "2022-06-22T18:16:49.248Z"
   },
   {
    "duration": 69,
    "start_time": "2022-06-22T18:16:49.259Z"
   },
   {
    "duration": 6,
    "start_time": "2022-06-22T18:16:49.330Z"
   },
   {
    "duration": 6,
    "start_time": "2022-06-22T18:16:49.337Z"
   },
   {
    "duration": 25,
    "start_time": "2022-06-22T18:16:49.345Z"
   },
   {
    "duration": 62,
    "start_time": "2022-06-22T18:16:49.372Z"
   },
   {
    "duration": 4,
    "start_time": "2022-06-22T18:16:49.436Z"
   },
   {
    "duration": 10,
    "start_time": "2022-06-22T18:16:49.442Z"
   },
   {
    "duration": 44,
    "start_time": "2022-06-22T18:16:49.460Z"
   },
   {
    "duration": 10,
    "start_time": "2022-06-22T18:16:49.506Z"
   },
   {
    "duration": 5,
    "start_time": "2022-06-22T18:16:49.518Z"
   },
   {
    "duration": 5,
    "start_time": "2022-06-22T18:16:49.524Z"
   },
   {
    "duration": 11,
    "start_time": "2022-06-22T18:16:49.530Z"
   },
   {
    "duration": 19,
    "start_time": "2022-06-22T18:16:49.542Z"
   },
   {
    "duration": 38,
    "start_time": "2022-06-22T18:16:49.565Z"
   },
   {
    "duration": 13,
    "start_time": "2022-06-22T18:16:49.605Z"
   },
   {
    "duration": 15,
    "start_time": "2022-06-22T18:16:49.620Z"
   },
   {
    "duration": 28,
    "start_time": "2022-06-22T18:16:49.638Z"
   },
   {
    "duration": 24,
    "start_time": "2022-06-22T18:16:49.668Z"
   },
   {
    "duration": 38,
    "start_time": "2022-06-22T18:16:49.693Z"
   },
   {
    "duration": 16,
    "start_time": "2022-06-22T18:16:49.733Z"
   },
   {
    "duration": 416,
    "start_time": "2022-06-22T18:29:40.721Z"
   },
   {
    "duration": 97,
    "start_time": "2022-06-22T18:29:41.139Z"
   },
   {
    "duration": 25,
    "start_time": "2022-06-22T18:29:41.237Z"
   },
   {
    "duration": 39,
    "start_time": "2022-06-22T18:29:41.265Z"
   },
   {
    "duration": 10,
    "start_time": "2022-06-22T18:29:41.305Z"
   },
   {
    "duration": 9,
    "start_time": "2022-06-22T18:29:41.317Z"
   },
   {
    "duration": 14,
    "start_time": "2022-06-22T18:29:41.328Z"
   },
   {
    "duration": 3,
    "start_time": "2022-06-22T18:29:41.344Z"
   },
   {
    "duration": 53,
    "start_time": "2022-06-22T18:29:41.348Z"
   },
   {
    "duration": 22,
    "start_time": "2022-06-22T18:29:41.404Z"
   },
   {
    "duration": 4,
    "start_time": "2022-06-22T18:29:41.427Z"
   },
   {
    "duration": 12,
    "start_time": "2022-06-22T18:29:41.432Z"
   },
   {
    "duration": 19,
    "start_time": "2022-06-22T18:29:41.446Z"
   },
   {
    "duration": 18,
    "start_time": "2022-06-22T18:29:41.471Z"
   },
   {
    "duration": 7,
    "start_time": "2022-06-22T18:29:41.491Z"
   },
   {
    "duration": 5,
    "start_time": "2022-06-22T18:29:41.499Z"
   },
   {
    "duration": 5,
    "start_time": "2022-06-22T18:29:41.506Z"
   },
   {
    "duration": 17,
    "start_time": "2022-06-22T18:29:41.513Z"
   },
   {
    "duration": 5,
    "start_time": "2022-06-22T18:29:41.531Z"
   },
   {
    "duration": 14,
    "start_time": "2022-06-22T18:29:41.538Z"
   },
   {
    "duration": 6,
    "start_time": "2022-06-22T18:29:41.554Z"
   },
   {
    "duration": 31,
    "start_time": "2022-06-22T18:29:41.562Z"
   },
   {
    "duration": 5,
    "start_time": "2022-06-22T18:29:41.595Z"
   },
   {
    "duration": 22,
    "start_time": "2022-06-22T18:29:41.601Z"
   },
   {
    "duration": 4,
    "start_time": "2022-06-22T18:29:41.624Z"
   },
   {
    "duration": 9,
    "start_time": "2022-06-22T18:29:41.629Z"
   },
   {
    "duration": 6,
    "start_time": "2022-06-22T18:29:41.640Z"
   },
   {
    "duration": 21,
    "start_time": "2022-06-22T18:29:41.659Z"
   },
   {
    "duration": 21,
    "start_time": "2022-06-22T18:29:41.682Z"
   },
   {
    "duration": 5,
    "start_time": "2022-06-22T18:29:41.705Z"
   },
   {
    "duration": 16,
    "start_time": "2022-06-22T18:29:41.711Z"
   },
   {
    "duration": 5,
    "start_time": "2022-06-22T18:29:41.729Z"
   },
   {
    "duration": 6,
    "start_time": "2022-06-22T18:29:41.735Z"
   },
   {
    "duration": 20,
    "start_time": "2022-06-22T18:29:41.752Z"
   },
   {
    "duration": 28,
    "start_time": "2022-06-22T18:29:41.774Z"
   },
   {
    "duration": 7,
    "start_time": "2022-06-22T18:29:41.804Z"
   },
   {
    "duration": 15,
    "start_time": "2022-06-22T18:29:41.812Z"
   },
   {
    "duration": 5,
    "start_time": "2022-06-22T18:29:41.829Z"
   },
   {
    "duration": 6,
    "start_time": "2022-06-22T18:29:41.836Z"
   },
   {
    "duration": 39,
    "start_time": "2022-06-22T18:29:41.844Z"
   },
   {
    "duration": 31,
    "start_time": "2022-06-22T18:29:41.885Z"
   },
   {
    "duration": 4,
    "start_time": "2022-06-22T18:29:41.918Z"
   },
   {
    "duration": 11,
    "start_time": "2022-06-22T18:29:41.924Z"
   },
   {
    "duration": 26,
    "start_time": "2022-06-22T18:29:41.937Z"
   },
   {
    "duration": 30,
    "start_time": "2022-06-22T18:29:41.964Z"
   },
   {
    "duration": 6,
    "start_time": "2022-06-22T18:29:41.997Z"
   },
   {
    "duration": 9,
    "start_time": "2022-06-22T18:29:42.005Z"
   },
   {
    "duration": 11,
    "start_time": "2022-06-22T18:29:42.016Z"
   },
   {
    "duration": 10,
    "start_time": "2022-06-22T18:29:42.028Z"
   },
   {
    "duration": 4,
    "start_time": "2022-06-22T18:29:42.040Z"
   },
   {
    "duration": 21,
    "start_time": "2022-06-22T18:29:42.045Z"
   },
   {
    "duration": 30,
    "start_time": "2022-06-22T18:29:42.071Z"
   },
   {
    "duration": 19,
    "start_time": "2022-06-22T18:29:42.102Z"
   },
   {
    "duration": 17,
    "start_time": "2022-06-22T18:29:42.123Z"
   },
   {
    "duration": 16,
    "start_time": "2022-06-22T18:29:42.141Z"
   },
   {
    "duration": 27,
    "start_time": "2022-06-22T18:29:42.158Z"
   },
   {
    "duration": 1625,
    "start_time": "2022-06-22T18:30:08.284Z"
   },
   {
    "duration": 1665,
    "start_time": "2022-06-22T18:30:10.084Z"
   },
   {
    "duration": 397,
    "start_time": "2022-06-22T18:30:19.925Z"
   },
   {
    "duration": 85,
    "start_time": "2022-06-22T18:30:20.324Z"
   },
   {
    "duration": 20,
    "start_time": "2022-06-22T18:30:20.411Z"
   },
   {
    "duration": 36,
    "start_time": "2022-06-22T18:30:20.434Z"
   },
   {
    "duration": 18,
    "start_time": "2022-06-22T18:30:20.472Z"
   },
   {
    "duration": 8,
    "start_time": "2022-06-22T18:30:20.492Z"
   },
   {
    "duration": 15,
    "start_time": "2022-06-22T18:30:20.501Z"
   },
   {
    "duration": 3,
    "start_time": "2022-06-22T18:30:20.518Z"
   },
   {
    "duration": 35,
    "start_time": "2022-06-22T18:30:20.523Z"
   },
   {
    "duration": 33,
    "start_time": "2022-06-22T18:30:20.563Z"
   },
   {
    "duration": 4,
    "start_time": "2022-06-22T18:30:20.597Z"
   },
   {
    "duration": 6,
    "start_time": "2022-06-22T18:30:20.603Z"
   },
   {
    "duration": 5,
    "start_time": "2022-06-22T18:30:20.611Z"
   },
   {
    "duration": 6,
    "start_time": "2022-06-22T18:30:20.618Z"
   },
   {
    "duration": 28,
    "start_time": "2022-06-22T18:30:20.626Z"
   },
   {
    "duration": 31,
    "start_time": "2022-06-22T18:30:20.656Z"
   },
   {
    "duration": 5,
    "start_time": "2022-06-22T18:30:20.689Z"
   },
   {
    "duration": 16,
    "start_time": "2022-06-22T18:30:20.696Z"
   },
   {
    "duration": 5,
    "start_time": "2022-06-22T18:30:20.713Z"
   },
   {
    "duration": 17,
    "start_time": "2022-06-22T18:30:20.720Z"
   },
   {
    "duration": 8,
    "start_time": "2022-06-22T18:30:20.740Z"
   },
   {
    "duration": 10,
    "start_time": "2022-06-22T18:30:20.753Z"
   },
   {
    "duration": 29,
    "start_time": "2022-06-22T18:30:20.765Z"
   },
   {
    "duration": 33,
    "start_time": "2022-06-22T18:30:20.795Z"
   },
   {
    "duration": 3,
    "start_time": "2022-06-22T18:30:20.830Z"
   },
   {
    "duration": 7,
    "start_time": "2022-06-22T18:30:20.835Z"
   },
   {
    "duration": 10,
    "start_time": "2022-06-22T18:30:20.843Z"
   },
   {
    "duration": 7,
    "start_time": "2022-06-22T18:30:20.859Z"
   },
   {
    "duration": 45,
    "start_time": "2022-06-22T18:30:20.868Z"
   },
   {
    "duration": 8,
    "start_time": "2022-06-22T18:30:20.914Z"
   },
   {
    "duration": 15,
    "start_time": "2022-06-22T18:30:20.923Z"
   },
   {
    "duration": 20,
    "start_time": "2022-06-22T18:30:20.939Z"
   },
   {
    "duration": 35,
    "start_time": "2022-06-22T18:30:20.960Z"
   },
   {
    "duration": 7,
    "start_time": "2022-06-22T18:30:20.996Z"
   },
   {
    "duration": 17,
    "start_time": "2022-06-22T18:30:21.005Z"
   },
   {
    "duration": 7,
    "start_time": "2022-06-22T18:30:21.024Z"
   },
   {
    "duration": 26,
    "start_time": "2022-06-22T18:30:21.033Z"
   },
   {
    "duration": 33,
    "start_time": "2022-06-22T18:30:21.061Z"
   },
   {
    "duration": 9,
    "start_time": "2022-06-22T18:30:21.096Z"
   },
   {
    "duration": 18,
    "start_time": "2022-06-22T18:30:21.108Z"
   },
   {
    "duration": 44,
    "start_time": "2022-06-22T18:30:21.128Z"
   },
   {
    "duration": 6,
    "start_time": "2022-06-22T18:30:21.174Z"
   },
   {
    "duration": 27,
    "start_time": "2022-06-22T18:30:21.181Z"
   },
   {
    "duration": 6,
    "start_time": "2022-06-22T18:30:21.210Z"
   },
   {
    "duration": 11,
    "start_time": "2022-06-22T18:30:21.218Z"
   },
   {
    "duration": 6,
    "start_time": "2022-06-22T18:30:21.231Z"
   },
   {
    "duration": 4,
    "start_time": "2022-06-22T18:30:21.239Z"
   },
   {
    "duration": 17,
    "start_time": "2022-06-22T18:30:21.245Z"
   },
   {
    "duration": 28,
    "start_time": "2022-06-22T18:30:21.265Z"
   },
   {
    "duration": 8,
    "start_time": "2022-06-22T18:30:21.294Z"
   },
   {
    "duration": 13,
    "start_time": "2022-06-22T18:30:21.303Z"
   },
   {
    "duration": 15,
    "start_time": "2022-06-22T18:30:21.318Z"
   },
   {
    "duration": 34,
    "start_time": "2022-06-22T18:30:21.335Z"
   },
   {
    "duration": 26,
    "start_time": "2022-06-22T18:30:21.371Z"
   },
   {
    "duration": 29,
    "start_time": "2022-06-22T18:30:21.400Z"
   },
   {
    "duration": 28,
    "start_time": "2022-06-22T18:30:21.431Z"
   },
   {
    "duration": 6,
    "start_time": "2022-06-22T18:31:39.489Z"
   },
   {
    "duration": 5,
    "start_time": "2022-06-22T18:35:44.109Z"
   },
   {
    "duration": 427,
    "start_time": "2022-06-22T18:35:52.876Z"
   },
   {
    "duration": 85,
    "start_time": "2022-06-22T18:35:53.305Z"
   },
   {
    "duration": 19,
    "start_time": "2022-06-22T18:35:53.391Z"
   },
   {
    "duration": 15,
    "start_time": "2022-06-22T18:35:53.411Z"
   },
   {
    "duration": 28,
    "start_time": "2022-06-22T18:35:53.428Z"
   },
   {
    "duration": 7,
    "start_time": "2022-06-22T18:35:53.458Z"
   },
   {
    "duration": 37,
    "start_time": "2022-06-22T18:35:53.468Z"
   },
   {
    "duration": 4,
    "start_time": "2022-06-22T18:35:53.506Z"
   },
   {
    "duration": 23,
    "start_time": "2022-06-22T18:35:53.511Z"
   },
   {
    "duration": 37,
    "start_time": "2022-06-22T18:35:53.536Z"
   },
   {
    "duration": 6,
    "start_time": "2022-06-22T18:35:53.579Z"
   },
   {
    "duration": 6,
    "start_time": "2022-06-22T18:35:53.587Z"
   },
   {
    "duration": 4,
    "start_time": "2022-06-22T18:35:53.595Z"
   },
   {
    "duration": 4,
    "start_time": "2022-06-22T18:35:53.604Z"
   },
   {
    "duration": 4,
    "start_time": "2022-06-22T18:35:53.610Z"
   },
   {
    "duration": 6,
    "start_time": "2022-06-22T18:35:53.616Z"
   },
   {
    "duration": 8,
    "start_time": "2022-06-22T18:35:53.624Z"
   },
   {
    "duration": 49,
    "start_time": "2022-06-22T18:35:53.633Z"
   },
   {
    "duration": 8,
    "start_time": "2022-06-22T18:35:53.685Z"
   },
   {
    "duration": 16,
    "start_time": "2022-06-22T18:35:53.695Z"
   },
   {
    "duration": 8,
    "start_time": "2022-06-22T18:35:53.713Z"
   },
   {
    "duration": 6,
    "start_time": "2022-06-22T18:35:53.723Z"
   },
   {
    "duration": 24,
    "start_time": "2022-06-22T18:35:53.731Z"
   },
   {
    "duration": 22,
    "start_time": "2022-06-22T18:35:53.757Z"
   },
   {
    "duration": 8,
    "start_time": "2022-06-22T18:35:53.784Z"
   },
   {
    "duration": 6,
    "start_time": "2022-06-22T18:35:53.793Z"
   },
   {
    "duration": 4,
    "start_time": "2022-06-22T18:35:53.801Z"
   },
   {
    "duration": 4,
    "start_time": "2022-06-22T18:35:53.807Z"
   },
   {
    "duration": 28,
    "start_time": "2022-06-22T18:35:53.813Z"
   },
   {
    "duration": 10,
    "start_time": "2022-06-22T18:35:53.844Z"
   },
   {
    "duration": 44,
    "start_time": "2022-06-22T18:35:53.856Z"
   },
   {
    "duration": 5,
    "start_time": "2022-06-22T18:35:53.901Z"
   },
   {
    "duration": 4,
    "start_time": "2022-06-22T18:35:53.907Z"
   },
   {
    "duration": 4,
    "start_time": "2022-06-22T18:35:53.913Z"
   },
   {
    "duration": 14,
    "start_time": "2022-06-22T18:35:53.919Z"
   },
   {
    "duration": 21,
    "start_time": "2022-06-22T18:35:53.935Z"
   },
   {
    "duration": 28,
    "start_time": "2022-06-22T18:35:53.958Z"
   },
   {
    "duration": 5,
    "start_time": "2022-06-22T18:35:53.988Z"
   },
   {
    "duration": 4,
    "start_time": "2022-06-22T18:35:53.994Z"
   },
   {
    "duration": 16,
    "start_time": "2022-06-22T18:35:54.000Z"
   },
   {
    "duration": 74,
    "start_time": "2022-06-22T18:35:54.019Z"
   },
   {
    "duration": 4,
    "start_time": "2022-06-22T18:35:54.094Z"
   },
   {
    "duration": 11,
    "start_time": "2022-06-22T18:35:54.099Z"
   },
   {
    "duration": 6,
    "start_time": "2022-06-22T18:35:54.111Z"
   },
   {
    "duration": 34,
    "start_time": "2022-06-22T18:35:54.119Z"
   },
   {
    "duration": 13,
    "start_time": "2022-06-22T18:35:54.154Z"
   },
   {
    "duration": 22,
    "start_time": "2022-06-22T18:35:54.168Z"
   },
   {
    "duration": 13,
    "start_time": "2022-06-22T18:35:54.192Z"
   },
   {
    "duration": 9,
    "start_time": "2022-06-22T18:35:54.207Z"
   },
   {
    "duration": 6,
    "start_time": "2022-06-22T18:35:54.219Z"
   },
   {
    "duration": 12,
    "start_time": "2022-06-22T18:35:54.227Z"
   },
   {
    "duration": 28,
    "start_time": "2022-06-22T18:35:54.242Z"
   },
   {
    "duration": 32,
    "start_time": "2022-06-22T18:35:54.271Z"
   },
   {
    "duration": 15,
    "start_time": "2022-06-22T18:35:54.304Z"
   },
   {
    "duration": 14,
    "start_time": "2022-06-22T18:35:54.321Z"
   },
   {
    "duration": 23,
    "start_time": "2022-06-22T18:35:54.336Z"
   },
   {
    "duration": 4,
    "start_time": "2022-06-22T18:36:54.624Z"
   },
   {
    "duration": 3,
    "start_time": "2022-06-22T18:37:11.786Z"
   },
   {
    "duration": 5,
    "start_time": "2022-06-22T18:37:23.795Z"
   },
   {
    "duration": 427,
    "start_time": "2022-06-22T18:37:39.982Z"
   },
   {
    "duration": 85,
    "start_time": "2022-06-22T18:37:40.411Z"
   },
   {
    "duration": 20,
    "start_time": "2022-06-22T18:37:40.497Z"
   },
   {
    "duration": 21,
    "start_time": "2022-06-22T18:37:40.518Z"
   },
   {
    "duration": 26,
    "start_time": "2022-06-22T18:37:40.541Z"
   },
   {
    "duration": 25,
    "start_time": "2022-06-22T18:37:40.569Z"
   },
   {
    "duration": 18,
    "start_time": "2022-06-22T18:37:40.596Z"
   },
   {
    "duration": 4,
    "start_time": "2022-06-22T18:37:40.615Z"
   },
   {
    "duration": 23,
    "start_time": "2022-06-22T18:37:40.620Z"
   },
   {
    "duration": 38,
    "start_time": "2022-06-22T18:37:40.644Z"
   },
   {
    "duration": 9,
    "start_time": "2022-06-22T18:37:40.684Z"
   },
   {
    "duration": 9,
    "start_time": "2022-06-22T18:37:40.694Z"
   },
   {
    "duration": 6,
    "start_time": "2022-06-22T18:37:40.705Z"
   },
   {
    "duration": 5,
    "start_time": "2022-06-22T18:37:40.714Z"
   },
   {
    "duration": 8,
    "start_time": "2022-06-22T18:37:40.721Z"
   },
   {
    "duration": 6,
    "start_time": "2022-06-22T18:37:40.731Z"
   },
   {
    "duration": 22,
    "start_time": "2022-06-22T18:37:40.754Z"
   },
   {
    "duration": 25,
    "start_time": "2022-06-22T18:37:40.778Z"
   },
   {
    "duration": 6,
    "start_time": "2022-06-22T18:37:40.805Z"
   },
   {
    "duration": 17,
    "start_time": "2022-06-22T18:37:40.813Z"
   },
   {
    "duration": 5,
    "start_time": "2022-06-22T18:37:40.832Z"
   },
   {
    "duration": 11,
    "start_time": "2022-06-22T18:37:40.839Z"
   },
   {
    "duration": 36,
    "start_time": "2022-06-22T18:37:40.852Z"
   },
   {
    "duration": 9,
    "start_time": "2022-06-22T18:37:40.890Z"
   },
   {
    "duration": 7,
    "start_time": "2022-06-22T18:37:40.901Z"
   },
   {
    "duration": 10,
    "start_time": "2022-06-22T18:37:40.910Z"
   },
   {
    "duration": 9,
    "start_time": "2022-06-22T18:37:40.922Z"
   },
   {
    "duration": 14,
    "start_time": "2022-06-22T18:37:40.932Z"
   },
   {
    "duration": 47,
    "start_time": "2022-06-22T18:37:40.948Z"
   },
   {
    "duration": 27,
    "start_time": "2022-06-22T18:37:40.997Z"
   },
   {
    "duration": 7,
    "start_time": "2022-06-22T18:37:41.026Z"
   },
   {
    "duration": 44,
    "start_time": "2022-06-22T18:37:41.036Z"
   },
   {
    "duration": 8,
    "start_time": "2022-06-22T18:37:41.083Z"
   },
   {
    "duration": 20,
    "start_time": "2022-06-22T18:37:41.094Z"
   },
   {
    "duration": 11,
    "start_time": "2022-06-22T18:37:41.116Z"
   },
   {
    "duration": 31,
    "start_time": "2022-06-22T18:37:41.129Z"
   },
   {
    "duration": 17,
    "start_time": "2022-06-22T18:37:41.162Z"
   },
   {
    "duration": 33,
    "start_time": "2022-06-22T18:37:41.181Z"
   },
   {
    "duration": 6,
    "start_time": "2022-06-22T18:37:41.216Z"
   },
   {
    "duration": 12,
    "start_time": "2022-06-22T18:37:41.224Z"
   },
   {
    "duration": 26,
    "start_time": "2022-06-22T18:37:41.241Z"
   },
   {
    "duration": 47,
    "start_time": "2022-06-22T18:37:41.269Z"
   },
   {
    "duration": 4,
    "start_time": "2022-06-22T18:37:41.317Z"
   },
   {
    "duration": 13,
    "start_time": "2022-06-22T18:37:41.323Z"
   },
   {
    "duration": 10,
    "start_time": "2022-06-22T18:37:41.338Z"
   },
   {
    "duration": 18,
    "start_time": "2022-06-22T18:37:41.349Z"
   },
   {
    "duration": 22,
    "start_time": "2022-06-22T18:37:41.371Z"
   },
   {
    "duration": 8,
    "start_time": "2022-06-22T18:37:41.396Z"
   },
   {
    "duration": 13,
    "start_time": "2022-06-22T18:37:41.406Z"
   },
   {
    "duration": 11,
    "start_time": "2022-06-22T18:37:41.421Z"
   },
   {
    "duration": 6,
    "start_time": "2022-06-22T18:37:41.434Z"
   },
   {
    "duration": 10,
    "start_time": "2022-06-22T18:37:41.441Z"
   },
   {
    "duration": 43,
    "start_time": "2022-06-22T18:37:41.452Z"
   },
   {
    "duration": 26,
    "start_time": "2022-06-22T18:37:41.497Z"
   },
   {
    "duration": 16,
    "start_time": "2022-06-22T18:37:41.525Z"
   },
   {
    "duration": 20,
    "start_time": "2022-06-22T18:37:41.543Z"
   },
   {
    "duration": 33,
    "start_time": "2022-06-22T18:37:41.565Z"
   },
   {
    "duration": 3,
    "start_time": "2022-06-22T18:38:24.881Z"
   },
   {
    "duration": 6,
    "start_time": "2022-06-22T18:39:58.885Z"
   },
   {
    "duration": 461,
    "start_time": "2022-06-22T18:40:43.833Z"
   },
   {
    "duration": 86,
    "start_time": "2022-06-22T18:40:44.296Z"
   },
   {
    "duration": 20,
    "start_time": "2022-06-22T18:40:44.384Z"
   },
   {
    "duration": 17,
    "start_time": "2022-06-22T18:40:44.406Z"
   },
   {
    "duration": 9,
    "start_time": "2022-06-22T18:40:44.424Z"
   },
   {
    "duration": 7,
    "start_time": "2022-06-22T18:40:44.435Z"
   },
   {
    "duration": 25,
    "start_time": "2022-06-22T18:40:44.454Z"
   },
   {
    "duration": 15,
    "start_time": "2022-06-22T18:40:44.480Z"
   },
   {
    "duration": 19,
    "start_time": "2022-06-22T18:40:44.496Z"
   },
   {
    "duration": 35,
    "start_time": "2022-06-22T18:40:44.520Z"
   },
   {
    "duration": 5,
    "start_time": "2022-06-22T18:40:44.557Z"
   },
   {
    "duration": 24,
    "start_time": "2022-06-22T18:40:44.566Z"
   },
   {
    "duration": 5,
    "start_time": "2022-06-22T18:40:44.592Z"
   },
   {
    "duration": 5,
    "start_time": "2022-06-22T18:40:44.599Z"
   },
   {
    "duration": 5,
    "start_time": "2022-06-22T18:40:44.605Z"
   },
   {
    "duration": 4,
    "start_time": "2022-06-22T18:40:44.612Z"
   },
   {
    "duration": 14,
    "start_time": "2022-06-22T18:40:44.617Z"
   },
   {
    "duration": 21,
    "start_time": "2022-06-22T18:40:44.633Z"
   },
   {
    "duration": 10,
    "start_time": "2022-06-22T18:40:44.656Z"
   },
   {
    "duration": 30,
    "start_time": "2022-06-22T18:40:44.667Z"
   },
   {
    "duration": 11,
    "start_time": "2022-06-22T18:40:44.699Z"
   },
   {
    "duration": 7,
    "start_time": "2022-06-22T18:40:44.712Z"
   },
   {
    "duration": 5,
    "start_time": "2022-06-22T18:40:44.720Z"
   },
   {
    "duration": 6,
    "start_time": "2022-06-22T18:40:44.727Z"
   },
   {
    "duration": 22,
    "start_time": "2022-06-22T18:40:44.734Z"
   },
   {
    "duration": 30,
    "start_time": "2022-06-22T18:40:44.758Z"
   },
   {
    "duration": 6,
    "start_time": "2022-06-22T18:40:44.789Z"
   },
   {
    "duration": 5,
    "start_time": "2022-06-22T18:40:44.798Z"
   },
   {
    "duration": 6,
    "start_time": "2022-06-22T18:40:44.804Z"
   },
   {
    "duration": 6,
    "start_time": "2022-06-22T18:40:44.812Z"
   },
   {
    "duration": 91,
    "start_time": "2022-06-22T18:40:44.820Z"
   },
   {
    "duration": 0,
    "start_time": "2022-06-22T18:40:44.913Z"
   },
   {
    "duration": 0,
    "start_time": "2022-06-22T18:40:44.914Z"
   },
   {
    "duration": 0,
    "start_time": "2022-06-22T18:40:44.915Z"
   },
   {
    "duration": 0,
    "start_time": "2022-06-22T18:40:44.916Z"
   },
   {
    "duration": 0,
    "start_time": "2022-06-22T18:40:44.917Z"
   },
   {
    "duration": 0,
    "start_time": "2022-06-22T18:40:44.918Z"
   },
   {
    "duration": 0,
    "start_time": "2022-06-22T18:40:44.919Z"
   },
   {
    "duration": 0,
    "start_time": "2022-06-22T18:40:44.920Z"
   },
   {
    "duration": 0,
    "start_time": "2022-06-22T18:40:44.921Z"
   },
   {
    "duration": 0,
    "start_time": "2022-06-22T18:40:44.922Z"
   },
   {
    "duration": 0,
    "start_time": "2022-06-22T18:40:44.923Z"
   },
   {
    "duration": 0,
    "start_time": "2022-06-22T18:40:44.924Z"
   },
   {
    "duration": 0,
    "start_time": "2022-06-22T18:40:44.925Z"
   },
   {
    "duration": 0,
    "start_time": "2022-06-22T18:40:44.927Z"
   },
   {
    "duration": 0,
    "start_time": "2022-06-22T18:40:44.928Z"
   },
   {
    "duration": 0,
    "start_time": "2022-06-22T18:40:44.953Z"
   },
   {
    "duration": 0,
    "start_time": "2022-06-22T18:40:44.955Z"
   },
   {
    "duration": 0,
    "start_time": "2022-06-22T18:40:44.957Z"
   },
   {
    "duration": 0,
    "start_time": "2022-06-22T18:40:44.958Z"
   },
   {
    "duration": 0,
    "start_time": "2022-06-22T18:40:44.960Z"
   },
   {
    "duration": 0,
    "start_time": "2022-06-22T18:40:44.961Z"
   },
   {
    "duration": 0,
    "start_time": "2022-06-22T18:40:44.962Z"
   },
   {
    "duration": 0,
    "start_time": "2022-06-22T18:40:44.964Z"
   },
   {
    "duration": 0,
    "start_time": "2022-06-22T18:40:44.965Z"
   },
   {
    "duration": 0,
    "start_time": "2022-06-22T18:40:44.967Z"
   },
   {
    "duration": 0,
    "start_time": "2022-06-22T18:40:44.968Z"
   },
   {
    "duration": 0,
    "start_time": "2022-06-22T18:40:44.970Z"
   },
   {
    "duration": 446,
    "start_time": "2022-06-22T18:41:16.076Z"
   },
   {
    "duration": 86,
    "start_time": "2022-06-22T18:41:16.523Z"
   },
   {
    "duration": 18,
    "start_time": "2022-06-22T18:41:16.610Z"
   },
   {
    "duration": 28,
    "start_time": "2022-06-22T18:41:16.630Z"
   },
   {
    "duration": 31,
    "start_time": "2022-06-22T18:41:16.660Z"
   },
   {
    "duration": 5,
    "start_time": "2022-06-22T18:41:16.693Z"
   },
   {
    "duration": 14,
    "start_time": "2022-06-22T18:41:16.699Z"
   },
   {
    "duration": 3,
    "start_time": "2022-06-22T18:41:16.714Z"
   },
   {
    "duration": 17,
    "start_time": "2022-06-22T18:41:16.719Z"
   },
   {
    "duration": 37,
    "start_time": "2022-06-22T18:41:16.753Z"
   },
   {
    "duration": 7,
    "start_time": "2022-06-22T18:41:16.792Z"
   },
   {
    "duration": 6,
    "start_time": "2022-06-22T18:41:16.801Z"
   },
   {
    "duration": 4,
    "start_time": "2022-06-22T18:41:16.809Z"
   },
   {
    "duration": 5,
    "start_time": "2022-06-22T18:41:16.815Z"
   },
   {
    "duration": 4,
    "start_time": "2022-06-22T18:41:16.822Z"
   },
   {
    "duration": 34,
    "start_time": "2022-06-22T18:41:16.828Z"
   },
   {
    "duration": 25,
    "start_time": "2022-06-22T18:41:16.864Z"
   },
   {
    "duration": 24,
    "start_time": "2022-06-22T18:41:16.892Z"
   },
   {
    "duration": 7,
    "start_time": "2022-06-22T18:41:16.918Z"
   },
   {
    "duration": 13,
    "start_time": "2022-06-22T18:41:16.927Z"
   },
   {
    "duration": 8,
    "start_time": "2022-06-22T18:41:16.941Z"
   },
   {
    "duration": 33,
    "start_time": "2022-06-22T18:41:16.952Z"
   },
   {
    "duration": 5,
    "start_time": "2022-06-22T18:41:16.987Z"
   },
   {
    "duration": 5,
    "start_time": "2022-06-22T18:41:16.993Z"
   },
   {
    "duration": 5,
    "start_time": "2022-06-22T18:41:17.000Z"
   },
   {
    "duration": 9,
    "start_time": "2022-06-22T18:41:17.006Z"
   },
   {
    "duration": 9,
    "start_time": "2022-06-22T18:41:17.016Z"
   },
   {
    "duration": 5,
    "start_time": "2022-06-22T18:41:17.028Z"
   },
   {
    "duration": 4,
    "start_time": "2022-06-22T18:41:17.034Z"
   },
   {
    "duration": 7,
    "start_time": "2022-06-22T18:41:17.040Z"
   },
   {
    "duration": 13,
    "start_time": "2022-06-22T18:41:17.054Z"
   },
   {
    "duration": 19,
    "start_time": "2022-06-22T18:41:17.073Z"
   },
   {
    "duration": 17,
    "start_time": "2022-06-22T18:41:17.093Z"
   },
   {
    "duration": 4,
    "start_time": "2022-06-22T18:41:17.112Z"
   },
   {
    "duration": 7,
    "start_time": "2022-06-22T18:41:17.118Z"
   },
   {
    "duration": 5,
    "start_time": "2022-06-22T18:41:17.127Z"
   },
   {
    "duration": 33,
    "start_time": "2022-06-22T18:41:17.134Z"
   },
   {
    "duration": 8,
    "start_time": "2022-06-22T18:41:17.169Z"
   },
   {
    "duration": 28,
    "start_time": "2022-06-22T18:41:17.179Z"
   },
   {
    "duration": 10,
    "start_time": "2022-06-22T18:41:17.208Z"
   },
   {
    "duration": 12,
    "start_time": "2022-06-22T18:41:17.219Z"
   },
   {
    "duration": 43,
    "start_time": "2022-06-22T18:41:17.232Z"
   },
   {
    "duration": 36,
    "start_time": "2022-06-22T18:41:17.279Z"
   },
   {
    "duration": 3,
    "start_time": "2022-06-22T18:41:17.317Z"
   },
   {
    "duration": 10,
    "start_time": "2022-06-22T18:41:17.322Z"
   },
   {
    "duration": 34,
    "start_time": "2022-06-22T18:41:17.333Z"
   },
   {
    "duration": 15,
    "start_time": "2022-06-22T18:41:17.369Z"
   },
   {
    "duration": 14,
    "start_time": "2022-06-22T18:41:17.386Z"
   },
   {
    "duration": 5,
    "start_time": "2022-06-22T18:41:17.402Z"
   },
   {
    "duration": 13,
    "start_time": "2022-06-22T18:41:17.409Z"
   },
   {
    "duration": 12,
    "start_time": "2022-06-22T18:41:17.423Z"
   },
   {
    "duration": 6,
    "start_time": "2022-06-22T18:41:17.436Z"
   },
   {
    "duration": 13,
    "start_time": "2022-06-22T18:41:17.444Z"
   },
   {
    "duration": 38,
    "start_time": "2022-06-22T18:41:17.461Z"
   },
   {
    "duration": 18,
    "start_time": "2022-06-22T18:41:17.501Z"
   },
   {
    "duration": 15,
    "start_time": "2022-06-22T18:41:17.520Z"
   },
   {
    "duration": 14,
    "start_time": "2022-06-22T18:41:17.537Z"
   },
   {
    "duration": 18,
    "start_time": "2022-06-22T18:41:17.553Z"
   },
   {
    "duration": 4,
    "start_time": "2022-06-22T18:41:34.701Z"
   },
   {
    "duration": 3,
    "start_time": "2022-06-22T18:41:40.037Z"
   },
   {
    "duration": 3,
    "start_time": "2022-06-22T18:41:57.237Z"
   },
   {
    "duration": 4,
    "start_time": "2022-06-22T18:42:05.739Z"
   },
   {
    "duration": 4,
    "start_time": "2022-06-22T18:42:12.722Z"
   },
   {
    "duration": 4,
    "start_time": "2022-06-22T18:42:17.780Z"
   },
   {
    "duration": 4,
    "start_time": "2022-06-22T18:42:32.392Z"
   },
   {
    "duration": 91,
    "start_time": "2022-06-22T18:42:45.552Z"
   },
   {
    "duration": 89,
    "start_time": "2022-06-22T18:43:09.726Z"
   },
   {
    "duration": 177,
    "start_time": "2022-06-22T18:43:26.949Z"
   },
   {
    "duration": 13,
    "start_time": "2022-06-22T18:43:37.583Z"
   },
   {
    "duration": 4,
    "start_time": "2022-06-22T18:43:39.961Z"
   },
   {
    "duration": 5,
    "start_time": "2022-06-22T18:43:44.451Z"
   },
   {
    "duration": 5,
    "start_time": "2022-06-22T18:43:44.774Z"
   },
   {
    "duration": 435,
    "start_time": "2022-06-22T18:43:50.066Z"
   },
   {
    "duration": 90,
    "start_time": "2022-06-22T18:43:50.504Z"
   },
   {
    "duration": 23,
    "start_time": "2022-06-22T18:43:50.596Z"
   },
   {
    "duration": 15,
    "start_time": "2022-06-22T18:43:50.621Z"
   },
   {
    "duration": 34,
    "start_time": "2022-06-22T18:43:50.638Z"
   },
   {
    "duration": 16,
    "start_time": "2022-06-22T18:43:50.674Z"
   },
   {
    "duration": 13,
    "start_time": "2022-06-22T18:43:50.692Z"
   },
   {
    "duration": 3,
    "start_time": "2022-06-22T18:43:50.707Z"
   },
   {
    "duration": 19,
    "start_time": "2022-06-22T18:43:50.712Z"
   },
   {
    "duration": 52,
    "start_time": "2022-06-22T18:43:50.733Z"
   },
   {
    "duration": 3,
    "start_time": "2022-06-22T18:43:50.788Z"
   },
   {
    "duration": 6,
    "start_time": "2022-06-22T18:43:50.793Z"
   },
   {
    "duration": 5,
    "start_time": "2022-06-22T18:43:50.800Z"
   },
   {
    "duration": 4,
    "start_time": "2022-06-22T18:43:50.808Z"
   },
   {
    "duration": 14,
    "start_time": "2022-06-22T18:43:50.813Z"
   },
   {
    "duration": 5,
    "start_time": "2022-06-22T18:43:50.856Z"
   },
   {
    "duration": 27,
    "start_time": "2022-06-22T18:43:50.863Z"
   },
   {
    "duration": 15,
    "start_time": "2022-06-22T18:43:50.892Z"
   },
   {
    "duration": 5,
    "start_time": "2022-06-22T18:43:50.908Z"
   },
   {
    "duration": 13,
    "start_time": "2022-06-22T18:43:50.914Z"
   },
   {
    "duration": 7,
    "start_time": "2022-06-22T18:43:50.929Z"
   },
   {
    "duration": 20,
    "start_time": "2022-06-22T18:43:50.938Z"
   },
   {
    "duration": 6,
    "start_time": "2022-06-22T18:43:50.960Z"
   },
   {
    "duration": 30,
    "start_time": "2022-06-22T18:43:50.968Z"
   },
   {
    "duration": 3,
    "start_time": "2022-06-22T18:43:51.000Z"
   },
   {
    "duration": 5,
    "start_time": "2022-06-22T18:43:51.004Z"
   },
   {
    "duration": 6,
    "start_time": "2022-06-22T18:43:51.011Z"
   },
   {
    "duration": 7,
    "start_time": "2022-06-22T18:43:51.019Z"
   },
   {
    "duration": 12,
    "start_time": "2022-06-22T18:43:51.028Z"
   },
   {
    "duration": 17,
    "start_time": "2022-06-22T18:43:51.043Z"
   },
   {
    "duration": 41,
    "start_time": "2022-06-22T18:43:51.064Z"
   },
   {
    "duration": 9,
    "start_time": "2022-06-22T18:43:51.107Z"
   },
   {
    "duration": 19,
    "start_time": "2022-06-22T18:43:51.117Z"
   },
   {
    "duration": 8,
    "start_time": "2022-06-22T18:43:51.138Z"
   },
   {
    "duration": 8,
    "start_time": "2022-06-22T18:43:51.148Z"
   },
   {
    "duration": 36,
    "start_time": "2022-06-22T18:43:51.158Z"
   },
   {
    "duration": 17,
    "start_time": "2022-06-22T18:43:51.196Z"
   },
   {
    "duration": 6,
    "start_time": "2022-06-22T18:43:51.214Z"
   },
   {
    "duration": 17,
    "start_time": "2022-06-22T18:43:51.222Z"
   },
   {
    "duration": 6,
    "start_time": "2022-06-22T18:43:51.241Z"
   },
   {
    "duration": 5,
    "start_time": "2022-06-22T18:43:51.255Z"
   },
   {
    "duration": 42,
    "start_time": "2022-06-22T18:43:51.262Z"
   },
   {
    "duration": 28,
    "start_time": "2022-06-22T18:43:51.305Z"
   },
   {
    "duration": 3,
    "start_time": "2022-06-22T18:43:51.335Z"
   },
   {
    "duration": 19,
    "start_time": "2022-06-22T18:43:51.340Z"
   },
   {
    "duration": 27,
    "start_time": "2022-06-22T18:43:51.363Z"
   },
   {
    "duration": 9,
    "start_time": "2022-06-22T18:43:51.392Z"
   },
   {
    "duration": 6,
    "start_time": "2022-06-22T18:43:51.403Z"
   },
   {
    "duration": 5,
    "start_time": "2022-06-22T18:43:51.410Z"
   },
   {
    "duration": 12,
    "start_time": "2022-06-22T18:43:51.416Z"
   },
   {
    "duration": 10,
    "start_time": "2022-06-22T18:43:51.429Z"
   },
   {
    "duration": 4,
    "start_time": "2022-06-22T18:43:51.441Z"
   },
   {
    "duration": 17,
    "start_time": "2022-06-22T18:43:51.446Z"
   },
   {
    "duration": 36,
    "start_time": "2022-06-22T18:43:51.465Z"
   },
   {
    "duration": 21,
    "start_time": "2022-06-22T18:43:51.502Z"
   },
   {
    "duration": 17,
    "start_time": "2022-06-22T18:43:51.524Z"
   },
   {
    "duration": 16,
    "start_time": "2022-06-22T18:43:51.542Z"
   },
   {
    "duration": 36,
    "start_time": "2022-06-22T18:43:51.560Z"
   },
   {
    "duration": 5,
    "start_time": "2022-06-22T18:44:27.593Z"
   },
   {
    "duration": 5,
    "start_time": "2022-06-22T18:44:28.088Z"
   },
   {
    "duration": 455,
    "start_time": "2022-06-22T18:44:34.566Z"
   },
   {
    "duration": 86,
    "start_time": "2022-06-22T18:44:35.023Z"
   },
   {
    "duration": 19,
    "start_time": "2022-06-22T18:44:35.111Z"
   },
   {
    "duration": 35,
    "start_time": "2022-06-22T18:44:35.132Z"
   },
   {
    "duration": 19,
    "start_time": "2022-06-22T18:44:35.169Z"
   },
   {
    "duration": 9,
    "start_time": "2022-06-22T18:44:35.190Z"
   },
   {
    "duration": 21,
    "start_time": "2022-06-22T18:44:35.200Z"
   },
   {
    "duration": 5,
    "start_time": "2022-06-22T18:44:35.223Z"
   },
   {
    "duration": 45,
    "start_time": "2022-06-22T18:44:35.230Z"
   },
   {
    "duration": 31,
    "start_time": "2022-06-22T18:44:35.281Z"
   },
   {
    "duration": 4,
    "start_time": "2022-06-22T18:44:35.313Z"
   },
   {
    "duration": 10,
    "start_time": "2022-06-22T18:44:35.318Z"
   },
   {
    "duration": 8,
    "start_time": "2022-06-22T18:44:35.330Z"
   },
   {
    "duration": 13,
    "start_time": "2022-06-22T18:44:35.340Z"
   },
   {
    "duration": 35,
    "start_time": "2022-06-22T18:44:35.355Z"
   },
   {
    "duration": 6,
    "start_time": "2022-06-22T18:44:35.391Z"
   },
   {
    "duration": 8,
    "start_time": "2022-06-22T18:44:35.398Z"
   },
   {
    "duration": 20,
    "start_time": "2022-06-22T18:44:35.408Z"
   },
   {
    "duration": 5,
    "start_time": "2022-06-22T18:44:35.430Z"
   },
   {
    "duration": 13,
    "start_time": "2022-06-22T18:44:35.437Z"
   },
   {
    "duration": 9,
    "start_time": "2022-06-22T18:44:35.452Z"
   },
   {
    "duration": 31,
    "start_time": "2022-06-22T18:44:35.462Z"
   },
   {
    "duration": 8,
    "start_time": "2022-06-22T18:44:35.495Z"
   },
   {
    "duration": 9,
    "start_time": "2022-06-22T18:44:35.505Z"
   },
   {
    "duration": 7,
    "start_time": "2022-06-22T18:44:35.515Z"
   },
   {
    "duration": 15,
    "start_time": "2022-06-22T18:44:35.523Z"
   },
   {
    "duration": 11,
    "start_time": "2022-06-22T18:44:35.539Z"
   },
   {
    "duration": 35,
    "start_time": "2022-06-22T18:44:35.555Z"
   },
   {
    "duration": 7,
    "start_time": "2022-06-22T18:44:35.592Z"
   },
   {
    "duration": 881,
    "start_time": "2022-06-22T18:44:35.601Z"
   },
   {
    "duration": 0,
    "start_time": "2022-06-22T18:44:36.484Z"
   },
   {
    "duration": 0,
    "start_time": "2022-06-22T18:44:36.485Z"
   },
   {
    "duration": 0,
    "start_time": "2022-06-22T18:44:36.487Z"
   },
   {
    "duration": 0,
    "start_time": "2022-06-22T18:44:36.488Z"
   },
   {
    "duration": 0,
    "start_time": "2022-06-22T18:44:36.490Z"
   },
   {
    "duration": 0,
    "start_time": "2022-06-22T18:44:36.491Z"
   },
   {
    "duration": 0,
    "start_time": "2022-06-22T18:44:36.492Z"
   },
   {
    "duration": 0,
    "start_time": "2022-06-22T18:44:36.494Z"
   },
   {
    "duration": 0,
    "start_time": "2022-06-22T18:44:36.495Z"
   },
   {
    "duration": 0,
    "start_time": "2022-06-22T18:44:36.497Z"
   },
   {
    "duration": 0,
    "start_time": "2022-06-22T18:44:36.498Z"
   },
   {
    "duration": 0,
    "start_time": "2022-06-22T18:44:36.501Z"
   },
   {
    "duration": 0,
    "start_time": "2022-06-22T18:44:36.502Z"
   },
   {
    "duration": 0,
    "start_time": "2022-06-22T18:44:36.504Z"
   },
   {
    "duration": 0,
    "start_time": "2022-06-22T18:44:36.505Z"
   },
   {
    "duration": 0,
    "start_time": "2022-06-22T18:44:36.506Z"
   },
   {
    "duration": 0,
    "start_time": "2022-06-22T18:44:36.508Z"
   },
   {
    "duration": 0,
    "start_time": "2022-06-22T18:44:36.509Z"
   },
   {
    "duration": 0,
    "start_time": "2022-06-22T18:44:36.511Z"
   },
   {
    "duration": 0,
    "start_time": "2022-06-22T18:44:36.512Z"
   },
   {
    "duration": 0,
    "start_time": "2022-06-22T18:44:36.513Z"
   },
   {
    "duration": 0,
    "start_time": "2022-06-22T18:44:36.515Z"
   },
   {
    "duration": 0,
    "start_time": "2022-06-22T18:44:36.516Z"
   },
   {
    "duration": 0,
    "start_time": "2022-06-22T18:44:36.517Z"
   },
   {
    "duration": 0,
    "start_time": "2022-06-22T18:44:36.519Z"
   },
   {
    "duration": 0,
    "start_time": "2022-06-22T18:44:36.521Z"
   },
   {
    "duration": 0,
    "start_time": "2022-06-22T18:44:36.522Z"
   },
   {
    "duration": 0,
    "start_time": "2022-06-22T18:44:36.552Z"
   },
   {
    "duration": 5,
    "start_time": "2022-06-22T18:45:07.341Z"
   },
   {
    "duration": 4,
    "start_time": "2022-06-22T18:45:08.389Z"
   },
   {
    "duration": 32,
    "start_time": "2022-06-22T18:45:20.972Z"
   },
   {
    "duration": 5,
    "start_time": "2022-06-22T18:45:27.377Z"
   },
   {
    "duration": 5,
    "start_time": "2022-06-22T18:45:50.338Z"
   },
   {
    "duration": 27,
    "start_time": "2022-06-22T18:46:07.668Z"
   },
   {
    "duration": 444,
    "start_time": "2022-06-22T18:46:22.186Z"
   },
   {
    "duration": 89,
    "start_time": "2022-06-22T18:46:22.631Z"
   },
   {
    "duration": 21,
    "start_time": "2022-06-22T18:46:22.721Z"
   },
   {
    "duration": 43,
    "start_time": "2022-06-22T18:46:22.743Z"
   },
   {
    "duration": 12,
    "start_time": "2022-06-22T18:46:22.788Z"
   },
   {
    "duration": 4,
    "start_time": "2022-06-22T18:46:22.802Z"
   },
   {
    "duration": 14,
    "start_time": "2022-06-22T18:46:22.808Z"
   },
   {
    "duration": 4,
    "start_time": "2022-06-22T18:46:22.824Z"
   },
   {
    "duration": 62,
    "start_time": "2022-06-22T18:46:22.829Z"
   },
   {
    "duration": 23,
    "start_time": "2022-06-22T18:46:22.895Z"
   },
   {
    "duration": 4,
    "start_time": "2022-06-22T18:46:22.919Z"
   },
   {
    "duration": 6,
    "start_time": "2022-06-22T18:46:22.924Z"
   },
   {
    "duration": 21,
    "start_time": "2022-06-22T18:46:22.932Z"
   },
   {
    "duration": 6,
    "start_time": "2022-06-22T18:46:22.956Z"
   },
   {
    "duration": 26,
    "start_time": "2022-06-22T18:46:22.964Z"
   },
   {
    "duration": 4,
    "start_time": "2022-06-22T18:46:22.993Z"
   },
   {
    "duration": 4,
    "start_time": "2022-06-22T18:46:22.998Z"
   },
   {
    "duration": 23,
    "start_time": "2022-06-22T18:46:23.004Z"
   },
   {
    "duration": 7,
    "start_time": "2022-06-22T18:46:23.029Z"
   },
   {
    "duration": 30,
    "start_time": "2022-06-22T18:46:23.038Z"
   },
   {
    "duration": 23,
    "start_time": "2022-06-22T18:46:23.071Z"
   },
   {
    "duration": 8,
    "start_time": "2022-06-22T18:46:23.096Z"
   },
   {
    "duration": 5,
    "start_time": "2022-06-22T18:46:23.105Z"
   },
   {
    "duration": 5,
    "start_time": "2022-06-22T18:46:23.112Z"
   },
   {
    "duration": 3,
    "start_time": "2022-06-22T18:46:23.118Z"
   },
   {
    "duration": 6,
    "start_time": "2022-06-22T18:46:23.122Z"
   },
   {
    "duration": 26,
    "start_time": "2022-06-22T18:46:23.130Z"
   },
   {
    "duration": 9,
    "start_time": "2022-06-22T18:46:23.162Z"
   },
   {
    "duration": 17,
    "start_time": "2022-06-22T18:46:23.173Z"
   },
   {
    "duration": 9,
    "start_time": "2022-06-22T18:46:23.192Z"
   },
   {
    "duration": 3,
    "start_time": "2022-06-22T18:46:23.203Z"
   },
   {
    "duration": 8,
    "start_time": "2022-06-22T18:46:23.208Z"
   },
   {
    "duration": 17,
    "start_time": "2022-06-22T18:46:23.218Z"
   },
   {
    "duration": 11,
    "start_time": "2022-06-22T18:46:23.254Z"
   },
   {
    "duration": 20,
    "start_time": "2022-06-22T18:46:23.267Z"
   },
   {
    "duration": 7,
    "start_time": "2022-06-22T18:46:23.289Z"
   },
   {
    "duration": 17,
    "start_time": "2022-06-22T18:46:23.297Z"
   },
   {
    "duration": 5,
    "start_time": "2022-06-22T18:46:23.316Z"
   },
   {
    "duration": 53,
    "start_time": "2022-06-22T18:46:23.323Z"
   },
   {
    "duration": 8,
    "start_time": "2022-06-22T18:46:23.378Z"
   },
   {
    "duration": 10,
    "start_time": "2022-06-22T18:46:23.388Z"
   },
   {
    "duration": 18,
    "start_time": "2022-06-22T18:46:23.399Z"
   },
   {
    "duration": 62,
    "start_time": "2022-06-22T18:46:23.418Z"
   },
   {
    "duration": 5,
    "start_time": "2022-06-22T18:46:23.483Z"
   },
   {
    "duration": 10,
    "start_time": "2022-06-22T18:46:23.490Z"
   },
   {
    "duration": 6,
    "start_time": "2022-06-22T18:46:23.501Z"
   },
   {
    "duration": 8,
    "start_time": "2022-06-22T18:46:23.508Z"
   },
   {
    "duration": 5,
    "start_time": "2022-06-22T18:46:23.518Z"
   },
   {
    "duration": 30,
    "start_time": "2022-06-22T18:46:23.524Z"
   },
   {
    "duration": 38,
    "start_time": "2022-06-22T18:46:23.557Z"
   },
   {
    "duration": 22,
    "start_time": "2022-06-22T18:46:23.596Z"
   },
   {
    "duration": 5,
    "start_time": "2022-06-22T18:46:23.620Z"
   },
   {
    "duration": 11,
    "start_time": "2022-06-22T18:46:23.626Z"
   },
   {
    "duration": 15,
    "start_time": "2022-06-22T18:46:23.639Z"
   },
   {
    "duration": 43,
    "start_time": "2022-06-22T18:46:23.656Z"
   },
   {
    "duration": 16,
    "start_time": "2022-06-22T18:46:23.701Z"
   },
   {
    "duration": 17,
    "start_time": "2022-06-22T18:46:23.718Z"
   },
   {
    "duration": 20,
    "start_time": "2022-06-22T18:46:23.737Z"
   },
   {
    "duration": 71,
    "start_time": "2022-07-08T16:23:34.479Z"
   },
   {
    "duration": 478,
    "start_time": "2022-07-08T16:23:40.591Z"
   },
   {
    "duration": 324,
    "start_time": "2022-07-08T16:23:41.071Z"
   },
   {
    "duration": 22,
    "start_time": "2022-07-08T16:23:41.398Z"
   },
   {
    "duration": 18,
    "start_time": "2022-07-08T16:23:41.423Z"
   },
   {
    "duration": 13,
    "start_time": "2022-07-08T16:23:41.443Z"
   },
   {
    "duration": 6,
    "start_time": "2022-07-08T16:23:41.458Z"
   },
   {
    "duration": 17,
    "start_time": "2022-07-08T16:23:41.498Z"
   },
   {
    "duration": 4,
    "start_time": "2022-07-08T16:23:41.517Z"
   },
   {
    "duration": 23,
    "start_time": "2022-07-08T16:23:41.522Z"
   },
   {
    "duration": 49,
    "start_time": "2022-07-08T16:23:41.549Z"
   },
   {
    "duration": 4,
    "start_time": "2022-07-08T16:23:41.601Z"
   },
   {
    "duration": 13,
    "start_time": "2022-07-08T16:23:41.607Z"
   },
   {
    "duration": 13,
    "start_time": "2022-07-08T16:23:41.622Z"
   },
   {
    "duration": 6,
    "start_time": "2022-07-08T16:23:41.637Z"
   },
   {
    "duration": 8,
    "start_time": "2022-07-08T16:23:41.647Z"
   },
   {
    "duration": 5,
    "start_time": "2022-07-08T16:23:41.657Z"
   },
   {
    "duration": 5,
    "start_time": "2022-07-08T16:23:41.663Z"
   },
   {
    "duration": 31,
    "start_time": "2022-07-08T16:23:41.670Z"
   },
   {
    "duration": 6,
    "start_time": "2022-07-08T16:23:41.702Z"
   },
   {
    "duration": 15,
    "start_time": "2022-07-08T16:23:41.710Z"
   },
   {
    "duration": 15,
    "start_time": "2022-07-08T16:23:41.726Z"
   },
   {
    "duration": 9,
    "start_time": "2022-07-08T16:23:41.743Z"
   },
   {
    "duration": 7,
    "start_time": "2022-07-08T16:23:41.754Z"
   },
   {
    "duration": 10,
    "start_time": "2022-07-08T16:23:41.763Z"
   },
   {
    "duration": 24,
    "start_time": "2022-07-08T16:23:41.775Z"
   },
   {
    "duration": 8,
    "start_time": "2022-07-08T16:23:41.801Z"
   },
   {
    "duration": 12,
    "start_time": "2022-07-08T16:23:41.811Z"
   },
   {
    "duration": 6,
    "start_time": "2022-07-08T16:23:41.827Z"
   },
   {
    "duration": 7,
    "start_time": "2022-07-08T16:23:41.834Z"
   },
   {
    "duration": 8,
    "start_time": "2022-07-08T16:23:41.843Z"
   },
   {
    "duration": 6,
    "start_time": "2022-07-08T16:23:41.853Z"
   },
   {
    "duration": 9,
    "start_time": "2022-07-08T16:23:41.860Z"
   },
   {
    "duration": 44,
    "start_time": "2022-07-08T16:23:41.870Z"
   },
   {
    "duration": 5,
    "start_time": "2022-07-08T16:23:41.916Z"
   },
   {
    "duration": 10,
    "start_time": "2022-07-08T16:23:41.923Z"
   },
   {
    "duration": 6,
    "start_time": "2022-07-08T16:23:41.935Z"
   },
   {
    "duration": 23,
    "start_time": "2022-07-08T16:23:41.943Z"
   },
   {
    "duration": 34,
    "start_time": "2022-07-08T16:23:41.968Z"
   },
   {
    "duration": 21,
    "start_time": "2022-07-08T16:23:42.003Z"
   },
   {
    "duration": 7,
    "start_time": "2022-07-08T16:23:42.026Z"
   },
   {
    "duration": 16,
    "start_time": "2022-07-08T16:23:42.035Z"
   },
   {
    "duration": 46,
    "start_time": "2022-07-08T16:23:42.053Z"
   },
   {
    "duration": 36,
    "start_time": "2022-07-08T16:23:42.101Z"
   },
   {
    "duration": 5,
    "start_time": "2022-07-08T16:23:42.139Z"
   },
   {
    "duration": 14,
    "start_time": "2022-07-08T16:23:42.146Z"
   },
   {
    "duration": 7,
    "start_time": "2022-07-08T16:23:42.162Z"
   },
   {
    "duration": 34,
    "start_time": "2022-07-08T16:23:42.170Z"
   },
   {
    "duration": 5,
    "start_time": "2022-07-08T16:23:42.206Z"
   },
   {
    "duration": 7,
    "start_time": "2022-07-08T16:23:42.213Z"
   },
   {
    "duration": 13,
    "start_time": "2022-07-08T16:23:42.222Z"
   },
   {
    "duration": 13,
    "start_time": "2022-07-08T16:23:42.237Z"
   },
   {
    "duration": 4,
    "start_time": "2022-07-08T16:23:42.252Z"
   },
   {
    "duration": 10,
    "start_time": "2022-07-08T16:23:42.258Z"
   },
   {
    "duration": 16,
    "start_time": "2022-07-08T16:23:42.297Z"
   },
   {
    "duration": 21,
    "start_time": "2022-07-08T16:23:42.315Z"
   },
   {
    "duration": 19,
    "start_time": "2022-07-08T16:23:42.338Z"
   },
   {
    "duration": 43,
    "start_time": "2022-07-08T16:23:42.359Z"
   },
   {
    "duration": 17,
    "start_time": "2022-07-08T16:23:42.404Z"
   }
  ],
  "kernelspec": {
   "display_name": "Python 3 (ipykernel)",
   "language": "python",
   "name": "python3"
  },
  "language_info": {
   "codemirror_mode": {
    "name": "ipython",
    "version": 3
   },
   "file_extension": ".py",
   "mimetype": "text/x-python",
   "name": "python",
   "nbconvert_exporter": "python",
   "pygments_lexer": "ipython3",
   "version": "3.9.5"
  },
  "toc": {
   "base_numbering": 1,
   "nav_menu": {},
   "number_sections": true,
   "sideBar": true,
   "skip_h1_title": true,
   "title_cell": "Table of Contents",
   "title_sidebar": "Contents",
   "toc_cell": false,
   "toc_position": {
    "height": "calc(100% - 180px)",
    "left": "10px",
    "top": "150px",
    "width": "371px"
   },
   "toc_section_display": true,
   "toc_window_display": true
  }
 },
 "nbformat": 4,
 "nbformat_minor": 5
}
