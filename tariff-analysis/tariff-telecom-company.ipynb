{
 "cells": [
  {
   "cell_type": "markdown",
   "metadata": {},
   "source": [
    "# Определение перспективного тарифа для телеком-компании"
   ]
  },
  {
   "cell_type": "markdown",
   "metadata": {},
   "source": [
    "Нам предстоит сделать предварительный анализ тарифов на небольшой выборке клиентов. В вашем распоряжении данные 500 пользователей «Мегалайна». \n",
    "\n",
    "Компанией предложено два тарифа: \n",
    "- Тариф \"Смарт\"\n",
    "- Тариф \"Ультра\""
   ]
  },
  {
   "cell_type": "markdown",
   "metadata": {},
   "source": [
    "**Цель исследования** - проанализировать поведение клиентов и сделать вывод — какой тариф лучше."
   ]
  },
  {
   "cell_type": "markdown",
   "metadata": {},
   "source": [
    "**Ход исследования**\n",
    "\n",
    "- На первом этапе мы откроем предложенные датасеты и познакомимся с общей информацией;\n",
    "- Подготовим данные: приведем данные к нужным типам, исправим найденые ошибки; также посчитаем дополнительные показатели, которые понадабятся нам в дальнейшей работе;\n",
    "- Проанализируем данные;\n",
    "- Проверим гипотезы: средняя выручка пользователей тарифов «Ультра» и «Смарт» различаются, средняя выручка пользователей из Москвы отличается от выручки пользователей из других регионов;\n",
    "- Напишем общий вывод."
   ]
  },
  {
   "cell_type": "markdown",
   "metadata": {},
   "source": [
    "## Обзор данных "
   ]
  },
  {
   "cell_type": "markdown",
   "metadata": {},
   "source": [
    "Импортируем библиотеку pandas."
   ]
  },
  {
   "cell_type": "code",
   "execution_count": 1,
   "metadata": {},
   "outputs": [],
   "source": [
    "import pandas as pd\n",
    "import numpy as np\n",
    "from scipy import stats as st"
   ]
  },
  {
   "cell_type": "markdown",
   "metadata": {},
   "source": [
    "Прочитайте файлs формата .csv из папки /datasets и сохраним их в переменный `calls`, `internet`, `messages`, `tariffs`, `users`."
   ]
  },
  {
   "cell_type": "code",
   "execution_count": 2,
   "metadata": {},
   "outputs": [],
   "source": [
    "calls = pd.read_csv('/datasets/calls.csv')\n",
    "internet = pd.read_csv('/datasets/internet.csv')\n",
    "messages = pd.read_csv('/datasets/messages.csv')\n",
    "tariffs = pd.read_csv('/datasets/tariffs.csv')\n",
    "users = pd.read_csv('/datasets/users.csv')"
   ]
  },
  {
   "cell_type": "markdown",
   "metadata": {},
   "source": [
    "Выведем на экран первые 5 строк таблиц, а также посмотрим общую информацию."
   ]
  },
  {
   "cell_type": "code",
   "execution_count": 3,
   "metadata": {},
   "outputs": [
    {
     "data": {
      "text/html": [
       "<div>\n",
       "<style scoped>\n",
       "    .dataframe tbody tr th:only-of-type {\n",
       "        vertical-align: middle;\n",
       "    }\n",
       "\n",
       "    .dataframe tbody tr th {\n",
       "        vertical-align: top;\n",
       "    }\n",
       "\n",
       "    .dataframe thead th {\n",
       "        text-align: right;\n",
       "    }\n",
       "</style>\n",
       "<table border=\"1\" class=\"dataframe\">\n",
       "  <thead>\n",
       "    <tr style=\"text-align: right;\">\n",
       "      <th></th>\n",
       "      <th>id</th>\n",
       "      <th>call_date</th>\n",
       "      <th>duration</th>\n",
       "      <th>user_id</th>\n",
       "    </tr>\n",
       "  </thead>\n",
       "  <tbody>\n",
       "    <tr>\n",
       "      <th>0</th>\n",
       "      <td>1000_0</td>\n",
       "      <td>2018-07-25</td>\n",
       "      <td>0.00</td>\n",
       "      <td>1000</td>\n",
       "    </tr>\n",
       "    <tr>\n",
       "      <th>1</th>\n",
       "      <td>1000_1</td>\n",
       "      <td>2018-08-17</td>\n",
       "      <td>0.00</td>\n",
       "      <td>1000</td>\n",
       "    </tr>\n",
       "    <tr>\n",
       "      <th>2</th>\n",
       "      <td>1000_2</td>\n",
       "      <td>2018-06-11</td>\n",
       "      <td>2.85</td>\n",
       "      <td>1000</td>\n",
       "    </tr>\n",
       "    <tr>\n",
       "      <th>3</th>\n",
       "      <td>1000_3</td>\n",
       "      <td>2018-09-21</td>\n",
       "      <td>13.80</td>\n",
       "      <td>1000</td>\n",
       "    </tr>\n",
       "    <tr>\n",
       "      <th>4</th>\n",
       "      <td>1000_4</td>\n",
       "      <td>2018-12-15</td>\n",
       "      <td>5.18</td>\n",
       "      <td>1000</td>\n",
       "    </tr>\n",
       "    <tr>\n",
       "      <th>5</th>\n",
       "      <td>1000_5</td>\n",
       "      <td>2018-11-02</td>\n",
       "      <td>0.00</td>\n",
       "      <td>1000</td>\n",
       "    </tr>\n",
       "    <tr>\n",
       "      <th>6</th>\n",
       "      <td>1000_6</td>\n",
       "      <td>2018-10-18</td>\n",
       "      <td>0.00</td>\n",
       "      <td>1000</td>\n",
       "    </tr>\n",
       "    <tr>\n",
       "      <th>7</th>\n",
       "      <td>1000_7</td>\n",
       "      <td>2018-08-22</td>\n",
       "      <td>18.31</td>\n",
       "      <td>1000</td>\n",
       "    </tr>\n",
       "    <tr>\n",
       "      <th>8</th>\n",
       "      <td>1000_8</td>\n",
       "      <td>2018-09-15</td>\n",
       "      <td>18.44</td>\n",
       "      <td>1000</td>\n",
       "    </tr>\n",
       "    <tr>\n",
       "      <th>9</th>\n",
       "      <td>1000_9</td>\n",
       "      <td>2018-08-15</td>\n",
       "      <td>0.00</td>\n",
       "      <td>1000</td>\n",
       "    </tr>\n",
       "  </tbody>\n",
       "</table>\n",
       "</div>"
      ],
      "text/plain": [
       "       id   call_date  duration  user_id\n",
       "0  1000_0  2018-07-25      0.00     1000\n",
       "1  1000_1  2018-08-17      0.00     1000\n",
       "2  1000_2  2018-06-11      2.85     1000\n",
       "3  1000_3  2018-09-21     13.80     1000\n",
       "4  1000_4  2018-12-15      5.18     1000\n",
       "5  1000_5  2018-11-02      0.00     1000\n",
       "6  1000_6  2018-10-18      0.00     1000\n",
       "7  1000_7  2018-08-22     18.31     1000\n",
       "8  1000_8  2018-09-15     18.44     1000\n",
       "9  1000_9  2018-08-15      0.00     1000"
      ]
     },
     "metadata": {},
     "output_type": "display_data"
    },
    {
     "name": "stdout",
     "output_type": "stream",
     "text": [
      "<class 'pandas.core.frame.DataFrame'>\n",
      "RangeIndex: 202607 entries, 0 to 202606\n",
      "Data columns (total 4 columns):\n",
      " #   Column     Non-Null Count   Dtype  \n",
      "---  ------     --------------   -----  \n",
      " 0   id         202607 non-null  object \n",
      " 1   call_date  202607 non-null  object \n",
      " 2   duration   202607 non-null  float64\n",
      " 3   user_id    202607 non-null  int64  \n",
      "dtypes: float64(1), int64(1), object(2)\n",
      "memory usage: 6.2+ MB\n"
     ]
    },
    {
     "data": {
      "text/plain": [
       "None"
      ]
     },
     "metadata": {},
     "output_type": "display_data"
    }
   ],
   "source": [
    "display(calls.head(10))\n",
    "display(calls.info())"
   ]
  },
  {
   "cell_type": "markdown",
   "metadata": {},
   "source": [
    "В таблице `calls` четыре столбца. Два столбца имеют тип данных — `object`, один столбец тип данных - `float`, еще один тип данных - `int` "
   ]
  },
  {
   "cell_type": "code",
   "execution_count": 4,
   "metadata": {},
   "outputs": [
    {
     "data": {
      "text/html": [
       "<div>\n",
       "<style scoped>\n",
       "    .dataframe tbody tr th:only-of-type {\n",
       "        vertical-align: middle;\n",
       "    }\n",
       "\n",
       "    .dataframe tbody tr th {\n",
       "        vertical-align: top;\n",
       "    }\n",
       "\n",
       "    .dataframe thead th {\n",
       "        text-align: right;\n",
       "    }\n",
       "</style>\n",
       "<table border=\"1\" class=\"dataframe\">\n",
       "  <thead>\n",
       "    <tr style=\"text-align: right;\">\n",
       "      <th></th>\n",
       "      <th>Unnamed: 0</th>\n",
       "      <th>id</th>\n",
       "      <th>mb_used</th>\n",
       "      <th>session_date</th>\n",
       "      <th>user_id</th>\n",
       "    </tr>\n",
       "  </thead>\n",
       "  <tbody>\n",
       "    <tr>\n",
       "      <th>0</th>\n",
       "      <td>0</td>\n",
       "      <td>1000_0</td>\n",
       "      <td>112.95</td>\n",
       "      <td>2018-11-25</td>\n",
       "      <td>1000</td>\n",
       "    </tr>\n",
       "    <tr>\n",
       "      <th>1</th>\n",
       "      <td>1</td>\n",
       "      <td>1000_1</td>\n",
       "      <td>1052.81</td>\n",
       "      <td>2018-09-07</td>\n",
       "      <td>1000</td>\n",
       "    </tr>\n",
       "    <tr>\n",
       "      <th>2</th>\n",
       "      <td>2</td>\n",
       "      <td>1000_2</td>\n",
       "      <td>1197.26</td>\n",
       "      <td>2018-06-25</td>\n",
       "      <td>1000</td>\n",
       "    </tr>\n",
       "    <tr>\n",
       "      <th>3</th>\n",
       "      <td>3</td>\n",
       "      <td>1000_3</td>\n",
       "      <td>550.27</td>\n",
       "      <td>2018-08-22</td>\n",
       "      <td>1000</td>\n",
       "    </tr>\n",
       "    <tr>\n",
       "      <th>4</th>\n",
       "      <td>4</td>\n",
       "      <td>1000_4</td>\n",
       "      <td>302.56</td>\n",
       "      <td>2018-09-24</td>\n",
       "      <td>1000</td>\n",
       "    </tr>\n",
       "    <tr>\n",
       "      <th>5</th>\n",
       "      <td>5</td>\n",
       "      <td>1000_5</td>\n",
       "      <td>399.97</td>\n",
       "      <td>2018-10-02</td>\n",
       "      <td>1000</td>\n",
       "    </tr>\n",
       "    <tr>\n",
       "      <th>6</th>\n",
       "      <td>6</td>\n",
       "      <td>1000_6</td>\n",
       "      <td>540.08</td>\n",
       "      <td>2018-09-07</td>\n",
       "      <td>1000</td>\n",
       "    </tr>\n",
       "    <tr>\n",
       "      <th>7</th>\n",
       "      <td>7</td>\n",
       "      <td>1000_7</td>\n",
       "      <td>415.70</td>\n",
       "      <td>2018-07-11</td>\n",
       "      <td>1000</td>\n",
       "    </tr>\n",
       "    <tr>\n",
       "      <th>8</th>\n",
       "      <td>8</td>\n",
       "      <td>1000_8</td>\n",
       "      <td>505.40</td>\n",
       "      <td>2018-10-08</td>\n",
       "      <td>1000</td>\n",
       "    </tr>\n",
       "    <tr>\n",
       "      <th>9</th>\n",
       "      <td>9</td>\n",
       "      <td>1000_9</td>\n",
       "      <td>345.54</td>\n",
       "      <td>2018-09-03</td>\n",
       "      <td>1000</td>\n",
       "    </tr>\n",
       "  </tbody>\n",
       "</table>\n",
       "</div>"
      ],
      "text/plain": [
       "   Unnamed: 0      id  mb_used session_date  user_id\n",
       "0           0  1000_0   112.95   2018-11-25     1000\n",
       "1           1  1000_1  1052.81   2018-09-07     1000\n",
       "2           2  1000_2  1197.26   2018-06-25     1000\n",
       "3           3  1000_3   550.27   2018-08-22     1000\n",
       "4           4  1000_4   302.56   2018-09-24     1000\n",
       "5           5  1000_5   399.97   2018-10-02     1000\n",
       "6           6  1000_6   540.08   2018-09-07     1000\n",
       "7           7  1000_7   415.70   2018-07-11     1000\n",
       "8           8  1000_8   505.40   2018-10-08     1000\n",
       "9           9  1000_9   345.54   2018-09-03     1000"
      ]
     },
     "metadata": {},
     "output_type": "display_data"
    },
    {
     "name": "stdout",
     "output_type": "stream",
     "text": [
      "<class 'pandas.core.frame.DataFrame'>\n",
      "RangeIndex: 149396 entries, 0 to 149395\n",
      "Data columns (total 5 columns):\n",
      " #   Column        Non-Null Count   Dtype  \n",
      "---  ------        --------------   -----  \n",
      " 0   Unnamed: 0    149396 non-null  int64  \n",
      " 1   id            149396 non-null  object \n",
      " 2   mb_used       149396 non-null  float64\n",
      " 3   session_date  149396 non-null  object \n",
      " 4   user_id       149396 non-null  int64  \n",
      "dtypes: float64(1), int64(2), object(2)\n",
      "memory usage: 5.7+ MB\n"
     ]
    },
    {
     "data": {
      "text/plain": [
       "None"
      ]
     },
     "metadata": {},
     "output_type": "display_data"
    }
   ],
   "source": [
    "display(internet.head(10))\n",
    "display(internet.info())"
   ]
  },
  {
   "cell_type": "markdown",
   "metadata": {},
   "source": [
    "Построим гистограмму распределения объема интернет-сессий"
   ]
  },
  {
   "cell_type": "code",
   "execution_count": 5,
   "metadata": {
    "scrolled": true
   },
   "outputs": [
    {
     "data": {
      "image/png": "[encoded data removed]",
      "text/plain": [
       "<Figure size 432x288 with 1 Axes>"
      ]
     },
     "metadata": {
      "needs_background": "light"
     },
     "output_type": "display_data"
    }
   ],
   "source": [
    "internet['mb_used'].hist();"
   ]
  },
  {
   "cell_type": "markdown",
   "metadata": {},
   "source": [
    "На наибольшее количество интернет-сессий затрачено менее 250 мегабайт и далее наблюдается уменьшение числа сессий с увеличением объема интернет трафика. Здесь аномалий не наблюдается, данные выглядят правдоподобно."
   ]
  },
  {
   "cell_type": "markdown",
   "metadata": {},
   "source": [
    "В таблице `internet` пять столбцов. Два столбца имеют тип данных — `object`, еще два столбца тип данных - `int`, оставшийся столбец тип данных - `float` "
   ]
  },
  {
   "cell_type": "code",
   "execution_count": 7,
   "metadata": {},
   "outputs": [
    {
     "data": {
      "text/html": [
       "<div>\n",
       "<style scoped>\n",
       "    .dataframe tbody tr th:only-of-type {\n",
       "        vertical-align: middle;\n",
       "    }\n",
       "\n",
       "    .dataframe tbody tr th {\n",
       "        vertical-align: top;\n",
       "    }\n",
       "\n",
       "    .dataframe thead th {\n",
       "        text-align: right;\n",
       "    }\n",
       "</style>\n",
       "<table border=\"1\" class=\"dataframe\">\n",
       "  <thead>\n",
       "    <tr style=\"text-align: right;\">\n",
       "      <th></th>\n",
       "      <th>id</th>\n",
       "      <th>message_date</th>\n",
       "      <th>user_id</th>\n",
       "    </tr>\n",
       "  </thead>\n",
       "  <tbody>\n",
       "    <tr>\n",
       "      <th>0</th>\n",
       "      <td>1000_0</td>\n",
       "      <td>2018-06-27</td>\n",
       "      <td>1000</td>\n",
       "    </tr>\n",
       "    <tr>\n",
       "      <th>1</th>\n",
       "      <td>1000_1</td>\n",
       "      <td>2018-10-08</td>\n",
       "      <td>1000</td>\n",
       "    </tr>\n",
       "    <tr>\n",
       "      <th>2</th>\n",
       "      <td>1000_2</td>\n",
       "      <td>2018-08-04</td>\n",
       "      <td>1000</td>\n",
       "    </tr>\n",
       "    <tr>\n",
       "      <th>3</th>\n",
       "      <td>1000_3</td>\n",
       "      <td>2018-06-16</td>\n",
       "      <td>1000</td>\n",
       "    </tr>\n",
       "    <tr>\n",
       "      <th>4</th>\n",
       "      <td>1000_4</td>\n",
       "      <td>2018-12-05</td>\n",
       "      <td>1000</td>\n",
       "    </tr>\n",
       "    <tr>\n",
       "      <th>5</th>\n",
       "      <td>1000_5</td>\n",
       "      <td>2018-06-20</td>\n",
       "      <td>1000</td>\n",
       "    </tr>\n",
       "    <tr>\n",
       "      <th>6</th>\n",
       "      <td>1000_6</td>\n",
       "      <td>2018-11-19</td>\n",
       "      <td>1000</td>\n",
       "    </tr>\n",
       "    <tr>\n",
       "      <th>7</th>\n",
       "      <td>1000_7</td>\n",
       "      <td>2018-10-29</td>\n",
       "      <td>1000</td>\n",
       "    </tr>\n",
       "    <tr>\n",
       "      <th>8</th>\n",
       "      <td>1000_8</td>\n",
       "      <td>2018-06-25</td>\n",
       "      <td>1000</td>\n",
       "    </tr>\n",
       "    <tr>\n",
       "      <th>9</th>\n",
       "      <td>1000_9</td>\n",
       "      <td>2018-12-18</td>\n",
       "      <td>1000</td>\n",
       "    </tr>\n",
       "  </tbody>\n",
       "</table>\n",
       "</div>"
      ],
      "text/plain": [
       "       id message_date  user_id\n",
       "0  1000_0   2018-06-27     1000\n",
       "1  1000_1   2018-10-08     1000\n",
       "2  1000_2   2018-08-04     1000\n",
       "3  1000_3   2018-06-16     1000\n",
       "4  1000_4   2018-12-05     1000\n",
       "5  1000_5   2018-06-20     1000\n",
       "6  1000_6   2018-11-19     1000\n",
       "7  1000_7   2018-10-29     1000\n",
       "8  1000_8   2018-06-25     1000\n",
       "9  1000_9   2018-12-18     1000"
      ]
     },
     "metadata": {},
     "output_type": "display_data"
    },
    {
     "name": "stdout",
     "output_type": "stream",
     "text": [
      "<class 'pandas.core.frame.DataFrame'>\n",
      "RangeIndex: 123036 entries, 0 to 123035\n",
      "Data columns (total 3 columns):\n",
      " #   Column        Non-Null Count   Dtype \n",
      "---  ------        --------------   ----- \n",
      " 0   id            123036 non-null  object\n",
      " 1   message_date  123036 non-null  object\n",
      " 2   user_id       123036 non-null  int64 \n",
      "dtypes: int64(1), object(2)\n",
      "memory usage: 2.8+ MB\n"
     ]
    },
    {
     "data": {
      "text/plain": [
       "None"
      ]
     },
     "metadata": {},
     "output_type": "display_data"
    }
   ],
   "source": [
    "display(messages.head(10))\n",
    "display(messages.info())"
   ]
  },
  {
   "cell_type": "markdown",
   "metadata": {},
   "source": [
    "В таблице `messages` три столбца. Два столбца имеют тип данных — `object`, еще один тип данных - `int` "
   ]
  },
  {
   "cell_type": "code",
   "execution_count": 8,
   "metadata": {},
   "outputs": [
    {
     "data": {
      "text/html": [
       "<div>\n",
       "<style scoped>\n",
       "    .dataframe tbody tr th:only-of-type {\n",
       "        vertical-align: middle;\n",
       "    }\n",
       "\n",
       "    .dataframe tbody tr th {\n",
       "        vertical-align: top;\n",
       "    }\n",
       "\n",
       "    .dataframe thead th {\n",
       "        text-align: right;\n",
       "    }\n",
       "</style>\n",
       "<table border=\"1\" class=\"dataframe\">\n",
       "  <thead>\n",
       "    <tr style=\"text-align: right;\">\n",
       "      <th></th>\n",
       "      <th>messages_included</th>\n",
       "      <th>mb_per_month_included</th>\n",
       "      <th>minutes_included</th>\n",
       "      <th>rub_monthly_fee</th>\n",
       "      <th>rub_per_gb</th>\n",
       "      <th>rub_per_message</th>\n",
       "      <th>rub_per_minute</th>\n",
       "      <th>tariff_name</th>\n",
       "    </tr>\n",
       "  </thead>\n",
       "  <tbody>\n",
       "    <tr>\n",
       "      <th>0</th>\n",
       "      <td>50</td>\n",
       "      <td>15360</td>\n",
       "      <td>500</td>\n",
       "      <td>550</td>\n",
       "      <td>200</td>\n",
       "      <td>3</td>\n",
       "      <td>3</td>\n",
       "      <td>smart</td>\n",
       "    </tr>\n",
       "    <tr>\n",
       "      <th>1</th>\n",
       "      <td>1000</td>\n",
       "      <td>30720</td>\n",
       "      <td>3000</td>\n",
       "      <td>1950</td>\n",
       "      <td>150</td>\n",
       "      <td>1</td>\n",
       "      <td>1</td>\n",
       "      <td>ultra</td>\n",
       "    </tr>\n",
       "  </tbody>\n",
       "</table>\n",
       "</div>"
      ],
      "text/plain": [
       "   messages_included  mb_per_month_included  minutes_included  \\\n",
       "0                 50                  15360               500   \n",
       "1               1000                  30720              3000   \n",
       "\n",
       "   rub_monthly_fee  rub_per_gb  rub_per_message  rub_per_minute tariff_name  \n",
       "0              550         200                3               3       smart  \n",
       "1             1950         150                1               1       ultra  "
      ]
     },
     "metadata": {},
     "output_type": "display_data"
    },
    {
     "name": "stdout",
     "output_type": "stream",
     "text": [
      "<class 'pandas.core.frame.DataFrame'>\n",
      "RangeIndex: 2 entries, 0 to 1\n",
      "Data columns (total 8 columns):\n",
      " #   Column                 Non-Null Count  Dtype \n",
      "---  ------                 --------------  ----- \n",
      " 0   messages_included      2 non-null      int64 \n",
      " 1   mb_per_month_included  2 non-null      int64 \n",
      " 2   minutes_included       2 non-null      int64 \n",
      " 3   rub_monthly_fee        2 non-null      int64 \n",
      " 4   rub_per_gb             2 non-null      int64 \n",
      " 5   rub_per_message        2 non-null      int64 \n",
      " 6   rub_per_minute         2 non-null      int64 \n",
      " 7   tariff_name            2 non-null      object\n",
      "dtypes: int64(7), object(1)\n",
      "memory usage: 256.0+ bytes\n"
     ]
    },
    {
     "data": {
      "text/plain": [
       "None"
      ]
     },
     "metadata": {},
     "output_type": "display_data"
    }
   ],
   "source": [
    "display(tariffs.head(10))\n",
    "display(tariffs.info())"
   ]
  },
  {
   "cell_type": "markdown",
   "metadata": {},
   "source": [
    "В таблице `tariffs` восемь столбцов. Семь столбцов имеют тип данных — `int`, еще один тип данных - `object` "
   ]
  },
  {
   "cell_type": "code",
   "execution_count": 9,
   "metadata": {},
   "outputs": [
    {
     "data": {
      "text/html": [
       "<div>\n",
       "<style scoped>\n",
       "    .dataframe tbody tr th:only-of-type {\n",
       "        vertical-align: middle;\n",
       "    }\n",
       "\n",
       "    .dataframe tbody tr th {\n",
       "        vertical-align: top;\n",
       "    }\n",
       "\n",
       "    .dataframe thead th {\n",
       "        text-align: right;\n",
       "    }\n",
       "</style>\n",
       "<table border=\"1\" class=\"dataframe\">\n",
       "  <thead>\n",
       "    <tr style=\"text-align: right;\">\n",
       "      <th></th>\n",
       "      <th>user_id</th>\n",
       "      <th>age</th>\n",
       "      <th>churn_date</th>\n",
       "      <th>city</th>\n",
       "      <th>first_name</th>\n",
       "      <th>last_name</th>\n",
       "      <th>reg_date</th>\n",
       "      <th>tariff</th>\n",
       "    </tr>\n",
       "  </thead>\n",
       "  <tbody>\n",
       "    <tr>\n",
       "      <th>0</th>\n",
       "      <td>1000</td>\n",
       "      <td>52</td>\n",
       "      <td>NaN</td>\n",
       "      <td>Краснодар</td>\n",
       "      <td>Рафаил</td>\n",
       "      <td>Верещагин</td>\n",
       "      <td>2018-05-25</td>\n",
       "      <td>ultra</td>\n",
       "    </tr>\n",
       "    <tr>\n",
       "      <th>1</th>\n",
       "      <td>1001</td>\n",
       "      <td>41</td>\n",
       "      <td>NaN</td>\n",
       "      <td>Москва</td>\n",
       "      <td>Иван</td>\n",
       "      <td>Ежов</td>\n",
       "      <td>2018-11-01</td>\n",
       "      <td>smart</td>\n",
       "    </tr>\n",
       "    <tr>\n",
       "      <th>2</th>\n",
       "      <td>1002</td>\n",
       "      <td>59</td>\n",
       "      <td>NaN</td>\n",
       "      <td>Стерлитамак</td>\n",
       "      <td>Евгений</td>\n",
       "      <td>Абрамович</td>\n",
       "      <td>2018-06-17</td>\n",
       "      <td>smart</td>\n",
       "    </tr>\n",
       "    <tr>\n",
       "      <th>3</th>\n",
       "      <td>1003</td>\n",
       "      <td>23</td>\n",
       "      <td>NaN</td>\n",
       "      <td>Москва</td>\n",
       "      <td>Белла</td>\n",
       "      <td>Белякова</td>\n",
       "      <td>2018-08-17</td>\n",
       "      <td>ultra</td>\n",
       "    </tr>\n",
       "    <tr>\n",
       "      <th>4</th>\n",
       "      <td>1004</td>\n",
       "      <td>68</td>\n",
       "      <td>NaN</td>\n",
       "      <td>Новокузнецк</td>\n",
       "      <td>Татьяна</td>\n",
       "      <td>Авдеенко</td>\n",
       "      <td>2018-05-14</td>\n",
       "      <td>ultra</td>\n",
       "    </tr>\n",
       "    <tr>\n",
       "      <th>5</th>\n",
       "      <td>1005</td>\n",
       "      <td>67</td>\n",
       "      <td>NaN</td>\n",
       "      <td>Набережные Челны</td>\n",
       "      <td>Афанасий</td>\n",
       "      <td>Горлов</td>\n",
       "      <td>2018-01-25</td>\n",
       "      <td>smart</td>\n",
       "    </tr>\n",
       "    <tr>\n",
       "      <th>6</th>\n",
       "      <td>1006</td>\n",
       "      <td>21</td>\n",
       "      <td>NaN</td>\n",
       "      <td>Ульяновск</td>\n",
       "      <td>Леонид</td>\n",
       "      <td>Ермолаев</td>\n",
       "      <td>2018-02-26</td>\n",
       "      <td>smart</td>\n",
       "    </tr>\n",
       "    <tr>\n",
       "      <th>7</th>\n",
       "      <td>1007</td>\n",
       "      <td>65</td>\n",
       "      <td>NaN</td>\n",
       "      <td>Москва</td>\n",
       "      <td>Юна</td>\n",
       "      <td>Березина</td>\n",
       "      <td>2018-04-19</td>\n",
       "      <td>smart</td>\n",
       "    </tr>\n",
       "    <tr>\n",
       "      <th>8</th>\n",
       "      <td>1008</td>\n",
       "      <td>63</td>\n",
       "      <td>NaN</td>\n",
       "      <td>Челябинск</td>\n",
       "      <td>Рустэм</td>\n",
       "      <td>Пономарёв</td>\n",
       "      <td>2018-12-19</td>\n",
       "      <td>smart</td>\n",
       "    </tr>\n",
       "    <tr>\n",
       "      <th>9</th>\n",
       "      <td>1009</td>\n",
       "      <td>24</td>\n",
       "      <td>NaN</td>\n",
       "      <td>Пермь</td>\n",
       "      <td>Василиса</td>\n",
       "      <td>Блинова</td>\n",
       "      <td>2018-03-22</td>\n",
       "      <td>smart</td>\n",
       "    </tr>\n",
       "  </tbody>\n",
       "</table>\n",
       "</div>"
      ],
      "text/plain": [
       "   user_id  age churn_date              city first_name  last_name  \\\n",
       "0     1000   52        NaN         Краснодар     Рафаил  Верещагин   \n",
       "1     1001   41        NaN            Москва       Иван       Ежов   \n",
       "2     1002   59        NaN       Стерлитамак    Евгений  Абрамович   \n",
       "3     1003   23        NaN            Москва      Белла   Белякова   \n",
       "4     1004   68        NaN       Новокузнецк    Татьяна   Авдеенко   \n",
       "5     1005   67        NaN  Набережные Челны   Афанасий     Горлов   \n",
       "6     1006   21        NaN         Ульяновск     Леонид   Ермолаев   \n",
       "7     1007   65        NaN            Москва        Юна   Березина   \n",
       "8     1008   63        NaN         Челябинск     Рустэм  Пономарёв   \n",
       "9     1009   24        NaN             Пермь   Василиса    Блинова   \n",
       "\n",
       "     reg_date tariff  \n",
       "0  2018-05-25  ultra  \n",
       "1  2018-11-01  smart  \n",
       "2  2018-06-17  smart  \n",
       "3  2018-08-17  ultra  \n",
       "4  2018-05-14  ultra  \n",
       "5  2018-01-25  smart  \n",
       "6  2018-02-26  smart  \n",
       "7  2018-04-19  smart  \n",
       "8  2018-12-19  smart  \n",
       "9  2018-03-22  smart  "
      ]
     },
     "metadata": {},
     "output_type": "display_data"
    },
    {
     "name": "stdout",
     "output_type": "stream",
     "text": [
      "<class 'pandas.core.frame.DataFrame'>\n",
      "RangeIndex: 500 entries, 0 to 499\n",
      "Data columns (total 8 columns):\n",
      " #   Column      Non-Null Count  Dtype \n",
      "---  ------      --------------  ----- \n",
      " 0   user_id     500 non-null    int64 \n",
      " 1   age         500 non-null    int64 \n",
      " 2   churn_date  38 non-null     object\n",
      " 3   city        500 non-null    object\n",
      " 4   first_name  500 non-null    object\n",
      " 5   last_name   500 non-null    object\n",
      " 6   reg_date    500 non-null    object\n",
      " 7   tariff      500 non-null    object\n",
      "dtypes: int64(2), object(6)\n",
      "memory usage: 31.4+ KB\n"
     ]
    },
    {
     "data": {
      "text/plain": [
       "None"
      ]
     },
     "metadata": {},
     "output_type": "display_data"
    }
   ],
   "source": [
    "display(users.head(10))\n",
    "display(users.info())"
   ]
  },
  {
   "cell_type": "markdown",
   "metadata": {},
   "source": [
    "В таблице `users` восемь столбцов. Шесть столбцов имеют тип данных — `object`, еще два тип данных - `int` "
   ]
  },
  {
   "cell_type": "markdown",
   "metadata": {},
   "source": [
    "Согласно документации к данным:"
   ]
  },
  {
   "cell_type": "markdown",
   "metadata": {},
   "source": [
    "Таблица `calls` (информация о звонках):\n",
    "- *id* — уникальный номер звонка\n",
    "- *call_date* — дата звонка\n",
    "- *duration* — длительность звонка в минутах\n",
    "- *user_id* — идентификатор пользователя, сделавшего звонок"
   ]
  },
  {
   "cell_type": "markdown",
   "metadata": {},
   "source": [
    "Таблица `internet` (информация об интернет-сессиях):\n",
    "- *id* — уникальный номер сессии\n",
    "- *mb_used* — объём потраченного за сессию интернет-трафика (в мегабайтах)\n",
    "- *session_date* — дата интернет-сессии\n",
    "- *user_id* — идентификатор пользователя"
   ]
  },
  {
   "cell_type": "markdown",
   "metadata": {},
   "source": [
    "Таблица `messages` (информация о сообщениях):\n",
    "- *id* — уникальный номер сообщения\n",
    "- *message_date* — дата сообщения\n",
    "- *user_id* — идентификатор пользователя, отправившего сообщение"
   ]
  },
  {
   "cell_type": "markdown",
   "metadata": {},
   "source": [
    "Таблица `tariffs` (информация о тарифах):\n",
    "- *tariff_name* — название тарифа\n",
    "- *rub_monthly_fee* — ежемесячная абонентская плата в рублях\n",
    "- *minutes_included* — количество минут разговора в месяц, включённых в абонентскую плату\n",
    "- *messages_included* — количество сообщений в месяц, включённых в абонентскую плату\n",
    "- *mb_per_month_included* — объём интернет-трафика, включённого в абонентскую плату (в мегабайтах)\n",
    "- *rub_per_minute* — стоимость минуты разговора сверх тарифного пакета (например, если в тарифе 100 минут разговора в месяц, то со 101 минуты будет взиматься плата)\n",
    "- *rub_per_message* — стоимость отправки сообщения сверх тарифного пакета\n",
    "- *rub_per_gb* — стоимость дополнительного гигабайта интернет-трафика сверх тарифного пакета (1 гигабайт = 1024 мегабайта)"
   ]
  },
  {
   "cell_type": "markdown",
   "metadata": {},
   "source": [
    "Таблица `users` (информация о пользователях):\n",
    "- *user_id* — уникальный идентификатор пользователя\n",
    "- *first_name* — имя пользователя\n",
    "- *last_name* — фамилия пользователя\n",
    "- *age* — возраст пользователя (годы)\n",
    "- *reg_date* — дата подключения тарифа (день, месяц, год)\n",
    "- *churn_date* — дата прекращения пользования тарифом (если значение пропущено, то тариф ещё действовал на момент выгрузки данных)\n",
    "- *city* — город проживания пользователя\n",
    "- *tariff* — название тарифного плана"
   ]
  },
  {
   "cell_type": "markdown",
   "metadata": {},
   "source": [
    "**Выводы**"
   ]
  },
  {
   "cell_type": "markdown",
   "metadata": {},
   "source": [
    "В четырех таблицах — данные о деятельности определенного пользователя. В таблице `tariffs` - представлена информация о двух тарифах. \n",
    "\n",
    "Предварительно можно утверждать, что необходимо произвести ряд дополнительных расчетов для проверки гипотез. Также встречаются ошибки в данных, некоторые данные нужно привести к более корретному типу.\n",
    "\n",
    "Чтобы двигаться дальше, нужно устранить проблемы в данных."
   ]
  },
  {
   "cell_type": "markdown",
   "metadata": {},
   "source": [
    "## Подготовка данных"
   ]
  },
  {
   "cell_type": "markdown",
   "metadata": {},
   "source": [
    "### Приведение данных к нужным типам"
   ]
  },
  {
   "cell_type": "markdown",
   "metadata": {},
   "source": [
    "Приведем данные колонок, в которых указана дата к типу `datetime`"
   ]
  },
  {
   "cell_type": "code",
   "execution_count": 11,
   "metadata": {},
   "outputs": [],
   "source": [
    "calls['call_date'] = pd.to_datetime(calls['call_date'], format='%Y-%m-%dT%H:%M')\n",
    "internet['session_date'] = pd.to_datetime(internet['session_date'], format='%Y-%m-%dT%H:%M')\n",
    "messages['message_date'] = pd.to_datetime(messages['message_date'], format='%Y-%m-%dT%H:%M')\n",
    "users['reg_date'] = pd.to_datetime(users['reg_date'], format='%Y-%m-%dT%H:%M')"
   ]
  },
  {
   "cell_type": "markdown",
   "metadata": {},
   "source": [
    "### Поиск дубликатов"
   ]
  },
  {
   "cell_type": "markdown",
   "metadata": {},
   "source": [
    "Проверим таблицу `users` на наличие дубликатов. Совпадение данных в этой таблице, может свидетельствовать о дублирующихся данных. В остальных таблицах данные могут совпадать."
   ]
  },
  {
   "cell_type": "code",
   "execution_count": 12,
   "metadata": {},
   "outputs": [],
   "source": [
    "users = users.drop_duplicates() "
   ]
  },
  {
   "cell_type": "code",
   "execution_count": 13,
   "metadata": {},
   "outputs": [
    {
     "name": "stdout",
     "output_type": "stream",
     "text": [
      "<class 'pandas.core.frame.DataFrame'>\n",
      "Int64Index: 500 entries, 0 to 499\n",
      "Data columns (total 8 columns):\n",
      " #   Column      Non-Null Count  Dtype         \n",
      "---  ------      --------------  -----         \n",
      " 0   user_id     500 non-null    int64         \n",
      " 1   age         500 non-null    int64         \n",
      " 2   churn_date  38 non-null     object        \n",
      " 3   city        500 non-null    object        \n",
      " 4   first_name  500 non-null    object        \n",
      " 5   last_name   500 non-null    object        \n",
      " 6   reg_date    500 non-null    datetime64[ns]\n",
      " 7   tariff      500 non-null    object        \n",
      "dtypes: datetime64[ns](1), int64(2), object(5)\n",
      "memory usage: 35.2+ KB\n"
     ]
    }
   ],
   "source": [
    "users.info()"
   ]
  },
  {
   "cell_type": "markdown",
   "metadata": {},
   "source": [
    "В таблице нет дубликатов."
   ]
  },
  {
   "cell_type": "markdown",
   "metadata": {},
   "source": [
    "### Количественные значения"
   ]
  },
  {
   "cell_type": "code",
   "execution_count": 14,
   "metadata": {},
   "outputs": [
    {
     "data": {
      "text/plain": [
       "count    202607.000000\n",
       "mean          6.755887\n",
       "std           5.843365\n",
       "min           0.000000\n",
       "25%           1.300000\n",
       "50%           6.000000\n",
       "75%          10.700000\n",
       "max          38.000000\n",
       "Name: duration, dtype: float64"
      ]
     },
     "execution_count": 14,
     "metadata": {},
     "output_type": "execute_result"
    }
   ],
   "source": [
    "calls['duration'].describe()"
   ]
  },
  {
   "cell_type": "code",
   "execution_count": 15,
   "metadata": {},
   "outputs": [
    {
     "data": {
      "text/plain": [
       "count    149396.000000\n",
       "mean        370.192426\n",
       "std         278.300951\n",
       "min           0.000000\n",
       "25%         138.187500\n",
       "50%         348.015000\n",
       "75%         559.552500\n",
       "max        1724.830000\n",
       "Name: mb_used, dtype: float64"
      ]
     },
     "execution_count": 15,
     "metadata": {},
     "output_type": "execute_result"
    }
   ],
   "source": [
    "internet['mb_used'].describe()"
   ]
  },
  {
   "cell_type": "code",
   "execution_count": 16,
   "metadata": {},
   "outputs": [
    {
     "data": {
      "text/plain": [
       "count    500.00000\n",
       "mean      46.58800\n",
       "std       16.66763\n",
       "min       18.00000\n",
       "25%       32.00000\n",
       "50%       46.00000\n",
       "75%       62.00000\n",
       "max       75.00000\n",
       "Name: age, dtype: float64"
      ]
     },
     "execution_count": 16,
     "metadata": {},
     "output_type": "execute_result"
    }
   ],
   "source": [
    "users['age'].describe()"
   ]
  },
  {
   "cell_type": "markdown",
   "metadata": {},
   "source": [
    "Мы проверили данные, которые могли бы принимать аномальные значения, данные в выбраных колонках имеют правдоподобные значения."
   ]
  },
  {
   "cell_type": "markdown",
   "metadata": {},
   "source": [
    "### Подсчет количественных значений"
   ]
  },
  {
   "cell_type": "markdown",
   "metadata": {},
   "source": [
    "- Найдём количество сделанных звонков и использованных минут каждым пользователем по месяцам.\n",
    "\n",
    "На первом этапе, определим в каком месяце был совершен звонок."
   ]
  },
  {
   "cell_type": "code",
   "execution_count": 17,
   "metadata": {},
   "outputs": [
    {
     "data": {
      "text/html": [
       "<div>\n",
       "<style scoped>\n",
       "    .dataframe tbody tr th:only-of-type {\n",
       "        vertical-align: middle;\n",
       "    }\n",
       "\n",
       "    .dataframe tbody tr th {\n",
       "        vertical-align: top;\n",
       "    }\n",
       "\n",
       "    .dataframe thead th {\n",
       "        text-align: right;\n",
       "    }\n",
       "</style>\n",
       "<table border=\"1\" class=\"dataframe\">\n",
       "  <thead>\n",
       "    <tr style=\"text-align: right;\">\n",
       "      <th></th>\n",
       "      <th>id</th>\n",
       "      <th>call_date</th>\n",
       "      <th>duration</th>\n",
       "      <th>user_id</th>\n",
       "      <th>month</th>\n",
       "    </tr>\n",
       "  </thead>\n",
       "  <tbody>\n",
       "    <tr>\n",
       "      <th>0</th>\n",
       "      <td>1000_0</td>\n",
       "      <td>2018-07-25</td>\n",
       "      <td>0.00</td>\n",
       "      <td>1000</td>\n",
       "      <td>7</td>\n",
       "    </tr>\n",
       "    <tr>\n",
       "      <th>1</th>\n",
       "      <td>1000_1</td>\n",
       "      <td>2018-08-17</td>\n",
       "      <td>0.00</td>\n",
       "      <td>1000</td>\n",
       "      <td>8</td>\n",
       "    </tr>\n",
       "    <tr>\n",
       "      <th>2</th>\n",
       "      <td>1000_2</td>\n",
       "      <td>2018-06-11</td>\n",
       "      <td>2.85</td>\n",
       "      <td>1000</td>\n",
       "      <td>6</td>\n",
       "    </tr>\n",
       "    <tr>\n",
       "      <th>3</th>\n",
       "      <td>1000_3</td>\n",
       "      <td>2018-09-21</td>\n",
       "      <td>13.80</td>\n",
       "      <td>1000</td>\n",
       "      <td>9</td>\n",
       "    </tr>\n",
       "    <tr>\n",
       "      <th>4</th>\n",
       "      <td>1000_4</td>\n",
       "      <td>2018-12-15</td>\n",
       "      <td>5.18</td>\n",
       "      <td>1000</td>\n",
       "      <td>12</td>\n",
       "    </tr>\n",
       "    <tr>\n",
       "      <th>...</th>\n",
       "      <td>...</td>\n",
       "      <td>...</td>\n",
       "      <td>...</td>\n",
       "      <td>...</td>\n",
       "      <td>...</td>\n",
       "    </tr>\n",
       "    <tr>\n",
       "      <th>202602</th>\n",
       "      <td>1499_215</td>\n",
       "      <td>2018-12-26</td>\n",
       "      <td>0.76</td>\n",
       "      <td>1499</td>\n",
       "      <td>12</td>\n",
       "    </tr>\n",
       "    <tr>\n",
       "      <th>202603</th>\n",
       "      <td>1499_216</td>\n",
       "      <td>2018-10-18</td>\n",
       "      <td>18.83</td>\n",
       "      <td>1499</td>\n",
       "      <td>10</td>\n",
       "    </tr>\n",
       "    <tr>\n",
       "      <th>202604</th>\n",
       "      <td>1499_217</td>\n",
       "      <td>2018-11-10</td>\n",
       "      <td>10.81</td>\n",
       "      <td>1499</td>\n",
       "      <td>11</td>\n",
       "    </tr>\n",
       "    <tr>\n",
       "      <th>202605</th>\n",
       "      <td>1499_218</td>\n",
       "      <td>2018-10-06</td>\n",
       "      <td>4.27</td>\n",
       "      <td>1499</td>\n",
       "      <td>10</td>\n",
       "    </tr>\n",
       "    <tr>\n",
       "      <th>202606</th>\n",
       "      <td>1499_219</td>\n",
       "      <td>2018-12-14</td>\n",
       "      <td>19.62</td>\n",
       "      <td>1499</td>\n",
       "      <td>12</td>\n",
       "    </tr>\n",
       "  </tbody>\n",
       "</table>\n",
       "<p>202607 rows × 5 columns</p>\n",
       "</div>"
      ],
      "text/plain": [
       "              id  call_date  duration  user_id  month\n",
       "0         1000_0 2018-07-25      0.00     1000      7\n",
       "1         1000_1 2018-08-17      0.00     1000      8\n",
       "2         1000_2 2018-06-11      2.85     1000      6\n",
       "3         1000_3 2018-09-21     13.80     1000      9\n",
       "4         1000_4 2018-12-15      5.18     1000     12\n",
       "...          ...        ...       ...      ...    ...\n",
       "202602  1499_215 2018-12-26      0.76     1499     12\n",
       "202603  1499_216 2018-10-18     18.83     1499     10\n",
       "202604  1499_217 2018-11-10     10.81     1499     11\n",
       "202605  1499_218 2018-10-06      4.27     1499     10\n",
       "202606  1499_219 2018-12-14     19.62     1499     12\n",
       "\n",
       "[202607 rows x 5 columns]"
      ]
     },
     "execution_count": 17,
     "metadata": {},
     "output_type": "execute_result"
    }
   ],
   "source": [
    "calls['month'] = calls['call_date'].dt.month \n",
    "calls"
   ]
  },
  {
   "cell_type": "markdown",
   "metadata": {},
   "source": [
    "Далее посчитаем количество звонков и общее количество использованных минут отдельным пользователем в каждый месяц "
   ]
  },
  {
   "cell_type": "code",
   "execution_count": 18,
   "metadata": {},
   "outputs": [],
   "source": [
    "def correct_duration(row):\n",
    "    \"\"\"\n",
    "    Возвращает корректное значение потраченых минту:\n",
    "    - определяет количество исходящих минту\n",
    "    - Если длительность больше 0, то округляем в большую сторону\n",
    "    \"\"\"\n",
    "    duration = row['duration']\n",
    "        \n",
    "    correct_duration = np.ceil(duration)\n",
    "         \n",
    "    return correct_duration"
   ]
  },
  {
   "cell_type": "code",
   "execution_count": 19,
   "metadata": {},
   "outputs": [
    {
     "data": {
      "text/html": [
       "<div>\n",
       "<style scoped>\n",
       "    .dataframe tbody tr th:only-of-type {\n",
       "        vertical-align: middle;\n",
       "    }\n",
       "\n",
       "    .dataframe tbody tr th {\n",
       "        vertical-align: top;\n",
       "    }\n",
       "\n",
       "    .dataframe thead th {\n",
       "        text-align: right;\n",
       "    }\n",
       "</style>\n",
       "<table border=\"1\" class=\"dataframe\">\n",
       "  <thead>\n",
       "    <tr style=\"text-align: right;\">\n",
       "      <th></th>\n",
       "      <th>id</th>\n",
       "      <th>call_date</th>\n",
       "      <th>duration</th>\n",
       "      <th>user_id</th>\n",
       "      <th>month</th>\n",
       "      <th>correct_duration</th>\n",
       "    </tr>\n",
       "  </thead>\n",
       "  <tbody>\n",
       "    <tr>\n",
       "      <th>0</th>\n",
       "      <td>1000_0</td>\n",
       "      <td>2018-07-25</td>\n",
       "      <td>0.00</td>\n",
       "      <td>1000</td>\n",
       "      <td>7</td>\n",
       "      <td>0.0</td>\n",
       "    </tr>\n",
       "    <tr>\n",
       "      <th>1</th>\n",
       "      <td>1000_1</td>\n",
       "      <td>2018-08-17</td>\n",
       "      <td>0.00</td>\n",
       "      <td>1000</td>\n",
       "      <td>8</td>\n",
       "      <td>0.0</td>\n",
       "    </tr>\n",
       "    <tr>\n",
       "      <th>2</th>\n",
       "      <td>1000_2</td>\n",
       "      <td>2018-06-11</td>\n",
       "      <td>2.85</td>\n",
       "      <td>1000</td>\n",
       "      <td>6</td>\n",
       "      <td>3.0</td>\n",
       "    </tr>\n",
       "    <tr>\n",
       "      <th>3</th>\n",
       "      <td>1000_3</td>\n",
       "      <td>2018-09-21</td>\n",
       "      <td>13.80</td>\n",
       "      <td>1000</td>\n",
       "      <td>9</td>\n",
       "      <td>14.0</td>\n",
       "    </tr>\n",
       "    <tr>\n",
       "      <th>4</th>\n",
       "      <td>1000_4</td>\n",
       "      <td>2018-12-15</td>\n",
       "      <td>5.18</td>\n",
       "      <td>1000</td>\n",
       "      <td>12</td>\n",
       "      <td>6.0</td>\n",
       "    </tr>\n",
       "    <tr>\n",
       "      <th>...</th>\n",
       "      <td>...</td>\n",
       "      <td>...</td>\n",
       "      <td>...</td>\n",
       "      <td>...</td>\n",
       "      <td>...</td>\n",
       "      <td>...</td>\n",
       "    </tr>\n",
       "    <tr>\n",
       "      <th>202602</th>\n",
       "      <td>1499_215</td>\n",
       "      <td>2018-12-26</td>\n",
       "      <td>0.76</td>\n",
       "      <td>1499</td>\n",
       "      <td>12</td>\n",
       "      <td>1.0</td>\n",
       "    </tr>\n",
       "    <tr>\n",
       "      <th>202603</th>\n",
       "      <td>1499_216</td>\n",
       "      <td>2018-10-18</td>\n",
       "      <td>18.83</td>\n",
       "      <td>1499</td>\n",
       "      <td>10</td>\n",
       "      <td>19.0</td>\n",
       "    </tr>\n",
       "    <tr>\n",
       "      <th>202604</th>\n",
       "      <td>1499_217</td>\n",
       "      <td>2018-11-10</td>\n",
       "      <td>10.81</td>\n",
       "      <td>1499</td>\n",
       "      <td>11</td>\n",
       "      <td>11.0</td>\n",
       "    </tr>\n",
       "    <tr>\n",
       "      <th>202605</th>\n",
       "      <td>1499_218</td>\n",
       "      <td>2018-10-06</td>\n",
       "      <td>4.27</td>\n",
       "      <td>1499</td>\n",
       "      <td>10</td>\n",
       "      <td>5.0</td>\n",
       "    </tr>\n",
       "    <tr>\n",
       "      <th>202606</th>\n",
       "      <td>1499_219</td>\n",
       "      <td>2018-12-14</td>\n",
       "      <td>19.62</td>\n",
       "      <td>1499</td>\n",
       "      <td>12</td>\n",
       "      <td>20.0</td>\n",
       "    </tr>\n",
       "  </tbody>\n",
       "</table>\n",
       "<p>202607 rows × 6 columns</p>\n",
       "</div>"
      ],
      "text/plain": [
       "              id  call_date  duration  user_id  month  correct_duration\n",
       "0         1000_0 2018-07-25      0.00     1000      7               0.0\n",
       "1         1000_1 2018-08-17      0.00     1000      8               0.0\n",
       "2         1000_2 2018-06-11      2.85     1000      6               3.0\n",
       "3         1000_3 2018-09-21     13.80     1000      9              14.0\n",
       "4         1000_4 2018-12-15      5.18     1000     12               6.0\n",
       "...          ...        ...       ...      ...    ...               ...\n",
       "202602  1499_215 2018-12-26      0.76     1499     12               1.0\n",
       "202603  1499_216 2018-10-18     18.83     1499     10              19.0\n",
       "202604  1499_217 2018-11-10     10.81     1499     11              11.0\n",
       "202605  1499_218 2018-10-06      4.27     1499     10               5.0\n",
       "202606  1499_219 2018-12-14     19.62     1499     12              20.0\n",
       "\n",
       "[202607 rows x 6 columns]"
      ]
     },
     "execution_count": 19,
     "metadata": {},
     "output_type": "execute_result"
    }
   ],
   "source": [
    "calls['correct_duration'] = calls.apply(correct_duration, axis=1)\n",
    "calls"
   ]
  },
  {
   "cell_type": "code",
   "execution_count": 20,
   "metadata": {},
   "outputs": [
    {
     "data": {
      "text/html": [
       "<div>\n",
       "<style scoped>\n",
       "    .dataframe tbody tr th:only-of-type {\n",
       "        vertical-align: middle;\n",
       "    }\n",
       "\n",
       "    .dataframe tbody tr th {\n",
       "        vertical-align: top;\n",
       "    }\n",
       "\n",
       "    .dataframe thead th {\n",
       "        text-align: right;\n",
       "    }\n",
       "</style>\n",
       "<table border=\"1\" class=\"dataframe\">\n",
       "  <thead>\n",
       "    <tr style=\"text-align: right;\">\n",
       "      <th></th>\n",
       "      <th></th>\n",
       "      <th>calls_duration</th>\n",
       "      <th>calls_count</th>\n",
       "    </tr>\n",
       "    <tr>\n",
       "      <th>user_id</th>\n",
       "      <th>month</th>\n",
       "      <th></th>\n",
       "      <th></th>\n",
       "    </tr>\n",
       "  </thead>\n",
       "  <tbody>\n",
       "    <tr>\n",
       "      <th rowspan=\"5\" valign=\"top\">1000</th>\n",
       "      <th>5</th>\n",
       "      <td>159.0</td>\n",
       "      <td>22</td>\n",
       "    </tr>\n",
       "    <tr>\n",
       "      <th>6</th>\n",
       "      <td>172.0</td>\n",
       "      <td>43</td>\n",
       "    </tr>\n",
       "    <tr>\n",
       "      <th>7</th>\n",
       "      <td>340.0</td>\n",
       "      <td>47</td>\n",
       "    </tr>\n",
       "    <tr>\n",
       "      <th>8</th>\n",
       "      <td>408.0</td>\n",
       "      <td>52</td>\n",
       "    </tr>\n",
       "    <tr>\n",
       "      <th>9</th>\n",
       "      <td>466.0</td>\n",
       "      <td>58</td>\n",
       "    </tr>\n",
       "    <tr>\n",
       "      <th>...</th>\n",
       "      <th>...</th>\n",
       "      <td>...</td>\n",
       "      <td>...</td>\n",
       "    </tr>\n",
       "    <tr>\n",
       "      <th>1498</th>\n",
       "      <th>10</th>\n",
       "      <td>247.0</td>\n",
       "      <td>41</td>\n",
       "    </tr>\n",
       "    <tr>\n",
       "      <th rowspan=\"4\" valign=\"top\">1499</th>\n",
       "      <th>9</th>\n",
       "      <td>70.0</td>\n",
       "      <td>9</td>\n",
       "    </tr>\n",
       "    <tr>\n",
       "      <th>10</th>\n",
       "      <td>449.0</td>\n",
       "      <td>68</td>\n",
       "    </tr>\n",
       "    <tr>\n",
       "      <th>11</th>\n",
       "      <td>612.0</td>\n",
       "      <td>74</td>\n",
       "    </tr>\n",
       "    <tr>\n",
       "      <th>12</th>\n",
       "      <td>492.0</td>\n",
       "      <td>69</td>\n",
       "    </tr>\n",
       "  </tbody>\n",
       "</table>\n",
       "<p>3174 rows × 2 columns</p>\n",
       "</div>"
      ],
      "text/plain": [
       "               calls_duration  calls_count\n",
       "user_id month                             \n",
       "1000    5               159.0           22\n",
       "        6               172.0           43\n",
       "        7               340.0           47\n",
       "        8               408.0           52\n",
       "        9               466.0           58\n",
       "...                       ...          ...\n",
       "1498    10              247.0           41\n",
       "1499    9                70.0            9\n",
       "        10              449.0           68\n",
       "        11              612.0           74\n",
       "        12              492.0           69\n",
       "\n",
       "[3174 rows x 2 columns]"
      ]
     },
     "execution_count": 20,
     "metadata": {},
     "output_type": "execute_result"
    }
   ],
   "source": [
    "calls_total = calls.pivot_table(index=['user_id', 'month'], values=['correct_duration'], aggfunc=['sum', 'count'])\n",
    "calls_total.columns = ['calls_duration', 'calls_count']\n",
    "calls_total"
   ]
  },
  {
   "cell_type": "markdown",
   "metadata": {},
   "source": [
    "- Далее аналогичным образом подсчитаем количество сообщение отправленных каждым пользователем по месяцам."
   ]
  },
  {
   "cell_type": "code",
   "execution_count": 21,
   "metadata": {},
   "outputs": [
    {
     "data": {
      "text/html": [
       "<div>\n",
       "<style scoped>\n",
       "    .dataframe tbody tr th:only-of-type {\n",
       "        vertical-align: middle;\n",
       "    }\n",
       "\n",
       "    .dataframe tbody tr th {\n",
       "        vertical-align: top;\n",
       "    }\n",
       "\n",
       "    .dataframe thead th {\n",
       "        text-align: right;\n",
       "    }\n",
       "</style>\n",
       "<table border=\"1\" class=\"dataframe\">\n",
       "  <thead>\n",
       "    <tr style=\"text-align: right;\">\n",
       "      <th></th>\n",
       "      <th>id</th>\n",
       "      <th>message_date</th>\n",
       "      <th>user_id</th>\n",
       "      <th>month</th>\n",
       "    </tr>\n",
       "  </thead>\n",
       "  <tbody>\n",
       "    <tr>\n",
       "      <th>0</th>\n",
       "      <td>1000_0</td>\n",
       "      <td>2018-06-27</td>\n",
       "      <td>1000</td>\n",
       "      <td>6</td>\n",
       "    </tr>\n",
       "    <tr>\n",
       "      <th>1</th>\n",
       "      <td>1000_1</td>\n",
       "      <td>2018-10-08</td>\n",
       "      <td>1000</td>\n",
       "      <td>10</td>\n",
       "    </tr>\n",
       "    <tr>\n",
       "      <th>2</th>\n",
       "      <td>1000_2</td>\n",
       "      <td>2018-08-04</td>\n",
       "      <td>1000</td>\n",
       "      <td>8</td>\n",
       "    </tr>\n",
       "    <tr>\n",
       "      <th>3</th>\n",
       "      <td>1000_3</td>\n",
       "      <td>2018-06-16</td>\n",
       "      <td>1000</td>\n",
       "      <td>6</td>\n",
       "    </tr>\n",
       "    <tr>\n",
       "      <th>4</th>\n",
       "      <td>1000_4</td>\n",
       "      <td>2018-12-05</td>\n",
       "      <td>1000</td>\n",
       "      <td>12</td>\n",
       "    </tr>\n",
       "    <tr>\n",
       "      <th>...</th>\n",
       "      <td>...</td>\n",
       "      <td>...</td>\n",
       "      <td>...</td>\n",
       "      <td>...</td>\n",
       "    </tr>\n",
       "    <tr>\n",
       "      <th>123031</th>\n",
       "      <td>1499_179</td>\n",
       "      <td>2018-12-12</td>\n",
       "      <td>1499</td>\n",
       "      <td>12</td>\n",
       "    </tr>\n",
       "    <tr>\n",
       "      <th>123032</th>\n",
       "      <td>1499_180</td>\n",
       "      <td>2018-09-28</td>\n",
       "      <td>1499</td>\n",
       "      <td>9</td>\n",
       "    </tr>\n",
       "    <tr>\n",
       "      <th>123033</th>\n",
       "      <td>1499_181</td>\n",
       "      <td>2018-09-27</td>\n",
       "      <td>1499</td>\n",
       "      <td>9</td>\n",
       "    </tr>\n",
       "    <tr>\n",
       "      <th>123034</th>\n",
       "      <td>1499_182</td>\n",
       "      <td>2018-11-15</td>\n",
       "      <td>1499</td>\n",
       "      <td>11</td>\n",
       "    </tr>\n",
       "    <tr>\n",
       "      <th>123035</th>\n",
       "      <td>1499_183</td>\n",
       "      <td>2018-11-16</td>\n",
       "      <td>1499</td>\n",
       "      <td>11</td>\n",
       "    </tr>\n",
       "  </tbody>\n",
       "</table>\n",
       "<p>123036 rows × 4 columns</p>\n",
       "</div>"
      ],
      "text/plain": [
       "              id message_date  user_id  month\n",
       "0         1000_0   2018-06-27     1000      6\n",
       "1         1000_1   2018-10-08     1000     10\n",
       "2         1000_2   2018-08-04     1000      8\n",
       "3         1000_3   2018-06-16     1000      6\n",
       "4         1000_4   2018-12-05     1000     12\n",
       "...          ...          ...      ...    ...\n",
       "123031  1499_179   2018-12-12     1499     12\n",
       "123032  1499_180   2018-09-28     1499      9\n",
       "123033  1499_181   2018-09-27     1499      9\n",
       "123034  1499_182   2018-11-15     1499     11\n",
       "123035  1499_183   2018-11-16     1499     11\n",
       "\n",
       "[123036 rows x 4 columns]"
      ]
     },
     "execution_count": 21,
     "metadata": {},
     "output_type": "execute_result"
    }
   ],
   "source": [
    "messages['month'] = messages['message_date'].dt.month\n",
    "messages"
   ]
  },
  {
   "cell_type": "code",
   "execution_count": 22,
   "metadata": {},
   "outputs": [
    {
     "data": {
      "text/html": [
       "<div>\n",
       "<style scoped>\n",
       "    .dataframe tbody tr th:only-of-type {\n",
       "        vertical-align: middle;\n",
       "    }\n",
       "\n",
       "    .dataframe tbody tr th {\n",
       "        vertical-align: top;\n",
       "    }\n",
       "\n",
       "    .dataframe thead th {\n",
       "        text-align: right;\n",
       "    }\n",
       "</style>\n",
       "<table border=\"1\" class=\"dataframe\">\n",
       "  <thead>\n",
       "    <tr style=\"text-align: right;\">\n",
       "      <th></th>\n",
       "      <th></th>\n",
       "      <th>messages_count</th>\n",
       "    </tr>\n",
       "    <tr>\n",
       "      <th>user_id</th>\n",
       "      <th>month</th>\n",
       "      <th></th>\n",
       "    </tr>\n",
       "  </thead>\n",
       "  <tbody>\n",
       "    <tr>\n",
       "      <th rowspan=\"5\" valign=\"top\">1000</th>\n",
       "      <th>5</th>\n",
       "      <td>22</td>\n",
       "    </tr>\n",
       "    <tr>\n",
       "      <th>6</th>\n",
       "      <td>60</td>\n",
       "    </tr>\n",
       "    <tr>\n",
       "      <th>7</th>\n",
       "      <td>75</td>\n",
       "    </tr>\n",
       "    <tr>\n",
       "      <th>8</th>\n",
       "      <td>81</td>\n",
       "    </tr>\n",
       "    <tr>\n",
       "      <th>9</th>\n",
       "      <td>57</td>\n",
       "    </tr>\n",
       "    <tr>\n",
       "      <th>...</th>\n",
       "      <th>...</th>\n",
       "      <td>...</td>\n",
       "    </tr>\n",
       "    <tr>\n",
       "      <th>1498</th>\n",
       "      <th>10</th>\n",
       "      <td>42</td>\n",
       "    </tr>\n",
       "    <tr>\n",
       "      <th rowspan=\"4\" valign=\"top\">1499</th>\n",
       "      <th>9</th>\n",
       "      <td>11</td>\n",
       "    </tr>\n",
       "    <tr>\n",
       "      <th>10</th>\n",
       "      <td>48</td>\n",
       "    </tr>\n",
       "    <tr>\n",
       "      <th>11</th>\n",
       "      <td>59</td>\n",
       "    </tr>\n",
       "    <tr>\n",
       "      <th>12</th>\n",
       "      <td>66</td>\n",
       "    </tr>\n",
       "  </tbody>\n",
       "</table>\n",
       "<p>2717 rows × 1 columns</p>\n",
       "</div>"
      ],
      "text/plain": [
       "               messages_count\n",
       "user_id month                \n",
       "1000    5                  22\n",
       "        6                  60\n",
       "        7                  75\n",
       "        8                  81\n",
       "        9                  57\n",
       "...                       ...\n",
       "1498    10                 42\n",
       "1499    9                  11\n",
       "        10                 48\n",
       "        11                 59\n",
       "        12                 66\n",
       "\n",
       "[2717 rows x 1 columns]"
      ]
     },
     "execution_count": 22,
     "metadata": {},
     "output_type": "execute_result"
    }
   ],
   "source": [
    "messages_total = messages.pivot_table(index=['user_id', 'month'], values='id', aggfunc=['count'])\n",
    "messages_total.columns = ['messages_count']\n",
    "messages_total"
   ]
  },
  {
   "cell_type": "markdown",
   "metadata": {},
   "source": [
    "- Посчитаем общее количество интернет трафика, использованного каждым пользователем в месяц"
   ]
  },
  {
   "cell_type": "code",
   "execution_count": 23,
   "metadata": {},
   "outputs": [
    {
     "data": {
      "text/html": [
       "<div>\n",
       "<style scoped>\n",
       "    .dataframe tbody tr th:only-of-type {\n",
       "        vertical-align: middle;\n",
       "    }\n",
       "\n",
       "    .dataframe tbody tr th {\n",
       "        vertical-align: top;\n",
       "    }\n",
       "\n",
       "    .dataframe thead th {\n",
       "        text-align: right;\n",
       "    }\n",
       "</style>\n",
       "<table border=\"1\" class=\"dataframe\">\n",
       "  <thead>\n",
       "    <tr style=\"text-align: right;\">\n",
       "      <th></th>\n",
       "      <th>Unnamed: 0</th>\n",
       "      <th>id</th>\n",
       "      <th>mb_used</th>\n",
       "      <th>session_date</th>\n",
       "      <th>user_id</th>\n",
       "      <th>month</th>\n",
       "    </tr>\n",
       "  </thead>\n",
       "  <tbody>\n",
       "    <tr>\n",
       "      <th>0</th>\n",
       "      <td>0</td>\n",
       "      <td>1000_0</td>\n",
       "      <td>112.95</td>\n",
       "      <td>2018-11-25</td>\n",
       "      <td>1000</td>\n",
       "      <td>11</td>\n",
       "    </tr>\n",
       "    <tr>\n",
       "      <th>1</th>\n",
       "      <td>1</td>\n",
       "      <td>1000_1</td>\n",
       "      <td>1052.81</td>\n",
       "      <td>2018-09-07</td>\n",
       "      <td>1000</td>\n",
       "      <td>9</td>\n",
       "    </tr>\n",
       "    <tr>\n",
       "      <th>2</th>\n",
       "      <td>2</td>\n",
       "      <td>1000_2</td>\n",
       "      <td>1197.26</td>\n",
       "      <td>2018-06-25</td>\n",
       "      <td>1000</td>\n",
       "      <td>6</td>\n",
       "    </tr>\n",
       "    <tr>\n",
       "      <th>3</th>\n",
       "      <td>3</td>\n",
       "      <td>1000_3</td>\n",
       "      <td>550.27</td>\n",
       "      <td>2018-08-22</td>\n",
       "      <td>1000</td>\n",
       "      <td>8</td>\n",
       "    </tr>\n",
       "    <tr>\n",
       "      <th>4</th>\n",
       "      <td>4</td>\n",
       "      <td>1000_4</td>\n",
       "      <td>302.56</td>\n",
       "      <td>2018-09-24</td>\n",
       "      <td>1000</td>\n",
       "      <td>9</td>\n",
       "    </tr>\n",
       "    <tr>\n",
       "      <th>...</th>\n",
       "      <td>...</td>\n",
       "      <td>...</td>\n",
       "      <td>...</td>\n",
       "      <td>...</td>\n",
       "      <td>...</td>\n",
       "      <td>...</td>\n",
       "    </tr>\n",
       "    <tr>\n",
       "      <th>149391</th>\n",
       "      <td>149391</td>\n",
       "      <td>1499_152</td>\n",
       "      <td>318.90</td>\n",
       "      <td>2018-10-03</td>\n",
       "      <td>1499</td>\n",
       "      <td>10</td>\n",
       "    </tr>\n",
       "    <tr>\n",
       "      <th>149392</th>\n",
       "      <td>149392</td>\n",
       "      <td>1499_153</td>\n",
       "      <td>490.13</td>\n",
       "      <td>2018-12-14</td>\n",
       "      <td>1499</td>\n",
       "      <td>12</td>\n",
       "    </tr>\n",
       "    <tr>\n",
       "      <th>149393</th>\n",
       "      <td>149393</td>\n",
       "      <td>1499_154</td>\n",
       "      <td>0.00</td>\n",
       "      <td>2018-10-27</td>\n",
       "      <td>1499</td>\n",
       "      <td>10</td>\n",
       "    </tr>\n",
       "    <tr>\n",
       "      <th>149394</th>\n",
       "      <td>149394</td>\n",
       "      <td>1499_155</td>\n",
       "      <td>1246.32</td>\n",
       "      <td>2018-11-26</td>\n",
       "      <td>1499</td>\n",
       "      <td>11</td>\n",
       "    </tr>\n",
       "    <tr>\n",
       "      <th>149395</th>\n",
       "      <td>149395</td>\n",
       "      <td>1499_156</td>\n",
       "      <td>544.37</td>\n",
       "      <td>2018-10-26</td>\n",
       "      <td>1499</td>\n",
       "      <td>10</td>\n",
       "    </tr>\n",
       "  </tbody>\n",
       "</table>\n",
       "<p>149396 rows × 6 columns</p>\n",
       "</div>"
      ],
      "text/plain": [
       "        Unnamed: 0        id  mb_used session_date  user_id  month\n",
       "0                0    1000_0   112.95   2018-11-25     1000     11\n",
       "1                1    1000_1  1052.81   2018-09-07     1000      9\n",
       "2                2    1000_2  1197.26   2018-06-25     1000      6\n",
       "3                3    1000_3   550.27   2018-08-22     1000      8\n",
       "4                4    1000_4   302.56   2018-09-24     1000      9\n",
       "...            ...       ...      ...          ...      ...    ...\n",
       "149391      149391  1499_152   318.90   2018-10-03     1499     10\n",
       "149392      149392  1499_153   490.13   2018-12-14     1499     12\n",
       "149393      149393  1499_154     0.00   2018-10-27     1499     10\n",
       "149394      149394  1499_155  1246.32   2018-11-26     1499     11\n",
       "149395      149395  1499_156   544.37   2018-10-26     1499     10\n",
       "\n",
       "[149396 rows x 6 columns]"
      ]
     },
     "execution_count": 23,
     "metadata": {},
     "output_type": "execute_result"
    }
   ],
   "source": [
    "internet['month'] = internet['session_date'].dt.month\n",
    "internet"
   ]
  },
  {
   "cell_type": "code",
   "execution_count": 24,
   "metadata": {},
   "outputs": [
    {
     "data": {
      "text/html": [
       "<div>\n",
       "<style scoped>\n",
       "    .dataframe tbody tr th:only-of-type {\n",
       "        vertical-align: middle;\n",
       "    }\n",
       "\n",
       "    .dataframe tbody tr th {\n",
       "        vertical-align: top;\n",
       "    }\n",
       "\n",
       "    .dataframe thead th {\n",
       "        text-align: right;\n",
       "    }\n",
       "</style>\n",
       "<table border=\"1\" class=\"dataframe\">\n",
       "  <thead>\n",
       "    <tr style=\"text-align: right;\">\n",
       "      <th></th>\n",
       "      <th></th>\n",
       "      <th>mb_used_sum</th>\n",
       "    </tr>\n",
       "    <tr>\n",
       "      <th>user_id</th>\n",
       "      <th>month</th>\n",
       "      <th></th>\n",
       "    </tr>\n",
       "  </thead>\n",
       "  <tbody>\n",
       "    <tr>\n",
       "      <th rowspan=\"5\" valign=\"top\">1000</th>\n",
       "      <th>5</th>\n",
       "      <td>2253.49</td>\n",
       "    </tr>\n",
       "    <tr>\n",
       "      <th>6</th>\n",
       "      <td>23233.77</td>\n",
       "    </tr>\n",
       "    <tr>\n",
       "      <th>7</th>\n",
       "      <td>14003.64</td>\n",
       "    </tr>\n",
       "    <tr>\n",
       "      <th>8</th>\n",
       "      <td>14055.93</td>\n",
       "    </tr>\n",
       "    <tr>\n",
       "      <th>9</th>\n",
       "      <td>14568.91</td>\n",
       "    </tr>\n",
       "    <tr>\n",
       "      <th>...</th>\n",
       "      <th>...</th>\n",
       "      <td>...</td>\n",
       "    </tr>\n",
       "    <tr>\n",
       "      <th>1498</th>\n",
       "      <th>10</th>\n",
       "      <td>20579.36</td>\n",
       "    </tr>\n",
       "    <tr>\n",
       "      <th rowspan=\"4\" valign=\"top\">1499</th>\n",
       "      <th>9</th>\n",
       "      <td>1845.75</td>\n",
       "    </tr>\n",
       "    <tr>\n",
       "      <th>10</th>\n",
       "      <td>17788.51</td>\n",
       "    </tr>\n",
       "    <tr>\n",
       "      <th>11</th>\n",
       "      <td>17963.31</td>\n",
       "    </tr>\n",
       "    <tr>\n",
       "      <th>12</th>\n",
       "      <td>13055.58</td>\n",
       "    </tr>\n",
       "  </tbody>\n",
       "</table>\n",
       "<p>3203 rows × 1 columns</p>\n",
       "</div>"
      ],
      "text/plain": [
       "               mb_used_sum\n",
       "user_id month             \n",
       "1000    5          2253.49\n",
       "        6         23233.77\n",
       "        7         14003.64\n",
       "        8         14055.93\n",
       "        9         14568.91\n",
       "...                    ...\n",
       "1498    10        20579.36\n",
       "1499    9          1845.75\n",
       "        10        17788.51\n",
       "        11        17963.31\n",
       "        12        13055.58\n",
       "\n",
       "[3203 rows x 1 columns]"
      ]
     },
     "execution_count": 24,
     "metadata": {},
     "output_type": "execute_result"
    }
   ],
   "source": [
    "internet_total = internet.pivot_table(index=['user_id', 'month'], values='mb_used', aggfunc=['sum'])\n",
    "internet_total.columns = ['mb_used_sum']\n",
    "internet_total"
   ]
  },
  {
   "cell_type": "markdown",
   "metadata": {},
   "source": [
    "- Соединим полученные данные в одну таблицу"
   ]
  },
  {
   "cell_type": "code",
   "execution_count": 25,
   "metadata": {},
   "outputs": [],
   "source": [
    "internet_total = internet_total.merge(calls_total, how=\"outer\", on=['user_id', 'month']).merge(messages_total, how=\"outer\", \n",
    "                                                                                               on=['user_id', 'month'])"
   ]
  },
  {
   "cell_type": "markdown",
   "metadata": {},
   "source": [
    "Переименуем таблицу и изменим индексацию"
   ]
  },
  {
   "cell_type": "code",
   "execution_count": 26,
   "metadata": {},
   "outputs": [
    {
     "data": {
      "text/html": [
       "<div>\n",
       "<style scoped>\n",
       "    .dataframe tbody tr th:only-of-type {\n",
       "        vertical-align: middle;\n",
       "    }\n",
       "\n",
       "    .dataframe tbody tr th {\n",
       "        vertical-align: top;\n",
       "    }\n",
       "\n",
       "    .dataframe thead th {\n",
       "        text-align: right;\n",
       "    }\n",
       "</style>\n",
       "<table border=\"1\" class=\"dataframe\">\n",
       "  <thead>\n",
       "    <tr style=\"text-align: right;\">\n",
       "      <th></th>\n",
       "      <th>user_id</th>\n",
       "      <th>month</th>\n",
       "      <th>mb_used_sum</th>\n",
       "      <th>calls_duration</th>\n",
       "      <th>calls_count</th>\n",
       "      <th>messages_count</th>\n",
       "    </tr>\n",
       "  </thead>\n",
       "  <tbody>\n",
       "    <tr>\n",
       "      <th>0</th>\n",
       "      <td>1000</td>\n",
       "      <td>5</td>\n",
       "      <td>2253.49</td>\n",
       "      <td>159.0</td>\n",
       "      <td>22.0</td>\n",
       "      <td>22.0</td>\n",
       "    </tr>\n",
       "    <tr>\n",
       "      <th>1</th>\n",
       "      <td>1000</td>\n",
       "      <td>6</td>\n",
       "      <td>23233.77</td>\n",
       "      <td>172.0</td>\n",
       "      <td>43.0</td>\n",
       "      <td>60.0</td>\n",
       "    </tr>\n",
       "    <tr>\n",
       "      <th>2</th>\n",
       "      <td>1000</td>\n",
       "      <td>7</td>\n",
       "      <td>14003.64</td>\n",
       "      <td>340.0</td>\n",
       "      <td>47.0</td>\n",
       "      <td>75.0</td>\n",
       "    </tr>\n",
       "    <tr>\n",
       "      <th>3</th>\n",
       "      <td>1000</td>\n",
       "      <td>8</td>\n",
       "      <td>14055.93</td>\n",
       "      <td>408.0</td>\n",
       "      <td>52.0</td>\n",
       "      <td>81.0</td>\n",
       "    </tr>\n",
       "    <tr>\n",
       "      <th>4</th>\n",
       "      <td>1000</td>\n",
       "      <td>9</td>\n",
       "      <td>14568.91</td>\n",
       "      <td>466.0</td>\n",
       "      <td>58.0</td>\n",
       "      <td>57.0</td>\n",
       "    </tr>\n",
       "    <tr>\n",
       "      <th>...</th>\n",
       "      <td>...</td>\n",
       "      <td>...</td>\n",
       "      <td>...</td>\n",
       "      <td>...</td>\n",
       "      <td>...</td>\n",
       "      <td>...</td>\n",
       "    </tr>\n",
       "    <tr>\n",
       "      <th>3209</th>\n",
       "      <td>1273</td>\n",
       "      <td>11</td>\n",
       "      <td>NaN</td>\n",
       "      <td>272.0</td>\n",
       "      <td>45.0</td>\n",
       "      <td>29.0</td>\n",
       "    </tr>\n",
       "    <tr>\n",
       "      <th>3210</th>\n",
       "      <td>1273</td>\n",
       "      <td>12</td>\n",
       "      <td>NaN</td>\n",
       "      <td>260.0</td>\n",
       "      <td>41.0</td>\n",
       "      <td>39.0</td>\n",
       "    </tr>\n",
       "    <tr>\n",
       "      <th>3211</th>\n",
       "      <td>1377</td>\n",
       "      <td>2</td>\n",
       "      <td>NaN</td>\n",
       "      <td>179.0</td>\n",
       "      <td>23.0</td>\n",
       "      <td>2.0</td>\n",
       "    </tr>\n",
       "    <tr>\n",
       "      <th>3212</th>\n",
       "      <td>1392</td>\n",
       "      <td>2</td>\n",
       "      <td>NaN</td>\n",
       "      <td>13.0</td>\n",
       "      <td>2.0</td>\n",
       "      <td>3.0</td>\n",
       "    </tr>\n",
       "    <tr>\n",
       "      <th>3213</th>\n",
       "      <td>1446</td>\n",
       "      <td>8</td>\n",
       "      <td>NaN</td>\n",
       "      <td>50.0</td>\n",
       "      <td>4.0</td>\n",
       "      <td>1.0</td>\n",
       "    </tr>\n",
       "  </tbody>\n",
       "</table>\n",
       "<p>3214 rows × 6 columns</p>\n",
       "</div>"
      ],
      "text/plain": [
       "      user_id  month  mb_used_sum  calls_duration  calls_count  messages_count\n",
       "0        1000      5      2253.49           159.0         22.0            22.0\n",
       "1        1000      6     23233.77           172.0         43.0            60.0\n",
       "2        1000      7     14003.64           340.0         47.0            75.0\n",
       "3        1000      8     14055.93           408.0         52.0            81.0\n",
       "4        1000      9     14568.91           466.0         58.0            57.0\n",
       "...       ...    ...          ...             ...          ...             ...\n",
       "3209     1273     11          NaN           272.0         45.0            29.0\n",
       "3210     1273     12          NaN           260.0         41.0            39.0\n",
       "3211     1377      2          NaN           179.0         23.0             2.0\n",
       "3212     1392      2          NaN            13.0          2.0             3.0\n",
       "3213     1446      8          NaN            50.0          4.0             1.0\n",
       "\n",
       "[3214 rows x 6 columns]"
      ]
     },
     "execution_count": 26,
     "metadata": {},
     "output_type": "execute_result"
    }
   ],
   "source": [
    "df_total = internet_total.reset_index()\n",
    "df_total"
   ]
  },
  {
   "cell_type": "markdown",
   "metadata": {},
   "source": [
    "Добавим колонку, указывающую на тариф каждого пользователя"
   ]
  },
  {
   "cell_type": "code",
   "execution_count": 27,
   "metadata": {},
   "outputs": [
    {
     "data": {
      "text/html": [
       "<div>\n",
       "<style scoped>\n",
       "    .dataframe tbody tr th:only-of-type {\n",
       "        vertical-align: middle;\n",
       "    }\n",
       "\n",
       "    .dataframe tbody tr th {\n",
       "        vertical-align: top;\n",
       "    }\n",
       "\n",
       "    .dataframe thead th {\n",
       "        text-align: right;\n",
       "    }\n",
       "</style>\n",
       "<table border=\"1\" class=\"dataframe\">\n",
       "  <thead>\n",
       "    <tr style=\"text-align: right;\">\n",
       "      <th></th>\n",
       "      <th>user_id</th>\n",
       "      <th>month</th>\n",
       "      <th>mb_used_sum</th>\n",
       "      <th>calls_duration</th>\n",
       "      <th>calls_count</th>\n",
       "      <th>messages_count</th>\n",
       "      <th>tariff</th>\n",
       "    </tr>\n",
       "  </thead>\n",
       "  <tbody>\n",
       "    <tr>\n",
       "      <th>0</th>\n",
       "      <td>1000</td>\n",
       "      <td>5.0</td>\n",
       "      <td>2253.49</td>\n",
       "      <td>159.0</td>\n",
       "      <td>22.0</td>\n",
       "      <td>22.0</td>\n",
       "      <td>ultra</td>\n",
       "    </tr>\n",
       "    <tr>\n",
       "      <th>1</th>\n",
       "      <td>1000</td>\n",
       "      <td>6.0</td>\n",
       "      <td>23233.77</td>\n",
       "      <td>172.0</td>\n",
       "      <td>43.0</td>\n",
       "      <td>60.0</td>\n",
       "      <td>ultra</td>\n",
       "    </tr>\n",
       "    <tr>\n",
       "      <th>2</th>\n",
       "      <td>1000</td>\n",
       "      <td>7.0</td>\n",
       "      <td>14003.64</td>\n",
       "      <td>340.0</td>\n",
       "      <td>47.0</td>\n",
       "      <td>75.0</td>\n",
       "      <td>ultra</td>\n",
       "    </tr>\n",
       "    <tr>\n",
       "      <th>3</th>\n",
       "      <td>1000</td>\n",
       "      <td>8.0</td>\n",
       "      <td>14055.93</td>\n",
       "      <td>408.0</td>\n",
       "      <td>52.0</td>\n",
       "      <td>81.0</td>\n",
       "      <td>ultra</td>\n",
       "    </tr>\n",
       "    <tr>\n",
       "      <th>4</th>\n",
       "      <td>1000</td>\n",
       "      <td>9.0</td>\n",
       "      <td>14568.91</td>\n",
       "      <td>466.0</td>\n",
       "      <td>58.0</td>\n",
       "      <td>57.0</td>\n",
       "      <td>ultra</td>\n",
       "    </tr>\n",
       "    <tr>\n",
       "      <th>...</th>\n",
       "      <td>...</td>\n",
       "      <td>...</td>\n",
       "      <td>...</td>\n",
       "      <td>...</td>\n",
       "      <td>...</td>\n",
       "      <td>...</td>\n",
       "      <td>...</td>\n",
       "    </tr>\n",
       "    <tr>\n",
       "      <th>3211</th>\n",
       "      <td>1273</td>\n",
       "      <td>10.0</td>\n",
       "      <td>NaN</td>\n",
       "      <td>315.0</td>\n",
       "      <td>40.0</td>\n",
       "      <td>35.0</td>\n",
       "      <td>ultra</td>\n",
       "    </tr>\n",
       "    <tr>\n",
       "      <th>3212</th>\n",
       "      <td>1273</td>\n",
       "      <td>11.0</td>\n",
       "      <td>NaN</td>\n",
       "      <td>272.0</td>\n",
       "      <td>45.0</td>\n",
       "      <td>29.0</td>\n",
       "      <td>ultra</td>\n",
       "    </tr>\n",
       "    <tr>\n",
       "      <th>3213</th>\n",
       "      <td>1273</td>\n",
       "      <td>12.0</td>\n",
       "      <td>NaN</td>\n",
       "      <td>260.0</td>\n",
       "      <td>41.0</td>\n",
       "      <td>39.0</td>\n",
       "      <td>ultra</td>\n",
       "    </tr>\n",
       "    <tr>\n",
       "      <th>3214</th>\n",
       "      <td>1128</td>\n",
       "      <td>NaN</td>\n",
       "      <td>NaN</td>\n",
       "      <td>NaN</td>\n",
       "      <td>NaN</td>\n",
       "      <td>NaN</td>\n",
       "      <td>ultra</td>\n",
       "    </tr>\n",
       "    <tr>\n",
       "      <th>3215</th>\n",
       "      <td>1371</td>\n",
       "      <td>NaN</td>\n",
       "      <td>NaN</td>\n",
       "      <td>NaN</td>\n",
       "      <td>NaN</td>\n",
       "      <td>NaN</td>\n",
       "      <td>smart</td>\n",
       "    </tr>\n",
       "  </tbody>\n",
       "</table>\n",
       "<p>3216 rows × 7 columns</p>\n",
       "</div>"
      ],
      "text/plain": [
       "      user_id  month  mb_used_sum  calls_duration  calls_count  \\\n",
       "0        1000    5.0      2253.49           159.0         22.0   \n",
       "1        1000    6.0     23233.77           172.0         43.0   \n",
       "2        1000    7.0     14003.64           340.0         47.0   \n",
       "3        1000    8.0     14055.93           408.0         52.0   \n",
       "4        1000    9.0     14568.91           466.0         58.0   \n",
       "...       ...    ...          ...             ...          ...   \n",
       "3211     1273   10.0          NaN           315.0         40.0   \n",
       "3212     1273   11.0          NaN           272.0         45.0   \n",
       "3213     1273   12.0          NaN           260.0         41.0   \n",
       "3214     1128    NaN          NaN             NaN          NaN   \n",
       "3215     1371    NaN          NaN             NaN          NaN   \n",
       "\n",
       "      messages_count tariff  \n",
       "0               22.0  ultra  \n",
       "1               60.0  ultra  \n",
       "2               75.0  ultra  \n",
       "3               81.0  ultra  \n",
       "4               57.0  ultra  \n",
       "...              ...    ...  \n",
       "3211            35.0  ultra  \n",
       "3212            29.0  ultra  \n",
       "3213            39.0  ultra  \n",
       "3214             NaN  ultra  \n",
       "3215             NaN  smart  \n",
       "\n",
       "[3216 rows x 7 columns]"
      ]
     },
     "execution_count": 27,
     "metadata": {},
     "output_type": "execute_result"
    }
   ],
   "source": [
    "df_tariffs = users[['user_id', 'tariff']]\n",
    "df_total = df_total.merge(df_tariffs, how=\"outer\", on='user_id')\n",
    "df_total"
   ]
  },
  {
   "cell_type": "markdown",
   "metadata": {},
   "source": [
    "Данные месяца критически важны для анализа, поэтому колонки, в которых данные о месяце отсутствуют, мы удалим.\n",
    "\n",
    "Пропуски свидетельствуют о том, что данной услугой клиент не пользовался. Зполним пропуски"
   ]
  },
  {
   "cell_type": "code",
   "execution_count": 29,
   "metadata": {},
   "outputs": [],
   "source": [
    "df_total = df_total.dropna(subset=['month'])"
   ]
  },
  {
   "cell_type": "code",
   "execution_count": 30,
   "metadata": {},
   "outputs": [
    {
     "name": "stderr",
     "output_type": "stream",
     "text": [
      "/opt/conda/lib/python3.9/site-packages/pandas/core/indexing.py:1676: SettingWithCopyWarning: \n",
      "A value is trying to be set on a copy of a slice from a DataFrame.\n",
      "Try using .loc[row_indexer,col_indexer] = value instead\n",
      "\n",
      "See the caveats in the documentation: https://pandas.pydata.org/pandas-docs/stable/user_guide/indexing.html#returning-a-view-versus-a-copy\n",
      "  self._setitem_single_column(ilocs[0], value, pi)\n"
     ]
    }
   ],
   "source": [
    "df_total.loc[:, 'mb_used_sum'] = df_total.loc[:, 'mb_used_sum'].fillna(0)\n",
    "df_total.loc[:, 'calls_duration'] = df_total.loc[:, 'calls_duration'].fillna(0)\n",
    "df_total.loc[:, 'calls_count'] = df_total.loc[:, 'calls_count'].fillna(0)\n",
    "df_total.loc[:, 'messages_count'] = df_total.loc[:, 'messages_count'].fillna(0)"
   ]
  },
  {
   "cell_type": "code",
   "execution_count": 31,
   "metadata": {},
   "outputs": [
    {
     "name": "stdout",
     "output_type": "stream",
     "text": [
      "<class 'pandas.core.frame.DataFrame'>\n",
      "Int64Index: 3214 entries, 0 to 3213\n",
      "Data columns (total 7 columns):\n",
      " #   Column          Non-Null Count  Dtype  \n",
      "---  ------          --------------  -----  \n",
      " 0   user_id         3214 non-null   int64  \n",
      " 1   month           3214 non-null   float64\n",
      " 2   mb_used_sum     3214 non-null   float64\n",
      " 3   calls_duration  3214 non-null   float64\n",
      " 4   calls_count     3214 non-null   float64\n",
      " 5   messages_count  3214 non-null   float64\n",
      " 6   tariff          3214 non-null   object \n",
      "dtypes: float64(5), int64(1), object(1)\n",
      "memory usage: 200.9+ KB\n"
     ]
    }
   ],
   "source": [
    "df_total.info()"
   ]
  },
  {
   "cell_type": "markdown",
   "metadata": {},
   "source": [
    "Подсчитаем затраты каждого пользователя в месяц. Для этого создадим функцию `tariff`"
   ]
  },
  {
   "cell_type": "code",
   "execution_count": 32,
   "metadata": {},
   "outputs": [],
   "source": [
    "def tariff(row):\n",
    "    \"\"\"\n",
    "    Возвращает общее количество потраченых пользователем денег:\n",
    "    - Определяет какой тариф использует клиент\n",
    "    - Подсчитывает количество дополнительно затраченых услуг\n",
    "    - Суммирует плату за дополнительные услуги и базовую стоимость тарифа.\n",
    "    \"\"\"\n",
    "    tariff = row['tariff']\n",
    "    mb_used_sum = row['mb_used_sum']\n",
    "    messages_count = row['messages_count']\n",
    "    calls_duration = row['calls_duration']\n",
    "    \n",
    "    if tariff == 'ultra':\n",
    "        messages_overrun = messages_count - tariffs.loc[1, 'messages_included'] \n",
    "        if messages_overrun > 0:\n",
    "            revenue_by_messages =  messages_overrun * tariffs.loc[1, 'rub_per_message']\n",
    "        else:\n",
    "            revenue_by_messages = 0\n",
    "        mb_overrun = mb_used_sum - tariffs.loc[1, 'mb_per_month_included']\n",
    "        if mb_overrun > 0:\n",
    "            if mb_overrun % 1024 != 0:\n",
    "                revenue_mb = (int(mb_overrun / 1024) + 1) * tariffs.loc[1, 'rub_per_gb']\n",
    "            else:\n",
    "                revenue_mb = int(mb_overrun / 1024) * tariffs.loc[1, 'rub_per_gb']\n",
    "        else: \n",
    "            revenue_mb = 0\n",
    "        calls_overrun = calls_duration - tariffs.loc[1, 'minutes_included']\n",
    "        if calls_overrun > 0:\n",
    "             revenue_calls = calls_overrun * tariffs.loc[1, 'rub_per_minute']\n",
    "        else:\n",
    "             revenue_calls = 0\n",
    "        total_price = tariffs.loc[1, 'rub_monthly_fee'] + revenue_by_messages + revenue_mb + revenue_calls\n",
    "    if tariff == 'smart':\n",
    "        messages_overrun = messages_count - tariffs.loc[0, 'messages_included']\n",
    "        if messages_overrun > 0:\n",
    "            revenue_by_messages =  messages_overrun * tariffs.loc[0, 'rub_per_message']\n",
    "        else:\n",
    "            revenue_by_messages = 0\n",
    "        mb_overrun = mb_used_sum - tariffs.loc[0, 'mb_per_month_included']\n",
    "        if mb_overrun > 0:\n",
    "            if mb_overrun % 1024 != 0:\n",
    "                revenue_mb = (int(mb_overrun / 1024) + 1) * tariffs.loc[0, 'rub_per_gb']\n",
    "            else:\n",
    "                revenue_mb = int(mb_overrun / 1024) * tariffs.loc[0, 'rub_per_gb']\n",
    "        else: \n",
    "            revenue_mb = 0\n",
    "        calls_overrun = calls_duration - tariffs.loc[0, 'minutes_included']\n",
    "        if calls_overrun > 0:\n",
    "             revenue_calls = calls_overrun * tariffs.loc[0, 'rub_per_minute']\n",
    "        else:\n",
    "             revenue_calls = 0\n",
    "        total_price = tariffs.loc[0, 'rub_monthly_fee'] + revenue_by_messages + revenue_mb + revenue_calls\n",
    "     \n",
    "    return total_price"
   ]
  },
  {
   "cell_type": "code",
   "execution_count": 35,
   "metadata": {},
   "outputs": [
    {
     "data": {
      "text/html": [
       "<div>\n",
       "<style scoped>\n",
       "    .dataframe tbody tr th:only-of-type {\n",
       "        vertical-align: middle;\n",
       "    }\n",
       "\n",
       "    .dataframe tbody tr th {\n",
       "        vertical-align: top;\n",
       "    }\n",
       "\n",
       "    .dataframe thead th {\n",
       "        text-align: right;\n",
       "    }\n",
       "</style>\n",
       "<table border=\"1\" class=\"dataframe\">\n",
       "  <thead>\n",
       "    <tr style=\"text-align: right;\">\n",
       "      <th></th>\n",
       "      <th>index</th>\n",
       "      <th>user_id</th>\n",
       "      <th>month</th>\n",
       "      <th>mb_used_sum</th>\n",
       "      <th>calls_duration</th>\n",
       "      <th>calls_count</th>\n",
       "      <th>messages_count</th>\n",
       "      <th>tariff</th>\n",
       "      <th>total_price</th>\n",
       "    </tr>\n",
       "  </thead>\n",
       "  <tbody>\n",
       "    <tr>\n",
       "      <th>0</th>\n",
       "      <td>0</td>\n",
       "      <td>1000</td>\n",
       "      <td>5.0</td>\n",
       "      <td>2253.49</td>\n",
       "      <td>159.0</td>\n",
       "      <td>22.0</td>\n",
       "      <td>22.0</td>\n",
       "      <td>ultra</td>\n",
       "      <td>1950.0</td>\n",
       "    </tr>\n",
       "    <tr>\n",
       "      <th>1</th>\n",
       "      <td>1</td>\n",
       "      <td>1000</td>\n",
       "      <td>6.0</td>\n",
       "      <td>23233.77</td>\n",
       "      <td>172.0</td>\n",
       "      <td>43.0</td>\n",
       "      <td>60.0</td>\n",
       "      <td>ultra</td>\n",
       "      <td>1950.0</td>\n",
       "    </tr>\n",
       "    <tr>\n",
       "      <th>2</th>\n",
       "      <td>2</td>\n",
       "      <td>1000</td>\n",
       "      <td>7.0</td>\n",
       "      <td>14003.64</td>\n",
       "      <td>340.0</td>\n",
       "      <td>47.0</td>\n",
       "      <td>75.0</td>\n",
       "      <td>ultra</td>\n",
       "      <td>1950.0</td>\n",
       "    </tr>\n",
       "    <tr>\n",
       "      <th>3</th>\n",
       "      <td>3</td>\n",
       "      <td>1000</td>\n",
       "      <td>8.0</td>\n",
       "      <td>14055.93</td>\n",
       "      <td>408.0</td>\n",
       "      <td>52.0</td>\n",
       "      <td>81.0</td>\n",
       "      <td>ultra</td>\n",
       "      <td>1950.0</td>\n",
       "    </tr>\n",
       "    <tr>\n",
       "      <th>4</th>\n",
       "      <td>4</td>\n",
       "      <td>1000</td>\n",
       "      <td>9.0</td>\n",
       "      <td>14568.91</td>\n",
       "      <td>466.0</td>\n",
       "      <td>58.0</td>\n",
       "      <td>57.0</td>\n",
       "      <td>ultra</td>\n",
       "      <td>1950.0</td>\n",
       "    </tr>\n",
       "    <tr>\n",
       "      <th>...</th>\n",
       "      <td>...</td>\n",
       "      <td>...</td>\n",
       "      <td>...</td>\n",
       "      <td>...</td>\n",
       "      <td>...</td>\n",
       "      <td>...</td>\n",
       "      <td>...</td>\n",
       "      <td>...</td>\n",
       "      <td>...</td>\n",
       "    </tr>\n",
       "    <tr>\n",
       "      <th>3209</th>\n",
       "      <td>3209</td>\n",
       "      <td>1273</td>\n",
       "      <td>8.0</td>\n",
       "      <td>0.00</td>\n",
       "      <td>253.0</td>\n",
       "      <td>53.0</td>\n",
       "      <td>41.0</td>\n",
       "      <td>ultra</td>\n",
       "      <td>1950.0</td>\n",
       "    </tr>\n",
       "    <tr>\n",
       "      <th>3210</th>\n",
       "      <td>3210</td>\n",
       "      <td>1273</td>\n",
       "      <td>9.0</td>\n",
       "      <td>0.00</td>\n",
       "      <td>223.0</td>\n",
       "      <td>33.0</td>\n",
       "      <td>32.0</td>\n",
       "      <td>ultra</td>\n",
       "      <td>1950.0</td>\n",
       "    </tr>\n",
       "    <tr>\n",
       "      <th>3211</th>\n",
       "      <td>3211</td>\n",
       "      <td>1273</td>\n",
       "      <td>10.0</td>\n",
       "      <td>0.00</td>\n",
       "      <td>315.0</td>\n",
       "      <td>40.0</td>\n",
       "      <td>35.0</td>\n",
       "      <td>ultra</td>\n",
       "      <td>1950.0</td>\n",
       "    </tr>\n",
       "    <tr>\n",
       "      <th>3212</th>\n",
       "      <td>3212</td>\n",
       "      <td>1273</td>\n",
       "      <td>11.0</td>\n",
       "      <td>0.00</td>\n",
       "      <td>272.0</td>\n",
       "      <td>45.0</td>\n",
       "      <td>29.0</td>\n",
       "      <td>ultra</td>\n",
       "      <td>1950.0</td>\n",
       "    </tr>\n",
       "    <tr>\n",
       "      <th>3213</th>\n",
       "      <td>3213</td>\n",
       "      <td>1273</td>\n",
       "      <td>12.0</td>\n",
       "      <td>0.00</td>\n",
       "      <td>260.0</td>\n",
       "      <td>41.0</td>\n",
       "      <td>39.0</td>\n",
       "      <td>ultra</td>\n",
       "      <td>1950.0</td>\n",
       "    </tr>\n",
       "  </tbody>\n",
       "</table>\n",
       "<p>3214 rows × 9 columns</p>\n",
       "</div>"
      ],
      "text/plain": [
       "      index  user_id  month  mb_used_sum  calls_duration  calls_count  \\\n",
       "0         0     1000    5.0      2253.49           159.0         22.0   \n",
       "1         1     1000    6.0     23233.77           172.0         43.0   \n",
       "2         2     1000    7.0     14003.64           340.0         47.0   \n",
       "3         3     1000    8.0     14055.93           408.0         52.0   \n",
       "4         4     1000    9.0     14568.91           466.0         58.0   \n",
       "...     ...      ...    ...          ...             ...          ...   \n",
       "3209   3209     1273    8.0         0.00           253.0         53.0   \n",
       "3210   3210     1273    9.0         0.00           223.0         33.0   \n",
       "3211   3211     1273   10.0         0.00           315.0         40.0   \n",
       "3212   3212     1273   11.0         0.00           272.0         45.0   \n",
       "3213   3213     1273   12.0         0.00           260.0         41.0   \n",
       "\n",
       "      messages_count tariff  total_price  \n",
       "0               22.0  ultra       1950.0  \n",
       "1               60.0  ultra       1950.0  \n",
       "2               75.0  ultra       1950.0  \n",
       "3               81.0  ultra       1950.0  \n",
       "4               57.0  ultra       1950.0  \n",
       "...              ...    ...          ...  \n",
       "3209            41.0  ultra       1950.0  \n",
       "3210            32.0  ultra       1950.0  \n",
       "3211            35.0  ultra       1950.0  \n",
       "3212            29.0  ultra       1950.0  \n",
       "3213            39.0  ultra       1950.0  \n",
       "\n",
       "[3214 rows x 9 columns]"
      ]
     },
     "execution_count": 35,
     "metadata": {},
     "output_type": "execute_result"
    }
   ],
   "source": [
    "df_total['total_price'] = df_total.apply(tariff, axis=1)\n",
    "df_total"
   ]
  },
  {
   "cell_type": "markdown",
   "metadata": {},
   "source": [
    "## Анализ данных"
   ]
  },
  {
   "cell_type": "markdown",
   "metadata": {},
   "source": [
    "Посчитаем среднее количество, дисперсию и стандартное отклонение показателей датасета"
   ]
  },
  {
   "cell_type": "code",
   "execution_count": 38,
   "metadata": {},
   "outputs": [
    {
     "data": {
      "text/html": [
       "<div>\n",
       "<style scoped>\n",
       "    .dataframe tbody tr th:only-of-type {\n",
       "        vertical-align: middle;\n",
       "    }\n",
       "\n",
       "    .dataframe tbody tr th {\n",
       "        vertical-align: top;\n",
       "    }\n",
       "\n",
       "    .dataframe thead tr th {\n",
       "        text-align: left;\n",
       "    }\n",
       "\n",
       "    .dataframe thead tr:last-of-type th {\n",
       "        text-align: right;\n",
       "    }\n",
       "</style>\n",
       "<table border=\"1\" class=\"dataframe\">\n",
       "  <thead>\n",
       "    <tr>\n",
       "      <th></th>\n",
       "      <th></th>\n",
       "      <th colspan=\"4\" halign=\"left\">mean</th>\n",
       "    </tr>\n",
       "    <tr>\n",
       "      <th></th>\n",
       "      <th></th>\n",
       "      <th>calls_duration</th>\n",
       "      <th>mb_used_sum</th>\n",
       "      <th>messages_count</th>\n",
       "      <th>total_price</th>\n",
       "    </tr>\n",
       "    <tr>\n",
       "      <th>tariff</th>\n",
       "      <th>month</th>\n",
       "      <th></th>\n",
       "      <th></th>\n",
       "      <th></th>\n",
       "      <th></th>\n",
       "    </tr>\n",
       "  </thead>\n",
       "  <tbody>\n",
       "    <tr>\n",
       "      <th rowspan=\"12\" valign=\"top\">smart</th>\n",
       "      <th>1.0</th>\n",
       "      <td>203.85</td>\n",
       "      <td>8513.72</td>\n",
       "      <td>18.24</td>\n",
       "      <td>721.32</td>\n",
       "    </tr>\n",
       "    <tr>\n",
       "      <th>2.0</th>\n",
       "      <td>298.69</td>\n",
       "      <td>11597.05</td>\n",
       "      <td>24.09</td>\n",
       "      <td>827.60</td>\n",
       "    </tr>\n",
       "    <tr>\n",
       "      <th>3.0</th>\n",
       "      <td>390.05</td>\n",
       "      <td>15104.16</td>\n",
       "      <td>31.86</td>\n",
       "      <td>1164.62</td>\n",
       "    </tr>\n",
       "    <tr>\n",
       "      <th>4.0</th>\n",
       "      <td>367.13</td>\n",
       "      <td>13462.18</td>\n",
       "      <td>30.74</td>\n",
       "      <td>963.09</td>\n",
       "    </tr>\n",
       "    <tr>\n",
       "      <th>5.0</th>\n",
       "      <td>387.36</td>\n",
       "      <td>15805.18</td>\n",
       "      <td>33.77</td>\n",
       "      <td>1197.51</td>\n",
       "    </tr>\n",
       "    <tr>\n",
       "      <th>6.0</th>\n",
       "      <td>395.64</td>\n",
       "      <td>15794.65</td>\n",
       "      <td>33.40</td>\n",
       "      <td>1204.02</td>\n",
       "    </tr>\n",
       "    <tr>\n",
       "      <th>7.0</th>\n",
       "      <td>408.35</td>\n",
       "      <td>15743.15</td>\n",
       "      <td>33.75</td>\n",
       "      <td>1223.95</td>\n",
       "    </tr>\n",
       "    <tr>\n",
       "      <th>8.0</th>\n",
       "      <td>421.47</td>\n",
       "      <td>16610.72</td>\n",
       "      <td>33.64</td>\n",
       "      <td>1320.60</td>\n",
       "    </tr>\n",
       "    <tr>\n",
       "      <th>9.0</th>\n",
       "      <td>428.61</td>\n",
       "      <td>16303.58</td>\n",
       "      <td>33.64</td>\n",
       "      <td>1249.95</td>\n",
       "    </tr>\n",
       "    <tr>\n",
       "      <th>10.0</th>\n",
       "      <td>426.14</td>\n",
       "      <td>16757.12</td>\n",
       "      <td>33.77</td>\n",
       "      <td>1364.85</td>\n",
       "    </tr>\n",
       "    <tr>\n",
       "      <th>11.0</th>\n",
       "      <td>435.27</td>\n",
       "      <td>16895.70</td>\n",
       "      <td>34.08</td>\n",
       "      <td>1343.05</td>\n",
       "    </tr>\n",
       "    <tr>\n",
       "      <th>12.0</th>\n",
       "      <td>478.56</td>\n",
       "      <td>18113.66</td>\n",
       "      <td>35.99</td>\n",
       "      <td>1578.53</td>\n",
       "    </tr>\n",
       "    <tr>\n",
       "      <th rowspan=\"12\" valign=\"top\">ultra</th>\n",
       "      <th>1.0</th>\n",
       "      <td>428.11</td>\n",
       "      <td>13140.68</td>\n",
       "      <td>33.78</td>\n",
       "      <td>1950.00</td>\n",
       "    </tr>\n",
       "    <tr>\n",
       "      <th>2.0</th>\n",
       "      <td>297.12</td>\n",
       "      <td>11775.94</td>\n",
       "      <td>21.96</td>\n",
       "      <td>1975.00</td>\n",
       "    </tr>\n",
       "    <tr>\n",
       "      <th>3.0</th>\n",
       "      <td>489.65</td>\n",
       "      <td>17535.55</td>\n",
       "      <td>32.30</td>\n",
       "      <td>2014.86</td>\n",
       "    </tr>\n",
       "    <tr>\n",
       "      <th>4.0</th>\n",
       "      <td>458.02</td>\n",
       "      <td>16828.13</td>\n",
       "      <td>31.56</td>\n",
       "      <td>2001.82</td>\n",
       "    </tr>\n",
       "    <tr>\n",
       "      <th>5.0</th>\n",
       "      <td>510.33</td>\n",
       "      <td>19363.15</td>\n",
       "      <td>37.85</td>\n",
       "      <td>2059.70</td>\n",
       "    </tr>\n",
       "    <tr>\n",
       "      <th>6.0</th>\n",
       "      <td>479.70</td>\n",
       "      <td>18924.94</td>\n",
       "      <td>41.73</td>\n",
       "      <td>2039.29</td>\n",
       "    </tr>\n",
       "    <tr>\n",
       "      <th>7.0</th>\n",
       "      <td>545.79</td>\n",
       "      <td>20495.67</td>\n",
       "      <td>49.85</td>\n",
       "      <td>2118.13</td>\n",
       "    </tr>\n",
       "    <tr>\n",
       "      <th>8.0</th>\n",
       "      <td>510.78</td>\n",
       "      <td>19576.05</td>\n",
       "      <td>48.44</td>\n",
       "      <td>2083.18</td>\n",
       "    </tr>\n",
       "    <tr>\n",
       "      <th>9.0</th>\n",
       "      <td>539.44</td>\n",
       "      <td>19204.28</td>\n",
       "      <td>52.29</td>\n",
       "      <td>2024.35</td>\n",
       "    </tr>\n",
       "    <tr>\n",
       "      <th>10.0</th>\n",
       "      <td>558.08</td>\n",
       "      <td>20045.34</td>\n",
       "      <td>58.43</td>\n",
       "      <td>2065.85</td>\n",
       "    </tr>\n",
       "    <tr>\n",
       "      <th>11.0</th>\n",
       "      <td>541.38</td>\n",
       "      <td>19786.81</td>\n",
       "      <td>55.79</td>\n",
       "      <td>2092.16</td>\n",
       "    </tr>\n",
       "    <tr>\n",
       "      <th>12.0</th>\n",
       "      <td>592.81</td>\n",
       "      <td>21793.17</td>\n",
       "      <td>60.61</td>\n",
       "      <td>2138.85</td>\n",
       "    </tr>\n",
       "  </tbody>\n",
       "</table>\n",
       "</div>"
      ],
      "text/plain": [
       "                       mean                                       \n",
       "             calls_duration mb_used_sum messages_count total_price\n",
       "tariff month                                                      \n",
       "smart  1.0           203.85     8513.72          18.24      721.32\n",
       "       2.0           298.69    11597.05          24.09      827.60\n",
       "       3.0           390.05    15104.16          31.86     1164.62\n",
       "       4.0           367.13    13462.18          30.74      963.09\n",
       "       5.0           387.36    15805.18          33.77     1197.51\n",
       "       6.0           395.64    15794.65          33.40     1204.02\n",
       "       7.0           408.35    15743.15          33.75     1223.95\n",
       "       8.0           421.47    16610.72          33.64     1320.60\n",
       "       9.0           428.61    16303.58          33.64     1249.95\n",
       "       10.0          426.14    16757.12          33.77     1364.85\n",
       "       11.0          435.27    16895.70          34.08     1343.05\n",
       "       12.0          478.56    18113.66          35.99     1578.53\n",
       "ultra  1.0           428.11    13140.68          33.78     1950.00\n",
       "       2.0           297.12    11775.94          21.96     1975.00\n",
       "       3.0           489.65    17535.55          32.30     2014.86\n",
       "       4.0           458.02    16828.13          31.56     2001.82\n",
       "       5.0           510.33    19363.15          37.85     2059.70\n",
       "       6.0           479.70    18924.94          41.73     2039.29\n",
       "       7.0           545.79    20495.67          49.85     2118.13\n",
       "       8.0           510.78    19576.05          48.44     2083.18\n",
       "       9.0           539.44    19204.28          52.29     2024.35\n",
       "       10.0          558.08    20045.34          58.43     2065.85\n",
       "       11.0          541.38    19786.81          55.79     2092.16\n",
       "       12.0          592.81    21793.17          60.61     2138.85"
      ]
     },
     "execution_count": 38,
     "metadata": {},
     "output_type": "execute_result"
    }
   ],
   "source": [
    "df_total_mean = df_total.pivot_table(index=['tariff', 'month'], \n",
    "                                      values=['mb_used_sum', 'calls_duration', 'messages_count', 'total_price'], \n",
    "                                      aggfunc=['mean']).round(2)\n",
    "df_total_mean"
   ]
  },
  {
   "cell_type": "code",
   "execution_count": 39,
   "metadata": {},
   "outputs": [
    {
     "data": {
      "text/html": [
       "<div>\n",
       "<style scoped>\n",
       "    .dataframe tbody tr th:only-of-type {\n",
       "        vertical-align: middle;\n",
       "    }\n",
       "\n",
       "    .dataframe tbody tr th {\n",
       "        vertical-align: top;\n",
       "    }\n",
       "\n",
       "    .dataframe thead tr th {\n",
       "        text-align: left;\n",
       "    }\n",
       "\n",
       "    .dataframe thead tr:last-of-type th {\n",
       "        text-align: right;\n",
       "    }\n",
       "</style>\n",
       "<table border=\"1\" class=\"dataframe\">\n",
       "  <thead>\n",
       "    <tr>\n",
       "      <th></th>\n",
       "      <th></th>\n",
       "      <th colspan=\"4\" halign=\"left\">var</th>\n",
       "    </tr>\n",
       "    <tr>\n",
       "      <th></th>\n",
       "      <th></th>\n",
       "      <th>calls_duration</th>\n",
       "      <th>mb_used_sum</th>\n",
       "      <th>messages_count</th>\n",
       "      <th>total_price</th>\n",
       "    </tr>\n",
       "    <tr>\n",
       "      <th>tariff</th>\n",
       "      <th>month</th>\n",
       "      <th></th>\n",
       "      <th></th>\n",
       "      <th></th>\n",
       "      <th></th>\n",
       "    </tr>\n",
       "  </thead>\n",
       "  <tbody>\n",
       "    <tr>\n",
       "      <th rowspan=\"12\" valign=\"top\">smart</th>\n",
       "      <th>1.0</th>\n",
       "      <td>23787.3</td>\n",
       "      <td>41533913.4</td>\n",
       "      <td>262.4</td>\n",
       "      <td>192516.2</td>\n",
       "    </tr>\n",
       "    <tr>\n",
       "      <th>2.0</th>\n",
       "      <td>36412.3</td>\n",
       "      <td>39029429.9</td>\n",
       "      <td>473.1</td>\n",
       "      <td>292358.7</td>\n",
       "    </tr>\n",
       "    <tr>\n",
       "      <th>3.0</th>\n",
       "      <td>36823.2</td>\n",
       "      <td>33968352.8</td>\n",
       "      <td>718.5</td>\n",
       "      <td>487239.0</td>\n",
       "    </tr>\n",
       "    <tr>\n",
       "      <th>4.0</th>\n",
       "      <td>34778.2</td>\n",
       "      <td>32470042.7</td>\n",
       "      <td>602.1</td>\n",
       "      <td>315916.6</td>\n",
       "    </tr>\n",
       "    <tr>\n",
       "      <th>5.0</th>\n",
       "      <td>34820.1</td>\n",
       "      <td>35739254.6</td>\n",
       "      <td>731.0</td>\n",
       "      <td>522690.2</td>\n",
       "    </tr>\n",
       "    <tr>\n",
       "      <th>6.0</th>\n",
       "      <td>30742.9</td>\n",
       "      <td>33537483.0</td>\n",
       "      <td>806.8</td>\n",
       "      <td>556125.2</td>\n",
       "    </tr>\n",
       "    <tr>\n",
       "      <th>7.0</th>\n",
       "      <td>32250.3</td>\n",
       "      <td>34776430.6</td>\n",
       "      <td>799.9</td>\n",
       "      <td>545338.2</td>\n",
       "    </tr>\n",
       "    <tr>\n",
       "      <th>8.0</th>\n",
       "      <td>34793.6</td>\n",
       "      <td>31287232.5</td>\n",
       "      <td>838.3</td>\n",
       "      <td>627619.4</td>\n",
       "    </tr>\n",
       "    <tr>\n",
       "      <th>9.0</th>\n",
       "      <td>33535.3</td>\n",
       "      <td>26999618.9</td>\n",
       "      <td>790.6</td>\n",
       "      <td>536688.5</td>\n",
       "    </tr>\n",
       "    <tr>\n",
       "      <th>10.0</th>\n",
       "      <td>35392.3</td>\n",
       "      <td>34332386.6</td>\n",
       "      <td>816.1</td>\n",
       "      <td>710266.4</td>\n",
       "    </tr>\n",
       "    <tr>\n",
       "      <th>11.0</th>\n",
       "      <td>31605.2</td>\n",
       "      <td>28518520.2</td>\n",
       "      <td>805.9</td>\n",
       "      <td>633185.8</td>\n",
       "    </tr>\n",
       "    <tr>\n",
       "      <th>12.0</th>\n",
       "      <td>39698.6</td>\n",
       "      <td>31065938.5</td>\n",
       "      <td>935.0</td>\n",
       "      <td>1070678.5</td>\n",
       "    </tr>\n",
       "    <tr>\n",
       "      <th rowspan=\"12\" valign=\"top\">ultra</th>\n",
       "      <th>1.0</th>\n",
       "      <td>72769.4</td>\n",
       "      <td>47132987.7</td>\n",
       "      <td>940.7</td>\n",
       "      <td>0.0</td>\n",
       "    </tr>\n",
       "    <tr>\n",
       "      <th>2.0</th>\n",
       "      <td>87919.7</td>\n",
       "      <td>113308444.0</td>\n",
       "      <td>716.8</td>\n",
       "      <td>7173.9</td>\n",
       "    </tr>\n",
       "    <tr>\n",
       "      <th>3.0</th>\n",
       "      <td>111384.9</td>\n",
       "      <td>119941614.1</td>\n",
       "      <td>1732.4</td>\n",
       "      <td>43175.7</td>\n",
       "    </tr>\n",
       "    <tr>\n",
       "      <th>4.0</th>\n",
       "      <td>71653.9</td>\n",
       "      <td>94452154.8</td>\n",
       "      <td>1407.3</td>\n",
       "      <td>38515.2</td>\n",
       "    </tr>\n",
       "    <tr>\n",
       "      <th>5.0</th>\n",
       "      <td>83870.2</td>\n",
       "      <td>100924330.4</td>\n",
       "      <td>1624.6</td>\n",
       "      <td>162669.6</td>\n",
       "    </tr>\n",
       "    <tr>\n",
       "      <th>6.0</th>\n",
       "      <td>91535.9</td>\n",
       "      <td>86357572.1</td>\n",
       "      <td>1986.3</td>\n",
       "      <td>99823.6</td>\n",
       "    </tr>\n",
       "    <tr>\n",
       "      <th>7.0</th>\n",
       "      <td>94322.3</td>\n",
       "      <td>101308192.0</td>\n",
       "      <td>2372.0</td>\n",
       "      <td>198917.6</td>\n",
       "    </tr>\n",
       "    <tr>\n",
       "      <th>8.0</th>\n",
       "      <td>97956.5</td>\n",
       "      <td>109758234.2</td>\n",
       "      <td>2171.7</td>\n",
       "      <td>159761.5</td>\n",
       "    </tr>\n",
       "    <tr>\n",
       "      <th>9.0</th>\n",
       "      <td>105716.8</td>\n",
       "      <td>89985870.9</td>\n",
       "      <td>2152.9</td>\n",
       "      <td>60937.1</td>\n",
       "    </tr>\n",
       "    <tr>\n",
       "      <th>10.0</th>\n",
       "      <td>106464.6</td>\n",
       "      <td>96100999.9</td>\n",
       "      <td>2697.2</td>\n",
       "      <td>149685.1</td>\n",
       "    </tr>\n",
       "    <tr>\n",
       "      <th>11.0</th>\n",
       "      <td>96570.1</td>\n",
       "      <td>98158937.7</td>\n",
       "      <td>2476.9</td>\n",
       "      <td>167588.5</td>\n",
       "    </tr>\n",
       "    <tr>\n",
       "      <th>12.0</th>\n",
       "      <td>117276.3</td>\n",
       "      <td>107710907.3</td>\n",
       "      <td>2682.0</td>\n",
       "      <td>232610.3</td>\n",
       "    </tr>\n",
       "  </tbody>\n",
       "</table>\n",
       "</div>"
      ],
      "text/plain": [
       "                        var                                        \n",
       "             calls_duration  mb_used_sum messages_count total_price\n",
       "tariff month                                                       \n",
       "smart  1.0          23787.3   41533913.4          262.4    192516.2\n",
       "       2.0          36412.3   39029429.9          473.1    292358.7\n",
       "       3.0          36823.2   33968352.8          718.5    487239.0\n",
       "       4.0          34778.2   32470042.7          602.1    315916.6\n",
       "       5.0          34820.1   35739254.6          731.0    522690.2\n",
       "       6.0          30742.9   33537483.0          806.8    556125.2\n",
       "       7.0          32250.3   34776430.6          799.9    545338.2\n",
       "       8.0          34793.6   31287232.5          838.3    627619.4\n",
       "       9.0          33535.3   26999618.9          790.6    536688.5\n",
       "       10.0         35392.3   34332386.6          816.1    710266.4\n",
       "       11.0         31605.2   28518520.2          805.9    633185.8\n",
       "       12.0         39698.6   31065938.5          935.0   1070678.5\n",
       "ultra  1.0          72769.4   47132987.7          940.7         0.0\n",
       "       2.0          87919.7  113308444.0          716.8      7173.9\n",
       "       3.0         111384.9  119941614.1         1732.4     43175.7\n",
       "       4.0          71653.9   94452154.8         1407.3     38515.2\n",
       "       5.0          83870.2  100924330.4         1624.6    162669.6\n",
       "       6.0          91535.9   86357572.1         1986.3     99823.6\n",
       "       7.0          94322.3  101308192.0         2372.0    198917.6\n",
       "       8.0          97956.5  109758234.2         2171.7    159761.5\n",
       "       9.0         105716.8   89985870.9         2152.9     60937.1\n",
       "       10.0        106464.6   96100999.9         2697.2    149685.1\n",
       "       11.0         96570.1   98158937.7         2476.9    167588.5\n",
       "       12.0        117276.3  107710907.3         2682.0    232610.3"
      ]
     },
     "execution_count": 39,
     "metadata": {},
     "output_type": "execute_result"
    }
   ],
   "source": [
    "df_total_var = df_total.pivot_table(index=['tariff', 'month'], \n",
    "                                      values=['mb_used_sum', 'calls_duration', 'messages_count', 'total_price'], \n",
    "                                      aggfunc=['var']).round(1)\n",
    "df_total_var"
   ]
  },
  {
   "cell_type": "code",
   "execution_count": 40,
   "metadata": {},
   "outputs": [
    {
     "data": {
      "text/html": [
       "<div>\n",
       "<style scoped>\n",
       "    .dataframe tbody tr th:only-of-type {\n",
       "        vertical-align: middle;\n",
       "    }\n",
       "\n",
       "    .dataframe tbody tr th {\n",
       "        vertical-align: top;\n",
       "    }\n",
       "\n",
       "    .dataframe thead tr th {\n",
       "        text-align: left;\n",
       "    }\n",
       "\n",
       "    .dataframe thead tr:last-of-type th {\n",
       "        text-align: right;\n",
       "    }\n",
       "</style>\n",
       "<table border=\"1\" class=\"dataframe\">\n",
       "  <thead>\n",
       "    <tr>\n",
       "      <th></th>\n",
       "      <th></th>\n",
       "      <th colspan=\"4\" halign=\"left\">std</th>\n",
       "    </tr>\n",
       "    <tr>\n",
       "      <th></th>\n",
       "      <th></th>\n",
       "      <th>calls_duration</th>\n",
       "      <th>mb_used_sum</th>\n",
       "      <th>messages_count</th>\n",
       "      <th>total_price</th>\n",
       "    </tr>\n",
       "    <tr>\n",
       "      <th>tariff</th>\n",
       "      <th>month</th>\n",
       "      <th></th>\n",
       "      <th></th>\n",
       "      <th></th>\n",
       "      <th></th>\n",
       "    </tr>\n",
       "  </thead>\n",
       "  <tbody>\n",
       "    <tr>\n",
       "      <th rowspan=\"12\" valign=\"top\">smart</th>\n",
       "      <th>1.0</th>\n",
       "      <td>154.2</td>\n",
       "      <td>6444.7</td>\n",
       "      <td>16.2</td>\n",
       "      <td>438.8</td>\n",
       "    </tr>\n",
       "    <tr>\n",
       "      <th>2.0</th>\n",
       "      <td>190.8</td>\n",
       "      <td>6247.4</td>\n",
       "      <td>21.8</td>\n",
       "      <td>540.7</td>\n",
       "    </tr>\n",
       "    <tr>\n",
       "      <th>3.0</th>\n",
       "      <td>191.9</td>\n",
       "      <td>5828.2</td>\n",
       "      <td>26.8</td>\n",
       "      <td>698.0</td>\n",
       "    </tr>\n",
       "    <tr>\n",
       "      <th>4.0</th>\n",
       "      <td>186.5</td>\n",
       "      <td>5698.2</td>\n",
       "      <td>24.5</td>\n",
       "      <td>562.1</td>\n",
       "    </tr>\n",
       "    <tr>\n",
       "      <th>5.0</th>\n",
       "      <td>186.6</td>\n",
       "      <td>5978.2</td>\n",
       "      <td>27.0</td>\n",
       "      <td>723.0</td>\n",
       "    </tr>\n",
       "    <tr>\n",
       "      <th>6.0</th>\n",
       "      <td>175.3</td>\n",
       "      <td>5791.2</td>\n",
       "      <td>28.4</td>\n",
       "      <td>745.7</td>\n",
       "    </tr>\n",
       "    <tr>\n",
       "      <th>7.0</th>\n",
       "      <td>179.6</td>\n",
       "      <td>5897.2</td>\n",
       "      <td>28.3</td>\n",
       "      <td>738.5</td>\n",
       "    </tr>\n",
       "    <tr>\n",
       "      <th>8.0</th>\n",
       "      <td>186.5</td>\n",
       "      <td>5593.5</td>\n",
       "      <td>29.0</td>\n",
       "      <td>792.2</td>\n",
       "    </tr>\n",
       "    <tr>\n",
       "      <th>9.0</th>\n",
       "      <td>183.1</td>\n",
       "      <td>5196.1</td>\n",
       "      <td>28.1</td>\n",
       "      <td>732.6</td>\n",
       "    </tr>\n",
       "    <tr>\n",
       "      <th>10.0</th>\n",
       "      <td>188.1</td>\n",
       "      <td>5859.4</td>\n",
       "      <td>28.6</td>\n",
       "      <td>842.8</td>\n",
       "    </tr>\n",
       "    <tr>\n",
       "      <th>11.0</th>\n",
       "      <td>177.8</td>\n",
       "      <td>5340.3</td>\n",
       "      <td>28.4</td>\n",
       "      <td>795.7</td>\n",
       "    </tr>\n",
       "    <tr>\n",
       "      <th>12.0</th>\n",
       "      <td>199.2</td>\n",
       "      <td>5573.7</td>\n",
       "      <td>30.6</td>\n",
       "      <td>1034.7</td>\n",
       "    </tr>\n",
       "    <tr>\n",
       "      <th rowspan=\"12\" valign=\"top\">ultra</th>\n",
       "      <th>1.0</th>\n",
       "      <td>269.8</td>\n",
       "      <td>6865.3</td>\n",
       "      <td>30.7</td>\n",
       "      <td>0.0</td>\n",
       "    </tr>\n",
       "    <tr>\n",
       "      <th>2.0</th>\n",
       "      <td>296.5</td>\n",
       "      <td>10644.6</td>\n",
       "      <td>26.8</td>\n",
       "      <td>84.7</td>\n",
       "    </tr>\n",
       "    <tr>\n",
       "      <th>3.0</th>\n",
       "      <td>333.7</td>\n",
       "      <td>10951.8</td>\n",
       "      <td>41.6</td>\n",
       "      <td>207.8</td>\n",
       "    </tr>\n",
       "    <tr>\n",
       "      <th>4.0</th>\n",
       "      <td>267.7</td>\n",
       "      <td>9718.6</td>\n",
       "      <td>37.5</td>\n",
       "      <td>196.3</td>\n",
       "    </tr>\n",
       "    <tr>\n",
       "      <th>5.0</th>\n",
       "      <td>289.6</td>\n",
       "      <td>10046.1</td>\n",
       "      <td>40.3</td>\n",
       "      <td>403.3</td>\n",
       "    </tr>\n",
       "    <tr>\n",
       "      <th>6.0</th>\n",
       "      <td>302.5</td>\n",
       "      <td>9292.9</td>\n",
       "      <td>44.6</td>\n",
       "      <td>315.9</td>\n",
       "    </tr>\n",
       "    <tr>\n",
       "      <th>7.0</th>\n",
       "      <td>307.1</td>\n",
       "      <td>10065.2</td>\n",
       "      <td>48.7</td>\n",
       "      <td>446.0</td>\n",
       "    </tr>\n",
       "    <tr>\n",
       "      <th>8.0</th>\n",
       "      <td>313.0</td>\n",
       "      <td>10476.6</td>\n",
       "      <td>46.6</td>\n",
       "      <td>399.7</td>\n",
       "    </tr>\n",
       "    <tr>\n",
       "      <th>9.0</th>\n",
       "      <td>325.1</td>\n",
       "      <td>9486.1</td>\n",
       "      <td>46.4</td>\n",
       "      <td>246.9</td>\n",
       "    </tr>\n",
       "    <tr>\n",
       "      <th>10.0</th>\n",
       "      <td>326.3</td>\n",
       "      <td>9803.1</td>\n",
       "      <td>51.9</td>\n",
       "      <td>386.9</td>\n",
       "    </tr>\n",
       "    <tr>\n",
       "      <th>11.0</th>\n",
       "      <td>310.8</td>\n",
       "      <td>9907.5</td>\n",
       "      <td>49.8</td>\n",
       "      <td>409.4</td>\n",
       "    </tr>\n",
       "    <tr>\n",
       "      <th>12.0</th>\n",
       "      <td>342.5</td>\n",
       "      <td>10378.4</td>\n",
       "      <td>51.8</td>\n",
       "      <td>482.3</td>\n",
       "    </tr>\n",
       "  </tbody>\n",
       "</table>\n",
       "</div>"
      ],
      "text/plain": [
       "                        std                                       \n",
       "             calls_duration mb_used_sum messages_count total_price\n",
       "tariff month                                                      \n",
       "smart  1.0            154.2      6444.7           16.2       438.8\n",
       "       2.0            190.8      6247.4           21.8       540.7\n",
       "       3.0            191.9      5828.2           26.8       698.0\n",
       "       4.0            186.5      5698.2           24.5       562.1\n",
       "       5.0            186.6      5978.2           27.0       723.0\n",
       "       6.0            175.3      5791.2           28.4       745.7\n",
       "       7.0            179.6      5897.2           28.3       738.5\n",
       "       8.0            186.5      5593.5           29.0       792.2\n",
       "       9.0            183.1      5196.1           28.1       732.6\n",
       "       10.0           188.1      5859.4           28.6       842.8\n",
       "       11.0           177.8      5340.3           28.4       795.7\n",
       "       12.0           199.2      5573.7           30.6      1034.7\n",
       "ultra  1.0            269.8      6865.3           30.7         0.0\n",
       "       2.0            296.5     10644.6           26.8        84.7\n",
       "       3.0            333.7     10951.8           41.6       207.8\n",
       "       4.0            267.7      9718.6           37.5       196.3\n",
       "       5.0            289.6     10046.1           40.3       403.3\n",
       "       6.0            302.5      9292.9           44.6       315.9\n",
       "       7.0            307.1     10065.2           48.7       446.0\n",
       "       8.0            313.0     10476.6           46.6       399.7\n",
       "       9.0            325.1      9486.1           46.4       246.9\n",
       "       10.0           326.3      9803.1           51.9       386.9\n",
       "       11.0           310.8      9907.5           49.8       409.4\n",
       "       12.0           342.5     10378.4           51.8       482.3"
      ]
     },
     "execution_count": 40,
     "metadata": {},
     "output_type": "execute_result"
    }
   ],
   "source": [
    "df_total_std = df_total.pivot_table(index=['tariff', 'month'], \n",
    "                                      values=['mb_used_sum', 'calls_duration', 'messages_count', 'total_price'], \n",
    "                                      aggfunc=['std']).round(1)\n",
    "df_total_std"
   ]
  },
  {
   "cell_type": "markdown",
   "metadata": {},
   "source": [
    "Среднее расстояние между ценой заплаченой пользователями тарифа `smart` выше, что свидетельствует о частой покупке клиентами дополнительных услуг."
   ]
  },
  {
   "cell_type": "code",
   "execution_count": 41,
   "metadata": {},
   "outputs": [
    {
     "data": {
      "image/png": "[encoded data removed]",
      "text/plain": [
       "<Figure size 432x288 with 1 Axes>"
      ]
     },
     "metadata": {
      "needs_background": "light"
     },
     "output_type": "display_data"
    }
   ],
   "source": [
    "df_total[df_total.tariff == 'smart']['mb_used_sum'].hist(bins = 180);"
   ]
  },
  {
   "cell_type": "code",
   "execution_count": 42,
   "metadata": {},
   "outputs": [
    {
     "data": {
      "image/png": "[encoded data removed]",
      "text/plain": [
       "<Figure size 432x288 with 1 Axes>"
      ]
     },
     "metadata": {
      "needs_background": "light"
     },
     "output_type": "display_data"
    }
   ],
   "source": [
    "df_total[df_total.tariff == 'ultra']['mb_used_sum'].hist(bins = 180);"
   ]
  },
  {
   "cell_type": "markdown",
   "metadata": {},
   "source": [
    "Рассмотрев траты интернет-трафика пользователями разных тарифных планов, можно сказать, что пользователи тарифа `smart` в среднем используют максимальное количество предоставляемого тарифом значения или покупают дополнительные гигабайты. Пользователи тарифа `ultra` в среднем используют больше гигабайт, но не превышают предоставленое количество интернет-трафика, показатели среднего имеют большее отклонение. При этом у пользователей имеется высокое значение интерне-сессий со значением затраченых гигабайт равных 0, возможно речь идет о прерванных интерне-соединениях."
   ]
  },
  {
   "cell_type": "markdown",
   "metadata": {},
   "source": [
    "Рассмотрим продолжительность звонков пользователями"
   ]
  },
  {
   "cell_type": "code",
   "execution_count": 43,
   "metadata": {},
   "outputs": [
    {
     "data": {
      "image/png": "[encoded data removed]",
      "text/plain": [
       "<Figure size 432x288 with 1 Axes>"
      ]
     },
     "metadata": {
      "needs_background": "light"
     },
     "output_type": "display_data"
    }
   ],
   "source": [
    "df_total[df_total.tariff == 'smart']['calls_duration'].hist(bins = 180);"
   ]
  },
  {
   "cell_type": "code",
   "execution_count": 44,
   "metadata": {},
   "outputs": [
    {
     "data": {
      "image/png": "[encoded data removed]",
      "text/plain": [
       "<Figure size 432x288 with 1 Axes>"
      ]
     },
     "metadata": {
      "needs_background": "light"
     },
     "output_type": "display_data"
    }
   ],
   "source": [
    "df_total[df_total.tariff == 'ultra']['calls_duration'].hist(bins = 180);"
   ]
  },
  {
   "cell_type": "markdown",
   "metadata": {},
   "source": [
    "Пользователи обоих тарифов в среднем не испытывают нужды в дополнительных минутах. Клиенты, использующие тариф `ultra` разговаривают по телефону чаще."
   ]
  },
  {
   "cell_type": "markdown",
   "metadata": {},
   "source": [
    "Рассмотрим количество отправленных СМС пользователями"
   ]
  },
  {
   "cell_type": "code",
   "execution_count": 45,
   "metadata": {},
   "outputs": [
    {
     "data": {
      "image/png": "[encoded data removed]",
      "text/plain": [
       "<Figure size 432x288 with 1 Axes>"
      ]
     },
     "metadata": {
      "needs_background": "light"
     },
     "output_type": "display_data"
    }
   ],
   "source": [
    "df_total[df_total.tariff == 'smart']['messages_count'].hist(bins = 180);"
   ]
  },
  {
   "cell_type": "code",
   "execution_count": 46,
   "metadata": {},
   "outputs": [
    {
     "data": {
      "image/png": "[encoded data removed]",
      "text/plain": [
       "<Figure size 432x288 with 1 Axes>"
      ]
     },
     "metadata": {
      "needs_background": "light"
     },
     "output_type": "display_data"
    }
   ],
   "source": [
    "df_total[df_total.tariff == 'ultra']['messages_count'].hist(bins = 180);"
   ]
  },
  {
   "cell_type": "markdown",
   "metadata": {},
   "source": [
    "Анализируя количество использованных СМС можно сказать, что они не пользуются особым спросом. В среднем пользователи тарифа `smart` используют меньшее количество СМС."
   ]
  },
  {
   "cell_type": "markdown",
   "metadata": {},
   "source": [
    "Рассмотрим траты пользователей на связь"
   ]
  },
  {
   "cell_type": "code",
   "execution_count": 47,
   "metadata": {},
   "outputs": [
    {
     "data": {
      "image/png": "[encoded data removed]",
      "text/plain": [
       "<Figure size 432x288 with 1 Axes>"
      ]
     },
     "metadata": {
      "needs_background": "light"
     },
     "output_type": "display_data"
    }
   ],
   "source": [
    "df_total[df_total.tariff == 'smart']['total_price'].hist(bins = 180);"
   ]
  },
  {
   "cell_type": "code",
   "execution_count": 48,
   "metadata": {},
   "outputs": [
    {
     "data": {
      "image/png": "[encoded data removed]",
      "text/plain": [
       "<Figure size 432x288 with 1 Axes>"
      ]
     },
     "metadata": {
      "needs_background": "light"
     },
     "output_type": "display_data"
    }
   ],
   "source": [
    "df_total[df_total.tariff == 'ultra']['total_price'].hist(bins = 180);"
   ]
  },
  {
   "cell_type": "markdown",
   "metadata": {},
   "source": [
    "Пользователи тарифа `smart` тратят меньше пользователей тарифа `ultra`, не смотря на то, что часто им приходится докупать дополнительные пакеты услуг. Клиенты, использующие `ultra` чаще не докупают дополнительные пакеты услуг, но тем не менее платят за связь больше."
   ]
  },
  {
   "cell_type": "markdown",
   "metadata": {},
   "source": [
    "Посмотрим на количество пользователей тарифа в разбивке по месяцам"
   ]
  },
  {
   "cell_type": "code",
   "execution_count": 50,
   "metadata": {},
   "outputs": [
    {
     "data": {
      "text/html": [
       "<div>\n",
       "<style scoped>\n",
       "    .dataframe tbody tr th:only-of-type {\n",
       "        vertical-align: middle;\n",
       "    }\n",
       "\n",
       "    .dataframe tbody tr th {\n",
       "        vertical-align: top;\n",
       "    }\n",
       "\n",
       "    .dataframe thead th {\n",
       "        text-align: right;\n",
       "    }\n",
       "</style>\n",
       "<table border=\"1\" class=\"dataframe\">\n",
       "  <thead>\n",
       "    <tr style=\"text-align: right;\">\n",
       "      <th></th>\n",
       "      <th></th>\n",
       "      <th>user_id</th>\n",
       "    </tr>\n",
       "    <tr>\n",
       "      <th>month</th>\n",
       "      <th>tariff</th>\n",
       "      <th></th>\n",
       "    </tr>\n",
       "  </thead>\n",
       "  <tbody>\n",
       "    <tr>\n",
       "      <th rowspan=\"2\" valign=\"top\">1.0</th>\n",
       "      <th>smart</th>\n",
       "      <td>43100</td>\n",
       "    </tr>\n",
       "    <tr>\n",
       "      <th>ultra</th>\n",
       "      <td>11658</td>\n",
       "    </tr>\n",
       "    <tr>\n",
       "      <th rowspan=\"2\" valign=\"top\">2.0</th>\n",
       "      <th>smart</th>\n",
       "      <td>74292</td>\n",
       "    </tr>\n",
       "    <tr>\n",
       "      <th>ultra</th>\n",
       "      <td>31035</td>\n",
       "    </tr>\n",
       "    <tr>\n",
       "      <th rowspan=\"2\" valign=\"top\">3.0</th>\n",
       "      <th>smart</th>\n",
       "      <td>96773</td>\n",
       "    </tr>\n",
       "    <tr>\n",
       "      <th>ultra</th>\n",
       "      <td>47322</td>\n",
       "    </tr>\n",
       "    <tr>\n",
       "      <th rowspan=\"2\" valign=\"top\">4.0</th>\n",
       "      <th>smart</th>\n",
       "      <td>139655</td>\n",
       "    </tr>\n",
       "    <tr>\n",
       "      <th>ultra</th>\n",
       "      <td>69743</td>\n",
       "    </tr>\n",
       "    <tr>\n",
       "      <th rowspan=\"2\" valign=\"top\">5.0</th>\n",
       "      <th>smart</th>\n",
       "      <td>174737</td>\n",
       "    </tr>\n",
       "    <tr>\n",
       "      <th>ultra</th>\n",
       "      <td>84265</td>\n",
       "    </tr>\n",
       "    <tr>\n",
       "      <th rowspan=\"2\" valign=\"top\">6.0</th>\n",
       "      <th>smart</th>\n",
       "      <td>202197</td>\n",
       "    </tr>\n",
       "    <tr>\n",
       "      <th>ultra</th>\n",
       "      <td>105590</td>\n",
       "    </tr>\n",
       "    <tr>\n",
       "      <th rowspan=\"2\" valign=\"top\">7.0</th>\n",
       "      <th>smart</th>\n",
       "      <td>248318</td>\n",
       "    </tr>\n",
       "    <tr>\n",
       "      <th>ultra</th>\n",
       "      <td>114965</td>\n",
       "    </tr>\n",
       "    <tr>\n",
       "      <th rowspan=\"2\" valign=\"top\">8.0</th>\n",
       "      <th>smart</th>\n",
       "      <td>293309</td>\n",
       "    </tr>\n",
       "    <tr>\n",
       "      <th>ultra</th>\n",
       "      <td>135133</td>\n",
       "    </tr>\n",
       "    <tr>\n",
       "      <th rowspan=\"2\" valign=\"top\">9.0</th>\n",
       "      <th>smart</th>\n",
       "      <td>325487</td>\n",
       "    </tr>\n",
       "    <tr>\n",
       "      <th>ultra</th>\n",
       "      <td>144969</td>\n",
       "    </tr>\n",
       "    <tr>\n",
       "      <th rowspan=\"2\" valign=\"top\">10.0</th>\n",
       "      <th>smart</th>\n",
       "      <td>367519</td>\n",
       "    </tr>\n",
       "    <tr>\n",
       "      <th>ultra</th>\n",
       "      <td>154477</td>\n",
       "    </tr>\n",
       "    <tr>\n",
       "      <th rowspan=\"2\" valign=\"top\">11.0</th>\n",
       "      <th>smart</th>\n",
       "      <td>393901</td>\n",
       "    </tr>\n",
       "    <tr>\n",
       "      <th>ultra</th>\n",
       "      <td>169276</td>\n",
       "    </tr>\n",
       "    <tr>\n",
       "      <th rowspan=\"2\" valign=\"top\">12.0</th>\n",
       "      <th>smart</th>\n",
       "      <td>419175</td>\n",
       "    </tr>\n",
       "    <tr>\n",
       "      <th>ultra</th>\n",
       "      <td>175715</td>\n",
       "    </tr>\n",
       "  </tbody>\n",
       "</table>\n",
       "</div>"
      ],
      "text/plain": [
       "              user_id\n",
       "month tariff         \n",
       "1.0   smart     43100\n",
       "      ultra     11658\n",
       "2.0   smart     74292\n",
       "      ultra     31035\n",
       "3.0   smart     96773\n",
       "      ultra     47322\n",
       "4.0   smart    139655\n",
       "      ultra     69743\n",
       "5.0   smart    174737\n",
       "      ultra     84265\n",
       "6.0   smart    202197\n",
       "      ultra    105590\n",
       "7.0   smart    248318\n",
       "      ultra    114965\n",
       "8.0   smart    293309\n",
       "      ultra    135133\n",
       "9.0   smart    325487\n",
       "      ultra    144969\n",
       "10.0  smart    367519\n",
       "      ultra    154477\n",
       "11.0  smart    393901\n",
       "      ultra    169276\n",
       "12.0  smart    419175\n",
       "      ultra    175715"
      ]
     },
     "execution_count": 50,
     "metadata": {},
     "output_type": "execute_result"
    }
   ],
   "source": [
    "df_total.groupby(['month', 'tariff']).aggregate({'user_id': 'sum'})"
   ]
  },
  {
   "cell_type": "markdown",
   "metadata": {},
   "source": [
    "По обоим тарифам наблюдается прирост"
   ]
  },
  {
   "cell_type": "markdown",
   "metadata": {},
   "source": [
    "## Проверка гипотез"
   ]
  },
  {
   "cell_type": "markdown",
   "metadata": {},
   "source": [
    "Найдем количество денег, которое затрачивает пользователь кажджого тарифа"
   ]
  },
  {
   "cell_type": "code",
   "execution_count": 51,
   "metadata": {},
   "outputs": [],
   "source": [
    "total_price_smart = df_total.loc[df_total.loc[:,'tariff'] == 'smart']['total_price']\n",
    "total_price_ultra = df_total.loc[df_total.loc[:,'tariff'] == 'ultra']['total_price']"
   ]
  },
  {
   "cell_type": "markdown",
   "metadata": {},
   "source": [
    "- Проверим двустороннюю гипотезу о равенстве средних трат одного пользователя тарифа `ultra` и пользователя тарифа `smart`\n",
    "\n",
    "H₀ - среднии затраты пользователя тарифа `smart` и пользователя тарифа `ultra` равны\n",
    "\n",
    "H₁ - среднии затраты пользователя тарифа `smart` и пользователя тарифа `ultra` не равны"
   ]
  },
  {
   "cell_type": "code",
   "execution_count": 52,
   "metadata": {},
   "outputs": [
    {
     "name": "stdout",
     "output_type": "stream",
     "text": [
      "p-значение: 1.4229814360764067e-160\n",
      "Отвергаем нулевую гипотезу\n"
     ]
    }
   ],
   "source": [
    "alpha = .05 # критический уровень статистической значимости           \n",
    "\n",
    "results = st.ttest_ind(\n",
    "    total_price_smart, \n",
    "    total_price_ultra)\n",
    "\n",
    "print('p-значение:', results.pvalue)\n",
    "\n",
    "if results.pvalue < alpha:\n",
    "    print(\"Отвергаем нулевую гипотезу\")\n",
    "else:\n",
    "    print(\"Не получилось отвергнуть нулевую гипотезу\") "
   ]
  },
  {
   "cell_type": "markdown",
   "metadata": {},
   "source": [
    "p-value - это вероятность получить наблюдаемый или еще более далекий от предполагаемого результат при условии, что нулевая гипотеза верна. Можно сразу понять, отвергать двустороннюю гипотезу или нет, сравнив это значение с выбранным уровнем значимости."
   ]
  },
  {
   "cell_type": "markdown",
   "metadata": {},
   "source": [
    "Данные предоставляют достаточное основание — для выбранного уровня значимости — отвергнуть нулевую гипотезу. Значит, можно сделать вывод, что средние затраты пользователя тарифа `smart` и пользователя тарифа `ultra` не равны"
   ]
  },
  {
   "cell_type": "markdown",
   "metadata": {},
   "source": [
    "------------------------------------------"
   ]
  },
  {
   "cell_type": "markdown",
   "metadata": {},
   "source": [
    "Создадим DataFrame с данными пользователей из Москвы"
   ]
  },
  {
   "cell_type": "code",
   "execution_count": 53,
   "metadata": {},
   "outputs": [
    {
     "data": {
      "text/html": [
       "<div>\n",
       "<style scoped>\n",
       "    .dataframe tbody tr th:only-of-type {\n",
       "        vertical-align: middle;\n",
       "    }\n",
       "\n",
       "    .dataframe tbody tr th {\n",
       "        vertical-align: top;\n",
       "    }\n",
       "\n",
       "    .dataframe thead th {\n",
       "        text-align: right;\n",
       "    }\n",
       "</style>\n",
       "<table border=\"1\" class=\"dataframe\">\n",
       "  <thead>\n",
       "    <tr style=\"text-align: right;\">\n",
       "      <th></th>\n",
       "      <th>user_id</th>\n",
       "      <th>city</th>\n",
       "      <th>tariff</th>\n",
       "    </tr>\n",
       "  </thead>\n",
       "  <tbody>\n",
       "    <tr>\n",
       "      <th>1</th>\n",
       "      <td>1001</td>\n",
       "      <td>Москва</td>\n",
       "      <td>smart</td>\n",
       "    </tr>\n",
       "    <tr>\n",
       "      <th>3</th>\n",
       "      <td>1003</td>\n",
       "      <td>Москва</td>\n",
       "      <td>ultra</td>\n",
       "    </tr>\n",
       "    <tr>\n",
       "      <th>7</th>\n",
       "      <td>1007</td>\n",
       "      <td>Москва</td>\n",
       "      <td>smart</td>\n",
       "    </tr>\n",
       "    <tr>\n",
       "      <th>31</th>\n",
       "      <td>1031</td>\n",
       "      <td>Москва</td>\n",
       "      <td>smart</td>\n",
       "    </tr>\n",
       "    <tr>\n",
       "      <th>33</th>\n",
       "      <td>1033</td>\n",
       "      <td>Москва</td>\n",
       "      <td>smart</td>\n",
       "    </tr>\n",
       "    <tr>\n",
       "      <th>...</th>\n",
       "      <td>...</td>\n",
       "      <td>...</td>\n",
       "      <td>...</td>\n",
       "    </tr>\n",
       "    <tr>\n",
       "      <th>453</th>\n",
       "      <td>1453</td>\n",
       "      <td>Москва</td>\n",
       "      <td>ultra</td>\n",
       "    </tr>\n",
       "    <tr>\n",
       "      <th>461</th>\n",
       "      <td>1461</td>\n",
       "      <td>Москва</td>\n",
       "      <td>ultra</td>\n",
       "    </tr>\n",
       "    <tr>\n",
       "      <th>476</th>\n",
       "      <td>1476</td>\n",
       "      <td>Москва</td>\n",
       "      <td>ultra</td>\n",
       "    </tr>\n",
       "    <tr>\n",
       "      <th>481</th>\n",
       "      <td>1481</td>\n",
       "      <td>Москва</td>\n",
       "      <td>smart</td>\n",
       "    </tr>\n",
       "    <tr>\n",
       "      <th>490</th>\n",
       "      <td>1490</td>\n",
       "      <td>Москва</td>\n",
       "      <td>smart</td>\n",
       "    </tr>\n",
       "  </tbody>\n",
       "</table>\n",
       "<p>99 rows × 3 columns</p>\n",
       "</div>"
      ],
      "text/plain": [
       "     user_id    city tariff\n",
       "1       1001  Москва  smart\n",
       "3       1003  Москва  ultra\n",
       "7       1007  Москва  smart\n",
       "31      1031  Москва  smart\n",
       "33      1033  Москва  smart\n",
       "..       ...     ...    ...\n",
       "453     1453  Москва  ultra\n",
       "461     1461  Москва  ultra\n",
       "476     1476  Москва  ultra\n",
       "481     1481  Москва  smart\n",
       "490     1490  Москва  smart\n",
       "\n",
       "[99 rows x 3 columns]"
      ]
     },
     "execution_count": 53,
     "metadata": {},
     "output_type": "execute_result"
    }
   ],
   "source": [
    "users_msk = users.loc[users.loc[:,'city'] == 'Москва'][['user_id', 'city', 'tariff']]\n",
    "users_msk"
   ]
  },
  {
   "cell_type": "code",
   "execution_count": 54,
   "metadata": {},
   "outputs": [
    {
     "data": {
      "text/html": [
       "<div>\n",
       "<style scoped>\n",
       "    .dataframe tbody tr th:only-of-type {\n",
       "        vertical-align: middle;\n",
       "    }\n",
       "\n",
       "    .dataframe tbody tr th {\n",
       "        vertical-align: top;\n",
       "    }\n",
       "\n",
       "    .dataframe thead th {\n",
       "        text-align: right;\n",
       "    }\n",
       "</style>\n",
       "<table border=\"1\" class=\"dataframe\">\n",
       "  <thead>\n",
       "    <tr style=\"text-align: right;\">\n",
       "      <th></th>\n",
       "      <th>user_id</th>\n",
       "      <th>city</th>\n",
       "      <th>tariff_x</th>\n",
       "      <th>index</th>\n",
       "      <th>month</th>\n",
       "      <th>mb_used_sum</th>\n",
       "      <th>calls_duration</th>\n",
       "      <th>calls_count</th>\n",
       "      <th>messages_count</th>\n",
       "      <th>tariff_y</th>\n",
       "      <th>total_price</th>\n",
       "    </tr>\n",
       "  </thead>\n",
       "  <tbody>\n",
       "    <tr>\n",
       "      <th>0</th>\n",
       "      <td>1001</td>\n",
       "      <td>Москва</td>\n",
       "      <td>smart</td>\n",
       "      <td>8</td>\n",
       "      <td>11.0</td>\n",
       "      <td>18429.34</td>\n",
       "      <td>430.0</td>\n",
       "      <td>59.0</td>\n",
       "      <td>0.0</td>\n",
       "      <td>smart</td>\n",
       "      <td>1150.0</td>\n",
       "    </tr>\n",
       "    <tr>\n",
       "      <th>1</th>\n",
       "      <td>1001</td>\n",
       "      <td>Москва</td>\n",
       "      <td>smart</td>\n",
       "      <td>9</td>\n",
       "      <td>12.0</td>\n",
       "      <td>14036.66</td>\n",
       "      <td>414.0</td>\n",
       "      <td>63.0</td>\n",
       "      <td>0.0</td>\n",
       "      <td>smart</td>\n",
       "      <td>550.0</td>\n",
       "    </tr>\n",
       "    <tr>\n",
       "      <th>2</th>\n",
       "      <td>1003</td>\n",
       "      <td>Москва</td>\n",
       "      <td>ultra</td>\n",
       "      <td>17</td>\n",
       "      <td>8.0</td>\n",
       "      <td>8565.21</td>\n",
       "      <td>380.0</td>\n",
       "      <td>55.0</td>\n",
       "      <td>37.0</td>\n",
       "      <td>ultra</td>\n",
       "      <td>1950.0</td>\n",
       "    </tr>\n",
       "    <tr>\n",
       "      <th>3</th>\n",
       "      <td>1003</td>\n",
       "      <td>Москва</td>\n",
       "      <td>ultra</td>\n",
       "      <td>18</td>\n",
       "      <td>9.0</td>\n",
       "      <td>12468.87</td>\n",
       "      <td>961.0</td>\n",
       "      <td>134.0</td>\n",
       "      <td>91.0</td>\n",
       "      <td>ultra</td>\n",
       "      <td>1950.0</td>\n",
       "    </tr>\n",
       "    <tr>\n",
       "      <th>4</th>\n",
       "      <td>1003</td>\n",
       "      <td>Москва</td>\n",
       "      <td>ultra</td>\n",
       "      <td>19</td>\n",
       "      <td>10.0</td>\n",
       "      <td>14768.14</td>\n",
       "      <td>855.0</td>\n",
       "      <td>108.0</td>\n",
       "      <td>83.0</td>\n",
       "      <td>ultra</td>\n",
       "      <td>1950.0</td>\n",
       "    </tr>\n",
       "    <tr>\n",
       "      <th>...</th>\n",
       "      <td>...</td>\n",
       "      <td>...</td>\n",
       "      <td>...</td>\n",
       "      <td>...</td>\n",
       "      <td>...</td>\n",
       "      <td>...</td>\n",
       "      <td>...</td>\n",
       "      <td>...</td>\n",
       "      <td>...</td>\n",
       "      <td>...</td>\n",
       "      <td>...</td>\n",
       "    </tr>\n",
       "    <tr>\n",
       "      <th>606</th>\n",
       "      <td>1490</td>\n",
       "      <td>Москва</td>\n",
       "      <td>smart</td>\n",
       "      <td>3150</td>\n",
       "      <td>8.0</td>\n",
       "      <td>17275.37</td>\n",
       "      <td>346.0</td>\n",
       "      <td>45.0</td>\n",
       "      <td>50.0</td>\n",
       "      <td>smart</td>\n",
       "      <td>950.0</td>\n",
       "    </tr>\n",
       "    <tr>\n",
       "      <th>607</th>\n",
       "      <td>1490</td>\n",
       "      <td>Москва</td>\n",
       "      <td>smart</td>\n",
       "      <td>3151</td>\n",
       "      <td>9.0</td>\n",
       "      <td>14816.95</td>\n",
       "      <td>322.0</td>\n",
       "      <td>44.0</td>\n",
       "      <td>48.0</td>\n",
       "      <td>smart</td>\n",
       "      <td>550.0</td>\n",
       "    </tr>\n",
       "    <tr>\n",
       "      <th>608</th>\n",
       "      <td>1490</td>\n",
       "      <td>Москва</td>\n",
       "      <td>smart</td>\n",
       "      <td>3152</td>\n",
       "      <td>10.0</td>\n",
       "      <td>20664.97</td>\n",
       "      <td>312.0</td>\n",
       "      <td>42.0</td>\n",
       "      <td>45.0</td>\n",
       "      <td>smart</td>\n",
       "      <td>1750.0</td>\n",
       "    </tr>\n",
       "    <tr>\n",
       "      <th>609</th>\n",
       "      <td>1490</td>\n",
       "      <td>Москва</td>\n",
       "      <td>smart</td>\n",
       "      <td>3153</td>\n",
       "      <td>11.0</td>\n",
       "      <td>18712.66</td>\n",
       "      <td>282.0</td>\n",
       "      <td>38.0</td>\n",
       "      <td>47.0</td>\n",
       "      <td>smart</td>\n",
       "      <td>1350.0</td>\n",
       "    </tr>\n",
       "    <tr>\n",
       "      <th>610</th>\n",
       "      <td>1490</td>\n",
       "      <td>Москва</td>\n",
       "      <td>smart</td>\n",
       "      <td>3154</td>\n",
       "      <td>12.0</td>\n",
       "      <td>15785.74</td>\n",
       "      <td>290.0</td>\n",
       "      <td>42.0</td>\n",
       "      <td>46.0</td>\n",
       "      <td>smart</td>\n",
       "      <td>750.0</td>\n",
       "    </tr>\n",
       "  </tbody>\n",
       "</table>\n",
       "<p>611 rows × 11 columns</p>\n",
       "</div>"
      ],
      "text/plain": [
       "     user_id    city tariff_x  index  month  mb_used_sum  calls_duration  \\\n",
       "0       1001  Москва    smart      8   11.0     18429.34           430.0   \n",
       "1       1001  Москва    smart      9   12.0     14036.66           414.0   \n",
       "2       1003  Москва    ultra     17    8.0      8565.21           380.0   \n",
       "3       1003  Москва    ultra     18    9.0     12468.87           961.0   \n",
       "4       1003  Москва    ultra     19   10.0     14768.14           855.0   \n",
       "..       ...     ...      ...    ...    ...          ...             ...   \n",
       "606     1490  Москва    smart   3150    8.0     17275.37           346.0   \n",
       "607     1490  Москва    smart   3151    9.0     14816.95           322.0   \n",
       "608     1490  Москва    smart   3152   10.0     20664.97           312.0   \n",
       "609     1490  Москва    smart   3153   11.0     18712.66           282.0   \n",
       "610     1490  Москва    smart   3154   12.0     15785.74           290.0   \n",
       "\n",
       "     calls_count  messages_count tariff_y  total_price  \n",
       "0           59.0             0.0    smart       1150.0  \n",
       "1           63.0             0.0    smart        550.0  \n",
       "2           55.0            37.0    ultra       1950.0  \n",
       "3          134.0            91.0    ultra       1950.0  \n",
       "4          108.0            83.0    ultra       1950.0  \n",
       "..           ...             ...      ...          ...  \n",
       "606         45.0            50.0    smart        950.0  \n",
       "607         44.0            48.0    smart        550.0  \n",
       "608         42.0            45.0    smart       1750.0  \n",
       "609         38.0            47.0    smart       1350.0  \n",
       "610         42.0            46.0    smart        750.0  \n",
       "\n",
       "[611 rows x 11 columns]"
      ]
     },
     "execution_count": 54,
     "metadata": {},
     "output_type": "execute_result"
    }
   ],
   "source": [
    "users_msk = users_msk.merge(df_total, on='user_id')\n",
    "users_msk"
   ]
  },
  {
   "cell_type": "markdown",
   "metadata": {},
   "source": [
    "Найдем количество денег, которое затрачивают жители Москвы"
   ]
  },
  {
   "cell_type": "code",
   "execution_count": 55,
   "metadata": {},
   "outputs": [],
   "source": [
    "total_price_msk = users_msk.loc[:,'total_price'] "
   ]
  },
  {
   "cell_type": "markdown",
   "metadata": {},
   "source": [
    "Создадим DataFrame с данными пользователей, которые не являются жителями Москвы"
   ]
  },
  {
   "cell_type": "code",
   "execution_count": 56,
   "metadata": {},
   "outputs": [
    {
     "data": {
      "text/html": [
       "<div>\n",
       "<style scoped>\n",
       "    .dataframe tbody tr th:only-of-type {\n",
       "        vertical-align: middle;\n",
       "    }\n",
       "\n",
       "    .dataframe tbody tr th {\n",
       "        vertical-align: top;\n",
       "    }\n",
       "\n",
       "    .dataframe thead th {\n",
       "        text-align: right;\n",
       "    }\n",
       "</style>\n",
       "<table border=\"1\" class=\"dataframe\">\n",
       "  <thead>\n",
       "    <tr style=\"text-align: right;\">\n",
       "      <th></th>\n",
       "      <th>user_id</th>\n",
       "      <th>city</th>\n",
       "      <th>tariff</th>\n",
       "    </tr>\n",
       "  </thead>\n",
       "  <tbody>\n",
       "    <tr>\n",
       "      <th>0</th>\n",
       "      <td>1000</td>\n",
       "      <td>Краснодар</td>\n",
       "      <td>ultra</td>\n",
       "    </tr>\n",
       "    <tr>\n",
       "      <th>2</th>\n",
       "      <td>1002</td>\n",
       "      <td>Стерлитамак</td>\n",
       "      <td>smart</td>\n",
       "    </tr>\n",
       "    <tr>\n",
       "      <th>4</th>\n",
       "      <td>1004</td>\n",
       "      <td>Новокузнецк</td>\n",
       "      <td>ultra</td>\n",
       "    </tr>\n",
       "    <tr>\n",
       "      <th>5</th>\n",
       "      <td>1005</td>\n",
       "      <td>Набережные Челны</td>\n",
       "      <td>smart</td>\n",
       "    </tr>\n",
       "    <tr>\n",
       "      <th>6</th>\n",
       "      <td>1006</td>\n",
       "      <td>Ульяновск</td>\n",
       "      <td>smart</td>\n",
       "    </tr>\n",
       "    <tr>\n",
       "      <th>...</th>\n",
       "      <td>...</td>\n",
       "      <td>...</td>\n",
       "      <td>...</td>\n",
       "    </tr>\n",
       "    <tr>\n",
       "      <th>495</th>\n",
       "      <td>1495</td>\n",
       "      <td>Иркутск</td>\n",
       "      <td>ultra</td>\n",
       "    </tr>\n",
       "    <tr>\n",
       "      <th>496</th>\n",
       "      <td>1496</td>\n",
       "      <td>Вологда</td>\n",
       "      <td>smart</td>\n",
       "    </tr>\n",
       "    <tr>\n",
       "      <th>497</th>\n",
       "      <td>1497</td>\n",
       "      <td>Челябинск</td>\n",
       "      <td>smart</td>\n",
       "    </tr>\n",
       "    <tr>\n",
       "      <th>498</th>\n",
       "      <td>1498</td>\n",
       "      <td>Владикавказ</td>\n",
       "      <td>smart</td>\n",
       "    </tr>\n",
       "    <tr>\n",
       "      <th>499</th>\n",
       "      <td>1499</td>\n",
       "      <td>Пермь</td>\n",
       "      <td>smart</td>\n",
       "    </tr>\n",
       "  </tbody>\n",
       "</table>\n",
       "<p>401 rows × 3 columns</p>\n",
       "</div>"
      ],
      "text/plain": [
       "     user_id              city tariff\n",
       "0       1000         Краснодар  ultra\n",
       "2       1002       Стерлитамак  smart\n",
       "4       1004       Новокузнецк  ultra\n",
       "5       1005  Набережные Челны  smart\n",
       "6       1006         Ульяновск  smart\n",
       "..       ...               ...    ...\n",
       "495     1495           Иркутск  ultra\n",
       "496     1496           Вологда  smart\n",
       "497     1497         Челябинск  smart\n",
       "498     1498       Владикавказ  smart\n",
       "499     1499             Пермь  smart\n",
       "\n",
       "[401 rows x 3 columns]"
      ]
     },
     "execution_count": 56,
     "metadata": {},
     "output_type": "execute_result"
    }
   ],
   "source": [
    "users_city = users.loc[users.loc[:,'city'] != 'Москва'][['user_id', 'city', 'tariff']]\n",
    "users_city"
   ]
  },
  {
   "cell_type": "code",
   "execution_count": 57,
   "metadata": {},
   "outputs": [
    {
     "data": {
      "text/html": [
       "<div>\n",
       "<style scoped>\n",
       "    .dataframe tbody tr th:only-of-type {\n",
       "        vertical-align: middle;\n",
       "    }\n",
       "\n",
       "    .dataframe tbody tr th {\n",
       "        vertical-align: top;\n",
       "    }\n",
       "\n",
       "    .dataframe thead th {\n",
       "        text-align: right;\n",
       "    }\n",
       "</style>\n",
       "<table border=\"1\" class=\"dataframe\">\n",
       "  <thead>\n",
       "    <tr style=\"text-align: right;\">\n",
       "      <th></th>\n",
       "      <th>user_id</th>\n",
       "      <th>city</th>\n",
       "      <th>tariff_x</th>\n",
       "      <th>index</th>\n",
       "      <th>month</th>\n",
       "      <th>mb_used_sum</th>\n",
       "      <th>calls_duration</th>\n",
       "      <th>calls_count</th>\n",
       "      <th>messages_count</th>\n",
       "      <th>tariff_y</th>\n",
       "      <th>total_price</th>\n",
       "    </tr>\n",
       "  </thead>\n",
       "  <tbody>\n",
       "    <tr>\n",
       "      <th>0</th>\n",
       "      <td>1000</td>\n",
       "      <td>Краснодар</td>\n",
       "      <td>ultra</td>\n",
       "      <td>0</td>\n",
       "      <td>5.0</td>\n",
       "      <td>2253.49</td>\n",
       "      <td>159.0</td>\n",
       "      <td>22.0</td>\n",
       "      <td>22.0</td>\n",
       "      <td>ultra</td>\n",
       "      <td>1950.0</td>\n",
       "    </tr>\n",
       "    <tr>\n",
       "      <th>1</th>\n",
       "      <td>1000</td>\n",
       "      <td>Краснодар</td>\n",
       "      <td>ultra</td>\n",
       "      <td>1</td>\n",
       "      <td>6.0</td>\n",
       "      <td>23233.77</td>\n",
       "      <td>172.0</td>\n",
       "      <td>43.0</td>\n",
       "      <td>60.0</td>\n",
       "      <td>ultra</td>\n",
       "      <td>1950.0</td>\n",
       "    </tr>\n",
       "    <tr>\n",
       "      <th>2</th>\n",
       "      <td>1000</td>\n",
       "      <td>Краснодар</td>\n",
       "      <td>ultra</td>\n",
       "      <td>2</td>\n",
       "      <td>7.0</td>\n",
       "      <td>14003.64</td>\n",
       "      <td>340.0</td>\n",
       "      <td>47.0</td>\n",
       "      <td>75.0</td>\n",
       "      <td>ultra</td>\n",
       "      <td>1950.0</td>\n",
       "    </tr>\n",
       "    <tr>\n",
       "      <th>3</th>\n",
       "      <td>1000</td>\n",
       "      <td>Краснодар</td>\n",
       "      <td>ultra</td>\n",
       "      <td>3</td>\n",
       "      <td>8.0</td>\n",
       "      <td>14055.93</td>\n",
       "      <td>408.0</td>\n",
       "      <td>52.0</td>\n",
       "      <td>81.0</td>\n",
       "      <td>ultra</td>\n",
       "      <td>1950.0</td>\n",
       "    </tr>\n",
       "    <tr>\n",
       "      <th>4</th>\n",
       "      <td>1000</td>\n",
       "      <td>Краснодар</td>\n",
       "      <td>ultra</td>\n",
       "      <td>4</td>\n",
       "      <td>9.0</td>\n",
       "      <td>14568.91</td>\n",
       "      <td>466.0</td>\n",
       "      <td>58.0</td>\n",
       "      <td>57.0</td>\n",
       "      <td>ultra</td>\n",
       "      <td>1950.0</td>\n",
       "    </tr>\n",
       "    <tr>\n",
       "      <th>...</th>\n",
       "      <td>...</td>\n",
       "      <td>...</td>\n",
       "      <td>...</td>\n",
       "      <td>...</td>\n",
       "      <td>...</td>\n",
       "      <td>...</td>\n",
       "      <td>...</td>\n",
       "      <td>...</td>\n",
       "      <td>...</td>\n",
       "      <td>...</td>\n",
       "      <td>...</td>\n",
       "    </tr>\n",
       "    <tr>\n",
       "      <th>2598</th>\n",
       "      <td>1498</td>\n",
       "      <td>Владикавказ</td>\n",
       "      <td>smart</td>\n",
       "      <td>3201</td>\n",
       "      <td>10.0</td>\n",
       "      <td>20579.36</td>\n",
       "      <td>247.0</td>\n",
       "      <td>41.0</td>\n",
       "      <td>42.0</td>\n",
       "      <td>smart</td>\n",
       "      <td>1750.0</td>\n",
       "    </tr>\n",
       "    <tr>\n",
       "      <th>2599</th>\n",
       "      <td>1499</td>\n",
       "      <td>Пермь</td>\n",
       "      <td>smart</td>\n",
       "      <td>3202</td>\n",
       "      <td>9.0</td>\n",
       "      <td>1845.75</td>\n",
       "      <td>70.0</td>\n",
       "      <td>9.0</td>\n",
       "      <td>11.0</td>\n",
       "      <td>smart</td>\n",
       "      <td>550.0</td>\n",
       "    </tr>\n",
       "    <tr>\n",
       "      <th>2600</th>\n",
       "      <td>1499</td>\n",
       "      <td>Пермь</td>\n",
       "      <td>smart</td>\n",
       "      <td>3203</td>\n",
       "      <td>10.0</td>\n",
       "      <td>17788.51</td>\n",
       "      <td>449.0</td>\n",
       "      <td>68.0</td>\n",
       "      <td>48.0</td>\n",
       "      <td>smart</td>\n",
       "      <td>1150.0</td>\n",
       "    </tr>\n",
       "    <tr>\n",
       "      <th>2601</th>\n",
       "      <td>1499</td>\n",
       "      <td>Пермь</td>\n",
       "      <td>smart</td>\n",
       "      <td>3204</td>\n",
       "      <td>11.0</td>\n",
       "      <td>17963.31</td>\n",
       "      <td>612.0</td>\n",
       "      <td>74.0</td>\n",
       "      <td>59.0</td>\n",
       "      <td>smart</td>\n",
       "      <td>1513.0</td>\n",
       "    </tr>\n",
       "    <tr>\n",
       "      <th>2602</th>\n",
       "      <td>1499</td>\n",
       "      <td>Пермь</td>\n",
       "      <td>smart</td>\n",
       "      <td>3205</td>\n",
       "      <td>12.0</td>\n",
       "      <td>13055.58</td>\n",
       "      <td>492.0</td>\n",
       "      <td>69.0</td>\n",
       "      <td>66.0</td>\n",
       "      <td>smart</td>\n",
       "      <td>598.0</td>\n",
       "    </tr>\n",
       "  </tbody>\n",
       "</table>\n",
       "<p>2603 rows × 11 columns</p>\n",
       "</div>"
      ],
      "text/plain": [
       "      user_id         city tariff_x  index  month  mb_used_sum  \\\n",
       "0        1000    Краснодар    ultra      0    5.0      2253.49   \n",
       "1        1000    Краснодар    ultra      1    6.0     23233.77   \n",
       "2        1000    Краснодар    ultra      2    7.0     14003.64   \n",
       "3        1000    Краснодар    ultra      3    8.0     14055.93   \n",
       "4        1000    Краснодар    ultra      4    9.0     14568.91   \n",
       "...       ...          ...      ...    ...    ...          ...   \n",
       "2598     1498  Владикавказ    smart   3201   10.0     20579.36   \n",
       "2599     1499        Пермь    smart   3202    9.0      1845.75   \n",
       "2600     1499        Пермь    smart   3203   10.0     17788.51   \n",
       "2601     1499        Пермь    smart   3204   11.0     17963.31   \n",
       "2602     1499        Пермь    smart   3205   12.0     13055.58   \n",
       "\n",
       "      calls_duration  calls_count  messages_count tariff_y  total_price  \n",
       "0              159.0         22.0            22.0    ultra       1950.0  \n",
       "1              172.0         43.0            60.0    ultra       1950.0  \n",
       "2              340.0         47.0            75.0    ultra       1950.0  \n",
       "3              408.0         52.0            81.0    ultra       1950.0  \n",
       "4              466.0         58.0            57.0    ultra       1950.0  \n",
       "...              ...          ...             ...      ...          ...  \n",
       "2598           247.0         41.0            42.0    smart       1750.0  \n",
       "2599            70.0          9.0            11.0    smart        550.0  \n",
       "2600           449.0         68.0            48.0    smart       1150.0  \n",
       "2601           612.0         74.0            59.0    smart       1513.0  \n",
       "2602           492.0         69.0            66.0    smart        598.0  \n",
       "\n",
       "[2603 rows x 11 columns]"
      ]
     },
     "execution_count": 57,
     "metadata": {},
     "output_type": "execute_result"
    }
   ],
   "source": [
    "users_city = users_city.merge(df_total, on='user_id')\n",
    "users_city"
   ]
  },
  {
   "cell_type": "markdown",
   "metadata": {},
   "source": [
    "Найдем количество денег, которое затрачивают жители других городов"
   ]
  },
  {
   "cell_type": "code",
   "execution_count": 58,
   "metadata": {},
   "outputs": [],
   "source": [
    "total_price_city = users_city.loc[:,'total_price'] "
   ]
  },
  {
   "cell_type": "markdown",
   "metadata": {},
   "source": [
    "- Проверим двустороннюю гипотезу об отличии средней выручки пользователей из Москвы от выручки пользователей из других регионов\n",
    "\n",
    "H₀ - среднии затраты пользователя из Москвы и пользователя другого региона равны\n",
    "\n",
    "H₁ - среднии затраты пользователя из Москвы и пользователя другого региона не равны"
   ]
  },
  {
   "cell_type": "code",
   "execution_count": 59,
   "metadata": {
    "scrolled": true
   },
   "outputs": [
    {
     "name": "stdout",
     "output_type": "stream",
     "text": [
      "p-значение: 0.5440152911670224\n",
      "Не получилось отвергнуть нулевую гипотезу\n"
     ]
    }
   ],
   "source": [
    "alpha = .05 # критический уровень статистической значимости           \n",
    "\n",
    "results = st.ttest_ind(\n",
    "    total_price_msk, \n",
    "    total_price_city)\n",
    "\n",
    "print('p-значение:', results.pvalue)\n",
    "\n",
    "if results.pvalue < alpha:\n",
    "    print(\"Отвергаем нулевую гипотезу\")\n",
    "else:\n",
    "    print(\"Не получилось отвергнуть нулевую гипотезу\") "
   ]
  },
  {
   "cell_type": "markdown",
   "metadata": {},
   "source": [
    "Значение p-value показывает: вероятность случайно получить такое или большее различие равно почти 55%, хотя средние чеки клиентов разных городов и не одинаковы. Это явно слишком большая вероятность, чтобы делать вывод о значимом различии между средними чеками."
   ]
  },
  {
   "cell_type": "markdown",
   "metadata": {},
   "source": [
    "По имеющимся данным нельзя говорить об отличие средних трат жителей Москвы и средних трат жителей других регионов"
   ]
  },
  {
   "cell_type": "markdown",
   "metadata": {},
   "source": [
    "## Вывод"
   ]
  },
  {
   "cell_type": "markdown",
   "metadata": {},
   "source": [
    "На первом этапе мы познакомились с общей информацией;\n",
    "\n",
    "Далее подготовили данные: привели данные к нужным типам, также посчитаем дополнительные показатели:\n",
    "- количество сделанных звонков и израсходованных минут разговора по месяцам;\n",
    "- количество отправленных сообщений по месяцам;\n",
    "- объем израсходованного интернет-трафика по месяцам;\n",
    "- помесячную выручку с каждого пользователя.\n",
    "\n",
    "\n",
    "Проанализируем данные:\n",
    "- Выяснили, что в среднем клиенты тарифа `smart` тратят меньше средст, чем клиенты тарифа `ultra`\n",
    "\n",
    "Проверим гипотезы: \n",
    "- средняя выручка пользователей тарифов «Ультра» и «Смарт» различаются;\n",
    "- средняя выручка пользователей из Москвы отличается от выручки пользователей из других регионов;\n",
    "\n",
    "Можно сказать, что среднии затраты пользователя тарифа `smart` и пользователя тарифа `ultra` не равны.\n",
    "\n",
    "По имеющимся данным нельзя говорить об отличие средних трат жителей Москвы и средних трат жителей других регионов.\n",
    "\n",
    "Проанализировав данные о полученой выручке, можно сказать, что тариф `smart` за 2018 год принес больше денег (2 876 869 Р.), чем тариф `ultra` (2 039 100 р.)\n",
    "\n",
    "Оба тарифа показывают значительный рост клиентской базы. За 2018 год количество пользователей тарифа `smart` выросло в 9.73 раза, количество пользователей тарифа `ultra` вырослов в 15.07 раз. При этом Сумма выручки за год по тарифу `smart` увеличилась  в 21.7 раз, по тарифу `ultra` в 16.94 раза. Среди пользователей из Москвы в декабре наблюдается отток клиентов, использующих тариф `ultra` (39057, в ноябре 40424), при этом прирост пользователей тарифа `smart` сохраняется.\n",
    "\n",
    "На основе вышеизложенных данных можно сказать, что тариф `smart` лучше."
   ]
  }
 ],
 "metadata": {
  "ExecuteTimeLog": [
   {
    "duration": 431,
    "start_time": "2022-08-17T15:07:40.885Z"
   },
   {
    "duration": 560,
    "start_time": "2022-08-17T15:08:40.202Z"
   },
   {
    "duration": 1202,
    "start_time": "2022-08-17T15:09:52.101Z"
   },
   {
    "duration": 18,
    "start_time": "2022-08-17T15:10:27.428Z"
   },
   {
    "duration": 10,
    "start_time": "2022-08-17T15:11:01.026Z"
   },
   {
    "duration": 9,
    "start_time": "2022-08-17T15:11:20.912Z"
   },
   {
    "duration": 13,
    "start_time": "2022-08-17T15:11:32.415Z"
   },
   {
    "duration": 12,
    "start_time": "2022-08-17T15:11:44.726Z"
   },
   {
    "duration": 3,
    "start_time": "2022-08-17T15:21:37.789Z"
   },
   {
    "duration": 449,
    "start_time": "2022-08-17T15:22:24.036Z"
   },
   {
    "duration": 36,
    "start_time": "2022-08-17T15:24:04.983Z"
   },
   {
    "duration": 16,
    "start_time": "2022-08-17T15:24:09.453Z"
   },
   {
    "duration": 42,
    "start_time": "2022-08-17T15:24:22.060Z"
   },
   {
    "duration": 23,
    "start_time": "2022-08-17T15:25:05.390Z"
   },
   {
    "duration": 32,
    "start_time": "2022-08-17T15:25:17.489Z"
   },
   {
    "duration": 27,
    "start_time": "2022-08-17T15:25:59.305Z"
   },
   {
    "duration": 18,
    "start_time": "2022-08-17T15:26:31.138Z"
   },
   {
    "duration": 22,
    "start_time": "2022-08-17T15:28:10.057Z"
   },
   {
    "duration": 31,
    "start_time": "2022-08-17T15:39:58.041Z"
   },
   {
    "duration": 26,
    "start_time": "2022-08-17T15:41:36.641Z"
   },
   {
    "duration": 390,
    "start_time": "2022-08-18T16:07:01.099Z"
   },
   {
    "duration": 1338,
    "start_time": "2022-08-18T16:07:01.491Z"
   },
   {
    "duration": 44,
    "start_time": "2022-08-18T16:07:02.833Z"
   },
   {
    "duration": 40,
    "start_time": "2022-08-18T16:07:02.879Z"
   },
   {
    "duration": 27,
    "start_time": "2022-08-18T16:07:02.927Z"
   },
   {
    "duration": 16,
    "start_time": "2022-08-18T16:07:02.955Z"
   },
   {
    "duration": 24,
    "start_time": "2022-08-18T16:07:02.973Z"
   },
   {
    "duration": 72,
    "start_time": "2022-08-18T16:14:23.273Z"
   },
   {
    "duration": 66,
    "start_time": "2022-08-18T16:14:49.671Z"
   },
   {
    "duration": 62,
    "start_time": "2022-08-18T16:15:01.733Z"
   },
   {
    "duration": 39,
    "start_time": "2022-08-18T16:15:11.432Z"
   },
   {
    "duration": 7,
    "start_time": "2022-08-18T16:18:12.479Z"
   },
   {
    "duration": 12,
    "start_time": "2022-08-18T16:18:20.048Z"
   },
   {
    "duration": 97,
    "start_time": "2022-08-18T16:23:46.431Z"
   },
   {
    "duration": 22,
    "start_time": "2022-08-18T16:23:49.402Z"
   },
   {
    "duration": 12,
    "start_time": "2022-08-18T16:24:56.366Z"
   },
   {
    "duration": 13,
    "start_time": "2022-08-18T16:25:18.823Z"
   },
   {
    "duration": 12,
    "start_time": "2022-08-18T16:43:56.476Z"
   },
   {
    "duration": 8,
    "start_time": "2022-08-18T16:47:36.922Z"
   },
   {
    "duration": 45,
    "start_time": "2022-08-18T16:49:04.076Z"
   },
   {
    "duration": 35,
    "start_time": "2022-08-18T16:49:16.080Z"
   },
   {
    "duration": 378,
    "start_time": "2022-08-18T16:49:29.083Z"
   },
   {
    "duration": 412,
    "start_time": "2022-08-18T16:49:29.463Z"
   },
   {
    "duration": 41,
    "start_time": "2022-08-18T16:49:29.876Z"
   },
   {
    "duration": 26,
    "start_time": "2022-08-18T16:49:29.920Z"
   },
   {
    "duration": 21,
    "start_time": "2022-08-18T16:49:29.947Z"
   },
   {
    "duration": 45,
    "start_time": "2022-08-18T16:49:29.970Z"
   },
   {
    "duration": 21,
    "start_time": "2022-08-18T16:49:30.020Z"
   },
   {
    "duration": 97,
    "start_time": "2022-08-18T16:49:30.043Z"
   },
   {
    "duration": 5,
    "start_time": "2022-08-18T16:49:30.142Z"
   },
   {
    "duration": 26,
    "start_time": "2022-08-18T16:49:30.149Z"
   },
   {
    "duration": 25,
    "start_time": "2022-08-18T16:49:30.177Z"
   },
   {
    "duration": 28,
    "start_time": "2022-08-18T16:49:30.204Z"
   },
   {
    "duration": 6,
    "start_time": "2022-08-18T16:49:30.234Z"
   },
   {
    "duration": 43,
    "start_time": "2022-08-18T16:49:30.241Z"
   },
   {
    "duration": 76,
    "start_time": "2022-08-18T16:51:41.158Z"
   },
   {
    "duration": 11,
    "start_time": "2022-08-18T16:52:34.648Z"
   },
   {
    "duration": 354,
    "start_time": "2022-08-18T16:52:43.575Z"
   },
   {
    "duration": 413,
    "start_time": "2022-08-18T16:52:43.931Z"
   },
   {
    "duration": 34,
    "start_time": "2022-08-18T16:52:44.346Z"
   },
   {
    "duration": 23,
    "start_time": "2022-08-18T16:52:44.381Z"
   },
   {
    "duration": 34,
    "start_time": "2022-08-18T16:52:44.407Z"
   },
   {
    "duration": 14,
    "start_time": "2022-08-18T16:52:44.443Z"
   },
   {
    "duration": 85,
    "start_time": "2022-08-18T16:52:44.459Z"
   },
   {
    "duration": 79,
    "start_time": "2022-08-18T16:52:44.546Z"
   },
   {
    "duration": 8,
    "start_time": "2022-08-18T16:52:44.626Z"
   },
   {
    "duration": 16,
    "start_time": "2022-08-18T16:52:44.636Z"
   },
   {
    "duration": 15,
    "start_time": "2022-08-18T16:52:44.654Z"
   },
   {
    "duration": 13,
    "start_time": "2022-08-18T16:52:44.671Z"
   },
   {
    "duration": 33,
    "start_time": "2022-08-18T16:52:44.686Z"
   },
   {
    "duration": 30,
    "start_time": "2022-08-18T16:52:44.721Z"
   },
   {
    "duration": 28,
    "start_time": "2022-08-18T16:52:56.487Z"
   },
   {
    "duration": 26,
    "start_time": "2022-08-18T16:53:30.901Z"
   },
   {
    "duration": 25,
    "start_time": "2022-08-18T16:53:52.883Z"
   },
   {
    "duration": 33,
    "start_time": "2022-08-18T16:54:04.122Z"
   },
   {
    "duration": 25,
    "start_time": "2022-08-18T16:54:35.074Z"
   },
   {
    "duration": 21,
    "start_time": "2022-08-18T16:54:42.751Z"
   },
   {
    "duration": 339,
    "start_time": "2022-08-18T16:54:49.564Z"
   },
   {
    "duration": 415,
    "start_time": "2022-08-18T16:54:49.904Z"
   },
   {
    "duration": 33,
    "start_time": "2022-08-18T16:54:50.321Z"
   },
   {
    "duration": 23,
    "start_time": "2022-08-18T16:54:50.355Z"
   },
   {
    "duration": 32,
    "start_time": "2022-08-18T16:54:50.379Z"
   },
   {
    "duration": 20,
    "start_time": "2022-08-18T16:54:50.412Z"
   },
   {
    "duration": 18,
    "start_time": "2022-08-18T16:54:50.433Z"
   },
   {
    "duration": 91,
    "start_time": "2022-08-18T16:54:50.452Z"
   },
   {
    "duration": 5,
    "start_time": "2022-08-18T16:54:50.545Z"
   },
   {
    "duration": 40,
    "start_time": "2022-08-18T16:54:50.552Z"
   },
   {
    "duration": 45,
    "start_time": "2022-08-18T16:54:50.593Z"
   },
   {
    "duration": 36,
    "start_time": "2022-08-18T16:54:50.639Z"
   },
   {
    "duration": 7,
    "start_time": "2022-08-18T16:54:50.676Z"
   },
   {
    "duration": 58,
    "start_time": "2022-08-18T16:54:50.684Z"
   },
   {
    "duration": 367,
    "start_time": "2022-08-18T16:55:40.832Z"
   },
   {
    "duration": 396,
    "start_time": "2022-08-18T16:55:41.202Z"
   },
   {
    "duration": 42,
    "start_time": "2022-08-18T16:55:41.600Z"
   },
   {
    "duration": 23,
    "start_time": "2022-08-18T16:55:41.644Z"
   },
   {
    "duration": 19,
    "start_time": "2022-08-18T16:55:41.668Z"
   },
   {
    "duration": 56,
    "start_time": "2022-08-18T16:55:41.688Z"
   },
   {
    "duration": 85,
    "start_time": "2022-08-18T16:55:41.745Z"
   },
   {
    "duration": 119,
    "start_time": "2022-08-18T16:55:41.832Z"
   },
   {
    "duration": 7,
    "start_time": "2022-08-18T16:55:41.952Z"
   },
   {
    "duration": 37,
    "start_time": "2022-08-18T16:55:41.961Z"
   },
   {
    "duration": 45,
    "start_time": "2022-08-18T16:55:42.000Z"
   },
   {
    "duration": 20,
    "start_time": "2022-08-18T16:55:42.047Z"
   },
   {
    "duration": 19,
    "start_time": "2022-08-18T16:55:42.069Z"
   },
   {
    "duration": 46,
    "start_time": "2022-08-18T16:55:42.090Z"
   },
   {
    "duration": 9,
    "start_time": "2022-08-18T16:56:26.714Z"
   },
   {
    "duration": 16,
    "start_time": "2022-08-18T16:56:35.759Z"
   },
   {
    "duration": 9,
    "start_time": "2022-08-18T16:56:56.182Z"
   },
   {
    "duration": 362,
    "start_time": "2022-08-18T16:57:02.222Z"
   },
   {
    "duration": 403,
    "start_time": "2022-08-18T16:57:02.586Z"
   },
   {
    "duration": 38,
    "start_time": "2022-08-18T16:57:02.991Z"
   },
   {
    "duration": 25,
    "start_time": "2022-08-18T16:57:03.032Z"
   },
   {
    "duration": 22,
    "start_time": "2022-08-18T16:57:03.059Z"
   },
   {
    "duration": 44,
    "start_time": "2022-08-18T16:57:03.082Z"
   },
   {
    "duration": 19,
    "start_time": "2022-08-18T16:57:03.128Z"
   },
   {
    "duration": 92,
    "start_time": "2022-08-18T16:57:03.149Z"
   },
   {
    "duration": 6,
    "start_time": "2022-08-18T16:57:03.242Z"
   },
   {
    "duration": 14,
    "start_time": "2022-08-18T16:57:03.249Z"
   },
   {
    "duration": 16,
    "start_time": "2022-08-18T16:57:03.264Z"
   },
   {
    "duration": 38,
    "start_time": "2022-08-18T16:57:03.281Z"
   },
   {
    "duration": 8,
    "start_time": "2022-08-18T16:57:03.321Z"
   },
   {
    "duration": 17,
    "start_time": "2022-08-18T16:57:03.330Z"
   },
   {
    "duration": 369,
    "start_time": "2022-08-20T03:28:07.151Z"
   },
   {
    "duration": 1109,
    "start_time": "2022-08-20T03:28:07.522Z"
   },
   {
    "duration": 34,
    "start_time": "2022-08-20T03:28:08.632Z"
   },
   {
    "duration": 23,
    "start_time": "2022-08-20T03:28:08.667Z"
   },
   {
    "duration": 19,
    "start_time": "2022-08-20T03:28:08.692Z"
   },
   {
    "duration": 13,
    "start_time": "2022-08-20T03:28:08.712Z"
   },
   {
    "duration": 17,
    "start_time": "2022-08-20T03:28:08.727Z"
   },
   {
    "duration": 97,
    "start_time": "2022-08-20T03:28:08.745Z"
   },
   {
    "duration": 5,
    "start_time": "2022-08-20T03:28:08.844Z"
   },
   {
    "duration": 9,
    "start_time": "2022-08-20T03:28:08.851Z"
   },
   {
    "duration": 17,
    "start_time": "2022-08-20T03:28:08.861Z"
   },
   {
    "duration": 26,
    "start_time": "2022-08-20T03:28:08.879Z"
   },
   {
    "duration": 7,
    "start_time": "2022-08-20T03:28:08.906Z"
   },
   {
    "duration": 12,
    "start_time": "2022-08-20T03:28:08.914Z"
   },
   {
    "duration": 350,
    "start_time": "2022-08-21T07:38:50.837Z"
   },
   {
    "duration": 988,
    "start_time": "2022-08-21T07:38:51.189Z"
   },
   {
    "duration": 34,
    "start_time": "2022-08-21T07:38:52.178Z"
   },
   {
    "duration": 24,
    "start_time": "2022-08-21T07:38:52.214Z"
   },
   {
    "duration": 21,
    "start_time": "2022-08-21T07:38:52.240Z"
   },
   {
    "duration": 45,
    "start_time": "2022-08-21T07:38:52.263Z"
   },
   {
    "duration": 24,
    "start_time": "2022-08-21T07:38:52.309Z"
   },
   {
    "duration": 88,
    "start_time": "2022-08-21T07:38:52.334Z"
   },
   {
    "duration": 7,
    "start_time": "2022-08-21T07:38:52.423Z"
   },
   {
    "duration": 16,
    "start_time": "2022-08-21T07:38:52.432Z"
   },
   {
    "duration": 25,
    "start_time": "2022-08-21T07:38:52.449Z"
   },
   {
    "duration": 26,
    "start_time": "2022-08-21T07:38:52.476Z"
   },
   {
    "duration": 9,
    "start_time": "2022-08-21T07:38:52.505Z"
   },
   {
    "duration": 19,
    "start_time": "2022-08-21T07:38:52.516Z"
   },
   {
    "duration": 23,
    "start_time": "2022-08-21T07:46:22.753Z"
   },
   {
    "duration": 28,
    "start_time": "2022-08-21T07:46:33.715Z"
   },
   {
    "duration": 16,
    "start_time": "2022-08-21T07:46:45.668Z"
   },
   {
    "duration": 6,
    "start_time": "2022-08-21T07:51:48.005Z"
   },
   {
    "duration": 9,
    "start_time": "2022-08-21T07:51:55.027Z"
   },
   {
    "duration": 24,
    "start_time": "2022-08-21T08:04:39.644Z"
   },
   {
    "duration": 13,
    "start_time": "2022-08-21T08:04:42.800Z"
   },
   {
    "duration": 31,
    "start_time": "2022-08-21T08:04:56.850Z"
   },
   {
    "duration": 30,
    "start_time": "2022-08-21T08:11:20.381Z"
   },
   {
    "duration": 29,
    "start_time": "2022-08-21T08:11:29.506Z"
   },
   {
    "duration": 60,
    "start_time": "2022-08-21T08:13:10.026Z"
   },
   {
    "duration": 50,
    "start_time": "2022-08-21T08:15:15.732Z"
   },
   {
    "duration": 59,
    "start_time": "2022-08-21T08:15:27.143Z"
   },
   {
    "duration": 59,
    "start_time": "2022-08-21T08:19:02.454Z"
   },
   {
    "duration": 23,
    "start_time": "2022-08-21T08:19:10.965Z"
   },
   {
    "duration": 456,
    "start_time": "2022-08-21T08:20:49.310Z"
   },
   {
    "duration": 456,
    "start_time": "2022-08-21T08:21:21.099Z"
   },
   {
    "duration": 433,
    "start_time": "2022-08-21T08:21:34.435Z"
   },
   {
    "duration": 252,
    "start_time": "2022-08-21T08:24:15.673Z"
   },
   {
    "duration": 30,
    "start_time": "2022-08-21T08:24:44.472Z"
   },
   {
    "duration": 29,
    "start_time": "2022-08-21T08:28:55.856Z"
   },
   {
    "duration": 22,
    "start_time": "2022-08-21T08:30:50.233Z"
   },
   {
    "duration": 33,
    "start_time": "2022-08-21T08:31:05.105Z"
   },
   {
    "duration": 31,
    "start_time": "2022-08-21T08:31:29.568Z"
   },
   {
    "duration": 396,
    "start_time": "2022-08-21T14:19:19.080Z"
   },
   {
    "duration": 934,
    "start_time": "2022-08-21T14:19:19.478Z"
   },
   {
    "duration": 32,
    "start_time": "2022-08-21T14:19:20.414Z"
   },
   {
    "duration": 23,
    "start_time": "2022-08-21T14:19:20.448Z"
   },
   {
    "duration": 19,
    "start_time": "2022-08-21T14:19:20.472Z"
   },
   {
    "duration": 14,
    "start_time": "2022-08-21T14:19:20.492Z"
   },
   {
    "duration": 17,
    "start_time": "2022-08-21T14:19:20.507Z"
   },
   {
    "duration": 88,
    "start_time": "2022-08-21T14:19:20.525Z"
   },
   {
    "duration": 6,
    "start_time": "2022-08-21T14:19:20.615Z"
   },
   {
    "duration": 11,
    "start_time": "2022-08-21T14:19:20.622Z"
   },
   {
    "duration": 16,
    "start_time": "2022-08-21T14:19:20.634Z"
   },
   {
    "duration": 11,
    "start_time": "2022-08-21T14:19:20.651Z"
   },
   {
    "duration": 27,
    "start_time": "2022-08-21T14:19:20.663Z"
   },
   {
    "duration": 30,
    "start_time": "2022-08-21T14:19:20.692Z"
   },
   {
    "duration": 64,
    "start_time": "2022-08-21T14:19:20.723Z"
   },
   {
    "duration": 21,
    "start_time": "2022-08-21T14:19:20.789Z"
   },
   {
    "duration": 30,
    "start_time": "2022-08-21T14:19:20.812Z"
   },
   {
    "duration": 45,
    "start_time": "2022-08-21T14:19:20.843Z"
   },
   {
    "duration": 29,
    "start_time": "2022-08-21T14:19:20.889Z"
   },
   {
    "duration": 345,
    "start_time": "2022-08-21T14:22:01.737Z"
   },
   {
    "duration": 379,
    "start_time": "2022-08-21T14:22:02.084Z"
   },
   {
    "duration": 33,
    "start_time": "2022-08-21T14:22:02.465Z"
   },
   {
    "duration": 24,
    "start_time": "2022-08-21T14:22:02.500Z"
   },
   {
    "duration": 21,
    "start_time": "2022-08-21T14:22:02.526Z"
   },
   {
    "duration": 40,
    "start_time": "2022-08-21T14:22:02.549Z"
   },
   {
    "duration": 20,
    "start_time": "2022-08-21T14:22:02.590Z"
   },
   {
    "duration": 87,
    "start_time": "2022-08-21T14:22:02.611Z"
   },
   {
    "duration": 6,
    "start_time": "2022-08-21T14:22:02.699Z"
   },
   {
    "duration": 9,
    "start_time": "2022-08-21T14:22:02.707Z"
   },
   {
    "duration": 19,
    "start_time": "2022-08-21T14:22:02.717Z"
   },
   {
    "duration": 11,
    "start_time": "2022-08-21T14:22:02.738Z"
   },
   {
    "duration": 6,
    "start_time": "2022-08-21T14:22:02.750Z"
   },
   {
    "duration": 58,
    "start_time": "2022-08-21T14:22:02.757Z"
   },
   {
    "duration": 71,
    "start_time": "2022-08-21T14:22:02.816Z"
   },
   {
    "duration": 27,
    "start_time": "2022-08-21T14:22:02.889Z"
   },
   {
    "duration": 33,
    "start_time": "2022-08-21T14:22:02.918Z"
   },
   {
    "duration": 49,
    "start_time": "2022-08-21T14:22:02.953Z"
   },
   {
    "duration": 32,
    "start_time": "2022-08-21T14:22:03.003Z"
   },
   {
    "duration": 7,
    "start_time": "2022-08-21T14:25:48.252Z"
   },
   {
    "duration": 86,
    "start_time": "2022-08-21T14:25:59.842Z"
   },
   {
    "duration": 14,
    "start_time": "2022-08-21T14:26:06.898Z"
   },
   {
    "duration": 789,
    "start_time": "2022-08-21T14:26:43.723Z"
   },
   {
    "duration": 11,
    "start_time": "2022-08-21T14:27:30.406Z"
   },
   {
    "duration": 19,
    "start_time": "2022-08-21T14:27:37.583Z"
   },
   {
    "duration": 3,
    "start_time": "2022-08-21T14:39:06.737Z"
   },
   {
    "duration": 9,
    "start_time": "2022-08-21T14:39:16.822Z"
   },
   {
    "duration": 9,
    "start_time": "2022-08-21T14:39:32.385Z"
   },
   {
    "duration": 337,
    "start_time": "2022-08-21T14:39:39.237Z"
   },
   {
    "duration": 380,
    "start_time": "2022-08-21T14:39:39.575Z"
   },
   {
    "duration": 32,
    "start_time": "2022-08-21T14:39:39.956Z"
   },
   {
    "duration": 22,
    "start_time": "2022-08-21T14:39:39.990Z"
   },
   {
    "duration": 19,
    "start_time": "2022-08-21T14:39:40.014Z"
   },
   {
    "duration": 14,
    "start_time": "2022-08-21T14:39:40.035Z"
   },
   {
    "duration": 41,
    "start_time": "2022-08-21T14:39:40.051Z"
   },
   {
    "duration": 92,
    "start_time": "2022-08-21T14:39:40.094Z"
   },
   {
    "duration": 6,
    "start_time": "2022-08-21T14:39:40.187Z"
   },
   {
    "duration": 11,
    "start_time": "2022-08-21T14:39:40.196Z"
   },
   {
    "duration": 17,
    "start_time": "2022-08-21T14:39:40.208Z"
   },
   {
    "duration": 14,
    "start_time": "2022-08-21T14:39:40.227Z"
   },
   {
    "duration": 44,
    "start_time": "2022-08-21T14:39:40.242Z"
   },
   {
    "duration": 34,
    "start_time": "2022-08-21T14:39:40.288Z"
   },
   {
    "duration": 80,
    "start_time": "2022-08-21T14:39:40.323Z"
   },
   {
    "duration": 22,
    "start_time": "2022-08-21T14:39:40.405Z"
   },
   {
    "duration": 31,
    "start_time": "2022-08-21T14:39:40.429Z"
   },
   {
    "duration": 46,
    "start_time": "2022-08-21T14:39:40.462Z"
   },
   {
    "duration": 33,
    "start_time": "2022-08-21T14:39:40.510Z"
   },
   {
    "duration": 66,
    "start_time": "2022-08-21T14:39:40.545Z"
   },
   {
    "duration": 8,
    "start_time": "2022-08-21T14:39:40.612Z"
   },
   {
    "duration": 370,
    "start_time": "2022-08-21T14:39:47.811Z"
   },
   {
    "duration": 407,
    "start_time": "2022-08-21T14:39:48.184Z"
   },
   {
    "duration": 35,
    "start_time": "2022-08-21T14:39:48.593Z"
   },
   {
    "duration": 26,
    "start_time": "2022-08-21T14:39:48.630Z"
   },
   {
    "duration": 40,
    "start_time": "2022-08-21T14:39:48.658Z"
   },
   {
    "duration": 16,
    "start_time": "2022-08-21T14:39:48.699Z"
   },
   {
    "duration": 19,
    "start_time": "2022-08-21T14:39:48.716Z"
   },
   {
    "duration": 102,
    "start_time": "2022-08-21T14:39:48.737Z"
   },
   {
    "duration": 5,
    "start_time": "2022-08-21T14:39:48.841Z"
   },
   {
    "duration": 19,
    "start_time": "2022-08-21T14:39:48.848Z"
   },
   {
    "duration": 23,
    "start_time": "2022-08-21T14:39:48.868Z"
   },
   {
    "duration": 12,
    "start_time": "2022-08-21T14:39:48.892Z"
   },
   {
    "duration": 6,
    "start_time": "2022-08-21T14:39:48.906Z"
   },
   {
    "duration": 34,
    "start_time": "2022-08-21T14:39:48.914Z"
   },
   {
    "duration": 82,
    "start_time": "2022-08-21T14:39:48.949Z"
   },
   {
    "duration": 23,
    "start_time": "2022-08-21T14:39:49.033Z"
   },
   {
    "duration": 48,
    "start_time": "2022-08-21T14:39:49.058Z"
   },
   {
    "duration": 27,
    "start_time": "2022-08-21T14:39:49.107Z"
   },
   {
    "duration": 31,
    "start_time": "2022-08-21T14:39:49.135Z"
   },
   {
    "duration": 55,
    "start_time": "2022-08-21T14:39:49.185Z"
   },
   {
    "duration": 5,
    "start_time": "2022-08-21T14:45:53.893Z"
   },
   {
    "duration": 28,
    "start_time": "2022-08-21T14:46:02.201Z"
   },
   {
    "duration": 66,
    "start_time": "2022-08-21T14:50:58.070Z"
   },
   {
    "duration": 11,
    "start_time": "2022-08-21T14:51:17.074Z"
   },
   {
    "duration": 10,
    "start_time": "2022-08-21T14:51:39.104Z"
   },
   {
    "duration": 8,
    "start_time": "2022-08-21T14:51:43.080Z"
   },
   {
    "duration": 15,
    "start_time": "2022-08-21T14:51:51.402Z"
   },
   {
    "duration": 977,
    "start_time": "2022-08-21T14:52:26.014Z"
   },
   {
    "duration": 17,
    "start_time": "2022-08-21T14:52:52.987Z"
   },
   {
    "duration": 4,
    "start_time": "2022-08-21T14:52:55.195Z"
   },
   {
    "duration": 16,
    "start_time": "2022-08-21T14:53:03.015Z"
   },
   {
    "duration": 395,
    "start_time": "2022-08-21T14:53:31.478Z"
   },
   {
    "duration": 410,
    "start_time": "2022-08-21T14:53:31.875Z"
   },
   {
    "duration": 39,
    "start_time": "2022-08-21T14:53:32.287Z"
   },
   {
    "duration": 26,
    "start_time": "2022-08-21T14:53:32.329Z"
   },
   {
    "duration": 48,
    "start_time": "2022-08-21T14:53:32.357Z"
   },
   {
    "duration": 14,
    "start_time": "2022-08-21T14:53:32.407Z"
   },
   {
    "duration": 19,
    "start_time": "2022-08-21T14:53:32.422Z"
   },
   {
    "duration": 93,
    "start_time": "2022-08-21T14:53:32.443Z"
   },
   {
    "duration": 6,
    "start_time": "2022-08-21T14:53:32.537Z"
   },
   {
    "duration": 13,
    "start_time": "2022-08-21T14:53:32.545Z"
   },
   {
    "duration": 32,
    "start_time": "2022-08-21T14:53:32.559Z"
   },
   {
    "duration": 13,
    "start_time": "2022-08-21T14:53:32.592Z"
   },
   {
    "duration": 7,
    "start_time": "2022-08-21T14:53:32.606Z"
   },
   {
    "duration": 31,
    "start_time": "2022-08-21T14:53:32.614Z"
   },
   {
    "duration": 84,
    "start_time": "2022-08-21T14:53:32.647Z"
   },
   {
    "duration": 20,
    "start_time": "2022-08-21T14:53:32.733Z"
   },
   {
    "duration": 46,
    "start_time": "2022-08-21T14:53:32.755Z"
   },
   {
    "duration": 28,
    "start_time": "2022-08-21T14:53:32.803Z"
   },
   {
    "duration": 57,
    "start_time": "2022-08-21T14:53:32.833Z"
   },
   {
    "duration": 59,
    "start_time": "2022-08-21T14:53:32.892Z"
   },
   {
    "duration": 13,
    "start_time": "2022-08-21T14:53:32.952Z"
   },
   {
    "duration": 32,
    "start_time": "2022-08-21T14:53:32.967Z"
   },
   {
    "duration": 8,
    "start_time": "2022-08-21T14:59:28.222Z"
   },
   {
    "duration": 23,
    "start_time": "2022-08-21T14:59:31.972Z"
   },
   {
    "duration": 10,
    "start_time": "2022-08-21T15:00:30.291Z"
   },
   {
    "duration": 26,
    "start_time": "2022-08-21T15:00:30.745Z"
   },
   {
    "duration": 340,
    "start_time": "2022-08-21T15:01:03.739Z"
   },
   {
    "duration": 461,
    "start_time": "2022-08-21T15:01:04.080Z"
   },
   {
    "duration": 46,
    "start_time": "2022-08-21T15:01:04.543Z"
   },
   {
    "duration": 31,
    "start_time": "2022-08-21T15:01:04.591Z"
   },
   {
    "duration": 21,
    "start_time": "2022-08-21T15:01:04.624Z"
   },
   {
    "duration": 40,
    "start_time": "2022-08-21T15:01:04.647Z"
   },
   {
    "duration": 20,
    "start_time": "2022-08-21T15:01:04.689Z"
   },
   {
    "duration": 91,
    "start_time": "2022-08-21T15:01:04.711Z"
   },
   {
    "duration": 7,
    "start_time": "2022-08-21T15:01:04.803Z"
   },
   {
    "duration": 10,
    "start_time": "2022-08-21T15:01:04.813Z"
   },
   {
    "duration": 16,
    "start_time": "2022-08-21T15:01:04.825Z"
   },
   {
    "duration": 13,
    "start_time": "2022-08-21T15:01:04.842Z"
   },
   {
    "duration": 7,
    "start_time": "2022-08-21T15:01:04.885Z"
   },
   {
    "duration": 44,
    "start_time": "2022-08-21T15:01:04.893Z"
   },
   {
    "duration": 62,
    "start_time": "2022-08-21T15:01:04.938Z"
   },
   {
    "duration": 21,
    "start_time": "2022-08-21T15:01:05.002Z"
   },
   {
    "duration": 31,
    "start_time": "2022-08-21T15:01:05.025Z"
   },
   {
    "duration": 45,
    "start_time": "2022-08-21T15:01:05.058Z"
   },
   {
    "duration": 32,
    "start_time": "2022-08-21T15:01:05.104Z"
   },
   {
    "duration": 72,
    "start_time": "2022-08-21T15:01:05.137Z"
   },
   {
    "duration": 65,
    "start_time": "2022-08-21T15:08:31.008Z"
   },
   {
    "duration": 403,
    "start_time": "2022-08-21T15:09:25.473Z"
   },
   {
    "duration": 428,
    "start_time": "2022-08-21T15:09:25.878Z"
   },
   {
    "duration": 35,
    "start_time": "2022-08-21T15:09:26.307Z"
   },
   {
    "duration": 25,
    "start_time": "2022-08-21T15:09:26.344Z"
   },
   {
    "duration": 27,
    "start_time": "2022-08-21T15:09:26.371Z"
   },
   {
    "duration": 15,
    "start_time": "2022-08-21T15:09:26.400Z"
   },
   {
    "duration": 19,
    "start_time": "2022-08-21T15:09:26.417Z"
   },
   {
    "duration": 97,
    "start_time": "2022-08-21T15:09:26.437Z"
   },
   {
    "duration": 6,
    "start_time": "2022-08-21T15:09:26.536Z"
   },
   {
    "duration": 19,
    "start_time": "2022-08-21T15:09:26.544Z"
   },
   {
    "duration": 27,
    "start_time": "2022-08-21T15:09:26.565Z"
   },
   {
    "duration": 13,
    "start_time": "2022-08-21T15:09:26.594Z"
   },
   {
    "duration": 7,
    "start_time": "2022-08-21T15:09:26.609Z"
   },
   {
    "duration": 46,
    "start_time": "2022-08-21T15:09:26.617Z"
   },
   {
    "duration": 76,
    "start_time": "2022-08-21T15:09:26.665Z"
   },
   {
    "duration": 22,
    "start_time": "2022-08-21T15:09:26.742Z"
   },
   {
    "duration": 46,
    "start_time": "2022-08-21T15:09:26.766Z"
   },
   {
    "duration": 26,
    "start_time": "2022-08-21T15:09:26.813Z"
   },
   {
    "duration": 58,
    "start_time": "2022-08-21T15:09:26.840Z"
   },
   {
    "duration": 55,
    "start_time": "2022-08-21T15:09:26.899Z"
   },
   {
    "duration": 4,
    "start_time": "2022-08-21T15:09:26.956Z"
   },
   {
    "duration": 19,
    "start_time": "2022-08-21T15:09:32.730Z"
   },
   {
    "duration": 408,
    "start_time": "2022-08-21T15:12:47.682Z"
   },
   {
    "duration": 407,
    "start_time": "2022-08-21T15:12:48.091Z"
   },
   {
    "duration": 43,
    "start_time": "2022-08-21T15:12:48.500Z"
   },
   {
    "duration": 23,
    "start_time": "2022-08-21T15:12:48.545Z"
   },
   {
    "duration": 30,
    "start_time": "2022-08-21T15:12:48.569Z"
   },
   {
    "duration": 15,
    "start_time": "2022-08-21T15:12:48.600Z"
   },
   {
    "duration": 19,
    "start_time": "2022-08-21T15:12:48.616Z"
   },
   {
    "duration": 100,
    "start_time": "2022-08-21T15:12:48.636Z"
   },
   {
    "duration": 6,
    "start_time": "2022-08-21T15:12:48.737Z"
   },
   {
    "duration": 27,
    "start_time": "2022-08-21T15:12:48.745Z"
   },
   {
    "duration": 20,
    "start_time": "2022-08-21T15:12:48.773Z"
   },
   {
    "duration": 12,
    "start_time": "2022-08-21T15:12:48.794Z"
   },
   {
    "duration": 7,
    "start_time": "2022-08-21T15:12:48.807Z"
   },
   {
    "duration": 35,
    "start_time": "2022-08-21T15:12:48.815Z"
   },
   {
    "duration": 77,
    "start_time": "2022-08-21T15:12:48.852Z"
   },
   {
    "duration": 21,
    "start_time": "2022-08-21T15:12:48.931Z"
   },
   {
    "duration": 47,
    "start_time": "2022-08-21T15:12:48.953Z"
   },
   {
    "duration": 27,
    "start_time": "2022-08-21T15:12:49.002Z"
   },
   {
    "duration": 54,
    "start_time": "2022-08-21T15:12:49.031Z"
   },
   {
    "duration": 54,
    "start_time": "2022-08-21T15:12:49.087Z"
   },
   {
    "duration": 4,
    "start_time": "2022-08-21T15:12:49.142Z"
   },
   {
    "duration": 15,
    "start_time": "2022-08-21T15:12:52.462Z"
   },
   {
    "duration": 4,
    "start_time": "2022-08-21T15:14:33.434Z"
   },
   {
    "duration": 15,
    "start_time": "2022-08-21T15:14:37.823Z"
   },
   {
    "duration": 3,
    "start_time": "2022-08-21T15:16:26.450Z"
   },
   {
    "duration": 60,
    "start_time": "2022-08-21T15:16:32.423Z"
   },
   {
    "duration": 1761,
    "start_time": "2022-08-21T15:17:23.843Z"
   },
   {
    "duration": 351,
    "start_time": "2022-08-21T15:17:31.941Z"
   },
   {
    "duration": 409,
    "start_time": "2022-08-21T15:17:32.294Z"
   },
   {
    "duration": 35,
    "start_time": "2022-08-21T15:17:32.704Z"
   },
   {
    "duration": 25,
    "start_time": "2022-08-21T15:17:32.741Z"
   },
   {
    "duration": 29,
    "start_time": "2022-08-21T15:17:32.769Z"
   },
   {
    "duration": 30,
    "start_time": "2022-08-21T15:17:32.800Z"
   },
   {
    "duration": 55,
    "start_time": "2022-08-21T15:17:32.832Z"
   },
   {
    "duration": 95,
    "start_time": "2022-08-21T15:17:32.889Z"
   },
   {
    "duration": 5,
    "start_time": "2022-08-21T15:17:32.986Z"
   },
   {
    "duration": 16,
    "start_time": "2022-08-21T15:17:32.994Z"
   },
   {
    "duration": 20,
    "start_time": "2022-08-21T15:17:33.012Z"
   },
   {
    "duration": 13,
    "start_time": "2022-08-21T15:17:33.033Z"
   },
   {
    "duration": 6,
    "start_time": "2022-08-21T15:17:33.047Z"
   },
   {
    "duration": 42,
    "start_time": "2022-08-21T15:17:33.055Z"
   },
   {
    "duration": 55,
    "start_time": "2022-08-21T15:17:33.098Z"
   },
   {
    "duration": 36,
    "start_time": "2022-08-21T15:17:33.155Z"
   },
   {
    "duration": 29,
    "start_time": "2022-08-21T15:17:33.193Z"
   },
   {
    "duration": 26,
    "start_time": "2022-08-21T15:17:33.224Z"
   },
   {
    "duration": 52,
    "start_time": "2022-08-21T15:17:33.251Z"
   },
   {
    "duration": 52,
    "start_time": "2022-08-21T15:17:33.304Z"
   },
   {
    "duration": 32,
    "start_time": "2022-08-21T15:17:33.357Z"
   },
   {
    "duration": 14,
    "start_time": "2022-08-21T15:17:33.391Z"
   },
   {
    "duration": 4,
    "start_time": "2022-08-21T15:17:33.407Z"
   },
   {
    "duration": 3,
    "start_time": "2022-08-21T15:17:58.609Z"
   },
   {
    "duration": 64,
    "start_time": "2022-08-21T15:18:02.038Z"
   },
   {
    "duration": 352,
    "start_time": "2022-08-21T15:18:11.234Z"
   },
   {
    "duration": 406,
    "start_time": "2022-08-21T15:18:11.587Z"
   },
   {
    "duration": 38,
    "start_time": "2022-08-21T15:18:11.997Z"
   },
   {
    "duration": 27,
    "start_time": "2022-08-21T15:18:12.036Z"
   },
   {
    "duration": 43,
    "start_time": "2022-08-21T15:18:12.065Z"
   },
   {
    "duration": 24,
    "start_time": "2022-08-21T15:18:12.111Z"
   },
   {
    "duration": 21,
    "start_time": "2022-08-21T15:18:12.136Z"
   },
   {
    "duration": 76,
    "start_time": "2022-08-21T15:18:12.184Z"
   },
   {
    "duration": 6,
    "start_time": "2022-08-21T15:18:12.263Z"
   },
   {
    "duration": 10,
    "start_time": "2022-08-21T15:18:12.284Z"
   },
   {
    "duration": 15,
    "start_time": "2022-08-21T15:18:12.296Z"
   },
   {
    "duration": 11,
    "start_time": "2022-08-21T15:18:12.313Z"
   },
   {
    "duration": 6,
    "start_time": "2022-08-21T15:18:12.326Z"
   },
   {
    "duration": 57,
    "start_time": "2022-08-21T15:18:12.334Z"
   },
   {
    "duration": 57,
    "start_time": "2022-08-21T15:18:12.392Z"
   },
   {
    "duration": 35,
    "start_time": "2022-08-21T15:18:12.451Z"
   },
   {
    "duration": 29,
    "start_time": "2022-08-21T15:18:12.487Z"
   },
   {
    "duration": 26,
    "start_time": "2022-08-21T15:18:12.517Z"
   },
   {
    "duration": 55,
    "start_time": "2022-08-21T15:18:12.545Z"
   },
   {
    "duration": 58,
    "start_time": "2022-08-21T15:18:12.601Z"
   },
   {
    "duration": 30,
    "start_time": "2022-08-21T15:18:12.661Z"
   },
   {
    "duration": 16,
    "start_time": "2022-08-21T15:18:12.693Z"
   },
   {
    "duration": 17,
    "start_time": "2022-08-21T15:18:12.711Z"
   },
   {
    "duration": 4,
    "start_time": "2022-08-21T15:18:36.848Z"
   },
   {
    "duration": 13,
    "start_time": "2022-08-21T15:18:41.288Z"
   },
   {
    "duration": 494,
    "start_time": "2022-08-22T14:17:35.486Z"
   },
   {
    "duration": 1175,
    "start_time": "2022-08-22T14:17:35.982Z"
   },
   {
    "duration": 36,
    "start_time": "2022-08-22T14:17:37.158Z"
   },
   {
    "duration": 26,
    "start_time": "2022-08-22T14:17:37.197Z"
   },
   {
    "duration": 23,
    "start_time": "2022-08-22T14:17:37.225Z"
   },
   {
    "duration": 50,
    "start_time": "2022-08-22T14:17:37.249Z"
   },
   {
    "duration": 20,
    "start_time": "2022-08-22T14:17:37.301Z"
   },
   {
    "duration": 114,
    "start_time": "2022-08-22T14:17:37.323Z"
   },
   {
    "duration": 7,
    "start_time": "2022-08-22T14:17:37.439Z"
   },
   {
    "duration": 11,
    "start_time": "2022-08-22T14:17:37.450Z"
   },
   {
    "duration": 37,
    "start_time": "2022-08-22T14:17:37.462Z"
   },
   {
    "duration": 13,
    "start_time": "2022-08-22T14:17:37.501Z"
   },
   {
    "duration": 8,
    "start_time": "2022-08-22T14:17:37.515Z"
   },
   {
    "duration": 28,
    "start_time": "2022-08-22T14:17:37.524Z"
   },
   {
    "duration": 83,
    "start_time": "2022-08-22T14:17:37.554Z"
   },
   {
    "duration": 19,
    "start_time": "2022-08-22T14:17:37.638Z"
   },
   {
    "duration": 47,
    "start_time": "2022-08-22T14:17:37.659Z"
   },
   {
    "duration": 23,
    "start_time": "2022-08-22T14:17:37.707Z"
   },
   {
    "duration": 30,
    "start_time": "2022-08-22T14:17:37.732Z"
   },
   {
    "duration": 70,
    "start_time": "2022-08-22T14:17:37.764Z"
   },
   {
    "duration": 13,
    "start_time": "2022-08-22T14:17:37.835Z"
   },
   {
    "duration": 15,
    "start_time": "2022-08-22T14:28:00.260Z"
   },
   {
    "duration": 1078,
    "start_time": "2022-08-22T14:32:32.119Z"
   },
   {
    "duration": 4,
    "start_time": "2022-08-22T14:35:56.630Z"
   },
   {
    "duration": 11,
    "start_time": "2022-08-22T14:36:03.384Z"
   },
   {
    "duration": 19,
    "start_time": "2022-08-22T14:36:38.523Z"
   },
   {
    "duration": 17,
    "start_time": "2022-08-22T14:46:28.530Z"
   },
   {
    "duration": 22,
    "start_time": "2022-08-22T14:46:39.943Z"
   },
   {
    "duration": 437,
    "start_time": "2022-08-22T14:46:48.082Z"
   },
   {
    "duration": 411,
    "start_time": "2022-08-22T14:46:48.521Z"
   },
   {
    "duration": 40,
    "start_time": "2022-08-22T14:46:48.934Z"
   },
   {
    "duration": 29,
    "start_time": "2022-08-22T14:46:48.976Z"
   },
   {
    "duration": 37,
    "start_time": "2022-08-22T14:46:49.007Z"
   },
   {
    "duration": 20,
    "start_time": "2022-08-22T14:46:49.046Z"
   },
   {
    "duration": 54,
    "start_time": "2022-08-22T14:46:49.068Z"
   },
   {
    "duration": 85,
    "start_time": "2022-08-22T14:46:49.124Z"
   },
   {
    "duration": 6,
    "start_time": "2022-08-22T14:46:49.211Z"
   },
   {
    "duration": 12,
    "start_time": "2022-08-22T14:46:49.219Z"
   },
   {
    "duration": 21,
    "start_time": "2022-08-22T14:46:49.233Z"
   },
   {
    "duration": 43,
    "start_time": "2022-08-22T14:46:49.255Z"
   },
   {
    "duration": 8,
    "start_time": "2022-08-22T14:46:49.300Z"
   },
   {
    "duration": 31,
    "start_time": "2022-08-22T14:46:49.310Z"
   },
   {
    "duration": 74,
    "start_time": "2022-08-22T14:46:49.342Z"
   },
   {
    "duration": 19,
    "start_time": "2022-08-22T14:46:49.418Z"
   },
   {
    "duration": 29,
    "start_time": "2022-08-22T14:46:49.439Z"
   },
   {
    "duration": 41,
    "start_time": "2022-08-22T14:46:49.470Z"
   },
   {
    "duration": 45,
    "start_time": "2022-08-22T14:46:49.513Z"
   },
   {
    "duration": 72,
    "start_time": "2022-08-22T14:46:49.560Z"
   },
   {
    "duration": 19,
    "start_time": "2022-08-22T14:46:49.634Z"
   },
   {
    "duration": 47,
    "start_time": "2022-08-22T14:46:49.655Z"
   },
   {
    "duration": 20,
    "start_time": "2022-08-22T14:46:57.808Z"
   },
   {
    "duration": 401,
    "start_time": "2022-08-22T14:47:03.491Z"
   },
   {
    "duration": 407,
    "start_time": "2022-08-22T14:47:03.893Z"
   },
   {
    "duration": 38,
    "start_time": "2022-08-22T14:47:04.302Z"
   },
   {
    "duration": 33,
    "start_time": "2022-08-22T14:47:04.343Z"
   },
   {
    "duration": 30,
    "start_time": "2022-08-22T14:47:04.398Z"
   },
   {
    "duration": 17,
    "start_time": "2022-08-22T14:47:04.430Z"
   },
   {
    "duration": 50,
    "start_time": "2022-08-22T14:47:04.449Z"
   },
   {
    "duration": 127,
    "start_time": "2022-08-22T14:47:04.502Z"
   },
   {
    "duration": 7,
    "start_time": "2022-08-22T14:47:04.631Z"
   },
   {
    "duration": 15,
    "start_time": "2022-08-22T14:47:04.641Z"
   },
   {
    "duration": 27,
    "start_time": "2022-08-22T14:47:04.658Z"
   },
   {
    "duration": 23,
    "start_time": "2022-08-22T14:47:04.687Z"
   },
   {
    "duration": 7,
    "start_time": "2022-08-22T14:47:04.711Z"
   },
   {
    "duration": 26,
    "start_time": "2022-08-22T14:47:04.720Z"
   },
   {
    "duration": 108,
    "start_time": "2022-08-22T14:47:04.748Z"
   },
   {
    "duration": 19,
    "start_time": "2022-08-22T14:47:04.857Z"
   },
   {
    "duration": 49,
    "start_time": "2022-08-22T14:47:04.878Z"
   },
   {
    "duration": 23,
    "start_time": "2022-08-22T14:47:04.929Z"
   },
   {
    "duration": 50,
    "start_time": "2022-08-22T14:47:04.954Z"
   },
   {
    "duration": 55,
    "start_time": "2022-08-22T14:47:05.006Z"
   },
   {
    "duration": 36,
    "start_time": "2022-08-22T14:47:05.063Z"
   },
   {
    "duration": 23,
    "start_time": "2022-08-22T14:47:05.101Z"
   },
   {
    "duration": 18,
    "start_time": "2022-08-22T14:47:25.564Z"
   },
   {
    "duration": 19,
    "start_time": "2022-08-22T14:47:29.875Z"
   },
   {
    "duration": 18,
    "start_time": "2022-08-22T14:47:39.723Z"
   },
   {
    "duration": 26,
    "start_time": "2022-08-22T14:48:46.527Z"
   },
   {
    "duration": 457,
    "start_time": "2022-08-22T14:49:32.227Z"
   },
   {
    "duration": 408,
    "start_time": "2022-08-22T14:49:32.687Z"
   },
   {
    "duration": 57,
    "start_time": "2022-08-22T14:49:33.097Z"
   },
   {
    "duration": 50,
    "start_time": "2022-08-22T14:49:33.157Z"
   },
   {
    "duration": 31,
    "start_time": "2022-08-22T14:49:33.208Z"
   },
   {
    "duration": 17,
    "start_time": "2022-08-22T14:49:33.241Z"
   },
   {
    "duration": 57,
    "start_time": "2022-08-22T14:49:33.260Z"
   },
   {
    "duration": 140,
    "start_time": "2022-08-22T14:49:33.319Z"
   },
   {
    "duration": 8,
    "start_time": "2022-08-22T14:49:33.460Z"
   },
   {
    "duration": 13,
    "start_time": "2022-08-22T14:49:33.471Z"
   },
   {
    "duration": 24,
    "start_time": "2022-08-22T14:49:33.499Z"
   },
   {
    "duration": 13,
    "start_time": "2022-08-22T14:49:33.525Z"
   },
   {
    "duration": 9,
    "start_time": "2022-08-22T14:49:33.540Z"
   },
   {
    "duration": 59,
    "start_time": "2022-08-22T14:49:33.550Z"
   },
   {
    "duration": 99,
    "start_time": "2022-08-22T14:49:33.611Z"
   },
   {
    "duration": 23,
    "start_time": "2022-08-22T14:49:33.712Z"
   },
   {
    "duration": 32,
    "start_time": "2022-08-22T14:49:33.736Z"
   },
   {
    "duration": 46,
    "start_time": "2022-08-22T14:49:33.770Z"
   },
   {
    "duration": 41,
    "start_time": "2022-08-22T14:49:33.818Z"
   },
   {
    "duration": 77,
    "start_time": "2022-08-22T14:49:33.861Z"
   },
   {
    "duration": 18,
    "start_time": "2022-08-22T14:49:33.940Z"
   },
   {
    "duration": 38,
    "start_time": "2022-08-22T14:49:33.961Z"
   },
   {
    "duration": 110,
    "start_time": "2022-08-22T15:05:45.627Z"
   },
   {
    "duration": 6,
    "start_time": "2022-08-22T15:46:16.036Z"
   },
   {
    "duration": 50,
    "start_time": "2022-08-22T15:46:57.283Z"
   },
   {
    "duration": 60,
    "start_time": "2022-08-22T15:47:08.173Z"
   },
   {
    "duration": 64,
    "start_time": "2022-08-22T15:56:18.461Z"
   },
   {
    "duration": 426,
    "start_time": "2022-08-22T15:56:29.088Z"
   },
   {
    "duration": 397,
    "start_time": "2022-08-22T15:56:29.516Z"
   },
   {
    "duration": 37,
    "start_time": "2022-08-22T15:56:29.914Z"
   },
   {
    "duration": 39,
    "start_time": "2022-08-22T15:56:29.953Z"
   },
   {
    "duration": 26,
    "start_time": "2022-08-22T15:56:29.999Z"
   },
   {
    "duration": 18,
    "start_time": "2022-08-22T15:56:30.026Z"
   },
   {
    "duration": 56,
    "start_time": "2022-08-22T15:56:30.046Z"
   },
   {
    "duration": 104,
    "start_time": "2022-08-22T15:56:30.103Z"
   },
   {
    "duration": 5,
    "start_time": "2022-08-22T15:56:30.209Z"
   },
   {
    "duration": 75,
    "start_time": "2022-08-22T15:56:30.216Z"
   },
   {
    "duration": 103,
    "start_time": "2022-08-22T15:56:30.293Z"
   },
   {
    "duration": 54,
    "start_time": "2022-08-22T15:56:30.398Z"
   },
   {
    "duration": 96,
    "start_time": "2022-08-22T15:56:30.454Z"
   },
   {
    "duration": 62,
    "start_time": "2022-08-22T15:56:30.552Z"
   },
   {
    "duration": 59,
    "start_time": "2022-08-22T15:56:30.616Z"
   },
   {
    "duration": 33,
    "start_time": "2022-08-22T15:56:30.677Z"
   },
   {
    "duration": 33,
    "start_time": "2022-08-22T15:56:30.712Z"
   },
   {
    "duration": 20,
    "start_time": "2022-08-22T15:56:30.747Z"
   },
   {
    "duration": 54,
    "start_time": "2022-08-22T15:56:30.769Z"
   },
   {
    "duration": 61,
    "start_time": "2022-08-22T15:56:30.825Z"
   },
   {
    "duration": 21,
    "start_time": "2022-08-22T15:56:30.888Z"
   },
   {
    "duration": 36,
    "start_time": "2022-08-22T15:56:30.912Z"
   },
   {
    "duration": 30,
    "start_time": "2022-08-22T15:56:30.950Z"
   },
   {
    "duration": 100,
    "start_time": "2022-08-22T15:56:30.981Z"
   },
   {
    "duration": 6,
    "start_time": "2022-08-22T16:00:52.799Z"
   },
   {
    "duration": 56,
    "start_time": "2022-08-22T16:00:53.477Z"
   },
   {
    "duration": 6,
    "start_time": "2022-08-22T16:05:14.266Z"
   },
   {
    "duration": 85,
    "start_time": "2022-08-22T16:05:15.384Z"
   },
   {
    "duration": 8,
    "start_time": "2022-08-22T16:05:22.848Z"
   },
   {
    "duration": 63,
    "start_time": "2022-08-22T16:05:23.209Z"
   },
   {
    "duration": 13,
    "start_time": "2022-08-22T16:11:13.446Z"
   },
   {
    "duration": 31,
    "start_time": "2022-08-22T16:11:18.276Z"
   },
   {
    "duration": 19,
    "start_time": "2022-08-22T16:58:13.960Z"
   },
   {
    "duration": 406,
    "start_time": "2022-08-22T17:04:48.986Z"
   },
   {
    "duration": 406,
    "start_time": "2022-08-22T17:04:49.393Z"
   },
   {
    "duration": 35,
    "start_time": "2022-08-22T17:04:49.801Z"
   },
   {
    "duration": 25,
    "start_time": "2022-08-22T17:04:49.838Z"
   },
   {
    "duration": 47,
    "start_time": "2022-08-22T17:04:49.865Z"
   },
   {
    "duration": 18,
    "start_time": "2022-08-22T17:04:49.914Z"
   },
   {
    "duration": 26,
    "start_time": "2022-08-22T17:04:49.934Z"
   },
   {
    "duration": 103,
    "start_time": "2022-08-22T17:04:49.962Z"
   },
   {
    "duration": 6,
    "start_time": "2022-08-22T17:04:50.066Z"
   },
   {
    "duration": 31,
    "start_time": "2022-08-22T17:04:50.074Z"
   },
   {
    "duration": 18,
    "start_time": "2022-08-22T17:04:50.107Z"
   },
   {
    "duration": 12,
    "start_time": "2022-08-22T17:04:50.126Z"
   },
   {
    "duration": 6,
    "start_time": "2022-08-22T17:04:50.140Z"
   },
   {
    "duration": 29,
    "start_time": "2022-08-22T17:04:50.148Z"
   },
   {
    "duration": 67,
    "start_time": "2022-08-22T17:04:50.198Z"
   },
   {
    "duration": 16,
    "start_time": "2022-08-22T17:04:50.267Z"
   },
   {
    "duration": 30,
    "start_time": "2022-08-22T17:04:50.299Z"
   },
   {
    "duration": 22,
    "start_time": "2022-08-22T17:04:50.331Z"
   },
   {
    "duration": 50,
    "start_time": "2022-08-22T17:04:50.355Z"
   },
   {
    "duration": 49,
    "start_time": "2022-08-22T17:04:50.407Z"
   },
   {
    "duration": 13,
    "start_time": "2022-08-22T17:04:50.458Z"
   },
   {
    "duration": 36,
    "start_time": "2022-08-22T17:04:50.473Z"
   },
   {
    "duration": 8,
    "start_time": "2022-08-22T17:04:50.511Z"
   },
   {
    "duration": 90,
    "start_time": "2022-08-22T17:04:50.521Z"
   },
   {
    "duration": 19,
    "start_time": "2022-08-22T17:04:50.613Z"
   },
   {
    "duration": 18,
    "start_time": "2022-08-22T17:04:50.633Z"
   },
   {
    "duration": 7,
    "start_time": "2022-08-22T17:30:57.426Z"
   },
   {
    "duration": 74,
    "start_time": "2022-08-22T17:34:40.032Z"
   },
   {
    "duration": 10,
    "start_time": "2022-08-22T17:35:09.637Z"
   },
   {
    "duration": 17,
    "start_time": "2022-08-22T17:35:24.165Z"
   },
   {
    "duration": 10,
    "start_time": "2022-08-22T17:37:42.244Z"
   },
   {
    "duration": 9,
    "start_time": "2022-08-22T17:38:12.847Z"
   },
   {
    "duration": 53,
    "start_time": "2022-08-22T17:41:51.375Z"
   },
   {
    "duration": 10,
    "start_time": "2022-08-22T17:42:04.102Z"
   },
   {
    "duration": 10,
    "start_time": "2022-08-22T17:43:15.268Z"
   },
   {
    "duration": 9,
    "start_time": "2022-08-22T17:43:22.503Z"
   },
   {
    "duration": 8,
    "start_time": "2022-08-22T17:43:30.862Z"
   },
   {
    "duration": 4,
    "start_time": "2022-08-22T17:43:48.927Z"
   },
   {
    "duration": 7,
    "start_time": "2022-08-22T17:43:59.293Z"
   },
   {
    "duration": 26,
    "start_time": "2022-08-22T17:44:06.283Z"
   },
   {
    "duration": 12,
    "start_time": "2022-08-22T17:45:18.947Z"
   },
   {
    "duration": 8,
    "start_time": "2022-08-22T17:47:08.671Z"
   },
   {
    "duration": 413,
    "start_time": "2022-08-22T17:47:27.472Z"
   },
   {
    "duration": 407,
    "start_time": "2022-08-22T17:47:27.887Z"
   },
   {
    "duration": 34,
    "start_time": "2022-08-22T17:47:28.296Z"
   },
   {
    "duration": 26,
    "start_time": "2022-08-22T17:47:28.331Z"
   },
   {
    "duration": 41,
    "start_time": "2022-08-22T17:47:28.359Z"
   },
   {
    "duration": 15,
    "start_time": "2022-08-22T17:47:28.401Z"
   },
   {
    "duration": 20,
    "start_time": "2022-08-22T17:47:28.418Z"
   },
   {
    "duration": 105,
    "start_time": "2022-08-22T17:47:28.440Z"
   },
   {
    "duration": 5,
    "start_time": "2022-08-22T17:47:28.547Z"
   },
   {
    "duration": 9,
    "start_time": "2022-08-22T17:47:28.555Z"
   },
   {
    "duration": 18,
    "start_time": "2022-08-22T17:47:28.565Z"
   },
   {
    "duration": 14,
    "start_time": "2022-08-22T17:47:28.597Z"
   },
   {
    "duration": 7,
    "start_time": "2022-08-22T17:47:28.612Z"
   },
   {
    "duration": 36,
    "start_time": "2022-08-22T17:47:28.621Z"
   },
   {
    "duration": 70,
    "start_time": "2022-08-22T17:47:28.658Z"
   },
   {
    "duration": 18,
    "start_time": "2022-08-22T17:47:28.729Z"
   },
   {
    "duration": 32,
    "start_time": "2022-08-22T17:47:28.749Z"
   },
   {
    "duration": 35,
    "start_time": "2022-08-22T17:47:28.782Z"
   },
   {
    "duration": 30,
    "start_time": "2022-08-22T17:47:28.818Z"
   },
   {
    "duration": 74,
    "start_time": "2022-08-22T17:47:28.850Z"
   },
   {
    "duration": 18,
    "start_time": "2022-08-22T17:47:28.926Z"
   },
   {
    "duration": 19,
    "start_time": "2022-08-22T17:47:28.945Z"
   },
   {
    "duration": 8,
    "start_time": "2022-08-22T17:47:28.966Z"
   },
   {
    "duration": 79,
    "start_time": "2022-08-22T17:47:28.999Z"
   },
   {
    "duration": 30,
    "start_time": "2022-08-22T17:47:29.079Z"
   },
   {
    "duration": 17,
    "start_time": "2022-08-22T17:47:29.111Z"
   },
   {
    "duration": 9,
    "start_time": "2022-08-22T17:47:29.129Z"
   },
   {
    "duration": 71,
    "start_time": "2022-08-22T17:47:42.559Z"
   },
   {
    "duration": 21,
    "start_time": "2022-08-22T17:48:00.918Z"
   },
   {
    "duration": 48,
    "start_time": "2022-08-22T17:49:25.316Z"
   },
   {
    "duration": 9,
    "start_time": "2022-08-22T17:49:46.821Z"
   },
   {
    "duration": 14,
    "start_time": "2022-08-22T17:49:57.814Z"
   },
   {
    "duration": 21,
    "start_time": "2022-08-22T17:50:04.806Z"
   },
   {
    "duration": 17,
    "start_time": "2022-08-22T17:52:54.512Z"
   },
   {
    "duration": 13,
    "start_time": "2022-08-22T17:54:45.815Z"
   },
   {
    "duration": 28,
    "start_time": "2022-08-22T17:54:58.261Z"
   },
   {
    "duration": 36,
    "start_time": "2022-08-22T17:56:46.873Z"
   },
   {
    "duration": 11,
    "start_time": "2022-08-22T17:58:05.186Z"
   },
   {
    "duration": 11,
    "start_time": "2022-08-22T17:58:12.302Z"
   },
   {
    "duration": 30,
    "start_time": "2022-08-22T17:58:16.566Z"
   },
   {
    "duration": 13,
    "start_time": "2022-08-22T17:58:25.974Z"
   },
   {
    "duration": 13,
    "start_time": "2022-08-22T17:58:26.414Z"
   },
   {
    "duration": 13,
    "start_time": "2022-08-22T17:58:33.966Z"
   },
   {
    "duration": 12,
    "start_time": "2022-08-22T17:58:34.308Z"
   },
   {
    "duration": 10,
    "start_time": "2022-08-22T17:58:34.902Z"
   },
   {
    "duration": 6,
    "start_time": "2022-08-22T18:00:11.201Z"
   },
   {
    "duration": 7,
    "start_time": "2022-08-22T18:00:17.254Z"
   },
   {
    "duration": 359,
    "start_time": "2022-08-23T15:51:46.002Z"
   },
   {
    "duration": 1111,
    "start_time": "2022-08-23T15:51:46.362Z"
   },
   {
    "duration": 37,
    "start_time": "2022-08-23T15:51:47.474Z"
   },
   {
    "duration": 31,
    "start_time": "2022-08-23T15:51:47.513Z"
   },
   {
    "duration": 43,
    "start_time": "2022-08-23T15:51:47.549Z"
   },
   {
    "duration": 16,
    "start_time": "2022-08-23T15:51:47.593Z"
   },
   {
    "duration": 24,
    "start_time": "2022-08-23T15:51:47.611Z"
   },
   {
    "duration": 103,
    "start_time": "2022-08-23T15:51:47.637Z"
   },
   {
    "duration": 6,
    "start_time": "2022-08-23T15:51:47.742Z"
   },
   {
    "duration": 12,
    "start_time": "2022-08-23T15:51:47.750Z"
   },
   {
    "duration": 29,
    "start_time": "2022-08-23T15:51:47.764Z"
   },
   {
    "duration": 16,
    "start_time": "2022-08-23T15:51:47.795Z"
   },
   {
    "duration": 9,
    "start_time": "2022-08-23T15:51:47.813Z"
   },
   {
    "duration": 31,
    "start_time": "2022-08-23T15:51:47.824Z"
   },
   {
    "duration": 92,
    "start_time": "2022-08-23T15:51:47.857Z"
   },
   {
    "duration": 34,
    "start_time": "2022-08-23T15:51:47.951Z"
   },
   {
    "duration": 31,
    "start_time": "2022-08-23T15:51:47.987Z"
   },
   {
    "duration": 27,
    "start_time": "2022-08-23T15:51:48.020Z"
   },
   {
    "duration": 55,
    "start_time": "2022-08-23T15:51:48.049Z"
   },
   {
    "duration": 67,
    "start_time": "2022-08-23T15:51:48.106Z"
   },
   {
    "duration": 22,
    "start_time": "2022-08-23T15:51:48.185Z"
   },
   {
    "duration": 20,
    "start_time": "2022-08-23T15:51:48.209Z"
   },
   {
    "duration": 7,
    "start_time": "2022-08-23T15:51:48.231Z"
   },
   {
    "duration": 96,
    "start_time": "2022-08-23T15:51:48.240Z"
   },
   {
    "duration": 23,
    "start_time": "2022-08-23T15:51:48.338Z"
   },
   {
    "duration": 37,
    "start_time": "2022-08-23T15:51:48.364Z"
   },
   {
    "duration": 13,
    "start_time": "2022-08-23T15:51:48.402Z"
   },
   {
    "duration": 13,
    "start_time": "2022-08-23T15:51:48.418Z"
   },
   {
    "duration": 14,
    "start_time": "2022-08-23T15:51:48.432Z"
   },
   {
    "duration": 13,
    "start_time": "2022-08-23T15:51:48.447Z"
   },
   {
    "duration": 59,
    "start_time": "2022-08-23T15:53:35.547Z"
   },
   {
    "duration": 1175,
    "start_time": "2022-08-23T15:53:41.690Z"
   },
   {
    "duration": 21,
    "start_time": "2022-08-23T15:56:12.873Z"
   },
   {
    "duration": 8,
    "start_time": "2022-08-23T16:32:44.606Z"
   },
   {
    "duration": 5,
    "start_time": "2022-08-23T16:32:56.468Z"
   },
   {
    "duration": 14,
    "start_time": "2022-08-23T16:33:01.674Z"
   },
   {
    "duration": 7,
    "start_time": "2022-08-23T16:33:20.289Z"
   },
   {
    "duration": 902,
    "start_time": "2022-08-23T16:34:43.115Z"
   },
   {
    "duration": 736,
    "start_time": "2022-08-23T16:36:05.688Z"
   },
   {
    "duration": 11,
    "start_time": "2022-08-23T16:36:20.500Z"
   },
   {
    "duration": 23,
    "start_time": "2022-08-23T16:41:11.495Z"
   },
   {
    "duration": 2,
    "start_time": "2022-08-23T16:41:49.184Z"
   },
   {
    "duration": 14,
    "start_time": "2022-08-23T16:41:51.293Z"
   },
   {
    "duration": 4,
    "start_time": "2022-08-23T16:41:55.565Z"
   },
   {
    "duration": 3,
    "start_time": "2022-08-23T16:42:58.979Z"
   },
   {
    "duration": 4,
    "start_time": "2022-08-23T16:43:04.663Z"
   },
   {
    "duration": 4,
    "start_time": "2022-08-23T16:43:57.558Z"
   },
   {
    "duration": 4,
    "start_time": "2022-08-23T16:44:09.370Z"
   },
   {
    "duration": 9,
    "start_time": "2022-08-23T16:50:11.603Z"
   },
   {
    "duration": 8,
    "start_time": "2022-08-23T16:50:54.485Z"
   },
   {
    "duration": 6,
    "start_time": "2022-08-23T16:51:03.676Z"
   },
   {
    "duration": 5,
    "start_time": "2022-08-23T16:51:08.171Z"
   },
   {
    "duration": 5,
    "start_time": "2022-08-23T16:51:38.785Z"
   },
   {
    "duration": 5,
    "start_time": "2022-08-23T16:51:39.152Z"
   },
   {
    "duration": 6,
    "start_time": "2022-08-23T16:51:43.514Z"
   },
   {
    "duration": 4,
    "start_time": "2022-08-23T16:51:43.752Z"
   },
   {
    "duration": 10,
    "start_time": "2022-08-23T16:52:51.581Z"
   },
   {
    "duration": 4,
    "start_time": "2022-08-23T16:52:51.891Z"
   },
   {
    "duration": 5,
    "start_time": "2022-08-23T16:53:58.503Z"
   },
   {
    "duration": 7,
    "start_time": "2022-08-23T16:55:45.424Z"
   },
   {
    "duration": 10,
    "start_time": "2022-08-23T16:55:59.765Z"
   },
   {
    "duration": 52,
    "start_time": "2022-08-23T17:02:28.827Z"
   },
   {
    "duration": 3,
    "start_time": "2022-08-23T17:02:37.792Z"
   },
   {
    "duration": 4,
    "start_time": "2022-08-23T17:03:21.807Z"
   },
   {
    "duration": 11,
    "start_time": "2022-08-23T17:03:29.060Z"
   },
   {
    "duration": 3,
    "start_time": "2022-08-23T17:04:06.492Z"
   },
   {
    "duration": 11,
    "start_time": "2022-08-23T17:04:06.864Z"
   },
   {
    "duration": 20,
    "start_time": "2022-08-23T17:11:01.586Z"
   },
   {
    "duration": 626,
    "start_time": "2022-08-23T17:11:37.025Z"
   },
   {
    "duration": 155,
    "start_time": "2022-08-23T17:11:48.982Z"
   },
   {
    "duration": 146,
    "start_time": "2022-08-23T17:13:09.587Z"
   },
   {
    "duration": 299,
    "start_time": "2022-08-23T17:14:04.914Z"
   },
   {
    "duration": 330,
    "start_time": "2022-08-23T17:14:13.123Z"
   },
   {
    "duration": 135,
    "start_time": "2022-08-23T17:14:36.850Z"
   },
   {
    "duration": 128,
    "start_time": "2022-08-23T17:16:23.665Z"
   },
   {
    "duration": 155,
    "start_time": "2022-08-23T18:18:27.944Z"
   },
   {
    "duration": 154,
    "start_time": "2022-08-23T18:18:35.087Z"
   },
   {
    "duration": 207,
    "start_time": "2022-08-23T18:18:42.197Z"
   },
   {
    "duration": 126,
    "start_time": "2022-08-23T18:19:05.580Z"
   },
   {
    "duration": 6,
    "start_time": "2022-08-23T18:25:59.468Z"
   },
   {
    "duration": 6,
    "start_time": "2022-08-23T18:26:16.986Z"
   },
   {
    "duration": 6,
    "start_time": "2022-08-23T18:27:23.887Z"
   },
   {
    "duration": 6,
    "start_time": "2022-08-23T18:27:35.780Z"
   },
   {
    "duration": 8,
    "start_time": "2022-08-23T18:27:52.923Z"
   },
   {
    "duration": 6,
    "start_time": "2022-08-23T18:28:11.938Z"
   },
   {
    "duration": 407,
    "start_time": "2022-08-24T15:42:13.550Z"
   },
   {
    "duration": 1079,
    "start_time": "2022-08-24T15:42:13.959Z"
   },
   {
    "duration": 40,
    "start_time": "2022-08-24T15:42:15.040Z"
   },
   {
    "duration": 41,
    "start_time": "2022-08-24T15:42:15.083Z"
   },
   {
    "duration": 27,
    "start_time": "2022-08-24T15:42:15.126Z"
   },
   {
    "duration": 42,
    "start_time": "2022-08-24T15:42:15.155Z"
   },
   {
    "duration": 26,
    "start_time": "2022-08-24T15:42:15.199Z"
   },
   {
    "duration": 98,
    "start_time": "2022-08-24T15:42:15.227Z"
   },
   {
    "duration": 7,
    "start_time": "2022-08-24T15:42:15.327Z"
   },
   {
    "duration": 17,
    "start_time": "2022-08-24T15:42:15.336Z"
   },
   {
    "duration": 39,
    "start_time": "2022-08-24T15:42:15.354Z"
   },
   {
    "duration": 17,
    "start_time": "2022-08-24T15:42:15.395Z"
   },
   {
    "duration": 19,
    "start_time": "2022-08-24T15:42:15.413Z"
   },
   {
    "duration": 54,
    "start_time": "2022-08-24T15:42:15.434Z"
   },
   {
    "duration": 59,
    "start_time": "2022-08-24T15:42:15.489Z"
   },
   {
    "duration": 44,
    "start_time": "2022-08-24T15:42:15.549Z"
   },
   {
    "duration": 32,
    "start_time": "2022-08-24T15:42:15.596Z"
   },
   {
    "duration": 27,
    "start_time": "2022-08-24T15:42:15.629Z"
   },
   {
    "duration": 48,
    "start_time": "2022-08-24T15:42:15.658Z"
   },
   {
    "duration": 59,
    "start_time": "2022-08-24T15:42:15.707Z"
   },
   {
    "duration": 39,
    "start_time": "2022-08-24T15:42:15.768Z"
   },
   {
    "duration": 32,
    "start_time": "2022-08-24T15:42:15.809Z"
   },
   {
    "duration": 8,
    "start_time": "2022-08-24T15:42:15.843Z"
   },
   {
    "duration": 94,
    "start_time": "2022-08-24T15:42:15.853Z"
   },
   {
    "duration": 23,
    "start_time": "2022-08-24T15:42:15.949Z"
   },
   {
    "duration": 14,
    "start_time": "2022-08-24T15:42:15.973Z"
   },
   {
    "duration": 29,
    "start_time": "2022-08-24T15:42:15.990Z"
   },
   {
    "duration": 10,
    "start_time": "2022-08-24T15:42:16.022Z"
   },
   {
    "duration": 16,
    "start_time": "2022-08-24T15:42:16.034Z"
   },
   {
    "duration": 9,
    "start_time": "2022-08-24T15:42:16.052Z"
   },
   {
    "duration": 25,
    "start_time": "2022-08-24T15:42:16.063Z"
   },
   {
    "duration": 16,
    "start_time": "2022-08-24T15:42:16.090Z"
   },
   {
    "duration": 9,
    "start_time": "2022-08-24T15:42:16.108Z"
   },
   {
    "duration": 12,
    "start_time": "2022-08-24T15:42:16.120Z"
   },
   {
    "duration": 790,
    "start_time": "2022-08-24T15:44:28.539Z"
   },
   {
    "duration": 425,
    "start_time": "2022-08-24T15:44:29.331Z"
   },
   {
    "duration": 37,
    "start_time": "2022-08-24T15:44:29.758Z"
   },
   {
    "duration": 27,
    "start_time": "2022-08-24T15:44:29.797Z"
   },
   {
    "duration": 23,
    "start_time": "2022-08-24T15:44:29.826Z"
   },
   {
    "duration": 45,
    "start_time": "2022-08-24T15:44:29.851Z"
   },
   {
    "duration": 18,
    "start_time": "2022-08-24T15:44:29.897Z"
   },
   {
    "duration": 103,
    "start_time": "2022-08-24T15:44:29.916Z"
   },
   {
    "duration": 7,
    "start_time": "2022-08-24T15:44:30.020Z"
   },
   {
    "duration": 22,
    "start_time": "2022-08-24T15:44:30.030Z"
   },
   {
    "duration": 37,
    "start_time": "2022-08-24T15:44:30.054Z"
   },
   {
    "duration": 21,
    "start_time": "2022-08-24T15:44:30.092Z"
   },
   {
    "duration": 8,
    "start_time": "2022-08-24T15:44:30.115Z"
   },
   {
    "duration": 60,
    "start_time": "2022-08-24T15:44:30.125Z"
   },
   {
    "duration": 62,
    "start_time": "2022-08-24T15:44:30.187Z"
   },
   {
    "duration": 36,
    "start_time": "2022-08-24T15:44:30.251Z"
   },
   {
    "duration": 32,
    "start_time": "2022-08-24T15:44:30.289Z"
   },
   {
    "duration": 39,
    "start_time": "2022-08-24T15:44:30.322Z"
   },
   {
    "duration": 37,
    "start_time": "2022-08-24T15:44:30.363Z"
   },
   {
    "duration": 23,
    "start_time": "2022-08-24T15:44:30.402Z"
   },
   {
    "duration": 14,
    "start_time": "2022-08-24T15:44:30.427Z"
   },
   {
    "duration": 48,
    "start_time": "2022-08-24T15:44:30.443Z"
   },
   {
    "duration": 6,
    "start_time": "2022-08-24T15:44:30.493Z"
   },
   {
    "duration": 87,
    "start_time": "2022-08-24T15:44:30.500Z"
   },
   {
    "duration": 20,
    "start_time": "2022-08-24T15:44:30.589Z"
   },
   {
    "duration": 18,
    "start_time": "2022-08-24T15:44:30.610Z"
   },
   {
    "duration": 37,
    "start_time": "2022-08-24T15:44:30.630Z"
   },
   {
    "duration": 30,
    "start_time": "2022-08-24T15:44:30.669Z"
   },
   {
    "duration": 28,
    "start_time": "2022-08-24T15:44:30.700Z"
   },
   {
    "duration": 25,
    "start_time": "2022-08-24T15:44:30.729Z"
   },
   {
    "duration": 19,
    "start_time": "2022-08-24T15:44:30.755Z"
   },
   {
    "duration": 22,
    "start_time": "2022-08-24T15:44:30.776Z"
   },
   {
    "duration": 40,
    "start_time": "2022-08-24T15:44:30.800Z"
   },
   {
    "duration": 50,
    "start_time": "2022-08-24T15:44:30.842Z"
   },
   {
    "duration": 15,
    "start_time": "2022-08-24T15:45:38.247Z"
   },
   {
    "duration": 13,
    "start_time": "2022-08-24T15:46:49.941Z"
   },
   {
    "duration": 406,
    "start_time": "2022-08-24T15:47:01.320Z"
   },
   {
    "duration": 18,
    "start_time": "2022-08-24T15:47:26.616Z"
   },
   {
    "duration": 0,
    "start_time": "2022-08-24T15:48:35.785Z"
   },
   {
    "duration": 1671,
    "start_time": "2022-08-24T15:48:40.704Z"
   },
   {
    "duration": 5,
    "start_time": "2022-08-24T15:51:37.910Z"
   },
   {
    "duration": 7,
    "start_time": "2022-08-24T15:52:35.840Z"
   },
   {
    "duration": 4,
    "start_time": "2022-08-24T15:53:11.863Z"
   },
   {
    "duration": 8,
    "start_time": "2022-08-24T15:56:17.210Z"
   },
   {
    "duration": 5,
    "start_time": "2022-08-24T15:56:26.111Z"
   },
   {
    "duration": 7,
    "start_time": "2022-08-24T15:56:30.948Z"
   },
   {
    "duration": 5,
    "start_time": "2022-08-24T15:56:47.451Z"
   },
   {
    "duration": 4,
    "start_time": "2022-08-24T15:57:45.110Z"
   },
   {
    "duration": 5,
    "start_time": "2022-08-24T15:58:11.332Z"
   },
   {
    "duration": 11,
    "start_time": "2022-08-24T15:58:25.897Z"
   },
   {
    "duration": 10,
    "start_time": "2022-08-24T16:00:48.307Z"
   },
   {
    "duration": 13,
    "start_time": "2022-08-24T16:00:52.279Z"
   },
   {
    "duration": 10,
    "start_time": "2022-08-24T16:00:58.424Z"
   },
   {
    "duration": 5,
    "start_time": "2022-08-24T16:02:29.660Z"
   },
   {
    "duration": 5,
    "start_time": "2022-08-24T16:02:45.639Z"
   },
   {
    "duration": 5,
    "start_time": "2022-08-24T16:04:49.621Z"
   },
   {
    "duration": 5,
    "start_time": "2022-08-24T16:04:58.629Z"
   },
   {
    "duration": 1224,
    "start_time": "2022-08-24T16:57:12.599Z"
   },
   {
    "duration": 8,
    "start_time": "2022-08-24T16:57:23.052Z"
   },
   {
    "duration": 8,
    "start_time": "2022-08-24T16:57:39.530Z"
   },
   {
    "duration": 12,
    "start_time": "2022-08-24T16:57:52.154Z"
   },
   {
    "duration": 22,
    "start_time": "2022-08-24T16:59:56.124Z"
   },
   {
    "duration": 8,
    "start_time": "2022-08-24T17:01:40.739Z"
   },
   {
    "duration": 8,
    "start_time": "2022-08-24T17:01:59.138Z"
   },
   {
    "duration": 15,
    "start_time": "2022-08-24T17:02:29.363Z"
   },
   {
    "duration": 15,
    "start_time": "2022-08-24T17:03:06.382Z"
   },
   {
    "duration": 22,
    "start_time": "2022-08-24T17:03:30.379Z"
   },
   {
    "duration": 8,
    "start_time": "2022-08-24T17:05:04.032Z"
   },
   {
    "duration": 5,
    "start_time": "2022-08-24T17:05:49.490Z"
   },
   {
    "duration": 18,
    "start_time": "2022-08-24T17:34:38.972Z"
   },
   {
    "duration": 9,
    "start_time": "2022-08-24T17:34:52.666Z"
   },
   {
    "duration": 28,
    "start_time": "2022-08-24T17:35:12.808Z"
   },
   {
    "duration": 25,
    "start_time": "2022-08-24T17:35:18.054Z"
   },
   {
    "duration": 788,
    "start_time": "2022-08-24T17:35:51.515Z"
   },
   {
    "duration": 406,
    "start_time": "2022-08-24T17:35:52.305Z"
   },
   {
    "duration": 37,
    "start_time": "2022-08-24T17:35:52.713Z"
   },
   {
    "duration": 28,
    "start_time": "2022-08-24T17:35:52.752Z"
   },
   {
    "duration": 23,
    "start_time": "2022-08-24T17:35:52.781Z"
   },
   {
    "duration": 15,
    "start_time": "2022-08-24T17:35:52.806Z"
   },
   {
    "duration": 19,
    "start_time": "2022-08-24T17:35:52.823Z"
   },
   {
    "duration": 104,
    "start_time": "2022-08-24T17:35:52.844Z"
   },
   {
    "duration": 6,
    "start_time": "2022-08-24T17:35:52.950Z"
   },
   {
    "duration": 28,
    "start_time": "2022-08-24T17:35:52.959Z"
   },
   {
    "duration": 18,
    "start_time": "2022-08-24T17:35:52.990Z"
   },
   {
    "duration": 12,
    "start_time": "2022-08-24T17:35:53.010Z"
   },
   {
    "duration": 7,
    "start_time": "2022-08-24T17:35:53.023Z"
   },
   {
    "duration": 56,
    "start_time": "2022-08-24T17:35:53.031Z"
   },
   {
    "duration": 58,
    "start_time": "2022-08-24T17:35:53.088Z"
   },
   {
    "duration": 21,
    "start_time": "2022-08-24T17:35:53.147Z"
   },
   {
    "duration": 31,
    "start_time": "2022-08-24T17:35:53.187Z"
   },
   {
    "duration": 27,
    "start_time": "2022-08-24T17:35:53.219Z"
   },
   {
    "duration": 56,
    "start_time": "2022-08-24T17:35:53.247Z"
   },
   {
    "duration": 22,
    "start_time": "2022-08-24T17:35:53.306Z"
   },
   {
    "duration": 13,
    "start_time": "2022-08-24T17:35:53.330Z"
   },
   {
    "duration": 17,
    "start_time": "2022-08-24T17:35:53.345Z"
   },
   {
    "duration": 6,
    "start_time": "2022-08-24T17:35:53.387Z"
   },
   {
    "duration": 802,
    "start_time": "2022-08-24T17:35:53.394Z"
   },
   {
    "duration": 0,
    "start_time": "2022-08-24T17:35:54.199Z"
   },
   {
    "duration": 0,
    "start_time": "2022-08-24T17:35:54.201Z"
   },
   {
    "duration": 0,
    "start_time": "2022-08-24T17:35:54.202Z"
   },
   {
    "duration": 0,
    "start_time": "2022-08-24T17:35:54.203Z"
   },
   {
    "duration": 0,
    "start_time": "2022-08-24T17:35:54.204Z"
   },
   {
    "duration": 0,
    "start_time": "2022-08-24T17:35:54.205Z"
   },
   {
    "duration": 0,
    "start_time": "2022-08-24T17:35:54.206Z"
   },
   {
    "duration": 0,
    "start_time": "2022-08-24T17:35:54.207Z"
   },
   {
    "duration": 0,
    "start_time": "2022-08-24T17:35:54.209Z"
   },
   {
    "duration": 0,
    "start_time": "2022-08-24T17:35:54.210Z"
   },
   {
    "duration": 0,
    "start_time": "2022-08-24T17:35:54.211Z"
   },
   {
    "duration": 0,
    "start_time": "2022-08-24T17:35:54.212Z"
   },
   {
    "duration": 0,
    "start_time": "2022-08-24T17:35:54.213Z"
   },
   {
    "duration": 0,
    "start_time": "2022-08-24T17:35:54.214Z"
   },
   {
    "duration": 0,
    "start_time": "2022-08-24T17:35:54.215Z"
   },
   {
    "duration": 0,
    "start_time": "2022-08-24T17:35:54.216Z"
   },
   {
    "duration": 0,
    "start_time": "2022-08-24T17:35:54.217Z"
   },
   {
    "duration": 0,
    "start_time": "2022-08-24T17:35:54.218Z"
   },
   {
    "duration": 0,
    "start_time": "2022-08-24T17:35:54.220Z"
   },
   {
    "duration": 0,
    "start_time": "2022-08-24T17:35:54.220Z"
   },
   {
    "duration": 862,
    "start_time": "2022-08-24T17:36:47.285Z"
   },
   {
    "duration": 410,
    "start_time": "2022-08-24T17:36:48.149Z"
   },
   {
    "duration": 37,
    "start_time": "2022-08-24T17:36:48.560Z"
   },
   {
    "duration": 26,
    "start_time": "2022-08-24T17:36:48.599Z"
   },
   {
    "duration": 36,
    "start_time": "2022-08-24T17:36:48.626Z"
   },
   {
    "duration": 38,
    "start_time": "2022-08-24T17:36:48.664Z"
   },
   {
    "duration": 24,
    "start_time": "2022-08-24T17:36:48.704Z"
   },
   {
    "duration": 100,
    "start_time": "2022-08-24T17:36:48.729Z"
   },
   {
    "duration": 6,
    "start_time": "2022-08-24T17:36:48.830Z"
   },
   {
    "duration": 11,
    "start_time": "2022-08-24T17:36:48.838Z"
   },
   {
    "duration": 14,
    "start_time": "2022-08-24T17:36:48.850Z"
   },
   {
    "duration": 32,
    "start_time": "2022-08-24T17:36:48.866Z"
   },
   {
    "duration": 6,
    "start_time": "2022-08-24T17:36:48.900Z"
   },
   {
    "duration": 33,
    "start_time": "2022-08-24T17:36:48.908Z"
   },
   {
    "duration": 70,
    "start_time": "2022-08-24T17:36:48.943Z"
   },
   {
    "duration": 20,
    "start_time": "2022-08-24T17:36:49.015Z"
   },
   {
    "duration": 30,
    "start_time": "2022-08-24T17:36:49.037Z"
   },
   {
    "duration": 38,
    "start_time": "2022-08-24T17:36:49.069Z"
   },
   {
    "duration": 30,
    "start_time": "2022-08-24T17:36:49.109Z"
   },
   {
    "duration": 22,
    "start_time": "2022-08-24T17:36:49.141Z"
   },
   {
    "duration": 15,
    "start_time": "2022-08-24T17:36:49.186Z"
   },
   {
    "duration": 18,
    "start_time": "2022-08-24T17:36:49.203Z"
   },
   {
    "duration": 6,
    "start_time": "2022-08-24T17:36:49.223Z"
   },
   {
    "duration": 85,
    "start_time": "2022-08-24T17:36:49.231Z"
   },
   {
    "duration": 20,
    "start_time": "2022-08-24T17:36:49.318Z"
   },
   {
    "duration": 3,
    "start_time": "2022-08-24T17:36:49.340Z"
   },
   {
    "duration": 22,
    "start_time": "2022-08-24T17:36:49.344Z"
   },
   {
    "duration": 20,
    "start_time": "2022-08-24T17:36:49.369Z"
   },
   {
    "duration": 10,
    "start_time": "2022-08-24T17:36:49.390Z"
   },
   {
    "duration": 12,
    "start_time": "2022-08-24T17:36:49.402Z"
   },
   {
    "duration": 7,
    "start_time": "2022-08-24T17:36:49.416Z"
   },
   {
    "duration": 8,
    "start_time": "2022-08-24T17:36:49.424Z"
   },
   {
    "duration": 7,
    "start_time": "2022-08-24T17:36:49.433Z"
   },
   {
    "duration": 7,
    "start_time": "2022-08-24T17:36:49.442Z"
   },
   {
    "duration": 35,
    "start_time": "2022-08-24T17:36:49.451Z"
   },
   {
    "duration": 987,
    "start_time": "2022-08-24T17:36:49.488Z"
   },
   {
    "duration": 0,
    "start_time": "2022-08-24T17:36:50.477Z"
   },
   {
    "duration": 0,
    "start_time": "2022-08-24T17:36:50.479Z"
   },
   {
    "duration": 0,
    "start_time": "2022-08-24T17:36:50.480Z"
   },
   {
    "duration": 0,
    "start_time": "2022-08-24T17:36:50.481Z"
   },
   {
    "duration": 0,
    "start_time": "2022-08-24T17:36:50.482Z"
   },
   {
    "duration": 0,
    "start_time": "2022-08-24T17:36:50.483Z"
   },
   {
    "duration": 0,
    "start_time": "2022-08-24T17:36:50.484Z"
   },
   {
    "duration": 0,
    "start_time": "2022-08-24T17:36:50.485Z"
   },
   {
    "duration": 962,
    "start_time": "2022-08-24T17:37:05.755Z"
   },
   {
    "duration": 422,
    "start_time": "2022-08-24T17:37:06.719Z"
   },
   {
    "duration": 40,
    "start_time": "2022-08-24T17:37:07.143Z"
   },
   {
    "duration": 28,
    "start_time": "2022-08-24T17:37:07.185Z"
   },
   {
    "duration": 36,
    "start_time": "2022-08-24T17:37:07.215Z"
   },
   {
    "duration": 16,
    "start_time": "2022-08-24T17:37:07.253Z"
   },
   {
    "duration": 20,
    "start_time": "2022-08-24T17:37:07.287Z"
   },
   {
    "duration": 99,
    "start_time": "2022-08-24T17:37:07.308Z"
   },
   {
    "duration": 5,
    "start_time": "2022-08-24T17:37:07.409Z"
   },
   {
    "duration": 24,
    "start_time": "2022-08-24T17:37:07.417Z"
   },
   {
    "duration": 18,
    "start_time": "2022-08-24T17:37:07.442Z"
   },
   {
    "duration": 26,
    "start_time": "2022-08-24T17:37:07.462Z"
   },
   {
    "duration": 8,
    "start_time": "2022-08-24T17:37:07.489Z"
   },
   {
    "duration": 39,
    "start_time": "2022-08-24T17:37:07.498Z"
   },
   {
    "duration": 86,
    "start_time": "2022-08-24T17:37:07.539Z"
   },
   {
    "duration": 26,
    "start_time": "2022-08-24T17:37:07.627Z"
   },
   {
    "duration": 54,
    "start_time": "2022-08-24T17:37:07.654Z"
   },
   {
    "duration": 27,
    "start_time": "2022-08-24T17:37:07.710Z"
   },
   {
    "duration": 49,
    "start_time": "2022-08-24T17:37:07.739Z"
   },
   {
    "duration": 24,
    "start_time": "2022-08-24T17:37:07.789Z"
   },
   {
    "duration": 14,
    "start_time": "2022-08-24T17:37:07.815Z"
   },
   {
    "duration": 20,
    "start_time": "2022-08-24T17:37:07.831Z"
   },
   {
    "duration": 6,
    "start_time": "2022-08-24T17:37:07.886Z"
   },
   {
    "duration": 93,
    "start_time": "2022-08-24T17:37:07.894Z"
   },
   {
    "duration": 26,
    "start_time": "2022-08-24T17:37:07.988Z"
   },
   {
    "duration": 4,
    "start_time": "2022-08-24T17:37:08.015Z"
   },
   {
    "duration": 48,
    "start_time": "2022-08-24T17:37:08.021Z"
   },
   {
    "duration": 8,
    "start_time": "2022-08-24T17:37:08.073Z"
   },
   {
    "duration": 14,
    "start_time": "2022-08-24T17:37:08.083Z"
   },
   {
    "duration": 10,
    "start_time": "2022-08-24T17:37:08.098Z"
   },
   {
    "duration": 10,
    "start_time": "2022-08-24T17:37:08.110Z"
   },
   {
    "duration": 8,
    "start_time": "2022-08-24T17:37:08.122Z"
   },
   {
    "duration": 14,
    "start_time": "2022-08-24T17:37:08.131Z"
   },
   {
    "duration": 11,
    "start_time": "2022-08-24T17:37:08.146Z"
   },
   {
    "duration": 17,
    "start_time": "2022-08-24T17:37:08.158Z"
   },
   {
    "duration": 994,
    "start_time": "2022-08-24T17:37:08.177Z"
   },
   {
    "duration": 0,
    "start_time": "2022-08-24T17:37:09.173Z"
   },
   {
    "duration": 0,
    "start_time": "2022-08-24T17:37:09.175Z"
   },
   {
    "duration": 0,
    "start_time": "2022-08-24T17:37:09.176Z"
   },
   {
    "duration": 0,
    "start_time": "2022-08-24T17:37:09.178Z"
   },
   {
    "duration": 0,
    "start_time": "2022-08-24T17:37:09.179Z"
   },
   {
    "duration": 0,
    "start_time": "2022-08-24T17:37:09.180Z"
   },
   {
    "duration": 0,
    "start_time": "2022-08-24T17:37:09.182Z"
   },
   {
    "duration": 0,
    "start_time": "2022-08-24T17:37:09.183Z"
   },
   {
    "duration": 801,
    "start_time": "2022-08-24T17:37:22.115Z"
   },
   {
    "duration": 440,
    "start_time": "2022-08-24T17:37:22.918Z"
   },
   {
    "duration": 39,
    "start_time": "2022-08-24T17:37:23.359Z"
   },
   {
    "duration": 32,
    "start_time": "2022-08-24T17:37:23.401Z"
   },
   {
    "duration": 24,
    "start_time": "2022-08-24T17:37:23.435Z"
   },
   {
    "duration": 38,
    "start_time": "2022-08-24T17:37:23.461Z"
   },
   {
    "duration": 43,
    "start_time": "2022-08-24T17:37:23.500Z"
   },
   {
    "duration": 94,
    "start_time": "2022-08-24T17:37:23.545Z"
   },
   {
    "duration": 6,
    "start_time": "2022-08-24T17:37:23.641Z"
   },
   {
    "duration": 37,
    "start_time": "2022-08-24T17:37:23.649Z"
   },
   {
    "duration": 48,
    "start_time": "2022-08-24T17:37:23.688Z"
   },
   {
    "duration": 40,
    "start_time": "2022-08-24T17:37:23.738Z"
   },
   {
    "duration": 30,
    "start_time": "2022-08-24T17:37:23.780Z"
   },
   {
    "duration": 51,
    "start_time": "2022-08-24T17:37:23.812Z"
   },
   {
    "duration": 61,
    "start_time": "2022-08-24T17:37:23.864Z"
   },
   {
    "duration": 21,
    "start_time": "2022-08-24T17:37:23.926Z"
   },
   {
    "duration": 42,
    "start_time": "2022-08-24T17:37:23.948Z"
   },
   {
    "duration": 28,
    "start_time": "2022-08-24T17:37:23.992Z"
   },
   {
    "duration": 35,
    "start_time": "2022-08-24T17:37:24.022Z"
   },
   {
    "duration": 44,
    "start_time": "2022-08-24T17:37:24.058Z"
   },
   {
    "duration": 14,
    "start_time": "2022-08-24T17:37:24.104Z"
   },
   {
    "duration": 16,
    "start_time": "2022-08-24T17:37:24.120Z"
   },
   {
    "duration": 6,
    "start_time": "2022-08-24T17:37:24.138Z"
   },
   {
    "duration": 91,
    "start_time": "2022-08-24T17:37:24.145Z"
   },
   {
    "duration": 21,
    "start_time": "2022-08-24T17:37:24.238Z"
   },
   {
    "duration": 12,
    "start_time": "2022-08-24T17:37:24.260Z"
   },
   {
    "duration": 35,
    "start_time": "2022-08-24T17:37:24.274Z"
   },
   {
    "duration": 12,
    "start_time": "2022-08-24T17:37:24.313Z"
   },
   {
    "duration": 27,
    "start_time": "2022-08-24T17:37:24.327Z"
   },
   {
    "duration": 17,
    "start_time": "2022-08-24T17:37:24.356Z"
   },
   {
    "duration": 25,
    "start_time": "2022-08-24T17:37:24.375Z"
   },
   {
    "duration": 20,
    "start_time": "2022-08-24T17:37:24.403Z"
   },
   {
    "duration": 16,
    "start_time": "2022-08-24T17:37:24.425Z"
   },
   {
    "duration": 27,
    "start_time": "2022-08-24T17:37:24.443Z"
   },
   {
    "duration": 43,
    "start_time": "2022-08-24T17:37:24.472Z"
   },
   {
    "duration": 14,
    "start_time": "2022-08-24T17:37:24.518Z"
   },
   {
    "duration": 29,
    "start_time": "2022-08-24T17:37:24.533Z"
   },
   {
    "duration": 43,
    "start_time": "2022-08-24T17:37:24.564Z"
   },
   {
    "duration": 38,
    "start_time": "2022-08-24T17:37:24.609Z"
   },
   {
    "duration": 86,
    "start_time": "2022-08-24T17:37:24.649Z"
   },
   {
    "duration": 0,
    "start_time": "2022-08-24T17:37:24.737Z"
   },
   {
    "duration": 0,
    "start_time": "2022-08-24T17:37:24.739Z"
   },
   {
    "duration": 0,
    "start_time": "2022-08-24T17:37:24.740Z"
   },
   {
    "duration": 0,
    "start_time": "2022-08-24T17:37:24.741Z"
   },
   {
    "duration": 770,
    "start_time": "2022-08-24T17:38:47.836Z"
   },
   {
    "duration": 410,
    "start_time": "2022-08-24T17:38:48.608Z"
   },
   {
    "duration": 36,
    "start_time": "2022-08-24T17:38:49.019Z"
   },
   {
    "duration": 41,
    "start_time": "2022-08-24T17:38:49.057Z"
   },
   {
    "duration": 27,
    "start_time": "2022-08-24T17:38:49.100Z"
   },
   {
    "duration": 20,
    "start_time": "2022-08-24T17:38:49.128Z"
   },
   {
    "duration": 46,
    "start_time": "2022-08-24T17:38:49.150Z"
   },
   {
    "duration": 104,
    "start_time": "2022-08-24T17:38:49.198Z"
   },
   {
    "duration": 6,
    "start_time": "2022-08-24T17:38:49.304Z"
   },
   {
    "duration": 11,
    "start_time": "2022-08-24T17:38:49.312Z"
   },
   {
    "duration": 16,
    "start_time": "2022-08-24T17:38:49.325Z"
   },
   {
    "duration": 13,
    "start_time": "2022-08-24T17:38:49.342Z"
   },
   {
    "duration": 7,
    "start_time": "2022-08-24T17:38:49.386Z"
   },
   {
    "duration": 37,
    "start_time": "2022-08-24T17:38:49.394Z"
   },
   {
    "duration": 76,
    "start_time": "2022-08-24T17:38:49.432Z"
   },
   {
    "duration": 21,
    "start_time": "2022-08-24T17:38:49.509Z"
   },
   {
    "duration": 32,
    "start_time": "2022-08-24T17:38:49.531Z"
   },
   {
    "duration": 43,
    "start_time": "2022-08-24T17:38:49.564Z"
   },
   {
    "duration": 29,
    "start_time": "2022-08-24T17:38:49.609Z"
   },
   {
    "duration": 48,
    "start_time": "2022-08-24T17:38:49.640Z"
   },
   {
    "duration": 15,
    "start_time": "2022-08-24T17:38:49.690Z"
   },
   {
    "duration": 20,
    "start_time": "2022-08-24T17:38:49.706Z"
   },
   {
    "duration": 6,
    "start_time": "2022-08-24T17:38:49.727Z"
   },
   {
    "duration": 89,
    "start_time": "2022-08-24T17:38:49.734Z"
   },
   {
    "duration": 20,
    "start_time": "2022-08-24T17:38:49.825Z"
   },
   {
    "duration": 2,
    "start_time": "2022-08-24T17:38:49.847Z"
   },
   {
    "duration": 16,
    "start_time": "2022-08-24T17:38:49.851Z"
   },
   {
    "duration": 4,
    "start_time": "2022-08-24T17:38:49.889Z"
   },
   {
    "duration": 9,
    "start_time": "2022-08-24T17:38:49.894Z"
   },
   {
    "duration": 7,
    "start_time": "2022-08-24T17:38:49.904Z"
   },
   {
    "duration": 8,
    "start_time": "2022-08-24T17:38:49.912Z"
   },
   {
    "duration": 8,
    "start_time": "2022-08-24T17:38:49.921Z"
   },
   {
    "duration": 7,
    "start_time": "2022-08-24T17:38:49.931Z"
   },
   {
    "duration": 9,
    "start_time": "2022-08-24T17:38:49.939Z"
   },
   {
    "duration": 40,
    "start_time": "2022-08-24T17:38:49.949Z"
   },
   {
    "duration": 7,
    "start_time": "2022-08-24T17:38:49.991Z"
   },
   {
    "duration": 5,
    "start_time": "2022-08-24T17:38:50.000Z"
   },
   {
    "duration": 24,
    "start_time": "2022-08-24T17:38:50.006Z"
   },
   {
    "duration": 27,
    "start_time": "2022-08-24T17:38:50.032Z"
   },
   {
    "duration": 34,
    "start_time": "2022-08-24T17:38:50.060Z"
   },
   {
    "duration": 11,
    "start_time": "2022-08-24T17:38:50.096Z"
   },
   {
    "duration": 25,
    "start_time": "2022-08-24T17:38:50.109Z"
   },
   {
    "duration": 5,
    "start_time": "2022-08-24T17:38:50.136Z"
   },
   {
    "duration": 12,
    "start_time": "2022-08-24T17:38:50.143Z"
   },
   {
    "duration": 6,
    "start_time": "2022-08-24T17:46:35.646Z"
   },
   {
    "duration": 59,
    "start_time": "2022-08-24T17:46:41.363Z"
   },
   {
    "duration": 6,
    "start_time": "2022-08-24T18:25:19.877Z"
   },
   {
    "duration": 8,
    "start_time": "2022-08-24T18:29:54.466Z"
   },
   {
    "duration": 4,
    "start_time": "2022-08-24T18:41:01.074Z"
   },
   {
    "duration": 808,
    "start_time": "2022-08-24T20:15:33.878Z"
   },
   {
    "duration": 902,
    "start_time": "2022-08-24T20:15:34.688Z"
   },
   {
    "duration": 34,
    "start_time": "2022-08-24T20:15:35.592Z"
   },
   {
    "duration": 26,
    "start_time": "2022-08-24T20:15:35.628Z"
   },
   {
    "duration": 21,
    "start_time": "2022-08-24T20:15:35.656Z"
   },
   {
    "duration": 35,
    "start_time": "2022-08-24T20:15:35.678Z"
   },
   {
    "duration": 16,
    "start_time": "2022-08-24T20:15:35.714Z"
   },
   {
    "duration": 99,
    "start_time": "2022-08-24T20:15:35.732Z"
   },
   {
    "duration": 5,
    "start_time": "2022-08-24T20:15:35.833Z"
   },
   {
    "duration": 11,
    "start_time": "2022-08-24T20:15:35.839Z"
   },
   {
    "duration": 17,
    "start_time": "2022-08-24T20:15:35.852Z"
   },
   {
    "duration": 12,
    "start_time": "2022-08-24T20:15:35.871Z"
   },
   {
    "duration": 32,
    "start_time": "2022-08-24T20:15:35.885Z"
   },
   {
    "duration": 23,
    "start_time": "2022-08-24T20:15:35.920Z"
   },
   {
    "duration": 72,
    "start_time": "2022-08-24T20:15:35.944Z"
   },
   {
    "duration": 17,
    "start_time": "2022-08-24T20:15:36.018Z"
   },
   {
    "duration": 30,
    "start_time": "2022-08-24T20:15:36.036Z"
   },
   {
    "duration": 19,
    "start_time": "2022-08-24T20:15:36.068Z"
   },
   {
    "duration": 29,
    "start_time": "2022-08-24T20:15:36.111Z"
   },
   {
    "duration": 21,
    "start_time": "2022-08-24T20:15:36.142Z"
   },
   {
    "duration": 12,
    "start_time": "2022-08-24T20:15:36.165Z"
   },
   {
    "duration": 44,
    "start_time": "2022-08-24T20:15:36.178Z"
   },
   {
    "duration": 6,
    "start_time": "2022-08-24T20:15:36.223Z"
   },
   {
    "duration": 66,
    "start_time": "2022-08-24T20:15:36.230Z"
   },
   {
    "duration": 29,
    "start_time": "2022-08-24T20:15:36.298Z"
   },
   {
    "duration": 3,
    "start_time": "2022-08-24T20:15:36.329Z"
   },
   {
    "duration": 19,
    "start_time": "2022-08-24T20:15:36.333Z"
   },
   {
    "duration": 5,
    "start_time": "2022-08-24T20:15:36.353Z"
   },
   {
    "duration": 8,
    "start_time": "2022-08-24T20:15:36.359Z"
   },
   {
    "duration": 6,
    "start_time": "2022-08-24T20:15:36.369Z"
   },
   {
    "duration": 7,
    "start_time": "2022-08-24T20:15:36.376Z"
   },
   {
    "duration": 27,
    "start_time": "2022-08-24T20:15:36.384Z"
   },
   {
    "duration": 6,
    "start_time": "2022-08-24T20:15:36.413Z"
   },
   {
    "duration": 6,
    "start_time": "2022-08-24T20:15:36.421Z"
   },
   {
    "duration": 15,
    "start_time": "2022-08-24T20:15:36.428Z"
   },
   {
    "duration": 6,
    "start_time": "2022-08-24T20:15:36.444Z"
   },
   {
    "duration": 7,
    "start_time": "2022-08-24T20:15:36.451Z"
   },
   {
    "duration": 10,
    "start_time": "2022-08-24T20:15:36.459Z"
   },
   {
    "duration": 45,
    "start_time": "2022-08-24T20:15:36.471Z"
   },
   {
    "duration": 13,
    "start_time": "2022-08-24T20:15:36.518Z"
   },
   {
    "duration": 10,
    "start_time": "2022-08-24T20:15:36.534Z"
   },
   {
    "duration": 21,
    "start_time": "2022-08-24T20:15:36.546Z"
   },
   {
    "duration": 4,
    "start_time": "2022-08-24T20:15:36.569Z"
   },
   {
    "duration": 4,
    "start_time": "2022-08-24T20:15:36.575Z"
   },
   {
    "duration": 832,
    "start_time": "2022-08-24T20:17:04.589Z"
   },
   {
    "duration": 612,
    "start_time": "2022-08-24T20:17:05.423Z"
   },
   {
    "duration": 75,
    "start_time": "2022-08-24T20:17:06.037Z"
   },
   {
    "duration": 27,
    "start_time": "2022-08-24T20:17:06.114Z"
   },
   {
    "duration": 72,
    "start_time": "2022-08-24T20:17:06.143Z"
   },
   {
    "duration": 15,
    "start_time": "2022-08-24T20:17:06.216Z"
   },
   {
    "duration": 17,
    "start_time": "2022-08-24T20:17:06.232Z"
   },
   {
    "duration": 184,
    "start_time": "2022-08-24T20:17:06.251Z"
   },
   {
    "duration": 5,
    "start_time": "2022-08-24T20:17:06.437Z"
   },
   {
    "duration": 75,
    "start_time": "2022-08-24T20:17:06.443Z"
   },
   {
    "duration": 15,
    "start_time": "2022-08-24T20:17:06.519Z"
   },
   {
    "duration": 76,
    "start_time": "2022-08-24T20:17:06.535Z"
   },
   {
    "duration": 7,
    "start_time": "2022-08-24T20:17:06.613Z"
   },
   {
    "duration": 35,
    "start_time": "2022-08-24T20:17:06.623Z"
   },
   {
    "duration": 159,
    "start_time": "2022-08-24T20:17:06.660Z"
   },
   {
    "duration": 16,
    "start_time": "2022-08-24T20:17:06.821Z"
   },
   {
    "duration": 85,
    "start_time": "2022-08-24T20:17:06.838Z"
   },
   {
    "duration": 20,
    "start_time": "2022-08-24T20:17:06.924Z"
   },
   {
    "duration": 82,
    "start_time": "2022-08-24T20:17:06.946Z"
   },
   {
    "duration": 22,
    "start_time": "2022-08-24T20:17:07.030Z"
   },
   {
    "duration": 69,
    "start_time": "2022-08-24T20:17:07.054Z"
   },
   {
    "duration": 17,
    "start_time": "2022-08-24T20:17:07.124Z"
   },
   {
    "duration": 10,
    "start_time": "2022-08-24T20:17:07.142Z"
   },
   {
    "duration": 7,
    "start_time": "2022-08-24T20:17:07.210Z"
   },
   {
    "duration": 65,
    "start_time": "2022-08-24T20:17:07.218Z"
   },
   {
    "duration": 43,
    "start_time": "2022-08-24T20:17:07.284Z"
   },
   {
    "duration": 2,
    "start_time": "2022-08-24T20:17:07.329Z"
   },
   {
    "duration": 18,
    "start_time": "2022-08-24T20:17:07.332Z"
   },
   {
    "duration": 6,
    "start_time": "2022-08-24T20:17:07.351Z"
   },
   {
    "duration": 7,
    "start_time": "2022-08-24T20:17:07.359Z"
   },
   {
    "duration": 18,
    "start_time": "2022-08-24T20:17:07.367Z"
   },
   {
    "duration": 8,
    "start_time": "2022-08-24T20:17:07.386Z"
   },
   {
    "duration": 16,
    "start_time": "2022-08-24T20:17:07.395Z"
   },
   {
    "duration": 10,
    "start_time": "2022-08-24T20:17:07.413Z"
   },
   {
    "duration": 10,
    "start_time": "2022-08-24T20:17:07.425Z"
   },
   {
    "duration": 19,
    "start_time": "2022-08-24T20:17:07.436Z"
   },
   {
    "duration": 7,
    "start_time": "2022-08-24T20:17:07.456Z"
   },
   {
    "duration": 23,
    "start_time": "2022-08-24T20:17:07.465Z"
   },
   {
    "duration": 13,
    "start_time": "2022-08-24T20:17:07.490Z"
   },
   {
    "duration": 21,
    "start_time": "2022-08-24T20:17:07.510Z"
   },
   {
    "duration": 12,
    "start_time": "2022-08-24T20:17:07.535Z"
   },
   {
    "duration": 11,
    "start_time": "2022-08-24T20:17:07.548Z"
   },
   {
    "duration": 21,
    "start_time": "2022-08-24T20:17:07.560Z"
   },
   {
    "duration": 32,
    "start_time": "2022-08-24T20:17:07.582Z"
   },
   {
    "duration": 9,
    "start_time": "2022-08-24T20:17:07.615Z"
   },
   {
    "duration": 4,
    "start_time": "2022-08-24T20:17:45.454Z"
   },
   {
    "duration": 11,
    "start_time": "2022-08-24T20:18:07.951Z"
   },
   {
    "duration": 3,
    "start_time": "2022-08-24T20:19:03.113Z"
   },
   {
    "duration": 4,
    "start_time": "2022-08-24T20:19:07.073Z"
   },
   {
    "duration": 4,
    "start_time": "2022-08-24T20:19:09.880Z"
   },
   {
    "duration": 4,
    "start_time": "2022-08-24T20:19:12.323Z"
   },
   {
    "duration": 4,
    "start_time": "2022-08-24T20:19:14.569Z"
   },
   {
    "duration": 4,
    "start_time": "2022-08-24T20:19:18.480Z"
   },
   {
    "duration": 4,
    "start_time": "2022-08-24T20:19:27.338Z"
   },
   {
    "duration": 5,
    "start_time": "2022-08-24T20:19:30.115Z"
   },
   {
    "duration": 3,
    "start_time": "2022-08-24T20:19:37.325Z"
   },
   {
    "duration": 6,
    "start_time": "2022-08-24T20:19:41.779Z"
   },
   {
    "duration": 3,
    "start_time": "2022-08-24T20:19:54.587Z"
   },
   {
    "duration": 4,
    "start_time": "2022-08-24T20:19:57.259Z"
   },
   {
    "duration": 4,
    "start_time": "2022-08-24T20:19:59.625Z"
   },
   {
    "duration": 3,
    "start_time": "2022-08-24T20:20:02.043Z"
   },
   {
    "duration": 3,
    "start_time": "2022-08-24T20:20:14.017Z"
   },
   {
    "duration": 4,
    "start_time": "2022-08-24T20:20:18.290Z"
   },
   {
    "duration": 5,
    "start_time": "2022-08-24T20:33:01.544Z"
   },
   {
    "duration": 789,
    "start_time": "2022-08-24T20:35:57.930Z"
   },
   {
    "duration": 379,
    "start_time": "2022-08-24T20:35:58.721Z"
   },
   {
    "duration": 35,
    "start_time": "2022-08-24T20:35:59.102Z"
   },
   {
    "duration": 24,
    "start_time": "2022-08-24T20:35:59.139Z"
   },
   {
    "duration": 21,
    "start_time": "2022-08-24T20:35:59.165Z"
   },
   {
    "duration": 31,
    "start_time": "2022-08-24T20:35:59.187Z"
   },
   {
    "duration": 16,
    "start_time": "2022-08-24T20:35:59.220Z"
   },
   {
    "duration": 95,
    "start_time": "2022-08-24T20:35:59.237Z"
   },
   {
    "duration": 5,
    "start_time": "2022-08-24T20:35:59.334Z"
   },
   {
    "duration": 9,
    "start_time": "2022-08-24T20:35:59.342Z"
   },
   {
    "duration": 17,
    "start_time": "2022-08-24T20:35:59.352Z"
   },
   {
    "duration": 13,
    "start_time": "2022-08-24T20:35:59.370Z"
   },
   {
    "duration": 29,
    "start_time": "2022-08-24T20:35:59.385Z"
   },
   {
    "duration": 27,
    "start_time": "2022-08-24T20:35:59.416Z"
   },
   {
    "duration": 68,
    "start_time": "2022-08-24T20:35:59.445Z"
   },
   {
    "duration": 17,
    "start_time": "2022-08-24T20:35:59.515Z"
   },
   {
    "duration": 31,
    "start_time": "2022-08-24T20:35:59.534Z"
   },
   {
    "duration": 45,
    "start_time": "2022-08-24T20:35:59.567Z"
   },
   {
    "duration": 30,
    "start_time": "2022-08-24T20:35:59.614Z"
   },
   {
    "duration": 24,
    "start_time": "2022-08-24T20:35:59.646Z"
   },
   {
    "duration": 13,
    "start_time": "2022-08-24T20:35:59.672Z"
   },
   {
    "duration": 17,
    "start_time": "2022-08-24T20:35:59.711Z"
   },
   {
    "duration": 9,
    "start_time": "2022-08-24T20:35:59.730Z"
   },
   {
    "duration": 6,
    "start_time": "2022-08-24T20:35:59.741Z"
   },
   {
    "duration": 82,
    "start_time": "2022-08-24T20:35:59.749Z"
   },
   {
    "duration": 4,
    "start_time": "2022-08-24T20:35:59.833Z"
   },
   {
    "duration": 15,
    "start_time": "2022-08-24T20:35:59.839Z"
   },
   {
    "duration": 19,
    "start_time": "2022-08-24T20:35:59.858Z"
   },
   {
    "duration": 3,
    "start_time": "2022-08-24T20:35:59.879Z"
   },
   {
    "duration": 38,
    "start_time": "2022-08-24T20:35:59.884Z"
   },
   {
    "duration": 3,
    "start_time": "2022-08-24T20:35:59.924Z"
   },
   {
    "duration": 7,
    "start_time": "2022-08-24T20:35:59.929Z"
   },
   {
    "duration": 6,
    "start_time": "2022-08-24T20:35:59.938Z"
   },
   {
    "duration": 7,
    "start_time": "2022-08-24T20:35:59.946Z"
   },
   {
    "duration": 6,
    "start_time": "2022-08-24T20:35:59.954Z"
   },
   {
    "duration": 6,
    "start_time": "2022-08-24T20:35:59.962Z"
   },
   {
    "duration": 45,
    "start_time": "2022-08-24T20:35:59.970Z"
   },
   {
    "duration": 26,
    "start_time": "2022-08-24T20:36:00.017Z"
   },
   {
    "duration": 14,
    "start_time": "2022-08-24T20:36:00.045Z"
   },
   {
    "duration": 8,
    "start_time": "2022-08-24T20:36:00.061Z"
   },
   {
    "duration": 18,
    "start_time": "2022-08-24T20:36:00.071Z"
   },
   {
    "duration": 22,
    "start_time": "2022-08-24T20:36:00.091Z"
   },
   {
    "duration": 14,
    "start_time": "2022-08-24T20:36:00.114Z"
   },
   {
    "duration": 10,
    "start_time": "2022-08-24T20:36:00.130Z"
   },
   {
    "duration": 22,
    "start_time": "2022-08-24T20:36:00.142Z"
   },
   {
    "duration": 6,
    "start_time": "2022-08-24T20:36:00.165Z"
   },
   {
    "duration": 60,
    "start_time": "2022-08-24T20:36:00.173Z"
   },
   {
    "duration": 17,
    "start_time": "2022-08-24T20:36:00.235Z"
   },
   {
    "duration": 52,
    "start_time": "2022-08-25T16:42:53.011Z"
   },
   {
    "duration": 3,
    "start_time": "2022-08-25T16:43:26.121Z"
   },
   {
    "duration": 8,
    "start_time": "2022-08-25T16:44:18.036Z"
   },
   {
    "duration": 937,
    "start_time": "2022-08-25T16:44:36.099Z"
   },
   {
    "duration": 1073,
    "start_time": "2022-08-25T16:44:37.043Z"
   },
   {
    "duration": 39,
    "start_time": "2022-08-25T16:44:38.118Z"
   },
   {
    "duration": 34,
    "start_time": "2022-08-25T16:44:38.159Z"
   },
   {
    "duration": 25,
    "start_time": "2022-08-25T16:44:38.194Z"
   },
   {
    "duration": 22,
    "start_time": "2022-08-25T16:44:38.221Z"
   },
   {
    "duration": 26,
    "start_time": "2022-08-25T16:44:38.245Z"
   },
   {
    "duration": 84,
    "start_time": "2022-08-25T16:44:38.287Z"
   },
   {
    "duration": 13,
    "start_time": "2022-08-25T16:44:38.373Z"
   },
   {
    "duration": 22,
    "start_time": "2022-08-25T16:44:38.391Z"
   },
   {
    "duration": 34,
    "start_time": "2022-08-25T16:44:38.415Z"
   },
   {
    "duration": 24,
    "start_time": "2022-08-25T16:44:38.451Z"
   },
   {
    "duration": 38,
    "start_time": "2022-08-25T16:44:38.477Z"
   },
   {
    "duration": 44,
    "start_time": "2022-08-25T16:44:38.518Z"
   },
   {
    "duration": 63,
    "start_time": "2022-08-25T16:44:38.564Z"
   },
   {
    "duration": 20,
    "start_time": "2022-08-25T16:44:38.629Z"
   },
   {
    "duration": 55,
    "start_time": "2022-08-25T16:44:38.650Z"
   },
   {
    "duration": 34,
    "start_time": "2022-08-25T16:44:38.707Z"
   },
   {
    "duration": 37,
    "start_time": "2022-08-25T16:44:38.743Z"
   },
   {
    "duration": 35,
    "start_time": "2022-08-25T16:44:38.782Z"
   },
   {
    "duration": 27,
    "start_time": "2022-08-25T16:44:38.819Z"
   },
   {
    "duration": 21,
    "start_time": "2022-08-25T16:44:38.847Z"
   },
   {
    "duration": 41,
    "start_time": "2022-08-25T16:44:38.870Z"
   },
   {
    "duration": 27,
    "start_time": "2022-08-25T16:44:38.913Z"
   },
   {
    "duration": 96,
    "start_time": "2022-08-25T16:44:38.941Z"
   },
   {
    "duration": 5,
    "start_time": "2022-08-25T16:44:39.039Z"
   },
   {
    "duration": 40,
    "start_time": "2022-08-25T16:44:39.045Z"
   },
   {
    "duration": 45,
    "start_time": "2022-08-25T16:44:39.089Z"
   },
   {
    "duration": 383,
    "start_time": "2022-08-25T16:44:39.136Z"
   },
   {
    "duration": 0,
    "start_time": "2022-08-25T16:44:39.521Z"
   },
   {
    "duration": 0,
    "start_time": "2022-08-25T16:44:39.522Z"
   },
   {
    "duration": 0,
    "start_time": "2022-08-25T16:44:39.523Z"
   },
   {
    "duration": 0,
    "start_time": "2022-08-25T16:44:39.524Z"
   },
   {
    "duration": 0,
    "start_time": "2022-08-25T16:44:39.525Z"
   },
   {
    "duration": 0,
    "start_time": "2022-08-25T16:44:39.526Z"
   },
   {
    "duration": 1,
    "start_time": "2022-08-25T16:44:39.526Z"
   },
   {
    "duration": 0,
    "start_time": "2022-08-25T16:44:39.527Z"
   },
   {
    "duration": 0,
    "start_time": "2022-08-25T16:44:39.528Z"
   },
   {
    "duration": 1,
    "start_time": "2022-08-25T16:44:39.529Z"
   },
   {
    "duration": 0,
    "start_time": "2022-08-25T16:44:39.531Z"
   },
   {
    "duration": 0,
    "start_time": "2022-08-25T16:44:39.532Z"
   },
   {
    "duration": 0,
    "start_time": "2022-08-25T16:44:39.533Z"
   },
   {
    "duration": 0,
    "start_time": "2022-08-25T16:44:39.534Z"
   },
   {
    "duration": 0,
    "start_time": "2022-08-25T16:44:39.535Z"
   },
   {
    "duration": 0,
    "start_time": "2022-08-25T16:44:39.536Z"
   },
   {
    "duration": 0,
    "start_time": "2022-08-25T16:44:39.537Z"
   },
   {
    "duration": 0,
    "start_time": "2022-08-25T16:44:39.538Z"
   },
   {
    "duration": 0,
    "start_time": "2022-08-25T16:44:39.540Z"
   },
   {
    "duration": 0,
    "start_time": "2022-08-25T16:44:39.541Z"
   },
   {
    "duration": 0,
    "start_time": "2022-08-25T16:44:39.542Z"
   },
   {
    "duration": 299,
    "start_time": "2022-08-25T16:45:27.903Z"
   },
   {
    "duration": 316,
    "start_time": "2022-08-25T16:45:41.526Z"
   },
   {
    "duration": 20,
    "start_time": "2022-08-25T16:46:05.037Z"
   },
   {
    "duration": 2,
    "start_time": "2022-08-25T16:46:07.608Z"
   },
   {
    "duration": 22,
    "start_time": "2022-08-25T16:46:08.394Z"
   },
   {
    "duration": 776,
    "start_time": "2022-08-25T16:46:34.618Z"
   },
   {
    "duration": 415,
    "start_time": "2022-08-25T16:46:35.397Z"
   },
   {
    "duration": 38,
    "start_time": "2022-08-25T16:46:35.813Z"
   },
   {
    "duration": 27,
    "start_time": "2022-08-25T16:46:35.853Z"
   },
   {
    "duration": 31,
    "start_time": "2022-08-25T16:46:35.882Z"
   },
   {
    "duration": 15,
    "start_time": "2022-08-25T16:46:35.914Z"
   },
   {
    "duration": 22,
    "start_time": "2022-08-25T16:46:35.930Z"
   },
   {
    "duration": 121,
    "start_time": "2022-08-25T16:46:35.953Z"
   },
   {
    "duration": 18,
    "start_time": "2022-08-25T16:46:36.077Z"
   },
   {
    "duration": 19,
    "start_time": "2022-08-25T16:46:36.101Z"
   },
   {
    "duration": 14,
    "start_time": "2022-08-25T16:46:36.122Z"
   },
   {
    "duration": 12,
    "start_time": "2022-08-25T16:46:36.137Z"
   },
   {
    "duration": 7,
    "start_time": "2022-08-25T16:46:36.151Z"
   },
   {
    "duration": 60,
    "start_time": "2022-08-25T16:46:36.159Z"
   },
   {
    "duration": 68,
    "start_time": "2022-08-25T16:46:36.221Z"
   },
   {
    "duration": 29,
    "start_time": "2022-08-25T16:46:36.294Z"
   },
   {
    "duration": 49,
    "start_time": "2022-08-25T16:46:36.325Z"
   },
   {
    "duration": 42,
    "start_time": "2022-08-25T16:46:36.376Z"
   },
   {
    "duration": 43,
    "start_time": "2022-08-25T16:46:36.419Z"
   },
   {
    "duration": 47,
    "start_time": "2022-08-25T16:46:36.464Z"
   },
   {
    "duration": 20,
    "start_time": "2022-08-25T16:46:36.513Z"
   },
   {
    "duration": 25,
    "start_time": "2022-08-25T16:46:36.535Z"
   },
   {
    "duration": 39,
    "start_time": "2022-08-25T16:46:36.562Z"
   },
   {
    "duration": 16,
    "start_time": "2022-08-25T16:46:36.604Z"
   },
   {
    "duration": 181,
    "start_time": "2022-08-25T16:46:36.622Z"
   },
   {
    "duration": 6,
    "start_time": "2022-08-25T16:46:36.804Z"
   },
   {
    "duration": 19,
    "start_time": "2022-08-25T16:46:36.812Z"
   },
   {
    "duration": 72,
    "start_time": "2022-08-25T16:46:36.834Z"
   },
   {
    "duration": 5,
    "start_time": "2022-08-25T16:46:36.908Z"
   },
   {
    "duration": 16,
    "start_time": "2022-08-25T16:46:36.914Z"
   },
   {
    "duration": 59,
    "start_time": "2022-08-25T16:46:36.931Z"
   },
   {
    "duration": 20,
    "start_time": "2022-08-25T16:46:36.994Z"
   },
   {
    "duration": 8,
    "start_time": "2022-08-25T16:46:37.015Z"
   },
   {
    "duration": 10,
    "start_time": "2022-08-25T16:46:37.024Z"
   },
   {
    "duration": 9,
    "start_time": "2022-08-25T16:46:37.035Z"
   },
   {
    "duration": 13,
    "start_time": "2022-08-25T16:46:37.088Z"
   },
   {
    "duration": 12,
    "start_time": "2022-08-25T16:46:37.102Z"
   },
   {
    "duration": 25,
    "start_time": "2022-08-25T16:46:37.116Z"
   },
   {
    "duration": 26,
    "start_time": "2022-08-25T16:46:37.188Z"
   },
   {
    "duration": 7,
    "start_time": "2022-08-25T16:46:37.215Z"
   },
   {
    "duration": 18,
    "start_time": "2022-08-25T16:46:37.223Z"
   },
   {
    "duration": 72,
    "start_time": "2022-08-25T16:46:37.243Z"
   },
   {
    "duration": 13,
    "start_time": "2022-08-25T16:46:37.317Z"
   },
   {
    "duration": 68,
    "start_time": "2022-08-25T16:46:37.332Z"
   },
   {
    "duration": 36,
    "start_time": "2022-08-25T16:46:37.401Z"
   },
   {
    "duration": 14,
    "start_time": "2022-08-25T16:46:37.487Z"
   },
   {
    "duration": 11,
    "start_time": "2022-08-25T16:46:37.503Z"
   },
   {
    "duration": 7,
    "start_time": "2022-08-25T16:46:37.516Z"
   },
   {
    "duration": 3,
    "start_time": "2022-08-25T16:46:55.324Z"
   },
   {
    "duration": 95,
    "start_time": "2022-08-25T16:47:37.631Z"
   },
   {
    "duration": 7,
    "start_time": "2022-08-25T16:47:55.487Z"
   },
   {
    "duration": 17,
    "start_time": "2022-08-25T16:47:56.121Z"
   },
   {
    "duration": 3,
    "start_time": "2022-08-25T16:49:25.352Z"
   },
   {
    "duration": 16,
    "start_time": "2022-08-25T16:49:25.742Z"
   },
   {
    "duration": 24,
    "start_time": "2022-08-25T16:50:22.686Z"
   },
   {
    "duration": 3,
    "start_time": "2022-08-25T16:50:26.531Z"
   },
   {
    "duration": 3,
    "start_time": "2022-08-25T16:50:38.615Z"
   },
   {
    "duration": 15,
    "start_time": "2022-08-25T16:50:39.049Z"
   },
   {
    "duration": 2,
    "start_time": "2022-08-25T16:51:24.969Z"
   },
   {
    "duration": 17,
    "start_time": "2022-08-25T16:51:25.428Z"
   },
   {
    "duration": 3,
    "start_time": "2022-08-25T16:51:58.965Z"
   },
   {
    "duration": 15,
    "start_time": "2022-08-25T16:51:59.434Z"
   },
   {
    "duration": 3,
    "start_time": "2022-08-25T17:13:13.899Z"
   },
   {
    "duration": 25,
    "start_time": "2022-08-25T17:13:14.323Z"
   },
   {
    "duration": 49,
    "start_time": "2022-08-26T17:01:02.169Z"
   },
   {
    "duration": 906,
    "start_time": "2022-08-26T17:01:08.609Z"
   },
   {
    "duration": 936,
    "start_time": "2022-08-26T17:01:09.517Z"
   },
   {
    "duration": 32,
    "start_time": "2022-08-26T17:01:10.455Z"
   },
   {
    "duration": 22,
    "start_time": "2022-08-26T17:01:10.489Z"
   },
   {
    "duration": 564,
    "start_time": "2022-08-26T17:01:10.513Z"
   },
   {
    "duration": 39,
    "start_time": "2022-08-26T17:01:11.088Z"
   },
   {
    "duration": 17,
    "start_time": "2022-08-26T17:01:11.129Z"
   },
   {
    "duration": 48,
    "start_time": "2022-08-26T17:01:11.147Z"
   },
   {
    "duration": 94,
    "start_time": "2022-08-26T17:01:11.197Z"
   },
   {
    "duration": 6,
    "start_time": "2022-08-26T17:01:11.293Z"
   },
   {
    "duration": 14,
    "start_time": "2022-08-26T17:01:11.301Z"
   },
   {
    "duration": 21,
    "start_time": "2022-08-26T17:01:11.317Z"
   },
   {
    "duration": 13,
    "start_time": "2022-08-26T17:01:11.340Z"
   },
   {
    "duration": 32,
    "start_time": "2022-08-26T17:01:11.355Z"
   },
   {
    "duration": 37,
    "start_time": "2022-08-26T17:01:11.388Z"
   },
   {
    "duration": 66,
    "start_time": "2022-08-26T17:01:11.427Z"
   },
   {
    "duration": 21,
    "start_time": "2022-08-26T17:01:11.495Z"
   },
   {
    "duration": 28,
    "start_time": "2022-08-26T17:01:11.518Z"
   },
   {
    "duration": 48,
    "start_time": "2022-08-26T17:01:11.548Z"
   },
   {
    "duration": 30,
    "start_time": "2022-08-26T17:01:11.597Z"
   },
   {
    "duration": 24,
    "start_time": "2022-08-26T17:01:11.628Z"
   },
   {
    "duration": 39,
    "start_time": "2022-08-26T17:01:11.654Z"
   },
   {
    "duration": 19,
    "start_time": "2022-08-26T17:01:11.694Z"
   },
   {
    "duration": 11,
    "start_time": "2022-08-26T17:01:11.715Z"
   },
   {
    "duration": 7,
    "start_time": "2022-08-26T17:01:11.728Z"
   },
   {
    "duration": 87,
    "start_time": "2022-08-26T17:01:11.737Z"
   },
   {
    "duration": 3,
    "start_time": "2022-08-26T17:01:11.826Z"
   },
   {
    "duration": 13,
    "start_time": "2022-08-26T17:01:11.833Z"
   },
   {
    "duration": 3,
    "start_time": "2022-08-26T17:01:11.848Z"
   },
   {
    "duration": 46,
    "start_time": "2022-08-26T17:01:11.853Z"
   },
   {
    "duration": 2,
    "start_time": "2022-08-26T17:01:11.901Z"
   },
   {
    "duration": 18,
    "start_time": "2022-08-26T17:01:11.904Z"
   },
   {
    "duration": 2,
    "start_time": "2022-08-26T17:01:11.923Z"
   },
   {
    "duration": 20,
    "start_time": "2022-08-26T17:01:11.927Z"
   },
   {
    "duration": 3,
    "start_time": "2022-08-26T17:01:11.950Z"
   },
   {
    "duration": 49,
    "start_time": "2022-08-26T17:01:11.955Z"
   },
   {
    "duration": 25,
    "start_time": "2022-08-26T17:01:12.006Z"
   },
   {
    "duration": 2,
    "start_time": "2022-08-26T17:01:12.033Z"
   },
   {
    "duration": 16,
    "start_time": "2022-08-26T17:01:12.037Z"
   },
   {
    "duration": 30,
    "start_time": "2022-08-26T17:01:12.055Z"
   },
   {
    "duration": 7,
    "start_time": "2022-08-26T17:01:12.086Z"
   },
   {
    "duration": 15,
    "start_time": "2022-08-26T17:01:12.095Z"
   },
   {
    "duration": 8,
    "start_time": "2022-08-26T17:01:12.111Z"
   },
   {
    "duration": 10,
    "start_time": "2022-08-26T17:01:12.121Z"
   },
   {
    "duration": 12,
    "start_time": "2022-08-26T17:01:12.133Z"
   },
   {
    "duration": 27,
    "start_time": "2022-08-26T17:01:12.147Z"
   },
   {
    "duration": 43,
    "start_time": "2022-08-26T17:01:12.175Z"
   },
   {
    "duration": 21,
    "start_time": "2022-08-26T17:01:12.220Z"
   },
   {
    "duration": 11,
    "start_time": "2022-08-26T17:01:12.244Z"
   },
   {
    "duration": 28,
    "start_time": "2022-08-26T17:01:12.256Z"
   },
   {
    "duration": 55,
    "start_time": "2022-08-26T17:01:12.285Z"
   },
   {
    "duration": 15,
    "start_time": "2022-08-26T17:01:12.341Z"
   },
   {
    "duration": 14,
    "start_time": "2022-08-26T17:01:12.357Z"
   },
   {
    "duration": 31,
    "start_time": "2022-08-26T17:01:12.373Z"
   },
   {
    "duration": 5,
    "start_time": "2022-08-26T17:01:12.406Z"
   },
   {
    "duration": 21,
    "start_time": "2022-08-26T17:01:12.412Z"
   },
   {
    "duration": 25,
    "start_time": "2022-08-26T17:01:12.435Z"
   },
   {
    "duration": 133,
    "start_time": "2022-08-26T17:01:33.525Z"
   },
   {
    "duration": 950,
    "start_time": "2022-08-27T06:53:57.914Z"
   },
   {
    "duration": 1223,
    "start_time": "2022-08-27T06:53:58.866Z"
   },
   {
    "duration": 43,
    "start_time": "2022-08-27T06:54:00.091Z"
   },
   {
    "duration": 32,
    "start_time": "2022-08-27T06:54:00.136Z"
   },
   {
    "duration": 934,
    "start_time": "2022-08-27T06:54:00.191Z"
   },
   {
    "duration": 85,
    "start_time": "2022-08-27T06:54:01.127Z"
   },
   {
    "duration": 17,
    "start_time": "2022-08-27T06:54:01.214Z"
   },
   {
    "duration": 86,
    "start_time": "2022-08-27T06:54:01.234Z"
   },
   {
    "duration": 271,
    "start_time": "2022-08-27T06:54:01.322Z"
   },
   {
    "duration": 6,
    "start_time": "2022-08-27T06:54:01.596Z"
   },
   {
    "duration": 15,
    "start_time": "2022-08-27T06:54:01.604Z"
   },
   {
    "duration": 73,
    "start_time": "2022-08-27T06:54:01.620Z"
   },
   {
    "duration": 14,
    "start_time": "2022-08-27T06:54:01.695Z"
   },
   {
    "duration": 9,
    "start_time": "2022-08-27T06:54:01.711Z"
   },
   {
    "duration": 95,
    "start_time": "2022-08-27T06:54:01.722Z"
   },
   {
    "duration": 180,
    "start_time": "2022-08-27T06:54:01.819Z"
   },
   {
    "duration": 28,
    "start_time": "2022-08-27T06:54:02.000Z"
   },
   {
    "duration": 97,
    "start_time": "2022-08-27T06:54:02.030Z"
   },
   {
    "duration": 79,
    "start_time": "2022-08-27T06:54:02.129Z"
   },
   {
    "duration": 88,
    "start_time": "2022-08-27T06:54:02.209Z"
   },
   {
    "duration": 25,
    "start_time": "2022-08-27T06:54:02.299Z"
   },
   {
    "duration": 74,
    "start_time": "2022-08-27T06:54:02.326Z"
   },
   {
    "duration": 20,
    "start_time": "2022-08-27T06:54:02.402Z"
   },
   {
    "duration": 11,
    "start_time": "2022-08-27T06:54:02.424Z"
   },
   {
    "duration": 57,
    "start_time": "2022-08-27T06:54:02.437Z"
   },
   {
    "duration": 120,
    "start_time": "2022-08-27T06:54:02.496Z"
   },
   {
    "duration": 5,
    "start_time": "2022-08-27T06:54:02.618Z"
   },
   {
    "duration": 74,
    "start_time": "2022-08-27T06:54:02.628Z"
   },
   {
    "duration": 3,
    "start_time": "2022-08-27T06:54:02.703Z"
   },
   {
    "duration": 84,
    "start_time": "2022-08-27T06:54:02.708Z"
   },
   {
    "duration": 2,
    "start_time": "2022-08-27T06:54:02.794Z"
   },
   {
    "duration": 44,
    "start_time": "2022-08-27T06:54:02.798Z"
   },
   {
    "duration": 48,
    "start_time": "2022-08-27T06:54:02.844Z"
   },
   {
    "duration": 28,
    "start_time": "2022-08-27T06:54:02.894Z"
   },
   {
    "duration": 3,
    "start_time": "2022-08-27T06:54:02.924Z"
   },
   {
    "duration": 35,
    "start_time": "2022-08-27T06:54:02.929Z"
   },
   {
    "duration": 27,
    "start_time": "2022-08-27T06:54:02.965Z"
   },
   {
    "duration": 13,
    "start_time": "2022-08-27T06:54:02.994Z"
   },
   {
    "duration": 45,
    "start_time": "2022-08-27T06:54:03.009Z"
   },
   {
    "duration": 14,
    "start_time": "2022-08-27T06:54:03.056Z"
   },
   {
    "duration": 27,
    "start_time": "2022-08-27T06:54:03.072Z"
   },
   {
    "duration": 29,
    "start_time": "2022-08-27T06:54:03.101Z"
   },
   {
    "duration": 15,
    "start_time": "2022-08-27T06:54:03.132Z"
   },
   {
    "duration": 17,
    "start_time": "2022-08-27T06:54:03.149Z"
   },
   {
    "duration": 19,
    "start_time": "2022-08-27T06:54:03.168Z"
   },
   {
    "duration": 22,
    "start_time": "2022-08-27T06:54:03.189Z"
   },
   {
    "duration": 24,
    "start_time": "2022-08-27T06:54:03.213Z"
   },
   {
    "duration": 19,
    "start_time": "2022-08-27T06:54:03.239Z"
   },
   {
    "duration": 21,
    "start_time": "2022-08-27T06:54:03.260Z"
   },
   {
    "duration": 20,
    "start_time": "2022-08-27T06:54:03.282Z"
   },
   {
    "duration": 33,
    "start_time": "2022-08-27T06:54:03.303Z"
   },
   {
    "duration": 16,
    "start_time": "2022-08-27T06:54:03.337Z"
   },
   {
    "duration": 18,
    "start_time": "2022-08-27T06:54:03.355Z"
   },
   {
    "duration": 40,
    "start_time": "2022-08-27T06:54:03.375Z"
   },
   {
    "duration": 5,
    "start_time": "2022-08-27T06:54:03.417Z"
   },
   {
    "duration": 6,
    "start_time": "2022-08-27T06:54:03.424Z"
   },
   {
    "duration": 11,
    "start_time": "2022-08-27T06:54:03.431Z"
   },
   {
    "duration": 13,
    "start_time": "2022-08-27T06:54:23.255Z"
   },
   {
    "duration": 4,
    "start_time": "2022-08-27T06:55:09.758Z"
   },
   {
    "duration": 78,
    "start_time": "2022-08-27T06:55:10.441Z"
   },
   {
    "duration": 6,
    "start_time": "2022-08-27T06:55:22.385Z"
   },
   {
    "duration": 70,
    "start_time": "2022-08-27T06:55:23.276Z"
   },
   {
    "duration": 5,
    "start_time": "2022-08-27T06:55:43.174Z"
   },
   {
    "duration": 76,
    "start_time": "2022-08-27T06:55:43.694Z"
   },
   {
    "duration": 5,
    "start_time": "2022-08-27T06:55:56.342Z"
   },
   {
    "duration": 12,
    "start_time": "2022-08-27T06:56:03.422Z"
   },
   {
    "duration": 904,
    "start_time": "2022-08-27T06:56:10.944Z"
   },
   {
    "duration": 522,
    "start_time": "2022-08-27T06:56:11.850Z"
   },
   {
    "duration": 66,
    "start_time": "2022-08-27T06:56:12.374Z"
   },
   {
    "duration": 57,
    "start_time": "2022-08-27T06:56:12.442Z"
   },
   {
    "duration": 445,
    "start_time": "2022-08-27T06:56:12.501Z"
   },
   {
    "duration": 44,
    "start_time": "2022-08-27T06:56:12.948Z"
   },
   {
    "duration": 19,
    "start_time": "2022-08-27T06:56:12.994Z"
   },
   {
    "duration": 22,
    "start_time": "2022-08-27T06:56:13.014Z"
   },
   {
    "duration": 126,
    "start_time": "2022-08-27T06:56:13.037Z"
   },
   {
    "duration": 7,
    "start_time": "2022-08-27T06:56:13.166Z"
   },
   {
    "duration": 27,
    "start_time": "2022-08-27T06:56:13.175Z"
   },
   {
    "duration": 20,
    "start_time": "2022-08-27T06:56:13.204Z"
   },
   {
    "duration": 17,
    "start_time": "2022-08-27T06:56:13.226Z"
   },
   {
    "duration": 10,
    "start_time": "2022-08-27T06:56:13.245Z"
   },
   {
    "duration": 70,
    "start_time": "2022-08-27T06:56:13.257Z"
   },
   {
    "duration": 5,
    "start_time": "2022-08-27T06:56:13.330Z"
   },
   {
    "duration": 13,
    "start_time": "2022-08-27T06:56:13.337Z"
   },
   {
    "duration": 88,
    "start_time": "2022-08-27T06:56:13.352Z"
   },
   {
    "duration": 24,
    "start_time": "2022-08-27T06:56:13.442Z"
   },
   {
    "duration": 54,
    "start_time": "2022-08-27T06:56:13.468Z"
   },
   {
    "duration": 30,
    "start_time": "2022-08-27T06:56:13.524Z"
   },
   {
    "duration": 57,
    "start_time": "2022-08-27T06:56:13.556Z"
   },
   {
    "duration": 27,
    "start_time": "2022-08-27T06:56:13.615Z"
   },
   {
    "duration": 16,
    "start_time": "2022-08-27T06:56:13.644Z"
   },
   {
    "duration": 56,
    "start_time": "2022-08-27T06:56:13.662Z"
   },
   {
    "duration": 13,
    "start_time": "2022-08-27T06:56:13.719Z"
   },
   {
    "duration": 10,
    "start_time": "2022-08-27T06:56:13.734Z"
   },
   {
    "duration": 97,
    "start_time": "2022-08-27T06:56:13.748Z"
   },
   {
    "duration": 5,
    "start_time": "2022-08-27T06:56:13.846Z"
   },
   {
    "duration": 17,
    "start_time": "2022-08-27T06:56:13.853Z"
   },
   {
    "duration": 20,
    "start_time": "2022-08-27T06:56:13.872Z"
   },
   {
    "duration": 31,
    "start_time": "2022-08-27T06:56:13.894Z"
   },
   {
    "duration": 3,
    "start_time": "2022-08-27T06:56:13.926Z"
   },
   {
    "duration": 21,
    "start_time": "2022-08-27T06:56:13.931Z"
   },
   {
    "duration": 4,
    "start_time": "2022-08-27T06:56:13.954Z"
   },
   {
    "duration": 50,
    "start_time": "2022-08-27T06:56:13.960Z"
   },
   {
    "duration": 4,
    "start_time": "2022-08-27T06:56:14.012Z"
   },
   {
    "duration": 27,
    "start_time": "2022-08-27T06:56:14.018Z"
   },
   {
    "duration": 47,
    "start_time": "2022-08-27T06:56:14.048Z"
   },
   {
    "duration": 3,
    "start_time": "2022-08-27T06:56:14.096Z"
   },
   {
    "duration": 19,
    "start_time": "2022-08-27T06:56:14.101Z"
   },
   {
    "duration": 7,
    "start_time": "2022-08-27T06:56:14.122Z"
   },
   {
    "duration": 12,
    "start_time": "2022-08-27T06:56:14.131Z"
   },
   {
    "duration": 8,
    "start_time": "2022-08-27T06:56:14.145Z"
   },
   {
    "duration": 39,
    "start_time": "2022-08-27T06:56:14.156Z"
   },
   {
    "duration": 13,
    "start_time": "2022-08-27T06:56:14.197Z"
   },
   {
    "duration": 12,
    "start_time": "2022-08-27T06:56:14.212Z"
   },
   {
    "duration": 13,
    "start_time": "2022-08-27T06:56:14.226Z"
   },
   {
    "duration": 17,
    "start_time": "2022-08-27T06:56:14.241Z"
   },
   {
    "duration": 10,
    "start_time": "2022-08-27T06:56:14.260Z"
   },
   {
    "duration": 6,
    "start_time": "2022-08-27T06:56:14.294Z"
   },
   {
    "duration": 21,
    "start_time": "2022-08-27T06:56:14.302Z"
   },
   {
    "duration": 31,
    "start_time": "2022-08-27T06:56:14.325Z"
   },
   {
    "duration": 35,
    "start_time": "2022-08-27T06:56:14.358Z"
   },
   {
    "duration": 14,
    "start_time": "2022-08-27T06:56:14.395Z"
   },
   {
    "duration": 33,
    "start_time": "2022-08-27T06:56:14.411Z"
   },
   {
    "duration": 7,
    "start_time": "2022-08-27T06:56:14.446Z"
   },
   {
    "duration": 37,
    "start_time": "2022-08-27T06:56:14.454Z"
   },
   {
    "duration": 7,
    "start_time": "2022-08-27T06:56:14.494Z"
   },
   {
    "duration": 5,
    "start_time": "2022-08-27T06:57:16.886Z"
   },
   {
    "duration": 1519,
    "start_time": "2022-08-27T06:58:17.847Z"
   },
   {
    "duration": 850,
    "start_time": "2022-08-27T07:04:14.004Z"
   },
   {
    "duration": 440,
    "start_time": "2022-08-27T07:04:14.856Z"
   },
   {
    "duration": 44,
    "start_time": "2022-08-27T07:04:15.297Z"
   },
   {
    "duration": 59,
    "start_time": "2022-08-27T07:04:15.343Z"
   },
   {
    "duration": 816,
    "start_time": "2022-08-27T07:04:15.404Z"
   },
   {
    "duration": 81,
    "start_time": "2022-08-27T07:04:16.222Z"
   },
   {
    "duration": 17,
    "start_time": "2022-08-27T07:04:16.305Z"
   },
   {
    "duration": 76,
    "start_time": "2022-08-27T07:04:16.324Z"
   },
   {
    "duration": 191,
    "start_time": "2022-08-27T07:04:16.401Z"
   },
   {
    "duration": 6,
    "start_time": "2022-08-27T07:04:16.595Z"
   },
   {
    "duration": 17,
    "start_time": "2022-08-27T07:04:16.603Z"
   },
   {
    "duration": 71,
    "start_time": "2022-08-27T07:04:16.622Z"
   },
   {
    "duration": 14,
    "start_time": "2022-08-27T07:04:16.695Z"
   },
   {
    "duration": 8,
    "start_time": "2022-08-27T07:04:16.711Z"
   },
   {
    "duration": 99,
    "start_time": "2022-08-27T07:04:16.721Z"
   },
   {
    "duration": 119,
    "start_time": "2022-08-27T07:04:16.822Z"
   },
   {
    "duration": 25,
    "start_time": "2022-08-27T07:04:16.992Z"
   },
   {
    "duration": 91,
    "start_time": "2022-08-27T07:04:17.019Z"
   },
   {
    "duration": 83,
    "start_time": "2022-08-27T07:04:17.111Z"
   },
   {
    "duration": 34,
    "start_time": "2022-08-27T07:04:17.195Z"
   },
   {
    "duration": 75,
    "start_time": "2022-08-27T07:04:17.230Z"
   },
   {
    "duration": 16,
    "start_time": "2022-08-27T07:04:17.306Z"
   },
   {
    "duration": 73,
    "start_time": "2022-08-27T07:04:17.324Z"
   },
   {
    "duration": 11,
    "start_time": "2022-08-27T07:04:17.399Z"
   },
   {
    "duration": 7,
    "start_time": "2022-08-27T07:04:17.412Z"
   },
   {
    "duration": 126,
    "start_time": "2022-08-27T07:04:17.421Z"
   },
   {
    "duration": 4,
    "start_time": "2022-08-27T07:04:17.549Z"
   },
   {
    "duration": 14,
    "start_time": "2022-08-27T07:04:17.557Z"
   },
   {
    "duration": 18,
    "start_time": "2022-08-27T07:04:17.573Z"
   },
   {
    "duration": 29,
    "start_time": "2022-08-27T07:04:17.593Z"
   },
   {
    "duration": 3,
    "start_time": "2022-08-27T07:04:17.623Z"
   },
   {
    "duration": 22,
    "start_time": "2022-08-27T07:04:17.627Z"
   },
   {
    "duration": 3,
    "start_time": "2022-08-27T07:04:17.651Z"
   },
   {
    "duration": 44,
    "start_time": "2022-08-27T07:04:17.655Z"
   },
   {
    "duration": 3,
    "start_time": "2022-08-27T07:04:17.701Z"
   },
   {
    "duration": 23,
    "start_time": "2022-08-27T07:04:17.705Z"
   },
   {
    "duration": 24,
    "start_time": "2022-08-27T07:04:17.730Z"
   },
   {
    "duration": 3,
    "start_time": "2022-08-27T07:04:17.756Z"
   },
   {
    "duration": 46,
    "start_time": "2022-08-27T07:04:17.761Z"
   },
   {
    "duration": 4,
    "start_time": "2022-08-27T07:04:17.809Z"
   },
   {
    "duration": 10,
    "start_time": "2022-08-27T07:04:17.815Z"
   },
   {
    "duration": 9,
    "start_time": "2022-08-27T07:04:17.827Z"
   },
   {
    "duration": 8,
    "start_time": "2022-08-27T07:04:17.838Z"
   },
   {
    "duration": 10,
    "start_time": "2022-08-27T07:04:17.848Z"
   },
   {
    "duration": 34,
    "start_time": "2022-08-27T07:04:17.860Z"
   },
   {
    "duration": 12,
    "start_time": "2022-08-27T07:04:17.896Z"
   },
   {
    "duration": 20,
    "start_time": "2022-08-27T07:04:17.909Z"
   },
   {
    "duration": 10,
    "start_time": "2022-08-27T07:04:17.931Z"
   },
   {
    "duration": 9,
    "start_time": "2022-08-27T07:04:17.943Z"
   },
   {
    "duration": 16,
    "start_time": "2022-08-27T07:04:17.954Z"
   },
   {
    "duration": 48,
    "start_time": "2022-08-27T07:04:17.972Z"
   },
   {
    "duration": 15,
    "start_time": "2022-08-27T07:04:18.022Z"
   },
   {
    "duration": 13,
    "start_time": "2022-08-27T07:04:18.039Z"
   },
   {
    "duration": 47,
    "start_time": "2022-08-27T07:04:18.054Z"
   },
   {
    "duration": 6,
    "start_time": "2022-08-27T07:04:18.103Z"
   },
   {
    "duration": 7,
    "start_time": "2022-08-27T07:04:18.112Z"
   },
   {
    "duration": 9,
    "start_time": "2022-08-27T07:04:18.121Z"
   },
   {
    "duration": 7,
    "start_time": "2022-08-27T07:04:52.976Z"
   },
   {
    "duration": 9,
    "start_time": "2022-08-27T07:05:02.112Z"
   },
   {
    "duration": 8,
    "start_time": "2022-08-27T07:05:20.751Z"
   },
   {
    "duration": 8,
    "start_time": "2022-08-27T07:05:30.958Z"
   },
   {
    "duration": 6,
    "start_time": "2022-08-27T07:05:47.933Z"
   },
   {
    "duration": 70,
    "start_time": "2022-08-27T07:05:48.892Z"
   },
   {
    "duration": 111,
    "start_time": "2022-08-27T07:06:44.120Z"
   },
   {
    "duration": 4,
    "start_time": "2022-08-27T07:07:21.062Z"
   },
   {
    "duration": 953,
    "start_time": "2022-08-27T07:07:52.220Z"
   },
   {
    "duration": 452,
    "start_time": "2022-08-27T07:07:53.175Z"
   },
   {
    "duration": 44,
    "start_time": "2022-08-27T07:07:53.629Z"
   },
   {
    "duration": 32,
    "start_time": "2022-08-27T07:07:53.675Z"
   },
   {
    "duration": 450,
    "start_time": "2022-08-27T07:07:53.709Z"
   },
   {
    "duration": 37,
    "start_time": "2022-08-27T07:07:54.161Z"
   },
   {
    "duration": 18,
    "start_time": "2022-08-27T07:07:54.200Z"
   },
   {
    "duration": 20,
    "start_time": "2022-08-27T07:07:54.220Z"
   },
   {
    "duration": 126,
    "start_time": "2022-08-27T07:07:54.242Z"
   },
   {
    "duration": 21,
    "start_time": "2022-08-27T07:07:54.371Z"
   },
   {
    "duration": 15,
    "start_time": "2022-08-27T07:07:54.393Z"
   },
   {
    "duration": 22,
    "start_time": "2022-08-27T07:07:54.410Z"
   },
   {
    "duration": 15,
    "start_time": "2022-08-27T07:07:54.434Z"
   },
   {
    "duration": 39,
    "start_time": "2022-08-27T07:07:54.452Z"
   },
   {
    "duration": 35,
    "start_time": "2022-08-27T07:07:54.493Z"
   },
   {
    "duration": 118,
    "start_time": "2022-08-27T07:07:54.530Z"
   },
   {
    "duration": 0,
    "start_time": "2022-08-27T07:07:54.650Z"
   },
   {
    "duration": 0,
    "start_time": "2022-08-27T07:07:54.652Z"
   },
   {
    "duration": 0,
    "start_time": "2022-08-27T07:07:54.653Z"
   },
   {
    "duration": 0,
    "start_time": "2022-08-27T07:07:54.654Z"
   },
   {
    "duration": 0,
    "start_time": "2022-08-27T07:07:54.655Z"
   },
   {
    "duration": 0,
    "start_time": "2022-08-27T07:07:54.656Z"
   },
   {
    "duration": 0,
    "start_time": "2022-08-27T07:07:54.657Z"
   },
   {
    "duration": 0,
    "start_time": "2022-08-27T07:07:54.659Z"
   },
   {
    "duration": 0,
    "start_time": "2022-08-27T07:07:54.660Z"
   },
   {
    "duration": 0,
    "start_time": "2022-08-27T07:07:54.662Z"
   },
   {
    "duration": 0,
    "start_time": "2022-08-27T07:07:54.663Z"
   },
   {
    "duration": 0,
    "start_time": "2022-08-27T07:07:54.691Z"
   },
   {
    "duration": 0,
    "start_time": "2022-08-27T07:07:54.693Z"
   },
   {
    "duration": 0,
    "start_time": "2022-08-27T07:07:54.694Z"
   },
   {
    "duration": 0,
    "start_time": "2022-08-27T07:07:54.695Z"
   },
   {
    "duration": 0,
    "start_time": "2022-08-27T07:07:54.696Z"
   },
   {
    "duration": 0,
    "start_time": "2022-08-27T07:07:54.698Z"
   },
   {
    "duration": 0,
    "start_time": "2022-08-27T07:07:54.700Z"
   },
   {
    "duration": 0,
    "start_time": "2022-08-27T07:07:54.701Z"
   },
   {
    "duration": 0,
    "start_time": "2022-08-27T07:07:54.703Z"
   },
   {
    "duration": 0,
    "start_time": "2022-08-27T07:07:54.704Z"
   },
   {
    "duration": 0,
    "start_time": "2022-08-27T07:07:54.706Z"
   },
   {
    "duration": 0,
    "start_time": "2022-08-27T07:07:54.708Z"
   },
   {
    "duration": 0,
    "start_time": "2022-08-27T07:07:54.709Z"
   },
   {
    "duration": 0,
    "start_time": "2022-08-27T07:07:54.711Z"
   },
   {
    "duration": 0,
    "start_time": "2022-08-27T07:07:54.712Z"
   },
   {
    "duration": 0,
    "start_time": "2022-08-27T07:07:54.714Z"
   },
   {
    "duration": 0,
    "start_time": "2022-08-27T07:07:54.715Z"
   },
   {
    "duration": 0,
    "start_time": "2022-08-27T07:07:54.717Z"
   },
   {
    "duration": 0,
    "start_time": "2022-08-27T07:07:54.719Z"
   },
   {
    "duration": 0,
    "start_time": "2022-08-27T07:07:54.720Z"
   },
   {
    "duration": 0,
    "start_time": "2022-08-27T07:07:54.721Z"
   },
   {
    "duration": 0,
    "start_time": "2022-08-27T07:07:54.723Z"
   },
   {
    "duration": 0,
    "start_time": "2022-08-27T07:07:54.723Z"
   },
   {
    "duration": 0,
    "start_time": "2022-08-27T07:07:54.724Z"
   },
   {
    "duration": 0,
    "start_time": "2022-08-27T07:07:54.725Z"
   },
   {
    "duration": 0,
    "start_time": "2022-08-27T07:07:54.726Z"
   },
   {
    "duration": 0,
    "start_time": "2022-08-27T07:07:54.727Z"
   },
   {
    "duration": 0,
    "start_time": "2022-08-27T07:07:54.728Z"
   },
   {
    "duration": 0,
    "start_time": "2022-08-27T07:07:54.729Z"
   },
   {
    "duration": 0,
    "start_time": "2022-08-27T07:07:54.791Z"
   },
   {
    "duration": 0,
    "start_time": "2022-08-27T07:07:54.793Z"
   },
   {
    "duration": 10,
    "start_time": "2022-08-27T07:08:03.082Z"
   },
   {
    "duration": 13,
    "start_time": "2022-08-27T07:08:23.376Z"
   },
   {
    "duration": 966,
    "start_time": "2022-08-27T07:10:42.058Z"
   },
   {
    "duration": 512,
    "start_time": "2022-08-27T07:10:43.026Z"
   },
   {
    "duration": 45,
    "start_time": "2022-08-27T07:10:43.540Z"
   },
   {
    "duration": 31,
    "start_time": "2022-08-27T07:10:43.588Z"
   },
   {
    "duration": 440,
    "start_time": "2022-08-27T07:10:43.621Z"
   },
   {
    "duration": 38,
    "start_time": "2022-08-27T07:10:44.063Z"
   },
   {
    "duration": 19,
    "start_time": "2022-08-27T07:10:44.103Z"
   },
   {
    "duration": 21,
    "start_time": "2022-08-27T07:10:44.124Z"
   },
   {
    "duration": 129,
    "start_time": "2022-08-27T07:10:44.147Z"
   },
   {
    "duration": 15,
    "start_time": "2022-08-27T07:10:44.280Z"
   },
   {
    "duration": 31,
    "start_time": "2022-08-27T07:10:44.297Z"
   },
   {
    "duration": 63,
    "start_time": "2022-08-27T07:10:44.331Z"
   },
   {
    "duration": 16,
    "start_time": "2022-08-27T07:10:44.396Z"
   },
   {
    "duration": 9,
    "start_time": "2022-08-27T07:10:44.414Z"
   },
   {
    "duration": 93,
    "start_time": "2022-08-27T07:10:44.425Z"
   },
   {
    "duration": 124,
    "start_time": "2022-08-27T07:10:44.520Z"
   },
   {
    "duration": 0,
    "start_time": "2022-08-27T07:10:44.647Z"
   },
   {
    "duration": 0,
    "start_time": "2022-08-27T07:10:44.648Z"
   },
   {
    "duration": 0,
    "start_time": "2022-08-27T07:10:44.650Z"
   },
   {
    "duration": 0,
    "start_time": "2022-08-27T07:10:44.651Z"
   },
   {
    "duration": 0,
    "start_time": "2022-08-27T07:10:44.653Z"
   },
   {
    "duration": 0,
    "start_time": "2022-08-27T07:10:44.654Z"
   },
   {
    "duration": 0,
    "start_time": "2022-08-27T07:10:44.656Z"
   },
   {
    "duration": 0,
    "start_time": "2022-08-27T07:10:44.658Z"
   },
   {
    "duration": 0,
    "start_time": "2022-08-27T07:10:44.659Z"
   },
   {
    "duration": 0,
    "start_time": "2022-08-27T07:10:44.661Z"
   },
   {
    "duration": 0,
    "start_time": "2022-08-27T07:10:44.693Z"
   },
   {
    "duration": 0,
    "start_time": "2022-08-27T07:10:44.695Z"
   },
   {
    "duration": 0,
    "start_time": "2022-08-27T07:10:44.697Z"
   },
   {
    "duration": 0,
    "start_time": "2022-08-27T07:10:44.698Z"
   },
   {
    "duration": 0,
    "start_time": "2022-08-27T07:10:44.700Z"
   },
   {
    "duration": 0,
    "start_time": "2022-08-27T07:10:44.701Z"
   },
   {
    "duration": 0,
    "start_time": "2022-08-27T07:10:44.704Z"
   },
   {
    "duration": 0,
    "start_time": "2022-08-27T07:10:44.705Z"
   },
   {
    "duration": 0,
    "start_time": "2022-08-27T07:10:44.708Z"
   },
   {
    "duration": 0,
    "start_time": "2022-08-27T07:10:44.710Z"
   },
   {
    "duration": 0,
    "start_time": "2022-08-27T07:10:44.711Z"
   },
   {
    "duration": 0,
    "start_time": "2022-08-27T07:10:44.712Z"
   },
   {
    "duration": 0,
    "start_time": "2022-08-27T07:10:44.713Z"
   },
   {
    "duration": 0,
    "start_time": "2022-08-27T07:10:44.715Z"
   },
   {
    "duration": 0,
    "start_time": "2022-08-27T07:10:44.716Z"
   },
   {
    "duration": 0,
    "start_time": "2022-08-27T07:10:44.717Z"
   },
   {
    "duration": 0,
    "start_time": "2022-08-27T07:10:44.718Z"
   },
   {
    "duration": 0,
    "start_time": "2022-08-27T07:10:44.719Z"
   },
   {
    "duration": 0,
    "start_time": "2022-08-27T07:10:44.720Z"
   },
   {
    "duration": 0,
    "start_time": "2022-08-27T07:10:44.722Z"
   },
   {
    "duration": 0,
    "start_time": "2022-08-27T07:10:44.723Z"
   },
   {
    "duration": 0,
    "start_time": "2022-08-27T07:10:44.725Z"
   },
   {
    "duration": 0,
    "start_time": "2022-08-27T07:10:44.726Z"
   },
   {
    "duration": 0,
    "start_time": "2022-08-27T07:10:44.727Z"
   },
   {
    "duration": 0,
    "start_time": "2022-08-27T07:10:44.729Z"
   },
   {
    "duration": 0,
    "start_time": "2022-08-27T07:10:44.730Z"
   },
   {
    "duration": 0,
    "start_time": "2022-08-27T07:10:44.791Z"
   },
   {
    "duration": 0,
    "start_time": "2022-08-27T07:10:44.793Z"
   },
   {
    "duration": 0,
    "start_time": "2022-08-27T07:10:44.794Z"
   },
   {
    "duration": 0,
    "start_time": "2022-08-27T07:10:44.795Z"
   },
   {
    "duration": 0,
    "start_time": "2022-08-27T07:10:44.796Z"
   },
   {
    "duration": 0,
    "start_time": "2022-08-27T07:10:44.797Z"
   },
   {
    "duration": 20,
    "start_time": "2022-08-27T07:14:16.111Z"
   },
   {
    "duration": 15,
    "start_time": "2022-08-27T07:14:22.738Z"
   },
   {
    "duration": 15,
    "start_time": "2022-08-27T07:14:34.358Z"
   },
   {
    "duration": 824,
    "start_time": "2022-08-27T07:15:12.130Z"
   },
   {
    "duration": 551,
    "start_time": "2022-08-27T07:15:12.956Z"
   },
   {
    "duration": 90,
    "start_time": "2022-08-27T07:15:13.509Z"
   },
   {
    "duration": 31,
    "start_time": "2022-08-27T07:15:13.602Z"
   },
   {
    "duration": 825,
    "start_time": "2022-08-27T07:15:13.691Z"
   },
   {
    "duration": 82,
    "start_time": "2022-08-27T07:15:14.518Z"
   },
   {
    "duration": 18,
    "start_time": "2022-08-27T07:15:14.602Z"
   },
   {
    "duration": 75,
    "start_time": "2022-08-27T07:15:14.621Z"
   },
   {
    "duration": 138,
    "start_time": "2022-08-27T07:15:14.698Z"
   },
   {
    "duration": 58,
    "start_time": "2022-08-27T07:15:14.838Z"
   },
   {
    "duration": 12,
    "start_time": "2022-08-27T07:15:14.898Z"
   },
   {
    "duration": 18,
    "start_time": "2022-08-27T07:15:14.912Z"
   },
   {
    "duration": 72,
    "start_time": "2022-08-27T07:15:14.932Z"
   },
   {
    "duration": 7,
    "start_time": "2022-08-27T07:15:15.006Z"
   },
   {
    "duration": 91,
    "start_time": "2022-08-27T07:15:15.015Z"
   },
   {
    "duration": 117,
    "start_time": "2022-08-27T07:15:15.108Z"
   },
   {
    "duration": 25,
    "start_time": "2022-08-27T07:15:15.227Z"
   },
   {
    "duration": 52,
    "start_time": "2022-08-27T07:15:15.255Z"
   },
   {
    "duration": 30,
    "start_time": "2022-08-27T07:15:15.309Z"
   },
   {
    "duration": 56,
    "start_time": "2022-08-27T07:15:15.341Z"
   },
   {
    "duration": 26,
    "start_time": "2022-08-27T07:15:15.400Z"
   },
   {
    "duration": 18,
    "start_time": "2022-08-27T07:15:15.428Z"
   },
   {
    "duration": 51,
    "start_time": "2022-08-27T07:15:15.448Z"
   },
   {
    "duration": 14,
    "start_time": "2022-08-27T07:15:15.502Z"
   },
   {
    "duration": 8,
    "start_time": "2022-08-27T07:15:15.517Z"
   },
   {
    "duration": 94,
    "start_time": "2022-08-27T07:15:15.526Z"
   },
   {
    "duration": 5,
    "start_time": "2022-08-27T07:15:15.622Z"
   },
   {
    "duration": 18,
    "start_time": "2022-08-27T07:15:15.631Z"
   },
   {
    "duration": 7,
    "start_time": "2022-08-27T07:15:15.652Z"
   },
   {
    "duration": 43,
    "start_time": "2022-08-27T07:15:15.661Z"
   },
   {
    "duration": 3,
    "start_time": "2022-08-27T07:15:15.706Z"
   },
   {
    "duration": 19,
    "start_time": "2022-08-27T07:15:15.711Z"
   },
   {
    "duration": 3,
    "start_time": "2022-08-27T07:15:15.731Z"
   },
   {
    "duration": 19,
    "start_time": "2022-08-27T07:15:15.736Z"
   },
   {
    "duration": 2,
    "start_time": "2022-08-27T07:15:15.757Z"
   },
   {
    "duration": 44,
    "start_time": "2022-08-27T07:15:15.760Z"
   },
   {
    "duration": 24,
    "start_time": "2022-08-27T07:15:15.806Z"
   },
   {
    "duration": 3,
    "start_time": "2022-08-27T07:15:15.832Z"
   },
   {
    "duration": 17,
    "start_time": "2022-08-27T07:15:15.837Z"
   },
   {
    "duration": 5,
    "start_time": "2022-08-27T07:15:15.855Z"
   },
   {
    "duration": 35,
    "start_time": "2022-08-27T07:15:15.861Z"
   },
   {
    "duration": 8,
    "start_time": "2022-08-27T07:15:15.898Z"
   },
   {
    "duration": 9,
    "start_time": "2022-08-27T07:15:15.908Z"
   },
   {
    "duration": 9,
    "start_time": "2022-08-27T07:15:15.918Z"
   },
   {
    "duration": 11,
    "start_time": "2022-08-27T07:15:15.929Z"
   },
   {
    "duration": 17,
    "start_time": "2022-08-27T07:15:15.942Z"
   },
   {
    "duration": 37,
    "start_time": "2022-08-27T07:15:15.961Z"
   },
   {
    "duration": 13,
    "start_time": "2022-08-27T07:15:16.000Z"
   },
   {
    "duration": 7,
    "start_time": "2022-08-27T07:15:16.014Z"
   },
   {
    "duration": 22,
    "start_time": "2022-08-27T07:15:16.023Z"
   },
   {
    "duration": 46,
    "start_time": "2022-08-27T07:15:16.047Z"
   },
   {
    "duration": 15,
    "start_time": "2022-08-27T07:15:16.095Z"
   },
   {
    "duration": 12,
    "start_time": "2022-08-27T07:15:16.112Z"
   },
   {
    "duration": 27,
    "start_time": "2022-08-27T07:15:16.125Z"
   },
   {
    "duration": 6,
    "start_time": "2022-08-27T07:15:16.154Z"
   },
   {
    "duration": 7,
    "start_time": "2022-08-27T07:15:16.162Z"
   },
   {
    "duration": 11,
    "start_time": "2022-08-27T07:15:16.171Z"
   },
   {
    "duration": 0,
    "start_time": "2022-08-27T07:17:36.909Z"
   },
   {
    "duration": 100,
    "start_time": "2022-08-27T07:22:41.348Z"
   },
   {
    "duration": 3,
    "start_time": "2022-08-27T07:22:53.373Z"
   },
   {
    "duration": 750,
    "start_time": "2022-08-27T07:22:53.780Z"
   },
   {
    "duration": 4,
    "start_time": "2022-08-27T07:23:44.520Z"
   },
   {
    "duration": 2077,
    "start_time": "2022-08-27T07:23:45.184Z"
   },
   {
    "duration": 977,
    "start_time": "2022-08-27T07:38:38.970Z"
   },
   {
    "duration": 494,
    "start_time": "2022-08-27T07:38:39.949Z"
   },
   {
    "duration": 45,
    "start_time": "2022-08-27T07:38:40.445Z"
   },
   {
    "duration": 31,
    "start_time": "2022-08-27T07:38:40.493Z"
   },
   {
    "duration": 453,
    "start_time": "2022-08-27T07:38:40.526Z"
   },
   {
    "duration": 31,
    "start_time": "2022-08-27T07:38:40.981Z"
   },
   {
    "duration": 18,
    "start_time": "2022-08-27T07:38:41.014Z"
   },
   {
    "duration": 21,
    "start_time": "2022-08-27T07:38:41.034Z"
   },
   {
    "duration": 123,
    "start_time": "2022-08-27T07:38:41.057Z"
   },
   {
    "duration": 8,
    "start_time": "2022-08-27T07:38:41.193Z"
   },
   {
    "duration": 14,
    "start_time": "2022-08-27T07:38:41.202Z"
   },
   {
    "duration": 19,
    "start_time": "2022-08-27T07:38:41.218Z"
   },
   {
    "duration": 14,
    "start_time": "2022-08-27T07:38:41.239Z"
   },
   {
    "duration": 37,
    "start_time": "2022-08-27T07:38:41.255Z"
   },
   {
    "duration": 34,
    "start_time": "2022-08-27T07:38:41.294Z"
   },
   {
    "duration": 4,
    "start_time": "2022-08-27T07:38:41.330Z"
   },
   {
    "duration": 3313,
    "start_time": "2022-08-27T07:38:41.335Z"
   },
   {
    "duration": 80,
    "start_time": "2022-08-27T07:38:44.650Z"
   },
   {
    "duration": 31,
    "start_time": "2022-08-27T07:38:44.732Z"
   },
   {
    "duration": 60,
    "start_time": "2022-08-27T07:38:44.764Z"
   },
   {
    "duration": 33,
    "start_time": "2022-08-27T07:38:44.826Z"
   },
   {
    "duration": 50,
    "start_time": "2022-08-27T07:38:44.860Z"
   },
   {
    "duration": 29,
    "start_time": "2022-08-27T07:38:44.912Z"
   },
   {
    "duration": 19,
    "start_time": "2022-08-27T07:38:44.943Z"
   },
   {
    "duration": 43,
    "start_time": "2022-08-27T07:38:44.964Z"
   },
   {
    "duration": 13,
    "start_time": "2022-08-27T07:38:45.011Z"
   },
   {
    "duration": 14,
    "start_time": "2022-08-27T07:38:45.026Z"
   },
   {
    "duration": 94,
    "start_time": "2022-08-27T07:38:45.044Z"
   },
   {
    "duration": 6,
    "start_time": "2022-08-27T07:38:45.140Z"
   },
   {
    "duration": 28,
    "start_time": "2022-08-27T07:38:45.148Z"
   },
   {
    "duration": 16,
    "start_time": "2022-08-27T07:38:45.179Z"
   },
   {
    "duration": 35,
    "start_time": "2022-08-27T07:38:45.197Z"
   },
   {
    "duration": 6,
    "start_time": "2022-08-27T07:38:45.234Z"
   },
   {
    "duration": 32,
    "start_time": "2022-08-27T07:38:45.242Z"
   },
   {
    "duration": 3,
    "start_time": "2022-08-27T07:38:45.276Z"
   },
   {
    "duration": 19,
    "start_time": "2022-08-27T07:38:45.291Z"
   },
   {
    "duration": 3,
    "start_time": "2022-08-27T07:38:45.312Z"
   },
   {
    "duration": 20,
    "start_time": "2022-08-27T07:38:45.316Z"
   },
   {
    "duration": 62,
    "start_time": "2022-08-27T07:38:45.338Z"
   },
   {
    "duration": 4,
    "start_time": "2022-08-27T07:38:45.401Z"
   },
   {
    "duration": 21,
    "start_time": "2022-08-27T07:38:45.406Z"
   },
   {
    "duration": 9,
    "start_time": "2022-08-27T07:38:45.429Z"
   },
   {
    "duration": 12,
    "start_time": "2022-08-27T07:38:45.440Z"
   },
   {
    "duration": 8,
    "start_time": "2022-08-27T07:38:45.455Z"
   },
   {
    "duration": 36,
    "start_time": "2022-08-27T07:38:45.464Z"
   },
   {
    "duration": 10,
    "start_time": "2022-08-27T07:38:45.502Z"
   },
   {
    "duration": 9,
    "start_time": "2022-08-27T07:38:45.514Z"
   },
   {
    "duration": 8,
    "start_time": "2022-08-27T07:38:45.526Z"
   },
   {
    "duration": 19,
    "start_time": "2022-08-27T07:38:45.536Z"
   },
   {
    "duration": 40,
    "start_time": "2022-08-27T07:38:45.557Z"
   },
   {
    "duration": 7,
    "start_time": "2022-08-27T07:38:45.599Z"
   },
   {
    "duration": 14,
    "start_time": "2022-08-27T07:38:45.608Z"
   },
   {
    "duration": 31,
    "start_time": "2022-08-27T07:38:45.624Z"
   },
   {
    "duration": 41,
    "start_time": "2022-08-27T07:38:45.657Z"
   },
   {
    "duration": 13,
    "start_time": "2022-08-27T07:38:45.700Z"
   },
   {
    "duration": 28,
    "start_time": "2022-08-27T07:38:45.715Z"
   },
   {
    "duration": 7,
    "start_time": "2022-08-27T07:38:45.745Z"
   },
   {
    "duration": 7,
    "start_time": "2022-08-27T07:38:45.754Z"
   },
   {
    "duration": 34,
    "start_time": "2022-08-27T07:38:45.763Z"
   },
   {
    "duration": 3,
    "start_time": "2022-08-27T07:39:05.281Z"
   },
   {
    "duration": 1967,
    "start_time": "2022-08-27T07:39:05.822Z"
   },
   {
    "duration": 50,
    "start_time": "2022-08-27T07:39:23.758Z"
   },
   {
    "duration": 1942,
    "start_time": "2022-08-27T07:39:43.851Z"
   },
   {
    "duration": 52,
    "start_time": "2022-08-27T07:39:47.250Z"
   },
   {
    "duration": 97,
    "start_time": "2022-08-27T13:06:32.607Z"
   },
   {
    "duration": 53,
    "start_time": "2022-08-27T13:06:49.317Z"
   },
   {
    "duration": 1009,
    "start_time": "2022-08-27T13:07:01.288Z"
   },
   {
    "duration": 1218,
    "start_time": "2022-08-27T13:07:02.299Z"
   },
   {
    "duration": 43,
    "start_time": "2022-08-27T13:07:03.519Z"
   },
   {
    "duration": 30,
    "start_time": "2022-08-27T13:07:03.564Z"
   },
   {
    "duration": 1022,
    "start_time": "2022-08-27T13:07:03.596Z"
   },
   {
    "duration": 86,
    "start_time": "2022-08-27T13:07:04.620Z"
   },
   {
    "duration": 26,
    "start_time": "2022-08-27T13:07:04.708Z"
   },
   {
    "duration": 31,
    "start_time": "2022-08-27T13:07:04.792Z"
   },
   {
    "duration": 212,
    "start_time": "2022-08-27T13:07:04.825Z"
   },
   {
    "duration": 7,
    "start_time": "2022-08-27T13:07:05.091Z"
   },
   {
    "duration": 24,
    "start_time": "2022-08-27T13:07:05.099Z"
   },
   {
    "duration": 72,
    "start_time": "2022-08-27T13:07:05.125Z"
   },
   {
    "duration": 14,
    "start_time": "2022-08-27T13:07:05.199Z"
   },
   {
    "duration": 8,
    "start_time": "2022-08-27T13:07:05.215Z"
   },
   {
    "duration": 93,
    "start_time": "2022-08-27T13:07:05.224Z"
   },
   {
    "duration": 4,
    "start_time": "2022-08-27T13:07:05.319Z"
   },
   {
    "duration": 2335,
    "start_time": "2022-08-27T13:07:05.324Z"
   },
   {
    "duration": 57,
    "start_time": "2022-08-27T13:07:07.661Z"
   },
   {
    "duration": 26,
    "start_time": "2022-08-27T13:07:07.720Z"
   },
   {
    "duration": 45,
    "start_time": "2022-08-27T13:07:07.747Z"
   },
   {
    "duration": 29,
    "start_time": "2022-08-27T13:07:07.794Z"
   },
   {
    "duration": 28,
    "start_time": "2022-08-27T13:07:07.825Z"
   },
   {
    "duration": 37,
    "start_time": "2022-08-27T13:07:07.855Z"
   },
   {
    "duration": 12,
    "start_time": "2022-08-27T13:07:07.894Z"
   },
   {
    "duration": 27,
    "start_time": "2022-08-27T13:07:07.908Z"
   },
   {
    "duration": 17,
    "start_time": "2022-08-27T13:07:07.937Z"
   },
   {
    "duration": 32,
    "start_time": "2022-08-27T13:07:07.956Z"
   },
   {
    "duration": 1449,
    "start_time": "2022-08-27T13:07:07.994Z"
   },
   {
    "duration": 0,
    "start_time": "2022-08-27T13:07:09.444Z"
   },
   {
    "duration": 0,
    "start_time": "2022-08-27T13:07:09.445Z"
   },
   {
    "duration": 0,
    "start_time": "2022-08-27T13:07:09.446Z"
   },
   {
    "duration": 0,
    "start_time": "2022-08-27T13:07:09.447Z"
   },
   {
    "duration": 0,
    "start_time": "2022-08-27T13:07:09.449Z"
   },
   {
    "duration": 0,
    "start_time": "2022-08-27T13:07:09.451Z"
   },
   {
    "duration": 0,
    "start_time": "2022-08-27T13:07:09.452Z"
   },
   {
    "duration": 0,
    "start_time": "2022-08-27T13:07:09.453Z"
   },
   {
    "duration": 0,
    "start_time": "2022-08-27T13:07:09.454Z"
   },
   {
    "duration": 0,
    "start_time": "2022-08-27T13:07:09.456Z"
   },
   {
    "duration": 0,
    "start_time": "2022-08-27T13:07:09.458Z"
   },
   {
    "duration": 0,
    "start_time": "2022-08-27T13:07:09.459Z"
   },
   {
    "duration": 0,
    "start_time": "2022-08-27T13:07:09.460Z"
   },
   {
    "duration": 0,
    "start_time": "2022-08-27T13:07:09.461Z"
   },
   {
    "duration": 0,
    "start_time": "2022-08-27T13:07:09.462Z"
   },
   {
    "duration": 0,
    "start_time": "2022-08-27T13:07:09.463Z"
   },
   {
    "duration": 0,
    "start_time": "2022-08-27T13:07:09.465Z"
   },
   {
    "duration": 0,
    "start_time": "2022-08-27T13:07:09.466Z"
   },
   {
    "duration": 0,
    "start_time": "2022-08-27T13:07:09.467Z"
   },
   {
    "duration": 0,
    "start_time": "2022-08-27T13:07:09.469Z"
   },
   {
    "duration": 0,
    "start_time": "2022-08-27T13:07:09.470Z"
   },
   {
    "duration": 0,
    "start_time": "2022-08-27T13:07:09.472Z"
   },
   {
    "duration": 0,
    "start_time": "2022-08-27T13:07:09.473Z"
   },
   {
    "duration": 0,
    "start_time": "2022-08-27T13:07:09.474Z"
   },
   {
    "duration": 0,
    "start_time": "2022-08-27T13:07:09.475Z"
   },
   {
    "duration": 0,
    "start_time": "2022-08-27T13:07:09.476Z"
   },
   {
    "duration": 0,
    "start_time": "2022-08-27T13:07:09.477Z"
   },
   {
    "duration": 0,
    "start_time": "2022-08-27T13:07:09.478Z"
   },
   {
    "duration": 0,
    "start_time": "2022-08-27T13:07:09.480Z"
   },
   {
    "duration": 0,
    "start_time": "2022-08-27T13:07:09.481Z"
   },
   {
    "duration": 0,
    "start_time": "2022-08-27T13:07:09.491Z"
   },
   {
    "duration": 72,
    "start_time": "2022-08-27T13:07:48.269Z"
   },
   {
    "duration": 17,
    "start_time": "2022-08-27T13:07:57.260Z"
   },
   {
    "duration": 33,
    "start_time": "2022-08-27T13:09:01.520Z"
   },
   {
    "duration": 46,
    "start_time": "2022-08-27T13:09:13.054Z"
   },
   {
    "duration": 23,
    "start_time": "2022-08-27T13:09:28.165Z"
   },
   {
    "duration": 32,
    "start_time": "2022-08-27T13:09:30.445Z"
   },
   {
    "duration": 31,
    "start_time": "2022-08-27T13:09:36.277Z"
   },
   {
    "duration": 27,
    "start_time": "2022-08-27T13:09:47.940Z"
   },
   {
    "duration": 22,
    "start_time": "2022-08-27T13:09:50.869Z"
   },
   {
    "duration": 25,
    "start_time": "2022-08-27T13:10:30.042Z"
   },
   {
    "duration": 24,
    "start_time": "2022-08-27T13:11:08.248Z"
   },
   {
    "duration": 13,
    "start_time": "2022-08-27T13:11:10.981Z"
   },
   {
    "duration": 15,
    "start_time": "2022-08-27T13:11:23.525Z"
   },
   {
    "duration": 15,
    "start_time": "2022-08-27T13:11:29.796Z"
   },
   {
    "duration": 19,
    "start_time": "2022-08-27T13:11:33.708Z"
   },
   {
    "duration": 29,
    "start_time": "2022-08-27T13:12:05.066Z"
   },
   {
    "duration": 43,
    "start_time": "2022-08-27T13:20:01.992Z"
   },
   {
    "duration": 14,
    "start_time": "2022-08-27T13:20:13.172Z"
   },
   {
    "duration": 17,
    "start_time": "2022-08-27T13:22:32.577Z"
   },
   {
    "duration": 19,
    "start_time": "2022-08-27T13:22:37.080Z"
   },
   {
    "duration": 26,
    "start_time": "2022-08-27T13:23:34.997Z"
   },
   {
    "duration": 17,
    "start_time": "2022-08-27T13:23:51.306Z"
   },
   {
    "duration": 23,
    "start_time": "2022-08-27T13:23:54.219Z"
   },
   {
    "duration": 880,
    "start_time": "2022-08-27T13:24:06.319Z"
   },
   {
    "duration": 491,
    "start_time": "2022-08-27T13:24:07.201Z"
   },
   {
    "duration": 40,
    "start_time": "2022-08-27T13:24:07.694Z"
   },
   {
    "duration": 80,
    "start_time": "2022-08-27T13:24:07.736Z"
   },
   {
    "duration": 874,
    "start_time": "2022-08-27T13:24:07.818Z"
   },
   {
    "duration": 27,
    "start_time": "2022-08-27T13:24:08.694Z"
   },
   {
    "duration": 70,
    "start_time": "2022-08-27T13:24:08.722Z"
   },
   {
    "duration": 22,
    "start_time": "2022-08-27T13:24:08.794Z"
   },
   {
    "duration": 184,
    "start_time": "2022-08-27T13:24:08.818Z"
   },
   {
    "duration": 7,
    "start_time": "2022-08-27T13:24:09.005Z"
   },
   {
    "duration": 15,
    "start_time": "2022-08-27T13:24:09.014Z"
   },
   {
    "duration": 76,
    "start_time": "2022-08-27T13:24:09.030Z"
   },
   {
    "duration": 15,
    "start_time": "2022-08-27T13:24:09.108Z"
   },
   {
    "duration": 8,
    "start_time": "2022-08-27T13:24:09.124Z"
   },
   {
    "duration": 91,
    "start_time": "2022-08-27T13:24:09.134Z"
   },
   {
    "duration": 3,
    "start_time": "2022-08-27T13:24:09.227Z"
   },
   {
    "duration": 2137,
    "start_time": "2022-08-27T13:24:09.232Z"
   },
   {
    "duration": 53,
    "start_time": "2022-08-27T13:24:11.371Z"
   },
   {
    "duration": 24,
    "start_time": "2022-08-27T13:24:11.426Z"
   },
   {
    "duration": 46,
    "start_time": "2022-08-27T13:24:11.452Z"
   },
   {
    "duration": 29,
    "start_time": "2022-08-27T13:24:11.499Z"
   },
   {
    "duration": 29,
    "start_time": "2022-08-27T13:24:11.529Z"
   },
   {
    "duration": 42,
    "start_time": "2022-08-27T13:24:11.560Z"
   },
   {
    "duration": 16,
    "start_time": "2022-08-27T13:24:11.603Z"
   },
   {
    "duration": 20,
    "start_time": "2022-08-27T13:24:11.621Z"
   },
   {
    "duration": 11,
    "start_time": "2022-08-27T13:24:11.643Z"
   },
   {
    "duration": 36,
    "start_time": "2022-08-27T13:24:11.656Z"
   },
   {
    "duration": 67,
    "start_time": "2022-08-27T13:24:11.695Z"
   },
   {
    "duration": 5,
    "start_time": "2022-08-27T13:24:11.763Z"
   },
   {
    "duration": 31,
    "start_time": "2022-08-27T13:24:11.769Z"
   },
   {
    "duration": 3,
    "start_time": "2022-08-27T13:24:11.802Z"
   },
   {
    "duration": 144,
    "start_time": "2022-08-27T13:24:11.807Z"
   },
   {
    "duration": 0,
    "start_time": "2022-08-27T13:24:11.954Z"
   },
   {
    "duration": 0,
    "start_time": "2022-08-27T13:24:11.955Z"
   },
   {
    "duration": 0,
    "start_time": "2022-08-27T13:24:11.957Z"
   },
   {
    "duration": 0,
    "start_time": "2022-08-27T13:24:11.958Z"
   },
   {
    "duration": 0,
    "start_time": "2022-08-27T13:24:11.960Z"
   },
   {
    "duration": 0,
    "start_time": "2022-08-27T13:24:11.962Z"
   },
   {
    "duration": 0,
    "start_time": "2022-08-27T13:24:11.963Z"
   },
   {
    "duration": 0,
    "start_time": "2022-08-27T13:24:11.964Z"
   },
   {
    "duration": 0,
    "start_time": "2022-08-27T13:24:11.965Z"
   },
   {
    "duration": 0,
    "start_time": "2022-08-27T13:24:11.992Z"
   },
   {
    "duration": 0,
    "start_time": "2022-08-27T13:24:11.994Z"
   },
   {
    "duration": 0,
    "start_time": "2022-08-27T13:24:11.996Z"
   },
   {
    "duration": 0,
    "start_time": "2022-08-27T13:24:11.997Z"
   },
   {
    "duration": 0,
    "start_time": "2022-08-27T13:24:11.999Z"
   },
   {
    "duration": 0,
    "start_time": "2022-08-27T13:24:12.001Z"
   },
   {
    "duration": 0,
    "start_time": "2022-08-27T13:24:12.002Z"
   },
   {
    "duration": 0,
    "start_time": "2022-08-27T13:24:12.003Z"
   },
   {
    "duration": 0,
    "start_time": "2022-08-27T13:24:12.004Z"
   },
   {
    "duration": 0,
    "start_time": "2022-08-27T13:24:12.005Z"
   },
   {
    "duration": 0,
    "start_time": "2022-08-27T13:24:12.007Z"
   },
   {
    "duration": 0,
    "start_time": "2022-08-27T13:24:12.008Z"
   },
   {
    "duration": 0,
    "start_time": "2022-08-27T13:24:12.010Z"
   },
   {
    "duration": 0,
    "start_time": "2022-08-27T13:24:12.011Z"
   },
   {
    "duration": 0,
    "start_time": "2022-08-27T13:24:12.013Z"
   },
   {
    "duration": 0,
    "start_time": "2022-08-27T13:24:12.014Z"
   },
   {
    "duration": 0,
    "start_time": "2022-08-27T13:24:12.016Z"
   },
   {
    "duration": 0,
    "start_time": "2022-08-27T13:24:12.017Z"
   },
   {
    "duration": 82,
    "start_time": "2022-08-27T13:27:23.426Z"
   },
   {
    "duration": 91,
    "start_time": "2022-08-27T13:27:31.222Z"
   },
   {
    "duration": 24,
    "start_time": "2022-08-27T13:27:36.150Z"
   },
   {
    "duration": 17,
    "start_time": "2022-08-27T13:28:23.203Z"
   },
   {
    "duration": 27,
    "start_time": "2022-08-27T13:28:30.155Z"
   },
   {
    "duration": 25,
    "start_time": "2022-08-27T13:28:42.657Z"
   },
   {
    "duration": 971,
    "start_time": "2022-08-27T13:28:56.183Z"
   },
   {
    "duration": 473,
    "start_time": "2022-08-27T13:28:57.156Z"
   },
   {
    "duration": 46,
    "start_time": "2022-08-27T13:28:57.632Z"
   },
   {
    "duration": 46,
    "start_time": "2022-08-27T13:28:57.680Z"
   },
   {
    "duration": 434,
    "start_time": "2022-08-27T13:28:57.728Z"
   },
   {
    "duration": 60,
    "start_time": "2022-08-27T13:28:58.164Z"
   },
   {
    "duration": 69,
    "start_time": "2022-08-27T13:28:58.226Z"
   },
   {
    "duration": 21,
    "start_time": "2022-08-27T13:28:58.296Z"
   },
   {
    "duration": 197,
    "start_time": "2022-08-27T13:28:58.319Z"
   },
   {
    "duration": 7,
    "start_time": "2022-08-27T13:28:58.519Z"
   },
   {
    "duration": 66,
    "start_time": "2022-08-27T13:28:58.527Z"
   },
   {
    "duration": 19,
    "start_time": "2022-08-27T13:28:58.595Z"
   },
   {
    "duration": 16,
    "start_time": "2022-08-27T13:28:58.616Z"
   },
   {
    "duration": 62,
    "start_time": "2022-08-27T13:28:58.634Z"
   },
   {
    "duration": 40,
    "start_time": "2022-08-27T13:28:58.698Z"
   },
   {
    "duration": 4,
    "start_time": "2022-08-27T13:28:58.792Z"
   },
   {
    "duration": 2737,
    "start_time": "2022-08-27T13:28:58.798Z"
   },
   {
    "duration": 57,
    "start_time": "2022-08-27T13:29:01.537Z"
   },
   {
    "duration": 24,
    "start_time": "2022-08-27T13:29:01.595Z"
   },
   {
    "duration": 33,
    "start_time": "2022-08-27T13:29:01.621Z"
   },
   {
    "duration": 51,
    "start_time": "2022-08-27T13:29:01.655Z"
   },
   {
    "duration": 31,
    "start_time": "2022-08-27T13:29:01.708Z"
   },
   {
    "duration": 16,
    "start_time": "2022-08-27T13:29:01.740Z"
   },
   {
    "duration": 64,
    "start_time": "2022-08-27T13:29:01.758Z"
   },
   {
    "duration": 42,
    "start_time": "2022-08-27T13:29:01.824Z"
   },
   {
    "duration": 17,
    "start_time": "2022-08-27T13:29:01.869Z"
   },
   {
    "duration": 60,
    "start_time": "2022-08-27T13:29:01.889Z"
   },
   {
    "duration": 123,
    "start_time": "2022-08-27T13:29:01.954Z"
   },
   {
    "duration": 6,
    "start_time": "2022-08-27T13:29:02.079Z"
   },
   {
    "duration": 49,
    "start_time": "2022-08-27T13:29:02.086Z"
   },
   {
    "duration": 22,
    "start_time": "2022-08-27T13:29:02.137Z"
   },
   {
    "duration": 107,
    "start_time": "2022-08-27T13:29:02.161Z"
   },
   {
    "duration": 0,
    "start_time": "2022-08-27T13:29:02.270Z"
   },
   {
    "duration": 0,
    "start_time": "2022-08-27T13:29:02.271Z"
   },
   {
    "duration": 0,
    "start_time": "2022-08-27T13:29:02.273Z"
   },
   {
    "duration": 0,
    "start_time": "2022-08-27T13:29:02.274Z"
   },
   {
    "duration": 0,
    "start_time": "2022-08-27T13:29:02.275Z"
   },
   {
    "duration": 0,
    "start_time": "2022-08-27T13:29:02.277Z"
   },
   {
    "duration": 1,
    "start_time": "2022-08-27T13:29:02.277Z"
   },
   {
    "duration": 0,
    "start_time": "2022-08-27T13:29:02.292Z"
   },
   {
    "duration": 0,
    "start_time": "2022-08-27T13:29:02.293Z"
   },
   {
    "duration": 0,
    "start_time": "2022-08-27T13:29:02.294Z"
   },
   {
    "duration": 0,
    "start_time": "2022-08-27T13:29:02.294Z"
   },
   {
    "duration": 0,
    "start_time": "2022-08-27T13:29:02.295Z"
   },
   {
    "duration": 0,
    "start_time": "2022-08-27T13:29:02.296Z"
   },
   {
    "duration": 0,
    "start_time": "2022-08-27T13:29:02.297Z"
   },
   {
    "duration": 0,
    "start_time": "2022-08-27T13:29:02.298Z"
   },
   {
    "duration": 0,
    "start_time": "2022-08-27T13:29:02.299Z"
   },
   {
    "duration": 0,
    "start_time": "2022-08-27T13:29:02.300Z"
   },
   {
    "duration": 0,
    "start_time": "2022-08-27T13:29:02.301Z"
   },
   {
    "duration": 0,
    "start_time": "2022-08-27T13:29:02.302Z"
   },
   {
    "duration": 0,
    "start_time": "2022-08-27T13:29:02.303Z"
   },
   {
    "duration": 0,
    "start_time": "2022-08-27T13:29:02.304Z"
   },
   {
    "duration": 0,
    "start_time": "2022-08-27T13:29:02.305Z"
   },
   {
    "duration": 0,
    "start_time": "2022-08-27T13:29:02.305Z"
   },
   {
    "duration": 0,
    "start_time": "2022-08-27T13:29:02.307Z"
   },
   {
    "duration": 0,
    "start_time": "2022-08-27T13:29:02.308Z"
   },
   {
    "duration": 0,
    "start_time": "2022-08-27T13:29:02.309Z"
   },
   {
    "duration": 0,
    "start_time": "2022-08-27T13:29:02.309Z"
   },
   {
    "duration": 18,
    "start_time": "2022-08-27T13:50:24.526Z"
   },
   {
    "duration": 13,
    "start_time": "2022-08-27T13:50:36.893Z"
   },
   {
    "duration": 4,
    "start_time": "2022-08-27T13:52:06.201Z"
   },
   {
    "duration": 6,
    "start_time": "2022-08-27T13:53:06.364Z"
   },
   {
    "duration": 12,
    "start_time": "2022-08-27T13:53:17.304Z"
   },
   {
    "duration": 17,
    "start_time": "2022-08-27T13:53:36.086Z"
   },
   {
    "duration": 969,
    "start_time": "2022-08-27T13:53:51.312Z"
   },
   {
    "duration": 442,
    "start_time": "2022-08-27T13:53:52.283Z"
   },
   {
    "duration": 45,
    "start_time": "2022-08-27T13:53:52.727Z"
   },
   {
    "duration": 32,
    "start_time": "2022-08-27T13:53:52.775Z"
   },
   {
    "duration": 436,
    "start_time": "2022-08-27T13:53:52.809Z"
   },
   {
    "duration": 29,
    "start_time": "2022-08-27T13:53:53.247Z"
   },
   {
    "duration": 19,
    "start_time": "2022-08-27T13:53:53.291Z"
   },
   {
    "duration": 21,
    "start_time": "2022-08-27T13:53:53.312Z"
   },
   {
    "duration": 117,
    "start_time": "2022-08-27T13:53:53.335Z"
   },
   {
    "duration": 6,
    "start_time": "2022-08-27T13:53:53.456Z"
   },
   {
    "duration": 15,
    "start_time": "2022-08-27T13:53:53.464Z"
   },
   {
    "duration": 18,
    "start_time": "2022-08-27T13:53:53.492Z"
   },
   {
    "duration": 14,
    "start_time": "2022-08-27T13:53:53.511Z"
   },
   {
    "duration": 7,
    "start_time": "2022-08-27T13:53:53.526Z"
   },
   {
    "duration": 60,
    "start_time": "2022-08-27T13:53:53.535Z"
   },
   {
    "duration": 4,
    "start_time": "2022-08-27T13:53:53.596Z"
   },
   {
    "duration": 2205,
    "start_time": "2022-08-27T13:53:53.601Z"
   },
   {
    "duration": 100,
    "start_time": "2022-08-27T13:53:55.807Z"
   },
   {
    "duration": 26,
    "start_time": "2022-08-27T13:53:55.909Z"
   },
   {
    "duration": 90,
    "start_time": "2022-08-27T13:53:55.936Z"
   },
   {
    "duration": 82,
    "start_time": "2022-08-27T13:53:56.028Z"
   },
   {
    "duration": 84,
    "start_time": "2022-08-27T13:53:56.112Z"
   },
   {
    "duration": 16,
    "start_time": "2022-08-27T13:53:56.197Z"
   },
   {
    "duration": 81,
    "start_time": "2022-08-27T13:53:56.214Z"
   },
   {
    "duration": 48,
    "start_time": "2022-08-27T13:53:56.297Z"
   },
   {
    "duration": 51,
    "start_time": "2022-08-27T13:53:56.347Z"
   },
   {
    "duration": 5,
    "start_time": "2022-08-27T13:53:56.400Z"
   },
   {
    "duration": 24,
    "start_time": "2022-08-27T13:53:56.409Z"
   },
   {
    "duration": 57,
    "start_time": "2022-08-27T13:53:56.435Z"
   },
   {
    "duration": 133,
    "start_time": "2022-08-27T13:53:56.494Z"
   },
   {
    "duration": 5,
    "start_time": "2022-08-27T13:53:56.629Z"
   },
   {
    "duration": 74,
    "start_time": "2022-08-27T13:53:56.636Z"
   },
   {
    "duration": 5,
    "start_time": "2022-08-27T13:53:56.712Z"
   },
   {
    "duration": 274,
    "start_time": "2022-08-27T13:53:56.719Z"
   },
   {
    "duration": 0,
    "start_time": "2022-08-27T13:53:56.995Z"
   },
   {
    "duration": 0,
    "start_time": "2022-08-27T13:53:56.996Z"
   },
   {
    "duration": 0,
    "start_time": "2022-08-27T13:53:56.997Z"
   },
   {
    "duration": 0,
    "start_time": "2022-08-27T13:53:56.998Z"
   },
   {
    "duration": 0,
    "start_time": "2022-08-27T13:53:56.999Z"
   },
   {
    "duration": 0,
    "start_time": "2022-08-27T13:53:57.000Z"
   },
   {
    "duration": 0,
    "start_time": "2022-08-27T13:53:57.001Z"
   },
   {
    "duration": 0,
    "start_time": "2022-08-27T13:53:57.002Z"
   },
   {
    "duration": 0,
    "start_time": "2022-08-27T13:53:57.003Z"
   },
   {
    "duration": 0,
    "start_time": "2022-08-27T13:53:57.004Z"
   },
   {
    "duration": 0,
    "start_time": "2022-08-27T13:53:57.005Z"
   },
   {
    "duration": 0,
    "start_time": "2022-08-27T13:53:57.006Z"
   },
   {
    "duration": 0,
    "start_time": "2022-08-27T13:53:57.007Z"
   },
   {
    "duration": 0,
    "start_time": "2022-08-27T13:53:57.008Z"
   },
   {
    "duration": 0,
    "start_time": "2022-08-27T13:53:57.010Z"
   },
   {
    "duration": 0,
    "start_time": "2022-08-27T13:53:57.011Z"
   },
   {
    "duration": 0,
    "start_time": "2022-08-27T13:53:57.012Z"
   },
   {
    "duration": 0,
    "start_time": "2022-08-27T13:53:57.013Z"
   },
   {
    "duration": 0,
    "start_time": "2022-08-27T13:53:57.014Z"
   },
   {
    "duration": 0,
    "start_time": "2022-08-27T13:53:57.015Z"
   },
   {
    "duration": 0,
    "start_time": "2022-08-27T13:53:57.016Z"
   },
   {
    "duration": 0,
    "start_time": "2022-08-27T13:53:57.017Z"
   },
   {
    "duration": 0,
    "start_time": "2022-08-27T13:53:57.018Z"
   },
   {
    "duration": 0,
    "start_time": "2022-08-27T13:53:57.019Z"
   },
   {
    "duration": 0,
    "start_time": "2022-08-27T13:53:57.020Z"
   },
   {
    "duration": 0,
    "start_time": "2022-08-27T13:53:57.022Z"
   },
   {
    "duration": 0,
    "start_time": "2022-08-27T13:53:57.023Z"
   },
   {
    "duration": 13,
    "start_time": "2022-08-27T13:54:48.828Z"
   },
   {
    "duration": 26,
    "start_time": "2022-08-27T13:55:40.448Z"
   },
   {
    "duration": 10,
    "start_time": "2022-08-27T13:56:14.563Z"
   },
   {
    "duration": 17,
    "start_time": "2022-08-27T13:56:19.875Z"
   },
   {
    "duration": 24,
    "start_time": "2022-08-27T13:56:26.403Z"
   },
   {
    "duration": 12,
    "start_time": "2022-08-27T13:56:34.041Z"
   },
   {
    "duration": 29,
    "start_time": "2022-08-27T13:56:55.593Z"
   },
   {
    "duration": 7,
    "start_time": "2022-08-27T13:57:10.324Z"
   },
   {
    "duration": 12,
    "start_time": "2022-08-27T13:57:10.870Z"
   },
   {
    "duration": 839,
    "start_time": "2022-08-27T13:57:18.414Z"
   },
   {
    "duration": 684,
    "start_time": "2022-08-27T13:57:19.255Z"
   },
   {
    "duration": 79,
    "start_time": "2022-08-27T13:57:19.941Z"
   },
   {
    "duration": 80,
    "start_time": "2022-08-27T13:57:20.022Z"
   },
   {
    "duration": 810,
    "start_time": "2022-08-27T13:57:20.104Z"
   },
   {
    "duration": 82,
    "start_time": "2022-08-27T13:57:20.916Z"
   },
   {
    "duration": 19,
    "start_time": "2022-08-27T13:57:20.999Z"
   },
   {
    "duration": 73,
    "start_time": "2022-08-27T13:57:21.020Z"
   },
   {
    "duration": 136,
    "start_time": "2022-08-27T13:57:21.095Z"
   },
   {
    "duration": 58,
    "start_time": "2022-08-27T13:57:21.234Z"
   },
   {
    "duration": 12,
    "start_time": "2022-08-27T13:57:21.294Z"
   },
   {
    "duration": 21,
    "start_time": "2022-08-27T13:57:21.308Z"
   },
   {
    "duration": 68,
    "start_time": "2022-08-27T13:57:21.331Z"
   },
   {
    "duration": 8,
    "start_time": "2022-08-27T13:57:21.401Z"
   },
   {
    "duration": 37,
    "start_time": "2022-08-27T13:57:21.410Z"
   },
   {
    "duration": 4,
    "start_time": "2022-08-27T13:57:21.449Z"
   },
   {
    "duration": 2039,
    "start_time": "2022-08-27T13:57:21.454Z"
   },
   {
    "duration": 51,
    "start_time": "2022-08-27T13:57:23.495Z"
   },
   {
    "duration": 44,
    "start_time": "2022-08-27T13:57:23.548Z"
   },
   {
    "duration": 34,
    "start_time": "2022-08-27T13:57:23.594Z"
   },
   {
    "duration": 30,
    "start_time": "2022-08-27T13:57:23.630Z"
   },
   {
    "duration": 57,
    "start_time": "2022-08-27T13:57:23.662Z"
   },
   {
    "duration": 15,
    "start_time": "2022-08-27T13:57:23.721Z"
   },
   {
    "duration": 21,
    "start_time": "2022-08-27T13:57:23.738Z"
   },
   {
    "duration": 40,
    "start_time": "2022-08-27T13:57:23.761Z"
   },
   {
    "duration": 14,
    "start_time": "2022-08-27T13:57:23.802Z"
   },
   {
    "duration": 65,
    "start_time": "2022-08-27T13:57:23.819Z"
   },
   {
    "duration": 44,
    "start_time": "2022-08-27T13:57:23.888Z"
   },
   {
    "duration": 20,
    "start_time": "2022-08-27T13:57:23.933Z"
   },
   {
    "duration": 109,
    "start_time": "2022-08-27T13:57:23.955Z"
   },
   {
    "duration": 5,
    "start_time": "2022-08-27T13:57:24.066Z"
   },
   {
    "duration": 55,
    "start_time": "2022-08-27T13:57:24.073Z"
   },
   {
    "duration": 23,
    "start_time": "2022-08-27T13:57:24.130Z"
   },
   {
    "duration": 59,
    "start_time": "2022-08-27T13:57:24.155Z"
   },
   {
    "duration": 15,
    "start_time": "2022-08-27T13:57:24.216Z"
   },
   {
    "duration": 44,
    "start_time": "2022-08-27T13:57:24.233Z"
   },
   {
    "duration": 13,
    "start_time": "2022-08-27T13:57:24.279Z"
   },
   {
    "duration": 57,
    "start_time": "2022-08-27T13:57:24.294Z"
   },
   {
    "duration": 3,
    "start_time": "2022-08-27T13:57:24.352Z"
   },
   {
    "duration": 49,
    "start_time": "2022-08-27T13:57:24.357Z"
   },
   {
    "duration": 120,
    "start_time": "2022-08-27T13:57:24.407Z"
   },
   {
    "duration": 0,
    "start_time": "2022-08-27T13:57:24.529Z"
   },
   {
    "duration": 0,
    "start_time": "2022-08-27T13:57:24.530Z"
   },
   {
    "duration": 0,
    "start_time": "2022-08-27T13:57:24.531Z"
   },
   {
    "duration": 0,
    "start_time": "2022-08-27T13:57:24.532Z"
   },
   {
    "duration": 0,
    "start_time": "2022-08-27T13:57:24.534Z"
   },
   {
    "duration": 0,
    "start_time": "2022-08-27T13:57:24.535Z"
   },
   {
    "duration": 0,
    "start_time": "2022-08-27T13:57:24.536Z"
   },
   {
    "duration": 0,
    "start_time": "2022-08-27T13:57:24.537Z"
   },
   {
    "duration": 0,
    "start_time": "2022-08-27T13:57:24.538Z"
   },
   {
    "duration": 0,
    "start_time": "2022-08-27T13:57:24.540Z"
   },
   {
    "duration": 0,
    "start_time": "2022-08-27T13:57:24.541Z"
   },
   {
    "duration": 0,
    "start_time": "2022-08-27T13:57:24.542Z"
   },
   {
    "duration": 0,
    "start_time": "2022-08-27T13:57:24.543Z"
   },
   {
    "duration": 0,
    "start_time": "2022-08-27T13:57:24.544Z"
   },
   {
    "duration": 0,
    "start_time": "2022-08-27T13:57:24.545Z"
   },
   {
    "duration": 0,
    "start_time": "2022-08-27T13:57:24.546Z"
   },
   {
    "duration": 0,
    "start_time": "2022-08-27T13:57:24.547Z"
   },
   {
    "duration": 0,
    "start_time": "2022-08-27T13:57:24.549Z"
   },
   {
    "duration": 0,
    "start_time": "2022-08-27T13:57:24.550Z"
   },
   {
    "duration": 0,
    "start_time": "2022-08-27T13:57:24.551Z"
   },
   {
    "duration": 6,
    "start_time": "2022-08-27T14:01:28.010Z"
   },
   {
    "duration": 4,
    "start_time": "2022-08-27T14:02:09.665Z"
   },
   {
    "duration": 1303,
    "start_time": "2022-08-27T14:02:10.064Z"
   },
   {
    "duration": 0,
    "start_time": "2022-08-27T14:02:11.369Z"
   },
   {
    "duration": 913,
    "start_time": "2022-08-27T14:02:29.931Z"
   },
   {
    "duration": 509,
    "start_time": "2022-08-27T14:02:30.846Z"
   },
   {
    "duration": 60,
    "start_time": "2022-08-27T14:02:31.359Z"
   },
   {
    "duration": 40,
    "start_time": "2022-08-27T14:02:31.422Z"
   },
   {
    "duration": 546,
    "start_time": "2022-08-27T14:02:31.464Z"
   },
   {
    "duration": 41,
    "start_time": "2022-08-27T14:02:32.013Z"
   },
   {
    "duration": 54,
    "start_time": "2022-08-27T14:02:32.056Z"
   },
   {
    "duration": 32,
    "start_time": "2022-08-27T14:02:32.115Z"
   },
   {
    "duration": 125,
    "start_time": "2022-08-27T14:02:32.150Z"
   },
   {
    "duration": 19,
    "start_time": "2022-08-27T14:02:32.279Z"
   },
   {
    "duration": 28,
    "start_time": "2022-08-27T14:02:32.304Z"
   },
   {
    "duration": 25,
    "start_time": "2022-08-27T14:02:32.334Z"
   },
   {
    "duration": 20,
    "start_time": "2022-08-27T14:02:32.362Z"
   },
   {
    "duration": 13,
    "start_time": "2022-08-27T14:02:32.384Z"
   },
   {
    "duration": 65,
    "start_time": "2022-08-27T14:02:32.399Z"
   },
   {
    "duration": 5,
    "start_time": "2022-08-27T14:02:32.466Z"
   },
   {
    "duration": 2224,
    "start_time": "2022-08-27T14:02:32.474Z"
   },
   {
    "duration": 72,
    "start_time": "2022-08-27T14:02:34.699Z"
   },
   {
    "duration": 39,
    "start_time": "2022-08-27T14:02:34.773Z"
   },
   {
    "duration": 35,
    "start_time": "2022-08-27T14:02:34.814Z"
   },
   {
    "duration": 57,
    "start_time": "2022-08-27T14:02:34.851Z"
   },
   {
    "duration": 35,
    "start_time": "2022-08-27T14:02:34.910Z"
   },
   {
    "duration": 17,
    "start_time": "2022-08-27T14:02:34.946Z"
   },
   {
    "duration": 49,
    "start_time": "2022-08-27T14:02:34.965Z"
   },
   {
    "duration": 36,
    "start_time": "2022-08-27T14:02:35.017Z"
   },
   {
    "duration": 13,
    "start_time": "2022-08-27T14:02:35.055Z"
   },
   {
    "duration": 4,
    "start_time": "2022-08-27T14:02:35.099Z"
   },
   {
    "duration": 1477,
    "start_time": "2022-08-27T14:02:35.109Z"
   },
   {
    "duration": 0,
    "start_time": "2022-08-27T14:02:36.588Z"
   },
   {
    "duration": 0,
    "start_time": "2022-08-27T14:02:36.590Z"
   },
   {
    "duration": 0,
    "start_time": "2022-08-27T14:02:36.591Z"
   },
   {
    "duration": 0,
    "start_time": "2022-08-27T14:02:36.592Z"
   },
   {
    "duration": 0,
    "start_time": "2022-08-27T14:02:36.593Z"
   },
   {
    "duration": 0,
    "start_time": "2022-08-27T14:02:36.595Z"
   },
   {
    "duration": 0,
    "start_time": "2022-08-27T14:02:36.596Z"
   },
   {
    "duration": 0,
    "start_time": "2022-08-27T14:02:36.597Z"
   },
   {
    "duration": 0,
    "start_time": "2022-08-27T14:02:36.598Z"
   },
   {
    "duration": 0,
    "start_time": "2022-08-27T14:02:36.599Z"
   },
   {
    "duration": 0,
    "start_time": "2022-08-27T14:02:36.600Z"
   },
   {
    "duration": 0,
    "start_time": "2022-08-27T14:02:36.603Z"
   },
   {
    "duration": 0,
    "start_time": "2022-08-27T14:02:36.604Z"
   },
   {
    "duration": 0,
    "start_time": "2022-08-27T14:02:36.605Z"
   },
   {
    "duration": 0,
    "start_time": "2022-08-27T14:02:36.606Z"
   },
   {
    "duration": 0,
    "start_time": "2022-08-27T14:02:36.607Z"
   },
   {
    "duration": 0,
    "start_time": "2022-08-27T14:02:36.609Z"
   },
   {
    "duration": 0,
    "start_time": "2022-08-27T14:02:36.611Z"
   },
   {
    "duration": 0,
    "start_time": "2022-08-27T14:02:36.612Z"
   },
   {
    "duration": 0,
    "start_time": "2022-08-27T14:02:36.614Z"
   },
   {
    "duration": 0,
    "start_time": "2022-08-27T14:02:36.615Z"
   },
   {
    "duration": 0,
    "start_time": "2022-08-27T14:02:36.617Z"
   },
   {
    "duration": 0,
    "start_time": "2022-08-27T14:02:36.620Z"
   },
   {
    "duration": 0,
    "start_time": "2022-08-27T14:02:36.622Z"
   },
   {
    "duration": 0,
    "start_time": "2022-08-27T14:02:36.624Z"
   },
   {
    "duration": 0,
    "start_time": "2022-08-27T14:02:36.626Z"
   },
   {
    "duration": 0,
    "start_time": "2022-08-27T14:02:36.627Z"
   },
   {
    "duration": 0,
    "start_time": "2022-08-27T14:02:36.629Z"
   },
   {
    "duration": 0,
    "start_time": "2022-08-27T14:02:36.630Z"
   },
   {
    "duration": 0,
    "start_time": "2022-08-27T14:02:36.631Z"
   },
   {
    "duration": 0,
    "start_time": "2022-08-27T14:02:36.633Z"
   },
   {
    "duration": 0,
    "start_time": "2022-08-27T14:02:36.635Z"
   },
   {
    "duration": 0,
    "start_time": "2022-08-27T14:02:36.636Z"
   },
   {
    "duration": 0,
    "start_time": "2022-08-27T14:02:36.692Z"
   },
   {
    "duration": 1221,
    "start_time": "2022-08-27T14:02:55.600Z"
   },
   {
    "duration": 0,
    "start_time": "2022-08-27T14:02:56.823Z"
   },
   {
    "duration": 11,
    "start_time": "2022-08-27T14:02:58.132Z"
   },
   {
    "duration": 939,
    "start_time": "2022-08-27T14:03:03.612Z"
   },
   {
    "duration": 537,
    "start_time": "2022-08-27T14:03:04.553Z"
   },
   {
    "duration": 61,
    "start_time": "2022-08-27T14:03:05.096Z"
   },
   {
    "duration": 68,
    "start_time": "2022-08-27T14:03:05.161Z"
   },
   {
    "duration": 498,
    "start_time": "2022-08-27T14:03:05.231Z"
   },
   {
    "duration": 31,
    "start_time": "2022-08-27T14:03:05.731Z"
   },
   {
    "duration": 48,
    "start_time": "2022-08-27T14:03:05.764Z"
   },
   {
    "duration": 33,
    "start_time": "2022-08-27T14:03:05.814Z"
   },
   {
    "duration": 125,
    "start_time": "2022-08-27T14:03:05.849Z"
   },
   {
    "duration": 8,
    "start_time": "2022-08-27T14:03:05.978Z"
   },
   {
    "duration": 32,
    "start_time": "2022-08-27T14:03:05.993Z"
   },
   {
    "duration": 27,
    "start_time": "2022-08-27T14:03:06.027Z"
   },
   {
    "duration": 15,
    "start_time": "2022-08-27T14:03:06.056Z"
   },
   {
    "duration": 9,
    "start_time": "2022-08-27T14:03:06.072Z"
   },
   {
    "duration": 51,
    "start_time": "2022-08-27T14:03:06.082Z"
   },
   {
    "duration": 4,
    "start_time": "2022-08-27T14:03:06.135Z"
   },
   {
    "duration": 2231,
    "start_time": "2022-08-27T14:03:06.141Z"
   },
   {
    "duration": 63,
    "start_time": "2022-08-27T14:03:08.373Z"
   },
   {
    "duration": 25,
    "start_time": "2022-08-27T14:03:08.438Z"
   },
   {
    "duration": 57,
    "start_time": "2022-08-27T14:03:08.464Z"
   },
   {
    "duration": 31,
    "start_time": "2022-08-27T14:03:08.523Z"
   },
   {
    "duration": 63,
    "start_time": "2022-08-27T14:03:08.556Z"
   },
   {
    "duration": 22,
    "start_time": "2022-08-27T14:03:08.621Z"
   },
   {
    "duration": 19,
    "start_time": "2022-08-27T14:03:08.645Z"
   },
   {
    "duration": 59,
    "start_time": "2022-08-27T14:03:08.666Z"
   },
   {
    "duration": 19,
    "start_time": "2022-08-27T14:03:08.728Z"
   },
   {
    "duration": 10,
    "start_time": "2022-08-27T14:03:08.749Z"
   },
   {
    "duration": 7,
    "start_time": "2022-08-27T14:03:08.765Z"
   },
   {
    "duration": 32,
    "start_time": "2022-08-27T14:03:08.793Z"
   },
   {
    "duration": 7,
    "start_time": "2022-08-27T14:03:08.827Z"
   },
   {
    "duration": 94,
    "start_time": "2022-08-27T14:03:08.836Z"
   },
   {
    "duration": 6,
    "start_time": "2022-08-27T14:03:08.931Z"
   },
   {
    "duration": 23,
    "start_time": "2022-08-27T14:03:08.939Z"
   },
   {
    "duration": 5,
    "start_time": "2022-08-27T14:03:08.964Z"
   },
   {
    "duration": 72,
    "start_time": "2022-08-27T14:03:08.971Z"
   },
   {
    "duration": 3,
    "start_time": "2022-08-27T14:03:09.045Z"
   },
   {
    "duration": 22,
    "start_time": "2022-08-27T14:03:09.050Z"
   },
   {
    "duration": 3,
    "start_time": "2022-08-27T14:03:09.073Z"
   },
   {
    "duration": 30,
    "start_time": "2022-08-27T14:03:09.078Z"
   },
   {
    "duration": 13,
    "start_time": "2022-08-27T14:03:09.110Z"
   },
   {
    "duration": 23,
    "start_time": "2022-08-27T14:03:09.126Z"
   },
   {
    "duration": 138,
    "start_time": "2022-08-27T14:03:09.151Z"
   },
   {
    "duration": 0,
    "start_time": "2022-08-27T14:03:09.294Z"
   },
   {
    "duration": 0,
    "start_time": "2022-08-27T14:03:09.294Z"
   },
   {
    "duration": 0,
    "start_time": "2022-08-27T14:03:09.295Z"
   },
   {
    "duration": 0,
    "start_time": "2022-08-27T14:03:09.297Z"
   },
   {
    "duration": 0,
    "start_time": "2022-08-27T14:03:09.298Z"
   },
   {
    "duration": 0,
    "start_time": "2022-08-27T14:03:09.299Z"
   },
   {
    "duration": 0,
    "start_time": "2022-08-27T14:03:09.307Z"
   },
   {
    "duration": 0,
    "start_time": "2022-08-27T14:03:09.313Z"
   },
   {
    "duration": 0,
    "start_time": "2022-08-27T14:03:09.314Z"
   },
   {
    "duration": 0,
    "start_time": "2022-08-27T14:03:09.327Z"
   },
   {
    "duration": 0,
    "start_time": "2022-08-27T14:03:09.329Z"
   },
   {
    "duration": 0,
    "start_time": "2022-08-27T14:03:09.331Z"
   },
   {
    "duration": 0,
    "start_time": "2022-08-27T14:03:09.333Z"
   },
   {
    "duration": 0,
    "start_time": "2022-08-27T14:03:09.335Z"
   },
   {
    "duration": 0,
    "start_time": "2022-08-27T14:03:09.337Z"
   },
   {
    "duration": 0,
    "start_time": "2022-08-27T14:03:09.338Z"
   },
   {
    "duration": 0,
    "start_time": "2022-08-27T14:03:09.340Z"
   },
   {
    "duration": 0,
    "start_time": "2022-08-27T14:03:09.342Z"
   },
   {
    "duration": 0,
    "start_time": "2022-08-27T14:03:09.344Z"
   },
   {
    "duration": 0,
    "start_time": "2022-08-27T14:03:09.346Z"
   },
   {
    "duration": 4,
    "start_time": "2022-08-27T14:04:10.151Z"
   },
   {
    "duration": 5,
    "start_time": "2022-08-27T14:04:10.631Z"
   },
   {
    "duration": 13,
    "start_time": "2022-08-27T14:04:11.038Z"
   },
   {
    "duration": 5,
    "start_time": "2022-08-27T14:05:34.243Z"
   },
   {
    "duration": 6,
    "start_time": "2022-08-27T14:05:34.723Z"
   },
   {
    "duration": 12,
    "start_time": "2022-08-27T14:05:41.124Z"
   },
   {
    "duration": 925,
    "start_time": "2022-08-27T14:05:48.355Z"
   },
   {
    "duration": 597,
    "start_time": "2022-08-27T14:05:49.282Z"
   },
   {
    "duration": 79,
    "start_time": "2022-08-27T14:05:49.881Z"
   },
   {
    "duration": 57,
    "start_time": "2022-08-27T14:05:49.963Z"
   },
   {
    "duration": 553,
    "start_time": "2022-08-27T14:05:50.033Z"
   },
   {
    "duration": 48,
    "start_time": "2022-08-27T14:05:50.588Z"
   },
   {
    "duration": 20,
    "start_time": "2022-08-27T14:05:50.639Z"
   },
   {
    "duration": 46,
    "start_time": "2022-08-27T14:05:50.661Z"
   },
   {
    "duration": 152,
    "start_time": "2022-08-27T14:05:50.709Z"
   },
   {
    "duration": 10,
    "start_time": "2022-08-27T14:05:50.866Z"
   },
   {
    "duration": 16,
    "start_time": "2022-08-27T14:05:50.878Z"
   },
   {
    "duration": 51,
    "start_time": "2022-08-27T14:05:50.896Z"
   },
   {
    "duration": 17,
    "start_time": "2022-08-27T14:05:50.949Z"
   },
   {
    "duration": 10,
    "start_time": "2022-08-27T14:05:50.969Z"
   },
   {
    "duration": 64,
    "start_time": "2022-08-27T14:05:50.981Z"
   },
   {
    "duration": 4,
    "start_time": "2022-08-27T14:05:51.047Z"
   },
   {
    "duration": 2617,
    "start_time": "2022-08-27T14:05:51.053Z"
   },
   {
    "duration": 65,
    "start_time": "2022-08-27T14:05:53.672Z"
   },
   {
    "duration": 38,
    "start_time": "2022-08-27T14:05:53.739Z"
   },
   {
    "duration": 56,
    "start_time": "2022-08-27T14:05:53.779Z"
   },
   {
    "duration": 31,
    "start_time": "2022-08-27T14:05:53.837Z"
   },
   {
    "duration": 61,
    "start_time": "2022-08-27T14:05:53.870Z"
   },
   {
    "duration": 16,
    "start_time": "2022-08-27T14:05:53.933Z"
   },
   {
    "duration": 49,
    "start_time": "2022-08-27T14:05:53.951Z"
   },
   {
    "duration": 31,
    "start_time": "2022-08-27T14:05:54.004Z"
   },
   {
    "duration": 12,
    "start_time": "2022-08-27T14:05:54.037Z"
   },
   {
    "duration": 20,
    "start_time": "2022-08-27T14:05:54.051Z"
   },
   {
    "duration": 20,
    "start_time": "2022-08-27T14:05:54.075Z"
   },
   {
    "duration": 31,
    "start_time": "2022-08-27T14:05:54.104Z"
   },
   {
    "duration": 16,
    "start_time": "2022-08-27T14:05:54.137Z"
   },
   {
    "duration": 100,
    "start_time": "2022-08-27T14:05:54.155Z"
   },
   {
    "duration": 5,
    "start_time": "2022-08-27T14:05:54.256Z"
   },
   {
    "duration": 16,
    "start_time": "2022-08-27T14:05:54.263Z"
   },
   {
    "duration": 7,
    "start_time": "2022-08-27T14:05:54.291Z"
   },
   {
    "duration": 52,
    "start_time": "2022-08-27T14:05:54.301Z"
   },
   {
    "duration": 2,
    "start_time": "2022-08-27T14:05:54.355Z"
   },
   {
    "duration": 19,
    "start_time": "2022-08-27T14:05:54.358Z"
   },
   {
    "duration": 2,
    "start_time": "2022-08-27T14:05:54.379Z"
   },
   {
    "duration": 35,
    "start_time": "2022-08-27T14:05:54.383Z"
   },
   {
    "duration": 4,
    "start_time": "2022-08-27T14:05:54.420Z"
   },
   {
    "duration": 19,
    "start_time": "2022-08-27T14:05:54.426Z"
   },
   {
    "duration": 137,
    "start_time": "2022-08-27T14:05:54.447Z"
   },
   {
    "duration": 0,
    "start_time": "2022-08-27T14:05:54.585Z"
   },
   {
    "duration": 0,
    "start_time": "2022-08-27T14:05:54.598Z"
   },
   {
    "duration": 0,
    "start_time": "2022-08-27T14:05:54.599Z"
   },
   {
    "duration": 0,
    "start_time": "2022-08-27T14:05:54.600Z"
   },
   {
    "duration": 0,
    "start_time": "2022-08-27T14:05:54.600Z"
   },
   {
    "duration": 0,
    "start_time": "2022-08-27T14:05:54.601Z"
   },
   {
    "duration": 0,
    "start_time": "2022-08-27T14:05:54.602Z"
   },
   {
    "duration": 0,
    "start_time": "2022-08-27T14:05:54.604Z"
   },
   {
    "duration": 0,
    "start_time": "2022-08-27T14:05:54.606Z"
   },
   {
    "duration": 0,
    "start_time": "2022-08-27T14:05:54.607Z"
   },
   {
    "duration": 0,
    "start_time": "2022-08-27T14:05:54.608Z"
   },
   {
    "duration": 0,
    "start_time": "2022-08-27T14:05:54.609Z"
   },
   {
    "duration": 0,
    "start_time": "2022-08-27T14:05:54.610Z"
   },
   {
    "duration": 0,
    "start_time": "2022-08-27T14:05:54.611Z"
   },
   {
    "duration": 0,
    "start_time": "2022-08-27T14:05:54.611Z"
   },
   {
    "duration": 0,
    "start_time": "2022-08-27T14:05:54.612Z"
   },
   {
    "duration": 0,
    "start_time": "2022-08-27T14:05:54.613Z"
   },
   {
    "duration": 0,
    "start_time": "2022-08-27T14:05:54.615Z"
   },
   {
    "duration": 0,
    "start_time": "2022-08-27T14:05:54.616Z"
   },
   {
    "duration": 0,
    "start_time": "2022-08-27T14:05:54.620Z"
   },
   {
    "duration": 704,
    "start_time": "2022-08-27T14:07:17.514Z"
   },
   {
    "duration": 17,
    "start_time": "2022-08-27T14:07:18.520Z"
   },
   {
    "duration": 667,
    "start_time": "2022-08-27T14:07:41.097Z"
   },
   {
    "duration": 17,
    "start_time": "2022-08-27T14:07:41.849Z"
   },
   {
    "duration": 9,
    "start_time": "2022-08-27T14:08:02.479Z"
   },
   {
    "duration": 15,
    "start_time": "2022-08-27T14:08:17.990Z"
   },
   {
    "duration": 7,
    "start_time": "2022-08-27T15:39:13.462Z"
   },
   {
    "duration": 226,
    "start_time": "2022-08-27T15:39:18.011Z"
   },
   {
    "duration": 5,
    "start_time": "2022-08-27T15:39:21.298Z"
   },
   {
    "duration": 13,
    "start_time": "2022-08-27T15:39:21.745Z"
   },
   {
    "duration": 30,
    "start_time": "2022-08-27T15:40:50.212Z"
   },
   {
    "duration": 24,
    "start_time": "2022-08-27T18:05:24.917Z"
   },
   {
    "duration": 27,
    "start_time": "2022-08-27T18:07:12.939Z"
   },
   {
    "duration": 29,
    "start_time": "2022-08-27T18:07:27.429Z"
   },
   {
    "duration": 30,
    "start_time": "2022-08-27T18:07:35.837Z"
   },
   {
    "duration": 908,
    "start_time": "2022-08-27T18:08:08.824Z"
   },
   {
    "duration": 457,
    "start_time": "2022-08-27T18:08:09.734Z"
   },
   {
    "duration": 43,
    "start_time": "2022-08-27T18:08:10.192Z"
   },
   {
    "duration": 55,
    "start_time": "2022-08-27T18:08:10.238Z"
   },
   {
    "duration": 446,
    "start_time": "2022-08-27T18:08:10.295Z"
   },
   {
    "duration": 27,
    "start_time": "2022-08-27T18:08:10.743Z"
   },
   {
    "duration": 33,
    "start_time": "2022-08-27T18:08:10.772Z"
   },
   {
    "duration": 19,
    "start_time": "2022-08-27T18:08:10.807Z"
   },
   {
    "duration": 110,
    "start_time": "2022-08-27T18:08:10.828Z"
   },
   {
    "duration": 6,
    "start_time": "2022-08-27T18:08:10.941Z"
   },
   {
    "duration": 14,
    "start_time": "2022-08-27T18:08:10.948Z"
   },
   {
    "duration": 31,
    "start_time": "2022-08-27T18:08:10.963Z"
   },
   {
    "duration": 14,
    "start_time": "2022-08-27T18:08:10.996Z"
   },
   {
    "duration": 7,
    "start_time": "2022-08-27T18:08:11.011Z"
   },
   {
    "duration": 36,
    "start_time": "2022-08-27T18:08:11.019Z"
   },
   {
    "duration": 4,
    "start_time": "2022-08-27T18:08:11.056Z"
   },
   {
    "duration": 1940,
    "start_time": "2022-08-27T18:08:11.061Z"
   },
   {
    "duration": 45,
    "start_time": "2022-08-27T18:08:13.003Z"
   },
   {
    "duration": 22,
    "start_time": "2022-08-27T18:08:13.050Z"
   },
   {
    "duration": 46,
    "start_time": "2022-08-27T18:08:13.074Z"
   },
   {
    "duration": 28,
    "start_time": "2022-08-27T18:08:13.122Z"
   },
   {
    "duration": 46,
    "start_time": "2022-08-27T18:08:13.151Z"
   },
   {
    "duration": 15,
    "start_time": "2022-08-27T18:08:13.199Z"
   },
   {
    "duration": 16,
    "start_time": "2022-08-27T18:08:13.215Z"
   },
   {
    "duration": 21,
    "start_time": "2022-08-27T18:08:13.232Z"
   },
   {
    "duration": 42,
    "start_time": "2022-08-27T18:08:13.254Z"
   },
   {
    "duration": 11,
    "start_time": "2022-08-27T18:08:13.298Z"
   },
   {
    "duration": 9,
    "start_time": "2022-08-27T18:08:13.313Z"
   },
   {
    "duration": 21,
    "start_time": "2022-08-27T18:08:13.323Z"
   },
   {
    "duration": 7,
    "start_time": "2022-08-27T18:08:13.346Z"
   },
   {
    "duration": 226,
    "start_time": "2022-08-27T18:08:13.354Z"
   },
   {
    "duration": 4,
    "start_time": "2022-08-27T18:08:13.581Z"
   },
   {
    "duration": 12,
    "start_time": "2022-08-27T18:08:13.592Z"
   },
   {
    "duration": 6,
    "start_time": "2022-08-27T18:08:13.606Z"
   },
   {
    "duration": 37,
    "start_time": "2022-08-27T18:08:13.613Z"
   },
   {
    "duration": 4,
    "start_time": "2022-08-27T18:08:13.652Z"
   },
   {
    "duration": 45,
    "start_time": "2022-08-27T18:08:13.658Z"
   },
   {
    "duration": 2,
    "start_time": "2022-08-27T18:08:13.705Z"
   },
   {
    "duration": 43,
    "start_time": "2022-08-27T18:08:13.709Z"
   },
   {
    "duration": 2,
    "start_time": "2022-08-27T18:08:13.754Z"
   },
   {
    "duration": 40,
    "start_time": "2022-08-27T18:08:13.758Z"
   },
   {
    "duration": 25,
    "start_time": "2022-08-27T18:08:13.800Z"
   },
   {
    "duration": 2,
    "start_time": "2022-08-27T18:08:13.827Z"
   },
   {
    "duration": 18,
    "start_time": "2022-08-27T18:08:13.831Z"
   },
   {
    "duration": 8,
    "start_time": "2022-08-27T18:08:13.851Z"
   },
   {
    "duration": 32,
    "start_time": "2022-08-27T18:08:13.860Z"
   },
   {
    "duration": 6,
    "start_time": "2022-08-27T18:08:13.894Z"
   },
   {
    "duration": 9,
    "start_time": "2022-08-27T18:08:13.902Z"
   },
   {
    "duration": 9,
    "start_time": "2022-08-27T18:08:13.912Z"
   },
   {
    "duration": 7,
    "start_time": "2022-08-27T18:08:13.923Z"
   },
   {
    "duration": 6,
    "start_time": "2022-08-27T18:08:13.932Z"
   },
   {
    "duration": 15,
    "start_time": "2022-08-27T18:08:13.940Z"
   },
   {
    "duration": 40,
    "start_time": "2022-08-27T18:08:13.956Z"
   },
   {
    "duration": 4,
    "start_time": "2022-08-27T18:08:13.998Z"
   },
   {
    "duration": 16,
    "start_time": "2022-08-27T18:08:14.004Z"
   },
   {
    "duration": 25,
    "start_time": "2022-08-27T18:08:14.022Z"
   },
   {
    "duration": 16,
    "start_time": "2022-08-27T18:08:14.048Z"
   },
   {
    "duration": 36,
    "start_time": "2022-08-27T18:08:14.065Z"
   },
   {
    "duration": 25,
    "start_time": "2022-08-27T18:08:14.103Z"
   },
   {
    "duration": 7,
    "start_time": "2022-08-27T18:08:14.129Z"
   },
   {
    "duration": 6,
    "start_time": "2022-08-27T18:08:14.137Z"
   },
   {
    "duration": 7,
    "start_time": "2022-08-27T18:08:14.145Z"
   },
   {
    "duration": 64,
    "start_time": "2022-08-27T18:19:58.949Z"
   },
   {
    "duration": 59,
    "start_time": "2022-08-27T18:20:16.198Z"
   },
   {
    "duration": 38,
    "start_time": "2022-08-27T18:21:43.912Z"
   },
   {
    "duration": 195,
    "start_time": "2022-08-27T18:22:18.231Z"
   },
   {
    "duration": 1293,
    "start_time": "2022-08-27T18:22:35.276Z"
   },
   {
    "duration": 1191,
    "start_time": "2022-08-27T18:22:53.260Z"
   },
   {
    "duration": 437,
    "start_time": "2022-08-27T18:22:54.453Z"
   },
   {
    "duration": 40,
    "start_time": "2022-08-27T18:22:54.891Z"
   },
   {
    "duration": 31,
    "start_time": "2022-08-27T18:22:54.934Z"
   },
   {
    "duration": 175,
    "start_time": "2022-08-27T18:22:54.992Z"
   },
   {
    "duration": 38,
    "start_time": "2022-08-27T18:22:55.169Z"
   },
   {
    "duration": 18,
    "start_time": "2022-08-27T18:22:55.209Z"
   },
   {
    "duration": 20,
    "start_time": "2022-08-27T18:22:55.229Z"
   },
   {
    "duration": 119,
    "start_time": "2022-08-27T18:22:55.251Z"
   },
   {
    "duration": 7,
    "start_time": "2022-08-27T18:22:55.372Z"
   },
   {
    "duration": 12,
    "start_time": "2022-08-27T18:22:55.391Z"
   },
   {
    "duration": 19,
    "start_time": "2022-08-27T18:22:55.405Z"
   },
   {
    "duration": 14,
    "start_time": "2022-08-27T18:22:55.426Z"
   },
   {
    "duration": 8,
    "start_time": "2022-08-27T18:22:55.442Z"
   },
   {
    "duration": 65,
    "start_time": "2022-08-27T18:22:55.452Z"
   },
   {
    "duration": 3,
    "start_time": "2022-08-27T18:22:55.520Z"
   },
   {
    "duration": 2885,
    "start_time": "2022-08-27T18:22:55.525Z"
   },
   {
    "duration": 50,
    "start_time": "2022-08-27T18:22:58.412Z"
   },
   {
    "duration": 42,
    "start_time": "2022-08-27T18:22:58.464Z"
   },
   {
    "duration": 33,
    "start_time": "2022-08-27T18:22:58.508Z"
   },
   {
    "duration": 31,
    "start_time": "2022-08-27T18:22:58.542Z"
   },
   {
    "duration": 32,
    "start_time": "2022-08-27T18:22:58.591Z"
   },
   {
    "duration": 18,
    "start_time": "2022-08-27T18:22:58.625Z"
   },
   {
    "duration": 15,
    "start_time": "2022-08-27T18:22:58.645Z"
   },
   {
    "duration": 42,
    "start_time": "2022-08-27T18:22:58.662Z"
   },
   {
    "duration": 13,
    "start_time": "2022-08-27T18:22:58.706Z"
   },
   {
    "duration": 7,
    "start_time": "2022-08-27T18:22:58.720Z"
   },
   {
    "duration": 8,
    "start_time": "2022-08-27T18:22:58.730Z"
   },
   {
    "duration": 17,
    "start_time": "2022-08-27T18:22:58.740Z"
   },
   {
    "duration": 35,
    "start_time": "2022-08-27T18:22:58.759Z"
   },
   {
    "duration": 221,
    "start_time": "2022-08-27T18:22:58.796Z"
   },
   {
    "duration": 4,
    "start_time": "2022-08-27T18:22:59.019Z"
   },
   {
    "duration": 17,
    "start_time": "2022-08-27T18:22:59.024Z"
   },
   {
    "duration": 3,
    "start_time": "2022-08-27T18:22:59.043Z"
   },
   {
    "duration": 52,
    "start_time": "2022-08-27T18:22:59.048Z"
   },
   {
    "duration": 1334,
    "start_time": "2022-08-27T18:22:59.103Z"
   },
   {
    "duration": 0,
    "start_time": "2022-08-27T18:23:00.440Z"
   },
   {
    "duration": 0,
    "start_time": "2022-08-27T18:23:00.441Z"
   },
   {
    "duration": 0,
    "start_time": "2022-08-27T18:23:00.443Z"
   },
   {
    "duration": 0,
    "start_time": "2022-08-27T18:23:00.444Z"
   },
   {
    "duration": 0,
    "start_time": "2022-08-27T18:23:00.445Z"
   },
   {
    "duration": 0,
    "start_time": "2022-08-27T18:23:00.446Z"
   },
   {
    "duration": 0,
    "start_time": "2022-08-27T18:23:00.448Z"
   },
   {
    "duration": 0,
    "start_time": "2022-08-27T18:23:00.449Z"
   },
   {
    "duration": 0,
    "start_time": "2022-08-27T18:23:00.450Z"
   },
   {
    "duration": 0,
    "start_time": "2022-08-27T18:23:00.451Z"
   },
   {
    "duration": 0,
    "start_time": "2022-08-27T18:23:00.454Z"
   },
   {
    "duration": 0,
    "start_time": "2022-08-27T18:23:00.455Z"
   },
   {
    "duration": 0,
    "start_time": "2022-08-27T18:23:00.456Z"
   },
   {
    "duration": 0,
    "start_time": "2022-08-27T18:23:00.458Z"
   },
   {
    "duration": 0,
    "start_time": "2022-08-27T18:23:00.460Z"
   },
   {
    "duration": 0,
    "start_time": "2022-08-27T18:23:00.461Z"
   },
   {
    "duration": 0,
    "start_time": "2022-08-27T18:23:00.462Z"
   },
   {
    "duration": 1432,
    "start_time": "2022-08-27T18:24:04.025Z"
   },
   {
    "duration": 30,
    "start_time": "2022-08-27T18:24:27.108Z"
   },
   {
    "duration": 1394,
    "start_time": "2022-08-27T18:24:35.490Z"
   },
   {
    "duration": 1396,
    "start_time": "2022-08-27T18:24:47.089Z"
   },
   {
    "duration": 33,
    "start_time": "2022-08-27T18:25:06.160Z"
   },
   {
    "duration": 1201,
    "start_time": "2022-08-27T18:25:16.504Z"
   },
   {
    "duration": 16,
    "start_time": "2022-08-27T18:25:42.790Z"
   },
   {
    "duration": 7,
    "start_time": "2022-08-27T18:25:52.341Z"
   },
   {
    "duration": 1240,
    "start_time": "2022-08-27T18:26:05.506Z"
   },
   {
    "duration": 453,
    "start_time": "2022-08-27T18:26:06.748Z"
   },
   {
    "duration": 37,
    "start_time": "2022-08-27T18:26:07.203Z"
   },
   {
    "duration": 29,
    "start_time": "2022-08-27T18:26:07.242Z"
   },
   {
    "duration": 178,
    "start_time": "2022-08-27T18:26:07.273Z"
   },
   {
    "duration": 41,
    "start_time": "2022-08-27T18:26:07.452Z"
   },
   {
    "duration": 17,
    "start_time": "2022-08-27T18:26:07.494Z"
   },
   {
    "duration": 20,
    "start_time": "2022-08-27T18:26:07.513Z"
   },
   {
    "duration": 177,
    "start_time": "2022-08-27T18:26:07.534Z"
   },
   {
    "duration": 6,
    "start_time": "2022-08-27T18:26:07.713Z"
   },
   {
    "duration": 13,
    "start_time": "2022-08-27T18:26:07.720Z"
   },
   {
    "duration": 17,
    "start_time": "2022-08-27T18:26:07.791Z"
   },
   {
    "duration": 14,
    "start_time": "2022-08-27T18:26:07.809Z"
   },
   {
    "duration": 7,
    "start_time": "2022-08-27T18:26:07.824Z"
   },
   {
    "duration": 87,
    "start_time": "2022-08-27T18:26:07.832Z"
   },
   {
    "duration": 3,
    "start_time": "2022-08-27T18:26:07.921Z"
   },
   {
    "duration": 2796,
    "start_time": "2022-08-27T18:26:07.926Z"
   },
   {
    "duration": 49,
    "start_time": "2022-08-27T18:26:10.723Z"
   },
   {
    "duration": 34,
    "start_time": "2022-08-27T18:26:10.773Z"
   },
   {
    "duration": 32,
    "start_time": "2022-08-27T18:26:10.808Z"
   },
   {
    "duration": 51,
    "start_time": "2022-08-27T18:26:10.842Z"
   },
   {
    "duration": 28,
    "start_time": "2022-08-27T18:26:10.894Z"
   },
   {
    "duration": 14,
    "start_time": "2022-08-27T18:26:10.924Z"
   },
   {
    "duration": 15,
    "start_time": "2022-08-27T18:26:10.940Z"
   },
   {
    "duration": 47,
    "start_time": "2022-08-27T18:26:10.957Z"
   },
   {
    "duration": 13,
    "start_time": "2022-08-27T18:26:11.005Z"
   },
   {
    "duration": 6,
    "start_time": "2022-08-27T18:26:11.020Z"
   },
   {
    "duration": 9,
    "start_time": "2022-08-27T18:26:11.029Z"
   },
   {
    "duration": 11,
    "start_time": "2022-08-27T18:26:11.040Z"
   },
   {
    "duration": 42,
    "start_time": "2022-08-27T18:26:11.052Z"
   },
   {
    "duration": 227,
    "start_time": "2022-08-27T18:26:11.095Z"
   },
   {
    "duration": 5,
    "start_time": "2022-08-27T18:26:11.324Z"
   },
   {
    "duration": 21,
    "start_time": "2022-08-27T18:26:11.330Z"
   },
   {
    "duration": 15,
    "start_time": "2022-08-27T18:26:11.353Z"
   },
   {
    "duration": 38,
    "start_time": "2022-08-27T18:26:11.370Z"
   },
   {
    "duration": 9,
    "start_time": "2022-08-27T18:26:11.410Z"
   },
   {
    "duration": 5,
    "start_time": "2022-08-27T18:26:11.421Z"
   },
   {
    "duration": 35,
    "start_time": "2022-08-27T18:26:11.427Z"
   },
   {
    "duration": 3,
    "start_time": "2022-08-27T18:26:11.464Z"
   },
   {
    "duration": 37,
    "start_time": "2022-08-27T18:26:11.491Z"
   },
   {
    "duration": 3,
    "start_time": "2022-08-27T18:26:11.529Z"
   },
   {
    "duration": 32,
    "start_time": "2022-08-27T18:26:11.534Z"
   },
   {
    "duration": 36,
    "start_time": "2022-08-27T18:26:11.567Z"
   },
   {
    "duration": 9,
    "start_time": "2022-08-27T18:26:11.605Z"
   },
   {
    "duration": 150,
    "start_time": "2022-08-27T18:26:11.616Z"
   },
   {
    "duration": 0,
    "start_time": "2022-08-27T18:26:11.768Z"
   },
   {
    "duration": 0,
    "start_time": "2022-08-27T18:26:11.769Z"
   },
   {
    "duration": 0,
    "start_time": "2022-08-27T18:26:11.771Z"
   },
   {
    "duration": 0,
    "start_time": "2022-08-27T18:26:11.772Z"
   },
   {
    "duration": 0,
    "start_time": "2022-08-27T18:26:11.773Z"
   },
   {
    "duration": 0,
    "start_time": "2022-08-27T18:26:11.774Z"
   },
   {
    "duration": 0,
    "start_time": "2022-08-27T18:26:11.792Z"
   },
   {
    "duration": 0,
    "start_time": "2022-08-27T18:26:11.794Z"
   },
   {
    "duration": 169,
    "start_time": "2022-08-27T18:26:25.385Z"
   },
   {
    "duration": 142,
    "start_time": "2022-08-27T18:27:36.351Z"
   },
   {
    "duration": 71,
    "start_time": "2022-08-27T18:27:42.770Z"
   },
   {
    "duration": 145,
    "start_time": "2022-08-27T18:27:46.707Z"
   },
   {
    "duration": 1258,
    "start_time": "2022-08-27T18:30:52.943Z"
   },
   {
    "duration": 27,
    "start_time": "2022-08-27T18:31:18.527Z"
   },
   {
    "duration": 1313,
    "start_time": "2022-08-27T18:31:28.657Z"
   },
   {
    "duration": 15,
    "start_time": "2022-08-27T18:31:48.329Z"
   },
   {
    "duration": 32,
    "start_time": "2022-08-27T18:31:52.320Z"
   },
   {
    "duration": 19,
    "start_time": "2022-08-27T18:32:01.567Z"
   },
   {
    "duration": 15,
    "start_time": "2022-08-27T18:32:10.750Z"
   },
   {
    "duration": 9,
    "start_time": "2022-08-27T18:32:13.334Z"
   },
   {
    "duration": 1275,
    "start_time": "2022-08-27T18:33:13.390Z"
   },
   {
    "duration": 491,
    "start_time": "2022-08-27T18:33:14.667Z"
   },
   {
    "duration": 48,
    "start_time": "2022-08-27T18:33:15.160Z"
   },
   {
    "duration": 32,
    "start_time": "2022-08-27T18:33:15.211Z"
   },
   {
    "duration": 186,
    "start_time": "2022-08-27T18:33:15.244Z"
   },
   {
    "duration": 27,
    "start_time": "2022-08-27T18:33:15.432Z"
   },
   {
    "duration": 48,
    "start_time": "2022-08-27T18:33:15.461Z"
   },
   {
    "duration": 22,
    "start_time": "2022-08-27T18:33:15.511Z"
   },
   {
    "duration": 113,
    "start_time": "2022-08-27T18:33:15.535Z"
   },
   {
    "duration": 6,
    "start_time": "2022-08-27T18:33:15.650Z"
   },
   {
    "duration": 14,
    "start_time": "2022-08-27T18:33:15.658Z"
   },
   {
    "duration": 36,
    "start_time": "2022-08-27T18:33:15.673Z"
   },
   {
    "duration": 16,
    "start_time": "2022-08-27T18:33:15.711Z"
   },
   {
    "duration": 9,
    "start_time": "2022-08-27T18:33:15.729Z"
   },
   {
    "duration": 61,
    "start_time": "2022-08-27T18:33:15.740Z"
   },
   {
    "duration": 4,
    "start_time": "2022-08-27T18:33:15.803Z"
   },
   {
    "duration": 2001,
    "start_time": "2022-08-27T18:33:15.809Z"
   },
   {
    "duration": 59,
    "start_time": "2022-08-27T18:33:17.812Z"
   },
   {
    "duration": 41,
    "start_time": "2022-08-27T18:33:17.872Z"
   },
   {
    "duration": 31,
    "start_time": "2022-08-27T18:33:17.914Z"
   },
   {
    "duration": 61,
    "start_time": "2022-08-27T18:33:17.947Z"
   },
   {
    "duration": 27,
    "start_time": "2022-08-27T18:33:18.010Z"
   },
   {
    "duration": 16,
    "start_time": "2022-08-27T18:33:18.039Z"
   },
   {
    "duration": 43,
    "start_time": "2022-08-27T18:33:18.056Z"
   },
   {
    "duration": 24,
    "start_time": "2022-08-27T18:33:18.103Z"
   },
   {
    "duration": 12,
    "start_time": "2022-08-27T18:33:18.128Z"
   },
   {
    "duration": 9,
    "start_time": "2022-08-27T18:33:18.141Z"
   },
   {
    "duration": 8,
    "start_time": "2022-08-27T18:33:18.153Z"
   },
   {
    "duration": 42,
    "start_time": "2022-08-27T18:33:18.163Z"
   },
   {
    "duration": 7,
    "start_time": "2022-08-27T18:33:18.208Z"
   },
   {
    "duration": 224,
    "start_time": "2022-08-27T18:33:18.217Z"
   },
   {
    "duration": 4,
    "start_time": "2022-08-27T18:33:18.443Z"
   },
   {
    "duration": 17,
    "start_time": "2022-08-27T18:33:18.449Z"
   },
   {
    "duration": 4,
    "start_time": "2022-08-27T18:33:18.467Z"
   },
   {
    "duration": 34,
    "start_time": "2022-08-27T18:33:18.492Z"
   },
   {
    "duration": 8,
    "start_time": "2022-08-27T18:33:18.528Z"
   },
   {
    "duration": 139,
    "start_time": "2022-08-27T18:33:18.537Z"
   },
   {
    "duration": 139,
    "start_time": "2022-08-27T18:33:18.678Z"
   },
   {
    "duration": 3,
    "start_time": "2022-08-27T18:33:18.819Z"
   },
   {
    "duration": 31,
    "start_time": "2022-08-27T18:33:18.824Z"
   },
   {
    "duration": 3,
    "start_time": "2022-08-27T18:33:18.857Z"
   },
   {
    "duration": 56,
    "start_time": "2022-08-27T18:33:18.861Z"
   },
   {
    "duration": 3,
    "start_time": "2022-08-27T18:33:18.919Z"
   },
   {
    "duration": 34,
    "start_time": "2022-08-27T18:33:18.923Z"
   },
   {
    "duration": 15,
    "start_time": "2022-08-27T18:33:18.959Z"
   },
   {
    "duration": 15,
    "start_time": "2022-08-27T18:33:18.993Z"
   },
   {
    "duration": 114,
    "start_time": "2022-08-27T18:33:19.011Z"
   },
   {
    "duration": 0,
    "start_time": "2022-08-27T18:33:19.128Z"
   },
   {
    "duration": 0,
    "start_time": "2022-08-27T18:33:19.129Z"
   },
   {
    "duration": 0,
    "start_time": "2022-08-27T18:33:19.131Z"
   },
   {
    "duration": 0,
    "start_time": "2022-08-27T18:33:19.132Z"
   },
   {
    "duration": 0,
    "start_time": "2022-08-27T18:33:19.134Z"
   },
   {
    "duration": 0,
    "start_time": "2022-08-27T18:33:19.136Z"
   },
   {
    "duration": 0,
    "start_time": "2022-08-27T18:33:19.137Z"
   },
   {
    "duration": 0,
    "start_time": "2022-08-27T18:33:19.139Z"
   },
   {
    "duration": 182,
    "start_time": "2022-08-27T18:33:49.293Z"
   },
   {
    "duration": 12,
    "start_time": "2022-08-27T18:34:04.113Z"
   },
   {
    "duration": 16,
    "start_time": "2022-08-27T18:34:07.114Z"
   },
   {
    "duration": 188,
    "start_time": "2022-08-27T18:35:01.328Z"
   },
   {
    "duration": 24,
    "start_time": "2022-08-27T18:35:13.581Z"
   },
   {
    "duration": 157,
    "start_time": "2022-08-27T18:36:08.997Z"
   },
   {
    "duration": 142,
    "start_time": "2022-08-27T18:36:16.057Z"
   },
   {
    "duration": 1234,
    "start_time": "2022-08-27T19:05:53.999Z"
   },
   {
    "duration": 559,
    "start_time": "2022-08-27T19:05:55.235Z"
   },
   {
    "duration": 39,
    "start_time": "2022-08-27T19:05:55.796Z"
   },
   {
    "duration": 82,
    "start_time": "2022-08-27T19:05:55.838Z"
   },
   {
    "duration": 382,
    "start_time": "2022-08-27T19:05:55.922Z"
   },
   {
    "duration": 25,
    "start_time": "2022-08-27T19:05:56.306Z"
   },
   {
    "duration": 69,
    "start_time": "2022-08-27T19:05:56.333Z"
   },
   {
    "duration": 20,
    "start_time": "2022-08-27T19:05:56.404Z"
   },
   {
    "duration": 197,
    "start_time": "2022-08-27T19:05:56.426Z"
   },
   {
    "duration": 7,
    "start_time": "2022-08-27T19:05:56.625Z"
   },
   {
    "duration": 65,
    "start_time": "2022-08-27T19:05:56.634Z"
   },
   {
    "duration": 34,
    "start_time": "2022-08-27T19:05:56.701Z"
   },
   {
    "duration": 59,
    "start_time": "2022-08-27T19:05:56.737Z"
   },
   {
    "duration": 9,
    "start_time": "2022-08-27T19:05:56.798Z"
   },
   {
    "duration": 94,
    "start_time": "2022-08-27T19:05:56.808Z"
   },
   {
    "duration": 4,
    "start_time": "2022-08-27T19:05:56.904Z"
   },
   {
    "duration": 2250,
    "start_time": "2022-08-27T19:05:56.909Z"
   },
   {
    "duration": 57,
    "start_time": "2022-08-27T19:05:59.161Z"
   },
   {
    "duration": 24,
    "start_time": "2022-08-27T19:05:59.220Z"
   },
   {
    "duration": 49,
    "start_time": "2022-08-27T19:05:59.246Z"
   },
   {
    "duration": 29,
    "start_time": "2022-08-27T19:05:59.297Z"
   },
   {
    "duration": 31,
    "start_time": "2022-08-27T19:05:59.327Z"
   },
   {
    "duration": 38,
    "start_time": "2022-08-27T19:05:59.360Z"
   },
   {
    "duration": 17,
    "start_time": "2022-08-27T19:05:59.400Z"
   },
   {
    "duration": 24,
    "start_time": "2022-08-27T19:05:59.419Z"
   },
   {
    "duration": 13,
    "start_time": "2022-08-27T19:05:59.445Z"
   },
   {
    "duration": 36,
    "start_time": "2022-08-27T19:05:59.460Z"
   },
   {
    "duration": 9,
    "start_time": "2022-08-27T19:05:59.501Z"
   },
   {
    "duration": 13,
    "start_time": "2022-08-27T19:05:59.511Z"
   },
   {
    "duration": 8,
    "start_time": "2022-08-27T19:05:59.525Z"
   },
   {
    "duration": 243,
    "start_time": "2022-08-27T19:05:59.535Z"
   },
   {
    "duration": 13,
    "start_time": "2022-08-27T19:05:59.780Z"
   },
   {
    "duration": 14,
    "start_time": "2022-08-27T19:05:59.795Z"
   },
   {
    "duration": 4,
    "start_time": "2022-08-27T19:05:59.811Z"
   },
   {
    "duration": 16,
    "start_time": "2022-08-27T19:05:59.817Z"
   },
   {
    "duration": 9,
    "start_time": "2022-08-27T19:05:59.835Z"
   },
   {
    "duration": 18,
    "start_time": "2022-08-27T19:05:59.846Z"
   },
   {
    "duration": 15,
    "start_time": "2022-08-27T19:05:59.892Z"
   },
   {
    "duration": 162,
    "start_time": "2022-08-27T19:05:59.908Z"
   },
   {
    "duration": 146,
    "start_time": "2022-08-27T19:06:00.072Z"
   },
   {
    "duration": 3,
    "start_time": "2022-08-27T19:06:00.219Z"
   },
   {
    "duration": 111,
    "start_time": "2022-08-27T19:06:00.224Z"
   },
   {
    "duration": 0,
    "start_time": "2022-08-27T19:06:00.336Z"
   },
   {
    "duration": 0,
    "start_time": "2022-08-27T19:06:00.338Z"
   },
   {
    "duration": 0,
    "start_time": "2022-08-27T19:06:00.339Z"
   },
   {
    "duration": 0,
    "start_time": "2022-08-27T19:06:00.340Z"
   },
   {
    "duration": 0,
    "start_time": "2022-08-27T19:06:00.341Z"
   },
   {
    "duration": 0,
    "start_time": "2022-08-27T19:06:00.342Z"
   },
   {
    "duration": 0,
    "start_time": "2022-08-27T19:06:00.343Z"
   },
   {
    "duration": 0,
    "start_time": "2022-08-27T19:06:00.344Z"
   },
   {
    "duration": 0,
    "start_time": "2022-08-27T19:06:00.345Z"
   },
   {
    "duration": 0,
    "start_time": "2022-08-27T19:06:00.346Z"
   },
   {
    "duration": 0,
    "start_time": "2022-08-27T19:06:00.347Z"
   },
   {
    "duration": 0,
    "start_time": "2022-08-27T19:06:00.348Z"
   },
   {
    "duration": 0,
    "start_time": "2022-08-27T19:06:00.349Z"
   },
   {
    "duration": 0,
    "start_time": "2022-08-27T19:06:00.350Z"
   },
   {
    "duration": 0,
    "start_time": "2022-08-27T19:06:00.351Z"
   },
   {
    "duration": 0,
    "start_time": "2022-08-27T19:06:00.352Z"
   },
   {
    "duration": 0,
    "start_time": "2022-08-27T19:06:00.354Z"
   },
   {
    "duration": 0,
    "start_time": "2022-08-27T19:06:00.355Z"
   },
   {
    "duration": 0,
    "start_time": "2022-08-27T19:06:00.356Z"
   },
   {
    "duration": 0,
    "start_time": "2022-08-27T19:06:00.357Z"
   },
   {
    "duration": 1187,
    "start_time": "2022-08-27T19:06:47.478Z"
   },
   {
    "duration": 684,
    "start_time": "2022-08-27T19:06:48.667Z"
   },
   {
    "duration": 77,
    "start_time": "2022-08-27T19:06:49.353Z"
   },
   {
    "duration": 82,
    "start_time": "2022-08-27T19:06:49.432Z"
   },
   {
    "duration": 376,
    "start_time": "2022-08-27T19:06:49.516Z"
   },
   {
    "duration": 26,
    "start_time": "2022-08-27T19:06:49.893Z"
   },
   {
    "duration": 77,
    "start_time": "2022-08-27T19:06:49.921Z"
   },
   {
    "duration": 42,
    "start_time": "2022-08-27T19:06:50.000Z"
   },
   {
    "duration": 248,
    "start_time": "2022-08-27T19:06:50.044Z"
   },
   {
    "duration": 7,
    "start_time": "2022-08-27T19:06:50.294Z"
   },
   {
    "duration": 17,
    "start_time": "2022-08-27T19:06:50.302Z"
   },
   {
    "duration": 72,
    "start_time": "2022-08-27T19:06:50.321Z"
   },
   {
    "duration": 15,
    "start_time": "2022-08-27T19:06:50.394Z"
   },
   {
    "duration": 7,
    "start_time": "2022-08-27T19:06:50.411Z"
   },
   {
    "duration": 95,
    "start_time": "2022-08-27T19:06:50.420Z"
   },
   {
    "duration": 3,
    "start_time": "2022-08-27T19:06:50.517Z"
   },
   {
    "duration": 2078,
    "start_time": "2022-08-27T19:06:50.521Z"
   },
   {
    "duration": 52,
    "start_time": "2022-08-27T19:06:52.600Z"
   },
   {
    "duration": 38,
    "start_time": "2022-08-27T19:06:52.654Z"
   },
   {
    "duration": 33,
    "start_time": "2022-08-27T19:06:52.694Z"
   },
   {
    "duration": 29,
    "start_time": "2022-08-27T19:06:52.729Z"
   },
   {
    "duration": 55,
    "start_time": "2022-08-27T19:06:52.760Z"
   },
   {
    "duration": 16,
    "start_time": "2022-08-27T19:06:52.817Z"
   },
   {
    "duration": 17,
    "start_time": "2022-08-27T19:06:52.834Z"
   },
   {
    "duration": 52,
    "start_time": "2022-08-27T19:06:52.853Z"
   },
   {
    "duration": 13,
    "start_time": "2022-08-27T19:06:52.907Z"
   },
   {
    "duration": 10,
    "start_time": "2022-08-27T19:06:52.921Z"
   },
   {
    "duration": 8,
    "start_time": "2022-08-27T19:06:52.935Z"
   },
   {
    "duration": 14,
    "start_time": "2022-08-27T19:06:52.944Z"
   },
   {
    "duration": 32,
    "start_time": "2022-08-27T19:06:52.960Z"
   },
   {
    "duration": 217,
    "start_time": "2022-08-27T19:06:52.994Z"
   },
   {
    "duration": 4,
    "start_time": "2022-08-27T19:06:53.212Z"
   },
   {
    "duration": 17,
    "start_time": "2022-08-27T19:06:53.218Z"
   },
   {
    "duration": 5,
    "start_time": "2022-08-27T19:06:53.236Z"
   },
   {
    "duration": 21,
    "start_time": "2022-08-27T19:06:53.243Z"
   },
   {
    "duration": 28,
    "start_time": "2022-08-27T19:06:53.266Z"
   },
   {
    "duration": 18,
    "start_time": "2022-08-27T19:06:53.296Z"
   },
   {
    "duration": 17,
    "start_time": "2022-08-27T19:06:53.316Z"
   },
   {
    "duration": 167,
    "start_time": "2022-08-27T19:06:53.335Z"
   },
   {
    "duration": 145,
    "start_time": "2022-08-27T19:06:53.503Z"
   },
   {
    "duration": 3,
    "start_time": "2022-08-27T19:06:53.650Z"
   },
   {
    "duration": 24,
    "start_time": "2022-08-27T19:06:53.655Z"
   },
   {
    "duration": 17,
    "start_time": "2022-08-27T19:06:53.681Z"
   },
   {
    "duration": 26,
    "start_time": "2022-08-27T19:06:53.700Z"
   },
   {
    "duration": 18,
    "start_time": "2022-08-27T19:06:53.727Z"
   },
   {
    "duration": 161,
    "start_time": "2022-08-27T19:06:53.746Z"
   },
   {
    "duration": 165,
    "start_time": "2022-08-27T19:06:53.909Z"
   },
   {
    "duration": 2,
    "start_time": "2022-08-27T19:06:54.076Z"
   },
   {
    "duration": 34,
    "start_time": "2022-08-27T19:06:54.080Z"
   },
   {
    "duration": 2,
    "start_time": "2022-08-27T19:06:54.116Z"
   },
   {
    "duration": 41,
    "start_time": "2022-08-27T19:06:54.120Z"
   },
   {
    "duration": 14,
    "start_time": "2022-08-27T19:06:54.163Z"
   },
   {
    "duration": 7,
    "start_time": "2022-08-27T19:06:54.192Z"
   },
   {
    "duration": 113,
    "start_time": "2022-08-27T19:06:54.201Z"
   },
   {
    "duration": 0,
    "start_time": "2022-08-27T19:06:54.316Z"
   },
   {
    "duration": 0,
    "start_time": "2022-08-27T19:06:54.317Z"
   },
   {
    "duration": 0,
    "start_time": "2022-08-27T19:06:54.319Z"
   },
   {
    "duration": 0,
    "start_time": "2022-08-27T19:06:54.320Z"
   },
   {
    "duration": 0,
    "start_time": "2022-08-27T19:06:54.321Z"
   },
   {
    "duration": 0,
    "start_time": "2022-08-27T19:06:54.322Z"
   },
   {
    "duration": 0,
    "start_time": "2022-08-27T19:06:54.323Z"
   },
   {
    "duration": 0,
    "start_time": "2022-08-27T19:06:54.324Z"
   },
   {
    "duration": 1186,
    "start_time": "2022-08-27T19:10:03.385Z"
   },
   {
    "duration": 473,
    "start_time": "2022-08-27T19:10:04.574Z"
   },
   {
    "duration": 76,
    "start_time": "2022-08-27T19:10:05.049Z"
   },
   {
    "duration": 88,
    "start_time": "2022-08-27T19:10:05.128Z"
   },
   {
    "duration": 375,
    "start_time": "2022-08-27T19:10:05.217Z"
   },
   {
    "duration": 30,
    "start_time": "2022-08-27T19:10:05.594Z"
   },
   {
    "duration": 70,
    "start_time": "2022-08-27T19:10:05.626Z"
   },
   {
    "duration": 21,
    "start_time": "2022-08-27T19:10:05.698Z"
   },
   {
    "duration": 195,
    "start_time": "2022-08-27T19:10:05.721Z"
   },
   {
    "duration": 6,
    "start_time": "2022-08-27T19:10:05.919Z"
   },
   {
    "duration": 66,
    "start_time": "2022-08-27T19:10:05.927Z"
   },
   {
    "duration": 19,
    "start_time": "2022-08-27T19:10:05.994Z"
   },
   {
    "duration": 15,
    "start_time": "2022-08-27T19:10:06.015Z"
   },
   {
    "duration": 61,
    "start_time": "2022-08-27T19:10:06.032Z"
   },
   {
    "duration": 98,
    "start_time": "2022-08-27T19:10:06.096Z"
   },
   {
    "duration": 4,
    "start_time": "2022-08-27T19:10:06.195Z"
   },
   {
    "duration": 2257,
    "start_time": "2022-08-27T19:10:06.200Z"
   },
   {
    "duration": 51,
    "start_time": "2022-08-27T19:10:08.459Z"
   },
   {
    "duration": 22,
    "start_time": "2022-08-27T19:10:08.512Z"
   },
   {
    "duration": 31,
    "start_time": "2022-08-27T19:10:08.536Z"
   },
   {
    "duration": 44,
    "start_time": "2022-08-27T19:10:08.569Z"
   },
   {
    "duration": 28,
    "start_time": "2022-08-27T19:10:08.615Z"
   },
   {
    "duration": 15,
    "start_time": "2022-08-27T19:10:08.645Z"
   },
   {
    "duration": 53,
    "start_time": "2022-08-27T19:10:08.662Z"
   },
   {
    "duration": 21,
    "start_time": "2022-08-27T19:10:08.717Z"
   },
   {
    "duration": 11,
    "start_time": "2022-08-27T19:10:08.740Z"
   },
   {
    "duration": 27,
    "start_time": "2022-08-27T19:10:08.753Z"
   },
   {
    "duration": 21,
    "start_time": "2022-08-27T19:10:08.784Z"
   },
   {
    "duration": 14,
    "start_time": "2022-08-27T19:10:08.806Z"
   },
   {
    "duration": 9,
    "start_time": "2022-08-27T19:10:08.822Z"
   },
   {
    "duration": 219,
    "start_time": "2022-08-27T19:10:08.832Z"
   },
   {
    "duration": 5,
    "start_time": "2022-08-27T19:10:09.052Z"
   },
   {
    "duration": 15,
    "start_time": "2022-08-27T19:10:09.059Z"
   },
   {
    "duration": 16,
    "start_time": "2022-08-27T19:10:09.076Z"
   },
   {
    "duration": 17,
    "start_time": "2022-08-27T19:10:09.094Z"
   },
   {
    "duration": 8,
    "start_time": "2022-08-27T19:10:09.112Z"
   },
   {
    "duration": 17,
    "start_time": "2022-08-27T19:10:09.122Z"
   },
   {
    "duration": 16,
    "start_time": "2022-08-27T19:10:09.141Z"
   },
   {
    "duration": 157,
    "start_time": "2022-08-27T19:10:09.158Z"
   },
   {
    "duration": 153,
    "start_time": "2022-08-27T19:10:09.316Z"
   },
   {
    "duration": 2,
    "start_time": "2022-08-27T19:10:09.471Z"
   },
   {
    "duration": 29,
    "start_time": "2022-08-27T19:10:09.475Z"
   },
   {
    "duration": 8,
    "start_time": "2022-08-27T19:10:09.506Z"
   },
   {
    "duration": 14,
    "start_time": "2022-08-27T19:10:09.515Z"
   },
   {
    "duration": 19,
    "start_time": "2022-08-27T19:10:09.531Z"
   },
   {
    "duration": 163,
    "start_time": "2022-08-27T19:10:09.552Z"
   },
   {
    "duration": 174,
    "start_time": "2022-08-27T19:10:09.717Z"
   },
   {
    "duration": 3,
    "start_time": "2022-08-27T19:10:09.893Z"
   },
   {
    "duration": 124,
    "start_time": "2022-08-27T19:10:09.898Z"
   },
   {
    "duration": 1,
    "start_time": "2022-08-27T19:10:10.023Z"
   },
   {
    "duration": 0,
    "start_time": "2022-08-27T19:10:10.025Z"
   },
   {
    "duration": 0,
    "start_time": "2022-08-27T19:10:10.026Z"
   },
   {
    "duration": 0,
    "start_time": "2022-08-27T19:10:10.027Z"
   },
   {
    "duration": 0,
    "start_time": "2022-08-27T19:10:10.027Z"
   },
   {
    "duration": 0,
    "start_time": "2022-08-27T19:10:10.028Z"
   },
   {
    "duration": 0,
    "start_time": "2022-08-27T19:10:10.030Z"
   },
   {
    "duration": 0,
    "start_time": "2022-08-27T19:10:10.031Z"
   },
   {
    "duration": 0,
    "start_time": "2022-08-27T19:10:10.031Z"
   },
   {
    "duration": 0,
    "start_time": "2022-08-27T19:10:10.032Z"
   },
   {
    "duration": 0,
    "start_time": "2022-08-27T19:10:10.033Z"
   },
   {
    "duration": 0,
    "start_time": "2022-08-27T19:10:10.034Z"
   },
   {
    "duration": 0,
    "start_time": "2022-08-27T19:10:10.035Z"
   },
   {
    "duration": 0,
    "start_time": "2022-08-27T19:10:10.036Z"
   },
   {
    "duration": 0,
    "start_time": "2022-08-27T19:10:10.037Z"
   },
   {
    "duration": 0,
    "start_time": "2022-08-27T19:10:10.038Z"
   },
   {
    "duration": 0,
    "start_time": "2022-08-27T19:10:10.039Z"
   },
   {
    "duration": 0,
    "start_time": "2022-08-27T19:10:10.040Z"
   },
   {
    "duration": 1139,
    "start_time": "2022-08-27T19:10:25.706Z"
   },
   {
    "duration": 435,
    "start_time": "2022-08-27T19:10:26.847Z"
   },
   {
    "duration": 42,
    "start_time": "2022-08-27T19:10:27.284Z"
   },
   {
    "duration": 73,
    "start_time": "2022-08-27T19:10:27.328Z"
   },
   {
    "duration": 332,
    "start_time": "2022-08-27T19:10:27.403Z"
   },
   {
    "duration": 75,
    "start_time": "2022-08-27T19:10:27.737Z"
   },
   {
    "duration": 17,
    "start_time": "2022-08-27T19:10:27.814Z"
   },
   {
    "duration": 74,
    "start_time": "2022-08-27T19:10:27.833Z"
   },
   {
    "duration": 202,
    "start_time": "2022-08-27T19:10:27.909Z"
   },
   {
    "duration": 6,
    "start_time": "2022-08-27T19:10:28.113Z"
   },
   {
    "duration": 12,
    "start_time": "2022-08-27T19:10:28.120Z"
   },
   {
    "duration": 71,
    "start_time": "2022-08-27T19:10:28.133Z"
   },
   {
    "duration": 14,
    "start_time": "2022-08-27T19:10:28.206Z"
   },
   {
    "duration": 8,
    "start_time": "2022-08-27T19:10:28.221Z"
   },
   {
    "duration": 91,
    "start_time": "2022-08-27T19:10:28.230Z"
   },
   {
    "duration": 4,
    "start_time": "2022-08-27T19:10:28.322Z"
   },
   {
    "duration": 2397,
    "start_time": "2022-08-27T19:10:28.327Z"
   },
   {
    "duration": 47,
    "start_time": "2022-08-27T19:10:30.726Z"
   },
   {
    "duration": 36,
    "start_time": "2022-08-27T19:10:30.775Z"
   },
   {
    "duration": 31,
    "start_time": "2022-08-27T19:10:30.812Z"
   },
   {
    "duration": 27,
    "start_time": "2022-08-27T19:10:30.845Z"
   },
   {
    "duration": 34,
    "start_time": "2022-08-27T19:10:30.892Z"
   },
   {
    "duration": 16,
    "start_time": "2022-08-27T19:10:30.928Z"
   },
   {
    "duration": 16,
    "start_time": "2022-08-27T19:10:30.946Z"
   },
   {
    "duration": 48,
    "start_time": "2022-08-27T19:10:30.964Z"
   },
   {
    "duration": 13,
    "start_time": "2022-08-27T19:10:31.015Z"
   },
   {
    "duration": 6,
    "start_time": "2022-08-27T19:10:31.031Z"
   },
   {
    "duration": 13,
    "start_time": "2022-08-27T19:10:31.042Z"
   },
   {
    "duration": 43,
    "start_time": "2022-08-27T19:10:31.057Z"
   },
   {
    "duration": 24,
    "start_time": "2022-08-27T19:10:31.103Z"
   },
   {
    "duration": 225,
    "start_time": "2022-08-27T19:10:31.129Z"
   },
   {
    "duration": 5,
    "start_time": "2022-08-27T19:10:31.355Z"
   },
   {
    "duration": 14,
    "start_time": "2022-08-27T19:10:31.361Z"
   },
   {
    "duration": 16,
    "start_time": "2022-08-27T19:10:31.377Z"
   },
   {
    "duration": 16,
    "start_time": "2022-08-27T19:10:31.394Z"
   },
   {
    "duration": 7,
    "start_time": "2022-08-27T19:10:31.412Z"
   },
   {
    "duration": 17,
    "start_time": "2022-08-27T19:10:31.421Z"
   },
   {
    "duration": 19,
    "start_time": "2022-08-27T19:10:31.439Z"
   },
   {
    "duration": 161,
    "start_time": "2022-08-27T19:10:31.460Z"
   },
   {
    "duration": 136,
    "start_time": "2022-08-27T19:10:31.623Z"
   },
   {
    "duration": 2,
    "start_time": "2022-08-27T19:10:31.761Z"
   },
   {
    "duration": 27,
    "start_time": "2022-08-27T19:10:31.765Z"
   },
   {
    "duration": 9,
    "start_time": "2022-08-27T19:10:31.795Z"
   },
   {
    "duration": 30,
    "start_time": "2022-08-27T19:10:31.807Z"
   },
   {
    "duration": 25,
    "start_time": "2022-08-27T19:10:31.839Z"
   },
   {
    "duration": 192,
    "start_time": "2022-08-27T19:10:31.865Z"
   },
   {
    "duration": 167,
    "start_time": "2022-08-27T19:10:32.058Z"
   },
   {
    "duration": 2,
    "start_time": "2022-08-27T19:10:32.227Z"
   },
   {
    "duration": 17,
    "start_time": "2022-08-27T19:10:32.231Z"
   },
   {
    "duration": 110,
    "start_time": "2022-08-27T19:10:32.250Z"
   },
   {
    "duration": 0,
    "start_time": "2022-08-27T19:10:32.362Z"
   },
   {
    "duration": 0,
    "start_time": "2022-08-27T19:10:32.363Z"
   },
   {
    "duration": 0,
    "start_time": "2022-08-27T19:10:32.364Z"
   },
   {
    "duration": 0,
    "start_time": "2022-08-27T19:10:32.365Z"
   },
   {
    "duration": 0,
    "start_time": "2022-08-27T19:10:32.366Z"
   },
   {
    "duration": 0,
    "start_time": "2022-08-27T19:10:32.367Z"
   },
   {
    "duration": 0,
    "start_time": "2022-08-27T19:10:32.368Z"
   },
   {
    "duration": 0,
    "start_time": "2022-08-27T19:10:32.369Z"
   },
   {
    "duration": 0,
    "start_time": "2022-08-27T19:10:32.371Z"
   },
   {
    "duration": 0,
    "start_time": "2022-08-27T19:10:32.372Z"
   },
   {
    "duration": 0,
    "start_time": "2022-08-27T19:10:32.373Z"
   },
   {
    "duration": 0,
    "start_time": "2022-08-27T19:10:32.391Z"
   },
   {
    "duration": 0,
    "start_time": "2022-08-27T19:10:32.392Z"
   },
   {
    "duration": 0,
    "start_time": "2022-08-27T19:10:32.393Z"
   },
   {
    "duration": 0,
    "start_time": "2022-08-27T19:10:32.393Z"
   },
   {
    "duration": 0,
    "start_time": "2022-08-27T19:10:32.395Z"
   },
   {
    "duration": 0,
    "start_time": "2022-08-27T19:10:32.396Z"
   },
   {
    "duration": 9,
    "start_time": "2022-08-27T19:11:03.068Z"
   },
   {
    "duration": 16,
    "start_time": "2022-08-27T19:11:05.043Z"
   },
   {
    "duration": 1598,
    "start_time": "2022-08-27T19:11:10.527Z"
   },
   {
    "duration": 840,
    "start_time": "2022-08-27T19:11:12.128Z"
   },
   {
    "duration": 38,
    "start_time": "2022-08-27T19:11:12.992Z"
   },
   {
    "duration": 86,
    "start_time": "2022-08-27T19:11:13.033Z"
   },
   {
    "duration": 313,
    "start_time": "2022-08-27T19:11:13.120Z"
   },
   {
    "duration": 25,
    "start_time": "2022-08-27T19:11:13.435Z"
   },
   {
    "duration": 34,
    "start_time": "2022-08-27T19:11:13.462Z"
   },
   {
    "duration": 19,
    "start_time": "2022-08-27T19:11:13.498Z"
   },
   {
    "duration": 106,
    "start_time": "2022-08-27T19:11:13.519Z"
   },
   {
    "duration": 6,
    "start_time": "2022-08-27T19:11:13.628Z"
   },
   {
    "duration": 13,
    "start_time": "2022-08-27T19:11:13.635Z"
   },
   {
    "duration": 19,
    "start_time": "2022-08-27T19:11:13.650Z"
   },
   {
    "duration": 31,
    "start_time": "2022-08-27T19:11:13.671Z"
   },
   {
    "duration": 8,
    "start_time": "2022-08-27T19:11:13.703Z"
   },
   {
    "duration": 42,
    "start_time": "2022-08-27T19:11:13.712Z"
   },
   {
    "duration": 3,
    "start_time": "2022-08-27T19:11:13.756Z"
   },
   {
    "duration": 1931,
    "start_time": "2022-08-27T19:11:13.761Z"
   },
   {
    "duration": 47,
    "start_time": "2022-08-27T19:11:15.694Z"
   },
   {
    "duration": 23,
    "start_time": "2022-08-27T19:11:15.743Z"
   },
   {
    "duration": 48,
    "start_time": "2022-08-27T19:11:15.768Z"
   },
   {
    "duration": 29,
    "start_time": "2022-08-27T19:11:15.818Z"
   },
   {
    "duration": 44,
    "start_time": "2022-08-27T19:11:15.849Z"
   },
   {
    "duration": 15,
    "start_time": "2022-08-27T19:11:15.895Z"
   },
   {
    "duration": 15,
    "start_time": "2022-08-27T19:11:15.911Z"
   },
   {
    "duration": 21,
    "start_time": "2022-08-27T19:11:15.928Z"
   },
   {
    "duration": 12,
    "start_time": "2022-08-27T19:11:15.951Z"
   },
   {
    "duration": 31,
    "start_time": "2022-08-27T19:11:15.964Z"
   },
   {
    "duration": 8,
    "start_time": "2022-08-27T19:11:16.000Z"
   },
   {
    "duration": 12,
    "start_time": "2022-08-27T19:11:16.010Z"
   },
   {
    "duration": 7,
    "start_time": "2022-08-27T19:11:16.024Z"
   },
   {
    "duration": 235,
    "start_time": "2022-08-27T19:11:16.033Z"
   },
   {
    "duration": 4,
    "start_time": "2022-08-27T19:11:16.270Z"
   },
   {
    "duration": 23,
    "start_time": "2022-08-27T19:11:16.276Z"
   },
   {
    "duration": 5,
    "start_time": "2022-08-27T19:11:16.301Z"
   },
   {
    "duration": 17,
    "start_time": "2022-08-27T19:11:16.308Z"
   },
   {
    "duration": 8,
    "start_time": "2022-08-27T19:11:16.327Z"
   },
   {
    "duration": 22,
    "start_time": "2022-08-27T19:11:16.336Z"
   },
   {
    "duration": 39,
    "start_time": "2022-08-27T19:11:16.359Z"
   },
   {
    "duration": 137,
    "start_time": "2022-08-27T19:11:16.400Z"
   },
   {
    "duration": 137,
    "start_time": "2022-08-27T19:11:16.538Z"
   },
   {
    "duration": 3,
    "start_time": "2022-08-27T19:11:16.677Z"
   },
   {
    "duration": 37,
    "start_time": "2022-08-27T19:11:16.681Z"
   },
   {
    "duration": 14,
    "start_time": "2022-08-27T19:11:16.720Z"
   },
   {
    "duration": 40,
    "start_time": "2022-08-27T19:11:16.736Z"
   },
   {
    "duration": 37,
    "start_time": "2022-08-27T19:11:16.777Z"
   },
   {
    "duration": 155,
    "start_time": "2022-08-27T19:11:16.816Z"
   },
   {
    "duration": 152,
    "start_time": "2022-08-27T19:11:16.973Z"
   },
   {
    "duration": 3,
    "start_time": "2022-08-27T19:11:17.127Z"
   },
   {
    "duration": 32,
    "start_time": "2022-08-27T19:11:17.131Z"
   },
   {
    "duration": 9,
    "start_time": "2022-08-27T19:11:17.165Z"
   },
   {
    "duration": 22,
    "start_time": "2022-08-27T19:11:17.176Z"
   },
   {
    "duration": 18,
    "start_time": "2022-08-27T19:11:17.200Z"
   },
   {
    "duration": 1391,
    "start_time": "2022-08-27T19:11:17.219Z"
   },
   {
    "duration": 0,
    "start_time": "2022-08-27T19:11:18.612Z"
   },
   {
    "duration": 0,
    "start_time": "2022-08-27T19:11:18.613Z"
   },
   {
    "duration": 0,
    "start_time": "2022-08-27T19:11:18.614Z"
   },
   {
    "duration": 0,
    "start_time": "2022-08-27T19:11:18.615Z"
   },
   {
    "duration": 0,
    "start_time": "2022-08-27T19:11:18.616Z"
   },
   {
    "duration": 0,
    "start_time": "2022-08-27T19:11:18.617Z"
   },
   {
    "duration": 0,
    "start_time": "2022-08-27T19:11:18.618Z"
   },
   {
    "duration": 0,
    "start_time": "2022-08-27T19:11:18.620Z"
   },
   {
    "duration": 0,
    "start_time": "2022-08-27T19:11:18.620Z"
   },
   {
    "duration": 0,
    "start_time": "2022-08-27T19:11:18.621Z"
   },
   {
    "duration": 0,
    "start_time": "2022-08-27T19:11:18.622Z"
   },
   {
    "duration": 0,
    "start_time": "2022-08-27T19:11:18.623Z"
   },
   {
    "duration": 0,
    "start_time": "2022-08-27T19:11:18.625Z"
   },
   {
    "duration": 0,
    "start_time": "2022-08-27T19:11:18.626Z"
   },
   {
    "duration": 132,
    "start_time": "2022-08-27T19:12:02.237Z"
   },
   {
    "duration": 141,
    "start_time": "2022-08-27T19:12:03.040Z"
   },
   {
    "duration": 3,
    "start_time": "2022-08-27T19:12:11.080Z"
   },
   {
    "duration": 28,
    "start_time": "2022-08-27T19:12:11.545Z"
   },
   {
    "duration": 1268,
    "start_time": "2022-08-27T19:14:43.478Z"
   },
   {
    "duration": 442,
    "start_time": "2022-08-27T19:14:44.748Z"
   },
   {
    "duration": 37,
    "start_time": "2022-08-27T19:14:45.192Z"
   },
   {
    "duration": 29,
    "start_time": "2022-08-27T19:14:45.231Z"
   },
   {
    "duration": 187,
    "start_time": "2022-08-27T19:14:45.262Z"
   },
   {
    "duration": 41,
    "start_time": "2022-08-27T19:14:45.451Z"
   },
   {
    "duration": 21,
    "start_time": "2022-08-27T19:14:45.493Z"
   },
   {
    "duration": 22,
    "start_time": "2022-08-27T19:14:45.516Z"
   },
   {
    "duration": 119,
    "start_time": "2022-08-27T19:14:45.539Z"
   },
   {
    "duration": 7,
    "start_time": "2022-08-27T19:14:45.661Z"
   },
   {
    "duration": 24,
    "start_time": "2022-08-27T19:14:45.670Z"
   },
   {
    "duration": 19,
    "start_time": "2022-08-27T19:14:45.696Z"
   },
   {
    "duration": 13,
    "start_time": "2022-08-27T19:14:45.716Z"
   },
   {
    "duration": 7,
    "start_time": "2022-08-27T19:14:45.731Z"
   },
   {
    "duration": 60,
    "start_time": "2022-08-27T19:14:45.740Z"
   },
   {
    "duration": 3,
    "start_time": "2022-08-27T19:14:45.802Z"
   },
   {
    "duration": 2803,
    "start_time": "2022-08-27T19:14:45.806Z"
   },
   {
    "duration": 101,
    "start_time": "2022-08-27T19:14:48.611Z"
   },
   {
    "duration": 79,
    "start_time": "2022-08-27T19:14:48.713Z"
   },
   {
    "duration": 32,
    "start_time": "2022-08-27T19:14:48.794Z"
   },
   {
    "duration": 29,
    "start_time": "2022-08-27T19:14:48.828Z"
   },
   {
    "duration": 52,
    "start_time": "2022-08-27T19:14:48.859Z"
   },
   {
    "duration": 17,
    "start_time": "2022-08-27T19:14:48.912Z"
   },
   {
    "duration": 16,
    "start_time": "2022-08-27T19:14:48.931Z"
   },
   {
    "duration": 53,
    "start_time": "2022-08-27T19:14:48.949Z"
   },
   {
    "duration": 13,
    "start_time": "2022-08-27T19:14:49.004Z"
   },
   {
    "duration": 12,
    "start_time": "2022-08-27T19:14:49.018Z"
   },
   {
    "duration": 9,
    "start_time": "2022-08-27T19:14:49.035Z"
   },
   {
    "duration": 11,
    "start_time": "2022-08-27T19:14:49.046Z"
   },
   {
    "duration": 8,
    "start_time": "2022-08-27T19:14:49.091Z"
   },
   {
    "duration": 226,
    "start_time": "2022-08-27T19:14:49.101Z"
   },
   {
    "duration": 5,
    "start_time": "2022-08-27T19:14:49.329Z"
   },
   {
    "duration": 16,
    "start_time": "2022-08-27T19:14:49.338Z"
   },
   {
    "duration": 6,
    "start_time": "2022-08-27T19:14:49.356Z"
   },
   {
    "duration": 40,
    "start_time": "2022-08-27T19:14:49.364Z"
   },
   {
    "duration": 9,
    "start_time": "2022-08-27T19:14:49.406Z"
   },
   {
    "duration": 21,
    "start_time": "2022-08-27T19:14:49.417Z"
   },
   {
    "duration": 17,
    "start_time": "2022-08-27T19:14:49.439Z"
   },
   {
    "duration": 153,
    "start_time": "2022-08-27T19:14:49.457Z"
   },
   {
    "duration": 129,
    "start_time": "2022-08-27T19:14:49.611Z"
   },
   {
    "duration": 3,
    "start_time": "2022-08-27T19:14:49.742Z"
   },
   {
    "duration": 18,
    "start_time": "2022-08-27T19:14:49.746Z"
   },
   {
    "duration": 27,
    "start_time": "2022-08-27T19:14:49.766Z"
   },
   {
    "duration": 24,
    "start_time": "2022-08-27T19:14:49.795Z"
   },
   {
    "duration": 30,
    "start_time": "2022-08-27T19:14:49.821Z"
   },
   {
    "duration": 168,
    "start_time": "2022-08-27T19:14:49.852Z"
   },
   {
    "duration": 165,
    "start_time": "2022-08-27T19:14:50.022Z"
   },
   {
    "duration": 4,
    "start_time": "2022-08-27T19:14:50.192Z"
   },
   {
    "duration": 28,
    "start_time": "2022-08-27T19:14:50.198Z"
   },
   {
    "duration": 9,
    "start_time": "2022-08-27T19:14:50.227Z"
   },
   {
    "duration": 27,
    "start_time": "2022-08-27T19:14:50.239Z"
   },
   {
    "duration": 26,
    "start_time": "2022-08-27T19:14:50.267Z"
   },
   {
    "duration": 138,
    "start_time": "2022-08-27T19:14:50.294Z"
   },
   {
    "duration": 159,
    "start_time": "2022-08-27T19:14:50.434Z"
   },
   {
    "duration": 2,
    "start_time": "2022-08-27T19:14:50.595Z"
   },
   {
    "duration": 24,
    "start_time": "2022-08-27T19:14:50.599Z"
   },
   {
    "duration": 8,
    "start_time": "2022-08-27T19:14:50.625Z"
   },
   {
    "duration": 17,
    "start_time": "2022-08-27T19:14:50.635Z"
   },
   {
    "duration": 20,
    "start_time": "2022-08-27T19:14:50.654Z"
   },
   {
    "duration": 151,
    "start_time": "2022-08-27T19:14:50.675Z"
   },
   {
    "duration": 165,
    "start_time": "2022-08-27T19:14:50.827Z"
   },
   {
    "duration": 15,
    "start_time": "2022-08-27T19:14:50.994Z"
   },
   {
    "duration": 11,
    "start_time": "2022-08-27T19:14:51.010Z"
   },
   {
    "duration": 120,
    "start_time": "2022-08-27T19:14:51.023Z"
   },
   {
    "duration": 0,
    "start_time": "2022-08-27T19:14:51.145Z"
   },
   {
    "duration": 0,
    "start_time": "2022-08-27T19:14:51.146Z"
   },
   {
    "duration": 0,
    "start_time": "2022-08-27T19:14:51.147Z"
   },
   {
    "duration": 0,
    "start_time": "2022-08-27T19:14:51.148Z"
   },
   {
    "duration": 0,
    "start_time": "2022-08-27T19:14:51.149Z"
   },
   {
    "duration": 0,
    "start_time": "2022-08-27T19:14:51.151Z"
   },
   {
    "duration": 0,
    "start_time": "2022-08-27T19:14:51.151Z"
   },
   {
    "duration": 0,
    "start_time": "2022-08-27T19:14:51.153Z"
   },
   {
    "duration": 843,
    "start_time": "2022-08-27T20:22:28.131Z"
   },
   {
    "duration": 452,
    "start_time": "2022-08-27T20:22:28.976Z"
   },
   {
    "duration": 42,
    "start_time": "2022-08-27T20:22:29.431Z"
   },
   {
    "duration": 28,
    "start_time": "2022-08-27T20:22:29.475Z"
   },
   {
    "duration": 408,
    "start_time": "2022-08-27T20:22:29.504Z"
   },
   {
    "duration": 25,
    "start_time": "2022-08-27T20:22:29.914Z"
   },
   {
    "duration": 17,
    "start_time": "2022-08-27T20:22:29.940Z"
   },
   {
    "duration": 43,
    "start_time": "2022-08-27T20:22:29.959Z"
   },
   {
    "duration": 96,
    "start_time": "2022-08-27T20:22:30.004Z"
   },
   {
    "duration": 7,
    "start_time": "2022-08-27T20:22:30.103Z"
   },
   {
    "duration": 21,
    "start_time": "2022-08-27T20:22:30.111Z"
   },
   {
    "duration": 20,
    "start_time": "2022-08-27T20:22:30.134Z"
   },
   {
    "duration": 15,
    "start_time": "2022-08-27T20:22:30.156Z"
   },
   {
    "duration": 25,
    "start_time": "2022-08-27T20:22:30.172Z"
   },
   {
    "duration": 37,
    "start_time": "2022-08-27T20:22:30.199Z"
   },
   {
    "duration": 3,
    "start_time": "2022-08-27T20:22:30.238Z"
   },
   {
    "duration": 1981,
    "start_time": "2022-08-27T20:22:30.243Z"
   },
   {
    "duration": 47,
    "start_time": "2022-08-27T20:22:32.225Z"
   },
   {
    "duration": 35,
    "start_time": "2022-08-27T20:22:32.274Z"
   },
   {
    "duration": 34,
    "start_time": "2022-08-27T20:22:32.311Z"
   },
   {
    "duration": 47,
    "start_time": "2022-08-27T20:22:32.346Z"
   },
   {
    "duration": 28,
    "start_time": "2022-08-27T20:22:32.395Z"
   },
   {
    "duration": 15,
    "start_time": "2022-08-27T20:22:32.424Z"
   },
   {
    "duration": 15,
    "start_time": "2022-08-27T20:22:32.440Z"
   },
   {
    "duration": 49,
    "start_time": "2022-08-27T20:22:32.457Z"
   },
   {
    "duration": 10,
    "start_time": "2022-08-27T20:22:32.508Z"
   },
   {
    "duration": 5,
    "start_time": "2022-08-27T20:22:32.520Z"
   },
   {
    "duration": 7,
    "start_time": "2022-08-27T20:22:32.529Z"
   },
   {
    "duration": 11,
    "start_time": "2022-08-27T20:22:32.538Z"
   },
   {
    "duration": 7,
    "start_time": "2022-08-27T20:22:32.551Z"
   },
   {
    "duration": 219,
    "start_time": "2022-08-27T20:22:32.591Z"
   },
   {
    "duration": 4,
    "start_time": "2022-08-27T20:22:32.812Z"
   },
   {
    "duration": 16,
    "start_time": "2022-08-27T20:22:32.817Z"
   },
   {
    "duration": 4,
    "start_time": "2022-08-27T20:22:32.834Z"
   },
   {
    "duration": 18,
    "start_time": "2022-08-27T20:22:32.840Z"
   },
   {
    "duration": 33,
    "start_time": "2022-08-27T20:22:32.859Z"
   },
   {
    "duration": 15,
    "start_time": "2022-08-27T20:22:32.893Z"
   },
   {
    "duration": 19,
    "start_time": "2022-08-27T20:22:32.909Z"
   },
   {
    "duration": 151,
    "start_time": "2022-08-27T20:22:32.930Z"
   },
   {
    "duration": 125,
    "start_time": "2022-08-27T20:22:33.092Z"
   },
   {
    "duration": 3,
    "start_time": "2022-08-27T20:22:33.219Z"
   },
   {
    "duration": 18,
    "start_time": "2022-08-27T20:22:33.223Z"
   },
   {
    "duration": 8,
    "start_time": "2022-08-27T20:22:33.243Z"
   },
   {
    "duration": 15,
    "start_time": "2022-08-27T20:22:33.252Z"
   },
   {
    "duration": 42,
    "start_time": "2022-08-27T20:22:33.268Z"
   },
   {
    "duration": 155,
    "start_time": "2022-08-27T20:22:33.311Z"
   },
   {
    "duration": 162,
    "start_time": "2022-08-27T20:22:33.468Z"
   },
   {
    "duration": 4,
    "start_time": "2022-08-27T20:22:33.632Z"
   },
   {
    "duration": 18,
    "start_time": "2022-08-27T20:22:33.637Z"
   },
   {
    "duration": 9,
    "start_time": "2022-08-27T20:22:33.656Z"
   },
   {
    "duration": 37,
    "start_time": "2022-08-27T20:22:33.667Z"
   },
   {
    "duration": 15,
    "start_time": "2022-08-27T20:22:33.707Z"
   },
   {
    "duration": 145,
    "start_time": "2022-08-27T20:22:33.724Z"
   },
   {
    "duration": 162,
    "start_time": "2022-08-27T20:22:33.871Z"
   },
   {
    "duration": 3,
    "start_time": "2022-08-27T20:22:34.035Z"
   },
   {
    "duration": 17,
    "start_time": "2022-08-27T20:22:34.040Z"
   },
   {
    "duration": 8,
    "start_time": "2022-08-27T20:22:34.058Z"
   },
   {
    "duration": 33,
    "start_time": "2022-08-27T20:22:34.068Z"
   },
   {
    "duration": 14,
    "start_time": "2022-08-27T20:22:34.103Z"
   },
   {
    "duration": 149,
    "start_time": "2022-08-27T20:22:34.119Z"
   },
   {
    "duration": 153,
    "start_time": "2022-08-27T20:22:34.270Z"
   },
   {
    "duration": 21,
    "start_time": "2022-08-27T20:22:34.425Z"
   },
   {
    "duration": 21,
    "start_time": "2022-08-27T20:22:34.448Z"
   },
   {
    "duration": 7,
    "start_time": "2022-08-27T20:22:34.471Z"
   },
   {
    "duration": 19,
    "start_time": "2022-08-27T20:22:34.479Z"
   },
   {
    "duration": 24,
    "start_time": "2022-08-27T20:22:34.499Z"
   },
   {
    "duration": 15,
    "start_time": "2022-08-27T20:22:34.524Z"
   },
   {
    "duration": 12,
    "start_time": "2022-08-27T20:22:34.540Z"
   },
   {
    "duration": 49,
    "start_time": "2022-08-27T20:22:34.553Z"
   },
   {
    "duration": 5,
    "start_time": "2022-08-27T20:22:34.604Z"
   },
   {
    "duration": 6,
    "start_time": "2022-08-27T20:22:34.610Z"
   },
   {
    "duration": 8,
    "start_time": "2022-08-27T20:22:34.618Z"
   },
   {
    "duration": 9,
    "start_time": "2022-08-27T20:27:22.095Z"
   },
   {
    "duration": 7,
    "start_time": "2022-08-27T20:27:22.804Z"
   },
   {
    "duration": 103,
    "start_time": "2022-08-27T20:28:07.715Z"
   },
   {
    "duration": 882,
    "start_time": "2022-08-27T20:28:23.264Z"
   },
   {
    "duration": 431,
    "start_time": "2022-08-27T20:28:24.148Z"
   },
   {
    "duration": 42,
    "start_time": "2022-08-27T20:28:24.580Z"
   },
   {
    "duration": 31,
    "start_time": "2022-08-27T20:28:24.623Z"
   },
   {
    "duration": 435,
    "start_time": "2022-08-27T20:28:24.655Z"
   },
   {
    "duration": 28,
    "start_time": "2022-08-27T20:28:25.091Z"
   },
   {
    "duration": 17,
    "start_time": "2022-08-27T20:28:25.120Z"
   },
   {
    "duration": 22,
    "start_time": "2022-08-27T20:28:25.139Z"
   },
   {
    "duration": 83,
    "start_time": "2022-08-27T20:28:25.192Z"
   },
   {
    "duration": 17,
    "start_time": "2022-08-27T20:28:25.278Z"
   },
   {
    "duration": 17,
    "start_time": "2022-08-27T20:28:25.296Z"
   },
   {
    "duration": 19,
    "start_time": "2022-08-27T20:28:25.315Z"
   },
   {
    "duration": 14,
    "start_time": "2022-08-27T20:28:25.336Z"
   },
   {
    "duration": 8,
    "start_time": "2022-08-27T20:28:25.351Z"
   },
   {
    "duration": 59,
    "start_time": "2022-08-27T20:28:25.360Z"
   },
   {
    "duration": 4,
    "start_time": "2022-08-27T20:28:25.421Z"
   },
   {
    "duration": 1903,
    "start_time": "2022-08-27T20:28:25.426Z"
   },
   {
    "duration": 47,
    "start_time": "2022-08-27T20:28:27.330Z"
   },
   {
    "duration": 28,
    "start_time": "2022-08-27T20:28:27.379Z"
   },
   {
    "duration": 32,
    "start_time": "2022-08-27T20:28:27.408Z"
   },
   {
    "duration": 51,
    "start_time": "2022-08-27T20:28:27.442Z"
   },
   {
    "duration": 29,
    "start_time": "2022-08-27T20:28:27.494Z"
   },
   {
    "duration": 14,
    "start_time": "2022-08-27T20:28:27.524Z"
   },
   {
    "duration": 15,
    "start_time": "2022-08-27T20:28:27.540Z"
   },
   {
    "duration": 46,
    "start_time": "2022-08-27T20:28:27.557Z"
   },
   {
    "duration": 11,
    "start_time": "2022-08-27T20:28:27.605Z"
   },
   {
    "duration": 7,
    "start_time": "2022-08-27T20:28:27.618Z"
   },
   {
    "duration": 14,
    "start_time": "2022-08-27T20:28:27.629Z"
   },
   {
    "duration": 11,
    "start_time": "2022-08-27T20:28:27.644Z"
   },
   {
    "duration": 36,
    "start_time": "2022-08-27T20:28:27.656Z"
   },
   {
    "duration": 218,
    "start_time": "2022-08-27T20:28:27.694Z"
   },
   {
    "duration": 4,
    "start_time": "2022-08-27T20:28:27.914Z"
   },
   {
    "duration": 18,
    "start_time": "2022-08-27T20:28:27.920Z"
   },
   {
    "duration": 10,
    "start_time": "2022-08-27T20:28:27.940Z"
   },
   {
    "duration": 19,
    "start_time": "2022-08-27T20:28:27.953Z"
   },
   {
    "duration": 24,
    "start_time": "2022-08-27T20:28:27.974Z"
   },
   {
    "duration": 24,
    "start_time": "2022-08-27T20:28:28.000Z"
   },
   {
    "duration": 22,
    "start_time": "2022-08-27T20:28:28.026Z"
   },
   {
    "duration": 151,
    "start_time": "2022-08-27T20:28:28.050Z"
   },
   {
    "duration": 152,
    "start_time": "2022-08-27T20:28:28.203Z"
   },
   {
    "duration": 3,
    "start_time": "2022-08-27T20:28:28.357Z"
   },
   {
    "duration": 30,
    "start_time": "2022-08-27T20:28:28.362Z"
   },
   {
    "duration": 11,
    "start_time": "2022-08-27T20:28:28.394Z"
   },
   {
    "duration": 21,
    "start_time": "2022-08-27T20:28:28.407Z"
   },
   {
    "duration": 17,
    "start_time": "2022-08-27T20:28:28.430Z"
   },
   {
    "duration": 175,
    "start_time": "2022-08-27T20:28:28.449Z"
   },
   {
    "duration": 161,
    "start_time": "2022-08-27T20:28:28.626Z"
   },
   {
    "duration": 4,
    "start_time": "2022-08-27T20:28:28.789Z"
   },
   {
    "duration": 20,
    "start_time": "2022-08-27T20:28:28.794Z"
   },
   {
    "duration": 8,
    "start_time": "2022-08-27T20:28:28.816Z"
   },
   {
    "duration": 18,
    "start_time": "2022-08-27T20:28:28.826Z"
   },
   {
    "duration": 20,
    "start_time": "2022-08-27T20:28:28.845Z"
   },
   {
    "duration": 173,
    "start_time": "2022-08-27T20:28:28.867Z"
   },
   {
    "duration": 164,
    "start_time": "2022-08-27T20:28:29.042Z"
   },
   {
    "duration": 3,
    "start_time": "2022-08-27T20:28:29.208Z"
   },
   {
    "duration": 18,
    "start_time": "2022-08-27T20:28:29.212Z"
   },
   {
    "duration": 9,
    "start_time": "2022-08-27T20:28:29.232Z"
   },
   {
    "duration": 19,
    "start_time": "2022-08-27T20:28:29.242Z"
   },
   {
    "duration": 38,
    "start_time": "2022-08-27T20:28:29.263Z"
   },
   {
    "duration": 158,
    "start_time": "2022-08-27T20:28:29.302Z"
   },
   {
    "duration": 164,
    "start_time": "2022-08-27T20:28:29.462Z"
   },
   {
    "duration": 16,
    "start_time": "2022-08-27T20:28:29.628Z"
   },
   {
    "duration": 13,
    "start_time": "2022-08-27T20:28:29.646Z"
   },
   {
    "duration": 9,
    "start_time": "2022-08-27T20:28:29.660Z"
   },
   {
    "duration": 112,
    "start_time": "2022-08-27T20:28:29.691Z"
   },
   {
    "duration": 0,
    "start_time": "2022-08-27T20:28:29.805Z"
   },
   {
    "duration": 0,
    "start_time": "2022-08-27T20:28:29.806Z"
   },
   {
    "duration": 0,
    "start_time": "2022-08-27T20:28:29.807Z"
   },
   {
    "duration": 0,
    "start_time": "2022-08-27T20:28:29.808Z"
   },
   {
    "duration": 0,
    "start_time": "2022-08-27T20:28:29.810Z"
   },
   {
    "duration": 0,
    "start_time": "2022-08-27T20:28:29.811Z"
   },
   {
    "duration": 0,
    "start_time": "2022-08-27T20:28:29.812Z"
   },
   {
    "duration": 0,
    "start_time": "2022-08-27T20:28:29.813Z"
   },
   {
    "duration": 17,
    "start_time": "2022-08-27T20:28:57.657Z"
   },
   {
    "duration": 10,
    "start_time": "2022-08-27T20:29:22.760Z"
   },
   {
    "duration": 12,
    "start_time": "2022-08-27T20:29:45.821Z"
   },
   {
    "duration": 8,
    "start_time": "2022-08-27T20:30:15.811Z"
   },
   {
    "duration": 11,
    "start_time": "2022-08-27T20:30:29.522Z"
   },
   {
    "duration": 6,
    "start_time": "2022-08-27T20:31:37.534Z"
   },
   {
    "duration": 314,
    "start_time": "2022-08-27T20:33:34.727Z"
   },
   {
    "duration": 909,
    "start_time": "2022-08-27T20:34:32.224Z"
   },
   {
    "duration": 477,
    "start_time": "2022-08-27T20:34:33.135Z"
   },
   {
    "duration": 41,
    "start_time": "2022-08-27T20:34:33.615Z"
   },
   {
    "duration": 34,
    "start_time": "2022-08-27T20:34:33.659Z"
   },
   {
    "duration": 497,
    "start_time": "2022-08-27T20:34:33.695Z"
   },
   {
    "duration": 27,
    "start_time": "2022-08-27T20:34:34.195Z"
   },
   {
    "duration": 18,
    "start_time": "2022-08-27T20:34:34.224Z"
   },
   {
    "duration": 51,
    "start_time": "2022-08-27T20:34:34.243Z"
   },
   {
    "duration": 99,
    "start_time": "2022-08-27T20:34:34.295Z"
   },
   {
    "duration": 7,
    "start_time": "2022-08-27T20:34:34.396Z"
   },
   {
    "duration": 13,
    "start_time": "2022-08-27T20:34:34.405Z"
   },
   {
    "duration": 27,
    "start_time": "2022-08-27T20:34:34.421Z"
   },
   {
    "duration": 44,
    "start_time": "2022-08-27T20:34:34.450Z"
   },
   {
    "duration": 11,
    "start_time": "2022-08-27T20:34:34.496Z"
   },
   {
    "duration": 48,
    "start_time": "2022-08-27T20:34:34.509Z"
   },
   {
    "duration": 5,
    "start_time": "2022-08-27T20:34:34.559Z"
   },
   {
    "duration": 2036,
    "start_time": "2022-08-27T20:34:34.566Z"
   },
   {
    "duration": 48,
    "start_time": "2022-08-27T20:34:36.604Z"
   },
   {
    "duration": 39,
    "start_time": "2022-08-27T20:34:36.653Z"
   },
   {
    "duration": 33,
    "start_time": "2022-08-27T20:34:36.694Z"
   },
   {
    "duration": 29,
    "start_time": "2022-08-27T20:34:36.729Z"
   },
   {
    "duration": 55,
    "start_time": "2022-08-27T20:34:36.760Z"
   },
   {
    "duration": 19,
    "start_time": "2022-08-27T20:34:36.817Z"
   },
   {
    "duration": 21,
    "start_time": "2022-08-27T20:34:36.839Z"
   },
   {
    "duration": 51,
    "start_time": "2022-08-27T20:34:36.862Z"
   },
   {
    "duration": 12,
    "start_time": "2022-08-27T20:34:36.915Z"
   },
   {
    "duration": 12,
    "start_time": "2022-08-27T20:34:36.929Z"
   },
   {
    "duration": 9,
    "start_time": "2022-08-27T20:34:36.945Z"
   },
   {
    "duration": 40,
    "start_time": "2022-08-27T20:34:36.955Z"
   },
   {
    "duration": 7,
    "start_time": "2022-08-27T20:34:36.997Z"
   },
   {
    "duration": 225,
    "start_time": "2022-08-27T20:34:37.005Z"
   },
   {
    "duration": 5,
    "start_time": "2022-08-27T20:34:37.232Z"
   },
   {
    "duration": 17,
    "start_time": "2022-08-27T20:34:37.239Z"
   },
   {
    "duration": 7,
    "start_time": "2022-08-27T20:34:37.259Z"
   },
   {
    "duration": 35,
    "start_time": "2022-08-27T20:34:37.268Z"
   },
   {
    "duration": 10,
    "start_time": "2022-08-27T20:34:37.305Z"
   },
   {
    "duration": 16,
    "start_time": "2022-08-27T20:34:37.317Z"
   },
   {
    "duration": 23,
    "start_time": "2022-08-27T20:34:37.335Z"
   },
   {
    "duration": 206,
    "start_time": "2022-08-27T20:34:37.360Z"
   },
   {
    "duration": 143,
    "start_time": "2022-08-27T20:34:37.568Z"
   },
   {
    "duration": 3,
    "start_time": "2022-08-27T20:34:37.713Z"
   },
   {
    "duration": 28,
    "start_time": "2022-08-27T20:34:37.718Z"
   },
   {
    "duration": 10,
    "start_time": "2022-08-27T20:34:37.748Z"
   },
   {
    "duration": 33,
    "start_time": "2022-08-27T20:34:37.760Z"
   },
   {
    "duration": 22,
    "start_time": "2022-08-27T20:34:37.795Z"
   },
   {
    "duration": 188,
    "start_time": "2022-08-27T20:34:37.819Z"
   },
   {
    "duration": 175,
    "start_time": "2022-08-27T20:34:38.009Z"
   },
   {
    "duration": 3,
    "start_time": "2022-08-27T20:34:38.191Z"
   },
   {
    "duration": 21,
    "start_time": "2022-08-27T20:34:38.196Z"
   },
   {
    "duration": 10,
    "start_time": "2022-08-27T20:34:38.218Z"
   },
   {
    "duration": 17,
    "start_time": "2022-08-27T20:34:38.230Z"
   },
   {
    "duration": 19,
    "start_time": "2022-08-27T20:34:38.249Z"
   },
   {
    "duration": 158,
    "start_time": "2022-08-27T20:34:38.292Z"
   },
   {
    "duration": 165,
    "start_time": "2022-08-27T20:34:38.452Z"
   },
   {
    "duration": 3,
    "start_time": "2022-08-27T20:34:38.619Z"
   },
   {
    "duration": 24,
    "start_time": "2022-08-27T20:34:38.624Z"
   },
   {
    "duration": 9,
    "start_time": "2022-08-27T20:34:38.650Z"
   },
   {
    "duration": 37,
    "start_time": "2022-08-27T20:34:38.661Z"
   },
   {
    "duration": 20,
    "start_time": "2022-08-27T20:34:38.699Z"
   },
   {
    "duration": 153,
    "start_time": "2022-08-27T20:34:38.720Z"
   },
   {
    "duration": 321,
    "start_time": "2022-08-27T20:34:38.875Z"
   },
   {
    "duration": 296,
    "start_time": "2022-08-27T20:34:39.198Z"
   },
   {
    "duration": 0,
    "start_time": "2022-08-27T20:34:39.496Z"
   },
   {
    "duration": 0,
    "start_time": "2022-08-27T20:34:39.497Z"
   },
   {
    "duration": 0,
    "start_time": "2022-08-27T20:34:39.498Z"
   },
   {
    "duration": 0,
    "start_time": "2022-08-27T20:34:39.499Z"
   },
   {
    "duration": 0,
    "start_time": "2022-08-27T20:34:39.501Z"
   },
   {
    "duration": 0,
    "start_time": "2022-08-27T20:34:39.502Z"
   },
   {
    "duration": 0,
    "start_time": "2022-08-27T20:34:39.503Z"
   },
   {
    "duration": 0,
    "start_time": "2022-08-27T20:34:39.504Z"
   },
   {
    "duration": 0,
    "start_time": "2022-08-27T20:34:39.505Z"
   },
   {
    "duration": 0,
    "start_time": "2022-08-27T20:34:39.507Z"
   },
   {
    "duration": 0,
    "start_time": "2022-08-27T20:34:39.508Z"
   },
   {
    "duration": 890,
    "start_time": "2022-08-27T20:35:23.643Z"
   },
   {
    "duration": 496,
    "start_time": "2022-08-27T20:35:24.535Z"
   },
   {
    "duration": 47,
    "start_time": "2022-08-27T20:35:25.033Z"
   },
   {
    "duration": 33,
    "start_time": "2022-08-27T20:35:25.082Z"
   },
   {
    "duration": 1258,
    "start_time": "2022-08-27T20:35:25.117Z"
   },
   {
    "duration": 42,
    "start_time": "2022-08-27T20:35:26.377Z"
   },
   {
    "duration": 26,
    "start_time": "2022-08-27T20:35:26.421Z"
   },
   {
    "duration": 50,
    "start_time": "2022-08-27T20:35:26.449Z"
   },
   {
    "duration": 106,
    "start_time": "2022-08-27T20:35:26.501Z"
   },
   {
    "duration": 7,
    "start_time": "2022-08-27T20:35:26.609Z"
   },
   {
    "duration": 22,
    "start_time": "2022-08-27T20:35:26.618Z"
   },
   {
    "duration": 19,
    "start_time": "2022-08-27T20:35:26.642Z"
   },
   {
    "duration": 38,
    "start_time": "2022-08-27T20:35:26.663Z"
   },
   {
    "duration": 9,
    "start_time": "2022-08-27T20:35:26.704Z"
   },
   {
    "duration": 35,
    "start_time": "2022-08-27T20:35:26.715Z"
   },
   {
    "duration": 5,
    "start_time": "2022-08-27T20:35:26.752Z"
   },
   {
    "duration": 2071,
    "start_time": "2022-08-27T20:35:26.759Z"
   },
   {
    "duration": 65,
    "start_time": "2022-08-27T20:35:28.832Z"
   },
   {
    "duration": 23,
    "start_time": "2022-08-27T20:35:28.899Z"
   },
   {
    "duration": 35,
    "start_time": "2022-08-27T20:35:28.924Z"
   },
   {
    "duration": 50,
    "start_time": "2022-08-27T20:35:28.961Z"
   },
   {
    "duration": 31,
    "start_time": "2022-08-27T20:35:29.013Z"
   },
   {
    "duration": 16,
    "start_time": "2022-08-27T20:35:29.046Z"
   },
   {
    "duration": 41,
    "start_time": "2022-08-27T20:35:29.063Z"
   },
   {
    "duration": 23,
    "start_time": "2022-08-27T20:35:29.105Z"
   },
   {
    "duration": 12,
    "start_time": "2022-08-27T20:35:29.130Z"
   },
   {
    "duration": 8,
    "start_time": "2022-08-27T20:35:29.144Z"
   },
   {
    "duration": 40,
    "start_time": "2022-08-27T20:35:29.154Z"
   },
   {
    "duration": 12,
    "start_time": "2022-08-27T20:35:29.196Z"
   },
   {
    "duration": 8,
    "start_time": "2022-08-27T20:35:29.210Z"
   },
   {
    "duration": 303,
    "start_time": "2022-08-27T20:35:29.220Z"
   },
   {
    "duration": 5,
    "start_time": "2022-08-27T20:35:29.525Z"
   },
   {
    "duration": 22,
    "start_time": "2022-08-27T20:35:29.532Z"
   },
   {
    "duration": 8,
    "start_time": "2022-08-27T20:35:29.556Z"
   },
   {
    "duration": 40,
    "start_time": "2022-08-27T20:35:29.567Z"
   },
   {
    "duration": 11,
    "start_time": "2022-08-27T20:35:29.609Z"
   },
   {
    "duration": 25,
    "start_time": "2022-08-27T20:35:29.622Z"
   },
   {
    "duration": 16,
    "start_time": "2022-08-27T20:35:29.649Z"
   },
   {
    "duration": 167,
    "start_time": "2022-08-27T20:35:29.667Z"
   },
   {
    "duration": 163,
    "start_time": "2022-08-27T20:35:29.836Z"
   },
   {
    "duration": 4,
    "start_time": "2022-08-27T20:35:30.005Z"
   },
   {
    "duration": 26,
    "start_time": "2022-08-27T20:35:30.013Z"
   },
   {
    "duration": 10,
    "start_time": "2022-08-27T20:35:30.040Z"
   },
   {
    "duration": 25,
    "start_time": "2022-08-27T20:35:30.052Z"
   },
   {
    "duration": 16,
    "start_time": "2022-08-27T20:35:30.091Z"
   },
   {
    "duration": 165,
    "start_time": "2022-08-27T20:35:30.108Z"
   },
   {
    "duration": 192,
    "start_time": "2022-08-27T20:35:30.275Z"
   },
   {
    "duration": 3,
    "start_time": "2022-08-27T20:35:30.470Z"
   },
   {
    "duration": 36,
    "start_time": "2022-08-27T20:35:30.475Z"
   },
   {
    "duration": 13,
    "start_time": "2022-08-27T20:35:30.514Z"
   },
   {
    "duration": 37,
    "start_time": "2022-08-27T20:35:30.529Z"
   },
   {
    "duration": 44,
    "start_time": "2022-08-27T20:35:30.568Z"
   },
   {
    "duration": 152,
    "start_time": "2022-08-27T20:35:30.613Z"
   },
   {
    "duration": 164,
    "start_time": "2022-08-27T20:35:30.767Z"
   },
   {
    "duration": 4,
    "start_time": "2022-08-27T20:35:30.932Z"
   },
   {
    "duration": 127,
    "start_time": "2022-08-27T20:35:30.937Z"
   },
   {
    "duration": 0,
    "start_time": "2022-08-27T20:35:31.066Z"
   },
   {
    "duration": 0,
    "start_time": "2022-08-27T20:35:31.068Z"
   },
   {
    "duration": 0,
    "start_time": "2022-08-27T20:35:31.069Z"
   },
   {
    "duration": 0,
    "start_time": "2022-08-27T20:35:31.071Z"
   },
   {
    "duration": 0,
    "start_time": "2022-08-27T20:35:31.072Z"
   },
   {
    "duration": 0,
    "start_time": "2022-08-27T20:35:31.073Z"
   },
   {
    "duration": 0,
    "start_time": "2022-08-27T20:35:31.074Z"
   },
   {
    "duration": 0,
    "start_time": "2022-08-27T20:35:31.092Z"
   },
   {
    "duration": 0,
    "start_time": "2022-08-27T20:35:31.094Z"
   },
   {
    "duration": 0,
    "start_time": "2022-08-27T20:35:31.095Z"
   },
   {
    "duration": 0,
    "start_time": "2022-08-27T20:35:31.097Z"
   },
   {
    "duration": 0,
    "start_time": "2022-08-27T20:35:31.099Z"
   },
   {
    "duration": 0,
    "start_time": "2022-08-27T20:35:31.100Z"
   },
   {
    "duration": 0,
    "start_time": "2022-08-27T20:35:31.102Z"
   },
   {
    "duration": 0,
    "start_time": "2022-08-27T20:35:31.103Z"
   },
   {
    "duration": 0,
    "start_time": "2022-08-27T20:35:31.105Z"
   },
   {
    "duration": 0,
    "start_time": "2022-08-27T20:35:31.107Z"
   },
   {
    "duration": 906,
    "start_time": "2022-08-27T20:35:54.948Z"
   },
   {
    "duration": 494,
    "start_time": "2022-08-27T20:35:55.857Z"
   },
   {
    "duration": 63,
    "start_time": "2022-08-27T20:35:56.353Z"
   },
   {
    "duration": 35,
    "start_time": "2022-08-27T20:35:56.419Z"
   },
   {
    "duration": 500,
    "start_time": "2022-08-27T20:35:56.457Z"
   },
   {
    "duration": 40,
    "start_time": "2022-08-27T20:35:56.959Z"
   },
   {
    "duration": 24,
    "start_time": "2022-08-27T20:35:57.001Z"
   },
   {
    "duration": 29,
    "start_time": "2022-08-27T20:35:57.027Z"
   },
   {
    "duration": 120,
    "start_time": "2022-08-27T20:35:57.058Z"
   },
   {
    "duration": 16,
    "start_time": "2022-08-27T20:35:57.181Z"
   },
   {
    "duration": 13,
    "start_time": "2022-08-27T20:35:57.199Z"
   },
   {
    "duration": 22,
    "start_time": "2022-08-27T20:35:57.214Z"
   },
   {
    "duration": 16,
    "start_time": "2022-08-27T20:35:57.238Z"
   },
   {
    "duration": 38,
    "start_time": "2022-08-27T20:35:57.255Z"
   },
   {
    "duration": 43,
    "start_time": "2022-08-27T20:35:57.296Z"
   },
   {
    "duration": 4,
    "start_time": "2022-08-27T20:35:57.341Z"
   },
   {
    "duration": 1965,
    "start_time": "2022-08-27T20:35:57.347Z"
   },
   {
    "duration": 55,
    "start_time": "2022-08-27T20:35:59.314Z"
   },
   {
    "duration": 38,
    "start_time": "2022-08-27T20:35:59.374Z"
   },
   {
    "duration": 45,
    "start_time": "2022-08-27T20:35:59.414Z"
   },
   {
    "duration": 56,
    "start_time": "2022-08-27T20:35:59.461Z"
   },
   {
    "duration": 43,
    "start_time": "2022-08-27T20:35:59.519Z"
   },
   {
    "duration": 37,
    "start_time": "2022-08-27T20:35:59.564Z"
   },
   {
    "duration": 23,
    "start_time": "2022-08-27T20:35:59.604Z"
   },
   {
    "duration": 32,
    "start_time": "2022-08-27T20:35:59.628Z"
   },
   {
    "duration": 33,
    "start_time": "2022-08-27T20:35:59.662Z"
   },
   {
    "duration": 11,
    "start_time": "2022-08-27T20:35:59.697Z"
   },
   {
    "duration": 12,
    "start_time": "2022-08-27T20:35:59.713Z"
   },
   {
    "duration": 31,
    "start_time": "2022-08-27T20:35:59.728Z"
   },
   {
    "duration": 10,
    "start_time": "2022-08-27T20:35:59.761Z"
   },
   {
    "duration": 235,
    "start_time": "2022-08-27T20:35:59.773Z"
   },
   {
    "duration": 11,
    "start_time": "2022-08-27T20:36:00.011Z"
   },
   {
    "duration": 26,
    "start_time": "2022-08-27T20:36:00.024Z"
   },
   {
    "duration": 6,
    "start_time": "2022-08-27T20:36:00.052Z"
   },
   {
    "duration": 32,
    "start_time": "2022-08-27T20:36:00.060Z"
   },
   {
    "duration": 10,
    "start_time": "2022-08-27T20:36:00.094Z"
   },
   {
    "duration": 25,
    "start_time": "2022-08-27T20:36:00.105Z"
   },
   {
    "duration": 31,
    "start_time": "2022-08-27T20:36:00.133Z"
   },
   {
    "duration": 171,
    "start_time": "2022-08-27T20:36:00.166Z"
   },
   {
    "duration": 143,
    "start_time": "2022-08-27T20:36:00.339Z"
   },
   {
    "duration": 4,
    "start_time": "2022-08-27T20:36:00.491Z"
   },
   {
    "duration": 47,
    "start_time": "2022-08-27T20:36:00.497Z"
   },
   {
    "duration": 21,
    "start_time": "2022-08-27T20:36:00.546Z"
   },
   {
    "duration": 32,
    "start_time": "2022-08-27T20:36:00.569Z"
   },
   {
    "duration": 23,
    "start_time": "2022-08-27T20:36:00.603Z"
   },
   {
    "duration": 181,
    "start_time": "2022-08-27T20:36:00.628Z"
   },
   {
    "duration": 197,
    "start_time": "2022-08-27T20:36:00.811Z"
   },
   {
    "duration": 3,
    "start_time": "2022-08-27T20:36:01.010Z"
   },
   {
    "duration": 24,
    "start_time": "2022-08-27T20:36:01.014Z"
   },
   {
    "duration": 61,
    "start_time": "2022-08-27T20:36:01.039Z"
   },
   {
    "duration": 35,
    "start_time": "2022-08-27T20:36:01.102Z"
   },
   {
    "duration": 69,
    "start_time": "2022-08-27T20:36:01.139Z"
   },
   {
    "duration": 325,
    "start_time": "2022-08-27T20:36:01.210Z"
   },
   {
    "duration": 458,
    "start_time": "2022-08-27T20:36:01.537Z"
   },
   {
    "duration": 3,
    "start_time": "2022-08-27T20:36:01.998Z"
   },
   {
    "duration": 38,
    "start_time": "2022-08-27T20:36:02.004Z"
   },
   {
    "duration": 54,
    "start_time": "2022-08-27T20:36:02.044Z"
   },
   {
    "duration": 94,
    "start_time": "2022-08-27T20:36:02.100Z"
   },
   {
    "duration": 40,
    "start_time": "2022-08-27T20:36:02.196Z"
   },
   {
    "duration": 478,
    "start_time": "2022-08-27T20:36:02.238Z"
   },
   {
    "duration": 384,
    "start_time": "2022-08-27T20:36:02.719Z"
   },
   {
    "duration": 20,
    "start_time": "2022-08-27T20:36:03.104Z"
   },
   {
    "duration": 72,
    "start_time": "2022-08-27T20:36:03.125Z"
   },
   {
    "duration": 14,
    "start_time": "2022-08-27T20:36:03.199Z"
   },
   {
    "duration": 7,
    "start_time": "2022-08-27T20:36:03.215Z"
   },
   {
    "duration": 14,
    "start_time": "2022-08-27T20:36:03.224Z"
   },
   {
    "duration": 75,
    "start_time": "2022-08-27T20:36:03.240Z"
   },
   {
    "duration": 18,
    "start_time": "2022-08-27T20:36:03.317Z"
   },
   {
    "duration": 15,
    "start_time": "2022-08-27T20:36:03.337Z"
   },
   {
    "duration": 63,
    "start_time": "2022-08-27T20:36:03.354Z"
   },
   {
    "duration": 6,
    "start_time": "2022-08-27T20:36:03.419Z"
   },
   {
    "duration": 17,
    "start_time": "2022-08-27T20:36:03.427Z"
   },
   {
    "duration": 9,
    "start_time": "2022-08-27T20:36:03.445Z"
   },
   {
    "duration": 8,
    "start_time": "2022-08-27T20:37:09.327Z"
   },
   {
    "duration": 8,
    "start_time": "2022-08-27T20:37:30.451Z"
   },
   {
    "duration": 8,
    "start_time": "2022-08-27T20:37:55.744Z"
   },
   {
    "duration": 7,
    "start_time": "2022-08-27T20:38:44.839Z"
   },
   {
    "duration": 4,
    "start_time": "2022-08-27T20:38:45.269Z"
   },
   {
    "duration": 5,
    "start_time": "2022-08-27T20:39:48.226Z"
   },
   {
    "duration": 20,
    "start_time": "2022-08-27T20:40:53.828Z"
   },
   {
    "duration": 13,
    "start_time": "2022-08-27T20:42:08.337Z"
   },
   {
    "duration": 106,
    "start_time": "2022-08-27T20:43:29.176Z"
   },
   {
    "duration": 903,
    "start_time": "2022-08-27T20:45:05.826Z"
   },
   {
    "duration": 480,
    "start_time": "2022-08-27T20:45:06.731Z"
   },
   {
    "duration": 40,
    "start_time": "2022-08-27T20:45:07.213Z"
   },
   {
    "duration": 31,
    "start_time": "2022-08-27T20:45:07.255Z"
   },
   {
    "duration": 432,
    "start_time": "2022-08-27T20:45:07.292Z"
   },
   {
    "duration": 29,
    "start_time": "2022-08-27T20:45:07.725Z"
   },
   {
    "duration": 37,
    "start_time": "2022-08-27T20:45:07.755Z"
   },
   {
    "duration": 22,
    "start_time": "2022-08-27T20:45:07.794Z"
   },
   {
    "duration": 108,
    "start_time": "2022-08-27T20:45:07.818Z"
   },
   {
    "duration": 7,
    "start_time": "2022-08-27T20:45:07.930Z"
   },
   {
    "duration": 12,
    "start_time": "2022-08-27T20:45:07.938Z"
   },
   {
    "duration": 41,
    "start_time": "2022-08-27T20:45:07.952Z"
   },
   {
    "duration": 15,
    "start_time": "2022-08-27T20:45:07.994Z"
   },
   {
    "duration": 11,
    "start_time": "2022-08-27T20:45:08.011Z"
   },
   {
    "duration": 41,
    "start_time": "2022-08-27T20:45:08.024Z"
   },
   {
    "duration": 26,
    "start_time": "2022-08-27T20:45:08.066Z"
   },
   {
    "duration": 2011,
    "start_time": "2022-08-27T20:45:08.094Z"
   },
   {
    "duration": 66,
    "start_time": "2022-08-27T20:45:10.107Z"
   },
   {
    "duration": 60,
    "start_time": "2022-08-27T20:45:10.175Z"
   },
   {
    "duration": 37,
    "start_time": "2022-08-27T20:45:10.237Z"
   },
   {
    "duration": 45,
    "start_time": "2022-08-27T20:45:10.277Z"
   },
   {
    "duration": 36,
    "start_time": "2022-08-27T20:45:10.324Z"
   },
   {
    "duration": 37,
    "start_time": "2022-08-27T20:45:10.362Z"
   },
   {
    "duration": 22,
    "start_time": "2022-08-27T20:45:10.401Z"
   },
   {
    "duration": 33,
    "start_time": "2022-08-27T20:45:10.425Z"
   },
   {
    "duration": 34,
    "start_time": "2022-08-27T20:45:10.460Z"
   },
   {
    "duration": 8,
    "start_time": "2022-08-27T20:45:10.496Z"
   },
   {
    "duration": 12,
    "start_time": "2022-08-27T20:45:10.510Z"
   },
   {
    "duration": 34,
    "start_time": "2022-08-27T20:45:10.524Z"
   },
   {
    "duration": 11,
    "start_time": "2022-08-27T20:45:10.560Z"
   },
   {
    "duration": 266,
    "start_time": "2022-08-27T20:45:10.573Z"
   },
   {
    "duration": 8,
    "start_time": "2022-08-27T20:45:10.842Z"
   },
   {
    "duration": 23,
    "start_time": "2022-08-27T20:45:10.852Z"
   },
   {
    "duration": 4,
    "start_time": "2022-08-27T20:45:10.877Z"
   },
   {
    "duration": 16,
    "start_time": "2022-08-27T20:45:10.892Z"
   },
   {
    "duration": 8,
    "start_time": "2022-08-27T20:45:10.910Z"
   },
   {
    "duration": 19,
    "start_time": "2022-08-27T20:45:10.921Z"
   },
   {
    "duration": 22,
    "start_time": "2022-08-27T20:45:10.943Z"
   },
   {
    "duration": 164,
    "start_time": "2022-08-27T20:45:10.993Z"
   },
   {
    "duration": 154,
    "start_time": "2022-08-27T20:45:11.159Z"
   },
   {
    "duration": 3,
    "start_time": "2022-08-27T20:45:11.315Z"
   },
   {
    "duration": 24,
    "start_time": "2022-08-27T20:45:11.321Z"
   },
   {
    "duration": 10,
    "start_time": "2022-08-27T20:45:11.347Z"
   },
   {
    "duration": 36,
    "start_time": "2022-08-27T20:45:11.358Z"
   },
   {
    "duration": 17,
    "start_time": "2022-08-27T20:45:11.396Z"
   },
   {
    "duration": 180,
    "start_time": "2022-08-27T20:45:11.414Z"
   },
   {
    "duration": 161,
    "start_time": "2022-08-27T20:45:11.596Z"
   },
   {
    "duration": 3,
    "start_time": "2022-08-27T20:45:11.759Z"
   },
   {
    "duration": 42,
    "start_time": "2022-08-27T20:45:11.764Z"
   },
   {
    "duration": 12,
    "start_time": "2022-08-27T20:45:11.809Z"
   },
   {
    "duration": 42,
    "start_time": "2022-08-27T20:45:11.824Z"
   },
   {
    "duration": 40,
    "start_time": "2022-08-27T20:45:11.868Z"
   },
   {
    "duration": 194,
    "start_time": "2022-08-27T20:45:11.910Z"
   },
   {
    "duration": 196,
    "start_time": "2022-08-27T20:45:12.106Z"
   },
   {
    "duration": 3,
    "start_time": "2022-08-27T20:45:12.304Z"
   },
   {
    "duration": 16,
    "start_time": "2022-08-27T20:45:12.309Z"
   },
   {
    "duration": 11,
    "start_time": "2022-08-27T20:45:12.326Z"
   },
   {
    "duration": 21,
    "start_time": "2022-08-27T20:45:12.339Z"
   },
   {
    "duration": 49,
    "start_time": "2022-08-27T20:45:12.362Z"
   },
   {
    "duration": 204,
    "start_time": "2022-08-27T20:45:12.413Z"
   },
   {
    "duration": 176,
    "start_time": "2022-08-27T20:45:12.619Z"
   },
   {
    "duration": 6,
    "start_time": "2022-08-27T20:45:12.797Z"
   },
   {
    "duration": 10,
    "start_time": "2022-08-27T20:45:12.804Z"
   },
   {
    "duration": 8,
    "start_time": "2022-08-27T20:45:12.815Z"
   },
   {
    "duration": 22,
    "start_time": "2022-08-27T20:45:12.824Z"
   },
   {
    "duration": 27,
    "start_time": "2022-08-27T20:45:12.848Z"
   },
   {
    "duration": 17,
    "start_time": "2022-08-27T20:45:12.891Z"
   },
   {
    "duration": 17,
    "start_time": "2022-08-27T20:45:12.909Z"
   },
   {
    "duration": 39,
    "start_time": "2022-08-27T20:45:12.928Z"
   },
   {
    "duration": 31,
    "start_time": "2022-08-27T20:45:12.969Z"
   },
   {
    "duration": 195,
    "start_time": "2022-08-27T20:45:13.002Z"
   },
   {
    "duration": 0,
    "start_time": "2022-08-27T20:45:13.198Z"
   },
   {
    "duration": 24,
    "start_time": "2022-08-27T20:45:42.417Z"
   },
   {
    "duration": 24,
    "start_time": "2022-08-27T20:46:15.793Z"
   },
   {
    "duration": 23,
    "start_time": "2022-08-27T20:46:32.558Z"
   },
   {
    "duration": 17,
    "start_time": "2022-08-27T20:47:15.897Z"
   },
   {
    "duration": 19,
    "start_time": "2022-08-27T20:47:22.649Z"
   },
   {
    "duration": 19,
    "start_time": "2022-08-27T20:47:46.337Z"
   },
   {
    "duration": 6,
    "start_time": "2022-08-27T20:48:08.175Z"
   },
   {
    "duration": 4,
    "start_time": "2022-08-27T20:48:28.940Z"
   },
   {
    "duration": 7,
    "start_time": "2022-08-27T20:48:57.658Z"
   },
   {
    "duration": 5,
    "start_time": "2022-08-27T20:49:03.033Z"
   },
   {
    "duration": 16,
    "start_time": "2022-08-27T20:49:26.256Z"
   },
   {
    "duration": 20,
    "start_time": "2022-08-27T20:50:08.996Z"
   },
   {
    "duration": 17,
    "start_time": "2022-08-27T20:50:20.355Z"
   },
   {
    "duration": 18,
    "start_time": "2022-08-27T20:50:42.003Z"
   },
   {
    "duration": 15,
    "start_time": "2022-08-27T20:50:45.593Z"
   },
   {
    "duration": 23,
    "start_time": "2022-08-27T20:50:56.377Z"
   },
   {
    "duration": 31,
    "start_time": "2022-08-27T20:51:50.839Z"
   },
   {
    "duration": 26,
    "start_time": "2022-08-27T20:52:19.907Z"
   },
   {
    "duration": 1281,
    "start_time": "2022-08-27T20:52:51.844Z"
   },
   {
    "duration": 24,
    "start_time": "2022-08-27T20:53:00.697Z"
   },
   {
    "duration": 22,
    "start_time": "2022-08-27T20:53:11.063Z"
   },
   {
    "duration": 7,
    "start_time": "2022-08-27T20:53:15.166Z"
   },
   {
    "duration": 7,
    "start_time": "2022-08-27T21:00:27.023Z"
   },
   {
    "duration": 6,
    "start_time": "2022-08-27T21:00:54.149Z"
   },
   {
    "duration": 7,
    "start_time": "2022-08-27T21:01:10.779Z"
   },
   {
    "duration": 7,
    "start_time": "2022-08-27T21:05:38.770Z"
   },
   {
    "duration": 1131,
    "start_time": "2022-08-27T21:05:53.095Z"
   },
   {
    "duration": 12,
    "start_time": "2022-08-27T21:06:02.205Z"
   },
   {
    "duration": 8,
    "start_time": "2022-08-27T21:06:32.236Z"
   },
   {
    "duration": 6,
    "start_time": "2022-08-27T21:06:39.753Z"
   },
   {
    "duration": 4,
    "start_time": "2022-08-27T21:06:52.819Z"
   },
   {
    "duration": 13,
    "start_time": "2022-08-27T21:07:09.512Z"
   },
   {
    "duration": 9,
    "start_time": "2022-08-27T21:07:15.752Z"
   },
   {
    "duration": 16,
    "start_time": "2022-08-27T21:10:10.510Z"
   },
   {
    "duration": 38,
    "start_time": "2022-08-27T21:12:14.435Z"
   },
   {
    "duration": 972,
    "start_time": "2022-08-27T21:12:32.176Z"
   },
   {
    "duration": 469,
    "start_time": "2022-08-27T21:12:33.150Z"
   },
   {
    "duration": 43,
    "start_time": "2022-08-27T21:12:33.621Z"
   },
   {
    "duration": 31,
    "start_time": "2022-08-27T21:12:33.667Z"
   },
   {
    "duration": 448,
    "start_time": "2022-08-27T21:12:33.700Z"
   },
   {
    "duration": 29,
    "start_time": "2022-08-27T21:12:34.150Z"
   },
   {
    "duration": 18,
    "start_time": "2022-08-27T21:12:34.192Z"
   },
   {
    "duration": 21,
    "start_time": "2022-08-27T21:12:34.211Z"
   },
   {
    "duration": 112,
    "start_time": "2022-08-27T21:12:34.234Z"
   },
   {
    "duration": 6,
    "start_time": "2022-08-27T21:12:34.349Z"
   },
   {
    "duration": 14,
    "start_time": "2022-08-27T21:12:34.356Z"
   },
   {
    "duration": 33,
    "start_time": "2022-08-27T21:12:34.372Z"
   },
   {
    "duration": 14,
    "start_time": "2022-08-27T21:12:34.407Z"
   },
   {
    "duration": 8,
    "start_time": "2022-08-27T21:12:34.422Z"
   },
   {
    "duration": 61,
    "start_time": "2022-08-27T21:12:34.432Z"
   },
   {
    "duration": 4,
    "start_time": "2022-08-27T21:12:34.494Z"
   },
   {
    "duration": 2503,
    "start_time": "2022-08-27T21:12:34.499Z"
   },
   {
    "duration": 104,
    "start_time": "2022-08-27T21:12:37.004Z"
   },
   {
    "duration": 86,
    "start_time": "2022-08-27T21:12:37.111Z"
   },
   {
    "duration": 101,
    "start_time": "2022-08-27T21:12:37.199Z"
   },
   {
    "duration": 32,
    "start_time": "2022-08-27T21:12:37.303Z"
   },
   {
    "duration": 30,
    "start_time": "2022-08-27T21:12:37.391Z"
   },
   {
    "duration": 69,
    "start_time": "2022-08-27T21:12:37.423Z"
   },
   {
    "duration": 17,
    "start_time": "2022-08-27T21:12:37.493Z"
   },
   {
    "duration": 22,
    "start_time": "2022-08-27T21:12:37.512Z"
   },
   {
    "duration": 13,
    "start_time": "2022-08-27T21:12:37.592Z"
   },
   {
    "duration": 7,
    "start_time": "2022-08-27T21:12:37.607Z"
   },
   {
    "duration": 10,
    "start_time": "2022-08-27T21:12:37.621Z"
   },
   {
    "duration": 70,
    "start_time": "2022-08-27T21:12:37.634Z"
   },
   {
    "duration": 11,
    "start_time": "2022-08-27T21:12:37.706Z"
   },
   {
    "duration": 334,
    "start_time": "2022-08-27T21:12:37.719Z"
   },
   {
    "duration": 4,
    "start_time": "2022-08-27T21:12:38.055Z"
   },
   {
    "duration": 30,
    "start_time": "2022-08-27T21:12:38.061Z"
   },
   {
    "duration": 3,
    "start_time": "2022-08-27T21:12:38.093Z"
   },
   {
    "duration": 19,
    "start_time": "2022-08-27T21:12:38.098Z"
   },
   {
    "duration": 8,
    "start_time": "2022-08-27T21:12:38.119Z"
   },
   {
    "duration": 15,
    "start_time": "2022-08-27T21:12:38.129Z"
   },
   {
    "duration": 17,
    "start_time": "2022-08-27T21:12:38.145Z"
   },
   {
    "duration": 173,
    "start_time": "2022-08-27T21:12:38.164Z"
   },
   {
    "duration": 133,
    "start_time": "2022-08-27T21:12:38.338Z"
   },
   {
    "duration": 3,
    "start_time": "2022-08-27T21:12:38.473Z"
   },
   {
    "duration": 39,
    "start_time": "2022-08-27T21:12:38.478Z"
   },
   {
    "duration": 9,
    "start_time": "2022-08-27T21:12:38.519Z"
   },
   {
    "duration": 21,
    "start_time": "2022-08-27T21:12:38.530Z"
   },
   {
    "duration": 20,
    "start_time": "2022-08-27T21:12:38.553Z"
   },
   {
    "duration": 155,
    "start_time": "2022-08-27T21:12:38.592Z"
   },
   {
    "duration": 158,
    "start_time": "2022-08-27T21:12:38.748Z"
   },
   {
    "duration": 3,
    "start_time": "2022-08-27T21:12:38.908Z"
   },
   {
    "duration": 18,
    "start_time": "2022-08-27T21:12:38.912Z"
   },
   {
    "duration": 9,
    "start_time": "2022-08-27T21:12:38.932Z"
   },
   {
    "duration": 20,
    "start_time": "2022-08-27T21:12:38.943Z"
   },
   {
    "duration": 41,
    "start_time": "2022-08-27T21:12:38.965Z"
   },
   {
    "duration": 155,
    "start_time": "2022-08-27T21:12:39.008Z"
   },
   {
    "duration": 164,
    "start_time": "2022-08-27T21:12:39.164Z"
   },
   {
    "duration": 4,
    "start_time": "2022-08-27T21:12:39.330Z"
   },
   {
    "duration": 25,
    "start_time": "2022-08-27T21:12:39.336Z"
   },
   {
    "duration": 9,
    "start_time": "2022-08-27T21:12:39.363Z"
   },
   {
    "duration": 30,
    "start_time": "2022-08-27T21:12:39.374Z"
   },
   {
    "duration": 20,
    "start_time": "2022-08-27T21:12:39.406Z"
   },
   {
    "duration": 22,
    "start_time": "2022-08-27T21:12:39.428Z"
   },
   {
    "duration": 9,
    "start_time": "2022-08-27T21:12:39.451Z"
   },
   {
    "duration": 167,
    "start_time": "2022-08-27T21:12:39.462Z"
   },
   {
    "duration": 178,
    "start_time": "2022-08-27T21:12:39.631Z"
   },
   {
    "duration": 16,
    "start_time": "2022-08-27T21:12:39.811Z"
   },
   {
    "duration": 4,
    "start_time": "2022-08-27T21:12:39.829Z"
   },
   {
    "duration": 11,
    "start_time": "2022-08-27T21:12:39.835Z"
   },
   {
    "duration": 8,
    "start_time": "2022-08-27T21:12:39.848Z"
   },
   {
    "duration": 42,
    "start_time": "2022-08-27T21:12:39.858Z"
   },
   {
    "duration": 24,
    "start_time": "2022-08-27T21:12:39.902Z"
   },
   {
    "duration": 151,
    "start_time": "2022-08-27T21:12:39.928Z"
   },
   {
    "duration": 0,
    "start_time": "2022-08-27T21:12:40.081Z"
   },
   {
    "duration": 0,
    "start_time": "2022-08-27T21:12:40.082Z"
   },
   {
    "duration": 0,
    "start_time": "2022-08-27T21:12:40.084Z"
   },
   {
    "duration": 0,
    "start_time": "2022-08-27T21:12:40.091Z"
   },
   {
    "duration": 0,
    "start_time": "2022-08-27T21:12:40.093Z"
   },
   {
    "duration": 28,
    "start_time": "2022-08-27T21:15:14.704Z"
   },
   {
    "duration": 19,
    "start_time": "2022-08-27T21:15:49.426Z"
   },
   {
    "duration": 16,
    "start_time": "2022-08-27T21:21:40.744Z"
   },
   {
    "duration": 18,
    "start_time": "2022-08-27T21:23:19.370Z"
   },
   {
    "duration": 15,
    "start_time": "2022-08-27T21:23:32.927Z"
   },
   {
    "duration": 932,
    "start_time": "2022-08-27T21:24:16.819Z"
   },
   {
    "duration": 462,
    "start_time": "2022-08-27T21:24:17.753Z"
   },
   {
    "duration": 41,
    "start_time": "2022-08-27T21:24:18.217Z"
   },
   {
    "duration": 30,
    "start_time": "2022-08-27T21:24:18.260Z"
   },
   {
    "duration": 426,
    "start_time": "2022-08-27T21:24:18.292Z"
   },
   {
    "duration": 27,
    "start_time": "2022-08-27T21:24:18.720Z"
   },
   {
    "duration": 18,
    "start_time": "2022-08-27T21:24:18.748Z"
   },
   {
    "duration": 47,
    "start_time": "2022-08-27T21:24:18.767Z"
   },
   {
    "duration": 102,
    "start_time": "2022-08-27T21:24:18.815Z"
   },
   {
    "duration": 8,
    "start_time": "2022-08-27T21:24:18.919Z"
   },
   {
    "duration": 22,
    "start_time": "2022-08-27T21:24:18.930Z"
   },
   {
    "duration": 35,
    "start_time": "2022-08-27T21:24:18.955Z"
   },
   {
    "duration": 18,
    "start_time": "2022-08-27T21:24:18.992Z"
   },
   {
    "duration": 12,
    "start_time": "2022-08-27T21:24:19.012Z"
   },
   {
    "duration": 41,
    "start_time": "2022-08-27T21:24:19.026Z"
   },
   {
    "duration": 4,
    "start_time": "2022-08-27T21:24:19.091Z"
   },
   {
    "duration": 1980,
    "start_time": "2022-08-27T21:24:19.097Z"
   },
   {
    "duration": 59,
    "start_time": "2022-08-27T21:24:21.079Z"
   },
   {
    "duration": 26,
    "start_time": "2022-08-27T21:24:21.140Z"
   },
   {
    "duration": 50,
    "start_time": "2022-08-27T21:24:21.168Z"
   },
   {
    "duration": 30,
    "start_time": "2022-08-27T21:24:21.220Z"
   },
   {
    "duration": 55,
    "start_time": "2022-08-27T21:24:21.253Z"
   },
   {
    "duration": 17,
    "start_time": "2022-08-27T21:24:21.310Z"
   },
   {
    "duration": 16,
    "start_time": "2022-08-27T21:24:21.329Z"
   },
   {
    "duration": 51,
    "start_time": "2022-08-27T21:24:21.347Z"
   },
   {
    "duration": 12,
    "start_time": "2022-08-27T21:24:21.400Z"
   },
   {
    "duration": 7,
    "start_time": "2022-08-27T21:24:21.414Z"
   },
   {
    "duration": 19,
    "start_time": "2022-08-27T21:24:21.425Z"
   },
   {
    "duration": 12,
    "start_time": "2022-08-27T21:24:21.446Z"
   },
   {
    "duration": 35,
    "start_time": "2022-08-27T21:24:21.460Z"
   },
   {
    "duration": 224,
    "start_time": "2022-08-27T21:24:21.497Z"
   },
   {
    "duration": 5,
    "start_time": "2022-08-27T21:24:21.723Z"
   },
   {
    "duration": 25,
    "start_time": "2022-08-27T21:24:21.730Z"
   },
   {
    "duration": 4,
    "start_time": "2022-08-27T21:24:21.758Z"
   },
   {
    "duration": 47,
    "start_time": "2022-08-27T21:24:21.764Z"
   },
   {
    "duration": 12,
    "start_time": "2022-08-27T21:24:21.814Z"
   },
   {
    "duration": 22,
    "start_time": "2022-08-27T21:24:21.828Z"
   },
   {
    "duration": 40,
    "start_time": "2022-08-27T21:24:21.852Z"
   },
   {
    "duration": 200,
    "start_time": "2022-08-27T21:24:21.895Z"
   },
   {
    "duration": 161,
    "start_time": "2022-08-27T21:24:22.099Z"
   },
   {
    "duration": 3,
    "start_time": "2022-08-27T21:24:22.262Z"
   },
   {
    "duration": 28,
    "start_time": "2022-08-27T21:24:22.266Z"
   },
   {
    "duration": 9,
    "start_time": "2022-08-27T21:24:22.296Z"
   },
   {
    "duration": 22,
    "start_time": "2022-08-27T21:24:22.307Z"
   },
   {
    "duration": 17,
    "start_time": "2022-08-27T21:24:22.331Z"
   },
   {
    "duration": 164,
    "start_time": "2022-08-27T21:24:22.350Z"
   },
   {
    "duration": 161,
    "start_time": "2022-08-27T21:24:22.516Z"
   },
   {
    "duration": 12,
    "start_time": "2022-08-27T21:24:22.679Z"
   },
   {
    "duration": 18,
    "start_time": "2022-08-27T21:24:22.693Z"
   },
   {
    "duration": 8,
    "start_time": "2022-08-27T21:24:22.713Z"
   },
   {
    "duration": 17,
    "start_time": "2022-08-27T21:24:22.723Z"
   },
   {
    "duration": 15,
    "start_time": "2022-08-27T21:24:22.742Z"
   },
   {
    "duration": 161,
    "start_time": "2022-08-27T21:24:22.759Z"
   },
   {
    "duration": 167,
    "start_time": "2022-08-27T21:24:22.922Z"
   },
   {
    "duration": 3,
    "start_time": "2022-08-27T21:24:23.091Z"
   },
   {
    "duration": 18,
    "start_time": "2022-08-27T21:24:23.096Z"
   },
   {
    "duration": 9,
    "start_time": "2022-08-27T21:24:23.115Z"
   },
   {
    "duration": 16,
    "start_time": "2022-08-27T21:24:23.125Z"
   },
   {
    "duration": 7,
    "start_time": "2022-08-27T21:24:23.143Z"
   },
   {
    "duration": 41,
    "start_time": "2022-08-27T21:24:23.152Z"
   },
   {
    "duration": 7,
    "start_time": "2022-08-27T21:24:23.195Z"
   },
   {
    "duration": 155,
    "start_time": "2022-08-27T21:24:23.204Z"
   },
   {
    "duration": 164,
    "start_time": "2022-08-27T21:24:23.361Z"
   },
   {
    "duration": 15,
    "start_time": "2022-08-27T21:24:23.526Z"
   },
   {
    "duration": 7,
    "start_time": "2022-08-27T21:24:23.543Z"
   },
   {
    "duration": 8,
    "start_time": "2022-08-27T21:24:23.552Z"
   },
   {
    "duration": 7,
    "start_time": "2022-08-27T21:24:23.561Z"
   },
   {
    "duration": 13,
    "start_time": "2022-08-27T21:24:23.592Z"
   },
   {
    "duration": 26,
    "start_time": "2022-08-27T21:24:23.607Z"
   },
   {
    "duration": 15,
    "start_time": "2022-08-27T21:24:23.635Z"
   },
   {
    "duration": 40,
    "start_time": "2022-08-27T21:24:23.652Z"
   },
   {
    "duration": 13,
    "start_time": "2022-08-27T21:24:23.694Z"
   },
   {
    "duration": 25,
    "start_time": "2022-08-27T21:24:23.709Z"
   },
   {
    "duration": 19,
    "start_time": "2022-08-27T21:24:23.735Z"
   },
   {
    "duration": 5,
    "start_time": "2022-08-27T21:24:23.756Z"
   },
   {
    "duration": 8,
    "start_time": "2022-08-27T21:24:23.791Z"
   },
   {
    "duration": 42,
    "start_time": "2022-08-27T21:24:35.730Z"
   },
   {
    "duration": 109,
    "start_time": "2022-08-27T21:24:46.886Z"
   },
   {
    "duration": 962,
    "start_time": "2022-08-27T21:25:03.876Z"
   },
   {
    "duration": 483,
    "start_time": "2022-08-27T21:25:04.840Z"
   },
   {
    "duration": 47,
    "start_time": "2022-08-27T21:25:05.325Z"
   },
   {
    "duration": 33,
    "start_time": "2022-08-27T21:25:05.375Z"
   },
   {
    "duration": 465,
    "start_time": "2022-08-27T21:25:05.410Z"
   },
   {
    "duration": 33,
    "start_time": "2022-08-27T21:25:05.877Z"
   },
   {
    "duration": 19,
    "start_time": "2022-08-27T21:25:05.912Z"
   },
   {
    "duration": 23,
    "start_time": "2022-08-27T21:25:05.932Z"
   },
   {
    "duration": 122,
    "start_time": "2022-08-27T21:25:05.956Z"
   },
   {
    "duration": 7,
    "start_time": "2022-08-27T21:25:06.093Z"
   },
   {
    "duration": 15,
    "start_time": "2022-08-27T21:25:06.102Z"
   },
   {
    "duration": 36,
    "start_time": "2022-08-27T21:25:06.119Z"
   },
   {
    "duration": 14,
    "start_time": "2022-08-27T21:25:06.157Z"
   },
   {
    "duration": 19,
    "start_time": "2022-08-27T21:25:06.173Z"
   },
   {
    "duration": 35,
    "start_time": "2022-08-27T21:25:06.194Z"
   },
   {
    "duration": 4,
    "start_time": "2022-08-27T21:25:06.231Z"
   },
   {
    "duration": 2674,
    "start_time": "2022-08-27T21:25:06.237Z"
   },
   {
    "duration": 108,
    "start_time": "2022-08-27T21:25:08.913Z"
   },
   {
    "duration": 75,
    "start_time": "2022-08-27T21:25:09.023Z"
   },
   {
    "duration": 33,
    "start_time": "2022-08-27T21:25:09.100Z"
   },
   {
    "duration": 31,
    "start_time": "2022-08-27T21:25:09.191Z"
   },
   {
    "duration": 84,
    "start_time": "2022-08-27T21:25:09.224Z"
   },
   {
    "duration": 16,
    "start_time": "2022-08-27T21:25:09.310Z"
   },
   {
    "duration": 68,
    "start_time": "2022-08-27T21:25:09.328Z"
   },
   {
    "duration": 24,
    "start_time": "2022-08-27T21:25:09.399Z"
   },
   {
    "duration": 71,
    "start_time": "2022-08-27T21:25:09.425Z"
   },
   {
    "duration": 7,
    "start_time": "2022-08-27T21:25:09.498Z"
   },
   {
    "duration": 23,
    "start_time": "2022-08-27T21:25:09.510Z"
   },
   {
    "duration": 66,
    "start_time": "2022-08-27T21:25:09.535Z"
   },
   {
    "duration": 9,
    "start_time": "2022-08-27T21:25:09.603Z"
   },
   {
    "duration": 257,
    "start_time": "2022-08-27T21:25:09.614Z"
   },
   {
    "duration": 4,
    "start_time": "2022-08-27T21:25:09.873Z"
   },
   {
    "duration": 14,
    "start_time": "2022-08-27T21:25:09.892Z"
   },
   {
    "duration": 4,
    "start_time": "2022-08-27T21:25:09.908Z"
   },
   {
    "duration": 25,
    "start_time": "2022-08-27T21:25:09.914Z"
   },
   {
    "duration": 12,
    "start_time": "2022-08-27T21:25:09.941Z"
   },
   {
    "duration": 58,
    "start_time": "2022-08-27T21:25:09.955Z"
   },
   {
    "duration": 23,
    "start_time": "2022-08-27T21:25:10.015Z"
   },
   {
    "duration": 156,
    "start_time": "2022-08-27T21:25:10.040Z"
   },
   {
    "duration": 162,
    "start_time": "2022-08-27T21:25:10.198Z"
   },
   {
    "duration": 4,
    "start_time": "2022-08-27T21:25:10.362Z"
   },
   {
    "duration": 41,
    "start_time": "2022-08-27T21:25:10.368Z"
   },
   {
    "duration": 12,
    "start_time": "2022-08-27T21:25:10.412Z"
   },
   {
    "duration": 24,
    "start_time": "2022-08-27T21:25:10.427Z"
   },
   {
    "duration": 17,
    "start_time": "2022-08-27T21:25:10.453Z"
   },
   {
    "duration": 173,
    "start_time": "2022-08-27T21:25:10.491Z"
   },
   {
    "duration": 170,
    "start_time": "2022-08-27T21:25:10.667Z"
   },
   {
    "duration": 3,
    "start_time": "2022-08-27T21:25:10.839Z"
   },
   {
    "duration": 21,
    "start_time": "2022-08-27T21:25:10.843Z"
   },
   {
    "duration": 9,
    "start_time": "2022-08-27T21:25:10.866Z"
   },
   {
    "duration": 15,
    "start_time": "2022-08-27T21:25:10.892Z"
   },
   {
    "duration": 20,
    "start_time": "2022-08-27T21:25:10.908Z"
   },
   {
    "duration": 149,
    "start_time": "2022-08-27T21:25:10.930Z"
   },
   {
    "duration": 158,
    "start_time": "2022-08-27T21:25:11.081Z"
   },
   {
    "duration": 3,
    "start_time": "2022-08-27T21:25:11.241Z"
   },
   {
    "duration": 20,
    "start_time": "2022-08-27T21:25:11.245Z"
   },
   {
    "duration": 9,
    "start_time": "2022-08-27T21:25:11.267Z"
   },
   {
    "duration": 27,
    "start_time": "2022-08-27T21:25:11.278Z"
   },
   {
    "duration": 13,
    "start_time": "2022-08-27T21:25:11.307Z"
   },
   {
    "duration": 17,
    "start_time": "2022-08-27T21:25:11.323Z"
   },
   {
    "duration": 10,
    "start_time": "2022-08-27T21:25:11.342Z"
   },
   {
    "duration": 163,
    "start_time": "2022-08-27T21:25:11.354Z"
   },
   {
    "duration": 177,
    "start_time": "2022-08-27T21:25:11.519Z"
   },
   {
    "duration": 18,
    "start_time": "2022-08-27T21:25:11.699Z"
   },
   {
    "duration": 5,
    "start_time": "2022-08-27T21:25:11.719Z"
   },
   {
    "duration": 8,
    "start_time": "2022-08-27T21:25:11.725Z"
   },
   {
    "duration": 5,
    "start_time": "2022-08-27T21:25:11.735Z"
   },
   {
    "duration": 22,
    "start_time": "2022-08-27T21:25:11.742Z"
   },
   {
    "duration": 53,
    "start_time": "2022-08-27T21:25:11.768Z"
   },
   {
    "duration": 19,
    "start_time": "2022-08-27T21:25:11.823Z"
   },
   {
    "duration": 18,
    "start_time": "2022-08-27T21:25:11.844Z"
   },
   {
    "duration": 16,
    "start_time": "2022-08-27T21:25:11.891Z"
   },
   {
    "duration": 37,
    "start_time": "2022-08-27T21:25:11.909Z"
   },
   {
    "duration": 139,
    "start_time": "2022-08-27T21:25:11.948Z"
   },
   {
    "duration": 1,
    "start_time": "2022-08-27T21:25:12.091Z"
   },
   {
    "duration": 0,
    "start_time": "2022-08-27T21:25:12.093Z"
   },
   {
    "duration": 0,
    "start_time": "2022-08-27T21:25:12.095Z"
   },
   {
    "duration": 971,
    "start_time": "2022-08-27T21:25:27.283Z"
   },
   {
    "duration": 468,
    "start_time": "2022-08-27T21:25:28.256Z"
   },
   {
    "duration": 43,
    "start_time": "2022-08-27T21:25:28.725Z"
   },
   {
    "duration": 31,
    "start_time": "2022-08-27T21:25:28.771Z"
   },
   {
    "duration": 424,
    "start_time": "2022-08-27T21:25:28.804Z"
   },
   {
    "duration": 27,
    "start_time": "2022-08-27T21:25:29.230Z"
   },
   {
    "duration": 44,
    "start_time": "2022-08-27T21:25:29.259Z"
   },
   {
    "duration": 26,
    "start_time": "2022-08-27T21:25:29.305Z"
   },
   {
    "duration": 131,
    "start_time": "2022-08-27T21:25:29.333Z"
   },
   {
    "duration": 7,
    "start_time": "2022-08-27T21:25:29.468Z"
   },
   {
    "duration": 28,
    "start_time": "2022-08-27T21:25:29.477Z"
   },
   {
    "duration": 19,
    "start_time": "2022-08-27T21:25:29.507Z"
   },
   {
    "duration": 17,
    "start_time": "2022-08-27T21:25:29.528Z"
   },
   {
    "duration": 9,
    "start_time": "2022-08-27T21:25:29.547Z"
   },
   {
    "duration": 36,
    "start_time": "2022-08-27T21:25:29.592Z"
   },
   {
    "duration": 4,
    "start_time": "2022-08-27T21:25:29.629Z"
   },
   {
    "duration": 2035,
    "start_time": "2022-08-27T21:25:29.636Z"
   },
   {
    "duration": 56,
    "start_time": "2022-08-27T21:25:31.673Z"
   },
   {
    "duration": 24,
    "start_time": "2022-08-27T21:25:31.731Z"
   },
   {
    "duration": 56,
    "start_time": "2022-08-27T21:25:31.756Z"
   },
   {
    "duration": 36,
    "start_time": "2022-08-27T21:25:31.814Z"
   },
   {
    "duration": 63,
    "start_time": "2022-08-27T21:25:31.852Z"
   },
   {
    "duration": 20,
    "start_time": "2022-08-27T21:25:31.917Z"
   },
   {
    "duration": 24,
    "start_time": "2022-08-27T21:25:31.940Z"
   },
   {
    "duration": 49,
    "start_time": "2022-08-27T21:25:31.966Z"
   },
   {
    "duration": 15,
    "start_time": "2022-08-27T21:25:32.017Z"
   },
   {
    "duration": 10,
    "start_time": "2022-08-27T21:25:32.034Z"
   },
   {
    "duration": 43,
    "start_time": "2022-08-27T21:25:32.049Z"
   },
   {
    "duration": 15,
    "start_time": "2022-08-27T21:25:32.095Z"
   },
   {
    "duration": 9,
    "start_time": "2022-08-27T21:25:32.112Z"
   },
   {
    "duration": 251,
    "start_time": "2022-08-27T21:25:32.123Z"
   },
   {
    "duration": 5,
    "start_time": "2022-08-27T21:25:32.376Z"
   },
   {
    "duration": 17,
    "start_time": "2022-08-27T21:25:32.393Z"
   },
   {
    "duration": 13,
    "start_time": "2022-08-27T21:25:32.412Z"
   },
   {
    "duration": 25,
    "start_time": "2022-08-27T21:25:32.427Z"
   },
   {
    "duration": 9,
    "start_time": "2022-08-27T21:25:32.453Z"
   },
   {
    "duration": 40,
    "start_time": "2022-08-27T21:25:32.464Z"
   },
   {
    "duration": 19,
    "start_time": "2022-08-27T21:25:32.506Z"
   },
   {
    "duration": 167,
    "start_time": "2022-08-27T21:25:32.527Z"
   },
   {
    "duration": 159,
    "start_time": "2022-08-27T21:25:32.696Z"
   },
   {
    "duration": 3,
    "start_time": "2022-08-27T21:25:32.857Z"
   },
   {
    "duration": 35,
    "start_time": "2022-08-27T21:25:32.862Z"
   },
   {
    "duration": 9,
    "start_time": "2022-08-27T21:25:32.899Z"
   },
   {
    "duration": 19,
    "start_time": "2022-08-27T21:25:32.910Z"
   },
   {
    "duration": 21,
    "start_time": "2022-08-27T21:25:32.931Z"
   },
   {
    "duration": 182,
    "start_time": "2022-08-27T21:25:32.954Z"
   },
   {
    "duration": 175,
    "start_time": "2022-08-27T21:25:33.138Z"
   },
   {
    "duration": 3,
    "start_time": "2022-08-27T21:25:33.314Z"
   },
   {
    "duration": 18,
    "start_time": "2022-08-27T21:25:33.319Z"
   },
   {
    "duration": 9,
    "start_time": "2022-08-27T21:25:33.339Z"
   },
   {
    "duration": 43,
    "start_time": "2022-08-27T21:25:33.350Z"
   },
   {
    "duration": 18,
    "start_time": "2022-08-27T21:25:33.395Z"
   },
   {
    "duration": 192,
    "start_time": "2022-08-27T21:25:33.416Z"
   },
   {
    "duration": 163,
    "start_time": "2022-08-27T21:25:33.610Z"
   },
   {
    "duration": 3,
    "start_time": "2022-08-27T21:25:33.775Z"
   },
   {
    "duration": 27,
    "start_time": "2022-08-27T21:25:33.780Z"
   },
   {
    "duration": 10,
    "start_time": "2022-08-27T21:25:33.809Z"
   },
   {
    "duration": 18,
    "start_time": "2022-08-27T21:25:33.821Z"
   },
   {
    "duration": 9,
    "start_time": "2022-08-27T21:25:33.841Z"
   },
   {
    "duration": 44,
    "start_time": "2022-08-27T21:25:33.852Z"
   },
   {
    "duration": 8,
    "start_time": "2022-08-27T21:25:33.898Z"
   },
   {
    "duration": 167,
    "start_time": "2022-08-27T21:25:33.908Z"
   },
   {
    "duration": 159,
    "start_time": "2022-08-27T21:25:34.076Z"
   },
   {
    "duration": 14,
    "start_time": "2022-08-27T21:25:34.237Z"
   },
   {
    "duration": 5,
    "start_time": "2022-08-27T21:25:34.253Z"
   },
   {
    "duration": 32,
    "start_time": "2022-08-27T21:25:34.260Z"
   },
   {
    "duration": 6,
    "start_time": "2022-08-27T21:25:34.294Z"
   },
   {
    "duration": 14,
    "start_time": "2022-08-27T21:25:34.302Z"
   },
   {
    "duration": 28,
    "start_time": "2022-08-27T21:25:34.318Z"
   },
   {
    "duration": 15,
    "start_time": "2022-08-27T21:25:34.347Z"
   },
   {
    "duration": 14,
    "start_time": "2022-08-27T21:25:34.392Z"
   },
   {
    "duration": 18,
    "start_time": "2022-08-27T21:25:34.408Z"
   },
   {
    "duration": 28,
    "start_time": "2022-08-27T21:25:34.428Z"
   },
   {
    "duration": 41,
    "start_time": "2022-08-27T21:25:34.458Z"
   },
   {
    "duration": 28,
    "start_time": "2022-08-27T21:25:34.501Z"
   },
   {
    "duration": 6,
    "start_time": "2022-08-27T21:25:34.531Z"
   },
   {
    "duration": 7,
    "start_time": "2022-08-27T21:25:34.539Z"
   },
   {
    "duration": 59,
    "start_time": "2022-08-27T21:27:06.223Z"
   },
   {
    "duration": 932,
    "start_time": "2022-08-27T21:27:12.807Z"
   },
   {
    "duration": 483,
    "start_time": "2022-08-27T21:27:13.743Z"
   },
   {
    "duration": 46,
    "start_time": "2022-08-27T21:27:14.228Z"
   },
   {
    "duration": 33,
    "start_time": "2022-08-27T21:27:14.276Z"
   },
   {
    "duration": 459,
    "start_time": "2022-08-27T21:27:14.311Z"
   },
   {
    "duration": 40,
    "start_time": "2022-08-27T21:27:14.772Z"
   },
   {
    "duration": 19,
    "start_time": "2022-08-27T21:27:14.813Z"
   },
   {
    "duration": 23,
    "start_time": "2022-08-27T21:27:14.833Z"
   },
   {
    "duration": 264,
    "start_time": "2022-08-27T21:27:14.858Z"
   },
   {
    "duration": 9,
    "start_time": "2022-08-27T21:27:15.126Z"
   },
   {
    "duration": 66,
    "start_time": "2022-08-27T21:27:15.137Z"
   },
   {
    "duration": 22,
    "start_time": "2022-08-27T21:27:15.206Z"
   },
   {
    "duration": 64,
    "start_time": "2022-08-27T21:27:15.230Z"
   },
   {
    "duration": 11,
    "start_time": "2022-08-27T21:27:15.296Z"
   },
   {
    "duration": 93,
    "start_time": "2022-08-27T21:27:15.309Z"
   },
   {
    "duration": 5,
    "start_time": "2022-08-27T21:27:15.405Z"
   },
   {
    "duration": 2796,
    "start_time": "2022-08-27T21:27:15.412Z"
   },
   {
    "duration": 54,
    "start_time": "2022-08-27T21:27:18.209Z"
   },
   {
    "duration": 43,
    "start_time": "2022-08-27T21:27:18.264Z"
   },
   {
    "duration": 35,
    "start_time": "2022-08-27T21:27:18.308Z"
   },
   {
    "duration": 48,
    "start_time": "2022-08-27T21:27:18.345Z"
   },
   {
    "duration": 31,
    "start_time": "2022-08-27T21:27:18.395Z"
   },
   {
    "duration": 16,
    "start_time": "2022-08-27T21:27:18.428Z"
   },
   {
    "duration": 17,
    "start_time": "2022-08-27T21:27:18.445Z"
   },
   {
    "duration": 23,
    "start_time": "2022-08-27T21:27:18.492Z"
   },
   {
    "duration": 13,
    "start_time": "2022-08-27T21:27:18.517Z"
   },
   {
    "duration": 11,
    "start_time": "2022-08-27T21:27:18.532Z"
   },
   {
    "duration": 10,
    "start_time": "2022-08-27T21:27:18.548Z"
   },
   {
    "duration": 42,
    "start_time": "2022-08-27T21:27:18.559Z"
   },
   {
    "duration": 8,
    "start_time": "2022-08-27T21:27:18.604Z"
   },
   {
    "duration": 242,
    "start_time": "2022-08-27T21:27:18.614Z"
   },
   {
    "duration": 5,
    "start_time": "2022-08-27T21:27:18.858Z"
   },
   {
    "duration": 30,
    "start_time": "2022-08-27T21:27:18.865Z"
   },
   {
    "duration": 8,
    "start_time": "2022-08-27T21:27:18.897Z"
   },
   {
    "duration": 25,
    "start_time": "2022-08-27T21:27:18.907Z"
   },
   {
    "duration": 11,
    "start_time": "2022-08-27T21:27:18.933Z"
   },
   {
    "duration": 17,
    "start_time": "2022-08-27T21:27:18.946Z"
   },
   {
    "duration": 36,
    "start_time": "2022-08-27T21:27:18.965Z"
   },
   {
    "duration": 160,
    "start_time": "2022-08-27T21:27:19.003Z"
   },
   {
    "duration": 158,
    "start_time": "2022-08-27T21:27:19.166Z"
   },
   {
    "duration": 3,
    "start_time": "2022-08-27T21:27:19.326Z"
   },
   {
    "duration": 24,
    "start_time": "2022-08-27T21:27:19.331Z"
   },
   {
    "duration": 10,
    "start_time": "2022-08-27T21:27:19.357Z"
   },
   {
    "duration": 38,
    "start_time": "2022-08-27T21:27:19.369Z"
   },
   {
    "duration": 21,
    "start_time": "2022-08-27T21:27:19.410Z"
   },
   {
    "duration": 164,
    "start_time": "2022-08-27T21:27:19.433Z"
   },
   {
    "duration": 164,
    "start_time": "2022-08-27T21:27:19.600Z"
   },
   {
    "duration": 4,
    "start_time": "2022-08-27T21:27:19.765Z"
   },
   {
    "duration": 31,
    "start_time": "2022-08-27T21:27:19.771Z"
   },
   {
    "duration": 9,
    "start_time": "2022-08-27T21:27:19.803Z"
   },
   {
    "duration": 21,
    "start_time": "2022-08-27T21:27:19.814Z"
   },
   {
    "duration": 18,
    "start_time": "2022-08-27T21:27:19.837Z"
   },
   {
    "duration": 166,
    "start_time": "2022-08-27T21:27:19.856Z"
   },
   {
    "duration": 157,
    "start_time": "2022-08-27T21:27:20.024Z"
   },
   {
    "duration": 9,
    "start_time": "2022-08-27T21:27:20.183Z"
   },
   {
    "duration": 20,
    "start_time": "2022-08-27T21:27:20.193Z"
   },
   {
    "duration": 9,
    "start_time": "2022-08-27T21:27:20.214Z"
   },
   {
    "duration": 18,
    "start_time": "2022-08-27T21:27:20.225Z"
   },
   {
    "duration": 9,
    "start_time": "2022-08-27T21:27:20.245Z"
   },
   {
    "duration": 48,
    "start_time": "2022-08-27T21:27:20.256Z"
   },
   {
    "duration": 7,
    "start_time": "2022-08-27T21:27:20.306Z"
   },
   {
    "duration": 176,
    "start_time": "2022-08-27T21:27:20.315Z"
   },
   {
    "duration": 176,
    "start_time": "2022-08-27T21:27:20.493Z"
   },
   {
    "duration": 15,
    "start_time": "2022-08-27T21:27:20.670Z"
   },
   {
    "duration": 7,
    "start_time": "2022-08-27T21:27:20.687Z"
   },
   {
    "duration": 22,
    "start_time": "2022-08-27T21:27:20.696Z"
   },
   {
    "duration": 11,
    "start_time": "2022-08-27T21:27:20.720Z"
   },
   {
    "duration": 21,
    "start_time": "2022-08-27T21:27:20.733Z"
   },
   {
    "duration": 30,
    "start_time": "2022-08-27T21:27:20.756Z"
   },
   {
    "duration": 21,
    "start_time": "2022-08-27T21:27:20.787Z"
   },
   {
    "duration": 14,
    "start_time": "2022-08-27T21:27:20.810Z"
   },
   {
    "duration": 13,
    "start_time": "2022-08-27T21:27:20.826Z"
   },
   {
    "duration": 51,
    "start_time": "2022-08-27T21:27:20.840Z"
   },
   {
    "duration": 16,
    "start_time": "2022-08-27T21:27:20.894Z"
   },
   {
    "duration": 29,
    "start_time": "2022-08-27T21:27:20.912Z"
   },
   {
    "duration": 5,
    "start_time": "2022-08-27T21:27:20.943Z"
   },
   {
    "duration": 17,
    "start_time": "2022-08-27T21:27:20.950Z"
   },
   {
    "duration": 935,
    "start_time": "2022-08-27T21:28:18.521Z"
   },
   {
    "duration": 475,
    "start_time": "2022-08-27T21:28:19.458Z"
   },
   {
    "duration": 44,
    "start_time": "2022-08-27T21:28:19.935Z"
   },
   {
    "duration": 47,
    "start_time": "2022-08-27T21:28:19.982Z"
   },
   {
    "duration": 451,
    "start_time": "2022-08-27T21:28:20.032Z"
   },
   {
    "duration": 30,
    "start_time": "2022-08-27T21:28:20.485Z"
   },
   {
    "duration": 18,
    "start_time": "2022-08-27T21:28:20.518Z"
   },
   {
    "duration": 23,
    "start_time": "2022-08-27T21:28:20.538Z"
   },
   {
    "duration": 86,
    "start_time": "2022-08-27T21:28:20.592Z"
   },
   {
    "duration": 8,
    "start_time": "2022-08-27T21:28:20.692Z"
   },
   {
    "duration": 14,
    "start_time": "2022-08-27T21:28:20.702Z"
   },
   {
    "duration": 24,
    "start_time": "2022-08-27T21:28:20.718Z"
   },
   {
    "duration": 14,
    "start_time": "2022-08-27T21:28:20.744Z"
   },
   {
    "duration": 33,
    "start_time": "2022-08-27T21:28:20.760Z"
   },
   {
    "duration": 34,
    "start_time": "2022-08-27T21:28:20.795Z"
   },
   {
    "duration": 4,
    "start_time": "2022-08-27T21:28:20.831Z"
   },
   {
    "duration": 2027,
    "start_time": "2022-08-27T21:28:20.837Z"
   },
   {
    "duration": 55,
    "start_time": "2022-08-27T21:28:22.866Z"
   },
   {
    "duration": 25,
    "start_time": "2022-08-27T21:28:22.922Z"
   },
   {
    "duration": 55,
    "start_time": "2022-08-27T21:28:22.948Z"
   },
   {
    "duration": 29,
    "start_time": "2022-08-27T21:28:23.004Z"
   },
   {
    "duration": 30,
    "start_time": "2022-08-27T21:28:23.035Z"
   },
   {
    "duration": 16,
    "start_time": "2022-08-27T21:28:23.091Z"
   },
   {
    "duration": 18,
    "start_time": "2022-08-27T21:28:23.109Z"
   },
   {
    "duration": 29,
    "start_time": "2022-08-27T21:28:23.128Z"
   },
   {
    "duration": 39,
    "start_time": "2022-08-27T21:28:23.159Z"
   },
   {
    "duration": 7,
    "start_time": "2022-08-27T21:28:23.200Z"
   },
   {
    "duration": 9,
    "start_time": "2022-08-27T21:28:23.213Z"
   },
   {
    "duration": 18,
    "start_time": "2022-08-27T21:28:23.225Z"
   },
   {
    "duration": 12,
    "start_time": "2022-08-27T21:28:23.245Z"
   },
   {
    "duration": 246,
    "start_time": "2022-08-27T21:28:23.259Z"
   },
   {
    "duration": 8,
    "start_time": "2022-08-27T21:28:23.507Z"
   },
   {
    "duration": 24,
    "start_time": "2022-08-27T21:28:23.518Z"
   },
   {
    "duration": 7,
    "start_time": "2022-08-27T21:28:23.544Z"
   },
   {
    "duration": 47,
    "start_time": "2022-08-27T21:28:23.554Z"
   },
   {
    "duration": 12,
    "start_time": "2022-08-27T21:28:23.603Z"
   },
   {
    "duration": 21,
    "start_time": "2022-08-27T21:28:23.617Z"
   },
   {
    "duration": 18,
    "start_time": "2022-08-27T21:28:23.640Z"
   },
   {
    "duration": 173,
    "start_time": "2022-08-27T21:28:23.660Z"
   },
   {
    "duration": 174,
    "start_time": "2022-08-27T21:28:23.835Z"
   },
   {
    "duration": 12,
    "start_time": "2022-08-27T21:28:24.011Z"
   },
   {
    "duration": 39,
    "start_time": "2022-08-27T21:28:24.025Z"
   },
   {
    "duration": 10,
    "start_time": "2022-08-27T21:28:24.065Z"
   },
   {
    "duration": 28,
    "start_time": "2022-08-27T21:28:24.079Z"
   },
   {
    "duration": 20,
    "start_time": "2022-08-27T21:28:24.109Z"
   },
   {
    "duration": 206,
    "start_time": "2022-08-27T21:28:24.131Z"
   },
   {
    "duration": 201,
    "start_time": "2022-08-27T21:28:24.339Z"
   },
   {
    "duration": 3,
    "start_time": "2022-08-27T21:28:24.542Z"
   },
   {
    "duration": 34,
    "start_time": "2022-08-27T21:28:24.548Z"
   },
   {
    "duration": 14,
    "start_time": "2022-08-27T21:28:24.591Z"
   },
   {
    "duration": 20,
    "start_time": "2022-08-27T21:28:24.608Z"
   },
   {
    "duration": 21,
    "start_time": "2022-08-27T21:28:24.630Z"
   },
   {
    "duration": 184,
    "start_time": "2022-08-27T21:28:24.653Z"
   },
   {
    "duration": 170,
    "start_time": "2022-08-27T21:28:24.839Z"
   },
   {
    "duration": 4,
    "start_time": "2022-08-27T21:28:25.011Z"
   },
   {
    "duration": 23,
    "start_time": "2022-08-27T21:28:25.017Z"
   },
   {
    "duration": 10,
    "start_time": "2022-08-27T21:28:25.042Z"
   },
   {
    "duration": 44,
    "start_time": "2022-08-27T21:28:25.054Z"
   },
   {
    "duration": 7,
    "start_time": "2022-08-27T21:28:25.100Z"
   },
   {
    "duration": 62,
    "start_time": "2022-08-27T21:28:25.109Z"
   },
   {
    "duration": 22,
    "start_time": "2022-08-27T21:28:25.174Z"
   },
   {
    "duration": 196,
    "start_time": "2022-08-27T21:28:25.199Z"
   },
   {
    "duration": 184,
    "start_time": "2022-08-27T21:28:25.398Z"
   },
   {
    "duration": 17,
    "start_time": "2022-08-27T21:28:25.592Z"
   },
   {
    "duration": 5,
    "start_time": "2022-08-27T21:28:25.611Z"
   },
   {
    "duration": 15,
    "start_time": "2022-08-27T21:28:25.618Z"
   },
   {
    "duration": 8,
    "start_time": "2022-08-27T21:28:25.635Z"
   },
   {
    "duration": 18,
    "start_time": "2022-08-27T21:28:25.645Z"
   },
   {
    "duration": 48,
    "start_time": "2022-08-27T21:28:25.665Z"
   },
   {
    "duration": 15,
    "start_time": "2022-08-27T21:28:25.714Z"
   },
   {
    "duration": 16,
    "start_time": "2022-08-27T21:28:25.731Z"
   },
   {
    "duration": 13,
    "start_time": "2022-08-27T21:28:25.748Z"
   },
   {
    "duration": 49,
    "start_time": "2022-08-27T21:28:25.763Z"
   },
   {
    "duration": 16,
    "start_time": "2022-08-27T21:28:25.813Z"
   },
   {
    "duration": 19,
    "start_time": "2022-08-27T21:28:25.831Z"
   },
   {
    "duration": 5,
    "start_time": "2022-08-27T21:28:25.852Z"
   },
   {
    "duration": 37,
    "start_time": "2022-08-27T21:28:25.859Z"
   },
   {
    "duration": 844,
    "start_time": "2022-08-28T12:12:26.390Z"
   },
   {
    "duration": 1060,
    "start_time": "2022-08-28T12:12:27.236Z"
   },
   {
    "duration": 37,
    "start_time": "2022-08-28T12:12:28.297Z"
   },
   {
    "duration": 26,
    "start_time": "2022-08-28T12:12:28.336Z"
   },
   {
    "duration": 399,
    "start_time": "2022-08-28T12:12:28.364Z"
   },
   {
    "duration": 223,
    "start_time": "2022-08-28T12:12:28.765Z"
   },
   {
    "duration": 32,
    "start_time": "2022-08-28T12:12:28.989Z"
   },
   {
    "duration": 15,
    "start_time": "2022-08-28T12:12:29.022Z"
   },
   {
    "duration": 28,
    "start_time": "2022-08-28T12:12:29.039Z"
   },
   {
    "duration": 104,
    "start_time": "2022-08-28T12:12:29.069Z"
   },
   {
    "duration": 7,
    "start_time": "2022-08-28T12:12:29.175Z"
   },
   {
    "duration": 15,
    "start_time": "2022-08-28T12:12:29.184Z"
   },
   {
    "duration": 24,
    "start_time": "2022-08-28T12:12:29.212Z"
   },
   {
    "duration": 24,
    "start_time": "2022-08-28T12:12:29.237Z"
   },
   {
    "duration": 9,
    "start_time": "2022-08-28T12:12:29.263Z"
   },
   {
    "duration": 38,
    "start_time": "2022-08-28T12:12:29.274Z"
   },
   {
    "duration": 4,
    "start_time": "2022-08-28T12:12:29.314Z"
   },
   {
    "duration": 1925,
    "start_time": "2022-08-28T12:12:29.320Z"
   },
   {
    "duration": 41,
    "start_time": "2022-08-28T12:12:31.247Z"
   },
   {
    "duration": 29,
    "start_time": "2022-08-28T12:12:31.290Z"
   },
   {
    "duration": 27,
    "start_time": "2022-08-28T12:12:31.321Z"
   },
   {
    "duration": 21,
    "start_time": "2022-08-28T12:12:31.350Z"
   },
   {
    "duration": 55,
    "start_time": "2022-08-28T12:12:31.373Z"
   },
   {
    "duration": 14,
    "start_time": "2022-08-28T12:12:31.429Z"
   },
   {
    "duration": 33,
    "start_time": "2022-08-28T12:12:31.444Z"
   },
   {
    "duration": 45,
    "start_time": "2022-08-28T12:12:31.479Z"
   },
   {
    "duration": 15,
    "start_time": "2022-08-28T12:12:31.526Z"
   },
   {
    "duration": 6,
    "start_time": "2022-08-28T12:12:31.547Z"
   },
   {
    "duration": 11,
    "start_time": "2022-08-28T12:12:31.555Z"
   },
   {
    "duration": 22,
    "start_time": "2022-08-28T12:12:31.568Z"
   },
   {
    "duration": 19,
    "start_time": "2022-08-28T12:12:31.592Z"
   },
   {
    "duration": 211,
    "start_time": "2022-08-28T12:12:31.612Z"
   },
   {
    "duration": 4,
    "start_time": "2022-08-28T12:12:31.824Z"
   },
   {
    "duration": 15,
    "start_time": "2022-08-28T12:12:31.829Z"
   },
   {
    "duration": 9,
    "start_time": "2022-08-28T12:12:31.846Z"
   },
   {
    "duration": 16,
    "start_time": "2022-08-28T12:12:31.856Z"
   },
   {
    "duration": 8,
    "start_time": "2022-08-28T12:12:31.873Z"
   },
   {
    "duration": 38,
    "start_time": "2022-08-28T12:12:31.882Z"
   },
   {
    "duration": 17,
    "start_time": "2022-08-28T12:12:31.922Z"
   },
   {
    "duration": 118,
    "start_time": "2022-08-28T12:12:31.941Z"
   },
   {
    "duration": 116,
    "start_time": "2022-08-28T12:12:32.061Z"
   },
   {
    "duration": 3,
    "start_time": "2022-08-28T12:12:32.178Z"
   },
   {
    "duration": 15,
    "start_time": "2022-08-28T12:12:32.183Z"
   },
   {
    "duration": 7,
    "start_time": "2022-08-28T12:12:32.211Z"
   },
   {
    "duration": 16,
    "start_time": "2022-08-28T12:12:32.220Z"
   },
   {
    "duration": 15,
    "start_time": "2022-08-28T12:12:32.237Z"
   },
   {
    "duration": 132,
    "start_time": "2022-08-28T12:12:32.253Z"
   },
   {
    "duration": 210,
    "start_time": "2022-08-28T12:12:32.387Z"
   },
   {
    "duration": 12,
    "start_time": "2022-08-28T12:12:32.599Z"
   },
   {
    "duration": 24,
    "start_time": "2022-08-28T12:12:32.612Z"
   },
   {
    "duration": 10,
    "start_time": "2022-08-28T12:12:32.637Z"
   },
   {
    "duration": 31,
    "start_time": "2022-08-28T12:12:32.649Z"
   },
   {
    "duration": 36,
    "start_time": "2022-08-28T12:12:32.681Z"
   },
   {
    "duration": 172,
    "start_time": "2022-08-28T12:12:32.720Z"
   },
   {
    "duration": 137,
    "start_time": "2022-08-28T12:12:32.894Z"
   },
   {
    "duration": 3,
    "start_time": "2022-08-28T12:12:33.033Z"
   },
   {
    "duration": 16,
    "start_time": "2022-08-28T12:12:33.038Z"
   },
   {
    "duration": 8,
    "start_time": "2022-08-28T12:12:33.056Z"
   },
   {
    "duration": 19,
    "start_time": "2022-08-28T12:12:33.065Z"
   },
   {
    "duration": 26,
    "start_time": "2022-08-28T12:12:33.086Z"
   },
   {
    "duration": 17,
    "start_time": "2022-08-28T12:12:33.113Z"
   },
   {
    "duration": 9,
    "start_time": "2022-08-28T12:12:33.132Z"
   },
   {
    "duration": 200,
    "start_time": "2022-08-28T12:12:33.143Z"
   },
   {
    "duration": 286,
    "start_time": "2022-08-28T12:12:33.345Z"
   },
   {
    "duration": 14,
    "start_time": "2022-08-28T12:12:33.632Z"
   },
   {
    "duration": 5,
    "start_time": "2022-08-28T12:12:33.649Z"
   },
   {
    "duration": 7,
    "start_time": "2022-08-28T12:12:33.711Z"
   },
   {
    "duration": 7,
    "start_time": "2022-08-28T12:12:33.719Z"
   },
   {
    "duration": 17,
    "start_time": "2022-08-28T12:12:33.727Z"
   },
   {
    "duration": 68,
    "start_time": "2022-08-28T12:12:33.746Z"
   },
   {
    "duration": 20,
    "start_time": "2022-08-28T12:12:33.815Z"
   },
   {
    "duration": 179,
    "start_time": "2022-08-28T12:12:33.837Z"
   },
   {
    "duration": 16,
    "start_time": "2022-08-28T12:12:34.018Z"
   },
   {
    "duration": 88,
    "start_time": "2022-08-28T12:12:34.036Z"
   },
   {
    "duration": 20,
    "start_time": "2022-08-28T12:12:34.126Z"
   },
   {
    "duration": 76,
    "start_time": "2022-08-28T12:12:34.148Z"
   },
   {
    "duration": 5,
    "start_time": "2022-08-28T12:12:34.225Z"
   },
   {
    "duration": 8,
    "start_time": "2022-08-28T12:12:34.232Z"
   },
   {
    "duration": 819,
    "start_time": "2022-08-28T12:13:57.586Z"
   },
   {
    "duration": 375,
    "start_time": "2022-08-28T12:13:58.407Z"
   },
   {
    "duration": 34,
    "start_time": "2022-08-28T12:13:58.783Z"
   },
   {
    "duration": 25,
    "start_time": "2022-08-28T12:13:58.819Z"
   },
   {
    "duration": 366,
    "start_time": "2022-08-28T12:13:58.846Z"
   },
   {
    "duration": 223,
    "start_time": "2022-08-28T12:13:59.213Z"
   },
   {
    "duration": 25,
    "start_time": "2022-08-28T12:13:59.438Z"
   },
   {
    "duration": 46,
    "start_time": "2022-08-28T12:13:59.465Z"
   },
   {
    "duration": 28,
    "start_time": "2022-08-28T12:13:59.513Z"
   },
   {
    "duration": 19,
    "start_time": "2022-08-28T12:13:59.542Z"
   },
   {
    "duration": 101,
    "start_time": "2022-08-28T12:13:59.563Z"
   },
   {
    "duration": 6,
    "start_time": "2022-08-28T12:13:59.665Z"
   },
   {
    "duration": 14,
    "start_time": "2022-08-28T12:13:59.674Z"
   },
   {
    "duration": 34,
    "start_time": "2022-08-28T12:13:59.692Z"
   },
   {
    "duration": 15,
    "start_time": "2022-08-28T12:13:59.728Z"
   },
   {
    "duration": 8,
    "start_time": "2022-08-28T12:13:59.745Z"
   },
   {
    "duration": 32,
    "start_time": "2022-08-28T12:13:59.754Z"
   },
   {
    "duration": 5,
    "start_time": "2022-08-28T12:13:59.810Z"
   },
   {
    "duration": 1947,
    "start_time": "2022-08-28T12:13:59.816Z"
   },
   {
    "duration": 53,
    "start_time": "2022-08-28T12:14:01.765Z"
   },
   {
    "duration": 17,
    "start_time": "2022-08-28T12:14:01.820Z"
   },
   {
    "duration": 52,
    "start_time": "2022-08-28T12:14:01.839Z"
   },
   {
    "duration": 34,
    "start_time": "2022-08-28T12:14:01.893Z"
   },
   {
    "duration": 26,
    "start_time": "2022-08-28T12:14:01.928Z"
   },
   {
    "duration": 13,
    "start_time": "2022-08-28T12:14:01.956Z"
   },
   {
    "duration": 41,
    "start_time": "2022-08-28T12:14:01.971Z"
   },
   {
    "duration": 21,
    "start_time": "2022-08-28T12:14:02.014Z"
   },
   {
    "duration": 26,
    "start_time": "2022-08-28T12:14:02.036Z"
   },
   {
    "duration": 23,
    "start_time": "2022-08-28T12:14:02.064Z"
   },
   {
    "duration": 39,
    "start_time": "2022-08-28T12:14:02.088Z"
   },
   {
    "duration": 59,
    "start_time": "2022-08-28T12:14:02.129Z"
   },
   {
    "duration": 17,
    "start_time": "2022-08-28T12:14:02.191Z"
   },
   {
    "duration": 272,
    "start_time": "2022-08-28T12:14:02.210Z"
   },
   {
    "duration": 5,
    "start_time": "2022-08-28T12:14:02.484Z"
   },
   {
    "duration": 31,
    "start_time": "2022-08-28T12:14:02.491Z"
   },
   {
    "duration": 47,
    "start_time": "2022-08-28T12:14:02.524Z"
   },
   {
    "duration": 40,
    "start_time": "2022-08-28T12:14:02.573Z"
   },
   {
    "duration": 17,
    "start_time": "2022-08-28T12:14:02.615Z"
   },
   {
    "duration": 28,
    "start_time": "2022-08-28T12:14:02.634Z"
   },
   {
    "duration": 54,
    "start_time": "2022-08-28T12:14:02.665Z"
   },
   {
    "duration": 210,
    "start_time": "2022-08-28T12:14:02.723Z"
   },
   {
    "duration": 118,
    "start_time": "2022-08-28T12:14:02.935Z"
   },
   {
    "duration": 3,
    "start_time": "2022-08-28T12:14:03.054Z"
   },
   {
    "duration": 34,
    "start_time": "2022-08-28T12:14:03.059Z"
   },
   {
    "duration": 14,
    "start_time": "2022-08-28T12:14:03.095Z"
   },
   {
    "duration": 22,
    "start_time": "2022-08-28T12:14:03.111Z"
   },
   {
    "duration": 30,
    "start_time": "2022-08-28T12:14:03.134Z"
   },
   {
    "duration": 171,
    "start_time": "2022-08-28T12:14:03.166Z"
   },
   {
    "duration": 146,
    "start_time": "2022-08-28T12:14:03.339Z"
   },
   {
    "duration": 5,
    "start_time": "2022-08-28T12:14:03.487Z"
   },
   {
    "duration": 39,
    "start_time": "2022-08-28T12:14:03.496Z"
   },
   {
    "duration": 46,
    "start_time": "2022-08-28T12:14:03.537Z"
   },
   {
    "duration": 74,
    "start_time": "2022-08-28T12:14:03.585Z"
   },
   {
    "duration": 54,
    "start_time": "2022-08-28T12:14:03.660Z"
   },
   {
    "duration": 134,
    "start_time": "2022-08-28T12:14:03.715Z"
   },
   {
    "duration": 128,
    "start_time": "2022-08-28T12:14:03.851Z"
   },
   {
    "duration": 3,
    "start_time": "2022-08-28T12:14:03.981Z"
   },
   {
    "duration": 26,
    "start_time": "2022-08-28T12:14:03.985Z"
   },
   {
    "duration": 8,
    "start_time": "2022-08-28T12:14:04.012Z"
   },
   {
    "duration": 30,
    "start_time": "2022-08-28T12:14:04.022Z"
   },
   {
    "duration": 14,
    "start_time": "2022-08-28T12:14:04.053Z"
   },
   {
    "duration": 31,
    "start_time": "2022-08-28T12:14:04.069Z"
   },
   {
    "duration": 14,
    "start_time": "2022-08-28T12:14:04.102Z"
   },
   {
    "duration": 132,
    "start_time": "2022-08-28T12:14:04.118Z"
   },
   {
    "duration": 134,
    "start_time": "2022-08-28T12:14:04.252Z"
   },
   {
    "duration": 23,
    "start_time": "2022-08-28T12:14:04.388Z"
   },
   {
    "duration": 12,
    "start_time": "2022-08-28T12:14:04.412Z"
   },
   {
    "duration": 21,
    "start_time": "2022-08-28T12:14:04.425Z"
   },
   {
    "duration": 18,
    "start_time": "2022-08-28T12:14:04.448Z"
   },
   {
    "duration": 39,
    "start_time": "2022-08-28T12:14:04.468Z"
   },
   {
    "duration": 47,
    "start_time": "2022-08-28T12:14:04.508Z"
   },
   {
    "duration": 14,
    "start_time": "2022-08-28T12:14:04.556Z"
   },
   {
    "duration": 70,
    "start_time": "2022-08-28T12:14:04.571Z"
   },
   {
    "duration": 36,
    "start_time": "2022-08-28T12:14:04.642Z"
   },
   {
    "duration": 32,
    "start_time": "2022-08-28T12:14:04.680Z"
   },
   {
    "duration": 16,
    "start_time": "2022-08-28T12:14:04.713Z"
   },
   {
    "duration": 25,
    "start_time": "2022-08-28T12:14:04.730Z"
   },
   {
    "duration": 14,
    "start_time": "2022-08-28T12:14:04.757Z"
   },
   {
    "duration": 16,
    "start_time": "2022-08-28T12:14:04.773Z"
   },
   {
    "duration": 794,
    "start_time": "2022-08-28T12:23:32.731Z"
   },
   {
    "duration": 384,
    "start_time": "2022-08-28T12:23:33.527Z"
   },
   {
    "duration": 36,
    "start_time": "2022-08-28T12:23:33.912Z"
   },
   {
    "duration": 37,
    "start_time": "2022-08-28T12:23:33.950Z"
   },
   {
    "duration": 371,
    "start_time": "2022-08-28T12:23:34.010Z"
   },
   {
    "duration": 224,
    "start_time": "2022-08-28T12:23:34.383Z"
   },
   {
    "duration": 25,
    "start_time": "2022-08-28T12:23:34.610Z"
   },
   {
    "duration": 15,
    "start_time": "2022-08-28T12:23:34.637Z"
   },
   {
    "duration": 17,
    "start_time": "2022-08-28T12:23:34.654Z"
   },
   {
    "duration": 52,
    "start_time": "2022-08-28T12:23:34.673Z"
   },
   {
    "duration": 94,
    "start_time": "2022-08-28T12:23:34.727Z"
   },
   {
    "duration": 6,
    "start_time": "2022-08-28T12:23:34.822Z"
   },
   {
    "duration": 20,
    "start_time": "2022-08-28T12:23:34.830Z"
   },
   {
    "duration": 15,
    "start_time": "2022-08-28T12:23:34.853Z"
   },
   {
    "duration": 12,
    "start_time": "2022-08-28T12:23:34.870Z"
   },
   {
    "duration": 27,
    "start_time": "2022-08-28T12:23:34.884Z"
   },
   {
    "duration": 24,
    "start_time": "2022-08-28T12:23:34.913Z"
   },
   {
    "duration": 4,
    "start_time": "2022-08-28T12:23:34.939Z"
   },
   {
    "duration": 1891,
    "start_time": "2022-08-28T12:23:34.945Z"
   },
   {
    "duration": 42,
    "start_time": "2022-08-28T12:23:36.837Z"
   },
   {
    "duration": 31,
    "start_time": "2022-08-28T12:23:36.881Z"
   },
   {
    "duration": 27,
    "start_time": "2022-08-28T12:23:36.913Z"
   },
   {
    "duration": 20,
    "start_time": "2022-08-28T12:23:36.942Z"
   },
   {
    "duration": 49,
    "start_time": "2022-08-28T12:23:36.964Z"
   },
   {
    "duration": 14,
    "start_time": "2022-08-28T12:23:37.014Z"
   },
   {
    "duration": 13,
    "start_time": "2022-08-28T12:23:37.029Z"
   },
   {
    "duration": 17,
    "start_time": "2022-08-28T12:23:37.043Z"
   },
   {
    "duration": 9,
    "start_time": "2022-08-28T12:23:37.062Z"
   },
   {
    "duration": 43,
    "start_time": "2022-08-28T12:23:37.073Z"
   },
   {
    "duration": 10,
    "start_time": "2022-08-28T12:23:37.118Z"
   },
   {
    "duration": 15,
    "start_time": "2022-08-28T12:23:37.129Z"
   },
   {
    "duration": 10,
    "start_time": "2022-08-28T12:23:37.147Z"
   },
   {
    "duration": 9,
    "start_time": "2022-08-28T12:23:37.159Z"
   },
   {
    "duration": 245,
    "start_time": "2022-08-28T12:23:37.170Z"
   },
   {
    "duration": 5,
    "start_time": "2022-08-28T12:23:37.417Z"
   },
   {
    "duration": 18,
    "start_time": "2022-08-28T12:23:37.424Z"
   },
   {
    "duration": 7,
    "start_time": "2022-08-28T12:23:37.444Z"
   },
   {
    "duration": 25,
    "start_time": "2022-08-28T12:23:37.452Z"
   },
   {
    "duration": 7,
    "start_time": "2022-08-28T12:23:37.479Z"
   },
   {
    "duration": 31,
    "start_time": "2022-08-28T12:23:37.488Z"
   },
   {
    "duration": 13,
    "start_time": "2022-08-28T12:23:37.523Z"
   },
   {
    "duration": 130,
    "start_time": "2022-08-28T12:23:37.538Z"
   },
   {
    "duration": 113,
    "start_time": "2022-08-28T12:23:37.670Z"
   },
   {
    "duration": 3,
    "start_time": "2022-08-28T12:23:37.785Z"
   },
   {
    "duration": 31,
    "start_time": "2022-08-28T12:23:37.790Z"
   },
   {
    "duration": 8,
    "start_time": "2022-08-28T12:23:37.823Z"
   },
   {
    "duration": 25,
    "start_time": "2022-08-28T12:23:37.833Z"
   },
   {
    "duration": 29,
    "start_time": "2022-08-28T12:23:37.859Z"
   },
   {
    "duration": 116,
    "start_time": "2022-08-28T12:23:37.889Z"
   },
   {
    "duration": 148,
    "start_time": "2022-08-28T12:23:38.010Z"
   },
   {
    "duration": 3,
    "start_time": "2022-08-28T12:23:38.160Z"
   },
   {
    "duration": 18,
    "start_time": "2022-08-28T12:23:38.164Z"
   },
   {
    "duration": 7,
    "start_time": "2022-08-28T12:23:38.184Z"
   },
   {
    "duration": 13,
    "start_time": "2022-08-28T12:23:38.210Z"
   },
   {
    "duration": 18,
    "start_time": "2022-08-28T12:23:38.225Z"
   },
   {
    "duration": 123,
    "start_time": "2022-08-28T12:23:38.244Z"
   },
   {
    "duration": 132,
    "start_time": "2022-08-28T12:23:38.368Z"
   },
   {
    "duration": 9,
    "start_time": "2022-08-28T12:23:38.502Z"
   },
   {
    "duration": 14,
    "start_time": "2022-08-28T12:23:38.514Z"
   },
   {
    "duration": 8,
    "start_time": "2022-08-28T12:23:38.529Z"
   },
   {
    "duration": 14,
    "start_time": "2022-08-28T12:23:38.539Z"
   },
   {
    "duration": 6,
    "start_time": "2022-08-28T12:23:38.555Z"
   },
   {
    "duration": 15,
    "start_time": "2022-08-28T12:23:38.563Z"
   },
   {
    "duration": 39,
    "start_time": "2022-08-28T12:23:38.580Z"
   },
   {
    "duration": 121,
    "start_time": "2022-08-28T12:23:38.620Z"
   },
   {
    "duration": 134,
    "start_time": "2022-08-28T12:23:38.743Z"
   },
   {
    "duration": 16,
    "start_time": "2022-08-28T12:23:38.878Z"
   },
   {
    "duration": 15,
    "start_time": "2022-08-28T12:23:38.896Z"
   },
   {
    "duration": 7,
    "start_time": "2022-08-28T12:23:38.912Z"
   },
   {
    "duration": 6,
    "start_time": "2022-08-28T12:23:38.920Z"
   },
   {
    "duration": 13,
    "start_time": "2022-08-28T12:23:38.927Z"
   },
   {
    "duration": 25,
    "start_time": "2022-08-28T12:23:38.941Z"
   },
   {
    "duration": 43,
    "start_time": "2022-08-28T12:23:38.968Z"
   },
   {
    "duration": 72,
    "start_time": "2022-08-28T12:23:39.013Z"
   },
   {
    "duration": 29,
    "start_time": "2022-08-28T12:23:39.087Z"
   },
   {
    "duration": 24,
    "start_time": "2022-08-28T12:23:39.117Z"
   },
   {
    "duration": 13,
    "start_time": "2022-08-28T12:23:39.142Z"
   },
   {
    "duration": 17,
    "start_time": "2022-08-28T12:23:39.210Z"
   },
   {
    "duration": 4,
    "start_time": "2022-08-28T12:23:39.229Z"
   },
   {
    "duration": 8,
    "start_time": "2022-08-28T12:23:39.235Z"
   },
   {
    "duration": 4,
    "start_time": "2022-08-28T12:28:00.458Z"
   },
   {
    "duration": 3,
    "start_time": "2022-08-28T12:33:27.328Z"
   },
   {
    "duration": 134,
    "start_time": "2022-08-28T12:37:18.750Z"
   },
   {
    "duration": 164,
    "start_time": "2022-08-28T12:37:34.944Z"
   },
   {
    "duration": 178,
    "start_time": "2022-08-28T12:37:40.448Z"
   },
   {
    "duration": 272,
    "start_time": "2022-08-28T12:38:33.138Z"
   },
   {
    "duration": 52,
    "start_time": "2022-08-28T12:47:25.670Z"
   },
   {
    "duration": 3,
    "start_time": "2022-08-28T12:47:32.103Z"
   },
   {
    "duration": 5,
    "start_time": "2022-08-28T12:47:34.069Z"
   },
   {
    "duration": 1397,
    "start_time": "2022-08-28T12:47:54.528Z"
   },
   {
    "duration": 169,
    "start_time": "2022-08-28T12:48:09.402Z"
   },
   {
    "duration": 158,
    "start_time": "2022-08-28T12:48:24.532Z"
   },
   {
    "duration": 164,
    "start_time": "2022-08-28T12:48:26.071Z"
   },
   {
    "duration": 52,
    "start_time": "2022-08-28T12:48:29.336Z"
   },
   {
    "duration": 843,
    "start_time": "2022-08-28T12:48:35.564Z"
   },
   {
    "duration": 381,
    "start_time": "2022-08-28T12:48:36.411Z"
   },
   {
    "duration": 37,
    "start_time": "2022-08-28T12:48:36.796Z"
   },
   {
    "duration": 43,
    "start_time": "2022-08-28T12:48:36.835Z"
   },
   {
    "duration": 403,
    "start_time": "2022-08-28T12:48:36.880Z"
   },
   {
    "duration": 232,
    "start_time": "2022-08-28T12:48:37.284Z"
   },
   {
    "duration": 24,
    "start_time": "2022-08-28T12:48:37.518Z"
   },
   {
    "duration": 15,
    "start_time": "2022-08-28T12:48:37.544Z"
   },
   {
    "duration": 52,
    "start_time": "2022-08-28T12:48:37.561Z"
   },
   {
    "duration": 21,
    "start_time": "2022-08-28T12:48:37.614Z"
   },
   {
    "duration": 91,
    "start_time": "2022-08-28T12:48:37.637Z"
   },
   {
    "duration": 6,
    "start_time": "2022-08-28T12:48:37.730Z"
   },
   {
    "duration": 14,
    "start_time": "2022-08-28T12:48:37.738Z"
   },
   {
    "duration": 19,
    "start_time": "2022-08-28T12:48:37.754Z"
   },
   {
    "duration": 13,
    "start_time": "2022-08-28T12:48:37.775Z"
   },
   {
    "duration": 24,
    "start_time": "2022-08-28T12:48:37.789Z"
   },
   {
    "duration": 28,
    "start_time": "2022-08-28T12:48:37.814Z"
   },
   {
    "duration": 3,
    "start_time": "2022-08-28T12:48:37.844Z"
   },
   {
    "duration": 1899,
    "start_time": "2022-08-28T12:48:37.849Z"
   },
   {
    "duration": 41,
    "start_time": "2022-08-28T12:48:39.750Z"
   },
   {
    "duration": 30,
    "start_time": "2022-08-28T12:48:39.793Z"
   },
   {
    "duration": 29,
    "start_time": "2022-08-28T12:48:39.824Z"
   },
   {
    "duration": 22,
    "start_time": "2022-08-28T12:48:39.854Z"
   },
   {
    "duration": 55,
    "start_time": "2022-08-28T12:48:39.877Z"
   },
   {
    "duration": 13,
    "start_time": "2022-08-28T12:48:39.934Z"
   },
   {
    "duration": 17,
    "start_time": "2022-08-28T12:48:39.949Z"
   },
   {
    "duration": 40,
    "start_time": "2022-08-28T12:48:39.971Z"
   },
   {
    "duration": 11,
    "start_time": "2022-08-28T12:48:40.013Z"
   },
   {
    "duration": 10,
    "start_time": "2022-08-28T12:48:40.025Z"
   },
   {
    "duration": 10,
    "start_time": "2022-08-28T12:48:40.037Z"
   },
   {
    "duration": 10,
    "start_time": "2022-08-28T12:48:40.049Z"
   },
   {
    "duration": 7,
    "start_time": "2022-08-28T12:48:40.061Z"
   },
   {
    "duration": 12,
    "start_time": "2022-08-28T12:48:40.069Z"
   },
   {
    "duration": 4,
    "start_time": "2022-08-28T12:48:40.110Z"
   },
   {
    "duration": 239,
    "start_time": "2022-08-28T12:48:40.116Z"
   },
   {
    "duration": 5,
    "start_time": "2022-08-28T12:48:40.357Z"
   },
   {
    "duration": 28,
    "start_time": "2022-08-28T12:48:40.363Z"
   },
   {
    "duration": 10,
    "start_time": "2022-08-28T12:48:40.393Z"
   },
   {
    "duration": 22,
    "start_time": "2022-08-28T12:48:40.405Z"
   },
   {
    "duration": 23,
    "start_time": "2022-08-28T12:48:40.428Z"
   },
   {
    "duration": 40,
    "start_time": "2022-08-28T12:48:40.452Z"
   },
   {
    "duration": 29,
    "start_time": "2022-08-28T12:48:40.494Z"
   },
   {
    "duration": 164,
    "start_time": "2022-08-28T12:48:40.525Z"
   },
   {
    "duration": 112,
    "start_time": "2022-08-28T12:48:40.691Z"
   },
   {
    "duration": 7,
    "start_time": "2022-08-28T12:48:40.805Z"
   },
   {
    "duration": 18,
    "start_time": "2022-08-28T12:48:40.814Z"
   },
   {
    "duration": 8,
    "start_time": "2022-08-28T12:48:40.834Z"
   },
   {
    "duration": 20,
    "start_time": "2022-08-28T12:48:40.844Z"
   },
   {
    "duration": 19,
    "start_time": "2022-08-28T12:48:40.865Z"
   },
   {
    "duration": 162,
    "start_time": "2022-08-28T12:48:40.886Z"
   },
   {
    "duration": 141,
    "start_time": "2022-08-28T12:48:41.050Z"
   },
   {
    "duration": 2,
    "start_time": "2022-08-28T12:48:41.193Z"
   },
   {
    "duration": 25,
    "start_time": "2022-08-28T12:48:41.197Z"
   },
   {
    "duration": 8,
    "start_time": "2022-08-28T12:48:41.223Z"
   },
   {
    "duration": 15,
    "start_time": "2022-08-28T12:48:41.232Z"
   },
   {
    "duration": 14,
    "start_time": "2022-08-28T12:48:41.249Z"
   },
   {
    "duration": 137,
    "start_time": "2022-08-28T12:48:41.265Z"
   },
   {
    "duration": 136,
    "start_time": "2022-08-28T12:48:41.410Z"
   },
   {
    "duration": 2,
    "start_time": "2022-08-28T12:48:41.548Z"
   },
   {
    "duration": 18,
    "start_time": "2022-08-28T12:48:41.551Z"
   },
   {
    "duration": 9,
    "start_time": "2022-08-28T12:48:41.571Z"
   },
   {
    "duration": 35,
    "start_time": "2022-08-28T12:48:41.582Z"
   },
   {
    "duration": 21,
    "start_time": "2022-08-28T12:48:41.619Z"
   },
   {
    "duration": 21,
    "start_time": "2022-08-28T12:48:41.641Z"
   },
   {
    "duration": 9,
    "start_time": "2022-08-28T12:48:41.664Z"
   },
   {
    "duration": 116,
    "start_time": "2022-08-28T12:48:41.674Z"
   },
   {
    "duration": 162,
    "start_time": "2022-08-28T12:48:41.791Z"
   },
   {
    "duration": 371,
    "start_time": "2022-08-28T12:48:41.955Z"
   },
   {
    "duration": 13,
    "start_time": "2022-08-28T12:48:42.328Z"
   },
   {
    "duration": 20,
    "start_time": "2022-08-28T12:48:42.343Z"
   },
   {
    "duration": 30,
    "start_time": "2022-08-28T12:48:42.365Z"
   },
   {
    "duration": 15,
    "start_time": "2022-08-28T12:48:42.397Z"
   },
   {
    "duration": 24,
    "start_time": "2022-08-28T12:48:42.414Z"
   },
   {
    "duration": 48,
    "start_time": "2022-08-28T12:48:42.440Z"
   },
   {
    "duration": 21,
    "start_time": "2022-08-28T12:48:42.491Z"
   },
   {
    "duration": 69,
    "start_time": "2022-08-28T12:48:42.514Z"
   },
   {
    "duration": 56,
    "start_time": "2022-08-28T12:48:42.585Z"
   },
   {
    "duration": 41,
    "start_time": "2022-08-28T12:48:42.643Z"
   },
   {
    "duration": 19,
    "start_time": "2022-08-28T12:48:42.686Z"
   },
   {
    "duration": 40,
    "start_time": "2022-08-28T12:48:42.707Z"
   },
   {
    "duration": 13,
    "start_time": "2022-08-28T12:48:42.752Z"
   },
   {
    "duration": 27,
    "start_time": "2022-08-28T12:48:42.767Z"
   },
   {
    "duration": 115,
    "start_time": "2022-08-28T12:48:42.796Z"
   },
   {
    "duration": 4,
    "start_time": "2022-08-28T12:48:42.913Z"
   },
   {
    "duration": 25,
    "start_time": "2022-08-28T12:48:42.919Z"
   },
   {
    "duration": 1398,
    "start_time": "2022-08-28T12:48:42.946Z"
   },
   {
    "duration": 173,
    "start_time": "2022-08-28T12:48:44.345Z"
   },
   {
    "duration": 170,
    "start_time": "2022-08-28T12:48:44.519Z"
   },
   {
    "duration": 170,
    "start_time": "2022-08-28T12:48:44.691Z"
   },
   {
    "duration": 54,
    "start_time": "2022-08-28T12:48:44.863Z"
   },
   {
    "duration": 907,
    "start_time": "2022-08-28T15:55:56.630Z"
   },
   {
    "duration": 1210,
    "start_time": "2022-08-28T15:55:57.539Z"
   },
   {
    "duration": 56,
    "start_time": "2022-08-28T15:55:58.750Z"
   },
   {
    "duration": 36,
    "start_time": "2022-08-28T15:55:58.809Z"
   },
   {
    "duration": 581,
    "start_time": "2022-08-28T15:55:58.847Z"
   },
   {
    "duration": 238,
    "start_time": "2022-08-28T15:55:59.430Z"
   },
   {
    "duration": 48,
    "start_time": "2022-08-28T15:55:59.670Z"
   },
   {
    "duration": 22,
    "start_time": "2022-08-28T15:55:59.720Z"
   },
   {
    "duration": 19,
    "start_time": "2022-08-28T15:55:59.743Z"
   },
   {
    "duration": 53,
    "start_time": "2022-08-28T15:55:59.765Z"
   },
   {
    "duration": 91,
    "start_time": "2022-08-28T15:55:59.821Z"
   },
   {
    "duration": 5,
    "start_time": "2022-08-28T15:55:59.913Z"
   },
   {
    "duration": 11,
    "start_time": "2022-08-28T15:55:59.919Z"
   },
   {
    "duration": 29,
    "start_time": "2022-08-28T15:55:59.931Z"
   },
   {
    "duration": 15,
    "start_time": "2022-08-28T15:55:59.962Z"
   },
   {
    "duration": 55,
    "start_time": "2022-08-28T15:55:59.979Z"
   },
   {
    "duration": 42,
    "start_time": "2022-08-28T15:56:00.037Z"
   },
   {
    "duration": 5,
    "start_time": "2022-08-28T15:56:00.081Z"
   },
   {
    "duration": 2936,
    "start_time": "2022-08-28T15:56:00.088Z"
   },
   {
    "duration": 115,
    "start_time": "2022-08-28T15:56:03.026Z"
   },
   {
    "duration": 90,
    "start_time": "2022-08-28T15:56:03.143Z"
   },
   {
    "duration": 99,
    "start_time": "2022-08-28T15:56:03.235Z"
   },
   {
    "duration": 93,
    "start_time": "2022-08-28T15:56:03.336Z"
   },
   {
    "duration": 105,
    "start_time": "2022-08-28T15:56:03.431Z"
   },
   {
    "duration": 62,
    "start_time": "2022-08-28T15:56:03.546Z"
   },
   {
    "duration": 22,
    "start_time": "2022-08-28T15:56:03.610Z"
   },
   {
    "duration": 98,
    "start_time": "2022-08-28T15:56:03.634Z"
   },
   {
    "duration": 69,
    "start_time": "2022-08-28T15:56:03.739Z"
   },
   {
    "duration": 30,
    "start_time": "2022-08-28T15:56:03.810Z"
   },
   {
    "duration": 10,
    "start_time": "2022-08-28T15:56:03.842Z"
   },
   {
    "duration": 76,
    "start_time": "2022-08-28T15:56:03.855Z"
   },
   {
    "duration": 11,
    "start_time": "2022-08-28T15:56:03.934Z"
   },
   {
    "duration": 11,
    "start_time": "2022-08-28T15:56:03.947Z"
   },
   {
    "duration": 11,
    "start_time": "2022-08-28T15:56:03.959Z"
   },
   {
    "duration": 255,
    "start_time": "2022-08-28T15:56:03.972Z"
   },
   {
    "duration": 5,
    "start_time": "2022-08-28T15:56:04.228Z"
   },
   {
    "duration": 14,
    "start_time": "2022-08-28T15:56:04.234Z"
   },
   {
    "duration": 6,
    "start_time": "2022-08-28T15:56:04.250Z"
   },
   {
    "duration": 27,
    "start_time": "2022-08-28T15:56:04.258Z"
   },
   {
    "duration": 19,
    "start_time": "2022-08-28T15:56:04.301Z"
   },
   {
    "duration": 14,
    "start_time": "2022-08-28T15:56:04.322Z"
   },
   {
    "duration": 17,
    "start_time": "2022-08-28T15:56:04.338Z"
   },
   {
    "duration": 198,
    "start_time": "2022-08-28T15:56:04.358Z"
   },
   {
    "duration": 158,
    "start_time": "2022-08-28T15:56:04.558Z"
   },
   {
    "duration": 3,
    "start_time": "2022-08-28T15:56:04.725Z"
   },
   {
    "duration": 28,
    "start_time": "2022-08-28T15:56:04.731Z"
   },
   {
    "duration": 16,
    "start_time": "2022-08-28T15:56:04.765Z"
   },
   {
    "duration": 68,
    "start_time": "2022-08-28T15:56:04.783Z"
   },
   {
    "duration": 38,
    "start_time": "2022-08-28T15:56:04.853Z"
   },
   {
    "duration": 185,
    "start_time": "2022-08-28T15:56:04.893Z"
   },
   {
    "duration": 159,
    "start_time": "2022-08-28T15:56:05.080Z"
   },
   {
    "duration": 3,
    "start_time": "2022-08-28T15:56:05.240Z"
   },
   {
    "duration": 20,
    "start_time": "2022-08-28T15:56:05.245Z"
   },
   {
    "duration": 12,
    "start_time": "2022-08-28T15:56:05.267Z"
   },
   {
    "duration": 43,
    "start_time": "2022-08-28T15:56:05.282Z"
   },
   {
    "duration": 15,
    "start_time": "2022-08-28T15:56:05.327Z"
   },
   {
    "duration": 124,
    "start_time": "2022-08-28T15:56:05.344Z"
   },
   {
    "duration": 167,
    "start_time": "2022-08-28T15:56:05.470Z"
   },
   {
    "duration": 3,
    "start_time": "2022-08-28T15:56:05.639Z"
   },
   {
    "duration": 20,
    "start_time": "2022-08-28T15:56:05.645Z"
   },
   {
    "duration": 10,
    "start_time": "2022-08-28T15:56:05.667Z"
   },
   {
    "duration": 42,
    "start_time": "2022-08-28T15:56:05.679Z"
   },
   {
    "duration": 13,
    "start_time": "2022-08-28T15:56:05.722Z"
   },
   {
    "duration": 18,
    "start_time": "2022-08-28T15:56:05.737Z"
   },
   {
    "duration": 16,
    "start_time": "2022-08-28T15:56:05.757Z"
   },
   {
    "duration": 141,
    "start_time": "2022-08-28T15:56:05.775Z"
   },
   {
    "duration": 187,
    "start_time": "2022-08-28T15:56:05.917Z"
   },
   {
    "duration": 422,
    "start_time": "2022-08-28T15:56:06.107Z"
   },
   {
    "duration": 15,
    "start_time": "2022-08-28T15:56:06.531Z"
   },
   {
    "duration": 5,
    "start_time": "2022-08-28T15:56:06.548Z"
   },
   {
    "duration": 11,
    "start_time": "2022-08-28T15:56:06.555Z"
   },
   {
    "duration": 11,
    "start_time": "2022-08-28T15:56:06.569Z"
   },
   {
    "duration": 15,
    "start_time": "2022-08-28T15:56:06.599Z"
   },
   {
    "duration": 36,
    "start_time": "2022-08-28T15:56:06.616Z"
   },
   {
    "duration": 14,
    "start_time": "2022-08-28T15:56:06.654Z"
   },
   {
    "duration": 30,
    "start_time": "2022-08-28T15:56:06.670Z"
   },
   {
    "duration": 25,
    "start_time": "2022-08-28T15:56:06.702Z"
   },
   {
    "duration": 36,
    "start_time": "2022-08-28T15:56:06.729Z"
   },
   {
    "duration": 33,
    "start_time": "2022-08-28T15:56:06.767Z"
   },
   {
    "duration": 39,
    "start_time": "2022-08-28T15:56:06.802Z"
   },
   {
    "duration": 5,
    "start_time": "2022-08-28T15:56:06.842Z"
   },
   {
    "duration": 7,
    "start_time": "2022-08-28T15:56:06.852Z"
   },
   {
    "duration": 69,
    "start_time": "2022-08-28T15:56:06.860Z"
   },
   {
    "duration": 3,
    "start_time": "2022-08-28T15:56:06.931Z"
   },
   {
    "duration": 9,
    "start_time": "2022-08-28T15:56:06.936Z"
   },
   {
    "duration": 1393,
    "start_time": "2022-08-28T15:56:06.948Z"
   },
   {
    "duration": 205,
    "start_time": "2022-08-28T15:56:08.342Z"
   },
   {
    "duration": 176,
    "start_time": "2022-08-28T15:56:08.548Z"
   },
   {
    "duration": 193,
    "start_time": "2022-08-28T15:56:08.726Z"
   },
   {
    "duration": 143,
    "start_time": "2022-08-28T15:56:08.922Z"
   },
   {
    "duration": 7,
    "start_time": "2022-08-28T16:01:23.076Z"
   },
   {
    "duration": 778,
    "start_time": "2022-08-28T16:01:28.622Z"
   },
   {
    "duration": 450,
    "start_time": "2022-08-28T16:01:29.402Z"
   },
   {
    "duration": 34,
    "start_time": "2022-08-28T16:01:29.854Z"
   },
   {
    "duration": 42,
    "start_time": "2022-08-28T16:01:29.889Z"
   },
   {
    "duration": 411,
    "start_time": "2022-08-28T16:01:29.933Z"
   },
   {
    "duration": 224,
    "start_time": "2022-08-28T16:01:30.346Z"
   },
   {
    "duration": 46,
    "start_time": "2022-08-28T16:01:30.571Z"
   },
   {
    "duration": 22,
    "start_time": "2022-08-28T16:01:30.619Z"
   },
   {
    "duration": 35,
    "start_time": "2022-08-28T16:01:30.642Z"
   },
   {
    "duration": 34,
    "start_time": "2022-08-28T16:01:30.678Z"
   },
   {
    "duration": 113,
    "start_time": "2022-08-28T16:01:30.713Z"
   },
   {
    "duration": 6,
    "start_time": "2022-08-28T16:01:30.827Z"
   },
   {
    "duration": 27,
    "start_time": "2022-08-28T16:01:30.835Z"
   },
   {
    "duration": 29,
    "start_time": "2022-08-28T16:01:30.865Z"
   },
   {
    "duration": 26,
    "start_time": "2022-08-28T16:01:30.895Z"
   },
   {
    "duration": 10,
    "start_time": "2022-08-28T16:01:30.923Z"
   },
   {
    "duration": 25,
    "start_time": "2022-08-28T16:01:30.934Z"
   },
   {
    "duration": 3,
    "start_time": "2022-08-28T16:01:30.961Z"
   },
   {
    "duration": 1981,
    "start_time": "2022-08-28T16:01:30.965Z"
   },
   {
    "duration": 44,
    "start_time": "2022-08-28T16:01:32.947Z"
   },
   {
    "duration": 21,
    "start_time": "2022-08-28T16:01:33.009Z"
   },
   {
    "duration": 27,
    "start_time": "2022-08-28T16:01:33.032Z"
   },
   {
    "duration": 21,
    "start_time": "2022-08-28T16:01:33.060Z"
   },
   {
    "duration": 49,
    "start_time": "2022-08-28T16:01:33.083Z"
   },
   {
    "duration": 12,
    "start_time": "2022-08-28T16:01:33.134Z"
   },
   {
    "duration": 13,
    "start_time": "2022-08-28T16:01:33.147Z"
   },
   {
    "duration": 16,
    "start_time": "2022-08-28T16:01:33.161Z"
   },
   {
    "duration": 38,
    "start_time": "2022-08-28T16:01:33.179Z"
   },
   {
    "duration": 4,
    "start_time": "2022-08-28T16:01:33.218Z"
   },
   {
    "duration": 11,
    "start_time": "2022-08-28T16:01:33.224Z"
   },
   {
    "duration": 11,
    "start_time": "2022-08-28T16:01:33.237Z"
   },
   {
    "duration": 7,
    "start_time": "2022-08-28T16:01:33.250Z"
   },
   {
    "duration": 8,
    "start_time": "2022-08-28T16:01:33.258Z"
   },
   {
    "duration": 5,
    "start_time": "2022-08-28T16:01:33.267Z"
   },
   {
    "duration": 229,
    "start_time": "2022-08-28T16:01:33.274Z"
   },
   {
    "duration": 7,
    "start_time": "2022-08-28T16:01:33.509Z"
   },
   {
    "duration": 26,
    "start_time": "2022-08-28T16:01:33.517Z"
   },
   {
    "duration": 5,
    "start_time": "2022-08-28T16:01:33.545Z"
   },
   {
    "duration": 14,
    "start_time": "2022-08-28T16:01:33.551Z"
   },
   {
    "duration": 7,
    "start_time": "2022-08-28T16:01:33.566Z"
   },
   {
    "duration": 11,
    "start_time": "2022-08-28T16:01:33.578Z"
   },
   {
    "duration": 31,
    "start_time": "2022-08-28T16:01:33.590Z"
   },
   {
    "duration": 128,
    "start_time": "2022-08-28T16:01:33.625Z"
   },
   {
    "duration": 111,
    "start_time": "2022-08-28T16:01:33.755Z"
   },
   {
    "duration": 3,
    "start_time": "2022-08-28T16:01:33.867Z"
   },
   {
    "duration": 14,
    "start_time": "2022-08-28T16:01:33.871Z"
   },
   {
    "duration": 6,
    "start_time": "2022-08-28T16:01:33.886Z"
   },
   {
    "duration": 22,
    "start_time": "2022-08-28T16:01:33.910Z"
   },
   {
    "duration": 16,
    "start_time": "2022-08-28T16:01:33.934Z"
   },
   {
    "duration": 144,
    "start_time": "2022-08-28T16:01:33.951Z"
   },
   {
    "duration": 148,
    "start_time": "2022-08-28T16:01:34.097Z"
   },
   {
    "duration": 2,
    "start_time": "2022-08-28T16:01:34.247Z"
   },
   {
    "duration": 16,
    "start_time": "2022-08-28T16:01:34.250Z"
   },
   {
    "duration": 6,
    "start_time": "2022-08-28T16:01:34.267Z"
   },
   {
    "duration": 13,
    "start_time": "2022-08-28T16:01:34.275Z"
   },
   {
    "duration": 30,
    "start_time": "2022-08-28T16:01:34.290Z"
   },
   {
    "duration": 132,
    "start_time": "2022-08-28T16:01:34.321Z"
   },
   {
    "duration": 143,
    "start_time": "2022-08-28T16:01:34.456Z"
   },
   {
    "duration": 8,
    "start_time": "2022-08-28T16:01:34.612Z"
   },
   {
    "duration": 28,
    "start_time": "2022-08-28T16:01:34.622Z"
   },
   {
    "duration": 22,
    "start_time": "2022-08-28T16:01:34.652Z"
   },
   {
    "duration": 53,
    "start_time": "2022-08-28T16:01:34.676Z"
   },
   {
    "duration": 43,
    "start_time": "2022-08-28T16:01:34.732Z"
   },
   {
    "duration": 60,
    "start_time": "2022-08-28T16:01:34.777Z"
   },
   {
    "duration": 20,
    "start_time": "2022-08-28T16:01:34.839Z"
   },
   {
    "duration": 164,
    "start_time": "2022-08-28T16:01:34.861Z"
   },
   {
    "duration": 135,
    "start_time": "2022-08-28T16:01:35.027Z"
   },
   {
    "duration": 356,
    "start_time": "2022-08-28T16:01:35.164Z"
   },
   {
    "duration": 14,
    "start_time": "2022-08-28T16:01:35.525Z"
   },
   {
    "duration": 4,
    "start_time": "2022-08-28T16:01:35.540Z"
   },
   {
    "duration": 8,
    "start_time": "2022-08-28T16:01:35.546Z"
   },
   {
    "duration": 11,
    "start_time": "2022-08-28T16:01:35.555Z"
   },
   {
    "duration": 13,
    "start_time": "2022-08-28T16:01:35.567Z"
   },
   {
    "duration": 35,
    "start_time": "2022-08-28T16:01:35.581Z"
   },
   {
    "duration": 13,
    "start_time": "2022-08-28T16:01:35.617Z"
   },
   {
    "duration": 10,
    "start_time": "2022-08-28T16:01:35.631Z"
   },
   {
    "duration": 9,
    "start_time": "2022-08-28T16:01:35.643Z"
   },
   {
    "duration": 27,
    "start_time": "2022-08-28T16:01:35.653Z"
   },
   {
    "duration": 12,
    "start_time": "2022-08-28T16:01:35.681Z"
   },
   {
    "duration": 26,
    "start_time": "2022-08-28T16:01:35.694Z"
   },
   {
    "duration": 16,
    "start_time": "2022-08-28T16:01:35.721Z"
   },
   {
    "duration": 7,
    "start_time": "2022-08-28T16:01:35.739Z"
   },
   {
    "duration": 74,
    "start_time": "2022-08-28T16:01:35.747Z"
   },
   {
    "duration": 2,
    "start_time": "2022-08-28T16:01:35.823Z"
   },
   {
    "duration": 7,
    "start_time": "2022-08-28T16:01:35.827Z"
   },
   {
    "duration": 1302,
    "start_time": "2022-08-28T16:01:35.835Z"
   },
   {
    "duration": 178,
    "start_time": "2022-08-28T16:01:37.138Z"
   },
   {
    "duration": 164,
    "start_time": "2022-08-28T16:01:37.317Z"
   },
   {
    "duration": 164,
    "start_time": "2022-08-28T16:01:37.482Z"
   },
   {
    "duration": 123,
    "start_time": "2022-08-28T16:01:37.648Z"
   },
   {
    "duration": 3,
    "start_time": "2022-08-28T16:02:41.079Z"
   },
   {
    "duration": 4,
    "start_time": "2022-08-28T16:06:23.437Z"
   },
   {
    "duration": 3,
    "start_time": "2022-08-28T16:06:32.387Z"
   },
   {
    "duration": 4,
    "start_time": "2022-08-28T16:06:45.930Z"
   },
   {
    "duration": 12,
    "start_time": "2022-08-28T16:06:46.521Z"
   },
   {
    "duration": 4,
    "start_time": "2022-08-28T16:11:58.169Z"
   },
   {
    "duration": 747,
    "start_time": "2022-08-28T16:11:58.850Z"
   },
   {
    "duration": 3,
    "start_time": "2022-08-28T16:12:38.235Z"
   },
   {
    "duration": 2252,
    "start_time": "2022-08-28T16:12:38.720Z"
   },
   {
    "duration": 62,
    "start_time": "2022-08-28T16:12:40.974Z"
   },
   {
    "duration": 3,
    "start_time": "2022-08-28T16:12:58.062Z"
   },
   {
    "duration": 2102,
    "start_time": "2022-08-28T16:12:58.510Z"
   },
   {
    "duration": 42,
    "start_time": "2022-08-28T16:13:00.614Z"
   },
   {
    "duration": 38,
    "start_time": "2022-08-28T16:13:12.462Z"
   },
   {
    "duration": 827,
    "start_time": "2022-08-28T16:13:18.911Z"
   },
   {
    "duration": 412,
    "start_time": "2022-08-28T16:13:19.739Z"
   },
   {
    "duration": 34,
    "start_time": "2022-08-28T16:13:20.152Z"
   },
   {
    "duration": 31,
    "start_time": "2022-08-28T16:13:20.187Z"
   },
   {
    "duration": 369,
    "start_time": "2022-08-28T16:13:20.219Z"
   },
   {
    "duration": 233,
    "start_time": "2022-08-28T16:13:20.590Z"
   },
   {
    "duration": 22,
    "start_time": "2022-08-28T16:13:20.825Z"
   },
   {
    "duration": 15,
    "start_time": "2022-08-28T16:13:20.848Z"
   },
   {
    "duration": 53,
    "start_time": "2022-08-28T16:13:20.865Z"
   },
   {
    "duration": 18,
    "start_time": "2022-08-28T16:13:20.921Z"
   },
   {
    "duration": 101,
    "start_time": "2022-08-28T16:13:20.940Z"
   },
   {
    "duration": 6,
    "start_time": "2022-08-28T16:13:21.042Z"
   },
   {
    "duration": 10,
    "start_time": "2022-08-28T16:13:21.049Z"
   },
   {
    "duration": 19,
    "start_time": "2022-08-28T16:13:21.061Z"
   },
   {
    "duration": 32,
    "start_time": "2022-08-28T16:13:21.081Z"
   },
   {
    "duration": 8,
    "start_time": "2022-08-28T16:13:21.114Z"
   },
   {
    "duration": 24,
    "start_time": "2022-08-28T16:13:21.124Z"
   },
   {
    "duration": 3,
    "start_time": "2022-08-28T16:13:21.150Z"
   },
   {
    "duration": 2137,
    "start_time": "2022-08-28T16:13:21.155Z"
   },
   {
    "duration": 51,
    "start_time": "2022-08-28T16:13:23.294Z"
   },
   {
    "duration": 17,
    "start_time": "2022-08-28T16:13:23.346Z"
   },
   {
    "duration": 59,
    "start_time": "2022-08-28T16:13:23.365Z"
   },
   {
    "duration": 20,
    "start_time": "2022-08-28T16:13:23.426Z"
   },
   {
    "duration": 26,
    "start_time": "2022-08-28T16:13:23.447Z"
   },
   {
    "duration": 39,
    "start_time": "2022-08-28T16:13:23.474Z"
   },
   {
    "duration": 16,
    "start_time": "2022-08-28T16:13:23.514Z"
   },
   {
    "duration": 21,
    "start_time": "2022-08-28T16:13:23.532Z"
   },
   {
    "duration": 12,
    "start_time": "2022-08-28T16:13:23.557Z"
   },
   {
    "duration": 30,
    "start_time": "2022-08-28T16:13:23.571Z"
   },
   {
    "duration": 19,
    "start_time": "2022-08-28T16:13:23.602Z"
   },
   {
    "duration": 12,
    "start_time": "2022-08-28T16:13:23.623Z"
   },
   {
    "duration": 12,
    "start_time": "2022-08-28T16:13:23.636Z"
   },
   {
    "duration": 8,
    "start_time": "2022-08-28T16:13:23.649Z"
   },
   {
    "duration": 6,
    "start_time": "2022-08-28T16:13:23.658Z"
   },
   {
    "duration": 251,
    "start_time": "2022-08-28T16:13:23.666Z"
   },
   {
    "duration": 4,
    "start_time": "2022-08-28T16:13:23.918Z"
   },
   {
    "duration": 10,
    "start_time": "2022-08-28T16:13:23.924Z"
   },
   {
    "duration": 3,
    "start_time": "2022-08-28T16:13:23.936Z"
   },
   {
    "duration": 20,
    "start_time": "2022-08-28T16:13:23.941Z"
   },
   {
    "duration": 8,
    "start_time": "2022-08-28T16:13:23.963Z"
   },
   {
    "duration": 43,
    "start_time": "2022-08-28T16:13:23.972Z"
   },
   {
    "duration": 13,
    "start_time": "2022-08-28T16:13:24.016Z"
   },
   {
    "duration": 124,
    "start_time": "2022-08-28T16:13:24.030Z"
   },
   {
    "duration": 115,
    "start_time": "2022-08-28T16:13:24.156Z"
   },
   {
    "duration": 2,
    "start_time": "2022-08-28T16:13:24.272Z"
   },
   {
    "duration": 36,
    "start_time": "2022-08-28T16:13:24.276Z"
   },
   {
    "duration": 8,
    "start_time": "2022-08-28T16:13:24.314Z"
   },
   {
    "duration": 15,
    "start_time": "2022-08-28T16:13:24.323Z"
   },
   {
    "duration": 12,
    "start_time": "2022-08-28T16:13:24.340Z"
   },
   {
    "duration": 187,
    "start_time": "2022-08-28T16:13:24.354Z"
   },
   {
    "duration": 155,
    "start_time": "2022-08-28T16:13:24.545Z"
   },
   {
    "duration": 2,
    "start_time": "2022-08-28T16:13:24.701Z"
   },
   {
    "duration": 20,
    "start_time": "2022-08-28T16:13:24.704Z"
   },
   {
    "duration": 22,
    "start_time": "2022-08-28T16:13:24.726Z"
   },
   {
    "duration": 18,
    "start_time": "2022-08-28T16:13:24.752Z"
   },
   {
    "duration": 20,
    "start_time": "2022-08-28T16:13:24.772Z"
   },
   {
    "duration": 168,
    "start_time": "2022-08-28T16:13:24.794Z"
   },
   {
    "duration": 179,
    "start_time": "2022-08-28T16:13:24.964Z"
   },
   {
    "duration": 3,
    "start_time": "2022-08-28T16:13:25.144Z"
   },
   {
    "duration": 17,
    "start_time": "2022-08-28T16:13:25.148Z"
   },
   {
    "duration": 10,
    "start_time": "2022-08-28T16:13:25.166Z"
   },
   {
    "duration": 15,
    "start_time": "2022-08-28T16:13:25.178Z"
   },
   {
    "duration": 24,
    "start_time": "2022-08-28T16:13:25.195Z"
   },
   {
    "duration": 18,
    "start_time": "2022-08-28T16:13:25.220Z"
   },
   {
    "duration": 9,
    "start_time": "2022-08-28T16:13:25.240Z"
   },
   {
    "duration": 120,
    "start_time": "2022-08-28T16:13:25.251Z"
   },
   {
    "duration": 141,
    "start_time": "2022-08-28T16:13:25.373Z"
   },
   {
    "duration": 330,
    "start_time": "2022-08-28T16:13:25.516Z"
   },
   {
    "duration": 13,
    "start_time": "2022-08-28T16:13:25.848Z"
   },
   {
    "duration": 4,
    "start_time": "2022-08-28T16:13:25.862Z"
   },
   {
    "duration": 7,
    "start_time": "2022-08-28T16:13:25.867Z"
   },
   {
    "duration": 28,
    "start_time": "2022-08-28T16:13:25.876Z"
   },
   {
    "duration": 13,
    "start_time": "2022-08-28T16:13:25.905Z"
   },
   {
    "duration": 21,
    "start_time": "2022-08-28T16:13:25.920Z"
   },
   {
    "duration": 15,
    "start_time": "2022-08-28T16:13:25.943Z"
   },
   {
    "duration": 44,
    "start_time": "2022-08-28T16:13:25.960Z"
   },
   {
    "duration": 13,
    "start_time": "2022-08-28T16:13:26.005Z"
   },
   {
    "duration": 41,
    "start_time": "2022-08-28T16:13:26.020Z"
   },
   {
    "duration": 16,
    "start_time": "2022-08-28T16:13:26.064Z"
   },
   {
    "duration": 30,
    "start_time": "2022-08-28T16:13:26.082Z"
   },
   {
    "duration": 6,
    "start_time": "2022-08-28T16:13:26.114Z"
   },
   {
    "duration": 8,
    "start_time": "2022-08-28T16:13:26.125Z"
   },
   {
    "duration": 77,
    "start_time": "2022-08-28T16:13:26.135Z"
   },
   {
    "duration": 3,
    "start_time": "2022-08-28T16:13:26.214Z"
   },
   {
    "duration": 9,
    "start_time": "2022-08-28T16:13:26.218Z"
   },
   {
    "duration": 1299,
    "start_time": "2022-08-28T16:13:26.229Z"
   },
   {
    "duration": 163,
    "start_time": "2022-08-28T16:13:27.530Z"
   },
   {
    "duration": 159,
    "start_time": "2022-08-28T16:13:27.698Z"
   },
   {
    "duration": 175,
    "start_time": "2022-08-28T16:13:27.858Z"
   },
   {
    "duration": 127,
    "start_time": "2022-08-28T16:13:28.035Z"
   },
   {
    "duration": 70,
    "start_time": "2022-08-28T18:41:10.192Z"
   },
   {
    "duration": 850,
    "start_time": "2022-08-28T18:41:15.097Z"
   },
   {
    "duration": 1489,
    "start_time": "2022-08-28T18:41:15.949Z"
   },
   {
    "duration": 87,
    "start_time": "2022-08-28T18:41:17.440Z"
   },
   {
    "duration": 95,
    "start_time": "2022-08-28T18:41:17.530Z"
   },
   {
    "duration": 810,
    "start_time": "2022-08-28T18:41:17.627Z"
   },
   {
    "duration": 293,
    "start_time": "2022-08-28T18:41:18.439Z"
   },
   {
    "duration": 28,
    "start_time": "2022-08-28T18:41:18.733Z"
   },
   {
    "duration": 16,
    "start_time": "2022-08-28T18:41:18.762Z"
   },
   {
    "duration": 46,
    "start_time": "2022-08-28T18:41:18.779Z"
   },
   {
    "duration": 31,
    "start_time": "2022-08-28T18:41:18.829Z"
   },
   {
    "duration": 96,
    "start_time": "2022-08-28T18:41:18.861Z"
   },
   {
    "duration": 7,
    "start_time": "2022-08-28T18:41:18.958Z"
   },
   {
    "duration": 14,
    "start_time": "2022-08-28T18:41:18.966Z"
   },
   {
    "duration": 36,
    "start_time": "2022-08-28T18:41:18.981Z"
   },
   {
    "duration": 12,
    "start_time": "2022-08-28T18:41:19.018Z"
   },
   {
    "duration": 6,
    "start_time": "2022-08-28T18:41:19.032Z"
   },
   {
    "duration": 33,
    "start_time": "2022-08-28T18:41:19.040Z"
   },
   {
    "duration": 32,
    "start_time": "2022-08-28T18:41:19.074Z"
   },
   {
    "duration": 1991,
    "start_time": "2022-08-28T18:41:19.108Z"
   },
   {
    "duration": 53,
    "start_time": "2022-08-28T18:41:21.106Z"
   },
   {
    "duration": 20,
    "start_time": "2022-08-28T18:41:21.161Z"
   },
   {
    "duration": 45,
    "start_time": "2022-08-28T18:41:21.183Z"
   },
   {
    "duration": 25,
    "start_time": "2022-08-28T18:41:21.230Z"
   },
   {
    "duration": 25,
    "start_time": "2022-08-28T18:41:21.256Z"
   },
   {
    "duration": 28,
    "start_time": "2022-08-28T18:41:21.282Z"
   },
   {
    "duration": 15,
    "start_time": "2022-08-28T18:41:21.311Z"
   },
   {
    "duration": 18,
    "start_time": "2022-08-28T18:41:21.327Z"
   },
   {
    "duration": 11,
    "start_time": "2022-08-28T18:41:21.349Z"
   },
   {
    "duration": 10,
    "start_time": "2022-08-28T18:41:21.362Z"
   },
   {
    "duration": 37,
    "start_time": "2022-08-28T18:41:21.374Z"
   },
   {
    "duration": 11,
    "start_time": "2022-08-28T18:41:21.413Z"
   },
   {
    "duration": 7,
    "start_time": "2022-08-28T18:41:21.427Z"
   },
   {
    "duration": 9,
    "start_time": "2022-08-28T18:41:21.436Z"
   },
   {
    "duration": 7,
    "start_time": "2022-08-28T18:41:21.447Z"
   },
   {
    "duration": 198,
    "start_time": "2022-08-28T18:41:21.455Z"
   },
   {
    "duration": 4,
    "start_time": "2022-08-28T18:41:21.655Z"
   },
   {
    "duration": 21,
    "start_time": "2022-08-28T18:41:21.661Z"
   },
   {
    "duration": 322,
    "start_time": "2022-08-28T18:41:21.684Z"
   },
   {
    "duration": 333,
    "start_time": "2022-08-28T18:41:22.009Z"
   },
   {
    "duration": 3,
    "start_time": "2022-08-28T18:41:22.343Z"
   },
   {
    "duration": 16,
    "start_time": "2022-08-28T18:41:22.347Z"
   },
   {
    "duration": 7,
    "start_time": "2022-08-28T18:41:22.364Z"
   },
   {
    "duration": 34,
    "start_time": "2022-08-28T18:41:22.373Z"
   },
   {
    "duration": 24,
    "start_time": "2022-08-28T18:41:22.409Z"
   },
   {
    "duration": 193,
    "start_time": "2022-08-28T18:41:22.435Z"
   },
   {
    "duration": 109,
    "start_time": "2022-08-28T18:41:22.630Z"
   },
   {
    "duration": 3,
    "start_time": "2022-08-28T18:41:22.740Z"
   },
   {
    "duration": 15,
    "start_time": "2022-08-28T18:41:22.744Z"
   },
   {
    "duration": 8,
    "start_time": "2022-08-28T18:41:22.760Z"
   },
   {
    "duration": 38,
    "start_time": "2022-08-28T18:41:22.769Z"
   },
   {
    "duration": 12,
    "start_time": "2022-08-28T18:41:22.809Z"
   },
   {
    "duration": 144,
    "start_time": "2022-08-28T18:41:22.822Z"
   },
   {
    "duration": 139,
    "start_time": "2022-08-28T18:41:22.968Z"
   },
   {
    "duration": 3,
    "start_time": "2022-08-28T18:41:23.109Z"
   },
   {
    "duration": 18,
    "start_time": "2022-08-28T18:41:23.113Z"
   },
   {
    "duration": 8,
    "start_time": "2022-08-28T18:41:23.132Z"
   },
   {
    "duration": 17,
    "start_time": "2022-08-28T18:41:23.141Z"
   },
   {
    "duration": 15,
    "start_time": "2022-08-28T18:41:23.159Z"
   },
   {
    "duration": 169,
    "start_time": "2022-08-28T18:41:23.176Z"
   },
   {
    "duration": 138,
    "start_time": "2022-08-28T18:41:23.346Z"
   },
   {
    "duration": 2,
    "start_time": "2022-08-28T18:41:23.486Z"
   },
   {
    "duration": 25,
    "start_time": "2022-08-28T18:41:23.490Z"
   },
   {
    "duration": 7,
    "start_time": "2022-08-28T18:41:23.517Z"
   },
   {
    "duration": 15,
    "start_time": "2022-08-28T18:41:23.526Z"
   },
   {
    "duration": 9,
    "start_time": "2022-08-28T18:41:23.543Z"
   },
   {
    "duration": 14,
    "start_time": "2022-08-28T18:41:23.554Z"
   },
   {
    "duration": 10,
    "start_time": "2022-08-28T18:41:23.570Z"
   },
   {
    "duration": 151,
    "start_time": "2022-08-28T18:41:23.581Z"
   },
   {
    "duration": 133,
    "start_time": "2022-08-28T18:41:23.734Z"
   },
   {
    "duration": 314,
    "start_time": "2022-08-28T18:41:23.869Z"
   },
   {
    "duration": 21,
    "start_time": "2022-08-28T18:41:24.185Z"
   },
   {
    "duration": 5,
    "start_time": "2022-08-28T18:41:24.208Z"
   },
   {
    "duration": 9,
    "start_time": "2022-08-28T18:41:24.214Z"
   },
   {
    "duration": 7,
    "start_time": "2022-08-28T18:41:24.224Z"
   },
   {
    "duration": 15,
    "start_time": "2022-08-28T18:41:24.232Z"
   },
   {
    "duration": 39,
    "start_time": "2022-08-28T18:41:24.249Z"
   },
   {
    "duration": 92,
    "start_time": "2022-08-28T18:41:24.306Z"
   },
   {
    "duration": 13,
    "start_time": "2022-08-28T18:41:24.406Z"
   },
   {
    "duration": 15,
    "start_time": "2022-08-28T18:41:24.421Z"
   },
   {
    "duration": 27,
    "start_time": "2022-08-28T18:41:24.437Z"
   },
   {
    "duration": 13,
    "start_time": "2022-08-28T18:41:24.465Z"
   },
   {
    "duration": 17,
    "start_time": "2022-08-28T18:41:24.509Z"
   },
   {
    "duration": 4,
    "start_time": "2022-08-28T18:41:24.528Z"
   },
   {
    "duration": 12,
    "start_time": "2022-08-28T18:41:24.533Z"
   },
   {
    "duration": 72,
    "start_time": "2022-08-28T18:41:24.546Z"
   },
   {
    "duration": 3,
    "start_time": "2022-08-28T18:41:24.620Z"
   },
   {
    "duration": 9,
    "start_time": "2022-08-28T18:41:24.624Z"
   },
   {
    "duration": 1411,
    "start_time": "2022-08-28T18:41:24.634Z"
   },
   {
    "duration": 198,
    "start_time": "2022-08-28T18:41:26.047Z"
   },
   {
    "duration": 208,
    "start_time": "2022-08-28T18:41:26.247Z"
   },
   {
    "duration": 181,
    "start_time": "2022-08-28T18:41:26.456Z"
   },
   {
    "duration": 56,
    "start_time": "2022-08-28T18:41:26.638Z"
   },
   {
    "duration": 299,
    "start_time": "2022-08-28T18:43:03.777Z"
   },
   {
    "duration": 361,
    "start_time": "2022-08-28T18:43:04.877Z"
   },
   {
    "duration": 290,
    "start_time": "2022-08-28T18:43:05.685Z"
   },
   {
    "duration": 315,
    "start_time": "2022-08-28T18:43:06.397Z"
   },
   {
    "duration": 376,
    "start_time": "2022-08-28T18:43:07.207Z"
   },
   {
    "duration": 292,
    "start_time": "2022-08-28T18:43:17.581Z"
   },
   {
    "duration": 220,
    "start_time": "2022-08-28T18:43:28.645Z"
   },
   {
    "duration": 185,
    "start_time": "2022-08-28T18:43:34.004Z"
   },
   {
    "duration": 301,
    "start_time": "2022-08-28T18:43:49.755Z"
   },
   {
    "duration": 369,
    "start_time": "2022-08-28T18:43:57.472Z"
   },
   {
    "duration": 291,
    "start_time": "2022-08-28T18:43:58.065Z"
   },
   {
    "duration": 284,
    "start_time": "2022-08-28T18:44:05.184Z"
   },
   {
    "duration": 285,
    "start_time": "2022-08-28T18:44:07.401Z"
   },
   {
    "duration": 60,
    "start_time": "2022-08-29T15:54:31.790Z"
   },
   {
    "duration": 44,
    "start_time": "2022-08-29T15:54:49.663Z"
   },
   {
    "duration": 842,
    "start_time": "2022-08-29T15:54:55.616Z"
   },
   {
    "duration": 976,
    "start_time": "2022-08-29T15:54:56.461Z"
   },
   {
    "duration": 42,
    "start_time": "2022-08-29T15:54:57.439Z"
   },
   {
    "duration": 28,
    "start_time": "2022-08-29T15:54:57.483Z"
   },
   {
    "duration": 592,
    "start_time": "2022-08-29T15:54:57.513Z"
   },
   {
    "duration": 273,
    "start_time": "2022-08-29T15:54:58.107Z"
   },
   {
    "duration": 39,
    "start_time": "2022-08-29T15:54:58.381Z"
   },
   {
    "duration": 18,
    "start_time": "2022-08-29T15:54:58.423Z"
   },
   {
    "duration": 21,
    "start_time": "2022-08-29T15:54:58.442Z"
   },
   {
    "duration": 47,
    "start_time": "2022-08-29T15:54:58.466Z"
   },
   {
    "duration": 98,
    "start_time": "2022-08-29T15:54:58.515Z"
   },
   {
    "duration": 8,
    "start_time": "2022-08-29T15:54:58.615Z"
   },
   {
    "duration": 25,
    "start_time": "2022-08-29T15:54:58.624Z"
   },
   {
    "duration": 20,
    "start_time": "2022-08-29T15:54:58.651Z"
   },
   {
    "duration": 30,
    "start_time": "2022-08-29T15:54:58.673Z"
   },
   {
    "duration": 8,
    "start_time": "2022-08-29T15:54:58.704Z"
   },
   {
    "duration": 35,
    "start_time": "2022-08-29T15:54:58.714Z"
   },
   {
    "duration": 3,
    "start_time": "2022-08-29T15:54:58.751Z"
   },
   {
    "duration": 2409,
    "start_time": "2022-08-29T15:54:58.756Z"
   },
   {
    "duration": 63,
    "start_time": "2022-08-29T15:55:01.167Z"
   },
   {
    "duration": 25,
    "start_time": "2022-08-29T15:55:01.232Z"
   },
   {
    "duration": 49,
    "start_time": "2022-08-29T15:55:01.259Z"
   },
   {
    "duration": 30,
    "start_time": "2022-08-29T15:55:01.310Z"
   },
   {
    "duration": 32,
    "start_time": "2022-08-29T15:55:01.341Z"
   },
   {
    "duration": 41,
    "start_time": "2022-08-29T15:55:01.375Z"
   },
   {
    "duration": 36,
    "start_time": "2022-08-29T15:55:01.417Z"
   },
   {
    "duration": 22,
    "start_time": "2022-08-29T15:55:01.455Z"
   },
   {
    "duration": 11,
    "start_time": "2022-08-29T15:55:01.481Z"
   },
   {
    "duration": 21,
    "start_time": "2022-08-29T15:55:01.494Z"
   },
   {
    "duration": 29,
    "start_time": "2022-08-29T15:55:01.517Z"
   },
   {
    "duration": 30,
    "start_time": "2022-08-29T15:55:01.547Z"
   },
   {
    "duration": 21,
    "start_time": "2022-08-29T15:55:01.579Z"
   },
   {
    "duration": 43,
    "start_time": "2022-08-29T15:55:01.602Z"
   },
   {
    "duration": 26,
    "start_time": "2022-08-29T15:55:01.647Z"
   },
   {
    "duration": 221,
    "start_time": "2022-08-29T15:55:01.674Z"
   },
   {
    "duration": 7,
    "start_time": "2022-08-29T15:55:01.897Z"
   },
   {
    "duration": 44,
    "start_time": "2022-08-29T15:55:01.906Z"
   },
   {
    "duration": 332,
    "start_time": "2022-08-29T15:55:01.951Z"
   },
   {
    "duration": 369,
    "start_time": "2022-08-29T15:55:02.285Z"
   },
   {
    "duration": 432,
    "start_time": "2022-08-29T15:55:02.655Z"
   },
   {
    "duration": 335,
    "start_time": "2022-08-29T15:55:03.089Z"
   },
   {
    "duration": 363,
    "start_time": "2022-08-29T15:55:03.425Z"
   },
   {
    "duration": 455,
    "start_time": "2022-08-29T15:55:03.790Z"
   },
   {
    "duration": 356,
    "start_time": "2022-08-29T15:55:04.247Z"
   },
   {
    "duration": 378,
    "start_time": "2022-08-29T15:55:04.605Z"
   },
   {
    "duration": 34,
    "start_time": "2022-08-29T15:55:04.986Z"
   },
   {
    "duration": 3,
    "start_time": "2022-08-29T15:55:05.022Z"
   },
   {
    "duration": 18,
    "start_time": "2022-08-29T15:55:05.028Z"
   },
   {
    "duration": 22,
    "start_time": "2022-08-29T15:55:05.048Z"
   },
   {
    "duration": 24,
    "start_time": "2022-08-29T15:55:05.071Z"
   },
   {
    "duration": 21,
    "start_time": "2022-08-29T15:55:05.097Z"
   },
   {
    "duration": 148,
    "start_time": "2022-08-29T15:55:05.120Z"
   },
   {
    "duration": 148,
    "start_time": "2022-08-29T15:55:05.270Z"
   },
   {
    "duration": 4,
    "start_time": "2022-08-29T15:55:05.420Z"
   },
   {
    "duration": 20,
    "start_time": "2022-08-29T15:55:05.427Z"
   },
   {
    "duration": 9,
    "start_time": "2022-08-29T15:55:05.449Z"
   },
   {
    "duration": 18,
    "start_time": "2022-08-29T15:55:05.460Z"
   },
   {
    "duration": 34,
    "start_time": "2022-08-29T15:55:05.480Z"
   },
   {
    "duration": 158,
    "start_time": "2022-08-29T15:55:05.516Z"
   },
   {
    "duration": 161,
    "start_time": "2022-08-29T15:55:05.676Z"
   },
   {
    "duration": 4,
    "start_time": "2022-08-29T15:55:05.839Z"
   },
   {
    "duration": 19,
    "start_time": "2022-08-29T15:55:05.845Z"
   },
   {
    "duration": 7,
    "start_time": "2022-08-29T15:55:05.866Z"
   },
   {
    "duration": 32,
    "start_time": "2022-08-29T15:55:05.875Z"
   },
   {
    "duration": 24,
    "start_time": "2022-08-29T15:55:05.909Z"
   },
   {
    "duration": 279,
    "start_time": "2022-08-29T15:55:05.935Z"
   },
   {
    "duration": 154,
    "start_time": "2022-08-29T15:55:06.216Z"
   },
   {
    "duration": 3,
    "start_time": "2022-08-29T15:55:06.372Z"
   },
   {
    "duration": 29,
    "start_time": "2022-08-29T15:55:06.377Z"
   },
   {
    "duration": 12,
    "start_time": "2022-08-29T15:55:06.408Z"
   },
   {
    "duration": 29,
    "start_time": "2022-08-29T15:55:06.422Z"
   },
   {
    "duration": 14,
    "start_time": "2022-08-29T15:55:06.453Z"
   },
   {
    "duration": 18,
    "start_time": "2022-08-29T15:55:06.468Z"
   },
   {
    "duration": 16,
    "start_time": "2022-08-29T15:55:06.488Z"
   },
   {
    "duration": 141,
    "start_time": "2022-08-29T15:55:06.506Z"
   },
   {
    "duration": 165,
    "start_time": "2022-08-29T15:55:06.649Z"
   },
   {
    "duration": 351,
    "start_time": "2022-08-29T15:55:06.816Z"
   },
   {
    "duration": 16,
    "start_time": "2022-08-29T15:55:07.169Z"
   },
   {
    "duration": 18,
    "start_time": "2022-08-29T15:55:07.187Z"
   },
   {
    "duration": 18,
    "start_time": "2022-08-29T15:55:07.206Z"
   },
   {
    "duration": 7,
    "start_time": "2022-08-29T15:55:07.226Z"
   },
   {
    "duration": 14,
    "start_time": "2022-08-29T15:55:07.239Z"
   },
   {
    "duration": 28,
    "start_time": "2022-08-29T15:55:07.255Z"
   },
   {
    "duration": 30,
    "start_time": "2022-08-29T15:55:07.285Z"
   },
   {
    "duration": 12,
    "start_time": "2022-08-29T15:55:07.317Z"
   },
   {
    "duration": 12,
    "start_time": "2022-08-29T15:55:07.331Z"
   },
   {
    "duration": 28,
    "start_time": "2022-08-29T15:55:07.344Z"
   },
   {
    "duration": 42,
    "start_time": "2022-08-29T15:55:07.374Z"
   },
   {
    "duration": 20,
    "start_time": "2022-08-29T15:55:07.418Z"
   },
   {
    "duration": 6,
    "start_time": "2022-08-29T15:55:07.440Z"
   },
   {
    "duration": 17,
    "start_time": "2022-08-29T15:55:07.448Z"
   },
   {
    "duration": 83,
    "start_time": "2022-08-29T15:55:07.467Z"
   },
   {
    "duration": 3,
    "start_time": "2022-08-29T15:55:07.552Z"
   },
   {
    "duration": 9,
    "start_time": "2022-08-29T15:55:07.557Z"
   },
   {
    "duration": 1873,
    "start_time": "2022-08-29T15:55:07.567Z"
   },
   {
    "duration": 587,
    "start_time": "2022-08-29T15:55:09.442Z"
   },
   {
    "duration": 410,
    "start_time": "2022-08-29T15:55:10.030Z"
   },
   {
    "duration": 221,
    "start_time": "2022-08-29T15:55:10.442Z"
   },
   {
    "duration": 53,
    "start_time": "2022-08-29T15:55:10.665Z"
   },
   {
    "duration": 49,
    "start_time": "2022-08-29T15:55:21.777Z"
   },
   {
    "duration": 76,
    "start_time": "2022-08-29T15:55:37.721Z"
   },
   {
    "duration": 33,
    "start_time": "2022-08-29T15:56:08.222Z"
   },
   {
    "duration": 31,
    "start_time": "2022-08-29T15:56:33.260Z"
   },
   {
    "duration": 34,
    "start_time": "2022-08-29T15:56:39.791Z"
   },
   {
    "duration": 32,
    "start_time": "2022-08-29T15:56:58.793Z"
   },
   {
    "duration": 30,
    "start_time": "2022-08-29T16:46:19.233Z"
   },
   {
    "duration": 39,
    "start_time": "2022-08-29T16:46:46.662Z"
   },
   {
    "duration": 35,
    "start_time": "2022-08-29T16:47:07.096Z"
   },
   {
    "duration": 59,
    "start_time": "2022-08-29T16:51:50.336Z"
   },
   {
    "duration": 103,
    "start_time": "2022-08-29T16:54:12.757Z"
   },
   {
    "duration": 5,
    "start_time": "2022-08-29T16:54:54.578Z"
   },
   {
    "duration": 9,
    "start_time": "2022-08-29T17:59:41.804Z"
   },
   {
    "duration": 5,
    "start_time": "2022-08-29T17:59:47.834Z"
   },
   {
    "duration": 6,
    "start_time": "2022-08-29T17:59:55.602Z"
   },
   {
    "duration": 9,
    "start_time": "2022-08-29T18:00:14.193Z"
   },
   {
    "duration": 5,
    "start_time": "2022-08-29T18:00:16.552Z"
   },
   {
    "duration": 7,
    "start_time": "2022-08-29T18:00:16.762Z"
   },
   {
    "duration": 6,
    "start_time": "2022-08-29T18:00:37.338Z"
   },
   {
    "duration": 5,
    "start_time": "2022-08-29T18:00:51.759Z"
   },
   {
    "duration": 820,
    "start_time": "2022-08-29T18:03:20.268Z"
   },
   {
    "duration": 11,
    "start_time": "2022-08-29T18:03:52.008Z"
   },
   {
    "duration": 4,
    "start_time": "2022-08-29T18:04:11.698Z"
   },
   {
    "duration": 3,
    "start_time": "2022-08-29T18:05:17.625Z"
   },
   {
    "duration": 7,
    "start_time": "2022-08-29T18:05:27.286Z"
   },
   {
    "duration": 10,
    "start_time": "2022-08-29T18:06:11.236Z"
   },
   {
    "duration": 10,
    "start_time": "2022-08-29T18:06:18.387Z"
   },
   {
    "duration": 9,
    "start_time": "2022-08-29T18:06:18.653Z"
   },
   {
    "duration": 3,
    "start_time": "2022-08-29T18:06:37.698Z"
   },
   {
    "duration": 7,
    "start_time": "2022-08-29T18:06:38.386Z"
   },
   {
    "duration": 9,
    "start_time": "2022-08-29T18:07:25.895Z"
   },
   {
    "duration": 3,
    "start_time": "2022-08-29T18:07:39.724Z"
   },
   {
    "duration": 3,
    "start_time": "2022-08-29T18:07:46.875Z"
   },
   {
    "duration": 6,
    "start_time": "2022-08-29T18:07:53.429Z"
   },
   {
    "duration": 798,
    "start_time": "2022-08-29T22:50:47.627Z"
   },
   {
    "duration": 1099,
    "start_time": "2022-08-29T22:50:48.427Z"
   },
   {
    "duration": 32,
    "start_time": "2022-08-29T22:50:49.527Z"
   },
   {
    "duration": 22,
    "start_time": "2022-08-29T22:50:49.560Z"
   },
   {
    "duration": 355,
    "start_time": "2022-08-29T22:50:49.584Z"
   },
   {
    "duration": 223,
    "start_time": "2022-08-29T22:50:49.940Z"
   },
   {
    "duration": 22,
    "start_time": "2022-08-29T22:50:50.165Z"
   },
   {
    "duration": 13,
    "start_time": "2022-08-29T22:50:50.188Z"
   },
   {
    "duration": 37,
    "start_time": "2022-08-29T22:50:50.203Z"
   },
   {
    "duration": 18,
    "start_time": "2022-08-29T22:50:50.241Z"
   },
   {
    "duration": 84,
    "start_time": "2022-08-29T22:50:50.260Z"
   },
   {
    "duration": 6,
    "start_time": "2022-08-29T22:50:50.346Z"
   },
   {
    "duration": 10,
    "start_time": "2022-08-29T22:50:50.353Z"
   },
   {
    "duration": 14,
    "start_time": "2022-08-29T22:50:50.366Z"
   },
   {
    "duration": 11,
    "start_time": "2022-08-29T22:50:50.382Z"
   },
   {
    "duration": 7,
    "start_time": "2022-08-29T22:50:50.395Z"
   },
   {
    "duration": 28,
    "start_time": "2022-08-29T22:50:50.431Z"
   },
   {
    "duration": 2,
    "start_time": "2022-08-29T22:50:50.461Z"
   },
   {
    "duration": 1928,
    "start_time": "2022-08-29T22:50:50.464Z"
   },
   {
    "duration": 57,
    "start_time": "2022-08-29T22:50:52.394Z"
   },
   {
    "duration": 23,
    "start_time": "2022-08-29T22:50:52.452Z"
   },
   {
    "duration": 33,
    "start_time": "2022-08-29T22:50:52.477Z"
   },
   {
    "duration": 44,
    "start_time": "2022-08-29T22:50:52.512Z"
   },
   {
    "duration": 30,
    "start_time": "2022-08-29T22:50:52.557Z"
   },
   {
    "duration": 14,
    "start_time": "2022-08-29T22:50:52.588Z"
   },
   {
    "duration": 39,
    "start_time": "2022-08-29T22:50:52.604Z"
   },
   {
    "duration": 18,
    "start_time": "2022-08-29T22:50:52.645Z"
   },
   {
    "duration": 11,
    "start_time": "2022-08-29T22:50:52.664Z"
   },
   {
    "duration": 5,
    "start_time": "2022-08-29T22:50:52.677Z"
   },
   {
    "duration": 7,
    "start_time": "2022-08-29T22:50:52.683Z"
   },
   {
    "duration": 17,
    "start_time": "2022-08-29T22:50:52.692Z"
   },
   {
    "duration": 7,
    "start_time": "2022-08-29T22:50:52.731Z"
   },
   {
    "duration": 12,
    "start_time": "2022-08-29T22:50:52.740Z"
   },
   {
    "duration": 13,
    "start_time": "2022-08-29T22:50:52.754Z"
   },
   {
    "duration": 191,
    "start_time": "2022-08-29T22:50:52.769Z"
   },
   {
    "duration": 5,
    "start_time": "2022-08-29T22:50:52.961Z"
   },
   {
    "duration": 14,
    "start_time": "2022-08-29T22:50:52.967Z"
   },
   {
    "duration": 27,
    "start_time": "2022-08-29T22:50:52.983Z"
   },
   {
    "duration": 45,
    "start_time": "2022-08-29T22:50:53.011Z"
   },
   {
    "duration": 27,
    "start_time": "2022-08-29T22:50:53.057Z"
   },
   {
    "duration": 305,
    "start_time": "2022-08-29T22:50:53.088Z"
   },
   {
    "duration": 302,
    "start_time": "2022-08-29T22:50:53.395Z"
   },
   {
    "duration": 353,
    "start_time": "2022-08-29T22:50:53.698Z"
   },
   {
    "duration": 269,
    "start_time": "2022-08-29T22:50:54.053Z"
   },
   {
    "duration": 274,
    "start_time": "2022-08-29T22:50:54.323Z"
   },
   {
    "duration": 358,
    "start_time": "2022-08-29T22:50:54.599Z"
   },
   {
    "duration": 281,
    "start_time": "2022-08-29T22:50:54.958Z"
   },
   {
    "duration": 278,
    "start_time": "2022-08-29T22:50:55.240Z"
   },
   {
    "duration": 269,
    "start_time": "2022-08-29T22:50:55.519Z"
   },
   {
    "duration": 12,
    "start_time": "2022-08-29T22:50:55.789Z"
   },
   {
    "duration": 18,
    "start_time": "2022-08-29T22:50:55.803Z"
   },
   {
    "duration": 22,
    "start_time": "2022-08-29T22:50:55.822Z"
   },
   {
    "duration": 19,
    "start_time": "2022-08-29T22:50:55.845Z"
   },
   {
    "duration": 42,
    "start_time": "2022-08-29T22:50:55.865Z"
   },
   {
    "duration": 3,
    "start_time": "2022-08-29T22:50:55.908Z"
   },
   {
    "duration": 39,
    "start_time": "2022-08-29T22:50:55.913Z"
   },
   {
    "duration": 31,
    "start_time": "2022-08-29T22:50:55.953Z"
   },
   {
    "duration": 14,
    "start_time": "2022-08-29T22:50:55.985Z"
   },
   {
    "duration": 27,
    "start_time": "2022-08-29T22:50:56.001Z"
   },
   {
    "duration": 14,
    "start_time": "2022-08-29T22:50:56.029Z"
   },
   {
    "duration": 167,
    "start_time": "2022-08-29T22:50:56.044Z"
   },
   {
    "duration": 3,
    "start_time": "2022-08-29T22:50:56.212Z"
   },
   {
    "duration": 16,
    "start_time": "2022-08-29T22:50:56.217Z"
   },
   {
    "duration": 1289,
    "start_time": "2022-08-29T22:50:56.235Z"
   },
   {
    "duration": 190,
    "start_time": "2022-08-29T22:50:57.526Z"
   },
   {
    "duration": 157,
    "start_time": "2022-08-29T22:50:57.718Z"
   },
   {
    "duration": 156,
    "start_time": "2022-08-29T22:50:57.877Z"
   },
   {
    "duration": 51,
    "start_time": "2022-08-29T22:50:58.034Z"
   }
  ],
  "kernelspec": {
   "display_name": "Python 3 (ipykernel)",
   "language": "python",
   "name": "python3"
  },
  "language_info": {
   "codemirror_mode": {
    "name": "ipython",
    "version": 3
   },
   "file_extension": ".py",
   "mimetype": "text/x-python",
   "name": "python",
   "nbconvert_exporter": "python",
   "pygments_lexer": "ipython3",
   "version": "3.9.5"
  },
  "toc": {
   "base_numbering": 1,
   "nav_menu": {},
   "number_sections": true,
   "sideBar": true,
   "skip_h1_title": true,
   "title_cell": "Table of Contents",
   "title_sidebar": "Contents",
   "toc_cell": false,
   "toc_position": {
    "height": "510px",
    "left": "370px",
    "top": "111.125px",
    "width": "304px"
   },
   "toc_section_display": true,
   "toc_window_display": true
  }
 },
 "nbformat": 4,
 "nbformat_minor": 2
}
