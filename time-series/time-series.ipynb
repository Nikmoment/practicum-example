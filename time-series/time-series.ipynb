{
 "cells": [
  {
   "cell_type": "markdown",
   "metadata": {
    "toc": true
   },
   "source": [
    "<h1>Содержание<span class=\"tocSkip\"></span></h1>\n",
    "<div class=\"toc\"><ul class=\"toc-item\"><li><span><a href=\"#Подготовка\" data-toc-modified-id=\"Подготовка-1\"><span class=\"toc-item-num\">1&nbsp;&nbsp;</span>Подготовка</a></span><ul class=\"toc-item\"><li><span><a href=\"#Чтение-данных\" data-toc-modified-id=\"Чтение-данных-1.1\"><span class=\"toc-item-num\">1.1&nbsp;&nbsp;</span>Чтение данных</a></span></li><li><span><a href=\"#Обработка-данных\" data-toc-modified-id=\"Обработка-данных-1.2\"><span class=\"toc-item-num\">1.2&nbsp;&nbsp;</span>Обработка данных</a></span></li></ul></li><li><span><a href=\"#Анализ\" data-toc-modified-id=\"Анализ-2\"><span class=\"toc-item-num\">2&nbsp;&nbsp;</span>Анализ</a></span></li><li><span><a href=\"#Обучение\" data-toc-modified-id=\"Обучение-3\"><span class=\"toc-item-num\">3&nbsp;&nbsp;</span>Обучение</a></span></li><li><span><a href=\"#Тестирование\" data-toc-modified-id=\"Тестирование-4\"><span class=\"toc-item-num\">4&nbsp;&nbsp;</span>Тестирование</a></span></li></ul></div>"
   ]
  },
  {
   "cell_type": "markdown",
   "metadata": {},
   "source": [
    "#  Прогнозирование заказов такси"
   ]
  },
  {
   "cell_type": "markdown",
   "metadata": {},
   "source": [
    "Компания «Чётенькое такси» собрала исторические данные о заказах такси в аэропортах. Чтобы привлекать больше водителей в период пиковой нагрузки, нужно спрогнозировать количество заказов такси на следующий час. Построим модель для такого предсказания.\n",
    "\n",
    "Значение метрики *RMSE* на тестовой выборке должно быть не больше 48.\n",
    "\n",
    "Основные шаги:\n",
    "\n",
    "1. Загрузить данные и выполнить их ресемплирование по одному часу.\n",
    "2. Проанализировать данные.\n",
    "3. Обучить разные модели с различными гиперпараметрами. Сделать тестовую выборку размером 10% от исходных данных.\n",
    "4. Проверить данные на тестовой выборке."
   ]
  },
  {
   "cell_type": "markdown",
   "metadata": {},
   "source": [
    "## Подготовка"
   ]
  },
  {
   "cell_type": "code",
   "execution_count": 1,
   "metadata": {},
   "outputs": [],
   "source": [
    "import pandas as pd\n",
    "import numpy as np\n",
    "import matplotlib.pyplot as plt\n",
    "\n",
    "from sklearn.model_selection import TimeSeriesSplit\n",
    "from statsmodels.tsa.seasonal import seasonal_decompose\n",
    "from sklearn.model_selection import train_test_split, GridSearchCV\n",
    "from sklearn.metrics import mean_squared_error\n",
    "from math import sqrt\n",
    "\n",
    "from catboost import CatBoostRegressor\n",
    "from lightgbm import LGBMRegressor"
   ]
  },
  {
   "cell_type": "markdown",
   "metadata": {},
   "source": [
    "### Чтение данных"
   ]
  },
  {
   "cell_type": "code",
   "execution_count": 2,
   "metadata": {},
   "outputs": [],
   "source": [
    "data = pd.read_csv('/datasets/taxi.csv')"
   ]
  },
  {
   "cell_type": "code",
   "execution_count": 3,
   "metadata": {},
   "outputs": [
    {
     "data": {
      "text/html": [
       "<div>\n",
       "<style scoped>\n",
       "    .dataframe tbody tr th:only-of-type {\n",
       "        vertical-align: middle;\n",
       "    }\n",
       "\n",
       "    .dataframe tbody tr th {\n",
       "        vertical-align: top;\n",
       "    }\n",
       "\n",
       "    .dataframe thead th {\n",
       "        text-align: right;\n",
       "    }\n",
       "</style>\n",
       "<table border=\"1\" class=\"dataframe\">\n",
       "  <thead>\n",
       "    <tr style=\"text-align: right;\">\n",
       "      <th></th>\n",
       "      <th>datetime</th>\n",
       "      <th>num_orders</th>\n",
       "    </tr>\n",
       "  </thead>\n",
       "  <tbody>\n",
       "    <tr>\n",
       "      <th>0</th>\n",
       "      <td>2018-03-01 00:00:00</td>\n",
       "      <td>9</td>\n",
       "    </tr>\n",
       "    <tr>\n",
       "      <th>1</th>\n",
       "      <td>2018-03-01 00:10:00</td>\n",
       "      <td>14</td>\n",
       "    </tr>\n",
       "    <tr>\n",
       "      <th>2</th>\n",
       "      <td>2018-03-01 00:20:00</td>\n",
       "      <td>28</td>\n",
       "    </tr>\n",
       "    <tr>\n",
       "      <th>3</th>\n",
       "      <td>2018-03-01 00:30:00</td>\n",
       "      <td>20</td>\n",
       "    </tr>\n",
       "    <tr>\n",
       "      <th>4</th>\n",
       "      <td>2018-03-01 00:40:00</td>\n",
       "      <td>32</td>\n",
       "    </tr>\n",
       "  </tbody>\n",
       "</table>\n",
       "</div>"
      ],
      "text/plain": [
       "              datetime  num_orders\n",
       "0  2018-03-01 00:00:00           9\n",
       "1  2018-03-01 00:10:00          14\n",
       "2  2018-03-01 00:20:00          28\n",
       "3  2018-03-01 00:30:00          20\n",
       "4  2018-03-01 00:40:00          32"
      ]
     },
     "execution_count": 3,
     "metadata": {},
     "output_type": "execute_result"
    }
   ],
   "source": [
    "data.head()"
   ]
  },
  {
   "cell_type": "code",
   "execution_count": 4,
   "metadata": {},
   "outputs": [
    {
     "name": "stdout",
     "output_type": "stream",
     "text": [
      "<class 'pandas.core.frame.DataFrame'>\n",
      "RangeIndex: 26496 entries, 0 to 26495\n",
      "Data columns (total 2 columns):\n",
      " #   Column      Non-Null Count  Dtype \n",
      "---  ------      --------------  ----- \n",
      " 0   datetime    26496 non-null  object\n",
      " 1   num_orders  26496 non-null  int64 \n",
      "dtypes: int64(1), object(1)\n",
      "memory usage: 414.1+ KB\n"
     ]
    }
   ],
   "source": [
    "data.info()"
   ]
  },
  {
   "cell_type": "markdown",
   "metadata": {},
   "source": [
    "Датасет состоит из 2 колонок и 26496 строк. Колонка `datetime` имеет тип данных object, колонка `num_orders` тип данных int64."
   ]
  },
  {
   "cell_type": "markdown",
   "metadata": {},
   "source": [
    "- **datetime** - значение даты и времени на временной оси;\n",
    "- **num_orders** - количество заказов."
   ]
  },
  {
   "cell_type": "markdown",
   "metadata": {},
   "source": [
    "### Обработка данных"
   ]
  },
  {
   "cell_type": "markdown",
   "metadata": {},
   "source": [
    "Изменим тип данных datetime с object на datetime64"
   ]
  },
  {
   "cell_type": "code",
   "execution_count": 5,
   "metadata": {},
   "outputs": [],
   "source": [
    "data['datetime'] = pd.to_datetime(data['datetime'])"
   ]
  },
  {
   "cell_type": "code",
   "execution_count": 6,
   "metadata": {},
   "outputs": [
    {
     "data": {
      "text/plain": [
       "datetime      datetime64[ns]\n",
       "num_orders             int64\n",
       "dtype: object"
      ]
     },
     "execution_count": 6,
     "metadata": {},
     "output_type": "execute_result"
    }
   ],
   "source": [
    "data.dtypes"
   ]
  },
  {
   "cell_type": "markdown",
   "metadata": {},
   "source": [
    "Проверим таблицу на дубликаты"
   ]
  },
  {
   "cell_type": "code",
   "execution_count": 7,
   "metadata": {},
   "outputs": [
    {
     "data": {
      "text/html": [
       "<div>\n",
       "<style scoped>\n",
       "    .dataframe tbody tr th:only-of-type {\n",
       "        vertical-align: middle;\n",
       "    }\n",
       "\n",
       "    .dataframe tbody tr th {\n",
       "        vertical-align: top;\n",
       "    }\n",
       "\n",
       "    .dataframe thead th {\n",
       "        text-align: right;\n",
       "    }\n",
       "</style>\n",
       "<table border=\"1\" class=\"dataframe\">\n",
       "  <thead>\n",
       "    <tr style=\"text-align: right;\">\n",
       "      <th></th>\n",
       "      <th>datetime</th>\n",
       "      <th>num_orders</th>\n",
       "    </tr>\n",
       "  </thead>\n",
       "  <tbody>\n",
       "  </tbody>\n",
       "</table>\n",
       "</div>"
      ],
      "text/plain": [
       "Empty DataFrame\n",
       "Columns: [datetime, num_orders]\n",
       "Index: []"
      ]
     },
     "execution_count": 7,
     "metadata": {},
     "output_type": "execute_result"
    }
   ],
   "source": [
    "data[data.duplicated() == True]"
   ]
  },
  {
   "cell_type": "markdown",
   "metadata": {},
   "source": [
    "Установим индекс таблицы равным столбцу datetime"
   ]
  },
  {
   "cell_type": "code",
   "execution_count": 8,
   "metadata": {},
   "outputs": [],
   "source": [
    "df = data.set_index('datetime')"
   ]
  },
  {
   "cell_type": "markdown",
   "metadata": {},
   "source": [
    "Проверим, в хронологическом ли порядке расположены даты и время. Если порядок соблюдён, атрибут вернёт True."
   ]
  },
  {
   "cell_type": "code",
   "execution_count": 9,
   "metadata": {},
   "outputs": [
    {
     "data": {
      "text/plain": [
       "True"
      ]
     },
     "execution_count": 9,
     "metadata": {},
     "output_type": "execute_result"
    }
   ],
   "source": [
    "df.index.is_monotonic"
   ]
  },
  {
   "cell_type": "markdown",
   "metadata": {},
   "source": [
    "Проведем ресемплирование по одному часу. В качестве агрегированного значения ряда выберем сумму, так как нам нужно спрогнозировать количество заказов в следующий час."
   ]
  },
  {
   "cell_type": "code",
   "execution_count": 10,
   "metadata": {},
   "outputs": [
    {
     "data": {
      "image/png": "[encoded data removed]",
      "text/plain": [
       "<Figure size 432x288 with 1 Axes>"
      ]
     },
     "metadata": {
      "needs_background": "light"
     },
     "output_type": "display_data"
    }
   ],
   "source": [
    "df = df.resample('1H').sum()\n",
    "df.plot(linewidth=0.3);"
   ]
  },
  {
   "cell_type": "markdown",
   "metadata": {},
   "source": [
    "## Анализ"
   ]
  },
  {
   "cell_type": "markdown",
   "metadata": {},
   "source": [
    "Проверим количество пропусков"
   ]
  },
  {
   "cell_type": "code",
   "execution_count": 11,
   "metadata": {},
   "outputs": [
    {
     "data": {
      "text/plain": [
       "num_orders    0.0\n",
       "dtype: float64"
      ]
     },
     "execution_count": 11,
     "metadata": {},
     "output_type": "execute_result"
    }
   ],
   "source": [
    "df.isna().mean().sort_values(ascending=False)"
   ]
  },
  {
   "cell_type": "markdown",
   "metadata": {},
   "source": [
    "Проведем анализ временного ряда на тренды и сезонность"
   ]
  },
  {
   "cell_type": "code",
   "execution_count": 12,
   "metadata": {},
   "outputs": [
    {
     "data": {
      "image/png": "[encoded data removed]",
      "text/plain": [
       "<Figure size 720x1152 with 2 Axes>"
      ]
     },
     "metadata": {
      "needs_background": "light"
     },
     "output_type": "display_data"
    }
   ],
   "source": [
    "decompose = seasonal_decompose(df['2018-08':'2018-08'])\n",
    "\n",
    "plt.figure(figsize=(10, 16))\n",
    "plt.subplot(311)\n",
    "\n",
    "decompose.trend.plot(ax=plt.gca())\n",
    "plt.title('Trend')\n",
    "plt.subplot(312)\n",
    "\n",
    "decompose.seasonal.plot(ax=plt.gca())\n",
    "plt.title('Seasonality')\n",
    "\n",
    "plt.tight_layout()"
   ]
  },
  {
   "cell_type": "markdown",
   "metadata": {},
   "source": [
    "Тренд показывает линейный рост спроса на такси. Распределение сезонной части выглядит статичным. Рассмотрим сезонность в разрезе одних суток."
   ]
  },
  {
   "cell_type": "code",
   "execution_count": 13,
   "metadata": {},
   "outputs": [
    {
     "data": {
      "image/png": "[encoded data removed]",
      "text/plain": [
       "<Figure size 1080x720 with 1 Axes>"
      ]
     },
     "metadata": {
      "needs_background": "light"
     },
     "output_type": "display_data"
    }
   ],
   "source": [
    "t = df['2018-03-03':'2018-03-04']\n",
    "decompose = seasonal_decompose(t)\n",
    "plt.figure(figsize=(15, 10))\n",
    "\n",
    "plt.subplot(311)\n",
    "decompose.seasonal.plot(ax=plt.gca())\n",
    "plt.title('Seasonality')\n",
    "plt.tight_layout()"
   ]
  },
  {
   "cell_type": "markdown",
   "metadata": {},
   "source": [
    "Мы наблюдаем повышенный спрос на такси в период с 15:00 до 00:00 и падение спроса в утренние часы."
   ]
  },
  {
   "cell_type": "markdown",
   "metadata": {},
   "source": [
    "Рассмотрим гистограмму"
   ]
  },
  {
   "cell_type": "code",
   "execution_count": 14,
   "metadata": {},
   "outputs": [
    {
     "data": {
      "image/png": "[encoded data removed]",
      "text/plain": [
       "<Figure size 432x288 with 1 Axes>"
      ]
     },
     "metadata": {
      "needs_background": "light"
     },
     "output_type": "display_data"
    }
   ],
   "source": [
    "df['num_orders'].hist().set(title='Заказы такси в аэропортах', xlabel='Количество заказов', ylabel='Частота');"
   ]
  },
  {
   "cell_type": "markdown",
   "metadata": {},
   "source": [
    "Мы видим график с некоторым количеством аномально больших значений. Заменим значения равные или выше девяносто пятого процентиля на предыдущее."
   ]
  },
  {
   "cell_type": "code",
   "execution_count": 15,
   "metadata": {},
   "outputs": [],
   "source": [
    "for i in range(len(df)):\n",
    "    q = df['num_orders'].quantile(0.95)\n",
    "    if df['num_orders'][i] >= q:\n",
    "        df.iloc[i] = df.iloc[i-1]   "
   ]
  },
  {
   "cell_type": "code",
   "execution_count": 16,
   "metadata": {},
   "outputs": [
    {
     "data": {
      "image/png": "[encoded data removed]",
      "text/plain": [
       "<Figure size 432x288 with 1 Axes>"
      ]
     },
     "metadata": {
      "needs_background": "light"
     },
     "output_type": "display_data"
    }
   ],
   "source": [
    "df['num_orders'].hist().set(title='Заказы такси в аэропортах', xlabel='Количество заказов', ylabel='Частота');"
   ]
  },
  {
   "cell_type": "markdown",
   "metadata": {},
   "source": [
    "Ситуация улучшилась, мы видим нормальное распределение."
   ]
  },
  {
   "cell_type": "markdown",
   "metadata": {},
   "source": [
    "## Обучение"
   ]
  },
  {
   "cell_type": "markdown",
   "metadata": {},
   "source": [
    "Напием функцию make_features(), чтобы прибавить к таблице четыре новых календарных признака (год, месяц, день и день недели), \n",
    "вычислить отстающие значения, вычислить скользящее среднее."
   ]
  },
  {
   "cell_type": "code",
   "execution_count": 17,
   "metadata": {},
   "outputs": [],
   "source": [
    "def make_features(df, max_lag, rolling_mean_size):\n",
    "    df['dayofweek'] = df.index.dayofweek\n",
    "    \n",
    "    for lag in range(1, max_lag + 1):\n",
    "        df['lag_{}'.format(lag)] = df['num_orders'].shift(lag)\n",
    "\n",
    "    df['rolling_mean'] = df['num_orders'].shift().rolling(rolling_mean_size).mean()\n"
   ]
  },
  {
   "cell_type": "code",
   "execution_count": 18,
   "metadata": {
    "scrolled": true
   },
   "outputs": [],
   "source": [
    "make_features(df, 5, 5)"
   ]
  },
  {
   "cell_type": "code",
   "execution_count": 22,
   "metadata": {},
   "outputs": [
    {
     "data": {
      "text/html": [
       "<div>\n",
       "<style scoped>\n",
       "    .dataframe tbody tr th:only-of-type {\n",
       "        vertical-align: middle;\n",
       "    }\n",
       "\n",
       "    .dataframe tbody tr th {\n",
       "        vertical-align: top;\n",
       "    }\n",
       "\n",
       "    .dataframe thead th {\n",
       "        text-align: right;\n",
       "    }\n",
       "</style>\n",
       "<table border=\"1\" class=\"dataframe\">\n",
       "  <thead>\n",
       "    <tr style=\"text-align: right;\">\n",
       "      <th></th>\n",
       "      <th>num_orders</th>\n",
       "      <th>dayofweek</th>\n",
       "      <th>lag_1</th>\n",
       "      <th>lag_2</th>\n",
       "      <th>lag_3</th>\n",
       "      <th>lag_4</th>\n",
       "      <th>lag_5</th>\n",
       "      <th>rolling_mean</th>\n",
       "    </tr>\n",
       "    <tr>\n",
       "      <th>datetime</th>\n",
       "      <th></th>\n",
       "      <th></th>\n",
       "      <th></th>\n",
       "      <th></th>\n",
       "      <th></th>\n",
       "      <th></th>\n",
       "      <th></th>\n",
       "      <th></th>\n",
       "    </tr>\n",
       "  </thead>\n",
       "  <tbody>\n",
       "    <tr>\n",
       "      <th>2018-03-01 00:00:00</th>\n",
       "      <td>124</td>\n",
       "      <td>3</td>\n",
       "      <td>NaN</td>\n",
       "      <td>NaN</td>\n",
       "      <td>NaN</td>\n",
       "      <td>NaN</td>\n",
       "      <td>NaN</td>\n",
       "      <td>NaN</td>\n",
       "    </tr>\n",
       "    <tr>\n",
       "      <th>2018-03-01 01:00:00</th>\n",
       "      <td>85</td>\n",
       "      <td>3</td>\n",
       "      <td>124.0</td>\n",
       "      <td>NaN</td>\n",
       "      <td>NaN</td>\n",
       "      <td>NaN</td>\n",
       "      <td>NaN</td>\n",
       "      <td>NaN</td>\n",
       "    </tr>\n",
       "    <tr>\n",
       "      <th>2018-03-01 02:00:00</th>\n",
       "      <td>71</td>\n",
       "      <td>3</td>\n",
       "      <td>85.0</td>\n",
       "      <td>124.0</td>\n",
       "      <td>NaN</td>\n",
       "      <td>NaN</td>\n",
       "      <td>NaN</td>\n",
       "      <td>NaN</td>\n",
       "    </tr>\n",
       "    <tr>\n",
       "      <th>2018-03-01 03:00:00</th>\n",
       "      <td>66</td>\n",
       "      <td>3</td>\n",
       "      <td>71.0</td>\n",
       "      <td>85.0</td>\n",
       "      <td>124.0</td>\n",
       "      <td>NaN</td>\n",
       "      <td>NaN</td>\n",
       "      <td>NaN</td>\n",
       "    </tr>\n",
       "    <tr>\n",
       "      <th>2018-03-01 04:00:00</th>\n",
       "      <td>43</td>\n",
       "      <td>3</td>\n",
       "      <td>66.0</td>\n",
       "      <td>71.0</td>\n",
       "      <td>85.0</td>\n",
       "      <td>124.0</td>\n",
       "      <td>NaN</td>\n",
       "      <td>NaN</td>\n",
       "    </tr>\n",
       "  </tbody>\n",
       "</table>\n",
       "</div>"
      ],
      "text/plain": [
       "                     num_orders  dayofweek  lag_1  lag_2  lag_3  lag_4  lag_5  \\\n",
       "datetime                                                                        \n",
       "2018-03-01 00:00:00         124          3    NaN    NaN    NaN    NaN    NaN   \n",
       "2018-03-01 01:00:00          85          3  124.0    NaN    NaN    NaN    NaN   \n",
       "2018-03-01 02:00:00          71          3   85.0  124.0    NaN    NaN    NaN   \n",
       "2018-03-01 03:00:00          66          3   71.0   85.0  124.0    NaN    NaN   \n",
       "2018-03-01 04:00:00          43          3   66.0   71.0   85.0  124.0    NaN   \n",
       "\n",
       "                     rolling_mean  \n",
       "datetime                           \n",
       "2018-03-01 00:00:00           NaN  \n",
       "2018-03-01 01:00:00           NaN  \n",
       "2018-03-01 02:00:00           NaN  \n",
       "2018-03-01 03:00:00           NaN  \n",
       "2018-03-01 04:00:00           NaN  "
      ]
     },
     "execution_count": 22,
     "metadata": {},
     "output_type": "execute_result"
    }
   ],
   "source": [
    "df.head()"
   ]
  },
  {
   "cell_type": "markdown",
   "metadata": {},
   "source": [
    "Разбьем датасет на обучающую и тестовую выборки. Тестовая выборка равна 10% от исходных данных."
   ]
  },
  {
   "cell_type": "code",
   "execution_count": 19,
   "metadata": {},
   "outputs": [],
   "source": [
    "train, test = train_test_split(df, shuffle=False, test_size=0.1)\n",
    "train = train.dropna()"
   ]
  },
  {
   "cell_type": "code",
   "execution_count": 20,
   "metadata": {},
   "outputs": [],
   "source": [
    "train_x = train.drop('num_orders', axis=1)\n",
    "train_y = train['num_orders']"
   ]
  },
  {
   "cell_type": "code",
   "execution_count": 21,
   "metadata": {},
   "outputs": [],
   "source": [
    "test_x = test.drop('num_orders', axis=1)\n",
    "test_y = test['num_orders']"
   ]
  },
  {
   "cell_type": "markdown",
   "metadata": {},
   "source": [
    "- **CatBoost**"
   ]
  },
  {
   "cell_type": "code",
   "execution_count": null,
   "metadata": {},
   "outputs": [],
   "source": [
    "model_cat = CatBoostRegressor(random_seed=12345)"
   ]
  },
  {
   "cell_type": "code",
   "execution_count": null,
   "metadata": {},
   "outputs": [],
   "source": [
    "parameters_cat = {\n",
    "    'iterations': [300, 750],\n",
    "    'depth': [6, 10]\n",
    "}"
   ]
  },
  {
   "cell_type": "markdown",
   "metadata": {},
   "source": [
    ".Выберем дефолтное значение n_splits=5"
   ]
  },
  {
   "cell_type": "code",
   "execution_count": null,
   "metadata": {},
   "outputs": [],
   "source": [
    "tscv = TimeSeriesSplit(n_splits=5)\n",
    "cat_gbm =  GridSearchCV(model_cat,parameters_cat, cv=tscv, scoring='neg_root_mean_squared_error',verbose=10, n_jobs=-1)"
   ]
  },
  {
   "cell_type": "code",
   "execution_count": null,
   "metadata": {},
   "outputs": [],
   "source": [
    "cat_gbm.fit(train_x, train_y)"
   ]
  },
  {
   "cell_type": "code",
   "execution_count": null,
   "metadata": {},
   "outputs": [],
   "source": [
    "prediction_cat = cat_gbm.predict(train_x)"
   ]
  },
  {
   "cell_type": "code",
   "execution_count": null,
   "metadata": {},
   "outputs": [],
   "source": [
    "sqrt(mean_squared_error(train_y, prediction_cat)) "
   ]
  },
  {
   "cell_type": "code",
   "execution_count": null,
   "metadata": {},
   "outputs": [],
   "source": [
    "cat_gbm.best_score_"
   ]
  },
  {
   "cell_type": "markdown",
   "metadata": {},
   "source": [
    "- **LightGBM**"
   ]
  },
  {
   "cell_type": "code",
   "execution_count": null,
   "metadata": {},
   "outputs": [],
   "source": [
    "model_lgbm = LGBMRegressor(random_state=12345)"
   ]
  },
  {
   "cell_type": "code",
   "execution_count": null,
   "metadata": {},
   "outputs": [],
   "source": [
    "parameters = {\n",
    "    'max_depth' : [2, 5, 10],\n",
    "    'num_leaves' : [50, 60]\n",
    "}"
   ]
  },
  {
   "cell_type": "code",
   "execution_count": null,
   "metadata": {},
   "outputs": [],
   "source": [
    "tscv = TimeSeriesSplit(n_splits=5)\n",
    "gs_gbm = GridSearchCV(model_lgbm,parameters, cv=tscv, scoring='neg_root_mean_squared_error', verbose=10, n_jobs=-1)"
   ]
  },
  {
   "cell_type": "code",
   "execution_count": null,
   "metadata": {
    "scrolled": true
   },
   "outputs": [],
   "source": [
    "gs_gbm.fit(train_x, train_y)"
   ]
  },
  {
   "cell_type": "code",
   "execution_count": null,
   "metadata": {},
   "outputs": [],
   "source": [
    "prediction_lgbm = gs_gbm.predict(train_x)"
   ]
  },
  {
   "cell_type": "code",
   "execution_count": null,
   "metadata": {},
   "outputs": [],
   "source": [
    "sqrt(mean_squared_error(train_y, prediction_lgbm)) "
   ]
  },
  {
   "cell_type": "code",
   "execution_count": null,
   "metadata": {},
   "outputs": [],
   "source": [
    "gs_gbm.best_score_"
   ]
  },
  {
   "cell_type": "markdown",
   "metadata": {},
   "source": [
    "## Тестирование"
   ]
  },
  {
   "cell_type": "markdown",
   "metadata": {},
   "source": [
    "Модель CatBoost показала лучший результат на тренировочной выборке. Используем эту модель для оценки тестовой выборки."
   ]
  },
  {
   "cell_type": "code",
   "execution_count": null,
   "metadata": {},
   "outputs": [],
   "source": [
    "prediction_lgbm_test = gs_gbm.predict(test_x)"
   ]
  },
  {
   "cell_type": "code",
   "execution_count": null,
   "metadata": {},
   "outputs": [],
   "source": [
    "sqrt(mean_squared_error(test_y, prediction_lgbm_test)) "
   ]
  },
  {
   "cell_type": "markdown",
   "metadata": {},
   "source": [
    "В ходе работы, мы загрузили данные, выполнили ресемплирование по одному часу, Проанализировали данные, убрали аномальные значения.\n",
    "На следующем этапе мы обучили модели CatBoost, LightGBM и подобрали к ним оптимальные гиперпараметры с помощью grid search. Параметры мы подбирали опираясь на метрику RMSE и с помощью нее же оценивали прогноз. Показатель модели CatBoost оказался хуже модели LightGBM (наилучший результат 29.34 против 28.74 соответственно). Прогноз на тестовой выборке мы делали с помощью модели CatBoost. Результат удовлетворяет поставленному условию (27.14 <= 48)."
   ]
  }
 ],
 "metadata": {
  "ExecuteTimeLog": [
   {
    "duration": 410,
    "start_time": "2023-05-24T13:33:02.208Z"
   },
   {
    "duration": 3,
    "start_time": "2023-05-24T13:33:17.065Z"
   },
   {
    "duration": 187,
    "start_time": "2023-05-24T13:33:32.138Z"
   },
   {
    "duration": 18,
    "start_time": "2023-05-24T13:33:40.402Z"
   },
   {
    "duration": 8,
    "start_time": "2023-05-24T13:34:01.262Z"
   },
   {
    "duration": 6,
    "start_time": "2023-05-24T13:34:01.677Z"
   },
   {
    "duration": 16,
    "start_time": "2023-05-24T13:34:30.565Z"
   },
   {
    "duration": 14,
    "start_time": "2023-05-24T13:35:57.944Z"
   },
   {
    "duration": 12,
    "start_time": "2023-05-24T13:37:06.298Z"
   },
   {
    "duration": 4,
    "start_time": "2023-05-24T13:37:19.373Z"
   },
   {
    "duration": 10,
    "start_time": "2023-05-24T13:37:25.438Z"
   },
   {
    "duration": 67,
    "start_time": "2023-05-24T13:37:31.183Z"
   },
   {
    "duration": 1399,
    "start_time": "2023-05-24T13:37:34.449Z"
   },
   {
    "duration": 0,
    "start_time": "2023-05-24T13:37:35.849Z"
   },
   {
    "duration": 0,
    "start_time": "2023-05-24T13:37:35.850Z"
   },
   {
    "duration": 2,
    "start_time": "2023-05-24T13:37:49.274Z"
   },
   {
    "duration": 44,
    "start_time": "2023-05-24T13:37:49.421Z"
   },
   {
    "duration": 8,
    "start_time": "2023-05-24T13:37:49.574Z"
   },
   {
    "duration": 6,
    "start_time": "2023-05-24T13:37:50.127Z"
   },
   {
    "duration": 9,
    "start_time": "2023-05-24T13:38:24.197Z"
   },
   {
    "duration": 4,
    "start_time": "2023-05-24T13:38:26.802Z"
   },
   {
    "duration": 5,
    "start_time": "2023-05-24T13:38:37.690Z"
   },
   {
    "duration": 47,
    "start_time": "2023-05-24T13:39:09.920Z"
   },
   {
    "duration": 10,
    "start_time": "2023-05-24T13:39:10.465Z"
   },
   {
    "duration": 43,
    "start_time": "2023-05-24T13:39:17.422Z"
   },
   {
    "duration": 8,
    "start_time": "2023-05-24T13:39:17.762Z"
   },
   {
    "duration": 6,
    "start_time": "2023-05-24T13:39:18.414Z"
   },
   {
    "duration": 9,
    "start_time": "2023-05-24T13:39:18.654Z"
   },
   {
    "duration": 4,
    "start_time": "2023-05-24T13:39:19.303Z"
   },
   {
    "duration": 4,
    "start_time": "2023-05-24T13:39:42.361Z"
   },
   {
    "duration": 11,
    "start_time": "2023-05-24T13:40:02.565Z"
   },
   {
    "duration": 44,
    "start_time": "2023-05-24T13:40:17.490Z"
   },
   {
    "duration": 8,
    "start_time": "2023-05-24T13:40:17.665Z"
   },
   {
    "duration": 6,
    "start_time": "2023-05-24T13:40:17.810Z"
   },
   {
    "duration": 9,
    "start_time": "2023-05-24T13:40:18.186Z"
   },
   {
    "duration": 4,
    "start_time": "2023-05-24T13:40:18.566Z"
   },
   {
    "duration": 9,
    "start_time": "2023-05-24T13:40:19.982Z"
   },
   {
    "duration": 4,
    "start_time": "2023-05-24T13:40:38.201Z"
   },
   {
    "duration": 890,
    "start_time": "2023-05-24T13:42:48.881Z"
   },
   {
    "duration": 232,
    "start_time": "2023-05-24T13:43:33.515Z"
   },
   {
    "duration": 14,
    "start_time": "2023-05-24T13:43:49.466Z"
   },
   {
    "duration": 13,
    "start_time": "2023-05-24T13:44:12.088Z"
   },
   {
    "duration": 44,
    "start_time": "2023-05-24T13:44:16.575Z"
   },
   {
    "duration": 9,
    "start_time": "2023-05-24T13:44:16.799Z"
   },
   {
    "duration": 5,
    "start_time": "2023-05-24T13:44:17.408Z"
   },
   {
    "duration": 11,
    "start_time": "2023-05-24T13:44:17.904Z"
   },
   {
    "duration": 14,
    "start_time": "2023-05-24T13:44:18.487Z"
   },
   {
    "duration": 8,
    "start_time": "2023-05-24T13:44:39.357Z"
   },
   {
    "duration": 3,
    "start_time": "2023-05-24T13:44:45.109Z"
   },
   {
    "duration": 44,
    "start_time": "2023-05-24T13:44:45.285Z"
   },
   {
    "duration": 7,
    "start_time": "2023-05-24T13:44:45.398Z"
   },
   {
    "duration": 6,
    "start_time": "2023-05-24T13:44:45.565Z"
   },
   {
    "duration": 9,
    "start_time": "2023-05-24T13:44:45.685Z"
   },
   {
    "duration": 14,
    "start_time": "2023-05-24T13:44:45.861Z"
   },
   {
    "duration": 5,
    "start_time": "2023-05-24T13:44:45.990Z"
   },
   {
    "duration": 5,
    "start_time": "2023-05-24T13:44:46.153Z"
   },
   {
    "duration": 304,
    "start_time": "2023-05-24T13:44:46.318Z"
   },
   {
    "duration": 8,
    "start_time": "2023-05-24T13:44:46.917Z"
   },
   {
    "duration": 1609,
    "start_time": "2023-05-24T13:45:33.291Z"
   },
   {
    "duration": 167,
    "start_time": "2023-05-24T13:45:42.106Z"
   },
   {
    "duration": 202,
    "start_time": "2023-05-24T13:49:15.960Z"
   },
   {
    "duration": 157,
    "start_time": "2023-05-24T13:49:22.201Z"
   },
   {
    "duration": 173,
    "start_time": "2023-05-24T13:49:26.560Z"
   },
   {
    "duration": 5,
    "start_time": "2023-05-24T13:49:59.406Z"
   },
   {
    "duration": 147,
    "start_time": "2023-05-24T13:50:02.590Z"
   },
   {
    "duration": 148,
    "start_time": "2023-05-24T13:50:11.693Z"
   },
   {
    "duration": 4,
    "start_time": "2023-05-24T13:51:32.775Z"
   },
   {
    "duration": 45,
    "start_time": "2023-05-24T13:51:32.958Z"
   },
   {
    "duration": 8,
    "start_time": "2023-05-24T13:51:33.068Z"
   },
   {
    "duration": 6,
    "start_time": "2023-05-24T13:51:33.214Z"
   },
   {
    "duration": 9,
    "start_time": "2023-05-24T13:51:33.372Z"
   },
   {
    "duration": 15,
    "start_time": "2023-05-24T13:51:33.553Z"
   },
   {
    "duration": 5,
    "start_time": "2023-05-24T13:51:33.750Z"
   },
   {
    "duration": 5,
    "start_time": "2023-05-24T13:51:33.910Z"
   },
   {
    "duration": 230,
    "start_time": "2023-05-24T13:51:34.103Z"
   },
   {
    "duration": 9,
    "start_time": "2023-05-24T13:51:35.850Z"
   },
   {
    "duration": 174,
    "start_time": "2023-05-24T13:51:36.022Z"
   },
   {
    "duration": 5,
    "start_time": "2023-05-24T13:51:37.285Z"
   },
   {
    "duration": 230,
    "start_time": "2023-05-24T13:51:37.478Z"
   },
   {
    "duration": 158,
    "start_time": "2023-05-24T13:51:44.073Z"
   },
   {
    "duration": 5,
    "start_time": "2023-05-24T13:51:45.009Z"
   },
   {
    "duration": 156,
    "start_time": "2023-05-24T13:51:45.273Z"
   },
   {
    "duration": 7,
    "start_time": "2023-05-24T13:52:30.123Z"
   },
   {
    "duration": 161,
    "start_time": "2023-05-24T13:52:32.490Z"
   },
   {
    "duration": 4,
    "start_time": "2023-05-24T13:53:15.382Z"
   },
   {
    "duration": 8,
    "start_time": "2023-05-24T13:53:48.171Z"
   },
   {
    "duration": 835,
    "start_time": "2023-05-24T13:54:07.164Z"
   },
   {
    "duration": 9,
    "start_time": "2023-05-24T13:54:11.052Z"
   },
   {
    "duration": 3,
    "start_time": "2023-05-24T13:54:19.322Z"
   },
   {
    "duration": 45,
    "start_time": "2023-05-24T13:54:19.585Z"
   },
   {
    "duration": 7,
    "start_time": "2023-05-24T13:54:19.758Z"
   },
   {
    "duration": 6,
    "start_time": "2023-05-24T13:54:19.863Z"
   },
   {
    "duration": 10,
    "start_time": "2023-05-24T13:54:19.993Z"
   },
   {
    "duration": 12,
    "start_time": "2023-05-24T13:54:20.153Z"
   },
   {
    "duration": 4,
    "start_time": "2023-05-24T13:54:20.297Z"
   },
   {
    "duration": 5,
    "start_time": "2023-05-24T13:54:20.453Z"
   },
   {
    "duration": 225,
    "start_time": "2023-05-24T13:54:20.608Z"
   },
   {
    "duration": 7,
    "start_time": "2023-05-24T13:54:20.962Z"
   },
   {
    "duration": 156,
    "start_time": "2023-05-24T13:54:21.089Z"
   },
   {
    "duration": 5,
    "start_time": "2023-05-24T13:54:21.273Z"
   },
   {
    "duration": 166,
    "start_time": "2023-05-24T13:54:21.464Z"
   },
   {
    "duration": 6,
    "start_time": "2023-05-24T13:54:21.766Z"
   },
   {
    "duration": 5,
    "start_time": "2023-05-24T13:54:22.497Z"
   },
   {
    "duration": 7,
    "start_time": "2023-05-24T13:54:22.760Z"
   },
   {
    "duration": 5,
    "start_time": "2023-05-24T13:55:05.365Z"
   },
   {
    "duration": 141,
    "start_time": "2023-05-24T13:55:09.902Z"
   },
   {
    "duration": 5,
    "start_time": "2023-05-24T13:56:04.505Z"
   },
   {
    "duration": 12,
    "start_time": "2023-05-24T13:56:04.689Z"
   },
   {
    "duration": 8,
    "start_time": "2023-05-24T13:56:04.868Z"
   },
   {
    "duration": 1211,
    "start_time": "2023-05-24T13:56:09.481Z"
   },
   {
    "duration": 0,
    "start_time": "2023-05-24T13:56:10.694Z"
   },
   {
    "duration": 0,
    "start_time": "2023-05-24T13:56:10.695Z"
   },
   {
    "duration": 0,
    "start_time": "2023-05-24T13:56:10.696Z"
   },
   {
    "duration": 4,
    "start_time": "2023-05-24T13:56:32.654Z"
   },
   {
    "duration": 14,
    "start_time": "2023-05-24T13:56:32.872Z"
   },
   {
    "duration": 9,
    "start_time": "2023-05-24T13:56:33.169Z"
   },
   {
    "duration": 6,
    "start_time": "2023-05-24T13:56:33.407Z"
   },
   {
    "duration": 9,
    "start_time": "2023-05-24T13:56:33.865Z"
   },
   {
    "duration": 9,
    "start_time": "2023-05-24T13:56:44.694Z"
   },
   {
    "duration": 3,
    "start_time": "2023-05-24T13:57:31.361Z"
   },
   {
    "duration": 11,
    "start_time": "2023-05-24T13:57:55.665Z"
   },
   {
    "duration": 3,
    "start_time": "2023-05-24T13:58:30.457Z"
   },
   {
    "duration": 5,
    "start_time": "2023-05-24T13:58:34.766Z"
   },
   {
    "duration": 18,
    "start_time": "2023-05-24T13:58:48.471Z"
   },
   {
    "duration": 4,
    "start_time": "2023-05-24T13:59:17.065Z"
   },
   {
    "duration": 45,
    "start_time": "2023-05-24T13:59:17.218Z"
   },
   {
    "duration": 8,
    "start_time": "2023-05-24T13:59:17.389Z"
   },
   {
    "duration": 6,
    "start_time": "2023-05-24T13:59:17.515Z"
   },
   {
    "duration": 9,
    "start_time": "2023-05-24T13:59:17.653Z"
   },
   {
    "duration": 13,
    "start_time": "2023-05-24T13:59:17.787Z"
   },
   {
    "duration": 5,
    "start_time": "2023-05-24T13:59:17.922Z"
   },
   {
    "duration": 5,
    "start_time": "2023-05-24T13:59:18.074Z"
   },
   {
    "duration": 230,
    "start_time": "2023-05-24T13:59:18.211Z"
   },
   {
    "duration": 7,
    "start_time": "2023-05-24T13:59:18.514Z"
   },
   {
    "duration": 155,
    "start_time": "2023-05-24T13:59:18.674Z"
   },
   {
    "duration": 5,
    "start_time": "2023-05-24T13:59:18.867Z"
   },
   {
    "duration": 160,
    "start_time": "2023-05-24T13:59:19.002Z"
   },
   {
    "duration": 7,
    "start_time": "2023-05-24T13:59:19.174Z"
   },
   {
    "duration": 4,
    "start_time": "2023-05-24T13:59:19.490Z"
   },
   {
    "duration": 15,
    "start_time": "2023-05-24T13:59:19.665Z"
   },
   {
    "duration": 9,
    "start_time": "2023-05-24T13:59:19.817Z"
   },
   {
    "duration": 6,
    "start_time": "2023-05-24T13:59:19.978Z"
   },
   {
    "duration": 8,
    "start_time": "2023-05-24T13:59:20.157Z"
   },
   {
    "duration": 62,
    "start_time": "2023-05-24T13:59:20.313Z"
   },
   {
    "duration": 6,
    "start_time": "2023-05-24T13:59:20.481Z"
   },
   {
    "duration": 16,
    "start_time": "2023-05-24T13:59:20.817Z"
   },
   {
    "duration": 30,
    "start_time": "2023-05-24T13:59:40.459Z"
   },
   {
    "duration": 4,
    "start_time": "2023-05-24T14:00:04.064Z"
   },
   {
    "duration": 46,
    "start_time": "2023-05-24T14:00:04.190Z"
   },
   {
    "duration": 9,
    "start_time": "2023-05-24T14:00:04.365Z"
   },
   {
    "duration": 7,
    "start_time": "2023-05-24T14:00:04.478Z"
   },
   {
    "duration": 10,
    "start_time": "2023-05-24T14:00:04.623Z"
   },
   {
    "duration": 14,
    "start_time": "2023-05-24T14:00:04.767Z"
   },
   {
    "duration": 5,
    "start_time": "2023-05-24T14:00:04.911Z"
   },
   {
    "duration": 5,
    "start_time": "2023-05-24T14:00:05.062Z"
   },
   {
    "duration": 354,
    "start_time": "2023-05-24T14:00:05.190Z"
   },
   {
    "duration": 7,
    "start_time": "2023-05-24T14:00:05.547Z"
   },
   {
    "duration": 165,
    "start_time": "2023-05-24T14:00:05.683Z"
   },
   {
    "duration": 5,
    "start_time": "2023-05-24T14:00:05.852Z"
   },
   {
    "duration": 204,
    "start_time": "2023-05-24T14:00:06.005Z"
   },
   {
    "duration": 7,
    "start_time": "2023-05-24T14:00:06.213Z"
   },
   {
    "duration": 6,
    "start_time": "2023-05-24T14:00:06.470Z"
   },
   {
    "duration": 10,
    "start_time": "2023-05-24T14:00:06.665Z"
   },
   {
    "duration": 9,
    "start_time": "2023-05-24T14:00:06.816Z"
   },
   {
    "duration": 6,
    "start_time": "2023-05-24T14:00:06.990Z"
   },
   {
    "duration": 7,
    "start_time": "2023-05-24T14:00:07.163Z"
   },
   {
    "duration": 9,
    "start_time": "2023-05-24T14:00:07.318Z"
   },
   {
    "duration": 6,
    "start_time": "2023-05-24T14:00:07.503Z"
   },
   {
    "duration": 18,
    "start_time": "2023-05-24T14:00:08.571Z"
   },
   {
    "duration": 26,
    "start_time": "2023-05-24T14:00:09.268Z"
   },
   {
    "duration": 18,
    "start_time": "2023-05-24T14:02:15.285Z"
   },
   {
    "duration": 17,
    "start_time": "2023-05-24T14:02:21.669Z"
   },
   {
    "duration": 16,
    "start_time": "2023-05-24T14:02:33.116Z"
   },
   {
    "duration": 6,
    "start_time": "2023-05-24T14:02:43.573Z"
   },
   {
    "duration": 18,
    "start_time": "2023-05-24T14:02:44.194Z"
   },
   {
    "duration": 19,
    "start_time": "2023-05-24T14:02:53.313Z"
   },
   {
    "duration": 17,
    "start_time": "2023-05-24T14:03:04.793Z"
   },
   {
    "duration": 1097,
    "start_time": "2023-05-24T14:03:18.425Z"
   },
   {
    "duration": 51,
    "start_time": "2023-05-24T14:03:19.524Z"
   },
   {
    "duration": 15,
    "start_time": "2023-05-24T14:03:19.577Z"
   },
   {
    "duration": 20,
    "start_time": "2023-05-24T14:03:19.595Z"
   },
   {
    "duration": 11,
    "start_time": "2023-05-24T14:03:19.617Z"
   },
   {
    "duration": 16,
    "start_time": "2023-05-24T14:03:19.630Z"
   },
   {
    "duration": 4,
    "start_time": "2023-05-24T14:03:19.648Z"
   },
   {
    "duration": 6,
    "start_time": "2023-05-24T14:03:19.671Z"
   },
   {
    "duration": 532,
    "start_time": "2023-05-24T14:03:19.678Z"
   },
   {
    "duration": 7,
    "start_time": "2023-05-24T14:03:20.213Z"
   },
   {
    "duration": 174,
    "start_time": "2023-05-24T14:03:20.222Z"
   },
   {
    "duration": 5,
    "start_time": "2023-05-24T14:03:20.398Z"
   },
   {
    "duration": 166,
    "start_time": "2023-05-24T14:03:20.405Z"
   },
   {
    "duration": 6,
    "start_time": "2023-05-24T14:03:20.573Z"
   },
   {
    "duration": 8,
    "start_time": "2023-05-24T14:03:20.581Z"
   },
   {
    "duration": 14,
    "start_time": "2023-05-24T14:03:20.591Z"
   },
   {
    "duration": 9,
    "start_time": "2023-05-24T14:03:20.607Z"
   },
   {
    "duration": 9,
    "start_time": "2023-05-24T14:03:20.618Z"
   },
   {
    "duration": 12,
    "start_time": "2023-05-24T14:03:20.629Z"
   },
   {
    "duration": 29,
    "start_time": "2023-05-24T14:03:20.643Z"
   },
   {
    "duration": 201,
    "start_time": "2023-05-24T14:03:20.674Z"
   },
   {
    "duration": 38,
    "start_time": "2023-05-24T14:03:20.877Z"
   },
   {
    "duration": 1204,
    "start_time": "2023-05-24T14:04:40.869Z"
   },
   {
    "duration": 47,
    "start_time": "2023-05-24T14:04:42.076Z"
   },
   {
    "duration": 16,
    "start_time": "2023-05-24T14:04:42.125Z"
   },
   {
    "duration": 10,
    "start_time": "2023-05-24T14:04:42.143Z"
   },
   {
    "duration": 11,
    "start_time": "2023-05-24T14:04:42.155Z"
   },
   {
    "duration": 21,
    "start_time": "2023-05-24T14:04:42.168Z"
   },
   {
    "duration": 5,
    "start_time": "2023-05-24T14:04:42.191Z"
   },
   {
    "duration": 9,
    "start_time": "2023-05-24T14:04:42.198Z"
   },
   {
    "duration": 577,
    "start_time": "2023-05-24T14:04:42.209Z"
   },
   {
    "duration": 8,
    "start_time": "2023-05-24T14:04:42.788Z"
   },
   {
    "duration": 168,
    "start_time": "2023-05-24T14:04:42.797Z"
   },
   {
    "duration": 8,
    "start_time": "2023-05-24T14:04:42.967Z"
   },
   {
    "duration": 178,
    "start_time": "2023-05-24T14:04:42.976Z"
   },
   {
    "duration": 5,
    "start_time": "2023-05-24T14:04:43.157Z"
   },
   {
    "duration": 40,
    "start_time": "2023-05-24T14:04:43.163Z"
   },
   {
    "duration": 33,
    "start_time": "2023-05-24T14:04:43.205Z"
   },
   {
    "duration": 7,
    "start_time": "2023-05-24T14:04:43.240Z"
   },
   {
    "duration": 11,
    "start_time": "2023-05-24T14:04:43.249Z"
   },
   {
    "duration": 14,
    "start_time": "2023-05-24T14:04:43.262Z"
   },
   {
    "duration": 93,
    "start_time": "2023-05-24T14:04:43.278Z"
   },
   {
    "duration": 101,
    "start_time": "2023-05-24T14:04:43.374Z"
   },
   {
    "duration": 23,
    "start_time": "2023-05-24T14:04:43.477Z"
   },
   {
    "duration": 121,
    "start_time": "2023-05-24T14:04:53.561Z"
   },
   {
    "duration": 5,
    "start_time": "2023-05-24T14:07:26.176Z"
   },
   {
    "duration": 5,
    "start_time": "2023-05-24T14:08:06.474Z"
   },
   {
    "duration": 6,
    "start_time": "2023-05-24T14:08:17.716Z"
   },
   {
    "duration": 17,
    "start_time": "2023-05-24T14:08:18.873Z"
   },
   {
    "duration": 18,
    "start_time": "2023-05-24T14:08:37.965Z"
   },
   {
    "duration": 4,
    "start_time": "2023-05-24T14:10:25.857Z"
   },
   {
    "duration": 53,
    "start_time": "2023-05-24T14:10:26.022Z"
   },
   {
    "duration": 8,
    "start_time": "2023-05-24T14:10:26.174Z"
   },
   {
    "duration": 6,
    "start_time": "2023-05-24T14:10:26.311Z"
   },
   {
    "duration": 11,
    "start_time": "2023-05-24T14:10:26.466Z"
   },
   {
    "duration": 13,
    "start_time": "2023-05-24T14:10:26.590Z"
   },
   {
    "duration": 5,
    "start_time": "2023-05-24T14:10:26.718Z"
   },
   {
    "duration": 7,
    "start_time": "2023-05-24T14:10:26.867Z"
   },
   {
    "duration": 236,
    "start_time": "2023-05-24T14:10:27.014Z"
   },
   {
    "duration": 8,
    "start_time": "2023-05-24T14:10:27.375Z"
   },
   {
    "duration": 270,
    "start_time": "2023-05-24T14:10:27.614Z"
   },
   {
    "duration": 7,
    "start_time": "2023-05-24T14:10:27.887Z"
   },
   {
    "duration": 171,
    "start_time": "2023-05-24T14:10:28.326Z"
   },
   {
    "duration": 6,
    "start_time": "2023-05-24T14:10:28.557Z"
   },
   {
    "duration": 4,
    "start_time": "2023-05-24T14:10:29.645Z"
   },
   {
    "duration": 9,
    "start_time": "2023-05-24T14:10:30.320Z"
   },
   {
    "duration": 8,
    "start_time": "2023-05-24T14:10:31.222Z"
   },
   {
    "duration": 23,
    "start_time": "2023-05-24T14:10:36.294Z"
   },
   {
    "duration": 18,
    "start_time": "2023-05-24T14:10:41.765Z"
   },
   {
    "duration": 1075,
    "start_time": "2023-05-25T16:56:57.525Z"
   },
   {
    "duration": 173,
    "start_time": "2023-05-25T16:56:58.637Z"
   },
   {
    "duration": 12,
    "start_time": "2023-05-25T16:56:58.832Z"
   },
   {
    "duration": 11,
    "start_time": "2023-05-25T16:56:59.359Z"
   },
   {
    "duration": 12,
    "start_time": "2023-05-25T17:07:50.560Z"
   },
   {
    "duration": 106,
    "start_time": "2023-05-25T17:08:03.278Z"
   },
   {
    "duration": 10,
    "start_time": "2023-05-25T17:08:07.342Z"
   },
   {
    "duration": 8,
    "start_time": "2023-05-25T17:08:10.428Z"
   },
   {
    "duration": 5,
    "start_time": "2023-05-25T17:08:12.828Z"
   },
   {
    "duration": 24,
    "start_time": "2023-05-25T17:12:27.778Z"
   },
   {
    "duration": 19,
    "start_time": "2023-05-25T17:12:32.420Z"
   },
   {
    "duration": 4,
    "start_time": "2023-05-25T17:12:33.159Z"
   },
   {
    "duration": 4,
    "start_time": "2023-05-25T17:12:33.831Z"
   },
   {
    "duration": 693,
    "start_time": "2023-05-25T17:12:34.517Z"
   },
   {
    "duration": 42,
    "start_time": "2023-05-25T17:12:44.455Z"
   },
   {
    "duration": 11,
    "start_time": "2023-05-25T17:12:44.630Z"
   },
   {
    "duration": 15,
    "start_time": "2023-05-25T17:12:44.768Z"
   },
   {
    "duration": 8,
    "start_time": "2023-05-25T17:12:45.550Z"
   },
   {
    "duration": 6,
    "start_time": "2023-05-25T17:12:45.727Z"
   },
   {
    "duration": 11,
    "start_time": "2023-05-25T17:12:46.079Z"
   },
   {
    "duration": 4,
    "start_time": "2023-05-25T17:12:47.034Z"
   },
   {
    "duration": 4,
    "start_time": "2023-05-25T17:12:47.432Z"
   },
   {
    "duration": 229,
    "start_time": "2023-05-25T17:12:48.417Z"
   },
   {
    "duration": 42,
    "start_time": "2023-05-25T17:13:05.060Z"
   },
   {
    "duration": 7,
    "start_time": "2023-05-25T17:13:05.220Z"
   },
   {
    "duration": 15,
    "start_time": "2023-05-25T17:13:05.333Z"
   },
   {
    "duration": 12,
    "start_time": "2023-05-25T17:13:06.121Z"
   },
   {
    "duration": 6,
    "start_time": "2023-05-25T17:13:06.261Z"
   },
   {
    "duration": 11,
    "start_time": "2023-05-25T17:13:06.609Z"
   },
   {
    "duration": 4,
    "start_time": "2023-05-25T17:13:06.958Z"
   },
   {
    "duration": 4,
    "start_time": "2023-05-25T17:13:07.532Z"
   },
   {
    "duration": 202,
    "start_time": "2023-05-25T17:13:08.372Z"
   },
   {
    "duration": 25,
    "start_time": "2023-05-25T17:16:27.527Z"
   },
   {
    "duration": 40,
    "start_time": "2023-05-25T17:16:54.425Z"
   },
   {
    "duration": 9,
    "start_time": "2023-05-25T17:16:54.535Z"
   },
   {
    "duration": 13,
    "start_time": "2023-05-25T17:16:54.676Z"
   },
   {
    "duration": 8,
    "start_time": "2023-05-25T17:16:55.859Z"
   },
   {
    "duration": 4,
    "start_time": "2023-05-25T17:16:56.033Z"
   },
   {
    "duration": 11,
    "start_time": "2023-05-25T17:16:56.739Z"
   },
   {
    "duration": 4,
    "start_time": "2023-05-25T17:16:57.675Z"
   },
   {
    "duration": 4,
    "start_time": "2023-05-25T17:16:58.035Z"
   },
   {
    "duration": 14,
    "start_time": "2023-05-25T17:16:59.189Z"
   },
   {
    "duration": 277,
    "start_time": "2023-05-25T17:17:19.050Z"
   },
   {
    "duration": 207,
    "start_time": "2023-05-25T17:17:24.369Z"
   },
   {
    "duration": 211,
    "start_time": "2023-05-25T17:17:30.139Z"
   },
   {
    "duration": 203,
    "start_time": "2023-05-25T17:17:35.227Z"
   },
   {
    "duration": 203,
    "start_time": "2023-05-25T17:17:40.041Z"
   },
   {
    "duration": 320,
    "start_time": "2023-05-25T17:17:45.821Z"
   },
   {
    "duration": 204,
    "start_time": "2023-05-25T17:17:51.628Z"
   },
   {
    "duration": 207,
    "start_time": "2023-05-25T17:17:56.087Z"
   },
   {
    "duration": 200,
    "start_time": "2023-05-25T17:18:26.389Z"
   },
   {
    "duration": 216,
    "start_time": "2023-05-25T17:18:32.252Z"
   },
   {
    "duration": 200,
    "start_time": "2023-05-25T17:18:37.668Z"
   },
   {
    "duration": 264,
    "start_time": "2023-05-25T17:18:43.155Z"
   },
   {
    "duration": 200,
    "start_time": "2023-05-25T17:18:46.363Z"
   },
   {
    "duration": 211,
    "start_time": "2023-05-25T17:18:49.413Z"
   },
   {
    "duration": 219,
    "start_time": "2023-05-25T17:18:55.258Z"
   },
   {
    "duration": 225,
    "start_time": "2023-05-25T17:20:14.529Z"
   },
   {
    "duration": 203,
    "start_time": "2023-05-25T17:20:18.468Z"
   },
   {
    "duration": 198,
    "start_time": "2023-05-25T17:20:22.372Z"
   },
   {
    "duration": 303,
    "start_time": "2023-05-25T17:20:43.066Z"
   },
   {
    "duration": 205,
    "start_time": "2023-05-25T17:20:49.578Z"
   },
   {
    "duration": 12,
    "start_time": "2023-05-25T17:21:06.008Z"
   },
   {
    "duration": 214,
    "start_time": "2023-05-25T17:21:12.528Z"
   },
   {
    "duration": 200,
    "start_time": "2023-05-25T17:21:18.662Z"
   },
   {
    "duration": 213,
    "start_time": "2023-05-25T17:21:53.589Z"
   },
   {
    "duration": 199,
    "start_time": "2023-05-25T17:22:02.324Z"
   },
   {
    "duration": 9,
    "start_time": "2023-05-25T17:23:14.920Z"
   },
   {
    "duration": 3,
    "start_time": "2023-05-25T17:23:31.223Z"
   },
   {
    "duration": 6,
    "start_time": "2023-05-25T17:23:36.684Z"
   },
   {
    "duration": 210,
    "start_time": "2023-05-25T17:23:37.684Z"
   },
   {
    "duration": 6,
    "start_time": "2023-05-25T17:23:43.764Z"
   },
   {
    "duration": 201,
    "start_time": "2023-05-25T17:23:44.259Z"
   },
   {
    "duration": 7,
    "start_time": "2023-05-25T17:23:52.115Z"
   },
   {
    "duration": 218,
    "start_time": "2023-05-25T17:23:52.519Z"
   },
   {
    "duration": 325,
    "start_time": "2023-05-25T17:24:39.272Z"
   },
   {
    "duration": 9,
    "start_time": "2023-05-25T17:25:03.928Z"
   },
   {
    "duration": 8,
    "start_time": "2023-05-25T17:25:15.417Z"
   },
   {
    "duration": 8,
    "start_time": "2023-05-25T17:25:55.658Z"
   },
   {
    "duration": 9,
    "start_time": "2023-05-25T17:26:02.473Z"
   },
   {
    "duration": 9,
    "start_time": "2023-05-25T17:26:17.936Z"
   },
   {
    "duration": 3,
    "start_time": "2023-05-25T17:26:21.864Z"
   },
   {
    "duration": 41,
    "start_time": "2023-05-25T17:26:22.184Z"
   },
   {
    "duration": 6,
    "start_time": "2023-05-25T17:26:22.354Z"
   },
   {
    "duration": 10,
    "start_time": "2023-05-25T17:26:22.519Z"
   },
   {
    "duration": 8,
    "start_time": "2023-05-25T17:26:23.325Z"
   },
   {
    "duration": 5,
    "start_time": "2023-05-25T17:26:23.752Z"
   },
   {
    "duration": 16,
    "start_time": "2023-05-25T17:26:24.133Z"
   },
   {
    "duration": 4,
    "start_time": "2023-05-25T17:26:24.625Z"
   },
   {
    "duration": 4,
    "start_time": "2023-05-25T17:26:25.063Z"
   },
   {
    "duration": 208,
    "start_time": "2023-05-25T17:26:25.687Z"
   },
   {
    "duration": 8,
    "start_time": "2023-05-25T17:27:34.122Z"
   },
   {
    "duration": 1108,
    "start_time": "2023-05-29T16:48:41.262Z"
   },
   {
    "duration": 108,
    "start_time": "2023-05-29T16:48:42.372Z"
   },
   {
    "duration": 13,
    "start_time": "2023-05-29T16:48:42.482Z"
   },
   {
    "duration": 11,
    "start_time": "2023-05-29T16:48:42.498Z"
   },
   {
    "duration": 7,
    "start_time": "2023-05-29T16:48:42.511Z"
   },
   {
    "duration": 7,
    "start_time": "2023-05-29T16:48:42.520Z"
   },
   {
    "duration": 15,
    "start_time": "2023-05-29T16:48:42.528Z"
   },
   {
    "duration": 3,
    "start_time": "2023-05-29T16:48:42.544Z"
   },
   {
    "duration": 32,
    "start_time": "2023-05-29T16:48:42.548Z"
   },
   {
    "duration": 635,
    "start_time": "2023-05-29T16:48:42.583Z"
   },
   {
    "duration": 7,
    "start_time": "2023-05-29T16:48:43.220Z"
   },
   {
    "duration": 168,
    "start_time": "2023-05-29T16:48:43.229Z"
   },
   {
    "duration": 4,
    "start_time": "2023-05-29T16:48:43.399Z"
   },
   {
    "duration": 157,
    "start_time": "2023-05-29T16:48:43.405Z"
   },
   {
    "duration": 12,
    "start_time": "2023-05-29T16:48:43.564Z"
   },
   {
    "duration": 8,
    "start_time": "2023-05-29T16:48:43.578Z"
   },
   {
    "duration": 14,
    "start_time": "2023-05-29T16:48:43.587Z"
   },
   {
    "duration": 7,
    "start_time": "2023-05-29T16:48:43.603Z"
   },
   {
    "duration": 16,
    "start_time": "2023-05-29T16:48:43.612Z"
   },
   {
    "duration": 9,
    "start_time": "2023-05-29T16:48:43.630Z"
   },
   {
    "duration": 36,
    "start_time": "2023-05-29T16:48:43.641Z"
   },
   {
    "duration": 199,
    "start_time": "2023-05-29T16:48:43.679Z"
   },
   {
    "duration": 99,
    "start_time": "2023-05-29T16:48:43.880Z"
   },
   {
    "duration": 16,
    "start_time": "2023-05-29T16:48:43.981Z"
   },
   {
    "duration": 1051,
    "start_time": "2023-05-29T16:51:53.409Z"
   },
   {
    "duration": 44,
    "start_time": "2023-05-29T16:51:54.462Z"
   },
   {
    "duration": 14,
    "start_time": "2023-05-29T16:51:54.511Z"
   },
   {
    "duration": 12,
    "start_time": "2023-05-29T16:51:54.527Z"
   },
   {
    "duration": 9,
    "start_time": "2023-05-29T16:51:54.541Z"
   },
   {
    "duration": 24,
    "start_time": "2023-05-29T16:51:54.552Z"
   },
   {
    "duration": 15,
    "start_time": "2023-05-29T16:51:54.578Z"
   },
   {
    "duration": 5,
    "start_time": "2023-05-29T16:51:54.595Z"
   },
   {
    "duration": 6,
    "start_time": "2023-05-29T16:51:54.603Z"
   },
   {
    "duration": 474,
    "start_time": "2023-05-29T16:51:54.611Z"
   },
   {
    "duration": 7,
    "start_time": "2023-05-29T16:51:55.087Z"
   },
   {
    "duration": 153,
    "start_time": "2023-05-29T16:51:55.096Z"
   },
   {
    "duration": 5,
    "start_time": "2023-05-29T16:51:55.251Z"
   },
   {
    "duration": 151,
    "start_time": "2023-05-29T16:51:55.258Z"
   },
   {
    "duration": 5,
    "start_time": "2023-05-29T16:51:55.411Z"
   },
   {
    "duration": 8,
    "start_time": "2023-05-29T16:51:55.418Z"
   },
   {
    "duration": 9,
    "start_time": "2023-05-29T16:51:55.427Z"
   },
   {
    "duration": 13,
    "start_time": "2023-05-29T16:51:55.437Z"
   },
   {
    "duration": 26,
    "start_time": "2023-05-29T16:51:55.451Z"
   },
   {
    "duration": 17,
    "start_time": "2023-05-29T16:51:55.478Z"
   },
   {
    "duration": 7,
    "start_time": "2023-05-29T16:51:55.497Z"
   },
   {
    "duration": 10,
    "start_time": "2023-05-29T16:51:55.505Z"
   },
   {
    "duration": 10,
    "start_time": "2023-05-29T16:51:55.517Z"
   },
   {
    "duration": 151,
    "start_time": "2023-05-29T16:51:55.529Z"
   },
   {
    "duration": 16,
    "start_time": "2023-05-29T16:51:55.681Z"
   },
   {
    "duration": 6,
    "start_time": "2023-05-29T16:52:59.668Z"
   },
   {
    "duration": 1079,
    "start_time": "2023-05-29T16:53:05.303Z"
   },
   {
    "duration": 49,
    "start_time": "2023-05-29T16:53:06.385Z"
   },
   {
    "duration": 18,
    "start_time": "2023-05-29T16:53:06.436Z"
   },
   {
    "duration": 14,
    "start_time": "2023-05-29T16:53:06.457Z"
   },
   {
    "duration": 22,
    "start_time": "2023-05-29T16:53:06.473Z"
   },
   {
    "duration": 15,
    "start_time": "2023-05-29T16:53:06.497Z"
   },
   {
    "duration": 27,
    "start_time": "2023-05-29T16:53:06.513Z"
   },
   {
    "duration": 10,
    "start_time": "2023-05-29T16:53:06.542Z"
   },
   {
    "duration": 15,
    "start_time": "2023-05-29T16:53:06.555Z"
   },
   {
    "duration": 496,
    "start_time": "2023-05-29T16:53:06.574Z"
   },
   {
    "duration": 6,
    "start_time": "2023-05-29T16:53:07.076Z"
   },
   {
    "duration": 155,
    "start_time": "2023-05-29T16:53:07.084Z"
   },
   {
    "duration": 4,
    "start_time": "2023-05-29T16:53:07.240Z"
   },
   {
    "duration": 154,
    "start_time": "2023-05-29T16:53:07.246Z"
   },
   {
    "duration": 4,
    "start_time": "2023-05-29T16:53:07.402Z"
   },
   {
    "duration": 12,
    "start_time": "2023-05-29T16:53:07.408Z"
   },
   {
    "duration": 6,
    "start_time": "2023-05-29T16:53:07.422Z"
   },
   {
    "duration": 5,
    "start_time": "2023-05-29T16:53:07.430Z"
   },
   {
    "duration": 13,
    "start_time": "2023-05-29T16:53:07.437Z"
   },
   {
    "duration": 25,
    "start_time": "2023-05-29T16:53:07.452Z"
   },
   {
    "duration": 17,
    "start_time": "2023-05-29T16:53:07.478Z"
   },
   {
    "duration": 15,
    "start_time": "2023-05-29T16:53:07.496Z"
   },
   {
    "duration": 13,
    "start_time": "2023-05-29T16:53:07.512Z"
   },
   {
    "duration": 10,
    "start_time": "2023-05-29T16:53:07.527Z"
   },
   {
    "duration": 103,
    "start_time": "2023-05-29T16:53:07.577Z"
   },
   {
    "duration": 18,
    "start_time": "2023-05-29T16:53:07.682Z"
   },
   {
    "duration": 117,
    "start_time": "2023-05-29T16:53:55.891Z"
   },
   {
    "duration": 5,
    "start_time": "2023-05-29T16:54:06.865Z"
   },
   {
    "duration": 5,
    "start_time": "2023-05-29T16:54:32.871Z"
   },
   {
    "duration": 3,
    "start_time": "2023-05-29T16:58:24.749Z"
   },
   {
    "duration": 13,
    "start_time": "2023-05-29T16:58:25.309Z"
   },
   {
    "duration": 9,
    "start_time": "2023-05-29T16:58:25.948Z"
   },
   {
    "duration": 33,
    "start_time": "2023-05-29T16:58:26.405Z"
   },
   {
    "duration": 5,
    "start_time": "2023-05-29T16:58:26.684Z"
   },
   {
    "duration": 7,
    "start_time": "2023-05-29T16:58:27.189Z"
   },
   {
    "duration": 8,
    "start_time": "2023-05-29T16:58:27.468Z"
   },
   {
    "duration": 5,
    "start_time": "2023-05-29T16:58:27.715Z"
   },
   {
    "duration": 5,
    "start_time": "2023-05-29T16:58:28.156Z"
   },
   {
    "duration": 4,
    "start_time": "2023-05-29T16:58:28.484Z"
   },
   {
    "duration": 1090,
    "start_time": "2023-05-29T16:58:33.470Z"
   },
   {
    "duration": 41,
    "start_time": "2023-05-29T16:58:34.562Z"
   },
   {
    "duration": 11,
    "start_time": "2023-05-29T16:58:34.605Z"
   },
   {
    "duration": 14,
    "start_time": "2023-05-29T16:58:34.618Z"
   },
   {
    "duration": 23,
    "start_time": "2023-05-29T16:58:34.633Z"
   },
   {
    "duration": 26,
    "start_time": "2023-05-29T16:58:34.658Z"
   },
   {
    "duration": 34,
    "start_time": "2023-05-29T16:58:34.686Z"
   },
   {
    "duration": 4,
    "start_time": "2023-05-29T16:58:34.721Z"
   },
   {
    "duration": 39,
    "start_time": "2023-05-29T16:58:34.726Z"
   },
   {
    "duration": 477,
    "start_time": "2023-05-29T16:58:34.767Z"
   },
   {
    "duration": 6,
    "start_time": "2023-05-29T16:58:35.246Z"
   },
   {
    "duration": 156,
    "start_time": "2023-05-29T16:58:35.254Z"
   },
   {
    "duration": 5,
    "start_time": "2023-05-29T16:58:35.412Z"
   },
   {
    "duration": 150,
    "start_time": "2023-05-29T16:58:35.418Z"
   },
   {
    "duration": 10,
    "start_time": "2023-05-29T16:58:35.570Z"
   },
   {
    "duration": 9,
    "start_time": "2023-05-29T16:58:35.581Z"
   },
   {
    "duration": 9,
    "start_time": "2023-05-29T16:58:35.592Z"
   },
   {
    "duration": 9,
    "start_time": "2023-05-29T16:58:35.603Z"
   },
   {
    "duration": 30,
    "start_time": "2023-05-29T16:58:35.613Z"
   },
   {
    "duration": 8,
    "start_time": "2023-05-29T16:58:35.645Z"
   },
   {
    "duration": 42,
    "start_time": "2023-05-29T16:58:35.655Z"
   },
   {
    "duration": 9,
    "start_time": "2023-05-29T16:58:35.699Z"
   },
   {
    "duration": 52,
    "start_time": "2023-05-29T16:58:35.710Z"
   },
   {
    "duration": 25,
    "start_time": "2023-05-29T16:58:35.764Z"
   },
   {
    "duration": 195,
    "start_time": "2023-05-29T16:58:35.791Z"
   },
   {
    "duration": 11,
    "start_time": "2023-05-29T16:58:35.988Z"
   },
   {
    "duration": 20,
    "start_time": "2023-05-29T16:58:36.000Z"
   },
   {
    "duration": 1081,
    "start_time": "2023-05-29T16:58:51.018Z"
   },
   {
    "duration": 43,
    "start_time": "2023-05-29T16:58:52.101Z"
   },
   {
    "duration": 14,
    "start_time": "2023-05-29T16:58:52.145Z"
   },
   {
    "duration": 24,
    "start_time": "2023-05-29T16:58:52.161Z"
   },
   {
    "duration": 11,
    "start_time": "2023-05-29T16:58:52.186Z"
   },
   {
    "duration": 30,
    "start_time": "2023-05-29T16:58:52.199Z"
   },
   {
    "duration": 50,
    "start_time": "2023-05-29T16:58:52.230Z"
   },
   {
    "duration": 19,
    "start_time": "2023-05-29T16:58:52.282Z"
   },
   {
    "duration": 17,
    "start_time": "2023-05-29T16:58:52.303Z"
   },
   {
    "duration": 514,
    "start_time": "2023-05-29T16:58:52.322Z"
   },
   {
    "duration": 7,
    "start_time": "2023-05-29T16:58:52.838Z"
   },
   {
    "duration": 159,
    "start_time": "2023-05-29T16:58:52.846Z"
   },
   {
    "duration": 5,
    "start_time": "2023-05-29T16:58:53.006Z"
   },
   {
    "duration": 158,
    "start_time": "2023-05-29T16:58:53.012Z"
   },
   {
    "duration": 7,
    "start_time": "2023-05-29T16:58:53.172Z"
   },
   {
    "duration": 14,
    "start_time": "2023-05-29T16:58:53.180Z"
   },
   {
    "duration": 6,
    "start_time": "2023-05-29T16:58:53.196Z"
   },
   {
    "duration": 6,
    "start_time": "2023-05-29T16:58:53.203Z"
   },
   {
    "duration": 19,
    "start_time": "2023-05-29T16:58:53.211Z"
   },
   {
    "duration": 7,
    "start_time": "2023-05-29T16:58:53.232Z"
   },
   {
    "duration": 46,
    "start_time": "2023-05-29T16:58:53.241Z"
   },
   {
    "duration": 4,
    "start_time": "2023-05-29T16:58:53.289Z"
   },
   {
    "duration": 13,
    "start_time": "2023-05-29T16:58:53.295Z"
   },
   {
    "duration": 166,
    "start_time": "2023-05-29T16:58:53.311Z"
   },
   {
    "duration": 8,
    "start_time": "2023-05-29T16:58:53.479Z"
   },
   {
    "duration": 10,
    "start_time": "2023-05-29T16:58:53.489Z"
   },
   {
    "duration": 8,
    "start_time": "2023-05-29T16:58:53.501Z"
   },
   {
    "duration": 1333,
    "start_time": "2023-05-29T16:59:06.177Z"
   },
   {
    "duration": 44,
    "start_time": "2023-05-29T16:59:07.512Z"
   },
   {
    "duration": 14,
    "start_time": "2023-05-29T16:59:07.560Z"
   },
   {
    "duration": 12,
    "start_time": "2023-05-29T16:59:07.576Z"
   },
   {
    "duration": 17,
    "start_time": "2023-05-29T16:59:07.590Z"
   },
   {
    "duration": 11,
    "start_time": "2023-05-29T16:59:07.609Z"
   },
   {
    "duration": 14,
    "start_time": "2023-05-29T16:59:07.621Z"
   },
   {
    "duration": 4,
    "start_time": "2023-05-29T16:59:07.637Z"
   },
   {
    "duration": 5,
    "start_time": "2023-05-29T16:59:07.644Z"
   },
   {
    "duration": 535,
    "start_time": "2023-05-29T16:59:07.650Z"
   },
   {
    "duration": 7,
    "start_time": "2023-05-29T16:59:08.187Z"
   },
   {
    "duration": 175,
    "start_time": "2023-05-29T16:59:08.195Z"
   },
   {
    "duration": 6,
    "start_time": "2023-05-29T16:59:08.372Z"
   },
   {
    "duration": 174,
    "start_time": "2023-05-29T16:59:08.381Z"
   },
   {
    "duration": 6,
    "start_time": "2023-05-29T16:59:08.557Z"
   },
   {
    "duration": 17,
    "start_time": "2023-05-29T16:59:08.565Z"
   },
   {
    "duration": 6,
    "start_time": "2023-05-29T16:59:08.584Z"
   },
   {
    "duration": 8,
    "start_time": "2023-05-29T16:59:08.592Z"
   },
   {
    "duration": 45,
    "start_time": "2023-05-29T16:59:08.601Z"
   },
   {
    "duration": 34,
    "start_time": "2023-05-29T16:59:08.648Z"
   },
   {
    "duration": 34,
    "start_time": "2023-05-29T16:59:08.684Z"
   },
   {
    "duration": 6,
    "start_time": "2023-05-29T16:59:08.720Z"
   },
   {
    "duration": 53,
    "start_time": "2023-05-29T16:59:08.728Z"
   },
   {
    "duration": 193,
    "start_time": "2023-05-29T16:59:08.785Z"
   },
   {
    "duration": 99,
    "start_time": "2023-05-29T16:59:08.981Z"
   },
   {
    "duration": 101,
    "start_time": "2023-05-29T16:59:09.082Z"
   },
   {
    "duration": 89,
    "start_time": "2023-05-29T16:59:09.191Z"
   },
   {
    "duration": 1139,
    "start_time": "2023-05-29T16:59:26.434Z"
   },
   {
    "duration": 44,
    "start_time": "2023-05-29T16:59:27.575Z"
   },
   {
    "duration": 13,
    "start_time": "2023-05-29T16:59:27.621Z"
   },
   {
    "duration": 25,
    "start_time": "2023-05-29T16:59:27.636Z"
   },
   {
    "duration": 30,
    "start_time": "2023-05-29T16:59:27.662Z"
   },
   {
    "duration": 28,
    "start_time": "2023-05-29T16:59:27.694Z"
   },
   {
    "duration": 34,
    "start_time": "2023-05-29T16:59:27.724Z"
   },
   {
    "duration": 27,
    "start_time": "2023-05-29T16:59:27.759Z"
   },
   {
    "duration": 52,
    "start_time": "2023-05-29T16:59:27.788Z"
   },
   {
    "duration": 536,
    "start_time": "2023-05-29T16:59:27.843Z"
   },
   {
    "duration": 8,
    "start_time": "2023-05-29T16:59:28.381Z"
   },
   {
    "duration": 175,
    "start_time": "2023-05-29T16:59:28.391Z"
   },
   {
    "duration": 9,
    "start_time": "2023-05-29T16:59:28.568Z"
   },
   {
    "duration": 153,
    "start_time": "2023-05-29T16:59:28.579Z"
   },
   {
    "duration": 5,
    "start_time": "2023-05-29T16:59:28.734Z"
   },
   {
    "duration": 25,
    "start_time": "2023-05-29T16:59:28.740Z"
   },
   {
    "duration": 10,
    "start_time": "2023-05-29T16:59:28.766Z"
   },
   {
    "duration": 11,
    "start_time": "2023-05-29T16:59:28.777Z"
   },
   {
    "duration": 35,
    "start_time": "2023-05-29T16:59:28.789Z"
   },
   {
    "duration": 16,
    "start_time": "2023-05-29T16:59:28.826Z"
   },
   {
    "duration": 53,
    "start_time": "2023-05-29T16:59:28.844Z"
   },
   {
    "duration": 5,
    "start_time": "2023-05-29T16:59:28.899Z"
   },
   {
    "duration": 24,
    "start_time": "2023-05-29T16:59:28.906Z"
   },
   {
    "duration": 144,
    "start_time": "2023-05-29T16:59:28.932Z"
   },
   {
    "duration": 11,
    "start_time": "2023-05-29T16:59:29.078Z"
   },
   {
    "duration": 17,
    "start_time": "2023-05-29T16:59:29.177Z"
   },
   {
    "duration": 13,
    "start_time": "2023-05-29T16:59:29.196Z"
   },
   {
    "duration": 60,
    "start_time": "2023-05-29T17:08:15.248Z"
   },
   {
    "duration": 1143,
    "start_time": "2023-05-29T17:08:20.294Z"
   },
   {
    "duration": 45,
    "start_time": "2023-05-29T17:08:21.439Z"
   },
   {
    "duration": 14,
    "start_time": "2023-05-29T17:08:21.486Z"
   },
   {
    "duration": 11,
    "start_time": "2023-05-29T17:08:21.502Z"
   },
   {
    "duration": 14,
    "start_time": "2023-05-29T17:08:21.515Z"
   },
   {
    "duration": 11,
    "start_time": "2023-05-29T17:08:21.531Z"
   },
   {
    "duration": 26,
    "start_time": "2023-05-29T17:08:21.545Z"
   },
   {
    "duration": 28,
    "start_time": "2023-05-29T17:08:21.573Z"
   },
   {
    "duration": 19,
    "start_time": "2023-05-29T17:08:21.603Z"
   },
   {
    "duration": 493,
    "start_time": "2023-05-29T17:08:21.624Z"
   },
   {
    "duration": 7,
    "start_time": "2023-05-29T17:08:22.118Z"
   },
   {
    "duration": 161,
    "start_time": "2023-05-29T17:08:22.127Z"
   },
   {
    "duration": 4,
    "start_time": "2023-05-29T17:08:22.289Z"
   },
   {
    "duration": 154,
    "start_time": "2023-05-29T17:08:22.296Z"
   },
   {
    "duration": 5,
    "start_time": "2023-05-29T17:08:22.451Z"
   },
   {
    "duration": 8,
    "start_time": "2023-05-29T17:08:22.457Z"
   },
   {
    "duration": 5,
    "start_time": "2023-05-29T17:08:22.477Z"
   },
   {
    "duration": 7,
    "start_time": "2023-05-29T17:08:22.484Z"
   },
   {
    "duration": 24,
    "start_time": "2023-05-29T17:08:22.492Z"
   },
   {
    "duration": 7,
    "start_time": "2023-05-29T17:08:22.517Z"
   },
   {
    "duration": 26,
    "start_time": "2023-05-29T17:08:22.526Z"
   },
   {
    "duration": 27,
    "start_time": "2023-05-29T17:08:22.553Z"
   },
   {
    "duration": 10,
    "start_time": "2023-05-29T17:08:22.581Z"
   },
   {
    "duration": 182,
    "start_time": "2023-05-29T17:08:22.594Z"
   },
   {
    "duration": 10,
    "start_time": "2023-05-29T17:08:22.778Z"
   },
   {
    "duration": 4,
    "start_time": "2023-05-29T17:08:22.790Z"
   },
   {
    "duration": 6,
    "start_time": "2023-05-29T17:08:22.796Z"
   },
   {
    "duration": 5,
    "start_time": "2023-05-29T17:08:22.804Z"
   },
   {
    "duration": 87400,
    "start_time": "2023-05-29T17:08:22.811Z"
   },
   {
    "duration": 9,
    "start_time": "2023-05-29T17:09:50.214Z"
   },
   {
    "duration": 13,
    "start_time": "2023-05-29T17:09:50.225Z"
   },
   {
    "duration": 15,
    "start_time": "2023-05-29T17:09:50.240Z"
   },
   {
    "duration": 25,
    "start_time": "2023-05-29T17:09:50.256Z"
   },
   {
    "duration": 5,
    "start_time": "2023-05-29T17:12:19.117Z"
   },
   {
    "duration": 6,
    "start_time": "2023-05-29T17:12:46.931Z"
   },
   {
    "duration": 5,
    "start_time": "2023-05-29T17:12:53.314Z"
   },
   {
    "duration": 5,
    "start_time": "2023-05-29T17:13:00.147Z"
   },
   {
    "duration": 4,
    "start_time": "2023-05-29T17:13:08.753Z"
   },
   {
    "duration": 5,
    "start_time": "2023-05-29T17:13:12.921Z"
   },
   {
    "duration": 1145,
    "start_time": "2023-05-29T17:13:34.826Z"
   },
   {
    "duration": 45,
    "start_time": "2023-05-29T17:13:35.973Z"
   },
   {
    "duration": 14,
    "start_time": "2023-05-29T17:13:36.019Z"
   },
   {
    "duration": 74,
    "start_time": "2023-05-29T17:13:36.035Z"
   },
   {
    "duration": 40,
    "start_time": "2023-05-29T17:13:36.111Z"
   },
   {
    "duration": 9,
    "start_time": "2023-05-29T17:13:36.153Z"
   },
   {
    "duration": 17,
    "start_time": "2023-05-29T17:13:36.164Z"
   },
   {
    "duration": 4,
    "start_time": "2023-05-29T17:13:36.183Z"
   },
   {
    "duration": 13,
    "start_time": "2023-05-29T17:13:36.189Z"
   },
   {
    "duration": 594,
    "start_time": "2023-05-29T17:13:36.205Z"
   },
   {
    "duration": 7,
    "start_time": "2023-05-29T17:13:36.801Z"
   },
   {
    "duration": 179,
    "start_time": "2023-05-29T17:13:36.810Z"
   },
   {
    "duration": 6,
    "start_time": "2023-05-29T17:13:36.990Z"
   },
   {
    "duration": 162,
    "start_time": "2023-05-29T17:13:36.997Z"
   },
   {
    "duration": 15,
    "start_time": "2023-05-29T17:13:37.161Z"
   },
   {
    "duration": 6,
    "start_time": "2023-05-29T17:13:37.178Z"
   },
   {
    "duration": 7,
    "start_time": "2023-05-29T17:13:37.186Z"
   },
   {
    "duration": 10,
    "start_time": "2023-05-29T17:13:37.194Z"
   },
   {
    "duration": 38,
    "start_time": "2023-05-29T17:13:37.206Z"
   },
   {
    "duration": 22,
    "start_time": "2023-05-29T17:13:37.246Z"
   },
   {
    "duration": 27,
    "start_time": "2023-05-29T17:13:37.270Z"
   },
   {
    "duration": 25,
    "start_time": "2023-05-29T17:13:37.298Z"
   },
   {
    "duration": 17,
    "start_time": "2023-05-29T17:13:37.325Z"
   },
   {
    "duration": 14,
    "start_time": "2023-05-29T17:13:37.344Z"
   },
   {
    "duration": 35,
    "start_time": "2023-05-29T17:13:37.360Z"
   },
   {
    "duration": 101,
    "start_time": "2023-05-29T17:13:37.396Z"
   },
   {
    "duration": 30,
    "start_time": "2023-05-29T17:13:37.499Z"
   },
   {
    "duration": 39,
    "start_time": "2023-05-29T17:13:37.533Z"
   },
   {
    "duration": 28600,
    "start_time": "2023-05-29T17:13:37.574Z"
   },
   {
    "duration": 6,
    "start_time": "2023-05-29T17:14:06.176Z"
   },
   {
    "duration": 7,
    "start_time": "2023-05-29T17:14:06.183Z"
   },
   {
    "duration": 8,
    "start_time": "2023-05-29T17:14:06.192Z"
   },
   {
    "duration": 7,
    "start_time": "2023-05-29T17:14:06.201Z"
   },
   {
    "duration": 1211,
    "start_time": "2023-05-29T17:14:19.352Z"
   },
   {
    "duration": 46,
    "start_time": "2023-05-29T17:14:20.565Z"
   },
   {
    "duration": 15,
    "start_time": "2023-05-29T17:14:20.613Z"
   },
   {
    "duration": 12,
    "start_time": "2023-05-29T17:14:20.630Z"
   },
   {
    "duration": 12,
    "start_time": "2023-05-29T17:14:20.644Z"
   },
   {
    "duration": 8,
    "start_time": "2023-05-29T17:14:20.657Z"
   },
   {
    "duration": 17,
    "start_time": "2023-05-29T17:14:20.666Z"
   },
   {
    "duration": 10,
    "start_time": "2023-05-29T17:14:20.685Z"
   },
   {
    "duration": 5,
    "start_time": "2023-05-29T17:14:20.697Z"
   },
   {
    "duration": 467,
    "start_time": "2023-05-29T17:14:20.705Z"
   },
   {
    "duration": 8,
    "start_time": "2023-05-29T17:14:21.173Z"
   },
   {
    "duration": 159,
    "start_time": "2023-05-29T17:14:21.183Z"
   },
   {
    "duration": 4,
    "start_time": "2023-05-29T17:14:21.344Z"
   },
   {
    "duration": 154,
    "start_time": "2023-05-29T17:14:21.350Z"
   },
   {
    "duration": 5,
    "start_time": "2023-05-29T17:14:21.506Z"
   },
   {
    "duration": 11,
    "start_time": "2023-05-29T17:14:21.513Z"
   },
   {
    "duration": 10,
    "start_time": "2023-05-29T17:14:21.526Z"
   },
   {
    "duration": 6,
    "start_time": "2023-05-29T17:14:21.537Z"
   },
   {
    "duration": 35,
    "start_time": "2023-05-29T17:14:21.544Z"
   },
   {
    "duration": 6,
    "start_time": "2023-05-29T17:14:21.581Z"
   },
   {
    "duration": 18,
    "start_time": "2023-05-29T17:14:21.589Z"
   },
   {
    "duration": 5,
    "start_time": "2023-05-29T17:14:21.608Z"
   },
   {
    "duration": 9,
    "start_time": "2023-05-29T17:14:21.614Z"
   },
   {
    "duration": 56,
    "start_time": "2023-05-29T17:14:21.624Z"
   },
   {
    "duration": 102,
    "start_time": "2023-05-29T17:14:21.683Z"
   },
   {
    "duration": 7,
    "start_time": "2023-05-29T17:14:21.786Z"
   },
   {
    "duration": 6,
    "start_time": "2023-05-29T17:14:21.795Z"
   },
   {
    "duration": 5,
    "start_time": "2023-05-29T17:14:21.804Z"
   },
   {
    "duration": 55759,
    "start_time": "2023-05-29T17:14:21.811Z"
   },
   {
    "duration": 8,
    "start_time": "2023-05-29T17:15:17.572Z"
   },
   {
    "duration": 9,
    "start_time": "2023-05-29T17:15:17.581Z"
   },
   {
    "duration": 7,
    "start_time": "2023-05-29T17:15:17.592Z"
   },
   {
    "duration": 10,
    "start_time": "2023-05-29T17:15:17.601Z"
   },
   {
    "duration": 1184,
    "start_time": "2023-05-29T17:17:57.807Z"
   },
   {
    "duration": 44,
    "start_time": "2023-05-29T17:17:58.994Z"
   },
   {
    "duration": 13,
    "start_time": "2023-05-29T17:17:59.040Z"
   },
   {
    "duration": 11,
    "start_time": "2023-05-29T17:17:59.056Z"
   },
   {
    "duration": 9,
    "start_time": "2023-05-29T17:17:59.069Z"
   },
   {
    "duration": 8,
    "start_time": "2023-05-29T17:17:59.080Z"
   },
   {
    "duration": 13,
    "start_time": "2023-05-29T17:17:59.089Z"
   },
   {
    "duration": 4,
    "start_time": "2023-05-29T17:17:59.104Z"
   },
   {
    "duration": 13,
    "start_time": "2023-05-29T17:17:59.110Z"
   },
   {
    "duration": 500,
    "start_time": "2023-05-29T17:17:59.126Z"
   },
   {
    "duration": 7,
    "start_time": "2023-05-29T17:17:59.628Z"
   },
   {
    "duration": 172,
    "start_time": "2023-05-29T17:17:59.637Z"
   },
   {
    "duration": 4,
    "start_time": "2023-05-29T17:17:59.811Z"
   },
   {
    "duration": 153,
    "start_time": "2023-05-29T17:17:59.817Z"
   },
   {
    "duration": 7,
    "start_time": "2023-05-29T17:17:59.972Z"
   },
   {
    "duration": 11,
    "start_time": "2023-05-29T17:17:59.981Z"
   },
   {
    "duration": 8,
    "start_time": "2023-05-29T17:17:59.993Z"
   },
   {
    "duration": 27,
    "start_time": "2023-05-29T17:18:00.002Z"
   },
   {
    "duration": 78,
    "start_time": "2023-05-29T17:18:00.031Z"
   },
   {
    "duration": 63,
    "start_time": "2023-05-29T17:18:00.111Z"
   },
   {
    "duration": 46,
    "start_time": "2023-05-29T17:18:00.176Z"
   },
   {
    "duration": 27,
    "start_time": "2023-05-29T17:18:00.223Z"
   },
   {
    "duration": 42,
    "start_time": "2023-05-29T17:18:00.251Z"
   },
   {
    "duration": 182,
    "start_time": "2023-05-29T17:18:00.295Z"
   },
   {
    "duration": 14,
    "start_time": "2023-05-29T17:18:00.479Z"
   },
   {
    "duration": 46,
    "start_time": "2023-05-29T17:18:00.495Z"
   },
   {
    "duration": 67,
    "start_time": "2023-05-29T17:18:00.542Z"
   },
   {
    "duration": 97,
    "start_time": "2023-05-29T17:18:00.613Z"
   },
   {
    "duration": 56712,
    "start_time": "2023-05-29T17:18:00.712Z"
   },
   {
    "duration": 6,
    "start_time": "2023-05-29T17:18:57.426Z"
   },
   {
    "duration": 6,
    "start_time": "2023-05-29T17:18:57.434Z"
   },
   {
    "duration": 115,
    "start_time": "2023-05-29T17:18:57.441Z"
   },
   {
    "duration": 0,
    "start_time": "2023-05-29T17:18:57.558Z"
   },
   {
    "duration": 0,
    "start_time": "2023-05-29T17:18:57.560Z"
   },
   {
    "duration": 0,
    "start_time": "2023-05-29T17:18:57.560Z"
   },
   {
    "duration": 0,
    "start_time": "2023-05-29T17:18:57.561Z"
   },
   {
    "duration": 0,
    "start_time": "2023-05-29T17:18:57.562Z"
   },
   {
    "duration": 5,
    "start_time": "2023-05-29T17:19:55.060Z"
   },
   {
    "duration": 5,
    "start_time": "2023-05-29T17:19:55.201Z"
   },
   {
    "duration": 1315,
    "start_time": "2023-05-29T17:21:56.016Z"
   },
   {
    "duration": 43,
    "start_time": "2023-05-29T17:21:57.333Z"
   },
   {
    "duration": 15,
    "start_time": "2023-05-29T17:21:57.378Z"
   },
   {
    "duration": 65,
    "start_time": "2023-05-29T17:21:57.395Z"
   },
   {
    "duration": 19,
    "start_time": "2023-05-29T17:21:57.462Z"
   },
   {
    "duration": 10,
    "start_time": "2023-05-29T17:21:57.483Z"
   },
   {
    "duration": 16,
    "start_time": "2023-05-29T17:21:57.495Z"
   },
   {
    "duration": 4,
    "start_time": "2023-05-29T17:21:57.512Z"
   },
   {
    "duration": 6,
    "start_time": "2023-05-29T17:21:57.517Z"
   },
   {
    "duration": 418,
    "start_time": "2023-05-29T17:21:57.525Z"
   },
   {
    "duration": 7,
    "start_time": "2023-05-29T17:21:57.945Z"
   },
   {
    "duration": 166,
    "start_time": "2023-05-29T17:21:57.953Z"
   },
   {
    "duration": 5,
    "start_time": "2023-05-29T17:21:58.121Z"
   },
   {
    "duration": 177,
    "start_time": "2023-05-29T17:21:58.128Z"
   },
   {
    "duration": 5,
    "start_time": "2023-05-29T17:21:58.307Z"
   },
   {
    "duration": 7,
    "start_time": "2023-05-29T17:21:58.313Z"
   },
   {
    "duration": 9,
    "start_time": "2023-05-29T17:21:58.322Z"
   },
   {
    "duration": 7,
    "start_time": "2023-05-29T17:21:58.332Z"
   },
   {
    "duration": 16,
    "start_time": "2023-05-29T17:21:58.340Z"
   },
   {
    "duration": 7,
    "start_time": "2023-05-29T17:21:58.377Z"
   },
   {
    "duration": 103,
    "start_time": "2023-05-29T17:21:58.386Z"
   },
   {
    "duration": 14,
    "start_time": "2023-05-29T17:21:58.491Z"
   },
   {
    "duration": 8,
    "start_time": "2023-05-29T17:21:58.507Z"
   },
   {
    "duration": 6,
    "start_time": "2023-05-29T17:21:58.517Z"
   },
   {
    "duration": 65,
    "start_time": "2023-05-29T17:21:58.525Z"
   },
   {
    "duration": 11,
    "start_time": "2023-05-29T17:21:58.677Z"
   },
   {
    "duration": 8,
    "start_time": "2023-05-29T17:21:58.690Z"
   },
   {
    "duration": 9,
    "start_time": "2023-05-29T17:21:58.702Z"
   },
   {
    "duration": 55219,
    "start_time": "2023-05-29T17:21:58.713Z"
   },
   {
    "duration": 6,
    "start_time": "2023-05-29T17:22:53.934Z"
   },
   {
    "duration": 21,
    "start_time": "2023-05-29T17:22:53.942Z"
   },
   {
    "duration": 24,
    "start_time": "2023-05-29T17:22:53.965Z"
   },
   {
    "duration": 21,
    "start_time": "2023-05-29T17:22:53.991Z"
   },
   {
    "duration": 22,
    "start_time": "2023-05-29T17:22:54.014Z"
   },
   {
    "duration": 120,
    "start_time": "2023-05-29T17:22:54.037Z"
   },
   {
    "duration": 0,
    "start_time": "2023-05-29T17:22:54.159Z"
   },
   {
    "duration": 0,
    "start_time": "2023-05-29T17:22:54.160Z"
   },
   {
    "duration": 0,
    "start_time": "2023-05-29T17:22:54.161Z"
   },
   {
    "duration": 0,
    "start_time": "2023-05-29T17:22:54.162Z"
   },
   {
    "duration": 0,
    "start_time": "2023-05-29T17:22:54.163Z"
   },
   {
    "duration": 0,
    "start_time": "2023-05-29T17:22:54.165Z"
   },
   {
    "duration": 10761,
    "start_time": "2023-05-29T17:25:40.825Z"
   },
   {
    "duration": 90,
    "start_time": "2023-05-29T17:25:51.588Z"
   },
   {
    "duration": 28,
    "start_time": "2023-05-29T17:25:51.680Z"
   },
   {
    "duration": 10,
    "start_time": "2023-05-29T17:25:51.710Z"
   },
   {
    "duration": 21,
    "start_time": "2023-05-29T17:25:51.722Z"
   },
   {
    "duration": 32,
    "start_time": "2023-05-29T17:25:51.745Z"
   },
   {
    "duration": 28,
    "start_time": "2023-05-29T17:25:51.779Z"
   },
   {
    "duration": 5,
    "start_time": "2023-05-29T17:29:00.737Z"
   },
   {
    "duration": 1190,
    "start_time": "2023-05-30T18:06:55.597Z"
   },
   {
    "duration": 296,
    "start_time": "2023-05-30T18:06:56.788Z"
   },
   {
    "duration": 14,
    "start_time": "2023-05-30T18:06:57.086Z"
   },
   {
    "duration": 65,
    "start_time": "2023-05-30T18:06:57.102Z"
   },
   {
    "duration": 8,
    "start_time": "2023-05-30T18:06:57.169Z"
   },
   {
    "duration": 6,
    "start_time": "2023-05-30T18:06:57.179Z"
   },
   {
    "duration": 13,
    "start_time": "2023-05-30T18:06:57.186Z"
   },
   {
    "duration": 4,
    "start_time": "2023-05-30T18:06:57.201Z"
   },
   {
    "duration": 6,
    "start_time": "2023-05-30T18:06:57.207Z"
   },
   {
    "duration": 596,
    "start_time": "2023-05-30T18:06:57.215Z"
   },
   {
    "duration": 8,
    "start_time": "2023-05-30T18:06:57.813Z"
   },
   {
    "duration": 165,
    "start_time": "2023-05-30T18:06:57.822Z"
   },
   {
    "duration": 6,
    "start_time": "2023-05-30T18:06:57.988Z"
   },
   {
    "duration": 159,
    "start_time": "2023-05-30T18:06:57.996Z"
   },
   {
    "duration": 5,
    "start_time": "2023-05-30T18:06:58.157Z"
   },
   {
    "duration": 9,
    "start_time": "2023-05-30T18:06:58.164Z"
   },
   {
    "duration": 9,
    "start_time": "2023-05-30T18:06:58.175Z"
   },
   {
    "duration": 8,
    "start_time": "2023-05-30T18:06:58.186Z"
   },
   {
    "duration": 19,
    "start_time": "2023-05-30T18:06:58.195Z"
   },
   {
    "duration": 10,
    "start_time": "2023-05-30T18:06:58.215Z"
   },
   {
    "duration": 110,
    "start_time": "2023-05-30T18:06:58.250Z"
   },
   {
    "duration": 5,
    "start_time": "2023-05-30T18:06:58.361Z"
   },
   {
    "duration": 8,
    "start_time": "2023-05-30T18:06:58.368Z"
   },
   {
    "duration": 174,
    "start_time": "2023-05-30T18:06:58.377Z"
   },
   {
    "duration": 9,
    "start_time": "2023-05-30T18:06:58.553Z"
   },
   {
    "duration": 89,
    "start_time": "2023-05-30T18:06:58.563Z"
   },
   {
    "duration": 5,
    "start_time": "2023-05-30T18:06:58.654Z"
   },
   {
    "duration": 4,
    "start_time": "2023-05-30T18:06:58.662Z"
   },
   {
    "duration": 52540,
    "start_time": "2023-05-30T18:06:58.667Z"
   },
   {
    "duration": 6,
    "start_time": "2023-05-30T18:07:51.209Z"
   },
   {
    "duration": 5,
    "start_time": "2023-05-30T18:07:51.216Z"
   },
   {
    "duration": 11,
    "start_time": "2023-05-30T18:07:51.222Z"
   },
   {
    "duration": 15,
    "start_time": "2023-05-30T18:07:51.235Z"
   },
   {
    "duration": 33,
    "start_time": "2023-05-30T18:07:51.252Z"
   },
   {
    "duration": 10171,
    "start_time": "2023-05-30T18:07:51.287Z"
   },
   {
    "duration": 7,
    "start_time": "2023-05-30T18:08:01.459Z"
   },
   {
    "duration": 79,
    "start_time": "2023-05-30T18:08:01.473Z"
   },
   {
    "duration": 31,
    "start_time": "2023-05-30T18:08:01.554Z"
   },
   {
    "duration": 36,
    "start_time": "2023-05-30T18:08:01.587Z"
   },
   {
    "duration": 13,
    "start_time": "2023-05-30T18:08:01.625Z"
   },
   {
    "duration": 14,
    "start_time": "2023-05-30T18:08:01.640Z"
   },
   {
    "duration": 1185,
    "start_time": "2023-05-30T18:13:53.399Z"
   },
   {
    "duration": 41,
    "start_time": "2023-05-30T18:13:54.587Z"
   },
   {
    "duration": 16,
    "start_time": "2023-05-30T18:13:54.630Z"
   },
   {
    "duration": 66,
    "start_time": "2023-05-30T18:13:54.648Z"
   },
   {
    "duration": 8,
    "start_time": "2023-05-30T18:13:54.715Z"
   },
   {
    "duration": 6,
    "start_time": "2023-05-30T18:13:54.724Z"
   },
   {
    "duration": 27,
    "start_time": "2023-05-30T18:13:54.731Z"
   },
   {
    "duration": 4,
    "start_time": "2023-05-30T18:13:54.759Z"
   },
   {
    "duration": 6,
    "start_time": "2023-05-30T18:13:54.764Z"
   },
   {
    "duration": 383,
    "start_time": "2023-05-30T18:13:54.772Z"
   },
   {
    "duration": 6,
    "start_time": "2023-05-30T18:13:55.157Z"
   },
   {
    "duration": 172,
    "start_time": "2023-05-30T18:13:55.164Z"
   },
   {
    "duration": 4,
    "start_time": "2023-05-30T18:13:55.338Z"
   },
   {
    "duration": 136,
    "start_time": "2023-05-30T18:13:55.349Z"
   },
   {
    "duration": 4,
    "start_time": "2023-05-30T18:13:55.487Z"
   },
   {
    "duration": 8,
    "start_time": "2023-05-30T18:13:55.492Z"
   },
   {
    "duration": 4,
    "start_time": "2023-05-30T18:13:55.502Z"
   },
   {
    "duration": 4,
    "start_time": "2023-05-30T18:13:55.507Z"
   },
   {
    "duration": 40,
    "start_time": "2023-05-30T18:13:55.512Z"
   },
   {
    "duration": 7,
    "start_time": "2023-05-30T18:13:55.554Z"
   },
   {
    "duration": 98,
    "start_time": "2023-05-30T18:13:55.562Z"
   },
   {
    "duration": 4,
    "start_time": "2023-05-30T18:13:55.662Z"
   },
   {
    "duration": 11,
    "start_time": "2023-05-30T18:13:55.667Z"
   },
   {
    "duration": 5,
    "start_time": "2023-05-30T18:13:55.679Z"
   },
   {
    "duration": 164,
    "start_time": "2023-05-30T18:13:55.685Z"
   },
   {
    "duration": 3,
    "start_time": "2023-05-30T18:13:55.851Z"
   },
   {
    "duration": 4,
    "start_time": "2023-05-30T18:13:55.856Z"
   },
   {
    "duration": 3,
    "start_time": "2023-05-30T18:13:55.863Z"
   },
   {
    "duration": 52559,
    "start_time": "2023-05-30T18:13:55.868Z"
   },
   {
    "duration": 6,
    "start_time": "2023-05-30T18:14:48.429Z"
   },
   {
    "duration": 5,
    "start_time": "2023-05-30T18:14:48.436Z"
   },
   {
    "duration": 6,
    "start_time": "2023-05-30T18:14:48.443Z"
   },
   {
    "duration": 8,
    "start_time": "2023-05-30T18:14:48.451Z"
   },
   {
    "duration": 13,
    "start_time": "2023-05-30T18:14:48.461Z"
   },
   {
    "duration": 13585,
    "start_time": "2023-05-30T18:14:48.476Z"
   },
   {
    "duration": 89,
    "start_time": "2023-05-30T18:15:02.062Z"
   },
   {
    "duration": 38,
    "start_time": "2023-05-30T18:15:02.153Z"
   },
   {
    "duration": 22,
    "start_time": "2023-05-30T18:15:02.192Z"
   },
   {
    "duration": 8,
    "start_time": "2023-05-30T18:15:02.215Z"
   },
   {
    "duration": 28,
    "start_time": "2023-05-30T18:15:02.224Z"
   },
   {
    "duration": 29,
    "start_time": "2023-05-30T18:15:02.254Z"
   },
   {
    "duration": 143,
    "start_time": "2023-05-30T18:17:50.304Z"
   },
   {
    "duration": 1216,
    "start_time": "2023-05-30T18:17:59.277Z"
   },
   {
    "duration": 40,
    "start_time": "2023-05-30T18:18:00.495Z"
   },
   {
    "duration": 20,
    "start_time": "2023-05-30T18:18:00.536Z"
   },
   {
    "duration": 99,
    "start_time": "2023-05-30T18:18:00.558Z"
   },
   {
    "duration": 44,
    "start_time": "2023-05-30T18:18:00.659Z"
   },
   {
    "duration": 36,
    "start_time": "2023-05-30T18:18:00.705Z"
   },
   {
    "duration": 60,
    "start_time": "2023-05-30T18:18:00.742Z"
   },
   {
    "duration": 39,
    "start_time": "2023-05-30T18:18:00.804Z"
   },
   {
    "duration": 45,
    "start_time": "2023-05-30T18:18:00.845Z"
   },
   {
    "duration": 428,
    "start_time": "2023-05-30T18:18:00.893Z"
   },
   {
    "duration": 7,
    "start_time": "2023-05-30T18:18:01.323Z"
   },
   {
    "duration": 185,
    "start_time": "2023-05-30T18:18:01.331Z"
   },
   {
    "duration": 4,
    "start_time": "2023-05-30T18:18:01.518Z"
   },
   {
    "duration": 174,
    "start_time": "2023-05-30T18:18:01.524Z"
   },
   {
    "duration": 7,
    "start_time": "2023-05-30T18:18:01.700Z"
   },
   {
    "duration": 39,
    "start_time": "2023-05-30T18:18:01.708Z"
   },
   {
    "duration": 18,
    "start_time": "2023-05-30T18:18:01.750Z"
   },
   {
    "duration": 29,
    "start_time": "2023-05-30T18:18:01.770Z"
   },
   {
    "duration": 55,
    "start_time": "2023-05-30T18:18:01.802Z"
   },
   {
    "duration": 8,
    "start_time": "2023-05-30T18:18:01.860Z"
   },
   {
    "duration": 132,
    "start_time": "2023-05-30T18:18:01.871Z"
   },
   {
    "duration": 14,
    "start_time": "2023-05-30T18:18:02.005Z"
   },
   {
    "duration": 25,
    "start_time": "2023-05-30T18:18:02.021Z"
   },
   {
    "duration": 21,
    "start_time": "2023-05-30T18:18:02.047Z"
   },
   {
    "duration": 86,
    "start_time": "2023-05-30T18:18:02.070Z"
   },
   {
    "duration": 99,
    "start_time": "2023-05-30T18:18:02.157Z"
   },
   {
    "duration": 26,
    "start_time": "2023-05-30T18:18:02.258Z"
   },
   {
    "duration": 9,
    "start_time": "2023-05-30T18:18:02.287Z"
   },
   {
    "duration": 53666,
    "start_time": "2023-05-30T18:18:02.297Z"
   },
   {
    "duration": 8,
    "start_time": "2023-05-30T18:18:55.964Z"
   },
   {
    "duration": 6,
    "start_time": "2023-05-30T18:18:55.973Z"
   },
   {
    "duration": 6,
    "start_time": "2023-05-30T18:18:55.981Z"
   },
   {
    "duration": 9,
    "start_time": "2023-05-30T18:18:55.989Z"
   },
   {
    "duration": 7,
    "start_time": "2023-05-30T18:18:55.999Z"
   },
   {
    "duration": 59350,
    "start_time": "2023-05-30T18:18:56.007Z"
   },
   {
    "duration": 9,
    "start_time": "2023-05-30T18:19:55.358Z"
   },
   {
    "duration": 4,
    "start_time": "2023-05-30T18:19:55.369Z"
   },
   {
    "duration": 76,
    "start_time": "2023-05-30T18:19:55.374Z"
   },
   {
    "duration": 4,
    "start_time": "2023-05-30T18:19:55.452Z"
   },
   {
    "duration": 13,
    "start_time": "2023-05-30T18:19:55.457Z"
   },
   {
    "duration": 8,
    "start_time": "2023-05-30T18:19:55.472Z"
   },
   {
    "duration": 157,
    "start_time": "2023-05-30T18:23:58.155Z"
   },
   {
    "duration": 110,
    "start_time": "2023-05-30T18:29:44.392Z"
   },
   {
    "duration": 7,
    "start_time": "2023-05-30T18:29:52.879Z"
   },
   {
    "duration": 8,
    "start_time": "2023-05-30T18:29:57.093Z"
   },
   {
    "duration": 1213,
    "start_time": "2023-05-30T18:34:33.254Z"
   },
   {
    "duration": 41,
    "start_time": "2023-05-30T18:34:34.469Z"
   },
   {
    "duration": 13,
    "start_time": "2023-05-30T18:34:34.514Z"
   },
   {
    "duration": 11,
    "start_time": "2023-05-30T18:34:34.529Z"
   },
   {
    "duration": 9,
    "start_time": "2023-05-30T18:34:34.542Z"
   },
   {
    "duration": 7,
    "start_time": "2023-05-30T18:34:34.552Z"
   },
   {
    "duration": 14,
    "start_time": "2023-05-30T18:34:34.561Z"
   },
   {
    "duration": 4,
    "start_time": "2023-05-30T18:34:34.576Z"
   },
   {
    "duration": 7,
    "start_time": "2023-05-30T18:34:34.582Z"
   },
   {
    "duration": 433,
    "start_time": "2023-05-30T18:34:34.592Z"
   },
   {
    "duration": 7,
    "start_time": "2023-05-30T18:34:35.027Z"
   },
   {
    "duration": 163,
    "start_time": "2023-05-30T18:34:35.050Z"
   },
   {
    "duration": 5,
    "start_time": "2023-05-30T18:34:35.215Z"
   },
   {
    "duration": 169,
    "start_time": "2023-05-30T18:34:35.221Z"
   },
   {
    "duration": 5,
    "start_time": "2023-05-30T18:34:35.393Z"
   },
   {
    "duration": 16,
    "start_time": "2023-05-30T18:34:35.399Z"
   },
   {
    "duration": 10,
    "start_time": "2023-05-30T18:34:35.417Z"
   },
   {
    "duration": 5,
    "start_time": "2023-05-30T18:34:35.429Z"
   },
   {
    "duration": 22,
    "start_time": "2023-05-30T18:34:35.436Z"
   },
   {
    "duration": 7,
    "start_time": "2023-05-30T18:34:35.460Z"
   },
   {
    "duration": 15,
    "start_time": "2023-05-30T18:34:35.468Z"
   },
   {
    "duration": 5,
    "start_time": "2023-05-30T18:34:35.484Z"
   },
   {
    "duration": 4,
    "start_time": "2023-05-30T18:34:35.491Z"
   },
   {
    "duration": 4,
    "start_time": "2023-05-30T18:34:35.496Z"
   },
   {
    "duration": 10,
    "start_time": "2023-05-30T18:34:35.501Z"
   },
   {
    "duration": 110,
    "start_time": "2023-05-30T18:34:35.513Z"
   },
   {
    "duration": 0,
    "start_time": "2023-05-30T18:34:35.625Z"
   },
   {
    "duration": 0,
    "start_time": "2023-05-30T18:34:35.627Z"
   },
   {
    "duration": 0,
    "start_time": "2023-05-30T18:34:35.627Z"
   },
   {
    "duration": 0,
    "start_time": "2023-05-30T18:34:35.629Z"
   },
   {
    "duration": 0,
    "start_time": "2023-05-30T18:34:35.630Z"
   },
   {
    "duration": 0,
    "start_time": "2023-05-30T18:34:35.631Z"
   },
   {
    "duration": 0,
    "start_time": "2023-05-30T18:34:35.632Z"
   },
   {
    "duration": 0,
    "start_time": "2023-05-30T18:34:35.650Z"
   },
   {
    "duration": 0,
    "start_time": "2023-05-30T18:34:35.652Z"
   },
   {
    "duration": 0,
    "start_time": "2023-05-30T18:34:35.653Z"
   },
   {
    "duration": 1178,
    "start_time": "2023-05-30T19:07:35.653Z"
   },
   {
    "duration": 43,
    "start_time": "2023-05-30T19:07:36.833Z"
   },
   {
    "duration": 17,
    "start_time": "2023-05-30T19:07:36.878Z"
   },
   {
    "duration": 13,
    "start_time": "2023-05-30T19:07:36.898Z"
   },
   {
    "duration": 8,
    "start_time": "2023-05-30T19:07:36.913Z"
   },
   {
    "duration": 8,
    "start_time": "2023-05-30T19:07:36.923Z"
   },
   {
    "duration": 28,
    "start_time": "2023-05-30T19:07:36.932Z"
   },
   {
    "duration": 4,
    "start_time": "2023-05-30T19:07:36.962Z"
   },
   {
    "duration": 5,
    "start_time": "2023-05-30T19:07:36.968Z"
   },
   {
    "duration": 423,
    "start_time": "2023-05-30T19:07:36.976Z"
   },
   {
    "duration": 7,
    "start_time": "2023-05-30T19:07:37.401Z"
   },
   {
    "duration": 155,
    "start_time": "2023-05-30T19:07:37.410Z"
   },
   {
    "duration": 4,
    "start_time": "2023-05-30T19:07:37.567Z"
   },
   {
    "duration": 160,
    "start_time": "2023-05-30T19:07:37.572Z"
   },
   {
    "duration": 4,
    "start_time": "2023-05-30T19:07:37.734Z"
   },
   {
    "duration": 16,
    "start_time": "2023-05-30T19:07:37.740Z"
   },
   {
    "duration": 6,
    "start_time": "2023-05-30T19:07:37.757Z"
   },
   {
    "duration": 11,
    "start_time": "2023-05-30T19:07:37.764Z"
   },
   {
    "duration": 14,
    "start_time": "2023-05-30T19:07:37.777Z"
   },
   {
    "duration": 6,
    "start_time": "2023-05-30T19:07:37.793Z"
   },
   {
    "duration": 5,
    "start_time": "2023-05-30T19:07:37.801Z"
   },
   {
    "duration": 5,
    "start_time": "2023-05-30T19:07:37.808Z"
   },
   {
    "duration": 4,
    "start_time": "2023-05-30T19:07:37.815Z"
   },
   {
    "duration": 2,
    "start_time": "2023-05-30T19:07:37.852Z"
   },
   {
    "duration": 5,
    "start_time": "2023-05-30T19:07:37.856Z"
   },
   {
    "duration": 55428,
    "start_time": "2023-05-30T19:07:37.863Z"
   },
   {
    "duration": 6,
    "start_time": "2023-05-30T19:08:33.293Z"
   },
   {
    "duration": 6,
    "start_time": "2023-05-30T19:08:33.302Z"
   },
   {
    "duration": 3,
    "start_time": "2023-05-30T19:08:33.310Z"
   },
   {
    "duration": 6,
    "start_time": "2023-05-30T19:08:33.315Z"
   },
   {
    "duration": 4,
    "start_time": "2023-05-30T19:08:33.322Z"
   },
   {
    "duration": 148386,
    "start_time": "2023-05-30T19:08:33.328Z"
   },
   {
    "duration": 0,
    "start_time": "2023-05-30T19:11:01.717Z"
   },
   {
    "duration": 0,
    "start_time": "2023-05-30T19:11:01.718Z"
   },
   {
    "duration": 0,
    "start_time": "2023-05-30T19:11:01.719Z"
   },
   {
    "duration": 0,
    "start_time": "2023-05-30T19:11:01.721Z"
   },
   {
    "duration": 1207,
    "start_time": "2023-05-30T19:11:31.359Z"
   },
   {
    "duration": 42,
    "start_time": "2023-05-30T19:11:32.568Z"
   },
   {
    "duration": 18,
    "start_time": "2023-05-30T19:11:32.612Z"
   },
   {
    "duration": 15,
    "start_time": "2023-05-30T19:11:32.632Z"
   },
   {
    "duration": 14,
    "start_time": "2023-05-30T19:11:32.650Z"
   },
   {
    "duration": 14,
    "start_time": "2023-05-30T19:11:32.666Z"
   },
   {
    "duration": 13,
    "start_time": "2023-05-30T19:11:32.682Z"
   },
   {
    "duration": 4,
    "start_time": "2023-05-30T19:11:32.697Z"
   },
   {
    "duration": 7,
    "start_time": "2023-05-30T19:11:32.704Z"
   },
   {
    "duration": 553,
    "start_time": "2023-05-30T19:11:32.714Z"
   },
   {
    "duration": 9,
    "start_time": "2023-05-30T19:11:33.269Z"
   },
   {
    "duration": 160,
    "start_time": "2023-05-30T19:11:33.280Z"
   },
   {
    "duration": 8,
    "start_time": "2023-05-30T19:11:33.442Z"
   },
   {
    "duration": 169,
    "start_time": "2023-05-30T19:11:33.453Z"
   },
   {
    "duration": 8,
    "start_time": "2023-05-30T19:11:33.624Z"
   },
   {
    "duration": 18,
    "start_time": "2023-05-30T19:11:33.634Z"
   },
   {
    "duration": 5,
    "start_time": "2023-05-30T19:11:33.654Z"
   },
   {
    "duration": 4,
    "start_time": "2023-05-30T19:11:33.661Z"
   },
   {
    "duration": 18,
    "start_time": "2023-05-30T19:11:33.667Z"
   },
   {
    "duration": 7,
    "start_time": "2023-05-30T19:11:33.687Z"
   },
   {
    "duration": 4,
    "start_time": "2023-05-30T19:11:33.696Z"
   },
   {
    "duration": 5,
    "start_time": "2023-05-30T19:11:33.701Z"
   },
   {
    "duration": 10,
    "start_time": "2023-05-30T19:11:33.707Z"
   },
   {
    "duration": 32,
    "start_time": "2023-05-30T19:11:33.719Z"
   },
   {
    "duration": 29,
    "start_time": "2023-05-30T19:11:33.753Z"
   },
   {
    "duration": 55748,
    "start_time": "2023-05-30T19:11:33.784Z"
   },
   {
    "duration": 8,
    "start_time": "2023-05-30T19:12:29.534Z"
   },
   {
    "duration": 5,
    "start_time": "2023-05-30T19:12:29.546Z"
   },
   {
    "duration": 13,
    "start_time": "2023-05-30T19:12:29.553Z"
   },
   {
    "duration": 23,
    "start_time": "2023-05-30T19:12:29.567Z"
   },
   {
    "duration": 18,
    "start_time": "2023-05-30T19:12:29.592Z"
   },
   {
    "duration": 608649,
    "start_time": "2023-05-30T19:12:29.612Z"
   },
   {
    "duration": 90,
    "start_time": "2023-05-30T19:22:38.263Z"
   },
   {
    "duration": 5,
    "start_time": "2023-05-30T19:22:38.355Z"
   },
   {
    "duration": 5,
    "start_time": "2023-05-30T19:22:38.362Z"
   },
   {
    "duration": 4,
    "start_time": "2023-05-30T19:22:38.369Z"
   },
   {
    "duration": 3403,
    "start_time": "2023-06-01T18:01:51.592Z"
   },
   {
    "duration": 129,
    "start_time": "2023-06-01T18:01:54.996Z"
   },
   {
    "duration": 14,
    "start_time": "2023-06-01T18:01:55.127Z"
   },
   {
    "duration": 14,
    "start_time": "2023-06-01T18:01:55.143Z"
   },
   {
    "duration": 10,
    "start_time": "2023-06-01T18:01:59.725Z"
   },
   {
    "duration": 4,
    "start_time": "2023-06-01T18:01:59.878Z"
   },
   {
    "duration": 12,
    "start_time": "2023-06-01T18:02:00.358Z"
   },
   {
    "duration": 5,
    "start_time": "2023-06-01T18:02:02.462Z"
   },
   {
    "duration": 5,
    "start_time": "2023-06-01T18:02:02.965Z"
   },
   {
    "duration": 646,
    "start_time": "2023-06-01T18:02:03.895Z"
   },
   {
    "duration": 4,
    "start_time": "2023-06-01T18:04:11.846Z"
   },
   {
    "duration": 8,
    "start_time": "2023-06-01T18:04:19.700Z"
   },
   {
    "duration": 157,
    "start_time": "2023-06-01T18:04:20.344Z"
   },
   {
    "duration": 119,
    "start_time": "2023-06-01T18:04:42.138Z"
   },
   {
    "duration": 11,
    "start_time": "2023-06-01T18:05:02.142Z"
   },
   {
    "duration": 25,
    "start_time": "2023-06-01T18:05:39.446Z"
   },
   {
    "duration": 21,
    "start_time": "2023-06-01T18:05:43.062Z"
   },
   {
    "duration": 128,
    "start_time": "2023-06-01T18:06:02.300Z"
   },
   {
    "duration": 243,
    "start_time": "2023-06-01T18:06:08.342Z"
   },
   {
    "duration": 244,
    "start_time": "2023-06-01T18:06:24.610Z"
   },
   {
    "duration": 166,
    "start_time": "2023-06-01T18:06:32.097Z"
   },
   {
    "duration": 295,
    "start_time": "2023-06-01T18:06:32.840Z"
   },
   {
    "duration": 213,
    "start_time": "2023-06-01T18:06:34.036Z"
   },
   {
    "duration": 135,
    "start_time": "2023-06-01T18:06:39.965Z"
   },
   {
    "duration": 319,
    "start_time": "2023-06-01T18:06:40.461Z"
   },
   {
    "duration": 199,
    "start_time": "2023-06-01T18:06:41.304Z"
   },
   {
    "duration": 72,
    "start_time": "2023-06-01T18:06:58.511Z"
   },
   {
    "duration": 246,
    "start_time": "2023-06-01T18:06:58.990Z"
   },
   {
    "duration": 181,
    "start_time": "2023-06-01T18:06:59.822Z"
   },
   {
    "duration": 165,
    "start_time": "2023-06-01T18:07:06.823Z"
   },
   {
    "duration": 230,
    "start_time": "2023-06-01T18:07:07.790Z"
   },
   {
    "duration": 195,
    "start_time": "2023-06-01T18:07:08.774Z"
   },
   {
    "duration": 555,
    "start_time": "2023-06-01T18:07:16.485Z"
   },
   {
    "duration": 529,
    "start_time": "2023-06-01T18:07:24.981Z"
   },
   {
    "duration": 390,
    "start_time": "2023-06-01T18:08:34.607Z"
   },
   {
    "duration": 1571,
    "start_time": "2023-06-01T18:08:54.041Z"
   },
   {
    "duration": 50,
    "start_time": "2023-06-01T18:08:55.614Z"
   },
   {
    "duration": 12,
    "start_time": "2023-06-01T18:08:55.667Z"
   },
   {
    "duration": 13,
    "start_time": "2023-06-01T18:08:55.681Z"
   },
   {
    "duration": 10,
    "start_time": "2023-06-01T18:08:55.695Z"
   },
   {
    "duration": 7,
    "start_time": "2023-06-01T18:08:55.753Z"
   },
   {
    "duration": 12,
    "start_time": "2023-06-01T18:08:56.085Z"
   },
   {
    "duration": 4,
    "start_time": "2023-06-01T18:08:56.444Z"
   },
   {
    "duration": 4,
    "start_time": "2023-06-01T18:08:56.973Z"
   },
   {
    "duration": 274,
    "start_time": "2023-06-01T18:08:57.541Z"
   },
   {
    "duration": 8,
    "start_time": "2023-06-01T18:08:58.274Z"
   },
   {
    "duration": 175,
    "start_time": "2023-06-01T18:08:59.317Z"
   },
   {
    "duration": 157,
    "start_time": "2023-06-01T18:08:59.536Z"
   },
   {
    "duration": 599,
    "start_time": "2023-06-01T18:08:59.997Z"
   },
   {
    "duration": 365,
    "start_time": "2023-06-01T18:09:00.598Z"
   },
   {
    "duration": 609,
    "start_time": "2023-06-01T18:09:17.342Z"
   },
   {
    "duration": 853,
    "start_time": "2023-06-01T18:09:29.914Z"
   },
   {
    "duration": 113,
    "start_time": "2023-06-01T18:12:53.260Z"
   },
   {
    "duration": 428,
    "start_time": "2023-06-01T18:13:12.811Z"
   },
   {
    "duration": 1527,
    "start_time": "2023-06-01T18:17:09.416Z"
   },
   {
    "duration": 44,
    "start_time": "2023-06-01T18:17:10.946Z"
   },
   {
    "duration": 11,
    "start_time": "2023-06-01T18:17:10.992Z"
   },
   {
    "duration": 21,
    "start_time": "2023-06-01T18:17:11.004Z"
   },
   {
    "duration": 23,
    "start_time": "2023-06-01T18:17:11.027Z"
   },
   {
    "duration": 6,
    "start_time": "2023-06-01T18:17:11.151Z"
   },
   {
    "duration": 16,
    "start_time": "2023-06-01T18:17:11.582Z"
   },
   {
    "duration": 7,
    "start_time": "2023-06-01T18:17:12.352Z"
   },
   {
    "duration": 5,
    "start_time": "2023-06-01T18:17:12.943Z"
   },
   {
    "duration": 241,
    "start_time": "2023-06-01T18:17:13.519Z"
   },
   {
    "duration": 9,
    "start_time": "2023-06-01T18:17:15.739Z"
   },
   {
    "duration": 216,
    "start_time": "2023-06-01T18:17:17.103Z"
   },
   {
    "duration": 560,
    "start_time": "2023-06-01T18:17:20.440Z"
   },
   {
    "duration": 111,
    "start_time": "2023-06-01T18:17:39.199Z"
   },
   {
    "duration": 305,
    "start_time": "2023-06-01T18:17:48.133Z"
   },
   {
    "duration": 342,
    "start_time": "2023-06-01T18:18:00.652Z"
   },
   {
    "duration": 720,
    "start_time": "2023-06-01T18:18:17.244Z"
   },
   {
    "duration": 416,
    "start_time": "2023-06-01T18:18:34.785Z"
   },
   {
    "duration": 423,
    "start_time": "2023-06-01T18:18:59.000Z"
   },
   {
    "duration": 1084,
    "start_time": "2023-06-01T18:19:12.440Z"
   },
   {
    "duration": 733,
    "start_time": "2023-06-01T18:19:34.640Z"
   },
   {
    "duration": 955,
    "start_time": "2023-06-01T18:19:42.751Z"
   },
   {
    "duration": 963,
    "start_time": "2023-06-01T18:21:36.239Z"
   },
   {
    "duration": 694,
    "start_time": "2023-06-01T18:22:23.384Z"
   },
   {
    "duration": 621,
    "start_time": "2023-06-01T18:22:38.367Z"
   },
   {
    "duration": 169,
    "start_time": "2023-06-01T18:27:08.544Z"
   },
   {
    "duration": 131,
    "start_time": "2023-06-01T18:28:04.910Z"
   },
   {
    "duration": 180,
    "start_time": "2023-06-01T18:28:12.643Z"
   },
   {
    "duration": 11,
    "start_time": "2023-06-01T18:28:31.133Z"
   },
   {
    "duration": 20,
    "start_time": "2023-06-01T18:28:49.951Z"
   },
   {
    "duration": 183,
    "start_time": "2023-06-01T18:28:58.673Z"
   },
   {
    "duration": 19,
    "start_time": "2023-06-01T18:29:22.357Z"
   },
   {
    "duration": 126,
    "start_time": "2023-06-01T18:30:03.221Z"
   },
   {
    "duration": 309,
    "start_time": "2023-06-01T18:30:19.043Z"
   },
   {
    "duration": 217,
    "start_time": "2023-06-01T18:30:36.263Z"
   },
   {
    "duration": 233,
    "start_time": "2023-06-01T18:30:40.759Z"
   },
   {
    "duration": 298,
    "start_time": "2023-06-01T18:30:46.788Z"
   },
   {
    "duration": 316,
    "start_time": "2023-06-01T18:30:58.468Z"
   },
   {
    "duration": 20,
    "start_time": "2023-06-01T18:37:51.876Z"
   },
   {
    "duration": 16,
    "start_time": "2023-06-01T18:38:03.504Z"
   },
   {
    "duration": 13,
    "start_time": "2023-06-01T18:39:07.803Z"
   },
   {
    "duration": 5,
    "start_time": "2023-06-01T18:39:14.196Z"
   },
   {
    "duration": 18,
    "start_time": "2023-06-01T18:39:18.793Z"
   },
   {
    "duration": 14,
    "start_time": "2023-06-01T18:39:26.682Z"
   },
   {
    "duration": 7,
    "start_time": "2023-06-01T18:40:00.437Z"
   },
   {
    "duration": 1596,
    "start_time": "2023-06-01T18:41:14.108Z"
   },
   {
    "duration": 56,
    "start_time": "2023-06-01T18:41:15.706Z"
   },
   {
    "duration": 21,
    "start_time": "2023-06-01T18:41:15.765Z"
   },
   {
    "duration": 18,
    "start_time": "2023-06-01T18:41:15.789Z"
   },
   {
    "duration": 132,
    "start_time": "2023-06-01T18:41:15.808Z"
   },
   {
    "duration": 0,
    "start_time": "2023-06-01T18:41:15.941Z"
   },
   {
    "duration": 56,
    "start_time": "2023-06-01T18:41:30.947Z"
   },
   {
    "duration": 8,
    "start_time": "2023-06-01T18:41:31.111Z"
   },
   {
    "duration": 12,
    "start_time": "2023-06-01T18:41:31.282Z"
   },
   {
    "duration": 13,
    "start_time": "2023-06-01T18:41:32.959Z"
   },
   {
    "duration": 7,
    "start_time": "2023-06-01T18:41:33.567Z"
   },
   {
    "duration": 14,
    "start_time": "2023-06-01T18:41:34.526Z"
   },
   {
    "duration": 5,
    "start_time": "2023-06-01T18:41:35.379Z"
   },
   {
    "duration": 5,
    "start_time": "2023-06-01T18:41:37.043Z"
   },
   {
    "duration": 291,
    "start_time": "2023-06-01T18:41:37.544Z"
   },
   {
    "duration": 8,
    "start_time": "2023-06-01T18:41:38.268Z"
   },
   {
    "duration": 180,
    "start_time": "2023-06-01T18:41:41.191Z"
   },
   {
    "duration": 24,
    "start_time": "2023-06-01T18:42:32.516Z"
   },
   {
    "duration": 7,
    "start_time": "2023-06-01T18:42:45.602Z"
   },
   {
    "duration": 23,
    "start_time": "2023-06-01T18:43:05.639Z"
   },
   {
    "duration": 15,
    "start_time": "2023-06-01T18:43:25.008Z"
   },
   {
    "duration": 8,
    "start_time": "2023-06-01T18:43:29.319Z"
   },
   {
    "duration": 183,
    "start_time": "2023-06-01T18:44:56.045Z"
   },
   {
    "duration": 753,
    "start_time": "2023-06-01T18:45:05.591Z"
   },
   {
    "duration": 344,
    "start_time": "2023-06-01T18:45:06.347Z"
   },
   {
    "duration": 19,
    "start_time": "2023-06-01T18:46:41.868Z"
   },
   {
    "duration": 11,
    "start_time": "2023-06-01T18:47:19.413Z"
   },
   {
    "duration": 13,
    "start_time": "2023-06-01T18:48:13.177Z"
   },
   {
    "duration": 7,
    "start_time": "2023-06-01T18:53:49.872Z"
   },
   {
    "duration": 13,
    "start_time": "2023-06-01T18:53:50.177Z"
   },
   {
    "duration": 13,
    "start_time": "2023-06-01T18:53:50.775Z"
   },
   {
    "duration": 5,
    "start_time": "2023-06-01T18:53:50.926Z"
   },
   {
    "duration": 5,
    "start_time": "2023-06-01T18:53:51.078Z"
   },
   {
    "duration": 3,
    "start_time": "2023-06-01T18:53:51.544Z"
   },
   {
    "duration": 2,
    "start_time": "2023-06-01T18:53:51.710Z"
   },
   {
    "duration": 5,
    "start_time": "2023-06-01T18:53:51.871Z"
   },
   {
    "duration": 76461,
    "start_time": "2023-06-01T18:53:52.046Z"
   },
   {
    "duration": 11,
    "start_time": "2023-06-01T18:55:08.509Z"
   },
   {
    "duration": 6,
    "start_time": "2023-06-01T18:55:08.522Z"
   },
   {
    "duration": 6,
    "start_time": "2023-06-01T18:55:08.530Z"
   },
   {
    "duration": 30,
    "start_time": "2023-06-01T18:55:08.537Z"
   },
   {
    "duration": 5,
    "start_time": "2023-06-01T18:55:08.569Z"
   },
   {
    "duration": 3294683,
    "start_time": "2023-06-01T18:55:08.576Z"
   },
   {
    "duration": 88,
    "start_time": "2023-06-01T19:50:03.261Z"
   },
   {
    "duration": 15,
    "start_time": "2023-06-01T19:50:03.351Z"
   },
   {
    "duration": 28,
    "start_time": "2023-06-01T19:50:03.369Z"
   },
   {
    "duration": 23,
    "start_time": "2023-06-01T19:50:03.400Z"
   },
   {
    "duration": 1524,
    "start_time": "2023-06-02T17:24:32.970Z"
   },
   {
    "duration": 294,
    "start_time": "2023-06-02T17:24:34.497Z"
   },
   {
    "duration": 10,
    "start_time": "2023-06-02T17:24:34.793Z"
   },
   {
    "duration": 20,
    "start_time": "2023-06-02T17:24:34.805Z"
   },
   {
    "duration": 7,
    "start_time": "2023-06-02T17:24:34.827Z"
   },
   {
    "duration": 8,
    "start_time": "2023-06-02T17:24:34.836Z"
   },
   {
    "duration": 13,
    "start_time": "2023-06-02T17:24:35.479Z"
   },
   {
    "duration": 4,
    "start_time": "2023-06-02T17:24:35.826Z"
   },
   {
    "duration": 4,
    "start_time": "2023-06-02T17:24:36.566Z"
   },
   {
    "duration": 275,
    "start_time": "2023-06-02T17:24:39.821Z"
   },
   {
    "duration": 10,
    "start_time": "2023-06-02T17:24:44.927Z"
   },
   {
    "duration": 607,
    "start_time": "2023-06-02T17:24:46.374Z"
   },
   {
    "duration": 305,
    "start_time": "2023-06-02T17:24:54.857Z"
   },
   {
    "duration": 131,
    "start_time": "2023-06-02T17:24:58.869Z"
   },
   {
    "duration": 124,
    "start_time": "2023-06-02T17:30:54.115Z"
   },
   {
    "duration": 2581,
    "start_time": "2023-06-02T17:32:54.970Z"
   },
   {
    "duration": 154,
    "start_time": "2023-06-02T17:33:20.094Z"
   },
   {
    "duration": 6,
    "start_time": "2023-06-02T17:33:50.823Z"
   },
   {
    "duration": 1376,
    "start_time": "2023-06-02T17:36:19.004Z"
   },
   {
    "duration": 44,
    "start_time": "2023-06-02T17:36:20.382Z"
   },
   {
    "duration": 14,
    "start_time": "2023-06-02T17:36:20.429Z"
   },
   {
    "duration": 11,
    "start_time": "2023-06-02T17:36:20.445Z"
   },
   {
    "duration": 7,
    "start_time": "2023-06-02T17:36:20.638Z"
   },
   {
    "duration": 5,
    "start_time": "2023-06-02T17:36:20.821Z"
   },
   {
    "duration": 17,
    "start_time": "2023-06-02T17:36:21.306Z"
   },
   {
    "duration": 4,
    "start_time": "2023-06-02T17:36:21.941Z"
   },
   {
    "duration": 4,
    "start_time": "2023-06-02T17:36:22.757Z"
   },
   {
    "duration": 226,
    "start_time": "2023-06-02T17:36:23.708Z"
   },
   {
    "duration": 135,
    "start_time": "2023-06-02T17:36:24.422Z"
   },
   {
    "duration": 2398,
    "start_time": "2023-06-02T17:36:24.774Z"
   },
   {
    "duration": 155,
    "start_time": "2023-06-02T17:36:27.173Z"
   },
   {
    "duration": 6,
    "start_time": "2023-06-02T17:36:27.330Z"
   },
   {
    "duration": 641,
    "start_time": "2023-06-02T17:36:28.136Z"
   },
   {
    "duration": 304,
    "start_time": "2023-06-02T17:36:28.853Z"
   },
   {
    "duration": 299,
    "start_time": "2023-06-02T17:38:21.772Z"
   },
   {
    "duration": 5,
    "start_time": "2023-06-02T17:38:51.916Z"
   },
   {
    "duration": 12,
    "start_time": "2023-06-02T17:38:53.303Z"
   },
   {
    "duration": 105,
    "start_time": "2023-06-02T18:25:02.788Z"
   },
   {
    "duration": 4,
    "start_time": "2023-06-02T18:25:29.159Z"
   },
   {
    "duration": 1383,
    "start_time": "2023-06-02T18:30:25.935Z"
   },
   {
    "duration": 41,
    "start_time": "2023-06-02T18:30:27.320Z"
   },
   {
    "duration": 10,
    "start_time": "2023-06-02T18:30:27.363Z"
   },
   {
    "duration": 24,
    "start_time": "2023-06-02T18:30:27.375Z"
   },
   {
    "duration": 12,
    "start_time": "2023-06-02T18:30:27.501Z"
   },
   {
    "duration": 5,
    "start_time": "2023-06-02T18:30:27.670Z"
   },
   {
    "duration": 14,
    "start_time": "2023-06-02T18:30:28.014Z"
   },
   {
    "duration": 4,
    "start_time": "2023-06-02T18:30:28.357Z"
   },
   {
    "duration": 3,
    "start_time": "2023-06-02T18:30:28.878Z"
   },
   {
    "duration": 231,
    "start_time": "2023-06-02T18:30:29.421Z"
   },
   {
    "duration": 6,
    "start_time": "2023-06-02T18:30:30.183Z"
   },
   {
    "duration": 608,
    "start_time": "2023-06-02T18:30:30.581Z"
   },
   {
    "duration": 358,
    "start_time": "2023-06-02T18:30:31.191Z"
   },
   {
    "duration": 119,
    "start_time": "2023-06-02T18:30:32.061Z"
   },
   {
    "duration": 2561,
    "start_time": "2023-06-02T18:30:33.054Z"
   },
   {
    "duration": 139,
    "start_time": "2023-06-02T18:30:35.616Z"
   },
   {
    "duration": 4,
    "start_time": "2023-06-02T18:30:36.844Z"
   },
   {
    "duration": 8,
    "start_time": "2023-06-02T18:30:37.595Z"
   },
   {
    "duration": 7,
    "start_time": "2023-06-02T18:30:38.443Z"
   },
   {
    "duration": 3,
    "start_time": "2023-06-02T18:30:38.668Z"
   },
   {
    "duration": 3,
    "start_time": "2023-06-02T18:30:38.876Z"
   },
   {
    "duration": 3,
    "start_time": "2023-06-02T18:30:39.741Z"
   },
   {
    "duration": 3,
    "start_time": "2023-06-02T18:30:39.926Z"
   },
   {
    "duration": 3,
    "start_time": "2023-06-02T18:30:40.124Z"
   },
   {
    "duration": 72132,
    "start_time": "2023-06-02T18:30:40.324Z"
   },
   {
    "duration": 7,
    "start_time": "2023-06-02T18:31:52.458Z"
   },
   {
    "duration": 6,
    "start_time": "2023-06-02T18:31:52.468Z"
   },
   {
    "duration": 13,
    "start_time": "2023-06-02T18:31:52.476Z"
   },
   {
    "duration": 11,
    "start_time": "2023-06-02T18:31:52.492Z"
   },
   {
    "duration": 7,
    "start_time": "2023-06-02T18:31:52.504Z"
   },
   {
    "duration": 12605,
    "start_time": "2023-06-02T18:31:52.513Z"
   },
   {
    "duration": 91,
    "start_time": "2023-06-02T18:32:05.119Z"
   },
   {
    "duration": 4,
    "start_time": "2023-06-02T18:32:05.212Z"
   },
   {
    "duration": 3,
    "start_time": "2023-06-02T18:44:58.902Z"
   },
   {
    "duration": 5,
    "start_time": "2023-06-02T18:44:59.045Z"
   },
   {
    "duration": 4,
    "start_time": "2023-06-02T18:54:55.039Z"
   },
   {
    "duration": 3,
    "start_time": "2023-06-02T18:57:12.644Z"
   },
   {
    "duration": 4,
    "start_time": "2023-06-02T18:57:23.259Z"
   },
   {
    "duration": 4,
    "start_time": "2023-06-02T18:57:29.832Z"
   },
   {
    "duration": 13,
    "start_time": "2023-06-02T19:03:32.776Z"
   },
   {
    "duration": 5,
    "start_time": "2023-06-02T19:03:33.741Z"
   },
   {
    "duration": 3,
    "start_time": "2023-06-02T19:04:21.336Z"
   },
   {
    "duration": 6,
    "start_time": "2023-06-02T19:04:21.497Z"
   },
   {
    "duration": 99,
    "start_time": "2023-06-02T19:05:30.294Z"
   },
   {
    "duration": 12,
    "start_time": "2023-06-02T19:05:38.879Z"
   },
   {
    "duration": 3,
    "start_time": "2023-06-02T19:07:16.942Z"
   },
   {
    "duration": 5,
    "start_time": "2023-06-02T19:07:29.789Z"
   },
   {
    "duration": 3,
    "start_time": "2023-06-02T19:07:36.387Z"
   },
   {
    "duration": 14,
    "start_time": "2023-06-02T19:07:56.331Z"
   },
   {
    "duration": 14,
    "start_time": "2023-06-02T19:08:56.294Z"
   },
   {
    "duration": 3,
    "start_time": "2023-06-02T19:09:18.837Z"
   },
   {
    "duration": 8,
    "start_time": "2023-06-02T19:09:26.939Z"
   },
   {
    "duration": 14,
    "start_time": "2023-06-02T19:09:54.868Z"
   },
   {
    "duration": 9,
    "start_time": "2023-06-02T19:10:23.479Z"
   },
   {
    "duration": 6,
    "start_time": "2023-06-02T19:10:44.029Z"
   },
   {
    "duration": 12,
    "start_time": "2023-06-02T19:10:50.796Z"
   },
   {
    "duration": 8,
    "start_time": "2023-06-02T19:10:57.412Z"
   },
   {
    "duration": 684,
    "start_time": "2023-06-02T19:11:03.173Z"
   },
   {
    "duration": 718,
    "start_time": "2023-06-02T19:11:14.131Z"
   },
   {
    "duration": 6,
    "start_time": "2023-06-02T19:11:19.291Z"
   },
   {
    "duration": 5,
    "start_time": "2023-06-02T19:11:36.001Z"
   },
   {
    "duration": 4,
    "start_time": "2023-06-02T19:12:14.843Z"
   },
   {
    "duration": 9,
    "start_time": "2023-06-02T19:12:21.845Z"
   },
   {
    "duration": 6,
    "start_time": "2023-06-02T19:12:29.741Z"
   },
   {
    "duration": 10,
    "start_time": "2023-06-02T19:12:40.972Z"
   },
   {
    "duration": 10,
    "start_time": "2023-06-02T19:12:45.619Z"
   },
   {
    "duration": 10,
    "start_time": "2023-06-02T19:12:50.300Z"
   },
   {
    "duration": 10,
    "start_time": "2023-06-02T19:13:11.610Z"
   },
   {
    "duration": 2728,
    "start_time": "2023-06-03T07:12:11.638Z"
   },
   {
    "duration": 175,
    "start_time": "2023-06-03T07:12:14.369Z"
   },
   {
    "duration": 25,
    "start_time": "2023-06-03T07:12:14.545Z"
   },
   {
    "duration": 14,
    "start_time": "2023-06-03T07:12:14.571Z"
   },
   {
    "duration": 8,
    "start_time": "2023-06-03T07:12:14.587Z"
   },
   {
    "duration": 7,
    "start_time": "2023-06-03T07:12:14.596Z"
   },
   {
    "duration": 17,
    "start_time": "2023-06-03T07:12:14.604Z"
   },
   {
    "duration": 4,
    "start_time": "2023-06-03T07:12:14.623Z"
   },
   {
    "duration": 5,
    "start_time": "2023-06-03T07:12:14.628Z"
   },
   {
    "duration": 271,
    "start_time": "2023-06-03T07:12:14.635Z"
   },
   {
    "duration": 8,
    "start_time": "2023-06-03T07:12:14.908Z"
   },
   {
    "duration": 677,
    "start_time": "2023-06-03T07:12:14.918Z"
   },
   {
    "duration": 378,
    "start_time": "2023-06-03T07:12:15.598Z"
   },
   {
    "duration": 158,
    "start_time": "2023-06-03T07:12:15.979Z"
   },
   {
    "duration": 2786,
    "start_time": "2023-06-03T07:12:16.139Z"
   },
   {
    "duration": 167,
    "start_time": "2023-06-03T07:12:18.926Z"
   },
   {
    "duration": 3,
    "start_time": "2023-06-03T07:12:19.095Z"
   },
   {
    "duration": 17,
    "start_time": "2023-06-03T07:12:19.100Z"
   },
   {
    "duration": 13,
    "start_time": "2023-06-03T07:12:19.118Z"
   },
   {
    "duration": 34,
    "start_time": "2023-06-03T07:12:19.132Z"
   },
   {
    "duration": 14,
    "start_time": "2023-06-03T07:12:19.167Z"
   },
   {
    "duration": 14,
    "start_time": "2023-06-03T07:13:06.967Z"
   }
  ],
  "kernelspec": {
   "display_name": "Python 3 (ipykernel)",
   "language": "python",
   "name": "python3"
  },
  "language_info": {
   "codemirror_mode": {
    "name": "ipython",
    "version": 3
   },
   "file_extension": ".py",
   "mimetype": "text/x-python",
   "name": "python",
   "nbconvert_exporter": "python",
   "pygments_lexer": "ipython3",
   "version": "3.9.5"
  },
  "toc": {
   "base_numbering": 1,
   "nav_menu": {},
   "number_sections": true,
   "sideBar": true,
   "skip_h1_title": true,
   "title_cell": "Содержание",
   "title_sidebar": "Contents",
   "toc_cell": true,
   "toc_position": {
    "height": "calc(100% - 180px)",
    "left": "10px",
    "top": "150px",
    "width": "165px"
   },
   "toc_section_display": true,
   "toc_window_display": true
  }
 },
 "nbformat": 4,
 "nbformat_minor": 2
}
