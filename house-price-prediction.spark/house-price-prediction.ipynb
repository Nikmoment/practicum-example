{
 "cells": [
  {
   "cell_type": "markdown",
   "id": "GEqQaHzsZ_bA",
   "metadata": {
    "id": "GEqQaHzsZ_bA"
   },
   "source": [
    "# Предсказание стоимости жилья\n",
    "\n",
    "В проекте нам нужно обучить модель линейной регрессии на данных о жилье в Калифорнии в 1990 году. На основе данных нужно предсказать медианную стоимость дома в жилом массиве. \n",
    "\n",
    "На первом этапе мы познакомимся с данными, произведем предобработку данных, разобьем данные на выборки.  Далее мы обучим модель и сделаем предсказания на тестовой выборке. Мы построим две модели линейной регрессии на разных наборах данных: используя все данные; используя только числовые переменные, исключив категориальные. Для оценки качества модели будут использоваться метрики RMSE, MAE и R2."
   ]
  },
  {
   "cell_type": "markdown",
   "id": "e9637fa5",
   "metadata": {},
   "source": [
    "## Обзор данных"
   ]
  },
  {
   "cell_type": "code",
   "execution_count": 1,
   "id": "8bbf81a4",
   "metadata": {},
   "outputs": [
    {
     "name": "stderr",
     "output_type": "stream",
     "text": [
      "                                                                                \r"
     ]
    }
   ],
   "source": [
    "import pandas as pd \n",
    "import numpy as np\n",
    "import seaborn as sns\n",
    "\n",
    "\n",
    "import pyspark\n",
    "from pyspark.sql import SparkSession\n",
    "from pyspark.sql.types import *\n",
    "import pyspark.sql.functions as F\n",
    "\n",
    "from pyspark.ml.feature import Imputer\n",
    "from pyspark.ml.feature import StringIndexer, VectorAssembler, StandardScaler\n",
    "from pyspark.ml.regression import LinearRegression\n",
    "from pyspark.mllib.evaluation import RegressionMetrics\n",
    "from pyspark.ml.evaluation import BinaryClassificationEvaluator, MulticlassClassificationEvaluator\n",
    "\n",
    "pyspark_version = pyspark.__version__\n",
    "if int(pyspark_version[:1]) == 3:\n",
    "    from pyspark.ml.feature import OneHotEncoder    \n",
    "elif int(pyspark_version[:1]) == 2:\n",
    "    from pyspark.ml.feature import OneHotEncodeEstimator\n",
    "        \n",
    "RANDOM_SEED = 2022\n",
    "\n",
    "spark = SparkSession.builder \\\n",
    "                    .master(\"local\") \\\n",
    "                    .appName(\"EDA California Housing\") \\\n",
    "                    .getOrCreate()\n",
    "\n",
    "df = spark.read.option('header', 'true').csv('/datasets/housing.csv', inferSchema = True) "
   ]
  },
  {
   "cell_type": "markdown",
   "id": "956f9ab1",
   "metadata": {},
   "source": [
    "В колонках датасета содержатся следующие данные:"
   ]
  },
  {
   "cell_type": "markdown",
   "id": "d714f106",
   "metadata": {},
   "source": [
    "- `longitude` — широта;\n",
    "- `latitude` — долгота;\n",
    "- `housing_median_age` — медианный возраст жителей жилого массива;\n",
    "- `total_rooms` — общее количество комнат в домах жилого массива;\n",
    "- `total_bedrooms` — общее количество спален в домах жилого массива;\n",
    "- `population` — количество человек, которые проживают в жилом массиве;\n",
    "- `households` — количество домовладений в жилом массиве;\n",
    "- `median_income` — медианный доход жителей жилого массива;\n",
    "- `median_house_value` — медианная стоимость дома в жилом массиве;\n",
    "- `ocean_proximity` — близость к океану;"
   ]
  },
  {
   "cell_type": "markdown",
   "id": "278ffa66",
   "metadata": {},
   "source": [
    "Выведите названия колонок и их тип данных "
   ]
  },
  {
   "cell_type": "code",
   "execution_count": 2,
   "id": "30993f21",
   "metadata": {},
   "outputs": [
    {
     "data": {
      "text/html": [
       "<div>\n",
       "<style scoped>\n",
       "    .dataframe tbody tr th:only-of-type {\n",
       "        vertical-align: middle;\n",
       "    }\n",
       "\n",
       "    .dataframe tbody tr th {\n",
       "        vertical-align: top;\n",
       "    }\n",
       "\n",
       "    .dataframe thead th {\n",
       "        text-align: right;\n",
       "    }\n",
       "</style>\n",
       "<table border=\"1\" class=\"dataframe\">\n",
       "  <thead>\n",
       "    <tr style=\"text-align: right;\">\n",
       "      <th></th>\n",
       "      <th>column</th>\n",
       "      <th>type</th>\n",
       "    </tr>\n",
       "  </thead>\n",
       "  <tbody>\n",
       "    <tr>\n",
       "      <th>0</th>\n",
       "      <td>longitude</td>\n",
       "      <td>double</td>\n",
       "    </tr>\n",
       "    <tr>\n",
       "      <th>1</th>\n",
       "      <td>latitude</td>\n",
       "      <td>double</td>\n",
       "    </tr>\n",
       "    <tr>\n",
       "      <th>2</th>\n",
       "      <td>housing_median_age</td>\n",
       "      <td>double</td>\n",
       "    </tr>\n",
       "    <tr>\n",
       "      <th>3</th>\n",
       "      <td>total_rooms</td>\n",
       "      <td>double</td>\n",
       "    </tr>\n",
       "    <tr>\n",
       "      <th>4</th>\n",
       "      <td>total_bedrooms</td>\n",
       "      <td>double</td>\n",
       "    </tr>\n",
       "    <tr>\n",
       "      <th>5</th>\n",
       "      <td>population</td>\n",
       "      <td>double</td>\n",
       "    </tr>\n",
       "    <tr>\n",
       "      <th>6</th>\n",
       "      <td>households</td>\n",
       "      <td>double</td>\n",
       "    </tr>\n",
       "    <tr>\n",
       "      <th>7</th>\n",
       "      <td>median_income</td>\n",
       "      <td>double</td>\n",
       "    </tr>\n",
       "    <tr>\n",
       "      <th>8</th>\n",
       "      <td>median_house_value</td>\n",
       "      <td>double</td>\n",
       "    </tr>\n",
       "    <tr>\n",
       "      <th>9</th>\n",
       "      <td>ocean_proximity</td>\n",
       "      <td>string</td>\n",
       "    </tr>\n",
       "  </tbody>\n",
       "</table>\n",
       "</div>"
      ],
      "text/plain": [
       "               column    type\n",
       "0           longitude  double\n",
       "1            latitude  double\n",
       "2  housing_median_age  double\n",
       "3         total_rooms  double\n",
       "4      total_bedrooms  double\n",
       "5          population  double\n",
       "6          households  double\n",
       "7       median_income  double\n",
       "8  median_house_value  double\n",
       "9     ocean_proximity  string"
      ]
     },
     "execution_count": 2,
     "metadata": {},
     "output_type": "execute_result"
    }
   ],
   "source": [
    "# представьте результат в виде таблицы pandas\n",
    "pd.DataFrame(df.dtypes, columns=['column', 'type']).head(11)"
   ]
  },
  {
   "cell_type": "markdown",
   "id": "6447b006",
   "metadata": {},
   "source": [
    "В большинстве колонок хранятся количественные данные, кроме одной — `ocean_proximity`. Она хранит категориальные значения."
   ]
  },
  {
   "cell_type": "markdown",
   "id": "8a7f8ebb",
   "metadata": {},
   "source": [
    "Выведем первые 10 строк датасета"
   ]
  },
  {
   "cell_type": "code",
   "execution_count": 3,
   "id": "eecb50da",
   "metadata": {},
   "outputs": [
    {
     "name": "stdout",
     "output_type": "stream",
     "text": [
      "+---------+--------+------------------+-----------+--------------+----------+----------+-------------+------------------+---------------+\n",
      "|longitude|latitude|housing_median_age|total_rooms|total_bedrooms|population|households|median_income|median_house_value|ocean_proximity|\n",
      "+---------+--------+------------------+-----------+--------------+----------+----------+-------------+------------------+---------------+\n",
      "|  -122.23|   37.88|              41.0|      880.0|         129.0|     322.0|     126.0|       8.3252|          452600.0|       NEAR BAY|\n",
      "|  -122.22|   37.86|              21.0|     7099.0|        1106.0|    2401.0|    1138.0|       8.3014|          358500.0|       NEAR BAY|\n",
      "|  -122.24|   37.85|              52.0|     1467.0|         190.0|     496.0|     177.0|       7.2574|          352100.0|       NEAR BAY|\n",
      "|  -122.25|   37.85|              52.0|     1274.0|         235.0|     558.0|     219.0|       5.6431|          341300.0|       NEAR BAY|\n",
      "|  -122.25|   37.85|              52.0|     1627.0|         280.0|     565.0|     259.0|       3.8462|          342200.0|       NEAR BAY|\n",
      "|  -122.25|   37.85|              52.0|      919.0|         213.0|     413.0|     193.0|       4.0368|          269700.0|       NEAR BAY|\n",
      "|  -122.25|   37.84|              52.0|     2535.0|         489.0|    1094.0|     514.0|       3.6591|          299200.0|       NEAR BAY|\n",
      "|  -122.25|   37.84|              52.0|     3104.0|         687.0|    1157.0|     647.0|         3.12|          241400.0|       NEAR BAY|\n",
      "|  -122.26|   37.84|              42.0|     2555.0|         665.0|    1206.0|     595.0|       2.0804|          226700.0|       NEAR BAY|\n",
      "|  -122.25|   37.84|              52.0|     3549.0|         707.0|    1551.0|     714.0|       3.6912|          261100.0|       NEAR BAY|\n",
      "+---------+--------+------------------+-----------+--------------+----------+----------+-------------+------------------+---------------+\n",
      "only showing top 10 rows\n",
      "\n"
     ]
    }
   ],
   "source": [
    "df.show(10)"
   ]
  },
  {
   "cell_type": "markdown",
   "id": "32651a01",
   "metadata": {},
   "source": [
    "Выведем базовые описательные статистики данных в виде таблицы в pandas"
   ]
  },
  {
   "cell_type": "code",
   "execution_count": 4,
   "id": "718fa6df",
   "metadata": {},
   "outputs": [
    {
     "name": "stderr",
     "output_type": "stream",
     "text": [
      "                                                                                \r"
     ]
    },
    {
     "data": {
      "text/html": [
       "<div>\n",
       "<style scoped>\n",
       "    .dataframe tbody tr th:only-of-type {\n",
       "        vertical-align: middle;\n",
       "    }\n",
       "\n",
       "    .dataframe tbody tr th {\n",
       "        vertical-align: top;\n",
       "    }\n",
       "\n",
       "    .dataframe thead th {\n",
       "        text-align: right;\n",
       "    }\n",
       "</style>\n",
       "<table border=\"1\" class=\"dataframe\">\n",
       "  <thead>\n",
       "    <tr style=\"text-align: right;\">\n",
       "      <th></th>\n",
       "      <th>summary</th>\n",
       "      <th>longitude</th>\n",
       "      <th>latitude</th>\n",
       "      <th>housing_median_age</th>\n",
       "      <th>total_rooms</th>\n",
       "      <th>total_bedrooms</th>\n",
       "      <th>population</th>\n",
       "      <th>households</th>\n",
       "      <th>median_income</th>\n",
       "      <th>median_house_value</th>\n",
       "      <th>ocean_proximity</th>\n",
       "    </tr>\n",
       "  </thead>\n",
       "  <tbody>\n",
       "    <tr>\n",
       "      <th>0</th>\n",
       "      <td>count</td>\n",
       "      <td>20640</td>\n",
       "      <td>20640</td>\n",
       "      <td>20640</td>\n",
       "      <td>20640</td>\n",
       "      <td>20433</td>\n",
       "      <td>20640</td>\n",
       "      <td>20640</td>\n",
       "      <td>20640</td>\n",
       "      <td>20640</td>\n",
       "      <td>20640</td>\n",
       "    </tr>\n",
       "    <tr>\n",
       "      <th>1</th>\n",
       "      <td>mean</td>\n",
       "      <td>-119.56970445736148</td>\n",
       "      <td>35.6318614341087</td>\n",
       "      <td>28.639486434108527</td>\n",
       "      <td>2635.7630813953488</td>\n",
       "      <td>537.8705525375618</td>\n",
       "      <td>1425.4767441860465</td>\n",
       "      <td>499.5396802325581</td>\n",
       "      <td>3.8706710029070246</td>\n",
       "      <td>206855.81690891474</td>\n",
       "      <td>None</td>\n",
       "    </tr>\n",
       "    <tr>\n",
       "      <th>2</th>\n",
       "      <td>stddev</td>\n",
       "      <td>2.003531723502584</td>\n",
       "      <td>2.135952397457101</td>\n",
       "      <td>12.58555761211163</td>\n",
       "      <td>2181.6152515827944</td>\n",
       "      <td>421.38507007403115</td>\n",
       "      <td>1132.46212176534</td>\n",
       "      <td>382.3297528316098</td>\n",
       "      <td>1.899821717945263</td>\n",
       "      <td>115395.61587441359</td>\n",
       "      <td>None</td>\n",
       "    </tr>\n",
       "    <tr>\n",
       "      <th>3</th>\n",
       "      <td>min</td>\n",
       "      <td>-124.35</td>\n",
       "      <td>32.54</td>\n",
       "      <td>1.0</td>\n",
       "      <td>2.0</td>\n",
       "      <td>1.0</td>\n",
       "      <td>3.0</td>\n",
       "      <td>1.0</td>\n",
       "      <td>0.4999</td>\n",
       "      <td>14999.0</td>\n",
       "      <td>&lt;1H OCEAN</td>\n",
       "    </tr>\n",
       "    <tr>\n",
       "      <th>4</th>\n",
       "      <td>max</td>\n",
       "      <td>-114.31</td>\n",
       "      <td>41.95</td>\n",
       "      <td>52.0</td>\n",
       "      <td>39320.0</td>\n",
       "      <td>6445.0</td>\n",
       "      <td>35682.0</td>\n",
       "      <td>6082.0</td>\n",
       "      <td>15.0001</td>\n",
       "      <td>500001.0</td>\n",
       "      <td>NEAR OCEAN</td>\n",
       "    </tr>\n",
       "  </tbody>\n",
       "</table>\n",
       "</div>"
      ],
      "text/plain": [
       "  summary            longitude           latitude  housing_median_age  \\\n",
       "0   count                20640              20640               20640   \n",
       "1    mean  -119.56970445736148   35.6318614341087  28.639486434108527   \n",
       "2  stddev    2.003531723502584  2.135952397457101   12.58555761211163   \n",
       "3     min              -124.35              32.54                 1.0   \n",
       "4     max              -114.31              41.95                52.0   \n",
       "\n",
       "          total_rooms      total_bedrooms          population  \\\n",
       "0               20640               20433               20640   \n",
       "1  2635.7630813953488   537.8705525375618  1425.4767441860465   \n",
       "2  2181.6152515827944  421.38507007403115    1132.46212176534   \n",
       "3                 2.0                 1.0                 3.0   \n",
       "4             39320.0              6445.0             35682.0   \n",
       "\n",
       "          households       median_income  median_house_value ocean_proximity  \n",
       "0              20640               20640               20640           20640  \n",
       "1  499.5396802325581  3.8706710029070246  206855.81690891474            None  \n",
       "2  382.3297528316098   1.899821717945263  115395.61587441359            None  \n",
       "3                1.0              0.4999             14999.0       <1H OCEAN  \n",
       "4             6082.0             15.0001            500001.0      NEAR OCEAN  "
      ]
     },
     "execution_count": 4,
     "metadata": {},
     "output_type": "execute_result"
    }
   ],
   "source": [
    "df.describe().toPandas()"
   ]
  },
  {
   "cell_type": "markdown",
   "id": "c396fb58",
   "metadata": {},
   "source": [
    "Мы видим, что таблица насчитывает 20640 строк. Максимальная медианная стоимость дома составляет полмиллиона долларов."
   ]
  },
  {
   "cell_type": "markdown",
   "id": "7eaab0be",
   "metadata": {},
   "source": [
    "Проверим количество пропусков в каждой колонке"
   ]
  },
  {
   "cell_type": "code",
   "execution_count": 5,
   "id": "049102bd",
   "metadata": {},
   "outputs": [
    {
     "name": "stdout",
     "output_type": "stream",
     "text": [
      "+---------+--------+------------------+-----------+--------------+----------+----------+-------------+------------------+---------------+\n",
      "|longitude|latitude|housing_median_age|total_rooms|total_bedrooms|population|households|median_income|median_house_value|ocean_proximity|\n",
      "+---------+--------+------------------+-----------+--------------+----------+----------+-------------+------------------+---------------+\n",
      "|        0|       0|                 0|          0|           207|         0|         0|            0|                 0|              0|\n",
      "+---------+--------+------------------+-----------+--------------+----------+----------+-------------+------------------+---------------+\n",
      "\n"
     ]
    }
   ],
   "source": [
    "from pyspark.sql.functions import col, isnan, when, count\n",
    "\n",
    "df.select([count(when(isnan(c) | col(c).isNull(), c)).alias(c) for c in df.columns]\n",
    "         ).show()"
   ]
  },
  {
   "cell_type": "markdown",
   "id": "b2dd1d6a",
   "metadata": {},
   "source": [
    "В колонке total_bedrooms имеются пропуски в количестве 207 шт. Заполних им медианным значением столбца."
   ]
  },
  {
   "cell_type": "code",
   "execution_count": 6,
   "id": "2e250683",
   "metadata": {
    "scrolled": true
   },
   "outputs": [],
   "source": [
    "imputer = Imputer(\n",
    "    inputCols=['total_bedrooms'],\n",
    "    outputCols=['{}_imputed'.format(c) for c in ['total_bedrooms']]\n",
    "    ).setStrategy('median') "
   ]
  },
  {
   "cell_type": "code",
   "execution_count": 7,
   "id": "14d0b547",
   "metadata": {},
   "outputs": [
    {
     "name": "stderr",
     "output_type": "stream",
     "text": [
      "                                                                                \r"
     ]
    }
   ],
   "source": [
    "df = imputer.fit(df).transform(df)"
   ]
  },
  {
   "cell_type": "markdown",
   "id": "96e560c9",
   "metadata": {},
   "source": [
    "В таблицу был добавлен новый столбец `total_bedrooms_imputed`, в котором пропущенные значения были заполнены с помощью медианы. Оставим эту колонку в качестве основной, а колонку `total_bedrooms` удалим"
   ]
  },
  {
   "cell_type": "code",
   "execution_count": 8,
   "id": "4a0f985a",
   "metadata": {},
   "outputs": [],
   "source": [
    "df = df.drop('total_bedrooms')"
   ]
  },
  {
   "cell_type": "markdown",
   "id": "2d08e80c",
   "metadata": {},
   "source": [
    "Проверим результат"
   ]
  },
  {
   "cell_type": "code",
   "execution_count": 9,
   "id": "bac5d8ff",
   "metadata": {},
   "outputs": [
    {
     "name": "stderr",
     "output_type": "stream",
     "text": [
      "                                                                                \r"
     ]
    },
    {
     "data": {
      "text/html": [
       "<div>\n",
       "<style scoped>\n",
       "    .dataframe tbody tr th:only-of-type {\n",
       "        vertical-align: middle;\n",
       "    }\n",
       "\n",
       "    .dataframe tbody tr th {\n",
       "        vertical-align: top;\n",
       "    }\n",
       "\n",
       "    .dataframe thead th {\n",
       "        text-align: right;\n",
       "    }\n",
       "</style>\n",
       "<table border=\"1\" class=\"dataframe\">\n",
       "  <thead>\n",
       "    <tr style=\"text-align: right;\">\n",
       "      <th></th>\n",
       "      <th>summary</th>\n",
       "      <th>longitude</th>\n",
       "      <th>latitude</th>\n",
       "      <th>housing_median_age</th>\n",
       "      <th>total_rooms</th>\n",
       "      <th>population</th>\n",
       "      <th>households</th>\n",
       "      <th>median_income</th>\n",
       "      <th>median_house_value</th>\n",
       "      <th>ocean_proximity</th>\n",
       "      <th>total_bedrooms_imputed</th>\n",
       "    </tr>\n",
       "  </thead>\n",
       "  <tbody>\n",
       "    <tr>\n",
       "      <th>0</th>\n",
       "      <td>count</td>\n",
       "      <td>20640</td>\n",
       "      <td>20640</td>\n",
       "      <td>20640</td>\n",
       "      <td>20640</td>\n",
       "      <td>20640</td>\n",
       "      <td>20640</td>\n",
       "      <td>20640</td>\n",
       "      <td>20640</td>\n",
       "      <td>20640</td>\n",
       "      <td>20640</td>\n",
       "    </tr>\n",
       "    <tr>\n",
       "      <th>1</th>\n",
       "      <td>mean</td>\n",
       "      <td>-119.56970445736148</td>\n",
       "      <td>35.6318614341087</td>\n",
       "      <td>28.639486434108527</td>\n",
       "      <td>2635.7630813953488</td>\n",
       "      <td>1425.4767441860465</td>\n",
       "      <td>499.5396802325581</td>\n",
       "      <td>3.8706710029070246</td>\n",
       "      <td>206855.81690891474</td>\n",
       "      <td>None</td>\n",
       "      <td>536.8388565891473</td>\n",
       "    </tr>\n",
       "    <tr>\n",
       "      <th>2</th>\n",
       "      <td>stddev</td>\n",
       "      <td>2.003531723502584</td>\n",
       "      <td>2.135952397457101</td>\n",
       "      <td>12.58555761211163</td>\n",
       "      <td>2181.6152515827944</td>\n",
       "      <td>1132.46212176534</td>\n",
       "      <td>382.3297528316098</td>\n",
       "      <td>1.899821717945263</td>\n",
       "      <td>115395.61587441359</td>\n",
       "      <td>None</td>\n",
       "      <td>419.39187792168866</td>\n",
       "    </tr>\n",
       "    <tr>\n",
       "      <th>3</th>\n",
       "      <td>min</td>\n",
       "      <td>-124.35</td>\n",
       "      <td>32.54</td>\n",
       "      <td>1.0</td>\n",
       "      <td>2.0</td>\n",
       "      <td>3.0</td>\n",
       "      <td>1.0</td>\n",
       "      <td>0.4999</td>\n",
       "      <td>14999.0</td>\n",
       "      <td>&lt;1H OCEAN</td>\n",
       "      <td>1.0</td>\n",
       "    </tr>\n",
       "    <tr>\n",
       "      <th>4</th>\n",
       "      <td>max</td>\n",
       "      <td>-114.31</td>\n",
       "      <td>41.95</td>\n",
       "      <td>52.0</td>\n",
       "      <td>39320.0</td>\n",
       "      <td>35682.0</td>\n",
       "      <td>6082.0</td>\n",
       "      <td>15.0001</td>\n",
       "      <td>500001.0</td>\n",
       "      <td>NEAR OCEAN</td>\n",
       "      <td>6445.0</td>\n",
       "    </tr>\n",
       "  </tbody>\n",
       "</table>\n",
       "</div>"
      ],
      "text/plain": [
       "  summary            longitude           latitude  housing_median_age  \\\n",
       "0   count                20640              20640               20640   \n",
       "1    mean  -119.56970445736148   35.6318614341087  28.639486434108527   \n",
       "2  stddev    2.003531723502584  2.135952397457101   12.58555761211163   \n",
       "3     min              -124.35              32.54                 1.0   \n",
       "4     max              -114.31              41.95                52.0   \n",
       "\n",
       "          total_rooms          population         households  \\\n",
       "0               20640               20640              20640   \n",
       "1  2635.7630813953488  1425.4767441860465  499.5396802325581   \n",
       "2  2181.6152515827944    1132.46212176534  382.3297528316098   \n",
       "3                 2.0                 3.0                1.0   \n",
       "4             39320.0             35682.0             6082.0   \n",
       "\n",
       "        median_income  median_house_value ocean_proximity  \\\n",
       "0               20640               20640           20640   \n",
       "1  3.8706710029070246  206855.81690891474            None   \n",
       "2   1.899821717945263  115395.61587441359            None   \n",
       "3              0.4999             14999.0       <1H OCEAN   \n",
       "4             15.0001            500001.0      NEAR OCEAN   \n",
       "\n",
       "  total_bedrooms_imputed  \n",
       "0                  20640  \n",
       "1      536.8388565891473  \n",
       "2     419.39187792168866  \n",
       "3                    1.0  \n",
       "4                 6445.0  "
      ]
     },
     "execution_count": 9,
     "metadata": {},
     "output_type": "execute_result"
    }
   ],
   "source": [
    "df.describe().toPandas()"
   ]
  },
  {
   "cell_type": "markdown",
   "id": "9503a22b",
   "metadata": {},
   "source": [
    "Также удалим колонки с данными широты и долготы, так как они не представляют особой ценности для построения модели и могут только увеличить время обучения."
   ]
  },
  {
   "cell_type": "code",
   "execution_count": 10,
   "id": "66db07f9",
   "metadata": {},
   "outputs": [],
   "source": [
    "df = df.drop('longitude', 'latitude')"
   ]
  },
  {
   "cell_type": "markdown",
   "id": "f6520294",
   "metadata": {},
   "source": [
    "Исходя из имеющихся данных, выведем дополнительные показатели, которые могут быть полезными признаками для модели машинного обучения. Добавим соответствующие колонки в таблицу."
   ]
  },
  {
   "cell_type": "markdown",
   "id": "610c4272",
   "metadata": {},
   "source": [
    "- Отношение количества комнат `total_rooms` к количеству домовладений `households`. Назовите колонку `rooms_per_household`.\n",
    "- Отношение количества жителей `population` к количеству домовладений `households`. Назовите колонку `population_in_household`.\n",
    "- Отношение количества спален `total_bedrooms` к общему количеству комнат `total_rooms`. Назовите колонку `bedroom_index`."
   ]
  },
  {
   "cell_type": "code",
   "execution_count": 11,
   "id": "e9510f7a",
   "metadata": {},
   "outputs": [
    {
     "name": "stdout",
     "output_type": "stream",
     "text": [
      "root\n",
      " |-- housing_median_age: double (nullable = true)\n",
      " |-- total_rooms: double (nullable = true)\n",
      " |-- population: double (nullable = true)\n",
      " |-- households: double (nullable = true)\n",
      " |-- median_income: double (nullable = true)\n",
      " |-- median_house_value: double (nullable = true)\n",
      " |-- ocean_proximity: string (nullable = true)\n",
      " |-- total_bedrooms_imputed: double (nullable = true)\n",
      " |-- rooms_per_household: double (nullable = true)\n",
      " |-- population_in_household: double (nullable = true)\n",
      " |-- bedroom_index: double (nullable = true)\n",
      "\n"
     ]
    }
   ],
   "source": [
    "df = df.withColumn('rooms_per_household', F.col('total_rooms') / F.col('households'))\n",
    "df = df.withColumn('population_in_household', F.col('population') / F.col('households'))\n",
    "df = df.withColumn('bedroom_index', F.col('total_bedrooms_imputed') / F.col('total_rooms'))\n",
    "\n",
    "df.printSchema()"
   ]
  },
  {
   "cell_type": "markdown",
   "id": "45b26ad2",
   "metadata": {},
   "source": [
    "- **Столбчатый график проживания самых обеспеченых людей**"
   ]
  },
  {
   "cell_type": "markdown",
   "id": "8683c0bc",
   "metadata": {},
   "source": [
    "Найдем жилые массивы, в которых живут самые обеспеченные люди. Сгруппируем данные по столбцу с категориями удалённости от океана и посчитаем среднее значение медианного дохода в жилом массиве."
   ]
  },
  {
   "cell_type": "code",
   "execution_count": 12,
   "id": "713df404",
   "metadata": {},
   "outputs": [
    {
     "name": "stderr",
     "output_type": "stream",
     "text": [
      "                                                                                \r"
     ]
    },
    {
     "data": {
      "image/png": "[encoded data removed]",
      "text/plain": [
       "<Figure size 432x288 with 1 Axes>"
      ]
     },
     "metadata": {
      "needs_background": "light"
     },
     "output_type": "display_data"
    }
   ],
   "source": [
    "df_wealthy = df.groupBy('ocean_proximity').agg(F.avg('median_income')).toPandas()\n",
    "sns.barplot(x='ocean_proximity', y='avg(median_income)', data=df_wealthy);"
   ]
  },
  {
   "cell_type": "markdown",
   "id": "6fc36f95",
   "metadata": {},
   "source": [
    "Ожидаемый результат: люди с высоким доходом предпочитают селиться в жилых массивах, которые находятся не более чем в часе езды до океана или около залива."
   ]
  },
  {
   "cell_type": "markdown",
   "id": "19b97f16",
   "metadata": {},
   "source": [
    "- **Линейный график зависимости возраста жителей от удалённости жилого массива от океана**"
   ]
  },
  {
   "cell_type": "markdown",
   "id": "91fc13aa",
   "metadata": {},
   "source": [
    "Исследуем зависимость возраста жителей от удалённости жилого массива от океана. Сгруппируем данные по двум столбцам: медианный возраст жителей и удалённость от океана. Посчитаем, сколько раз встречается то или иное медианное значение возраста в зависимости от удалённости от океана."
   ]
  },
  {
   "cell_type": "code",
   "execution_count": 13,
   "id": "3c06eb95",
   "metadata": {},
   "outputs": [
    {
     "name": "stderr",
     "output_type": "stream",
     "text": [
      "                                                                                \r"
     ]
    },
    {
     "data": {
      "text/plain": [
       "<AxesSubplot:xlabel='housing_median_age', ylabel='count'>"
      ]
     },
     "execution_count": 13,
     "metadata": {},
     "output_type": "execute_result"
    },
    {
     "data": {
      "image/png": "[encoded data removed]",
      "text/plain": [
       "<Figure size 432x288 with 1 Axes>"
      ]
     },
     "metadata": {
      "needs_background": "light"
     },
     "output_type": "display_data"
    }
   ],
   "source": [
    "df_ages = df.groupBy('housing_median_age', 'ocean_proximity').count().toPandas()\n",
    "\n",
    "sns.lineplot(data=df_ages, \n",
    "    x='housing_median_age', \n",
    "    y='count', \n",
    "    hue='ocean_proximity'\n",
    ")"
   ]
  },
  {
   "cell_type": "markdown",
   "id": "00fe644e",
   "metadata": {},
   "source": [
    "По графику можно предположить, что люди до 20 лет чаще живут в материковой части Калифорнии (INLAND) и в радиусе часа езды до океана. Старшие поколения предпочитают селиться в радиусе часа езды до океана и около залива."
   ]
  },
  {
   "cell_type": "markdown",
   "id": "53871372",
   "metadata": {
    "id": "53871372"
   },
   "source": [
    "## Подготовка данных"
   ]
  },
  {
   "cell_type": "markdown",
   "id": "952f210b",
   "metadata": {},
   "source": [
    "Разделим колонки на два типа: числовые и текстовые, которые представляют категориальные данные."
   ]
  },
  {
   "cell_type": "code",
   "execution_count": 14,
   "id": "6cac9235",
   "metadata": {},
   "outputs": [],
   "source": [
    "categorical_cols = ['ocean_proximity']\n",
    "numerical_cols = ['housing_median_age', 'total_rooms', 'total_bedrooms_imputed', 'population', 'households', 'median_income',\n",
    "                 'rooms_per_household', 'population_in_household', 'bedroom_index']\n",
    "target = 'median_house_value'"
   ]
  },
  {
   "cell_type": "markdown",
   "id": "92573e3a",
   "metadata": {},
   "source": [
    "- **Трансформация категорийных признаков**"
   ]
  },
  {
   "cell_type": "markdown",
   "id": "88619acf",
   "metadata": {},
   "source": [
    "Трансформируем категориальные признаки в числовые. "
   ]
  },
  {
   "cell_type": "code",
   "execution_count": 15,
   "id": "df92e3ec",
   "metadata": {
    "id": "df92e3ec"
   },
   "outputs": [
    {
     "name": "stderr",
     "output_type": "stream",
     "text": [
      "                                                                                \r"
     ]
    },
    {
     "name": "stdout",
     "output_type": "stream",
     "text": [
      "+---------------+-------------------+\n",
      "|ocean_proximity|ocean_proximity_idx|\n",
      "+---------------+-------------------+\n",
      "|       NEAR BAY|                3.0|\n",
      "|       NEAR BAY|                3.0|\n",
      "|       NEAR BAY|                3.0|\n",
      "|       NEAR BAY|                3.0|\n",
      "|       NEAR BAY|                3.0|\n",
      "+---------------+-------------------+\n",
      "only showing top 5 rows\n",
      "\n"
     ]
    }
   ],
   "source": [
    "indexer = StringIndexer(inputCols=categorical_cols, \n",
    "                        outputCols=[c+'_idx' for c in categorical_cols]) \n",
    "df = indexer.fit(df).transform(df)\n",
    "\n",
    "cols = [c for c in df.columns for i in categorical_cols if (c.startswith(i))]\n",
    "df.select(cols).show(5) "
   ]
  },
  {
   "cell_type": "markdown",
   "id": "1cff5578",
   "metadata": {},
   "source": [
    "Дополнительно создадим OHE-кодирование для категорий."
   ]
  },
  {
   "cell_type": "code",
   "execution_count": 16,
   "id": "71c37086",
   "metadata": {},
   "outputs": [
    {
     "name": "stdout",
     "output_type": "stream",
     "text": [
      "+---------------+-------------------+-------------------+\n",
      "|ocean_proximity|ocean_proximity_idx|ocean_proximity_ohe|\n",
      "+---------------+-------------------+-------------------+\n",
      "|       NEAR BAY|                3.0|      (4,[3],[1.0])|\n",
      "|       NEAR BAY|                3.0|      (4,[3],[1.0])|\n",
      "|       NEAR BAY|                3.0|      (4,[3],[1.0])|\n",
      "+---------------+-------------------+-------------------+\n",
      "only showing top 3 rows\n",
      "\n"
     ]
    }
   ],
   "source": [
    "encoder = OneHotEncoder(inputCols=[c+'_idx' for c in categorical_cols],\n",
    "                        outputCols=[c+'_ohe' for c in categorical_cols])\n",
    "df = encoder.fit(df).transform(df)\n",
    "\n",
    "cols = [c for c in df.columns for i in categorical_cols if (c.startswith(i))]\n",
    "df.select(cols).show(3) "
   ]
  },
  {
   "cell_type": "markdown",
   "id": "edcd8e5f",
   "metadata": {},
   "source": [
    "Объединим признаки в один вектор, с которым ML-алгоритм умеет работать."
   ]
  },
  {
   "cell_type": "code",
   "execution_count": 17,
   "id": "12197678",
   "metadata": {},
   "outputs": [],
   "source": [
    "categorical_assembler = \\\n",
    "        VectorAssembler(inputCols=[c+'_ohe' for c in categorical_cols],\n",
    "                                        outputCol=\"categorical_features\")\n",
    "df = categorical_assembler.transform(df) "
   ]
  },
  {
   "cell_type": "markdown",
   "id": "d1fe8a11",
   "metadata": {},
   "source": [
    "- **Трансформация числовых признаков**"
   ]
  },
  {
   "cell_type": "markdown",
   "id": "46750764",
   "metadata": {},
   "source": [
    "Для числовых признаков произведем шкалирование значений, чтобы сильные выбросы не смещали предсказания модели."
   ]
  },
  {
   "cell_type": "code",
   "execution_count": 18,
   "id": "8de25d22",
   "metadata": {},
   "outputs": [],
   "source": [
    "numerical_assembler = VectorAssembler(inputCols=numerical_cols,\n",
    "                                                                            outputCol=\"numerical_features\")\n",
    "df = numerical_assembler.transform(df) "
   ]
  },
  {
   "cell_type": "code",
   "execution_count": 19,
   "id": "1de9c054",
   "metadata": {},
   "outputs": [
    {
     "name": "stderr",
     "output_type": "stream",
     "text": [
      "                                                                                \r"
     ]
    }
   ],
   "source": [
    "standardScaler = StandardScaler(inputCol='numerical_features', outputCol=\"numerical_features_scaled\")\n",
    "df = standardScaler.fit(df).transform(df) "
   ]
  },
  {
   "cell_type": "markdown",
   "id": "b03c6ad7",
   "metadata": {},
   "source": [
    "После всех трансформаций получается такая таблица:"
   ]
  },
  {
   "cell_type": "code",
   "execution_count": 20,
   "id": "b1f7f9c4",
   "metadata": {},
   "outputs": [
    {
     "data": {
      "text/plain": [
       "['housing_median_age',\n",
       " 'total_rooms',\n",
       " 'population',\n",
       " 'households',\n",
       " 'median_income',\n",
       " 'median_house_value',\n",
       " 'ocean_proximity',\n",
       " 'total_bedrooms_imputed',\n",
       " 'rooms_per_household',\n",
       " 'population_in_household',\n",
       " 'bedroom_index',\n",
       " 'ocean_proximity_idx',\n",
       " 'ocean_proximity_ohe',\n",
       " 'categorical_features',\n",
       " 'numerical_features',\n",
       " 'numerical_features_scaled']"
      ]
     },
     "execution_count": 20,
     "metadata": {},
     "output_type": "execute_result"
    }
   ],
   "source": [
    "df.columns"
   ]
  },
  {
   "cell_type": "markdown",
   "id": "aba75e4d",
   "metadata": {},
   "source": [
    "В конце соберем трансформированные категорийные и числовые признаки с помощью `VectorAssembler`"
   ]
  },
  {
   "cell_type": "code",
   "execution_count": 21,
   "id": "ecfadb83",
   "metadata": {},
   "outputs": [
    {
     "name": "stdout",
     "output_type": "stream",
     "text": [
      "+--------------------+-------------------------+\n",
      "|categorical_features|numerical_features_scaled|\n",
      "+--------------------+-------------------------+\n",
      "|       (4,[3],[1.0])|     [3.25770230160830...|\n",
      "|       (4,[3],[1.0])|     [1.66857922765303...|\n",
      "|       (4,[3],[1.0])|     [4.13171999228370...|\n",
      "+--------------------+-------------------------+\n",
      "only showing top 3 rows\n",
      "\n"
     ]
    }
   ],
   "source": [
    "all_features = ['categorical_features','numerical_features_scaled']\n",
    "\n",
    "final_assembler = VectorAssembler(inputCols=all_features, \n",
    "                                  outputCol='features') \n",
    "df = final_assembler.transform(df)\n",
    "\n",
    "df.select(all_features).show(3) "
   ]
  },
  {
   "cell_type": "markdown",
   "id": "9f0a82f3",
   "metadata": {
    "id": "9f0a82f3"
   },
   "source": [
    "## Обучение моделей"
   ]
  },
  {
   "cell_type": "markdown",
   "id": "489aca02",
   "metadata": {},
   "source": [
    "### Модель линейной регрессии построенная на всех данных"
   ]
  },
  {
   "cell_type": "markdown",
   "id": "2fe9e89d",
   "metadata": {},
   "source": [
    "Разделяем наш датасет на две части — выборку для обучения и выборку для тестирования качества модели."
   ]
  },
  {
   "cell_type": "code",
   "execution_count": 22,
   "id": "bddb08c4",
   "metadata": {
    "id": "bddb08c4"
   },
   "outputs": [
    {
     "name": "stderr",
     "output_type": "stream",
     "text": [
      "[Stage 24:>                                                         (0 + 1) / 1]\r"
     ]
    },
    {
     "name": "stdout",
     "output_type": "stream",
     "text": [
      "16418 4222\n"
     ]
    },
    {
     "name": "stderr",
     "output_type": "stream",
     "text": [
      "                                                                                \r"
     ]
    }
   ],
   "source": [
    "train_data, test_data = df.randomSplit([.8,.2], seed=RANDOM_SEED)\n",
    "print(train_data.count(), test_data.count()) "
   ]
  },
  {
   "cell_type": "markdown",
   "id": "9efaf7c0",
   "metadata": {},
   "source": [
    "Обучим модель "
   ]
  },
  {
   "cell_type": "code",
   "execution_count": 23,
   "id": "8f9956bb",
   "metadata": {},
   "outputs": [
    {
     "name": "stderr",
     "output_type": "stream",
     "text": [
      "23/01/26 19:52:49 WARN Instrumentation: [5230d633] regParam is zero, which might cause numerical instability and overfitting.\n",
      "23/01/26 19:52:50 WARN BLAS: Failed to load implementation from: com.github.fommil.netlib.NativeSystemBLAS\n",
      "23/01/26 19:52:50 WARN BLAS: Failed to load implementation from: com.github.fommil.netlib.NativeRefBLAS\n",
      "23/01/26 19:52:50 WARN LAPACK: Failed to load implementation from: com.github.fommil.netlib.NativeSystemLAPACK\n",
      "23/01/26 19:52:50 WARN LAPACK: Failed to load implementation from: com.github.fommil.netlib.NativeRefLAPACK\n",
      "                                                                                \r"
     ]
    }
   ],
   "source": [
    "lr = LinearRegression(labelCol=target, featuresCol='features')\n",
    "model = lr.fit(train_data)"
   ]
  },
  {
   "cell_type": "markdown",
   "id": "b8231c83",
   "metadata": {},
   "source": [
    "Предскажем результаты и выведем таблицу с колонкой предсказания модели и колонкой медианной стоимости."
   ]
  },
  {
   "cell_type": "code",
   "execution_count": 24,
   "id": "a6ed7c03",
   "metadata": {},
   "outputs": [
    {
     "name": "stdout",
     "output_type": "stream",
     "text": [
      "+------------------+------------------+\n",
      "|median_house_value|        prediction|\n",
      "+------------------+------------------+\n",
      "|           55000.0| 37410.55271672869|\n",
      "|          141700.0|153407.80169744598|\n",
      "|          189200.0|145622.31634873027|\n",
      "|           47500.0|175035.09680222094|\n",
      "|           60000.0| 144765.6052345728|\n",
      "|          350000.0|  646256.044327012|\n",
      "|          164800.0| 84253.49978744662|\n",
      "|          500001.0| 363757.9267769991|\n",
      "|          310000.0|309305.46957226767|\n",
      "|          166500.0| 169121.5756242315|\n",
      "|          237500.0|180066.66514306178|\n",
      "|          450000.0|130603.22985678047|\n",
      "|          425000.0| 231417.5144761036|\n",
      "|          275000.0| 227291.2991922631|\n",
      "|          133600.0| 77145.67733570171|\n",
      "|          114200.0| 87140.13459245529|\n",
      "|          111100.0|170991.89575405646|\n",
      "|          298500.0| 309483.4278240995|\n",
      "|          240200.0|190291.88737314416|\n",
      "|          331400.0|344496.56023671024|\n",
      "+------------------+------------------+\n",
      "only showing top 20 rows\n",
      "\n"
     ]
    }
   ],
   "source": [
    "predictions = model.transform(train_data)\n",
    "\n",
    "predictedLabes = predictions.select(\"median_house_value\", \"prediction\")\n",
    "predictedLabes.show() "
   ]
  },
  {
   "cell_type": "markdown",
   "id": "70ecd3eb",
   "metadata": {},
   "source": [
    "Выполним ту же операцию на тестовой выборке"
   ]
  },
  {
   "cell_type": "code",
   "execution_count": 25,
   "id": "92e03111",
   "metadata": {},
   "outputs": [
    {
     "name": "stdout",
     "output_type": "stream",
     "text": [
      "+------------------+------------------+\n",
      "|median_house_value|        prediction|\n",
      "+------------------+------------------+\n",
      "|          191300.0| 171021.7967374883|\n",
      "|          434700.0| 148857.6727325565|\n",
      "|          500001.0|309918.82800596807|\n",
      "|          315000.0| 132997.8811686493|\n",
      "|          100000.0| 123239.9271153414|\n",
      "|          136700.0|169185.15358620894|\n",
      "|          145600.0|203126.38473166223|\n",
      "|          158500.0| 235931.0385611431|\n",
      "|          196700.0|202080.15172150405|\n",
      "|           96500.0| 146044.9357546253|\n",
      "|          111500.0|139323.56395735906|\n",
      "|          137900.0|134945.93134843503|\n",
      "|          500001.0|440346.82267734944|\n",
      "|          204400.0|232246.15859672992|\n",
      "|          222500.0|223323.94085788383|\n",
      "|          187800.0|170713.60557718138|\n",
      "|          220800.0|205685.79346504685|\n",
      "|          151300.0|175378.22228518006|\n",
      "|          163500.0|119014.52320808027|\n",
      "|          500001.0|346239.55160448496|\n",
      "+------------------+------------------+\n",
      "only showing top 20 rows\n",
      "\n"
     ]
    }
   ],
   "source": [
    "predictions = model.transform(test_data)\n",
    "\n",
    "predictedLabes = predictions.select(\"median_house_value\", \"prediction\")\n",
    "predictedLabes.show() "
   ]
  },
  {
   "cell_type": "markdown",
   "id": "4de61ebf",
   "metadata": {},
   "source": [
    "- **Оценим качество модели**"
   ]
  },
  {
   "cell_type": "markdown",
   "id": "7667943b",
   "metadata": {},
   "source": [
    "Показатели обучающей выборки"
   ]
  },
  {
   "cell_type": "code",
   "execution_count": 26,
   "id": "fc17f561",
   "metadata": {},
   "outputs": [
    {
     "name": "stdout",
     "output_type": "stream",
     "text": [
      "RMSE: 69493.912573\n",
      "MAE: 49968.631359\n",
      "R2: 0.633830\n"
     ]
    }
   ],
   "source": [
    "trainingSummary = model.summary\n",
    "print(\"RMSE: %f\" % trainingSummary.rootMeanSquaredError)\n",
    "print(\"MAE: %f\" % trainingSummary.meanAbsoluteError)\n",
    "print(\"R2: %f\" % trainingSummary.r2)"
   ]
  },
  {
   "cell_type": "markdown",
   "id": "46c4523e",
   "metadata": {},
   "source": [
    "Показатели тестовой выборки"
   ]
  },
  {
   "cell_type": "code",
   "execution_count": 27,
   "id": "f6d421dc",
   "metadata": {},
   "outputs": [
    {
     "name": "stderr",
     "output_type": "stream",
     "text": [
      "                                                                                \r"
     ]
    },
    {
     "name": "stdout",
     "output_type": "stream",
     "text": [
      "RMSE 69590.776208\n",
      "MAE: 50632.164885\n",
      "R2: 0.649137\n"
     ]
    },
    {
     "name": "stderr",
     "output_type": "stream",
     "text": [
      "                                                                                \r"
     ]
    }
   ],
   "source": [
    "test_result = model.evaluate(test_data)\n",
    "print(\"RMSE %f\" % test_result.rootMeanSquaredError)\n",
    "print(\"MAE: %f\" % test_result.meanAbsoluteError)\n",
    "print(\"R2: %f\" % test_result.r2)"
   ]
  },
  {
   "cell_type": "markdown",
   "id": "56c720cb",
   "metadata": {},
   "source": [
    "- Среднеквадратичная ошибка (RMSE) показывает разность между предсказанными и наблюдаемыми значениями в модели. \n",
    "- Среднее абсолютное отклонение (MAE) - это средняя абсолютная разность между предсказанием модели и целевым значением  \n",
    "\n",
    "\n",
    "Тенденция к понижению данных метрик указывает, что показатель улучшается. Это означает, что переподготовка модели эффективна."
   ]
  },
  {
   "cell_type": "markdown",
   "id": "def149a7",
   "metadata": {},
   "source": [
    "- Метрика R2 (коэффициент детерминации) вычисляет долю средней квадратичной ошибки модели от MSE среднего, а затем вычитает эту величину из единицы. Чем выше показатель, тем лучше предсказания соответствуют реальым данным. Следовательно увеличение метрики на тестовой выборке означает прирост качества модели. "
   ]
  },
  {
   "cell_type": "markdown",
   "id": "e0e2c181",
   "metadata": {},
   "source": [
    "### Модель линейной регрессии построенная на числовых переменных"
   ]
  },
  {
   "cell_type": "markdown",
   "id": "3f177642",
   "metadata": {},
   "source": [
    "Рассмотрим какие колонки имеются в таблице"
   ]
  },
  {
   "cell_type": "code",
   "execution_count": 28,
   "id": "9c2bb6f1",
   "metadata": {},
   "outputs": [
    {
     "data": {
      "text/plain": [
       "['housing_median_age',\n",
       " 'total_rooms',\n",
       " 'population',\n",
       " 'households',\n",
       " 'median_income',\n",
       " 'median_house_value',\n",
       " 'ocean_proximity',\n",
       " 'total_bedrooms_imputed',\n",
       " 'rooms_per_household',\n",
       " 'population_in_household',\n",
       " 'bedroom_index',\n",
       " 'ocean_proximity_idx',\n",
       " 'ocean_proximity_ohe',\n",
       " 'categorical_features',\n",
       " 'numerical_features',\n",
       " 'numerical_features_scaled',\n",
       " 'features']"
      ]
     },
     "execution_count": 28,
     "metadata": {},
     "output_type": "execute_result"
    }
   ],
   "source": [
    "df.columns"
   ]
  },
  {
   "cell_type": "markdown",
   "id": "0b5a2fcf",
   "metadata": {},
   "source": [
    "Удалим столбцы, которые нам не нужны для построения модели"
   ]
  },
  {
   "cell_type": "code",
   "execution_count": 29,
   "id": "8bb31ceb",
   "metadata": {},
   "outputs": [],
   "source": [
    "df = df.drop('ocean_proximity_idx', 'ocean_proximity_ohe', 'categorical_features', 'features')"
   ]
  },
  {
   "cell_type": "markdown",
   "id": "8ff82724",
   "metadata": {},
   "source": [
    "В конце соберем трансформированные числовые признаки с помощью `VectorAssembler`"
   ]
  },
  {
   "cell_type": "code",
   "execution_count": 30,
   "id": "baa6bcdf",
   "metadata": {},
   "outputs": [
    {
     "name": "stdout",
     "output_type": "stream",
     "text": [
      "+-------------------------+\n",
      "|numerical_features_scaled|\n",
      "+-------------------------+\n",
      "|     [3.25770230160830...|\n",
      "|     [1.66857922765303...|\n",
      "|     [4.13171999228370...|\n",
      "+-------------------------+\n",
      "only showing top 3 rows\n",
      "\n"
     ]
    }
   ],
   "source": [
    "features_zero = ['numerical_features_scaled']\n",
    "\n",
    "final_assembler = VectorAssembler(inputCols=features_zero, \n",
    "                                  outputCol='features_new') \n",
    "df = final_assembler.transform(df)\n",
    "\n",
    "df.select(features_zero).show(3) "
   ]
  },
  {
   "cell_type": "markdown",
   "id": "ddb34d12",
   "metadata": {},
   "source": [
    "Итоговый список столбцов"
   ]
  },
  {
   "cell_type": "code",
   "execution_count": 31,
   "id": "1b68a95f",
   "metadata": {},
   "outputs": [
    {
     "data": {
      "text/plain": [
       "['housing_median_age',\n",
       " 'total_rooms',\n",
       " 'population',\n",
       " 'households',\n",
       " 'median_income',\n",
       " 'median_house_value',\n",
       " 'ocean_proximity',\n",
       " 'total_bedrooms_imputed',\n",
       " 'rooms_per_household',\n",
       " 'population_in_household',\n",
       " 'bedroom_index',\n",
       " 'numerical_features',\n",
       " 'numerical_features_scaled',\n",
       " 'features_new']"
      ]
     },
     "execution_count": 31,
     "metadata": {},
     "output_type": "execute_result"
    }
   ],
   "source": [
    "df.columns"
   ]
  },
  {
   "cell_type": "markdown",
   "id": "582bceba",
   "metadata": {},
   "source": [
    "Разобьем данные на выборки"
   ]
  },
  {
   "cell_type": "code",
   "execution_count": 32,
   "id": "031744b6",
   "metadata": {},
   "outputs": [
    {
     "name": "stdout",
     "output_type": "stream",
     "text": [
      "16418 4222\n"
     ]
    }
   ],
   "source": [
    "train_data, test_data = df.randomSplit([.8,.2], seed=RANDOM_SEED)\n",
    "print(train_data.count(), test_data.count()) "
   ]
  },
  {
   "cell_type": "markdown",
   "id": "1c946a07",
   "metadata": {},
   "source": [
    "Обучим модель"
   ]
  },
  {
   "cell_type": "code",
   "execution_count": 33,
   "id": "6b38e60e",
   "metadata": {},
   "outputs": [
    {
     "name": "stderr",
     "output_type": "stream",
     "text": [
      "23/01/26 19:52:58 WARN Instrumentation: [9c93b06e] regParam is zero, which might cause numerical instability and overfitting.\n"
     ]
    }
   ],
   "source": [
    "lr = LinearRegression(labelCol=target, featuresCol='features_new')\n",
    "model = lr.fit(train_data)"
   ]
  },
  {
   "cell_type": "markdown",
   "id": "106a047f",
   "metadata": {},
   "source": [
    "Предскажем результаты"
   ]
  },
  {
   "cell_type": "code",
   "execution_count": 34,
   "id": "174eee60",
   "metadata": {},
   "outputs": [
    {
     "name": "stdout",
     "output_type": "stream",
     "text": [
      "+------------------+------------------+\n",
      "|median_house_value|        prediction|\n",
      "+------------------+------------------+\n",
      "|           55000.0| 58447.70108787919|\n",
      "|          141700.0|184486.79771659052|\n",
      "|          189200.0|140474.35647652904|\n",
      "|           47500.0| 210522.8073048595|\n",
      "|           60000.0| 97435.41914518888|\n",
      "|          350000.0| 664407.9149742833|\n",
      "|          164800.0| 98317.39198262288|\n",
      "|          500001.0| 343882.6029052862|\n",
      "|          310000.0| 285503.1531490514|\n",
      "|          166500.0|195759.52266468492|\n",
      "|          237500.0|138055.09586582304|\n",
      "|          450000.0| 80650.40096130144|\n",
      "|          425000.0|208787.37741129857|\n",
      "|          275000.0|204167.57596052001|\n",
      "|          133600.0| 90079.48145287135|\n",
      "|          114200.0| 100595.7245299046|\n",
      "|          111100.0|204114.99474755075|\n",
      "|          298500.0| 281304.3605049918|\n",
      "|          240200.0| 214474.2377744309|\n",
      "|          331400.0|315962.60403971135|\n",
      "+------------------+------------------+\n",
      "only showing top 20 rows\n",
      "\n"
     ]
    }
   ],
   "source": [
    "predictions = model.transform(train_data)\n",
    "\n",
    "predictedLabes = predictions.select(\"median_house_value\", \"prediction\")\n",
    "predictedLabes.show() "
   ]
  },
  {
   "cell_type": "code",
   "execution_count": 35,
   "id": "76cbb82c",
   "metadata": {},
   "outputs": [
    {
     "name": "stdout",
     "output_type": "stream",
     "text": [
      "+------------------+------------------+\n",
      "|median_house_value|        prediction|\n",
      "+------------------+------------------+\n",
      "|          191300.0|199016.80632188742|\n",
      "|          434700.0| 98772.96526932874|\n",
      "|          500001.0| 281698.3646231628|\n",
      "|          315000.0|141268.14887768903|\n",
      "|          100000.0|144580.07880879287|\n",
      "|          136700.0|204605.62293251965|\n",
      "|          145600.0|160590.79533357377|\n",
      "|          158500.0| 188910.4925379794|\n",
      "|          196700.0|228148.04987558618|\n",
      "|           96500.0|172627.04145367804|\n",
      "|          111500.0|165885.23632950455|\n",
      "|          137900.0|160343.09144319457|\n",
      "|          500001.0|421996.02613194514|\n",
      "|          204400.0| 255663.5146467082|\n",
      "|          222500.0|239755.30298795755|\n",
      "|          187800.0|174037.08006068977|\n",
      "|          220800.0|223140.54735602555|\n",
      "|          151300.0|177418.22991468228|\n",
      "|          163500.0|138294.52219822205|\n",
      "|          500001.0|327157.82018351834|\n",
      "+------------------+------------------+\n",
      "only showing top 20 rows\n",
      "\n"
     ]
    }
   ],
   "source": [
    "predictions = model.transform(test_data)\n",
    "\n",
    "predictedLabes = predictions.select(\"median_house_value\", \"prediction\")\n",
    "predictedLabes.show()"
   ]
  },
  {
   "cell_type": "code",
   "execution_count": 36,
   "id": "2723d740",
   "metadata": {},
   "outputs": [
    {
     "name": "stdout",
     "output_type": "stream",
     "text": [
      "RMSE: 75374.360605\n",
      "MAE: 54862.598528\n",
      "R2: 0.569239\n"
     ]
    }
   ],
   "source": [
    "trainingSummary = model.summary\n",
    "print(\"RMSE: %f\" % trainingSummary.rootMeanSquaredError)\n",
    "print(\"MAE: %f\" % trainingSummary.meanAbsoluteError)\n",
    "print(\"R2: %f\" % trainingSummary.r2)"
   ]
  },
  {
   "cell_type": "code",
   "execution_count": 37,
   "id": "50008bbb",
   "metadata": {},
   "outputs": [
    {
     "name": "stdout",
     "output_type": "stream",
     "text": [
      "RMSE 74983.352986\n",
      "MAE: 55523.140186\n",
      "R2: 0.592654\n"
     ]
    }
   ],
   "source": [
    "test_result = model.evaluate(test_data)\n",
    "print(\"RMSE %f\" % test_result.rootMeanSquaredError)\n",
    "print(\"MAE: %f\" % test_result.meanAbsoluteError)\n",
    "print(\"R2: %f\" % test_result.r2)"
   ]
  },
  {
   "cell_type": "markdown",
   "id": "381a4b3c",
   "metadata": {},
   "source": [
    "Исключив колонку, содержащую категориальное значение, мы получили модель, у которой RMSE, MAE значительно увеличились; R2 уменьшилось. Из этого можно сделать вывод, что данная модель ниже качеством."
   ]
  },
  {
   "cell_type": "markdown",
   "id": "757fd103",
   "metadata": {
    "id": "757fd103"
   },
   "source": [
    "## Анализ результатов"
   ]
  },
  {
   "cell_type": "markdown",
   "id": "e00ac1e5",
   "metadata": {},
   "source": [
    "В проекте нам нужно было обучить модель линейной регрессии на данных о жилье в Калифорнии в 1990 году. Основываясь на этих данных мы предсказывали медианную стоимость дома в жилом массиве. \n",
    "\n",
    "На первом этапе мы познакомимся с данными, избавились от пропусков, ознакомились со статистическими показателями. Максимальная медианная стоимость дома составляет полмиллиона долларов.\n",
    "\n",
    "Далее мы избавились от колонок, не представляющих значимости в процессе обучения модели и добавили дополнительные показатели, которые могут быть полезными признаками для модели машинного обучения.\n",
    "\n",
    "- Отношение количества комнат `total_rooms` к количеству домовладений `households`. Назовите колонку `rooms_per_household`.\n",
    "- Отношение количества жителей `population` к количеству домовладений `households`. Назовите колонку `population_in_household`.\n",
    "- Отношение количества спален `total_bedrooms` к общему количеству комнат `total_rooms`. Назовите колонку `bedroom_index`.\n",
    "\n",
    "Также по данным, мы отметили, что:\n",
    "- Люди с высоким доходом предпочитают селиться в жилых массивах, которые находятся не более чем в часе езды до океана или около залива.\n",
    "- Люди до 20 лет чаще живут в материковой части Калифорнии (INLAND) и в радиусе часа езды до океана. Старшие поколения предпочитают селиться в радиусе часа езды до океана и около залива.\n",
    "\n",
    "После этого мы трансформировали категориальный признак в числовое представление, а также в OHE. Для числовых признаков произвели шкалирование значений — чтобы сильные выбросы не смещали предсказания модели. В конце собрали трансформированные категорийные и числовые признаки.\n",
    "\n",
    "На следующем этапе мы построили две модели линейной регрессии на разных наборах данных:  \n",
    "- используя все данные из файла;\n",
    "- используя только числовые переменные, исключив категориальные.\n",
    "Также произвели оценку качества моделей с помощью метрик RMSE, MAE и R2. \n",
    "\n",
    "Показатели первой модели (все данные):\n",
    "- RMSE 67832.481770\n",
    "- MAE: 49175.320697\n",
    "- R2: 0.654318\n",
    "Показатели второй моделии (только числовые переменные):\n",
    "- RMSE 73035.158197\n",
    "- MAE: 53304.450319\n",
    "- R2: 0.599257\n",
    "\n",
    "Обе модели показали прирост качества на тестовой выборке. \n",
    "\n",
    "Исключив колонку, содержащую категориальное значение, мы получили модель, у которой RMSE, MAE значительно увеличились; R2 уменьшилось. Из этого можно сделать вывод, что данная модель ниже качеством."
   ]
  },
  {
   "cell_type": "code",
   "execution_count": null,
   "id": "41b39e5a",
   "metadata": {},
   "outputs": [],
   "source": []
  }
 ],
 "metadata": {
  "ExecuteTimeLog": [
   {
    "duration": 460,
    "start_time": "2023-01-22T16:44:49.790Z"
   },
   {
    "duration": 348,
    "start_time": "2023-01-22T16:45:07.880Z"
   },
   {
    "duration": 24198,
    "start_time": "2023-01-22T16:47:09.363Z"
   },
   {
    "duration": 876,
    "start_time": "2023-01-22T16:47:38.788Z"
   },
   {
    "duration": 4213,
    "start_time": "2023-01-22T16:47:42.220Z"
   },
   {
    "duration": 287,
    "start_time": "2023-01-22T16:51:17.558Z"
   },
   {
    "duration": 376,
    "start_time": "2023-01-22T16:52:17.056Z"
   },
   {
    "duration": 75,
    "start_time": "2023-01-22T16:52:49.725Z"
   },
   {
    "duration": 4,
    "start_time": "2023-01-22T16:52:56.779Z"
   },
   {
    "duration": 5,
    "start_time": "2023-01-22T16:56:57.986Z"
   },
   {
    "duration": 223,
    "start_time": "2023-01-22T16:57:13.256Z"
   },
   {
    "duration": 39,
    "start_time": "2023-01-22T16:57:36.934Z"
   },
   {
    "duration": 4,
    "start_time": "2023-01-22T17:06:49.444Z"
   },
   {
    "duration": 175,
    "start_time": "2023-01-22T17:09:00.849Z"
   },
   {
    "duration": 179,
    "start_time": "2023-01-22T17:09:18.351Z"
   },
   {
    "duration": 9,
    "start_time": "2023-01-22T17:10:02.717Z"
   },
   {
    "duration": 17,
    "start_time": "2023-01-22T17:12:59.366Z"
   },
   {
    "duration": 12,
    "start_time": "2023-01-22T17:13:10.749Z"
   },
   {
    "duration": 32,
    "start_time": "2023-01-22T17:13:17.061Z"
   },
   {
    "duration": 8,
    "start_time": "2023-01-22T17:14:22.793Z"
   },
   {
    "duration": 216,
    "start_time": "2023-01-22T17:14:32.919Z"
   },
   {
    "duration": 8,
    "start_time": "2023-01-22T17:23:26.925Z"
   },
   {
    "duration": 9,
    "start_time": "2023-01-22T17:23:41.688Z"
   },
   {
    "duration": 8,
    "start_time": "2023-01-22T17:24:07.979Z"
   },
   {
    "duration": 202,
    "start_time": "2023-01-22T17:24:12.170Z"
   },
   {
    "duration": 1686,
    "start_time": "2023-01-22T17:28:09.649Z"
   },
   {
    "duration": 36,
    "start_time": "2023-01-22T17:59:50.988Z"
   },
   {
    "duration": 3718,
    "start_time": "2023-01-22T17:59:58.230Z"
   },
   {
    "duration": 137,
    "start_time": "2023-01-22T18:02:01.347Z"
   },
   {
    "duration": 544,
    "start_time": "2023-01-22T18:38:53.480Z"
   },
   {
    "duration": 8,
    "start_time": "2023-01-22T18:38:57.969Z"
   },
   {
    "duration": 770,
    "start_time": "2023-01-22T18:39:29.253Z"
   },
   {
    "duration": 8,
    "start_time": "2023-01-22T18:39:30.820Z"
   },
   {
    "duration": 498,
    "start_time": "2023-01-22T18:39:37.259Z"
   },
   {
    "duration": 9,
    "start_time": "2023-01-22T18:39:40.083Z"
   },
   {
    "duration": 307,
    "start_time": "2023-01-22T18:40:52.222Z"
   },
   {
    "duration": 2106,
    "start_time": "2023-01-22T18:40:58.230Z"
   },
   {
    "duration": 3130,
    "start_time": "2023-01-22T18:41:18.868Z"
   },
   {
    "duration": 7,
    "start_time": "2023-01-22T18:41:36.018Z"
   },
   {
    "duration": 518,
    "start_time": "2023-01-22T18:41:40.906Z"
   },
   {
    "duration": 10,
    "start_time": "2023-01-22T18:41:41.755Z"
   },
   {
    "duration": 25929,
    "start_time": "2023-01-22T18:41:53.424Z"
   },
   {
    "duration": 106,
    "start_time": "2023-01-22T18:42:19.356Z"
   },
   {
    "duration": 762,
    "start_time": "2023-01-22T18:42:19.463Z"
   },
   {
    "duration": 4518,
    "start_time": "2023-01-22T18:42:20.227Z"
   },
   {
    "duration": 5989,
    "start_time": "2023-01-22T18:42:24.747Z"
   },
   {
    "duration": 9,
    "start_time": "2023-01-22T18:42:44.373Z"
   },
   {
    "duration": 27315,
    "start_time": "2023-01-22T21:38:34.677Z"
   },
   {
    "duration": 106,
    "start_time": "2023-01-22T21:39:01.994Z"
   },
   {
    "duration": 706,
    "start_time": "2023-01-22T21:39:02.102Z"
   },
   {
    "duration": 4508,
    "start_time": "2023-01-22T21:39:02.810Z"
   },
   {
    "duration": 5766,
    "start_time": "2023-01-22T21:39:07.320Z"
   },
   {
    "duration": 1220,
    "start_time": "2023-01-22T21:39:42.906Z"
   },
   {
    "duration": 4729,
    "start_time": "2023-01-22T21:39:56.678Z"
   },
   {
    "duration": 3794,
    "start_time": "2023-01-22T21:40:29.363Z"
   },
   {
    "duration": 199,
    "start_time": "2023-01-22T21:45:36.009Z"
   },
   {
    "duration": 165,
    "start_time": "2023-01-22T21:46:11.517Z"
   },
   {
    "duration": 3,
    "start_time": "2023-01-22T21:47:06.690Z"
   },
   {
    "duration": 22,
    "start_time": "2023-01-22T21:47:07.476Z"
   },
   {
    "duration": 3,
    "start_time": "2023-01-22T21:47:19.491Z"
   },
   {
    "duration": 1733,
    "start_time": "2023-01-22T21:47:20.675Z"
   },
   {
    "duration": 79,
    "start_time": "2023-01-22T21:47:28.710Z"
   },
   {
    "duration": 3,
    "start_time": "2023-01-22T21:47:31.925Z"
   },
   {
    "duration": 81,
    "start_time": "2023-01-22T21:47:32.450Z"
   },
   {
    "duration": 92,
    "start_time": "2023-01-22T21:47:38.162Z"
   },
   {
    "duration": 2,
    "start_time": "2023-01-22T21:47:40.642Z"
   },
   {
    "duration": 90,
    "start_time": "2023-01-22T21:47:41.186Z"
   },
   {
    "duration": 27478,
    "start_time": "2023-01-22T21:47:59.814Z"
   },
   {
    "duration": 109,
    "start_time": "2023-01-22T21:48:27.294Z"
   },
   {
    "duration": 794,
    "start_time": "2023-01-22T21:48:27.404Z"
   },
   {
    "duration": 4587,
    "start_time": "2023-01-22T21:48:28.201Z"
   },
   {
    "duration": 5689,
    "start_time": "2023-01-22T21:48:32.792Z"
   },
   {
    "duration": 4784,
    "start_time": "2023-01-22T21:48:38.483Z"
   },
   {
    "duration": 4082,
    "start_time": "2023-01-22T21:48:43.269Z"
   },
   {
    "duration": 3,
    "start_time": "2023-01-22T21:48:47.354Z"
   },
   {
    "duration": 1652,
    "start_time": "2023-01-22T21:48:47.359Z"
   },
   {
    "duration": 555,
    "start_time": "2023-01-22T21:50:29.443Z"
   },
   {
    "duration": 37,
    "start_time": "2023-01-22T21:50:58.140Z"
   },
   {
    "duration": 7,
    "start_time": "2023-01-22T21:51:09.069Z"
   },
   {
    "duration": 4,
    "start_time": "2023-01-22T21:51:14.449Z"
   },
   {
    "duration": 374,
    "start_time": "2023-01-22T21:51:18.808Z"
   },
   {
    "duration": 3,
    "start_time": "2023-01-22T21:51:51.534Z"
   },
   {
    "duration": 198,
    "start_time": "2023-01-22T21:51:51.725Z"
   },
   {
    "duration": 88,
    "start_time": "2023-01-22T21:51:52.776Z"
   },
   {
    "duration": 4,
    "start_time": "2023-01-22T21:54:56.599Z"
   },
   {
    "duration": 98,
    "start_time": "2023-01-22T21:54:57.431Z"
   },
   {
    "duration": 25682,
    "start_time": "2023-01-22T21:55:39.098Z"
   },
   {
    "duration": 116,
    "start_time": "2023-01-22T21:56:04.783Z"
   },
   {
    "duration": 794,
    "start_time": "2023-01-22T21:56:04.904Z"
   },
   {
    "duration": 4909,
    "start_time": "2023-01-22T21:56:05.701Z"
   },
   {
    "duration": 5598,
    "start_time": "2023-01-22T21:56:10.612Z"
   },
   {
    "duration": 5204,
    "start_time": "2023-01-22T21:56:16.212Z"
   },
   {
    "duration": 3641,
    "start_time": "2023-01-22T21:56:21.417Z"
   },
   {
    "duration": 4,
    "start_time": "2023-01-22T21:56:25.060Z"
   },
   {
    "duration": 1730,
    "start_time": "2023-01-22T21:56:25.066Z"
   },
   {
    "duration": 984,
    "start_time": "2023-01-22T21:56:26.798Z"
   },
   {
    "duration": 105,
    "start_time": "2023-01-22T21:56:27.785Z"
   },
   {
    "duration": 197,
    "start_time": "2023-01-22T21:56:55.821Z"
   },
   {
    "duration": 88,
    "start_time": "2023-01-22T21:57:08.551Z"
   },
   {
    "duration": 25873,
    "start_time": "2023-01-22T21:57:18.415Z"
   },
   {
    "duration": 116,
    "start_time": "2023-01-22T21:57:44.290Z"
   },
   {
    "duration": 980,
    "start_time": "2023-01-22T21:57:44.407Z"
   },
   {
    "duration": 5009,
    "start_time": "2023-01-22T21:57:45.389Z"
   },
   {
    "duration": 6296,
    "start_time": "2023-01-22T21:57:50.400Z"
   },
   {
    "duration": 5086,
    "start_time": "2023-01-22T21:57:56.697Z"
   },
   {
    "duration": 3765,
    "start_time": "2023-01-22T21:58:01.785Z"
   },
   {
    "duration": 4,
    "start_time": "2023-01-22T21:58:05.554Z"
   },
   {
    "duration": 1731,
    "start_time": "2023-01-22T21:58:05.560Z"
   },
   {
    "duration": 827,
    "start_time": "2023-01-22T21:58:07.294Z"
   },
   {
    "duration": 162,
    "start_time": "2023-01-22T21:58:08.123Z"
   },
   {
    "duration": 174,
    "start_time": "2023-01-22T22:01:47.150Z"
   },
   {
    "duration": 79,
    "start_time": "2023-01-22T22:01:58.638Z"
   },
   {
    "duration": 25523,
    "start_time": "2023-01-22T22:02:04.260Z"
   },
   {
    "duration": 106,
    "start_time": "2023-01-22T22:02:29.785Z"
   },
   {
    "duration": 893,
    "start_time": "2023-01-22T22:02:29.893Z"
   },
   {
    "duration": 4604,
    "start_time": "2023-01-22T22:02:30.789Z"
   },
   {
    "duration": 5899,
    "start_time": "2023-01-22T22:02:35.394Z"
   },
   {
    "duration": 4862,
    "start_time": "2023-01-22T22:02:41.296Z"
   },
   {
    "duration": 3922,
    "start_time": "2023-01-22T22:02:46.160Z"
   },
   {
    "duration": 3,
    "start_time": "2023-01-22T22:02:50.084Z"
   },
   {
    "duration": 1573,
    "start_time": "2023-01-22T22:02:50.088Z"
   },
   {
    "duration": 634,
    "start_time": "2023-01-22T22:02:51.664Z"
   },
   {
    "duration": 99,
    "start_time": "2023-01-22T22:02:52.300Z"
   },
   {
    "duration": 29,
    "start_time": "2023-01-22T22:04:12.362Z"
   },
   {
    "duration": 1067,
    "start_time": "2023-01-22T22:04:19.890Z"
   },
   {
    "duration": 10,
    "start_time": "2023-01-22T22:04:46.184Z"
   },
   {
    "duration": 4,
    "start_time": "2023-01-22T22:04:51.751Z"
   },
   {
    "duration": 27065,
    "start_time": "2023-01-22T22:05:54.154Z"
   },
   {
    "duration": 102,
    "start_time": "2023-01-22T22:06:21.283Z"
   },
   {
    "duration": 819,
    "start_time": "2023-01-22T22:06:21.388Z"
   },
   {
    "duration": 4582,
    "start_time": "2023-01-22T22:06:22.210Z"
   },
   {
    "duration": 6189,
    "start_time": "2023-01-22T22:06:26.793Z"
   },
   {
    "duration": 5125,
    "start_time": "2023-01-22T22:06:32.985Z"
   },
   {
    "duration": 3974,
    "start_time": "2023-01-22T22:06:38.112Z"
   },
   {
    "duration": 3,
    "start_time": "2023-01-22T22:06:42.088Z"
   },
   {
    "duration": 1822,
    "start_time": "2023-01-22T22:06:42.092Z"
   },
   {
    "duration": 584,
    "start_time": "2023-01-22T22:06:43.916Z"
   },
   {
    "duration": 103,
    "start_time": "2023-01-22T22:06:44.501Z"
   },
   {
    "duration": 91,
    "start_time": "2023-01-22T22:06:44.606Z"
   },
   {
    "duration": 1066,
    "start_time": "2023-01-22T22:06:44.699Z"
   },
   {
    "duration": 0,
    "start_time": "2023-01-22T22:06:45.783Z"
   },
   {
    "duration": 563,
    "start_time": "2023-01-22T22:07:56.121Z"
   },
   {
    "duration": 490,
    "start_time": "2023-01-22T22:11:54.111Z"
   },
   {
    "duration": 455,
    "start_time": "2023-01-22T22:13:42.774Z"
   },
   {
    "duration": 25609,
    "start_time": "2023-01-22T22:13:52.911Z"
   },
   {
    "duration": 102,
    "start_time": "2023-01-22T22:14:18.583Z"
   },
   {
    "duration": 721,
    "start_time": "2023-01-22T22:14:18.687Z"
   },
   {
    "duration": 4503,
    "start_time": "2023-01-22T22:14:19.411Z"
   },
   {
    "duration": 5870,
    "start_time": "2023-01-22T22:14:23.916Z"
   },
   {
    "duration": 4848,
    "start_time": "2023-01-22T22:14:29.787Z"
   },
   {
    "duration": 3859,
    "start_time": "2023-01-22T22:14:34.636Z"
   },
   {
    "duration": 4,
    "start_time": "2023-01-22T22:14:38.497Z"
   },
   {
    "duration": 1795,
    "start_time": "2023-01-22T22:14:38.503Z"
   },
   {
    "duration": 704,
    "start_time": "2023-01-22T22:14:40.301Z"
   },
   {
    "duration": 184,
    "start_time": "2023-01-22T22:14:41.008Z"
   },
   {
    "duration": 90,
    "start_time": "2023-01-22T22:14:41.194Z"
   },
   {
    "duration": 1327,
    "start_time": "2023-01-22T22:14:41.286Z"
   },
   {
    "duration": 0,
    "start_time": "2023-01-22T22:14:42.614Z"
   },
   {
    "duration": 112,
    "start_time": "2023-01-22T22:17:24.917Z"
   },
   {
    "duration": 534,
    "start_time": "2023-01-22T22:17:31.766Z"
   },
   {
    "duration": 3133,
    "start_time": "2023-01-22T23:23:17.790Z"
   },
   {
    "duration": 25757,
    "start_time": "2023-01-22T23:23:28.146Z"
   },
   {
    "duration": 107,
    "start_time": "2023-01-22T23:23:53.906Z"
   },
   {
    "duration": 785,
    "start_time": "2023-01-22T23:23:54.015Z"
   },
   {
    "duration": 5014,
    "start_time": "2023-01-22T23:23:54.802Z"
   },
   {
    "duration": 1886,
    "start_time": "2023-01-22T23:23:59.818Z"
   },
   {
    "duration": 5045,
    "start_time": "2023-01-22T23:24:01.706Z"
   },
   {
    "duration": 3995,
    "start_time": "2023-01-22T23:24:06.752Z"
   },
   {
    "duration": 3,
    "start_time": "2023-01-22T23:24:10.749Z"
   },
   {
    "duration": 1795,
    "start_time": "2023-01-22T23:24:10.753Z"
   },
   {
    "duration": 544,
    "start_time": "2023-01-22T23:24:12.550Z"
   },
   {
    "duration": 109,
    "start_time": "2023-01-22T23:24:13.096Z"
   },
   {
    "duration": 96,
    "start_time": "2023-01-22T23:24:13.207Z"
   },
   {
    "duration": 1390,
    "start_time": "2023-01-22T23:24:13.305Z"
   },
   {
    "duration": 6,
    "start_time": "2023-01-22T23:24:14.698Z"
   },
   {
    "duration": 419,
    "start_time": "2023-01-22T23:26:02.266Z"
   },
   {
    "duration": 3829,
    "start_time": "2023-01-22T23:26:23.977Z"
   },
   {
    "duration": 28039,
    "start_time": "2023-01-24T16:03:20.633Z"
   },
   {
    "duration": 106,
    "start_time": "2023-01-24T16:03:48.674Z"
   },
   {
    "duration": 997,
    "start_time": "2023-01-24T16:03:48.782Z"
   },
   {
    "duration": 4715,
    "start_time": "2023-01-24T16:03:49.782Z"
   },
   {
    "duration": 1997,
    "start_time": "2023-01-24T16:03:54.498Z"
   },
   {
    "duration": 6276,
    "start_time": "2023-01-24T16:03:56.497Z"
   },
   {
    "duration": 4613,
    "start_time": "2023-01-24T16:04:02.775Z"
   },
   {
    "duration": 4,
    "start_time": "2023-01-24T16:04:07.389Z"
   },
   {
    "duration": 2208,
    "start_time": "2023-01-24T16:04:07.394Z"
   },
   {
    "duration": 907,
    "start_time": "2023-01-24T16:04:09.605Z"
   },
   {
    "duration": 87,
    "start_time": "2023-01-24T16:04:10.513Z"
   },
   {
    "duration": 154,
    "start_time": "2023-01-24T16:04:10.602Z"
   },
   {
    "duration": 1401,
    "start_time": "2023-01-24T16:04:10.760Z"
   },
   {
    "duration": 12,
    "start_time": "2023-01-24T16:04:12.163Z"
   },
   {
    "duration": 600,
    "start_time": "2023-01-24T16:04:12.177Z"
   },
   {
    "duration": 3975,
    "start_time": "2023-01-24T16:04:12.778Z"
   },
   {
    "duration": 26800,
    "start_time": "2023-01-24T16:07:38.176Z"
   },
   {
    "duration": 114,
    "start_time": "2023-01-24T16:08:04.978Z"
   },
   {
    "duration": 873,
    "start_time": "2023-01-24T16:08:05.093Z"
   },
   {
    "duration": 4611,
    "start_time": "2023-01-24T16:08:05.969Z"
   },
   {
    "duration": 3010,
    "start_time": "2023-01-24T16:08:10.583Z"
   },
   {
    "duration": 5931,
    "start_time": "2023-01-24T16:08:13.653Z"
   },
   {
    "duration": 3940,
    "start_time": "2023-01-24T16:08:19.587Z"
   },
   {
    "duration": 3,
    "start_time": "2023-01-24T16:08:23.529Z"
   },
   {
    "duration": 2198,
    "start_time": "2023-01-24T16:08:23.533Z"
   },
   {
    "duration": 652,
    "start_time": "2023-01-24T16:08:25.734Z"
   },
   {
    "duration": 96,
    "start_time": "2023-01-24T16:08:26.388Z"
   },
   {
    "duration": 100,
    "start_time": "2023-01-24T16:08:26.486Z"
   },
   {
    "duration": 1666,
    "start_time": "2023-01-24T16:08:26.588Z"
   },
   {
    "duration": 6,
    "start_time": "2023-01-24T16:08:28.256Z"
   },
   {
    "duration": 508,
    "start_time": "2023-01-24T16:08:28.264Z"
   },
   {
    "duration": 3390,
    "start_time": "2023-01-24T16:08:28.774Z"
   },
   {
    "duration": 0,
    "start_time": "2023-01-24T16:08:32.166Z"
   },
   {
    "duration": 29337,
    "start_time": "2023-01-24T16:10:15.756Z"
   },
   {
    "duration": 109,
    "start_time": "2023-01-24T16:10:45.155Z"
   },
   {
    "duration": 900,
    "start_time": "2023-01-24T16:10:45.266Z"
   },
   {
    "duration": 6001,
    "start_time": "2023-01-24T16:10:46.169Z"
   },
   {
    "duration": 2712,
    "start_time": "2023-01-24T16:10:52.174Z"
   },
   {
    "duration": 6587,
    "start_time": "2023-01-24T16:10:54.889Z"
   },
   {
    "duration": 4510,
    "start_time": "2023-01-24T16:11:01.479Z"
   },
   {
    "duration": 4,
    "start_time": "2023-01-24T16:11:05.992Z"
   },
   {
    "duration": 2363,
    "start_time": "2023-01-24T16:11:05.998Z"
   },
   {
    "duration": 895,
    "start_time": "2023-01-24T16:11:08.363Z"
   },
   {
    "duration": 107,
    "start_time": "2023-01-24T16:11:09.261Z"
   },
   {
    "duration": 100,
    "start_time": "2023-01-24T16:11:09.370Z"
   },
   {
    "duration": 1783,
    "start_time": "2023-01-24T16:11:09.472Z"
   },
   {
    "duration": 7,
    "start_time": "2023-01-24T16:11:11.258Z"
   },
   {
    "duration": 587,
    "start_time": "2023-01-24T16:11:11.267Z"
   },
   {
    "duration": 3919,
    "start_time": "2023-01-24T16:11:11.856Z"
   },
   {
    "duration": 123,
    "start_time": "2023-01-24T16:11:15.777Z"
   },
   {
    "duration": 27428,
    "start_time": "2023-01-24T16:18:49.537Z"
   },
   {
    "duration": 98,
    "start_time": "2023-01-24T16:19:16.967Z"
   },
   {
    "duration": 794,
    "start_time": "2023-01-24T16:19:17.066Z"
   },
   {
    "duration": 5005,
    "start_time": "2023-01-24T16:19:17.864Z"
   },
   {
    "duration": 1806,
    "start_time": "2023-01-24T16:19:22.871Z"
   },
   {
    "duration": 6021,
    "start_time": "2023-01-24T16:19:24.679Z"
   },
   {
    "duration": 4720,
    "start_time": "2023-01-24T16:19:30.754Z"
   },
   {
    "duration": 3,
    "start_time": "2023-01-24T16:19:35.476Z"
   },
   {
    "duration": 2135,
    "start_time": "2023-01-24T16:19:35.481Z"
   },
   {
    "duration": 817,
    "start_time": "2023-01-24T16:19:37.656Z"
   },
   {
    "duration": 113,
    "start_time": "2023-01-24T16:19:38.475Z"
   },
   {
    "duration": 87,
    "start_time": "2023-01-24T16:19:38.590Z"
   },
   {
    "duration": 1686,
    "start_time": "2023-01-24T16:19:38.679Z"
   },
   {
    "duration": 7,
    "start_time": "2023-01-24T16:19:40.368Z"
   },
   {
    "duration": 592,
    "start_time": "2023-01-24T16:19:40.377Z"
   },
   {
    "duration": 3787,
    "start_time": "2023-01-24T16:19:40.971Z"
   },
   {
    "duration": 107,
    "start_time": "2023-01-24T16:19:44.760Z"
   },
   {
    "duration": 26773,
    "start_time": "2023-01-24T16:34:11.497Z"
   },
   {
    "duration": 111,
    "start_time": "2023-01-24T16:34:38.273Z"
   },
   {
    "duration": 871,
    "start_time": "2023-01-24T16:34:38.386Z"
   },
   {
    "duration": 4433,
    "start_time": "2023-01-24T16:34:39.260Z"
   },
   {
    "duration": 1866,
    "start_time": "2023-01-24T16:34:43.695Z"
   },
   {
    "duration": 5669,
    "start_time": "2023-01-24T16:34:45.563Z"
   },
   {
    "duration": 3748,
    "start_time": "2023-01-24T16:34:51.234Z"
   },
   {
    "duration": 3,
    "start_time": "2023-01-24T16:34:54.984Z"
   },
   {
    "duration": 1901,
    "start_time": "2023-01-24T16:34:54.990Z"
   },
   {
    "duration": 687,
    "start_time": "2023-01-24T16:34:56.894Z"
   },
   {
    "duration": 171,
    "start_time": "2023-01-24T16:34:57.583Z"
   },
   {
    "duration": 34,
    "start_time": "2023-01-24T16:34:57.756Z"
   },
   {
    "duration": 1461,
    "start_time": "2023-01-24T16:34:57.793Z"
   },
   {
    "duration": 7,
    "start_time": "2023-01-24T16:34:59.256Z"
   },
   {
    "duration": 561,
    "start_time": "2023-01-24T16:34:59.264Z"
   },
   {
    "duration": 4327,
    "start_time": "2023-01-24T16:34:59.827Z"
   },
   {
    "duration": 131,
    "start_time": "2023-01-24T16:35:04.156Z"
   },
   {
    "duration": 27039,
    "start_time": "2023-01-24T16:37:09.953Z"
   },
   {
    "duration": 107,
    "start_time": "2023-01-24T16:37:37.055Z"
   },
   {
    "duration": 894,
    "start_time": "2023-01-24T16:37:37.163Z"
   },
   {
    "duration": 4525,
    "start_time": "2023-01-24T16:37:38.059Z"
   },
   {
    "duration": 1986,
    "start_time": "2023-01-24T16:37:42.587Z"
   },
   {
    "duration": 5610,
    "start_time": "2023-01-24T16:37:44.575Z"
   },
   {
    "duration": 4205,
    "start_time": "2023-01-24T16:37:50.186Z"
   },
   {
    "duration": 3,
    "start_time": "2023-01-24T16:37:54.392Z"
   },
   {
    "duration": 1958,
    "start_time": "2023-01-24T16:37:54.396Z"
   },
   {
    "duration": 753,
    "start_time": "2023-01-24T16:37:56.357Z"
   },
   {
    "duration": 63,
    "start_time": "2023-01-24T16:37:57.112Z"
   },
   {
    "duration": 103,
    "start_time": "2023-01-24T16:37:57.177Z"
   },
   {
    "duration": 1475,
    "start_time": "2023-01-24T16:37:57.283Z"
   },
   {
    "duration": 7,
    "start_time": "2023-01-24T16:37:58.760Z"
   },
   {
    "duration": 494,
    "start_time": "2023-01-24T16:37:58.770Z"
   },
   {
    "duration": 3496,
    "start_time": "2023-01-24T16:37:59.266Z"
   },
   {
    "duration": 124,
    "start_time": "2023-01-24T16:38:02.764Z"
   },
   {
    "duration": 26866,
    "start_time": "2023-01-24T16:39:35.195Z"
   },
   {
    "duration": 121,
    "start_time": "2023-01-24T16:40:02.063Z"
   },
   {
    "duration": 784,
    "start_time": "2023-01-24T16:40:02.186Z"
   },
   {
    "duration": 5017,
    "start_time": "2023-01-24T16:40:02.972Z"
   },
   {
    "duration": 1910,
    "start_time": "2023-01-24T16:40:08.055Z"
   },
   {
    "duration": 5654,
    "start_time": "2023-01-24T16:40:09.968Z"
   },
   {
    "duration": 4632,
    "start_time": "2023-01-24T16:40:15.624Z"
   },
   {
    "duration": 4,
    "start_time": "2023-01-24T16:40:20.258Z"
   },
   {
    "duration": 2243,
    "start_time": "2023-01-24T16:40:20.264Z"
   },
   {
    "duration": 764,
    "start_time": "2023-01-24T16:40:22.511Z"
   },
   {
    "duration": 104,
    "start_time": "2023-01-24T16:40:23.277Z"
   },
   {
    "duration": 105,
    "start_time": "2023-01-24T16:40:23.383Z"
   },
   {
    "duration": 1292,
    "start_time": "2023-01-24T16:40:23.491Z"
   },
   {
    "duration": 74,
    "start_time": "2023-01-24T16:40:24.785Z"
   },
   {
    "duration": 518,
    "start_time": "2023-01-24T16:40:24.861Z"
   },
   {
    "duration": 3286,
    "start_time": "2023-01-24T16:40:25.382Z"
   },
   {
    "duration": 27204,
    "start_time": "2023-01-24T16:42:25.672Z"
   },
   {
    "duration": 105,
    "start_time": "2023-01-24T16:42:52.878Z"
   },
   {
    "duration": 874,
    "start_time": "2023-01-24T16:42:52.985Z"
   },
   {
    "duration": 4421,
    "start_time": "2023-01-24T16:42:53.861Z"
   },
   {
    "duration": 1817,
    "start_time": "2023-01-24T16:42:58.283Z"
   },
   {
    "duration": 5421,
    "start_time": "2023-01-24T16:43:00.101Z"
   },
   {
    "duration": 3976,
    "start_time": "2023-01-24T16:43:05.524Z"
   },
   {
    "duration": 3,
    "start_time": "2023-01-24T16:43:09.502Z"
   },
   {
    "duration": 1597,
    "start_time": "2023-01-24T16:43:09.507Z"
   },
   {
    "duration": 772,
    "start_time": "2023-01-24T16:43:11.108Z"
   },
   {
    "duration": 104,
    "start_time": "2023-01-24T16:43:11.884Z"
   },
   {
    "duration": 250,
    "start_time": "2023-01-24T16:43:11.990Z"
   },
   {
    "duration": 0,
    "start_time": "2023-01-24T16:43:12.242Z"
   },
   {
    "duration": 0,
    "start_time": "2023-01-24T16:43:12.243Z"
   },
   {
    "duration": 0,
    "start_time": "2023-01-24T16:43:12.245Z"
   },
   {
    "duration": 0,
    "start_time": "2023-01-24T16:43:12.247Z"
   },
   {
    "duration": 0,
    "start_time": "2023-01-24T16:43:12.248Z"
   },
   {
    "duration": 0,
    "start_time": "2023-01-24T16:43:12.250Z"
   },
   {
    "duration": 0,
    "start_time": "2023-01-24T16:43:12.251Z"
   },
   {
    "duration": 26042,
    "start_time": "2023-01-24T16:45:48.850Z"
   },
   {
    "duration": 113,
    "start_time": "2023-01-24T16:46:14.955Z"
   },
   {
    "duration": 795,
    "start_time": "2023-01-24T16:46:15.070Z"
   },
   {
    "duration": 4588,
    "start_time": "2023-01-24T16:46:15.867Z"
   },
   {
    "duration": 1803,
    "start_time": "2023-01-24T16:46:20.458Z"
   },
   {
    "duration": 5901,
    "start_time": "2023-01-24T16:46:22.263Z"
   },
   {
    "duration": 4493,
    "start_time": "2023-01-24T16:46:28.167Z"
   },
   {
    "duration": 3,
    "start_time": "2023-01-24T16:46:32.662Z"
   },
   {
    "duration": 1740,
    "start_time": "2023-01-24T16:46:32.667Z"
   },
   {
    "duration": 664,
    "start_time": "2023-01-24T16:46:34.410Z"
   },
   {
    "duration": 107,
    "start_time": "2023-01-24T16:46:35.076Z"
   },
   {
    "duration": 103,
    "start_time": "2023-01-24T16:46:35.185Z"
   },
   {
    "duration": 1571,
    "start_time": "2023-01-24T16:46:35.290Z"
   },
   {
    "duration": 6,
    "start_time": "2023-01-24T16:46:36.864Z"
   },
   {
    "duration": 582,
    "start_time": "2023-01-24T16:46:36.872Z"
   },
   {
    "duration": 3526,
    "start_time": "2023-01-24T16:46:37.456Z"
   },
   {
    "duration": 180,
    "start_time": "2023-01-24T16:46:40.984Z"
   },
   {
    "duration": 143,
    "start_time": "2023-01-24T16:46:41.166Z"
   },
   {
    "duration": 0,
    "start_time": "2023-01-24T16:46:41.310Z"
   },
   {
    "duration": 27085,
    "start_time": "2023-01-24T16:47:05.297Z"
   },
   {
    "duration": 106,
    "start_time": "2023-01-24T16:47:32.384Z"
   },
   {
    "duration": 761,
    "start_time": "2023-01-24T16:47:32.492Z"
   },
   {
    "duration": 4512,
    "start_time": "2023-01-24T16:47:33.255Z"
   },
   {
    "duration": 1892,
    "start_time": "2023-01-24T16:47:37.770Z"
   },
   {
    "duration": 5821,
    "start_time": "2023-01-24T16:47:39.664Z"
   },
   {
    "duration": 4449,
    "start_time": "2023-01-24T16:47:45.488Z"
   },
   {
    "duration": 3,
    "start_time": "2023-01-24T16:47:49.939Z"
   },
   {
    "duration": 1911,
    "start_time": "2023-01-24T16:47:49.953Z"
   },
   {
    "duration": 808,
    "start_time": "2023-01-24T16:47:51.867Z"
   },
   {
    "duration": 111,
    "start_time": "2023-01-24T16:47:52.677Z"
   },
   {
    "duration": 93,
    "start_time": "2023-01-24T16:47:52.790Z"
   },
   {
    "duration": 1301,
    "start_time": "2023-01-24T16:47:52.885Z"
   },
   {
    "duration": 67,
    "start_time": "2023-01-24T16:47:54.188Z"
   },
   {
    "duration": 412,
    "start_time": "2023-01-24T16:47:54.257Z"
   },
   {
    "duration": 2985,
    "start_time": "2023-01-24T16:47:54.670Z"
   },
   {
    "duration": 126,
    "start_time": "2023-01-24T16:47:57.657Z"
   },
   {
    "duration": 32573,
    "start_time": "2023-01-24T16:57:49.710Z"
   },
   {
    "duration": 119,
    "start_time": "2023-01-24T16:58:22.286Z"
   },
   {
    "duration": 767,
    "start_time": "2023-01-24T16:58:22.407Z"
   },
   {
    "duration": 5809,
    "start_time": "2023-01-24T16:58:23.179Z"
   },
   {
    "duration": 2488,
    "start_time": "2023-01-24T16:58:28.990Z"
   },
   {
    "duration": 6940,
    "start_time": "2023-01-24T16:58:31.481Z"
   },
   {
    "duration": 4722,
    "start_time": "2023-01-24T16:58:38.423Z"
   },
   {
    "duration": 8,
    "start_time": "2023-01-24T16:58:43.147Z"
   },
   {
    "duration": 1856,
    "start_time": "2023-01-24T16:58:43.157Z"
   },
   {
    "duration": 760,
    "start_time": "2023-01-24T16:58:45.055Z"
   },
   {
    "duration": 115,
    "start_time": "2023-01-24T16:58:45.853Z"
   },
   {
    "duration": 104,
    "start_time": "2023-01-24T16:58:45.971Z"
   },
   {
    "duration": 1304,
    "start_time": "2023-01-24T16:58:46.079Z"
   },
   {
    "duration": 14,
    "start_time": "2023-01-24T16:58:47.394Z"
   },
   {
    "duration": 642,
    "start_time": "2023-01-24T16:58:47.455Z"
   },
   {
    "duration": 3504,
    "start_time": "2023-01-24T16:58:48.154Z"
   },
   {
    "duration": 494,
    "start_time": "2023-01-24T16:58:51.660Z"
   },
   {
    "duration": 0,
    "start_time": "2023-01-24T16:58:52.156Z"
   },
   {
    "duration": 0,
    "start_time": "2023-01-24T16:58:52.158Z"
   },
   {
    "duration": 28101,
    "start_time": "2023-01-24T16:59:34.773Z"
   },
   {
    "duration": 108,
    "start_time": "2023-01-24T17:00:02.878Z"
   },
   {
    "duration": 892,
    "start_time": "2023-01-24T17:00:02.988Z"
   },
   {
    "duration": 5674,
    "start_time": "2023-01-24T17:00:03.883Z"
   },
   {
    "duration": 2216,
    "start_time": "2023-01-24T17:00:09.567Z"
   },
   {
    "duration": 6410,
    "start_time": "2023-01-24T17:00:11.785Z"
   },
   {
    "duration": 4925,
    "start_time": "2023-01-24T17:00:18.197Z"
   },
   {
    "duration": 3,
    "start_time": "2023-01-24T17:00:23.124Z"
   },
   {
    "duration": 2078,
    "start_time": "2023-01-24T17:00:23.128Z"
   },
   {
    "duration": 745,
    "start_time": "2023-01-24T17:00:25.209Z"
   },
   {
    "duration": 104,
    "start_time": "2023-01-24T17:00:25.957Z"
   },
   {
    "duration": 113,
    "start_time": "2023-01-24T17:00:26.064Z"
   },
   {
    "duration": 1704,
    "start_time": "2023-01-24T17:00:26.179Z"
   },
   {
    "duration": 6,
    "start_time": "2023-01-24T17:00:27.884Z"
   },
   {
    "duration": 579,
    "start_time": "2023-01-24T17:00:27.892Z"
   },
   {
    "duration": 3714,
    "start_time": "2023-01-24T17:00:28.473Z"
   },
   {
    "duration": 213,
    "start_time": "2023-01-24T17:00:32.190Z"
   },
   {
    "duration": 0,
    "start_time": "2023-01-24T17:00:32.404Z"
   },
   {
    "duration": 0,
    "start_time": "2023-01-24T17:00:32.405Z"
   },
   {
    "duration": 58,
    "start_time": "2023-01-24T17:01:31.291Z"
   },
   {
    "duration": 29203,
    "start_time": "2023-01-24T17:03:18.190Z"
   },
   {
    "duration": 127,
    "start_time": "2023-01-24T17:03:47.456Z"
   },
   {
    "duration": 803,
    "start_time": "2023-01-24T17:03:47.585Z"
   },
   {
    "duration": 5400,
    "start_time": "2023-01-24T17:03:48.390Z"
   },
   {
    "duration": 2163,
    "start_time": "2023-01-24T17:03:53.791Z"
   },
   {
    "duration": 7028,
    "start_time": "2023-01-24T17:03:55.957Z"
   },
   {
    "duration": 5099,
    "start_time": "2023-01-24T17:04:02.987Z"
   },
   {
    "duration": 3,
    "start_time": "2023-01-24T17:04:08.088Z"
   },
   {
    "duration": 1984,
    "start_time": "2023-01-24T17:04:08.093Z"
   },
   {
    "duration": 899,
    "start_time": "2023-01-24T17:04:10.080Z"
   },
   {
    "duration": 186,
    "start_time": "2023-01-24T17:04:10.981Z"
   },
   {
    "duration": 93,
    "start_time": "2023-01-24T17:04:11.169Z"
   },
   {
    "duration": 1425,
    "start_time": "2023-01-24T17:04:11.273Z"
   },
   {
    "duration": 8,
    "start_time": "2023-01-24T17:04:12.760Z"
   },
   {
    "duration": 507,
    "start_time": "2023-01-24T17:04:12.769Z"
   },
   {
    "duration": 5005,
    "start_time": "2023-01-24T17:04:13.278Z"
   },
   {
    "duration": 176,
    "start_time": "2023-01-24T17:04:18.286Z"
   },
   {
    "duration": 27815,
    "start_time": "2023-01-24T17:08:05.278Z"
   },
   {
    "duration": 170,
    "start_time": "2023-01-24T17:08:33.095Z"
   },
   {
    "duration": 817,
    "start_time": "2023-01-24T17:08:33.271Z"
   },
   {
    "duration": 5330,
    "start_time": "2023-01-24T17:08:34.163Z"
   },
   {
    "duration": 2198,
    "start_time": "2023-01-24T17:08:39.495Z"
   },
   {
    "duration": 6259,
    "start_time": "2023-01-24T17:08:41.695Z"
   },
   {
    "duration": 4732,
    "start_time": "2023-01-24T17:08:47.956Z"
   },
   {
    "duration": 3,
    "start_time": "2023-01-24T17:08:52.691Z"
   },
   {
    "duration": 1920,
    "start_time": "2023-01-24T17:08:52.696Z"
   },
   {
    "duration": 813,
    "start_time": "2023-01-24T17:08:54.654Z"
   },
   {
    "duration": 120,
    "start_time": "2023-01-24T17:08:55.468Z"
   },
   {
    "duration": 105,
    "start_time": "2023-01-24T17:08:55.590Z"
   },
   {
    "duration": 1462,
    "start_time": "2023-01-24T17:08:55.697Z"
   },
   {
    "duration": 12,
    "start_time": "2023-01-24T17:08:57.162Z"
   },
   {
    "duration": 533,
    "start_time": "2023-01-24T17:08:57.176Z"
   },
   {
    "duration": 3852,
    "start_time": "2023-01-24T17:08:57.712Z"
   },
   {
    "duration": 119,
    "start_time": "2023-01-24T17:09:01.566Z"
   },
   {
    "duration": 26518,
    "start_time": "2023-01-24T17:19:25.648Z"
   },
   {
    "duration": 121,
    "start_time": "2023-01-24T17:19:52.168Z"
   },
   {
    "duration": 863,
    "start_time": "2023-01-24T17:19:52.291Z"
   },
   {
    "duration": 4597,
    "start_time": "2023-01-24T17:19:53.156Z"
   },
   {
    "duration": 1916,
    "start_time": "2023-01-24T17:19:57.757Z"
   },
   {
    "duration": 5653,
    "start_time": "2023-01-24T17:19:59.674Z"
   },
   {
    "duration": 3883,
    "start_time": "2023-01-24T17:20:05.329Z"
   },
   {
    "duration": 3,
    "start_time": "2023-01-24T17:20:09.214Z"
   },
   {
    "duration": 1935,
    "start_time": "2023-01-24T17:20:09.218Z"
   },
   {
    "duration": 642,
    "start_time": "2023-01-24T17:20:11.156Z"
   },
   {
    "duration": 171,
    "start_time": "2023-01-24T17:20:11.801Z"
   },
   {
    "duration": 87,
    "start_time": "2023-01-24T17:20:11.974Z"
   },
   {
    "duration": 1298,
    "start_time": "2023-01-24T17:20:12.063Z"
   },
   {
    "duration": 7,
    "start_time": "2023-01-24T17:20:13.364Z"
   },
   {
    "duration": 495,
    "start_time": "2023-01-24T17:20:13.373Z"
   },
   {
    "duration": 2797,
    "start_time": "2023-01-24T17:20:13.870Z"
   },
   {
    "duration": 3818,
    "start_time": "2023-01-24T17:20:16.668Z"
   },
   {
    "duration": 1113,
    "start_time": "2023-01-24T17:20:20.488Z"
   },
   {
    "duration": 26639,
    "start_time": "2023-01-24T17:22:05.620Z"
   },
   {
    "duration": 103,
    "start_time": "2023-01-24T17:22:32.262Z"
   },
   {
    "duration": 701,
    "start_time": "2023-01-24T17:22:32.367Z"
   },
   {
    "duration": 4902,
    "start_time": "2023-01-24T17:22:33.070Z"
   },
   {
    "duration": 2084,
    "start_time": "2023-01-24T17:22:37.974Z"
   },
   {
    "duration": 5596,
    "start_time": "2023-01-24T17:22:40.060Z"
   },
   {
    "duration": 4251,
    "start_time": "2023-01-24T17:22:45.658Z"
   },
   {
    "duration": 2,
    "start_time": "2023-01-24T17:22:49.911Z"
   },
   {
    "duration": 1693,
    "start_time": "2023-01-24T17:22:49.915Z"
   },
   {
    "duration": 785,
    "start_time": "2023-01-24T17:22:51.610Z"
   },
   {
    "duration": 94,
    "start_time": "2023-01-24T17:22:52.397Z"
   },
   {
    "duration": 35,
    "start_time": "2023-01-24T17:22:52.553Z"
   },
   {
    "duration": 1311,
    "start_time": "2023-01-24T17:22:52.655Z"
   },
   {
    "duration": 7,
    "start_time": "2023-01-24T17:22:53.968Z"
   },
   {
    "duration": 492,
    "start_time": "2023-01-24T17:22:53.977Z"
   },
   {
    "duration": 3314,
    "start_time": "2023-01-24T17:22:54.471Z"
   },
   {
    "duration": 4085,
    "start_time": "2023-01-24T17:22:57.787Z"
   },
   {
    "duration": 1089,
    "start_time": "2023-01-24T17:23:01.874Z"
   },
   {
    "duration": 256,
    "start_time": "2023-01-24T17:41:03.140Z"
   },
   {
    "duration": 3387,
    "start_time": "2023-01-24T17:41:36.995Z"
   },
   {
    "duration": 1356,
    "start_time": "2023-01-24T17:42:38.935Z"
   },
   {
    "duration": 104,
    "start_time": "2023-01-24T17:46:38.402Z"
   },
   {
    "duration": 29391,
    "start_time": "2023-01-24T17:53:43.592Z"
   },
   {
    "duration": 189,
    "start_time": "2023-01-24T17:54:12.989Z"
   },
   {
    "duration": 895,
    "start_time": "2023-01-24T17:54:13.179Z"
   },
   {
    "duration": 5507,
    "start_time": "2023-01-24T17:54:14.077Z"
   },
   {
    "duration": 2283,
    "start_time": "2023-01-24T17:54:19.591Z"
   },
   {
    "duration": 6708,
    "start_time": "2023-01-24T17:54:21.876Z"
   },
   {
    "duration": 4862,
    "start_time": "2023-01-24T17:54:28.586Z"
   },
   {
    "duration": 9,
    "start_time": "2023-01-24T17:54:33.451Z"
   },
   {
    "duration": 2293,
    "start_time": "2023-01-24T17:54:33.473Z"
   },
   {
    "duration": 805,
    "start_time": "2023-01-24T17:54:35.771Z"
   },
   {
    "duration": 196,
    "start_time": "2023-01-24T17:54:36.578Z"
   },
   {
    "duration": 77,
    "start_time": "2023-01-24T17:54:36.777Z"
   },
   {
    "duration": 1426,
    "start_time": "2023-01-24T17:54:36.860Z"
   },
   {
    "duration": 7,
    "start_time": "2023-01-24T17:54:38.288Z"
   },
   {
    "duration": 532,
    "start_time": "2023-01-24T17:54:38.352Z"
   },
   {
    "duration": 3905,
    "start_time": "2023-01-24T17:54:38.886Z"
   },
   {
    "duration": 4885,
    "start_time": "2023-01-24T17:54:42.793Z"
   },
   {
    "duration": 1086,
    "start_time": "2023-01-24T17:54:47.680Z"
   },
   {
    "duration": 1290,
    "start_time": "2023-01-24T17:54:48.767Z"
   },
   {
    "duration": 355,
    "start_time": "2023-01-24T17:54:50.060Z"
   },
   {
    "duration": 8,
    "start_time": "2023-01-24T18:01:40.590Z"
   },
   {
    "duration": 32095,
    "start_time": "2023-01-24T18:02:01.099Z"
   },
   {
    "duration": 181,
    "start_time": "2023-01-24T18:02:33.196Z"
   },
   {
    "duration": 1015,
    "start_time": "2023-01-24T18:02:33.379Z"
   },
   {
    "duration": 5901,
    "start_time": "2023-01-24T18:02:34.397Z"
   },
   {
    "duration": 2355,
    "start_time": "2023-01-24T18:02:40.300Z"
   },
   {
    "duration": 6937,
    "start_time": "2023-01-24T18:02:42.662Z"
   },
   {
    "duration": 5247,
    "start_time": "2023-01-24T18:02:49.601Z"
   },
   {
    "duration": 4,
    "start_time": "2023-01-24T18:02:54.851Z"
   },
   {
    "duration": 2515,
    "start_time": "2023-01-24T18:02:54.857Z"
   },
   {
    "duration": 1096,
    "start_time": "2023-01-24T18:02:57.375Z"
   },
   {
    "duration": 185,
    "start_time": "2023-01-24T18:02:58.473Z"
   },
   {
    "duration": 101,
    "start_time": "2023-01-24T18:02:58.661Z"
   },
   {
    "duration": 1695,
    "start_time": "2023-01-24T18:02:58.765Z"
   },
   {
    "duration": 14,
    "start_time": "2023-01-24T18:03:00.465Z"
   },
   {
    "duration": 602,
    "start_time": "2023-01-24T18:03:00.480Z"
   },
   {
    "duration": 3800,
    "start_time": "2023-01-24T18:03:01.084Z"
   },
   {
    "duration": 5388,
    "start_time": "2023-01-24T18:03:04.886Z"
   },
   {
    "duration": 1253,
    "start_time": "2023-01-24T18:03:10.284Z"
   },
   {
    "duration": 23,
    "start_time": "2023-01-24T18:03:11.539Z"
   },
   {
    "duration": 1352,
    "start_time": "2023-01-24T18:03:11.564Z"
   },
   {
    "duration": 39,
    "start_time": "2023-01-24T18:03:12.918Z"
   },
   {
    "duration": 182,
    "start_time": "2023-01-24T18:06:35.452Z"
   },
   {
    "duration": 6,
    "start_time": "2023-01-24T18:06:52.182Z"
   },
   {
    "duration": 12,
    "start_time": "2023-01-24T18:07:12.826Z"
   },
   {
    "duration": 6,
    "start_time": "2023-01-24T18:07:19.713Z"
   },
   {
    "duration": 2247,
    "start_time": "2023-01-24T18:09:38.231Z"
   },
   {
    "duration": 1843,
    "start_time": "2023-01-24T18:10:24.371Z"
   },
   {
    "duration": 18,
    "start_time": "2023-01-24T18:14:28.327Z"
   },
   {
    "duration": 13,
    "start_time": "2023-01-24T18:15:26.587Z"
   },
   {
    "duration": 717,
    "start_time": "2023-01-24T18:15:30.938Z"
   },
   {
    "duration": 28,
    "start_time": "2023-01-24T18:15:37.519Z"
   },
   {
    "duration": 6,
    "start_time": "2023-01-24T18:15:55.960Z"
   },
   {
    "duration": 1230,
    "start_time": "2023-01-24T18:16:39.894Z"
   },
   {
    "duration": 32149,
    "start_time": "2023-01-24T18:16:48.916Z"
   },
   {
    "duration": 127,
    "start_time": "2023-01-24T18:17:21.069Z"
   },
   {
    "duration": 926,
    "start_time": "2023-01-24T18:17:21.254Z"
   },
   {
    "duration": 5888,
    "start_time": "2023-01-24T18:17:22.183Z"
   },
   {
    "duration": 2498,
    "start_time": "2023-01-24T18:17:28.074Z"
   },
   {
    "duration": 6957,
    "start_time": "2023-01-24T18:17:30.574Z"
   },
   {
    "duration": 5409,
    "start_time": "2023-01-24T18:17:37.534Z"
   },
   {
    "duration": 8,
    "start_time": "2023-01-24T18:17:42.946Z"
   },
   {
    "duration": 2409,
    "start_time": "2023-01-24T18:17:42.956Z"
   },
   {
    "duration": 1190,
    "start_time": "2023-01-24T18:17:45.368Z"
   },
   {
    "duration": 115,
    "start_time": "2023-01-24T18:17:46.560Z"
   },
   {
    "duration": 111,
    "start_time": "2023-01-24T18:17:46.677Z"
   },
   {
    "duration": 1831,
    "start_time": "2023-01-24T18:17:46.853Z"
   },
   {
    "duration": 71,
    "start_time": "2023-01-24T18:17:48.686Z"
   },
   {
    "duration": 637,
    "start_time": "2023-01-24T18:17:48.760Z"
   },
   {
    "duration": 3813,
    "start_time": "2023-01-24T18:17:49.455Z"
   },
   {
    "duration": 5115,
    "start_time": "2023-01-24T18:17:53.270Z"
   },
   {
    "duration": 1167,
    "start_time": "2023-01-24T18:17:58.387Z"
   },
   {
    "duration": 9,
    "start_time": "2023-01-24T18:17:59.556Z"
   },
   {
    "duration": 1133,
    "start_time": "2023-01-24T18:17:59.567Z"
   },
   {
    "duration": 2263,
    "start_time": "2023-01-24T18:18:00.702Z"
   },
   {
    "duration": 45,
    "start_time": "2023-01-25T13:06:56.525Z"
   },
   {
    "duration": 30188,
    "start_time": "2023-01-25T13:07:02.674Z"
   },
   {
    "duration": 111,
    "start_time": "2023-01-25T13:07:32.865Z"
   },
   {
    "duration": 678,
    "start_time": "2023-01-25T13:07:32.977Z"
   },
   {
    "duration": 4404,
    "start_time": "2023-01-25T13:07:33.657Z"
   },
   {
    "duration": 1601,
    "start_time": "2023-01-25T13:07:38.062Z"
   },
   {
    "duration": 99,
    "start_time": "2023-01-25T13:07:39.665Z"
   },
   {
    "duration": 4725,
    "start_time": "2023-01-25T13:07:39.766Z"
   },
   {
    "duration": 3570,
    "start_time": "2023-01-25T13:07:44.493Z"
   },
   {
    "duration": 3,
    "start_time": "2023-01-25T13:07:48.065Z"
   },
   {
    "duration": 1685,
    "start_time": "2023-01-25T13:07:48.071Z"
   },
   {
    "duration": 531,
    "start_time": "2023-01-25T13:07:49.758Z"
   },
   {
    "duration": 94,
    "start_time": "2023-01-25T13:07:50.290Z"
   },
   {
    "duration": 44,
    "start_time": "2023-01-25T13:07:50.443Z"
   },
   {
    "duration": 1100,
    "start_time": "2023-01-25T13:07:50.545Z"
   },
   {
    "duration": 7,
    "start_time": "2023-01-25T13:07:51.646Z"
   },
   {
    "duration": 427,
    "start_time": "2023-01-25T13:07:51.655Z"
   },
   {
    "duration": 2574,
    "start_time": "2023-01-25T13:07:52.083Z"
   },
   {
    "duration": 4224,
    "start_time": "2023-01-25T13:07:54.658Z"
   },
   {
    "duration": 889,
    "start_time": "2023-01-25T13:07:58.884Z"
   },
   {
    "duration": 71,
    "start_time": "2023-01-25T13:07:59.775Z"
   },
   {
    "duration": 878,
    "start_time": "2023-01-25T13:07:59.848Z"
   },
   {
    "duration": 1457,
    "start_time": "2023-01-25T13:08:00.728Z"
   },
   {
    "duration": 226,
    "start_time": "2023-01-25T13:09:16.451Z"
   },
   {
    "duration": 9,
    "start_time": "2023-01-25T13:09:35.189Z"
   },
   {
    "duration": 3,
    "start_time": "2023-01-25T13:10:39.556Z"
   },
   {
    "duration": 25817,
    "start_time": "2023-01-25T13:10:45.362Z"
   },
   {
    "duration": 100,
    "start_time": "2023-01-25T13:11:11.181Z"
   },
   {
    "duration": 782,
    "start_time": "2023-01-25T13:11:11.282Z"
   },
   {
    "duration": 4679,
    "start_time": "2023-01-25T13:11:12.067Z"
   },
   {
    "duration": 1731,
    "start_time": "2023-01-25T13:11:16.748Z"
   },
   {
    "duration": 176,
    "start_time": "2023-01-25T13:11:18.482Z"
   },
   {
    "duration": 4907,
    "start_time": "2023-01-25T13:11:18.660Z"
   },
   {
    "duration": 3798,
    "start_time": "2023-01-25T13:11:23.569Z"
   },
   {
    "duration": 3,
    "start_time": "2023-01-25T13:11:27.368Z"
   },
   {
    "duration": 1550,
    "start_time": "2023-01-25T13:11:27.374Z"
   },
   {
    "duration": 623,
    "start_time": "2023-01-25T13:11:28.944Z"
   },
   {
    "duration": 109,
    "start_time": "2023-01-25T13:11:29.569Z"
   },
   {
    "duration": 89,
    "start_time": "2023-01-25T13:11:29.680Z"
   },
   {
    "duration": 1182,
    "start_time": "2023-01-25T13:11:29.771Z"
   },
   {
    "duration": 6,
    "start_time": "2023-01-25T13:11:30.955Z"
   },
   {
    "duration": 452,
    "start_time": "2023-01-25T13:11:30.963Z"
   },
   {
    "duration": 3370,
    "start_time": "2023-01-25T13:11:31.416Z"
   },
   {
    "duration": 4126,
    "start_time": "2023-01-25T13:11:34.846Z"
   },
   {
    "duration": 1200,
    "start_time": "2023-01-25T13:11:38.974Z"
   },
   {
    "duration": 7,
    "start_time": "2023-01-25T13:11:40.176Z"
   },
   {
    "duration": 959,
    "start_time": "2023-01-25T13:11:40.185Z"
   },
   {
    "duration": 1606,
    "start_time": "2023-01-25T13:11:41.146Z"
   },
   {
    "duration": 210,
    "start_time": "2023-01-25T13:16:54.968Z"
   },
   {
    "duration": 23955,
    "start_time": "2023-01-25T13:17:19.702Z"
   },
   {
    "duration": 104,
    "start_time": "2023-01-25T13:17:43.661Z"
   },
   {
    "duration": 592,
    "start_time": "2023-01-25T13:17:43.767Z"
   },
   {
    "duration": 3822,
    "start_time": "2023-01-25T13:17:44.361Z"
   },
   {
    "duration": 1566,
    "start_time": "2023-01-25T13:17:48.184Z"
   },
   {
    "duration": 92,
    "start_time": "2023-01-25T13:17:49.752Z"
   },
   {
    "duration": 4657,
    "start_time": "2023-01-25T13:17:49.846Z"
   },
   {
    "duration": 3414,
    "start_time": "2023-01-25T13:17:54.505Z"
   },
   {
    "duration": 3,
    "start_time": "2023-01-25T13:17:57.921Z"
   },
   {
    "duration": 1528,
    "start_time": "2023-01-25T13:17:57.927Z"
   },
   {
    "duration": 271,
    "start_time": "2023-01-25T13:17:59.457Z"
   },
   {
    "duration": 0,
    "start_time": "2023-01-25T13:17:59.730Z"
   },
   {
    "duration": 0,
    "start_time": "2023-01-25T13:17:59.731Z"
   },
   {
    "duration": 0,
    "start_time": "2023-01-25T13:17:59.732Z"
   },
   {
    "duration": 0,
    "start_time": "2023-01-25T13:17:59.733Z"
   },
   {
    "duration": 0,
    "start_time": "2023-01-25T13:17:59.734Z"
   },
   {
    "duration": 0,
    "start_time": "2023-01-25T13:17:59.735Z"
   },
   {
    "duration": 0,
    "start_time": "2023-01-25T13:17:59.736Z"
   },
   {
    "duration": 0,
    "start_time": "2023-01-25T13:17:59.737Z"
   },
   {
    "duration": 0,
    "start_time": "2023-01-25T13:17:59.738Z"
   },
   {
    "duration": 0,
    "start_time": "2023-01-25T13:17:59.739Z"
   },
   {
    "duration": 0,
    "start_time": "2023-01-25T13:17:59.740Z"
   },
   {
    "duration": 24799,
    "start_time": "2023-01-25T13:19:34.263Z"
   },
   {
    "duration": 108,
    "start_time": "2023-01-25T13:19:59.065Z"
   },
   {
    "duration": 601,
    "start_time": "2023-01-25T13:19:59.175Z"
   },
   {
    "duration": 4232,
    "start_time": "2023-01-25T13:19:59.843Z"
   },
   {
    "duration": 1702,
    "start_time": "2023-01-25T13:20:04.077Z"
   },
   {
    "duration": 176,
    "start_time": "2023-01-25T13:20:05.781Z"
   },
   {
    "duration": 4436,
    "start_time": "2023-01-25T13:20:05.958Z"
   },
   {
    "duration": 3383,
    "start_time": "2023-01-25T13:20:10.396Z"
   },
   {
    "duration": 3,
    "start_time": "2023-01-25T13:20:13.780Z"
   },
   {
    "duration": 1570,
    "start_time": "2023-01-25T13:20:13.786Z"
   },
   {
    "duration": 328,
    "start_time": "2023-01-25T13:20:15.357Z"
   },
   {
    "duration": 0,
    "start_time": "2023-01-25T13:20:15.687Z"
   },
   {
    "duration": 0,
    "start_time": "2023-01-25T13:20:15.688Z"
   },
   {
    "duration": 0,
    "start_time": "2023-01-25T13:20:15.689Z"
   },
   {
    "duration": 0,
    "start_time": "2023-01-25T13:20:15.690Z"
   },
   {
    "duration": 0,
    "start_time": "2023-01-25T13:20:15.690Z"
   },
   {
    "duration": 0,
    "start_time": "2023-01-25T13:20:15.691Z"
   },
   {
    "duration": 0,
    "start_time": "2023-01-25T13:20:15.692Z"
   },
   {
    "duration": 0,
    "start_time": "2023-01-25T13:20:15.693Z"
   },
   {
    "duration": 0,
    "start_time": "2023-01-25T13:20:15.694Z"
   },
   {
    "duration": 0,
    "start_time": "2023-01-25T13:20:15.695Z"
   },
   {
    "duration": 0,
    "start_time": "2023-01-25T13:20:15.698Z"
   },
   {
    "duration": 24885,
    "start_time": "2023-01-25T13:24:38.994Z"
   },
   {
    "duration": 98,
    "start_time": "2023-01-25T13:25:03.881Z"
   },
   {
    "duration": 674,
    "start_time": "2023-01-25T13:25:03.981Z"
   },
   {
    "duration": 4113,
    "start_time": "2023-01-25T13:25:04.657Z"
   },
   {
    "duration": 1697,
    "start_time": "2023-01-25T13:25:08.772Z"
   },
   {
    "duration": 95,
    "start_time": "2023-01-25T13:25:10.471Z"
   },
   {
    "duration": 4884,
    "start_time": "2023-01-25T13:25:10.568Z"
   },
   {
    "duration": 3646,
    "start_time": "2023-01-25T13:25:15.453Z"
   },
   {
    "duration": 3,
    "start_time": "2023-01-25T13:25:19.100Z"
   },
   {
    "duration": 1620,
    "start_time": "2023-01-25T13:25:19.105Z"
   },
   {
    "duration": 538,
    "start_time": "2023-01-25T13:25:20.727Z"
   },
   {
    "duration": 0,
    "start_time": "2023-01-25T13:25:21.267Z"
   },
   {
    "duration": 0,
    "start_time": "2023-01-25T13:25:21.268Z"
   },
   {
    "duration": 0,
    "start_time": "2023-01-25T13:25:21.271Z"
   },
   {
    "duration": 0,
    "start_time": "2023-01-25T13:25:21.272Z"
   },
   {
    "duration": 0,
    "start_time": "2023-01-25T13:25:21.273Z"
   },
   {
    "duration": 0,
    "start_time": "2023-01-25T13:25:21.274Z"
   },
   {
    "duration": 0,
    "start_time": "2023-01-25T13:25:21.276Z"
   },
   {
    "duration": 0,
    "start_time": "2023-01-25T13:25:21.277Z"
   },
   {
    "duration": 0,
    "start_time": "2023-01-25T13:25:21.278Z"
   },
   {
    "duration": 0,
    "start_time": "2023-01-25T13:25:21.279Z"
   },
   {
    "duration": 0,
    "start_time": "2023-01-25T13:25:21.280Z"
   },
   {
    "duration": 30239,
    "start_time": "2023-01-25T19:18:16.465Z"
   },
   {
    "duration": 197,
    "start_time": "2023-01-25T19:18:46.707Z"
   },
   {
    "duration": 991,
    "start_time": "2023-01-25T19:18:46.906Z"
   },
   {
    "duration": 4886,
    "start_time": "2023-01-25T19:18:47.899Z"
   },
   {
    "duration": 1695,
    "start_time": "2023-01-25T19:18:52.787Z"
   },
   {
    "duration": 111,
    "start_time": "2023-01-25T19:18:54.484Z"
   },
   {
    "duration": 5109,
    "start_time": "2023-01-25T19:18:54.596Z"
   },
   {
    "duration": 3837,
    "start_time": "2023-01-25T19:18:59.707Z"
   },
   {
    "duration": 4,
    "start_time": "2023-01-25T19:19:03.545Z"
   },
   {
    "duration": 1742,
    "start_time": "2023-01-25T19:19:03.551Z"
   },
   {
    "duration": 565,
    "start_time": "2023-01-25T19:19:05.294Z"
   },
   {
    "duration": 0,
    "start_time": "2023-01-25T19:19:05.861Z"
   },
   {
    "duration": 0,
    "start_time": "2023-01-25T19:19:05.862Z"
   },
   {
    "duration": 0,
    "start_time": "2023-01-25T19:19:05.864Z"
   },
   {
    "duration": 0,
    "start_time": "2023-01-25T19:19:05.866Z"
   },
   {
    "duration": 0,
    "start_time": "2023-01-25T19:19:05.867Z"
   },
   {
    "duration": 0,
    "start_time": "2023-01-25T19:19:05.869Z"
   },
   {
    "duration": 0,
    "start_time": "2023-01-25T19:19:05.870Z"
   },
   {
    "duration": 0,
    "start_time": "2023-01-25T19:19:05.871Z"
   },
   {
    "duration": 0,
    "start_time": "2023-01-25T19:19:05.872Z"
   },
   {
    "duration": 0,
    "start_time": "2023-01-25T19:19:05.873Z"
   },
   {
    "duration": 0,
    "start_time": "2023-01-25T19:19:05.874Z"
   },
   {
    "duration": 24482,
    "start_time": "2023-01-25T19:21:18.304Z"
   },
   {
    "duration": 104,
    "start_time": "2023-01-25T19:21:42.788Z"
   },
   {
    "duration": 688,
    "start_time": "2023-01-25T19:21:42.893Z"
   },
   {
    "duration": 3897,
    "start_time": "2023-01-25T19:21:43.584Z"
   },
   {
    "duration": 1609,
    "start_time": "2023-01-25T19:21:47.483Z"
   },
   {
    "duration": 114,
    "start_time": "2023-01-25T19:21:49.093Z"
   },
   {
    "duration": 4731,
    "start_time": "2023-01-25T19:21:49.209Z"
   },
   {
    "duration": 3479,
    "start_time": "2023-01-25T19:21:53.942Z"
   },
   {
    "duration": 3,
    "start_time": "2023-01-25T19:21:57.423Z"
   },
   {
    "duration": 1400,
    "start_time": "2023-01-25T19:21:57.428Z"
   },
   {
    "duration": 0,
    "start_time": "2023-01-25T19:21:58.830Z"
   },
   {
    "duration": 0,
    "start_time": "2023-01-25T19:21:58.831Z"
   },
   {
    "duration": 0,
    "start_time": "2023-01-25T19:21:58.832Z"
   },
   {
    "duration": 0,
    "start_time": "2023-01-25T19:21:58.833Z"
   },
   {
    "duration": 0,
    "start_time": "2023-01-25T19:21:58.834Z"
   },
   {
    "duration": 0,
    "start_time": "2023-01-25T19:21:58.835Z"
   },
   {
    "duration": 0,
    "start_time": "2023-01-25T19:21:58.836Z"
   },
   {
    "duration": 1,
    "start_time": "2023-01-25T19:21:58.837Z"
   },
   {
    "duration": 0,
    "start_time": "2023-01-25T19:21:58.839Z"
   },
   {
    "duration": 0,
    "start_time": "2023-01-25T19:21:58.840Z"
   },
   {
    "duration": 0,
    "start_time": "2023-01-25T19:21:58.840Z"
   },
   {
    "duration": 0,
    "start_time": "2023-01-25T19:21:58.841Z"
   },
   {
    "duration": 24130,
    "start_time": "2023-01-25T19:22:42.279Z"
   },
   {
    "duration": 170,
    "start_time": "2023-01-25T19:23:06.413Z"
   },
   {
    "duration": 709,
    "start_time": "2023-01-25T19:23:06.585Z"
   },
   {
    "duration": 3904,
    "start_time": "2023-01-25T19:23:07.297Z"
   },
   {
    "duration": 1591,
    "start_time": "2023-01-25T19:23:11.202Z"
   },
   {
    "duration": 122,
    "start_time": "2023-01-25T19:23:12.794Z"
   },
   {
    "duration": 4849,
    "start_time": "2023-01-25T19:23:12.918Z"
   },
   {
    "duration": 3640,
    "start_time": "2023-01-25T19:23:17.768Z"
   },
   {
    "duration": 3,
    "start_time": "2023-01-25T19:23:21.409Z"
   },
   {
    "duration": 1494,
    "start_time": "2023-01-25T19:23:21.414Z"
   },
   {
    "duration": 0,
    "start_time": "2023-01-25T19:23:22.909Z"
   },
   {
    "duration": 0,
    "start_time": "2023-01-25T19:23:22.911Z"
   },
   {
    "duration": 0,
    "start_time": "2023-01-25T19:23:22.912Z"
   },
   {
    "duration": 0,
    "start_time": "2023-01-25T19:23:22.913Z"
   },
   {
    "duration": 0,
    "start_time": "2023-01-25T19:23:22.913Z"
   },
   {
    "duration": 0,
    "start_time": "2023-01-25T19:23:22.914Z"
   },
   {
    "duration": 0,
    "start_time": "2023-01-25T19:23:22.915Z"
   },
   {
    "duration": 0,
    "start_time": "2023-01-25T19:23:22.916Z"
   },
   {
    "duration": 0,
    "start_time": "2023-01-25T19:23:22.917Z"
   },
   {
    "duration": 0,
    "start_time": "2023-01-25T19:23:22.918Z"
   },
   {
    "duration": 0,
    "start_time": "2023-01-25T19:23:22.919Z"
   },
   {
    "duration": 0,
    "start_time": "2023-01-25T19:23:22.920Z"
   },
   {
    "duration": 24366,
    "start_time": "2023-01-25T19:24:41.531Z"
   },
   {
    "duration": 111,
    "start_time": "2023-01-25T19:25:05.900Z"
   },
   {
    "duration": 871,
    "start_time": "2023-01-25T19:25:06.013Z"
   },
   {
    "duration": 4228,
    "start_time": "2023-01-25T19:25:06.887Z"
   },
   {
    "duration": 1493,
    "start_time": "2023-01-25T19:25:11.116Z"
   },
   {
    "duration": 95,
    "start_time": "2023-01-25T19:25:12.611Z"
   },
   {
    "duration": 4951,
    "start_time": "2023-01-25T19:25:12.707Z"
   },
   {
    "duration": 3871,
    "start_time": "2023-01-25T19:25:17.659Z"
   },
   {
    "duration": 3,
    "start_time": "2023-01-25T19:25:21.532Z"
   },
   {
    "duration": 1607,
    "start_time": "2023-01-25T19:25:21.538Z"
   },
   {
    "duration": 720,
    "start_time": "2023-01-25T19:25:23.182Z"
   },
   {
    "duration": 110,
    "start_time": "2023-01-25T19:25:23.904Z"
   },
   {
    "duration": 90,
    "start_time": "2023-01-25T19:25:24.015Z"
   },
   {
    "duration": 1200,
    "start_time": "2023-01-25T19:25:24.107Z"
   },
   {
    "duration": 6,
    "start_time": "2023-01-25T19:25:25.309Z"
   },
   {
    "duration": 516,
    "start_time": "2023-01-25T19:25:25.381Z"
   },
   {
    "duration": 2883,
    "start_time": "2023-01-25T19:25:25.899Z"
   },
   {
    "duration": 4333,
    "start_time": "2023-01-25T19:25:28.784Z"
   },
   {
    "duration": 1176,
    "start_time": "2023-01-25T19:25:33.119Z"
   },
   {
    "duration": 6,
    "start_time": "2023-01-25T19:25:34.296Z"
   },
   {
    "duration": 1107,
    "start_time": "2023-01-25T19:25:34.304Z"
   },
   {
    "duration": 1551,
    "start_time": "2023-01-25T19:25:35.413Z"
   },
   {
    "duration": 207,
    "start_time": "2023-01-25T19:27:13.961Z"
   },
   {
    "duration": 128,
    "start_time": "2023-01-25T19:28:09.271Z"
   },
   {
    "duration": 107,
    "start_time": "2023-01-25T19:29:15.274Z"
   },
   {
    "duration": 67,
    "start_time": "2023-01-25T19:30:19.732Z"
   },
   {
    "duration": 9,
    "start_time": "2023-01-25T19:30:26.132Z"
   },
   {
    "duration": 101,
    "start_time": "2023-01-25T19:30:28.067Z"
   },
   {
    "duration": 29,
    "start_time": "2023-01-25T19:30:42.311Z"
   },
   {
    "duration": 101,
    "start_time": "2023-01-25T19:30:52.938Z"
   },
   {
    "duration": 133,
    "start_time": "2023-01-25T19:31:02.408Z"
   },
   {
    "duration": 528,
    "start_time": "2023-01-25T19:32:39.873Z"
   },
   {
    "duration": 102,
    "start_time": "2023-01-25T19:32:42.617Z"
   },
   {
    "duration": 272,
    "start_time": "2023-01-25T19:32:58.712Z"
   },
   {
    "duration": 1183,
    "start_time": "2023-01-25T19:33:28.510Z"
   },
   {
    "duration": 3,
    "start_time": "2023-01-25T19:33:51.762Z"
   },
   {
    "duration": 27,
    "start_time": "2023-01-25T19:33:52.282Z"
   },
   {
    "duration": 354,
    "start_time": "2023-01-25T19:33:52.641Z"
   },
   {
    "duration": 212,
    "start_time": "2023-01-25T19:33:52.997Z"
   },
   {
    "duration": 952,
    "start_time": "2023-01-25T19:33:53.770Z"
   },
   {
    "duration": 114,
    "start_time": "2023-01-25T19:34:11.977Z"
   },
   {
    "duration": 133,
    "start_time": "2023-01-25T19:34:26.848Z"
   },
   {
    "duration": 116,
    "start_time": "2023-01-25T19:34:39.527Z"
   },
   {
    "duration": 106,
    "start_time": "2023-01-25T19:34:58.317Z"
   },
   {
    "duration": 24799,
    "start_time": "2023-01-25T19:35:05.320Z"
   },
   {
    "duration": 162,
    "start_time": "2023-01-25T19:35:30.122Z"
   },
   {
    "duration": 618,
    "start_time": "2023-01-25T19:35:30.286Z"
   },
   {
    "duration": 4089,
    "start_time": "2023-01-25T19:35:30.907Z"
   },
   {
    "duration": 1612,
    "start_time": "2023-01-25T19:35:34.998Z"
   },
   {
    "duration": 98,
    "start_time": "2023-01-25T19:35:36.613Z"
   },
   {
    "duration": 5136,
    "start_time": "2023-01-25T19:35:36.714Z"
   },
   {
    "duration": 3508,
    "start_time": "2023-01-25T19:35:41.851Z"
   },
   {
    "duration": 3,
    "start_time": "2023-01-25T19:35:45.360Z"
   },
   {
    "duration": 1829,
    "start_time": "2023-01-25T19:35:45.366Z"
   },
   {
    "duration": 704,
    "start_time": "2023-01-25T19:35:47.197Z"
   },
   {
    "duration": 100,
    "start_time": "2023-01-25T19:35:47.902Z"
   },
   {
    "duration": 87,
    "start_time": "2023-01-25T19:35:48.004Z"
   },
   {
    "duration": 1123,
    "start_time": "2023-01-25T19:35:48.093Z"
   },
   {
    "duration": 72,
    "start_time": "2023-01-25T19:35:49.217Z"
   },
   {
    "duration": 408,
    "start_time": "2023-01-25T19:35:49.291Z"
   },
   {
    "duration": 3191,
    "start_time": "2023-01-25T19:35:49.700Z"
   },
   {
    "duration": 4206,
    "start_time": "2023-01-25T19:35:52.893Z"
   },
   {
    "duration": 816,
    "start_time": "2023-01-25T19:35:57.101Z"
   },
   {
    "duration": 8,
    "start_time": "2023-01-25T19:35:57.919Z"
   },
   {
    "duration": 942,
    "start_time": "2023-01-25T19:35:57.929Z"
   },
   {
    "duration": 1921,
    "start_time": "2023-01-25T19:35:58.873Z"
   },
   {
    "duration": 3,
    "start_time": "2023-01-25T19:36:00.796Z"
   },
   {
    "duration": 89,
    "start_time": "2023-01-25T19:36:00.801Z"
   },
   {
    "duration": 603,
    "start_time": "2023-01-25T19:36:00.892Z"
   },
   {
    "duration": 345,
    "start_time": "2023-01-25T19:36:01.497Z"
   },
   {
    "duration": 1275,
    "start_time": "2023-01-25T19:36:01.844Z"
   },
   {
    "duration": 2163,
    "start_time": "2023-01-25T19:36:03.122Z"
   },
   {
    "duration": 598,
    "start_time": "2023-01-25T19:37:29.762Z"
   },
   {
    "duration": 6,
    "start_time": "2023-01-25T19:37:47.328Z"
   },
   {
    "duration": 623,
    "start_time": "2023-01-25T19:38:16.197Z"
   },
   {
    "duration": 4,
    "start_time": "2023-01-25T19:38:20.280Z"
   },
   {
    "duration": 7,
    "start_time": "2023-01-25T19:38:58.858Z"
   },
   {
    "duration": 25418,
    "start_time": "2023-01-25T19:39:13.493Z"
   },
   {
    "duration": 109,
    "start_time": "2023-01-25T19:39:38.913Z"
   },
   {
    "duration": 658,
    "start_time": "2023-01-25T19:39:39.024Z"
   },
   {
    "duration": 4120,
    "start_time": "2023-01-25T19:39:39.683Z"
   },
   {
    "duration": 1685,
    "start_time": "2023-01-25T19:39:43.805Z"
   },
   {
    "duration": 101,
    "start_time": "2023-01-25T19:39:45.491Z"
   },
   {
    "duration": 5047,
    "start_time": "2023-01-25T19:39:45.594Z"
   },
   {
    "duration": 3535,
    "start_time": "2023-01-25T19:39:50.642Z"
   },
   {
    "duration": 3,
    "start_time": "2023-01-25T19:39:54.178Z"
   },
   {
    "duration": 1708,
    "start_time": "2023-01-25T19:39:54.184Z"
   },
   {
    "duration": 789,
    "start_time": "2023-01-25T19:39:55.894Z"
   },
   {
    "duration": 100,
    "start_time": "2023-01-25T19:39:56.685Z"
   },
   {
    "duration": 28,
    "start_time": "2023-01-25T19:39:56.786Z"
   },
   {
    "duration": 1202,
    "start_time": "2023-01-25T19:39:56.816Z"
   },
   {
    "duration": 9,
    "start_time": "2023-01-25T19:39:58.082Z"
   },
   {
    "duration": 489,
    "start_time": "2023-01-25T19:39:58.093Z"
   },
   {
    "duration": 2937,
    "start_time": "2023-01-25T19:39:58.584Z"
   },
   {
    "duration": 3825,
    "start_time": "2023-01-25T19:40:01.581Z"
   },
   {
    "duration": 1176,
    "start_time": "2023-01-25T19:40:05.408Z"
   },
   {
    "duration": 8,
    "start_time": "2023-01-25T19:40:06.586Z"
   },
   {
    "duration": 1115,
    "start_time": "2023-01-25T19:40:06.596Z"
   },
   {
    "duration": 1564,
    "start_time": "2023-01-25T19:40:07.713Z"
   },
   {
    "duration": 3,
    "start_time": "2023-01-25T19:40:09.278Z"
   },
   {
    "duration": 27,
    "start_time": "2023-01-25T19:40:09.283Z"
   },
   {
    "duration": 507,
    "start_time": "2023-01-25T19:40:09.312Z"
   },
   {
    "duration": 248,
    "start_time": "2023-01-25T19:40:09.882Z"
   },
   {
    "duration": 51,
    "start_time": "2023-01-25T19:40:10.131Z"
   },
   {
    "duration": 1209,
    "start_time": "2023-01-25T19:40:10.186Z"
   },
   {
    "duration": 2214,
    "start_time": "2023-01-25T19:40:11.397Z"
   },
   {
    "duration": 671,
    "start_time": "2023-01-25T19:40:13.613Z"
   },
   {
    "duration": 5,
    "start_time": "2023-01-25T19:40:14.286Z"
   },
   {
    "duration": 5,
    "start_time": "2023-01-25T19:42:51.376Z"
   },
   {
    "duration": 5,
    "start_time": "2023-01-25T19:43:13.950Z"
   },
   {
    "duration": 24275,
    "start_time": "2023-01-25T19:43:37.327Z"
   },
   {
    "duration": 104,
    "start_time": "2023-01-25T19:44:01.604Z"
   },
   {
    "duration": 703,
    "start_time": "2023-01-25T19:44:01.709Z"
   },
   {
    "duration": 4174,
    "start_time": "2023-01-25T19:44:02.414Z"
   },
   {
    "duration": 1727,
    "start_time": "2023-01-25T19:44:06.590Z"
   },
   {
    "duration": 166,
    "start_time": "2023-01-25T19:44:08.319Z"
   },
   {
    "duration": 4673,
    "start_time": "2023-01-25T19:44:08.487Z"
   },
   {
    "duration": 3582,
    "start_time": "2023-01-25T19:44:13.161Z"
   },
   {
    "duration": 2,
    "start_time": "2023-01-25T19:44:16.745Z"
   },
   {
    "duration": 1643,
    "start_time": "2023-01-25T19:44:16.750Z"
   },
   {
    "duration": 600,
    "start_time": "2023-01-25T19:44:18.395Z"
   },
   {
    "duration": 99,
    "start_time": "2023-01-25T19:44:18.996Z"
   },
   {
    "duration": 91,
    "start_time": "2023-01-25T19:44:19.097Z"
   },
   {
    "duration": 1197,
    "start_time": "2023-01-25T19:44:19.190Z"
   },
   {
    "duration": 10,
    "start_time": "2023-01-25T19:44:20.389Z"
   },
   {
    "duration": 497,
    "start_time": "2023-01-25T19:44:20.400Z"
   },
   {
    "duration": 2695,
    "start_time": "2023-01-25T19:44:20.899Z"
   },
   {
    "duration": 3806,
    "start_time": "2023-01-25T19:44:23.596Z"
   },
   {
    "duration": 915,
    "start_time": "2023-01-25T19:44:27.404Z"
   },
   {
    "duration": 6,
    "start_time": "2023-01-25T19:44:28.320Z"
   },
   {
    "duration": 804,
    "start_time": "2023-01-25T19:44:28.328Z"
   },
   {
    "duration": 1498,
    "start_time": "2023-01-25T19:44:29.134Z"
   },
   {
    "duration": 3,
    "start_time": "2023-01-25T19:44:30.681Z"
   },
   {
    "duration": 46,
    "start_time": "2023-01-25T19:44:30.686Z"
   },
   {
    "duration": 481,
    "start_time": "2023-01-25T19:44:30.734Z"
   },
   {
    "duration": 68,
    "start_time": "2023-01-25T19:44:31.217Z"
   },
   {
    "duration": 250,
    "start_time": "2023-01-25T19:44:31.286Z"
   },
   {
    "duration": 1355,
    "start_time": "2023-01-25T19:44:31.539Z"
   },
   {
    "duration": 2116,
    "start_time": "2023-01-25T19:44:32.896Z"
   },
   {
    "duration": 623,
    "start_time": "2023-01-25T19:44:35.013Z"
   },
   {
    "duration": 7,
    "start_time": "2023-01-25T19:44:35.638Z"
   },
   {
    "duration": 24193,
    "start_time": "2023-01-25T19:47:16.023Z"
   },
   {
    "duration": 104,
    "start_time": "2023-01-25T19:47:40.281Z"
   },
   {
    "duration": 703,
    "start_time": "2023-01-25T19:47:40.386Z"
   },
   {
    "duration": 3928,
    "start_time": "2023-01-25T19:47:41.091Z"
   },
   {
    "duration": 2016,
    "start_time": "2023-01-25T19:47:45.082Z"
   },
   {
    "duration": 98,
    "start_time": "2023-01-25T19:47:47.100Z"
   },
   {
    "duration": 5214,
    "start_time": "2023-01-25T19:47:47.199Z"
   },
   {
    "duration": 3697,
    "start_time": "2023-01-25T19:47:52.414Z"
   },
   {
    "duration": 3,
    "start_time": "2023-01-25T19:47:56.112Z"
   },
   {
    "duration": 38,
    "start_time": "2023-01-25T19:47:56.118Z"
   },
   {
    "duration": 1824,
    "start_time": "2023-01-25T19:47:56.158Z"
   },
   {
    "duration": 616,
    "start_time": "2023-01-25T19:47:57.984Z"
   },
   {
    "duration": 109,
    "start_time": "2023-01-25T19:47:58.602Z"
   },
   {
    "duration": 93,
    "start_time": "2023-01-25T19:47:58.713Z"
   },
   {
    "duration": 80,
    "start_time": "2023-01-25T19:47:58.809Z"
   },
   {
    "duration": 1126,
    "start_time": "2023-01-25T19:47:58.891Z"
   },
   {
    "duration": 789,
    "start_time": "2023-01-25T19:48:00.019Z"
   },
   {
    "duration": 6,
    "start_time": "2023-01-25T19:48:00.810Z"
   },
   {
    "duration": 66,
    "start_time": "2023-01-25T19:48:00.817Z"
   },
   {
    "duration": 414,
    "start_time": "2023-01-25T19:48:00.884Z"
   },
   {
    "duration": 2627,
    "start_time": "2023-01-25T19:48:01.300Z"
   },
   {
    "duration": 3534,
    "start_time": "2023-01-25T19:48:03.983Z"
   },
   {
    "duration": 1091,
    "start_time": "2023-01-25T19:48:07.519Z"
   },
   {
    "duration": 7,
    "start_time": "2023-01-25T19:48:08.612Z"
   },
   {
    "duration": 895,
    "start_time": "2023-01-25T19:48:08.620Z"
   },
   {
    "duration": 1495,
    "start_time": "2023-01-25T19:48:09.517Z"
   },
   {
    "duration": 303,
    "start_time": "2023-01-25T19:48:11.014Z"
   },
   {
    "duration": 1280,
    "start_time": "2023-01-25T19:48:11.320Z"
   },
   {
    "duration": 2009,
    "start_time": "2023-01-25T19:48:12.602Z"
   },
   {
    "duration": 691,
    "start_time": "2023-01-25T19:48:14.613Z"
   },
   {
    "duration": 7,
    "start_time": "2023-01-25T19:48:15.305Z"
   },
   {
    "duration": 202,
    "start_time": "2023-01-25T19:50:36.342Z"
   },
   {
    "duration": 142,
    "start_time": "2023-01-25T19:50:48.649Z"
   },
   {
    "duration": 22,
    "start_time": "2023-01-25T19:50:53.545Z"
   },
   {
    "duration": 105,
    "start_time": "2023-01-25T19:51:06.616Z"
   },
   {
    "duration": 107,
    "start_time": "2023-01-25T19:51:27.541Z"
   },
   {
    "duration": 106,
    "start_time": "2023-01-25T19:52:04.307Z"
   },
   {
    "duration": 7,
    "start_time": "2023-01-25T19:52:30.562Z"
   },
   {
    "duration": 9,
    "start_time": "2023-01-25T19:57:00.083Z"
   },
   {
    "duration": 9,
    "start_time": "2023-01-25T19:57:07.058Z"
   },
   {
    "duration": 8,
    "start_time": "2023-01-25T19:57:10.145Z"
   },
   {
    "duration": 6,
    "start_time": "2023-01-25T19:57:21.121Z"
   },
   {
    "duration": 12,
    "start_time": "2023-01-25T19:57:41.551Z"
   },
   {
    "duration": 5,
    "start_time": "2023-01-25T19:57:42.335Z"
   },
   {
    "duration": 1703,
    "start_time": "2023-01-25T19:59:43.686Z"
   },
   {
    "duration": 654,
    "start_time": "2023-01-25T19:59:45.391Z"
   },
   {
    "duration": 5,
    "start_time": "2023-01-25T19:59:49.445Z"
   },
   {
    "duration": 9,
    "start_time": "2023-01-25T20:00:47.553Z"
   },
   {
    "duration": 5,
    "start_time": "2023-01-25T20:00:47.808Z"
   },
   {
    "duration": 7,
    "start_time": "2023-01-25T20:01:44.085Z"
   },
   {
    "duration": 123,
    "start_time": "2023-01-25T20:01:49.827Z"
   },
   {
    "duration": 117,
    "start_time": "2023-01-25T20:02:53.559Z"
   },
   {
    "duration": 127,
    "start_time": "2023-01-25T20:03:25.284Z"
   },
   {
    "duration": 26258,
    "start_time": "2023-01-25T20:03:33.254Z"
   },
   {
    "duration": 102,
    "start_time": "2023-01-25T20:03:59.515Z"
   },
   {
    "duration": 782,
    "start_time": "2023-01-25T20:03:59.618Z"
   },
   {
    "duration": 4616,
    "start_time": "2023-01-25T20:04:00.403Z"
   },
   {
    "duration": 2164,
    "start_time": "2023-01-25T20:04:05.021Z"
   },
   {
    "duration": 117,
    "start_time": "2023-01-25T20:04:07.186Z"
   },
   {
    "duration": 6079,
    "start_time": "2023-01-25T20:04:07.305Z"
   },
   {
    "duration": 4851,
    "start_time": "2023-01-25T20:04:13.386Z"
   },
   {
    "duration": 3,
    "start_time": "2023-01-25T20:04:18.238Z"
   },
   {
    "duration": 1638,
    "start_time": "2023-01-25T20:04:18.243Z"
   },
   {
    "duration": 701,
    "start_time": "2023-01-25T20:04:19.884Z"
   },
   {
    "duration": 121,
    "start_time": "2023-01-25T20:04:20.588Z"
   },
   {
    "duration": 170,
    "start_time": "2023-01-25T20:04:20.711Z"
   },
   {
    "duration": 1506,
    "start_time": "2023-01-25T20:04:20.884Z"
   },
   {
    "duration": 11,
    "start_time": "2023-01-25T20:04:22.392Z"
   },
   {
    "duration": 576,
    "start_time": "2023-01-25T20:04:22.405Z"
   },
   {
    "duration": 3498,
    "start_time": "2023-01-25T20:04:22.984Z"
   },
   {
    "duration": 4003,
    "start_time": "2023-01-25T20:04:26.483Z"
   },
   {
    "duration": 1011,
    "start_time": "2023-01-25T20:04:30.487Z"
   },
   {
    "duration": 7,
    "start_time": "2023-01-25T20:04:31.500Z"
   },
   {
    "duration": 987,
    "start_time": "2023-01-25T20:04:31.509Z"
   },
   {
    "duration": 1718,
    "start_time": "2023-01-25T20:04:32.498Z"
   },
   {
    "duration": 65,
    "start_time": "2023-01-25T20:04:34.218Z"
   },
   {
    "duration": 15,
    "start_time": "2023-01-25T20:04:34.284Z"
   },
   {
    "duration": 241,
    "start_time": "2023-01-25T20:04:34.301Z"
   },
   {
    "duration": 0,
    "start_time": "2023-01-25T20:04:34.544Z"
   },
   {
    "duration": 0,
    "start_time": "2023-01-25T20:04:34.545Z"
   },
   {
    "duration": 0,
    "start_time": "2023-01-25T20:04:34.546Z"
   },
   {
    "duration": 0,
    "start_time": "2023-01-25T20:04:34.548Z"
   },
   {
    "duration": 126,
    "start_time": "2023-01-25T20:05:41.233Z"
   },
   {
    "duration": 117,
    "start_time": "2023-01-25T20:05:57.007Z"
   },
   {
    "duration": 203,
    "start_time": "2023-01-25T20:06:37.205Z"
   },
   {
    "duration": 260,
    "start_time": "2023-01-25T20:06:49.291Z"
   },
   {
    "duration": 6,
    "start_time": "2023-01-25T20:06:53.274Z"
   },
   {
    "duration": 152,
    "start_time": "2023-01-25T20:07:04.930Z"
   },
   {
    "duration": 6,
    "start_time": "2023-01-25T20:07:05.801Z"
   },
   {
    "duration": 117,
    "start_time": "2023-01-25T20:07:18.329Z"
   },
   {
    "duration": 1255,
    "start_time": "2023-01-25T20:07:51.782Z"
   },
   {
    "duration": 2040,
    "start_time": "2023-01-25T20:07:55.254Z"
   },
   {
    "duration": 10,
    "start_time": "2023-01-25T20:08:03.134Z"
   },
   {
    "duration": 9,
    "start_time": "2023-01-25T20:08:10.989Z"
   },
   {
    "duration": 856,
    "start_time": "2023-01-25T20:08:22.772Z"
   },
   {
    "duration": 5,
    "start_time": "2023-01-25T20:08:30.995Z"
   },
   {
    "duration": 25059,
    "start_time": "2023-01-25T20:09:55.345Z"
   },
   {
    "duration": 101,
    "start_time": "2023-01-25T20:10:20.406Z"
   },
   {
    "duration": 680,
    "start_time": "2023-01-25T20:10:20.509Z"
   },
   {
    "duration": 4130,
    "start_time": "2023-01-25T20:10:21.190Z"
   },
   {
    "duration": 1889,
    "start_time": "2023-01-25T20:10:25.322Z"
   },
   {
    "duration": 81,
    "start_time": "2023-01-25T20:10:27.213Z"
   },
   {
    "duration": 98,
    "start_time": "2023-01-25T20:10:27.295Z"
   },
   {
    "duration": 4914,
    "start_time": "2023-01-25T20:10:27.395Z"
   },
   {
    "duration": 3811,
    "start_time": "2023-01-25T20:10:32.311Z"
   },
   {
    "duration": 3,
    "start_time": "2023-01-25T20:10:36.126Z"
   },
   {
    "duration": 1757,
    "start_time": "2023-01-25T20:10:36.130Z"
   },
   {
    "duration": 741,
    "start_time": "2023-01-25T20:10:37.889Z"
   },
   {
    "duration": 84,
    "start_time": "2023-01-25T20:10:38.631Z"
   },
   {
    "duration": 90,
    "start_time": "2023-01-25T20:10:38.717Z"
   },
   {
    "duration": 1106,
    "start_time": "2023-01-25T20:10:38.809Z"
   },
   {
    "duration": 71,
    "start_time": "2023-01-25T20:10:39.917Z"
   },
   {
    "duration": 491,
    "start_time": "2023-01-25T20:10:39.990Z"
   },
   {
    "duration": 3021,
    "start_time": "2023-01-25T20:10:40.484Z"
   },
   {
    "duration": 4083,
    "start_time": "2023-01-25T20:10:43.507Z"
   },
   {
    "duration": 1014,
    "start_time": "2023-01-25T20:10:47.592Z"
   },
   {
    "duration": 6,
    "start_time": "2023-01-25T20:10:48.608Z"
   },
   {
    "duration": 898,
    "start_time": "2023-01-25T20:10:48.616Z"
   },
   {
    "duration": 1611,
    "start_time": "2023-01-25T20:10:49.516Z"
   },
   {
    "duration": 6,
    "start_time": "2023-01-25T20:10:51.129Z"
   },
   {
    "duration": 10,
    "start_time": "2023-01-25T20:10:51.181Z"
   },
   {
    "duration": 293,
    "start_time": "2023-01-25T20:10:51.193Z"
   },
   {
    "duration": 6,
    "start_time": "2023-01-25T20:10:51.488Z"
   },
   {
    "duration": 1689,
    "start_time": "2023-01-25T20:10:51.497Z"
   },
   {
    "duration": 2204,
    "start_time": "2023-01-25T20:10:53.187Z"
   },
   {
    "duration": 888,
    "start_time": "2023-01-25T20:10:55.393Z"
   },
   {
    "duration": 7,
    "start_time": "2023-01-25T20:10:56.284Z"
   },
   {
    "duration": 712,
    "start_time": "2023-01-25T20:11:27.990Z"
   },
   {
    "duration": 1114,
    "start_time": "2023-01-25T20:11:38.925Z"
   },
   {
    "duration": 26311,
    "start_time": "2023-01-25T21:28:26.387Z"
   },
   {
    "duration": 107,
    "start_time": "2023-01-25T21:28:52.701Z"
   },
   {
    "duration": 894,
    "start_time": "2023-01-25T21:28:52.810Z"
   },
   {
    "duration": 4892,
    "start_time": "2023-01-25T21:28:53.706Z"
   },
   {
    "duration": 1716,
    "start_time": "2023-01-25T21:28:58.601Z"
   },
   {
    "duration": 11,
    "start_time": "2023-01-25T21:29:00.319Z"
   },
   {
    "duration": 162,
    "start_time": "2023-01-25T21:29:00.331Z"
   },
   {
    "duration": 5572,
    "start_time": "2023-01-25T21:29:00.494Z"
   },
   {
    "duration": 4288,
    "start_time": "2023-01-25T21:29:06.067Z"
   },
   {
    "duration": 3,
    "start_time": "2023-01-25T21:29:10.358Z"
   },
   {
    "duration": 1839,
    "start_time": "2023-01-25T21:29:10.363Z"
   },
   {
    "duration": 680,
    "start_time": "2023-01-25T21:29:12.203Z"
   },
   {
    "duration": 107,
    "start_time": "2023-01-25T21:29:12.888Z"
   },
   {
    "duration": 94,
    "start_time": "2023-01-25T21:29:12.997Z"
   },
   {
    "duration": 1305,
    "start_time": "2023-01-25T21:29:13.093Z"
   },
   {
    "duration": 10,
    "start_time": "2023-01-25T21:29:14.400Z"
   },
   {
    "duration": 442,
    "start_time": "2023-01-25T21:29:14.411Z"
   },
   {
    "duration": 3332,
    "start_time": "2023-01-25T21:29:14.855Z"
   },
   {
    "duration": 5319,
    "start_time": "2023-01-25T21:29:18.188Z"
   },
   {
    "duration": 1373,
    "start_time": "2023-01-25T21:29:23.510Z"
   },
   {
    "duration": 10,
    "start_time": "2023-01-25T21:29:24.885Z"
   },
   {
    "duration": 1209,
    "start_time": "2023-01-25T21:29:24.897Z"
   },
   {
    "duration": 2203,
    "start_time": "2023-01-25T21:29:26.108Z"
   },
   {
    "duration": 77,
    "start_time": "2023-01-25T21:29:28.313Z"
   },
   {
    "duration": 16,
    "start_time": "2023-01-25T21:29:28.392Z"
   },
   {
    "duration": 383,
    "start_time": "2023-01-25T21:29:28.410Z"
   },
   {
    "duration": 15,
    "start_time": "2023-01-25T21:29:28.794Z"
   },
   {
    "duration": 1992,
    "start_time": "2023-01-25T21:29:28.813Z"
   },
   {
    "duration": 2616,
    "start_time": "2023-01-25T21:29:30.807Z"
   },
   {
    "duration": 723,
    "start_time": "2023-01-25T21:29:33.425Z"
   },
   {
    "duration": 5,
    "start_time": "2023-01-25T21:29:34.183Z"
   },
   {
    "duration": 672,
    "start_time": "2023-01-25T21:29:34.191Z"
   },
   {
    "duration": 1428,
    "start_time": "2023-01-25T21:29:34.865Z"
   },
   {
    "duration": 73,
    "start_time": "2023-01-25T21:35:27.189Z"
   },
   {
    "duration": 6,
    "start_time": "2023-01-25T21:58:19.041Z"
   },
   {
    "duration": 84,
    "start_time": "2023-01-25T21:59:10.070Z"
   },
   {
    "duration": 1175,
    "start_time": "2023-01-25T21:59:37.315Z"
   },
   {
    "duration": 27120,
    "start_time": "2023-01-25T22:18:54.987Z"
   },
   {
    "duration": 110,
    "start_time": "2023-01-25T22:19:22.110Z"
   },
   {
    "duration": 898,
    "start_time": "2023-01-25T22:19:22.223Z"
   },
   {
    "duration": 5000,
    "start_time": "2023-01-25T22:19:23.123Z"
   },
   {
    "duration": 2178,
    "start_time": "2023-01-25T22:19:28.125Z"
   },
   {
    "duration": 11,
    "start_time": "2023-01-25T22:19:30.306Z"
   },
   {
    "duration": 179,
    "start_time": "2023-01-25T22:19:30.319Z"
   },
   {
    "duration": 5416,
    "start_time": "2023-01-25T22:19:30.499Z"
   },
   {
    "duration": 4247,
    "start_time": "2023-01-25T22:19:35.917Z"
   },
   {
    "duration": 3,
    "start_time": "2023-01-25T22:19:40.166Z"
   },
   {
    "duration": 1918,
    "start_time": "2023-01-25T22:19:40.171Z"
   },
   {
    "duration": 810,
    "start_time": "2023-01-25T22:19:42.090Z"
   },
   {
    "duration": 94,
    "start_time": "2023-01-25T22:19:42.901Z"
   },
   {
    "duration": 106,
    "start_time": "2023-01-25T22:19:42.999Z"
   },
   {
    "duration": 1418,
    "start_time": "2023-01-25T22:19:43.108Z"
   },
   {
    "duration": 65,
    "start_time": "2023-01-25T22:19:44.527Z"
   },
   {
    "duration": 514,
    "start_time": "2023-01-25T22:19:44.594Z"
   },
   {
    "duration": 3686,
    "start_time": "2023-01-25T22:19:45.110Z"
   },
   {
    "duration": 4605,
    "start_time": "2023-01-25T22:19:48.799Z"
   },
   {
    "duration": 1060,
    "start_time": "2023-01-25T22:19:53.406Z"
   },
   {
    "duration": 1246,
    "start_time": "2023-01-25T22:19:54.468Z"
   },
   {
    "duration": 6,
    "start_time": "2023-01-25T22:19:55.716Z"
   },
   {
    "duration": 1636,
    "start_time": "2023-01-25T22:19:55.724Z"
   },
   {
    "duration": 6,
    "start_time": "2023-01-25T22:19:57.363Z"
   },
   {
    "duration": 29,
    "start_time": "2023-01-25T22:19:57.370Z"
   },
   {
    "duration": 292,
    "start_time": "2023-01-25T22:19:57.401Z"
   },
   {
    "duration": 13,
    "start_time": "2023-01-25T22:19:57.695Z"
   },
   {
    "duration": 1705,
    "start_time": "2023-01-25T22:19:57.712Z"
   },
   {
    "duration": 2785,
    "start_time": "2023-01-25T22:19:59.420Z"
   },
   {
    "duration": 776,
    "start_time": "2023-01-25T22:20:02.207Z"
   },
   {
    "duration": 615,
    "start_time": "2023-01-25T22:20:02.986Z"
   },
   {
    "duration": 1100,
    "start_time": "2023-01-25T22:20:03.603Z"
   },
   {
    "duration": 7,
    "start_time": "2023-01-25T22:24:24.869Z"
   },
   {
    "duration": 975,
    "start_time": "2023-01-25T22:24:25.613Z"
   },
   {
    "duration": 5,
    "start_time": "2023-01-25T22:26:48.842Z"
   },
   {
    "duration": 932,
    "start_time": "2023-01-25T22:26:53.714Z"
   },
   {
    "duration": 26759,
    "start_time": "2023-01-26T08:26:13.683Z"
   },
   {
    "duration": 162,
    "start_time": "2023-01-26T08:26:40.445Z"
   },
   {
    "duration": 714,
    "start_time": "2023-01-26T08:26:40.609Z"
   },
   {
    "duration": 4911,
    "start_time": "2023-01-26T08:26:41.325Z"
   },
   {
    "duration": 2207,
    "start_time": "2023-01-26T08:26:46.237Z"
   },
   {
    "duration": 58,
    "start_time": "2023-01-26T08:26:48.446Z"
   },
   {
    "duration": 124,
    "start_time": "2023-01-26T08:26:48.506Z"
   },
   {
    "duration": 6020,
    "start_time": "2023-01-26T08:26:48.632Z"
   },
   {
    "duration": 4149,
    "start_time": "2023-01-26T08:26:54.654Z"
   },
   {
    "duration": 4,
    "start_time": "2023-01-26T08:26:58.805Z"
   },
   {
    "duration": 1953,
    "start_time": "2023-01-26T08:26:58.810Z"
   },
   {
    "duration": 642,
    "start_time": "2023-01-26T08:27:00.765Z"
   },
   {
    "duration": 102,
    "start_time": "2023-01-26T08:27:01.409Z"
   },
   {
    "duration": 90,
    "start_time": "2023-01-26T08:27:01.513Z"
   },
   {
    "duration": 1320,
    "start_time": "2023-01-26T08:27:01.605Z"
   },
   {
    "duration": 82,
    "start_time": "2023-01-26T08:27:02.927Z"
   },
   {
    "duration": 499,
    "start_time": "2023-01-26T08:27:03.011Z"
   },
   {
    "duration": 4008,
    "start_time": "2023-01-26T08:27:03.512Z"
   },
   {
    "duration": 4711,
    "start_time": "2023-01-26T08:27:07.522Z"
   },
   {
    "duration": 987,
    "start_time": "2023-01-26T08:27:12.234Z"
   },
   {
    "duration": 940,
    "start_time": "2023-01-26T08:27:13.223Z"
   },
   {
    "duration": 8,
    "start_time": "2023-01-26T08:27:14.165Z"
   },
   {
    "duration": 1674,
    "start_time": "2023-01-26T08:27:14.175Z"
   },
   {
    "duration": 6,
    "start_time": "2023-01-26T08:27:15.851Z"
   },
   {
    "duration": 12,
    "start_time": "2023-01-26T08:27:15.903Z"
   },
   {
    "duration": 308,
    "start_time": "2023-01-26T08:27:15.917Z"
   },
   {
    "duration": 8,
    "start_time": "2023-01-26T08:27:16.226Z"
   },
   {
    "duration": 1689,
    "start_time": "2023-01-26T08:27:16.240Z"
   },
   {
    "duration": 2926,
    "start_time": "2023-01-26T08:27:17.931Z"
   },
   {
    "duration": 950,
    "start_time": "2023-01-26T08:27:20.858Z"
   },
   {
    "duration": 896,
    "start_time": "2023-01-26T08:27:21.813Z"
   },
   {
    "duration": 6,
    "start_time": "2023-01-26T08:27:22.711Z"
   },
   {
    "duration": 1455,
    "start_time": "2023-01-26T08:27:22.718Z"
   },
   {
    "duration": 55,
    "start_time": "2023-01-26T10:20:10.550Z"
   },
   {
    "duration": 64,
    "start_time": "2023-01-26T12:07:58.262Z"
   },
   {
    "duration": 68,
    "start_time": "2023-01-26T12:26:28.470Z"
   },
   {
    "duration": 26515,
    "start_time": "2023-01-26T17:25:52.898Z"
   },
   {
    "duration": 117,
    "start_time": "2023-01-26T17:26:19.416Z"
   },
   {
    "duration": 761,
    "start_time": "2023-01-26T17:26:19.535Z"
   },
   {
    "duration": 4331,
    "start_time": "2023-01-26T17:26:20.298Z"
   },
   {
    "duration": 4794,
    "start_time": "2023-01-26T17:26:24.631Z"
   },
   {
    "duration": 1592,
    "start_time": "2023-01-26T17:26:29.426Z"
   },
   {
    "duration": 10,
    "start_time": "2023-01-26T17:26:31.019Z"
   },
   {
    "duration": 89,
    "start_time": "2023-01-26T17:26:31.031Z"
   },
   {
    "duration": 4285,
    "start_time": "2023-01-26T17:26:31.122Z"
   },
   {
    "duration": 3284,
    "start_time": "2023-01-26T17:26:35.410Z"
   },
   {
    "duration": 3,
    "start_time": "2023-01-26T17:26:38.695Z"
   },
   {
    "duration": 1800,
    "start_time": "2023-01-26T17:26:38.700Z"
   },
   {
    "duration": 714,
    "start_time": "2023-01-26T17:26:40.502Z"
   },
   {
    "duration": 105,
    "start_time": "2023-01-26T17:26:41.218Z"
   },
   {
    "duration": 167,
    "start_time": "2023-01-26T17:26:41.330Z"
   },
   {
    "duration": 1304,
    "start_time": "2023-01-26T17:26:41.498Z"
   },
   {
    "duration": 7,
    "start_time": "2023-01-26T17:26:42.804Z"
   },
   {
    "duration": 396,
    "start_time": "2023-01-26T17:26:42.812Z"
   },
   {
    "duration": 3622,
    "start_time": "2023-01-26T17:26:43.210Z"
   },
   {
    "duration": 4034,
    "start_time": "2023-01-26T17:26:46.893Z"
   },
   {
    "duration": 1076,
    "start_time": "2023-01-26T17:26:50.929Z"
   },
   {
    "duration": 857,
    "start_time": "2023-01-26T17:26:52.007Z"
   },
   {
    "duration": 30,
    "start_time": "2023-01-26T17:26:52.866Z"
   },
   {
    "duration": 1564,
    "start_time": "2023-01-26T17:26:52.897Z"
   },
   {
    "duration": 10,
    "start_time": "2023-01-26T17:26:54.463Z"
   },
   {
    "duration": 9,
    "start_time": "2023-01-26T17:26:54.492Z"
   },
   {
    "duration": 242,
    "start_time": "2023-01-26T17:26:54.502Z"
   },
   {
    "duration": 5,
    "start_time": "2023-01-26T17:26:54.748Z"
   },
   {
    "duration": 1232,
    "start_time": "2023-01-26T17:26:54.791Z"
   },
   {
    "duration": 2402,
    "start_time": "2023-01-26T17:26:56.025Z"
   },
   {
    "duration": 575,
    "start_time": "2023-01-26T17:26:58.429Z"
   },
   {
    "duration": 712,
    "start_time": "2023-01-26T17:26:59.007Z"
   },
   {
    "duration": 9,
    "start_time": "2023-01-26T17:26:59.721Z"
   },
   {
    "duration": 1011,
    "start_time": "2023-01-26T17:26:59.791Z"
   },
   {
    "duration": 4,
    "start_time": "2023-01-26T18:10:44.966Z"
   },
   {
    "duration": 107,
    "start_time": "2023-01-26T18:10:49.853Z"
   },
   {
    "duration": 26208,
    "start_time": "2023-01-26T18:11:10.520Z"
   },
   {
    "duration": 99,
    "start_time": "2023-01-26T18:11:36.730Z"
   },
   {
    "duration": 762,
    "start_time": "2023-01-26T18:11:36.831Z"
   },
   {
    "duration": 4304,
    "start_time": "2023-01-26T18:11:37.595Z"
   },
   {
    "duration": 177,
    "start_time": "2023-01-26T18:11:41.901Z"
   },
   {
    "duration": 0,
    "start_time": "2023-01-26T18:11:42.080Z"
   },
   {
    "duration": 0,
    "start_time": "2023-01-26T18:11:42.091Z"
   },
   {
    "duration": 0,
    "start_time": "2023-01-26T18:11:42.093Z"
   },
   {
    "duration": 0,
    "start_time": "2023-01-26T18:11:42.095Z"
   },
   {
    "duration": 0,
    "start_time": "2023-01-26T18:11:42.096Z"
   },
   {
    "duration": 0,
    "start_time": "2023-01-26T18:11:42.097Z"
   },
   {
    "duration": 0,
    "start_time": "2023-01-26T18:11:42.098Z"
   },
   {
    "duration": 0,
    "start_time": "2023-01-26T18:11:42.099Z"
   },
   {
    "duration": 0,
    "start_time": "2023-01-26T18:11:42.100Z"
   },
   {
    "duration": 0,
    "start_time": "2023-01-26T18:11:42.101Z"
   },
   {
    "duration": 0,
    "start_time": "2023-01-26T18:11:42.102Z"
   },
   {
    "duration": 0,
    "start_time": "2023-01-26T18:11:42.103Z"
   },
   {
    "duration": 0,
    "start_time": "2023-01-26T18:11:42.104Z"
   },
   {
    "duration": 0,
    "start_time": "2023-01-26T18:11:42.105Z"
   },
   {
    "duration": 0,
    "start_time": "2023-01-26T18:11:42.107Z"
   },
   {
    "duration": 0,
    "start_time": "2023-01-26T18:11:42.108Z"
   },
   {
    "duration": 0,
    "start_time": "2023-01-26T18:11:42.109Z"
   },
   {
    "duration": 0,
    "start_time": "2023-01-26T18:11:42.111Z"
   },
   {
    "duration": 0,
    "start_time": "2023-01-26T18:11:42.112Z"
   },
   {
    "duration": 0,
    "start_time": "2023-01-26T18:11:42.113Z"
   },
   {
    "duration": 0,
    "start_time": "2023-01-26T18:11:42.114Z"
   },
   {
    "duration": 0,
    "start_time": "2023-01-26T18:11:42.116Z"
   },
   {
    "duration": 0,
    "start_time": "2023-01-26T18:11:42.117Z"
   },
   {
    "duration": 0,
    "start_time": "2023-01-26T18:11:42.118Z"
   },
   {
    "duration": 0,
    "start_time": "2023-01-26T18:11:42.120Z"
   },
   {
    "duration": 0,
    "start_time": "2023-01-26T18:11:42.121Z"
   },
   {
    "duration": 0,
    "start_time": "2023-01-26T18:11:42.123Z"
   },
   {
    "duration": 0,
    "start_time": "2023-01-26T18:11:42.124Z"
   },
   {
    "duration": 0,
    "start_time": "2023-01-26T18:11:42.126Z"
   },
   {
    "duration": 15,
    "start_time": "2023-01-26T18:20:46.514Z"
   },
   {
    "duration": 25354,
    "start_time": "2023-01-26T18:38:10.061Z"
   },
   {
    "duration": 105,
    "start_time": "2023-01-26T18:38:35.418Z"
   },
   {
    "duration": 696,
    "start_time": "2023-01-26T18:38:35.525Z"
   },
   {
    "duration": 4693,
    "start_time": "2023-01-26T18:38:36.225Z"
   },
   {
    "duration": 285,
    "start_time": "2023-01-26T18:38:40.920Z"
   },
   {
    "duration": 0,
    "start_time": "2023-01-26T18:38:41.207Z"
   },
   {
    "duration": 0,
    "start_time": "2023-01-26T18:38:41.209Z"
   },
   {
    "duration": 0,
    "start_time": "2023-01-26T18:38:41.210Z"
   },
   {
    "duration": 0,
    "start_time": "2023-01-26T18:38:41.211Z"
   },
   {
    "duration": 0,
    "start_time": "2023-01-26T18:38:41.212Z"
   },
   {
    "duration": 0,
    "start_time": "2023-01-26T18:38:41.213Z"
   },
   {
    "duration": 0,
    "start_time": "2023-01-26T18:38:41.215Z"
   },
   {
    "duration": 0,
    "start_time": "2023-01-26T18:38:41.216Z"
   },
   {
    "duration": 0,
    "start_time": "2023-01-26T18:38:41.217Z"
   },
   {
    "duration": 0,
    "start_time": "2023-01-26T18:38:41.217Z"
   },
   {
    "duration": 0,
    "start_time": "2023-01-26T18:38:41.218Z"
   },
   {
    "duration": 0,
    "start_time": "2023-01-26T18:38:41.219Z"
   },
   {
    "duration": 0,
    "start_time": "2023-01-26T18:38:41.220Z"
   },
   {
    "duration": 0,
    "start_time": "2023-01-26T18:38:41.221Z"
   },
   {
    "duration": 0,
    "start_time": "2023-01-26T18:38:41.223Z"
   },
   {
    "duration": 0,
    "start_time": "2023-01-26T18:38:41.224Z"
   },
   {
    "duration": 0,
    "start_time": "2023-01-26T18:38:41.291Z"
   },
   {
    "duration": 0,
    "start_time": "2023-01-26T18:38:41.292Z"
   },
   {
    "duration": 0,
    "start_time": "2023-01-26T18:38:41.293Z"
   },
   {
    "duration": 0,
    "start_time": "2023-01-26T18:38:41.294Z"
   },
   {
    "duration": 0,
    "start_time": "2023-01-26T18:38:41.295Z"
   },
   {
    "duration": 1,
    "start_time": "2023-01-26T18:38:41.296Z"
   },
   {
    "duration": 0,
    "start_time": "2023-01-26T18:38:41.298Z"
   },
   {
    "duration": 0,
    "start_time": "2023-01-26T18:38:41.298Z"
   },
   {
    "duration": 0,
    "start_time": "2023-01-26T18:38:41.300Z"
   },
   {
    "duration": 0,
    "start_time": "2023-01-26T18:38:41.301Z"
   },
   {
    "duration": 0,
    "start_time": "2023-01-26T18:38:41.302Z"
   },
   {
    "duration": 0,
    "start_time": "2023-01-26T18:38:41.303Z"
   },
   {
    "duration": 9,
    "start_time": "2023-01-26T18:39:41.129Z"
   },
   {
    "duration": 1933,
    "start_time": "2023-01-26T18:40:25.259Z"
   },
   {
    "duration": 1613,
    "start_time": "2023-01-26T18:40:57.687Z"
   },
   {
    "duration": 822,
    "start_time": "2023-01-26T18:49:18.113Z"
   },
   {
    "duration": 9,
    "start_time": "2023-01-26T18:49:22.708Z"
   },
   {
    "duration": 25778,
    "start_time": "2023-01-26T18:50:13.722Z"
   },
   {
    "duration": 112,
    "start_time": "2023-01-26T18:50:39.503Z"
   },
   {
    "duration": 782,
    "start_time": "2023-01-26T18:50:39.616Z"
   },
   {
    "duration": 4313,
    "start_time": "2023-01-26T18:50:40.400Z"
   },
   {
    "duration": 93,
    "start_time": "2023-01-26T18:50:44.716Z"
   },
   {
    "duration": 2011,
    "start_time": "2023-01-26T18:50:44.811Z"
   },
   {
    "duration": 6,
    "start_time": "2023-01-26T18:50:46.824Z"
   },
   {
    "duration": 11,
    "start_time": "2023-01-26T18:50:46.891Z"
   },
   {
    "duration": 111,
    "start_time": "2023-01-26T18:50:46.904Z"
   },
   {
    "duration": 5295,
    "start_time": "2023-01-26T18:50:47.017Z"
   },
   {
    "duration": 3726,
    "start_time": "2023-01-26T18:50:52.314Z"
   },
   {
    "duration": 3,
    "start_time": "2023-01-26T18:50:56.041Z"
   },
   {
    "duration": 1647,
    "start_time": "2023-01-26T18:50:56.045Z"
   },
   {
    "duration": 547,
    "start_time": "2023-01-26T18:50:57.696Z"
   },
   {
    "duration": 103,
    "start_time": "2023-01-26T18:50:58.291Z"
   },
   {
    "duration": 95,
    "start_time": "2023-01-26T18:50:58.396Z"
   },
   {
    "duration": 1131,
    "start_time": "2023-01-26T18:50:58.493Z"
   },
   {
    "duration": 0,
    "start_time": "2023-01-26T18:50:59.627Z"
   },
   {
    "duration": 0,
    "start_time": "2023-01-26T18:50:59.629Z"
   },
   {
    "duration": 0,
    "start_time": "2023-01-26T18:50:59.630Z"
   },
   {
    "duration": 0,
    "start_time": "2023-01-26T18:50:59.631Z"
   },
   {
    "duration": 0,
    "start_time": "2023-01-26T18:50:59.633Z"
   },
   {
    "duration": 0,
    "start_time": "2023-01-26T18:50:59.634Z"
   },
   {
    "duration": 0,
    "start_time": "2023-01-26T18:50:59.635Z"
   },
   {
    "duration": 0,
    "start_time": "2023-01-26T18:50:59.637Z"
   },
   {
    "duration": 0,
    "start_time": "2023-01-26T18:50:59.638Z"
   },
   {
    "duration": 0,
    "start_time": "2023-01-26T18:50:59.640Z"
   },
   {
    "duration": 0,
    "start_time": "2023-01-26T18:50:59.641Z"
   },
   {
    "duration": 0,
    "start_time": "2023-01-26T18:50:59.642Z"
   },
   {
    "duration": 0,
    "start_time": "2023-01-26T18:50:59.644Z"
   },
   {
    "duration": 0,
    "start_time": "2023-01-26T18:50:59.645Z"
   },
   {
    "duration": 0,
    "start_time": "2023-01-26T18:50:59.649Z"
   },
   {
    "duration": 0,
    "start_time": "2023-01-26T18:50:59.650Z"
   },
   {
    "duration": 0,
    "start_time": "2023-01-26T18:50:59.652Z"
   },
   {
    "duration": 0,
    "start_time": "2023-01-26T18:50:59.653Z"
   },
   {
    "duration": 1981,
    "start_time": "2023-01-26T18:52:02.637Z"
   },
   {
    "duration": 1479,
    "start_time": "2023-01-26T18:52:17.715Z"
   },
   {
    "duration": 19,
    "start_time": "2023-01-26T18:59:12.813Z"
   },
   {
    "duration": 495,
    "start_time": "2023-01-26T18:59:30.146Z"
   },
   {
    "duration": 26800,
    "start_time": "2023-01-26T18:59:49.725Z"
   },
   {
    "duration": 109,
    "start_time": "2023-01-26T19:00:16.528Z"
   },
   {
    "duration": 853,
    "start_time": "2023-01-26T19:00:16.639Z"
   },
   {
    "duration": 4806,
    "start_time": "2023-01-26T19:00:17.495Z"
   },
   {
    "duration": 1295,
    "start_time": "2023-01-26T19:00:22.304Z"
   },
   {
    "duration": 26,
    "start_time": "2023-01-26T19:00:23.601Z"
   },
   {
    "duration": 2471,
    "start_time": "2023-01-26T19:00:23.629Z"
   },
   {
    "duration": 1712,
    "start_time": "2023-01-26T19:00:26.103Z"
   },
   {
    "duration": 75,
    "start_time": "2023-01-26T19:00:27.817Z"
   },
   {
    "duration": 96,
    "start_time": "2023-01-26T19:00:27.896Z"
   },
   {
    "duration": 5297,
    "start_time": "2023-01-26T19:00:27.994Z"
   },
   {
    "duration": 4263,
    "start_time": "2023-01-26T19:00:33.293Z"
   },
   {
    "duration": 3,
    "start_time": "2023-01-26T19:00:37.558Z"
   },
   {
    "duration": 1844,
    "start_time": "2023-01-26T19:00:37.563Z"
   },
   {
    "duration": 1102,
    "start_time": "2023-01-26T19:00:39.409Z"
   },
   {
    "duration": 182,
    "start_time": "2023-01-26T19:00:40.513Z"
   },
   {
    "duration": 95,
    "start_time": "2023-01-26T19:00:40.697Z"
   },
   {
    "duration": 1426,
    "start_time": "2023-01-26T19:00:40.794Z"
   },
   {
    "duration": 0,
    "start_time": "2023-01-26T19:00:42.223Z"
   },
   {
    "duration": 0,
    "start_time": "2023-01-26T19:00:42.224Z"
   },
   {
    "duration": 0,
    "start_time": "2023-01-26T19:00:42.225Z"
   },
   {
    "duration": 0,
    "start_time": "2023-01-26T19:00:42.226Z"
   },
   {
    "duration": 0,
    "start_time": "2023-01-26T19:00:42.227Z"
   },
   {
    "duration": 0,
    "start_time": "2023-01-26T19:00:42.228Z"
   },
   {
    "duration": 0,
    "start_time": "2023-01-26T19:00:42.229Z"
   },
   {
    "duration": 0,
    "start_time": "2023-01-26T19:00:42.230Z"
   },
   {
    "duration": 0,
    "start_time": "2023-01-26T19:00:42.292Z"
   },
   {
    "duration": 1,
    "start_time": "2023-01-26T19:00:42.296Z"
   },
   {
    "duration": 0,
    "start_time": "2023-01-26T19:00:42.298Z"
   },
   {
    "duration": 0,
    "start_time": "2023-01-26T19:00:42.300Z"
   },
   {
    "duration": 0,
    "start_time": "2023-01-26T19:00:42.301Z"
   },
   {
    "duration": 0,
    "start_time": "2023-01-26T19:00:42.302Z"
   },
   {
    "duration": 0,
    "start_time": "2023-01-26T19:00:42.304Z"
   },
   {
    "duration": 0,
    "start_time": "2023-01-26T19:00:42.305Z"
   },
   {
    "duration": 0,
    "start_time": "2023-01-26T19:00:42.306Z"
   },
   {
    "duration": 0,
    "start_time": "2023-01-26T19:00:42.307Z"
   },
   {
    "duration": 1161,
    "start_time": "2023-01-26T19:16:57.999Z"
   },
   {
    "duration": 911,
    "start_time": "2023-01-26T19:17:07.617Z"
   },
   {
    "duration": 674,
    "start_time": "2023-01-26T19:17:14.023Z"
   },
   {
    "duration": 10,
    "start_time": "2023-01-26T19:26:39.494Z"
   },
   {
    "duration": 12,
    "start_time": "2023-01-26T19:27:00.433Z"
   },
   {
    "duration": 10,
    "start_time": "2023-01-26T19:36:09.504Z"
   },
   {
    "duration": 9,
    "start_time": "2023-01-26T19:36:18.007Z"
   },
   {
    "duration": 8,
    "start_time": "2023-01-26T19:37:12.171Z"
   },
   {
    "duration": 19,
    "start_time": "2023-01-26T19:38:20.925Z"
   },
   {
    "duration": 18,
    "start_time": "2023-01-26T19:38:26.604Z"
   },
   {
    "duration": 323,
    "start_time": "2023-01-26T19:38:30.572Z"
   },
   {
    "duration": 10,
    "start_time": "2023-01-26T19:38:44.843Z"
   },
   {
    "duration": 9,
    "start_time": "2023-01-26T19:38:48.971Z"
   },
   {
    "duration": 202,
    "start_time": "2023-01-26T19:38:52.483Z"
   },
   {
    "duration": 9,
    "start_time": "2023-01-26T19:39:57.981Z"
   },
   {
    "duration": 513,
    "start_time": "2023-01-26T19:45:20.287Z"
   },
   {
    "duration": 2167,
    "start_time": "2023-01-26T19:45:31.229Z"
   },
   {
    "duration": 7,
    "start_time": "2023-01-26T19:46:28.184Z"
   },
   {
    "duration": 1689,
    "start_time": "2023-01-26T19:46:29.127Z"
   },
   {
    "duration": 26048,
    "start_time": "2023-01-26T19:47:20.667Z"
   },
   {
    "duration": 114,
    "start_time": "2023-01-26T19:47:46.717Z"
   },
   {
    "duration": 771,
    "start_time": "2023-01-26T19:47:46.833Z"
   },
   {
    "duration": 4693,
    "start_time": "2023-01-26T19:47:47.607Z"
   },
   {
    "duration": 1216,
    "start_time": "2023-01-26T19:47:52.302Z"
   },
   {
    "duration": 91,
    "start_time": "2023-01-26T19:47:53.520Z"
   },
   {
    "duration": 1579,
    "start_time": "2023-01-26T19:47:53.613Z"
   },
   {
    "duration": 9,
    "start_time": "2023-01-26T19:47:55.195Z"
   },
   {
    "duration": 2514,
    "start_time": "2023-01-26T19:47:55.206Z"
   },
   {
    "duration": 84,
    "start_time": "2023-01-26T19:47:57.723Z"
   },
   {
    "duration": 100,
    "start_time": "2023-01-26T19:47:57.809Z"
   },
   {
    "duration": 4817,
    "start_time": "2023-01-26T19:47:57.911Z"
   },
   {
    "duration": 3781,
    "start_time": "2023-01-26T19:48:02.730Z"
   },
   {
    "duration": 4,
    "start_time": "2023-01-26T19:48:06.513Z"
   },
   {
    "duration": 1685,
    "start_time": "2023-01-26T19:48:06.519Z"
   },
   {
    "duration": 801,
    "start_time": "2023-01-26T19:48:08.206Z"
   },
   {
    "duration": 106,
    "start_time": "2023-01-26T19:48:09.008Z"
   },
   {
    "duration": 92,
    "start_time": "2023-01-26T19:48:09.116Z"
   },
   {
    "duration": 1109,
    "start_time": "2023-01-26T19:48:09.210Z"
   },
   {
    "duration": 8,
    "start_time": "2023-01-26T19:48:10.322Z"
   },
   {
    "duration": 413,
    "start_time": "2023-01-26T19:48:10.393Z"
   },
   {
    "duration": 2806,
    "start_time": "2023-01-26T19:48:10.808Z"
   },
   {
    "duration": 4107,
    "start_time": "2023-01-26T19:48:13.617Z"
   },
   {
    "duration": 1018,
    "start_time": "2023-01-26T19:48:17.726Z"
   },
   {
    "duration": 862,
    "start_time": "2023-01-26T19:48:18.792Z"
   },
   {
    "duration": 37,
    "start_time": "2023-01-26T19:48:19.656Z"
   },
   {
    "duration": 1697,
    "start_time": "2023-01-26T19:48:19.695Z"
   },
   {
    "duration": 8,
    "start_time": "2023-01-26T19:48:21.397Z"
   },
   {
    "duration": 9,
    "start_time": "2023-01-26T19:48:21.407Z"
   },
   {
    "duration": 408,
    "start_time": "2023-01-26T19:48:21.418Z"
   },
   {
    "duration": 6,
    "start_time": "2023-01-26T19:48:21.828Z"
   },
   {
    "duration": 1281,
    "start_time": "2023-01-26T19:48:21.836Z"
   },
   {
    "duration": 2396,
    "start_time": "2023-01-26T19:48:23.119Z"
   },
   {
    "duration": 669,
    "start_time": "2023-01-26T19:48:25.517Z"
   },
   {
    "duration": 636,
    "start_time": "2023-01-26T19:48:26.188Z"
   },
   {
    "duration": 5,
    "start_time": "2023-01-26T19:48:26.826Z"
   },
   {
    "duration": 1066,
    "start_time": "2023-01-26T19:48:26.833Z"
   },
   {
    "duration": 24901,
    "start_time": "2023-01-26T19:51:55.022Z"
   },
   {
    "duration": 124,
    "start_time": "2023-01-26T19:52:19.925Z"
   },
   {
    "duration": 802,
    "start_time": "2023-01-26T19:52:20.093Z"
   },
   {
    "duration": 4933,
    "start_time": "2023-01-26T19:52:20.899Z"
   },
   {
    "duration": 1495,
    "start_time": "2023-01-26T19:52:25.834Z"
   },
   {
    "duration": 100,
    "start_time": "2023-01-26T19:52:27.393Z"
   },
   {
    "duration": 1831,
    "start_time": "2023-01-26T19:52:27.495Z"
   },
   {
    "duration": 86,
    "start_time": "2023-01-26T19:52:29.328Z"
   },
   {
    "duration": 2702,
    "start_time": "2023-01-26T19:52:29.417Z"
   },
   {
    "duration": 10,
    "start_time": "2023-01-26T19:52:32.122Z"
   },
   {
    "duration": 106,
    "start_time": "2023-01-26T19:52:32.193Z"
   },
   {
    "duration": 4920,
    "start_time": "2023-01-26T19:52:32.302Z"
   },
   {
    "duration": 4014,
    "start_time": "2023-01-26T19:52:37.224Z"
   },
   {
    "duration": 3,
    "start_time": "2023-01-26T19:52:41.239Z"
   },
   {
    "duration": 1713,
    "start_time": "2023-01-26T19:52:41.243Z"
   },
   {
    "duration": 786,
    "start_time": "2023-01-26T19:52:42.958Z"
   },
   {
    "duration": 148,
    "start_time": "2023-01-26T19:52:43.745Z"
   },
   {
    "duration": 34,
    "start_time": "2023-01-26T19:52:43.899Z"
   },
   {
    "duration": 1238,
    "start_time": "2023-01-26T19:52:43.993Z"
   },
   {
    "duration": 6,
    "start_time": "2023-01-26T19:52:45.233Z"
   },
   {
    "duration": 465,
    "start_time": "2023-01-26T19:52:45.292Z"
   },
   {
    "duration": 3143,
    "start_time": "2023-01-26T19:52:45.759Z"
   },
   {
    "duration": 3640,
    "start_time": "2023-01-26T19:52:48.908Z"
   },
   {
    "duration": 921,
    "start_time": "2023-01-26T19:52:52.551Z"
   },
   {
    "duration": 957,
    "start_time": "2023-01-26T19:52:53.474Z"
   },
   {
    "duration": 6,
    "start_time": "2023-01-26T19:52:54.433Z"
   },
   {
    "duration": 1659,
    "start_time": "2023-01-26T19:52:54.492Z"
   },
   {
    "duration": 8,
    "start_time": "2023-01-26T19:52:56.194Z"
   },
   {
    "duration": 37,
    "start_time": "2023-01-26T19:52:56.204Z"
   },
   {
    "duration": 349,
    "start_time": "2023-01-26T19:52:56.243Z"
   },
   {
    "duration": 7,
    "start_time": "2023-01-26T19:52:56.594Z"
   },
   {
    "duration": 1394,
    "start_time": "2023-01-26T19:52:56.603Z"
   },
   {
    "duration": 2204,
    "start_time": "2023-01-26T19:52:58.000Z"
   },
   {
    "duration": 569,
    "start_time": "2023-01-26T19:53:00.206Z"
   },
   {
    "duration": 774,
    "start_time": "2023-01-26T19:53:00.777Z"
   },
   {
    "duration": 6,
    "start_time": "2023-01-26T19:53:01.552Z"
   },
   {
    "duration": 1108,
    "start_time": "2023-01-26T19:53:01.559Z"
   }
  ],
  "colab": {
   "name": "PySparkSprint.ipynb",
   "provenance": []
  },
  "kernelspec": {
   "display_name": "Python 3 (ipykernel)",
   "language": "python",
   "name": "python3"
  },
  "language_info": {
   "codemirror_mode": {
    "name": "ipython",
    "version": 3
   },
   "file_extension": ".py",
   "mimetype": "text/x-python",
   "name": "python",
   "nbconvert_exporter": "python",
   "pygments_lexer": "ipython3",
   "version": "3.9.5"
  },
  "toc": {
   "base_numbering": 1,
   "nav_menu": {},
   "number_sections": true,
   "sideBar": true,
   "skip_h1_title": true,
   "title_cell": "Table of Contents",
   "title_sidebar": "Contents",
   "toc_cell": false,
   "toc_position": {
    "height": "calc(100% - 180px)",
    "left": "10px",
    "top": "150px",
    "width": "366.188px"
   },
   "toc_section_display": true,
   "toc_window_display": true
  }
 },
 "nbformat": 4,
 "nbformat_minor": 5
}
