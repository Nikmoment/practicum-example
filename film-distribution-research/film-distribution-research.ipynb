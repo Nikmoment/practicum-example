{
 "cells": [
  {
   "cell_type": "markdown",
   "metadata": {
    "toc": true
   },
   "source": [
    "<h1>Содержание<span class=\"tocSkip\"></span></h1>\n",
    "<div class=\"toc\"><ul class=\"toc-item\"><li><span><a href=\"#Изучение-данных-и-объединение-их-в-один-датафрейм\" data-toc-modified-id=\"Изучение-данных-и-объединение-их-в-один-датафрейм-1\"><span class=\"toc-item-num\">1&nbsp;&nbsp;</span>Изучение данных и объединение их в один датафрейм</a></span></li><li><span><a href=\"#Предобработка-данных\" data-toc-modified-id=\"Предобработка-данных-2\"><span class=\"toc-item-num\">2&nbsp;&nbsp;</span>Предобработка данных</a></span><ul class=\"toc-item\"><li><span><a href=\"#Преобразование-типов-данных\" data-toc-modified-id=\"Преобразование-типов-данных-2.1\"><span class=\"toc-item-num\">2.1&nbsp;&nbsp;</span>Преобразование типов данных</a></span></li><li><span><a href=\"#Устранение-пропусков-в-датафрейме\" data-toc-modified-id=\"Устранение-пропусков-в-датафрейме-2.2\"><span class=\"toc-item-num\">2.2&nbsp;&nbsp;</span>Устранение пропусков в датафрейме</a></span></li><li><span><a href=\"#Изучение-дубликатов-в-датафрейме\" data-toc-modified-id=\"Изучение-дубликатов-в-датафрейме-2.3\"><span class=\"toc-item-num\">2.3&nbsp;&nbsp;</span>Изучение дубликатов в датафрейме</a></span></li><li><span><a href=\"#Изучение-категориальных-значений\" data-toc-modified-id=\"Изучение-категориальных-значений-2.4\"><span class=\"toc-item-num\">2.4&nbsp;&nbsp;</span>Изучение категориальных значений</a></span></li><li><span><a href=\"#Проверка-количественных-значений\" data-toc-modified-id=\"Проверка-количественных-значений-2.5\"><span class=\"toc-item-num\">2.5&nbsp;&nbsp;</span>Проверка количественных значений</a></span></li><li><span><a href=\"#Добавление-новых-столбцов\" data-toc-modified-id=\"Добавление-новых-столбцов-2.6\"><span class=\"toc-item-num\">2.6&nbsp;&nbsp;</span>Добавление новых столбцов</a></span></li></ul></li><li><span><a href=\"#Исследовательский-анализ-данных\" data-toc-modified-id=\"Исследовательский-анализ-данных-3\"><span class=\"toc-item-num\">3&nbsp;&nbsp;</span>Исследовательский анализ данных</a></span></li><li><span><a href=\"#Исследование-фильмов,-получивших-государственную-поддержку\" data-toc-modified-id=\"Исследование-фильмов,-получивших-государственную-поддержку-4\"><span class=\"toc-item-num\">4&nbsp;&nbsp;</span>Исследование фильмов, получивших государственную поддержку</a></span></li><li><span><a href=\"#Общий-вывод\" data-toc-modified-id=\"Общий-вывод-5\"><span class=\"toc-item-num\">5&nbsp;&nbsp;</span>Общий вывод</a></span></li></ul></div>"
   ]
  },
  {
   "cell_type": "markdown",
   "metadata": {
    "id": "sIfNaMOxgFyK"
   },
   "source": [
    "# Исследование данных о российском кинопрокате\n",
    "\n"
   ]
  },
  {
   "cell_type": "markdown",
   "metadata": {},
   "source": [
    "Заказчик этого исследования — Министерство культуры Российской Федерации.\n",
    "\n",
    "Здача - изучить рынок российского кинопроката и выявить текущие тренды. Необходимо уделить внимание фильмам, которые получили государственную поддержку. В ходе анализа попробуем ответить на вопрос, насколько такие фильмы интересны зрителю.\n",
    "\n",
    "Анализ основывается на данных, опубликованных на портале открытых данных Министерства культуры. Набор данных содержит информацию о прокатных удостоверениях, сборах и государственной поддержке фильмов, а также информацию с сайта КиноПоиск."
   ]
  },
  {
   "cell_type": "markdown",
   "metadata": {},
   "source": [
    "На первом этапе познакомимся с таблицей, посмотрим какие показатели имеются, с чем предстоит работать. Далее подготовим таблицу для анализа: избавимся от пропусков, дубликатов, аномальных значений, приведем таблицу к комфортному для анализа виду. Далее проведем исследовательский анализ картин. На последнем этапе исследуем фильмы, которые получили косударственную поддержку.\n"
   ]
  },
  {
   "cell_type": "markdown",
   "metadata": {
    "id": "3bSlkCsbgFyL"
   },
   "source": [
    "## Изучение данных и объединение их в один датафрейм "
   ]
  },
  {
   "cell_type": "code",
   "execution_count": 1,
   "metadata": {
    "id": "dw87FlzMgFyM"
   },
   "outputs": [],
   "source": [
    "# Импортируем библиотеку pandas\n",
    "import pandas as pd"
   ]
  },
  {
   "cell_type": "code",
   "execution_count": 2,
   "metadata": {},
   "outputs": [],
   "source": [
    "# чтение файла с данными и сохранение его в переменную df_1\n",
    "try:\n",
    "    df_movies = pd.read_csv('/datasets/mkrf_movies.csv')\n",
    "except:\n",
    "    'Не удалось получить данные'"
   ]
  },
  {
   "cell_type": "code",
   "execution_count": 3,
   "metadata": {},
   "outputs": [
    {
     "name": "stdout",
     "output_type": "stream",
     "text": [
      "<class 'pandas.core.frame.DataFrame'>\n",
      "RangeIndex: 7486 entries, 0 to 7485\n",
      "Data columns (total 15 columns):\n",
      " #   Column                 Non-Null Count  Dtype  \n",
      "---  ------                 --------------  -----  \n",
      " 0   title                  7486 non-null   object \n",
      " 1   puNumber               7486 non-null   object \n",
      " 2   show_start_date        7486 non-null   object \n",
      " 3   type                   7486 non-null   object \n",
      " 4   film_studio            7468 non-null   object \n",
      " 5   production_country     7484 non-null   object \n",
      " 6   director               7477 non-null   object \n",
      " 7   producer               6918 non-null   object \n",
      " 8   age_restriction        7486 non-null   object \n",
      " 9   refundable_support     332 non-null    float64\n",
      " 10  nonrefundable_support  332 non-null    float64\n",
      " 11  budget                 332 non-null    float64\n",
      " 12  financing_source       332 non-null    object \n",
      " 13  ratings                6519 non-null   object \n",
      " 14  genres                 6510 non-null   object \n",
      "dtypes: float64(3), object(12)\n",
      "memory usage: 877.4+ KB\n"
     ]
    }
   ],
   "source": [
    "# Познакомимся с данными\n",
    "df_movies.info()"
   ]
  },
  {
   "cell_type": "code",
   "execution_count": 4,
   "metadata": {},
   "outputs": [],
   "source": [
    "# чтение файла с данными и сохранение его в переменную df_2\n",
    "try:\n",
    "    df_shows = pd.read_csv('/datasets/mkrf_shows.csv')\n",
    "except:\n",
    "    'Не удалось получить данные'"
   ]
  },
  {
   "cell_type": "code",
   "execution_count": 5,
   "metadata": {},
   "outputs": [
    {
     "name": "stdout",
     "output_type": "stream",
     "text": [
      "<class 'pandas.core.frame.DataFrame'>\n",
      "RangeIndex: 3158 entries, 0 to 3157\n",
      "Data columns (total 2 columns):\n",
      " #   Column      Non-Null Count  Dtype  \n",
      "---  ------      --------------  -----  \n",
      " 0   puNumber    3158 non-null   int64  \n",
      " 1   box_office  3158 non-null   float64\n",
      "dtypes: float64(1), int64(1)\n",
      "memory usage: 49.5 KB\n"
     ]
    }
   ],
   "source": [
    "# Познакомимся с данными\n",
    "df_shows.info()"
   ]
  },
  {
   "cell_type": "markdown",
   "metadata": {},
   "source": [
    "Для анализа нам необходимо объединить таблицы, но общие колонки имеют раный тип данных. Приведем их общему типу."
   ]
  },
  {
   "cell_type": "code",
   "execution_count": 6,
   "metadata": {},
   "outputs": [
    {
     "data": {
      "text/plain": [
       "0       111000113.0\n",
       "1       111000115.0\n",
       "2       111000116.0\n",
       "3       111000117.0\n",
       "4       111000118.0\n",
       "           ...     \n",
       "3153    224014814.0\n",
       "3154    224021411.0\n",
       "3155    224022410.0\n",
       "3156    224023210.0\n",
       "3157    224026410.0\n",
       "Name: puNumber, Length: 3158, dtype: float64"
      ]
     },
     "execution_count": 6,
     "metadata": {},
     "output_type": "execute_result"
    }
   ],
   "source": [
    "df_movies['puNumber'] = pd.to_numeric(df_movies['puNumber'], errors='coerce') \n",
    "df_shows['puNumber'].astype(float)"
   ]
  },
  {
   "cell_type": "markdown",
   "metadata": {},
   "source": [
    "Объединим две таблицы в одну общую."
   ]
  },
  {
   "cell_type": "code",
   "execution_count": 7,
   "metadata": {},
   "outputs": [
    {
     "name": "stdout",
     "output_type": "stream",
     "text": [
      "<class 'pandas.core.frame.DataFrame'>\n",
      "Int64Index: 7486 entries, 0 to 7485\n",
      "Data columns (total 16 columns):\n",
      " #   Column                 Non-Null Count  Dtype  \n",
      "---  ------                 --------------  -----  \n",
      " 0   title                  7486 non-null   object \n",
      " 1   puNumber               7485 non-null   float64\n",
      " 2   show_start_date        7486 non-null   object \n",
      " 3   type                   7486 non-null   object \n",
      " 4   film_studio            7468 non-null   object \n",
      " 5   production_country     7484 non-null   object \n",
      " 6   director               7477 non-null   object \n",
      " 7   producer               6918 non-null   object \n",
      " 8   age_restriction        7486 non-null   object \n",
      " 9   refundable_support     332 non-null    float64\n",
      " 10  nonrefundable_support  332 non-null    float64\n",
      " 11  budget                 332 non-null    float64\n",
      " 12  financing_source       332 non-null    object \n",
      " 13  ratings                6519 non-null   object \n",
      " 14  genres                 6510 non-null   object \n",
      " 15  box_office             3158 non-null   float64\n",
      "dtypes: float64(5), object(11)\n",
      "memory usage: 994.2+ KB\n"
     ]
    }
   ],
   "source": [
    "df = df_movies.merge(df_shows, on='puNumber', how='left')\n",
    "df.info()"
   ]
  },
  {
   "cell_type": "markdown",
   "metadata": {},
   "source": [
    "В таблице всего 16 колонок 11 из которых принадлежат типу `object` и 5 типу `float64`.\n"
   ]
  },
  {
   "cell_type": "code",
   "execution_count": 8,
   "metadata": {},
   "outputs": [
    {
     "data": {
      "text/html": [
       "<div>\n",
       "<style scoped>\n",
       "    .dataframe tbody tr th:only-of-type {\n",
       "        vertical-align: middle;\n",
       "    }\n",
       "\n",
       "    .dataframe tbody tr th {\n",
       "        vertical-align: top;\n",
       "    }\n",
       "\n",
       "    .dataframe thead th {\n",
       "        text-align: right;\n",
       "    }\n",
       "</style>\n",
       "<table border=\"1\" class=\"dataframe\">\n",
       "  <thead>\n",
       "    <tr style=\"text-align: right;\">\n",
       "      <th></th>\n",
       "      <th>title</th>\n",
       "      <th>puNumber</th>\n",
       "      <th>show_start_date</th>\n",
       "      <th>type</th>\n",
       "      <th>film_studio</th>\n",
       "      <th>production_country</th>\n",
       "      <th>director</th>\n",
       "      <th>producer</th>\n",
       "      <th>age_restriction</th>\n",
       "      <th>refundable_support</th>\n",
       "      <th>nonrefundable_support</th>\n",
       "      <th>budget</th>\n",
       "      <th>financing_source</th>\n",
       "      <th>ratings</th>\n",
       "      <th>genres</th>\n",
       "      <th>box_office</th>\n",
       "    </tr>\n",
       "  </thead>\n",
       "  <tbody>\n",
       "    <tr>\n",
       "      <th>0</th>\n",
       "      <td>Открытый простор</td>\n",
       "      <td>221048915.0</td>\n",
       "      <td>2015-11-27T12:00:00.000Z</td>\n",
       "      <td>Художественный</td>\n",
       "      <td>Тачстоун Пикчерз, Кобальт Пикчерз, Бикон Пикче...</td>\n",
       "      <td>США</td>\n",
       "      <td>Кевин Костнер</td>\n",
       "      <td>Дэвид Валдес, Кевин Костнер, Джейк Эбертс</td>\n",
       "      <td>«18+» - запрещено для детей</td>\n",
       "      <td>NaN</td>\n",
       "      <td>NaN</td>\n",
       "      <td>NaN</td>\n",
       "      <td>NaN</td>\n",
       "      <td>7.2</td>\n",
       "      <td>боевик,драма,мелодрама</td>\n",
       "      <td>NaN</td>\n",
       "    </tr>\n",
       "    <tr>\n",
       "      <th>1</th>\n",
       "      <td>Особо важное задание</td>\n",
       "      <td>111013716.0</td>\n",
       "      <td>2016-09-13T12:00:00.000Z</td>\n",
       "      <td>Художественный</td>\n",
       "      <td>Киностудия \"Мосфильм\"</td>\n",
       "      <td>СССР</td>\n",
       "      <td>Е.Матвеев</td>\n",
       "      <td>NaN</td>\n",
       "      <td>«6+» - для детей старше 6 лет</td>\n",
       "      <td>NaN</td>\n",
       "      <td>NaN</td>\n",
       "      <td>NaN</td>\n",
       "      <td>NaN</td>\n",
       "      <td>6.6</td>\n",
       "      <td>драма,военный</td>\n",
       "      <td>NaN</td>\n",
       "    </tr>\n",
       "    <tr>\n",
       "      <th>2</th>\n",
       "      <td>Особо опасен</td>\n",
       "      <td>221038416.0</td>\n",
       "      <td>2016-10-10T12:00:00.000Z</td>\n",
       "      <td>Художественный</td>\n",
       "      <td>Юниверсал Пикчерз, Кикстарт Продакшнз, Марк Пл...</td>\n",
       "      <td>США</td>\n",
       "      <td>Тимур Бекмамбетов</td>\n",
       "      <td>Джим Лемли, Джейсон Нетер, Марк Е.Платт, Яйн Смит</td>\n",
       "      <td>«18+» - запрещено для детей</td>\n",
       "      <td>NaN</td>\n",
       "      <td>NaN</td>\n",
       "      <td>NaN</td>\n",
       "      <td>NaN</td>\n",
       "      <td>6.8</td>\n",
       "      <td>фантастика,боевик,триллер</td>\n",
       "      <td>NaN</td>\n",
       "    </tr>\n",
       "    <tr>\n",
       "      <th>3</th>\n",
       "      <td>Особо опасен</td>\n",
       "      <td>221026916.0</td>\n",
       "      <td>2016-06-10T12:00:00.000Z</td>\n",
       "      <td>Художественный</td>\n",
       "      <td>Юниверсал Пикчерз, Кикстарт Продакшнз, Марк Пл...</td>\n",
       "      <td>США</td>\n",
       "      <td>Тимур Бекмамбетов</td>\n",
       "      <td>Джим Лемли, Джейсон Нетер, Марк Е.Платт, Яйн Смит</td>\n",
       "      <td>«18+» - запрещено для детей</td>\n",
       "      <td>NaN</td>\n",
       "      <td>NaN</td>\n",
       "      <td>NaN</td>\n",
       "      <td>NaN</td>\n",
       "      <td>6.8</td>\n",
       "      <td>фантастика,боевик,триллер</td>\n",
       "      <td>NaN</td>\n",
       "    </tr>\n",
       "    <tr>\n",
       "      <th>4</th>\n",
       "      <td>Особо опасен</td>\n",
       "      <td>221030815.0</td>\n",
       "      <td>2015-07-29T12:00:00.000Z</td>\n",
       "      <td>Художественный</td>\n",
       "      <td>Юниверсал Пикчерз, Кикстарт Продакшнз, Марк Пл...</td>\n",
       "      <td>США</td>\n",
       "      <td>Тимур Бекмамбетов</td>\n",
       "      <td>Джим Лемли, Джейсон Нетер, Марк Е.Платт, Яйн Смит</td>\n",
       "      <td>«18+» - запрещено для детей</td>\n",
       "      <td>NaN</td>\n",
       "      <td>NaN</td>\n",
       "      <td>NaN</td>\n",
       "      <td>NaN</td>\n",
       "      <td>6.8</td>\n",
       "      <td>фантастика,боевик,триллер</td>\n",
       "      <td>NaN</td>\n",
       "    </tr>\n",
       "    <tr>\n",
       "      <th>5</th>\n",
       "      <td>Остановился поезд</td>\n",
       "      <td>111013816.0</td>\n",
       "      <td>2016-09-13T12:00:00.000Z</td>\n",
       "      <td>Художественный</td>\n",
       "      <td>Киностудия \"Мосфильм\"</td>\n",
       "      <td>СССР</td>\n",
       "      <td>В.Абдрашитов</td>\n",
       "      <td>NaN</td>\n",
       "      <td>«6+» - для детей старше 6 лет</td>\n",
       "      <td>NaN</td>\n",
       "      <td>NaN</td>\n",
       "      <td>NaN</td>\n",
       "      <td>NaN</td>\n",
       "      <td>7.7</td>\n",
       "      <td>драма</td>\n",
       "      <td>NaN</td>\n",
       "    </tr>\n",
       "    <tr>\n",
       "      <th>6</th>\n",
       "      <td>Любовь и голуби</td>\n",
       "      <td>111007013.0</td>\n",
       "      <td>2013-10-18T12:00:00.000Z</td>\n",
       "      <td>Художественный</td>\n",
       "      <td>Киностудия \"Мосфильм\"</td>\n",
       "      <td>СССР</td>\n",
       "      <td>В.Меньшов</td>\n",
       "      <td>NaN</td>\n",
       "      <td>«12+» - для детей старше 12 лет</td>\n",
       "      <td>NaN</td>\n",
       "      <td>NaN</td>\n",
       "      <td>NaN</td>\n",
       "      <td>NaN</td>\n",
       "      <td>8.3</td>\n",
       "      <td>мелодрама,комедия</td>\n",
       "      <td>2700.0</td>\n",
       "    </tr>\n",
       "    <tr>\n",
       "      <th>7</th>\n",
       "      <td>Любовь и сигареты</td>\n",
       "      <td>221074614.0</td>\n",
       "      <td>2014-12-29T12:00:00.000Z</td>\n",
       "      <td>Художественный</td>\n",
       "      <td>Юнайтед Артистс, Грин Стрит Филмз, Айкон Интер...</td>\n",
       "      <td>США</td>\n",
       "      <td>Джон Туртурро</td>\n",
       "      <td>Джон Пенотти, Джон Туртурро</td>\n",
       "      <td>«18+» - запрещено для детей</td>\n",
       "      <td>NaN</td>\n",
       "      <td>NaN</td>\n",
       "      <td>NaN</td>\n",
       "      <td>NaN</td>\n",
       "      <td>6.6</td>\n",
       "      <td>мюзикл,мелодрама,комедия</td>\n",
       "      <td>NaN</td>\n",
       "    </tr>\n",
       "    <tr>\n",
       "      <th>8</th>\n",
       "      <td>Отпетые мошенники.</td>\n",
       "      <td>121011416.0</td>\n",
       "      <td>2016-05-05T12:00:00.000Z</td>\n",
       "      <td>Художественный</td>\n",
       "      <td>Пульсар Продюксьон, ТФ1 Фильм</td>\n",
       "      <td>Франция</td>\n",
       "      <td>Эрик Беснард</td>\n",
       "      <td>Патрис Леду</td>\n",
       "      <td>«18+» - запрещено для детей</td>\n",
       "      <td>NaN</td>\n",
       "      <td>NaN</td>\n",
       "      <td>NaN</td>\n",
       "      <td>NaN</td>\n",
       "      <td>8.0</td>\n",
       "      <td>комедия,криминал</td>\n",
       "      <td>NaN</td>\n",
       "    </tr>\n",
       "    <tr>\n",
       "      <th>9</th>\n",
       "      <td>Отпуск за свой счет</td>\n",
       "      <td>111019114.0</td>\n",
       "      <td>2014-12-01T12:00:00.000Z</td>\n",
       "      <td>Художественный</td>\n",
       "      <td>Киностудия \"Мосфильм\", Телевидение ВНР</td>\n",
       "      <td>СССР, Венгрия</td>\n",
       "      <td>В.Титов</td>\n",
       "      <td>NaN</td>\n",
       "      <td>«12+» - для детей старше 12 лет</td>\n",
       "      <td>NaN</td>\n",
       "      <td>NaN</td>\n",
       "      <td>NaN</td>\n",
       "      <td>NaN</td>\n",
       "      <td>7.8</td>\n",
       "      <td>мелодрама,комедия</td>\n",
       "      <td>NaN</td>\n",
       "    </tr>\n",
       "  </tbody>\n",
       "</table>\n",
       "</div>"
      ],
      "text/plain": [
       "                  title     puNumber           show_start_date  \\\n",
       "0      Открытый простор  221048915.0  2015-11-27T12:00:00.000Z   \n",
       "1  Особо важное задание  111013716.0  2016-09-13T12:00:00.000Z   \n",
       "2          Особо опасен  221038416.0  2016-10-10T12:00:00.000Z   \n",
       "3          Особо опасен  221026916.0  2016-06-10T12:00:00.000Z   \n",
       "4          Особо опасен  221030815.0  2015-07-29T12:00:00.000Z   \n",
       "5     Остановился поезд  111013816.0  2016-09-13T12:00:00.000Z   \n",
       "6       Любовь и голуби  111007013.0  2013-10-18T12:00:00.000Z   \n",
       "7     Любовь и сигареты  221074614.0  2014-12-29T12:00:00.000Z   \n",
       "8    Отпетые мошенники.  121011416.0  2016-05-05T12:00:00.000Z   \n",
       "9   Отпуск за свой счет  111019114.0  2014-12-01T12:00:00.000Z   \n",
       "\n",
       "             type                                        film_studio  \\\n",
       "0  Художественный  Тачстоун Пикчерз, Кобальт Пикчерз, Бикон Пикче...   \n",
       "1  Художественный                              Киностудия \"Мосфильм\"   \n",
       "2  Художественный  Юниверсал Пикчерз, Кикстарт Продакшнз, Марк Пл...   \n",
       "3  Художественный  Юниверсал Пикчерз, Кикстарт Продакшнз, Марк Пл...   \n",
       "4  Художественный  Юниверсал Пикчерз, Кикстарт Продакшнз, Марк Пл...   \n",
       "5  Художественный                              Киностудия \"Мосфильм\"   \n",
       "6  Художественный                              Киностудия \"Мосфильм\"   \n",
       "7  Художественный  Юнайтед Артистс, Грин Стрит Филмз, Айкон Интер...   \n",
       "8  Художественный                     Пульсар Продюксьон, ТФ1 Фильм    \n",
       "9  Художественный             Киностудия \"Мосфильм\", Телевидение ВНР   \n",
       "\n",
       "  production_country           director  \\\n",
       "0                США      Кевин Костнер   \n",
       "1               СССР          Е.Матвеев   \n",
       "2                США  Тимур Бекмамбетов   \n",
       "3                США  Тимур Бекмамбетов   \n",
       "4                США  Тимур Бекмамбетов   \n",
       "5               СССР       В.Абдрашитов   \n",
       "6               СССР          В.Меньшов   \n",
       "7                США      Джон Туртурро   \n",
       "8            Франция       Эрик Беснард   \n",
       "9      СССР, Венгрия            В.Титов   \n",
       "\n",
       "                                            producer  \\\n",
       "0          Дэвид Валдес, Кевин Костнер, Джейк Эбертс   \n",
       "1                                                NaN   \n",
       "2  Джим Лемли, Джейсон Нетер, Марк Е.Платт, Яйн Смит   \n",
       "3  Джим Лемли, Джейсон Нетер, Марк Е.Платт, Яйн Смит   \n",
       "4  Джим Лемли, Джейсон Нетер, Марк Е.Платт, Яйн Смит   \n",
       "5                                                NaN   \n",
       "6                                                NaN   \n",
       "7                        Джон Пенотти, Джон Туртурро   \n",
       "8                                        Патрис Леду   \n",
       "9                                                NaN   \n",
       "\n",
       "                   age_restriction  refundable_support  nonrefundable_support  \\\n",
       "0      «18+» - запрещено для детей                 NaN                    NaN   \n",
       "1    «6+» - для детей старше 6 лет                 NaN                    NaN   \n",
       "2      «18+» - запрещено для детей                 NaN                    NaN   \n",
       "3      «18+» - запрещено для детей                 NaN                    NaN   \n",
       "4      «18+» - запрещено для детей                 NaN                    NaN   \n",
       "5    «6+» - для детей старше 6 лет                 NaN                    NaN   \n",
       "6  «12+» - для детей старше 12 лет                 NaN                    NaN   \n",
       "7      «18+» - запрещено для детей                 NaN                    NaN   \n",
       "8      «18+» - запрещено для детей                 NaN                    NaN   \n",
       "9  «12+» - для детей старше 12 лет                 NaN                    NaN   \n",
       "\n",
       "   budget financing_source ratings                     genres  box_office  \n",
       "0     NaN              NaN     7.2     боевик,драма,мелодрама         NaN  \n",
       "1     NaN              NaN     6.6              драма,военный         NaN  \n",
       "2     NaN              NaN     6.8  фантастика,боевик,триллер         NaN  \n",
       "3     NaN              NaN     6.8  фантастика,боевик,триллер         NaN  \n",
       "4     NaN              NaN     6.8  фантастика,боевик,триллер         NaN  \n",
       "5     NaN              NaN     7.7                      драма         NaN  \n",
       "6     NaN              NaN     8.3          мелодрама,комедия      2700.0  \n",
       "7     NaN              NaN     6.6   мюзикл,мелодрама,комедия         NaN  \n",
       "8     NaN              NaN     8.0           комедия,криминал         NaN  \n",
       "9     NaN              NaN     7.8          мелодрама,комедия         NaN  "
      ]
     },
     "execution_count": 8,
     "metadata": {},
     "output_type": "execute_result"
    }
   ],
   "source": [
    "# получение первых 10 строк таблицы df\n",
    "df.head(10)"
   ]
  },
  {
   "cell_type": "markdown",
   "metadata": {},
   "source": [
    "Согласно документации к данным:\n",
    "\n",
    "* `title` — название фильма;\n",
    "* `puNumber` — номер прокатного удостоверения;\n",
    "* `show_start_date` — дата премьеры фильма;\n",
    "* `type` — тип фильма;\n",
    "* `film_studio` — студия-производитель;\n",
    "* `production_country` — страна-производитель;\n",
    "* `director` — режиссёр;\n",
    "* `producer` — продюсер;\n",
    "* `age_restriction` — возрастная категория;\n",
    "* `refundable_support` — объём возвратных средств государственной поддержки;\n",
    "* `nonrefundable_support` — объём невозвратных средств государственной поддержки;\n",
    "* `financing_source` — источник государственного финансирования;\n",
    "* `budget` — общий бюджет фильма;\n",
    "* `ratings` — рейтинг фильма на КиноПоиске;\n",
    "* `genres` — жанр фильма;\n",
    "* `box_office` — сборы в рублях."
   ]
  },
  {
   "cell_type": "markdown",
   "metadata": {
    "id": "KLDGpPG0gFyM"
   },
   "source": [
    "## Предобработка данных"
   ]
  },
  {
   "cell_type": "markdown",
   "metadata": {
    "id": "ssWwKXsxgFyO"
   },
   "source": [
    "### Преобразование типов данных\n",
    "\n",
    "Проверим типы данных в датафрейме и преобразуем их там, где это необходимо."
   ]
  },
  {
   "cell_type": "code",
   "execution_count": 9,
   "metadata": {
    "id": "kVGSplJOgFyO"
   },
   "outputs": [
    {
     "data": {
      "text/plain": [
       "title                     object\n",
       "puNumber                 float64\n",
       "show_start_date           object\n",
       "type                      object\n",
       "film_studio               object\n",
       "production_country        object\n",
       "director                  object\n",
       "producer                  object\n",
       "age_restriction           object\n",
       "refundable_support       float64\n",
       "nonrefundable_support    float64\n",
       "budget                   float64\n",
       "financing_source          object\n",
       "ratings                   object\n",
       "genres                    object\n",
       "box_office               float64\n",
       "dtype: object"
      ]
     },
     "execution_count": 9,
     "metadata": {},
     "output_type": "execute_result"
    }
   ],
   "source": [
    "df.dtypes"
   ]
  },
  {
   "cell_type": "markdown",
   "metadata": {},
   "source": [
    "- Колонка `puNumber`"
   ]
  },
  {
   "cell_type": "markdown",
   "metadata": {},
   "source": [
    "Столбец хранит номера прокатных удостоверений, которые просто не могут иметь вид вещественного числа."
   ]
  },
  {
   "cell_type": "code",
   "execution_count": 10,
   "metadata": {},
   "outputs": [],
   "source": [
    "df = df.astype({'puNumber': 'Int64'})"
   ]
  },
  {
   "cell_type": "markdown",
   "metadata": {},
   "source": [
    "Проверим результат."
   ]
  },
  {
   "cell_type": "code",
   "execution_count": 11,
   "metadata": {},
   "outputs": [
    {
     "data": {
      "text/plain": [
       "puNumber    Int64\n",
       "dtype: object"
      ]
     },
     "execution_count": 11,
     "metadata": {},
     "output_type": "execute_result"
    }
   ],
   "source": [
    "df[['puNumber']].dtypes"
   ]
  },
  {
   "cell_type": "markdown",
   "metadata": {},
   "source": [
    "- Колонка `ratings`"
   ]
  },
  {
   "cell_type": "markdown",
   "metadata": {},
   "source": [
    "Очевидно, что для данной колонки подходит тип данных `float`. Тот факт, что колонка относится к типу данных `object`, может свидетельствовать о наличии нестандартных значений. Посмотрим уникальные значения, встречающиеся в данном столбце."
   ]
  },
  {
   "cell_type": "code",
   "execution_count": 12,
   "metadata": {},
   "outputs": [
    {
     "data": {
      "text/plain": [
       "array(['7.2', '6.6', '6.8', '7.7', '8.3', '8.0', '7.8', '8.1', '7.1',\n",
       "       '6.0', '7.4', '5.8', '8.7', '6.3', '6.9', '5.0', '4.3', '7.3',\n",
       "       '7.0', '6.4', nan, '8.2', '7.5', '6.7', '7.9', '5.9', '6.2', '5.6',\n",
       "       '6.5', '2.4', '7.6', '6.1', '8.6', '8.5', '8.8', '5.5', '5.1',\n",
       "       '5.7', '5.4', '99%', '4.4', '4.5', '5.3', '4.1', '8.4', '2.6',\n",
       "       '3.8', '4.6', '4.8', '4.0', '3.0', '1.6', '4.2', '5.2', '4.7',\n",
       "       '4.9', '3.9', '2.7', '3.3', '2.9', '28%', '3.7', '1.4', '3.1',\n",
       "       '97%', '3.5', '3.2', '2.8', '1.5', '2.1', '2.5', '9.2', '3.4',\n",
       "       '1.1', '3.6', '83%', '64%', '91%', '94%', '62%', '79%', '90%',\n",
       "       '19%', '88%', '1.0', '89%', '1.3', '1.9', '1.8', '1.2', '1.7',\n",
       "       '9.0', '98%', '8.9', '9.1'], dtype=object)"
      ]
     },
     "execution_count": 12,
     "metadata": {},
     "output_type": "execute_result"
    }
   ],
   "source": [
    "df['ratings'].unique()"
   ]
  },
  {
   "cell_type": "markdown",
   "metadata": {},
   "source": [
    "Значения в виде процентного числа сложно использовать для анализа. Нет возможности точно соотнести процентные и вещественные числа. Логичным видится удалить строки с процентными числами. "
   ]
  },
  {
   "cell_type": "code",
   "execution_count": 13,
   "metadata": {},
   "outputs": [
    {
     "data": {
      "text/plain": [
       "6519"
      ]
     },
     "execution_count": 13,
     "metadata": {},
     "output_type": "execute_result"
    }
   ],
   "source": [
    "df['ratings'].value_counts().sum() # Сохраним число значений, для дальнейшей проверки % удаленных данных."
   ]
  },
  {
   "cell_type": "code",
   "execution_count": 14,
   "metadata": {},
   "outputs": [],
   "source": [
    "wrong_raiting = ['99%', '28%', '97%', '83%', '64%', '91%', '94%', '62%', '79%', '90%', '19%', '88%', '89%', '98%']\n",
    "df = df.replace(wrong_raiting, 0)\n",
    "df = df.loc[df['ratings'] != 0]"
   ]
  },
  {
   "cell_type": "markdown",
   "metadata": {},
   "source": [
    "Удалено незначительное уоличество строк."
   ]
  },
  {
   "cell_type": "code",
   "execution_count": 15,
   "metadata": {},
   "outputs": [
    {
     "data": {
      "text/plain": [
       "6490"
      ]
     },
     "execution_count": 15,
     "metadata": {},
     "output_type": "execute_result"
    }
   ],
   "source": [
    "df['ratings'].value_counts().sum()"
   ]
  },
  {
   "cell_type": "markdown",
   "metadata": {},
   "source": [
    "Проверим уникальные значения столбца после преобразований."
   ]
  },
  {
   "cell_type": "code",
   "execution_count": 16,
   "metadata": {},
   "outputs": [
    {
     "data": {
      "text/plain": [
       "array(['7.2', '6.6', '6.8', '7.7', '8.3', '8.0', '7.8', '8.1', '7.1',\n",
       "       '6.0', '7.4', '5.8', '8.7', '6.3', '6.9', '5.0', '4.3', '7.3',\n",
       "       '7.0', '6.4', nan, '8.2', '7.5', '6.7', '7.9', '5.9', '6.2', '5.6',\n",
       "       '6.5', '2.4', '7.6', '6.1', '8.6', '8.5', '8.8', '5.5', '5.1',\n",
       "       '5.7', '5.4', '4.4', '4.5', '5.3', '4.1', '8.4', '2.6', '3.8',\n",
       "       '4.6', '4.8', '4.0', '3.0', '1.6', '4.2', '5.2', '4.7', '4.9',\n",
       "       '3.9', '2.7', '3.3', '2.9', '3.7', '1.4', '3.1', '3.5', '3.2',\n",
       "       '2.8', '1.5', '2.1', '2.5', '9.2', '3.4', '1.1', '3.6', '1.0',\n",
       "       '1.3', '1.9', '1.8', '1.2', '1.7', '9.0', '8.9', '9.1'],\n",
       "      dtype=object)"
      ]
     },
     "execution_count": 16,
     "metadata": {},
     "output_type": "execute_result"
    }
   ],
   "source": [
    "df['ratings'].unique()"
   ]
  },
  {
   "cell_type": "code",
   "execution_count": 17,
   "metadata": {},
   "outputs": [],
   "source": [
    "df['ratings'] = df['ratings'].astype(float)"
   ]
  },
  {
   "cell_type": "markdown",
   "metadata": {},
   "source": [
    "Теперь присвоим значениям колонки корректный тип."
   ]
  },
  {
   "cell_type": "markdown",
   "metadata": {},
   "source": [
    "Проверим результат."
   ]
  },
  {
   "cell_type": "code",
   "execution_count": 18,
   "metadata": {},
   "outputs": [
    {
     "data": {
      "text/plain": [
       "dtype('float64')"
      ]
     },
     "execution_count": 18,
     "metadata": {},
     "output_type": "execute_result"
    }
   ],
   "source": [
    "df['ratings'].dtypes"
   ]
  },
  {
   "cell_type": "markdown",
   "metadata": {},
   "source": [
    "- Колонка `show_start_date`"
   ]
  },
  {
   "cell_type": "markdown",
   "metadata": {},
   "source": [
    "Значения данного столбца приведем к типу `datetime`"
   ]
  },
  {
   "cell_type": "code",
   "execution_count": 19,
   "metadata": {},
   "outputs": [],
   "source": [
    "df['show_start_date'] = pd.to_datetime(df['show_start_date'], format='%Y-%m-%dT%H:%M')"
   ]
  },
  {
   "cell_type": "code",
   "execution_count": 20,
   "metadata": {},
   "outputs": [
    {
     "data": {
      "text/plain": [
       "datetime64[ns, UTC]"
      ]
     },
     "execution_count": 20,
     "metadata": {},
     "output_type": "execute_result"
    }
   ],
   "source": [
    "df['show_start_date'].dtypes"
   ]
  },
  {
   "cell_type": "markdown",
   "metadata": {},
   "source": [
    "Посмотрим как выглядит таблица после преобразований."
   ]
  },
  {
   "cell_type": "code",
   "execution_count": 21,
   "metadata": {},
   "outputs": [
    {
     "data": {
      "text/html": [
       "<div>\n",
       "<style scoped>\n",
       "    .dataframe tbody tr th:only-of-type {\n",
       "        vertical-align: middle;\n",
       "    }\n",
       "\n",
       "    .dataframe tbody tr th {\n",
       "        vertical-align: top;\n",
       "    }\n",
       "\n",
       "    .dataframe thead th {\n",
       "        text-align: right;\n",
       "    }\n",
       "</style>\n",
       "<table border=\"1\" class=\"dataframe\">\n",
       "  <thead>\n",
       "    <tr style=\"text-align: right;\">\n",
       "      <th></th>\n",
       "      <th>title</th>\n",
       "      <th>puNumber</th>\n",
       "      <th>show_start_date</th>\n",
       "      <th>type</th>\n",
       "      <th>film_studio</th>\n",
       "      <th>production_country</th>\n",
       "      <th>director</th>\n",
       "      <th>producer</th>\n",
       "      <th>age_restriction</th>\n",
       "      <th>refundable_support</th>\n",
       "      <th>nonrefundable_support</th>\n",
       "      <th>budget</th>\n",
       "      <th>financing_source</th>\n",
       "      <th>ratings</th>\n",
       "      <th>genres</th>\n",
       "      <th>box_office</th>\n",
       "    </tr>\n",
       "  </thead>\n",
       "  <tbody>\n",
       "    <tr>\n",
       "      <th>0</th>\n",
       "      <td>Открытый простор</td>\n",
       "      <td>221048915</td>\n",
       "      <td>2015-11-27 12:00:00+00:00</td>\n",
       "      <td>Художественный</td>\n",
       "      <td>Тачстоун Пикчерз, Кобальт Пикчерз, Бикон Пикче...</td>\n",
       "      <td>США</td>\n",
       "      <td>Кевин Костнер</td>\n",
       "      <td>Дэвид Валдес, Кевин Костнер, Джейк Эбертс</td>\n",
       "      <td>«18+» - запрещено для детей</td>\n",
       "      <td>NaN</td>\n",
       "      <td>NaN</td>\n",
       "      <td>NaN</td>\n",
       "      <td>NaN</td>\n",
       "      <td>7.2</td>\n",
       "      <td>боевик,драма,мелодрама</td>\n",
       "      <td>NaN</td>\n",
       "    </tr>\n",
       "    <tr>\n",
       "      <th>1</th>\n",
       "      <td>Особо важное задание</td>\n",
       "      <td>111013716</td>\n",
       "      <td>2016-09-13 12:00:00+00:00</td>\n",
       "      <td>Художественный</td>\n",
       "      <td>Киностудия \"Мосфильм\"</td>\n",
       "      <td>СССР</td>\n",
       "      <td>Е.Матвеев</td>\n",
       "      <td>NaN</td>\n",
       "      <td>«6+» - для детей старше 6 лет</td>\n",
       "      <td>NaN</td>\n",
       "      <td>NaN</td>\n",
       "      <td>NaN</td>\n",
       "      <td>NaN</td>\n",
       "      <td>6.6</td>\n",
       "      <td>драма,военный</td>\n",
       "      <td>NaN</td>\n",
       "    </tr>\n",
       "    <tr>\n",
       "      <th>2</th>\n",
       "      <td>Особо опасен</td>\n",
       "      <td>221038416</td>\n",
       "      <td>2016-10-10 12:00:00+00:00</td>\n",
       "      <td>Художественный</td>\n",
       "      <td>Юниверсал Пикчерз, Кикстарт Продакшнз, Марк Пл...</td>\n",
       "      <td>США</td>\n",
       "      <td>Тимур Бекмамбетов</td>\n",
       "      <td>Джим Лемли, Джейсон Нетер, Марк Е.Платт, Яйн Смит</td>\n",
       "      <td>«18+» - запрещено для детей</td>\n",
       "      <td>NaN</td>\n",
       "      <td>NaN</td>\n",
       "      <td>NaN</td>\n",
       "      <td>NaN</td>\n",
       "      <td>6.8</td>\n",
       "      <td>фантастика,боевик,триллер</td>\n",
       "      <td>NaN</td>\n",
       "    </tr>\n",
       "    <tr>\n",
       "      <th>3</th>\n",
       "      <td>Особо опасен</td>\n",
       "      <td>221026916</td>\n",
       "      <td>2016-06-10 12:00:00+00:00</td>\n",
       "      <td>Художественный</td>\n",
       "      <td>Юниверсал Пикчерз, Кикстарт Продакшнз, Марк Пл...</td>\n",
       "      <td>США</td>\n",
       "      <td>Тимур Бекмамбетов</td>\n",
       "      <td>Джим Лемли, Джейсон Нетер, Марк Е.Платт, Яйн Смит</td>\n",
       "      <td>«18+» - запрещено для детей</td>\n",
       "      <td>NaN</td>\n",
       "      <td>NaN</td>\n",
       "      <td>NaN</td>\n",
       "      <td>NaN</td>\n",
       "      <td>6.8</td>\n",
       "      <td>фантастика,боевик,триллер</td>\n",
       "      <td>NaN</td>\n",
       "    </tr>\n",
       "    <tr>\n",
       "      <th>4</th>\n",
       "      <td>Особо опасен</td>\n",
       "      <td>221030815</td>\n",
       "      <td>2015-07-29 12:00:00+00:00</td>\n",
       "      <td>Художественный</td>\n",
       "      <td>Юниверсал Пикчерз, Кикстарт Продакшнз, Марк Пл...</td>\n",
       "      <td>США</td>\n",
       "      <td>Тимур Бекмамбетов</td>\n",
       "      <td>Джим Лемли, Джейсон Нетер, Марк Е.Платт, Яйн Смит</td>\n",
       "      <td>«18+» - запрещено для детей</td>\n",
       "      <td>NaN</td>\n",
       "      <td>NaN</td>\n",
       "      <td>NaN</td>\n",
       "      <td>NaN</td>\n",
       "      <td>6.8</td>\n",
       "      <td>фантастика,боевик,триллер</td>\n",
       "      <td>NaN</td>\n",
       "    </tr>\n",
       "  </tbody>\n",
       "</table>\n",
       "</div>"
      ],
      "text/plain": [
       "                  title   puNumber           show_start_date            type  \\\n",
       "0      Открытый простор  221048915 2015-11-27 12:00:00+00:00  Художественный   \n",
       "1  Особо важное задание  111013716 2016-09-13 12:00:00+00:00  Художественный   \n",
       "2          Особо опасен  221038416 2016-10-10 12:00:00+00:00  Художественный   \n",
       "3          Особо опасен  221026916 2016-06-10 12:00:00+00:00  Художественный   \n",
       "4          Особо опасен  221030815 2015-07-29 12:00:00+00:00  Художественный   \n",
       "\n",
       "                                         film_studio production_country  \\\n",
       "0  Тачстоун Пикчерз, Кобальт Пикчерз, Бикон Пикче...                США   \n",
       "1                              Киностудия \"Мосфильм\"               СССР   \n",
       "2  Юниверсал Пикчерз, Кикстарт Продакшнз, Марк Пл...                США   \n",
       "3  Юниверсал Пикчерз, Кикстарт Продакшнз, Марк Пл...                США   \n",
       "4  Юниверсал Пикчерз, Кикстарт Продакшнз, Марк Пл...                США   \n",
       "\n",
       "            director                                           producer  \\\n",
       "0      Кевин Костнер          Дэвид Валдес, Кевин Костнер, Джейк Эбертс   \n",
       "1          Е.Матвеев                                                NaN   \n",
       "2  Тимур Бекмамбетов  Джим Лемли, Джейсон Нетер, Марк Е.Платт, Яйн Смит   \n",
       "3  Тимур Бекмамбетов  Джим Лемли, Джейсон Нетер, Марк Е.Платт, Яйн Смит   \n",
       "4  Тимур Бекмамбетов  Джим Лемли, Джейсон Нетер, Марк Е.Платт, Яйн Смит   \n",
       "\n",
       "                 age_restriction  refundable_support  nonrefundable_support  \\\n",
       "0    «18+» - запрещено для детей                 NaN                    NaN   \n",
       "1  «6+» - для детей старше 6 лет                 NaN                    NaN   \n",
       "2    «18+» - запрещено для детей                 NaN                    NaN   \n",
       "3    «18+» - запрещено для детей                 NaN                    NaN   \n",
       "4    «18+» - запрещено для детей                 NaN                    NaN   \n",
       "\n",
       "   budget financing_source  ratings                     genres  box_office  \n",
       "0     NaN              NaN      7.2     боевик,драма,мелодрама         NaN  \n",
       "1     NaN              NaN      6.6              драма,военный         NaN  \n",
       "2     NaN              NaN      6.8  фантастика,боевик,триллер         NaN  \n",
       "3     NaN              NaN      6.8  фантастика,боевик,триллер         NaN  \n",
       "4     NaN              NaN      6.8  фантастика,боевик,триллер         NaN  "
      ]
     },
     "execution_count": 21,
     "metadata": {},
     "output_type": "execute_result"
    }
   ],
   "source": [
    "df.head()"
   ]
  },
  {
   "cell_type": "markdown",
   "metadata": {
    "id": "i0MOLbF-gFyP"
   },
   "source": [
    "### Устранение пропусков в датафрейме\n",
    "\n",
    "Проанализируем таблицу на предмет пропусков."
   ]
  },
  {
   "cell_type": "markdown",
   "metadata": {
    "id": "8MJD_lkngFyP"
   },
   "source": [
    "В полученных данных лишь по части фильмов имеется информация об объеме собранных средств. Заполнить данные пропуски не представляется возможным, поэтому логичным видится использовать только те строки, в которых данная информация предоставлена. Мы поместили их в датафрейм `df` вместе с остальными данными. \n",
    "\n",
    "Фильмы, у которых в колонках  `refundable_support`, `nonrefundable_support`, `budget`, `financing_source` есть значения, относятся к картинам, которым оказывалась государственная поддержка. Если в колонке присутствует пропуск, можно предположить, что финансовая помощь государством не оказывалась.\n",
    "\n",
    "Остальные колонки c пропусками не используются для анализа, поэтому их пропущенные значения можно игнорировать. В этих колонках заменим пропуск на значение `нет данных`"
   ]
  },
  {
   "cell_type": "code",
   "execution_count": 61,
   "metadata": {},
   "outputs": [],
   "source": [
    "coloumns_no_data = ['film_studio', 'production_country', 'director', 'producer', 'genres']\n",
    "df[coloumns_no_data] = df[coloumns_no_data].fillna('нет данных')"
   ]
  },
  {
   "cell_type": "markdown",
   "metadata": {},
   "source": [
    "Фильмы, у которых отсутствует информация о номере прокатного удостоверения корретно будет удалить. Таких строк всего 3."
   ]
  },
  {
   "cell_type": "code",
   "execution_count": 62,
   "metadata": {},
   "outputs": [],
   "source": [
    "df = df.dropna(subset=['puNumber']) "
   ]
  },
  {
   "cell_type": "code",
   "execution_count": 63,
   "metadata": {},
   "outputs": [
    {
     "name": "stdout",
     "output_type": "stream",
     "text": [
      "<class 'pandas.core.frame.DataFrame'>\n",
      "Int64Index: 7437 entries, 0 to 7439\n",
      "Data columns (total 21 columns):\n",
      " #   Column                  Non-Null Count  Dtype              \n",
      "---  ------                  --------------  -----              \n",
      " 0   title                   7437 non-null   object             \n",
      " 1   puNumber                7437 non-null   Int64              \n",
      " 2   show_start_date         7437 non-null   datetime64[ns, UTC]\n",
      " 3   type                    7437 non-null   object             \n",
      " 4   film_studio             7437 non-null   object             \n",
      " 5   production_country      7437 non-null   object             \n",
      " 6   director                7437 non-null   object             \n",
      " 7   producer                7437 non-null   object             \n",
      " 8   age_restriction         7437 non-null   object             \n",
      " 9   refundable_support      313 non-null    float64            \n",
      " 10  nonrefundable_support   313 non-null    float64            \n",
      " 11  budget                  313 non-null    float64            \n",
      " 12  financing_source        313 non-null    object             \n",
      " 13  ratings                 6472 non-null   float64            \n",
      " 14  genres                  7437 non-null   object             \n",
      " 15  box_office              3126 non-null   float64            \n",
      " 16  show_start_year         7437 non-null   int64              \n",
      " 17  main_genre              7437 non-null   object             \n",
      " 18  main_director           7437 non-null   object             \n",
      " 19  proportion_fund_source  313 non-null    float64            \n",
      " 20  financing_source_sum    313 non-null    float64            \n",
      "dtypes: Int64(1), datetime64[ns, UTC](1), float64(7), int64(1), object(11)\n",
      "memory usage: 1.3+ MB\n"
     ]
    }
   ],
   "source": [
    "df.info()"
   ]
  },
  {
   "cell_type": "markdown",
   "metadata": {
    "id": "4c6k1t9ygFyQ"
   },
   "source": [
    "### Изучение дубликатов в датафрейме\n",
    "\n",
    "Проверим данные на дубликаты. "
   ]
  },
  {
   "cell_type": "markdown",
   "metadata": {},
   "source": [
    "Ключевое значение играет колонка `title`, так как каждый представленный фильм, должен быть уникальным. Значения в других столбцах могут повторятся. "
   ]
  },
  {
   "cell_type": "markdown",
   "metadata": {},
   "source": [
    "Посмотрим, встречаются ли фильмы в таблице дважды."
   ]
  },
  {
   "cell_type": "code",
   "execution_count": 23,
   "metadata": {},
   "outputs": [
    {
     "data": {
      "text/plain": [
       "221054410    2\n",
       "221154310    2\n",
       "121004813    1\n",
       "121006117    1\n",
       "121028616    1\n",
       "            ..\n",
       "121020412    1\n",
       "121016318    1\n",
       "121006019    1\n",
       "124000117    1\n",
       "126002916    1\n",
       "Name: puNumber, Length: 7454, dtype: Int64"
      ]
     },
     "execution_count": 23,
     "metadata": {},
     "output_type": "execute_result"
    }
   ],
   "source": [
    "df['puNumber'].value_counts()"
   ]
  },
  {
   "cell_type": "code",
   "execution_count": 24,
   "metadata": {},
   "outputs": [
    {
     "data": {
      "text/plain": [
       "0"
      ]
     },
     "execution_count": 24,
     "metadata": {},
     "output_type": "execute_result"
    }
   ],
   "source": [
    "df.duplicated().sum() "
   ]
  },
  {
   "cell_type": "markdown",
   "metadata": {},
   "source": [
    "Количество полностью повторяющихся строк равно 0, тем не менее, строки в которых совпадает номер прокатного удостоверения, можно считать дубликатами, так как номер имеет уникальное значение"
   ]
  },
  {
   "cell_type": "markdown",
   "metadata": {},
   "source": [
    "Удалим дубликаты, чтобы анализ был корректным."
   ]
  },
  {
   "cell_type": "code",
   "execution_count": 25,
   "metadata": {},
   "outputs": [],
   "source": [
    "df['puNumber'] = df['puNumber'].drop_duplicates() "
   ]
  },
  {
   "cell_type": "markdown",
   "metadata": {},
   "source": [
    "Отсутствие дубликатов среди названий фильмов также означает, что и в целом строк дублирующих друг друга в таблице нет, значит можно считать, что в целом в таблице отсутствуют дубликаты, которые могут оказать негативное влияние на анализе. Для дальнейшей работы приведем все индексы к корректному значению."
   ]
  },
  {
   "cell_type": "code",
   "execution_count": 26,
   "metadata": {},
   "outputs": [],
   "source": [
    "df = df.reset_index(drop=True)"
   ]
  },
  {
   "cell_type": "code",
   "execution_count": 27,
   "metadata": {},
   "outputs": [
    {
     "data": {
      "text/plain": [
       "122001411    1\n",
       "121010215    1\n",
       "124002316    1\n",
       "126003213    1\n",
       "111001616    1\n",
       "            ..\n",
       "131000315    1\n",
       "121020412    1\n",
       "121016318    1\n",
       "121006019    1\n",
       "126002916    1\n",
       "Name: puNumber, Length: 7454, dtype: Int64"
      ]
     },
     "execution_count": 27,
     "metadata": {},
     "output_type": "execute_result"
    }
   ],
   "source": [
    "df['puNumber'].value_counts()"
   ]
  },
  {
   "cell_type": "markdown",
   "metadata": {
    "id": "52fOPrEBgFyQ"
   },
   "source": [
    "### Изучение категориальных значений\n",
    "\n",
    "Посмотрим, есть ли проблемы в категориальных столбцах."
   ]
  },
  {
   "cell_type": "markdown",
   "metadata": {
    "id": "PnXKIVdFgFyR"
   },
   "source": [
    "- Обратимся к колонке `type` и посмотрим уникальные значения."
   ]
  },
  {
   "cell_type": "code",
   "execution_count": 28,
   "metadata": {},
   "outputs": [
    {
     "data": {
      "text/plain": [
       "array(['Художественный', 'Анимационный', 'Прочие', 'Документальный',\n",
       "       'Научно-популярный', ' Художественный', ' Анимационный',\n",
       "       'Музыкально-развлекательный'], dtype=object)"
      ]
     },
     "execution_count": 28,
     "metadata": {},
     "output_type": "execute_result"
    }
   ],
   "source": [
    "df['type'].unique()"
   ]
  },
  {
   "cell_type": "markdown",
   "metadata": {},
   "source": [
    "Заметим, что некоторые типы фильмов совпадают, но из-за пробела рассположенного перед названием, они дублируются, фильмы принадлежащие к одному типу, воспринимаются как принадлежащие разным. Избавимся от отступа в начале типа фильма."
   ]
  },
  {
   "cell_type": "code",
   "execution_count": 29,
   "metadata": {},
   "outputs": [],
   "source": [
    "df['type'] = df['type'].str.strip()"
   ]
  },
  {
   "cell_type": "markdown",
   "metadata": {},
   "source": [
    "Проверим результат."
   ]
  },
  {
   "cell_type": "code",
   "execution_count": 30,
   "metadata": {
    "scrolled": true
   },
   "outputs": [
    {
     "data": {
      "text/plain": [
       "array(['Художественный', 'Анимационный', 'Прочие', 'Документальный',\n",
       "       'Научно-популярный', 'Музыкально-развлекательный'], dtype=object)"
      ]
     },
     "execution_count": 30,
     "metadata": {},
     "output_type": "execute_result"
    }
   ],
   "source": [
    "df['type'].unique()"
   ]
  },
  {
   "cell_type": "markdown",
   "metadata": {},
   "source": [
    "- Проверим колонку с возрастной категорией `age_restriction`"
   ]
  },
  {
   "cell_type": "code",
   "execution_count": 31,
   "metadata": {},
   "outputs": [
    {
     "data": {
      "text/plain": [
       "array(['«18+» - запрещено для детей', '«6+» - для детей старше 6 лет',\n",
       "       '«12+» - для детей старше 12 лет',\n",
       "       '«16+» - для детей старше 16 лет',\n",
       "       '«0+» - для любой зрительской аудитории'], dtype=object)"
      ]
     },
     "execution_count": 31,
     "metadata": {},
     "output_type": "execute_result"
    }
   ],
   "source": [
    "df['age_restriction'].unique()"
   ]
  },
  {
   "cell_type": "markdown",
   "metadata": {},
   "source": [
    "Здесь все корректно."
   ]
  },
  {
   "cell_type": "markdown",
   "metadata": {},
   "source": [
    "Остальные столбцы с категориальными данными имеют схожие, проблемы, но их структурирование слишком трудоемко, к тому же не имеет принципиального значения. Поэтому логичным будет оставить данные в прежнем виде."
   ]
  },
  {
   "cell_type": "markdown",
   "metadata": {
    "id": "XFSN5lrEgFyR"
   },
   "source": [
    "### Проверка количественных значений\n",
    "\n",
    "Проверим, существуют ли в количественных столбцах аномальные данные."
   ]
  },
  {
   "cell_type": "markdown",
   "metadata": {},
   "source": [
    "Строки со значением 0 в колонке `budget` имеют положительное значение в колонках `refundable_support` и `nonrefundable_support`, что является аномалией (если есть возвращенные/невозвращенные средства, значит бюджет не может быть равным 0). Удалим эти строки, чтобы избежать искажения анализа."
   ]
  },
  {
   "cell_type": "code",
   "execution_count": 32,
   "metadata": {
    "id": "YbzClBxagFyS"
   },
   "outputs": [
    {
     "name": "stdout",
     "output_type": "stream",
     "text": [
      "<class 'pandas.core.frame.DataFrame'>\n",
      "Int64Index: 7440 entries, 0 to 7456\n",
      "Data columns (total 16 columns):\n",
      " #   Column                 Non-Null Count  Dtype              \n",
      "---  ------                 --------------  -----              \n",
      " 0   title                  7440 non-null   object             \n",
      " 1   puNumber               7437 non-null   Int64              \n",
      " 2   show_start_date        7440 non-null   datetime64[ns, UTC]\n",
      " 3   type                   7440 non-null   object             \n",
      " 4   film_studio            7440 non-null   object             \n",
      " 5   production_country     7440 non-null   object             \n",
      " 6   director               7440 non-null   object             \n",
      " 7   producer               7440 non-null   object             \n",
      " 8   age_restriction        7440 non-null   object             \n",
      " 9   refundable_support     313 non-null    float64            \n",
      " 10  nonrefundable_support  313 non-null    float64            \n",
      " 11  budget                 313 non-null    float64            \n",
      " 12  financing_source       313 non-null    object             \n",
      " 13  ratings                6474 non-null   float64            \n",
      " 14  genres                 7440 non-null   object             \n",
      " 15  box_office             3126 non-null   float64            \n",
      "dtypes: Int64(1), datetime64[ns, UTC](1), float64(5), object(9)\n",
      "memory usage: 995.4+ KB\n"
     ]
    }
   ],
   "source": [
    "df = df.loc[df.loc[:,'budget'] != 0]\n",
    "df.info()"
   ]
  },
  {
   "cell_type": "markdown",
   "metadata": {},
   "source": [
    "Приведем все индексы к корректному значению."
   ]
  },
  {
   "cell_type": "code",
   "execution_count": 33,
   "metadata": {},
   "outputs": [],
   "source": [
    "df = df.reset_index(drop=True)"
   ]
  },
  {
   "cell_type": "markdown",
   "metadata": {
    "id": "Eu6oWp2CgFyS"
   },
   "source": [
    "### Добавление новых столбцов\n",
    "\n",
    "\n",
    "\n"
   ]
  },
  {
   "cell_type": "markdown",
   "metadata": {
    "id": "7GgW-UpAgFyS"
   },
   "source": [
    "- Создадим столбец `show_start_year` с информацией о годе проката. Выделим год из даты премьеры фильма."
   ]
  },
  {
   "cell_type": "code",
   "execution_count": 34,
   "metadata": {
    "id": "I-yd1DkWgFyT"
   },
   "outputs": [],
   "source": [
    "df['show_start_year'] = df['show_start_date'].dt.year"
   ]
  },
  {
   "cell_type": "code",
   "execution_count": 35,
   "metadata": {},
   "outputs": [
    {
     "data": {
      "text/plain": [
       "0    2015\n",
       "1    2016\n",
       "2    2016\n",
       "3    2016\n",
       "4    2015\n",
       "Name: show_start_year, dtype: int64"
      ]
     },
     "execution_count": 35,
     "metadata": {},
     "output_type": "execute_result"
    }
   ],
   "source": [
    "df['show_start_year'].head()"
   ]
  },
  {
   "cell_type": "markdown",
   "metadata": {
    "id": "nFTDLDYOgFyT"
   },
   "source": [
    "- Создадим два столбца: с именем и фамилией главного режиссёра (`main_director`) и основным жанром фильма (`main_genre`). В столбцы войдут первые значения из списка режиссёров и жанров соответственно."
   ]
  },
  {
   "cell_type": "markdown",
   "metadata": {},
   "source": [
    "Создадим функцию, которая будет разделять значение по знаку запятой."
   ]
  },
  {
   "cell_type": "code",
   "execution_count": 36,
   "metadata": {
    "id": "LSbRZKbMgFyU"
   },
   "outputs": [],
   "source": [
    "def get_first_value(row):\n",
    "    splitted = row.split(',')\n",
    "    return splitted[0]"
   ]
  },
  {
   "cell_type": "markdown",
   "metadata": {},
   "source": [
    "Применим функцию к соответствующим столбцам."
   ]
  },
  {
   "cell_type": "code",
   "execution_count": 37,
   "metadata": {},
   "outputs": [],
   "source": [
    "df['main_genre'] = df['genres'].apply(get_first_value) \n",
    "df['main_director'] = df['director'].apply(get_first_value) "
   ]
  },
  {
   "cell_type": "markdown",
   "metadata": {},
   "source": [
    "Проверим получившийся результат."
   ]
  },
  {
   "cell_type": "code",
   "execution_count": 38,
   "metadata": {},
   "outputs": [
    {
     "data": {
      "text/html": [
       "<div>\n",
       "<style scoped>\n",
       "    .dataframe tbody tr th:only-of-type {\n",
       "        vertical-align: middle;\n",
       "    }\n",
       "\n",
       "    .dataframe tbody tr th {\n",
       "        vertical-align: top;\n",
       "    }\n",
       "\n",
       "    .dataframe thead th {\n",
       "        text-align: right;\n",
       "    }\n",
       "</style>\n",
       "<table border=\"1\" class=\"dataframe\">\n",
       "  <thead>\n",
       "    <tr style=\"text-align: right;\">\n",
       "      <th></th>\n",
       "      <th>main_genre</th>\n",
       "      <th>main_director</th>\n",
       "    </tr>\n",
       "  </thead>\n",
       "  <tbody>\n",
       "    <tr>\n",
       "      <th>0</th>\n",
       "      <td>боевик</td>\n",
       "      <td>Кевин Костнер</td>\n",
       "    </tr>\n",
       "    <tr>\n",
       "      <th>1</th>\n",
       "      <td>драма</td>\n",
       "      <td>Е.Матвеев</td>\n",
       "    </tr>\n",
       "    <tr>\n",
       "      <th>2</th>\n",
       "      <td>фантастика</td>\n",
       "      <td>Тимур Бекмамбетов</td>\n",
       "    </tr>\n",
       "    <tr>\n",
       "      <th>3</th>\n",
       "      <td>фантастика</td>\n",
       "      <td>Тимур Бекмамбетов</td>\n",
       "    </tr>\n",
       "    <tr>\n",
       "      <th>4</th>\n",
       "      <td>фантастика</td>\n",
       "      <td>Тимур Бекмамбетов</td>\n",
       "    </tr>\n",
       "  </tbody>\n",
       "</table>\n",
       "</div>"
      ],
      "text/plain": [
       "   main_genre      main_director\n",
       "0      боевик      Кевин Костнер\n",
       "1       драма          Е.Матвеев\n",
       "2  фантастика  Тимур Бекмамбетов\n",
       "3  фантастика  Тимур Бекмамбетов\n",
       "4  фантастика  Тимур Бекмамбетов"
      ]
     },
     "execution_count": 38,
     "metadata": {},
     "output_type": "execute_result"
    }
   ],
   "source": [
    "df[['main_genre', 'main_director']].head()"
   ]
  },
  {
   "cell_type": "markdown",
   "metadata": {
    "id": "1FsCXHwdgFyU"
   },
   "source": [
    "- Посчитаем, какую долю от общего бюджета фильма составляет государственная поддержка."
   ]
  },
  {
   "cell_type": "markdown",
   "metadata": {},
   "source": [
    "Чтобы определить общую сумму государственной поддержки следует сложить сумму возвратных и невозвратных средств. Получившееся значение разделим на общий бюджет фильма."
   ]
  },
  {
   "cell_type": "code",
   "execution_count": 39,
   "metadata": {
    "id": "LV6qFuZLgFyV"
   },
   "outputs": [],
   "source": [
    "df['proportion_fund_source'] = (df['refundable_support'] + df['nonrefundable_support']) / df['budget']"
   ]
  },
  {
   "cell_type": "markdown",
   "metadata": {},
   "source": [
    "Проверим результат."
   ]
  },
  {
   "cell_type": "code",
   "execution_count": 40,
   "metadata": {},
   "outputs": [
    {
     "data": {
      "text/plain": [
       "7435   NaN\n",
       "7436   NaN\n",
       "7437   NaN\n",
       "7438   NaN\n",
       "7439   NaN\n",
       "Name: proportion_fund_source, dtype: float64"
      ]
     },
     "execution_count": 40,
     "metadata": {},
     "output_type": "execute_result"
    }
   ],
   "source": [
    "df['proportion_fund_source'].tail()"
   ]
  },
  {
   "cell_type": "markdown",
   "metadata": {
    "id": "6t4EukPLgFyV"
   },
   "source": [
    "## Исследовательский анализ данных\n"
   ]
  },
  {
   "cell_type": "markdown",
   "metadata": {
    "id": "vAH8WCzugFyV"
   },
   "source": [
    "- Посмотрим, сколько фильмов выходило в прокат каждый год"
   ]
  },
  {
   "cell_type": "code",
   "execution_count": 41,
   "metadata": {
    "id": "ABeV47y7gFyW"
   },
   "outputs": [
    {
     "data": {
      "text/html": [
       "<div>\n",
       "<style scoped>\n",
       "    .dataframe tbody tr th:only-of-type {\n",
       "        vertical-align: middle;\n",
       "    }\n",
       "\n",
       "    .dataframe tbody tr th {\n",
       "        vertical-align: top;\n",
       "    }\n",
       "\n",
       "    .dataframe thead th {\n",
       "        text-align: right;\n",
       "    }\n",
       "</style>\n",
       "<table border=\"1\" class=\"dataframe\">\n",
       "  <thead>\n",
       "    <tr style=\"text-align: right;\">\n",
       "      <th></th>\n",
       "      <th>show_start_year</th>\n",
       "    </tr>\n",
       "  </thead>\n",
       "  <tbody>\n",
       "    <tr>\n",
       "      <th>2010</th>\n",
       "      <td>984</td>\n",
       "    </tr>\n",
       "    <tr>\n",
       "      <th>2019</th>\n",
       "      <td>924</td>\n",
       "    </tr>\n",
       "    <tr>\n",
       "      <th>2018</th>\n",
       "      <td>884</td>\n",
       "    </tr>\n",
       "    <tr>\n",
       "      <th>2016</th>\n",
       "      <td>810</td>\n",
       "    </tr>\n",
       "    <tr>\n",
       "      <th>2014</th>\n",
       "      <td>805</td>\n",
       "    </tr>\n",
       "    <tr>\n",
       "      <th>2015</th>\n",
       "      <td>691</td>\n",
       "    </tr>\n",
       "    <tr>\n",
       "      <th>2013</th>\n",
       "      <td>629</td>\n",
       "    </tr>\n",
       "    <tr>\n",
       "      <th>2011</th>\n",
       "      <td>621</td>\n",
       "    </tr>\n",
       "    <tr>\n",
       "      <th>2012</th>\n",
       "      <td>591</td>\n",
       "    </tr>\n",
       "    <tr>\n",
       "      <th>2017</th>\n",
       "      <td>501</td>\n",
       "    </tr>\n",
       "  </tbody>\n",
       "</table>\n",
       "</div>"
      ],
      "text/plain": [
       "      show_start_year\n",
       "2010              984\n",
       "2019              924\n",
       "2018              884\n",
       "2016              810\n",
       "2014              805\n",
       "2015              691\n",
       "2013              629\n",
       "2011              621\n",
       "2012              591\n",
       "2017              501"
      ]
     },
     "execution_count": 41,
     "metadata": {},
     "output_type": "execute_result"
    }
   ],
   "source": [
    "df_years = df['show_start_year'].value_counts().to_frame()\n",
    "df_years"
   ]
  },
  {
   "cell_type": "code",
   "execution_count": 42,
   "metadata": {},
   "outputs": [
    {
     "data": {
      "text/html": [
       "<div>\n",
       "<style scoped>\n",
       "    .dataframe tbody tr th:only-of-type {\n",
       "        vertical-align: middle;\n",
       "    }\n",
       "\n",
       "    .dataframe tbody tr th {\n",
       "        vertical-align: top;\n",
       "    }\n",
       "\n",
       "    .dataframe thead th {\n",
       "        text-align: right;\n",
       "    }\n",
       "</style>\n",
       "<table border=\"1\" class=\"dataframe\">\n",
       "  <thead>\n",
       "    <tr style=\"text-align: right;\">\n",
       "      <th></th>\n",
       "      <th>show_start_year</th>\n",
       "      <th>proportion_show_start_year</th>\n",
       "    </tr>\n",
       "  </thead>\n",
       "  <tbody>\n",
       "    <tr>\n",
       "      <th>2010</th>\n",
       "      <td>984</td>\n",
       "      <td>0.132258</td>\n",
       "    </tr>\n",
       "    <tr>\n",
       "      <th>2019</th>\n",
       "      <td>924</td>\n",
       "      <td>0.124194</td>\n",
       "    </tr>\n",
       "    <tr>\n",
       "      <th>2018</th>\n",
       "      <td>884</td>\n",
       "      <td>0.118817</td>\n",
       "    </tr>\n",
       "    <tr>\n",
       "      <th>2016</th>\n",
       "      <td>810</td>\n",
       "      <td>0.108871</td>\n",
       "    </tr>\n",
       "    <tr>\n",
       "      <th>2014</th>\n",
       "      <td>805</td>\n",
       "      <td>0.108199</td>\n",
       "    </tr>\n",
       "    <tr>\n",
       "      <th>2015</th>\n",
       "      <td>691</td>\n",
       "      <td>0.092876</td>\n",
       "    </tr>\n",
       "    <tr>\n",
       "      <th>2013</th>\n",
       "      <td>629</td>\n",
       "      <td>0.084543</td>\n",
       "    </tr>\n",
       "    <tr>\n",
       "      <th>2011</th>\n",
       "      <td>621</td>\n",
       "      <td>0.083468</td>\n",
       "    </tr>\n",
       "    <tr>\n",
       "      <th>2012</th>\n",
       "      <td>591</td>\n",
       "      <td>0.079435</td>\n",
       "    </tr>\n",
       "    <tr>\n",
       "      <th>2017</th>\n",
       "      <td>501</td>\n",
       "      <td>0.067339</td>\n",
       "    </tr>\n",
       "  </tbody>\n",
       "</table>\n",
       "</div>"
      ],
      "text/plain": [
       "      show_start_year  proportion_show_start_year\n",
       "2010              984                    0.132258\n",
       "2019              924                    0.124194\n",
       "2018              884                    0.118817\n",
       "2016              810                    0.108871\n",
       "2014              805                    0.108199\n",
       "2015              691                    0.092876\n",
       "2013              629                    0.084543\n",
       "2011              621                    0.083468\n",
       "2012              591                    0.079435\n",
       "2017              501                    0.067339"
      ]
     },
     "execution_count": 42,
     "metadata": {},
     "output_type": "execute_result"
    }
   ],
   "source": [
    "df_years['proportion_show_start_year'] = df_years['show_start_year'] / df_years['show_start_year'].sum()\n",
    "df_years"
   ]
  },
  {
   "cell_type": "code",
   "execution_count": 43,
   "metadata": {},
   "outputs": [
    {
     "data": {
      "image/png": "[encoded data removed]",
      "text/plain": [
       "<Figure size 864x360 with 1 Axes>"
      ]
     },
     "metadata": {
      "needs_background": "light"
     },
     "output_type": "display_data"
    }
   ],
   "source": [
    "df_show_start_year = df['show_start_year'].value_counts()\n",
    "df_show_start_year.plot(grid=True, style='x', figsize=(12, 5));"
   ]
  },
  {
   "cell_type": "markdown",
   "metadata": {},
   "source": [
    "Можно отметить, что наибольшее количество фильмов выходило в прокат в 2019 году. В 2017 году наблюдалось некоторое падение количества фильмов выходивших в прокат, но в целом тренд направлен на увеличение."
   ]
  },
  {
   "cell_type": "markdown",
   "metadata": {
    "id": "BEOdcIrIgFyW"
   },
   "source": [
    "- Изучим, как менялась динамика сборов по годам"
   ]
  },
  {
   "cell_type": "code",
   "execution_count": 44,
   "metadata": {
    "id": "tfEhofYvgFyX"
   },
   "outputs": [
    {
     "data": {
      "text/html": [
       "<div>\n",
       "<style scoped>\n",
       "    .dataframe tbody tr th:only-of-type {\n",
       "        vertical-align: middle;\n",
       "    }\n",
       "\n",
       "    .dataframe tbody tr th {\n",
       "        vertical-align: top;\n",
       "    }\n",
       "\n",
       "    .dataframe thead th {\n",
       "        text-align: right;\n",
       "    }\n",
       "</style>\n",
       "<table border=\"1\" class=\"dataframe\">\n",
       "  <thead>\n",
       "    <tr style=\"text-align: right;\">\n",
       "      <th></th>\n",
       "      <th>box_office</th>\n",
       "    </tr>\n",
       "    <tr>\n",
       "      <th>show_start_year</th>\n",
       "      <th></th>\n",
       "    </tr>\n",
       "  </thead>\n",
       "  <tbody>\n",
       "    <tr>\n",
       "      <th>2018</th>\n",
       "      <td>4.925040e+10</td>\n",
       "    </tr>\n",
       "    <tr>\n",
       "      <th>2017</th>\n",
       "      <td>4.845811e+10</td>\n",
       "    </tr>\n",
       "    <tr>\n",
       "      <th>2019</th>\n",
       "      <td>4.827347e+10</td>\n",
       "    </tr>\n",
       "    <tr>\n",
       "      <th>2016</th>\n",
       "      <td>4.673894e+10</td>\n",
       "    </tr>\n",
       "    <tr>\n",
       "      <th>2015</th>\n",
       "      <td>3.799653e+10</td>\n",
       "    </tr>\n",
       "    <tr>\n",
       "      <th>2014</th>\n",
       "      <td>7.434714e+09</td>\n",
       "    </tr>\n",
       "    <tr>\n",
       "      <th>2013</th>\n",
       "      <td>2.979971e+07</td>\n",
       "    </tr>\n",
       "    <tr>\n",
       "      <th>2011</th>\n",
       "      <td>1.410276e+07</td>\n",
       "    </tr>\n",
       "    <tr>\n",
       "      <th>2012</th>\n",
       "      <td>6.953683e+06</td>\n",
       "    </tr>\n",
       "    <tr>\n",
       "      <th>2010</th>\n",
       "      <td>2.428654e+06</td>\n",
       "    </tr>\n",
       "  </tbody>\n",
       "</table>\n",
       "</div>"
      ],
      "text/plain": [
       "                   box_office\n",
       "show_start_year              \n",
       "2018             4.925040e+10\n",
       "2017             4.845811e+10\n",
       "2019             4.827347e+10\n",
       "2016             4.673894e+10\n",
       "2015             3.799653e+10\n",
       "2014             7.434714e+09\n",
       "2013             2.979971e+07\n",
       "2011             1.410276e+07\n",
       "2012             6.953683e+06\n",
       "2010             2.428654e+06"
      ]
     },
     "execution_count": 44,
     "metadata": {},
     "output_type": "execute_result"
    }
   ],
   "source": [
    "box_office_pivot = df.pivot_table(index='show_start_year', values='box_office', aggfunc='sum').sort_values(by = 'box_office', \n",
    "                                                                                                           ascending = False) \n",
    "box_office_pivot"
   ]
  },
  {
   "cell_type": "code",
   "execution_count": 45,
   "metadata": {},
   "outputs": [
    {
     "data": {
      "image/png": "[encoded data removed]",
      "text/plain": [
       "<Figure size 864x360 with 1 Axes>"
      ]
     },
     "metadata": {
      "needs_background": "light"
     },
     "output_type": "display_data"
    }
   ],
   "source": [
    "box_office_pivot.plot(grid=True, style='x', figsize=(12, 5));"
   ]
  },
  {
   "cell_type": "markdown",
   "metadata": {},
   "source": [
    "Начиная с 2015 года происходит резкое увеличение сборов. Максимальное значение наблюдается в 2018 году, минимальное в 2010."
   ]
  },
  {
   "cell_type": "markdown",
   "metadata": {
    "id": "G-7qS-N-gFyY"
   },
   "source": [
    "- Посчитаем среднюю и медианную сумму сборов для каждого года"
   ]
  },
  {
   "cell_type": "code",
   "execution_count": 46,
   "metadata": {
    "id": "jmp-rgg9gFyY"
   },
   "outputs": [
    {
     "data": {
      "text/html": [
       "<div>\n",
       "<style scoped>\n",
       "    .dataframe tbody tr th:only-of-type {\n",
       "        vertical-align: middle;\n",
       "    }\n",
       "\n",
       "    .dataframe tbody tr th {\n",
       "        vertical-align: top;\n",
       "    }\n",
       "\n",
       "    .dataframe thead tr th {\n",
       "        text-align: left;\n",
       "    }\n",
       "\n",
       "    .dataframe thead tr:last-of-type th {\n",
       "        text-align: right;\n",
       "    }\n",
       "</style>\n",
       "<table border=\"1\" class=\"dataframe\">\n",
       "  <thead>\n",
       "    <tr>\n",
       "      <th></th>\n",
       "      <th>mean</th>\n",
       "      <th>median</th>\n",
       "    </tr>\n",
       "    <tr>\n",
       "      <th></th>\n",
       "      <th>box_office</th>\n",
       "      <th>box_office</th>\n",
       "    </tr>\n",
       "    <tr>\n",
       "      <th>show_start_year</th>\n",
       "      <th></th>\n",
       "      <th></th>\n",
       "    </tr>\n",
       "  </thead>\n",
       "  <tbody>\n",
       "    <tr>\n",
       "      <th>2010</th>\n",
       "      <td>2.313004e+04</td>\n",
       "      <td>1700.000</td>\n",
       "    </tr>\n",
       "    <tr>\n",
       "      <th>2011</th>\n",
       "      <td>1.293832e+05</td>\n",
       "      <td>3000.000</td>\n",
       "    </tr>\n",
       "    <tr>\n",
       "      <th>2012</th>\n",
       "      <td>5.475341e+04</td>\n",
       "      <td>5760.000</td>\n",
       "    </tr>\n",
       "    <tr>\n",
       "      <th>2013</th>\n",
       "      <td>1.619549e+05</td>\n",
       "      <td>3522.500</td>\n",
       "    </tr>\n",
       "    <tr>\n",
       "      <th>2014</th>\n",
       "      <td>2.684012e+07</td>\n",
       "      <td>18160.000</td>\n",
       "    </tr>\n",
       "    <tr>\n",
       "      <th>2015</th>\n",
       "      <td>8.369279e+07</td>\n",
       "      <td>4864744.050</td>\n",
       "    </tr>\n",
       "    <tr>\n",
       "      <th>2016</th>\n",
       "      <td>8.988258e+07</td>\n",
       "      <td>3846679.410</td>\n",
       "    </tr>\n",
       "    <tr>\n",
       "      <th>2017</th>\n",
       "      <td>1.368873e+08</td>\n",
       "      <td>9943877.500</td>\n",
       "    </tr>\n",
       "    <tr>\n",
       "      <th>2018</th>\n",
       "      <td>1.047881e+08</td>\n",
       "      <td>8821498.980</td>\n",
       "    </tr>\n",
       "    <tr>\n",
       "      <th>2019</th>\n",
       "      <td>9.177465e+07</td>\n",
       "      <td>4693586.595</td>\n",
       "    </tr>\n",
       "  </tbody>\n",
       "</table>\n",
       "</div>"
      ],
      "text/plain": [
       "                         mean       median\n",
       "                   box_office   box_office\n",
       "show_start_year                           \n",
       "2010             2.313004e+04     1700.000\n",
       "2011             1.293832e+05     3000.000\n",
       "2012             5.475341e+04     5760.000\n",
       "2013             1.619549e+05     3522.500\n",
       "2014             2.684012e+07    18160.000\n",
       "2015             8.369279e+07  4864744.050\n",
       "2016             8.988258e+07  3846679.410\n",
       "2017             1.368873e+08  9943877.500\n",
       "2018             1.047881e+08  8821498.980\n",
       "2019             9.177465e+07  4693586.595"
      ]
     },
     "execution_count": 46,
     "metadata": {},
     "output_type": "execute_result"
    }
   ],
   "source": [
    "box_office_med = df.pivot_table(index='show_start_year', values='box_office', aggfunc=['mean', 'median'])\n",
    "box_office_med"
   ]
  },
  {
   "cell_type": "code",
   "execution_count": 47,
   "metadata": {},
   "outputs": [
    {
     "data": {
      "image/png": "[encoded data removed]",
      "text/plain": [
       "<Figure size 864x360 with 1 Axes>"
      ]
     },
     "metadata": {
      "needs_background": "light"
     },
     "output_type": "display_data"
    }
   ],
   "source": [
    "box_office_med['median'].plot(grid=True, style='x', figsize=(12, 5));"
   ]
  },
  {
   "cell_type": "markdown",
   "metadata": {},
   "source": [
    "Если обратить внимание на среднее и медианное значение сборов, то можно отметить, что на сборы на один фильм имели максимальное значение в 2017 году, минимально в 2010. После 2017 года наблюдается тенденция к уменьшению суммы сборов на один фильм."
   ]
  },
  {
   "cell_type": "markdown",
   "metadata": {
    "id": "Ok89WFwJgFyZ"
   },
   "source": [
    "- Определим, влияет ли возрастное ограничение аудитории («6+», «12+», «16+», «18+» и т. д.) на сборы фильма в прокате в период с 2015 по 2019 год."
   ]
  },
  {
   "cell_type": "code",
   "execution_count": 48,
   "metadata": {
    "id": "jsSbEqfjgFya"
   },
   "outputs": [
    {
     "data": {
      "text/html": [
       "<div>\n",
       "<style scoped>\n",
       "    .dataframe tbody tr th:only-of-type {\n",
       "        vertical-align: middle;\n",
       "    }\n",
       "\n",
       "    .dataframe tbody tr th {\n",
       "        vertical-align: top;\n",
       "    }\n",
       "\n",
       "    .dataframe thead th {\n",
       "        text-align: right;\n",
       "    }\n",
       "</style>\n",
       "<table border=\"1\" class=\"dataframe\">\n",
       "  <thead>\n",
       "    <tr style=\"text-align: right;\">\n",
       "      <th></th>\n",
       "      <th></th>\n",
       "      <th>box_office</th>\n",
       "    </tr>\n",
       "    <tr>\n",
       "      <th>show_start_year</th>\n",
       "      <th>age_restriction</th>\n",
       "      <th></th>\n",
       "    </tr>\n",
       "  </thead>\n",
       "  <tbody>\n",
       "    <tr>\n",
       "      <th rowspan=\"5\" valign=\"top\">2015</th>\n",
       "      <th>«0+» - для любой зрительской аудитории</th>\n",
       "      <td>3.790546e+08</td>\n",
       "    </tr>\n",
       "    <tr>\n",
       "      <th>«12+» - для детей старше 12 лет</th>\n",
       "      <td>1.341951e+10</td>\n",
       "    </tr>\n",
       "    <tr>\n",
       "      <th>«16+» - для детей старше 16 лет</th>\n",
       "      <td>1.078080e+10</td>\n",
       "    </tr>\n",
       "    <tr>\n",
       "      <th>«18+» - запрещено для детей</th>\n",
       "      <td>5.428921e+09</td>\n",
       "    </tr>\n",
       "    <tr>\n",
       "      <th>«6+» - для детей старше 6 лет</th>\n",
       "      <td>7.988245e+09</td>\n",
       "    </tr>\n",
       "    <tr>\n",
       "      <th rowspan=\"5\" valign=\"top\">2016</th>\n",
       "      <th>«0+» - для любой зрительской аудитории</th>\n",
       "      <td>1.502288e+08</td>\n",
       "    </tr>\n",
       "    <tr>\n",
       "      <th>«12+» - для детей старше 12 лет</th>\n",
       "      <td>1.115076e+10</td>\n",
       "    </tr>\n",
       "    <tr>\n",
       "      <th>«16+» - для детей старше 16 лет</th>\n",
       "      <td>1.659417e+10</td>\n",
       "    </tr>\n",
       "    <tr>\n",
       "      <th>«18+» - запрещено для детей</th>\n",
       "      <td>6.790637e+09</td>\n",
       "    </tr>\n",
       "    <tr>\n",
       "      <th>«6+» - для детей старше 6 лет</th>\n",
       "      <td>1.205315e+10</td>\n",
       "    </tr>\n",
       "    <tr>\n",
       "      <th rowspan=\"5\" valign=\"top\">2017</th>\n",
       "      <th>«0+» - для любой зрительской аудитории</th>\n",
       "      <td>2.295989e+08</td>\n",
       "    </tr>\n",
       "    <tr>\n",
       "      <th>«12+» - для детей старше 12 лет</th>\n",
       "      <td>7.851390e+09</td>\n",
       "    </tr>\n",
       "    <tr>\n",
       "      <th>«16+» - для детей старше 16 лет</th>\n",
       "      <td>1.869459e+10</td>\n",
       "    </tr>\n",
       "    <tr>\n",
       "      <th>«18+» - запрещено для детей</th>\n",
       "      <td>9.651496e+09</td>\n",
       "    </tr>\n",
       "    <tr>\n",
       "      <th>«6+» - для детей старше 6 лет</th>\n",
       "      <td>1.203103e+10</td>\n",
       "    </tr>\n",
       "    <tr>\n",
       "      <th rowspan=\"5\" valign=\"top\">2018</th>\n",
       "      <th>«0+» - для любой зрительской аудитории</th>\n",
       "      <td>3.244900e+07</td>\n",
       "    </tr>\n",
       "    <tr>\n",
       "      <th>«12+» - для детей старше 12 лет</th>\n",
       "      <td>1.426729e+10</td>\n",
       "    </tr>\n",
       "    <tr>\n",
       "      <th>«16+» - для детей старше 16 лет</th>\n",
       "      <td>1.627841e+10</td>\n",
       "    </tr>\n",
       "    <tr>\n",
       "      <th>«18+» - запрещено для детей</th>\n",
       "      <td>8.758498e+09</td>\n",
       "    </tr>\n",
       "    <tr>\n",
       "      <th>«6+» - для детей старше 6 лет</th>\n",
       "      <td>9.913759e+09</td>\n",
       "    </tr>\n",
       "    <tr>\n",
       "      <th rowspan=\"5\" valign=\"top\">2019</th>\n",
       "      <th>«0+» - для любой зрительской аудитории</th>\n",
       "      <td>1.774607e+07</td>\n",
       "    </tr>\n",
       "    <tr>\n",
       "      <th>«12+» - для детей старше 12 лет</th>\n",
       "      <td>1.268020e+10</td>\n",
       "    </tr>\n",
       "    <tr>\n",
       "      <th>«16+» - для детей старше 16 лет</th>\n",
       "      <td>1.274882e+10</td>\n",
       "    </tr>\n",
       "    <tr>\n",
       "      <th>«18+» - запрещено для детей</th>\n",
       "      <td>1.012180e+10</td>\n",
       "    </tr>\n",
       "    <tr>\n",
       "      <th>«6+» - для детей старше 6 лет</th>\n",
       "      <td>1.270491e+10</td>\n",
       "    </tr>\n",
       "  </tbody>\n",
       "</table>\n",
       "</div>"
      ],
      "text/plain": [
       "                                                          box_office\n",
       "show_start_year age_restriction                                     \n",
       "2015            «0+» - для любой зрительской аудитории  3.790546e+08\n",
       "                «12+» - для детей старше 12 лет         1.341951e+10\n",
       "                «16+» - для детей старше 16 лет         1.078080e+10\n",
       "                «18+» - запрещено для детей             5.428921e+09\n",
       "                «6+» - для детей старше 6 лет           7.988245e+09\n",
       "2016            «0+» - для любой зрительской аудитории  1.502288e+08\n",
       "                «12+» - для детей старше 12 лет         1.115076e+10\n",
       "                «16+» - для детей старше 16 лет         1.659417e+10\n",
       "                «18+» - запрещено для детей             6.790637e+09\n",
       "                «6+» - для детей старше 6 лет           1.205315e+10\n",
       "2017            «0+» - для любой зрительской аудитории  2.295989e+08\n",
       "                «12+» - для детей старше 12 лет         7.851390e+09\n",
       "                «16+» - для детей старше 16 лет         1.869459e+10\n",
       "                «18+» - запрещено для детей             9.651496e+09\n",
       "                «6+» - для детей старше 6 лет           1.203103e+10\n",
       "2018            «0+» - для любой зрительской аудитории  3.244900e+07\n",
       "                «12+» - для детей старше 12 лет         1.426729e+10\n",
       "                «16+» - для детей старше 16 лет         1.627841e+10\n",
       "                «18+» - запрещено для детей             8.758498e+09\n",
       "                «6+» - для детей старше 6 лет           9.913759e+09\n",
       "2019            «0+» - для любой зрительской аудитории  1.774607e+07\n",
       "                «12+» - для детей старше 12 лет         1.268020e+10\n",
       "                «16+» - для детей старше 16 лет         1.274882e+10\n",
       "                «18+» - запрещено для детей             1.012180e+10\n",
       "                «6+» - для детей старше 6 лет           1.270491e+10"
      ]
     },
     "execution_count": 48,
     "metadata": {},
     "output_type": "execute_result"
    }
   ],
   "source": [
    "df_age_raiting = df[df['show_start_year'] > 2014].pivot_table(index=['show_start_year', 'age_restriction'], \n",
    "                                                              values='box_office', aggfunc='sum')\n",
    "\n",
    "df_age_raiting"
   ]
  },
  {
   "cell_type": "markdown",
   "metadata": {},
   "source": [
    "В 2015 больше всего денег собрали фильмы с возрастным ограничением 12+. В дальнейшем тенденция меняется и максимальное значение сборов у фильмов 16+. Это может происходить за счет переориентации прокатчиков на более платежесбособную аудиторию. Возможно поколение, которое привыкло и любит ходить в кино повзрослело и теперь может посещать фильмы категории 16+. Этот тезис подтвержает и увеличение сборов среди фильмов категории 18+.\n",
    "\n",
    "Фильмы 18+ и 0+ традиционно имеют самые низкие сборы, т.к. прокатчики ориентированно на другие возрастные группы, к тому же категории 12+ и 16+ доступны более широкому кругу зрителей."
   ]
  },
  {
   "cell_type": "markdown",
   "metadata": {
    "id": "l_Kg6Ku4gFya"
   },
   "source": [
    "## Исследование фильмов, получивших государственную поддержку\n"
   ]
  },
  {
   "cell_type": "markdown",
   "metadata": {},
   "source": [
    "Добавим колонку с суммой финансовой поддержки госудратсва. найдем это значение сложив показатели возвратных и невозвратных средств."
   ]
  },
  {
   "cell_type": "code",
   "execution_count": 49,
   "metadata": {},
   "outputs": [],
   "source": [
    "df['financing_source_sum'] = df['refundable_support'] + df['nonrefundable_support']"
   ]
  },
  {
   "cell_type": "markdown",
   "metadata": {},
   "source": [
    "Создадим датасет, куда поместим фильмы, имеющие финансовую поддержку"
   ]
  },
  {
   "cell_type": "code",
   "execution_count": 50,
   "metadata": {
    "id": "W9QKpjUdgFyb"
   },
   "outputs": [],
   "source": [
    "df_financing_source = df[df['financing_source_sum'] > 0]"
   ]
  },
  {
   "cell_type": "markdown",
   "metadata": {},
   "source": [
    "Проверим источник финансовой поддержки."
   ]
  },
  {
   "cell_type": "code",
   "execution_count": 51,
   "metadata": {},
   "outputs": [
    {
     "data": {
      "text/plain": [
       "array(['Министерство культуры', 'Фонд кино',\n",
       "       'Министерство культуры, Фонд кино'], dtype=object)"
      ]
     },
     "execution_count": 51,
     "metadata": {},
     "output_type": "execute_result"
    }
   ],
   "source": [
    "df_financing_source['financing_source'].unique()"
   ]
  },
  {
   "cell_type": "markdown",
   "metadata": {},
   "source": [
    "- Сумма государственной поддержки"
   ]
  },
  {
   "cell_type": "markdown",
   "metadata": {},
   "source": [
    "Найдем общую сумму гос. поддержки"
   ]
  },
  {
   "cell_type": "code",
   "execution_count": 52,
   "metadata": {},
   "outputs": [
    {
     "data": {
      "text/plain": [
       "18794018847.0"
      ]
     },
     "execution_count": 52,
     "metadata": {},
     "output_type": "execute_result"
    }
   ],
   "source": [
    "df_financing_source ['financing_source_sum'].sum()"
   ]
  },
  {
   "cell_type": "markdown",
   "metadata": {},
   "source": [
    "Определим сумму поддержки в каждый год, а также медианное значение финансовой поддержки государства."
   ]
  },
  {
   "cell_type": "code",
   "execution_count": 53,
   "metadata": {},
   "outputs": [
    {
     "data": {
      "text/html": [
       "<div>\n",
       "<style scoped>\n",
       "    .dataframe tbody tr th:only-of-type {\n",
       "        vertical-align: middle;\n",
       "    }\n",
       "\n",
       "    .dataframe tbody tr th {\n",
       "        vertical-align: top;\n",
       "    }\n",
       "\n",
       "    .dataframe thead tr th {\n",
       "        text-align: left;\n",
       "    }\n",
       "\n",
       "    .dataframe thead tr:last-of-type th {\n",
       "        text-align: right;\n",
       "    }\n",
       "</style>\n",
       "<table border=\"1\" class=\"dataframe\">\n",
       "  <thead>\n",
       "    <tr>\n",
       "      <th></th>\n",
       "      <th>sum</th>\n",
       "      <th>median</th>\n",
       "    </tr>\n",
       "    <tr>\n",
       "      <th></th>\n",
       "      <th>financing_source_sum</th>\n",
       "      <th>financing_source_sum</th>\n",
       "    </tr>\n",
       "    <tr>\n",
       "      <th>show_start_year</th>\n",
       "      <th></th>\n",
       "      <th></th>\n",
       "    </tr>\n",
       "  </thead>\n",
       "  <tbody>\n",
       "    <tr>\n",
       "      <th>2013</th>\n",
       "      <td>1.343479e+08</td>\n",
       "      <td>67173972.5</td>\n",
       "    </tr>\n",
       "    <tr>\n",
       "      <th>2014</th>\n",
       "      <td>5.490023e+08</td>\n",
       "      <td>28000000.0</td>\n",
       "    </tr>\n",
       "    <tr>\n",
       "      <th>2015</th>\n",
       "      <td>3.212541e+09</td>\n",
       "      <td>30000000.0</td>\n",
       "    </tr>\n",
       "    <tr>\n",
       "      <th>2016</th>\n",
       "      <td>3.977155e+09</td>\n",
       "      <td>35000000.0</td>\n",
       "    </tr>\n",
       "    <tr>\n",
       "      <th>2017</th>\n",
       "      <td>3.098972e+09</td>\n",
       "      <td>40000000.0</td>\n",
       "    </tr>\n",
       "    <tr>\n",
       "      <th>2018</th>\n",
       "      <td>3.098000e+09</td>\n",
       "      <td>37500000.0</td>\n",
       "    </tr>\n",
       "    <tr>\n",
       "      <th>2019</th>\n",
       "      <td>4.724000e+09</td>\n",
       "      <td>40000000.0</td>\n",
       "    </tr>\n",
       "  </tbody>\n",
       "</table>\n",
       "</div>"
      ],
      "text/plain": [
       "                                 sum               median\n",
       "                financing_source_sum financing_source_sum\n",
       "show_start_year                                          \n",
       "2013                    1.343479e+08           67173972.5\n",
       "2014                    5.490023e+08           28000000.0\n",
       "2015                    3.212541e+09           30000000.0\n",
       "2016                    3.977155e+09           35000000.0\n",
       "2017                    3.098972e+09           40000000.0\n",
       "2018                    3.098000e+09           37500000.0\n",
       "2019                    4.724000e+09           40000000.0"
      ]
     },
     "execution_count": 53,
     "metadata": {},
     "output_type": "execute_result"
    }
   ],
   "source": [
    "box_financing_source_year = df_financing_source.pivot_table(index='show_start_year', values='financing_source_sum', aggfunc=['sum', 'median'])\n",
    "box_financing_source_year"
   ]
  },
  {
   "cell_type": "code",
   "execution_count": 54,
   "metadata": {},
   "outputs": [
    {
     "data": {
      "image/png": "[encoded data removed]",
      "text/plain": [
       "<Figure size 864x360 with 1 Axes>"
      ]
     },
     "metadata": {
      "needs_background": "light"
     },
     "output_type": "display_data"
    }
   ],
   "source": [
    "box_financing_source_year['sum'].plot(grid=True, style='x', figsize=(12, 5));"
   ]
  },
  {
   "cell_type": "markdown",
   "metadata": {},
   "source": [
    "Общая сумма государственной поддержки начиная с 2015 года резко увеличилась, и сохранялась примерно на одном уровне. Первые годы (2013 и 2014) являлись для государства эксперементальными, слишком большие средства не выделялись. Можно предположить, что государство выделяло из бюджета определенную сумму и распределяло ее среди фильмов."
   ]
  },
  {
   "cell_type": "code",
   "execution_count": 55,
   "metadata": {},
   "outputs": [
    {
     "data": {
      "image/png": "[encoded data removed]",
      "text/plain": [
       "<Figure size 864x360 with 1 Axes>"
      ]
     },
     "metadata": {
      "needs_background": "light"
     },
     "output_type": "display_data"
    }
   ],
   "source": [
    "box_financing_source_year['median'].plot(grid=True, style='x', figsize=(12, 5));"
   ]
  },
  {
   "cell_type": "markdown",
   "metadata": {},
   "source": [
    "Высокий показатель медианного значение в 2013 году означает, что первые деньги получило незначительное количество фильмов, в последствии число фильмов увеличилось, сохраняясь на определенном показателе."
   ]
  },
  {
   "cell_type": "markdown",
   "metadata": {},
   "source": [
    "- Окупаемость"
   ]
  },
  {
   "cell_type": "code",
   "execution_count": 56,
   "metadata": {},
   "outputs": [
    {
     "data": {
      "text/html": [
       "<div>\n",
       "<style scoped>\n",
       "    .dataframe tbody tr th:only-of-type {\n",
       "        vertical-align: middle;\n",
       "    }\n",
       "\n",
       "    .dataframe tbody tr th {\n",
       "        vertical-align: top;\n",
       "    }\n",
       "\n",
       "    .dataframe thead th {\n",
       "        text-align: right;\n",
       "    }\n",
       "</style>\n",
       "<table border=\"1\" class=\"dataframe\">\n",
       "  <thead>\n",
       "    <tr style=\"text-align: right;\">\n",
       "      <th></th>\n",
       "      <th>proportion_fund_source</th>\n",
       "    </tr>\n",
       "    <tr>\n",
       "      <th>show_start_year</th>\n",
       "      <th></th>\n",
       "    </tr>\n",
       "  </thead>\n",
       "  <tbody>\n",
       "    <tr>\n",
       "      <th>2013</th>\n",
       "      <td>0.473197</td>\n",
       "    </tr>\n",
       "    <tr>\n",
       "      <th>2014</th>\n",
       "      <td>0.539407</td>\n",
       "    </tr>\n",
       "    <tr>\n",
       "      <th>2015</th>\n",
       "      <td>0.621419</td>\n",
       "    </tr>\n",
       "    <tr>\n",
       "      <th>2016</th>\n",
       "      <td>0.637013</td>\n",
       "    </tr>\n",
       "    <tr>\n",
       "      <th>2017</th>\n",
       "      <td>0.476990</td>\n",
       "    </tr>\n",
       "    <tr>\n",
       "      <th>2018</th>\n",
       "      <td>0.555546</td>\n",
       "    </tr>\n",
       "    <tr>\n",
       "      <th>2019</th>\n",
       "      <td>0.583233</td>\n",
       "    </tr>\n",
       "  </tbody>\n",
       "</table>\n",
       "</div>"
      ],
      "text/plain": [
       "                 proportion_fund_source\n",
       "show_start_year                        \n",
       "2013                           0.473197\n",
       "2014                           0.539407\n",
       "2015                           0.621419\n",
       "2016                           0.637013\n",
       "2017                           0.476990\n",
       "2018                           0.555546\n",
       "2019                           0.583233"
      ]
     },
     "execution_count": 56,
     "metadata": {},
     "output_type": "execute_result"
    }
   ],
   "source": [
    "fund_financing_source_year = df_financing_source.pivot_table(index='show_start_year', values='proportion_fund_source', aggfunc='median')\n",
    "fund_financing_source_year"
   ]
  },
  {
   "cell_type": "code",
   "execution_count": 57,
   "metadata": {},
   "outputs": [
    {
     "data": {
      "image/png": "[encoded data removed]",
      "text/plain": [
       "<Figure size 864x360 with 1 Axes>"
      ]
     },
     "metadata": {
      "needs_background": "light"
     },
     "output_type": "display_data"
    }
   ],
   "source": [
    "fund_financing_source_year['proportion_fund_source'].plot(grid=True, style='x', figsize=(12, 5));"
   ]
  },
  {
   "cell_type": "markdown",
   "metadata": {},
   "source": [
    "Показатель окупаемости колеблется от 0.47 (в 2013) до 0.64 (в 2016). После относительно успешного 2016 года наблюдается резкое падение показателя окупаемости, возможно на фоне успешной тенденции, фонд стал выделять деньги на более рискованные проекты, но в последующем скорректировал свою политику. \n",
    "\n",
    "В целом показатель более 0.55 можно считать успешным, учитывая, что фонд выделяет деньги не только на потенциально коммерчески успешные картины, но и на фильмы обладающие вадным социальным значением, которым трудно найти финансирование и которые не рассчитаны на большие сборы, но несут важное культурное значение, например авторское кино."
   ]
  },
  {
   "cell_type": "markdown",
   "metadata": {},
   "source": [
    "- Рейтинг"
   ]
  },
  {
   "cell_type": "code",
   "execution_count": 58,
   "metadata": {},
   "outputs": [
    {
     "data": {
      "text/html": [
       "<div>\n",
       "<style scoped>\n",
       "    .dataframe tbody tr th:only-of-type {\n",
       "        vertical-align: middle;\n",
       "    }\n",
       "\n",
       "    .dataframe tbody tr th {\n",
       "        vertical-align: top;\n",
       "    }\n",
       "\n",
       "    .dataframe thead tr th {\n",
       "        text-align: left;\n",
       "    }\n",
       "\n",
       "    .dataframe thead tr:last-of-type th {\n",
       "        text-align: right;\n",
       "    }\n",
       "</style>\n",
       "<table border=\"1\" class=\"dataframe\">\n",
       "  <thead>\n",
       "    <tr>\n",
       "      <th></th>\n",
       "      <th>median</th>\n",
       "      <th>max</th>\n",
       "      <th>min</th>\n",
       "    </tr>\n",
       "    <tr>\n",
       "      <th></th>\n",
       "      <th>ratings</th>\n",
       "      <th>ratings</th>\n",
       "      <th>ratings</th>\n",
       "    </tr>\n",
       "    <tr>\n",
       "      <th>show_start_year</th>\n",
       "      <th></th>\n",
       "      <th></th>\n",
       "      <th></th>\n",
       "    </tr>\n",
       "  </thead>\n",
       "  <tbody>\n",
       "    <tr>\n",
       "      <th>2013</th>\n",
       "      <td>6.70</td>\n",
       "      <td>8.1</td>\n",
       "      <td>5.3</td>\n",
       "    </tr>\n",
       "    <tr>\n",
       "      <th>2014</th>\n",
       "      <td>6.35</td>\n",
       "      <td>6.9</td>\n",
       "      <td>3.8</td>\n",
       "    </tr>\n",
       "    <tr>\n",
       "      <th>2015</th>\n",
       "      <td>6.20</td>\n",
       "      <td>8.5</td>\n",
       "      <td>2.8</td>\n",
       "    </tr>\n",
       "    <tr>\n",
       "      <th>2016</th>\n",
       "      <td>5.90</td>\n",
       "      <td>8.5</td>\n",
       "      <td>1.0</td>\n",
       "    </tr>\n",
       "    <tr>\n",
       "      <th>2017</th>\n",
       "      <td>6.20</td>\n",
       "      <td>8.0</td>\n",
       "      <td>2.9</td>\n",
       "    </tr>\n",
       "    <tr>\n",
       "      <th>2018</th>\n",
       "      <td>6.30</td>\n",
       "      <td>7.7</td>\n",
       "      <td>2.5</td>\n",
       "    </tr>\n",
       "    <tr>\n",
       "      <th>2019</th>\n",
       "      <td>6.15</td>\n",
       "      <td>8.2</td>\n",
       "      <td>3.2</td>\n",
       "    </tr>\n",
       "  </tbody>\n",
       "</table>\n",
       "</div>"
      ],
      "text/plain": [
       "                 median     max     min\n",
       "                ratings ratings ratings\n",
       "show_start_year                        \n",
       "2013               6.70     8.1     5.3\n",
       "2014               6.35     6.9     3.8\n",
       "2015               6.20     8.5     2.8\n",
       "2016               5.90     8.5     1.0\n",
       "2017               6.20     8.0     2.9\n",
       "2018               6.30     7.7     2.5\n",
       "2019               6.15     8.2     3.2"
      ]
     },
     "execution_count": 58,
     "metadata": {},
     "output_type": "execute_result"
    }
   ],
   "source": [
    "df_raiting = df_financing_source.loc[df.loc[:,'ratings'] > 0]\n",
    "raiting_financing_source_year = df_raiting.pivot_table(index='show_start_year', values='ratings', aggfunc=['median', 'max', 'min'])\n",
    "raiting_financing_source_year"
   ]
  },
  {
   "cell_type": "markdown",
   "metadata": {},
   "source": [
    "Медианное значение рейтингов фильмов с гос. поддержкой находится на промежутке от 5.8 - 6.7. Среди картин есть как очень успешные, так и откровенно провальные."
   ]
  },
  {
   "cell_type": "markdown",
   "metadata": {
    "id": "V2gYwMcPgFyd"
   },
   "source": [
    "## Общий вывод"
   ]
  },
  {
   "cell_type": "markdown",
   "metadata": {
    "id": "AYRg3dzXgFye"
   },
   "source": [
    "Проведенный анализ основывается на данных, опубликованных на портале открытых данных Министерства культуры. Набор данных содержит информацию о прокатных удостоверениях, сборах и государственной поддержке фильмов, а также информацию с сайта КиноПоиск."
   ]
  },
  {
   "cell_type": "markdown",
   "metadata": {},
   "source": [
    "На первом этапе мы познакомились с датафреймами и объеденили их в один. Для этого мы преобразовали тип данных в столбце `puNumber`."
   ]
  },
  {
   "cell_type": "markdown",
   "metadata": {},
   "source": [
    "Далее мы провели преобработку данных:\n",
    "- Преобразовали типы данных;\n",
    "- Устранили пропуски;\n",
    "- Удалили дубликаты;\n",
    "- Преобразовали категориальные значение;\n",
    "- Избавились от аномалий;\n",
    "- Добавили новые столбцы, необходимые для дальнейшего анализа."
   ]
  },
  {
   "cell_type": "markdown",
   "metadata": {},
   "source": [
    "Провели исследовательский анализ данных:\n",
    "- Изучили сколько фильмов выходила в прокат каждый год;\n",
    "- Изучили как менялась динамика сборов, в зависимости от года;\n",
    "- Определили как влиял возрастной рейтинг в каждый год."
   ]
  },
  {
   "cell_type": "markdown",
   "metadata": {},
   "source": [
    "В конце анализа мы изучили показатели фильмов, получивших государственную поддержку:\n",
    "\n",
    "- Сумму поддержки фонда;\n",
    "- Окупаемость фильмов;\n",
    "- Рейтинг фильмов."
   ]
  },
  {
   "cell_type": "markdown",
   "metadata": {},
   "source": [
    "Можно отметить, что наибольшее количество фильмов выходило в прокат в 2019 году. В 2017 году наблюдалось некоторое падение количества фильмов выходивших в прокат, но в целом тренд направлен на увеличение. \n",
    "\n",
    "Начиная с 2015 года происходит резкое увеличение сборов. Максимальное значение наблюдается в 2018 году, минимальное в 2010.\n",
    "\n",
    "Если обратить внимание на среднее и медианное значение сборов, то можно отметить, что на сборы на один фильм имели максимальное значение в 2017 году, минимально в 2010. После 2017 года наблюдается тенденция к уменьшению суммы сборов на один фильм.\n",
    "\n",
    "В 2015 больше всего денег собрали фильмы с возрастным ограничением 12+. В дальнейшем тенденция меняется и максимальное значение сборов у фильмов 16+. Это может происходить за счет переориентации прокатчиков на более платежесбособную аудиторию. Возможно поколение, которое привыкло и любит ходить в кино повзрослело и теперь может посещать фильмы категории 16+. Этот тезис подтвержает и увеличение сборов среди фильмов категории 18+.\n",
    "Фильмы 18+ и 0+ традиционно имеют самые низкие сборы, т.к. прокатчики ориентированно на другие возрастные группы, к тому же категории 12+ и 16+ доступны более широкому кругу зрителей."
   ]
  },
  {
   "cell_type": "markdown",
   "metadata": {},
   "source": [
    "Рассмотрев картины с гос. поддержкой, можно сделать следующие выводы:\n",
    "\n",
    "Общая сумма государственной поддержки начиная с 2015 года резко увеличилась, и сохранялась примерно на одном уровне. Первые годы (2013 и 2014) являлись для государства эксперементальными, слишком большие средства не выделялись. Можно предположить, что государство выделяло из бюджета определенную сумму и распределяло ее среди фильмов.\n",
    "\n",
    "Высокий показатель медианного значение в 2013 году означает, что первые деньги получило незначительное количество фильмов, в последствии число фильмов увеличилось, сохраняясь на определенном показателе.\n",
    "\n",
    "Показатель окупаемости колеблется от 0.47 (в 2013) до 0.64 (в 2016). После относительно успешного 2016 года наблюдается резкое падение показателя окупаемости, возможно на фоне успешной тенденции, фонд стал выделять деньги на более рискованные проекты, но в последующем скорректировал свою политику.\n",
    "\n",
    "В целом показатель более 0.55 можно считать успешным, учитывая, что фонд выделяет деньги не только на потенциально коммерчески успешные картины, но и на фильмы обладающие вадным социальным значением, которым трудно найти финансирование и которые не рассчитаны на большие сборы, но несут важное культурное значение, например авторское кино."
   ]
  },
  {
   "cell_type": "code",
   "execution_count": null,
   "metadata": {},
   "outputs": [],
   "source": []
  }
 ],
 "metadata": {
  "ExecuteTimeLog": [
   {
    "duration": 537,
    "start_time": "2021-07-07T10:12:08.634Z"
   },
   {
    "duration": 206,
    "start_time": "2021-07-07T10:12:30.191Z"
   },
   {
    "duration": 227,
    "start_time": "2021-07-07T10:12:33.078Z"
   },
   {
    "duration": 153,
    "start_time": "2021-07-07T10:13:42.146Z"
   },
   {
    "duration": 233,
    "start_time": "2021-07-07T10:30:09.252Z"
   },
   {
    "duration": 19,
    "start_time": "2021-07-07T10:30:15.577Z"
   },
   {
    "duration": 18,
    "start_time": "2021-07-07T10:30:57.348Z"
   },
   {
    "duration": 19,
    "start_time": "2021-07-07T10:31:17.452Z"
   },
   {
    "duration": 21,
    "start_time": "2021-07-07T10:31:32.227Z"
   },
   {
    "duration": 27,
    "start_time": "2021-07-07T10:32:06.588Z"
   },
   {
    "duration": 23,
    "start_time": "2021-07-07T10:32:43.645Z"
   },
   {
    "duration": 24,
    "start_time": "2021-07-07T10:33:06.948Z"
   },
   {
    "duration": 7,
    "start_time": "2021-07-07T10:33:28.558Z"
   },
   {
    "duration": 23,
    "start_time": "2021-07-07T10:33:43.761Z"
   },
   {
    "duration": 28,
    "start_time": "2021-07-07T10:34:13.466Z"
   },
   {
    "duration": 23,
    "start_time": "2021-07-07T10:35:56.187Z"
   },
   {
    "duration": 6,
    "start_time": "2021-07-07T10:36:48.182Z"
   },
   {
    "duration": 14,
    "start_time": "2021-07-07T10:37:49.641Z"
   },
   {
    "duration": 6,
    "start_time": "2021-07-07T10:38:06.694Z"
   },
   {
    "duration": 6,
    "start_time": "2021-07-07T10:38:13.493Z"
   },
   {
    "duration": 19,
    "start_time": "2021-07-07T10:38:44.056Z"
   },
   {
    "duration": 186,
    "start_time": "2021-07-07T10:48:35.618Z"
   },
   {
    "duration": 24,
    "start_time": "2021-07-07T10:48:51.498Z"
   },
   {
    "duration": 20,
    "start_time": "2021-07-07T10:48:59.415Z"
   },
   {
    "duration": 20,
    "start_time": "2021-07-07T10:53:02.195Z"
   },
   {
    "duration": 188,
    "start_time": "2021-07-07T10:54:40.486Z"
   },
   {
    "duration": 115,
    "start_time": "2021-07-07T10:54:52.552Z"
   },
   {
    "duration": 214,
    "start_time": "2021-07-07T10:54:56.354Z"
   },
   {
    "duration": 47,
    "start_time": "2021-07-07T10:54:58.282Z"
   },
   {
    "duration": 217,
    "start_time": "2021-07-07T10:59:16.075Z"
   },
   {
    "duration": 51,
    "start_time": "2021-07-07T10:59:16.243Z"
   },
   {
    "duration": 578,
    "start_time": "2021-07-07T10:59:18.774Z"
   },
   {
    "duration": 161,
    "start_time": "2021-07-07T10:59:21.238Z"
   },
   {
    "duration": 59,
    "start_time": "2021-07-07T10:59:21.453Z"
   },
   {
    "duration": 3,
    "start_time": "2021-07-07T11:02:10.786Z"
   },
   {
    "duration": 13,
    "start_time": "2021-07-07T11:07:07.722Z"
   },
   {
    "duration": 26,
    "start_time": "2021-07-07T11:07:17.958Z"
   },
   {
    "duration": 22,
    "start_time": "2021-07-07T11:08:17.939Z"
   },
   {
    "duration": 212,
    "start_time": "2021-07-07T11:08:19.665Z"
   },
   {
    "duration": 21,
    "start_time": "2021-07-07T11:08:29.945Z"
   },
   {
    "duration": 31,
    "start_time": "2021-07-07T11:08:38.899Z"
   },
   {
    "duration": 23,
    "start_time": "2021-07-07T11:08:54.527Z"
   },
   {
    "duration": 8,
    "start_time": "2021-07-07T11:18:55.974Z"
   },
   {
    "duration": 7,
    "start_time": "2021-07-07T11:19:03.639Z"
   },
   {
    "duration": 7,
    "start_time": "2021-07-07T11:19:06.444Z"
   },
   {
    "duration": 578,
    "start_time": "2021-07-07T12:09:59.576Z"
   },
   {
    "duration": 195,
    "start_time": "2021-07-07T12:10:00.156Z"
   },
   {
    "duration": 115,
    "start_time": "2021-07-07T12:10:00.353Z"
   },
   {
    "duration": 3,
    "start_time": "2021-07-07T12:10:00.470Z"
   },
   {
    "duration": 32,
    "start_time": "2021-07-07T12:10:00.474Z"
   },
   {
    "duration": 23,
    "start_time": "2021-07-07T12:10:00.508Z"
   },
   {
    "duration": 19,
    "start_time": "2021-07-07T12:10:00.533Z"
   },
   {
    "duration": 44,
    "start_time": "2021-07-07T12:10:00.553Z"
   },
   {
    "duration": 7,
    "start_time": "2021-07-07T12:10:00.600Z"
   },
   {
    "duration": 7,
    "start_time": "2021-07-07T12:19:45.761Z"
   },
   {
    "duration": 21,
    "start_time": "2021-07-07T12:21:35.482Z"
   },
   {
    "duration": 21,
    "start_time": "2021-07-07T12:29:23.569Z"
   },
   {
    "duration": 525,
    "start_time": "2021-07-07T12:29:44.542Z"
   },
   {
    "duration": 214,
    "start_time": "2021-07-07T12:29:45.069Z"
   },
   {
    "duration": 92,
    "start_time": "2021-07-07T12:29:45.285Z"
   },
   {
    "duration": 3,
    "start_time": "2021-07-07T12:29:45.379Z"
   },
   {
    "duration": 28,
    "start_time": "2021-07-07T12:29:45.384Z"
   },
   {
    "duration": 23,
    "start_time": "2021-07-07T12:29:45.413Z"
   },
   {
    "duration": 21,
    "start_time": "2021-07-07T12:29:45.437Z"
   },
   {
    "duration": 41,
    "start_time": "2021-07-07T12:29:45.460Z"
   },
   {
    "duration": 7,
    "start_time": "2021-07-07T12:29:45.502Z"
   },
   {
    "duration": 20,
    "start_time": "2021-07-07T12:29:45.511Z"
   },
   {
    "duration": 12,
    "start_time": "2021-07-07T12:34:02.800Z"
   },
   {
    "duration": 7,
    "start_time": "2021-07-07T12:35:10.479Z"
   },
   {
    "duration": 8,
    "start_time": "2021-07-07T12:35:22.440Z"
   },
   {
    "duration": 6,
    "start_time": "2021-07-07T12:35:35.649Z"
   },
   {
    "duration": 6,
    "start_time": "2021-07-07T12:35:43.107Z"
   },
   {
    "duration": 22,
    "start_time": "2021-07-07T12:38:03.029Z"
   },
   {
    "duration": 10,
    "start_time": "2021-07-07T12:38:06.592Z"
   },
   {
    "duration": 563,
    "start_time": "2021-07-07T12:38:46.493Z"
   },
   {
    "duration": 265,
    "start_time": "2021-07-07T12:38:47.058Z"
   },
   {
    "duration": 94,
    "start_time": "2021-07-07T12:38:47.325Z"
   },
   {
    "duration": 3,
    "start_time": "2021-07-07T12:38:47.422Z"
   },
   {
    "duration": 30,
    "start_time": "2021-07-07T12:38:47.427Z"
   },
   {
    "duration": 16,
    "start_time": "2021-07-07T12:38:53.305Z"
   },
   {
    "duration": 10,
    "start_time": "2021-07-07T12:38:53.499Z"
   },
   {
    "duration": 8,
    "start_time": "2021-07-07T12:39:48.161Z"
   },
   {
    "duration": 27,
    "start_time": "2021-07-07T12:41:17.629Z"
   },
   {
    "duration": 17,
    "start_time": "2021-07-07T12:41:17.867Z"
   },
   {
    "duration": 21,
    "start_time": "2021-07-07T12:41:19.310Z"
   },
   {
    "duration": 7,
    "start_time": "2021-07-07T12:41:19.544Z"
   },
   {
    "duration": 20,
    "start_time": "2021-07-07T12:41:20.504Z"
   },
   {
    "duration": 554,
    "start_time": "2021-07-07T12:56:23.696Z"
   },
   {
    "duration": 200,
    "start_time": "2021-07-07T12:56:25.234Z"
   },
   {
    "duration": 119,
    "start_time": "2021-07-07T12:56:25.480Z"
   },
   {
    "duration": 4,
    "start_time": "2021-07-07T12:56:25.762Z"
   },
   {
    "duration": 26,
    "start_time": "2021-07-07T12:56:27.172Z"
   },
   {
    "duration": 12,
    "start_time": "2021-07-07T12:56:29.051Z"
   },
   {
    "duration": 10,
    "start_time": "2021-07-07T12:56:29.291Z"
   },
   {
    "duration": 8,
    "start_time": "2021-07-07T12:56:29.623Z"
   },
   {
    "duration": 28,
    "start_time": "2021-07-07T12:56:32.137Z"
   },
   {
    "duration": 19,
    "start_time": "2021-07-07T12:56:39.785Z"
   },
   {
    "duration": 20,
    "start_time": "2021-07-07T12:56:44.297Z"
   },
   {
    "duration": 7,
    "start_time": "2021-07-07T12:56:45.392Z"
   },
   {
    "duration": 23,
    "start_time": "2021-07-07T12:56:46.615Z"
   },
   {
    "duration": 4,
    "start_time": "2021-07-07T12:57:06.625Z"
   },
   {
    "duration": 32,
    "start_time": "2021-07-07T12:57:36.690Z"
   },
   {
    "duration": 18,
    "start_time": "2021-07-07T12:58:00.149Z"
   },
   {
    "duration": 15,
    "start_time": "2021-07-07T12:59:16.793Z"
   },
   {
    "duration": 7,
    "start_time": "2021-07-07T13:19:22.624Z"
   },
   {
    "duration": 6,
    "start_time": "2021-07-07T14:17:33.527Z"
   },
   {
    "duration": 9,
    "start_time": "2021-07-07T14:17:48.409Z"
   },
   {
    "duration": 8,
    "start_time": "2021-07-07T14:20:13.060Z"
   },
   {
    "duration": 8,
    "start_time": "2021-07-07T14:20:37.957Z"
   },
   {
    "duration": 8,
    "start_time": "2021-07-07T14:20:47.470Z"
   },
   {
    "duration": 9,
    "start_time": "2021-07-07T14:20:54.503Z"
   },
   {
    "duration": 10,
    "start_time": "2021-07-07T14:28:57.763Z"
   },
   {
    "duration": 3,
    "start_time": "2021-07-07T14:30:23.377Z"
   },
   {
    "duration": 3,
    "start_time": "2021-07-07T14:30:36.489Z"
   },
   {
    "duration": 103,
    "start_time": "2021-07-07T14:30:52.351Z"
   },
   {
    "duration": 8,
    "start_time": "2021-07-07T14:30:54.763Z"
   },
   {
    "duration": 8,
    "start_time": "2021-07-07T14:31:29.301Z"
   },
   {
    "duration": 13,
    "start_time": "2021-07-07T14:31:44.516Z"
   },
   {
    "duration": 7,
    "start_time": "2021-07-07T14:33:10.972Z"
   },
   {
    "duration": 11,
    "start_time": "2021-07-07T14:33:27.780Z"
   },
   {
    "duration": 8,
    "start_time": "2021-07-07T14:34:44.588Z"
   },
   {
    "duration": 57,
    "start_time": "2021-07-07T14:35:59.042Z"
   },
   {
    "duration": 3,
    "start_time": "2021-07-07T14:36:28.168Z"
   },
   {
    "duration": 5,
    "start_time": "2021-07-07T14:36:46.254Z"
   },
   {
    "duration": 4,
    "start_time": "2021-07-07T14:36:52.714Z"
   },
   {
    "duration": 3,
    "start_time": "2021-07-07T14:36:56.612Z"
   },
   {
    "duration": 4,
    "start_time": "2021-07-07T14:36:57.049Z"
   },
   {
    "duration": 3,
    "start_time": "2021-07-07T14:39:21.214Z"
   },
   {
    "duration": 7,
    "start_time": "2021-07-07T14:39:52.406Z"
   },
   {
    "duration": 11,
    "start_time": "2021-07-07T14:39:58.576Z"
   },
   {
    "duration": 9,
    "start_time": "2021-07-07T14:40:26.301Z"
   },
   {
    "duration": 10,
    "start_time": "2021-07-07T14:40:31.704Z"
   },
   {
    "duration": 11,
    "start_time": "2021-07-07T14:40:36.249Z"
   },
   {
    "duration": 10,
    "start_time": "2021-07-07T14:40:39.783Z"
   },
   {
    "duration": 9,
    "start_time": "2021-07-07T14:40:48.558Z"
   },
   {
    "duration": 10,
    "start_time": "2021-07-07T14:40:57.143Z"
   },
   {
    "duration": 9,
    "start_time": "2021-07-07T14:41:06.074Z"
   },
   {
    "duration": 4324,
    "start_time": "2021-07-07T14:41:22.004Z"
   },
   {
    "duration": 11,
    "start_time": "2021-07-07T14:41:33.392Z"
   },
   {
    "duration": 9,
    "start_time": "2021-07-07T14:41:39.288Z"
   },
   {
    "duration": 569,
    "start_time": "2021-07-07T14:42:14.387Z"
   },
   {
    "duration": 197,
    "start_time": "2021-07-07T14:42:14.959Z"
   },
   {
    "duration": 84,
    "start_time": "2021-07-07T14:42:16.052Z"
   },
   {
    "duration": 4,
    "start_time": "2021-07-07T14:42:16.900Z"
   },
   {
    "duration": 27,
    "start_time": "2021-07-07T14:42:19.898Z"
   },
   {
    "duration": 12,
    "start_time": "2021-07-07T14:42:21.577Z"
   },
   {
    "duration": 9,
    "start_time": "2021-07-07T14:42:21.813Z"
   },
   {
    "duration": 9,
    "start_time": "2021-07-07T14:42:22.569Z"
   },
   {
    "duration": 29,
    "start_time": "2021-07-07T14:42:25.837Z"
   },
   {
    "duration": 20,
    "start_time": "2021-07-07T14:42:27.003Z"
   },
   {
    "duration": 21,
    "start_time": "2021-07-07T14:42:28.767Z"
   },
   {
    "duration": 7,
    "start_time": "2021-07-07T14:42:29.838Z"
   },
   {
    "duration": 4,
    "start_time": "2021-07-07T14:43:25.493Z"
   },
   {
    "duration": 7,
    "start_time": "2021-07-07T14:43:26.573Z"
   },
   {
    "duration": 10,
    "start_time": "2021-07-07T14:43:31.639Z"
   },
   {
    "duration": 9,
    "start_time": "2021-07-07T14:43:32.046Z"
   },
   {
    "duration": 10,
    "start_time": "2021-07-07T14:43:33.301Z"
   },
   {
    "duration": 12,
    "start_time": "2021-07-07T14:43:33.658Z"
   },
   {
    "duration": 8,
    "start_time": "2021-07-07T14:43:34.552Z"
   },
   {
    "duration": 9,
    "start_time": "2021-07-07T14:43:35.058Z"
   },
   {
    "duration": 12,
    "start_time": "2021-07-07T14:43:35.914Z"
   },
   {
    "duration": 17,
    "start_time": "2021-07-07T14:45:34.368Z"
   },
   {
    "duration": 512,
    "start_time": "2021-07-07T14:51:58.236Z"
   },
   {
    "duration": 223,
    "start_time": "2021-07-07T14:51:58.750Z"
   },
   {
    "duration": 93,
    "start_time": "2021-07-07T14:51:58.977Z"
   },
   {
    "duration": 4,
    "start_time": "2021-07-07T14:51:59.071Z"
   },
   {
    "duration": 37,
    "start_time": "2021-07-07T14:51:59.077Z"
   },
   {
    "duration": 18,
    "start_time": "2021-07-07T14:51:59.116Z"
   },
   {
    "duration": 10,
    "start_time": "2021-07-07T14:51:59.137Z"
   },
   {
    "duration": 8,
    "start_time": "2021-07-07T14:51:59.149Z"
   },
   {
    "duration": 54,
    "start_time": "2021-07-07T14:51:59.158Z"
   },
   {
    "duration": 18,
    "start_time": "2021-07-07T14:51:59.213Z"
   },
   {
    "duration": 22,
    "start_time": "2021-07-07T14:51:59.232Z"
   },
   {
    "duration": 36,
    "start_time": "2021-07-07T14:51:59.255Z"
   },
   {
    "duration": 7,
    "start_time": "2021-07-07T14:51:59.293Z"
   },
   {
    "duration": 10,
    "start_time": "2021-07-07T14:51:59.302Z"
   },
   {
    "duration": 9,
    "start_time": "2021-07-07T14:51:59.313Z"
   },
   {
    "duration": 11,
    "start_time": "2021-07-07T14:51:59.324Z"
   },
   {
    "duration": 8,
    "start_time": "2021-07-07T14:51:59.337Z"
   },
   {
    "duration": 46,
    "start_time": "2021-07-07T14:51:59.347Z"
   },
   {
    "duration": 22,
    "start_time": "2021-07-07T14:51:59.395Z"
   },
   {
    "duration": 24,
    "start_time": "2021-07-07T14:57:32.911Z"
   },
   {
    "duration": 7,
    "start_time": "2021-07-07T14:58:22.070Z"
   },
   {
    "duration": 4,
    "start_time": "2021-07-07T14:59:11.239Z"
   },
   {
    "duration": 25,
    "start_time": "2021-07-07T15:07:22.208Z"
   },
   {
    "duration": 16,
    "start_time": "2021-07-07T15:08:25.560Z"
   },
   {
    "duration": 15,
    "start_time": "2021-07-07T15:08:40.647Z"
   },
   {
    "duration": 14,
    "start_time": "2021-07-07T15:08:46.669Z"
   },
   {
    "duration": 533,
    "start_time": "2021-07-07T15:18:07.440Z"
   },
   {
    "duration": 173,
    "start_time": "2021-07-07T15:18:07.974Z"
   },
   {
    "duration": 84,
    "start_time": "2021-07-07T15:18:08.149Z"
   },
   {
    "duration": 3,
    "start_time": "2021-07-07T15:18:08.235Z"
   },
   {
    "duration": 30,
    "start_time": "2021-07-07T15:18:08.240Z"
   },
   {
    "duration": 22,
    "start_time": "2021-07-07T15:18:08.272Z"
   },
   {
    "duration": 11,
    "start_time": "2021-07-07T15:18:08.295Z"
   },
   {
    "duration": 11,
    "start_time": "2021-07-07T15:18:08.309Z"
   },
   {
    "duration": 40,
    "start_time": "2021-07-07T15:18:08.322Z"
   },
   {
    "duration": 42,
    "start_time": "2021-07-07T15:18:08.364Z"
   },
   {
    "duration": 22,
    "start_time": "2021-07-07T15:18:08.408Z"
   },
   {
    "duration": 5,
    "start_time": "2021-07-07T15:18:08.432Z"
   },
   {
    "duration": 13,
    "start_time": "2021-07-07T15:18:08.439Z"
   },
   {
    "duration": 9,
    "start_time": "2021-07-07T15:18:08.454Z"
   },
   {
    "duration": 32,
    "start_time": "2021-07-07T15:18:08.465Z"
   },
   {
    "duration": 10,
    "start_time": "2021-07-07T15:18:08.501Z"
   },
   {
    "duration": 7,
    "start_time": "2021-07-07T15:18:08.513Z"
   },
   {
    "duration": 11,
    "start_time": "2021-07-07T15:18:08.521Z"
   },
   {
    "duration": 17,
    "start_time": "2021-07-07T15:18:08.534Z"
   },
   {
    "duration": 44,
    "start_time": "2021-07-07T15:18:08.553Z"
   },
   {
    "duration": 22,
    "start_time": "2021-07-07T15:18:08.599Z"
   },
   {
    "duration": 61,
    "start_time": "2021-07-07T15:18:08.622Z"
   },
   {
    "duration": 7,
    "start_time": "2021-07-07T15:18:39.457Z"
   },
   {
    "duration": 5,
    "start_time": "2021-07-07T16:05:17.020Z"
   },
   {
    "duration": 5,
    "start_time": "2021-07-07T16:51:28.794Z"
   },
   {
    "duration": 546,
    "start_time": "2021-07-07T16:52:26.306Z"
   },
   {
    "duration": 203,
    "start_time": "2021-07-07T16:52:27.523Z"
   },
   {
    "duration": 85,
    "start_time": "2021-07-07T16:52:27.736Z"
   },
   {
    "duration": 4,
    "start_time": "2021-07-07T16:52:27.899Z"
   },
   {
    "duration": 25,
    "start_time": "2021-07-07T16:52:28.674Z"
   },
   {
    "duration": 8,
    "start_time": "2021-07-07T16:52:32.956Z"
   },
   {
    "duration": 18,
    "start_time": "2021-07-07T16:52:35.616Z"
   },
   {
    "duration": 6,
    "start_time": "2021-07-07T16:52:36.913Z"
   },
   {
    "duration": 11,
    "start_time": "2021-07-07T16:52:40.258Z"
   },
   {
    "duration": 10,
    "start_time": "2021-07-07T16:52:46.251Z"
   },
   {
    "duration": 8,
    "start_time": "2021-07-07T16:52:47.182Z"
   },
   {
    "duration": 27,
    "start_time": "2021-07-07T16:53:20.391Z"
   },
   {
    "duration": 20,
    "start_time": "2021-07-07T16:53:22.022Z"
   },
   {
    "duration": 23,
    "start_time": "2021-07-07T16:53:23.690Z"
   },
   {
    "duration": 8,
    "start_time": "2021-07-07T16:53:24.261Z"
   },
   {
    "duration": 4,
    "start_time": "2021-07-07T16:53:38.733Z"
   },
   {
    "duration": 7,
    "start_time": "2021-07-07T16:53:40.445Z"
   },
   {
    "duration": 11,
    "start_time": "2021-07-07T16:53:41.348Z"
   },
   {
    "duration": 13,
    "start_time": "2021-07-07T16:53:45.250Z"
   },
   {
    "duration": 12,
    "start_time": "2021-07-07T16:53:45.467Z"
   },
   {
    "duration": 4,
    "start_time": "2021-07-07T16:55:32.704Z"
   },
   {
    "duration": 12,
    "start_time": "2021-07-07T16:55:49.012Z"
   },
   {
    "duration": 18,
    "start_time": "2021-07-07T16:55:49.547Z"
   },
   {
    "duration": 611,
    "start_time": "2021-07-07T16:58:35.156Z"
   },
   {
    "duration": 200,
    "start_time": "2021-07-07T16:58:35.770Z"
   },
   {
    "duration": 86,
    "start_time": "2021-07-07T16:58:35.972Z"
   },
   {
    "duration": 3,
    "start_time": "2021-07-07T16:58:36.060Z"
   },
   {
    "duration": 27,
    "start_time": "2021-07-07T16:58:36.065Z"
   },
   {
    "duration": 8,
    "start_time": "2021-07-07T16:58:36.094Z"
   },
   {
    "duration": 17,
    "start_time": "2021-07-07T16:58:36.103Z"
   },
   {
    "duration": 5,
    "start_time": "2021-07-07T16:58:36.123Z"
   },
   {
    "duration": 11,
    "start_time": "2021-07-07T16:58:36.130Z"
   },
   {
    "duration": 7,
    "start_time": "2021-07-07T16:58:36.143Z"
   },
   {
    "duration": 37,
    "start_time": "2021-07-07T16:58:36.152Z"
   },
   {
    "duration": 27,
    "start_time": "2021-07-07T16:58:36.191Z"
   },
   {
    "duration": 19,
    "start_time": "2021-07-07T16:58:36.219Z"
   },
   {
    "duration": 49,
    "start_time": "2021-07-07T16:58:36.240Z"
   },
   {
    "duration": 6,
    "start_time": "2021-07-07T16:58:36.291Z"
   },
   {
    "duration": 3,
    "start_time": "2021-07-07T16:58:36.299Z"
   },
   {
    "duration": 13,
    "start_time": "2021-07-07T16:58:36.304Z"
   },
   {
    "duration": 10,
    "start_time": "2021-07-07T16:58:36.319Z"
   },
   {
    "duration": 10,
    "start_time": "2021-07-07T16:58:36.331Z"
   },
   {
    "duration": 44,
    "start_time": "2021-07-07T16:58:36.343Z"
   },
   {
    "duration": 4,
    "start_time": "2021-07-07T16:58:36.388Z"
   },
   {
    "duration": 13,
    "start_time": "2021-07-07T16:58:36.394Z"
   },
   {
    "duration": 16,
    "start_time": "2021-07-07T16:58:36.410Z"
   },
   {
    "duration": 8,
    "start_time": "2021-07-07T17:02:31.629Z"
   },
   {
    "duration": 8,
    "start_time": "2021-07-07T17:02:34.308Z"
   },
   {
    "duration": 6,
    "start_time": "2021-07-07T17:05:13.483Z"
   },
   {
    "duration": 17,
    "start_time": "2021-07-07T17:05:20.606Z"
   },
   {
    "duration": 7,
    "start_time": "2021-07-07T17:05:34.638Z"
   },
   {
    "duration": 3,
    "start_time": "2021-07-07T17:06:31.883Z"
   },
   {
    "duration": 570,
    "start_time": "2021-07-07T17:06:37.165Z"
   },
   {
    "duration": 174,
    "start_time": "2021-07-07T17:06:37.737Z"
   },
   {
    "duration": 47,
    "start_time": "2021-07-07T17:06:37.913Z"
   },
   {
    "duration": 3,
    "start_time": "2021-07-07T17:06:37.962Z"
   },
   {
    "duration": 27,
    "start_time": "2021-07-07T17:06:37.967Z"
   },
   {
    "duration": 7,
    "start_time": "2021-07-07T17:06:37.996Z"
   },
   {
    "duration": 16,
    "start_time": "2021-07-07T17:06:38.005Z"
   },
   {
    "duration": 6,
    "start_time": "2021-07-07T17:06:38.024Z"
   },
   {
    "duration": 12,
    "start_time": "2021-07-07T17:06:38.031Z"
   },
   {
    "duration": 41,
    "start_time": "2021-07-07T17:06:38.045Z"
   },
   {
    "duration": 8,
    "start_time": "2021-07-07T17:06:38.088Z"
   },
   {
    "duration": 26,
    "start_time": "2021-07-07T17:06:38.098Z"
   },
   {
    "duration": 17,
    "start_time": "2021-07-07T17:06:38.126Z"
   },
   {
    "duration": 43,
    "start_time": "2021-07-07T17:06:38.144Z"
   },
   {
    "duration": 6,
    "start_time": "2021-07-07T17:06:38.188Z"
   },
   {
    "duration": 5,
    "start_time": "2021-07-07T17:06:38.195Z"
   },
   {
    "duration": 9,
    "start_time": "2021-07-07T17:06:38.201Z"
   },
   {
    "duration": 12,
    "start_time": "2021-07-07T17:06:38.212Z"
   },
   {
    "duration": 11,
    "start_time": "2021-07-07T17:06:38.226Z"
   },
   {
    "duration": 47,
    "start_time": "2021-07-07T17:06:38.239Z"
   },
   {
    "duration": 4,
    "start_time": "2021-07-07T17:06:38.288Z"
   },
   {
    "duration": 13,
    "start_time": "2021-07-07T17:06:38.293Z"
   },
   {
    "duration": 5,
    "start_time": "2021-07-07T17:06:38.309Z"
   },
   {
    "duration": 18,
    "start_time": "2021-07-07T17:06:38.325Z"
   },
   {
    "duration": 20,
    "start_time": "2021-07-07T17:07:02.805Z"
   },
   {
    "duration": 19,
    "start_time": "2021-07-07T17:07:08.527Z"
   },
   {
    "duration": 19,
    "start_time": "2021-07-07T17:07:12.758Z"
   },
   {
    "duration": 22,
    "start_time": "2021-07-07T17:07:17.497Z"
   },
   {
    "duration": 19,
    "start_time": "2021-07-07T17:07:19.645Z"
   },
   {
    "duration": 10,
    "start_time": "2021-07-07T17:07:34.239Z"
   },
   {
    "duration": 17,
    "start_time": "2021-07-07T17:07:54.144Z"
   },
   {
    "duration": 14,
    "start_time": "2021-07-07T17:08:14.357Z"
   },
   {
    "duration": 616,
    "start_time": "2021-07-07T17:08:45.254Z"
   },
   {
    "duration": 178,
    "start_time": "2021-07-07T17:08:45.872Z"
   },
   {
    "duration": 60,
    "start_time": "2021-07-07T17:08:46.054Z"
   },
   {
    "duration": 3,
    "start_time": "2021-07-07T17:08:46.116Z"
   },
   {
    "duration": 26,
    "start_time": "2021-07-07T17:08:46.121Z"
   },
   {
    "duration": 7,
    "start_time": "2021-07-07T17:08:46.149Z"
   },
   {
    "duration": 17,
    "start_time": "2021-07-07T17:08:46.158Z"
   },
   {
    "duration": 14,
    "start_time": "2021-07-07T17:08:46.176Z"
   },
   {
    "duration": 17,
    "start_time": "2021-07-07T17:08:46.193Z"
   },
   {
    "duration": 9,
    "start_time": "2021-07-07T17:08:46.211Z"
   },
   {
    "duration": 21,
    "start_time": "2021-07-07T17:08:46.221Z"
   },
   {
    "duration": 49,
    "start_time": "2021-07-07T17:08:46.244Z"
   },
   {
    "duration": 24,
    "start_time": "2021-07-07T17:08:46.295Z"
   },
   {
    "duration": 22,
    "start_time": "2021-07-07T17:08:46.321Z"
   },
   {
    "duration": 6,
    "start_time": "2021-07-07T17:08:46.345Z"
   },
   {
    "duration": 5,
    "start_time": "2021-07-07T17:08:46.353Z"
   },
   {
    "duration": 13,
    "start_time": "2021-07-07T17:08:46.386Z"
   },
   {
    "duration": 12,
    "start_time": "2021-07-07T17:08:46.402Z"
   },
   {
    "duration": 10,
    "start_time": "2021-07-07T17:08:46.415Z"
   },
   {
    "duration": 7,
    "start_time": "2021-07-07T17:08:46.427Z"
   },
   {
    "duration": 8,
    "start_time": "2021-07-07T17:08:46.435Z"
   },
   {
    "duration": 68,
    "start_time": "2021-07-07T17:08:46.446Z"
   },
   {
    "duration": 13,
    "start_time": "2021-07-07T17:08:46.516Z"
   },
   {
    "duration": 78,
    "start_time": "2021-07-07T17:08:46.530Z"
   },
   {
    "duration": 40,
    "start_time": "2021-07-07T17:09:08.185Z"
   },
   {
    "duration": 16,
    "start_time": "2021-07-07T17:09:19.324Z"
   },
   {
    "duration": 21,
    "start_time": "2021-07-07T17:09:23.290Z"
   },
   {
    "duration": 13,
    "start_time": "2021-07-07T17:09:54.812Z"
   },
   {
    "duration": 13,
    "start_time": "2021-07-07T17:10:02.039Z"
   },
   {
    "duration": 10,
    "start_time": "2021-07-07T17:10:29.632Z"
   },
   {
    "duration": 13,
    "start_time": "2021-07-07T17:10:52.372Z"
   },
   {
    "duration": 13,
    "start_time": "2021-07-07T17:11:17.270Z"
   },
   {
    "duration": 13,
    "start_time": "2021-07-07T17:14:59.284Z"
   },
   {
    "duration": 547,
    "start_time": "2021-07-07T17:18:52.403Z"
   },
   {
    "duration": 163,
    "start_time": "2021-07-07T17:18:52.952Z"
   },
   {
    "duration": 44,
    "start_time": "2021-07-07T17:18:53.117Z"
   },
   {
    "duration": 3,
    "start_time": "2021-07-07T17:18:53.162Z"
   },
   {
    "duration": 26,
    "start_time": "2021-07-07T17:18:53.167Z"
   },
   {
    "duration": 6,
    "start_time": "2021-07-07T17:18:53.195Z"
   },
   {
    "duration": 15,
    "start_time": "2021-07-07T17:18:53.203Z"
   },
   {
    "duration": 5,
    "start_time": "2021-07-07T17:18:53.220Z"
   },
   {
    "duration": 11,
    "start_time": "2021-07-07T17:18:53.228Z"
   },
   {
    "duration": 9,
    "start_time": "2021-07-07T17:18:53.241Z"
   },
   {
    "duration": 41,
    "start_time": "2021-07-07T17:18:53.252Z"
   },
   {
    "duration": 33,
    "start_time": "2021-07-07T17:18:53.295Z"
   },
   {
    "duration": 19,
    "start_time": "2021-07-07T17:18:53.330Z"
   },
   {
    "duration": 49,
    "start_time": "2021-07-07T17:18:53.350Z"
   },
   {
    "duration": 5,
    "start_time": "2021-07-07T17:18:53.401Z"
   },
   {
    "duration": 5,
    "start_time": "2021-07-07T17:18:53.408Z"
   },
   {
    "duration": 11,
    "start_time": "2021-07-07T17:18:53.414Z"
   },
   {
    "duration": 9,
    "start_time": "2021-07-07T17:18:53.427Z"
   },
   {
    "duration": 10,
    "start_time": "2021-07-07T17:18:53.437Z"
   },
   {
    "duration": 39,
    "start_time": "2021-07-07T17:18:53.448Z"
   },
   {
    "duration": 26,
    "start_time": "2021-07-07T17:18:55.799Z"
   },
   {
    "duration": 598,
    "start_time": "2021-07-07T17:20:17.862Z"
   },
   {
    "duration": 161,
    "start_time": "2021-07-07T17:20:18.462Z"
   },
   {
    "duration": 45,
    "start_time": "2021-07-07T17:20:18.626Z"
   },
   {
    "duration": 4,
    "start_time": "2021-07-07T17:20:18.673Z"
   },
   {
    "duration": 38,
    "start_time": "2021-07-07T17:20:26.877Z"
   },
   {
    "duration": 7,
    "start_time": "2021-07-07T17:20:37.405Z"
   },
   {
    "duration": 19,
    "start_time": "2021-07-07T17:20:51.534Z"
   },
   {
    "duration": 5,
    "start_time": "2021-07-07T17:20:57.228Z"
   },
   {
    "duration": 7,
    "start_time": "2021-07-07T17:21:08.235Z"
   },
   {
    "duration": 19,
    "start_time": "2021-07-07T17:21:42.158Z"
   },
   {
    "duration": 14,
    "start_time": "2021-07-07T17:21:50.225Z"
   },
   {
    "duration": 22,
    "start_time": "2021-07-07T17:22:54.104Z"
   },
   {
    "duration": 5,
    "start_time": "2021-07-07T17:22:56.371Z"
   },
   {
    "duration": 14,
    "start_time": "2021-07-07T17:22:58.316Z"
   },
   {
    "duration": 5,
    "start_time": "2021-07-07T17:22:58.493Z"
   },
   {
    "duration": 35,
    "start_time": "2021-07-07T17:22:59.666Z"
   },
   {
    "duration": 6,
    "start_time": "2021-07-07T17:23:02.410Z"
   },
   {
    "duration": 611,
    "start_time": "2021-07-07T17:24:59.664Z"
   },
   {
    "duration": 178,
    "start_time": "2021-07-07T17:25:01.945Z"
   },
   {
    "duration": 47,
    "start_time": "2021-07-07T17:25:02.125Z"
   },
   {
    "duration": 2,
    "start_time": "2021-07-07T17:25:07.903Z"
   },
   {
    "duration": 254,
    "start_time": "2021-07-07T17:25:08.232Z"
   },
   {
    "duration": 182,
    "start_time": "2021-07-07T17:25:08.671Z"
   },
   {
    "duration": 6,
    "start_time": "2021-07-07T17:25:13.104Z"
   },
   {
    "duration": 36,
    "start_time": "2021-07-07T17:25:13.662Z"
   },
   {
    "duration": 7,
    "start_time": "2021-07-07T17:25:14.528Z"
   },
   {
    "duration": 24,
    "start_time": "2021-07-07T17:25:27.982Z"
   },
   {
    "duration": 3,
    "start_time": "2021-07-07T17:25:48.982Z"
   },
   {
    "duration": 165,
    "start_time": "2021-07-07T17:25:48.987Z"
   },
   {
    "duration": 50,
    "start_time": "2021-07-07T17:25:49.154Z"
   },
   {
    "duration": 4,
    "start_time": "2021-07-07T17:25:49.206Z"
   },
   {
    "duration": 26,
    "start_time": "2021-07-07T17:25:49.212Z"
   },
   {
    "duration": 7,
    "start_time": "2021-07-07T17:25:49.240Z"
   },
   {
    "duration": 16,
    "start_time": "2021-07-07T17:25:49.249Z"
   },
   {
    "duration": 22,
    "start_time": "2021-07-07T17:25:49.266Z"
   },
   {
    "duration": 16,
    "start_time": "2021-07-07T17:25:49.291Z"
   },
   {
    "duration": 9,
    "start_time": "2021-07-07T17:25:49.309Z"
   },
   {
    "duration": 7,
    "start_time": "2021-07-07T17:25:49.319Z"
   },
   {
    "duration": 28,
    "start_time": "2021-07-07T17:25:49.328Z"
   },
   {
    "duration": 44,
    "start_time": "2021-07-07T17:25:49.357Z"
   },
   {
    "duration": 22,
    "start_time": "2021-07-07T17:25:49.403Z"
   },
   {
    "duration": 7,
    "start_time": "2021-07-07T17:25:49.427Z"
   },
   {
    "duration": 3,
    "start_time": "2021-07-07T17:25:49.436Z"
   },
   {
    "duration": 44,
    "start_time": "2021-07-07T17:25:49.441Z"
   },
   {
    "duration": 12,
    "start_time": "2021-07-07T17:25:49.488Z"
   },
   {
    "duration": 13,
    "start_time": "2021-07-07T17:25:49.502Z"
   },
   {
    "duration": 10,
    "start_time": "2021-07-07T17:25:49.516Z"
   },
   {
    "duration": 62,
    "start_time": "2021-07-07T17:25:49.527Z"
   },
   {
    "duration": 26,
    "start_time": "2021-07-07T17:26:51.809Z"
   },
   {
    "duration": 26,
    "start_time": "2021-07-07T17:26:55.759Z"
   },
   {
    "duration": 26,
    "start_time": "2021-07-07T17:27:04.501Z"
   },
   {
    "duration": 25,
    "start_time": "2021-07-07T17:28:24.859Z"
   },
   {
    "duration": 21,
    "start_time": "2021-07-07T17:28:55.250Z"
   },
   {
    "duration": 21,
    "start_time": "2021-07-07T17:28:58.885Z"
   },
   {
    "duration": 7,
    "start_time": "2021-07-07T17:45:40.972Z"
   },
   {
    "duration": 13,
    "start_time": "2021-07-07T17:45:42.529Z"
   },
   {
    "duration": 27,
    "start_time": "2021-07-07T17:45:51.026Z"
   },
   {
    "duration": 518,
    "start_time": "2021-07-07T17:46:15.532Z"
   },
   {
    "duration": 235,
    "start_time": "2021-07-07T17:46:16.053Z"
   },
   {
    "duration": 80,
    "start_time": "2021-07-07T17:46:16.292Z"
   },
   {
    "duration": 5,
    "start_time": "2021-07-07T17:46:16.373Z"
   },
   {
    "duration": 26,
    "start_time": "2021-07-07T17:46:16.380Z"
   },
   {
    "duration": 7,
    "start_time": "2021-07-07T17:46:16.408Z"
   },
   {
    "duration": 16,
    "start_time": "2021-07-07T17:46:16.418Z"
   },
   {
    "duration": 5,
    "start_time": "2021-07-07T17:46:16.436Z"
   },
   {
    "duration": 13,
    "start_time": "2021-07-07T17:46:16.442Z"
   },
   {
    "duration": 35,
    "start_time": "2021-07-07T17:46:16.456Z"
   },
   {
    "duration": 8,
    "start_time": "2021-07-07T17:46:16.493Z"
   },
   {
    "duration": 28,
    "start_time": "2021-07-07T17:46:16.502Z"
   },
   {
    "duration": 17,
    "start_time": "2021-07-07T17:46:16.532Z"
   },
   {
    "duration": 44,
    "start_time": "2021-07-07T17:46:16.551Z"
   },
   {
    "duration": 6,
    "start_time": "2021-07-07T17:46:16.597Z"
   },
   {
    "duration": 4,
    "start_time": "2021-07-07T17:46:16.605Z"
   },
   {
    "duration": 9,
    "start_time": "2021-07-07T17:46:16.610Z"
   },
   {
    "duration": 9,
    "start_time": "2021-07-07T17:46:16.621Z"
   },
   {
    "duration": 10,
    "start_time": "2021-07-07T17:46:16.632Z"
   },
   {
    "duration": 43,
    "start_time": "2021-07-07T17:46:16.644Z"
   },
   {
    "duration": 26,
    "start_time": "2021-07-07T17:46:16.689Z"
   },
   {
    "duration": 19,
    "start_time": "2021-07-07T17:46:16.718Z"
   },
   {
    "duration": 8,
    "start_time": "2021-07-07T17:46:16.738Z"
   },
   {
    "duration": 43,
    "start_time": "2021-07-07T17:46:16.747Z"
   },
   {
    "duration": 19,
    "start_time": "2021-07-07T17:46:16.791Z"
   },
   {
    "duration": 9,
    "start_time": "2021-07-07T17:46:16.812Z"
   },
   {
    "duration": 60,
    "start_time": "2021-07-07T17:46:16.822Z"
   },
   {
    "duration": -8,
    "start_time": "2021-07-07T17:46:16.892Z"
   },
   {
    "duration": 12,
    "start_time": "2021-07-07T17:48:47.707Z"
   },
   {
    "duration": 553,
    "start_time": "2021-07-07T18:10:09.350Z"
   },
   {
    "duration": 230,
    "start_time": "2021-07-07T18:10:09.905Z"
   },
   {
    "duration": 97,
    "start_time": "2021-07-07T18:10:10.137Z"
   },
   {
    "duration": 5,
    "start_time": "2021-07-07T18:10:10.236Z"
   },
   {
    "duration": 29,
    "start_time": "2021-07-07T18:10:10.242Z"
   },
   {
    "duration": 7,
    "start_time": "2021-07-07T18:10:10.272Z"
   },
   {
    "duration": 15,
    "start_time": "2021-07-07T18:10:10.281Z"
   },
   {
    "duration": 4,
    "start_time": "2021-07-07T18:10:10.299Z"
   },
   {
    "duration": 14,
    "start_time": "2021-07-07T18:10:10.305Z"
   },
   {
    "duration": 8,
    "start_time": "2021-07-07T18:10:10.321Z"
   },
   {
    "duration": 8,
    "start_time": "2021-07-07T18:10:10.331Z"
   },
   {
    "duration": 56,
    "start_time": "2021-07-07T18:10:10.341Z"
   },
   {
    "duration": 19,
    "start_time": "2021-07-07T18:10:10.399Z"
   },
   {
    "duration": 23,
    "start_time": "2021-07-07T18:10:10.419Z"
   },
   {
    "duration": 6,
    "start_time": "2021-07-07T18:10:10.444Z"
   },
   {
    "duration": 9,
    "start_time": "2021-07-07T18:10:10.451Z"
   },
   {
    "duration": 30,
    "start_time": "2021-07-07T18:10:10.462Z"
   },
   {
    "duration": 9,
    "start_time": "2021-07-07T18:10:10.494Z"
   },
   {
    "duration": 14,
    "start_time": "2021-07-07T18:10:10.505Z"
   },
   {
    "duration": 7,
    "start_time": "2021-07-07T18:10:10.521Z"
   },
   {
    "duration": 26,
    "start_time": "2021-07-07T18:10:10.530Z"
   },
   {
    "duration": 44,
    "start_time": "2021-07-07T18:10:10.558Z"
   },
   {
    "duration": 7,
    "start_time": "2021-07-07T18:10:10.605Z"
   },
   {
    "duration": 11,
    "start_time": "2021-07-07T18:10:10.614Z"
   },
   {
    "duration": 19,
    "start_time": "2021-07-07T18:10:10.626Z"
   },
   {
    "duration": 44,
    "start_time": "2021-07-07T18:10:10.646Z"
   },
   {
    "duration": 516,
    "start_time": "2021-07-07T18:14:00.826Z"
   },
   {
    "duration": 230,
    "start_time": "2021-07-07T18:14:01.344Z"
   },
   {
    "duration": 105,
    "start_time": "2021-07-07T18:14:01.576Z"
   },
   {
    "duration": 5,
    "start_time": "2021-07-07T18:14:01.683Z"
   },
   {
    "duration": 46,
    "start_time": "2021-07-07T18:14:01.690Z"
   },
   {
    "duration": 7,
    "start_time": "2021-07-07T18:14:01.738Z"
   },
   {
    "duration": 20,
    "start_time": "2021-07-07T18:14:01.747Z"
   },
   {
    "duration": 16,
    "start_time": "2021-07-07T18:14:01.769Z"
   },
   {
    "duration": 14,
    "start_time": "2021-07-07T18:14:01.787Z"
   },
   {
    "duration": 15,
    "start_time": "2021-07-07T18:14:01.803Z"
   },
   {
    "duration": 12,
    "start_time": "2021-07-07T18:14:01.820Z"
   },
   {
    "duration": 35,
    "start_time": "2021-07-07T18:14:01.833Z"
   },
   {
    "duration": 31,
    "start_time": "2021-07-07T18:14:01.869Z"
   },
   {
    "duration": 37,
    "start_time": "2021-07-07T18:14:01.902Z"
   },
   {
    "duration": 8,
    "start_time": "2021-07-07T18:14:01.942Z"
   },
   {
    "duration": 16,
    "start_time": "2021-07-07T18:14:01.952Z"
   },
   {
    "duration": 13,
    "start_time": "2021-07-07T18:14:01.970Z"
   },
   {
    "duration": 32,
    "start_time": "2021-07-07T18:14:01.985Z"
   },
   {
    "duration": 11,
    "start_time": "2021-07-07T18:14:02.019Z"
   },
   {
    "duration": 22,
    "start_time": "2021-07-07T18:14:02.031Z"
   },
   {
    "duration": 27,
    "start_time": "2021-07-07T18:14:02.055Z"
   },
   {
    "duration": 18,
    "start_time": "2021-07-07T18:14:02.084Z"
   },
   {
    "duration": 18,
    "start_time": "2021-07-07T18:14:02.106Z"
   },
   {
    "duration": 11,
    "start_time": "2021-07-07T18:14:02.126Z"
   },
   {
    "duration": 21,
    "start_time": "2021-07-07T18:14:02.138Z"
   },
   {
    "duration": 32,
    "start_time": "2021-07-07T18:14:02.161Z"
   },
   {
    "duration": 28,
    "start_time": "2021-07-07T18:14:44.295Z"
   },
   {
    "duration": 6,
    "start_time": "2021-07-07T18:15:05.834Z"
   },
   {
    "duration": 511,
    "start_time": "2021-07-07T18:15:41.541Z"
   },
   {
    "duration": 183,
    "start_time": "2021-07-07T18:15:42.054Z"
   },
   {
    "duration": 50,
    "start_time": "2021-07-07T18:15:42.239Z"
   },
   {
    "duration": 5,
    "start_time": "2021-07-07T18:15:42.291Z"
   },
   {
    "duration": 48,
    "start_time": "2021-07-07T18:15:42.297Z"
   },
   {
    "duration": 8,
    "start_time": "2021-07-07T18:15:42.346Z"
   },
   {
    "duration": 17,
    "start_time": "2021-07-07T18:15:42.356Z"
   },
   {
    "duration": 15,
    "start_time": "2021-07-07T18:15:42.375Z"
   },
   {
    "duration": 12,
    "start_time": "2021-07-07T18:15:42.392Z"
   },
   {
    "duration": 7,
    "start_time": "2021-07-07T18:15:42.406Z"
   },
   {
    "duration": 7,
    "start_time": "2021-07-07T18:15:42.415Z"
   },
   {
    "duration": 29,
    "start_time": "2021-07-07T18:15:42.423Z"
   },
   {
    "duration": 43,
    "start_time": "2021-07-07T18:15:42.453Z"
   },
   {
    "duration": 18,
    "start_time": "2021-07-07T18:15:42.497Z"
   },
   {
    "duration": 6,
    "start_time": "2021-07-07T18:15:42.516Z"
   },
   {
    "duration": 3,
    "start_time": "2021-07-07T18:15:42.523Z"
   },
   {
    "duration": 18,
    "start_time": "2021-07-07T18:15:42.528Z"
   },
   {
    "duration": 10,
    "start_time": "2021-07-07T18:15:42.547Z"
   },
   {
    "duration": 36,
    "start_time": "2021-07-07T18:15:42.559Z"
   },
   {
    "duration": 8,
    "start_time": "2021-07-07T18:15:42.597Z"
   },
   {
    "duration": 28,
    "start_time": "2021-07-07T18:15:42.606Z"
   },
   {
    "duration": 52,
    "start_time": "2021-07-07T18:15:42.635Z"
   },
   {
    "duration": 7,
    "start_time": "2021-07-07T18:15:42.690Z"
   },
   {
    "duration": 10,
    "start_time": "2021-07-07T18:15:42.699Z"
   },
   {
    "duration": 19,
    "start_time": "2021-07-07T18:15:42.711Z"
   },
   {
    "duration": 9,
    "start_time": "2021-07-07T18:15:42.732Z"
   },
   {
    "duration": 5,
    "start_time": "2021-07-07T18:15:42.743Z"
   },
   {
    "duration": 1450,
    "start_time": "2021-07-07T18:15:51.984Z"
   },
   {
    "duration": 161,
    "start_time": "2021-07-07T18:15:53.435Z"
   },
   {
    "duration": 124,
    "start_time": "2021-07-07T18:15:53.598Z"
   },
   {
    "duration": 5,
    "start_time": "2021-07-07T18:15:53.724Z"
   },
   {
    "duration": 34,
    "start_time": "2021-07-07T18:15:53.730Z"
   },
   {
    "duration": 7,
    "start_time": "2021-07-07T18:15:53.765Z"
   },
   {
    "duration": 15,
    "start_time": "2021-07-07T18:15:53.773Z"
   },
   {
    "duration": 5,
    "start_time": "2021-07-07T18:15:53.791Z"
   },
   {
    "duration": 19,
    "start_time": "2021-07-07T18:15:53.798Z"
   },
   {
    "duration": 9,
    "start_time": "2021-07-07T18:15:53.818Z"
   },
   {
    "duration": 19,
    "start_time": "2021-07-07T18:15:53.828Z"
   },
   {
    "duration": 27,
    "start_time": "2021-07-07T18:15:53.848Z"
   },
   {
    "duration": 16,
    "start_time": "2021-07-07T18:15:53.884Z"
   },
   {
    "duration": 29,
    "start_time": "2021-07-07T18:15:53.901Z"
   },
   {
    "duration": 5,
    "start_time": "2021-07-07T18:15:53.932Z"
   },
   {
    "duration": 15,
    "start_time": "2021-07-07T18:15:53.939Z"
   },
   {
    "duration": 13,
    "start_time": "2021-07-07T18:15:53.956Z"
   },
   {
    "duration": 20,
    "start_time": "2021-07-07T18:15:53.971Z"
   },
   {
    "duration": 14,
    "start_time": "2021-07-07T18:15:53.992Z"
   },
   {
    "duration": 9,
    "start_time": "2021-07-07T18:15:54.009Z"
   },
   {
    "duration": 28,
    "start_time": "2021-07-07T18:15:54.020Z"
   },
   {
    "duration": 50,
    "start_time": "2021-07-07T18:15:54.051Z"
   },
   {
    "duration": 8,
    "start_time": "2021-07-07T18:15:54.105Z"
   },
   {
    "duration": 11,
    "start_time": "2021-07-07T18:15:54.115Z"
   },
   {
    "duration": 20,
    "start_time": "2021-07-07T18:15:54.128Z"
   },
   {
    "duration": 13,
    "start_time": "2021-07-07T18:15:54.184Z"
   },
   {
    "duration": 7,
    "start_time": "2021-07-07T18:15:54.199Z"
   },
   {
    "duration": 7,
    "start_time": "2021-07-07T18:17:08.042Z"
   },
   {
    "duration": 8,
    "start_time": "2021-07-07T18:17:21.008Z"
   },
   {
    "duration": 7,
    "start_time": "2021-07-07T18:17:29.003Z"
   },
   {
    "duration": 8,
    "start_time": "2021-07-07T18:17:32.492Z"
   },
   {
    "duration": 9,
    "start_time": "2021-07-07T18:17:41.758Z"
   },
   {
    "duration": 255,
    "start_time": "2021-07-07T18:20:20.897Z"
   },
   {
    "duration": 173,
    "start_time": "2021-07-07T18:20:26.636Z"
   },
   {
    "duration": 7,
    "start_time": "2021-07-07T18:21:47.164Z"
   },
   {
    "duration": 254,
    "start_time": "2021-07-07T18:23:08.703Z"
   },
   {
    "duration": 21,
    "start_time": "2021-07-07T18:23:22.506Z"
   },
   {
    "duration": 315,
    "start_time": "2021-07-07T18:25:54.801Z"
   },
   {
    "duration": 34,
    "start_time": "2021-07-07T18:26:51.817Z"
   },
   {
    "duration": 327,
    "start_time": "2021-07-07T18:26:56.147Z"
   },
   {
    "duration": 342,
    "start_time": "2021-07-07T18:27:15.887Z"
   },
   {
    "duration": 302,
    "start_time": "2021-07-07T18:28:18.569Z"
   },
   {
    "duration": 226,
    "start_time": "2021-07-07T18:29:20.879Z"
   },
   {
    "duration": 207,
    "start_time": "2021-07-07T18:29:58.114Z"
   },
   {
    "duration": 140,
    "start_time": "2021-07-07T18:32:04.372Z"
   },
   {
    "duration": 158,
    "start_time": "2021-07-07T18:32:32.508Z"
   },
   {
    "duration": 145,
    "start_time": "2021-07-07T18:32:41.365Z"
   },
   {
    "duration": 132,
    "start_time": "2021-07-07T18:32:45.199Z"
   },
   {
    "duration": 11,
    "start_time": "2021-07-07T18:35:24.679Z"
   },
   {
    "duration": 268,
    "start_time": "2021-07-07T18:36:16.145Z"
   },
   {
    "duration": 227,
    "start_time": "2021-07-07T18:37:04.918Z"
   },
   {
    "duration": 3,
    "start_time": "2021-07-07T18:37:33.012Z"
   },
   {
    "duration": 671,
    "start_time": "2021-07-07T18:37:38.295Z"
   },
   {
    "duration": 54,
    "start_time": "2021-07-07T18:37:53.406Z"
   },
   {
    "duration": 631,
    "start_time": "2021-07-07T18:37:56.463Z"
   },
   {
    "duration": 19,
    "start_time": "2021-07-07T18:39:40.535Z"
   },
   {
    "duration": 20,
    "start_time": "2021-07-07T18:40:12.236Z"
   },
   {
    "duration": 633,
    "start_time": "2021-07-07T18:42:00.398Z"
   },
   {
    "duration": 218,
    "start_time": "2021-07-07T18:42:01.033Z"
   },
   {
    "duration": 49,
    "start_time": "2021-07-07T18:42:01.253Z"
   },
   {
    "duration": 5,
    "start_time": "2021-07-07T18:42:01.303Z"
   },
   {
    "duration": 27,
    "start_time": "2021-07-07T18:42:01.310Z"
   },
   {
    "duration": 8,
    "start_time": "2021-07-07T18:42:01.339Z"
   },
   {
    "duration": 20,
    "start_time": "2021-07-07T18:42:01.348Z"
   },
   {
    "duration": 6,
    "start_time": "2021-07-07T18:42:01.386Z"
   },
   {
    "duration": 16,
    "start_time": "2021-07-07T18:42:01.394Z"
   },
   {
    "duration": 9,
    "start_time": "2021-07-07T18:42:01.411Z"
   },
   {
    "duration": 11,
    "start_time": "2021-07-07T18:42:01.421Z"
   },
   {
    "duration": 31,
    "start_time": "2021-07-07T18:42:01.434Z"
   },
   {
    "duration": 18,
    "start_time": "2021-07-07T18:42:01.485Z"
   },
   {
    "duration": 23,
    "start_time": "2021-07-07T18:42:01.505Z"
   },
   {
    "duration": 6,
    "start_time": "2021-07-07T18:42:01.530Z"
   },
   {
    "duration": 10,
    "start_time": "2021-07-07T18:42:01.538Z"
   },
   {
    "duration": 13,
    "start_time": "2021-07-07T18:42:01.550Z"
   },
   {
    "duration": 24,
    "start_time": "2021-07-07T18:42:01.564Z"
   },
   {
    "duration": 20,
    "start_time": "2021-07-07T18:42:01.590Z"
   },
   {
    "duration": 8,
    "start_time": "2021-07-07T18:42:01.611Z"
   },
   {
    "duration": 31,
    "start_time": "2021-07-07T18:42:01.620Z"
   },
   {
    "duration": 39,
    "start_time": "2021-07-07T18:42:01.653Z"
   },
   {
    "duration": 8,
    "start_time": "2021-07-07T18:42:01.696Z"
   },
   {
    "duration": 13,
    "start_time": "2021-07-07T18:42:01.705Z"
   },
   {
    "duration": 20,
    "start_time": "2021-07-07T18:42:01.720Z"
   },
   {
    "duration": 12,
    "start_time": "2021-07-07T18:42:01.741Z"
   },
   {
    "duration": 35,
    "start_time": "2021-07-07T18:42:01.755Z"
   },
   {
    "duration": 14,
    "start_time": "2021-07-07T18:42:01.792Z"
   },
   {
    "duration": 188,
    "start_time": "2021-07-07T18:42:01.808Z"
   },
   {
    "duration": 19,
    "start_time": "2021-07-07T18:42:01.998Z"
   },
   {
    "duration": 175,
    "start_time": "2021-07-07T18:42:02.019Z"
   },
   {
    "duration": 134,
    "start_time": "2021-07-07T18:42:02.196Z"
   },
   {
    "duration": 10,
    "start_time": "2021-07-07T18:42:02.331Z"
   },
   {
    "duration": 19,
    "start_time": "2021-07-07T18:42:02.343Z"
   },
   {
    "duration": 628,
    "start_time": "2021-07-07T18:46:30.701Z"
   },
   {
    "duration": 183,
    "start_time": "2021-07-07T18:46:31.331Z"
   },
   {
    "duration": 48,
    "start_time": "2021-07-07T18:46:31.516Z"
   },
   {
    "duration": 5,
    "start_time": "2021-07-07T18:46:31.566Z"
   },
   {
    "duration": 28,
    "start_time": "2021-07-07T18:46:31.572Z"
   },
   {
    "duration": 8,
    "start_time": "2021-07-07T18:46:31.602Z"
   },
   {
    "duration": 19,
    "start_time": "2021-07-07T18:46:31.611Z"
   },
   {
    "duration": 6,
    "start_time": "2021-07-07T18:46:31.633Z"
   },
   {
    "duration": 17,
    "start_time": "2021-07-07T18:46:31.642Z"
   },
   {
    "duration": 10,
    "start_time": "2021-07-07T18:46:31.684Z"
   },
   {
    "duration": 9,
    "start_time": "2021-07-07T18:46:31.695Z"
   },
   {
    "duration": 28,
    "start_time": "2021-07-07T18:46:31.705Z"
   },
   {
    "duration": 18,
    "start_time": "2021-07-07T18:46:31.735Z"
   },
   {
    "duration": 48,
    "start_time": "2021-07-07T18:46:31.755Z"
   },
   {
    "duration": 6,
    "start_time": "2021-07-07T18:46:31.804Z"
   },
   {
    "duration": 4,
    "start_time": "2021-07-07T18:46:31.812Z"
   },
   {
    "duration": 9,
    "start_time": "2021-07-07T18:46:31.817Z"
   },
   {
    "duration": 10,
    "start_time": "2021-07-07T18:46:31.827Z"
   },
   {
    "duration": 12,
    "start_time": "2021-07-07T18:46:31.838Z"
   },
   {
    "duration": 39,
    "start_time": "2021-07-07T18:46:31.851Z"
   },
   {
    "duration": 24,
    "start_time": "2021-07-07T18:46:31.892Z"
   },
   {
    "duration": 15,
    "start_time": "2021-07-07T18:46:31.918Z"
   },
   {
    "duration": 7,
    "start_time": "2021-07-07T18:46:31.936Z"
   },
   {
    "duration": 8,
    "start_time": "2021-07-07T18:46:31.944Z"
   },
   {
    "duration": 19,
    "start_time": "2021-07-07T18:46:31.984Z"
   },
   {
    "duration": 10,
    "start_time": "2021-07-07T18:46:32.004Z"
   },
   {
    "duration": 5,
    "start_time": "2021-07-07T18:46:32.016Z"
   },
   {
    "duration": 9,
    "start_time": "2021-07-07T18:46:32.023Z"
   },
   {
    "duration": 199,
    "start_time": "2021-07-07T18:46:32.033Z"
   },
   {
    "duration": 19,
    "start_time": "2021-07-07T18:46:32.234Z"
   },
   {
    "duration": 159,
    "start_time": "2021-07-07T18:46:32.255Z"
   },
   {
    "duration": 134,
    "start_time": "2021-07-07T18:46:32.416Z"
   },
   {
    "duration": 10,
    "start_time": "2021-07-07T18:46:32.552Z"
   },
   {
    "duration": 34,
    "start_time": "2021-07-07T18:46:32.563Z"
   },
   {
    "duration": 1039,
    "start_time": "2021-07-08T08:41:09.419Z"
   },
   {
    "duration": 333,
    "start_time": "2021-07-08T08:41:10.459Z"
   },
   {
    "duration": 173,
    "start_time": "2021-07-08T08:41:10.794Z"
   },
   {
    "duration": 5,
    "start_time": "2021-07-08T08:41:10.968Z"
   },
   {
    "duration": 25,
    "start_time": "2021-07-08T08:41:10.975Z"
   },
   {
    "duration": 9,
    "start_time": "2021-07-08T08:41:11.002Z"
   },
   {
    "duration": 18,
    "start_time": "2021-07-08T08:41:11.013Z"
   },
   {
    "duration": 6,
    "start_time": "2021-07-08T08:41:11.033Z"
   },
   {
    "duration": 44,
    "start_time": "2021-07-08T08:41:11.042Z"
   },
   {
    "duration": 10,
    "start_time": "2021-07-08T08:41:11.088Z"
   },
   {
    "duration": 9,
    "start_time": "2021-07-08T08:41:11.100Z"
   },
   {
    "duration": 27,
    "start_time": "2021-07-08T08:41:11.111Z"
   },
   {
    "duration": 46,
    "start_time": "2021-07-08T08:41:11.140Z"
   },
   {
    "duration": 17,
    "start_time": "2021-07-08T08:41:11.187Z"
   },
   {
    "duration": 6,
    "start_time": "2021-07-08T08:41:11.206Z"
   },
   {
    "duration": 5,
    "start_time": "2021-07-08T08:41:11.213Z"
   },
   {
    "duration": 10,
    "start_time": "2021-07-08T08:41:11.219Z"
   },
   {
    "duration": 9,
    "start_time": "2021-07-08T08:41:11.230Z"
   },
   {
    "duration": 45,
    "start_time": "2021-07-08T08:41:11.241Z"
   },
   {
    "duration": 7,
    "start_time": "2021-07-08T08:41:11.287Z"
   },
   {
    "duration": 24,
    "start_time": "2021-07-08T08:41:11.296Z"
   },
   {
    "duration": 16,
    "start_time": "2021-07-08T08:41:11.322Z"
   },
   {
    "duration": 7,
    "start_time": "2021-07-08T08:41:11.341Z"
   },
   {
    "duration": 41,
    "start_time": "2021-07-08T08:41:11.349Z"
   },
   {
    "duration": 17,
    "start_time": "2021-07-08T08:41:11.391Z"
   },
   {
    "duration": 9,
    "start_time": "2021-07-08T08:41:11.410Z"
   },
   {
    "duration": 5,
    "start_time": "2021-07-08T08:41:11.421Z"
   },
   {
    "duration": 6,
    "start_time": "2021-07-08T08:41:11.428Z"
   },
   {
    "duration": 198,
    "start_time": "2021-07-08T08:41:11.435Z"
   },
   {
    "duration": 18,
    "start_time": "2021-07-08T08:41:11.635Z"
   },
   {
    "duration": 155,
    "start_time": "2021-07-08T08:41:11.655Z"
   },
   {
    "duration": 138,
    "start_time": "2021-07-08T08:41:11.811Z"
   },
   {
    "duration": 10,
    "start_time": "2021-07-08T08:41:11.950Z"
   },
   {
    "duration": 29,
    "start_time": "2021-07-08T08:41:11.961Z"
   },
   {
    "duration": 171,
    "start_time": "2021-07-08T08:47:44.522Z"
   },
   {
    "duration": 124,
    "start_time": "2021-07-08T08:47:46.872Z"
   },
   {
    "duration": 191,
    "start_time": "2021-07-08T08:47:58.148Z"
   },
   {
    "duration": 191,
    "start_time": "2021-07-08T08:48:07.412Z"
   },
   {
    "duration": 261,
    "start_time": "2021-07-08T08:48:10.385Z"
   },
   {
    "duration": 255,
    "start_time": "2021-07-08T08:48:14.494Z"
   },
   {
    "duration": 219,
    "start_time": "2021-07-08T08:48:22.752Z"
   },
   {
    "duration": 173,
    "start_time": "2021-07-08T08:49:06.395Z"
   },
   {
    "duration": 180,
    "start_time": "2021-07-08T08:49:21.011Z"
   },
   {
    "duration": 6,
    "start_time": "2021-07-08T08:50:31.697Z"
   },
   {
    "duration": 10,
    "start_time": "2021-07-08T08:50:47.394Z"
   },
   {
    "duration": 11,
    "start_time": "2021-07-08T08:53:49.332Z"
   },
   {
    "duration": 171,
    "start_time": "2021-07-08T08:54:28.408Z"
   },
   {
    "duration": 636,
    "start_time": "2021-07-08T09:02:48.385Z"
   },
   {
    "duration": 227,
    "start_time": "2021-07-08T09:02:49.023Z"
   },
   {
    "duration": 104,
    "start_time": "2021-07-08T09:02:49.252Z"
   },
   {
    "duration": 5,
    "start_time": "2021-07-08T09:02:49.358Z"
   },
   {
    "duration": 27,
    "start_time": "2021-07-08T09:02:49.365Z"
   },
   {
    "duration": 8,
    "start_time": "2021-07-08T09:02:49.394Z"
   },
   {
    "duration": 18,
    "start_time": "2021-07-08T09:02:49.404Z"
   },
   {
    "duration": 6,
    "start_time": "2021-07-08T09:02:49.424Z"
   },
   {
    "duration": 11,
    "start_time": "2021-07-08T09:02:49.433Z"
   },
   {
    "duration": 13,
    "start_time": "2021-07-08T09:02:49.485Z"
   },
   {
    "duration": 9,
    "start_time": "2021-07-08T09:02:49.500Z"
   },
   {
    "duration": 38,
    "start_time": "2021-07-08T09:02:49.511Z"
   },
   {
    "duration": 42,
    "start_time": "2021-07-08T09:02:49.551Z"
   },
   {
    "duration": 21,
    "start_time": "2021-07-08T09:02:49.594Z"
   },
   {
    "duration": 6,
    "start_time": "2021-07-08T09:02:49.616Z"
   },
   {
    "duration": 3,
    "start_time": "2021-07-08T09:02:49.623Z"
   },
   {
    "duration": 9,
    "start_time": "2021-07-08T09:02:49.628Z"
   },
   {
    "duration": 52,
    "start_time": "2021-07-08T09:02:49.638Z"
   },
   {
    "duration": 11,
    "start_time": "2021-07-08T09:02:49.692Z"
   },
   {
    "duration": 8,
    "start_time": "2021-07-08T09:02:49.704Z"
   },
   {
    "duration": 27,
    "start_time": "2021-07-08T09:02:49.713Z"
   },
   {
    "duration": 59,
    "start_time": "2021-07-08T09:02:49.741Z"
   },
   {
    "duration": 8,
    "start_time": "2021-07-08T09:02:49.803Z"
   },
   {
    "duration": 14,
    "start_time": "2021-07-08T09:02:49.813Z"
   },
   {
    "duration": 20,
    "start_time": "2021-07-08T09:02:49.829Z"
   },
   {
    "duration": 44,
    "start_time": "2021-07-08T09:02:49.851Z"
   },
   {
    "duration": 14,
    "start_time": "2021-07-08T09:02:49.896Z"
   },
   {
    "duration": 221,
    "start_time": "2021-07-08T09:02:49.912Z"
   },
   {
    "duration": 6,
    "start_time": "2021-07-08T09:02:50.134Z"
   },
   {
    "duration": 206,
    "start_time": "2021-07-08T09:02:50.142Z"
   },
   {
    "duration": 19,
    "start_time": "2021-07-08T09:02:50.350Z"
   },
   {
    "duration": 21,
    "start_time": "2021-07-08T09:02:50.370Z"
   },
   {
    "duration": 20,
    "start_time": "2021-07-08T09:02:50.393Z"
   },
   {
    "duration": 5,
    "start_time": "2021-07-08T09:02:50.414Z"
   },
   {
    "duration": 5,
    "start_time": "2021-07-08T09:03:34.173Z"
   },
   {
    "duration": 6,
    "start_time": "2021-07-08T09:04:49.062Z"
   },
   {
    "duration": 9,
    "start_time": "2021-07-08T09:04:50.118Z"
   },
   {
    "duration": 14,
    "start_time": "2021-07-08T09:04:58.512Z"
   },
   {
    "duration": 9,
    "start_time": "2021-07-08T09:05:10.988Z"
   },
   {
    "duration": 11,
    "start_time": "2021-07-08T09:05:11.743Z"
   },
   {
    "duration": 7,
    "start_time": "2021-07-08T09:05:25.677Z"
   },
   {
    "duration": 13,
    "start_time": "2021-07-08T09:05:47.189Z"
   },
   {
    "duration": 13,
    "start_time": "2021-07-08T09:05:54.755Z"
   },
   {
    "duration": 4,
    "start_time": "2021-07-08T09:06:29.189Z"
   },
   {
    "duration": 244,
    "start_time": "2021-07-08T09:06:29.195Z"
   },
   {
    "duration": 91,
    "start_time": "2021-07-08T09:06:29.441Z"
   },
   {
    "duration": 4,
    "start_time": "2021-07-08T09:06:29.534Z"
   },
   {
    "duration": 28,
    "start_time": "2021-07-08T09:06:29.540Z"
   },
   {
    "duration": 6,
    "start_time": "2021-07-08T09:06:29.570Z"
   },
   {
    "duration": 18,
    "start_time": "2021-07-08T09:06:29.578Z"
   },
   {
    "duration": 5,
    "start_time": "2021-07-08T09:06:29.597Z"
   },
   {
    "duration": 13,
    "start_time": "2021-07-08T09:06:29.605Z"
   },
   {
    "duration": 8,
    "start_time": "2021-07-08T09:06:29.620Z"
   },
   {
    "duration": 7,
    "start_time": "2021-07-08T09:06:29.630Z"
   },
   {
    "duration": 63,
    "start_time": "2021-07-08T09:06:29.639Z"
   },
   {
    "duration": 17,
    "start_time": "2021-07-08T09:06:29.704Z"
   },
   {
    "duration": 20,
    "start_time": "2021-07-08T09:06:29.723Z"
   },
   {
    "duration": 6,
    "start_time": "2021-07-08T09:06:29.745Z"
   },
   {
    "duration": 3,
    "start_time": "2021-07-08T09:06:29.752Z"
   },
   {
    "duration": 7,
    "start_time": "2021-07-08T09:06:29.785Z"
   },
   {
    "duration": 11,
    "start_time": "2021-07-08T09:06:29.794Z"
   },
   {
    "duration": 15,
    "start_time": "2021-07-08T09:06:29.807Z"
   },
   {
    "duration": 8,
    "start_time": "2021-07-08T09:06:29.823Z"
   },
   {
    "duration": 70,
    "start_time": "2021-07-08T09:06:29.832Z"
   },
   {
    "duration": 17,
    "start_time": "2021-07-08T09:06:29.903Z"
   },
   {
    "duration": 9,
    "start_time": "2021-07-08T09:06:29.921Z"
   },
   {
    "duration": 9,
    "start_time": "2021-07-08T09:06:29.932Z"
   },
   {
    "duration": 57,
    "start_time": "2021-07-08T09:06:29.942Z"
   },
   {
    "duration": 11,
    "start_time": "2021-07-08T09:06:30.001Z"
   },
   {
    "duration": 19,
    "start_time": "2021-07-08T09:06:30.016Z"
   },
   {
    "duration": 217,
    "start_time": "2021-07-08T09:06:30.037Z"
   },
   {
    "duration": 6,
    "start_time": "2021-07-08T09:06:30.255Z"
   },
   {
    "duration": 205,
    "start_time": "2021-07-08T09:06:30.263Z"
   },
   {
    "duration": 27,
    "start_time": "2021-07-08T09:06:30.470Z"
   },
   {
    "duration": 11,
    "start_time": "2021-07-08T09:06:30.500Z"
   },
   {
    "duration": 31,
    "start_time": "2021-07-08T09:06:30.513Z"
   },
   {
    "duration": 18,
    "start_time": "2021-07-08T09:06:30.546Z"
   },
   {
    "duration": 11,
    "start_time": "2021-07-08T09:06:30.566Z"
   },
   {
    "duration": 19,
    "start_time": "2021-07-08T09:06:30.579Z"
   },
   {
    "duration": 20,
    "start_time": "2021-07-08T09:06:49.466Z"
   },
   {
    "duration": 9,
    "start_time": "2021-07-08T09:06:51.994Z"
   },
   {
    "duration": 20,
    "start_time": "2021-07-08T09:06:52.273Z"
   },
   {
    "duration": 246,
    "start_time": "2021-07-08T09:10:21.272Z"
   },
   {
    "duration": 84,
    "start_time": "2021-07-08T09:10:21.436Z"
   },
   {
    "duration": 7,
    "start_time": "2021-07-08T09:10:37.608Z"
   },
   {
    "duration": 189,
    "start_time": "2021-07-08T09:10:38.573Z"
   },
   {
    "duration": 185,
    "start_time": "2021-07-08T09:10:53.181Z"
   },
   {
    "duration": 11,
    "start_time": "2021-07-08T09:10:59.549Z"
   },
   {
    "duration": 42,
    "start_time": "2021-07-08T09:10:59.709Z"
   },
   {
    "duration": 12,
    "start_time": "2021-07-08T09:11:02.857Z"
   },
   {
    "duration": 28,
    "start_time": "2021-07-08T09:11:10.062Z"
   },
   {
    "duration": 249,
    "start_time": "2021-07-08T09:11:37.388Z"
   },
   {
    "duration": 232,
    "start_time": "2021-07-08T09:11:49.485Z"
   },
   {
    "duration": 453,
    "start_time": "2021-07-08T09:12:01.546Z"
   },
   {
    "duration": 440,
    "start_time": "2021-07-08T09:12:12.347Z"
   },
   {
    "duration": 213,
    "start_time": "2021-07-08T09:13:32.196Z"
   },
   {
    "duration": 172,
    "start_time": "2021-07-08T09:14:07.400Z"
   },
   {
    "duration": 185,
    "start_time": "2021-07-08T09:14:14.905Z"
   },
   {
    "duration": 209,
    "start_time": "2021-07-08T09:14:40.109Z"
   },
   {
    "duration": 201,
    "start_time": "2021-07-08T09:14:54.506Z"
   },
   {
    "duration": 622,
    "start_time": "2021-07-08T09:18:14.497Z"
   },
   {
    "duration": 220,
    "start_time": "2021-07-08T09:18:15.121Z"
   },
   {
    "duration": 79,
    "start_time": "2021-07-08T09:18:15.343Z"
   },
   {
    "duration": 4,
    "start_time": "2021-07-08T09:18:15.425Z"
   },
   {
    "duration": 24,
    "start_time": "2021-07-08T09:18:15.431Z"
   },
   {
    "duration": 8,
    "start_time": "2021-07-08T09:18:15.457Z"
   },
   {
    "duration": 16,
    "start_time": "2021-07-08T09:18:15.466Z"
   },
   {
    "duration": 5,
    "start_time": "2021-07-08T09:18:15.484Z"
   },
   {
    "duration": 10,
    "start_time": "2021-07-08T09:18:15.493Z"
   },
   {
    "duration": 8,
    "start_time": "2021-07-08T09:18:15.504Z"
   },
   {
    "duration": 7,
    "start_time": "2021-07-08T09:18:15.513Z"
   },
   {
    "duration": 26,
    "start_time": "2021-07-08T09:18:15.522Z"
   },
   {
    "duration": 49,
    "start_time": "2021-07-08T09:18:15.550Z"
   },
   {
    "duration": 21,
    "start_time": "2021-07-08T09:18:15.601Z"
   },
   {
    "duration": 8,
    "start_time": "2021-07-08T09:18:15.624Z"
   },
   {
    "duration": 3,
    "start_time": "2021-07-08T09:18:15.634Z"
   },
   {
    "duration": 8,
    "start_time": "2021-07-08T09:18:15.639Z"
   },
   {
    "duration": 45,
    "start_time": "2021-07-08T09:18:15.649Z"
   },
   {
    "duration": 13,
    "start_time": "2021-07-08T09:18:15.696Z"
   },
   {
    "duration": 10,
    "start_time": "2021-07-08T09:18:15.711Z"
   },
   {
    "duration": 64,
    "start_time": "2021-07-08T09:18:15.722Z"
   },
   {
    "duration": 19,
    "start_time": "2021-07-08T09:18:15.788Z"
   },
   {
    "duration": 9,
    "start_time": "2021-07-08T09:18:15.809Z"
   },
   {
    "duration": 9,
    "start_time": "2021-07-08T09:18:15.820Z"
   },
   {
    "duration": 18,
    "start_time": "2021-07-08T09:18:15.831Z"
   },
   {
    "duration": 43,
    "start_time": "2021-07-08T09:18:15.851Z"
   },
   {
    "duration": 12,
    "start_time": "2021-07-08T09:18:15.897Z"
   },
   {
    "duration": 219,
    "start_time": "2021-07-08T09:18:15.911Z"
   },
   {
    "duration": 8,
    "start_time": "2021-07-08T09:18:16.132Z"
   },
   {
    "duration": 199,
    "start_time": "2021-07-08T09:18:16.141Z"
   },
   {
    "duration": 18,
    "start_time": "2021-07-08T09:18:16.341Z"
   },
   {
    "duration": 24,
    "start_time": "2021-07-08T09:18:16.361Z"
   },
   {
    "duration": 24,
    "start_time": "2021-07-08T09:18:16.387Z"
   },
   {
    "duration": 211,
    "start_time": "2021-07-08T09:18:16.413Z"
   },
   {
    "duration": 18,
    "start_time": "2021-07-08T09:18:16.626Z"
   },
   {
    "duration": 596,
    "start_time": "2021-07-08T10:06:33.623Z"
   },
   {
    "duration": 181,
    "start_time": "2021-07-08T10:06:34.221Z"
   },
   {
    "duration": 176,
    "start_time": "2021-07-08T10:06:34.635Z"
   },
   {
    "duration": 239,
    "start_time": "2021-07-08T10:06:55.572Z"
   },
   {
    "duration": 6,
    "start_time": "2021-07-08T10:06:57.687Z"
   },
   {
    "duration": 4,
    "start_time": "2021-07-08T10:07:03.956Z"
   },
   {
    "duration": 4,
    "start_time": "2021-07-08T10:07:10.376Z"
   },
   {
    "duration": 4,
    "start_time": "2021-07-08T10:17:19.889Z"
   },
   {
    "duration": 3,
    "start_time": "2021-07-08T10:19:19.407Z"
   },
   {
    "duration": 197,
    "start_time": "2021-07-08T10:19:19.412Z"
   },
   {
    "duration": 127,
    "start_time": "2021-07-08T10:19:19.611Z"
   },
   {
    "duration": 4,
    "start_time": "2021-07-08T10:19:19.740Z"
   },
   {
    "duration": 27,
    "start_time": "2021-07-08T10:19:19.746Z"
   },
   {
    "duration": 7,
    "start_time": "2021-07-08T10:19:19.775Z"
   },
   {
    "duration": 30,
    "start_time": "2021-07-08T10:19:19.784Z"
   },
   {
    "duration": 7,
    "start_time": "2021-07-08T10:19:19.817Z"
   },
   {
    "duration": 26,
    "start_time": "2021-07-08T10:19:19.826Z"
   },
   {
    "duration": 18,
    "start_time": "2021-07-08T10:19:19.854Z"
   },
   {
    "duration": 14,
    "start_time": "2021-07-08T10:19:19.874Z"
   },
   {
    "duration": 48,
    "start_time": "2021-07-08T10:19:19.890Z"
   },
   {
    "duration": 17,
    "start_time": "2021-07-08T10:19:19.940Z"
   },
   {
    "duration": 38,
    "start_time": "2021-07-08T10:19:19.959Z"
   },
   {
    "duration": 8,
    "start_time": "2021-07-08T10:19:19.999Z"
   },
   {
    "duration": 15,
    "start_time": "2021-07-08T10:19:20.009Z"
   },
   {
    "duration": 22,
    "start_time": "2021-07-08T10:19:20.026Z"
   },
   {
    "duration": 10,
    "start_time": "2021-07-08T10:19:20.050Z"
   },
   {
    "duration": 10,
    "start_time": "2021-07-08T10:19:20.062Z"
   },
   {
    "duration": 20,
    "start_time": "2021-07-08T10:19:20.073Z"
   },
   {
    "duration": 29,
    "start_time": "2021-07-08T10:19:20.095Z"
   },
   {
    "duration": 17,
    "start_time": "2021-07-08T10:19:20.126Z"
   },
   {
    "duration": 40,
    "start_time": "2021-07-08T10:19:20.146Z"
   },
   {
    "duration": 15,
    "start_time": "2021-07-08T10:19:20.189Z"
   },
   {
    "duration": 19,
    "start_time": "2021-07-08T10:19:20.206Z"
   },
   {
    "duration": 10,
    "start_time": "2021-07-08T10:19:20.226Z"
   },
   {
    "duration": 11,
    "start_time": "2021-07-08T10:19:20.238Z"
   },
   {
    "duration": 297,
    "start_time": "2021-07-08T10:19:20.250Z"
   },
   {
    "duration": 6,
    "start_time": "2021-07-08T10:19:20.549Z"
   },
   {
    "duration": 191,
    "start_time": "2021-07-08T10:19:20.557Z"
   },
   {
    "duration": 19,
    "start_time": "2021-07-08T10:19:20.750Z"
   },
   {
    "duration": 20,
    "start_time": "2021-07-08T10:19:20.771Z"
   },
   {
    "duration": 15,
    "start_time": "2021-07-08T10:19:20.793Z"
   },
   {
    "duration": 222,
    "start_time": "2021-07-08T10:19:20.809Z"
   },
   {
    "duration": 20,
    "start_time": "2021-07-08T10:19:21.033Z"
   },
   {
    "duration": 27,
    "start_time": "2021-07-08T10:45:04.055Z"
   },
   {
    "duration": 8,
    "start_time": "2021-07-08T10:45:08.478Z"
   },
   {
    "duration": 8,
    "start_time": "2021-07-08T10:45:31.982Z"
   },
   {
    "duration": 10,
    "start_time": "2021-07-08T10:46:01.221Z"
   },
   {
    "duration": 17,
    "start_time": "2021-07-08T10:46:40.011Z"
   },
   {
    "duration": 193,
    "start_time": "2021-07-08T10:48:19.471Z"
   },
   {
    "duration": 225,
    "start_time": "2021-07-08T10:49:26.480Z"
   },
   {
    "duration": 204,
    "start_time": "2021-07-08T10:49:59.992Z"
   },
   {
    "duration": 435,
    "start_time": "2021-07-08T10:50:06.779Z"
   },
   {
    "duration": 199,
    "start_time": "2021-07-08T10:50:14.891Z"
   },
   {
    "duration": 204,
    "start_time": "2021-07-08T10:50:18.501Z"
   },
   {
    "duration": 244,
    "start_time": "2021-07-08T10:50:23.359Z"
   },
   {
    "duration": 192,
    "start_time": "2021-07-08T10:50:29.135Z"
   },
   {
    "duration": 218,
    "start_time": "2021-07-08T10:50:33.092Z"
   },
   {
    "duration": 207,
    "start_time": "2021-07-08T10:52:45.381Z"
   },
   {
    "duration": 5,
    "start_time": "2021-07-08T10:53:34.641Z"
   },
   {
    "duration": 196,
    "start_time": "2021-07-08T10:53:41.478Z"
   },
   {
    "duration": 43,
    "start_time": "2021-07-08T10:53:50.335Z"
   },
   {
    "duration": 32,
    "start_time": "2021-07-08T10:53:55.294Z"
   },
   {
    "duration": 55,
    "start_time": "2021-07-08T10:54:09.675Z"
   },
   {
    "duration": 16,
    "start_time": "2021-07-08T10:54:12.260Z"
   },
   {
    "duration": 15,
    "start_time": "2021-07-08T10:54:49.150Z"
   },
   {
    "duration": 20,
    "start_time": "2021-07-08T10:56:07.596Z"
   },
   {
    "duration": 16,
    "start_time": "2021-07-08T10:58:26.276Z"
   },
   {
    "duration": 22,
    "start_time": "2021-07-08T10:59:00.486Z"
   },
   {
    "duration": 18,
    "start_time": "2021-07-08T11:02:09.653Z"
   },
   {
    "duration": 10,
    "start_time": "2021-07-08T11:03:44.331Z"
   },
   {
    "duration": 10,
    "start_time": "2021-07-08T11:03:54.055Z"
   },
   {
    "duration": 12,
    "start_time": "2021-07-08T11:04:41.967Z"
   },
   {
    "duration": 24,
    "start_time": "2021-07-08T11:07:30.732Z"
   },
   {
    "duration": 6,
    "start_time": "2021-07-08T11:07:37.364Z"
   },
   {
    "duration": 16,
    "start_time": "2021-07-08T11:08:01.819Z"
   },
   {
    "duration": 17,
    "start_time": "2021-07-08T11:09:47.488Z"
   },
   {
    "duration": 246,
    "start_time": "2021-07-08T11:10:00.830Z"
   },
   {
    "duration": 18,
    "start_time": "2021-07-08T11:13:55.195Z"
   },
   {
    "duration": 204,
    "start_time": "2021-07-08T11:14:04.951Z"
   },
   {
    "duration": 19,
    "start_time": "2021-07-08T11:15:10.613Z"
   },
   {
    "duration": 680,
    "start_time": "2021-07-08T11:16:25.793Z"
   },
   {
    "duration": 451,
    "start_time": "2021-07-08T11:16:40.313Z"
   },
   {
    "duration": 469,
    "start_time": "2021-07-08T11:17:21.286Z"
   },
   {
    "duration": 20,
    "start_time": "2021-07-08T11:19:12.554Z"
   },
   {
    "duration": 35,
    "start_time": "2021-07-08T11:20:05.484Z"
   },
   {
    "duration": 53,
    "start_time": "2021-07-08T11:21:40.050Z"
   },
   {
    "duration": 13,
    "start_time": "2021-07-08T11:22:26.059Z"
   },
   {
    "duration": 19,
    "start_time": "2021-07-08T11:22:47.419Z"
   },
   {
    "duration": 25,
    "start_time": "2021-07-08T11:23:19.958Z"
   },
   {
    "duration": 29,
    "start_time": "2021-07-08T11:23:25.415Z"
   },
   {
    "duration": 10,
    "start_time": "2021-07-08T11:24:45.138Z"
   },
   {
    "duration": 19,
    "start_time": "2021-07-08T11:24:54.498Z"
   },
   {
    "duration": 12,
    "start_time": "2021-07-08T11:25:32.225Z"
   },
   {
    "duration": 19,
    "start_time": "2021-07-08T11:25:37.092Z"
   },
   {
    "duration": 17,
    "start_time": "2021-07-08T11:25:58.116Z"
   },
   {
    "duration": 15,
    "start_time": "2021-07-08T11:26:02.258Z"
   },
   {
    "duration": 8,
    "start_time": "2021-07-08T11:26:59.682Z"
   },
   {
    "duration": 184,
    "start_time": "2021-07-08T11:27:21.894Z"
   },
   {
    "duration": 8,
    "start_time": "2021-07-08T11:27:23.824Z"
   },
   {
    "duration": 202,
    "start_time": "2021-07-08T11:27:23.962Z"
   },
   {
    "duration": 360,
    "start_time": "2021-07-08T11:28:33.215Z"
   },
   {
    "duration": 231,
    "start_time": "2021-07-08T11:32:05.542Z"
   },
   {
    "duration": 607,
    "start_time": "2021-07-08T11:36:27.854Z"
   },
   {
    "duration": 241,
    "start_time": "2021-07-08T11:36:28.463Z"
   },
   {
    "duration": 67,
    "start_time": "2021-07-08T11:36:28.709Z"
   },
   {
    "duration": 5,
    "start_time": "2021-07-08T11:36:28.778Z"
   },
   {
    "duration": 32,
    "start_time": "2021-07-08T11:36:28.784Z"
   },
   {
    "duration": 11,
    "start_time": "2021-07-08T11:36:28.819Z"
   },
   {
    "duration": 20,
    "start_time": "2021-07-08T11:36:28.834Z"
   },
   {
    "duration": 36,
    "start_time": "2021-07-08T11:36:28.857Z"
   },
   {
    "duration": 16,
    "start_time": "2021-07-08T11:36:28.895Z"
   },
   {
    "duration": 14,
    "start_time": "2021-07-08T11:36:28.913Z"
   },
   {
    "duration": 9,
    "start_time": "2021-07-08T11:36:28.930Z"
   },
   {
    "duration": 55,
    "start_time": "2021-07-08T11:36:28.941Z"
   },
   {
    "duration": 27,
    "start_time": "2021-07-08T11:36:28.999Z"
   },
   {
    "duration": 30,
    "start_time": "2021-07-08T11:36:29.028Z"
   },
   {
    "duration": 31,
    "start_time": "2021-07-08T11:36:29.060Z"
   },
   {
    "duration": 3,
    "start_time": "2021-07-08T11:36:29.093Z"
   },
   {
    "duration": 12,
    "start_time": "2021-07-08T11:36:29.099Z"
   },
   {
    "duration": 11,
    "start_time": "2021-07-08T11:36:29.112Z"
   },
   {
    "duration": 12,
    "start_time": "2021-07-08T11:36:29.125Z"
   },
   {
    "duration": 9,
    "start_time": "2021-07-08T11:36:29.139Z"
   },
   {
    "duration": 31,
    "start_time": "2021-07-08T11:36:29.191Z"
   },
   {
    "duration": 17,
    "start_time": "2021-07-08T11:36:29.226Z"
   },
   {
    "duration": 7,
    "start_time": "2021-07-08T11:36:29.245Z"
   },
   {
    "duration": 10,
    "start_time": "2021-07-08T11:36:29.254Z"
   },
   {
    "duration": 30,
    "start_time": "2021-07-08T11:36:29.292Z"
   },
   {
    "duration": 11,
    "start_time": "2021-07-08T11:36:29.324Z"
   },
   {
    "duration": 11,
    "start_time": "2021-07-08T11:36:29.337Z"
   },
   {
    "duration": 230,
    "start_time": "2021-07-08T11:36:29.349Z"
   },
   {
    "duration": 13,
    "start_time": "2021-07-08T11:36:29.588Z"
   },
   {
    "duration": 205,
    "start_time": "2021-07-08T11:36:29.603Z"
   },
   {
    "duration": 20,
    "start_time": "2021-07-08T11:36:29.810Z"
   },
   {
    "duration": 9,
    "start_time": "2021-07-08T11:36:29.832Z"
   },
   {
    "duration": 16,
    "start_time": "2021-07-08T11:36:29.843Z"
   },
   {
    "duration": 283,
    "start_time": "2021-07-08T11:36:29.861Z"
   },
   {
    "duration": 50,
    "start_time": "2021-07-08T11:36:30.146Z"
   },
   {
    "duration": 14,
    "start_time": "2021-07-08T11:36:30.198Z"
   },
   {
    "duration": 11,
    "start_time": "2021-07-08T11:36:30.214Z"
   },
   {
    "duration": 245,
    "start_time": "2021-07-08T11:36:30.227Z"
   },
   {
    "duration": 439,
    "start_time": "2021-07-08T11:36:30.474Z"
   },
   {
    "duration": 210,
    "start_time": "2021-07-08T11:36:30.915Z"
   },
   {
    "duration": 15,
    "start_time": "2021-07-08T11:36:31.127Z"
   },
   {
    "duration": 17,
    "start_time": "2021-07-08T11:38:20.451Z"
   },
   {
    "duration": 642,
    "start_time": "2021-07-08T11:46:17.881Z"
   },
   {
    "duration": 210,
    "start_time": "2021-07-08T11:46:18.525Z"
   },
   {
    "duration": 104,
    "start_time": "2021-07-08T11:46:18.741Z"
   },
   {
    "duration": 8,
    "start_time": "2021-07-08T11:46:18.847Z"
   },
   {
    "duration": 25,
    "start_time": "2021-07-08T11:46:18.857Z"
   },
   {
    "duration": 14,
    "start_time": "2021-07-08T11:46:18.884Z"
   },
   {
    "duration": 22,
    "start_time": "2021-07-08T11:46:18.900Z"
   },
   {
    "duration": 5,
    "start_time": "2021-07-08T11:46:18.924Z"
   },
   {
    "duration": 13,
    "start_time": "2021-07-08T11:46:18.931Z"
   },
   {
    "duration": 45,
    "start_time": "2021-07-08T11:46:18.946Z"
   },
   {
    "duration": 12,
    "start_time": "2021-07-08T11:46:18.993Z"
   },
   {
    "duration": 38,
    "start_time": "2021-07-08T11:46:19.006Z"
   },
   {
    "duration": 50,
    "start_time": "2021-07-08T11:46:19.046Z"
   },
   {
    "duration": 29,
    "start_time": "2021-07-08T11:46:19.099Z"
   },
   {
    "duration": 7,
    "start_time": "2021-07-08T11:46:19.130Z"
   },
   {
    "duration": 3,
    "start_time": "2021-07-08T11:46:19.139Z"
   },
   {
    "duration": 11,
    "start_time": "2021-07-08T11:46:19.144Z"
   },
   {
    "duration": 40,
    "start_time": "2021-07-08T11:46:19.157Z"
   },
   {
    "duration": 15,
    "start_time": "2021-07-08T11:46:19.199Z"
   },
   {
    "duration": 10,
    "start_time": "2021-07-08T11:46:19.217Z"
   },
   {
    "duration": 68,
    "start_time": "2021-07-08T11:46:19.230Z"
   },
   {
    "duration": 17,
    "start_time": "2021-07-08T11:46:19.301Z"
   },
   {
    "duration": 7,
    "start_time": "2021-07-08T11:46:19.321Z"
   },
   {
    "duration": 11,
    "start_time": "2021-07-08T11:46:19.330Z"
   },
   {
    "duration": 59,
    "start_time": "2021-07-08T11:46:19.343Z"
   },
   {
    "duration": 17,
    "start_time": "2021-07-08T11:46:19.405Z"
   },
   {
    "duration": 16,
    "start_time": "2021-07-08T11:46:19.424Z"
   },
   {
    "duration": 252,
    "start_time": "2021-07-08T11:46:19.443Z"
   },
   {
    "duration": 9,
    "start_time": "2021-07-08T11:46:19.697Z"
   },
   {
    "duration": 224,
    "start_time": "2021-07-08T11:46:19.708Z"
   },
   {
    "duration": 21,
    "start_time": "2021-07-08T11:46:19.934Z"
   },
   {
    "duration": 9,
    "start_time": "2021-07-08T11:46:19.956Z"
   },
   {
    "duration": 32,
    "start_time": "2021-07-08T11:46:19.967Z"
   },
   {
    "duration": 288,
    "start_time": "2021-07-08T11:46:20.004Z"
   },
   {
    "duration": 23,
    "start_time": "2021-07-08T11:46:20.300Z"
   },
   {
    "duration": 11,
    "start_time": "2021-07-08T11:46:20.325Z"
   },
   {
    "duration": 11,
    "start_time": "2021-07-08T11:46:20.339Z"
   },
   {
    "duration": 259,
    "start_time": "2021-07-08T11:46:20.352Z"
   },
   {
    "duration": 438,
    "start_time": "2021-07-08T11:46:20.613Z"
   },
   {
    "duration": 207,
    "start_time": "2021-07-08T11:46:21.054Z"
   },
   {
    "duration": 27,
    "start_time": "2021-07-08T11:46:21.262Z"
   },
   {
    "duration": 19,
    "start_time": "2021-07-08T11:46:21.291Z"
   },
   {
    "duration": 820,
    "start_time": "2021-07-08T11:49:01.655Z"
   },
   {
    "duration": 372,
    "start_time": "2021-07-08T11:49:02.478Z"
   },
   {
    "duration": 98,
    "start_time": "2021-07-08T11:49:02.853Z"
   },
   {
    "duration": 6,
    "start_time": "2021-07-08T11:49:02.953Z"
   },
   {
    "duration": 39,
    "start_time": "2021-07-08T11:49:02.960Z"
   },
   {
    "duration": 9,
    "start_time": "2021-07-08T11:49:03.003Z"
   },
   {
    "duration": 23,
    "start_time": "2021-07-08T11:49:03.014Z"
   },
   {
    "duration": 6,
    "start_time": "2021-07-08T11:49:03.041Z"
   },
   {
    "duration": 20,
    "start_time": "2021-07-08T11:49:03.049Z"
   },
   {
    "duration": 18,
    "start_time": "2021-07-08T11:49:03.084Z"
   },
   {
    "duration": 14,
    "start_time": "2021-07-08T11:49:03.104Z"
   },
   {
    "duration": 39,
    "start_time": "2021-07-08T11:49:03.119Z"
   },
   {
    "duration": 38,
    "start_time": "2021-07-08T11:49:03.160Z"
   },
   {
    "duration": 26,
    "start_time": "2021-07-08T11:49:03.200Z"
   },
   {
    "duration": 7,
    "start_time": "2021-07-08T11:49:03.227Z"
   },
   {
    "duration": 4,
    "start_time": "2021-07-08T11:49:03.236Z"
   },
   {
    "duration": 15,
    "start_time": "2021-07-08T11:49:03.243Z"
   },
   {
    "duration": 21,
    "start_time": "2021-07-08T11:49:03.285Z"
   },
   {
    "duration": 17,
    "start_time": "2021-07-08T11:49:03.309Z"
   },
   {
    "duration": 10,
    "start_time": "2021-07-08T11:49:03.328Z"
   },
   {
    "duration": 65,
    "start_time": "2021-07-08T11:49:03.340Z"
   },
   {
    "duration": 18,
    "start_time": "2021-07-08T11:49:03.407Z"
   },
   {
    "duration": 8,
    "start_time": "2021-07-08T11:49:03.428Z"
   },
   {
    "duration": 15,
    "start_time": "2021-07-08T11:49:03.438Z"
   },
   {
    "duration": 40,
    "start_time": "2021-07-08T11:49:03.455Z"
   },
   {
    "duration": 12,
    "start_time": "2021-07-08T11:49:03.497Z"
   },
   {
    "duration": 29,
    "start_time": "2021-07-08T11:49:03.511Z"
   },
   {
    "duration": 285,
    "start_time": "2021-07-08T11:49:03.542Z"
   },
   {
    "duration": 8,
    "start_time": "2021-07-08T11:49:03.829Z"
   },
   {
    "duration": 227,
    "start_time": "2021-07-08T11:49:03.838Z"
   },
   {
    "duration": 40,
    "start_time": "2021-07-08T11:49:04.066Z"
   },
   {
    "duration": 10,
    "start_time": "2021-07-08T11:49:04.108Z"
   },
   {
    "duration": 26,
    "start_time": "2021-07-08T11:49:04.121Z"
   },
   {
    "duration": 290,
    "start_time": "2021-07-08T11:49:04.149Z"
   },
   {
    "duration": 26,
    "start_time": "2021-07-08T11:49:04.441Z"
   },
   {
    "duration": 31,
    "start_time": "2021-07-08T11:49:04.470Z"
   },
   {
    "duration": 14,
    "start_time": "2021-07-08T11:49:04.503Z"
   },
   {
    "duration": 259,
    "start_time": "2021-07-08T11:49:04.521Z"
   },
   {
    "duration": 480,
    "start_time": "2021-07-08T11:49:04.782Z"
   },
   {
    "duration": 225,
    "start_time": "2021-07-08T11:49:05.264Z"
   },
   {
    "duration": 22,
    "start_time": "2021-07-08T11:49:05.491Z"
   },
   {
    "duration": 24,
    "start_time": "2021-07-08T11:49:05.515Z"
   },
   {
    "duration": 634,
    "start_time": "2021-07-08T11:52:24.960Z"
   },
   {
    "duration": 199,
    "start_time": "2021-07-08T11:52:25.599Z"
   },
   {
    "duration": 106,
    "start_time": "2021-07-08T11:52:25.803Z"
   },
   {
    "duration": 7,
    "start_time": "2021-07-08T11:52:25.911Z"
   },
   {
    "duration": 29,
    "start_time": "2021-07-08T11:52:25.920Z"
   },
   {
    "duration": 7,
    "start_time": "2021-07-08T11:52:25.951Z"
   },
   {
    "duration": 26,
    "start_time": "2021-07-08T11:52:25.961Z"
   },
   {
    "duration": 11,
    "start_time": "2021-07-08T11:52:25.990Z"
   },
   {
    "duration": 29,
    "start_time": "2021-07-08T11:52:26.005Z"
   },
   {
    "duration": 9,
    "start_time": "2021-07-08T11:52:26.036Z"
   },
   {
    "duration": 8,
    "start_time": "2021-07-08T11:52:26.047Z"
   },
   {
    "duration": 63,
    "start_time": "2021-07-08T11:52:26.057Z"
   },
   {
    "duration": 17,
    "start_time": "2021-07-08T11:52:26.122Z"
   },
   {
    "duration": 43,
    "start_time": "2021-07-08T11:52:26.142Z"
   },
   {
    "duration": 17,
    "start_time": "2021-07-08T11:52:26.187Z"
   },
   {
    "duration": 5,
    "start_time": "2021-07-08T11:52:26.206Z"
   },
   {
    "duration": 12,
    "start_time": "2021-07-08T11:52:26.212Z"
   },
   {
    "duration": 11,
    "start_time": "2021-07-08T11:52:26.226Z"
   },
   {
    "duration": 12,
    "start_time": "2021-07-08T11:52:26.238Z"
   },
   {
    "duration": 38,
    "start_time": "2021-07-08T11:52:26.252Z"
   },
   {
    "duration": 40,
    "start_time": "2021-07-08T11:52:26.292Z"
   },
   {
    "duration": 17,
    "start_time": "2021-07-08T11:52:26.336Z"
   },
   {
    "duration": 39,
    "start_time": "2021-07-08T11:52:26.355Z"
   },
   {
    "duration": 11,
    "start_time": "2021-07-08T11:52:26.395Z"
   },
   {
    "duration": 23,
    "start_time": "2021-07-08T11:52:26.408Z"
   },
   {
    "duration": 12,
    "start_time": "2021-07-08T11:52:26.432Z"
   },
   {
    "duration": 41,
    "start_time": "2021-07-08T11:52:26.446Z"
   },
   {
    "duration": 215,
    "start_time": "2021-07-08T11:52:26.493Z"
   },
   {
    "duration": 8,
    "start_time": "2021-07-08T11:52:26.710Z"
   },
   {
    "duration": 228,
    "start_time": "2021-07-08T11:52:26.720Z"
   },
   {
    "duration": 18,
    "start_time": "2021-07-08T11:52:26.950Z"
   },
   {
    "duration": 35,
    "start_time": "2021-07-08T11:52:26.969Z"
   },
   {
    "duration": 23,
    "start_time": "2021-07-08T11:52:27.006Z"
   },
   {
    "duration": 258,
    "start_time": "2021-07-08T11:52:27.030Z"
   },
   {
    "duration": 24,
    "start_time": "2021-07-08T11:52:27.290Z"
   },
   {
    "duration": 12,
    "start_time": "2021-07-08T11:52:27.316Z"
   },
   {
    "duration": 10,
    "start_time": "2021-07-08T11:52:27.329Z"
   },
   {
    "duration": 298,
    "start_time": "2021-07-08T11:52:27.341Z"
   },
   {
    "duration": 436,
    "start_time": "2021-07-08T11:52:27.641Z"
   },
   {
    "duration": 216,
    "start_time": "2021-07-08T11:52:28.079Z"
   },
   {
    "duration": 20,
    "start_time": "2021-07-08T11:52:28.297Z"
   },
   {
    "duration": 17,
    "start_time": "2021-07-08T11:52:28.319Z"
   },
   {
    "duration": 376,
    "start_time": "2022-07-16T05:40:16.076Z"
   },
   {
    "duration": 210,
    "start_time": "2022-07-16T05:40:39.686Z"
   },
   {
    "duration": 15,
    "start_time": "2022-07-16T05:40:44.157Z"
   },
   {
    "duration": 94,
    "start_time": "2022-07-16T05:40:54.910Z"
   },
   {
    "duration": 16,
    "start_time": "2022-07-16T05:40:55.764Z"
   },
   {
    "duration": 91,
    "start_time": "2022-07-16T05:41:58.443Z"
   },
   {
    "duration": 8,
    "start_time": "2022-07-16T05:42:06.974Z"
   },
   {
    "duration": 62,
    "start_time": "2022-07-16T10:38:46.452Z"
   },
   {
    "duration": 8,
    "start_time": "2022-07-16T10:39:00.133Z"
   },
   {
    "duration": 410,
    "start_time": "2022-07-16T10:39:09.105Z"
   },
   {
    "duration": 279,
    "start_time": "2022-07-16T10:39:09.518Z"
   },
   {
    "duration": 22,
    "start_time": "2022-07-16T10:39:09.799Z"
   },
   {
    "duration": 94,
    "start_time": "2022-07-16T10:39:09.823Z"
   },
   {
    "duration": 8,
    "start_time": "2022-07-16T10:39:09.919Z"
   },
   {
    "duration": 15,
    "start_time": "2022-07-16T10:41:13.834Z"
   },
   {
    "duration": 11,
    "start_time": "2022-07-16T10:41:19.897Z"
   },
   {
    "duration": 1573,
    "start_time": "2022-07-16T10:42:36.894Z"
   },
   {
    "duration": 302,
    "start_time": "2022-07-16T10:42:50.369Z"
   },
   {
    "duration": 6,
    "start_time": "2022-07-16T10:43:16.008Z"
   },
   {
    "duration": 85,
    "start_time": "2022-07-16T10:48:31.141Z"
   },
   {
    "duration": 3,
    "start_time": "2022-07-16T10:48:35.696Z"
   },
   {
    "duration": 325,
    "start_time": "2022-07-16T10:49:40.877Z"
   },
   {
    "duration": 3,
    "start_time": "2022-07-16T10:49:55.272Z"
   },
   {
    "duration": 521,
    "start_time": "2022-07-16T10:49:56.072Z"
   },
   {
    "duration": 3,
    "start_time": "2022-07-16T10:50:10.104Z"
   },
   {
    "duration": 363,
    "start_time": "2022-07-16T10:50:10.537Z"
   },
   {
    "duration": 306,
    "start_time": "2022-07-16T10:50:51.780Z"
   },
   {
    "duration": 3,
    "start_time": "2022-07-16T10:50:55.940Z"
   },
   {
    "duration": 317,
    "start_time": "2022-07-16T10:50:56.147Z"
   },
   {
    "duration": 75,
    "start_time": "2022-07-16T10:54:28.798Z"
   },
   {
    "duration": 7,
    "start_time": "2022-07-16T10:54:36.339Z"
   },
   {
    "duration": 13,
    "start_time": "2022-07-16T10:54:47.495Z"
   },
   {
    "duration": 372,
    "start_time": "2022-07-16T10:55:29.994Z"
   },
   {
    "duration": 70,
    "start_time": "2022-07-16T10:55:52.317Z"
   },
   {
    "duration": 409,
    "start_time": "2022-07-16T10:56:17.316Z"
   },
   {
    "duration": 88,
    "start_time": "2022-07-16T10:56:17.726Z"
   },
   {
    "duration": 16,
    "start_time": "2022-07-16T10:56:17.816Z"
   },
   {
    "duration": 43,
    "start_time": "2022-07-16T10:56:17.834Z"
   },
   {
    "duration": 10,
    "start_time": "2022-07-16T10:56:17.879Z"
   },
   {
    "duration": 71,
    "start_time": "2022-07-16T10:56:17.890Z"
   },
   {
    "duration": 89,
    "start_time": "2022-07-16T10:56:36.554Z"
   },
   {
    "duration": 14,
    "start_time": "2022-07-16T10:58:23.924Z"
   },
   {
    "duration": 11,
    "start_time": "2022-07-16T10:58:43.344Z"
   },
   {
    "duration": 11,
    "start_time": "2022-07-16T10:59:01.160Z"
   },
   {
    "duration": 415,
    "start_time": "2022-07-16T10:59:35.034Z"
   },
   {
    "duration": 84,
    "start_time": "2022-07-16T10:59:35.451Z"
   },
   {
    "duration": 17,
    "start_time": "2022-07-16T10:59:35.537Z"
   },
   {
    "duration": 41,
    "start_time": "2022-07-16T10:59:35.556Z"
   },
   {
    "duration": 11,
    "start_time": "2022-07-16T10:59:35.599Z"
   },
   {
    "duration": 80,
    "start_time": "2022-07-16T10:59:35.611Z"
   },
   {
    "duration": 0,
    "start_time": "2022-07-16T10:59:35.693Z"
   },
   {
    "duration": 398,
    "start_time": "2022-07-16T11:00:01.650Z"
   },
   {
    "duration": 15,
    "start_time": "2022-07-16T11:00:15.681Z"
   },
   {
    "duration": 413,
    "start_time": "2022-07-16T11:00:43.536Z"
   },
   {
    "duration": 96,
    "start_time": "2022-07-16T11:00:43.951Z"
   },
   {
    "duration": 16,
    "start_time": "2022-07-16T11:00:44.048Z"
   },
   {
    "duration": 42,
    "start_time": "2022-07-16T11:00:44.066Z"
   },
   {
    "duration": 14,
    "start_time": "2022-07-16T11:00:44.110Z"
   },
   {
    "duration": 108,
    "start_time": "2022-07-16T11:00:44.126Z"
   },
   {
    "duration": 0,
    "start_time": "2022-07-16T11:00:44.236Z"
   },
   {
    "duration": 10,
    "start_time": "2022-07-16T11:01:50.977Z"
   },
   {
    "duration": 9,
    "start_time": "2022-07-16T11:01:58.536Z"
   },
   {
    "duration": 14,
    "start_time": "2022-07-16T11:02:07.768Z"
   },
   {
    "duration": 10,
    "start_time": "2022-07-16T11:02:41.549Z"
   },
   {
    "duration": 349,
    "start_time": "2022-07-16T11:04:17.695Z"
   },
   {
    "duration": 17,
    "start_time": "2022-07-16T11:05:31.914Z"
   },
   {
    "duration": 8,
    "start_time": "2022-07-16T11:06:16.269Z"
   },
   {
    "duration": 12,
    "start_time": "2022-07-16T11:06:33.196Z"
   },
   {
    "duration": 9,
    "start_time": "2022-07-16T11:06:46.803Z"
   },
   {
    "duration": 8,
    "start_time": "2022-07-16T11:08:15.743Z"
   },
   {
    "duration": 6,
    "start_time": "2022-07-16T11:08:21.218Z"
   },
   {
    "duration": 8,
    "start_time": "2022-07-16T11:08:43.256Z"
   },
   {
    "duration": 13,
    "start_time": "2022-07-16T11:09:08.166Z"
   },
   {
    "duration": 8,
    "start_time": "2022-07-16T11:09:37.895Z"
   },
   {
    "duration": 19,
    "start_time": "2022-07-16T11:09:46.908Z"
   },
   {
    "duration": 9,
    "start_time": "2022-07-16T11:09:53.380Z"
   },
   {
    "duration": 7,
    "start_time": "2022-07-16T11:10:39.096Z"
   },
   {
    "duration": 9,
    "start_time": "2022-07-16T11:10:48.191Z"
   },
   {
    "duration": 6,
    "start_time": "2022-07-16T11:11:08.694Z"
   },
   {
    "duration": 399,
    "start_time": "2022-07-16T11:11:20.655Z"
   },
   {
    "duration": 101,
    "start_time": "2022-07-16T11:11:21.056Z"
   },
   {
    "duration": 16,
    "start_time": "2022-07-16T11:11:21.159Z"
   },
   {
    "duration": 45,
    "start_time": "2022-07-16T11:11:21.177Z"
   },
   {
    "duration": 12,
    "start_time": "2022-07-16T11:11:21.225Z"
   },
   {
    "duration": 12,
    "start_time": "2022-07-16T11:11:21.239Z"
   },
   {
    "duration": 411,
    "start_time": "2022-07-16T11:11:34.944Z"
   },
   {
    "duration": 6,
    "start_time": "2022-07-16T11:11:42.959Z"
   },
   {
    "duration": 409,
    "start_time": "2022-07-16T11:12:38.558Z"
   },
   {
    "duration": 84,
    "start_time": "2022-07-16T11:12:38.969Z"
   },
   {
    "duration": 15,
    "start_time": "2022-07-16T11:12:39.055Z"
   },
   {
    "duration": 43,
    "start_time": "2022-07-16T11:12:39.071Z"
   },
   {
    "duration": 11,
    "start_time": "2022-07-16T11:12:39.116Z"
   },
   {
    "duration": 367,
    "start_time": "2022-07-16T11:12:39.129Z"
   },
   {
    "duration": 414,
    "start_time": "2022-07-16T11:14:41.763Z"
   },
   {
    "duration": 94,
    "start_time": "2022-07-16T11:14:42.179Z"
   },
   {
    "duration": 15,
    "start_time": "2022-07-16T11:14:42.275Z"
   },
   {
    "duration": 43,
    "start_time": "2022-07-16T11:14:42.292Z"
   },
   {
    "duration": 11,
    "start_time": "2022-07-16T11:14:42.337Z"
   },
   {
    "duration": 799,
    "start_time": "2022-07-16T11:14:42.350Z"
   },
   {
    "duration": 453,
    "start_time": "2022-07-16T11:15:21.509Z"
   },
   {
    "duration": 95,
    "start_time": "2022-07-16T11:15:21.964Z"
   },
   {
    "duration": 15,
    "start_time": "2022-07-16T11:15:22.061Z"
   },
   {
    "duration": 40,
    "start_time": "2022-07-16T11:15:22.078Z"
   },
   {
    "duration": 26,
    "start_time": "2022-07-16T11:15:22.120Z"
   },
   {
    "duration": 22,
    "start_time": "2022-07-16T11:15:22.148Z"
   },
   {
    "duration": 7,
    "start_time": "2022-07-16T11:16:13.731Z"
   },
   {
    "duration": 13,
    "start_time": "2022-07-16T11:16:26.750Z"
   },
   {
    "duration": 4,
    "start_time": "2022-07-16T11:16:34.280Z"
   },
   {
    "duration": 15,
    "start_time": "2022-07-16T11:16:34.724Z"
   },
   {
    "duration": 428,
    "start_time": "2022-07-16T11:16:39.848Z"
   },
   {
    "duration": 99,
    "start_time": "2022-07-16T11:16:40.278Z"
   },
   {
    "duration": 18,
    "start_time": "2022-07-16T11:16:40.379Z"
   },
   {
    "duration": 51,
    "start_time": "2022-07-16T11:16:40.405Z"
   },
   {
    "duration": 11,
    "start_time": "2022-07-16T11:16:40.458Z"
   },
   {
    "duration": 9,
    "start_time": "2022-07-16T11:16:40.470Z"
   },
   {
    "duration": 14,
    "start_time": "2022-07-16T11:16:40.480Z"
   },
   {
    "duration": 476,
    "start_time": "2022-07-16T11:16:55.100Z"
   },
   {
    "duration": 100,
    "start_time": "2022-07-16T11:16:55.578Z"
   },
   {
    "duration": 16,
    "start_time": "2022-07-16T11:16:55.680Z"
   },
   {
    "duration": 73,
    "start_time": "2022-07-16T11:16:55.705Z"
   },
   {
    "duration": 10,
    "start_time": "2022-07-16T11:16:55.780Z"
   },
   {
    "duration": 11,
    "start_time": "2022-07-16T11:16:55.791Z"
   },
   {
    "duration": 39,
    "start_time": "2022-07-16T11:16:55.809Z"
   },
   {
    "duration": 419,
    "start_time": "2022-07-16T11:17:36.912Z"
   },
   {
    "duration": 110,
    "start_time": "2022-07-16T11:17:37.333Z"
   },
   {
    "duration": 18,
    "start_time": "2022-07-16T11:17:37.445Z"
   },
   {
    "duration": 121,
    "start_time": "2022-07-16T11:17:37.466Z"
   },
   {
    "duration": 11,
    "start_time": "2022-07-16T11:17:37.589Z"
   },
   {
    "duration": 47,
    "start_time": "2022-07-16T11:17:37.602Z"
   },
   {
    "duration": 1706,
    "start_time": "2022-07-16T11:17:37.650Z"
   },
   {
    "duration": 409,
    "start_time": "2022-07-16T11:32:08.211Z"
   },
   {
    "duration": 91,
    "start_time": "2022-07-16T11:32:08.622Z"
   },
   {
    "duration": 17,
    "start_time": "2022-07-16T11:32:08.715Z"
   },
   {
    "duration": 52,
    "start_time": "2022-07-16T11:32:08.735Z"
   },
   {
    "duration": 13,
    "start_time": "2022-07-16T11:32:08.789Z"
   },
   {
    "duration": 28,
    "start_time": "2022-07-16T11:32:08.805Z"
   },
   {
    "duration": 16,
    "start_time": "2022-07-16T11:33:20.837Z"
   },
   {
    "duration": 82,
    "start_time": "2022-07-16T11:33:51.081Z"
   },
   {
    "duration": 3,
    "start_time": "2022-07-16T11:35:16.113Z"
   },
   {
    "duration": 12,
    "start_time": "2022-07-16T11:36:05.200Z"
   },
   {
    "duration": 14,
    "start_time": "2022-07-16T11:36:21.150Z"
   },
   {
    "duration": 7,
    "start_time": "2022-07-16T11:36:58.102Z"
   },
   {
    "duration": 61,
    "start_time": "2022-07-16T11:39:17.716Z"
   },
   {
    "duration": 15,
    "start_time": "2022-07-16T11:40:30.007Z"
   },
   {
    "duration": 55,
    "start_time": "2022-07-16T11:41:07.563Z"
   },
   {
    "duration": 31,
    "start_time": "2022-07-16T11:41:21.459Z"
   },
   {
    "duration": 28,
    "start_time": "2022-07-16T11:45:03.586Z"
   },
   {
    "duration": 429,
    "start_time": "2022-07-16T11:45:20.483Z"
   },
   {
    "duration": 87,
    "start_time": "2022-07-16T11:45:20.914Z"
   },
   {
    "duration": 19,
    "start_time": "2022-07-16T11:45:21.003Z"
   },
   {
    "duration": 43,
    "start_time": "2022-07-16T11:45:21.025Z"
   },
   {
    "duration": 11,
    "start_time": "2022-07-16T11:45:21.069Z"
   },
   {
    "duration": 21,
    "start_time": "2022-07-16T11:45:21.082Z"
   },
   {
    "duration": 33,
    "start_time": "2022-07-16T11:45:21.105Z"
   },
   {
    "duration": 60,
    "start_time": "2022-07-16T11:45:30.120Z"
   },
   {
    "duration": 97,
    "start_time": "2022-07-16T11:45:38.024Z"
   },
   {
    "duration": 450,
    "start_time": "2022-07-16T11:45:45.680Z"
   },
   {
    "duration": 89,
    "start_time": "2022-07-16T11:45:46.133Z"
   },
   {
    "duration": 17,
    "start_time": "2022-07-16T11:45:46.224Z"
   },
   {
    "duration": 41,
    "start_time": "2022-07-16T11:45:46.244Z"
   },
   {
    "duration": 10,
    "start_time": "2022-07-16T11:45:46.287Z"
   },
   {
    "duration": 19,
    "start_time": "2022-07-16T11:45:46.299Z"
   },
   {
    "duration": 36,
    "start_time": "2022-07-16T11:45:46.319Z"
   },
   {
    "duration": 25,
    "start_time": "2022-07-16T11:46:04.238Z"
   },
   {
    "duration": 513,
    "start_time": "2022-07-16T11:46:09.793Z"
   },
   {
    "duration": 90,
    "start_time": "2022-07-16T11:46:10.308Z"
   },
   {
    "duration": 17,
    "start_time": "2022-07-16T11:46:10.400Z"
   },
   {
    "duration": 47,
    "start_time": "2022-07-16T11:46:10.419Z"
   },
   {
    "duration": 12,
    "start_time": "2022-07-16T11:46:10.468Z"
   },
   {
    "duration": 21,
    "start_time": "2022-07-16T11:46:10.482Z"
   },
   {
    "duration": 25,
    "start_time": "2022-07-16T11:46:10.504Z"
   },
   {
    "duration": 441,
    "start_time": "2022-07-16T11:46:38.600Z"
   },
   {
    "duration": 90,
    "start_time": "2022-07-16T11:46:39.043Z"
   },
   {
    "duration": 17,
    "start_time": "2022-07-16T11:46:39.135Z"
   },
   {
    "duration": 41,
    "start_time": "2022-07-16T11:46:39.154Z"
   },
   {
    "duration": 11,
    "start_time": "2022-07-16T11:46:39.197Z"
   },
   {
    "duration": 20,
    "start_time": "2022-07-16T11:46:39.209Z"
   },
   {
    "duration": 21,
    "start_time": "2022-07-16T11:46:39.231Z"
   },
   {
    "duration": 435,
    "start_time": "2022-07-16T13:28:39.649Z"
   },
   {
    "duration": 348,
    "start_time": "2022-07-16T13:28:40.087Z"
   },
   {
    "duration": 18,
    "start_time": "2022-07-16T13:28:40.437Z"
   },
   {
    "duration": 80,
    "start_time": "2022-07-16T13:28:40.457Z"
   },
   {
    "duration": 12,
    "start_time": "2022-07-16T13:28:40.540Z"
   },
   {
    "duration": 24,
    "start_time": "2022-07-16T13:28:40.554Z"
   },
   {
    "duration": 82,
    "start_time": "2022-07-16T13:28:40.582Z"
   },
   {
    "duration": 0,
    "start_time": "2022-07-16T13:28:40.666Z"
   },
   {
    "duration": 24,
    "start_time": "2022-07-16T13:29:03.141Z"
   },
   {
    "duration": 27,
    "start_time": "2022-07-16T13:29:09.088Z"
   },
   {
    "duration": 68,
    "start_time": "2022-07-16T13:34:03.605Z"
   },
   {
    "duration": 22,
    "start_time": "2022-07-16T13:34:31.587Z"
   },
   {
    "duration": 23,
    "start_time": "2022-07-16T13:45:29.551Z"
   },
   {
    "duration": 16,
    "start_time": "2022-07-16T13:45:45.654Z"
   },
   {
    "duration": 59,
    "start_time": "2022-07-16T17:51:40.993Z"
   },
   {
    "duration": 419,
    "start_time": "2022-07-16T17:51:46.848Z"
   },
   {
    "duration": 278,
    "start_time": "2022-07-16T17:51:47.270Z"
   },
   {
    "duration": 3,
    "start_time": "2022-07-16T17:52:32.157Z"
   },
   {
    "duration": 121,
    "start_time": "2022-07-16T17:52:32.693Z"
   },
   {
    "duration": 19,
    "start_time": "2022-07-16T17:52:33.647Z"
   },
   {
    "duration": 133,
    "start_time": "2022-07-16T17:52:38.062Z"
   },
   {
    "duration": 14,
    "start_time": "2022-07-16T17:52:38.492Z"
   },
   {
    "duration": 23,
    "start_time": "2022-07-16T17:52:46.791Z"
   },
   {
    "duration": 39,
    "start_time": "2022-07-16T18:03:38.150Z"
   },
   {
    "duration": 455,
    "start_time": "2022-07-16T18:03:43.749Z"
   },
   {
    "duration": 101,
    "start_time": "2022-07-16T18:03:44.206Z"
   },
   {
    "duration": 23,
    "start_time": "2022-07-16T18:03:44.309Z"
   },
   {
    "duration": 47,
    "start_time": "2022-07-16T18:03:44.334Z"
   },
   {
    "duration": 15,
    "start_time": "2022-07-16T18:03:44.384Z"
   },
   {
    "duration": 46,
    "start_time": "2022-07-16T18:03:44.401Z"
   },
   {
    "duration": 80,
    "start_time": "2022-07-16T18:03:44.449Z"
   },
   {
    "duration": 0,
    "start_time": "2022-07-16T18:03:44.532Z"
   },
   {
    "duration": 0,
    "start_time": "2022-07-16T18:03:44.533Z"
   },
   {
    "duration": 0,
    "start_time": "2022-07-16T18:03:44.534Z"
   },
   {
    "duration": 0,
    "start_time": "2022-07-16T18:03:44.536Z"
   },
   {
    "duration": 8,
    "start_time": "2022-07-16T18:18:05.596Z"
   },
   {
    "duration": 409,
    "start_time": "2022-07-16T18:18:16.090Z"
   },
   {
    "duration": 96,
    "start_time": "2022-07-16T18:18:16.501Z"
   },
   {
    "duration": 15,
    "start_time": "2022-07-16T18:18:16.599Z"
   },
   {
    "duration": 39,
    "start_time": "2022-07-16T18:18:16.616Z"
   },
   {
    "duration": 17,
    "start_time": "2022-07-16T18:18:16.658Z"
   },
   {
    "duration": 37,
    "start_time": "2022-07-16T18:18:16.676Z"
   },
   {
    "duration": 81,
    "start_time": "2022-07-16T18:18:16.715Z"
   },
   {
    "duration": 0,
    "start_time": "2022-07-16T18:18:16.797Z"
   },
   {
    "duration": 0,
    "start_time": "2022-07-16T18:18:16.798Z"
   },
   {
    "duration": 0,
    "start_time": "2022-07-16T18:18:16.799Z"
   },
   {
    "duration": 0,
    "start_time": "2022-07-16T18:18:16.800Z"
   },
   {
    "duration": 20,
    "start_time": "2022-07-16T18:18:30.220Z"
   },
   {
    "duration": 34,
    "start_time": "2022-07-16T18:18:31.563Z"
   },
   {
    "duration": 14,
    "start_time": "2022-07-16T18:18:33.248Z"
   },
   {
    "duration": 19,
    "start_time": "2022-07-16T18:18:33.498Z"
   },
   {
    "duration": 6,
    "start_time": "2022-07-16T18:18:34.194Z"
   },
   {
    "duration": 6,
    "start_time": "2022-07-16T18:19:27.098Z"
   },
   {
    "duration": 8,
    "start_time": "2022-07-16T18:20:24.771Z"
   },
   {
    "duration": 9,
    "start_time": "2022-07-16T18:20:34.290Z"
   },
   {
    "duration": 7,
    "start_time": "2022-07-16T18:20:42.105Z"
   },
   {
    "duration": 13,
    "start_time": "2022-07-16T18:20:48.849Z"
   },
   {
    "duration": 7,
    "start_time": "2022-07-16T18:21:32.050Z"
   },
   {
    "duration": 8,
    "start_time": "2022-07-16T18:21:41.078Z"
   },
   {
    "duration": 52,
    "start_time": "2022-07-16T18:24:01.694Z"
   },
   {
    "duration": 15,
    "start_time": "2022-07-16T18:24:18.547Z"
   },
   {
    "duration": 7,
    "start_time": "2022-07-16T18:24:39.899Z"
   },
   {
    "duration": 4,
    "start_time": "2022-07-16T18:24:57.052Z"
   },
   {
    "duration": 7,
    "start_time": "2022-07-16T18:24:57.452Z"
   },
   {
    "duration": 13,
    "start_time": "2022-07-16T18:24:58.138Z"
   },
   {
    "duration": 54,
    "start_time": "2022-07-17T10:12:00.260Z"
   },
   {
    "duration": 455,
    "start_time": "2022-07-17T10:12:05.180Z"
   },
   {
    "duration": 200,
    "start_time": "2022-07-17T10:12:05.637Z"
   },
   {
    "duration": 14,
    "start_time": "2022-07-17T10:12:05.839Z"
   },
   {
    "duration": 94,
    "start_time": "2022-07-17T10:12:05.855Z"
   },
   {
    "duration": 11,
    "start_time": "2022-07-17T10:12:05.952Z"
   },
   {
    "duration": 18,
    "start_time": "2022-07-17T10:12:05.964Z"
   },
   {
    "duration": 28,
    "start_time": "2022-07-17T10:12:05.984Z"
   },
   {
    "duration": 22,
    "start_time": "2022-07-17T10:12:06.014Z"
   },
   {
    "duration": 15,
    "start_time": "2022-07-17T10:12:06.038Z"
   },
   {
    "duration": 6,
    "start_time": "2022-07-17T10:12:06.055Z"
   },
   {
    "duration": 13,
    "start_time": "2022-07-17T10:12:06.062Z"
   },
   {
    "duration": 37,
    "start_time": "2022-07-17T10:12:06.076Z"
   },
   {
    "duration": 8,
    "start_time": "2022-07-17T10:12:06.114Z"
   },
   {
    "duration": 4,
    "start_time": "2022-07-17T10:12:39.646Z"
   },
   {
    "duration": 6,
    "start_time": "2022-07-17T10:17:42.469Z"
   },
   {
    "duration": 4,
    "start_time": "2022-07-17T10:17:50.975Z"
   },
   {
    "duration": 5,
    "start_time": "2022-07-17T10:18:39.268Z"
   },
   {
    "duration": 7,
    "start_time": "2022-07-17T10:19:14.676Z"
   },
   {
    "duration": 5,
    "start_time": "2022-07-17T10:23:34.812Z"
   },
   {
    "duration": 5,
    "start_time": "2022-07-17T10:23:58.722Z"
   },
   {
    "duration": 6,
    "start_time": "2022-07-17T10:25:17.668Z"
   },
   {
    "duration": 60,
    "start_time": "2022-07-19T18:00:04.078Z"
   },
   {
    "duration": 431,
    "start_time": "2022-07-19T18:00:10.607Z"
   },
   {
    "duration": 223,
    "start_time": "2022-07-19T18:00:11.040Z"
   },
   {
    "duration": 16,
    "start_time": "2022-07-19T18:00:11.265Z"
   },
   {
    "duration": 110,
    "start_time": "2022-07-19T18:00:11.282Z"
   },
   {
    "duration": 11,
    "start_time": "2022-07-19T18:00:11.394Z"
   },
   {
    "duration": 30,
    "start_time": "2022-07-19T18:00:11.407Z"
   },
   {
    "duration": 22,
    "start_time": "2022-07-19T18:00:11.440Z"
   },
   {
    "duration": 20,
    "start_time": "2022-07-19T18:00:11.463Z"
   },
   {
    "duration": 14,
    "start_time": "2022-07-19T18:00:11.484Z"
   },
   {
    "duration": 7,
    "start_time": "2022-07-19T18:00:11.500Z"
   },
   {
    "duration": 20,
    "start_time": "2022-07-19T18:00:11.508Z"
   },
   {
    "duration": 19,
    "start_time": "2022-07-19T18:00:11.536Z"
   },
   {
    "duration": 8,
    "start_time": "2022-07-19T18:00:11.557Z"
   },
   {
    "duration": 6,
    "start_time": "2022-07-19T18:00:11.566Z"
   },
   {
    "duration": 8,
    "start_time": "2022-07-19T18:00:11.573Z"
   },
   {
    "duration": 12,
    "start_time": "2022-07-19T18:00:11.582Z"
   },
   {
    "duration": 74,
    "start_time": "2022-07-19T18:00:11.595Z"
   },
   {
    "duration": 15,
    "start_time": "2022-07-19T18:00:52.845Z"
   },
   {
    "duration": 4,
    "start_time": "2022-07-19T18:37:25.454Z"
   },
   {
    "duration": 456,
    "start_time": "2022-07-21T06:19:06.592Z"
   },
   {
    "duration": 266,
    "start_time": "2022-07-21T06:19:07.053Z"
   },
   {
    "duration": 38,
    "start_time": "2022-07-21T06:19:07.321Z"
   },
   {
    "duration": 117,
    "start_time": "2022-07-21T06:19:07.362Z"
   },
   {
    "duration": 12,
    "start_time": "2022-07-21T06:19:07.481Z"
   },
   {
    "duration": 23,
    "start_time": "2022-07-21T06:19:07.496Z"
   },
   {
    "duration": 41,
    "start_time": "2022-07-21T06:19:07.521Z"
   },
   {
    "duration": 20,
    "start_time": "2022-07-21T06:19:07.564Z"
   },
   {
    "duration": 13,
    "start_time": "2022-07-21T06:19:07.586Z"
   },
   {
    "duration": 26,
    "start_time": "2022-07-21T06:19:07.601Z"
   },
   {
    "duration": 28,
    "start_time": "2022-07-21T06:19:07.629Z"
   },
   {
    "duration": 12,
    "start_time": "2022-07-21T06:19:07.659Z"
   },
   {
    "duration": 4,
    "start_time": "2022-07-21T06:19:07.673Z"
   },
   {
    "duration": 6,
    "start_time": "2022-07-21T06:19:07.679Z"
   },
   {
    "duration": 7,
    "start_time": "2022-07-21T06:19:07.687Z"
   },
   {
    "duration": 6,
    "start_time": "2022-07-21T06:19:07.696Z"
   },
   {
    "duration": 23,
    "start_time": "2022-07-21T06:20:15.235Z"
   },
   {
    "duration": 9,
    "start_time": "2022-07-21T06:20:53.845Z"
   },
   {
    "duration": 11,
    "start_time": "2022-07-21T06:21:26.094Z"
   },
   {
    "duration": 68,
    "start_time": "2022-07-21T06:23:58.044Z"
   },
   {
    "duration": 10,
    "start_time": "2022-07-21T06:24:56.929Z"
   },
   {
    "duration": 11,
    "start_time": "2022-07-21T06:25:13.618Z"
   },
   {
    "duration": 8,
    "start_time": "2022-07-21T06:25:20.491Z"
   },
   {
    "duration": 8,
    "start_time": "2022-07-21T09:19:57.472Z"
   },
   {
    "duration": 9,
    "start_time": "2022-07-21T09:21:49.294Z"
   },
   {
    "duration": 7,
    "start_time": "2022-07-21T09:22:11.404Z"
   },
   {
    "duration": 11,
    "start_time": "2022-07-21T09:22:51.730Z"
   },
   {
    "duration": 4,
    "start_time": "2022-07-21T09:23:02.960Z"
   },
   {
    "duration": 8,
    "start_time": "2022-07-21T09:23:03.711Z"
   },
   {
    "duration": 16,
    "start_time": "2022-07-21T09:29:59.224Z"
   },
   {
    "duration": 8,
    "start_time": "2022-07-21T09:32:37.101Z"
   },
   {
    "duration": 17,
    "start_time": "2022-07-21T09:32:38.027Z"
   },
   {
    "duration": 16,
    "start_time": "2022-07-21T09:32:40.540Z"
   },
   {
    "duration": 4,
    "start_time": "2022-07-21T09:35:25.139Z"
   },
   {
    "duration": 7,
    "start_time": "2022-07-21T10:12:47.505Z"
   },
   {
    "duration": 6,
    "start_time": "2022-07-21T10:12:50.089Z"
   },
   {
    "duration": 5,
    "start_time": "2022-07-21T10:12:52.783Z"
   },
   {
    "duration": 9,
    "start_time": "2022-07-21T10:12:54.735Z"
   },
   {
    "duration": 4,
    "start_time": "2022-07-21T10:12:55.775Z"
   },
   {
    "duration": 6,
    "start_time": "2022-07-21T10:12:56.838Z"
   },
   {
    "duration": 6,
    "start_time": "2022-07-21T11:51:50.257Z"
   },
   {
    "duration": 19,
    "start_time": "2022-07-21T11:52:02.649Z"
   },
   {
    "duration": 24,
    "start_time": "2022-07-21T11:54:08.127Z"
   },
   {
    "duration": 78,
    "start_time": "2022-07-21T11:57:29.067Z"
   },
   {
    "duration": 1381,
    "start_time": "2022-07-21T11:57:37.370Z"
   },
   {
    "duration": 5,
    "start_time": "2022-07-21T11:57:48.546Z"
   },
   {
    "duration": 15,
    "start_time": "2022-07-21T11:57:56.680Z"
   },
   {
    "duration": 12,
    "start_time": "2022-07-21T11:58:29.237Z"
   },
   {
    "duration": 12,
    "start_time": "2022-07-21T11:58:36.460Z"
   },
   {
    "duration": 401,
    "start_time": "2022-07-21T11:58:41.731Z"
   },
   {
    "duration": 86,
    "start_time": "2022-07-21T11:58:42.134Z"
   },
   {
    "duration": 15,
    "start_time": "2022-07-21T11:58:42.222Z"
   },
   {
    "duration": 44,
    "start_time": "2022-07-21T11:58:42.239Z"
   },
   {
    "duration": 9,
    "start_time": "2022-07-21T11:58:42.285Z"
   },
   {
    "duration": 27,
    "start_time": "2022-07-21T11:58:42.295Z"
   },
   {
    "duration": 27,
    "start_time": "2022-07-21T11:58:42.324Z"
   },
   {
    "duration": 19,
    "start_time": "2022-07-21T11:58:42.353Z"
   },
   {
    "duration": 14,
    "start_time": "2022-07-21T11:58:42.374Z"
   },
   {
    "duration": 7,
    "start_time": "2022-07-21T11:58:42.390Z"
   },
   {
    "duration": 581,
    "start_time": "2022-07-21T11:58:42.398Z"
   },
   {
    "duration": 0,
    "start_time": "2022-07-21T11:58:42.981Z"
   },
   {
    "duration": 0,
    "start_time": "2022-07-21T11:58:42.982Z"
   },
   {
    "duration": 0,
    "start_time": "2022-07-21T11:58:42.983Z"
   },
   {
    "duration": 0,
    "start_time": "2022-07-21T11:58:42.985Z"
   },
   {
    "duration": 0,
    "start_time": "2022-07-21T11:58:42.986Z"
   },
   {
    "duration": 0,
    "start_time": "2022-07-21T11:58:42.987Z"
   },
   {
    "duration": 0,
    "start_time": "2022-07-21T11:58:42.988Z"
   },
   {
    "duration": 0,
    "start_time": "2022-07-21T11:58:42.989Z"
   },
   {
    "duration": 0,
    "start_time": "2022-07-21T11:58:42.990Z"
   },
   {
    "duration": 0,
    "start_time": "2022-07-21T11:58:42.991Z"
   },
   {
    "duration": 0,
    "start_time": "2022-07-21T11:58:42.992Z"
   },
   {
    "duration": 425,
    "start_time": "2022-07-21T11:58:53.698Z"
   },
   {
    "duration": 85,
    "start_time": "2022-07-21T11:58:54.125Z"
   },
   {
    "duration": 15,
    "start_time": "2022-07-21T11:58:54.212Z"
   },
   {
    "duration": 40,
    "start_time": "2022-07-21T11:58:54.229Z"
   },
   {
    "duration": 10,
    "start_time": "2022-07-21T11:58:54.271Z"
   },
   {
    "duration": 20,
    "start_time": "2022-07-21T11:58:54.282Z"
   },
   {
    "duration": 24,
    "start_time": "2022-07-21T11:58:54.303Z"
   },
   {
    "duration": 20,
    "start_time": "2022-07-21T11:58:54.330Z"
   },
   {
    "duration": 13,
    "start_time": "2022-07-21T11:58:54.352Z"
   },
   {
    "duration": 18,
    "start_time": "2022-07-21T11:58:54.367Z"
   },
   {
    "duration": 517,
    "start_time": "2022-07-21T11:58:54.386Z"
   },
   {
    "duration": 0,
    "start_time": "2022-07-21T11:58:54.905Z"
   },
   {
    "duration": 0,
    "start_time": "2022-07-21T11:58:54.906Z"
   },
   {
    "duration": 0,
    "start_time": "2022-07-21T11:58:54.907Z"
   },
   {
    "duration": 0,
    "start_time": "2022-07-21T11:58:54.908Z"
   },
   {
    "duration": 0,
    "start_time": "2022-07-21T11:58:54.910Z"
   },
   {
    "duration": 0,
    "start_time": "2022-07-21T11:58:54.912Z"
   },
   {
    "duration": 0,
    "start_time": "2022-07-21T11:58:54.913Z"
   },
   {
    "duration": 0,
    "start_time": "2022-07-21T11:58:54.914Z"
   },
   {
    "duration": 0,
    "start_time": "2022-07-21T11:58:54.916Z"
   },
   {
    "duration": 0,
    "start_time": "2022-07-21T11:58:54.917Z"
   },
   {
    "duration": 0,
    "start_time": "2022-07-21T11:58:54.918Z"
   },
   {
    "duration": 14,
    "start_time": "2022-07-21T11:58:58.138Z"
   },
   {
    "duration": 350,
    "start_time": "2022-07-21T11:59:10.575Z"
   },
   {
    "duration": 85,
    "start_time": "2022-07-21T11:59:10.926Z"
   },
   {
    "duration": 15,
    "start_time": "2022-07-21T11:59:11.013Z"
   },
   {
    "duration": 40,
    "start_time": "2022-07-21T11:59:11.031Z"
   },
   {
    "duration": 10,
    "start_time": "2022-07-21T11:59:11.073Z"
   },
   {
    "duration": 19,
    "start_time": "2022-07-21T11:59:11.085Z"
   },
   {
    "duration": 24,
    "start_time": "2022-07-21T11:59:11.105Z"
   },
   {
    "duration": 18,
    "start_time": "2022-07-21T11:59:11.131Z"
   },
   {
    "duration": 12,
    "start_time": "2022-07-21T11:59:11.150Z"
   },
   {
    "duration": 5,
    "start_time": "2022-07-21T11:59:11.164Z"
   },
   {
    "duration": 535,
    "start_time": "2022-07-21T11:59:11.171Z"
   },
   {
    "duration": 0,
    "start_time": "2022-07-21T11:59:11.708Z"
   },
   {
    "duration": 0,
    "start_time": "2022-07-21T11:59:11.709Z"
   },
   {
    "duration": 0,
    "start_time": "2022-07-21T11:59:11.710Z"
   },
   {
    "duration": 0,
    "start_time": "2022-07-21T11:59:11.711Z"
   },
   {
    "duration": 0,
    "start_time": "2022-07-21T11:59:11.712Z"
   },
   {
    "duration": 0,
    "start_time": "2022-07-21T11:59:11.714Z"
   },
   {
    "duration": 0,
    "start_time": "2022-07-21T11:59:11.715Z"
   },
   {
    "duration": 0,
    "start_time": "2022-07-21T11:59:11.716Z"
   },
   {
    "duration": 0,
    "start_time": "2022-07-21T11:59:11.717Z"
   },
   {
    "duration": 0,
    "start_time": "2022-07-21T11:59:11.718Z"
   },
   {
    "duration": 0,
    "start_time": "2022-07-21T11:59:11.718Z"
   },
   {
    "duration": 19,
    "start_time": "2022-07-21T11:59:14.061Z"
   },
   {
    "duration": 21,
    "start_time": "2022-07-21T11:59:43.972Z"
   },
   {
    "duration": 4,
    "start_time": "2022-07-21T12:00:13.002Z"
   },
   {
    "duration": 12,
    "start_time": "2022-07-21T12:00:14.112Z"
   },
   {
    "duration": 16,
    "start_time": "2022-07-21T12:00:14.432Z"
   },
   {
    "duration": 379,
    "start_time": "2022-07-21T12:00:20.555Z"
   },
   {
    "duration": 89,
    "start_time": "2022-07-21T12:00:20.935Z"
   },
   {
    "duration": 16,
    "start_time": "2022-07-21T12:00:21.026Z"
   },
   {
    "duration": 41,
    "start_time": "2022-07-21T12:00:21.044Z"
   },
   {
    "duration": 11,
    "start_time": "2022-07-21T12:00:21.087Z"
   },
   {
    "duration": 29,
    "start_time": "2022-07-21T12:00:21.099Z"
   },
   {
    "duration": 33,
    "start_time": "2022-07-21T12:00:21.129Z"
   },
   {
    "duration": 18,
    "start_time": "2022-07-21T12:00:21.163Z"
   },
   {
    "duration": 13,
    "start_time": "2022-07-21T12:00:21.183Z"
   },
   {
    "duration": 6,
    "start_time": "2022-07-21T12:00:21.199Z"
   },
   {
    "duration": 23,
    "start_time": "2022-07-21T12:00:21.206Z"
   },
   {
    "duration": 14,
    "start_time": "2022-07-21T12:00:21.230Z"
   },
   {
    "duration": 14,
    "start_time": "2022-07-21T12:00:21.246Z"
   },
   {
    "duration": 9,
    "start_time": "2022-07-21T12:00:21.262Z"
   },
   {
    "duration": 3,
    "start_time": "2022-07-21T12:00:21.273Z"
   },
   {
    "duration": 8,
    "start_time": "2022-07-21T12:00:21.278Z"
   },
   {
    "duration": 7,
    "start_time": "2022-07-21T12:00:21.288Z"
   },
   {
    "duration": 5,
    "start_time": "2022-07-21T12:00:21.324Z"
   },
   {
    "duration": 10,
    "start_time": "2022-07-21T12:00:21.330Z"
   },
   {
    "duration": 5,
    "start_time": "2022-07-21T12:00:21.342Z"
   },
   {
    "duration": 8,
    "start_time": "2022-07-21T12:00:21.348Z"
   },
   {
    "duration": 17,
    "start_time": "2022-07-21T12:00:21.357Z"
   },
   {
    "duration": 20,
    "start_time": "2022-07-21T12:00:21.375Z"
   },
   {
    "duration": 381,
    "start_time": "2022-07-21T12:02:08.756Z"
   },
   {
    "duration": 84,
    "start_time": "2022-07-21T12:02:09.139Z"
   },
   {
    "duration": 15,
    "start_time": "2022-07-21T12:02:09.225Z"
   },
   {
    "duration": 42,
    "start_time": "2022-07-21T12:02:09.242Z"
   },
   {
    "duration": 10,
    "start_time": "2022-07-21T12:02:09.285Z"
   },
   {
    "duration": 21,
    "start_time": "2022-07-21T12:02:09.296Z"
   },
   {
    "duration": 18,
    "start_time": "2022-07-21T12:02:09.319Z"
   },
   {
    "duration": 18,
    "start_time": "2022-07-21T12:02:09.339Z"
   },
   {
    "duration": 12,
    "start_time": "2022-07-21T12:02:09.359Z"
   },
   {
    "duration": 10,
    "start_time": "2022-07-21T12:02:09.373Z"
   },
   {
    "duration": 7,
    "start_time": "2022-07-21T12:02:09.385Z"
   },
   {
    "duration": 30,
    "start_time": "2022-07-21T12:02:09.394Z"
   },
   {
    "duration": 15,
    "start_time": "2022-07-21T12:02:09.425Z"
   },
   {
    "duration": 10,
    "start_time": "2022-07-21T12:02:09.442Z"
   },
   {
    "duration": 7,
    "start_time": "2022-07-21T12:02:09.453Z"
   },
   {
    "duration": 9,
    "start_time": "2022-07-21T12:02:09.462Z"
   },
   {
    "duration": 6,
    "start_time": "2022-07-21T12:02:09.473Z"
   },
   {
    "duration": 14,
    "start_time": "2022-07-21T12:02:09.480Z"
   },
   {
    "duration": 10,
    "start_time": "2022-07-21T12:02:09.495Z"
   },
   {
    "duration": 18,
    "start_time": "2022-07-21T12:02:09.506Z"
   },
   {
    "duration": 4,
    "start_time": "2022-07-21T12:02:09.526Z"
   },
   {
    "duration": 15,
    "start_time": "2022-07-21T12:02:09.531Z"
   },
   {
    "duration": 29,
    "start_time": "2022-07-21T12:02:09.547Z"
   },
   {
    "duration": 410,
    "start_time": "2022-07-21T12:02:27.513Z"
   },
   {
    "duration": 87,
    "start_time": "2022-07-21T12:02:27.925Z"
   },
   {
    "duration": 15,
    "start_time": "2022-07-21T12:02:28.013Z"
   },
   {
    "duration": 40,
    "start_time": "2022-07-21T12:02:28.030Z"
   },
   {
    "duration": 10,
    "start_time": "2022-07-21T12:02:28.071Z"
   },
   {
    "duration": 21,
    "start_time": "2022-07-21T12:02:28.082Z"
   },
   {
    "duration": 24,
    "start_time": "2022-07-21T12:02:28.105Z"
   },
   {
    "duration": 23,
    "start_time": "2022-07-21T12:02:28.130Z"
   },
   {
    "duration": 27,
    "start_time": "2022-07-21T12:02:28.154Z"
   },
   {
    "duration": 5,
    "start_time": "2022-07-21T12:02:28.184Z"
   },
   {
    "duration": 15,
    "start_time": "2022-07-21T12:02:28.191Z"
   },
   {
    "duration": 16,
    "start_time": "2022-07-21T12:02:28.207Z"
   },
   {
    "duration": 15,
    "start_time": "2022-07-21T12:02:28.225Z"
   },
   {
    "duration": 11,
    "start_time": "2022-07-21T12:02:28.242Z"
   },
   {
    "duration": 6,
    "start_time": "2022-07-21T12:02:28.255Z"
   },
   {
    "duration": 9,
    "start_time": "2022-07-21T12:02:28.263Z"
   },
   {
    "duration": 9,
    "start_time": "2022-07-21T12:02:28.273Z"
   },
   {
    "duration": 10,
    "start_time": "2022-07-21T12:02:28.284Z"
   },
   {
    "duration": 28,
    "start_time": "2022-07-21T12:02:28.296Z"
   },
   {
    "duration": 5,
    "start_time": "2022-07-21T12:02:28.325Z"
   },
   {
    "duration": 17,
    "start_time": "2022-07-21T12:02:28.331Z"
   },
   {
    "duration": 17,
    "start_time": "2022-07-21T12:02:28.350Z"
   },
   {
    "duration": 24,
    "start_time": "2022-07-21T12:02:28.369Z"
   },
   {
    "duration": 369,
    "start_time": "2022-07-21T12:02:37.478Z"
   },
   {
    "duration": 82,
    "start_time": "2022-07-21T12:02:37.849Z"
   },
   {
    "duration": 14,
    "start_time": "2022-07-21T12:02:37.933Z"
   },
   {
    "duration": 40,
    "start_time": "2022-07-21T12:02:37.949Z"
   },
   {
    "duration": 9,
    "start_time": "2022-07-21T12:02:37.991Z"
   },
   {
    "duration": 19,
    "start_time": "2022-07-21T12:02:38.002Z"
   },
   {
    "duration": 22,
    "start_time": "2022-07-21T12:02:38.023Z"
   },
   {
    "duration": 19,
    "start_time": "2022-07-21T12:02:38.047Z"
   },
   {
    "duration": 12,
    "start_time": "2022-07-21T12:02:38.067Z"
   },
   {
    "duration": 5,
    "start_time": "2022-07-21T12:02:38.082Z"
   },
   {
    "duration": 9,
    "start_time": "2022-07-21T12:02:38.089Z"
   },
   {
    "duration": 36,
    "start_time": "2022-07-21T12:02:38.099Z"
   },
   {
    "duration": 14,
    "start_time": "2022-07-21T12:02:38.137Z"
   },
   {
    "duration": 12,
    "start_time": "2022-07-21T12:02:38.152Z"
   },
   {
    "duration": 8,
    "start_time": "2022-07-21T12:02:38.165Z"
   },
   {
    "duration": 9,
    "start_time": "2022-07-21T12:02:38.174Z"
   },
   {
    "duration": 4,
    "start_time": "2022-07-21T12:02:38.185Z"
   },
   {
    "duration": 33,
    "start_time": "2022-07-21T12:02:38.191Z"
   },
   {
    "duration": 9,
    "start_time": "2022-07-21T12:02:38.225Z"
   },
   {
    "duration": 10,
    "start_time": "2022-07-21T12:02:38.236Z"
   },
   {
    "duration": 12,
    "start_time": "2022-07-21T12:02:38.247Z"
   },
   {
    "duration": 25,
    "start_time": "2022-07-21T12:02:38.260Z"
   },
   {
    "duration": 42,
    "start_time": "2022-07-21T12:02:38.286Z"
   },
   {
    "duration": 444,
    "start_time": "2022-07-21T12:13:36.911Z"
   },
   {
    "duration": 110,
    "start_time": "2022-07-21T12:13:37.357Z"
   },
   {
    "duration": 20,
    "start_time": "2022-07-21T12:13:37.469Z"
   },
   {
    "duration": 44,
    "start_time": "2022-07-21T12:13:37.491Z"
   },
   {
    "duration": 11,
    "start_time": "2022-07-21T12:13:37.537Z"
   },
   {
    "duration": 21,
    "start_time": "2022-07-21T12:13:37.549Z"
   },
   {
    "duration": 21,
    "start_time": "2022-07-21T12:13:37.571Z"
   },
   {
    "duration": 31,
    "start_time": "2022-07-21T12:13:37.594Z"
   },
   {
    "duration": 15,
    "start_time": "2022-07-21T12:13:37.627Z"
   },
   {
    "duration": 16,
    "start_time": "2022-07-21T12:13:37.645Z"
   },
   {
    "duration": 11,
    "start_time": "2022-07-21T12:13:37.663Z"
   },
   {
    "duration": 19,
    "start_time": "2022-07-21T12:13:37.676Z"
   },
   {
    "duration": 28,
    "start_time": "2022-07-21T12:13:37.696Z"
   },
   {
    "duration": 8,
    "start_time": "2022-07-21T12:13:37.725Z"
   },
   {
    "duration": 9,
    "start_time": "2022-07-21T12:13:37.735Z"
   },
   {
    "duration": 11,
    "start_time": "2022-07-21T12:13:37.746Z"
   },
   {
    "duration": 9,
    "start_time": "2022-07-21T12:13:37.758Z"
   },
   {
    "duration": 7,
    "start_time": "2022-07-21T12:13:37.769Z"
   },
   {
    "duration": 9,
    "start_time": "2022-07-21T12:13:37.778Z"
   },
   {
    "duration": 8,
    "start_time": "2022-07-21T12:13:37.788Z"
   },
   {
    "duration": 28,
    "start_time": "2022-07-21T12:13:37.797Z"
   },
   {
    "duration": 14,
    "start_time": "2022-07-21T12:13:37.827Z"
   },
   {
    "duration": 403,
    "start_time": "2022-07-21T12:16:21.035Z"
   },
   {
    "duration": 87,
    "start_time": "2022-07-21T12:16:21.440Z"
   },
   {
    "duration": 16,
    "start_time": "2022-07-21T12:16:21.529Z"
   },
   {
    "duration": 40,
    "start_time": "2022-07-21T12:16:21.547Z"
   },
   {
    "duration": 10,
    "start_time": "2022-07-21T12:16:21.588Z"
   },
   {
    "duration": 19,
    "start_time": "2022-07-21T12:16:21.600Z"
   },
   {
    "duration": 26,
    "start_time": "2022-07-21T12:16:21.620Z"
   },
   {
    "duration": 18,
    "start_time": "2022-07-21T12:16:21.647Z"
   },
   {
    "duration": 14,
    "start_time": "2022-07-21T12:16:21.667Z"
   },
   {
    "duration": 5,
    "start_time": "2022-07-21T12:16:21.683Z"
   },
   {
    "duration": 8,
    "start_time": "2022-07-21T12:16:21.689Z"
   },
   {
    "duration": 34,
    "start_time": "2022-07-21T12:16:21.698Z"
   },
   {
    "duration": 15,
    "start_time": "2022-07-21T12:16:21.734Z"
   },
   {
    "duration": 15,
    "start_time": "2022-07-21T12:16:21.751Z"
   },
   {
    "duration": 8,
    "start_time": "2022-07-21T12:16:21.768Z"
   },
   {
    "duration": 18,
    "start_time": "2022-07-21T12:16:21.777Z"
   },
   {
    "duration": 12,
    "start_time": "2022-07-21T12:16:21.797Z"
   },
   {
    "duration": 15,
    "start_time": "2022-07-21T12:16:21.811Z"
   },
   {
    "duration": 11,
    "start_time": "2022-07-21T12:16:21.828Z"
   },
   {
    "duration": 9,
    "start_time": "2022-07-21T12:16:21.840Z"
   },
   {
    "duration": 8,
    "start_time": "2022-07-21T12:16:21.851Z"
   },
   {
    "duration": 17,
    "start_time": "2022-07-21T12:16:21.860Z"
   },
   {
    "duration": 415,
    "start_time": "2022-07-21T12:16:38.221Z"
   },
   {
    "duration": 90,
    "start_time": "2022-07-21T12:16:38.638Z"
   },
   {
    "duration": 19,
    "start_time": "2022-07-21T12:16:38.730Z"
   },
   {
    "duration": 52,
    "start_time": "2022-07-21T12:16:38.751Z"
   },
   {
    "duration": 12,
    "start_time": "2022-07-21T12:16:38.805Z"
   },
   {
    "duration": 22,
    "start_time": "2022-07-21T12:16:38.819Z"
   },
   {
    "duration": 31,
    "start_time": "2022-07-21T12:16:38.843Z"
   },
   {
    "duration": 22,
    "start_time": "2022-07-21T12:16:38.876Z"
   },
   {
    "duration": 28,
    "start_time": "2022-07-21T12:16:38.900Z"
   },
   {
    "duration": 5,
    "start_time": "2022-07-21T12:16:38.931Z"
   },
   {
    "duration": 8,
    "start_time": "2022-07-21T12:16:38.938Z"
   },
   {
    "duration": 15,
    "start_time": "2022-07-21T12:16:38.947Z"
   },
   {
    "duration": 15,
    "start_time": "2022-07-21T12:16:38.964Z"
   },
   {
    "duration": 13,
    "start_time": "2022-07-21T12:16:38.981Z"
   },
   {
    "duration": 28,
    "start_time": "2022-07-21T12:16:38.997Z"
   },
   {
    "duration": 8,
    "start_time": "2022-07-21T12:16:39.027Z"
   },
   {
    "duration": 5,
    "start_time": "2022-07-21T12:16:39.037Z"
   },
   {
    "duration": 6,
    "start_time": "2022-07-21T12:16:39.044Z"
   },
   {
    "duration": 8,
    "start_time": "2022-07-21T12:16:39.052Z"
   },
   {
    "duration": 10,
    "start_time": "2022-07-21T12:16:39.062Z"
   },
   {
    "duration": 6,
    "start_time": "2022-07-21T12:16:39.074Z"
   },
   {
    "duration": 53,
    "start_time": "2022-07-21T12:16:39.082Z"
   },
   {
    "duration": 4,
    "start_time": "2022-07-21T12:29:31.223Z"
   },
   {
    "duration": 4,
    "start_time": "2022-07-21T12:31:04.163Z"
   },
   {
    "duration": 14,
    "start_time": "2022-07-21T12:31:36.436Z"
   },
   {
    "duration": 83,
    "start_time": "2022-07-21T12:40:00.305Z"
   },
   {
    "duration": 4,
    "start_time": "2022-07-21T12:40:22.341Z"
   },
   {
    "duration": 15,
    "start_time": "2022-07-21T12:40:29.334Z"
   },
   {
    "duration": 18,
    "start_time": "2022-07-21T12:40:38.507Z"
   },
   {
    "duration": 342,
    "start_time": "2022-07-21T14:23:25.252Z"
   },
   {
    "duration": 322,
    "start_time": "2022-07-21T14:23:25.596Z"
   },
   {
    "duration": 17,
    "start_time": "2022-07-21T14:23:25.919Z"
   },
   {
    "duration": 196,
    "start_time": "2022-07-21T14:23:25.939Z"
   },
   {
    "duration": 10,
    "start_time": "2022-07-21T14:23:26.137Z"
   },
   {
    "duration": 16,
    "start_time": "2022-07-21T14:23:26.148Z"
   },
   {
    "duration": 20,
    "start_time": "2022-07-21T14:23:26.166Z"
   },
   {
    "duration": 20,
    "start_time": "2022-07-21T14:23:26.188Z"
   },
   {
    "duration": 15,
    "start_time": "2022-07-21T14:23:26.213Z"
   },
   {
    "duration": 12,
    "start_time": "2022-07-21T14:23:26.232Z"
   },
   {
    "duration": 6,
    "start_time": "2022-07-21T14:23:26.245Z"
   },
   {
    "duration": 12,
    "start_time": "2022-07-21T14:23:26.252Z"
   },
   {
    "duration": 14,
    "start_time": "2022-07-21T14:23:26.265Z"
   },
   {
    "duration": 13,
    "start_time": "2022-07-21T14:23:26.280Z"
   },
   {
    "duration": 16,
    "start_time": "2022-07-21T14:23:26.294Z"
   },
   {
    "duration": 20,
    "start_time": "2022-07-21T14:23:26.315Z"
   },
   {
    "duration": 4,
    "start_time": "2022-07-21T14:23:26.337Z"
   },
   {
    "duration": 7,
    "start_time": "2022-07-21T14:23:26.342Z"
   },
   {
    "duration": 9,
    "start_time": "2022-07-21T14:23:26.350Z"
   },
   {
    "duration": 12,
    "start_time": "2022-07-21T14:23:26.360Z"
   },
   {
    "duration": 6,
    "start_time": "2022-07-21T14:23:26.373Z"
   },
   {
    "duration": 34,
    "start_time": "2022-07-21T14:23:26.380Z"
   },
   {
    "duration": 4,
    "start_time": "2022-07-21T14:23:26.415Z"
   },
   {
    "duration": 22,
    "start_time": "2022-07-21T14:23:26.420Z"
   },
   {
    "duration": 15,
    "start_time": "2022-07-21T14:23:26.444Z"
   },
   {
    "duration": 9,
    "start_time": "2022-07-21T14:23:26.502Z"
   },
   {
    "duration": 42,
    "start_time": "2022-07-21T14:23:26.513Z"
   },
   {
    "duration": 3,
    "start_time": "2022-07-21T14:28:06.427Z"
   },
   {
    "duration": 477,
    "start_time": "2022-07-21T14:33:08.219Z"
   },
   {
    "duration": 4,
    "start_time": "2022-07-21T14:33:13.632Z"
   },
   {
    "duration": 428,
    "start_time": "2022-07-21T14:33:14.128Z"
   },
   {
    "duration": 1248,
    "start_time": "2022-07-21T14:35:25.132Z"
   },
   {
    "duration": 393,
    "start_time": "2022-07-21T14:35:38.634Z"
   },
   {
    "duration": 83,
    "start_time": "2022-07-21T14:35:39.028Z"
   },
   {
    "duration": 20,
    "start_time": "2022-07-21T14:35:39.119Z"
   },
   {
    "duration": 52,
    "start_time": "2022-07-21T14:35:39.141Z"
   },
   {
    "duration": 20,
    "start_time": "2022-07-21T14:35:39.194Z"
   },
   {
    "duration": 36,
    "start_time": "2022-07-21T14:35:39.218Z"
   },
   {
    "duration": 19,
    "start_time": "2022-07-21T14:35:39.255Z"
   },
   {
    "duration": 18,
    "start_time": "2022-07-21T14:35:39.276Z"
   },
   {
    "duration": 15,
    "start_time": "2022-07-21T14:35:39.295Z"
   },
   {
    "duration": 21,
    "start_time": "2022-07-21T14:35:39.321Z"
   },
   {
    "duration": 6,
    "start_time": "2022-07-21T14:35:39.343Z"
   },
   {
    "duration": 11,
    "start_time": "2022-07-21T14:35:39.350Z"
   },
   {
    "duration": 14,
    "start_time": "2022-07-21T14:35:39.362Z"
   },
   {
    "duration": 7,
    "start_time": "2022-07-21T14:35:39.377Z"
   },
   {
    "duration": 6,
    "start_time": "2022-07-21T14:35:39.385Z"
   },
   {
    "duration": 16,
    "start_time": "2022-07-21T14:35:39.392Z"
   },
   {
    "duration": 8,
    "start_time": "2022-07-21T14:35:39.419Z"
   },
   {
    "duration": 13,
    "start_time": "2022-07-21T14:35:39.428Z"
   },
   {
    "duration": 7,
    "start_time": "2022-07-21T14:35:39.443Z"
   },
   {
    "duration": 8,
    "start_time": "2022-07-21T14:35:39.452Z"
   },
   {
    "duration": 10,
    "start_time": "2022-07-21T14:35:39.461Z"
   },
   {
    "duration": 17,
    "start_time": "2022-07-21T14:35:39.472Z"
   },
   {
    "duration": 4,
    "start_time": "2022-07-21T14:35:39.491Z"
   },
   {
    "duration": 17,
    "start_time": "2022-07-21T14:35:39.496Z"
   },
   {
    "duration": 33,
    "start_time": "2022-07-21T14:35:39.514Z"
   },
   {
    "duration": 6,
    "start_time": "2022-07-21T14:35:39.549Z"
   },
   {
    "duration": 1379,
    "start_time": "2022-07-21T14:35:39.556Z"
   },
   {
    "duration": 0,
    "start_time": "2022-07-21T14:35:40.936Z"
   },
   {
    "duration": 0,
    "start_time": "2022-07-21T14:35:40.938Z"
   },
   {
    "duration": 3,
    "start_time": "2022-07-21T14:38:11.437Z"
   },
   {
    "duration": 445,
    "start_time": "2022-07-21T14:38:11.829Z"
   },
   {
    "duration": 23,
    "start_time": "2022-07-21T14:38:28.497Z"
   },
   {
    "duration": 5,
    "start_time": "2022-07-21T14:41:26.035Z"
   },
   {
    "duration": 421,
    "start_time": "2022-07-21T14:41:26.450Z"
   },
   {
    "duration": 2,
    "start_time": "2022-07-21T14:41:34.386Z"
   },
   {
    "duration": 479,
    "start_time": "2022-07-21T14:41:34.681Z"
   },
   {
    "duration": 2,
    "start_time": "2022-07-21T14:41:41.593Z"
   },
   {
    "duration": 438,
    "start_time": "2022-07-21T14:41:41.945Z"
   },
   {
    "duration": 11,
    "start_time": "2022-07-21T14:43:12.829Z"
   },
   {
    "duration": 85,
    "start_time": "2022-07-21T14:49:29.545Z"
   },
   {
    "duration": 15,
    "start_time": "2022-07-21T14:50:03.763Z"
   },
   {
    "duration": 7,
    "start_time": "2022-07-21T14:51:41.858Z"
   },
   {
    "duration": 7,
    "start_time": "2022-07-21T14:51:52.184Z"
   },
   {
    "duration": 13,
    "start_time": "2022-07-21T14:51:52.443Z"
   },
   {
    "duration": 10,
    "start_time": "2022-07-21T14:54:21.338Z"
   },
   {
    "duration": 404,
    "start_time": "2022-07-21T14:54:29.527Z"
   },
   {
    "duration": 116,
    "start_time": "2022-07-21T14:54:29.932Z"
   },
   {
    "duration": 15,
    "start_time": "2022-07-21T14:54:30.052Z"
   },
   {
    "duration": 67,
    "start_time": "2022-07-21T14:54:30.069Z"
   },
   {
    "duration": 10,
    "start_time": "2022-07-21T14:54:30.139Z"
   },
   {
    "duration": 15,
    "start_time": "2022-07-21T14:54:30.151Z"
   },
   {
    "duration": 25,
    "start_time": "2022-07-21T14:54:30.167Z"
   },
   {
    "duration": 33,
    "start_time": "2022-07-21T14:54:30.194Z"
   },
   {
    "duration": 27,
    "start_time": "2022-07-21T14:54:30.233Z"
   },
   {
    "duration": 6,
    "start_time": "2022-07-21T14:54:30.261Z"
   },
   {
    "duration": 10,
    "start_time": "2022-07-21T14:54:30.268Z"
   },
   {
    "duration": 17,
    "start_time": "2022-07-21T14:54:30.280Z"
   },
   {
    "duration": 61,
    "start_time": "2022-07-21T14:54:30.299Z"
   },
   {
    "duration": 18,
    "start_time": "2022-07-21T14:54:30.362Z"
   },
   {
    "duration": 15,
    "start_time": "2022-07-21T14:54:30.382Z"
   },
   {
    "duration": 35,
    "start_time": "2022-07-21T14:54:30.399Z"
   },
   {
    "duration": 22,
    "start_time": "2022-07-21T14:54:30.436Z"
   },
   {
    "duration": 10,
    "start_time": "2022-07-21T14:54:30.460Z"
   },
   {
    "duration": 6,
    "start_time": "2022-07-21T14:54:30.471Z"
   },
   {
    "duration": 14,
    "start_time": "2022-07-21T14:54:30.478Z"
   },
   {
    "duration": 16,
    "start_time": "2022-07-21T14:54:30.493Z"
   },
   {
    "duration": 41,
    "start_time": "2022-07-21T14:54:30.512Z"
   },
   {
    "duration": 20,
    "start_time": "2022-07-21T14:54:30.555Z"
   },
   {
    "duration": 24,
    "start_time": "2022-07-21T14:54:30.576Z"
   },
   {
    "duration": 30,
    "start_time": "2022-07-21T14:54:30.602Z"
   },
   {
    "duration": 23,
    "start_time": "2022-07-21T14:54:30.636Z"
   },
   {
    "duration": 22,
    "start_time": "2022-07-21T14:54:30.661Z"
   },
   {
    "duration": 9,
    "start_time": "2022-07-21T14:54:30.685Z"
   },
   {
    "duration": 12,
    "start_time": "2022-07-21T14:54:30.696Z"
   },
   {
    "duration": 49,
    "start_time": "2022-07-21T14:54:30.710Z"
   },
   {
    "duration": 94,
    "start_time": "2022-07-21T14:54:30.761Z"
   },
   {
    "duration": 0,
    "start_time": "2022-07-21T14:54:30.857Z"
   },
   {
    "duration": 359,
    "start_time": "2022-07-21T14:55:40.729Z"
   },
   {
    "duration": 116,
    "start_time": "2022-07-21T14:55:41.089Z"
   },
   {
    "duration": 22,
    "start_time": "2022-07-21T14:55:41.209Z"
   },
   {
    "duration": 56,
    "start_time": "2022-07-21T14:55:41.235Z"
   },
   {
    "duration": 17,
    "start_time": "2022-07-21T14:55:41.293Z"
   },
   {
    "duration": 46,
    "start_time": "2022-07-21T14:55:41.313Z"
   },
   {
    "duration": 18,
    "start_time": "2022-07-21T14:55:41.360Z"
   },
   {
    "duration": 18,
    "start_time": "2022-07-21T14:55:41.379Z"
   },
   {
    "duration": 23,
    "start_time": "2022-07-21T14:55:41.398Z"
   },
   {
    "duration": 35,
    "start_time": "2022-07-21T14:55:41.425Z"
   },
   {
    "duration": 7,
    "start_time": "2022-07-21T14:55:41.461Z"
   },
   {
    "duration": 14,
    "start_time": "2022-07-21T14:55:41.469Z"
   },
   {
    "duration": 19,
    "start_time": "2022-07-21T14:55:41.485Z"
   },
   {
    "duration": 47,
    "start_time": "2022-07-21T14:55:41.509Z"
   },
   {
    "duration": 6,
    "start_time": "2022-07-21T14:55:41.558Z"
   },
   {
    "duration": 4,
    "start_time": "2022-07-21T14:55:41.566Z"
   },
   {
    "duration": 7,
    "start_time": "2022-07-21T14:55:41.571Z"
   },
   {
    "duration": 6,
    "start_time": "2022-07-21T14:55:41.579Z"
   },
   {
    "duration": 7,
    "start_time": "2022-07-21T14:55:41.586Z"
   },
   {
    "duration": 6,
    "start_time": "2022-07-21T14:55:41.595Z"
   },
   {
    "duration": 65,
    "start_time": "2022-07-21T14:55:41.604Z"
   },
   {
    "duration": 8,
    "start_time": "2022-07-21T14:55:41.671Z"
   },
   {
    "duration": 15,
    "start_time": "2022-07-21T14:55:41.681Z"
   },
   {
    "duration": 3,
    "start_time": "2022-07-21T14:55:41.698Z"
   },
   {
    "duration": 49,
    "start_time": "2022-07-21T14:55:41.703Z"
   },
   {
    "duration": 17,
    "start_time": "2022-07-21T14:55:41.754Z"
   },
   {
    "duration": 4,
    "start_time": "2022-07-21T14:55:41.772Z"
   },
   {
    "duration": 7,
    "start_time": "2022-07-21T14:55:41.778Z"
   },
   {
    "duration": 9,
    "start_time": "2022-07-21T14:55:41.786Z"
   },
   {
    "duration": 42,
    "start_time": "2022-07-21T14:55:41.796Z"
   },
   {
    "duration": 31,
    "start_time": "2022-07-21T14:55:41.843Z"
   },
   {
    "duration": 6,
    "start_time": "2022-07-21T14:56:20.393Z"
   },
   {
    "duration": 21,
    "start_time": "2022-07-21T14:56:29.021Z"
   },
   {
    "duration": 18,
    "start_time": "2022-07-21T14:56:35.365Z"
   },
   {
    "duration": 364,
    "start_time": "2022-07-21T14:56:53.947Z"
   },
   {
    "duration": 103,
    "start_time": "2022-07-21T14:56:54.313Z"
   },
   {
    "duration": 21,
    "start_time": "2022-07-21T14:56:54.418Z"
   },
   {
    "duration": 49,
    "start_time": "2022-07-21T14:56:54.443Z"
   },
   {
    "duration": 17,
    "start_time": "2022-07-21T14:56:54.494Z"
   },
   {
    "duration": 42,
    "start_time": "2022-07-21T14:56:54.525Z"
   },
   {
    "duration": 20,
    "start_time": "2022-07-21T14:56:54.568Z"
   },
   {
    "duration": 28,
    "start_time": "2022-07-21T14:56:54.589Z"
   },
   {
    "duration": 21,
    "start_time": "2022-07-21T14:56:54.619Z"
   },
   {
    "duration": 12,
    "start_time": "2022-07-21T14:56:54.644Z"
   },
   {
    "duration": 8,
    "start_time": "2022-07-21T14:56:54.657Z"
   },
   {
    "duration": 12,
    "start_time": "2022-07-21T14:56:54.667Z"
   },
   {
    "duration": 13,
    "start_time": "2022-07-21T14:56:54.681Z"
   },
   {
    "duration": 10,
    "start_time": "2022-07-21T14:56:54.698Z"
   },
   {
    "duration": 22,
    "start_time": "2022-07-21T14:56:54.710Z"
   },
   {
    "duration": 21,
    "start_time": "2022-07-21T14:56:54.734Z"
   },
   {
    "duration": 8,
    "start_time": "2022-07-21T14:56:54.757Z"
   },
   {
    "duration": 8,
    "start_time": "2022-07-21T14:56:54.766Z"
   },
   {
    "duration": 8,
    "start_time": "2022-07-21T14:56:54.775Z"
   },
   {
    "duration": 8,
    "start_time": "2022-07-21T14:56:54.784Z"
   },
   {
    "duration": 6,
    "start_time": "2022-07-21T14:56:54.793Z"
   },
   {
    "duration": 49,
    "start_time": "2022-07-21T14:56:54.801Z"
   },
   {
    "duration": 15,
    "start_time": "2022-07-21T14:56:54.852Z"
   },
   {
    "duration": 3,
    "start_time": "2022-07-21T14:56:54.868Z"
   },
   {
    "duration": 6,
    "start_time": "2022-07-21T14:56:54.872Z"
   },
   {
    "duration": 16,
    "start_time": "2022-07-21T14:56:54.880Z"
   },
   {
    "duration": 12,
    "start_time": "2022-07-21T14:56:54.897Z"
   },
   {
    "duration": 40,
    "start_time": "2022-07-21T14:56:54.916Z"
   },
   {
    "duration": 22,
    "start_time": "2022-07-21T14:56:54.957Z"
   },
   {
    "duration": 4,
    "start_time": "2022-07-21T14:56:54.981Z"
   },
   {
    "duration": 29,
    "start_time": "2022-07-21T14:56:54.987Z"
   },
   {
    "duration": 6,
    "start_time": "2022-07-21T15:23:35.436Z"
   },
   {
    "duration": 13,
    "start_time": "2022-07-21T15:30:07.594Z"
   },
   {
    "duration": 14,
    "start_time": "2022-07-21T15:30:15.641Z"
   },
   {
    "duration": 78,
    "start_time": "2022-07-21T15:31:40.333Z"
   },
   {
    "duration": 16,
    "start_time": "2022-07-21T15:31:49.837Z"
   },
   {
    "duration": 139,
    "start_time": "2022-07-21T15:32:04.898Z"
   },
   {
    "duration": 12,
    "start_time": "2022-07-21T15:32:23.585Z"
   },
   {
    "duration": 596,
    "start_time": "2022-07-21T15:35:22.599Z"
   },
   {
    "duration": 13,
    "start_time": "2022-07-21T15:35:31.441Z"
   },
   {
    "duration": 21,
    "start_time": "2022-07-21T15:35:42.136Z"
   },
   {
    "duration": 21,
    "start_time": "2022-07-21T15:39:18.249Z"
   },
   {
    "duration": 484,
    "start_time": "2022-07-23T02:09:09.044Z"
   },
   {
    "duration": 237,
    "start_time": "2022-07-23T02:09:09.530Z"
   },
   {
    "duration": 16,
    "start_time": "2022-07-23T02:09:09.769Z"
   },
   {
    "duration": 130,
    "start_time": "2022-07-23T02:09:09.787Z"
   },
   {
    "duration": 10,
    "start_time": "2022-07-23T02:09:09.918Z"
   },
   {
    "duration": 18,
    "start_time": "2022-07-23T02:09:09.930Z"
   },
   {
    "duration": 45,
    "start_time": "2022-07-23T02:09:09.951Z"
   },
   {
    "duration": 18,
    "start_time": "2022-07-23T02:09:09.997Z"
   },
   {
    "duration": 14,
    "start_time": "2022-07-23T02:09:10.017Z"
   },
   {
    "duration": 9,
    "start_time": "2022-07-23T02:09:10.034Z"
   },
   {
    "duration": 26,
    "start_time": "2022-07-23T02:09:10.045Z"
   },
   {
    "duration": 16,
    "start_time": "2022-07-23T02:09:10.072Z"
   },
   {
    "duration": 16,
    "start_time": "2022-07-23T02:09:10.089Z"
   },
   {
    "duration": 8,
    "start_time": "2022-07-23T02:09:10.107Z"
   },
   {
    "duration": 8,
    "start_time": "2022-07-23T02:09:10.116Z"
   },
   {
    "duration": 9,
    "start_time": "2022-07-23T02:09:10.125Z"
   },
   {
    "duration": 32,
    "start_time": "2022-07-23T02:09:10.135Z"
   },
   {
    "duration": 7,
    "start_time": "2022-07-23T02:09:10.168Z"
   },
   {
    "duration": 7,
    "start_time": "2022-07-23T02:09:10.177Z"
   },
   {
    "duration": 8,
    "start_time": "2022-07-23T02:09:10.186Z"
   },
   {
    "duration": 8,
    "start_time": "2022-07-23T02:09:10.196Z"
   },
   {
    "duration": 6,
    "start_time": "2022-07-23T02:09:10.206Z"
   },
   {
    "duration": 16,
    "start_time": "2022-07-23T02:09:10.214Z"
   },
   {
    "duration": 18,
    "start_time": "2022-07-23T02:09:10.231Z"
   },
   {
    "duration": 25,
    "start_time": "2022-07-23T02:09:10.250Z"
   },
   {
    "duration": 25,
    "start_time": "2022-07-23T02:09:10.277Z"
   },
   {
    "duration": 7,
    "start_time": "2022-07-23T02:09:10.305Z"
   },
   {
    "duration": 14,
    "start_time": "2022-07-23T02:09:10.315Z"
   },
   {
    "duration": 25,
    "start_time": "2022-07-23T02:09:10.330Z"
   },
   {
    "duration": 17,
    "start_time": "2022-07-23T02:09:10.356Z"
   },
   {
    "duration": 26,
    "start_time": "2022-07-23T02:09:10.375Z"
   },
   {
    "duration": 8,
    "start_time": "2022-07-23T02:09:10.403Z"
   },
   {
    "duration": 15,
    "start_time": "2022-07-23T02:09:10.412Z"
   },
   {
    "duration": 36,
    "start_time": "2022-07-23T02:09:10.428Z"
   },
   {
    "duration": 4,
    "start_time": "2022-07-23T02:11:55.049Z"
   },
   {
    "duration": 7,
    "start_time": "2022-07-23T02:12:01.299Z"
   },
   {
    "duration": 5,
    "start_time": "2022-07-23T02:12:13.426Z"
   },
   {
    "duration": 405,
    "start_time": "2022-07-24T05:00:32.627Z"
   },
   {
    "duration": 206,
    "start_time": "2022-07-24T05:00:33.034Z"
   },
   {
    "duration": 16,
    "start_time": "2022-07-24T05:00:33.242Z"
   },
   {
    "duration": 92,
    "start_time": "2022-07-24T05:00:33.260Z"
   },
   {
    "duration": 11,
    "start_time": "2022-07-24T05:00:33.353Z"
   },
   {
    "duration": 30,
    "start_time": "2022-07-24T05:00:33.365Z"
   },
   {
    "duration": 32,
    "start_time": "2022-07-24T05:00:33.397Z"
   },
   {
    "duration": 22,
    "start_time": "2022-07-24T05:00:33.430Z"
   },
   {
    "duration": 14,
    "start_time": "2022-07-24T05:00:33.453Z"
   },
   {
    "duration": 7,
    "start_time": "2022-07-24T05:00:33.470Z"
   },
   {
    "duration": 33,
    "start_time": "2022-07-24T05:00:33.479Z"
   },
   {
    "duration": 16,
    "start_time": "2022-07-24T05:00:33.513Z"
   },
   {
    "duration": 16,
    "start_time": "2022-07-24T05:00:33.531Z"
   },
   {
    "duration": 11,
    "start_time": "2022-07-24T05:00:33.549Z"
   },
   {
    "duration": 9,
    "start_time": "2022-07-24T05:00:33.561Z"
   },
   {
    "duration": 7,
    "start_time": "2022-07-24T05:00:33.572Z"
   },
   {
    "duration": 35,
    "start_time": "2022-07-24T05:00:33.580Z"
   },
   {
    "duration": 5,
    "start_time": "2022-07-24T05:00:33.617Z"
   },
   {
    "duration": 19,
    "start_time": "2022-07-24T05:00:33.623Z"
   },
   {
    "duration": 8,
    "start_time": "2022-07-24T05:00:33.645Z"
   },
   {
    "duration": 14,
    "start_time": "2022-07-24T05:00:33.656Z"
   },
   {
    "duration": 6,
    "start_time": "2022-07-24T05:00:33.672Z"
   },
   {
    "duration": 38,
    "start_time": "2022-07-24T05:00:33.680Z"
   },
   {
    "duration": 3,
    "start_time": "2022-07-24T05:00:33.720Z"
   },
   {
    "duration": 7,
    "start_time": "2022-07-24T05:00:33.725Z"
   },
   {
    "duration": 25,
    "start_time": "2022-07-24T05:00:33.733Z"
   },
   {
    "duration": 7,
    "start_time": "2022-07-24T05:00:33.759Z"
   },
   {
    "duration": 8,
    "start_time": "2022-07-24T05:00:33.769Z"
   },
   {
    "duration": 55,
    "start_time": "2022-07-24T05:00:33.779Z"
   },
   {
    "duration": 7,
    "start_time": "2022-07-24T05:00:33.835Z"
   },
   {
    "duration": 22,
    "start_time": "2022-07-24T05:00:33.844Z"
   },
   {
    "duration": 7,
    "start_time": "2022-07-24T05:00:33.868Z"
   },
   {
    "duration": 40,
    "start_time": "2022-07-24T05:00:33.877Z"
   },
   {
    "duration": 23,
    "start_time": "2022-07-24T05:00:33.919Z"
   },
   {
    "duration": 5,
    "start_time": "2022-07-24T05:00:33.945Z"
   },
   {
    "duration": 4,
    "start_time": "2022-07-24T05:10:14.567Z"
   },
   {
    "duration": 4,
    "start_time": "2022-07-24T05:10:20.355Z"
   },
   {
    "duration": 37,
    "start_time": "2022-07-24T05:10:30.370Z"
   },
   {
    "duration": 12,
    "start_time": "2022-07-24T05:13:16.570Z"
   },
   {
    "duration": 85,
    "start_time": "2022-07-24T05:13:25.717Z"
   },
   {
    "duration": 23,
    "start_time": "2022-07-24T05:13:32.324Z"
   },
   {
    "duration": 4,
    "start_time": "2022-07-24T06:15:21.269Z"
   },
   {
    "duration": 899,
    "start_time": "2022-07-24T06:15:53.146Z"
   },
   {
    "duration": 6,
    "start_time": "2022-07-24T06:16:18.518Z"
   },
   {
    "duration": 9,
    "start_time": "2022-07-24T06:17:29.831Z"
   },
   {
    "duration": 7,
    "start_time": "2022-07-24T06:18:22.925Z"
   },
   {
    "duration": 5,
    "start_time": "2022-07-24T06:18:36.434Z"
   },
   {
    "duration": 71,
    "start_time": "2022-07-24T06:20:07.820Z"
   },
   {
    "duration": 4,
    "start_time": "2022-07-24T06:20:15.883Z"
   },
   {
    "duration": 380,
    "start_time": "2022-07-24T06:20:23.051Z"
   },
   {
    "duration": 96,
    "start_time": "2022-07-24T06:20:23.434Z"
   },
   {
    "duration": 15,
    "start_time": "2022-07-24T06:20:23.533Z"
   },
   {
    "duration": 39,
    "start_time": "2022-07-24T06:20:23.551Z"
   },
   {
    "duration": 15,
    "start_time": "2022-07-24T06:20:23.592Z"
   },
   {
    "duration": 24,
    "start_time": "2022-07-24T06:20:23.610Z"
   },
   {
    "duration": 58,
    "start_time": "2022-07-24T06:20:23.636Z"
   },
   {
    "duration": 27,
    "start_time": "2022-07-24T06:20:23.696Z"
   },
   {
    "duration": 21,
    "start_time": "2022-07-24T06:20:23.725Z"
   },
   {
    "duration": 6,
    "start_time": "2022-07-24T06:20:23.749Z"
   },
   {
    "duration": 9,
    "start_time": "2022-07-24T06:20:23.756Z"
   },
   {
    "duration": 13,
    "start_time": "2022-07-24T06:20:23.767Z"
   },
   {
    "duration": 24,
    "start_time": "2022-07-24T06:20:23.810Z"
   },
   {
    "duration": 13,
    "start_time": "2022-07-24T06:20:23.836Z"
   },
   {
    "duration": 8,
    "start_time": "2022-07-24T06:20:23.851Z"
   },
   {
    "duration": 6,
    "start_time": "2022-07-24T06:20:23.861Z"
   },
   {
    "duration": 41,
    "start_time": "2022-07-24T06:20:23.869Z"
   },
   {
    "duration": 5,
    "start_time": "2022-07-24T06:20:23.912Z"
   },
   {
    "duration": 15,
    "start_time": "2022-07-24T06:20:23.918Z"
   },
   {
    "duration": 9,
    "start_time": "2022-07-24T06:20:23.935Z"
   },
   {
    "duration": 10,
    "start_time": "2022-07-24T06:20:23.946Z"
   },
   {
    "duration": 8,
    "start_time": "2022-07-24T06:20:23.958Z"
   },
   {
    "duration": 52,
    "start_time": "2022-07-24T06:20:23.968Z"
   },
   {
    "duration": 4,
    "start_time": "2022-07-24T06:20:24.022Z"
   },
   {
    "duration": 16,
    "start_time": "2022-07-24T06:20:24.028Z"
   },
   {
    "duration": 27,
    "start_time": "2022-07-24T06:20:24.046Z"
   },
   {
    "duration": 5,
    "start_time": "2022-07-24T06:20:24.075Z"
   },
   {
    "duration": 26,
    "start_time": "2022-07-24T06:20:24.084Z"
   },
   {
    "duration": 18,
    "start_time": "2022-07-24T06:20:24.112Z"
   },
   {
    "duration": 12,
    "start_time": "2022-07-24T06:20:24.132Z"
   },
   {
    "duration": 51,
    "start_time": "2022-07-24T06:20:24.145Z"
   },
   {
    "duration": 30,
    "start_time": "2022-07-24T06:20:24.198Z"
   },
   {
    "duration": 35,
    "start_time": "2022-07-24T06:20:24.229Z"
   },
   {
    "duration": 35,
    "start_time": "2022-07-24T06:20:24.266Z"
   },
   {
    "duration": 29,
    "start_time": "2022-07-24T06:20:24.303Z"
   },
   {
    "duration": 8,
    "start_time": "2022-07-24T06:20:24.334Z"
   },
   {
    "duration": 25,
    "start_time": "2022-07-24T06:20:24.344Z"
   },
   {
    "duration": 19,
    "start_time": "2022-07-24T06:20:24.371Z"
   },
   {
    "duration": 44,
    "start_time": "2022-07-24T06:20:24.391Z"
   },
   {
    "duration": 52,
    "start_time": "2022-07-24T10:53:44.698Z"
   },
   {
    "duration": 426,
    "start_time": "2022-07-24T10:53:52.150Z"
   },
   {
    "duration": 288,
    "start_time": "2022-07-24T10:53:52.579Z"
   },
   {
    "duration": 18,
    "start_time": "2022-07-24T10:53:52.869Z"
   },
   {
    "duration": 85,
    "start_time": "2022-07-24T10:53:52.888Z"
   },
   {
    "duration": 12,
    "start_time": "2022-07-24T10:53:52.975Z"
   },
   {
    "duration": 23,
    "start_time": "2022-07-24T10:53:52.988Z"
   },
   {
    "duration": 38,
    "start_time": "2022-07-24T10:53:53.013Z"
   },
   {
    "duration": 35,
    "start_time": "2022-07-24T10:53:53.054Z"
   },
   {
    "duration": 32,
    "start_time": "2022-07-24T10:53:53.092Z"
   },
   {
    "duration": 6,
    "start_time": "2022-07-24T10:53:53.126Z"
   },
   {
    "duration": 8,
    "start_time": "2022-07-24T10:53:53.135Z"
   },
   {
    "duration": 17,
    "start_time": "2022-07-24T10:53:53.145Z"
   },
   {
    "duration": 48,
    "start_time": "2022-07-24T10:53:53.164Z"
   },
   {
    "duration": 10,
    "start_time": "2022-07-24T10:53:53.217Z"
   },
   {
    "duration": 8,
    "start_time": "2022-07-24T10:53:53.229Z"
   },
   {
    "duration": 5,
    "start_time": "2022-07-24T10:53:53.239Z"
   },
   {
    "duration": 11,
    "start_time": "2022-07-24T10:53:53.246Z"
   },
   {
    "duration": 11,
    "start_time": "2022-07-24T10:53:53.258Z"
   },
   {
    "duration": 12,
    "start_time": "2022-07-24T10:53:53.271Z"
   },
   {
    "duration": 11,
    "start_time": "2022-07-24T10:53:53.311Z"
   },
   {
    "duration": 7,
    "start_time": "2022-07-24T10:53:53.323Z"
   },
   {
    "duration": 6,
    "start_time": "2022-07-24T10:53:53.332Z"
   },
   {
    "duration": 18,
    "start_time": "2022-07-24T10:53:53.339Z"
   },
   {
    "duration": 5,
    "start_time": "2022-07-24T10:53:53.359Z"
   },
   {
    "duration": 47,
    "start_time": "2022-07-24T10:53:53.366Z"
   },
   {
    "duration": 21,
    "start_time": "2022-07-24T10:53:53.417Z"
   },
   {
    "duration": 7,
    "start_time": "2022-07-24T10:53:53.440Z"
   },
   {
    "duration": 10,
    "start_time": "2022-07-24T10:53:53.449Z"
   },
   {
    "duration": 20,
    "start_time": "2022-07-24T10:53:53.461Z"
   },
   {
    "duration": 29,
    "start_time": "2022-07-24T10:53:53.483Z"
   },
   {
    "duration": 31,
    "start_time": "2022-07-24T10:53:53.514Z"
   },
   {
    "duration": 16,
    "start_time": "2022-07-24T10:53:53.547Z"
   },
   {
    "duration": 25,
    "start_time": "2022-07-24T10:53:53.565Z"
   },
   {
    "duration": 52,
    "start_time": "2022-07-24T10:53:53.592Z"
   },
   {
    "duration": 26,
    "start_time": "2022-07-24T10:53:53.645Z"
   },
   {
    "duration": 9,
    "start_time": "2022-07-24T10:53:53.673Z"
   },
   {
    "duration": 90,
    "start_time": "2022-07-24T10:53:53.684Z"
   },
   {
    "duration": 0,
    "start_time": "2022-07-24T10:53:53.776Z"
   },
   {
    "duration": 0,
    "start_time": "2022-07-24T10:53:53.777Z"
   },
   {
    "duration": 13,
    "start_time": "2022-07-24T10:54:51.506Z"
   },
   {
    "duration": 5,
    "start_time": "2022-07-24T10:55:14.782Z"
   },
   {
    "duration": 5,
    "start_time": "2022-07-24T10:57:49.556Z"
   },
   {
    "duration": 8,
    "start_time": "2022-07-24T10:57:51.875Z"
   },
   {
    "duration": 4,
    "start_time": "2022-07-24T10:58:33.002Z"
   },
   {
    "duration": 15,
    "start_time": "2022-07-24T10:59:27.503Z"
   },
   {
    "duration": 21,
    "start_time": "2022-07-24T10:59:34.306Z"
   },
   {
    "duration": 15,
    "start_time": "2022-07-24T11:00:01.816Z"
   },
   {
    "duration": 13,
    "start_time": "2022-07-24T11:01:07.220Z"
   },
   {
    "duration": 13,
    "start_time": "2022-07-24T11:01:56.953Z"
   },
   {
    "duration": 404,
    "start_time": "2022-07-24T11:03:09.951Z"
   },
   {
    "duration": 108,
    "start_time": "2022-07-24T11:03:10.357Z"
   },
   {
    "duration": 17,
    "start_time": "2022-07-24T11:03:10.467Z"
   },
   {
    "duration": 40,
    "start_time": "2022-07-24T11:03:10.486Z"
   },
   {
    "duration": 13,
    "start_time": "2022-07-24T11:03:10.528Z"
   },
   {
    "duration": 36,
    "start_time": "2022-07-24T11:03:10.543Z"
   },
   {
    "duration": 34,
    "start_time": "2022-07-24T11:03:10.582Z"
   },
   {
    "duration": 22,
    "start_time": "2022-07-24T11:03:10.618Z"
   },
   {
    "duration": 24,
    "start_time": "2022-07-24T11:03:10.642Z"
   },
   {
    "duration": 15,
    "start_time": "2022-07-24T11:03:10.669Z"
   },
   {
    "duration": 23,
    "start_time": "2022-07-24T11:03:10.686Z"
   },
   {
    "duration": 18,
    "start_time": "2022-07-24T11:03:10.711Z"
   },
   {
    "duration": 17,
    "start_time": "2022-07-24T11:03:10.731Z"
   },
   {
    "duration": 12,
    "start_time": "2022-07-24T11:03:10.751Z"
   },
   {
    "duration": 9,
    "start_time": "2022-07-24T11:03:10.765Z"
   },
   {
    "duration": 6,
    "start_time": "2022-07-24T11:03:10.776Z"
   },
   {
    "duration": 35,
    "start_time": "2022-07-24T11:03:10.784Z"
   },
   {
    "duration": 4,
    "start_time": "2022-07-24T11:03:10.821Z"
   },
   {
    "duration": 8,
    "start_time": "2022-07-24T11:03:10.827Z"
   },
   {
    "duration": 9,
    "start_time": "2022-07-24T11:03:10.837Z"
   },
   {
    "duration": 7,
    "start_time": "2022-07-24T11:03:10.848Z"
   },
   {
    "duration": 6,
    "start_time": "2022-07-24T11:03:10.857Z"
   },
   {
    "duration": 58,
    "start_time": "2022-07-24T11:03:10.865Z"
   },
   {
    "duration": 4,
    "start_time": "2022-07-24T11:03:10.925Z"
   },
   {
    "duration": 55,
    "start_time": "2022-07-24T11:03:10.931Z"
   },
   {
    "duration": 47,
    "start_time": "2022-07-24T11:03:10.988Z"
   },
   {
    "duration": 21,
    "start_time": "2022-07-24T11:03:11.037Z"
   },
   {
    "duration": 30,
    "start_time": "2022-07-24T11:03:11.062Z"
   },
   {
    "duration": 30,
    "start_time": "2022-07-24T11:03:11.094Z"
   },
   {
    "duration": 10,
    "start_time": "2022-07-24T11:03:11.126Z"
   },
   {
    "duration": 42,
    "start_time": "2022-07-24T11:03:11.137Z"
   },
   {
    "duration": 18,
    "start_time": "2022-07-24T11:03:11.180Z"
   },
   {
    "duration": 17,
    "start_time": "2022-07-24T11:03:11.200Z"
   },
   {
    "duration": 27,
    "start_time": "2022-07-24T11:03:11.219Z"
   },
   {
    "duration": 17,
    "start_time": "2022-07-24T11:03:11.248Z"
   },
   {
    "duration": 4,
    "start_time": "2022-07-24T11:03:11.267Z"
   },
   {
    "duration": 9,
    "start_time": "2022-07-24T11:03:11.273Z"
   },
   {
    "duration": 29,
    "start_time": "2022-07-24T11:03:11.283Z"
   },
   {
    "duration": 16,
    "start_time": "2022-07-24T11:03:11.314Z"
   },
   {
    "duration": 15,
    "start_time": "2022-07-24T11:03:11.332Z"
   },
   {
    "duration": 81,
    "start_time": "2022-07-24T11:04:00.866Z"
   },
   {
    "duration": 20,
    "start_time": "2022-07-24T11:04:15.301Z"
   },
   {
    "duration": 16,
    "start_time": "2022-07-24T11:05:33.114Z"
   },
   {
    "duration": 388,
    "start_time": "2022-07-24T11:05:44.165Z"
   },
   {
    "duration": 92,
    "start_time": "2022-07-24T11:05:44.555Z"
   },
   {
    "duration": 16,
    "start_time": "2022-07-24T11:05:44.649Z"
   },
   {
    "duration": 40,
    "start_time": "2022-07-24T11:05:44.667Z"
   },
   {
    "duration": 10,
    "start_time": "2022-07-24T11:05:44.709Z"
   },
   {
    "duration": 21,
    "start_time": "2022-07-24T11:05:44.720Z"
   },
   {
    "duration": 22,
    "start_time": "2022-07-24T11:05:44.743Z"
   },
   {
    "duration": 46,
    "start_time": "2022-07-24T11:05:44.767Z"
   },
   {
    "duration": 17,
    "start_time": "2022-07-24T11:05:44.815Z"
   },
   {
    "duration": 9,
    "start_time": "2022-07-24T11:05:44.836Z"
   },
   {
    "duration": 94,
    "start_time": "2022-07-24T11:05:44.846Z"
   },
   {
    "duration": 0,
    "start_time": "2022-07-24T11:05:44.943Z"
   },
   {
    "duration": 0,
    "start_time": "2022-07-24T11:05:44.944Z"
   },
   {
    "duration": 0,
    "start_time": "2022-07-24T11:05:44.946Z"
   },
   {
    "duration": 0,
    "start_time": "2022-07-24T11:05:44.947Z"
   },
   {
    "duration": 0,
    "start_time": "2022-07-24T11:05:44.948Z"
   },
   {
    "duration": 0,
    "start_time": "2022-07-24T11:05:44.951Z"
   },
   {
    "duration": 0,
    "start_time": "2022-07-24T11:05:44.952Z"
   },
   {
    "duration": 0,
    "start_time": "2022-07-24T11:05:44.953Z"
   },
   {
    "duration": 0,
    "start_time": "2022-07-24T11:05:44.954Z"
   },
   {
    "duration": 0,
    "start_time": "2022-07-24T11:05:44.955Z"
   },
   {
    "duration": 0,
    "start_time": "2022-07-24T11:05:44.956Z"
   },
   {
    "duration": 0,
    "start_time": "2022-07-24T11:05:44.957Z"
   },
   {
    "duration": 0,
    "start_time": "2022-07-24T11:05:44.958Z"
   },
   {
    "duration": 0,
    "start_time": "2022-07-24T11:05:44.959Z"
   },
   {
    "duration": 0,
    "start_time": "2022-07-24T11:05:44.960Z"
   },
   {
    "duration": 0,
    "start_time": "2022-07-24T11:05:44.961Z"
   },
   {
    "duration": 0,
    "start_time": "2022-07-24T11:05:44.962Z"
   },
   {
    "duration": 0,
    "start_time": "2022-07-24T11:05:44.963Z"
   },
   {
    "duration": 0,
    "start_time": "2022-07-24T11:05:44.965Z"
   },
   {
    "duration": 0,
    "start_time": "2022-07-24T11:05:44.966Z"
   },
   {
    "duration": 0,
    "start_time": "2022-07-24T11:05:44.966Z"
   },
   {
    "duration": 0,
    "start_time": "2022-07-24T11:05:44.967Z"
   },
   {
    "duration": 0,
    "start_time": "2022-07-24T11:05:44.969Z"
   },
   {
    "duration": 0,
    "start_time": "2022-07-24T11:05:45.010Z"
   },
   {
    "duration": 0,
    "start_time": "2022-07-24T11:05:45.011Z"
   },
   {
    "duration": 0,
    "start_time": "2022-07-24T11:05:45.013Z"
   },
   {
    "duration": 0,
    "start_time": "2022-07-24T11:05:45.014Z"
   },
   {
    "duration": 0,
    "start_time": "2022-07-24T11:05:45.015Z"
   },
   {
    "duration": 0,
    "start_time": "2022-07-24T11:05:45.016Z"
   },
   {
    "duration": 0,
    "start_time": "2022-07-24T11:05:45.017Z"
   },
   {
    "duration": 0,
    "start_time": "2022-07-24T11:05:45.018Z"
   },
   {
    "duration": 6,
    "start_time": "2022-07-24T11:06:15.901Z"
   },
   {
    "duration": 469,
    "start_time": "2022-07-24T12:03:26.227Z"
   },
   {
    "duration": 92,
    "start_time": "2022-07-24T12:03:26.699Z"
   },
   {
    "duration": 25,
    "start_time": "2022-07-24T12:03:26.793Z"
   },
   {
    "duration": 38,
    "start_time": "2022-07-24T12:03:26.820Z"
   },
   {
    "duration": 12,
    "start_time": "2022-07-24T12:03:26.859Z"
   },
   {
    "duration": 24,
    "start_time": "2022-07-24T12:03:26.872Z"
   },
   {
    "duration": 28,
    "start_time": "2022-07-24T12:03:26.897Z"
   },
   {
    "duration": 22,
    "start_time": "2022-07-24T12:03:26.927Z"
   },
   {
    "duration": 16,
    "start_time": "2022-07-24T12:03:26.950Z"
   },
   {
    "duration": 9,
    "start_time": "2022-07-24T12:03:26.969Z"
   },
   {
    "duration": 31,
    "start_time": "2022-07-24T12:03:26.980Z"
   },
   {
    "duration": 13,
    "start_time": "2022-07-24T12:03:27.013Z"
   },
   {
    "duration": 17,
    "start_time": "2022-07-24T12:03:27.028Z"
   },
   {
    "duration": 35,
    "start_time": "2022-07-24T12:03:27.047Z"
   },
   {
    "duration": 21,
    "start_time": "2022-07-24T12:03:27.084Z"
   },
   {
    "duration": 45,
    "start_time": "2022-07-24T12:03:27.106Z"
   },
   {
    "duration": 28,
    "start_time": "2022-07-24T12:03:27.153Z"
   },
   {
    "duration": 45,
    "start_time": "2022-07-24T12:03:27.183Z"
   },
   {
    "duration": 10,
    "start_time": "2022-07-24T12:03:27.229Z"
   },
   {
    "duration": 35,
    "start_time": "2022-07-24T12:03:27.241Z"
   },
   {
    "duration": 24,
    "start_time": "2022-07-24T12:03:27.278Z"
   },
   {
    "duration": 24,
    "start_time": "2022-07-24T12:03:27.305Z"
   },
   {
    "duration": 8,
    "start_time": "2022-07-24T12:03:27.331Z"
   },
   {
    "duration": 33,
    "start_time": "2022-07-24T12:03:27.341Z"
   },
   {
    "duration": 5,
    "start_time": "2022-07-24T12:03:27.375Z"
   },
   {
    "duration": 12,
    "start_time": "2022-07-24T12:03:27.382Z"
   },
   {
    "duration": 19,
    "start_time": "2022-07-24T12:03:27.396Z"
   },
   {
    "duration": 7,
    "start_time": "2022-07-24T12:03:27.419Z"
   },
   {
    "duration": 10,
    "start_time": "2022-07-24T12:03:27.428Z"
   },
   {
    "duration": 34,
    "start_time": "2022-07-24T12:03:27.440Z"
   },
   {
    "duration": 7,
    "start_time": "2022-07-24T12:03:27.476Z"
   },
   {
    "duration": 28,
    "start_time": "2022-07-24T12:03:27.485Z"
   },
   {
    "duration": 10,
    "start_time": "2022-07-24T12:03:27.515Z"
   },
   {
    "duration": 19,
    "start_time": "2022-07-24T12:03:27.526Z"
   },
   {
    "duration": 25,
    "start_time": "2022-07-24T12:03:27.546Z"
   },
   {
    "duration": 44,
    "start_time": "2022-07-24T12:03:27.572Z"
   },
   {
    "duration": 4,
    "start_time": "2022-07-24T12:03:27.618Z"
   },
   {
    "duration": 11,
    "start_time": "2022-07-24T12:03:27.623Z"
   },
   {
    "duration": 4,
    "start_time": "2022-07-24T12:03:27.636Z"
   },
   {
    "duration": 16,
    "start_time": "2022-07-24T12:03:27.641Z"
   },
   {
    "duration": 13,
    "start_time": "2022-07-24T12:03:27.659Z"
   },
   {
    "duration": 100,
    "start_time": "2022-07-24T12:03:27.711Z"
   },
   {
    "duration": 502,
    "start_time": "2022-07-24T12:09:28.583Z"
   },
   {
    "duration": 93,
    "start_time": "2022-07-24T12:09:29.087Z"
   },
   {
    "duration": 17,
    "start_time": "2022-07-24T12:09:29.182Z"
   },
   {
    "duration": 48,
    "start_time": "2022-07-24T12:09:29.210Z"
   },
   {
    "duration": 15,
    "start_time": "2022-07-24T12:09:29.260Z"
   },
   {
    "duration": 36,
    "start_time": "2022-07-24T12:09:29.277Z"
   },
   {
    "duration": 38,
    "start_time": "2022-07-24T12:09:29.316Z"
   },
   {
    "duration": 23,
    "start_time": "2022-07-24T12:09:29.356Z"
   },
   {
    "duration": 34,
    "start_time": "2022-07-24T12:09:29.381Z"
   },
   {
    "duration": 9,
    "start_time": "2022-07-24T12:09:29.420Z"
   },
   {
    "duration": 9,
    "start_time": "2022-07-24T12:09:29.431Z"
   },
   {
    "duration": 15,
    "start_time": "2022-07-24T12:09:29.443Z"
   },
   {
    "duration": 28,
    "start_time": "2022-07-24T12:09:29.461Z"
   },
   {
    "duration": 40,
    "start_time": "2022-07-24T12:09:29.491Z"
   },
   {
    "duration": 16,
    "start_time": "2022-07-24T12:09:29.533Z"
   },
   {
    "duration": 12,
    "start_time": "2022-07-24T12:09:29.551Z"
   },
   {
    "duration": 11,
    "start_time": "2022-07-24T12:09:29.566Z"
   },
   {
    "duration": 14,
    "start_time": "2022-07-24T12:09:29.579Z"
   },
   {
    "duration": 10,
    "start_time": "2022-07-24T12:09:29.611Z"
   },
   {
    "duration": 6,
    "start_time": "2022-07-24T12:09:29.623Z"
   },
   {
    "duration": 12,
    "start_time": "2022-07-24T12:09:29.631Z"
   },
   {
    "duration": 10,
    "start_time": "2022-07-24T12:09:29.645Z"
   },
   {
    "duration": 7,
    "start_time": "2022-07-24T12:09:29.657Z"
   },
   {
    "duration": 50,
    "start_time": "2022-07-24T12:09:29.666Z"
   },
   {
    "duration": 5,
    "start_time": "2022-07-24T12:09:29.718Z"
   },
   {
    "duration": 12,
    "start_time": "2022-07-24T12:09:29.725Z"
   },
   {
    "duration": 26,
    "start_time": "2022-07-24T12:09:29.739Z"
   },
   {
    "duration": 15,
    "start_time": "2022-07-24T12:09:29.770Z"
   },
   {
    "duration": 24,
    "start_time": "2022-07-24T12:09:29.787Z"
   },
   {
    "duration": 25,
    "start_time": "2022-07-24T12:09:29.813Z"
   },
   {
    "duration": 10,
    "start_time": "2022-07-24T12:09:29.840Z"
   },
   {
    "duration": 33,
    "start_time": "2022-07-24T12:09:29.852Z"
   },
   {
    "duration": 24,
    "start_time": "2022-07-24T12:09:29.887Z"
   },
   {
    "duration": 25,
    "start_time": "2022-07-24T12:09:29.915Z"
   },
   {
    "duration": 29,
    "start_time": "2022-07-24T12:09:29.942Z"
   },
   {
    "duration": 51,
    "start_time": "2022-07-24T12:09:29.973Z"
   },
   {
    "duration": 5,
    "start_time": "2022-07-24T12:09:30.026Z"
   },
   {
    "duration": 26,
    "start_time": "2022-07-24T12:09:30.033Z"
   },
   {
    "duration": 24,
    "start_time": "2022-07-24T12:09:30.061Z"
   },
   {
    "duration": 22,
    "start_time": "2022-07-24T12:09:30.087Z"
   },
   {
    "duration": 21,
    "start_time": "2022-07-24T12:09:30.112Z"
   },
   {
    "duration": 89,
    "start_time": "2022-07-24T12:09:30.135Z"
   },
   {
    "duration": 5,
    "start_time": "2022-07-24T12:14:00.494Z"
   },
   {
    "duration": 20,
    "start_time": "2022-07-24T12:16:54.319Z"
   },
   {
    "duration": 97,
    "start_time": "2022-07-24T12:17:05.561Z"
   },
   {
    "duration": 1166,
    "start_time": "2022-07-24T12:18:59.601Z"
   },
   {
    "duration": 1150,
    "start_time": "2022-07-24T12:19:11.358Z"
   },
   {
    "duration": 457,
    "start_time": "2022-07-24T12:19:21.876Z"
   },
   {
    "duration": 98,
    "start_time": "2022-07-24T12:19:22.335Z"
   },
   {
    "duration": 18,
    "start_time": "2022-07-24T12:19:22.435Z"
   },
   {
    "duration": 37,
    "start_time": "2022-07-24T12:19:22.456Z"
   },
   {
    "duration": 11,
    "start_time": "2022-07-24T12:19:22.495Z"
   },
   {
    "duration": 25,
    "start_time": "2022-07-24T12:19:22.508Z"
   },
   {
    "duration": 37,
    "start_time": "2022-07-24T12:19:22.535Z"
   },
   {
    "duration": 21,
    "start_time": "2022-07-24T12:19:22.574Z"
   },
   {
    "duration": 20,
    "start_time": "2022-07-24T12:19:22.597Z"
   },
   {
    "duration": 7,
    "start_time": "2022-07-24T12:19:22.620Z"
   },
   {
    "duration": 6,
    "start_time": "2022-07-24T12:19:22.628Z"
   },
   {
    "duration": 6,
    "start_time": "2022-07-24T12:19:22.635Z"
   },
   {
    "duration": 1225,
    "start_time": "2022-07-24T12:19:22.643Z"
   },
   {
    "duration": 0,
    "start_time": "2022-07-24T12:19:23.871Z"
   },
   {
    "duration": 0,
    "start_time": "2022-07-24T12:19:23.873Z"
   },
   {
    "duration": 0,
    "start_time": "2022-07-24T12:19:23.873Z"
   },
   {
    "duration": 0,
    "start_time": "2022-07-24T12:19:23.875Z"
   },
   {
    "duration": 0,
    "start_time": "2022-07-24T12:19:23.876Z"
   },
   {
    "duration": 0,
    "start_time": "2022-07-24T12:19:23.877Z"
   },
   {
    "duration": 0,
    "start_time": "2022-07-24T12:19:23.877Z"
   },
   {
    "duration": 0,
    "start_time": "2022-07-24T12:19:23.878Z"
   },
   {
    "duration": 0,
    "start_time": "2022-07-24T12:19:23.879Z"
   },
   {
    "duration": 0,
    "start_time": "2022-07-24T12:19:23.880Z"
   },
   {
    "duration": 0,
    "start_time": "2022-07-24T12:19:23.881Z"
   },
   {
    "duration": 0,
    "start_time": "2022-07-24T12:19:23.882Z"
   },
   {
    "duration": 0,
    "start_time": "2022-07-24T12:19:23.883Z"
   },
   {
    "duration": 0,
    "start_time": "2022-07-24T12:19:23.884Z"
   },
   {
    "duration": 0,
    "start_time": "2022-07-24T12:19:23.910Z"
   },
   {
    "duration": 0,
    "start_time": "2022-07-24T12:19:23.911Z"
   },
   {
    "duration": 0,
    "start_time": "2022-07-24T12:19:23.913Z"
   },
   {
    "duration": 0,
    "start_time": "2022-07-24T12:19:23.914Z"
   },
   {
    "duration": 0,
    "start_time": "2022-07-24T12:19:23.915Z"
   },
   {
    "duration": 0,
    "start_time": "2022-07-24T12:19:23.917Z"
   },
   {
    "duration": 0,
    "start_time": "2022-07-24T12:19:23.918Z"
   },
   {
    "duration": 0,
    "start_time": "2022-07-24T12:19:23.918Z"
   },
   {
    "duration": 0,
    "start_time": "2022-07-24T12:19:23.919Z"
   },
   {
    "duration": 0,
    "start_time": "2022-07-24T12:19:23.921Z"
   },
   {
    "duration": 0,
    "start_time": "2022-07-24T12:19:23.922Z"
   },
   {
    "duration": 0,
    "start_time": "2022-07-24T12:19:23.924Z"
   },
   {
    "duration": 0,
    "start_time": "2022-07-24T12:19:23.925Z"
   },
   {
    "duration": 0,
    "start_time": "2022-07-24T12:19:23.927Z"
   },
   {
    "duration": 0,
    "start_time": "2022-07-24T12:19:23.928Z"
   },
   {
    "duration": 0,
    "start_time": "2022-07-24T12:19:23.930Z"
   },
   {
    "duration": 0,
    "start_time": "2022-07-24T12:19:23.931Z"
   },
   {
    "duration": 3663,
    "start_time": "2022-07-24T12:20:11.191Z"
   },
   {
    "duration": 454,
    "start_time": "2022-07-24T12:20:41.187Z"
   },
   {
    "duration": 97,
    "start_time": "2022-07-24T12:20:41.643Z"
   },
   {
    "duration": 17,
    "start_time": "2022-07-24T12:20:41.741Z"
   },
   {
    "duration": 40,
    "start_time": "2022-07-24T12:20:41.888Z"
   },
   {
    "duration": 11,
    "start_time": "2022-07-24T12:20:42.642Z"
   },
   {
    "duration": 19,
    "start_time": "2022-07-24T12:20:43.445Z"
   },
   {
    "duration": 22,
    "start_time": "2022-07-24T12:20:44.446Z"
   },
   {
    "duration": 22,
    "start_time": "2022-07-24T12:20:45.151Z"
   },
   {
    "duration": 14,
    "start_time": "2022-07-24T12:20:46.713Z"
   },
   {
    "duration": 7,
    "start_time": "2022-07-24T12:20:49.876Z"
   },
   {
    "duration": 4,
    "start_time": "2022-07-24T12:20:50.359Z"
   },
   {
    "duration": 4,
    "start_time": "2022-07-24T12:20:51.390Z"
   },
   {
    "duration": 1336,
    "start_time": "2022-07-24T12:20:52.141Z"
   },
   {
    "duration": 79,
    "start_time": "2022-07-24T12:21:08.344Z"
   },
   {
    "duration": 5,
    "start_time": "2022-07-24T12:23:52.884Z"
   },
   {
    "duration": 18,
    "start_time": "2022-07-24T12:28:20.872Z"
   },
   {
    "duration": 6,
    "start_time": "2022-07-24T12:28:31.509Z"
   },
   {
    "duration": 17,
    "start_time": "2022-07-24T12:29:01.395Z"
   },
   {
    "duration": 5,
    "start_time": "2022-07-24T12:29:02.225Z"
   },
   {
    "duration": 11,
    "start_time": "2022-07-24T12:29:36.863Z"
   },
   {
    "duration": 11,
    "start_time": "2022-07-24T12:29:45.254Z"
   },
   {
    "duration": 14,
    "start_time": "2022-07-24T12:29:55.383Z"
   },
   {
    "duration": 9,
    "start_time": "2022-07-24T12:29:56.190Z"
   },
   {
    "duration": 404,
    "start_time": "2022-07-24T12:30:02.059Z"
   },
   {
    "duration": 102,
    "start_time": "2022-07-24T12:30:02.465Z"
   },
   {
    "duration": 23,
    "start_time": "2022-07-24T12:30:02.570Z"
   },
   {
    "duration": 64,
    "start_time": "2022-07-24T12:30:02.595Z"
   },
   {
    "duration": 13,
    "start_time": "2022-07-24T12:30:02.663Z"
   },
   {
    "duration": 38,
    "start_time": "2022-07-24T12:30:02.678Z"
   },
   {
    "duration": 25,
    "start_time": "2022-07-24T12:30:02.718Z"
   },
   {
    "duration": 24,
    "start_time": "2022-07-24T12:30:02.745Z"
   },
   {
    "duration": 39,
    "start_time": "2022-07-24T12:30:02.772Z"
   },
   {
    "duration": 12,
    "start_time": "2022-07-24T12:30:02.813Z"
   },
   {
    "duration": 6,
    "start_time": "2022-07-24T12:30:02.827Z"
   },
   {
    "duration": 7,
    "start_time": "2022-07-24T12:30:02.835Z"
   },
   {
    "duration": 75,
    "start_time": "2022-07-24T12:30:02.843Z"
   },
   {
    "duration": 7,
    "start_time": "2022-07-24T12:30:02.923Z"
   },
   {
    "duration": 12,
    "start_time": "2022-07-24T12:30:02.932Z"
   },
   {
    "duration": 73,
    "start_time": "2022-07-24T12:30:02.947Z"
   },
   {
    "duration": 21,
    "start_time": "2022-07-24T12:30:03.023Z"
   },
   {
    "duration": 65,
    "start_time": "2022-07-24T12:30:03.046Z"
   },
   {
    "duration": 12,
    "start_time": "2022-07-24T12:30:03.114Z"
   },
   {
    "duration": 36,
    "start_time": "2022-07-24T12:30:03.128Z"
   },
   {
    "duration": 49,
    "start_time": "2022-07-24T12:30:03.166Z"
   },
   {
    "duration": 41,
    "start_time": "2022-07-24T12:30:03.217Z"
   },
   {
    "duration": 51,
    "start_time": "2022-07-24T12:30:03.262Z"
   },
   {
    "duration": 49,
    "start_time": "2022-07-24T12:30:03.316Z"
   },
   {
    "duration": 50,
    "start_time": "2022-07-24T12:30:03.368Z"
   },
   {
    "duration": 14,
    "start_time": "2022-07-24T12:30:03.421Z"
   },
   {
    "duration": 82,
    "start_time": "2022-07-24T12:30:03.437Z"
   },
   {
    "duration": 6,
    "start_time": "2022-07-24T12:30:03.521Z"
   },
   {
    "duration": 11,
    "start_time": "2022-07-24T12:30:03.529Z"
   },
   {
    "duration": 87,
    "start_time": "2022-07-24T12:30:03.543Z"
   },
   {
    "duration": 7,
    "start_time": "2022-07-24T12:30:03.632Z"
   },
   {
    "duration": 72,
    "start_time": "2022-07-24T12:30:03.642Z"
   },
   {
    "duration": 39,
    "start_time": "2022-07-24T12:30:03.717Z"
   },
   {
    "duration": 54,
    "start_time": "2022-07-24T12:30:03.758Z"
   },
   {
    "duration": 96,
    "start_time": "2022-07-24T12:30:03.814Z"
   },
   {
    "duration": 8,
    "start_time": "2022-07-24T12:30:03.912Z"
   },
   {
    "duration": 35,
    "start_time": "2022-07-24T12:30:03.922Z"
   },
   {
    "duration": 80,
    "start_time": "2022-07-24T12:30:03.959Z"
   },
   {
    "duration": 79,
    "start_time": "2022-07-24T12:30:04.041Z"
   },
   {
    "duration": 5,
    "start_time": "2022-07-24T12:30:04.122Z"
   },
   {
    "duration": 26,
    "start_time": "2022-07-24T12:30:04.133Z"
   },
   {
    "duration": 61,
    "start_time": "2022-07-24T12:30:04.161Z"
   },
   {
    "duration": 21,
    "start_time": "2022-07-24T12:30:04.224Z"
   },
   {
    "duration": 66,
    "start_time": "2022-07-24T12:30:04.246Z"
   },
   {
    "duration": 21,
    "start_time": "2022-07-24T12:30:04.314Z"
   },
   {
    "duration": 425,
    "start_time": "2022-07-24T12:31:11.552Z"
   },
   {
    "duration": 129,
    "start_time": "2022-07-24T12:31:11.980Z"
   },
   {
    "duration": 25,
    "start_time": "2022-07-24T12:31:12.111Z"
   },
   {
    "duration": 49,
    "start_time": "2022-07-24T12:31:12.138Z"
   },
   {
    "duration": 12,
    "start_time": "2022-07-24T12:31:12.190Z"
   },
   {
    "duration": 41,
    "start_time": "2022-07-24T12:31:12.205Z"
   },
   {
    "duration": 31,
    "start_time": "2022-07-24T12:31:12.248Z"
   },
   {
    "duration": 32,
    "start_time": "2022-07-24T12:31:12.281Z"
   },
   {
    "duration": 19,
    "start_time": "2022-07-24T12:31:12.315Z"
   },
   {
    "duration": 8,
    "start_time": "2022-07-24T12:31:12.336Z"
   },
   {
    "duration": 11,
    "start_time": "2022-07-24T12:31:12.347Z"
   },
   {
    "duration": 10,
    "start_time": "2022-07-24T12:31:12.360Z"
   },
   {
    "duration": 80,
    "start_time": "2022-07-24T12:31:12.372Z"
   },
   {
    "duration": 0,
    "start_time": "2022-07-24T12:31:12.455Z"
   },
   {
    "duration": 0,
    "start_time": "2022-07-24T12:31:12.456Z"
   },
   {
    "duration": 0,
    "start_time": "2022-07-24T12:31:12.458Z"
   },
   {
    "duration": 0,
    "start_time": "2022-07-24T12:31:12.459Z"
   },
   {
    "duration": 0,
    "start_time": "2022-07-24T12:31:12.461Z"
   },
   {
    "duration": 0,
    "start_time": "2022-07-24T12:31:12.462Z"
   },
   {
    "duration": 0,
    "start_time": "2022-07-24T12:31:12.464Z"
   },
   {
    "duration": 0,
    "start_time": "2022-07-24T12:31:12.465Z"
   },
   {
    "duration": 0,
    "start_time": "2022-07-24T12:31:12.467Z"
   },
   {
    "duration": 0,
    "start_time": "2022-07-24T12:31:12.468Z"
   },
   {
    "duration": 0,
    "start_time": "2022-07-24T12:31:12.469Z"
   },
   {
    "duration": 0,
    "start_time": "2022-07-24T12:31:12.470Z"
   },
   {
    "duration": 0,
    "start_time": "2022-07-24T12:31:12.471Z"
   },
   {
    "duration": 0,
    "start_time": "2022-07-24T12:31:12.473Z"
   },
   {
    "duration": 0,
    "start_time": "2022-07-24T12:31:12.476Z"
   },
   {
    "duration": 0,
    "start_time": "2022-07-24T12:31:12.478Z"
   },
   {
    "duration": 0,
    "start_time": "2022-07-24T12:31:12.479Z"
   },
   {
    "duration": 0,
    "start_time": "2022-07-24T12:31:12.481Z"
   },
   {
    "duration": 0,
    "start_time": "2022-07-24T12:31:12.482Z"
   },
   {
    "duration": 0,
    "start_time": "2022-07-24T12:31:12.484Z"
   },
   {
    "duration": 0,
    "start_time": "2022-07-24T12:31:12.487Z"
   },
   {
    "duration": 0,
    "start_time": "2022-07-24T12:31:12.489Z"
   },
   {
    "duration": 0,
    "start_time": "2022-07-24T12:31:12.490Z"
   },
   {
    "duration": 0,
    "start_time": "2022-07-24T12:31:12.492Z"
   },
   {
    "duration": 0,
    "start_time": "2022-07-24T12:31:12.510Z"
   },
   {
    "duration": 0,
    "start_time": "2022-07-24T12:31:12.512Z"
   },
   {
    "duration": 0,
    "start_time": "2022-07-24T12:31:12.515Z"
   },
   {
    "duration": 0,
    "start_time": "2022-07-24T12:31:12.516Z"
   },
   {
    "duration": 0,
    "start_time": "2022-07-24T12:31:12.517Z"
   },
   {
    "duration": 0,
    "start_time": "2022-07-24T12:31:12.519Z"
   },
   {
    "duration": 0,
    "start_time": "2022-07-24T12:31:12.521Z"
   },
   {
    "duration": 0,
    "start_time": "2022-07-24T12:31:12.522Z"
   },
   {
    "duration": 410,
    "start_time": "2022-07-24T12:31:52.950Z"
   },
   {
    "duration": 97,
    "start_time": "2022-07-24T12:31:53.363Z"
   },
   {
    "duration": 19,
    "start_time": "2022-07-24T12:31:53.462Z"
   },
   {
    "duration": 39,
    "start_time": "2022-07-24T12:31:53.484Z"
   },
   {
    "duration": 12,
    "start_time": "2022-07-24T12:31:53.525Z"
   },
   {
    "duration": 19,
    "start_time": "2022-07-24T12:31:53.539Z"
   },
   {
    "duration": 28,
    "start_time": "2022-07-24T12:31:53.560Z"
   },
   {
    "duration": 37,
    "start_time": "2022-07-24T12:31:53.590Z"
   },
   {
    "duration": 15,
    "start_time": "2022-07-24T12:31:53.629Z"
   },
   {
    "duration": 7,
    "start_time": "2022-07-24T12:31:53.647Z"
   },
   {
    "duration": 7,
    "start_time": "2022-07-24T12:31:53.655Z"
   },
   {
    "duration": 6,
    "start_time": "2022-07-24T12:31:53.663Z"
   },
   {
    "duration": 116,
    "start_time": "2022-07-24T12:31:53.671Z"
   },
   {
    "duration": 0,
    "start_time": "2022-07-24T12:31:53.790Z"
   },
   {
    "duration": 0,
    "start_time": "2022-07-24T12:31:53.792Z"
   },
   {
    "duration": 0,
    "start_time": "2022-07-24T12:31:53.810Z"
   },
   {
    "duration": 0,
    "start_time": "2022-07-24T12:31:53.811Z"
   },
   {
    "duration": 0,
    "start_time": "2022-07-24T12:31:53.813Z"
   },
   {
    "duration": 0,
    "start_time": "2022-07-24T12:31:53.815Z"
   },
   {
    "duration": 0,
    "start_time": "2022-07-24T12:31:53.817Z"
   },
   {
    "duration": 0,
    "start_time": "2022-07-24T12:31:53.819Z"
   },
   {
    "duration": 0,
    "start_time": "2022-07-24T12:31:53.821Z"
   },
   {
    "duration": 0,
    "start_time": "2022-07-24T12:31:53.823Z"
   },
   {
    "duration": 0,
    "start_time": "2022-07-24T12:31:53.824Z"
   },
   {
    "duration": 0,
    "start_time": "2022-07-24T12:31:53.826Z"
   },
   {
    "duration": 0,
    "start_time": "2022-07-24T12:31:53.827Z"
   },
   {
    "duration": 0,
    "start_time": "2022-07-24T12:31:53.829Z"
   },
   {
    "duration": 0,
    "start_time": "2022-07-24T12:31:53.830Z"
   },
   {
    "duration": 0,
    "start_time": "2022-07-24T12:31:53.832Z"
   },
   {
    "duration": 0,
    "start_time": "2022-07-24T12:31:53.833Z"
   },
   {
    "duration": 0,
    "start_time": "2022-07-24T12:31:53.835Z"
   },
   {
    "duration": 0,
    "start_time": "2022-07-24T12:31:53.837Z"
   },
   {
    "duration": 0,
    "start_time": "2022-07-24T12:31:53.838Z"
   },
   {
    "duration": 0,
    "start_time": "2022-07-24T12:31:53.840Z"
   },
   {
    "duration": 0,
    "start_time": "2022-07-24T12:31:53.841Z"
   },
   {
    "duration": 0,
    "start_time": "2022-07-24T12:31:53.843Z"
   },
   {
    "duration": 0,
    "start_time": "2022-07-24T12:31:53.844Z"
   },
   {
    "duration": 0,
    "start_time": "2022-07-24T12:31:53.845Z"
   },
   {
    "duration": 0,
    "start_time": "2022-07-24T12:31:53.848Z"
   },
   {
    "duration": 0,
    "start_time": "2022-07-24T12:31:53.850Z"
   },
   {
    "duration": 0,
    "start_time": "2022-07-24T12:31:53.910Z"
   },
   {
    "duration": 0,
    "start_time": "2022-07-24T12:31:53.912Z"
   },
   {
    "duration": 0,
    "start_time": "2022-07-24T12:31:53.914Z"
   },
   {
    "duration": 0,
    "start_time": "2022-07-24T12:31:53.916Z"
   },
   {
    "duration": 0,
    "start_time": "2022-07-24T12:31:53.917Z"
   },
   {
    "duration": 67,
    "start_time": "2022-07-24T12:32:41.519Z"
   },
   {
    "duration": 389,
    "start_time": "2022-07-24T12:32:49.552Z"
   },
   {
    "duration": 114,
    "start_time": "2022-07-24T12:32:49.943Z"
   },
   {
    "duration": 17,
    "start_time": "2022-07-24T12:32:50.059Z"
   },
   {
    "duration": 38,
    "start_time": "2022-07-24T12:32:50.078Z"
   },
   {
    "duration": 15,
    "start_time": "2022-07-24T12:32:50.119Z"
   },
   {
    "duration": 32,
    "start_time": "2022-07-24T12:32:50.136Z"
   },
   {
    "duration": 30,
    "start_time": "2022-07-24T12:32:50.170Z"
   },
   {
    "duration": 27,
    "start_time": "2022-07-24T12:32:50.203Z"
   },
   {
    "duration": 25,
    "start_time": "2022-07-24T12:32:50.233Z"
   },
   {
    "duration": 7,
    "start_time": "2022-07-24T12:32:50.260Z"
   },
   {
    "duration": 35,
    "start_time": "2022-07-24T12:32:50.269Z"
   },
   {
    "duration": 19,
    "start_time": "2022-07-24T12:32:50.306Z"
   },
   {
    "duration": 23,
    "start_time": "2022-07-24T12:32:50.328Z"
   },
   {
    "duration": 18,
    "start_time": "2022-07-24T12:32:50.356Z"
   },
   {
    "duration": 34,
    "start_time": "2022-07-24T12:32:50.376Z"
   },
   {
    "duration": 17,
    "start_time": "2022-07-24T12:32:50.412Z"
   },
   {
    "duration": 17,
    "start_time": "2022-07-24T12:32:50.431Z"
   },
   {
    "duration": 59,
    "start_time": "2022-07-24T12:32:50.451Z"
   },
   {
    "duration": 11,
    "start_time": "2022-07-24T12:32:50.513Z"
   },
   {
    "duration": 7,
    "start_time": "2022-07-24T12:32:50.527Z"
   },
   {
    "duration": 13,
    "start_time": "2022-07-24T12:32:50.536Z"
   },
   {
    "duration": 5,
    "start_time": "2022-07-24T12:32:50.552Z"
   },
   {
    "duration": 6,
    "start_time": "2022-07-24T12:32:50.611Z"
   },
   {
    "duration": 13,
    "start_time": "2022-07-24T12:32:50.618Z"
   },
   {
    "duration": 9,
    "start_time": "2022-07-24T12:32:50.633Z"
   },
   {
    "duration": 6,
    "start_time": "2022-07-24T12:32:50.644Z"
   },
   {
    "duration": 70,
    "start_time": "2022-07-24T12:32:50.653Z"
   },
   {
    "duration": 4,
    "start_time": "2022-07-24T12:32:50.725Z"
   },
   {
    "duration": 10,
    "start_time": "2022-07-24T12:32:50.731Z"
   },
   {
    "duration": 70,
    "start_time": "2022-07-24T12:32:50.743Z"
   },
   {
    "duration": 6,
    "start_time": "2022-07-24T12:32:50.815Z"
   },
   {
    "duration": 10,
    "start_time": "2022-07-24T12:32:50.823Z"
   },
   {
    "duration": 24,
    "start_time": "2022-07-24T12:32:50.835Z"
   },
   {
    "duration": 6,
    "start_time": "2022-07-24T12:32:50.911Z"
   },
   {
    "duration": 94,
    "start_time": "2022-07-24T12:32:50.918Z"
   },
   {
    "duration": 7,
    "start_time": "2022-07-24T12:32:51.015Z"
   },
   {
    "duration": 25,
    "start_time": "2022-07-24T12:32:51.023Z"
   },
   {
    "duration": 81,
    "start_time": "2022-07-24T12:32:51.050Z"
   },
   {
    "duration": 19,
    "start_time": "2022-07-24T12:32:51.132Z"
   },
   {
    "duration": 60,
    "start_time": "2022-07-24T12:32:51.152Z"
   },
   {
    "duration": 34,
    "start_time": "2022-07-24T12:32:51.216Z"
   },
   {
    "duration": 12,
    "start_time": "2022-07-24T12:32:51.253Z"
   },
   {
    "duration": 53,
    "start_time": "2022-07-24T12:32:51.267Z"
   },
   {
    "duration": 27,
    "start_time": "2022-07-24T12:32:51.322Z"
   },
   {
    "duration": 188,
    "start_time": "2022-07-24T12:32:51.352Z"
   },
   {
    "duration": 460,
    "start_time": "2022-07-24T12:33:11.204Z"
   },
   {
    "duration": 93,
    "start_time": "2022-07-24T12:33:11.666Z"
   },
   {
    "duration": 18,
    "start_time": "2022-07-24T12:33:11.761Z"
   },
   {
    "duration": 42,
    "start_time": "2022-07-24T12:33:11.781Z"
   },
   {
    "duration": 16,
    "start_time": "2022-07-24T12:33:11.825Z"
   },
   {
    "duration": 37,
    "start_time": "2022-07-24T12:33:11.843Z"
   },
   {
    "duration": 37,
    "start_time": "2022-07-24T12:33:11.882Z"
   },
   {
    "duration": 34,
    "start_time": "2022-07-24T12:33:11.924Z"
   },
   {
    "duration": 33,
    "start_time": "2022-07-24T12:33:11.960Z"
   },
   {
    "duration": 14,
    "start_time": "2022-07-24T12:33:11.996Z"
   },
   {
    "duration": 17,
    "start_time": "2022-07-24T12:33:12.013Z"
   },
   {
    "duration": 10,
    "start_time": "2022-07-24T12:33:12.032Z"
   },
   {
    "duration": 30,
    "start_time": "2022-07-24T12:33:12.045Z"
   },
   {
    "duration": 16,
    "start_time": "2022-07-24T12:33:12.078Z"
   },
   {
    "duration": 24,
    "start_time": "2022-07-24T12:33:12.097Z"
   },
   {
    "duration": 25,
    "start_time": "2022-07-24T12:33:12.124Z"
   },
   {
    "duration": 18,
    "start_time": "2022-07-24T12:33:12.151Z"
   },
   {
    "duration": 23,
    "start_time": "2022-07-24T12:33:12.171Z"
   },
   {
    "duration": 26,
    "start_time": "2022-07-24T12:33:12.196Z"
   },
   {
    "duration": 14,
    "start_time": "2022-07-24T12:33:12.225Z"
   },
   {
    "duration": 18,
    "start_time": "2022-07-24T12:33:12.242Z"
   },
   {
    "duration": 16,
    "start_time": "2022-07-24T12:33:12.262Z"
   },
   {
    "duration": 7,
    "start_time": "2022-07-24T12:33:12.280Z"
   },
   {
    "duration": 12,
    "start_time": "2022-07-24T12:33:12.289Z"
   },
   {
    "duration": 21,
    "start_time": "2022-07-24T12:33:12.303Z"
   },
   {
    "duration": 15,
    "start_time": "2022-07-24T12:33:12.326Z"
   },
   {
    "duration": 29,
    "start_time": "2022-07-24T12:33:12.342Z"
   },
   {
    "duration": 9,
    "start_time": "2022-07-24T12:33:12.376Z"
   },
   {
    "duration": 21,
    "start_time": "2022-07-24T12:33:12.389Z"
   },
   {
    "duration": 30,
    "start_time": "2022-07-24T12:33:12.413Z"
   },
   {
    "duration": 18,
    "start_time": "2022-07-24T12:33:12.447Z"
   },
   {
    "duration": 11,
    "start_time": "2022-07-24T12:33:12.468Z"
   },
   {
    "duration": 22,
    "start_time": "2022-07-24T12:33:12.481Z"
   },
   {
    "duration": 11,
    "start_time": "2022-07-24T12:33:12.505Z"
   },
   {
    "duration": 30,
    "start_time": "2022-07-24T12:33:12.518Z"
   },
   {
    "duration": 10,
    "start_time": "2022-07-24T12:33:12.551Z"
   },
   {
    "duration": 25,
    "start_time": "2022-07-24T12:33:12.563Z"
   },
   {
    "duration": 46,
    "start_time": "2022-07-24T12:33:12.590Z"
   },
   {
    "duration": 24,
    "start_time": "2022-07-24T12:33:12.638Z"
   },
   {
    "duration": 5,
    "start_time": "2022-07-24T12:33:12.663Z"
   },
   {
    "duration": 11,
    "start_time": "2022-07-24T12:33:12.670Z"
   },
   {
    "duration": 32,
    "start_time": "2022-07-24T12:33:12.683Z"
   },
   {
    "duration": 15,
    "start_time": "2022-07-24T12:33:12.717Z"
   },
   {
    "duration": 17,
    "start_time": "2022-07-24T12:33:12.734Z"
   },
   {
    "duration": 114,
    "start_time": "2022-07-24T12:33:12.753Z"
   },
   {
    "duration": 455,
    "start_time": "2022-07-24T12:36:03.478Z"
   },
   {
    "duration": 96,
    "start_time": "2022-07-24T12:36:03.936Z"
   },
   {
    "duration": 18,
    "start_time": "2022-07-24T12:36:04.033Z"
   },
   {
    "duration": 39,
    "start_time": "2022-07-24T12:36:04.053Z"
   },
   {
    "duration": 11,
    "start_time": "2022-07-24T12:36:04.094Z"
   },
   {
    "duration": 21,
    "start_time": "2022-07-24T12:36:04.107Z"
   },
   {
    "duration": 23,
    "start_time": "2022-07-24T12:36:04.130Z"
   },
   {
    "duration": 21,
    "start_time": "2022-07-24T12:36:04.154Z"
   },
   {
    "duration": 32,
    "start_time": "2022-07-24T12:36:04.177Z"
   },
   {
    "duration": 8,
    "start_time": "2022-07-24T12:36:04.212Z"
   },
   {
    "duration": 7,
    "start_time": "2022-07-24T12:36:04.222Z"
   },
   {
    "duration": 12,
    "start_time": "2022-07-24T12:36:04.231Z"
   },
   {
    "duration": 982,
    "start_time": "2022-07-24T12:36:04.245Z"
   },
   {
    "duration": 0,
    "start_time": "2022-07-24T12:36:05.229Z"
   },
   {
    "duration": 0,
    "start_time": "2022-07-24T12:36:05.230Z"
   },
   {
    "duration": 0,
    "start_time": "2022-07-24T12:36:05.232Z"
   },
   {
    "duration": 0,
    "start_time": "2022-07-24T12:36:05.233Z"
   },
   {
    "duration": 0,
    "start_time": "2022-07-24T12:36:05.235Z"
   },
   {
    "duration": 0,
    "start_time": "2022-07-24T12:36:05.237Z"
   },
   {
    "duration": 0,
    "start_time": "2022-07-24T12:36:05.238Z"
   },
   {
    "duration": 0,
    "start_time": "2022-07-24T12:36:05.240Z"
   },
   {
    "duration": 0,
    "start_time": "2022-07-24T12:36:05.242Z"
   },
   {
    "duration": 0,
    "start_time": "2022-07-24T12:36:05.243Z"
   },
   {
    "duration": 0,
    "start_time": "2022-07-24T12:36:05.244Z"
   },
   {
    "duration": 0,
    "start_time": "2022-07-24T12:36:05.246Z"
   },
   {
    "duration": 0,
    "start_time": "2022-07-24T12:36:05.247Z"
   },
   {
    "duration": 0,
    "start_time": "2022-07-24T12:36:05.249Z"
   },
   {
    "duration": 0,
    "start_time": "2022-07-24T12:36:05.251Z"
   },
   {
    "duration": 0,
    "start_time": "2022-07-24T12:36:05.252Z"
   },
   {
    "duration": 0,
    "start_time": "2022-07-24T12:36:05.253Z"
   },
   {
    "duration": 0,
    "start_time": "2022-07-24T12:36:05.255Z"
   },
   {
    "duration": 0,
    "start_time": "2022-07-24T12:36:05.257Z"
   },
   {
    "duration": 0,
    "start_time": "2022-07-24T12:36:05.258Z"
   },
   {
    "duration": 0,
    "start_time": "2022-07-24T12:36:05.260Z"
   },
   {
    "duration": 0,
    "start_time": "2022-07-24T12:36:05.262Z"
   },
   {
    "duration": 0,
    "start_time": "2022-07-24T12:36:05.264Z"
   },
   {
    "duration": 0,
    "start_time": "2022-07-24T12:36:05.265Z"
   },
   {
    "duration": 0,
    "start_time": "2022-07-24T12:36:05.266Z"
   },
   {
    "duration": 0,
    "start_time": "2022-07-24T12:36:05.267Z"
   },
   {
    "duration": 0,
    "start_time": "2022-07-24T12:36:05.268Z"
   },
   {
    "duration": 0,
    "start_time": "2022-07-24T12:36:05.315Z"
   },
   {
    "duration": 0,
    "start_time": "2022-07-24T12:36:05.317Z"
   },
   {
    "duration": 0,
    "start_time": "2022-07-24T12:36:05.319Z"
   },
   {
    "duration": 0,
    "start_time": "2022-07-24T12:36:05.320Z"
   },
   {
    "duration": 0,
    "start_time": "2022-07-24T12:36:05.322Z"
   },
   {
    "duration": 5,
    "start_time": "2022-07-24T12:38:09.275Z"
   },
   {
    "duration": 9,
    "start_time": "2022-07-24T12:40:18.000Z"
   },
   {
    "duration": 6,
    "start_time": "2022-07-24T12:40:20.234Z"
   },
   {
    "duration": 470,
    "start_time": "2022-07-24T12:44:33.117Z"
   },
   {
    "duration": 93,
    "start_time": "2022-07-24T12:44:33.589Z"
   },
   {
    "duration": 27,
    "start_time": "2022-07-24T12:44:33.683Z"
   },
   {
    "duration": 44,
    "start_time": "2022-07-24T12:44:33.713Z"
   },
   {
    "duration": 15,
    "start_time": "2022-07-24T12:44:33.760Z"
   },
   {
    "duration": 31,
    "start_time": "2022-07-24T12:44:33.777Z"
   },
   {
    "duration": 26,
    "start_time": "2022-07-24T12:44:33.810Z"
   },
   {
    "duration": 27,
    "start_time": "2022-07-24T12:44:33.838Z"
   },
   {
    "duration": 17,
    "start_time": "2022-07-24T12:44:33.867Z"
   },
   {
    "duration": 24,
    "start_time": "2022-07-24T12:44:33.889Z"
   },
   {
    "duration": 5,
    "start_time": "2022-07-24T12:44:33.915Z"
   },
   {
    "duration": 26,
    "start_time": "2022-07-24T12:44:33.922Z"
   },
   {
    "duration": 43,
    "start_time": "2022-07-24T12:44:33.950Z"
   },
   {
    "duration": 24,
    "start_time": "2022-07-24T12:44:33.995Z"
   },
   {
    "duration": 17,
    "start_time": "2022-07-24T12:44:34.021Z"
   },
   {
    "duration": 20,
    "start_time": "2022-07-24T12:44:34.040Z"
   },
   {
    "duration": 35,
    "start_time": "2022-07-24T12:44:34.062Z"
   },
   {
    "duration": 19,
    "start_time": "2022-07-24T12:44:34.099Z"
   },
   {
    "duration": 14,
    "start_time": "2022-07-24T12:44:34.120Z"
   },
   {
    "duration": 18,
    "start_time": "2022-07-24T12:44:34.135Z"
   },
   {
    "duration": 62,
    "start_time": "2022-07-24T12:44:34.155Z"
   },
   {
    "duration": 8,
    "start_time": "2022-07-24T12:44:34.220Z"
   },
   {
    "duration": 7,
    "start_time": "2022-07-24T12:44:34.230Z"
   },
   {
    "duration": 8,
    "start_time": "2022-07-24T12:44:34.239Z"
   },
   {
    "duration": 11,
    "start_time": "2022-07-24T12:44:34.249Z"
   },
   {
    "duration": 6,
    "start_time": "2022-07-24T12:44:34.311Z"
   },
   {
    "duration": 22,
    "start_time": "2022-07-24T12:44:34.319Z"
   },
   {
    "duration": 4,
    "start_time": "2022-07-24T12:44:34.345Z"
   },
   {
    "duration": 8,
    "start_time": "2022-07-24T12:44:34.351Z"
   },
   {
    "duration": 17,
    "start_time": "2022-07-24T12:44:34.410Z"
   },
   {
    "duration": 4,
    "start_time": "2022-07-24T12:44:34.430Z"
   },
   {
    "duration": 9,
    "start_time": "2022-07-24T12:44:34.436Z"
   },
   {
    "duration": 70,
    "start_time": "2022-07-24T12:44:34.447Z"
   },
   {
    "duration": 8,
    "start_time": "2022-07-24T12:44:34.519Z"
   },
   {
    "duration": 27,
    "start_time": "2022-07-24T12:44:34.528Z"
   },
   {
    "duration": 62,
    "start_time": "2022-07-24T12:44:34.557Z"
   },
   {
    "duration": 25,
    "start_time": "2022-07-24T12:44:34.621Z"
   },
   {
    "duration": 82,
    "start_time": "2022-07-24T12:44:34.649Z"
   },
   {
    "duration": 79,
    "start_time": "2022-07-24T12:44:34.733Z"
   },
   {
    "duration": 5,
    "start_time": "2022-07-24T12:44:34.815Z"
   },
   {
    "duration": 31,
    "start_time": "2022-07-24T12:44:34.821Z"
   },
   {
    "duration": 57,
    "start_time": "2022-07-24T12:44:34.854Z"
   },
   {
    "duration": 42,
    "start_time": "2022-07-24T12:44:34.914Z"
   },
   {
    "duration": 63,
    "start_time": "2022-07-24T12:44:34.959Z"
   },
   {
    "duration": 214,
    "start_time": "2022-07-24T12:44:35.024Z"
   },
   {
    "duration": 1503,
    "start_time": "2022-07-24T12:45:12.416Z"
   },
   {
    "duration": 5,
    "start_time": "2022-07-24T12:45:30.876Z"
   },
   {
    "duration": 17,
    "start_time": "2022-07-24T12:45:41.732Z"
   },
   {
    "duration": 428,
    "start_time": "2022-07-24T12:46:07.640Z"
   },
   {
    "duration": 100,
    "start_time": "2022-07-24T12:46:08.070Z"
   },
   {
    "duration": 19,
    "start_time": "2022-07-24T12:46:08.172Z"
   },
   {
    "duration": 42,
    "start_time": "2022-07-24T12:46:08.194Z"
   },
   {
    "duration": 14,
    "start_time": "2022-07-24T12:46:08.239Z"
   },
   {
    "duration": 31,
    "start_time": "2022-07-24T12:46:08.255Z"
   },
   {
    "duration": 25,
    "start_time": "2022-07-24T12:46:08.288Z"
   },
   {
    "duration": 22,
    "start_time": "2022-07-24T12:46:08.316Z"
   },
   {
    "duration": 17,
    "start_time": "2022-07-24T12:46:08.340Z"
   },
   {
    "duration": 8,
    "start_time": "2022-07-24T12:46:08.361Z"
   },
   {
    "duration": 8,
    "start_time": "2022-07-24T12:46:08.372Z"
   },
   {
    "duration": 5,
    "start_time": "2022-07-24T12:46:08.420Z"
   },
   {
    "duration": 44,
    "start_time": "2022-07-24T12:46:08.427Z"
   },
   {
    "duration": 7,
    "start_time": "2022-07-24T12:46:08.474Z"
   },
   {
    "duration": 15,
    "start_time": "2022-07-24T12:46:08.483Z"
   },
   {
    "duration": 17,
    "start_time": "2022-07-24T12:46:08.500Z"
   },
   {
    "duration": 9,
    "start_time": "2022-07-24T12:46:08.519Z"
   },
   {
    "duration": 18,
    "start_time": "2022-07-24T12:46:08.530Z"
   },
   {
    "duration": 18,
    "start_time": "2022-07-24T12:46:08.550Z"
   },
   {
    "duration": 14,
    "start_time": "2022-07-24T12:46:08.571Z"
   },
   {
    "duration": 30,
    "start_time": "2022-07-24T12:46:08.587Z"
   },
   {
    "duration": 16,
    "start_time": "2022-07-24T12:46:08.619Z"
   },
   {
    "duration": 13,
    "start_time": "2022-07-24T12:46:08.638Z"
   },
   {
    "duration": 6,
    "start_time": "2022-07-24T12:46:08.653Z"
   },
   {
    "duration": 8,
    "start_time": "2022-07-24T12:46:08.661Z"
   },
   {
    "duration": 13,
    "start_time": "2022-07-24T12:46:08.671Z"
   },
   {
    "duration": 37,
    "start_time": "2022-07-24T12:46:08.686Z"
   },
   {
    "duration": 17,
    "start_time": "2022-07-24T12:46:08.726Z"
   },
   {
    "duration": 25,
    "start_time": "2022-07-24T12:46:08.745Z"
   },
   {
    "duration": 5,
    "start_time": "2022-07-24T12:46:08.771Z"
   },
   {
    "duration": 13,
    "start_time": "2022-07-24T12:46:08.777Z"
   },
   {
    "duration": 38,
    "start_time": "2022-07-24T12:46:08.792Z"
   },
   {
    "duration": 15,
    "start_time": "2022-07-24T12:46:08.832Z"
   },
   {
    "duration": 32,
    "start_time": "2022-07-24T12:46:08.849Z"
   },
   {
    "duration": 31,
    "start_time": "2022-07-24T12:46:08.883Z"
   },
   {
    "duration": 45,
    "start_time": "2022-07-24T12:46:08.917Z"
   },
   {
    "duration": 62,
    "start_time": "2022-07-24T12:46:08.965Z"
   },
   {
    "duration": 18,
    "start_time": "2022-07-24T12:46:09.030Z"
   },
   {
    "duration": 66,
    "start_time": "2022-07-24T12:46:09.050Z"
   },
   {
    "duration": 26,
    "start_time": "2022-07-24T12:46:09.118Z"
   },
   {
    "duration": 83,
    "start_time": "2022-07-24T12:46:09.146Z"
   },
   {
    "duration": 6,
    "start_time": "2022-07-24T12:46:09.231Z"
   },
   {
    "duration": 12,
    "start_time": "2022-07-24T12:46:09.240Z"
   },
   {
    "duration": 60,
    "start_time": "2022-07-24T12:46:09.255Z"
   },
   {
    "duration": 36,
    "start_time": "2022-07-24T12:46:09.318Z"
   },
   {
    "duration": 67,
    "start_time": "2022-07-24T12:46:09.357Z"
   },
   {
    "duration": 18,
    "start_time": "2022-07-24T12:46:09.426Z"
   },
   {
    "duration": 1264,
    "start_time": "2022-07-24T12:48:39.463Z"
   },
   {
    "duration": 1142,
    "start_time": "2022-07-24T12:48:48.378Z"
   },
   {
    "duration": 24,
    "start_time": "2022-07-24T12:52:05.478Z"
   },
   {
    "duration": 29,
    "start_time": "2022-07-24T12:52:53.487Z"
   },
   {
    "duration": 50,
    "start_time": "2022-07-24T16:13:47.770Z"
   },
   {
    "duration": 423,
    "start_time": "2022-07-24T16:13:55.606Z"
   },
   {
    "duration": 270,
    "start_time": "2022-07-24T16:13:56.031Z"
   },
   {
    "duration": 16,
    "start_time": "2022-07-24T16:13:56.303Z"
   },
   {
    "duration": 110,
    "start_time": "2022-07-24T16:13:56.321Z"
   },
   {
    "duration": 12,
    "start_time": "2022-07-24T16:13:56.433Z"
   },
   {
    "duration": 74,
    "start_time": "2022-07-24T16:13:56.447Z"
   },
   {
    "duration": 83,
    "start_time": "2022-07-24T16:13:56.524Z"
   },
   {
    "duration": 30,
    "start_time": "2022-07-24T16:13:56.609Z"
   },
   {
    "duration": 76,
    "start_time": "2022-07-24T16:13:56.641Z"
   },
   {
    "duration": 11,
    "start_time": "2022-07-24T16:13:56.720Z"
   },
   {
    "duration": 172,
    "start_time": "2022-07-24T16:13:56.733Z"
   },
   {
    "duration": 0,
    "start_time": "2022-07-24T16:13:56.907Z"
   },
   {
    "duration": 0,
    "start_time": "2022-07-24T16:13:56.909Z"
   },
   {
    "duration": 0,
    "start_time": "2022-07-24T16:13:56.910Z"
   },
   {
    "duration": 0,
    "start_time": "2022-07-24T16:13:56.912Z"
   },
   {
    "duration": 0,
    "start_time": "2022-07-24T16:13:56.913Z"
   },
   {
    "duration": 0,
    "start_time": "2022-07-24T16:13:56.915Z"
   },
   {
    "duration": 0,
    "start_time": "2022-07-24T16:13:56.916Z"
   },
   {
    "duration": 0,
    "start_time": "2022-07-24T16:13:56.917Z"
   },
   {
    "duration": 0,
    "start_time": "2022-07-24T16:13:56.919Z"
   },
   {
    "duration": 0,
    "start_time": "2022-07-24T16:13:56.920Z"
   },
   {
    "duration": 0,
    "start_time": "2022-07-24T16:13:56.921Z"
   },
   {
    "duration": 0,
    "start_time": "2022-07-24T16:13:56.923Z"
   },
   {
    "duration": 0,
    "start_time": "2022-07-24T16:13:56.924Z"
   },
   {
    "duration": 0,
    "start_time": "2022-07-24T16:13:56.925Z"
   },
   {
    "duration": 0,
    "start_time": "2022-07-24T16:13:56.927Z"
   },
   {
    "duration": 0,
    "start_time": "2022-07-24T16:13:56.929Z"
   },
   {
    "duration": 0,
    "start_time": "2022-07-24T16:13:56.930Z"
   },
   {
    "duration": 0,
    "start_time": "2022-07-24T16:13:56.931Z"
   },
   {
    "duration": 0,
    "start_time": "2022-07-24T16:13:56.932Z"
   },
   {
    "duration": 1,
    "start_time": "2022-07-24T16:13:56.933Z"
   },
   {
    "duration": 0,
    "start_time": "2022-07-24T16:13:56.935Z"
   },
   {
    "duration": 0,
    "start_time": "2022-07-24T16:13:56.937Z"
   },
   {
    "duration": 0,
    "start_time": "2022-07-24T16:13:56.938Z"
   },
   {
    "duration": 0,
    "start_time": "2022-07-24T16:13:56.940Z"
   },
   {
    "duration": 0,
    "start_time": "2022-07-24T16:13:56.941Z"
   },
   {
    "duration": 0,
    "start_time": "2022-07-24T16:13:56.942Z"
   },
   {
    "duration": 0,
    "start_time": "2022-07-24T16:13:57.004Z"
   },
   {
    "duration": 0,
    "start_time": "2022-07-24T16:13:57.006Z"
   },
   {
    "duration": 0,
    "start_time": "2022-07-24T16:13:57.007Z"
   },
   {
    "duration": 0,
    "start_time": "2022-07-24T16:13:57.008Z"
   },
   {
    "duration": 0,
    "start_time": "2022-07-24T16:13:57.009Z"
   },
   {
    "duration": 0,
    "start_time": "2022-07-24T16:13:57.010Z"
   },
   {
    "duration": 0,
    "start_time": "2022-07-24T16:13:57.011Z"
   },
   {
    "duration": 0,
    "start_time": "2022-07-24T16:13:57.012Z"
   },
   {
    "duration": 0,
    "start_time": "2022-07-24T16:13:57.013Z"
   },
   {
    "duration": 0,
    "start_time": "2022-07-24T16:13:57.014Z"
   },
   {
    "duration": 0,
    "start_time": "2022-07-24T16:13:57.015Z"
   },
   {
    "duration": 8,
    "start_time": "2022-07-24T16:14:17.758Z"
   },
   {
    "duration": 5,
    "start_time": "2022-07-24T16:14:29.750Z"
   },
   {
    "duration": 7,
    "start_time": "2022-07-24T16:14:34.756Z"
   },
   {
    "duration": 5,
    "start_time": "2022-07-24T16:14:43.132Z"
   },
   {
    "duration": 4,
    "start_time": "2022-07-24T16:14:50.594Z"
   },
   {
    "duration": 16,
    "start_time": "2022-07-24T16:14:55.729Z"
   },
   {
    "duration": 5,
    "start_time": "2022-07-24T16:14:55.961Z"
   },
   {
    "duration": 453,
    "start_time": "2022-07-24T16:15:05.877Z"
   },
   {
    "duration": 93,
    "start_time": "2022-07-24T16:15:06.332Z"
   },
   {
    "duration": 18,
    "start_time": "2022-07-24T16:15:06.427Z"
   },
   {
    "duration": 70,
    "start_time": "2022-07-24T16:15:06.448Z"
   },
   {
    "duration": 16,
    "start_time": "2022-07-24T16:15:06.520Z"
   },
   {
    "duration": 27,
    "start_time": "2022-07-24T16:15:06.538Z"
   },
   {
    "duration": 38,
    "start_time": "2022-07-24T16:15:06.567Z"
   },
   {
    "duration": 29,
    "start_time": "2022-07-24T16:15:06.607Z"
   },
   {
    "duration": 9,
    "start_time": "2022-07-24T16:15:06.638Z"
   },
   {
    "duration": 13,
    "start_time": "2022-07-24T16:15:06.651Z"
   },
   {
    "duration": 39,
    "start_time": "2022-07-24T16:15:06.666Z"
   },
   {
    "duration": 13,
    "start_time": "2022-07-24T16:15:06.708Z"
   },
   {
    "duration": 18,
    "start_time": "2022-07-24T16:15:06.723Z"
   },
   {
    "duration": 49,
    "start_time": "2022-07-24T16:15:06.743Z"
   },
   {
    "duration": 6,
    "start_time": "2022-07-24T16:15:06.795Z"
   },
   {
    "duration": 10,
    "start_time": "2022-07-24T16:15:06.804Z"
   },
   {
    "duration": 11,
    "start_time": "2022-07-24T16:15:06.816Z"
   },
   {
    "duration": 9,
    "start_time": "2022-07-24T16:15:06.829Z"
   },
   {
    "duration": 21,
    "start_time": "2022-07-24T16:15:06.839Z"
   },
   {
    "duration": 22,
    "start_time": "2022-07-24T16:15:06.861Z"
   },
   {
    "duration": 25,
    "start_time": "2022-07-24T16:15:06.885Z"
   },
   {
    "duration": 9,
    "start_time": "2022-07-24T16:15:06.912Z"
   },
   {
    "duration": 8,
    "start_time": "2022-07-24T16:15:06.923Z"
   },
   {
    "duration": 13,
    "start_time": "2022-07-24T16:15:06.933Z"
   },
   {
    "duration": 10,
    "start_time": "2022-07-24T16:15:06.948Z"
   },
   {
    "duration": 8,
    "start_time": "2022-07-24T16:15:06.960Z"
   },
   {
    "duration": 35,
    "start_time": "2022-07-24T16:15:06.970Z"
   },
   {
    "duration": 9,
    "start_time": "2022-07-24T16:15:07.009Z"
   },
   {
    "duration": 7,
    "start_time": "2022-07-24T16:15:07.020Z"
   },
   {
    "duration": 20,
    "start_time": "2022-07-24T16:15:07.029Z"
   },
   {
    "duration": 4,
    "start_time": "2022-07-24T16:15:07.104Z"
   },
   {
    "duration": 7,
    "start_time": "2022-07-24T16:15:07.109Z"
   },
   {
    "duration": 25,
    "start_time": "2022-07-24T16:15:07.118Z"
   },
   {
    "duration": 4,
    "start_time": "2022-07-24T16:15:07.145Z"
   },
   {
    "duration": 60,
    "start_time": "2022-07-24T16:15:07.151Z"
   },
   {
    "duration": 34,
    "start_time": "2022-07-24T16:15:07.213Z"
   },
   {
    "duration": 57,
    "start_time": "2022-07-24T16:15:07.249Z"
   },
   {
    "duration": 27,
    "start_time": "2022-07-24T16:15:07.309Z"
   },
   {
    "duration": 8,
    "start_time": "2022-07-24T16:15:07.337Z"
   },
   {
    "duration": 76,
    "start_time": "2022-07-24T16:15:07.347Z"
   },
   {
    "duration": 80,
    "start_time": "2022-07-24T16:15:07.425Z"
   },
   {
    "duration": 27,
    "start_time": "2022-07-24T16:15:07.507Z"
   },
   {
    "duration": 4,
    "start_time": "2022-07-24T16:15:07.536Z"
   },
   {
    "duration": 63,
    "start_time": "2022-07-24T16:15:07.542Z"
   },
   {
    "duration": 5,
    "start_time": "2022-07-24T16:15:07.607Z"
   },
   {
    "duration": 17,
    "start_time": "2022-07-24T16:15:07.613Z"
   },
   {
    "duration": 16,
    "start_time": "2022-07-24T16:15:07.632Z"
   },
   {
    "duration": 80,
    "start_time": "2022-07-24T16:15:07.649Z"
   },
   {
    "duration": 6,
    "start_time": "2022-07-24T16:15:41.822Z"
   },
   {
    "duration": 6,
    "start_time": "2022-07-24T16:15:47.845Z"
   },
   {
    "duration": 8,
    "start_time": "2022-07-24T16:16:12.365Z"
   },
   {
    "duration": 411,
    "start_time": "2022-07-24T16:16:17.448Z"
   },
   {
    "duration": 84,
    "start_time": "2022-07-24T16:16:17.861Z"
   },
   {
    "duration": 15,
    "start_time": "2022-07-24T16:16:17.947Z"
   },
   {
    "duration": 40,
    "start_time": "2022-07-24T16:16:17.964Z"
   },
   {
    "duration": 12,
    "start_time": "2022-07-24T16:16:18.006Z"
   },
   {
    "duration": 30,
    "start_time": "2022-07-24T16:16:18.019Z"
   },
   {
    "duration": 32,
    "start_time": "2022-07-24T16:16:18.051Z"
   },
   {
    "duration": 35,
    "start_time": "2022-07-24T16:16:18.085Z"
   },
   {
    "duration": 7,
    "start_time": "2022-07-24T16:16:18.122Z"
   },
   {
    "duration": 13,
    "start_time": "2022-07-24T16:16:18.132Z"
   },
   {
    "duration": 21,
    "start_time": "2022-07-24T16:16:18.146Z"
   },
   {
    "duration": 10,
    "start_time": "2022-07-24T16:16:18.169Z"
   },
   {
    "duration": 8,
    "start_time": "2022-07-24T16:16:18.180Z"
   },
   {
    "duration": 43,
    "start_time": "2022-07-24T16:16:18.190Z"
   },
   {
    "duration": 4,
    "start_time": "2022-07-24T16:16:18.235Z"
   },
   {
    "duration": 12,
    "start_time": "2022-07-24T16:16:18.241Z"
   },
   {
    "duration": 8,
    "start_time": "2022-07-24T16:16:18.254Z"
   },
   {
    "duration": 13,
    "start_time": "2022-07-24T16:16:18.264Z"
   },
   {
    "duration": 10,
    "start_time": "2022-07-24T16:16:18.278Z"
   },
   {
    "duration": 27,
    "start_time": "2022-07-24T16:16:18.290Z"
   },
   {
    "duration": 9,
    "start_time": "2022-07-24T16:16:18.318Z"
   },
   {
    "duration": 9,
    "start_time": "2022-07-24T16:16:18.328Z"
   },
   {
    "duration": 9,
    "start_time": "2022-07-24T16:16:18.339Z"
   },
   {
    "duration": 13,
    "start_time": "2022-07-24T16:16:18.349Z"
   },
   {
    "duration": 7,
    "start_time": "2022-07-24T16:16:18.364Z"
   },
   {
    "duration": 7,
    "start_time": "2022-07-24T16:16:18.373Z"
   },
   {
    "duration": 27,
    "start_time": "2022-07-24T16:16:18.382Z"
   },
   {
    "duration": 5,
    "start_time": "2022-07-24T16:16:18.413Z"
   },
   {
    "duration": 8,
    "start_time": "2022-07-24T16:16:18.420Z"
   },
   {
    "duration": 20,
    "start_time": "2022-07-24T16:16:18.430Z"
   },
   {
    "duration": 4,
    "start_time": "2022-07-24T16:16:18.452Z"
   },
   {
    "duration": 7,
    "start_time": "2022-07-24T16:16:18.458Z"
   },
   {
    "duration": 46,
    "start_time": "2022-07-24T16:16:18.467Z"
   },
   {
    "duration": 4,
    "start_time": "2022-07-24T16:16:18.515Z"
   },
   {
    "duration": 18,
    "start_time": "2022-07-24T16:16:18.521Z"
   },
   {
    "duration": 27,
    "start_time": "2022-07-24T16:16:18.542Z"
   },
   {
    "duration": 10,
    "start_time": "2022-07-24T16:16:18.571Z"
   },
   {
    "duration": 33,
    "start_time": "2022-07-24T16:16:18.582Z"
   },
   {
    "duration": 7,
    "start_time": "2022-07-24T16:16:18.617Z"
   },
   {
    "duration": 21,
    "start_time": "2022-07-24T16:16:18.626Z"
   },
   {
    "duration": 33,
    "start_time": "2022-07-24T16:16:18.649Z"
   },
   {
    "duration": 17,
    "start_time": "2022-07-24T16:16:18.704Z"
   },
   {
    "duration": 4,
    "start_time": "2022-07-24T16:16:18.723Z"
   },
   {
    "duration": 10,
    "start_time": "2022-07-24T16:16:18.729Z"
   },
   {
    "duration": 7,
    "start_time": "2022-07-24T16:16:18.741Z"
   },
   {
    "duration": 20,
    "start_time": "2022-07-24T16:16:18.750Z"
   },
   {
    "duration": 41,
    "start_time": "2022-07-24T16:16:18.772Z"
   },
   {
    "duration": 29,
    "start_time": "2022-07-24T16:16:18.814Z"
   },
   {
    "duration": 24,
    "start_time": "2022-07-24T16:26:27.393Z"
   },
   {
    "duration": 4,
    "start_time": "2022-07-24T16:38:42.459Z"
   },
   {
    "duration": 5,
    "start_time": "2022-07-24T16:43:15.231Z"
   },
   {
    "duration": 5,
    "start_time": "2022-07-24T16:45:26.540Z"
   },
   {
    "duration": 8,
    "start_time": "2022-07-24T16:45:48.105Z"
   },
   {
    "duration": 110,
    "start_time": "2022-07-24T16:47:50.009Z"
   },
   {
    "duration": 7,
    "start_time": "2022-07-24T16:47:56.783Z"
   },
   {
    "duration": 610,
    "start_time": "2022-07-24T16:51:31.488Z"
   },
   {
    "duration": 101,
    "start_time": "2022-07-24T16:51:49.343Z"
   },
   {
    "duration": 158,
    "start_time": "2022-07-24T16:51:54.110Z"
   },
   {
    "duration": 155,
    "start_time": "2022-07-24T16:52:21.486Z"
   },
   {
    "duration": 172,
    "start_time": "2022-07-24T16:53:23.611Z"
   },
   {
    "duration": 120,
    "start_time": "2022-07-24T16:54:51.130Z"
   },
   {
    "duration": 138,
    "start_time": "2022-07-24T16:55:04.120Z"
   },
   {
    "duration": 133,
    "start_time": "2022-07-24T16:55:14.466Z"
   },
   {
    "duration": 148,
    "start_time": "2022-07-24T16:59:48.078Z"
   },
   {
    "duration": 150,
    "start_time": "2022-07-24T16:59:57.307Z"
   },
   {
    "duration": 177,
    "start_time": "2022-07-24T17:03:02.799Z"
   },
   {
    "duration": 159,
    "start_time": "2022-07-24T17:03:35.547Z"
   },
   {
    "duration": 33,
    "start_time": "2022-07-24T18:13:47.691Z"
   },
   {
    "duration": 489,
    "start_time": "2022-07-24T18:14:00.894Z"
   },
   {
    "duration": 101,
    "start_time": "2022-07-24T18:14:01.385Z"
   },
   {
    "duration": 16,
    "start_time": "2022-07-24T18:14:01.488Z"
   },
   {
    "duration": 64,
    "start_time": "2022-07-24T18:14:01.507Z"
   },
   {
    "duration": 10,
    "start_time": "2022-07-24T18:14:01.573Z"
   },
   {
    "duration": 58,
    "start_time": "2022-07-24T18:14:01.584Z"
   },
   {
    "duration": 28,
    "start_time": "2022-07-24T18:14:01.644Z"
   },
   {
    "duration": 23,
    "start_time": "2022-07-24T18:14:01.673Z"
   },
   {
    "duration": 12,
    "start_time": "2022-07-24T18:14:01.698Z"
   },
   {
    "duration": 34,
    "start_time": "2022-07-24T18:14:01.714Z"
   },
   {
    "duration": 7,
    "start_time": "2022-07-24T18:14:01.749Z"
   },
   {
    "duration": 8,
    "start_time": "2022-07-24T18:14:01.757Z"
   },
   {
    "duration": 8,
    "start_time": "2022-07-24T18:14:01.767Z"
   },
   {
    "duration": 26,
    "start_time": "2022-07-24T18:14:01.776Z"
   },
   {
    "duration": 6,
    "start_time": "2022-07-24T18:14:01.809Z"
   },
   {
    "duration": 22,
    "start_time": "2022-07-24T18:14:01.817Z"
   },
   {
    "duration": 9,
    "start_time": "2022-07-24T18:14:01.840Z"
   },
   {
    "duration": 16,
    "start_time": "2022-07-24T18:14:01.851Z"
   },
   {
    "duration": 7,
    "start_time": "2022-07-24T18:14:01.869Z"
   },
   {
    "duration": 18,
    "start_time": "2022-07-24T18:14:01.878Z"
   },
   {
    "duration": 32,
    "start_time": "2022-07-24T18:14:01.898Z"
   },
   {
    "duration": 12,
    "start_time": "2022-07-24T18:14:01.932Z"
   },
   {
    "duration": 11,
    "start_time": "2022-07-24T18:14:01.946Z"
   },
   {
    "duration": 13,
    "start_time": "2022-07-24T18:14:01.959Z"
   },
   {
    "duration": 7,
    "start_time": "2022-07-24T18:14:01.973Z"
   },
   {
    "duration": 7,
    "start_time": "2022-07-24T18:14:01.982Z"
   },
   {
    "duration": 9,
    "start_time": "2022-07-24T18:14:01.991Z"
   },
   {
    "duration": 22,
    "start_time": "2022-07-24T18:14:02.003Z"
   },
   {
    "duration": 13,
    "start_time": "2022-07-24T18:14:02.028Z"
   },
   {
    "duration": 22,
    "start_time": "2022-07-24T18:14:02.043Z"
   },
   {
    "duration": 5,
    "start_time": "2022-07-24T18:14:02.067Z"
   },
   {
    "duration": 15,
    "start_time": "2022-07-24T18:14:02.073Z"
   },
   {
    "duration": 13,
    "start_time": "2022-07-24T18:14:02.089Z"
   },
   {
    "duration": 34,
    "start_time": "2022-07-24T18:14:02.104Z"
   },
   {
    "duration": 14,
    "start_time": "2022-07-24T18:14:02.140Z"
   },
   {
    "duration": 17,
    "start_time": "2022-07-24T18:14:02.156Z"
   },
   {
    "duration": 4,
    "start_time": "2022-07-24T18:14:02.175Z"
   },
   {
    "duration": 10,
    "start_time": "2022-07-24T18:14:02.181Z"
   },
   {
    "duration": 7,
    "start_time": "2022-07-24T18:14:02.193Z"
   },
   {
    "duration": 448,
    "start_time": "2022-07-24T18:14:02.201Z"
   },
   {
    "duration": 16,
    "start_time": "2022-07-24T18:14:02.651Z"
   },
   {
    "duration": 180,
    "start_time": "2022-07-24T18:14:02.668Z"
   },
   {
    "duration": 22,
    "start_time": "2022-07-24T18:14:02.850Z"
   },
   {
    "duration": 187,
    "start_time": "2022-07-24T18:14:02.874Z"
   },
   {
    "duration": 19,
    "start_time": "2022-07-24T18:14:03.063Z"
   },
   {
    "duration": 22,
    "start_time": "2022-07-24T18:14:03.084Z"
   },
   {
    "duration": 33,
    "start_time": "2022-07-24T18:14:03.108Z"
   },
   {
    "duration": 6,
    "start_time": "2022-07-24T18:14:03.143Z"
   },
   {
    "duration": 31,
    "start_time": "2022-07-24T18:14:03.151Z"
   },
   {
    "duration": 13,
    "start_time": "2022-07-24T18:14:03.184Z"
   },
   {
    "duration": 57,
    "start_time": "2022-07-24T18:14:03.199Z"
   },
   {
    "duration": 9,
    "start_time": "2022-07-24T18:14:38.152Z"
   },
   {
    "duration": 5,
    "start_time": "2022-07-24T18:14:40.780Z"
   },
   {
    "duration": 24,
    "start_time": "2022-07-24T18:14:41.252Z"
   },
   {
    "duration": 5,
    "start_time": "2022-07-24T18:15:02.947Z"
   },
   {
    "duration": 6,
    "start_time": "2022-07-24T18:15:08.186Z"
   },
   {
    "duration": 77,
    "start_time": "2022-07-24T18:15:20.761Z"
   },
   {
    "duration": 19,
    "start_time": "2022-07-24T18:15:36.137Z"
   },
   {
    "duration": 5,
    "start_time": "2022-07-24T18:15:43.336Z"
   },
   {
    "duration": 5,
    "start_time": "2022-07-24T18:18:26.284Z"
   },
   {
    "duration": 5,
    "start_time": "2022-07-24T18:18:26.832Z"
   },
   {
    "duration": 5,
    "start_time": "2022-07-24T18:18:27.090Z"
   },
   {
    "duration": 24,
    "start_time": "2022-07-24T18:18:27.459Z"
   },
   {
    "duration": 394,
    "start_time": "2022-07-24T18:18:37.949Z"
   },
   {
    "duration": 84,
    "start_time": "2022-07-24T18:18:38.345Z"
   },
   {
    "duration": 16,
    "start_time": "2022-07-24T18:18:38.430Z"
   },
   {
    "duration": 36,
    "start_time": "2022-07-24T18:18:38.449Z"
   },
   {
    "duration": 12,
    "start_time": "2022-07-24T18:18:38.487Z"
   },
   {
    "duration": 20,
    "start_time": "2022-07-24T18:18:38.500Z"
   },
   {
    "duration": 25,
    "start_time": "2022-07-24T18:18:38.522Z"
   },
   {
    "duration": 22,
    "start_time": "2022-07-24T18:18:38.549Z"
   },
   {
    "duration": 7,
    "start_time": "2022-07-24T18:18:38.573Z"
   },
   {
    "duration": 8,
    "start_time": "2022-07-24T18:18:38.606Z"
   },
   {
    "duration": 8,
    "start_time": "2022-07-24T18:18:38.617Z"
   },
   {
    "duration": 7,
    "start_time": "2022-07-24T18:18:38.627Z"
   },
   {
    "duration": 7,
    "start_time": "2022-07-24T18:18:38.636Z"
   },
   {
    "duration": 25,
    "start_time": "2022-07-24T18:18:38.645Z"
   },
   {
    "duration": 34,
    "start_time": "2022-07-24T18:18:38.672Z"
   },
   {
    "duration": 5,
    "start_time": "2022-07-24T18:18:38.708Z"
   },
   {
    "duration": 10,
    "start_time": "2022-07-24T18:18:38.715Z"
   },
   {
    "duration": 24,
    "start_time": "2022-07-24T18:18:38.727Z"
   },
   {
    "duration": 5,
    "start_time": "2022-07-24T18:18:38.753Z"
   },
   {
    "duration": 29,
    "start_time": "2022-07-24T18:18:38.760Z"
   },
   {
    "duration": 17,
    "start_time": "2022-07-24T18:18:38.792Z"
   },
   {
    "duration": 9,
    "start_time": "2022-07-24T18:18:38.810Z"
   },
   {
    "duration": 9,
    "start_time": "2022-07-24T18:18:38.821Z"
   },
   {
    "duration": 10,
    "start_time": "2022-07-24T18:18:38.831Z"
   },
   {
    "duration": 6,
    "start_time": "2022-07-24T18:18:38.843Z"
   },
   {
    "duration": 9,
    "start_time": "2022-07-24T18:18:38.851Z"
   },
   {
    "duration": 20,
    "start_time": "2022-07-24T18:18:38.862Z"
   },
   {
    "duration": 7,
    "start_time": "2022-07-24T18:18:38.903Z"
   },
   {
    "duration": 8,
    "start_time": "2022-07-24T18:18:38.912Z"
   },
   {
    "duration": 26,
    "start_time": "2022-07-24T18:18:38.922Z"
   },
   {
    "duration": 4,
    "start_time": "2022-07-24T18:18:38.950Z"
   },
   {
    "duration": 13,
    "start_time": "2022-07-24T18:18:38.956Z"
   },
   {
    "duration": 34,
    "start_time": "2022-07-24T18:18:38.971Z"
   },
   {
    "duration": 5,
    "start_time": "2022-07-24T18:18:39.007Z"
   },
   {
    "duration": 10,
    "start_time": "2022-07-24T18:18:39.014Z"
   },
   {
    "duration": 12,
    "start_time": "2022-07-24T18:18:39.026Z"
   },
   {
    "duration": 5,
    "start_time": "2022-07-24T18:18:39.039Z"
   },
   {
    "duration": 8,
    "start_time": "2022-07-24T18:18:39.045Z"
   },
   {
    "duration": 10,
    "start_time": "2022-07-24T18:18:39.054Z"
   },
   {
    "duration": 378,
    "start_time": "2022-07-24T18:18:39.065Z"
   },
   {
    "duration": 15,
    "start_time": "2022-07-24T18:18:39.445Z"
   },
   {
    "duration": 163,
    "start_time": "2022-07-24T18:18:39.462Z"
   },
   {
    "duration": 23,
    "start_time": "2022-07-24T18:18:39.626Z"
   },
   {
    "duration": 160,
    "start_time": "2022-07-24T18:18:39.651Z"
   },
   {
    "duration": 18,
    "start_time": "2022-07-24T18:18:39.813Z"
   },
   {
    "duration": 4,
    "start_time": "2022-07-24T18:18:39.832Z"
   },
   {
    "duration": 7,
    "start_time": "2022-07-24T18:18:39.837Z"
   },
   {
    "duration": 6,
    "start_time": "2022-07-24T18:18:39.845Z"
   },
   {
    "duration": 5,
    "start_time": "2022-07-24T18:18:39.853Z"
   },
   {
    "duration": 61,
    "start_time": "2022-07-24T18:18:39.860Z"
   },
   {
    "duration": 12,
    "start_time": "2022-07-24T18:18:39.922Z"
   },
   {
    "duration": 27,
    "start_time": "2022-07-24T18:18:39.936Z"
   },
   {
    "duration": 33,
    "start_time": "2022-07-24T18:18:56.853Z"
   },
   {
    "duration": 13,
    "start_time": "2022-07-24T18:19:05.144Z"
   },
   {
    "duration": 29,
    "start_time": "2022-07-24T18:19:10.626Z"
   },
   {
    "duration": 5,
    "start_time": "2022-07-24T18:20:27.977Z"
   },
   {
    "duration": 22,
    "start_time": "2022-07-24T18:22:27.880Z"
   },
   {
    "duration": 212,
    "start_time": "2022-07-24T18:23:14.494Z"
   },
   {
    "duration": 16,
    "start_time": "2022-07-24T18:23:21.549Z"
   },
   {
    "duration": 16,
    "start_time": "2022-07-24T18:23:23.284Z"
   },
   {
    "duration": 25,
    "start_time": "2022-07-24T18:23:40.621Z"
   },
   {
    "duration": 286,
    "start_time": "2022-07-24T18:23:41.602Z"
   },
   {
    "duration": 1244,
    "start_time": "2022-07-24T18:24:12.897Z"
   },
   {
    "duration": 177,
    "start_time": "2022-07-24T18:24:33.256Z"
   },
   {
    "duration": 186,
    "start_time": "2022-07-24T18:24:55.222Z"
   },
   {
    "duration": 22,
    "start_time": "2022-07-24T18:25:10.255Z"
   },
   {
    "duration": 1307,
    "start_time": "2022-07-24T18:28:25.750Z"
   },
   {
    "duration": 169,
    "start_time": "2022-07-24T18:30:50.841Z"
   },
   {
    "duration": 441,
    "start_time": "2022-07-24T19:31:27.894Z"
   },
   {
    "duration": 86,
    "start_time": "2022-07-24T19:31:28.337Z"
   },
   {
    "duration": 17,
    "start_time": "2022-07-24T19:31:28.425Z"
   },
   {
    "duration": 45,
    "start_time": "2022-07-24T19:31:28.444Z"
   },
   {
    "duration": 10,
    "start_time": "2022-07-24T19:31:28.491Z"
   },
   {
    "duration": 19,
    "start_time": "2022-07-24T19:31:28.503Z"
   },
   {
    "duration": 24,
    "start_time": "2022-07-24T19:31:28.523Z"
   },
   {
    "duration": 21,
    "start_time": "2022-07-24T19:31:28.548Z"
   },
   {
    "duration": 7,
    "start_time": "2022-07-24T19:31:28.570Z"
   },
   {
    "duration": 27,
    "start_time": "2022-07-24T19:31:28.580Z"
   },
   {
    "duration": 6,
    "start_time": "2022-07-24T19:31:28.609Z"
   },
   {
    "duration": 6,
    "start_time": "2022-07-24T19:31:28.617Z"
   },
   {
    "duration": 5,
    "start_time": "2022-07-24T19:31:28.625Z"
   },
   {
    "duration": 24,
    "start_time": "2022-07-24T19:31:28.632Z"
   },
   {
    "duration": 5,
    "start_time": "2022-07-24T19:31:28.657Z"
   },
   {
    "duration": 6,
    "start_time": "2022-07-24T19:31:28.663Z"
   },
   {
    "duration": 34,
    "start_time": "2022-07-24T19:31:28.671Z"
   },
   {
    "duration": 8,
    "start_time": "2022-07-24T19:31:28.706Z"
   },
   {
    "duration": 6,
    "start_time": "2022-07-24T19:31:28.715Z"
   },
   {
    "duration": 16,
    "start_time": "2022-07-24T19:31:28.723Z"
   },
   {
    "duration": 8,
    "start_time": "2022-07-24T19:31:28.741Z"
   },
   {
    "duration": 9,
    "start_time": "2022-07-24T19:31:28.751Z"
   },
   {
    "duration": 43,
    "start_time": "2022-07-24T19:31:28.762Z"
   },
   {
    "duration": 10,
    "start_time": "2022-07-24T19:31:28.807Z"
   },
   {
    "duration": 5,
    "start_time": "2022-07-24T19:31:28.819Z"
   },
   {
    "duration": 7,
    "start_time": "2022-07-24T19:31:28.825Z"
   },
   {
    "duration": 9,
    "start_time": "2022-07-24T19:31:28.834Z"
   },
   {
    "duration": 5,
    "start_time": "2022-07-24T19:31:28.847Z"
   },
   {
    "duration": 8,
    "start_time": "2022-07-24T19:31:28.854Z"
   },
   {
    "duration": 48,
    "start_time": "2022-07-24T19:31:28.864Z"
   },
   {
    "duration": 4,
    "start_time": "2022-07-24T19:31:28.913Z"
   },
   {
    "duration": 9,
    "start_time": "2022-07-24T19:31:28.918Z"
   },
   {
    "duration": 6,
    "start_time": "2022-07-24T19:31:28.929Z"
   },
   {
    "duration": 4,
    "start_time": "2022-07-24T19:31:28.937Z"
   },
   {
    "duration": 10,
    "start_time": "2022-07-24T19:31:28.943Z"
   },
   {
    "duration": 16,
    "start_time": "2022-07-24T19:31:28.955Z"
   },
   {
    "duration": 5,
    "start_time": "2022-07-24T19:31:28.973Z"
   },
   {
    "duration": 4,
    "start_time": "2022-07-24T19:31:29.005Z"
   },
   {
    "duration": 7,
    "start_time": "2022-07-24T19:31:29.011Z"
   },
   {
    "duration": 389,
    "start_time": "2022-07-24T19:31:29.020Z"
   },
   {
    "duration": 15,
    "start_time": "2022-07-24T19:31:29.410Z"
   },
   {
    "duration": 285,
    "start_time": "2022-07-24T19:31:29.427Z"
   },
   {
    "duration": 23,
    "start_time": "2022-07-24T19:31:29.714Z"
   },
   {
    "duration": 366,
    "start_time": "2022-07-24T19:31:29.739Z"
   },
   {
    "duration": 20,
    "start_time": "2022-07-24T19:31:30.107Z"
   },
   {
    "duration": 107,
    "start_time": "2022-07-24T19:31:30.129Z"
   },
   {
    "duration": 40,
    "start_time": "2022-07-24T19:31:30.238Z"
   },
   {
    "duration": 111,
    "start_time": "2022-07-24T19:31:30.281Z"
   },
   {
    "duration": 81,
    "start_time": "2022-07-24T19:31:30.405Z"
   },
   {
    "duration": 46,
    "start_time": "2022-07-24T19:31:30.503Z"
   },
   {
    "duration": 386,
    "start_time": "2022-07-24T19:31:30.551Z"
   },
   {
    "duration": 325,
    "start_time": "2022-07-24T19:31:30.938Z"
   },
   {
    "duration": 15,
    "start_time": "2022-07-24T19:31:31.265Z"
   },
   {
    "duration": 157,
    "start_time": "2022-07-24T19:31:31.282Z"
   },
   {
    "duration": 29,
    "start_time": "2022-07-24T19:31:31.441Z"
   },
   {
    "duration": 433,
    "start_time": "2022-07-25T14:56:25.206Z"
   },
   {
    "duration": 256,
    "start_time": "2022-07-25T14:56:25.648Z"
   },
   {
    "duration": 16,
    "start_time": "2022-07-25T14:56:25.905Z"
   },
   {
    "duration": 95,
    "start_time": "2022-07-25T14:56:25.923Z"
   },
   {
    "duration": 12,
    "start_time": "2022-07-25T14:56:26.020Z"
   },
   {
    "duration": 44,
    "start_time": "2022-07-25T14:56:26.034Z"
   },
   {
    "duration": 40,
    "start_time": "2022-07-25T14:56:26.080Z"
   },
   {
    "duration": 34,
    "start_time": "2022-07-25T14:56:26.121Z"
   },
   {
    "duration": 10,
    "start_time": "2022-07-25T14:56:26.157Z"
   },
   {
    "duration": 22,
    "start_time": "2022-07-25T14:56:26.171Z"
   },
   {
    "duration": 9,
    "start_time": "2022-07-25T14:56:26.195Z"
   },
   {
    "duration": 6,
    "start_time": "2022-07-25T14:56:26.206Z"
   },
   {
    "duration": 5,
    "start_time": "2022-07-25T14:56:26.214Z"
   },
   {
    "duration": 47,
    "start_time": "2022-07-25T14:56:26.220Z"
   },
   {
    "duration": 6,
    "start_time": "2022-07-25T14:56:26.268Z"
   },
   {
    "duration": 8,
    "start_time": "2022-07-25T14:56:26.276Z"
   },
   {
    "duration": 6,
    "start_time": "2022-07-25T14:56:26.286Z"
   },
   {
    "duration": 8,
    "start_time": "2022-07-25T14:56:26.293Z"
   },
   {
    "duration": 6,
    "start_time": "2022-07-25T14:56:26.304Z"
   },
   {
    "duration": 41,
    "start_time": "2022-07-25T14:56:26.312Z"
   },
   {
    "duration": 12,
    "start_time": "2022-07-25T14:56:26.355Z"
   },
   {
    "duration": 7,
    "start_time": "2022-07-25T14:56:26.369Z"
   },
   {
    "duration": 8,
    "start_time": "2022-07-25T14:56:26.378Z"
   },
   {
    "duration": 15,
    "start_time": "2022-07-25T14:56:26.388Z"
   },
   {
    "duration": 7,
    "start_time": "2022-07-25T14:56:26.405Z"
   },
   {
    "duration": 8,
    "start_time": "2022-07-25T14:56:26.414Z"
   },
   {
    "duration": 27,
    "start_time": "2022-07-25T14:56:26.432Z"
   },
   {
    "duration": 11,
    "start_time": "2022-07-25T14:56:26.463Z"
   },
   {
    "duration": 7,
    "start_time": "2022-07-25T14:56:26.476Z"
   },
   {
    "duration": 19,
    "start_time": "2022-07-25T14:56:26.484Z"
   },
   {
    "duration": 3,
    "start_time": "2022-07-25T14:56:26.505Z"
   },
   {
    "duration": 12,
    "start_time": "2022-07-25T14:56:26.510Z"
   },
   {
    "duration": 35,
    "start_time": "2022-07-25T14:56:26.528Z"
   },
   {
    "duration": 6,
    "start_time": "2022-07-25T14:56:26.564Z"
   },
   {
    "duration": 9,
    "start_time": "2022-07-25T14:56:26.572Z"
   },
   {
    "duration": 16,
    "start_time": "2022-07-25T14:56:26.583Z"
   },
   {
    "duration": 4,
    "start_time": "2022-07-25T14:56:26.601Z"
   },
   {
    "duration": 9,
    "start_time": "2022-07-25T14:56:26.606Z"
   },
   {
    "duration": 31,
    "start_time": "2022-07-25T14:56:26.617Z"
   },
   {
    "duration": 597,
    "start_time": "2022-07-25T14:56:26.650Z"
   },
   {
    "duration": 18,
    "start_time": "2022-07-25T14:56:27.249Z"
   },
   {
    "duration": 209,
    "start_time": "2022-07-25T14:56:27.269Z"
   },
   {
    "duration": 24,
    "start_time": "2022-07-25T14:56:27.481Z"
   },
   {
    "duration": 204,
    "start_time": "2022-07-25T14:56:27.507Z"
   },
   {
    "duration": 50,
    "start_time": "2022-07-25T14:56:27.713Z"
   },
   {
    "duration": 10,
    "start_time": "2022-07-25T14:56:27.765Z"
   },
   {
    "duration": 12,
    "start_time": "2022-07-25T14:56:27.777Z"
   },
   {
    "duration": 11,
    "start_time": "2022-07-25T14:56:27.791Z"
   },
   {
    "duration": 11,
    "start_time": "2022-07-25T14:56:27.804Z"
   },
   {
    "duration": 58,
    "start_time": "2022-07-25T14:56:27.817Z"
   },
   {
    "duration": 210,
    "start_time": "2022-07-25T14:56:27.877Z"
   },
   {
    "duration": 245,
    "start_time": "2022-07-25T14:56:28.089Z"
   },
   {
    "duration": 23,
    "start_time": "2022-07-25T14:56:28.338Z"
   },
   {
    "duration": 176,
    "start_time": "2022-07-25T14:56:28.363Z"
   },
   {
    "duration": 29,
    "start_time": "2022-07-25T14:56:28.543Z"
   },
   {
    "duration": 7,
    "start_time": "2022-07-25T14:57:21.746Z"
   },
   {
    "duration": 104,
    "start_time": "2022-07-25T15:30:14.264Z"
   },
   {
    "duration": 422,
    "start_time": "2022-07-25T15:55:03.359Z"
   },
   {
    "duration": 353,
    "start_time": "2022-07-25T15:55:03.783Z"
   },
   {
    "duration": 15,
    "start_time": "2022-07-25T15:55:04.138Z"
   },
   {
    "duration": 82,
    "start_time": "2022-07-25T15:55:04.155Z"
   },
   {
    "duration": 10,
    "start_time": "2022-07-25T15:55:04.239Z"
   },
   {
    "duration": 24,
    "start_time": "2022-07-25T15:55:04.250Z"
   },
   {
    "duration": 23,
    "start_time": "2022-07-25T15:55:04.275Z"
   },
   {
    "duration": 21,
    "start_time": "2022-07-25T15:55:04.300Z"
   },
   {
    "duration": 5,
    "start_time": "2022-07-25T15:55:04.322Z"
   },
   {
    "duration": 6,
    "start_time": "2022-07-25T15:55:04.347Z"
   },
   {
    "duration": 9,
    "start_time": "2022-07-25T15:55:04.354Z"
   },
   {
    "duration": 11,
    "start_time": "2022-07-25T15:55:04.365Z"
   },
   {
    "duration": 7,
    "start_time": "2022-07-25T15:55:04.377Z"
   },
   {
    "duration": 26,
    "start_time": "2022-07-25T15:55:04.385Z"
   },
   {
    "duration": 4,
    "start_time": "2022-07-25T15:55:04.412Z"
   },
   {
    "duration": 6,
    "start_time": "2022-07-25T15:55:04.418Z"
   },
   {
    "duration": 21,
    "start_time": "2022-07-25T15:55:04.425Z"
   },
   {
    "duration": 6,
    "start_time": "2022-07-25T15:55:04.448Z"
   },
   {
    "duration": 10,
    "start_time": "2022-07-25T15:55:04.455Z"
   },
   {
    "duration": 23,
    "start_time": "2022-07-25T15:55:04.466Z"
   },
   {
    "duration": 12,
    "start_time": "2022-07-25T15:55:04.491Z"
   },
   {
    "duration": 19,
    "start_time": "2022-07-25T15:55:04.504Z"
   },
   {
    "duration": 5,
    "start_time": "2022-07-25T15:55:04.525Z"
   },
   {
    "duration": 14,
    "start_time": "2022-07-25T15:55:04.532Z"
   },
   {
    "duration": 6,
    "start_time": "2022-07-25T15:55:04.547Z"
   },
   {
    "duration": 14,
    "start_time": "2022-07-25T15:55:04.554Z"
   },
   {
    "duration": 10,
    "start_time": "2022-07-25T15:55:04.569Z"
   },
   {
    "duration": 8,
    "start_time": "2022-07-25T15:55:04.582Z"
   },
   {
    "duration": 15,
    "start_time": "2022-07-25T15:55:04.591Z"
   },
   {
    "duration": 26,
    "start_time": "2022-07-25T15:55:04.608Z"
   },
   {
    "duration": 4,
    "start_time": "2022-07-25T15:55:04.635Z"
   },
   {
    "duration": 22,
    "start_time": "2022-07-25T15:55:04.640Z"
   },
   {
    "duration": 34,
    "start_time": "2022-07-25T15:55:04.664Z"
   },
   {
    "duration": 23,
    "start_time": "2022-07-25T15:55:04.700Z"
   },
   {
    "duration": 18,
    "start_time": "2022-07-25T15:55:04.725Z"
   },
   {
    "duration": 30,
    "start_time": "2022-07-25T15:55:04.745Z"
   },
   {
    "duration": 11,
    "start_time": "2022-07-25T15:55:04.777Z"
   },
   {
    "duration": 9,
    "start_time": "2022-07-25T15:55:04.790Z"
   },
   {
    "duration": 16,
    "start_time": "2022-07-25T15:55:04.801Z"
   },
   {
    "duration": 940,
    "start_time": "2022-07-25T15:55:04.819Z"
   },
   {
    "duration": 15,
    "start_time": "2022-07-25T15:55:05.761Z"
   },
   {
    "duration": 296,
    "start_time": "2022-07-25T15:55:05.777Z"
   },
   {
    "duration": 78,
    "start_time": "2022-07-25T15:55:06.075Z"
   },
   {
    "duration": 294,
    "start_time": "2022-07-25T15:55:06.154Z"
   },
   {
    "duration": 18,
    "start_time": "2022-07-25T15:55:06.450Z"
   },
   {
    "duration": 4,
    "start_time": "2022-07-25T15:55:06.470Z"
   },
   {
    "duration": 6,
    "start_time": "2022-07-25T15:55:06.475Z"
   },
   {
    "duration": 5,
    "start_time": "2022-07-25T15:55:06.483Z"
   },
   {
    "duration": 57,
    "start_time": "2022-07-25T15:55:06.490Z"
   },
   {
    "duration": 20,
    "start_time": "2022-07-25T15:55:06.549Z"
   },
   {
    "duration": 260,
    "start_time": "2022-07-25T15:55:06.570Z"
   },
   {
    "duration": 213,
    "start_time": "2022-07-25T15:55:06.832Z"
   },
   {
    "duration": 13,
    "start_time": "2022-07-25T15:55:07.047Z"
   },
   {
    "duration": 144,
    "start_time": "2022-07-25T15:55:07.062Z"
   },
   {
    "duration": 40,
    "start_time": "2022-07-25T15:55:07.208Z"
   },
   {
    "duration": 25,
    "start_time": "2022-07-25T15:56:11.154Z"
   },
   {
    "duration": 413,
    "start_time": "2022-07-25T15:56:17.017Z"
   },
   {
    "duration": 87,
    "start_time": "2022-07-25T15:56:17.432Z"
   },
   {
    "duration": 17,
    "start_time": "2022-07-25T15:56:17.521Z"
   },
   {
    "duration": 35,
    "start_time": "2022-07-25T15:56:17.540Z"
   },
   {
    "duration": 10,
    "start_time": "2022-07-25T15:56:17.577Z"
   },
   {
    "duration": 19,
    "start_time": "2022-07-25T15:56:17.588Z"
   },
   {
    "duration": 29,
    "start_time": "2022-07-25T15:56:17.608Z"
   },
   {
    "duration": 21,
    "start_time": "2022-07-25T15:56:17.638Z"
   },
   {
    "duration": 6,
    "start_time": "2022-07-25T15:56:17.660Z"
   },
   {
    "duration": 82,
    "start_time": "2022-07-25T15:56:17.668Z"
   },
   {
    "duration": 1,
    "start_time": "2022-07-25T15:56:17.752Z"
   },
   {
    "duration": 0,
    "start_time": "2022-07-25T15:56:17.753Z"
   },
   {
    "duration": 0,
    "start_time": "2022-07-25T15:56:17.755Z"
   },
   {
    "duration": 0,
    "start_time": "2022-07-25T15:56:17.756Z"
   },
   {
    "duration": 0,
    "start_time": "2022-07-25T15:56:17.758Z"
   },
   {
    "duration": 0,
    "start_time": "2022-07-25T15:56:17.759Z"
   },
   {
    "duration": 0,
    "start_time": "2022-07-25T15:56:17.760Z"
   },
   {
    "duration": 0,
    "start_time": "2022-07-25T15:56:17.761Z"
   },
   {
    "duration": 0,
    "start_time": "2022-07-25T15:56:17.762Z"
   },
   {
    "duration": 0,
    "start_time": "2022-07-25T15:56:17.764Z"
   },
   {
    "duration": 0,
    "start_time": "2022-07-25T15:56:17.764Z"
   },
   {
    "duration": 0,
    "start_time": "2022-07-25T15:56:17.765Z"
   },
   {
    "duration": 0,
    "start_time": "2022-07-25T15:56:17.767Z"
   },
   {
    "duration": 0,
    "start_time": "2022-07-25T15:56:17.768Z"
   },
   {
    "duration": 0,
    "start_time": "2022-07-25T15:56:17.769Z"
   },
   {
    "duration": 0,
    "start_time": "2022-07-25T15:56:17.770Z"
   },
   {
    "duration": 0,
    "start_time": "2022-07-25T15:56:17.771Z"
   },
   {
    "duration": 0,
    "start_time": "2022-07-25T15:56:17.773Z"
   },
   {
    "duration": 0,
    "start_time": "2022-07-25T15:56:17.774Z"
   },
   {
    "duration": 0,
    "start_time": "2022-07-25T15:56:17.774Z"
   },
   {
    "duration": 0,
    "start_time": "2022-07-25T15:56:17.776Z"
   },
   {
    "duration": 0,
    "start_time": "2022-07-25T15:56:17.777Z"
   },
   {
    "duration": 0,
    "start_time": "2022-07-25T15:56:17.778Z"
   },
   {
    "duration": 0,
    "start_time": "2022-07-25T15:56:17.779Z"
   },
   {
    "duration": 0,
    "start_time": "2022-07-25T15:56:17.780Z"
   },
   {
    "duration": 0,
    "start_time": "2022-07-25T15:56:17.781Z"
   },
   {
    "duration": 0,
    "start_time": "2022-07-25T15:56:17.782Z"
   },
   {
    "duration": 0,
    "start_time": "2022-07-25T15:56:17.783Z"
   },
   {
    "duration": 0,
    "start_time": "2022-07-25T15:56:17.784Z"
   },
   {
    "duration": 0,
    "start_time": "2022-07-25T15:56:17.785Z"
   },
   {
    "duration": 0,
    "start_time": "2022-07-25T15:56:17.787Z"
   },
   {
    "duration": 0,
    "start_time": "2022-07-25T15:56:17.787Z"
   },
   {
    "duration": 0,
    "start_time": "2022-07-25T15:56:17.846Z"
   },
   {
    "duration": 0,
    "start_time": "2022-07-25T15:56:17.847Z"
   },
   {
    "duration": 0,
    "start_time": "2022-07-25T15:56:17.848Z"
   },
   {
    "duration": 0,
    "start_time": "2022-07-25T15:56:17.849Z"
   },
   {
    "duration": 0,
    "start_time": "2022-07-25T15:56:17.850Z"
   },
   {
    "duration": 0,
    "start_time": "2022-07-25T15:56:17.851Z"
   },
   {
    "duration": 0,
    "start_time": "2022-07-25T15:56:17.852Z"
   },
   {
    "duration": 0,
    "start_time": "2022-07-25T15:56:17.853Z"
   },
   {
    "duration": 0,
    "start_time": "2022-07-25T15:56:17.854Z"
   },
   {
    "duration": 0,
    "start_time": "2022-07-25T15:56:17.855Z"
   },
   {
    "duration": 0,
    "start_time": "2022-07-25T15:56:17.856Z"
   },
   {
    "duration": 0,
    "start_time": "2022-07-25T15:56:17.856Z"
   },
   {
    "duration": 0,
    "start_time": "2022-07-25T15:56:17.857Z"
   },
   {
    "duration": 12,
    "start_time": "2022-07-25T15:59:35.720Z"
   },
   {
    "duration": 6,
    "start_time": "2022-07-25T16:01:17.601Z"
   },
   {
    "duration": 4,
    "start_time": "2022-07-25T16:01:19.599Z"
   },
   {
    "duration": 409,
    "start_time": "2022-07-26T15:07:24.664Z"
   },
   {
    "duration": 185,
    "start_time": "2022-07-26T15:07:25.075Z"
   },
   {
    "duration": 14,
    "start_time": "2022-07-26T15:07:25.262Z"
   },
   {
    "duration": 79,
    "start_time": "2022-07-26T15:07:25.277Z"
   },
   {
    "duration": 10,
    "start_time": "2022-07-26T15:07:25.357Z"
   },
   {
    "duration": 41,
    "start_time": "2022-07-26T15:07:25.369Z"
   },
   {
    "duration": 42,
    "start_time": "2022-07-26T15:07:25.411Z"
   },
   {
    "duration": 24,
    "start_time": "2022-07-26T15:07:25.455Z"
   },
   {
    "duration": 12,
    "start_time": "2022-07-26T15:07:25.480Z"
   },
   {
    "duration": 73,
    "start_time": "2022-07-26T15:07:25.495Z"
   },
   {
    "duration": 0,
    "start_time": "2022-07-26T15:07:25.571Z"
   },
   {
    "duration": 0,
    "start_time": "2022-07-26T15:07:25.573Z"
   },
   {
    "duration": 0,
    "start_time": "2022-07-26T15:07:25.574Z"
   },
   {
    "duration": 0,
    "start_time": "2022-07-26T15:07:25.575Z"
   },
   {
    "duration": 0,
    "start_time": "2022-07-26T15:07:25.576Z"
   },
   {
    "duration": 0,
    "start_time": "2022-07-26T15:07:25.577Z"
   },
   {
    "duration": 0,
    "start_time": "2022-07-26T15:07:25.577Z"
   },
   {
    "duration": 1,
    "start_time": "2022-07-26T15:07:25.578Z"
   },
   {
    "duration": 0,
    "start_time": "2022-07-26T15:07:25.579Z"
   },
   {
    "duration": 0,
    "start_time": "2022-07-26T15:07:25.580Z"
   },
   {
    "duration": 0,
    "start_time": "2022-07-26T15:07:25.581Z"
   },
   {
    "duration": 0,
    "start_time": "2022-07-26T15:07:25.582Z"
   },
   {
    "duration": 0,
    "start_time": "2022-07-26T15:07:25.583Z"
   },
   {
    "duration": 0,
    "start_time": "2022-07-26T15:07:25.584Z"
   },
   {
    "duration": 0,
    "start_time": "2022-07-26T15:07:25.585Z"
   },
   {
    "duration": 0,
    "start_time": "2022-07-26T15:07:25.585Z"
   },
   {
    "duration": 0,
    "start_time": "2022-07-26T15:07:25.586Z"
   },
   {
    "duration": 0,
    "start_time": "2022-07-26T15:07:25.587Z"
   },
   {
    "duration": 0,
    "start_time": "2022-07-26T15:07:25.588Z"
   },
   {
    "duration": 0,
    "start_time": "2022-07-26T15:07:25.589Z"
   },
   {
    "duration": 0,
    "start_time": "2022-07-26T15:07:25.590Z"
   },
   {
    "duration": 0,
    "start_time": "2022-07-26T15:07:25.591Z"
   },
   {
    "duration": 0,
    "start_time": "2022-07-26T15:07:25.592Z"
   },
   {
    "duration": 0,
    "start_time": "2022-07-26T15:07:25.593Z"
   },
   {
    "duration": 0,
    "start_time": "2022-07-26T15:07:25.593Z"
   },
   {
    "duration": 0,
    "start_time": "2022-07-26T15:07:25.594Z"
   },
   {
    "duration": 0,
    "start_time": "2022-07-26T15:07:25.596Z"
   },
   {
    "duration": 0,
    "start_time": "2022-07-26T15:07:25.597Z"
   },
   {
    "duration": 0,
    "start_time": "2022-07-26T15:07:25.598Z"
   },
   {
    "duration": 0,
    "start_time": "2022-07-26T15:07:25.599Z"
   },
   {
    "duration": 0,
    "start_time": "2022-07-26T15:07:25.599Z"
   },
   {
    "duration": 0,
    "start_time": "2022-07-26T15:07:25.600Z"
   },
   {
    "duration": 0,
    "start_time": "2022-07-26T15:07:25.601Z"
   },
   {
    "duration": 0,
    "start_time": "2022-07-26T15:07:25.602Z"
   },
   {
    "duration": 0,
    "start_time": "2022-07-26T15:07:25.603Z"
   },
   {
    "duration": 0,
    "start_time": "2022-07-26T15:07:25.604Z"
   },
   {
    "duration": 0,
    "start_time": "2022-07-26T15:07:25.605Z"
   },
   {
    "duration": 0,
    "start_time": "2022-07-26T15:07:25.606Z"
   },
   {
    "duration": 0,
    "start_time": "2022-07-26T15:07:25.607Z"
   },
   {
    "duration": 0,
    "start_time": "2022-07-26T15:07:25.608Z"
   },
   {
    "duration": 0,
    "start_time": "2022-07-26T15:07:25.609Z"
   },
   {
    "duration": 0,
    "start_time": "2022-07-26T15:07:25.610Z"
   },
   {
    "duration": 0,
    "start_time": "2022-07-26T15:07:25.610Z"
   },
   {
    "duration": 1,
    "start_time": "2022-07-26T15:07:25.611Z"
   },
   {
    "duration": 0,
    "start_time": "2022-07-26T15:07:25.612Z"
   },
   {
    "duration": 12,
    "start_time": "2022-07-26T15:08:43.660Z"
   },
   {
    "duration": 8,
    "start_time": "2022-07-26T15:09:09.428Z"
   },
   {
    "duration": 6,
    "start_time": "2022-07-26T15:09:13.482Z"
   },
   {
    "duration": 7,
    "start_time": "2022-07-26T15:11:44.512Z"
   },
   {
    "duration": 26,
    "start_time": "2022-07-26T15:12:20.263Z"
   },
   {
    "duration": 37,
    "start_time": "2022-07-26T15:12:44.411Z"
   },
   {
    "duration": 371,
    "start_time": "2022-07-26T15:12:50.711Z"
   },
   {
    "duration": 87,
    "start_time": "2022-07-26T15:12:51.084Z"
   },
   {
    "duration": 16,
    "start_time": "2022-07-26T15:12:51.173Z"
   },
   {
    "duration": 39,
    "start_time": "2022-07-26T15:12:51.191Z"
   },
   {
    "duration": 11,
    "start_time": "2022-07-26T15:12:51.232Z"
   },
   {
    "duration": 21,
    "start_time": "2022-07-26T15:12:51.245Z"
   },
   {
    "duration": 35,
    "start_time": "2022-07-26T15:12:51.268Z"
   },
   {
    "duration": 20,
    "start_time": "2022-07-26T15:12:51.305Z"
   },
   {
    "duration": 9,
    "start_time": "2022-07-26T15:12:51.326Z"
   },
   {
    "duration": 135,
    "start_time": "2022-07-26T15:12:51.338Z"
   },
   {
    "duration": 0,
    "start_time": "2022-07-26T15:12:51.476Z"
   },
   {
    "duration": 0,
    "start_time": "2022-07-26T15:12:51.478Z"
   },
   {
    "duration": 0,
    "start_time": "2022-07-26T15:12:51.479Z"
   },
   {
    "duration": 0,
    "start_time": "2022-07-26T15:12:51.484Z"
   },
   {
    "duration": 0,
    "start_time": "2022-07-26T15:12:51.485Z"
   },
   {
    "duration": 0,
    "start_time": "2022-07-26T15:12:51.487Z"
   },
   {
    "duration": 0,
    "start_time": "2022-07-26T15:12:51.489Z"
   },
   {
    "duration": 0,
    "start_time": "2022-07-26T15:12:51.490Z"
   },
   {
    "duration": 0,
    "start_time": "2022-07-26T15:12:51.491Z"
   },
   {
    "duration": 0,
    "start_time": "2022-07-26T15:12:51.493Z"
   },
   {
    "duration": 0,
    "start_time": "2022-07-26T15:12:51.494Z"
   },
   {
    "duration": 0,
    "start_time": "2022-07-26T15:12:51.495Z"
   },
   {
    "duration": 0,
    "start_time": "2022-07-26T15:12:51.497Z"
   },
   {
    "duration": 0,
    "start_time": "2022-07-26T15:12:51.499Z"
   },
   {
    "duration": 1,
    "start_time": "2022-07-26T15:12:51.499Z"
   },
   {
    "duration": 0,
    "start_time": "2022-07-26T15:12:51.501Z"
   },
   {
    "duration": 0,
    "start_time": "2022-07-26T15:12:51.503Z"
   },
   {
    "duration": 0,
    "start_time": "2022-07-26T15:12:51.504Z"
   },
   {
    "duration": 0,
    "start_time": "2022-07-26T15:12:51.507Z"
   },
   {
    "duration": 0,
    "start_time": "2022-07-26T15:12:51.508Z"
   },
   {
    "duration": 0,
    "start_time": "2022-07-26T15:12:51.510Z"
   },
   {
    "duration": 0,
    "start_time": "2022-07-26T15:12:51.512Z"
   },
   {
    "duration": 0,
    "start_time": "2022-07-26T15:12:51.513Z"
   },
   {
    "duration": 0,
    "start_time": "2022-07-26T15:12:51.514Z"
   },
   {
    "duration": 0,
    "start_time": "2022-07-26T15:12:51.516Z"
   },
   {
    "duration": 0,
    "start_time": "2022-07-26T15:12:51.517Z"
   },
   {
    "duration": 0,
    "start_time": "2022-07-26T15:12:51.573Z"
   },
   {
    "duration": 0,
    "start_time": "2022-07-26T15:12:51.575Z"
   },
   {
    "duration": 0,
    "start_time": "2022-07-26T15:12:51.577Z"
   },
   {
    "duration": 0,
    "start_time": "2022-07-26T15:12:51.578Z"
   },
   {
    "duration": 0,
    "start_time": "2022-07-26T15:12:51.580Z"
   },
   {
    "duration": 0,
    "start_time": "2022-07-26T15:12:51.582Z"
   },
   {
    "duration": 0,
    "start_time": "2022-07-26T15:12:51.583Z"
   },
   {
    "duration": 0,
    "start_time": "2022-07-26T15:12:51.585Z"
   },
   {
    "duration": 0,
    "start_time": "2022-07-26T15:12:51.586Z"
   },
   {
    "duration": 0,
    "start_time": "2022-07-26T15:12:51.587Z"
   },
   {
    "duration": 0,
    "start_time": "2022-07-26T15:12:51.588Z"
   },
   {
    "duration": 0,
    "start_time": "2022-07-26T15:12:51.589Z"
   },
   {
    "duration": 0,
    "start_time": "2022-07-26T15:12:51.590Z"
   },
   {
    "duration": 0,
    "start_time": "2022-07-26T15:12:51.591Z"
   },
   {
    "duration": 0,
    "start_time": "2022-07-26T15:12:51.592Z"
   },
   {
    "duration": 1,
    "start_time": "2022-07-26T15:12:51.592Z"
   },
   {
    "duration": 0,
    "start_time": "2022-07-26T15:12:51.593Z"
   },
   {
    "duration": 0,
    "start_time": "2022-07-26T15:12:51.594Z"
   },
   {
    "duration": 0,
    "start_time": "2022-07-26T15:12:51.596Z"
   },
   {
    "duration": 8,
    "start_time": "2022-07-26T15:13:14.494Z"
   },
   {
    "duration": 7,
    "start_time": "2022-07-26T15:13:20.331Z"
   },
   {
    "duration": 6,
    "start_time": "2022-07-26T15:13:31.073Z"
   },
   {
    "duration": 408,
    "start_time": "2022-07-26T15:13:38.865Z"
   },
   {
    "duration": 81,
    "start_time": "2022-07-26T15:13:39.278Z"
   },
   {
    "duration": 15,
    "start_time": "2022-07-26T15:13:39.361Z"
   },
   {
    "duration": 34,
    "start_time": "2022-07-26T15:13:39.379Z"
   },
   {
    "duration": 11,
    "start_time": "2022-07-26T15:13:39.414Z"
   },
   {
    "duration": 20,
    "start_time": "2022-07-26T15:13:39.427Z"
   },
   {
    "duration": 25,
    "start_time": "2022-07-26T15:13:39.449Z"
   },
   {
    "duration": 26,
    "start_time": "2022-07-26T15:13:39.476Z"
   },
   {
    "duration": 9,
    "start_time": "2022-07-26T15:13:39.504Z"
   },
   {
    "duration": 16,
    "start_time": "2022-07-26T15:13:39.517Z"
   },
   {
    "duration": 7,
    "start_time": "2022-07-26T15:13:39.535Z"
   },
   {
    "duration": 37,
    "start_time": "2022-07-26T15:13:39.544Z"
   },
   {
    "duration": 9,
    "start_time": "2022-07-26T15:13:39.584Z"
   },
   {
    "duration": 55,
    "start_time": "2022-07-26T15:13:39.595Z"
   },
   {
    "duration": 5,
    "start_time": "2022-07-26T15:13:39.652Z"
   },
   {
    "duration": 77,
    "start_time": "2022-07-26T15:13:39.673Z"
   },
   {
    "duration": 0,
    "start_time": "2022-07-26T15:13:39.753Z"
   },
   {
    "duration": 0,
    "start_time": "2022-07-26T15:13:39.755Z"
   },
   {
    "duration": 0,
    "start_time": "2022-07-26T15:13:39.757Z"
   },
   {
    "duration": 0,
    "start_time": "2022-07-26T15:13:39.773Z"
   },
   {
    "duration": 0,
    "start_time": "2022-07-26T15:13:39.776Z"
   },
   {
    "duration": 0,
    "start_time": "2022-07-26T15:13:39.777Z"
   },
   {
    "duration": 0,
    "start_time": "2022-07-26T15:13:39.778Z"
   },
   {
    "duration": 0,
    "start_time": "2022-07-26T15:13:39.782Z"
   },
   {
    "duration": 1,
    "start_time": "2022-07-26T15:13:39.784Z"
   },
   {
    "duration": 0,
    "start_time": "2022-07-26T15:13:39.786Z"
   },
   {
    "duration": 0,
    "start_time": "2022-07-26T15:13:39.787Z"
   },
   {
    "duration": 0,
    "start_time": "2022-07-26T15:13:39.788Z"
   },
   {
    "duration": 0,
    "start_time": "2022-07-26T15:13:39.790Z"
   },
   {
    "duration": 0,
    "start_time": "2022-07-26T15:13:39.791Z"
   },
   {
    "duration": 0,
    "start_time": "2022-07-26T15:13:39.792Z"
   },
   {
    "duration": 0,
    "start_time": "2022-07-26T15:13:39.794Z"
   },
   {
    "duration": 0,
    "start_time": "2022-07-26T15:13:39.795Z"
   },
   {
    "duration": 0,
    "start_time": "2022-07-26T15:13:39.796Z"
   },
   {
    "duration": 0,
    "start_time": "2022-07-26T15:13:39.798Z"
   },
   {
    "duration": 0,
    "start_time": "2022-07-26T15:13:39.799Z"
   },
   {
    "duration": 0,
    "start_time": "2022-07-26T15:13:39.801Z"
   },
   {
    "duration": 0,
    "start_time": "2022-07-26T15:13:39.802Z"
   },
   {
    "duration": 0,
    "start_time": "2022-07-26T15:13:39.803Z"
   },
   {
    "duration": 0,
    "start_time": "2022-07-26T15:13:39.805Z"
   },
   {
    "duration": 0,
    "start_time": "2022-07-26T15:13:39.806Z"
   },
   {
    "duration": 0,
    "start_time": "2022-07-26T15:13:39.807Z"
   },
   {
    "duration": 0,
    "start_time": "2022-07-26T15:13:39.809Z"
   },
   {
    "duration": 0,
    "start_time": "2022-07-26T15:13:39.810Z"
   },
   {
    "duration": 0,
    "start_time": "2022-07-26T15:13:39.812Z"
   },
   {
    "duration": 0,
    "start_time": "2022-07-26T15:13:39.813Z"
   },
   {
    "duration": 0,
    "start_time": "2022-07-26T15:13:39.815Z"
   },
   {
    "duration": 0,
    "start_time": "2022-07-26T15:13:39.816Z"
   },
   {
    "duration": 0,
    "start_time": "2022-07-26T15:13:39.873Z"
   },
   {
    "duration": 0,
    "start_time": "2022-07-26T15:13:39.875Z"
   },
   {
    "duration": 0,
    "start_time": "2022-07-26T15:13:39.876Z"
   },
   {
    "duration": 0,
    "start_time": "2022-07-26T15:13:39.877Z"
   },
   {
    "duration": 0,
    "start_time": "2022-07-26T15:13:39.878Z"
   },
   {
    "duration": 0,
    "start_time": "2022-07-26T15:13:39.880Z"
   },
   {
    "duration": 0,
    "start_time": "2022-07-26T15:13:39.881Z"
   },
   {
    "duration": 366,
    "start_time": "2022-07-26T15:18:57.589Z"
   },
   {
    "duration": 80,
    "start_time": "2022-07-26T15:18:57.957Z"
   },
   {
    "duration": 17,
    "start_time": "2022-07-26T15:18:58.039Z"
   },
   {
    "duration": 36,
    "start_time": "2022-07-26T15:18:58.059Z"
   },
   {
    "duration": 10,
    "start_time": "2022-07-26T15:18:58.097Z"
   },
   {
    "duration": 20,
    "start_time": "2022-07-26T15:18:58.108Z"
   },
   {
    "duration": 28,
    "start_time": "2022-07-26T15:18:58.130Z"
   },
   {
    "duration": 18,
    "start_time": "2022-07-26T15:18:58.159Z"
   },
   {
    "duration": 6,
    "start_time": "2022-07-26T15:18:58.179Z"
   },
   {
    "duration": 12,
    "start_time": "2022-07-26T15:18:58.187Z"
   },
   {
    "duration": 5,
    "start_time": "2022-07-26T15:18:58.201Z"
   },
   {
    "duration": 8,
    "start_time": "2022-07-26T15:18:58.208Z"
   },
   {
    "duration": 38,
    "start_time": "2022-07-26T15:18:58.218Z"
   },
   {
    "duration": 16,
    "start_time": "2022-07-26T15:18:58.258Z"
   },
   {
    "duration": 66,
    "start_time": "2022-07-26T15:18:58.276Z"
   },
   {
    "duration": 0,
    "start_time": "2022-07-26T15:18:58.344Z"
   },
   {
    "duration": 0,
    "start_time": "2022-07-26T15:18:58.346Z"
   },
   {
    "duration": 0,
    "start_time": "2022-07-26T15:18:58.348Z"
   },
   {
    "duration": 0,
    "start_time": "2022-07-26T15:18:58.348Z"
   },
   {
    "duration": 0,
    "start_time": "2022-07-26T15:18:58.350Z"
   },
   {
    "duration": 0,
    "start_time": "2022-07-26T15:18:58.350Z"
   },
   {
    "duration": 0,
    "start_time": "2022-07-26T15:18:58.351Z"
   },
   {
    "duration": 0,
    "start_time": "2022-07-26T15:18:58.373Z"
   },
   {
    "duration": 0,
    "start_time": "2022-07-26T15:18:58.375Z"
   },
   {
    "duration": 0,
    "start_time": "2022-07-26T15:18:58.376Z"
   },
   {
    "duration": 0,
    "start_time": "2022-07-26T15:18:58.377Z"
   },
   {
    "duration": 0,
    "start_time": "2022-07-26T15:18:58.378Z"
   },
   {
    "duration": 0,
    "start_time": "2022-07-26T15:18:58.379Z"
   },
   {
    "duration": 0,
    "start_time": "2022-07-26T15:18:58.380Z"
   },
   {
    "duration": 0,
    "start_time": "2022-07-26T15:18:58.381Z"
   },
   {
    "duration": 0,
    "start_time": "2022-07-26T15:18:58.382Z"
   },
   {
    "duration": 0,
    "start_time": "2022-07-26T15:18:58.383Z"
   },
   {
    "duration": 0,
    "start_time": "2022-07-26T15:18:58.385Z"
   },
   {
    "duration": 0,
    "start_time": "2022-07-26T15:18:58.386Z"
   },
   {
    "duration": 0,
    "start_time": "2022-07-26T15:18:58.387Z"
   },
   {
    "duration": 0,
    "start_time": "2022-07-26T15:18:58.388Z"
   },
   {
    "duration": 0,
    "start_time": "2022-07-26T15:18:58.389Z"
   },
   {
    "duration": 0,
    "start_time": "2022-07-26T15:18:58.391Z"
   },
   {
    "duration": 0,
    "start_time": "2022-07-26T15:18:58.393Z"
   },
   {
    "duration": 0,
    "start_time": "2022-07-26T15:18:58.394Z"
   },
   {
    "duration": 0,
    "start_time": "2022-07-26T15:18:58.395Z"
   },
   {
    "duration": 0,
    "start_time": "2022-07-26T15:18:58.397Z"
   },
   {
    "duration": 0,
    "start_time": "2022-07-26T15:18:58.398Z"
   },
   {
    "duration": 0,
    "start_time": "2022-07-26T15:18:58.398Z"
   },
   {
    "duration": 0,
    "start_time": "2022-07-26T15:18:58.399Z"
   },
   {
    "duration": 0,
    "start_time": "2022-07-26T15:18:58.400Z"
   },
   {
    "duration": 0,
    "start_time": "2022-07-26T15:18:58.402Z"
   },
   {
    "duration": 0,
    "start_time": "2022-07-26T15:18:58.402Z"
   },
   {
    "duration": 0,
    "start_time": "2022-07-26T15:18:58.404Z"
   },
   {
    "duration": 0,
    "start_time": "2022-07-26T15:18:58.404Z"
   },
   {
    "duration": 0,
    "start_time": "2022-07-26T15:18:58.405Z"
   },
   {
    "duration": 0,
    "start_time": "2022-07-26T15:18:58.406Z"
   },
   {
    "duration": 0,
    "start_time": "2022-07-26T15:18:58.407Z"
   },
   {
    "duration": 0,
    "start_time": "2022-07-26T15:18:58.408Z"
   },
   {
    "duration": 5,
    "start_time": "2022-07-26T15:21:55.048Z"
   },
   {
    "duration": 5,
    "start_time": "2022-07-26T15:21:58.241Z"
   },
   {
    "duration": 415,
    "start_time": "2022-07-26T15:22:08.343Z"
   },
   {
    "duration": 89,
    "start_time": "2022-07-26T15:22:08.761Z"
   },
   {
    "duration": 16,
    "start_time": "2022-07-26T15:22:08.852Z"
   },
   {
    "duration": 37,
    "start_time": "2022-07-26T15:22:08.871Z"
   },
   {
    "duration": 10,
    "start_time": "2022-07-26T15:22:08.910Z"
   },
   {
    "duration": 24,
    "start_time": "2022-07-26T15:22:08.921Z"
   },
   {
    "duration": 29,
    "start_time": "2022-07-26T15:22:08.947Z"
   },
   {
    "duration": 17,
    "start_time": "2022-07-26T15:22:08.978Z"
   },
   {
    "duration": 5,
    "start_time": "2022-07-26T15:22:08.997Z"
   },
   {
    "duration": 12,
    "start_time": "2022-07-26T15:22:09.005Z"
   },
   {
    "duration": 6,
    "start_time": "2022-07-26T15:22:09.019Z"
   },
   {
    "duration": 7,
    "start_time": "2022-07-26T15:22:09.027Z"
   },
   {
    "duration": 6,
    "start_time": "2022-07-26T15:22:09.035Z"
   },
   {
    "duration": 82,
    "start_time": "2022-07-26T15:22:09.043Z"
   },
   {
    "duration": 0,
    "start_time": "2022-07-26T15:22:09.129Z"
   },
   {
    "duration": 0,
    "start_time": "2022-07-26T15:22:09.130Z"
   },
   {
    "duration": 0,
    "start_time": "2022-07-26T15:22:09.132Z"
   },
   {
    "duration": 0,
    "start_time": "2022-07-26T15:22:09.133Z"
   },
   {
    "duration": 0,
    "start_time": "2022-07-26T15:22:09.134Z"
   },
   {
    "duration": 0,
    "start_time": "2022-07-26T15:22:09.136Z"
   },
   {
    "duration": 0,
    "start_time": "2022-07-26T15:22:09.137Z"
   },
   {
    "duration": 0,
    "start_time": "2022-07-26T15:22:09.138Z"
   },
   {
    "duration": 0,
    "start_time": "2022-07-26T15:22:09.139Z"
   },
   {
    "duration": 0,
    "start_time": "2022-07-26T15:22:09.141Z"
   },
   {
    "duration": 0,
    "start_time": "2022-07-26T15:22:09.142Z"
   },
   {
    "duration": 0,
    "start_time": "2022-07-26T15:22:09.143Z"
   },
   {
    "duration": 0,
    "start_time": "2022-07-26T15:22:09.174Z"
   },
   {
    "duration": 0,
    "start_time": "2022-07-26T15:22:09.175Z"
   },
   {
    "duration": 0,
    "start_time": "2022-07-26T15:22:09.176Z"
   },
   {
    "duration": 0,
    "start_time": "2022-07-26T15:22:09.177Z"
   },
   {
    "duration": 0,
    "start_time": "2022-07-26T15:22:09.179Z"
   },
   {
    "duration": 0,
    "start_time": "2022-07-26T15:22:09.180Z"
   },
   {
    "duration": 0,
    "start_time": "2022-07-26T15:22:09.182Z"
   },
   {
    "duration": 0,
    "start_time": "2022-07-26T15:22:09.183Z"
   },
   {
    "duration": 0,
    "start_time": "2022-07-26T15:22:09.185Z"
   },
   {
    "duration": 0,
    "start_time": "2022-07-26T15:22:09.186Z"
   },
   {
    "duration": 0,
    "start_time": "2022-07-26T15:22:09.187Z"
   },
   {
    "duration": 0,
    "start_time": "2022-07-26T15:22:09.188Z"
   },
   {
    "duration": 0,
    "start_time": "2022-07-26T15:22:09.190Z"
   },
   {
    "duration": 0,
    "start_time": "2022-07-26T15:22:09.191Z"
   },
   {
    "duration": 0,
    "start_time": "2022-07-26T15:22:09.192Z"
   },
   {
    "duration": 0,
    "start_time": "2022-07-26T15:22:09.194Z"
   },
   {
    "duration": 0,
    "start_time": "2022-07-26T15:22:09.195Z"
   },
   {
    "duration": 0,
    "start_time": "2022-07-26T15:22:09.196Z"
   },
   {
    "duration": 0,
    "start_time": "2022-07-26T15:22:09.197Z"
   },
   {
    "duration": 0,
    "start_time": "2022-07-26T15:22:09.198Z"
   },
   {
    "duration": 0,
    "start_time": "2022-07-26T15:22:09.200Z"
   },
   {
    "duration": 0,
    "start_time": "2022-07-26T15:22:09.201Z"
   },
   {
    "duration": 0,
    "start_time": "2022-07-26T15:22:09.202Z"
   },
   {
    "duration": 0,
    "start_time": "2022-07-26T15:22:09.203Z"
   },
   {
    "duration": 0,
    "start_time": "2022-07-26T15:22:09.205Z"
   },
   {
    "duration": 0,
    "start_time": "2022-07-26T15:22:09.206Z"
   },
   {
    "duration": 0,
    "start_time": "2022-07-26T15:22:09.209Z"
   },
   {
    "duration": 7,
    "start_time": "2022-07-26T15:22:57.817Z"
   },
   {
    "duration": 5,
    "start_time": "2022-07-26T15:23:13.425Z"
   },
   {
    "duration": 12,
    "start_time": "2022-07-26T15:28:01.932Z"
   },
   {
    "duration": 44,
    "start_time": "2022-07-26T15:32:37.866Z"
   },
   {
    "duration": 5,
    "start_time": "2022-07-26T15:32:41.165Z"
   },
   {
    "duration": 10,
    "start_time": "2022-07-26T15:33:13.091Z"
   },
   {
    "duration": 6,
    "start_time": "2022-07-26T15:33:18.707Z"
   },
   {
    "duration": 6,
    "start_time": "2022-07-26T15:34:32.632Z"
   },
   {
    "duration": 6,
    "start_time": "2022-07-26T15:35:06.643Z"
   },
   {
    "duration": 4,
    "start_time": "2022-07-26T15:35:14.569Z"
   },
   {
    "duration": 359,
    "start_time": "2022-07-26T15:35:20.710Z"
   },
   {
    "duration": 79,
    "start_time": "2022-07-26T15:35:21.070Z"
   },
   {
    "duration": 13,
    "start_time": "2022-07-26T15:35:21.151Z"
   },
   {
    "duration": 34,
    "start_time": "2022-07-26T15:35:21.166Z"
   },
   {
    "duration": 10,
    "start_time": "2022-07-26T15:35:21.201Z"
   },
   {
    "duration": 18,
    "start_time": "2022-07-26T15:35:21.212Z"
   },
   {
    "duration": 31,
    "start_time": "2022-07-26T15:35:21.232Z"
   },
   {
    "duration": 17,
    "start_time": "2022-07-26T15:35:21.264Z"
   },
   {
    "duration": 5,
    "start_time": "2022-07-26T15:35:21.283Z"
   },
   {
    "duration": 9,
    "start_time": "2022-07-26T15:35:21.290Z"
   },
   {
    "duration": 5,
    "start_time": "2022-07-26T15:35:21.301Z"
   },
   {
    "duration": 6,
    "start_time": "2022-07-26T15:35:21.307Z"
   },
   {
    "duration": 60,
    "start_time": "2022-07-26T15:35:21.314Z"
   },
   {
    "duration": 5,
    "start_time": "2022-07-26T15:35:21.375Z"
   },
   {
    "duration": 13,
    "start_time": "2022-07-26T15:35:21.381Z"
   },
   {
    "duration": 7,
    "start_time": "2022-07-26T15:35:21.396Z"
   },
   {
    "duration": 11,
    "start_time": "2022-07-26T15:35:21.404Z"
   },
   {
    "duration": 9,
    "start_time": "2022-07-26T15:35:21.416Z"
   },
   {
    "duration": 43,
    "start_time": "2022-07-26T15:35:21.426Z"
   },
   {
    "duration": 21,
    "start_time": "2022-07-26T15:35:21.471Z"
   },
   {
    "duration": 16,
    "start_time": "2022-07-26T15:35:21.494Z"
   },
   {
    "duration": 15,
    "start_time": "2022-07-26T15:35:21.512Z"
   },
   {
    "duration": 28,
    "start_time": "2022-07-26T15:35:21.529Z"
   },
   {
    "duration": 10,
    "start_time": "2022-07-26T15:35:21.559Z"
   },
   {
    "duration": 16,
    "start_time": "2022-07-26T15:35:21.571Z"
   },
   {
    "duration": 15,
    "start_time": "2022-07-26T15:35:21.589Z"
   },
   {
    "duration": 22,
    "start_time": "2022-07-26T15:35:21.606Z"
   },
   {
    "duration": 6,
    "start_time": "2022-07-26T15:35:21.631Z"
   },
   {
    "duration": 18,
    "start_time": "2022-07-26T15:35:21.638Z"
   },
   {
    "duration": 5,
    "start_time": "2022-07-26T15:35:21.657Z"
   },
   {
    "duration": 15,
    "start_time": "2022-07-26T15:35:21.663Z"
   },
   {
    "duration": 7,
    "start_time": "2022-07-26T15:35:21.680Z"
   },
   {
    "duration": 6,
    "start_time": "2022-07-26T15:35:21.688Z"
   },
   {
    "duration": 15,
    "start_time": "2022-07-26T15:35:21.696Z"
   },
   {
    "duration": 13,
    "start_time": "2022-07-26T15:35:21.712Z"
   },
   {
    "duration": 5,
    "start_time": "2022-07-26T15:35:21.726Z"
   },
   {
    "duration": 7,
    "start_time": "2022-07-26T15:35:21.732Z"
   },
   {
    "duration": 7,
    "start_time": "2022-07-26T15:35:21.741Z"
   },
   {
    "duration": 510,
    "start_time": "2022-07-26T15:35:21.750Z"
   },
   {
    "duration": 22,
    "start_time": "2022-07-26T15:35:22.262Z"
   },
   {
    "duration": 132,
    "start_time": "2022-07-26T15:35:22.286Z"
   },
   {
    "duration": 21,
    "start_time": "2022-07-26T15:35:22.420Z"
   },
   {
    "duration": 142,
    "start_time": "2022-07-26T15:35:22.443Z"
   },
   {
    "duration": 18,
    "start_time": "2022-07-26T15:35:22.587Z"
   },
   {
    "duration": 4,
    "start_time": "2022-07-26T15:35:22.606Z"
   },
   {
    "duration": 13,
    "start_time": "2022-07-26T15:35:22.611Z"
   },
   {
    "duration": 5,
    "start_time": "2022-07-26T15:35:22.625Z"
   },
   {
    "duration": 10,
    "start_time": "2022-07-26T15:35:22.631Z"
   },
   {
    "duration": 33,
    "start_time": "2022-07-26T15:35:22.642Z"
   },
   {
    "duration": 239,
    "start_time": "2022-07-26T15:35:22.677Z"
   },
   {
    "duration": 413,
    "start_time": "2022-07-26T15:35:22.973Z"
   },
   {
    "duration": 11,
    "start_time": "2022-07-26T15:35:23.388Z"
   },
   {
    "duration": 280,
    "start_time": "2022-07-26T15:35:23.401Z"
   },
   {
    "duration": 32,
    "start_time": "2022-07-26T15:35:23.683Z"
   },
   {
    "duration": 71,
    "start_time": "2022-07-26T15:38:08.109Z"
   },
   {
    "duration": 42,
    "start_time": "2022-07-26T15:38:34.182Z"
   },
   {
    "duration": 14,
    "start_time": "2022-07-26T15:39:45.887Z"
   },
   {
    "duration": 375,
    "start_time": "2022-07-26T15:46:08.803Z"
   },
   {
    "duration": 76,
    "start_time": "2022-07-26T15:46:09.180Z"
   },
   {
    "duration": 15,
    "start_time": "2022-07-26T15:46:09.258Z"
   },
   {
    "duration": 35,
    "start_time": "2022-07-26T15:46:09.276Z"
   },
   {
    "duration": 11,
    "start_time": "2022-07-26T15:46:09.313Z"
   },
   {
    "duration": 24,
    "start_time": "2022-07-26T15:46:09.325Z"
   },
   {
    "duration": 39,
    "start_time": "2022-07-26T15:46:09.351Z"
   },
   {
    "duration": 28,
    "start_time": "2022-07-26T15:46:09.392Z"
   },
   {
    "duration": 6,
    "start_time": "2022-07-26T15:46:09.423Z"
   },
   {
    "duration": 9,
    "start_time": "2022-07-26T15:46:09.432Z"
   },
   {
    "duration": 5,
    "start_time": "2022-07-26T15:46:09.443Z"
   },
   {
    "duration": 26,
    "start_time": "2022-07-26T15:46:09.449Z"
   },
   {
    "duration": 45,
    "start_time": "2022-07-26T15:46:09.476Z"
   },
   {
    "duration": 4,
    "start_time": "2022-07-26T15:46:09.523Z"
   },
   {
    "duration": 15,
    "start_time": "2022-07-26T15:46:09.528Z"
   },
   {
    "duration": 10,
    "start_time": "2022-07-26T15:46:09.545Z"
   },
   {
    "duration": 16,
    "start_time": "2022-07-26T15:46:09.557Z"
   },
   {
    "duration": 4,
    "start_time": "2022-07-26T15:46:09.575Z"
   },
   {
    "duration": 33,
    "start_time": "2022-07-26T15:46:09.580Z"
   },
   {
    "duration": 11,
    "start_time": "2022-07-26T15:46:09.615Z"
   },
   {
    "duration": 58,
    "start_time": "2022-07-26T15:46:09.628Z"
   },
   {
    "duration": 0,
    "start_time": "2022-07-26T15:46:09.688Z"
   },
   {
    "duration": 0,
    "start_time": "2022-07-26T15:46:09.690Z"
   },
   {
    "duration": 0,
    "start_time": "2022-07-26T15:46:09.691Z"
   },
   {
    "duration": 0,
    "start_time": "2022-07-26T15:46:09.692Z"
   },
   {
    "duration": 0,
    "start_time": "2022-07-26T15:46:09.693Z"
   },
   {
    "duration": 0,
    "start_time": "2022-07-26T15:46:09.694Z"
   },
   {
    "duration": 0,
    "start_time": "2022-07-26T15:46:09.695Z"
   },
   {
    "duration": 0,
    "start_time": "2022-07-26T15:46:09.696Z"
   },
   {
    "duration": 0,
    "start_time": "2022-07-26T15:46:09.696Z"
   },
   {
    "duration": 0,
    "start_time": "2022-07-26T15:46:09.698Z"
   },
   {
    "duration": 0,
    "start_time": "2022-07-26T15:46:09.699Z"
   },
   {
    "duration": 0,
    "start_time": "2022-07-26T15:46:09.700Z"
   },
   {
    "duration": 0,
    "start_time": "2022-07-26T15:46:09.702Z"
   },
   {
    "duration": 0,
    "start_time": "2022-07-26T15:46:09.703Z"
   },
   {
    "duration": 0,
    "start_time": "2022-07-26T15:46:09.704Z"
   },
   {
    "duration": 0,
    "start_time": "2022-07-26T15:46:09.705Z"
   },
   {
    "duration": 1,
    "start_time": "2022-07-26T15:46:09.706Z"
   },
   {
    "duration": 0,
    "start_time": "2022-07-26T15:46:09.708Z"
   },
   {
    "duration": 0,
    "start_time": "2022-07-26T15:46:09.709Z"
   },
   {
    "duration": 0,
    "start_time": "2022-07-26T15:46:09.711Z"
   },
   {
    "duration": 0,
    "start_time": "2022-07-26T15:46:09.712Z"
   },
   {
    "duration": 0,
    "start_time": "2022-07-26T15:46:09.713Z"
   },
   {
    "duration": 0,
    "start_time": "2022-07-26T15:46:09.715Z"
   },
   {
    "duration": 0,
    "start_time": "2022-07-26T15:46:09.716Z"
   },
   {
    "duration": 0,
    "start_time": "2022-07-26T15:46:09.717Z"
   },
   {
    "duration": 0,
    "start_time": "2022-07-26T15:46:09.718Z"
   },
   {
    "duration": 0,
    "start_time": "2022-07-26T15:46:09.719Z"
   },
   {
    "duration": 0,
    "start_time": "2022-07-26T15:46:09.720Z"
   },
   {
    "duration": 0,
    "start_time": "2022-07-26T15:46:09.721Z"
   },
   {
    "duration": 0,
    "start_time": "2022-07-26T15:46:09.722Z"
   },
   {
    "duration": 0,
    "start_time": "2022-07-26T15:46:09.773Z"
   },
   {
    "duration": 0,
    "start_time": "2022-07-26T15:46:09.774Z"
   },
   {
    "duration": 11,
    "start_time": "2022-07-26T15:46:17.806Z"
   },
   {
    "duration": 8,
    "start_time": "2022-07-26T15:46:56.691Z"
   },
   {
    "duration": 17,
    "start_time": "2022-07-26T15:48:16.024Z"
   },
   {
    "duration": 9,
    "start_time": "2022-07-26T16:03:04.483Z"
   },
   {
    "duration": 23,
    "start_time": "2022-07-26T16:04:34.067Z"
   },
   {
    "duration": 17,
    "start_time": "2022-07-26T16:04:40.795Z"
   },
   {
    "duration": 6,
    "start_time": "2022-07-26T16:07:08.043Z"
   },
   {
    "duration": 7,
    "start_time": "2022-07-26T16:07:19.342Z"
   },
   {
    "duration": 4,
    "start_time": "2022-07-26T16:07:31.869Z"
   },
   {
    "duration": 9,
    "start_time": "2022-07-26T16:07:39.221Z"
   },
   {
    "duration": 6,
    "start_time": "2022-07-26T16:08:11.826Z"
   },
   {
    "duration": 888,
    "start_time": "2022-07-26T16:08:12.417Z"
   },
   {
    "duration": 381,
    "start_time": "2022-07-26T16:08:24.527Z"
   },
   {
    "duration": 82,
    "start_time": "2022-07-26T16:08:24.910Z"
   },
   {
    "duration": 17,
    "start_time": "2022-07-26T16:08:24.994Z"
   },
   {
    "duration": 40,
    "start_time": "2022-07-26T16:08:25.013Z"
   },
   {
    "duration": 10,
    "start_time": "2022-07-26T16:08:25.055Z"
   },
   {
    "duration": 22,
    "start_time": "2022-07-26T16:08:25.066Z"
   },
   {
    "duration": 26,
    "start_time": "2022-07-26T16:08:25.090Z"
   },
   {
    "duration": 24,
    "start_time": "2022-07-26T16:08:25.118Z"
   },
   {
    "duration": 5,
    "start_time": "2022-07-26T16:08:25.143Z"
   },
   {
    "duration": 22,
    "start_time": "2022-07-26T16:08:25.151Z"
   },
   {
    "duration": 6,
    "start_time": "2022-07-26T16:08:25.174Z"
   },
   {
    "duration": 6,
    "start_time": "2022-07-26T16:08:25.182Z"
   },
   {
    "duration": 48,
    "start_time": "2022-07-26T16:08:25.190Z"
   },
   {
    "duration": 6,
    "start_time": "2022-07-26T16:08:25.240Z"
   },
   {
    "duration": 7,
    "start_time": "2022-07-26T16:08:25.247Z"
   },
   {
    "duration": 4,
    "start_time": "2022-07-26T16:08:25.274Z"
   },
   {
    "duration": 12,
    "start_time": "2022-07-26T16:08:25.279Z"
   },
   {
    "duration": 6,
    "start_time": "2022-07-26T16:08:25.292Z"
   },
   {
    "duration": 18,
    "start_time": "2022-07-26T16:08:25.300Z"
   },
   {
    "duration": 13,
    "start_time": "2022-07-26T16:08:25.320Z"
   },
   {
    "duration": 8,
    "start_time": "2022-07-26T16:08:25.335Z"
   },
   {
    "duration": 44,
    "start_time": "2022-07-26T16:08:25.344Z"
   },
   {
    "duration": 4,
    "start_time": "2022-07-26T16:08:25.389Z"
   },
   {
    "duration": 662,
    "start_time": "2022-07-26T16:08:25.395Z"
   },
   {
    "duration": 0,
    "start_time": "2022-07-26T16:08:26.061Z"
   },
   {
    "duration": 0,
    "start_time": "2022-07-26T16:08:26.062Z"
   },
   {
    "duration": 0,
    "start_time": "2022-07-26T16:08:26.063Z"
   },
   {
    "duration": 0,
    "start_time": "2022-07-26T16:08:26.065Z"
   },
   {
    "duration": 0,
    "start_time": "2022-07-26T16:08:26.066Z"
   },
   {
    "duration": 0,
    "start_time": "2022-07-26T16:08:26.067Z"
   },
   {
    "duration": 0,
    "start_time": "2022-07-26T16:08:26.069Z"
   },
   {
    "duration": 0,
    "start_time": "2022-07-26T16:08:26.070Z"
   },
   {
    "duration": 0,
    "start_time": "2022-07-26T16:08:26.071Z"
   },
   {
    "duration": 0,
    "start_time": "2022-07-26T16:08:26.073Z"
   },
   {
    "duration": 0,
    "start_time": "2022-07-26T16:08:26.074Z"
   },
   {
    "duration": 0,
    "start_time": "2022-07-26T16:08:26.075Z"
   },
   {
    "duration": 0,
    "start_time": "2022-07-26T16:08:26.076Z"
   },
   {
    "duration": 0,
    "start_time": "2022-07-26T16:08:26.077Z"
   },
   {
    "duration": 0,
    "start_time": "2022-07-26T16:08:26.078Z"
   },
   {
    "duration": 0,
    "start_time": "2022-07-26T16:08:26.079Z"
   },
   {
    "duration": 0,
    "start_time": "2022-07-26T16:08:26.081Z"
   },
   {
    "duration": 0,
    "start_time": "2022-07-26T16:08:26.082Z"
   },
   {
    "duration": 0,
    "start_time": "2022-07-26T16:08:26.083Z"
   },
   {
    "duration": 0,
    "start_time": "2022-07-26T16:08:26.084Z"
   },
   {
    "duration": 0,
    "start_time": "2022-07-26T16:08:26.086Z"
   },
   {
    "duration": 0,
    "start_time": "2022-07-26T16:08:26.087Z"
   },
   {
    "duration": 0,
    "start_time": "2022-07-26T16:08:26.088Z"
   },
   {
    "duration": 0,
    "start_time": "2022-07-26T16:08:26.089Z"
   },
   {
    "duration": 0,
    "start_time": "2022-07-26T16:08:26.091Z"
   },
   {
    "duration": 0,
    "start_time": "2022-07-26T16:08:26.092Z"
   },
   {
    "duration": 0,
    "start_time": "2022-07-26T16:08:26.093Z"
   },
   {
    "duration": 0,
    "start_time": "2022-07-26T16:08:26.094Z"
   },
   {
    "duration": 0,
    "start_time": "2022-07-26T16:08:26.096Z"
   },
   {
    "duration": 0,
    "start_time": "2022-07-26T16:08:26.097Z"
   },
   {
    "duration": 0,
    "start_time": "2022-07-26T16:08:26.098Z"
   },
   {
    "duration": 0,
    "start_time": "2022-07-26T16:08:26.099Z"
   },
   {
    "duration": 559,
    "start_time": "2022-07-26T16:09:48.693Z"
   },
   {
    "duration": 397,
    "start_time": "2022-07-26T16:09:58.078Z"
   },
   {
    "duration": 74,
    "start_time": "2022-07-26T16:09:58.476Z"
   },
   {
    "duration": 13,
    "start_time": "2022-07-26T16:09:58.552Z"
   },
   {
    "duration": 38,
    "start_time": "2022-07-26T16:09:58.567Z"
   },
   {
    "duration": 11,
    "start_time": "2022-07-26T16:09:58.606Z"
   },
   {
    "duration": 17,
    "start_time": "2022-07-26T16:09:58.619Z"
   },
   {
    "duration": 28,
    "start_time": "2022-07-26T16:09:58.638Z"
   },
   {
    "duration": 16,
    "start_time": "2022-07-26T16:09:58.668Z"
   },
   {
    "duration": 5,
    "start_time": "2022-07-26T16:09:58.686Z"
   },
   {
    "duration": 17,
    "start_time": "2022-07-26T16:09:58.694Z"
   },
   {
    "duration": 25,
    "start_time": "2022-07-26T16:09:58.713Z"
   },
   {
    "duration": 24,
    "start_time": "2022-07-26T16:09:58.739Z"
   },
   {
    "duration": 53,
    "start_time": "2022-07-26T16:09:58.765Z"
   },
   {
    "duration": 4,
    "start_time": "2022-07-26T16:09:58.820Z"
   },
   {
    "duration": 26,
    "start_time": "2022-07-26T16:09:58.826Z"
   },
   {
    "duration": 14,
    "start_time": "2022-07-26T16:09:58.854Z"
   },
   {
    "duration": 35,
    "start_time": "2022-07-26T16:09:58.870Z"
   },
   {
    "duration": 33,
    "start_time": "2022-07-26T16:09:58.906Z"
   },
   {
    "duration": 23,
    "start_time": "2022-07-26T16:09:58.941Z"
   },
   {
    "duration": 35,
    "start_time": "2022-07-26T16:09:58.966Z"
   },
   {
    "duration": 10,
    "start_time": "2022-07-26T16:09:59.002Z"
   },
   {
    "duration": 47,
    "start_time": "2022-07-26T16:09:59.014Z"
   },
   {
    "duration": 6,
    "start_time": "2022-07-26T16:09:59.063Z"
   },
   {
    "duration": 17,
    "start_time": "2022-07-26T16:09:59.071Z"
   },
   {
    "duration": 20,
    "start_time": "2022-07-26T16:09:59.090Z"
   },
   {
    "duration": 15,
    "start_time": "2022-07-26T16:09:59.112Z"
   },
   {
    "duration": 30,
    "start_time": "2022-07-26T16:09:59.128Z"
   },
   {
    "duration": 20,
    "start_time": "2022-07-26T16:09:59.162Z"
   },
   {
    "duration": 27,
    "start_time": "2022-07-26T16:09:59.184Z"
   },
   {
    "duration": 27,
    "start_time": "2022-07-26T16:09:59.213Z"
   },
   {
    "duration": 14,
    "start_time": "2022-07-26T16:09:59.242Z"
   },
   {
    "duration": 10,
    "start_time": "2022-07-26T16:09:59.257Z"
   },
   {
    "duration": 30,
    "start_time": "2022-07-26T16:09:59.268Z"
   },
   {
    "duration": 23,
    "start_time": "2022-07-26T16:09:59.299Z"
   },
   {
    "duration": 33,
    "start_time": "2022-07-26T16:09:59.324Z"
   },
   {
    "duration": 31,
    "start_time": "2022-07-26T16:09:59.359Z"
   },
   {
    "duration": 19,
    "start_time": "2022-07-26T16:09:59.392Z"
   },
   {
    "duration": 30,
    "start_time": "2022-07-26T16:09:59.413Z"
   },
   {
    "duration": 14,
    "start_time": "2022-07-26T16:09:59.444Z"
   },
   {
    "duration": 646,
    "start_time": "2022-07-26T16:09:59.460Z"
   },
   {
    "duration": 69,
    "start_time": "2022-07-26T16:10:00.107Z"
   },
   {
    "duration": 241,
    "start_time": "2022-07-26T16:10:00.177Z"
   },
   {
    "duration": 71,
    "start_time": "2022-07-26T16:10:00.420Z"
   },
   {
    "duration": 293,
    "start_time": "2022-07-26T16:10:00.492Z"
   },
   {
    "duration": 19,
    "start_time": "2022-07-26T16:10:00.786Z"
   },
   {
    "duration": 69,
    "start_time": "2022-07-26T16:10:00.806Z"
   },
   {
    "duration": 15,
    "start_time": "2022-07-26T16:10:00.876Z"
   },
   {
    "duration": 43,
    "start_time": "2022-07-26T16:10:00.893Z"
   },
   {
    "duration": 60,
    "start_time": "2022-07-26T16:10:00.938Z"
   },
   {
    "duration": 48,
    "start_time": "2022-07-26T16:10:01.000Z"
   },
   {
    "duration": 187,
    "start_time": "2022-07-26T16:10:01.050Z"
   },
   {
    "duration": 234,
    "start_time": "2022-07-26T16:10:01.239Z"
   },
   {
    "duration": 16,
    "start_time": "2022-07-26T16:10:01.475Z"
   },
   {
    "duration": 192,
    "start_time": "2022-07-26T16:10:01.493Z"
   },
   {
    "duration": 25,
    "start_time": "2022-07-26T16:10:01.686Z"
   },
   {
    "duration": 6,
    "start_time": "2022-07-26T16:10:30.209Z"
   },
   {
    "duration": 4,
    "start_time": "2022-07-26T16:10:37.337Z"
   },
   {
    "duration": 10,
    "start_time": "2022-07-26T16:10:37.943Z"
   },
   {
    "duration": 8,
    "start_time": "2022-07-26T16:10:56.951Z"
   },
   {
    "duration": 447,
    "start_time": "2022-07-26T16:11:02.761Z"
   },
   {
    "duration": 78,
    "start_time": "2022-07-26T16:11:03.210Z"
   },
   {
    "duration": 15,
    "start_time": "2022-07-26T16:11:03.289Z"
   },
   {
    "duration": 61,
    "start_time": "2022-07-26T16:11:03.306Z"
   },
   {
    "duration": 11,
    "start_time": "2022-07-26T16:11:03.369Z"
   },
   {
    "duration": 32,
    "start_time": "2022-07-26T16:11:03.382Z"
   },
   {
    "duration": 30,
    "start_time": "2022-07-26T16:11:03.416Z"
   },
   {
    "duration": 18,
    "start_time": "2022-07-26T16:11:03.448Z"
   },
   {
    "duration": 9,
    "start_time": "2022-07-26T16:11:03.468Z"
   },
   {
    "duration": 14,
    "start_time": "2022-07-26T16:11:03.480Z"
   },
   {
    "duration": 18,
    "start_time": "2022-07-26T16:11:03.495Z"
   },
   {
    "duration": 13,
    "start_time": "2022-07-26T16:11:03.515Z"
   },
   {
    "duration": 57,
    "start_time": "2022-07-26T16:11:03.530Z"
   },
   {
    "duration": 4,
    "start_time": "2022-07-26T16:11:03.589Z"
   },
   {
    "duration": 22,
    "start_time": "2022-07-26T16:11:03.595Z"
   },
   {
    "duration": 15,
    "start_time": "2022-07-26T16:11:03.619Z"
   },
   {
    "duration": 22,
    "start_time": "2022-07-26T16:11:03.636Z"
   },
   {
    "duration": 21,
    "start_time": "2022-07-26T16:11:03.660Z"
   },
   {
    "duration": 37,
    "start_time": "2022-07-26T16:11:03.683Z"
   },
   {
    "duration": 30,
    "start_time": "2022-07-26T16:11:03.722Z"
   },
   {
    "duration": 19,
    "start_time": "2022-07-26T16:11:03.753Z"
   },
   {
    "duration": 49,
    "start_time": "2022-07-26T16:11:03.774Z"
   },
   {
    "duration": 6,
    "start_time": "2022-07-26T16:11:03.825Z"
   },
   {
    "duration": 13,
    "start_time": "2022-07-26T16:11:03.833Z"
   },
   {
    "duration": 15,
    "start_time": "2022-07-26T16:11:03.848Z"
   },
   {
    "duration": 19,
    "start_time": "2022-07-26T16:11:03.865Z"
   },
   {
    "duration": 40,
    "start_time": "2022-07-26T16:11:03.886Z"
   },
   {
    "duration": 12,
    "start_time": "2022-07-26T16:11:03.930Z"
   },
   {
    "duration": 17,
    "start_time": "2022-07-26T16:11:03.944Z"
   },
   {
    "duration": 46,
    "start_time": "2022-07-26T16:11:03.963Z"
   },
   {
    "duration": 5,
    "start_time": "2022-07-26T16:11:04.011Z"
   },
   {
    "duration": 22,
    "start_time": "2022-07-26T16:11:04.017Z"
   },
   {
    "duration": 9,
    "start_time": "2022-07-26T16:11:04.040Z"
   },
   {
    "duration": 26,
    "start_time": "2022-07-26T16:11:04.051Z"
   },
   {
    "duration": 18,
    "start_time": "2022-07-26T16:11:04.078Z"
   },
   {
    "duration": 25,
    "start_time": "2022-07-26T16:11:04.098Z"
   },
   {
    "duration": 13,
    "start_time": "2022-07-26T16:11:04.125Z"
   },
   {
    "duration": 9,
    "start_time": "2022-07-26T16:11:04.140Z"
   },
   {
    "duration": 12,
    "start_time": "2022-07-26T16:11:04.151Z"
   },
   {
    "duration": 354,
    "start_time": "2022-07-26T16:11:04.165Z"
   },
   {
    "duration": 13,
    "start_time": "2022-07-26T16:11:04.521Z"
   },
   {
    "duration": 262,
    "start_time": "2022-07-26T16:11:04.536Z"
   },
   {
    "duration": 80,
    "start_time": "2022-07-26T16:11:04.800Z"
   },
   {
    "duration": 235,
    "start_time": "2022-07-26T16:11:04.882Z"
   },
   {
    "duration": 70,
    "start_time": "2022-07-26T16:11:05.119Z"
   },
   {
    "duration": 3,
    "start_time": "2022-07-26T16:11:05.191Z"
   },
   {
    "duration": 9,
    "start_time": "2022-07-26T16:11:05.196Z"
   },
   {
    "duration": 7,
    "start_time": "2022-07-26T16:11:05.207Z"
   },
   {
    "duration": 9,
    "start_time": "2022-07-26T16:11:05.215Z"
   },
   {
    "duration": 89,
    "start_time": "2022-07-26T16:11:05.225Z"
   },
   {
    "duration": 293,
    "start_time": "2022-07-26T16:11:05.315Z"
   },
   {
    "duration": 474,
    "start_time": "2022-07-26T16:11:05.610Z"
   },
   {
    "duration": 13,
    "start_time": "2022-07-26T16:11:06.085Z"
   },
   {
    "duration": 183,
    "start_time": "2022-07-26T16:11:06.099Z"
   },
   {
    "duration": 26,
    "start_time": "2022-07-26T16:11:06.284Z"
   },
   {
    "duration": 5,
    "start_time": "2022-07-26T16:11:24.317Z"
   },
   {
    "duration": 5,
    "start_time": "2022-07-26T16:11:30.324Z"
   },
   {
    "duration": 6,
    "start_time": "2022-07-26T16:17:28.839Z"
   },
   {
    "duration": 4,
    "start_time": "2022-07-26T16:17:46.919Z"
   },
   {
    "duration": 72,
    "start_time": "2022-07-26T16:19:44.935Z"
   },
   {
    "duration": 9,
    "start_time": "2022-07-26T16:19:52.094Z"
   },
   {
    "duration": 6,
    "start_time": "2022-07-26T16:20:01.621Z"
   },
   {
    "duration": 3,
    "start_time": "2022-07-26T16:20:05.052Z"
   },
   {
    "duration": 5,
    "start_time": "2022-07-26T16:20:17.187Z"
   },
   {
    "duration": 655,
    "start_time": "2022-07-26T16:20:30.075Z"
   },
   {
    "duration": 10,
    "start_time": "2022-07-26T16:20:52.769Z"
   },
   {
    "duration": 4,
    "start_time": "2022-07-26T16:21:32.341Z"
   },
   {
    "duration": 4,
    "start_time": "2022-07-26T16:21:44.101Z"
   },
   {
    "duration": 6,
    "start_time": "2022-07-26T16:23:10.223Z"
   },
   {
    "duration": 127,
    "start_time": "2022-07-26T16:23:11.213Z"
   },
   {
    "duration": 8,
    "start_time": "2022-07-26T16:30:33.324Z"
   },
   {
    "duration": 117,
    "start_time": "2022-07-26T16:30:35.970Z"
   },
   {
    "duration": 11,
    "start_time": "2022-07-26T16:30:56.380Z"
   },
   {
    "duration": 104,
    "start_time": "2022-07-26T16:30:57.064Z"
   },
   {
    "duration": 8,
    "start_time": "2022-07-26T16:31:09.600Z"
   },
   {
    "duration": 4,
    "start_time": "2022-07-26T16:31:38.599Z"
   },
   {
    "duration": 4,
    "start_time": "2022-07-26T16:33:14.842Z"
   },
   {
    "duration": 8,
    "start_time": "2022-07-26T16:33:22.373Z"
   },
   {
    "duration": 135,
    "start_time": "2022-07-26T16:35:08.838Z"
   },
   {
    "duration": 7,
    "start_time": "2022-07-26T16:35:49.721Z"
   },
   {
    "duration": 57,
    "start_time": "2022-07-26T17:08:58.010Z"
   },
   {
    "duration": 75,
    "start_time": "2022-07-26T17:09:04.830Z"
   },
   {
    "duration": 42,
    "start_time": "2022-07-26T17:09:46.260Z"
   },
   {
    "duration": 50,
    "start_time": "2022-07-26T17:18:29.371Z"
   },
   {
    "duration": 6,
    "start_time": "2022-07-26T17:18:37.082Z"
   },
   {
    "duration": 423,
    "start_time": "2022-07-26T17:18:55.059Z"
   },
   {
    "duration": 91,
    "start_time": "2022-07-26T17:18:55.484Z"
   },
   {
    "duration": 15,
    "start_time": "2022-07-26T17:18:55.577Z"
   },
   {
    "duration": 46,
    "start_time": "2022-07-26T17:18:55.593Z"
   },
   {
    "duration": 9,
    "start_time": "2022-07-26T17:18:55.641Z"
   },
   {
    "duration": 27,
    "start_time": "2022-07-26T17:18:55.652Z"
   },
   {
    "duration": 24,
    "start_time": "2022-07-26T17:18:55.681Z"
   },
   {
    "duration": 19,
    "start_time": "2022-07-26T17:18:55.707Z"
   },
   {
    "duration": 5,
    "start_time": "2022-07-26T17:18:55.727Z"
   },
   {
    "duration": 10,
    "start_time": "2022-07-26T17:18:55.735Z"
   },
   {
    "duration": 30,
    "start_time": "2022-07-26T17:18:55.747Z"
   },
   {
    "duration": 13,
    "start_time": "2022-07-26T17:18:55.778Z"
   },
   {
    "duration": 11,
    "start_time": "2022-07-26T17:18:55.792Z"
   },
   {
    "duration": 80,
    "start_time": "2022-07-26T17:18:55.804Z"
   },
   {
    "duration": 7,
    "start_time": "2022-07-26T17:18:55.886Z"
   },
   {
    "duration": 9,
    "start_time": "2022-07-26T17:18:55.894Z"
   },
   {
    "duration": 8,
    "start_time": "2022-07-26T17:18:55.904Z"
   },
   {
    "duration": 7,
    "start_time": "2022-07-26T17:18:55.913Z"
   },
   {
    "duration": 15,
    "start_time": "2022-07-26T17:18:55.921Z"
   },
   {
    "duration": 7,
    "start_time": "2022-07-26T17:18:55.937Z"
   },
   {
    "duration": 42,
    "start_time": "2022-07-26T17:18:55.946Z"
   },
   {
    "duration": 12,
    "start_time": "2022-07-26T17:18:55.990Z"
   },
   {
    "duration": 10,
    "start_time": "2022-07-26T17:18:56.004Z"
   },
   {
    "duration": 24,
    "start_time": "2022-07-26T17:18:56.015Z"
   },
   {
    "duration": 4,
    "start_time": "2022-07-26T17:18:56.041Z"
   },
   {
    "duration": 4,
    "start_time": "2022-07-26T17:18:56.073Z"
   },
   {
    "duration": 13,
    "start_time": "2022-07-26T17:18:56.079Z"
   },
   {
    "duration": 4,
    "start_time": "2022-07-26T17:18:56.097Z"
   },
   {
    "duration": 12,
    "start_time": "2022-07-26T17:18:56.103Z"
   },
   {
    "duration": 7,
    "start_time": "2022-07-26T17:18:56.116Z"
   },
   {
    "duration": 8,
    "start_time": "2022-07-26T17:18:56.125Z"
   },
   {
    "duration": 42,
    "start_time": "2022-07-26T17:18:56.135Z"
   },
   {
    "duration": 4,
    "start_time": "2022-07-26T17:18:56.180Z"
   },
   {
    "duration": 9,
    "start_time": "2022-07-26T17:18:56.186Z"
   },
   {
    "duration": 5,
    "start_time": "2022-07-26T17:18:56.197Z"
   },
   {
    "duration": 6,
    "start_time": "2022-07-26T17:18:56.204Z"
   },
   {
    "duration": 16,
    "start_time": "2022-07-26T17:18:56.212Z"
   },
   {
    "duration": 16,
    "start_time": "2022-07-26T17:18:56.230Z"
   },
   {
    "duration": 28,
    "start_time": "2022-07-26T17:18:56.248Z"
   },
   {
    "duration": 9,
    "start_time": "2022-07-26T17:18:56.278Z"
   },
   {
    "duration": 13,
    "start_time": "2022-07-26T17:18:56.289Z"
   },
   {
    "duration": 17,
    "start_time": "2022-07-26T17:18:56.303Z"
   },
   {
    "duration": 384,
    "start_time": "2022-07-26T17:18:56.322Z"
   },
   {
    "duration": 67,
    "start_time": "2022-07-26T17:18:56.708Z"
   },
   {
    "duration": 400,
    "start_time": "2022-07-26T17:18:56.777Z"
   },
   {
    "duration": 22,
    "start_time": "2022-07-26T17:18:57.179Z"
   },
   {
    "duration": 303,
    "start_time": "2022-07-26T17:18:57.203Z"
   },
   {
    "duration": 78,
    "start_time": "2022-07-26T17:18:57.508Z"
   },
   {
    "duration": 5,
    "start_time": "2022-07-26T17:18:57.588Z"
   },
   {
    "duration": 26,
    "start_time": "2022-07-26T17:18:57.595Z"
   },
   {
    "duration": 5,
    "start_time": "2022-07-26T17:18:57.624Z"
   },
   {
    "duration": 6,
    "start_time": "2022-07-26T17:18:57.674Z"
   },
   {
    "duration": 25,
    "start_time": "2022-07-26T17:18:57.682Z"
   },
   {
    "duration": 370,
    "start_time": "2022-07-26T17:18:57.709Z"
   },
   {
    "duration": 514,
    "start_time": "2022-07-26T17:18:58.081Z"
   },
   {
    "duration": 15,
    "start_time": "2022-07-26T17:18:58.597Z"
   },
   {
    "duration": 182,
    "start_time": "2022-07-26T17:18:58.614Z"
   },
   {
    "duration": 26,
    "start_time": "2022-07-26T17:18:58.798Z"
   },
   {
    "duration": 4,
    "start_time": "2022-07-26T17:20:22.998Z"
   },
   {
    "duration": 85,
    "start_time": "2022-07-26T17:20:58.842Z"
   },
   {
    "duration": 7,
    "start_time": "2022-07-26T17:21:01.947Z"
   },
   {
    "duration": 10,
    "start_time": "2022-07-26T17:21:02.025Z"
   },
   {
    "duration": 3,
    "start_time": "2022-07-26T17:21:09.009Z"
   },
   {
    "duration": 3,
    "start_time": "2022-07-26T17:21:24.974Z"
   },
   {
    "duration": 5,
    "start_time": "2022-07-26T17:21:54.443Z"
   },
   {
    "duration": 9,
    "start_time": "2022-07-26T17:22:01.555Z"
   },
   {
    "duration": 5,
    "start_time": "2022-07-26T17:22:10.666Z"
   },
   {
    "duration": 388,
    "start_time": "2022-07-26T17:22:17.383Z"
   },
   {
    "duration": 75,
    "start_time": "2022-07-26T17:22:17.773Z"
   },
   {
    "duration": 15,
    "start_time": "2022-07-26T17:22:17.850Z"
   },
   {
    "duration": 42,
    "start_time": "2022-07-26T17:22:17.867Z"
   },
   {
    "duration": 10,
    "start_time": "2022-07-26T17:22:17.910Z"
   },
   {
    "duration": 34,
    "start_time": "2022-07-26T17:22:17.922Z"
   },
   {
    "duration": 61,
    "start_time": "2022-07-26T17:22:17.958Z"
   },
   {
    "duration": 22,
    "start_time": "2022-07-26T17:22:18.021Z"
   },
   {
    "duration": 38,
    "start_time": "2022-07-26T17:22:18.046Z"
   },
   {
    "duration": 28,
    "start_time": "2022-07-26T17:22:18.087Z"
   },
   {
    "duration": 19,
    "start_time": "2022-07-26T17:22:18.117Z"
   },
   {
    "duration": 25,
    "start_time": "2022-07-26T17:22:18.137Z"
   },
   {
    "duration": 21,
    "start_time": "2022-07-26T17:22:18.164Z"
   },
   {
    "duration": 73,
    "start_time": "2022-07-26T17:22:18.186Z"
   },
   {
    "duration": 5,
    "start_time": "2022-07-26T17:22:18.261Z"
   },
   {
    "duration": 9,
    "start_time": "2022-07-26T17:22:18.268Z"
   },
   {
    "duration": 8,
    "start_time": "2022-07-26T17:22:18.279Z"
   },
   {
    "duration": 11,
    "start_time": "2022-07-26T17:22:18.288Z"
   },
   {
    "duration": 12,
    "start_time": "2022-07-26T17:22:18.300Z"
   },
   {
    "duration": 7,
    "start_time": "2022-07-26T17:22:18.314Z"
   },
   {
    "duration": 26,
    "start_time": "2022-07-26T17:22:18.323Z"
   },
   {
    "duration": 29,
    "start_time": "2022-07-26T17:22:18.351Z"
   },
   {
    "duration": 11,
    "start_time": "2022-07-26T17:22:18.382Z"
   },
   {
    "duration": 23,
    "start_time": "2022-07-26T17:22:18.395Z"
   },
   {
    "duration": 5,
    "start_time": "2022-07-26T17:22:18.419Z"
   },
   {
    "duration": 10,
    "start_time": "2022-07-26T17:22:18.426Z"
   },
   {
    "duration": 10,
    "start_time": "2022-07-26T17:22:18.438Z"
   },
   {
    "duration": 5,
    "start_time": "2022-07-26T17:22:18.472Z"
   },
   {
    "duration": 8,
    "start_time": "2022-07-26T17:22:18.479Z"
   },
   {
    "duration": 9,
    "start_time": "2022-07-26T17:22:18.489Z"
   },
   {
    "duration": 7,
    "start_time": "2022-07-26T17:22:18.499Z"
   },
   {
    "duration": 18,
    "start_time": "2022-07-26T17:22:18.508Z"
   },
   {
    "duration": 4,
    "start_time": "2022-07-26T17:22:18.527Z"
   },
   {
    "duration": 10,
    "start_time": "2022-07-26T17:22:18.533Z"
   },
   {
    "duration": 31,
    "start_time": "2022-07-26T17:22:18.544Z"
   },
   {
    "duration": 3,
    "start_time": "2022-07-26T17:22:18.576Z"
   },
   {
    "duration": 13,
    "start_time": "2022-07-26T17:22:18.581Z"
   },
   {
    "duration": 14,
    "start_time": "2022-07-26T17:22:18.596Z"
   },
   {
    "duration": 6,
    "start_time": "2022-07-26T17:22:18.611Z"
   },
   {
    "duration": 8,
    "start_time": "2022-07-26T17:22:18.619Z"
   },
   {
    "duration": 10,
    "start_time": "2022-07-26T17:22:18.629Z"
   },
   {
    "duration": 40,
    "start_time": "2022-07-26T17:22:18.641Z"
   },
   {
    "duration": 420,
    "start_time": "2022-07-26T17:22:18.683Z"
   },
   {
    "duration": 15,
    "start_time": "2022-07-26T17:22:19.105Z"
   },
   {
    "duration": 157,
    "start_time": "2022-07-26T17:22:19.122Z"
   },
   {
    "duration": 21,
    "start_time": "2022-07-26T17:22:19.280Z"
   },
   {
    "duration": 135,
    "start_time": "2022-07-26T17:22:19.302Z"
   },
   {
    "duration": 17,
    "start_time": "2022-07-26T17:22:19.439Z"
   },
   {
    "duration": 16,
    "start_time": "2022-07-26T17:22:19.458Z"
   },
   {
    "duration": 8,
    "start_time": "2022-07-26T17:22:19.477Z"
   },
   {
    "duration": 6,
    "start_time": "2022-07-26T17:22:19.486Z"
   },
   {
    "duration": 8,
    "start_time": "2022-07-26T17:22:19.493Z"
   },
   {
    "duration": 27,
    "start_time": "2022-07-26T17:22:19.502Z"
   },
   {
    "duration": 160,
    "start_time": "2022-07-26T17:22:19.530Z"
   },
   {
    "duration": 224,
    "start_time": "2022-07-26T17:22:19.692Z"
   },
   {
    "duration": 13,
    "start_time": "2022-07-26T17:22:19.917Z"
   },
   {
    "duration": 248,
    "start_time": "2022-07-26T17:22:19.931Z"
   },
   {
    "duration": 35,
    "start_time": "2022-07-26T17:22:20.181Z"
   },
   {
    "duration": 4,
    "start_time": "2022-07-26T17:22:47.255Z"
   },
   {
    "duration": 29,
    "start_time": "2022-07-26T17:33:02.960Z"
   },
   {
    "duration": 9,
    "start_time": "2022-07-26T17:33:06.334Z"
   },
   {
    "duration": 9,
    "start_time": "2022-07-26T17:34:49.824Z"
   },
   {
    "duration": 20,
    "start_time": "2022-07-26T17:34:52.118Z"
   }
  ],
  "colab": {
   "name": "DA+. Сборный проект 1. Шаблон (1).ipynb",
   "provenance": []
  },
  "kernelspec": {
   "display_name": "Python 3 (ipykernel)",
   "language": "python",
   "name": "python3"
  },
  "language_info": {
   "codemirror_mode": {
    "name": "ipython",
    "version": 3
   },
   "file_extension": ".py",
   "mimetype": "text/x-python",
   "name": "python",
   "nbconvert_exporter": "python",
   "pygments_lexer": "ipython3",
   "version": "3.9.5"
  },
  "toc": {
   "base_numbering": 1,
   "nav_menu": {
    "height": "247px",
    "width": "578px"
   },
   "number_sections": true,
   "sideBar": true,
   "skip_h1_title": true,
   "title_cell": "Содержание",
   "title_sidebar": "Содержание",
   "toc_cell": true,
   "toc_position": {
    "height": "calc(100% - 180px)",
    "left": "10px",
    "top": "150px",
    "width": "337px"
   },
   "toc_section_display": true,
   "toc_window_display": true
  }
 },
 "nbformat": 4,
 "nbformat_minor": 1
}
