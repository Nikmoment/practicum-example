{
 "cells": [
  {
   "cell_type": "markdown",
   "metadata": {},
   "source": [
    "# Выбор локации для скважины"
   ]
  },
  {
   "cell_type": "markdown",
   "metadata": {},
   "source": [
    "Допустим, вы работаете в добывающей компании «ГлавРосГосНефть». Нужно решить, где бурить новую скважину.\n",
    "\n",
    "Вам предоставлены пробы нефти в трёх регионах: в каждом 10 000 месторождений, где измерили качество нефти и объём её запасов. Постройте модель машинного обучения, которая поможет определить регион, где добыча принесёт наибольшую прибыль. Проанализируйте возможную прибыль и риски техникой *Bootstrap.*\n",
    "\n",
    "Шаги для выбора локации:\n",
    "\n",
    "- В избранном регионе ищут месторождения, для каждого определяют значения признаков;\n",
    "- Строят модель и оценивают объём запасов;\n",
    "- Выбирают месторождения с самым высокими оценками значений. Количество месторождений зависит от бюджета компании и стоимости разработки одной скважины;\n",
    "- Прибыль равна суммарной прибыли отобранных месторождений."
   ]
  },
  {
   "cell_type": "markdown",
   "metadata": {},
   "source": [
    "## Подготовка данных"
   ]
  },
  {
   "cell_type": "markdown",
   "metadata": {},
   "source": [
    "### Обзор данных"
   ]
  },
  {
   "cell_type": "markdown",
   "metadata": {},
   "source": [
    "Импортируем необходимые библиотеки"
   ]
  },
  {
   "cell_type": "code",
   "execution_count": 1,
   "metadata": {},
   "outputs": [],
   "source": [
    "import pandas as pd\n",
    "import numpy as np\n",
    "from scipy import stats as st \n",
    "from sklearn.model_selection import train_test_split \n",
    "from sklearn.preprocessing import StandardScaler \n",
    "from sklearn.linear_model import LinearRegression\n",
    "from sklearn.metrics import mean_squared_error"
   ]
  },
  {
   "cell_type": "markdown",
   "metadata": {},
   "source": [
    "Прочитайте файлы формата .csv из папки /datasets и сохраним их в переменных df_0, df_1, df_2"
   ]
  },
  {
   "cell_type": "code",
   "execution_count": 2,
   "metadata": {},
   "outputs": [],
   "source": [
    "data_0 = pd.read_csv('/datasets/geo_data_0.csv')\n",
    "data_1 = pd.read_csv('/datasets/geo_data_1.csv')\n",
    "data_2 = pd.read_csv('/datasets/geo_data_2.csv')"
   ]
  },
  {
   "cell_type": "markdown",
   "metadata": {},
   "source": [
    "Выведем на экран первые 5 строк таблиц, а также посмотрим общую информацию"
   ]
  },
  {
   "cell_type": "code",
   "execution_count": 3,
   "metadata": {},
   "outputs": [
    {
     "data": {
      "text/html": [
       "<div>\n",
       "<style scoped>\n",
       "    .dataframe tbody tr th:only-of-type {\n",
       "        vertical-align: middle;\n",
       "    }\n",
       "\n",
       "    .dataframe tbody tr th {\n",
       "        vertical-align: top;\n",
       "    }\n",
       "\n",
       "    .dataframe thead th {\n",
       "        text-align: right;\n",
       "    }\n",
       "</style>\n",
       "<table border=\"1\" class=\"dataframe\">\n",
       "  <thead>\n",
       "    <tr style=\"text-align: right;\">\n",
       "      <th></th>\n",
       "      <th>id</th>\n",
       "      <th>f0</th>\n",
       "      <th>f1</th>\n",
       "      <th>f2</th>\n",
       "      <th>product</th>\n",
       "    </tr>\n",
       "  </thead>\n",
       "  <tbody>\n",
       "    <tr>\n",
       "      <th>0</th>\n",
       "      <td>txEyH</td>\n",
       "      <td>0.705745</td>\n",
       "      <td>-0.497823</td>\n",
       "      <td>1.221170</td>\n",
       "      <td>105.280062</td>\n",
       "    </tr>\n",
       "    <tr>\n",
       "      <th>1</th>\n",
       "      <td>2acmU</td>\n",
       "      <td>1.334711</td>\n",
       "      <td>-0.340164</td>\n",
       "      <td>4.365080</td>\n",
       "      <td>73.037750</td>\n",
       "    </tr>\n",
       "    <tr>\n",
       "      <th>2</th>\n",
       "      <td>409Wp</td>\n",
       "      <td>1.022732</td>\n",
       "      <td>0.151990</td>\n",
       "      <td>1.419926</td>\n",
       "      <td>85.265647</td>\n",
       "    </tr>\n",
       "    <tr>\n",
       "      <th>3</th>\n",
       "      <td>iJLyR</td>\n",
       "      <td>-0.032172</td>\n",
       "      <td>0.139033</td>\n",
       "      <td>2.978566</td>\n",
       "      <td>168.620776</td>\n",
       "    </tr>\n",
       "    <tr>\n",
       "      <th>4</th>\n",
       "      <td>Xdl7t</td>\n",
       "      <td>1.988431</td>\n",
       "      <td>0.155413</td>\n",
       "      <td>4.751769</td>\n",
       "      <td>154.036647</td>\n",
       "    </tr>\n",
       "  </tbody>\n",
       "</table>\n",
       "</div>"
      ],
      "text/plain": [
       "      id        f0        f1        f2     product\n",
       "0  txEyH  0.705745 -0.497823  1.221170  105.280062\n",
       "1  2acmU  1.334711 -0.340164  4.365080   73.037750\n",
       "2  409Wp  1.022732  0.151990  1.419926   85.265647\n",
       "3  iJLyR -0.032172  0.139033  2.978566  168.620776\n",
       "4  Xdl7t  1.988431  0.155413  4.751769  154.036647"
      ]
     },
     "execution_count": 3,
     "metadata": {},
     "output_type": "execute_result"
    }
   ],
   "source": [
    "data_0.head()"
   ]
  },
  {
   "cell_type": "code",
   "execution_count": 4,
   "metadata": {},
   "outputs": [
    {
     "data": {
      "text/html": [
       "<div>\n",
       "<style scoped>\n",
       "    .dataframe tbody tr th:only-of-type {\n",
       "        vertical-align: middle;\n",
       "    }\n",
       "\n",
       "    .dataframe tbody tr th {\n",
       "        vertical-align: top;\n",
       "    }\n",
       "\n",
       "    .dataframe thead th {\n",
       "        text-align: right;\n",
       "    }\n",
       "</style>\n",
       "<table border=\"1\" class=\"dataframe\">\n",
       "  <thead>\n",
       "    <tr style=\"text-align: right;\">\n",
       "      <th></th>\n",
       "      <th>id</th>\n",
       "      <th>f0</th>\n",
       "      <th>f1</th>\n",
       "      <th>f2</th>\n",
       "      <th>product</th>\n",
       "    </tr>\n",
       "  </thead>\n",
       "  <tbody>\n",
       "    <tr>\n",
       "      <th>0</th>\n",
       "      <td>kBEdx</td>\n",
       "      <td>-15.001348</td>\n",
       "      <td>-8.276000</td>\n",
       "      <td>-0.005876</td>\n",
       "      <td>3.179103</td>\n",
       "    </tr>\n",
       "    <tr>\n",
       "      <th>1</th>\n",
       "      <td>62mP7</td>\n",
       "      <td>14.272088</td>\n",
       "      <td>-3.475083</td>\n",
       "      <td>0.999183</td>\n",
       "      <td>26.953261</td>\n",
       "    </tr>\n",
       "    <tr>\n",
       "      <th>2</th>\n",
       "      <td>vyE1P</td>\n",
       "      <td>6.263187</td>\n",
       "      <td>-5.948386</td>\n",
       "      <td>5.001160</td>\n",
       "      <td>134.766305</td>\n",
       "    </tr>\n",
       "    <tr>\n",
       "      <th>3</th>\n",
       "      <td>KcrkZ</td>\n",
       "      <td>-13.081196</td>\n",
       "      <td>-11.506057</td>\n",
       "      <td>4.999415</td>\n",
       "      <td>137.945408</td>\n",
       "    </tr>\n",
       "    <tr>\n",
       "      <th>4</th>\n",
       "      <td>AHL4O</td>\n",
       "      <td>12.702195</td>\n",
       "      <td>-8.147433</td>\n",
       "      <td>5.004363</td>\n",
       "      <td>134.766305</td>\n",
       "    </tr>\n",
       "  </tbody>\n",
       "</table>\n",
       "</div>"
      ],
      "text/plain": [
       "      id         f0         f1        f2     product\n",
       "0  kBEdx -15.001348  -8.276000 -0.005876    3.179103\n",
       "1  62mP7  14.272088  -3.475083  0.999183   26.953261\n",
       "2  vyE1P   6.263187  -5.948386  5.001160  134.766305\n",
       "3  KcrkZ -13.081196 -11.506057  4.999415  137.945408\n",
       "4  AHL4O  12.702195  -8.147433  5.004363  134.766305"
      ]
     },
     "execution_count": 4,
     "metadata": {},
     "output_type": "execute_result"
    }
   ],
   "source": [
    "data_1.head()"
   ]
  },
  {
   "cell_type": "code",
   "execution_count": 5,
   "metadata": {},
   "outputs": [
    {
     "data": {
      "text/html": [
       "<div>\n",
       "<style scoped>\n",
       "    .dataframe tbody tr th:only-of-type {\n",
       "        vertical-align: middle;\n",
       "    }\n",
       "\n",
       "    .dataframe tbody tr th {\n",
       "        vertical-align: top;\n",
       "    }\n",
       "\n",
       "    .dataframe thead th {\n",
       "        text-align: right;\n",
       "    }\n",
       "</style>\n",
       "<table border=\"1\" class=\"dataframe\">\n",
       "  <thead>\n",
       "    <tr style=\"text-align: right;\">\n",
       "      <th></th>\n",
       "      <th>id</th>\n",
       "      <th>f0</th>\n",
       "      <th>f1</th>\n",
       "      <th>f2</th>\n",
       "      <th>product</th>\n",
       "    </tr>\n",
       "  </thead>\n",
       "  <tbody>\n",
       "    <tr>\n",
       "      <th>0</th>\n",
       "      <td>fwXo0</td>\n",
       "      <td>-1.146987</td>\n",
       "      <td>0.963328</td>\n",
       "      <td>-0.828965</td>\n",
       "      <td>27.758673</td>\n",
       "    </tr>\n",
       "    <tr>\n",
       "      <th>1</th>\n",
       "      <td>WJtFt</td>\n",
       "      <td>0.262778</td>\n",
       "      <td>0.269839</td>\n",
       "      <td>-2.530187</td>\n",
       "      <td>56.069697</td>\n",
       "    </tr>\n",
       "    <tr>\n",
       "      <th>2</th>\n",
       "      <td>ovLUW</td>\n",
       "      <td>0.194587</td>\n",
       "      <td>0.289035</td>\n",
       "      <td>-5.586433</td>\n",
       "      <td>62.871910</td>\n",
       "    </tr>\n",
       "    <tr>\n",
       "      <th>3</th>\n",
       "      <td>q6cA6</td>\n",
       "      <td>2.236060</td>\n",
       "      <td>-0.553760</td>\n",
       "      <td>0.930038</td>\n",
       "      <td>114.572842</td>\n",
       "    </tr>\n",
       "    <tr>\n",
       "      <th>4</th>\n",
       "      <td>WPMUX</td>\n",
       "      <td>-0.515993</td>\n",
       "      <td>1.716266</td>\n",
       "      <td>5.899011</td>\n",
       "      <td>149.600746</td>\n",
       "    </tr>\n",
       "  </tbody>\n",
       "</table>\n",
       "</div>"
      ],
      "text/plain": [
       "      id        f0        f1        f2     product\n",
       "0  fwXo0 -1.146987  0.963328 -0.828965   27.758673\n",
       "1  WJtFt  0.262778  0.269839 -2.530187   56.069697\n",
       "2  ovLUW  0.194587  0.289035 -5.586433   62.871910\n",
       "3  q6cA6  2.236060 -0.553760  0.930038  114.572842\n",
       "4  WPMUX -0.515993  1.716266  5.899011  149.600746"
      ]
     },
     "execution_count": 5,
     "metadata": {},
     "output_type": "execute_result"
    }
   ],
   "source": [
    "data_2.head()"
   ]
  },
  {
   "cell_type": "code",
   "execution_count": 6,
   "metadata": {},
   "outputs": [
    {
     "name": "stdout",
     "output_type": "stream",
     "text": [
      "<class 'pandas.core.frame.DataFrame'>\n",
      "RangeIndex: 100000 entries, 0 to 99999\n",
      "Data columns (total 5 columns):\n",
      " #   Column   Non-Null Count   Dtype  \n",
      "---  ------   --------------   -----  \n",
      " 0   id       100000 non-null  object \n",
      " 1   f0       100000 non-null  float64\n",
      " 2   f1       100000 non-null  float64\n",
      " 3   f2       100000 non-null  float64\n",
      " 4   product  100000 non-null  float64\n",
      "dtypes: float64(4), object(1)\n",
      "memory usage: 3.8+ MB\n"
     ]
    }
   ],
   "source": [
    "data_0.info()"
   ]
  },
  {
   "cell_type": "code",
   "execution_count": 7,
   "metadata": {},
   "outputs": [
    {
     "name": "stdout",
     "output_type": "stream",
     "text": [
      "<class 'pandas.core.frame.DataFrame'>\n",
      "RangeIndex: 100000 entries, 0 to 99999\n",
      "Data columns (total 5 columns):\n",
      " #   Column   Non-Null Count   Dtype  \n",
      "---  ------   --------------   -----  \n",
      " 0   id       100000 non-null  object \n",
      " 1   f0       100000 non-null  float64\n",
      " 2   f1       100000 non-null  float64\n",
      " 3   f2       100000 non-null  float64\n",
      " 4   product  100000 non-null  float64\n",
      "dtypes: float64(4), object(1)\n",
      "memory usage: 3.8+ MB\n"
     ]
    }
   ],
   "source": [
    "data_1.info()"
   ]
  },
  {
   "cell_type": "code",
   "execution_count": 8,
   "metadata": {},
   "outputs": [
    {
     "name": "stdout",
     "output_type": "stream",
     "text": [
      "<class 'pandas.core.frame.DataFrame'>\n",
      "RangeIndex: 100000 entries, 0 to 99999\n",
      "Data columns (total 5 columns):\n",
      " #   Column   Non-Null Count   Dtype  \n",
      "---  ------   --------------   -----  \n",
      " 0   id       100000 non-null  object \n",
      " 1   f0       100000 non-null  float64\n",
      " 2   f1       100000 non-null  float64\n",
      " 3   f2       100000 non-null  float64\n",
      " 4   product  100000 non-null  float64\n",
      "dtypes: float64(4), object(1)\n",
      "memory usage: 3.8+ MB\n"
     ]
    }
   ],
   "source": [
    "data_2.info()"
   ]
  },
  {
   "cell_type": "markdown",
   "metadata": {},
   "source": [
    "В таблицах присутствуют пять столбцов. Четыре стобца имеют тип данных `float`, один тип данных `object`."
   ]
  },
  {
   "cell_type": "markdown",
   "metadata": {},
   "source": [
    "Согласно документации к данным:"
   ]
  },
  {
   "cell_type": "markdown",
   "metadata": {},
   "source": [
    "- `id` — уникальный идентификатор скважины;\n",
    "- `f0`, `f1`, `f2`— три признака точек (неважно, что они означают, но сами признаки значимы);\n",
    "- `product` — объём запасов в скважине (тыс. баррелей)."
   ]
  },
  {
   "cell_type": "markdown",
   "metadata": {},
   "source": [
    "### Предобработка данных"
   ]
  },
  {
   "cell_type": "markdown",
   "metadata": {},
   "source": [
    "Столбец `id` содержит информацию об уникальном идентификаторе скважины. Он не несет особой ценности для изучения модели, но может быть полезен при поиске дубликатов."
   ]
  },
  {
   "cell_type": "code",
   "execution_count": 9,
   "metadata": {},
   "outputs": [
    {
     "name": "stdout",
     "output_type": "stream",
     "text": [
      "100000\n",
      "100000\n",
      "100000\n"
     ]
    }
   ],
   "source": [
    "print(data_0['id'].value_counts().sum())\n",
    "print(data_1['id'].value_counts().sum())\n",
    "print(data_2['id'].value_counts().sum())"
   ]
  },
  {
   "cell_type": "markdown",
   "metadata": {},
   "source": [
    "В столбце `id` получено 10000 уникальных значений, что равняется общему количеству строк, значит дубликатов нет. После проверки столбец можно удалить."
   ]
  },
  {
   "cell_type": "code",
   "execution_count": 10,
   "metadata": {},
   "outputs": [
    {
     "data": {
      "text/html": [
       "<div>\n",
       "<style scoped>\n",
       "    .dataframe tbody tr th:only-of-type {\n",
       "        vertical-align: middle;\n",
       "    }\n",
       "\n",
       "    .dataframe tbody tr th {\n",
       "        vertical-align: top;\n",
       "    }\n",
       "\n",
       "    .dataframe thead th {\n",
       "        text-align: right;\n",
       "    }\n",
       "</style>\n",
       "<table border=\"1\" class=\"dataframe\">\n",
       "  <thead>\n",
       "    <tr style=\"text-align: right;\">\n",
       "      <th></th>\n",
       "      <th>f0</th>\n",
       "      <th>f1</th>\n",
       "      <th>f2</th>\n",
       "      <th>product</th>\n",
       "    </tr>\n",
       "  </thead>\n",
       "  <tbody>\n",
       "    <tr>\n",
       "      <th>0</th>\n",
       "      <td>0.705745</td>\n",
       "      <td>-0.497823</td>\n",
       "      <td>1.221170</td>\n",
       "      <td>105.280062</td>\n",
       "    </tr>\n",
       "    <tr>\n",
       "      <th>1</th>\n",
       "      <td>1.334711</td>\n",
       "      <td>-0.340164</td>\n",
       "      <td>4.365080</td>\n",
       "      <td>73.037750</td>\n",
       "    </tr>\n",
       "    <tr>\n",
       "      <th>2</th>\n",
       "      <td>1.022732</td>\n",
       "      <td>0.151990</td>\n",
       "      <td>1.419926</td>\n",
       "      <td>85.265647</td>\n",
       "    </tr>\n",
       "    <tr>\n",
       "      <th>3</th>\n",
       "      <td>-0.032172</td>\n",
       "      <td>0.139033</td>\n",
       "      <td>2.978566</td>\n",
       "      <td>168.620776</td>\n",
       "    </tr>\n",
       "    <tr>\n",
       "      <th>4</th>\n",
       "      <td>1.988431</td>\n",
       "      <td>0.155413</td>\n",
       "      <td>4.751769</td>\n",
       "      <td>154.036647</td>\n",
       "    </tr>\n",
       "  </tbody>\n",
       "</table>\n",
       "</div>"
      ],
      "text/plain": [
       "         f0        f1        f2     product\n",
       "0  0.705745 -0.497823  1.221170  105.280062\n",
       "1  1.334711 -0.340164  4.365080   73.037750\n",
       "2  1.022732  0.151990  1.419926   85.265647\n",
       "3 -0.032172  0.139033  2.978566  168.620776\n",
       "4  1.988431  0.155413  4.751769  154.036647"
      ]
     },
     "execution_count": 10,
     "metadata": {},
     "output_type": "execute_result"
    }
   ],
   "source": [
    "df_0 = data_0.drop('id', axis=1)\n",
    "df_0.head()"
   ]
  },
  {
   "cell_type": "code",
   "execution_count": 11,
   "metadata": {},
   "outputs": [],
   "source": [
    "df_1 = data_1.drop('id', axis=1)\n",
    "df_2 = data_2.drop('id', axis=1)"
   ]
  },
  {
   "cell_type": "markdown",
   "metadata": {},
   "source": [
    "###  Разбитие данных на выборки"
   ]
  },
  {
   "cell_type": "code",
   "execution_count": 12,
   "metadata": {},
   "outputs": [
    {
     "data": {
      "text/plain": [
       "(100000, 4)"
      ]
     },
     "execution_count": 12,
     "metadata": {},
     "output_type": "execute_result"
    }
   ],
   "source": [
    "df_0.shape # изучим размер исходной таблицы"
   ]
  },
  {
   "cell_type": "code",
   "execution_count": 13,
   "metadata": {},
   "outputs": [],
   "source": [
    "# обучающая=0.75, валидационная = 0.25\n",
    "df_0_train, df_0_valid = train_test_split(df_0, test_size=0.25, random_state=12345) "
   ]
  },
  {
   "cell_type": "code",
   "execution_count": 14,
   "metadata": {},
   "outputs": [
    {
     "name": "stdout",
     "output_type": "stream",
     "text": [
      "(75000, 4)\n",
      "(25000, 4)\n"
     ]
    }
   ],
   "source": [
    "print(df_0_train.shape)\n",
    "print(df_0_valid.shape)"
   ]
  },
  {
   "cell_type": "code",
   "execution_count": 15,
   "metadata": {},
   "outputs": [],
   "source": [
    "# аналогично разобьем выборки в оставшихся таблицах\n",
    "df_1_train, df_1_valid = train_test_split(df_1, test_size=0.25, random_state=12345) \n",
    "df_2_train, df_2_valid = train_test_split(df_2, test_size=0.25, random_state=12345) "
   ]
  },
  {
   "cell_type": "markdown",
   "metadata": {},
   "source": [
    "### Масштабирование признаков"
   ]
  },
  {
   "cell_type": "markdown",
   "metadata": {},
   "source": [
    "Один из методов масштабирования — стандартизация данных. Преобразуем обучающую, валидационную и тестовую выборки функцией transform(). Определим признаки и целевой признак для выборок и стандартизируем выборки."
   ]
  },
  {
   "cell_type": "code",
   "execution_count": 16,
   "metadata": {},
   "outputs": [],
   "source": [
    "features_train_0, features_valid_0 = df_0_train.drop('product', axis=1), df_0_valid.drop('product', axis=1)\n",
    "target_train_0, target_valid_0 = df_0_train['product'], df_0_valid['product']\n",
    "\n",
    "features_train_1, features_valid_1 = df_1_train.drop('product', axis=1), df_1_valid.drop('product', axis=1)\n",
    "target_train_1, target_valid_1 = df_1_train['product'], df_1_valid['product']\n",
    "\n",
    "features_train_2, features_valid_2 = df_2_train.drop('product', axis=1), df_2_valid.drop('product', axis=1)\n",
    "target_train_2, target_valid_2 = df_2_train['product'], df_2_valid['product']"
   ]
  },
  {
   "cell_type": "code",
   "execution_count": 17,
   "metadata": {},
   "outputs": [],
   "source": [
    "numeric = ['f0', 'f1', 'f2']"
   ]
  },
  {
   "cell_type": "code",
   "execution_count": 18,
   "metadata": {},
   "outputs": [
    {
     "data": {
      "text/plain": [
       "StandardScaler()"
      ]
     },
     "execution_count": 18,
     "metadata": {},
     "output_type": "execute_result"
    }
   ],
   "source": [
    "scaler = StandardScaler()\n",
    "scaler.fit(features_train_0[numeric])"
   ]
  },
  {
   "cell_type": "code",
   "execution_count": 19,
   "metadata": {},
   "outputs": [],
   "source": [
    "features_train_0[numeric] = scaler.transform(features_train_0[numeric])\n",
    "features_valid_0[numeric] = scaler.transform(features_valid_0[numeric])"
   ]
  },
  {
   "cell_type": "code",
   "execution_count": 20,
   "metadata": {
    "scrolled": true
   },
   "outputs": [
    {
     "data": {
      "text/html": [
       "<div>\n",
       "<style scoped>\n",
       "    .dataframe tbody tr th:only-of-type {\n",
       "        vertical-align: middle;\n",
       "    }\n",
       "\n",
       "    .dataframe tbody tr th {\n",
       "        vertical-align: top;\n",
       "    }\n",
       "\n",
       "    .dataframe thead th {\n",
       "        text-align: right;\n",
       "    }\n",
       "</style>\n",
       "<table border=\"1\" class=\"dataframe\">\n",
       "  <thead>\n",
       "    <tr style=\"text-align: right;\">\n",
       "      <th></th>\n",
       "      <th>f0</th>\n",
       "      <th>f1</th>\n",
       "      <th>f2</th>\n",
       "    </tr>\n",
       "  </thead>\n",
       "  <tbody>\n",
       "    <tr>\n",
       "      <th>27212</th>\n",
       "      <td>-0.544828</td>\n",
       "      <td>1.390264</td>\n",
       "      <td>-0.094959</td>\n",
       "    </tr>\n",
       "    <tr>\n",
       "      <th>7866</th>\n",
       "      <td>1.455912</td>\n",
       "      <td>-0.480422</td>\n",
       "      <td>1.209567</td>\n",
       "    </tr>\n",
       "    <tr>\n",
       "      <th>62041</th>\n",
       "      <td>0.260460</td>\n",
       "      <td>0.825069</td>\n",
       "      <td>-0.204865</td>\n",
       "    </tr>\n",
       "    <tr>\n",
       "      <th>70185</th>\n",
       "      <td>-1.837105</td>\n",
       "      <td>0.010321</td>\n",
       "      <td>-0.147634</td>\n",
       "    </tr>\n",
       "    <tr>\n",
       "      <th>82230</th>\n",
       "      <td>-1.299243</td>\n",
       "      <td>0.987558</td>\n",
       "      <td>1.273181</td>\n",
       "    </tr>\n",
       "  </tbody>\n",
       "</table>\n",
       "</div>"
      ],
      "text/plain": [
       "             f0        f1        f2\n",
       "27212 -0.544828  1.390264 -0.094959\n",
       "7866   1.455912 -0.480422  1.209567\n",
       "62041  0.260460  0.825069 -0.204865\n",
       "70185 -1.837105  0.010321 -0.147634\n",
       "82230 -1.299243  0.987558  1.273181"
      ]
     },
     "execution_count": 20,
     "metadata": {},
     "output_type": "execute_result"
    }
   ],
   "source": [
    "features_train_0.head()"
   ]
  },
  {
   "cell_type": "markdown",
   "metadata": {},
   "source": [
    "## Обучение и проверка модели"
   ]
  },
  {
   "cell_type": "markdown",
   "metadata": {},
   "source": [
    "Напишем функцию обучения модели линейной регрессии и предсказания размера запаса в скважине"
   ]
  },
  {
   "cell_type": "code",
   "execution_count": 21,
   "metadata": {},
   "outputs": [],
   "source": [
    "def lin_reg(features_train, target_train, features_valid):\n",
    "    model = LinearRegression()\n",
    "    model.fit(features_train, target_train)\n",
    "    predicted = model.predict(features_valid)   \n",
    "    return predicted"
   ]
  },
  {
   "cell_type": "code",
   "execution_count": 22,
   "metadata": {},
   "outputs": [],
   "source": [
    "predicted_0 = lin_reg(features_train_0, target_train_0, features_valid_0)\n",
    "predicted_1 = lin_reg(features_train_1, target_train_1, features_valid_1)\n",
    "predicted_2 = lin_reg(features_train_2, target_train_2, features_valid_2)"
   ]
  },
  {
   "cell_type": "markdown",
   "metadata": {},
   "source": [
    "Найдем средний запас сырья, средний запас предсказанного сырья и RMSE модели"
   ]
  },
  {
   "cell_type": "code",
   "execution_count": 23,
   "metadata": {},
   "outputs": [],
   "source": [
    "def find_answers(target_valid, predicted):\n",
    "    print('Средний запас сырья =', round(target_valid.mean(), 2))\n",
    "    print('Предсказанный средний запас сырья =', round(predicted.mean(), 2))\n",
    "    print(\"RMSE =\", round(mean_squared_error(target_valid, predicted) ** 0.5, 2)) "
   ]
  },
  {
   "cell_type": "code",
   "execution_count": 24,
   "metadata": {},
   "outputs": [
    {
     "name": "stdout",
     "output_type": "stream",
     "text": [
      "Средний запас сырья = 92.08\n",
      "Предсказанный средний запас сырья = 92.59\n",
      "RMSE = 37.58\n"
     ]
    }
   ],
   "source": [
    "find_answers(target_valid_0, predicted_0)"
   ]
  },
  {
   "cell_type": "code",
   "execution_count": 25,
   "metadata": {},
   "outputs": [
    {
     "name": "stdout",
     "output_type": "stream",
     "text": [
      "Средний запас сырья = 68.72\n",
      "Предсказанный средний запас сырья = 68.73\n",
      "RMSE = 0.89\n"
     ]
    }
   ],
   "source": [
    "find_answers(target_valid_1, predicted_1)"
   ]
  },
  {
   "cell_type": "code",
   "execution_count": 26,
   "metadata": {},
   "outputs": [
    {
     "name": "stdout",
     "output_type": "stream",
     "text": [
      "Средний запас сырья = 94.88\n",
      "Предсказанный средний запас сырья = 94.97\n",
      "RMSE = 40.03\n"
     ]
    }
   ],
   "source": [
    "find_answers(target_valid_2, predicted_2)"
   ]
  },
  {
   "cell_type": "markdown",
   "metadata": {},
   "source": [
    "Для предсказания мы использовали линейную модель регрессии. \n",
    "Самый большой средний объем запаса сырья в третьем регионе, в первом регионе запасов чуть меньше. При этом второй регион значительно выигрывает по показателю **RMSE**"
   ]
  },
  {
   "cell_type": "markdown",
   "metadata": {},
   "source": [
    "## Подготовка к расчёту прибыли"
   ]
  },
  {
   "cell_type": "markdown",
   "metadata": {},
   "source": [
    "При разведке региона исследуют 500 точек, из которых с помощью машинного обучения выбирают 200 лучших для разработки.\n",
    "Бюджет на разработку скважин в регионе — 10 млрд рублей.\n",
    "При нынешних ценах один баррель сырья приносит 450 рублей дохода. Доход с каждой единицы продукта составляет 450 тыс. рублей, поскольку объём указан в тысячах баррелей."
   ]
  },
  {
   "cell_type": "code",
   "execution_count": 27,
   "metadata": {},
   "outputs": [],
   "source": [
    "budget = 10000000000\n",
    "income = 450000\n",
    "dots = 200"
   ]
  },
  {
   "cell_type": "code",
   "execution_count": 28,
   "metadata": {},
   "outputs": [],
   "source": [
    "optimal_product = budget / income / dots"
   ]
  },
  {
   "cell_type": "code",
   "execution_count": 29,
   "metadata": {},
   "outputs": [
    {
     "name": "stdout",
     "output_type": "stream",
     "text": [
      "Объём сырья для безубыточной разработки новой скважины 111.11\n"
     ]
    }
   ],
   "source": [
    "print('Объём сырья для безубыточной разработки новой скважины', round(optimal_product,2))"
   ]
  },
  {
   "cell_type": "markdown",
   "metadata": {},
   "source": [
    "Рассчитаем прибыль с лучших 200 скважин в каждом регионе"
   ]
  },
  {
   "cell_type": "code",
   "execution_count": 30,
   "metadata": {},
   "outputs": [],
   "source": [
    "def profit(target_valid, predicted):\n",
    "    predicted_sort = pd.Series(predicted).sort_values(ascending=False)[:dots]\n",
    "    target_valid_sort = (target_valid.reset_index(drop = True)[predicted_sort.index])\n",
    "    sum_dots = target_valid_sort.sum() \n",
    "    profit = round((sum_dots * income) - budget,2)\n",
    "    return profit"
   ]
  },
  {
   "cell_type": "code",
   "execution_count": 31,
   "metadata": {},
   "outputs": [
    {
     "name": "stdout",
     "output_type": "stream",
     "text": [
      "3320826043.14\n",
      "2415086696.68\n",
      "2710349963.6\n"
     ]
    }
   ],
   "source": [
    "profit_0 = profit(target_valid_0, predicted_0)\n",
    "profit_1 = profit(target_valid_1, predicted_1)\n",
    "profit_2 = profit(target_valid_2, predicted_2)\n",
    "print(profit_0)\n",
    "print(profit_1)\n",
    "print(profit_2)"
   ]
  },
  {
   "cell_type": "markdown",
   "metadata": {},
   "source": [
    "Минимальное количество баррелей нефти для безубыточной разработки составило 111.11\n",
    "\n",
    "В тоже время максимальное средний объем в регионах равен 94.88. Самый низкий показатель среднего запаса сырья во втором регионе, но, при этом наша модель очень хорошо прогнозирует запасы скважин именно в этом регионе."
   ]
  },
  {
   "cell_type": "markdown",
   "metadata": {},
   "source": [
    "## Расчёт прибыли и рисков "
   ]
  },
  {
   "cell_type": "markdown",
   "metadata": {},
   "source": [
    "После оценки рисков нужно оставить лишь те регионы, в которых вероятность убытков меньше 2.5%. Среди них выбирают регион с наибольшей средней прибылью.\n",
    "Данные синтетические: детали контрактов и характеристики месторождений не разглашаются."
   ]
  },
  {
   "cell_type": "markdown",
   "metadata": {},
   "source": [
    "Напишем функцию, в которой сгенерируем 1000 выборок, чтобы найти распределение прибыли"
   ]
  },
  {
   "cell_type": "code",
   "execution_count": 32,
   "metadata": {},
   "outputs": [],
   "source": [
    "def confidence_interval(target, predicted):\n",
    "    state = np.random.RandomState(12345)\n",
    "\n",
    "    samples = []\n",
    "    for i in range(1000):\n",
    "        sample = pd.Series(predicted).sample(replace=True, random_state=state, n = 500)\n",
    "        samples.append(profit(target, sample))\n",
    "    samples = pd.Series(samples)\n",
    "    \n",
    "    return samples "
   ]
  },
  {
   "cell_type": "markdown",
   "metadata": {},
   "source": [
    "Напишем функции вычисляющие среднюю выручку, 95%-й доверительный интервал и риск убытков."
   ]
  },
  {
   "cell_type": "code",
   "execution_count": 49,
   "metadata": {},
   "outputs": [],
   "source": [
    "def mean_revenue(value):\n",
    "    print(\"Средняя выручка:\", round(value.mean(), 2))\n",
    "    \n",
    "def interval_95(value):\n",
    "    print(\"95%-й Доверительный интервал от\", round(value.quantile(0.025), 2), \"до\", round(value.quantile(0.975), 2))\n",
    "    \n",
    "def risk_of_loss(value):\n",
    "    print(\"Риск убытков:\", round(st.percentileofscore(value, 0),2), '%')"
   ]
  },
  {
   "cell_type": "code",
   "execution_count": 50,
   "metadata": {},
   "outputs": [],
   "source": [
    "interval_0 = confidence_interval(target_valid_0, predicted_0)\n",
    "interval_1 = confidence_interval(target_valid_1, predicted_1)\n",
    "interval_2 = confidence_interval(target_valid_2, predicted_2)"
   ]
  },
  {
   "cell_type": "code",
   "execution_count": 51,
   "metadata": {},
   "outputs": [
    {
     "name": "stdout",
     "output_type": "stream",
     "text": [
      "Средняя выручка: 396164984.8\n",
      "95%-й Доверительный интервал от -111215545.89 до 909766941.55\n",
      "Риск убытков: 6.9 %\n"
     ]
    }
   ],
   "source": [
    "mean_revenue(interval_0)\n",
    "interval_95(interval_0)\n",
    "risk_of_loss(interval_0)"
   ]
  },
  {
   "cell_type": "code",
   "execution_count": 52,
   "metadata": {},
   "outputs": [
    {
     "name": "stdout",
     "output_type": "stream",
     "text": [
      "Средняя выручка: 456045105.79\n",
      "95%-й Доверительный интервал от 33820509.4 до 852289453.86\n",
      "Риск убытков: 1.5 %\n"
     ]
    }
   ],
   "source": [
    "mean_revenue(interval_1)\n",
    "interval_95(interval_1)\n",
    "risk_of_loss(interval_1)"
   ]
  },
  {
   "cell_type": "code",
   "execution_count": 53,
   "metadata": {},
   "outputs": [
    {
     "name": "stdout",
     "output_type": "stream",
     "text": [
      "Средняя выручка: 404403866.57\n",
      "95%-й Доверительный интервал от -163350413.39 до 950359574.93\n",
      "Риск убытков: 7.6 %\n"
     ]
    }
   ],
   "source": [
    "mean_revenue(interval_2)\n",
    "interval_95(interval_2)\n",
    "risk_of_loss(interval_2)"
   ]
  },
  {
   "cell_type": "markdown",
   "metadata": {},
   "source": [
    "По предварительным оценкам второй регион не подходил под выбор для разработки скважин, так как средние запасы региона значительно ниже запасов в других регионах, а также он не подходит под условие безубыточности. Но при этом, применив технику Bootstrap с 1000 выборок, мы обнаружили, что данный регион единственных, подходящий под условия разработки (вероятность убытков меньше 2.5%). "
   ]
  },
  {
   "cell_type": "markdown",
   "metadata": {},
   "source": [
    "## Вывод"
   ]
  },
  {
   "cell_type": "markdown",
   "metadata": {},
   "source": [
    "- На первом этапе мы изучили содержимое таблиц, подготовили данные к работе, разбили данные на тестовую и валидационную выборки и масштабировали признаки. \n",
    "\n",
    "- Затем обучили модель методом линейной регрессии, нашли среднее количество добываемого сырья в каждом регионе и проверили качество модели. Предсказанный средний запас сырья в первом регионе = 92.59, во втором = 68.73, в третьем = 94.97, RMSE в первом регионе = 37.58, во втором = 0.89, в третьем = 40.03.\n",
    "\n",
    "- Далее мы нашли объём сырья для безубыточной разработки новой скважины равен 111.11, затем написали функцию подсчета прибыли для выбранных скважи\n",
    "\n",
    "- На следующем этапе написали функцию, в которой сгенерировали 1000 выборок, чтобы найти распределение прибыли, а также функции, вычисляющие среднюю выручку, 95%-й доверительный интервал и риск убытков. Мы обнаружили, что второй регион единственных, подходящий под условия разработки (вероятность убытков меньше 2.5%). Средняя выручка в нем = 456045105.79, доверительный интервал = от 33820509.4 до 852289453.86"
   ]
  },
  {
   "cell_type": "code",
   "execution_count": null,
   "metadata": {},
   "outputs": [],
   "source": []
  }
 ],
 "metadata": {
  "ExecuteTimeLog": [
   {
    "duration": 404,
    "start_time": "2022-10-23T16:23:01.222Z"
   },
   {
    "duration": 706,
    "start_time": "2022-10-23T16:23:50.422Z"
   },
   {
    "duration": 24,
    "start_time": "2022-10-23T16:24:01.295Z"
   },
   {
    "duration": 8,
    "start_time": "2022-10-23T16:24:07.367Z"
   },
   {
    "duration": 10,
    "start_time": "2022-10-23T16:24:11.573Z"
   },
   {
    "duration": 15,
    "start_time": "2022-10-23T16:24:36.084Z"
   },
   {
    "duration": 13,
    "start_time": "2022-10-23T16:24:45.092Z"
   },
   {
    "duration": 14,
    "start_time": "2022-10-23T16:24:48.236Z"
   },
   {
    "duration": 431,
    "start_time": "2022-10-26T14:47:36.754Z"
   },
   {
    "duration": 813,
    "start_time": "2022-10-26T14:47:37.187Z"
   },
   {
    "duration": 17,
    "start_time": "2022-10-26T14:47:38.002Z"
   },
   {
    "duration": 9,
    "start_time": "2022-10-26T14:47:38.022Z"
   },
   {
    "duration": 24,
    "start_time": "2022-10-26T14:47:38.033Z"
   },
   {
    "duration": 33,
    "start_time": "2022-10-26T14:47:38.059Z"
   },
   {
    "duration": 16,
    "start_time": "2022-10-26T14:47:38.094Z"
   },
   {
    "duration": 16,
    "start_time": "2022-10-26T14:47:38.111Z"
   },
   {
    "duration": 53,
    "start_time": "2022-10-26T15:40:03.865Z"
   },
   {
    "duration": 469,
    "start_time": "2022-10-26T15:40:10.248Z"
   },
   {
    "duration": 827,
    "start_time": "2022-10-26T15:40:10.718Z"
   },
   {
    "duration": 22,
    "start_time": "2022-10-26T15:40:11.547Z"
   },
   {
    "duration": 14,
    "start_time": "2022-10-26T15:40:11.572Z"
   },
   {
    "duration": 28,
    "start_time": "2022-10-26T15:40:11.588Z"
   },
   {
    "duration": 36,
    "start_time": "2022-10-26T15:40:11.618Z"
   },
   {
    "duration": 21,
    "start_time": "2022-10-26T15:40:11.657Z"
   },
   {
    "duration": 53,
    "start_time": "2022-10-26T15:40:11.680Z"
   },
   {
    "duration": 454,
    "start_time": "2022-10-26T15:40:38.934Z"
   },
   {
    "duration": 815,
    "start_time": "2022-10-26T15:40:39.390Z"
   },
   {
    "duration": 19,
    "start_time": "2022-10-26T15:40:40.207Z"
   },
   {
    "duration": 32,
    "start_time": "2022-10-26T15:40:40.229Z"
   },
   {
    "duration": 37,
    "start_time": "2022-10-26T15:40:40.263Z"
   },
   {
    "duration": 57,
    "start_time": "2022-10-26T15:40:40.301Z"
   },
   {
    "duration": 27,
    "start_time": "2022-10-26T15:40:40.360Z"
   },
   {
    "duration": 21,
    "start_time": "2022-10-26T15:40:40.389Z"
   },
   {
    "duration": 52,
    "start_time": "2022-10-26T15:40:55.122Z"
   },
   {
    "duration": 6,
    "start_time": "2022-10-26T15:41:00.137Z"
   },
   {
    "duration": 384,
    "start_time": "2022-10-26T15:41:02.905Z"
   },
   {
    "duration": 795,
    "start_time": "2022-10-26T15:41:03.913Z"
   },
   {
    "duration": 15,
    "start_time": "2022-10-26T15:41:05.136Z"
   },
   {
    "duration": 10,
    "start_time": "2022-10-26T15:41:05.704Z"
   },
   {
    "duration": 10,
    "start_time": "2022-10-26T15:41:06.112Z"
   },
   {
    "duration": 16,
    "start_time": "2022-10-26T15:41:06.433Z"
   },
   {
    "duration": 15,
    "start_time": "2022-10-26T15:41:06.671Z"
   },
   {
    "duration": 16,
    "start_time": "2022-10-26T15:41:06.871Z"
   },
   {
    "duration": 48,
    "start_time": "2022-10-26T15:41:12.189Z"
   },
   {
    "duration": 7,
    "start_time": "2022-10-26T15:41:15.390Z"
   },
   {
    "duration": 426,
    "start_time": "2022-10-26T15:41:53.673Z"
   },
   {
    "duration": 810,
    "start_time": "2022-10-26T15:41:54.101Z"
   },
   {
    "duration": 19,
    "start_time": "2022-10-26T15:41:54.913Z"
   },
   {
    "duration": 10,
    "start_time": "2022-10-26T15:41:54.934Z"
   },
   {
    "duration": 22,
    "start_time": "2022-10-26T15:41:54.946Z"
   },
   {
    "duration": 22,
    "start_time": "2022-10-26T15:41:54.970Z"
   },
   {
    "duration": 14,
    "start_time": "2022-10-26T15:41:54.994Z"
   },
   {
    "duration": 34,
    "start_time": "2022-10-26T15:41:55.010Z"
   },
   {
    "duration": 50,
    "start_time": "2022-10-26T15:42:06.014Z"
   },
   {
    "duration": 7,
    "start_time": "2022-10-26T15:42:13.108Z"
   },
   {
    "duration": 444,
    "start_time": "2022-10-26T15:42:45.256Z"
   },
   {
    "duration": 798,
    "start_time": "2022-10-26T15:42:45.702Z"
   },
   {
    "duration": 17,
    "start_time": "2022-10-26T15:42:46.502Z"
   },
   {
    "duration": 9,
    "start_time": "2022-10-26T15:42:46.522Z"
   },
   {
    "duration": 11,
    "start_time": "2022-10-26T15:42:46.533Z"
   },
   {
    "duration": 21,
    "start_time": "2022-10-26T15:42:46.546Z"
   },
   {
    "duration": 15,
    "start_time": "2022-10-26T15:42:46.568Z"
   },
   {
    "duration": 13,
    "start_time": "2022-10-26T15:42:46.585Z"
   },
   {
    "duration": 58,
    "start_time": "2022-10-26T15:54:56.365Z"
   },
   {
    "duration": 157,
    "start_time": "2022-10-26T15:55:24.388Z"
   },
   {
    "duration": 76,
    "start_time": "2022-10-26T15:57:25.346Z"
   },
   {
    "duration": 504,
    "start_time": "2022-10-26T15:57:31.020Z"
   },
   {
    "duration": 544,
    "start_time": "2022-10-26T15:57:31.527Z"
   },
   {
    "duration": 17,
    "start_time": "2022-10-26T15:57:32.072Z"
   },
   {
    "duration": 35,
    "start_time": "2022-10-26T15:57:32.092Z"
   },
   {
    "duration": 41,
    "start_time": "2022-10-26T15:57:32.130Z"
   },
   {
    "duration": 55,
    "start_time": "2022-10-26T15:57:32.173Z"
   },
   {
    "duration": 62,
    "start_time": "2022-10-26T15:57:32.231Z"
   },
   {
    "duration": 29,
    "start_time": "2022-10-26T15:57:32.294Z"
   },
   {
    "duration": 186,
    "start_time": "2022-10-26T15:57:32.325Z"
   },
   {
    "duration": 11,
    "start_time": "2022-10-26T15:57:32.514Z"
   },
   {
    "duration": 13,
    "start_time": "2022-10-26T15:57:58.871Z"
   },
   {
    "duration": 5,
    "start_time": "2022-10-26T15:58:39.780Z"
   },
   {
    "duration": 729,
    "start_time": "2022-10-26T15:59:52.190Z"
   },
   {
    "duration": 13,
    "start_time": "2022-10-26T15:59:58.726Z"
   },
   {
    "duration": 4,
    "start_time": "2022-10-26T16:00:27.578Z"
   },
   {
    "duration": 22,
    "start_time": "2022-10-26T16:00:57.968Z"
   },
   {
    "duration": 98,
    "start_time": "2022-10-26T17:32:09.918Z"
   },
   {
    "duration": 7,
    "start_time": "2022-10-26T17:32:21.108Z"
   },
   {
    "duration": 16,
    "start_time": "2022-10-26T17:33:09.986Z"
   },
   {
    "duration": 3,
    "start_time": "2022-10-26T17:33:49.837Z"
   },
   {
    "duration": 9,
    "start_time": "2022-10-26T17:33:57.278Z"
   },
   {
    "duration": 4,
    "start_time": "2022-10-26T17:34:14.387Z"
   },
   {
    "duration": 12,
    "start_time": "2022-10-26T17:34:20.418Z"
   },
   {
    "duration": 14,
    "start_time": "2022-10-26T17:34:29.194Z"
   },
   {
    "duration": 11,
    "start_time": "2022-10-26T17:34:46.737Z"
   },
   {
    "duration": 15,
    "start_time": "2022-10-26T17:35:24.398Z"
   },
   {
    "duration": 9,
    "start_time": "2022-10-26T17:35:35.708Z"
   },
   {
    "duration": 9,
    "start_time": "2022-10-26T17:35:52.092Z"
   },
   {
    "duration": 1130,
    "start_time": "2022-10-26T17:36:00.698Z"
   },
   {
    "duration": 417,
    "start_time": "2022-10-26T17:36:01.830Z"
   },
   {
    "duration": 16,
    "start_time": "2022-10-26T17:36:02.250Z"
   },
   {
    "duration": 28,
    "start_time": "2022-10-26T17:36:02.268Z"
   },
   {
    "duration": 17,
    "start_time": "2022-10-26T17:36:02.299Z"
   },
   {
    "duration": 29,
    "start_time": "2022-10-26T17:36:02.318Z"
   },
   {
    "duration": 13,
    "start_time": "2022-10-26T17:36:02.349Z"
   },
   {
    "duration": 15,
    "start_time": "2022-10-26T17:36:02.364Z"
   },
   {
    "duration": 175,
    "start_time": "2022-10-26T17:36:02.380Z"
   },
   {
    "duration": 14,
    "start_time": "2022-10-26T17:36:02.556Z"
   },
   {
    "duration": 36,
    "start_time": "2022-10-26T17:36:02.571Z"
   },
   {
    "duration": 33,
    "start_time": "2022-10-26T17:36:02.609Z"
   },
   {
    "duration": 64,
    "start_time": "2022-10-26T17:36:02.644Z"
   },
   {
    "duration": 20,
    "start_time": "2022-10-26T17:36:02.713Z"
   },
   {
    "duration": 65,
    "start_time": "2022-10-26T17:36:02.735Z"
   },
   {
    "duration": 15,
    "start_time": "2022-10-26T17:36:02.803Z"
   },
   {
    "duration": 32,
    "start_time": "2022-10-26T17:36:02.820Z"
   },
   {
    "duration": 15,
    "start_time": "2022-10-26T17:36:02.853Z"
   },
   {
    "duration": 32,
    "start_time": "2022-10-26T17:36:02.869Z"
   },
   {
    "duration": 20,
    "start_time": "2022-10-26T17:36:02.902Z"
   },
   {
    "duration": 13,
    "start_time": "2022-10-26T17:36:02.923Z"
   },
   {
    "duration": 23,
    "start_time": "2022-10-26T17:36:42.781Z"
   },
   {
    "duration": 117,
    "start_time": "2022-10-26T17:37:24.281Z"
   },
   {
    "duration": 3,
    "start_time": "2022-10-26T17:37:29.392Z"
   },
   {
    "duration": 21,
    "start_time": "2022-10-26T17:37:34.946Z"
   },
   {
    "duration": 15,
    "start_time": "2022-10-26T17:39:49.367Z"
   },
   {
    "duration": 3,
    "start_time": "2022-10-26T17:40:01.366Z"
   },
   {
    "duration": 15,
    "start_time": "2022-10-26T17:40:02.365Z"
   },
   {
    "duration": 7,
    "start_time": "2022-10-26T17:40:27.003Z"
   },
   {
    "duration": 14,
    "start_time": "2022-10-26T17:43:17.568Z"
   },
   {
    "duration": 14,
    "start_time": "2022-10-26T17:43:18.431Z"
   },
   {
    "duration": 3,
    "start_time": "2022-10-26T17:43:42.261Z"
   },
   {
    "duration": 14,
    "start_time": "2022-10-26T17:43:42.765Z"
   },
   {
    "duration": 3,
    "start_time": "2022-10-26T17:47:46.699Z"
   },
   {
    "duration": 3,
    "start_time": "2022-10-26T17:49:17.739Z"
   },
   {
    "duration": 15,
    "start_time": "2022-10-26T17:49:18.428Z"
   },
   {
    "duration": 83,
    "start_time": "2022-10-26T17:49:20.571Z"
   },
   {
    "duration": 5,
    "start_time": "2022-10-26T17:51:06.771Z"
   },
   {
    "duration": 10,
    "start_time": "2022-10-26T17:51:13.252Z"
   },
   {
    "duration": 5,
    "start_time": "2022-10-26T17:51:17.378Z"
   },
   {
    "duration": 3,
    "start_time": "2022-10-26T17:54:47.354Z"
   },
   {
    "duration": 7,
    "start_time": "2022-10-26T17:58:30.961Z"
   },
   {
    "duration": 9,
    "start_time": "2022-10-26T17:58:33.984Z"
   },
   {
    "duration": 8,
    "start_time": "2022-10-26T17:58:34.776Z"
   },
   {
    "duration": 4,
    "start_time": "2022-10-26T17:58:35.281Z"
   },
   {
    "duration": 5,
    "start_time": "2022-10-26T17:58:43.256Z"
   },
   {
    "duration": 4,
    "start_time": "2022-10-26T17:58:54.447Z"
   },
   {
    "duration": 1093,
    "start_time": "2022-10-27T16:40:40.717Z"
   },
   {
    "duration": 750,
    "start_time": "2022-10-27T16:40:41.812Z"
   },
   {
    "duration": 17,
    "start_time": "2022-10-27T16:40:42.563Z"
   },
   {
    "duration": 8,
    "start_time": "2022-10-27T16:40:42.582Z"
   },
   {
    "duration": 9,
    "start_time": "2022-10-27T16:40:42.592Z"
   },
   {
    "duration": 14,
    "start_time": "2022-10-27T16:40:42.609Z"
   },
   {
    "duration": 13,
    "start_time": "2022-10-27T16:40:42.625Z"
   },
   {
    "duration": 12,
    "start_time": "2022-10-27T16:40:42.640Z"
   },
   {
    "duration": 164,
    "start_time": "2022-10-27T16:40:42.654Z"
   },
   {
    "duration": 10,
    "start_time": "2022-10-27T16:40:42.820Z"
   },
   {
    "duration": 10,
    "start_time": "2022-10-27T16:40:42.832Z"
   },
   {
    "duration": 6,
    "start_time": "2022-10-27T16:40:42.843Z"
   },
   {
    "duration": 10,
    "start_time": "2022-10-27T16:40:42.851Z"
   },
   {
    "duration": 3,
    "start_time": "2022-10-27T16:40:42.862Z"
   },
   {
    "duration": 43,
    "start_time": "2022-10-27T16:40:42.866Z"
   },
   {
    "duration": 13,
    "start_time": "2022-10-27T16:40:42.910Z"
   },
   {
    "duration": 6,
    "start_time": "2022-10-27T16:40:42.924Z"
   },
   {
    "duration": 14,
    "start_time": "2022-10-27T16:40:42.932Z"
   },
   {
    "duration": 12,
    "start_time": "2022-10-27T16:40:42.948Z"
   },
   {
    "duration": 8,
    "start_time": "2022-10-27T16:40:42.961Z"
   },
   {
    "duration": 9,
    "start_time": "2022-10-27T16:40:42.970Z"
   },
   {
    "duration": 36,
    "start_time": "2022-10-27T16:40:42.980Z"
   },
   {
    "duration": 12,
    "start_time": "2022-10-27T16:40:43.018Z"
   },
   {
    "duration": 86,
    "start_time": "2022-10-27T16:40:43.032Z"
   },
   {
    "duration": 108,
    "start_time": "2022-10-27T16:40:43.208Z"
   },
   {
    "duration": 6,
    "start_time": "2022-10-27T16:40:43.318Z"
   },
   {
    "duration": 2,
    "start_time": "2022-10-27T16:55:52.737Z"
   },
   {
    "duration": 2,
    "start_time": "2022-10-27T16:57:48.538Z"
   },
   {
    "duration": 40,
    "start_time": "2022-10-27T16:58:33.292Z"
   },
   {
    "duration": 3,
    "start_time": "2022-10-27T16:58:51.300Z"
   },
   {
    "duration": 1248,
    "start_time": "2022-10-29T19:47:32.695Z"
   },
   {
    "duration": 1990,
    "start_time": "2022-10-29T19:47:33.945Z"
   },
   {
    "duration": 18,
    "start_time": "2022-10-29T19:47:35.937Z"
   },
   {
    "duration": 10,
    "start_time": "2022-10-29T19:47:35.957Z"
   },
   {
    "duration": 10,
    "start_time": "2022-10-29T19:47:35.969Z"
   },
   {
    "duration": 16,
    "start_time": "2022-10-29T19:47:35.980Z"
   },
   {
    "duration": 37,
    "start_time": "2022-10-29T19:47:35.998Z"
   },
   {
    "duration": 16,
    "start_time": "2022-10-29T19:47:36.037Z"
   },
   {
    "duration": 237,
    "start_time": "2022-10-29T19:47:36.054Z"
   },
   {
    "duration": 13,
    "start_time": "2022-10-29T19:47:36.294Z"
   },
   {
    "duration": 25,
    "start_time": "2022-10-29T19:47:36.309Z"
   },
   {
    "duration": 6,
    "start_time": "2022-10-29T19:47:36.336Z"
   },
   {
    "duration": 12,
    "start_time": "2022-10-29T19:47:36.343Z"
   },
   {
    "duration": 3,
    "start_time": "2022-10-29T19:47:36.358Z"
   },
   {
    "duration": 28,
    "start_time": "2022-10-29T19:47:36.363Z"
   },
   {
    "duration": 46,
    "start_time": "2022-10-29T19:47:36.393Z"
   },
   {
    "duration": 5,
    "start_time": "2022-10-29T19:47:36.440Z"
   },
   {
    "duration": 17,
    "start_time": "2022-10-29T19:47:36.447Z"
   },
   {
    "duration": 14,
    "start_time": "2022-10-29T19:47:36.465Z"
   },
   {
    "duration": 9,
    "start_time": "2022-10-29T19:47:36.481Z"
   },
   {
    "duration": 4,
    "start_time": "2022-10-29T19:47:36.524Z"
   },
   {
    "duration": 18,
    "start_time": "2022-10-29T19:47:36.529Z"
   },
   {
    "duration": 77,
    "start_time": "2022-10-29T19:47:36.549Z"
   },
   {
    "duration": 95,
    "start_time": "2022-10-29T19:47:36.631Z"
   },
   {
    "duration": 96,
    "start_time": "2022-10-29T19:47:36.728Z"
   },
   {
    "duration": 4,
    "start_time": "2022-10-29T19:47:36.826Z"
   },
   {
    "duration": 4,
    "start_time": "2022-10-29T19:47:36.832Z"
   },
   {
    "duration": 7,
    "start_time": "2022-10-29T19:47:36.839Z"
   },
   {
    "duration": 70,
    "start_time": "2022-10-29T19:47:36.848Z"
   },
   {
    "duration": 95,
    "start_time": "2022-10-29T19:47:48.031Z"
   },
   {
    "duration": 3,
    "start_time": "2022-10-29T19:47:50.780Z"
   },
   {
    "duration": 22,
    "start_time": "2022-10-29T20:13:16.905Z"
   },
   {
    "duration": 16,
    "start_time": "2022-10-29T20:14:45.462Z"
   },
   {
    "duration": 8,
    "start_time": "2022-10-30T07:02:00.260Z"
   },
   {
    "duration": 3,
    "start_time": "2022-10-30T07:23:09.746Z"
   },
   {
    "duration": 1187,
    "start_time": "2022-10-30T07:23:15.139Z"
   },
   {
    "duration": 800,
    "start_time": "2022-10-30T07:23:16.329Z"
   },
   {
    "duration": 16,
    "start_time": "2022-10-30T07:23:17.131Z"
   },
   {
    "duration": 11,
    "start_time": "2022-10-30T07:23:17.149Z"
   },
   {
    "duration": 12,
    "start_time": "2022-10-30T07:23:17.161Z"
   },
   {
    "duration": 19,
    "start_time": "2022-10-30T07:23:17.174Z"
   },
   {
    "duration": 39,
    "start_time": "2022-10-30T07:23:17.195Z"
   },
   {
    "duration": 21,
    "start_time": "2022-10-30T07:23:17.236Z"
   },
   {
    "duration": 198,
    "start_time": "2022-10-30T07:23:17.259Z"
   },
   {
    "duration": 12,
    "start_time": "2022-10-30T07:23:17.459Z"
   },
   {
    "duration": 16,
    "start_time": "2022-10-30T07:23:17.473Z"
   },
   {
    "duration": 6,
    "start_time": "2022-10-30T07:23:17.491Z"
   },
   {
    "duration": 15,
    "start_time": "2022-10-30T07:23:17.499Z"
   },
   {
    "duration": 18,
    "start_time": "2022-10-30T07:23:17.517Z"
   },
   {
    "duration": 23,
    "start_time": "2022-10-30T07:23:17.536Z"
   },
   {
    "duration": 15,
    "start_time": "2022-10-30T07:23:17.560Z"
   },
   {
    "duration": 18,
    "start_time": "2022-10-30T07:23:17.577Z"
   },
   {
    "duration": 17,
    "start_time": "2022-10-30T07:23:17.597Z"
   },
   {
    "duration": 21,
    "start_time": "2022-10-30T07:23:17.616Z"
   },
   {
    "duration": 8,
    "start_time": "2022-10-30T07:23:17.639Z"
   },
   {
    "duration": 4,
    "start_time": "2022-10-30T07:23:17.649Z"
   },
   {
    "duration": 5,
    "start_time": "2022-10-30T07:23:17.655Z"
   },
   {
    "duration": 6,
    "start_time": "2022-10-30T07:23:17.662Z"
   },
   {
    "duration": 16,
    "start_time": "2022-10-30T07:23:17.669Z"
   },
   {
    "duration": 51,
    "start_time": "2022-10-30T07:23:17.687Z"
   },
   {
    "duration": 100,
    "start_time": "2022-10-30T07:23:17.741Z"
   },
   {
    "duration": 191,
    "start_time": "2022-10-30T07:23:17.843Z"
   },
   {
    "duration": 4,
    "start_time": "2022-10-30T07:23:18.038Z"
   },
   {
    "duration": 5,
    "start_time": "2022-10-30T07:23:18.044Z"
   },
   {
    "duration": 5,
    "start_time": "2022-10-30T07:23:18.050Z"
   },
   {
    "duration": 5,
    "start_time": "2022-10-30T07:23:18.057Z"
   },
   {
    "duration": 12,
    "start_time": "2022-10-30T07:24:02.654Z"
   },
   {
    "duration": 4,
    "start_time": "2022-10-30T07:26:24.533Z"
   },
   {
    "duration": 2,
    "start_time": "2022-10-30T07:26:25.259Z"
   },
   {
    "duration": 13,
    "start_time": "2022-10-30T07:26:56.784Z"
   },
   {
    "duration": 16,
    "start_time": "2022-10-30T07:27:04.927Z"
   },
   {
    "duration": 20,
    "start_time": "2022-10-30T07:27:19.182Z"
   },
   {
    "duration": 20,
    "start_time": "2022-10-30T07:28:40.032Z"
   },
   {
    "duration": 3,
    "start_time": "2022-10-30T07:30:03.842Z"
   },
   {
    "duration": 2,
    "start_time": "2022-10-30T07:30:04.218Z"
   },
   {
    "duration": 29,
    "start_time": "2022-10-30T07:30:04.705Z"
   },
   {
    "duration": 3,
    "start_time": "2022-10-30T07:30:41.350Z"
   },
   {
    "duration": 3,
    "start_time": "2022-10-30T07:30:41.596Z"
   },
   {
    "duration": 14,
    "start_time": "2022-10-30T07:30:41.878Z"
   },
   {
    "duration": 4,
    "start_time": "2022-10-30T07:30:43.206Z"
   },
   {
    "duration": 3,
    "start_time": "2022-10-30T07:30:54.325Z"
   },
   {
    "duration": 14,
    "start_time": "2022-10-30T07:30:54.725Z"
   },
   {
    "duration": 1093,
    "start_time": "2022-10-30T07:32:19.729Z"
   },
   {
    "duration": 382,
    "start_time": "2022-10-30T07:32:20.824Z"
   },
   {
    "duration": 18,
    "start_time": "2022-10-30T07:32:21.207Z"
   },
   {
    "duration": 9,
    "start_time": "2022-10-30T07:32:21.233Z"
   },
   {
    "duration": 30,
    "start_time": "2022-10-30T07:32:21.243Z"
   },
   {
    "duration": 41,
    "start_time": "2022-10-30T07:32:21.274Z"
   },
   {
    "duration": 13,
    "start_time": "2022-10-30T07:32:21.317Z"
   },
   {
    "duration": 21,
    "start_time": "2022-10-30T07:32:21.332Z"
   },
   {
    "duration": 168,
    "start_time": "2022-10-30T07:32:21.354Z"
   },
   {
    "duration": 12,
    "start_time": "2022-10-30T07:32:21.536Z"
   },
   {
    "duration": 16,
    "start_time": "2022-10-30T07:32:21.550Z"
   },
   {
    "duration": 12,
    "start_time": "2022-10-30T07:32:21.567Z"
   },
   {
    "duration": 18,
    "start_time": "2022-10-30T07:32:21.581Z"
   },
   {
    "duration": 3,
    "start_time": "2022-10-30T07:32:21.601Z"
   },
   {
    "duration": 43,
    "start_time": "2022-10-30T07:32:21.606Z"
   },
   {
    "duration": 15,
    "start_time": "2022-10-30T07:32:21.651Z"
   },
   {
    "duration": 7,
    "start_time": "2022-10-30T07:32:21.668Z"
   },
   {
    "duration": 18,
    "start_time": "2022-10-30T07:32:21.677Z"
   },
   {
    "duration": 36,
    "start_time": "2022-10-30T07:32:21.697Z"
   },
   {
    "duration": 8,
    "start_time": "2022-10-30T07:32:21.735Z"
   },
   {
    "duration": 9,
    "start_time": "2022-10-30T07:32:21.745Z"
   },
   {
    "duration": 5,
    "start_time": "2022-10-30T07:32:21.756Z"
   },
   {
    "duration": 18,
    "start_time": "2022-10-30T07:32:21.762Z"
   },
   {
    "duration": 65,
    "start_time": "2022-10-30T07:32:21.782Z"
   },
   {
    "duration": 95,
    "start_time": "2022-10-30T07:32:21.849Z"
   },
   {
    "duration": 9,
    "start_time": "2022-10-30T07:32:21.945Z"
   },
   {
    "duration": 10,
    "start_time": "2022-10-30T07:32:21.956Z"
   },
   {
    "duration": 7,
    "start_time": "2022-10-30T07:32:21.969Z"
   },
   {
    "duration": 188,
    "start_time": "2022-10-30T07:46:07.848Z"
   },
   {
    "duration": 6,
    "start_time": "2022-10-30T07:48:57.408Z"
   },
   {
    "duration": 257,
    "start_time": "2022-10-30T07:49:05.079Z"
   },
   {
    "duration": 6,
    "start_time": "2022-10-30T07:49:05.614Z"
   },
   {
    "duration": 6,
    "start_time": "2022-10-30T07:49:11.815Z"
   },
   {
    "duration": 6,
    "start_time": "2022-10-30T07:50:34.833Z"
   },
   {
    "duration": 5,
    "start_time": "2022-10-30T07:50:53.263Z"
   },
   {
    "duration": 3,
    "start_time": "2022-10-30T07:51:16.692Z"
   },
   {
    "duration": 299,
    "start_time": "2022-10-30T07:51:17.036Z"
   },
   {
    "duration": 97,
    "start_time": "2022-10-30T07:51:17.338Z"
   },
   {
    "duration": 6,
    "start_time": "2022-10-30T07:51:18.109Z"
   },
   {
    "duration": 6,
    "start_time": "2022-10-30T07:51:18.516Z"
   },
   {
    "duration": 6,
    "start_time": "2022-10-30T07:51:52.996Z"
   },
   {
    "duration": 6,
    "start_time": "2022-10-30T07:52:18.433Z"
   },
   {
    "duration": 4,
    "start_time": "2022-10-30T07:56:19.047Z"
   },
   {
    "duration": 6,
    "start_time": "2022-10-30T07:56:48.770Z"
   },
   {
    "duration": 6,
    "start_time": "2022-10-30T07:57:07.801Z"
   },
   {
    "duration": 6,
    "start_time": "2022-10-30T07:57:08.816Z"
   },
   {
    "duration": 6,
    "start_time": "2022-10-30T07:57:10.704Z"
   },
   {
    "duration": 5,
    "start_time": "2022-10-30T07:57:10.892Z"
   },
   {
    "duration": 5,
    "start_time": "2022-10-30T07:57:11.272Z"
   },
   {
    "duration": 4,
    "start_time": "2022-10-30T07:58:30.674Z"
   },
   {
    "duration": 263,
    "start_time": "2022-10-30T07:58:47.050Z"
   },
   {
    "duration": 4,
    "start_time": "2022-10-30T07:59:20.823Z"
   },
   {
    "duration": 8,
    "start_time": "2022-10-30T07:59:21.343Z"
   },
   {
    "duration": 4,
    "start_time": "2022-10-30T07:59:33.381Z"
   },
   {
    "duration": 9,
    "start_time": "2022-10-30T07:59:34.341Z"
   },
   {
    "duration": 20,
    "start_time": "2022-10-30T08:00:25.905Z"
   },
   {
    "duration": 4,
    "start_time": "2022-10-30T08:00:42.512Z"
   },
   {
    "duration": 17,
    "start_time": "2022-10-30T08:00:43.056Z"
   },
   {
    "duration": 26,
    "start_time": "2022-10-30T08:00:43.496Z"
   },
   {
    "duration": 18,
    "start_time": "2022-10-30T08:00:43.951Z"
   },
   {
    "duration": 21,
    "start_time": "2022-10-30T08:01:09.198Z"
   },
   {
    "duration": 17,
    "start_time": "2022-10-30T08:01:11.046Z"
   },
   {
    "duration": 17,
    "start_time": "2022-10-30T08:01:11.251Z"
   },
   {
    "duration": 28,
    "start_time": "2022-10-30T08:01:11.528Z"
   },
   {
    "duration": 4,
    "start_time": "2022-10-30T08:01:44.507Z"
   },
   {
    "duration": 17,
    "start_time": "2022-10-30T08:01:44.763Z"
   },
   {
    "duration": 18,
    "start_time": "2022-10-30T08:01:45.050Z"
   },
   {
    "duration": 17,
    "start_time": "2022-10-30T08:01:45.427Z"
   },
   {
    "duration": 4,
    "start_time": "2022-10-30T10:13:22.224Z"
   },
   {
    "duration": 4,
    "start_time": "2022-10-30T10:13:22.582Z"
   },
   {
    "duration": 4,
    "start_time": "2022-10-30T10:13:49.592Z"
   },
   {
    "duration": 4,
    "start_time": "2022-10-30T10:14:57.831Z"
   },
   {
    "duration": 10,
    "start_time": "2022-10-30T10:15:37.213Z"
   },
   {
    "duration": 3,
    "start_time": "2022-10-30T10:16:10.546Z"
   },
   {
    "duration": 2,
    "start_time": "2022-10-30T10:16:24.682Z"
   },
   {
    "duration": 3,
    "start_time": "2022-10-30T10:17:04.471Z"
   },
   {
    "duration": 15,
    "start_time": "2022-10-30T10:17:14.637Z"
   },
   {
    "duration": 203,
    "start_time": "2022-10-30T10:17:32.533Z"
   },
   {
    "duration": 12,
    "start_time": "2022-10-30T10:17:45.978Z"
   },
   {
    "duration": 3,
    "start_time": "2022-10-30T10:18:01.741Z"
   },
   {
    "duration": 13,
    "start_time": "2022-10-30T10:18:05.537Z"
   },
   {
    "duration": 5,
    "start_time": "2022-10-30T10:18:36.380Z"
   },
   {
    "duration": 1019,
    "start_time": "2022-10-30T16:34:28.126Z"
   },
   {
    "duration": 2066,
    "start_time": "2022-10-30T16:34:29.147Z"
   },
   {
    "duration": 17,
    "start_time": "2022-10-30T16:34:31.215Z"
   },
   {
    "duration": 8,
    "start_time": "2022-10-30T16:34:31.234Z"
   },
   {
    "duration": 12,
    "start_time": "2022-10-30T16:34:31.244Z"
   },
   {
    "duration": 22,
    "start_time": "2022-10-30T16:34:31.258Z"
   },
   {
    "duration": 12,
    "start_time": "2022-10-30T16:34:31.282Z"
   },
   {
    "duration": 34,
    "start_time": "2022-10-30T16:34:31.296Z"
   },
   {
    "duration": 166,
    "start_time": "2022-10-30T16:34:31.332Z"
   },
   {
    "duration": 20,
    "start_time": "2022-10-30T16:34:31.502Z"
   },
   {
    "duration": 21,
    "start_time": "2022-10-30T16:34:31.524Z"
   },
   {
    "duration": 6,
    "start_time": "2022-10-30T16:34:31.547Z"
   },
   {
    "duration": 17,
    "start_time": "2022-10-30T16:34:31.555Z"
   },
   {
    "duration": 13,
    "start_time": "2022-10-30T16:34:31.573Z"
   },
   {
    "duration": 41,
    "start_time": "2022-10-30T16:34:31.588Z"
   },
   {
    "duration": 19,
    "start_time": "2022-10-30T16:34:31.630Z"
   },
   {
    "duration": 19,
    "start_time": "2022-10-30T16:34:31.650Z"
   },
   {
    "duration": 27,
    "start_time": "2022-10-30T16:34:31.671Z"
   },
   {
    "duration": 15,
    "start_time": "2022-10-30T16:34:31.699Z"
   },
   {
    "duration": 20,
    "start_time": "2022-10-30T16:34:31.715Z"
   },
   {
    "duration": 6,
    "start_time": "2022-10-30T16:34:31.737Z"
   },
   {
    "duration": 22,
    "start_time": "2022-10-30T16:34:31.745Z"
   },
   {
    "duration": 160,
    "start_time": "2022-10-30T16:34:31.768Z"
   },
   {
    "duration": 101,
    "start_time": "2022-10-30T16:34:31.930Z"
   },
   {
    "duration": 90,
    "start_time": "2022-10-30T16:34:32.033Z"
   },
   {
    "duration": 99,
    "start_time": "2022-10-30T16:34:32.127Z"
   },
   {
    "duration": 5,
    "start_time": "2022-10-30T16:34:32.228Z"
   },
   {
    "duration": 3,
    "start_time": "2022-10-30T16:34:32.237Z"
   },
   {
    "duration": 184,
    "start_time": "2022-10-30T16:34:32.241Z"
   },
   {
    "duration": 3,
    "start_time": "2022-10-30T16:34:32.427Z"
   },
   {
    "duration": 6,
    "start_time": "2022-10-30T16:34:32.523Z"
   },
   {
    "duration": 92,
    "start_time": "2022-10-30T16:34:32.531Z"
   },
   {
    "duration": 97,
    "start_time": "2022-10-30T16:34:32.625Z"
   },
   {
    "duration": 0,
    "start_time": "2022-10-30T16:34:32.724Z"
   },
   {
    "duration": 3,
    "start_time": "2022-10-30T16:36:01.697Z"
   },
   {
    "duration": 91,
    "start_time": "2022-10-30T16:37:06.538Z"
   },
   {
    "duration": 3,
    "start_time": "2022-10-30T16:37:29.518Z"
   },
   {
    "duration": 2,
    "start_time": "2022-10-30T16:38:21.739Z"
   },
   {
    "duration": 168,
    "start_time": "2022-10-30T16:38:21.954Z"
   },
   {
    "duration": 58,
    "start_time": "2022-10-30T16:38:22.266Z"
   },
   {
    "duration": 12,
    "start_time": "2022-10-30T16:38:22.642Z"
   },
   {
    "duration": 2,
    "start_time": "2022-10-30T16:38:54.993Z"
   },
   {
    "duration": 194,
    "start_time": "2022-10-30T16:38:55.328Z"
   },
   {
    "duration": 5,
    "start_time": "2022-10-30T16:38:55.625Z"
   },
   {
    "duration": 5,
    "start_time": "2022-10-30T16:38:56.536Z"
   },
   {
    "duration": 3,
    "start_time": "2022-10-30T16:39:16.151Z"
   },
   {
    "duration": 173,
    "start_time": "2022-10-30T16:39:16.350Z"
   },
   {
    "duration": 4,
    "start_time": "2022-10-30T16:39:16.622Z"
   },
   {
    "duration": 4,
    "start_time": "2022-10-30T16:39:16.759Z"
   },
   {
    "duration": 5,
    "start_time": "2022-10-30T16:39:17.222Z"
   },
   {
    "duration": 5,
    "start_time": "2022-10-30T16:39:17.541Z"
   },
   {
    "duration": 4,
    "start_time": "2022-10-30T16:49:27.169Z"
   },
   {
    "duration": 14,
    "start_time": "2022-10-30T16:49:42.174Z"
   },
   {
    "duration": 3,
    "start_time": "2022-10-30T16:49:45.246Z"
   },
   {
    "duration": 14,
    "start_time": "2022-10-30T16:49:45.798Z"
   },
   {
    "duration": 4,
    "start_time": "2022-10-30T16:50:48.992Z"
   },
   {
    "duration": 7,
    "start_time": "2022-10-30T16:50:49.321Z"
   },
   {
    "duration": 4,
    "start_time": "2022-10-30T16:51:11.008Z"
   },
   {
    "duration": 14,
    "start_time": "2022-10-30T16:51:11.229Z"
   },
   {
    "duration": 16,
    "start_time": "2022-10-30T16:58:32.981Z"
   },
   {
    "duration": 3,
    "start_time": "2022-10-30T16:58:35.341Z"
   },
   {
    "duration": 7,
    "start_time": "2022-10-30T16:58:35.684Z"
   },
   {
    "duration": 11,
    "start_time": "2022-10-30T16:58:39.643Z"
   },
   {
    "duration": 3,
    "start_time": "2022-10-30T17:00:18.573Z"
   },
   {
    "duration": 19,
    "start_time": "2022-10-30T17:00:26.028Z"
   },
   {
    "duration": 4,
    "start_time": "2022-10-30T17:00:56.898Z"
   },
   {
    "duration": 15,
    "start_time": "2022-10-30T17:00:57.385Z"
   },
   {
    "duration": 18,
    "start_time": "2022-10-30T17:01:11.672Z"
   },
   {
    "duration": 3,
    "start_time": "2022-10-30T17:01:33.399Z"
   },
   {
    "duration": 12,
    "start_time": "2022-10-30T17:01:33.839Z"
   },
   {
    "duration": 12,
    "start_time": "2022-10-30T17:01:48.990Z"
   },
   {
    "duration": 13,
    "start_time": "2022-10-30T17:01:57.413Z"
   },
   {
    "duration": 7,
    "start_time": "2022-10-30T17:02:20.883Z"
   },
   {
    "duration": 9,
    "start_time": "2022-10-30T17:02:26.106Z"
   },
   {
    "duration": 7,
    "start_time": "2022-10-30T17:02:29.939Z"
   },
   {
    "duration": 11,
    "start_time": "2022-10-30T17:02:38.713Z"
   },
   {
    "duration": 2,
    "start_time": "2022-10-30T17:03:25.086Z"
   },
   {
    "duration": 7,
    "start_time": "2022-10-30T17:03:27.765Z"
   },
   {
    "duration": 7,
    "start_time": "2022-10-30T17:03:43.334Z"
   },
   {
    "duration": 5,
    "start_time": "2022-10-30T17:03:53.837Z"
   },
   {
    "duration": 12,
    "start_time": "2022-10-30T17:04:13.458Z"
   },
   {
    "duration": 11,
    "start_time": "2022-10-30T17:06:41.934Z"
   },
   {
    "duration": 12,
    "start_time": "2022-10-30T17:07:01.478Z"
   },
   {
    "duration": 12,
    "start_time": "2022-10-30T17:09:25.139Z"
   },
   {
    "duration": 3,
    "start_time": "2022-10-30T17:09:44.288Z"
   },
   {
    "duration": 13,
    "start_time": "2022-10-30T17:09:44.728Z"
   },
   {
    "duration": 3,
    "start_time": "2022-10-30T18:56:18.192Z"
   },
   {
    "duration": 4,
    "start_time": "2022-10-30T18:56:30.807Z"
   },
   {
    "duration": 12,
    "start_time": "2022-10-30T18:57:31.219Z"
   },
   {
    "duration": 12,
    "start_time": "2022-10-30T18:58:02.256Z"
   },
   {
    "duration": 4,
    "start_time": "2022-10-30T18:58:24.269Z"
   },
   {
    "duration": 3,
    "start_time": "2022-10-30T18:58:24.613Z"
   },
   {
    "duration": 11,
    "start_time": "2022-10-30T18:58:25.134Z"
   },
   {
    "duration": 4,
    "start_time": "2022-10-30T18:58:38.141Z"
   },
   {
    "duration": 4,
    "start_time": "2022-10-30T18:58:38.347Z"
   },
   {
    "duration": 12,
    "start_time": "2022-10-30T18:58:38.788Z"
   },
   {
    "duration": 4,
    "start_time": "2022-10-30T18:59:50.184Z"
   },
   {
    "duration": 5,
    "start_time": "2022-10-30T18:59:50.615Z"
   },
   {
    "duration": 4,
    "start_time": "2022-10-30T19:01:26.654Z"
   },
   {
    "duration": 12,
    "start_time": "2022-10-30T19:01:27.671Z"
   },
   {
    "duration": 4,
    "start_time": "2022-10-30T19:02:09.012Z"
   },
   {
    "duration": 15,
    "start_time": "2022-10-30T19:02:09.931Z"
   },
   {
    "duration": 3,
    "start_time": "2022-10-30T19:02:21.899Z"
   },
   {
    "duration": 826,
    "start_time": "2022-10-30T19:02:22.763Z"
   },
   {
    "duration": 3,
    "start_time": "2022-10-30T19:02:36.203Z"
   },
   {
    "duration": 2422,
    "start_time": "2022-10-30T19:02:37.241Z"
   },
   {
    "duration": 6,
    "start_time": "2022-10-30T19:02:50.184Z"
   },
   {
    "duration": 16,
    "start_time": "2022-10-30T19:03:07.320Z"
   },
   {
    "duration": 3,
    "start_time": "2022-10-30T19:04:20.250Z"
   },
   {
    "duration": 7,
    "start_time": "2022-10-30T19:04:24.802Z"
   },
   {
    "duration": 6,
    "start_time": "2022-10-30T19:04:58.807Z"
   },
   {
    "duration": 5,
    "start_time": "2022-10-30T19:05:08.086Z"
   },
   {
    "duration": 3,
    "start_time": "2022-10-30T19:06:04.802Z"
   },
   {
    "duration": 4,
    "start_time": "2022-10-30T19:06:05.145Z"
   },
   {
    "duration": 2540,
    "start_time": "2022-10-30T19:06:05.474Z"
   },
   {
    "duration": 8,
    "start_time": "2022-10-30T19:06:08.016Z"
   },
   {
    "duration": 5,
    "start_time": "2022-10-30T19:06:08.161Z"
   },
   {
    "duration": 7,
    "start_time": "2022-10-30T19:06:09.417Z"
   },
   {
    "duration": 3,
    "start_time": "2022-10-30T19:34:41.148Z"
   },
   {
    "duration": 14,
    "start_time": "2022-10-30T19:34:41.324Z"
   },
   {
    "duration": 1028,
    "start_time": "2022-10-30T19:34:47.316Z"
   },
   {
    "duration": 333,
    "start_time": "2022-10-30T19:34:48.346Z"
   },
   {
    "duration": 15,
    "start_time": "2022-10-30T19:34:48.680Z"
   },
   {
    "duration": 8,
    "start_time": "2022-10-30T19:34:48.697Z"
   },
   {
    "duration": 20,
    "start_time": "2022-10-30T19:34:48.706Z"
   },
   {
    "duration": 19,
    "start_time": "2022-10-30T19:34:48.727Z"
   },
   {
    "duration": 10,
    "start_time": "2022-10-30T19:34:48.748Z"
   },
   {
    "duration": 16,
    "start_time": "2022-10-30T19:34:48.760Z"
   },
   {
    "duration": 137,
    "start_time": "2022-10-30T19:34:48.777Z"
   },
   {
    "duration": 11,
    "start_time": "2022-10-30T19:34:48.923Z"
   },
   {
    "duration": 10,
    "start_time": "2022-10-30T19:34:48.935Z"
   },
   {
    "duration": 9,
    "start_time": "2022-10-30T19:34:48.946Z"
   },
   {
    "duration": 13,
    "start_time": "2022-10-30T19:34:48.956Z"
   },
   {
    "duration": 4,
    "start_time": "2022-10-30T19:34:48.970Z"
   },
   {
    "duration": 23,
    "start_time": "2022-10-30T19:34:48.976Z"
   },
   {
    "duration": 27,
    "start_time": "2022-10-30T19:34:49.001Z"
   },
   {
    "duration": 6,
    "start_time": "2022-10-30T19:34:49.030Z"
   },
   {
    "duration": 17,
    "start_time": "2022-10-30T19:34:49.037Z"
   },
   {
    "duration": 10,
    "start_time": "2022-10-30T19:34:49.056Z"
   },
   {
    "duration": 8,
    "start_time": "2022-10-30T19:34:49.068Z"
   },
   {
    "duration": 4,
    "start_time": "2022-10-30T19:34:49.077Z"
   },
   {
    "duration": 140,
    "start_time": "2022-10-30T19:34:49.082Z"
   },
   {
    "duration": 5,
    "start_time": "2022-10-30T19:34:49.224Z"
   },
   {
    "duration": 94,
    "start_time": "2022-10-30T19:34:49.231Z"
   },
   {
    "duration": 5,
    "start_time": "2022-10-30T19:34:49.327Z"
   },
   {
    "duration": 7,
    "start_time": "2022-10-30T19:34:49.334Z"
   },
   {
    "duration": 3,
    "start_time": "2022-10-30T19:34:49.342Z"
   },
   {
    "duration": 4,
    "start_time": "2022-10-30T19:34:49.347Z"
   },
   {
    "duration": 11,
    "start_time": "2022-10-30T19:34:49.353Z"
   },
   {
    "duration": 13,
    "start_time": "2022-10-30T19:34:49.365Z"
   },
   {
    "duration": 20,
    "start_time": "2022-10-30T19:34:49.379Z"
   },
   {
    "duration": 4,
    "start_time": "2022-10-30T19:34:49.400Z"
   },
   {
    "duration": 18,
    "start_time": "2022-10-30T19:34:49.405Z"
   },
   {
    "duration": 2734,
    "start_time": "2022-10-30T19:34:49.424Z"
   },
   {
    "duration": 7,
    "start_time": "2022-10-30T19:34:52.160Z"
   },
   {
    "duration": 8,
    "start_time": "2022-10-30T19:34:52.168Z"
   },
   {
    "duration": 7,
    "start_time": "2022-10-30T19:34:52.178Z"
   },
   {
    "duration": 4,
    "start_time": "2022-10-30T19:35:31.993Z"
   },
   {
    "duration": 2815,
    "start_time": "2022-10-30T19:35:32.545Z"
   },
   {
    "duration": 8,
    "start_time": "2022-10-30T19:35:35.363Z"
   },
   {
    "duration": 7,
    "start_time": "2022-10-30T19:35:35.373Z"
   },
   {
    "duration": 6,
    "start_time": "2022-10-30T19:35:35.608Z"
   },
   {
    "duration": 3,
    "start_time": "2022-10-30T19:36:10.622Z"
   },
   {
    "duration": 2648,
    "start_time": "2022-10-30T19:36:11.045Z"
   },
   {
    "duration": 6,
    "start_time": "2022-10-30T19:36:13.695Z"
   },
   {
    "duration": 9,
    "start_time": "2022-10-30T19:36:13.702Z"
   },
   {
    "duration": 14,
    "start_time": "2022-10-30T19:36:13.712Z"
   },
   {
    "duration": 4,
    "start_time": "2022-10-30T19:36:33.053Z"
   },
   {
    "duration": 2687,
    "start_time": "2022-10-30T19:36:33.436Z"
   },
   {
    "duration": 10,
    "start_time": "2022-10-30T19:36:36.125Z"
   },
   {
    "duration": 12,
    "start_time": "2022-10-30T19:36:36.137Z"
   },
   {
    "duration": 12,
    "start_time": "2022-10-30T19:36:36.152Z"
   },
   {
    "duration": 4,
    "start_time": "2022-10-30T19:36:56.187Z"
   },
   {
    "duration": 2606,
    "start_time": "2022-10-30T19:36:56.498Z"
   },
   {
    "duration": 7,
    "start_time": "2022-10-30T19:36:59.106Z"
   },
   {
    "duration": 10,
    "start_time": "2022-10-30T19:36:59.123Z"
   },
   {
    "duration": 12,
    "start_time": "2022-10-30T19:36:59.135Z"
   },
   {
    "duration": 1068,
    "start_time": "2022-10-30T19:37:22.496Z"
   },
   {
    "duration": 365,
    "start_time": "2022-10-30T19:37:23.566Z"
   },
   {
    "duration": 15,
    "start_time": "2022-10-30T19:37:23.933Z"
   },
   {
    "duration": 9,
    "start_time": "2022-10-30T19:37:23.950Z"
   },
   {
    "duration": 13,
    "start_time": "2022-10-30T19:37:23.960Z"
   },
   {
    "duration": 17,
    "start_time": "2022-10-30T19:37:23.974Z"
   },
   {
    "duration": 29,
    "start_time": "2022-10-30T19:37:23.993Z"
   },
   {
    "duration": 13,
    "start_time": "2022-10-30T19:37:24.023Z"
   },
   {
    "duration": 170,
    "start_time": "2022-10-30T19:37:24.037Z"
   },
   {
    "duration": 18,
    "start_time": "2022-10-30T19:37:24.209Z"
   },
   {
    "duration": 14,
    "start_time": "2022-10-30T19:37:24.229Z"
   },
   {
    "duration": 13,
    "start_time": "2022-10-30T19:37:24.245Z"
   },
   {
    "duration": 12,
    "start_time": "2022-10-30T19:37:24.259Z"
   },
   {
    "duration": 3,
    "start_time": "2022-10-30T19:37:24.273Z"
   },
   {
    "duration": 21,
    "start_time": "2022-10-30T19:37:24.277Z"
   },
   {
    "duration": 30,
    "start_time": "2022-10-30T19:37:24.299Z"
   },
   {
    "duration": 7,
    "start_time": "2022-10-30T19:37:24.330Z"
   },
   {
    "duration": 18,
    "start_time": "2022-10-30T19:37:24.338Z"
   },
   {
    "duration": 16,
    "start_time": "2022-10-30T19:37:24.358Z"
   },
   {
    "duration": 7,
    "start_time": "2022-10-30T19:37:24.376Z"
   },
   {
    "duration": 4,
    "start_time": "2022-10-30T19:37:24.385Z"
   },
   {
    "duration": 137,
    "start_time": "2022-10-30T19:37:24.391Z"
   },
   {
    "duration": 4,
    "start_time": "2022-10-30T19:37:24.529Z"
   },
   {
    "duration": 88,
    "start_time": "2022-10-30T19:37:24.534Z"
   },
   {
    "duration": 104,
    "start_time": "2022-10-30T19:37:24.624Z"
   },
   {
    "duration": 13,
    "start_time": "2022-10-30T19:37:24.731Z"
   },
   {
    "duration": 6,
    "start_time": "2022-10-30T19:37:24.746Z"
   },
   {
    "duration": 14,
    "start_time": "2022-10-30T19:37:24.755Z"
   },
   {
    "duration": 7,
    "start_time": "2022-10-30T19:37:24.770Z"
   },
   {
    "duration": 6,
    "start_time": "2022-10-30T19:37:24.778Z"
   },
   {
    "duration": 23,
    "start_time": "2022-10-30T19:37:24.786Z"
   },
   {
    "duration": 16,
    "start_time": "2022-10-30T19:37:24.811Z"
   },
   {
    "duration": 12,
    "start_time": "2022-10-30T19:37:24.829Z"
   },
   {
    "duration": 122,
    "start_time": "2022-10-30T19:37:24.843Z"
   },
   {
    "duration": 0,
    "start_time": "2022-10-30T19:37:24.967Z"
   },
   {
    "duration": 0,
    "start_time": "2022-10-30T19:37:24.968Z"
   },
   {
    "duration": 0,
    "start_time": "2022-10-30T19:37:24.969Z"
   },
   {
    "duration": 1011,
    "start_time": "2022-10-30T19:37:44.350Z"
   },
   {
    "duration": 335,
    "start_time": "2022-10-30T19:37:45.363Z"
   },
   {
    "duration": 15,
    "start_time": "2022-10-30T19:37:45.699Z"
   },
   {
    "duration": 8,
    "start_time": "2022-10-30T19:37:45.722Z"
   },
   {
    "duration": 18,
    "start_time": "2022-10-30T19:37:45.732Z"
   },
   {
    "duration": 30,
    "start_time": "2022-10-30T19:37:45.751Z"
   },
   {
    "duration": 28,
    "start_time": "2022-10-30T19:37:45.783Z"
   },
   {
    "duration": 14,
    "start_time": "2022-10-30T19:37:45.812Z"
   },
   {
    "duration": 176,
    "start_time": "2022-10-30T19:37:45.828Z"
   },
   {
    "duration": 22,
    "start_time": "2022-10-30T19:37:46.007Z"
   },
   {
    "duration": 46,
    "start_time": "2022-10-30T19:37:46.030Z"
   },
   {
    "duration": 46,
    "start_time": "2022-10-30T19:37:46.078Z"
   },
   {
    "duration": 34,
    "start_time": "2022-10-30T19:37:46.126Z"
   },
   {
    "duration": 3,
    "start_time": "2022-10-30T19:37:46.163Z"
   },
   {
    "duration": 40,
    "start_time": "2022-10-30T19:37:46.168Z"
   },
   {
    "duration": 15,
    "start_time": "2022-10-30T19:37:46.210Z"
   },
   {
    "duration": 22,
    "start_time": "2022-10-30T19:37:46.227Z"
   },
   {
    "duration": 26,
    "start_time": "2022-10-30T19:37:46.251Z"
   },
   {
    "duration": 22,
    "start_time": "2022-10-30T19:37:46.279Z"
   },
   {
    "duration": 14,
    "start_time": "2022-10-30T19:37:46.303Z"
   },
   {
    "duration": 18,
    "start_time": "2022-10-30T19:37:46.319Z"
   },
   {
    "duration": 94,
    "start_time": "2022-10-30T19:37:46.339Z"
   },
   {
    "duration": 89,
    "start_time": "2022-10-30T19:37:46.435Z"
   },
   {
    "duration": 111,
    "start_time": "2022-10-30T19:37:46.526Z"
   },
   {
    "duration": 12,
    "start_time": "2022-10-30T19:37:46.639Z"
   },
   {
    "duration": 13,
    "start_time": "2022-10-30T19:37:46.652Z"
   },
   {
    "duration": 10,
    "start_time": "2022-10-30T19:37:46.666Z"
   },
   {
    "duration": 9,
    "start_time": "2022-10-30T19:37:46.679Z"
   },
   {
    "duration": 17,
    "start_time": "2022-10-30T19:37:46.689Z"
   },
   {
    "duration": 17,
    "start_time": "2022-10-30T19:37:46.708Z"
   },
   {
    "duration": 33,
    "start_time": "2022-10-30T19:37:46.726Z"
   },
   {
    "duration": 18,
    "start_time": "2022-10-30T19:37:46.760Z"
   },
   {
    "duration": 21,
    "start_time": "2022-10-30T19:37:46.780Z"
   },
   {
    "duration": 2532,
    "start_time": "2022-10-30T19:37:46.802Z"
   },
   {
    "duration": 7,
    "start_time": "2022-10-30T19:37:49.335Z"
   },
   {
    "duration": 8,
    "start_time": "2022-10-30T19:37:49.344Z"
   },
   {
    "duration": 9,
    "start_time": "2022-10-30T19:37:49.354Z"
   },
   {
    "duration": 4,
    "start_time": "2022-10-30T20:20:07.026Z"
   },
   {
    "duration": 2593,
    "start_time": "2022-10-30T20:20:07.432Z"
   },
   {
    "duration": 6,
    "start_time": "2022-10-30T20:20:10.027Z"
   },
   {
    "duration": 15,
    "start_time": "2022-10-30T20:20:10.035Z"
   },
   {
    "duration": 8,
    "start_time": "2022-10-30T20:20:10.052Z"
   },
   {
    "duration": 3,
    "start_time": "2022-10-30T20:22:10.544Z"
   },
   {
    "duration": 2710,
    "start_time": "2022-10-30T20:22:10.895Z"
   },
   {
    "duration": 97,
    "start_time": "2022-10-30T20:22:13.607Z"
   },
   {
    "duration": 0,
    "start_time": "2022-10-30T20:22:13.705Z"
   },
   {
    "duration": 0,
    "start_time": "2022-10-30T20:22:13.706Z"
   },
   {
    "duration": 3,
    "start_time": "2022-10-30T20:22:40.502Z"
   },
   {
    "duration": 2665,
    "start_time": "2022-10-30T20:22:40.844Z"
   },
   {
    "duration": 16,
    "start_time": "2022-10-30T20:22:43.511Z"
   },
   {
    "duration": 0,
    "start_time": "2022-10-30T20:22:43.529Z"
   },
   {
    "duration": 0,
    "start_time": "2022-10-30T20:22:43.530Z"
   },
   {
    "duration": 3,
    "start_time": "2022-10-30T20:22:49.492Z"
   },
   {
    "duration": 2895,
    "start_time": "2022-10-30T20:22:49.717Z"
   },
   {
    "duration": 11,
    "start_time": "2022-10-30T20:22:52.614Z"
   },
   {
    "duration": 7,
    "start_time": "2022-10-30T20:22:52.627Z"
   },
   {
    "duration": 9,
    "start_time": "2022-10-30T20:22:52.637Z"
   }
  ],
  "kernelspec": {
   "display_name": "Python 3 (ipykernel)",
   "language": "python",
   "name": "python3"
  },
  "language_info": {
   "codemirror_mode": {
    "name": "ipython",
    "version": 3
   },
   "file_extension": ".py",
   "mimetype": "text/x-python",
   "name": "python",
   "nbconvert_exporter": "python",
   "pygments_lexer": "ipython3",
   "version": "3.9.5"
  },
  "toc": {
   "base_numbering": 1,
   "nav_menu": {},
   "number_sections": true,
   "sideBar": true,
   "skip_h1_title": true,
   "title_cell": "Table of Contents",
   "title_sidebar": "Contents",
   "toc_cell": false,
   "toc_position": {
    "height": "calc(100% - 180px)",
    "left": "10px",
    "top": "150px",
    "width": "366.188px"
   },
   "toc_section_display": true,
   "toc_window_display": true
  }
 },
 "nbformat": 4,
 "nbformat_minor": 2
}
