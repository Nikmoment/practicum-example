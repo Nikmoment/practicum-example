{
 "cells": [
  {
   "cell_type": "markdown",
   "metadata": {},
   "source": [
    "# Рекомендация тарифов"
   ]
  },
  {
   "cell_type": "markdown",
   "metadata": {},
   "source": [
    "Оператор мобильной связи «Мегалайн» выяснил: многие клиенты пользуются архивными тарифами. Они хотят построить систему, способную проанализировать поведение клиентов и предложить пользователям новый тариф: `«Смарт»` или `«Ультра»`.\n",
    "\n",
    "В нашем распоряжении данные о поведении клиентов, которые уже перешли на эти тарифы.\n",
    "\n",
    "**Цель исследования:** Построить модель для задачи классификации, которая выберет подходящий тариф. При этом, доля правильных ответов должна быть не менее 0.75.\n",
    "\n",
    "**Ход исследования:** \n",
    "- Откроем предложенный датасет и познакомимся с общей информацией;\n",
    "- Разделим исходные данные на обучающую, валидационную и тестовую выборки;\n",
    "- Исследуем качество разных моделей, меняя гиперпараметры;\n",
    "- Проверьте качество модели на тестовой выборке."
   ]
  },
  {
   "cell_type": "markdown",
   "metadata": {},
   "source": [
    "## Изучение файла"
   ]
  },
  {
   "cell_type": "markdown",
   "metadata": {},
   "source": [
    "Импортируем необходимые библиотеки"
   ]
  },
  {
   "cell_type": "code",
   "execution_count": 1,
   "metadata": {},
   "outputs": [],
   "source": [
    "import pandas as pd\n",
    "from sklearn.model_selection import train_test_split \n",
    "from sklearn.tree import DecisionTreeClassifier \n",
    "from sklearn.ensemble import RandomForestClassifier\n",
    "from sklearn.linear_model import LogisticRegression \n",
    "from sklearn.metrics import accuracy_score "
   ]
  },
  {
   "cell_type": "markdown",
   "metadata": {},
   "source": [
    "Прочитайте файлs формата .csv из папки /datasets и сохраним их в переменной df"
   ]
  },
  {
   "cell_type": "code",
   "execution_count": 2,
   "metadata": {},
   "outputs": [],
   "source": [
    "df = pd.read_csv('/datasets/users_behavior.csv')"
   ]
  },
  {
   "cell_type": "markdown",
   "metadata": {},
   "source": [
    "Выведем на экран первые 5 строк таблицs, а также посмотрим общую информацию"
   ]
  },
  {
   "cell_type": "code",
   "execution_count": 3,
   "metadata": {},
   "outputs": [
    {
     "data": {
      "text/html": [
       "<div>\n",
       "<style scoped>\n",
       "    .dataframe tbody tr th:only-of-type {\n",
       "        vertical-align: middle;\n",
       "    }\n",
       "\n",
       "    .dataframe tbody tr th {\n",
       "        vertical-align: top;\n",
       "    }\n",
       "\n",
       "    .dataframe thead th {\n",
       "        text-align: right;\n",
       "    }\n",
       "</style>\n",
       "<table border=\"1\" class=\"dataframe\">\n",
       "  <thead>\n",
       "    <tr style=\"text-align: right;\">\n",
       "      <th></th>\n",
       "      <th>calls</th>\n",
       "      <th>minutes</th>\n",
       "      <th>messages</th>\n",
       "      <th>mb_used</th>\n",
       "      <th>is_ultra</th>\n",
       "    </tr>\n",
       "  </thead>\n",
       "  <tbody>\n",
       "    <tr>\n",
       "      <th>0</th>\n",
       "      <td>40.0</td>\n",
       "      <td>311.90</td>\n",
       "      <td>83.0</td>\n",
       "      <td>19915.42</td>\n",
       "      <td>0</td>\n",
       "    </tr>\n",
       "    <tr>\n",
       "      <th>1</th>\n",
       "      <td>85.0</td>\n",
       "      <td>516.75</td>\n",
       "      <td>56.0</td>\n",
       "      <td>22696.96</td>\n",
       "      <td>0</td>\n",
       "    </tr>\n",
       "    <tr>\n",
       "      <th>2</th>\n",
       "      <td>77.0</td>\n",
       "      <td>467.66</td>\n",
       "      <td>86.0</td>\n",
       "      <td>21060.45</td>\n",
       "      <td>0</td>\n",
       "    </tr>\n",
       "    <tr>\n",
       "      <th>3</th>\n",
       "      <td>106.0</td>\n",
       "      <td>745.53</td>\n",
       "      <td>81.0</td>\n",
       "      <td>8437.39</td>\n",
       "      <td>1</td>\n",
       "    </tr>\n",
       "    <tr>\n",
       "      <th>4</th>\n",
       "      <td>66.0</td>\n",
       "      <td>418.74</td>\n",
       "      <td>1.0</td>\n",
       "      <td>14502.75</td>\n",
       "      <td>0</td>\n",
       "    </tr>\n",
       "  </tbody>\n",
       "</table>\n",
       "</div>"
      ],
      "text/plain": [
       "   calls  minutes  messages   mb_used  is_ultra\n",
       "0   40.0   311.90      83.0  19915.42         0\n",
       "1   85.0   516.75      56.0  22696.96         0\n",
       "2   77.0   467.66      86.0  21060.45         0\n",
       "3  106.0   745.53      81.0   8437.39         1\n",
       "4   66.0   418.74       1.0  14502.75         0"
      ]
     },
     "execution_count": 3,
     "metadata": {},
     "output_type": "execute_result"
    }
   ],
   "source": [
    "df.head()"
   ]
  },
  {
   "cell_type": "code",
   "execution_count": 4,
   "metadata": {},
   "outputs": [
    {
     "name": "stdout",
     "output_type": "stream",
     "text": [
      "<class 'pandas.core.frame.DataFrame'>\n",
      "RangeIndex: 3214 entries, 0 to 3213\n",
      "Data columns (total 5 columns):\n",
      " #   Column    Non-Null Count  Dtype  \n",
      "---  ------    --------------  -----  \n",
      " 0   calls     3214 non-null   float64\n",
      " 1   minutes   3214 non-null   float64\n",
      " 2   messages  3214 non-null   float64\n",
      " 3   mb_used   3214 non-null   float64\n",
      " 4   is_ultra  3214 non-null   int64  \n",
      "dtypes: float64(4), int64(1)\n",
      "memory usage: 125.7 KB\n"
     ]
    }
   ],
   "source": [
    "df.info()"
   ]
  },
  {
   "cell_type": "markdown",
   "metadata": {},
   "source": [
    "В таблице присутствуют пять столбцов. Четыре стобца имеют тип данных `float`, один тип данных `int`."
   ]
  },
  {
   "cell_type": "markdown",
   "metadata": {},
   "source": [
    "Согласно документации к данным:"
   ]
  },
  {
   "cell_type": "markdown",
   "metadata": {},
   "source": [
    "- `сalls` — количество звонков,\n",
    "- `minutes` — суммарная длительность звонков в минутах,\n",
    "- `messages` — количество sms-сообщений,\n",
    "- `mb_used` — израсходованный интернет-трафик в Мб,\n",
    "- `is_ultra` — каким тарифом пользовался в течение месяца («Ультра» — 1, «Смарт» — 0)."
   ]
  },
  {
   "cell_type": "markdown",
   "metadata": {},
   "source": [
    "## Разбитие данных на выборки"
   ]
  },
  {
   "cell_type": "markdown",
   "metadata": {},
   "source": [
    "Разобьем данные на три части: обучающую, валидационную и тестовую. Обучающая выборка нужна нам для обучения модели. Валидация подсказывает, как ведёт себя модель в полевых условиях и нет ли переобучения, возможно какие-то параметры стоит изменить. Тестовая выборка нужна нам, чтобы правильно оценить готовую модель."
   ]
  },
  {
   "cell_type": "markdown",
   "metadata": {},
   "source": [
    "Размеры валидационного и тестового наборов определим как равные. Исходные данные разобьем в соотношении 3:1:1."
   ]
  },
  {
   "cell_type": "code",
   "execution_count": 5,
   "metadata": {},
   "outputs": [
    {
     "data": {
      "text/plain": [
       "(3214, 5)"
      ]
     },
     "execution_count": 5,
     "metadata": {},
     "output_type": "execute_result"
    }
   ],
   "source": [
    "df.shape # изучим размер исходной таблицы"
   ]
  },
  {
   "cell_type": "code",
   "execution_count": 6,
   "metadata": {},
   "outputs": [],
   "source": [
    "df_train, df_valid_test = train_test_split(df, test_size=0.4, random_state=12345) # обучающая=0.6, валид + тест = 0.4\n",
    "df_valid, df_test = train_test_split(df_valid_test, test_size=0.5, random_state=12345) # валид и тест модели делим пополам"
   ]
  },
  {
   "cell_type": "markdown",
   "metadata": {},
   "source": [
    "Проверим размеры выборок, чтобы проверить в правильном ли соотношении они распределены."
   ]
  },
  {
   "cell_type": "code",
   "execution_count": 7,
   "metadata": {},
   "outputs": [
    {
     "data": {
      "text/plain": [
       "(1928, 5)"
      ]
     },
     "execution_count": 7,
     "metadata": {},
     "output_type": "execute_result"
    }
   ],
   "source": [
    "df_train.shape"
   ]
  },
  {
   "cell_type": "code",
   "execution_count": 8,
   "metadata": {},
   "outputs": [
    {
     "data": {
      "text/plain": [
       "(643, 5)"
      ]
     },
     "execution_count": 8,
     "metadata": {},
     "output_type": "execute_result"
    }
   ],
   "source": [
    "df_valid.shape"
   ]
  },
  {
   "cell_type": "code",
   "execution_count": 9,
   "metadata": {},
   "outputs": [
    {
     "data": {
      "text/plain": [
       "(643, 5)"
      ]
     },
     "execution_count": 9,
     "metadata": {},
     "output_type": "execute_result"
    }
   ],
   "source": [
    "df_test.shape"
   ]
  },
  {
   "cell_type": "markdown",
   "metadata": {},
   "source": [
    "## Исследование моделей"
   ]
  },
  {
   "cell_type": "markdown",
   "metadata": {},
   "source": [
    "### Решающее дерево"
   ]
  },
  {
   "cell_type": "markdown",
   "metadata": {},
   "source": [
    "Исследуем первую модель: `решающее дерево`. В ней выстраивается дерево с ответами «Да»/«Нет» и различными вариантами действий. "
   ]
  },
  {
   "cell_type": "markdown",
   "metadata": {},
   "source": [
    "Обучающий и валидационный набор данных сохраним в переменных."
   ]
  },
  {
   "cell_type": "code",
   "execution_count": 10,
   "metadata": {},
   "outputs": [],
   "source": [
    "features_train = df_train.drop(['is_ultra'], axis=1) # признаки\n",
    "target_train = df_train['is_ultra'] # целевой признак"
   ]
  },
  {
   "cell_type": "code",
   "execution_count": 11,
   "metadata": {},
   "outputs": [],
   "source": [
    "features_valid = df_valid.drop(['is_ultra'], axis=1) \n",
    "target_valid = df_valid['is_ultra']  "
   ]
  },
  {
   "cell_type": "markdown",
   "metadata": {},
   "source": [
    "Создаём объект этой структуры данных. В переменной model будет храниться модель."
   ]
  },
  {
   "cell_type": "code",
   "execution_count": 12,
   "metadata": {},
   "outputs": [],
   "source": [
    "model = DecisionTreeClassifier() "
   ]
  },
  {
   "cell_type": "code",
   "execution_count": 13,
   "metadata": {},
   "outputs": [],
   "source": [
    "model.fit(features_train, target_train) # выполняем обучение \n",
    "train_predictions = model.predict(features_train) # предсказание"
   ]
  },
  {
   "cell_type": "markdown",
   "metadata": {},
   "source": [
    "Возьмём валидационную выборку. Проверим, как модель справится."
   ]
  },
  {
   "cell_type": "code",
   "execution_count": 14,
   "metadata": {},
   "outputs": [],
   "source": [
    "valid_predictions = model.predict(features_valid)"
   ]
  },
  {
   "cell_type": "markdown",
   "metadata": {},
   "source": [
    "Основной метрикой качества модели является отношение числа правильных ответов к размеру тестируемой выборки и называется `accuracy`."
   ]
  },
  {
   "cell_type": "code",
   "execution_count": 15,
   "metadata": {},
   "outputs": [
    {
     "data": {
      "text/plain": [
       "1.0"
      ]
     },
     "execution_count": 15,
     "metadata": {},
     "output_type": "execute_result"
    }
   ],
   "source": [
    "accuracy_score(target_train, train_predictions) "
   ]
  },
  {
   "cell_type": "code",
   "execution_count": 16,
   "metadata": {},
   "outputs": [
    {
     "data": {
      "text/plain": [
       "0.7216174183514774"
      ]
     },
     "execution_count": 16,
     "metadata": {},
     "output_type": "execute_result"
    }
   ],
   "source": [
    "accuracy_score(target_valid, valid_predictions) "
   ]
  },
  {
   "cell_type": "markdown",
   "metadata": {},
   "source": [
    "Модель идеально объясняла примеры из обучающего набора данных, но в валидационной выборке результат снизился. Это свидетельствует о проблеме переобучения. Попробуем изменить глубину дерева (максимальное количество условий от «вершины» до финального ответа)."
   ]
  },
  {
   "cell_type": "code",
   "execution_count": 17,
   "metadata": {},
   "outputs": [],
   "source": [
    "model = DecisionTreeClassifier(random_state=12345, max_depth=3)\n",
    "model.fit(features_train, target_train) \n",
    "train_predictions = model.predict(features_train)"
   ]
  },
  {
   "cell_type": "code",
   "execution_count": 18,
   "metadata": {},
   "outputs": [],
   "source": [
    "valid_predictions = model.predict(features_valid)"
   ]
  },
  {
   "cell_type": "code",
   "execution_count": 19,
   "metadata": {},
   "outputs": [
    {
     "data": {
      "text/plain": [
       "0.8075726141078838"
      ]
     },
     "execution_count": 19,
     "metadata": {},
     "output_type": "execute_result"
    }
   ],
   "source": [
    "accuracy_score(target_train, train_predictions) "
   ]
  },
  {
   "cell_type": "code",
   "execution_count": 20,
   "metadata": {},
   "outputs": [
    {
     "data": {
      "text/plain": [
       "0.7853810264385692"
      ]
     },
     "execution_count": 20,
     "metadata": {},
     "output_type": "execute_result"
    }
   ],
   "source": [
    "accuracy_score(target_valid, valid_predictions) "
   ]
  },
  {
   "cell_type": "markdown",
   "metadata": {},
   "source": [
    "Здесь модель показывает более высокое качество. Проверим несколько вариантов глубины дерева, чтобы понять какая подходит нам лучше."
   ]
  },
  {
   "cell_type": "code",
   "execution_count": 21,
   "metadata": {},
   "outputs": [],
   "source": [
    "best_model = None\n",
    "best_result = 0\n",
    "for depth in range(1, 11):\n",
    "    model = DecisionTreeClassifier(random_state=12345, max_depth=depth) # обучим модель с заданным количеством деревьев\n",
    "    model.fit(features_train, target_train) # обучим модель на тренировочной выборке\n",
    "    result = model.score(features_valid, target_valid) # посчитаем качество модели на валидационной выборке\n",
    "    if result > best_result:\n",
    "        best_depth = depth # сохраним лучшее значение глубины\n",
    "        best_model = model # сохраним наилучшую модель\n",
    "        best_result = result #  сохраним наилучшее значение метрики accuracy на валидационных данных"
   ]
  },
  {
   "cell_type": "code",
   "execution_count": 22,
   "metadata": {},
   "outputs": [
    {
     "data": {
      "text/plain": [
       "3"
      ]
     },
     "execution_count": 22,
     "metadata": {},
     "output_type": "execute_result"
    }
   ],
   "source": [
    "best_depth"
   ]
  },
  {
   "cell_type": "code",
   "execution_count": 23,
   "metadata": {},
   "outputs": [
    {
     "data": {
      "text/plain": [
       "0.7853810264385692"
      ]
     },
     "execution_count": 23,
     "metadata": {},
     "output_type": "execute_result"
    }
   ],
   "source": [
    "best_result"
   ]
  },
  {
   "cell_type": "markdown",
   "metadata": {},
   "source": [
    "### Случайный лес"
   ]
  },
  {
   "cell_type": "markdown",
   "metadata": {},
   "source": [
    "Исследуем модель `случайный лес`. Алгоритм обучает большое количество независимых друг от друга деревьев, а потом принимает решение на основе голосования. Случайный лес помогает улучшить результат предсказания и избежать переобучения."
   ]
  },
  {
   "cell_type": "markdown",
   "metadata": {},
   "source": [
    "Обучим модель и проверим результаты на валидационной выборке."
   ]
  },
  {
   "cell_type": "code",
   "execution_count": 24,
   "metadata": {},
   "outputs": [],
   "source": [
    "model = RandomForestClassifier(random_state=12345, n_estimators=3) "
   ]
  },
  {
   "cell_type": "code",
   "execution_count": 25,
   "metadata": {},
   "outputs": [
    {
     "data": {
      "text/plain": [
       "RandomForestClassifier(n_estimators=3, random_state=12345)"
      ]
     },
     "execution_count": 25,
     "metadata": {},
     "output_type": "execute_result"
    }
   ],
   "source": [
    "model.fit(features_train, target_train) "
   ]
  },
  {
   "cell_type": "code",
   "execution_count": 26,
   "metadata": {},
   "outputs": [
    {
     "data": {
      "text/plain": [
       "array([0, 0, 0, ..., 1, 1, 1])"
      ]
     },
     "execution_count": 26,
     "metadata": {},
     "output_type": "execute_result"
    }
   ],
   "source": [
    "model.predict(features_train) "
   ]
  },
  {
   "cell_type": "markdown",
   "metadata": {},
   "source": [
    "Правильность модели проверим методом score(). Он считает accuracy для всех алгоритмов классификации."
   ]
  },
  {
   "cell_type": "code",
   "execution_count": 27,
   "metadata": {},
   "outputs": [
    {
     "data": {
      "text/plain": [
       "0.9507261410788381"
      ]
     },
     "execution_count": 27,
     "metadata": {},
     "output_type": "execute_result"
    }
   ],
   "source": [
    "model.score(features_train, target_train) "
   ]
  },
  {
   "cell_type": "code",
   "execution_count": 28,
   "metadata": {},
   "outputs": [
    {
     "data": {
      "text/plain": [
       "0.7387247278382582"
      ]
     },
     "execution_count": 28,
     "metadata": {},
     "output_type": "execute_result"
    }
   ],
   "source": [
    "model.predict(features_valid) \n",
    "model.score(features_valid, target_valid) "
   ]
  },
  {
   "cell_type": "markdown",
   "metadata": {},
   "source": [
    "Подберем оптимальное количество деревьев."
   ]
  },
  {
   "cell_type": "code",
   "execution_count": 45,
   "metadata": {},
   "outputs": [],
   "source": [
    "best_model = None\n",
    "best_result = 0\n",
    "for est in range(1, 11):\n",
    "    model = RandomForestClassifier(random_state=12345, n_estimators=est) # обучим модель с заданным количеством деревьев\n",
    "    model.fit(features_train, target_train) # обучим модель на тренировочной выборке\n",
    "    result = model.score(features_valid, target_valid) # посчитаем качество модели на валидационной выборке\n",
    "    if result > best_result:\n",
    "        best_est = est  # сохраним лучшее значение количества деревьев\n",
    "        best_model = model # сохраним наилучшую модель\n",
    "        best_result = result #  сохраним наилучшее значение метрики accuracy на валидационных данных"
   ]
  },
  {
   "cell_type": "code",
   "execution_count": 46,
   "metadata": {},
   "outputs": [
    {
     "data": {
      "text/plain": [
       "10"
      ]
     },
     "execution_count": 46,
     "metadata": {},
     "output_type": "execute_result"
    }
   ],
   "source": [
    "best_est"
   ]
  },
  {
   "cell_type": "code",
   "execution_count": 47,
   "metadata": {},
   "outputs": [
    {
     "data": {
      "text/plain": [
       "0.7853810264385692"
      ]
     },
     "execution_count": 47,
     "metadata": {},
     "output_type": "execute_result"
    }
   ],
   "source": [
    "best_result"
   ]
  },
  {
   "cell_type": "markdown",
   "metadata": {},
   "source": [
    "### Логистическая регрессия"
   ]
  },
  {
   "cell_type": "markdown",
   "metadata": {},
   "source": [
    "Обучим модель. Добавим дополнительные гиперпараметры: solver='lbfgs' и max_iter=1000. Первый гиперпараметр позволяет выбрать алгоритм, который будет строить модель. Алгоритм `'lbfgs'` — один из самых распространённых. Гиперпараметром `max_iter` задаётся максимальное количество итераций обучения."
   ]
  },
  {
   "cell_type": "code",
   "execution_count": 32,
   "metadata": {},
   "outputs": [],
   "source": [
    "model = LogisticRegression(random_state=12345, solver='lbfgs', max_iter=1000) "
   ]
  },
  {
   "cell_type": "code",
   "execution_count": 33,
   "metadata": {},
   "outputs": [
    {
     "data": {
      "text/plain": [
       "LogisticRegression(max_iter=1000, random_state=12345)"
      ]
     },
     "execution_count": 33,
     "metadata": {},
     "output_type": "execute_result"
    }
   ],
   "source": [
    "model.fit(features_train, target_train) "
   ]
  },
  {
   "cell_type": "code",
   "execution_count": 34,
   "metadata": {},
   "outputs": [
    {
     "data": {
      "text/plain": [
       "array([0, 0, 0, ..., 0, 0, 0])"
      ]
     },
     "execution_count": 34,
     "metadata": {},
     "output_type": "execute_result"
    }
   ],
   "source": [
    "model.predict(features_train) "
   ]
  },
  {
   "cell_type": "code",
   "execution_count": 35,
   "metadata": {},
   "outputs": [
    {
     "data": {
      "text/plain": [
       "0.7131742738589212"
      ]
     },
     "execution_count": 35,
     "metadata": {},
     "output_type": "execute_result"
    }
   ],
   "source": [
    "model.score(features_train, target_train) "
   ]
  },
  {
   "cell_type": "code",
   "execution_count": 36,
   "metadata": {},
   "outputs": [
    {
     "data": {
      "text/plain": [
       "0.7107309486780715"
      ]
     },
     "execution_count": 36,
     "metadata": {},
     "output_type": "execute_result"
    }
   ],
   "source": [
    "model.predict(features_valid) \n",
    "model.score(features_valid, target_valid) "
   ]
  },
  {
   "cell_type": "markdown",
   "metadata": {},
   "source": [
    "Рассмотрим влияет ли величина max_iter на рассчеты"
   ]
  },
  {
   "cell_type": "code",
   "execution_count": 48,
   "metadata": {},
   "outputs": [],
   "source": [
    "best_model = None\n",
    "best_result = 0\n",
    "for optimal_iter in range(100, 2000, 200):\n",
    "    model = LogisticRegression(random_state=12345, solver='lbfgs', max_iter=optimal_iter) \n",
    "    model.fit(features_train, target_train) # обучим модель на тренировочной выборке\n",
    "    result = model.score(features_valid, target_valid) # посчитаем качество модели на валидационной выборке\n",
    "    if result > best_result:\n",
    "        best_iter = optimal_iter  # сохраним лучшее значение количества итераций обучения\n",
    "        best_model = model # сохраним наилучшую модель\n",
    "        best_result = result #  сохраним наилучшее значение метрики accuracy на валидационных данных"
   ]
  },
  {
   "cell_type": "code",
   "execution_count": 49,
   "metadata": {},
   "outputs": [
    {
     "data": {
      "text/plain": [
       "100"
      ]
     },
     "execution_count": 49,
     "metadata": {},
     "output_type": "execute_result"
    }
   ],
   "source": [
    "best_iter"
   ]
  },
  {
   "cell_type": "code",
   "execution_count": 50,
   "metadata": {},
   "outputs": [
    {
     "data": {
      "text/plain": [
       "0.7107309486780715"
      ]
     },
     "execution_count": 50,
     "metadata": {},
     "output_type": "execute_result"
    }
   ],
   "source": [
    "best_result"
   ]
  },
  {
   "cell_type": "markdown",
   "metadata": {},
   "source": [
    "## Проверка модели на тестовой выборке"
   ]
  },
  {
   "cell_type": "markdown",
   "metadata": {},
   "source": [
    "Сохраним тестовый набор данных в переменных."
   ]
  },
  {
   "cell_type": "code",
   "execution_count": 40,
   "metadata": {},
   "outputs": [],
   "source": [
    "features_test = df_test.drop(['is_ultra'], axis=1) \n",
    "target_test = df_test['is_ultra']  "
   ]
  },
  {
   "cell_type": "markdown",
   "metadata": {},
   "source": [
    "Проверим результаты работы моделей на тестовой выборке данных"
   ]
  },
  {
   "cell_type": "markdown",
   "metadata": {},
   "source": [
    "Модель случайного леса"
   ]
  },
  {
   "cell_type": "code",
   "execution_count": 42,
   "metadata": {},
   "outputs": [
    {
     "data": {
      "text/plain": [
       "0.7807153965785381"
      ]
     },
     "execution_count": 42,
     "metadata": {},
     "output_type": "execute_result"
    }
   ],
   "source": [
    "model = RandomForestClassifier(random_state=12345, n_estimators=10) \n",
    "model.fit(features_train, target_train) \n",
    "test_predictions = model.predict(features_test) \n",
    "model.score(features_test, target_test) "
   ]
  },
  {
   "cell_type": "markdown",
   "metadata": {},
   "source": [
    "Две из трех моделе показали необходимый нам уровень качества. Существует еще один важный показатель: скорость работы. Значения accuracy у `решающего дерева` и `случайного леса` достаточно близки, но при этом скорость работы решающего дерева значительно выше. Но так, как в нашем случае скорость работы моделей не сильно заметно (оба расчета производятся достаточно быстро), выберем модель с наивысшим показателем качества: **модель случайного леса**. "
   ]
  },
  {
   "cell_type": "markdown",
   "metadata": {},
   "source": [
    "## Вывод"
   ]
  },
  {
   "cell_type": "markdown",
   "metadata": {},
   "source": [
    "Мы исследовали данные о поведении клиентов, которые уже перешли на тарифы `«Смарт»` и `«Ультра»`. Нашей целью было выбрать лучшую модель для подбора оптимального тарифа клиенту.\n",
    " \n",
    "В начале исследования мы открыли предложенный датасет и познакомимся с общей информацией. \n",
    "\n",
    "Далее разделили исходные данные на обучающую, валидационную и тестовую выборки в соотношении 3:1:1. Обучающая выборка нужна нам для обучения модели. Валидация подсказывает, как ведёт себя модель в полевых условиях. Тестовая выборка нужна нам, чтобы правильно оценить готовую модель.\n",
    "\n",
    "Затем мы исследовали качество нескольких моделей: модель решающего дерева, модель случайного леча, модель логистической регрессии. Подобрали оптимальные гиперпараметры для работы с нашим датасетом\n",
    "\n",
    "В завершении исследования проверили работу моделей на тестовой выборке, отсекли модель, которая несоответствовала необходимому условию (accuracy > 0.75), из оставшихся выбрали модель с наивысшим уровнем качества предсказания: Модель случайного леса. В будущем при увеличении объема обучающих данных, возможно изменить свой выбор в пользу модели решающего леса, в связи с более высокой скоростью выполнения."
   ]
  },
  {
   "cell_type": "markdown",
   "metadata": {},
   "source": [
    "## Чек-лист готовности проекта"
   ]
  },
  {
   "cell_type": "markdown",
   "metadata": {},
   "source": [
    "Поставьте 'x' в выполненных пунктах. Далее нажмите Shift+Enter."
   ]
  },
  {
   "cell_type": "markdown",
   "metadata": {},
   "source": [
    "- [x] Jupyter Notebook открыт\n",
    "- [x] Весь код исполняется без ошибок\n",
    "- [x] Ячейки с кодом расположены в порядке исполнения\n",
    "- [x] Выполнено задание 1: данные загружены и изучены\n",
    "- [x] Выполнено задание 2: данные разбиты на три выборки\n",
    "- [x] Выполнено задание 3: проведено исследование моделей\n",
    "    - [x] Рассмотрено больше одной модели\n",
    "    - [x] Рассмотрено хотя бы 3 значения гипепараметров для какой-нибудь модели\n",
    "    - [x] Написаны выводы по результатам исследования\n",
    "- [x] Выполнено задание 3: Проведено тестирование\n",
    "- [x] Удалось достичь accuracy не меньше 0.75\n"
   ]
  },
  {
   "cell_type": "code",
   "execution_count": null,
   "metadata": {},
   "outputs": [],
   "source": []
  }
 ],
 "metadata": {
  "ExecuteTimeLog": [
   {
    "duration": 409,
    "start_time": "2022-09-04T18:17:31.326Z"
   },
   {
    "duration": 63,
    "start_time": "2022-09-04T18:17:58.248Z"
   },
   {
    "duration": 125,
    "start_time": "2022-09-04T18:18:03.874Z"
   },
   {
    "duration": 30,
    "start_time": "2022-09-04T18:18:09.478Z"
   },
   {
    "duration": 13,
    "start_time": "2022-09-04T18:19:20.733Z"
   },
   {
    "duration": 12,
    "start_time": "2022-09-04T18:19:28.839Z"
   },
   {
    "duration": 1042,
    "start_time": "2022-09-05T15:17:50.846Z"
   },
   {
    "duration": 1035,
    "start_time": "2022-09-05T15:18:00.641Z"
   },
   {
    "duration": 132,
    "start_time": "2022-09-05T15:18:01.678Z"
   },
   {
    "duration": 12,
    "start_time": "2022-09-05T15:18:01.815Z"
   },
   {
    "duration": 28,
    "start_time": "2022-09-05T15:18:01.829Z"
   },
   {
    "duration": 120,
    "start_time": "2022-09-05T15:22:18.353Z"
   },
   {
    "duration": 93,
    "start_time": "2022-09-05T15:23:05.103Z"
   },
   {
    "duration": 6,
    "start_time": "2022-09-05T15:23:09.092Z"
   },
   {
    "duration": 19,
    "start_time": "2022-09-05T15:29:29.009Z"
   },
   {
    "duration": 5,
    "start_time": "2022-09-05T15:29:45.131Z"
   },
   {
    "duration": 4,
    "start_time": "2022-09-05T15:29:55.055Z"
   },
   {
    "duration": 4,
    "start_time": "2022-09-05T15:30:07.252Z"
   },
   {
    "duration": 5,
    "start_time": "2022-09-05T15:30:25.435Z"
   },
   {
    "duration": 1107,
    "start_time": "2022-09-05T15:30:40.235Z"
   },
   {
    "duration": 39,
    "start_time": "2022-09-05T15:30:41.344Z"
   },
   {
    "duration": 13,
    "start_time": "2022-09-05T15:30:41.384Z"
   },
   {
    "duration": 25,
    "start_time": "2022-09-05T15:30:41.399Z"
   },
   {
    "duration": 39,
    "start_time": "2022-09-05T15:30:41.425Z"
   },
   {
    "duration": 16,
    "start_time": "2022-09-05T15:30:41.466Z"
   },
   {
    "duration": 4,
    "start_time": "2022-09-05T15:30:41.484Z"
   },
   {
    "duration": 6,
    "start_time": "2022-09-05T15:30:41.489Z"
   },
   {
    "duration": 11,
    "start_time": "2022-09-05T15:30:41.496Z"
   },
   {
    "duration": 4,
    "start_time": "2022-09-05T15:33:15.639Z"
   },
   {
    "duration": 4,
    "start_time": "2022-09-05T15:33:16.648Z"
   },
   {
    "duration": 4,
    "start_time": "2022-09-05T15:33:17.101Z"
   },
   {
    "duration": 61,
    "start_time": "2022-09-05T15:34:19.355Z"
   },
   {
    "duration": 6,
    "start_time": "2022-09-05T15:34:50.943Z"
   },
   {
    "duration": 4,
    "start_time": "2022-09-05T15:34:53.854Z"
   },
   {
    "duration": 4,
    "start_time": "2022-09-05T15:34:54.485Z"
   },
   {
    "duration": 27,
    "start_time": "2022-09-05T15:34:54.909Z"
   },
   {
    "duration": 13,
    "start_time": "2022-09-05T15:34:57.131Z"
   },
   {
    "duration": 29,
    "start_time": "2022-09-05T15:34:57.708Z"
   },
   {
    "duration": 3,
    "start_time": "2022-09-05T15:34:58.077Z"
   },
   {
    "duration": 8,
    "start_time": "2022-09-05T15:34:58.508Z"
   },
   {
    "duration": 6,
    "start_time": "2022-09-05T15:36:15.250Z"
   },
   {
    "duration": 4,
    "start_time": "2022-09-05T15:36:16.383Z"
   },
   {
    "duration": 11,
    "start_time": "2022-09-05T15:36:17.007Z"
   },
   {
    "duration": 3,
    "start_time": "2022-09-05T15:36:17.463Z"
   },
   {
    "duration": 4,
    "start_time": "2022-09-05T15:36:24.448Z"
   },
   {
    "duration": 11,
    "start_time": "2022-09-05T15:36:24.936Z"
   },
   {
    "duration": 6,
    "start_time": "2022-09-05T15:36:25.441Z"
   },
   {
    "duration": 3,
    "start_time": "2022-09-05T15:36:25.998Z"
   },
   {
    "duration": 4,
    "start_time": "2022-09-05T15:36:26.439Z"
   },
   {
    "duration": 6,
    "start_time": "2022-09-05T16:03:06.252Z"
   },
   {
    "duration": 158,
    "start_time": "2022-09-05T16:04:32.783Z"
   },
   {
    "duration": 42,
    "start_time": "2022-09-05T16:04:42.099Z"
   },
   {
    "duration": 14,
    "start_time": "2022-09-05T16:04:46.180Z"
   },
   {
    "duration": 28,
    "start_time": "2022-09-05T16:05:23.238Z"
   },
   {
    "duration": 37,
    "start_time": "2022-09-05T16:05:31.504Z"
   },
   {
    "duration": 1218,
    "start_time": "2022-09-07T15:51:55.270Z"
   },
   {
    "duration": 74,
    "start_time": "2022-09-07T15:51:56.491Z"
   },
   {
    "duration": 14,
    "start_time": "2022-09-07T15:51:56.567Z"
   },
   {
    "duration": 37,
    "start_time": "2022-09-07T15:51:56.584Z"
   },
   {
    "duration": 4,
    "start_time": "2022-09-07T15:51:56.623Z"
   },
   {
    "duration": 13,
    "start_time": "2022-09-07T15:51:56.629Z"
   },
   {
    "duration": 7,
    "start_time": "2022-09-07T15:51:56.644Z"
   },
   {
    "duration": 10,
    "start_time": "2022-09-07T15:51:56.652Z"
   },
   {
    "duration": 5,
    "start_time": "2022-09-07T15:51:56.664Z"
   },
   {
    "duration": 12,
    "start_time": "2022-09-07T15:51:56.670Z"
   },
   {
    "duration": 23,
    "start_time": "2022-09-07T15:51:56.684Z"
   },
   {
    "duration": 3,
    "start_time": "2022-09-07T15:57:04.965Z"
   },
   {
    "duration": 1373,
    "start_time": "2022-09-07T15:58:44.821Z"
   },
   {
    "duration": 1596,
    "start_time": "2022-09-07T15:59:46.822Z"
   },
   {
    "duration": 4,
    "start_time": "2022-09-07T16:00:29.842Z"
   },
   {
    "duration": 1549,
    "start_time": "2022-09-07T16:00:30.481Z"
   },
   {
    "duration": 7,
    "start_time": "2022-09-07T16:01:32.077Z"
   },
   {
    "duration": 9,
    "start_time": "2022-09-07T16:01:58.722Z"
   },
   {
    "duration": 2015,
    "start_time": "2022-09-07T16:02:17.632Z"
   },
   {
    "duration": 5,
    "start_time": "2022-09-07T16:02:54.999Z"
   },
   {
    "duration": 5,
    "start_time": "2022-09-07T16:03:43.796Z"
   },
   {
    "duration": 136,
    "start_time": "2022-09-07T16:04:54.525Z"
   },
   {
    "duration": 2410,
    "start_time": "2022-09-07T16:05:10.661Z"
   },
   {
    "duration": 9,
    "start_time": "2022-09-07T16:05:57.240Z"
   },
   {
    "duration": 1412,
    "start_time": "2022-09-07T16:06:03.681Z"
   },
   {
    "duration": 1900,
    "start_time": "2022-09-07T16:07:05.405Z"
   },
   {
    "duration": 1206,
    "start_time": "2022-09-07T16:07:54.597Z"
   },
   {
    "duration": 43,
    "start_time": "2022-09-07T16:07:55.805Z"
   },
   {
    "duration": 14,
    "start_time": "2022-09-07T16:07:55.850Z"
   },
   {
    "duration": 20,
    "start_time": "2022-09-07T16:07:55.866Z"
   },
   {
    "duration": 9,
    "start_time": "2022-09-07T16:07:55.887Z"
   },
   {
    "duration": 28,
    "start_time": "2022-09-07T16:07:55.898Z"
   },
   {
    "duration": 9,
    "start_time": "2022-09-07T16:07:55.928Z"
   },
   {
    "duration": 8,
    "start_time": "2022-09-07T16:07:55.939Z"
   },
   {
    "duration": 7,
    "start_time": "2022-09-07T16:07:55.948Z"
   },
   {
    "duration": 8,
    "start_time": "2022-09-07T16:07:55.957Z"
   },
   {
    "duration": 21,
    "start_time": "2022-09-07T16:07:55.967Z"
   },
   {
    "duration": 3,
    "start_time": "2022-09-07T16:07:55.990Z"
   },
   {
    "duration": 13,
    "start_time": "2022-09-07T16:07:55.995Z"
   },
   {
    "duration": 1686,
    "start_time": "2022-09-07T16:07:56.016Z"
   },
   {
    "duration": 2486,
    "start_time": "2022-09-07T16:10:05.045Z"
   },
   {
    "duration": 2886,
    "start_time": "2022-09-07T16:10:27.282Z"
   },
   {
    "duration": 13,
    "start_time": "2022-09-07T16:10:39.577Z"
   },
   {
    "duration": 5,
    "start_time": "2022-09-07T16:11:00.802Z"
   },
   {
    "duration": 1995,
    "start_time": "2022-09-07T16:11:14.316Z"
   },
   {
    "duration": 6,
    "start_time": "2022-09-07T16:12:23.585Z"
   },
   {
    "duration": 5,
    "start_time": "2022-09-07T16:13:15.741Z"
   },
   {
    "duration": 3,
    "start_time": "2022-09-07T16:13:23.709Z"
   },
   {
    "duration": 1097,
    "start_time": "2022-09-07T16:13:29.632Z"
   },
   {
    "duration": 30,
    "start_time": "2022-09-07T16:13:30.731Z"
   },
   {
    "duration": 12,
    "start_time": "2022-09-07T16:13:30.763Z"
   },
   {
    "duration": 23,
    "start_time": "2022-09-07T16:13:30.776Z"
   },
   {
    "duration": 24,
    "start_time": "2022-09-07T16:13:30.801Z"
   },
   {
    "duration": 7,
    "start_time": "2022-09-07T16:13:30.826Z"
   },
   {
    "duration": 12,
    "start_time": "2022-09-07T16:13:30.834Z"
   },
   {
    "duration": 13,
    "start_time": "2022-09-07T16:13:30.848Z"
   },
   {
    "duration": 15,
    "start_time": "2022-09-07T16:13:30.863Z"
   },
   {
    "duration": 22,
    "start_time": "2022-09-07T16:13:30.880Z"
   },
   {
    "duration": 15,
    "start_time": "2022-09-07T16:13:30.904Z"
   },
   {
    "duration": 25,
    "start_time": "2022-09-07T16:13:30.921Z"
   },
   {
    "duration": 3,
    "start_time": "2022-09-07T16:13:30.947Z"
   },
   {
    "duration": 12,
    "start_time": "2022-09-07T16:13:30.951Z"
   },
   {
    "duration": 9,
    "start_time": "2022-09-07T16:13:30.965Z"
   },
   {
    "duration": 2511,
    "start_time": "2022-09-07T16:13:30.976Z"
   },
   {
    "duration": 7,
    "start_time": "2022-09-07T16:13:53.837Z"
   },
   {
    "duration": 10,
    "start_time": "2022-09-07T16:14:04.907Z"
   },
   {
    "duration": 12,
    "start_time": "2022-09-07T16:14:13.818Z"
   },
   {
    "duration": 7,
    "start_time": "2022-09-07T16:14:20.283Z"
   },
   {
    "duration": 1082,
    "start_time": "2022-09-07T16:14:27.110Z"
   },
   {
    "duration": 33,
    "start_time": "2022-09-07T16:14:28.193Z"
   },
   {
    "duration": 12,
    "start_time": "2022-09-07T16:14:28.228Z"
   },
   {
    "duration": 18,
    "start_time": "2022-09-07T16:14:28.241Z"
   },
   {
    "duration": 3,
    "start_time": "2022-09-07T16:14:28.261Z"
   },
   {
    "duration": 7,
    "start_time": "2022-09-07T16:14:28.265Z"
   },
   {
    "duration": 7,
    "start_time": "2022-09-07T16:14:28.273Z"
   },
   {
    "duration": 5,
    "start_time": "2022-09-07T16:14:28.281Z"
   },
   {
    "duration": 5,
    "start_time": "2022-09-07T16:14:28.288Z"
   },
   {
    "duration": 5,
    "start_time": "2022-09-07T16:14:28.305Z"
   },
   {
    "duration": 16,
    "start_time": "2022-09-07T16:14:28.313Z"
   },
   {
    "duration": 16,
    "start_time": "2022-09-07T16:14:28.332Z"
   },
   {
    "duration": 10,
    "start_time": "2022-09-07T16:14:28.349Z"
   },
   {
    "duration": 16,
    "start_time": "2022-09-07T16:14:28.362Z"
   },
   {
    "duration": 42,
    "start_time": "2022-09-07T16:14:28.380Z"
   },
   {
    "duration": 1390,
    "start_time": "2022-09-07T16:14:28.423Z"
   },
   {
    "duration": 1130,
    "start_time": "2022-09-07T16:14:39.594Z"
   },
   {
    "duration": 30,
    "start_time": "2022-09-07T16:14:40.727Z"
   },
   {
    "duration": 14,
    "start_time": "2022-09-07T16:14:40.761Z"
   },
   {
    "duration": 19,
    "start_time": "2022-09-07T16:14:40.777Z"
   },
   {
    "duration": 4,
    "start_time": "2022-09-07T16:14:40.798Z"
   },
   {
    "duration": 11,
    "start_time": "2022-09-07T16:14:40.805Z"
   },
   {
    "duration": 14,
    "start_time": "2022-09-07T16:14:40.817Z"
   },
   {
    "duration": 5,
    "start_time": "2022-09-07T16:14:40.833Z"
   },
   {
    "duration": 4,
    "start_time": "2022-09-07T16:14:40.840Z"
   },
   {
    "duration": 6,
    "start_time": "2022-09-07T16:14:40.846Z"
   },
   {
    "duration": 17,
    "start_time": "2022-09-07T16:14:40.853Z"
   },
   {
    "duration": 3,
    "start_time": "2022-09-07T16:14:40.871Z"
   },
   {
    "duration": 8,
    "start_time": "2022-09-07T16:14:40.875Z"
   },
   {
    "duration": 24,
    "start_time": "2022-09-07T16:14:40.884Z"
   },
   {
    "duration": 1299,
    "start_time": "2022-09-07T16:14:40.910Z"
   },
   {
    "duration": 5,
    "start_time": "2022-09-07T16:18:52.354Z"
   },
   {
    "duration": 9,
    "start_time": "2022-09-07T16:27:43.305Z"
   },
   {
    "duration": 7,
    "start_time": "2022-09-07T16:28:32.473Z"
   },
   {
    "duration": 5,
    "start_time": "2022-09-07T16:28:45.461Z"
   },
   {
    "duration": 1287,
    "start_time": "2022-09-07T16:28:56.075Z"
   },
   {
    "duration": 15,
    "start_time": "2022-09-07T16:29:06.108Z"
   },
   {
    "duration": 11,
    "start_time": "2022-09-07T16:29:09.922Z"
   },
   {
    "duration": 14,
    "start_time": "2022-09-07T16:29:12.498Z"
   },
   {
    "duration": 11,
    "start_time": "2022-09-07T16:29:17.186Z"
   },
   {
    "duration": 1042,
    "start_time": "2022-09-07T16:29:23.426Z"
   },
   {
    "duration": 29,
    "start_time": "2022-09-07T16:29:24.469Z"
   },
   {
    "duration": 13,
    "start_time": "2022-09-07T16:29:24.499Z"
   },
   {
    "duration": 16,
    "start_time": "2022-09-07T16:29:24.514Z"
   },
   {
    "duration": 5,
    "start_time": "2022-09-07T16:29:24.531Z"
   },
   {
    "duration": 6,
    "start_time": "2022-09-07T16:29:24.538Z"
   },
   {
    "duration": 5,
    "start_time": "2022-09-07T16:29:24.546Z"
   },
   {
    "duration": 8,
    "start_time": "2022-09-07T16:29:24.552Z"
   },
   {
    "duration": 9,
    "start_time": "2022-09-07T16:29:24.562Z"
   },
   {
    "duration": 36,
    "start_time": "2022-09-07T16:29:24.574Z"
   },
   {
    "duration": 15,
    "start_time": "2022-09-07T16:29:24.612Z"
   },
   {
    "duration": 4,
    "start_time": "2022-09-07T16:29:24.629Z"
   },
   {
    "duration": 10,
    "start_time": "2022-09-07T16:29:24.634Z"
   },
   {
    "duration": 14,
    "start_time": "2022-09-07T16:29:24.645Z"
   },
   {
    "duration": 1305,
    "start_time": "2022-09-07T16:29:24.661Z"
   },
   {
    "duration": 10,
    "start_time": "2022-09-07T16:29:34.569Z"
   },
   {
    "duration": 1924,
    "start_time": "2022-09-07T16:29:45.872Z"
   },
   {
    "duration": 11,
    "start_time": "2022-09-07T16:29:53.887Z"
   },
   {
    "duration": 1069,
    "start_time": "2022-09-07T16:30:08.117Z"
   },
   {
    "duration": 29,
    "start_time": "2022-09-07T16:30:09.188Z"
   },
   {
    "duration": 13,
    "start_time": "2022-09-07T16:30:09.218Z"
   },
   {
    "duration": 18,
    "start_time": "2022-09-07T16:30:09.233Z"
   },
   {
    "duration": 4,
    "start_time": "2022-09-07T16:30:09.253Z"
   },
   {
    "duration": 10,
    "start_time": "2022-09-07T16:30:09.258Z"
   },
   {
    "duration": 9,
    "start_time": "2022-09-07T16:30:09.269Z"
   },
   {
    "duration": 12,
    "start_time": "2022-09-07T16:30:09.280Z"
   },
   {
    "duration": 13,
    "start_time": "2022-09-07T16:30:09.294Z"
   },
   {
    "duration": 8,
    "start_time": "2022-09-07T16:30:09.309Z"
   },
   {
    "duration": 15,
    "start_time": "2022-09-07T16:30:09.318Z"
   },
   {
    "duration": 3,
    "start_time": "2022-09-07T16:30:09.334Z"
   },
   {
    "duration": 10,
    "start_time": "2022-09-07T16:30:09.339Z"
   },
   {
    "duration": 1308,
    "start_time": "2022-09-07T16:30:09.351Z"
   },
   {
    "duration": 0,
    "start_time": "2022-09-07T16:30:10.660Z"
   },
   {
    "duration": 1074,
    "start_time": "2022-09-07T16:30:28.724Z"
   },
   {
    "duration": 29,
    "start_time": "2022-09-07T16:30:29.800Z"
   },
   {
    "duration": 12,
    "start_time": "2022-09-07T16:30:29.830Z"
   },
   {
    "duration": 16,
    "start_time": "2022-09-07T16:30:29.844Z"
   },
   {
    "duration": 4,
    "start_time": "2022-09-07T16:30:29.861Z"
   },
   {
    "duration": 6,
    "start_time": "2022-09-07T16:30:29.867Z"
   },
   {
    "duration": 8,
    "start_time": "2022-09-07T16:30:29.874Z"
   },
   {
    "duration": 5,
    "start_time": "2022-09-07T16:30:29.883Z"
   },
   {
    "duration": 5,
    "start_time": "2022-09-07T16:30:29.889Z"
   },
   {
    "duration": 6,
    "start_time": "2022-09-07T16:30:29.905Z"
   },
   {
    "duration": 16,
    "start_time": "2022-09-07T16:30:29.913Z"
   },
   {
    "duration": 3,
    "start_time": "2022-09-07T16:30:29.930Z"
   },
   {
    "duration": 6,
    "start_time": "2022-09-07T16:30:29.935Z"
   },
   {
    "duration": 9,
    "start_time": "2022-09-07T16:30:29.943Z"
   },
   {
    "duration": 1322,
    "start_time": "2022-09-07T16:30:29.954Z"
   },
   {
    "duration": 2,
    "start_time": "2022-09-07T16:37:00.590Z"
   },
   {
    "duration": 13,
    "start_time": "2022-09-07T16:38:56.688Z"
   },
   {
    "duration": 4,
    "start_time": "2022-09-07T16:39:39.545Z"
   },
   {
    "duration": 13,
    "start_time": "2022-09-07T16:40:13.134Z"
   },
   {
    "duration": 4,
    "start_time": "2022-09-07T16:40:13.494Z"
   },
   {
    "duration": 4,
    "start_time": "2022-09-07T16:40:17.358Z"
   },
   {
    "duration": 5,
    "start_time": "2022-09-07T16:40:56.387Z"
   },
   {
    "duration": 10,
    "start_time": "2022-09-07T16:44:21.178Z"
   },
   {
    "duration": 3,
    "start_time": "2022-09-07T16:45:02.391Z"
   },
   {
    "duration": 17,
    "start_time": "2022-09-07T16:45:53.187Z"
   },
   {
    "duration": 9,
    "start_time": "2022-09-07T16:46:28.472Z"
   },
   {
    "duration": 7,
    "start_time": "2022-09-07T16:46:39.207Z"
   },
   {
    "duration": 7,
    "start_time": "2022-09-07T16:47:22.484Z"
   },
   {
    "duration": 8,
    "start_time": "2022-09-07T16:48:22.079Z"
   },
   {
    "duration": 6,
    "start_time": "2022-09-07T16:48:24.958Z"
   },
   {
    "duration": 23,
    "start_time": "2022-09-07T16:48:25.342Z"
   },
   {
    "duration": 8,
    "start_time": "2022-09-07T16:49:21.402Z"
   },
   {
    "duration": 7,
    "start_time": "2022-09-07T16:49:24.690Z"
   },
   {
    "duration": 11,
    "start_time": "2022-09-07T16:49:41.297Z"
   },
   {
    "duration": 7,
    "start_time": "2022-09-07T16:50:16.142Z"
   },
   {
    "duration": 3,
    "start_time": "2022-09-07T16:52:27.971Z"
   },
   {
    "duration": 20,
    "start_time": "2022-09-07T16:52:50.881Z"
   },
   {
    "duration": 5,
    "start_time": "2022-09-07T16:53:02.201Z"
   },
   {
    "duration": 6,
    "start_time": "2022-09-07T16:53:11.001Z"
   },
   {
    "duration": 8,
    "start_time": "2022-09-07T16:53:18.791Z"
   },
   {
    "duration": 4,
    "start_time": "2022-09-07T17:29:21.480Z"
   },
   {
    "duration": 3,
    "start_time": "2022-09-07T17:29:37.780Z"
   },
   {
    "duration": 3,
    "start_time": "2022-09-07T17:29:40.573Z"
   },
   {
    "duration": 13,
    "start_time": "2022-09-07T17:29:42.572Z"
   },
   {
    "duration": 4,
    "start_time": "2022-09-07T17:29:42.995Z"
   },
   {
    "duration": 4,
    "start_time": "2022-09-07T17:29:44.467Z"
   },
   {
    "duration": 4,
    "start_time": "2022-09-07T17:29:45.107Z"
   },
   {
    "duration": 1004,
    "start_time": "2022-09-07T17:29:52.043Z"
   },
   {
    "duration": 29,
    "start_time": "2022-09-07T17:29:53.049Z"
   },
   {
    "duration": 12,
    "start_time": "2022-09-07T17:29:53.079Z"
   },
   {
    "duration": 17,
    "start_time": "2022-09-07T17:29:53.092Z"
   },
   {
    "duration": 5,
    "start_time": "2022-09-07T17:29:53.110Z"
   },
   {
    "duration": 10,
    "start_time": "2022-09-07T17:29:53.116Z"
   },
   {
    "duration": 12,
    "start_time": "2022-09-07T17:29:53.128Z"
   },
   {
    "duration": 12,
    "start_time": "2022-09-07T17:29:53.142Z"
   },
   {
    "duration": 6,
    "start_time": "2022-09-07T17:29:53.155Z"
   },
   {
    "duration": 8,
    "start_time": "2022-09-07T17:29:53.163Z"
   },
   {
    "duration": 8,
    "start_time": "2022-09-07T17:29:53.172Z"
   },
   {
    "duration": 24,
    "start_time": "2022-09-07T17:29:53.181Z"
   },
   {
    "duration": 4,
    "start_time": "2022-09-07T17:29:53.206Z"
   },
   {
    "duration": 7,
    "start_time": "2022-09-07T17:29:53.211Z"
   },
   {
    "duration": 7,
    "start_time": "2022-09-07T17:29:53.219Z"
   },
   {
    "duration": 4,
    "start_time": "2022-09-07T17:29:53.227Z"
   },
   {
    "duration": 22,
    "start_time": "2022-09-07T17:29:53.233Z"
   },
   {
    "duration": 6,
    "start_time": "2022-09-07T17:29:53.256Z"
   },
   {
    "duration": 14,
    "start_time": "2022-09-07T17:29:53.264Z"
   },
   {
    "duration": 8,
    "start_time": "2022-09-07T17:29:53.280Z"
   },
   {
    "duration": 17,
    "start_time": "2022-09-07T17:29:53.289Z"
   },
   {
    "duration": 22,
    "start_time": "2022-09-07T17:29:53.308Z"
   },
   {
    "duration": 5,
    "start_time": "2022-09-07T17:29:53.332Z"
   },
   {
    "duration": 6,
    "start_time": "2022-09-07T17:29:53.338Z"
   },
   {
    "duration": 8,
    "start_time": "2022-09-07T17:29:53.345Z"
   },
   {
    "duration": 6,
    "start_time": "2022-09-07T17:29:53.354Z"
   },
   {
    "duration": 247,
    "start_time": "2022-09-07T17:31:13.425Z"
   },
   {
    "duration": 3,
    "start_time": "2022-09-07T17:31:22.889Z"
   },
   {
    "duration": 171,
    "start_time": "2022-09-07T17:33:09.552Z"
   },
   {
    "duration": 3,
    "start_time": "2022-09-07T17:33:14.544Z"
   },
   {
    "duration": 172,
    "start_time": "2022-09-07T17:33:27.486Z"
   },
   {
    "duration": 3,
    "start_time": "2022-09-07T17:33:27.990Z"
   },
   {
    "duration": 3,
    "start_time": "2022-09-07T17:33:34.717Z"
   },
   {
    "duration": 20,
    "start_time": "2022-09-07T17:33:35.092Z"
   },
   {
    "duration": 5,
    "start_time": "2022-09-07T17:33:35.589Z"
   },
   {
    "duration": 7,
    "start_time": "2022-09-07T17:33:36.038Z"
   },
   {
    "duration": 7,
    "start_time": "2022-09-07T17:33:36.670Z"
   },
   {
    "duration": 2,
    "start_time": "2022-09-07T17:33:43.140Z"
   },
   {
    "duration": 21,
    "start_time": "2022-09-07T17:33:43.524Z"
   },
   {
    "duration": 5,
    "start_time": "2022-09-07T17:33:44.133Z"
   },
   {
    "duration": 6,
    "start_time": "2022-09-07T17:33:44.549Z"
   },
   {
    "duration": 7,
    "start_time": "2022-09-07T17:33:44.989Z"
   },
   {
    "duration": 1063,
    "start_time": "2022-09-07T17:33:50.139Z"
   },
   {
    "duration": 28,
    "start_time": "2022-09-07T17:33:51.204Z"
   },
   {
    "duration": 10,
    "start_time": "2022-09-07T17:33:51.234Z"
   },
   {
    "duration": 19,
    "start_time": "2022-09-07T17:33:51.245Z"
   },
   {
    "duration": 4,
    "start_time": "2022-09-07T17:33:51.265Z"
   },
   {
    "duration": 15,
    "start_time": "2022-09-07T17:33:51.270Z"
   },
   {
    "duration": 17,
    "start_time": "2022-09-07T17:33:51.286Z"
   },
   {
    "duration": 6,
    "start_time": "2022-09-07T17:33:51.305Z"
   },
   {
    "duration": 8,
    "start_time": "2022-09-07T17:33:51.312Z"
   },
   {
    "duration": 8,
    "start_time": "2022-09-07T17:33:51.322Z"
   },
   {
    "duration": 7,
    "start_time": "2022-09-07T17:33:51.331Z"
   },
   {
    "duration": 15,
    "start_time": "2022-09-07T17:33:51.339Z"
   },
   {
    "duration": 6,
    "start_time": "2022-09-07T17:33:51.356Z"
   },
   {
    "duration": 20,
    "start_time": "2022-09-07T17:33:51.363Z"
   },
   {
    "duration": 13,
    "start_time": "2022-09-07T17:33:51.384Z"
   },
   {
    "duration": 14,
    "start_time": "2022-09-07T17:33:51.399Z"
   },
   {
    "duration": 27,
    "start_time": "2022-09-07T17:33:51.415Z"
   },
   {
    "duration": 7,
    "start_time": "2022-09-07T17:33:51.443Z"
   },
   {
    "duration": 9,
    "start_time": "2022-09-07T17:33:51.451Z"
   },
   {
    "duration": 11,
    "start_time": "2022-09-07T17:33:51.462Z"
   },
   {
    "duration": 218,
    "start_time": "2022-09-07T17:33:51.474Z"
   },
   {
    "duration": 3,
    "start_time": "2022-09-07T17:33:51.693Z"
   },
   {
    "duration": 14,
    "start_time": "2022-09-07T17:33:51.698Z"
   },
   {
    "duration": 28,
    "start_time": "2022-09-07T17:33:51.713Z"
   },
   {
    "duration": 5,
    "start_time": "2022-09-07T17:33:51.743Z"
   },
   {
    "duration": 9,
    "start_time": "2022-09-07T17:33:51.750Z"
   },
   {
    "duration": 8,
    "start_time": "2022-09-07T17:33:51.760Z"
   },
   {
    "duration": 176,
    "start_time": "2022-09-07T17:33:51.772Z"
   },
   {
    "duration": 4,
    "start_time": "2022-09-07T17:33:51.949Z"
   },
   {
    "duration": 5,
    "start_time": "2022-09-07T17:33:51.955Z"
   },
   {
    "duration": 3,
    "start_time": "2022-09-07T17:33:59.216Z"
   },
   {
    "duration": 15,
    "start_time": "2022-09-07T17:33:59.496Z"
   },
   {
    "duration": 5,
    "start_time": "2022-09-07T17:33:59.800Z"
   },
   {
    "duration": 3,
    "start_time": "2022-09-07T17:34:06.519Z"
   },
   {
    "duration": 19,
    "start_time": "2022-09-07T17:34:08.207Z"
   },
   {
    "duration": 6,
    "start_time": "2022-09-07T17:34:08.758Z"
   },
   {
    "duration": 6,
    "start_time": "2022-09-07T17:34:11.209Z"
   },
   {
    "duration": 8,
    "start_time": "2022-09-07T17:34:11.798Z"
   },
   {
    "duration": 171,
    "start_time": "2022-09-07T17:34:12.896Z"
   },
   {
    "duration": 3,
    "start_time": "2022-09-07T17:34:13.615Z"
   },
   {
    "duration": 3,
    "start_time": "2022-09-07T17:34:19.862Z"
   },
   {
    "duration": 19,
    "start_time": "2022-09-07T17:34:20.680Z"
   },
   {
    "duration": 6,
    "start_time": "2022-09-07T17:34:21.150Z"
   },
   {
    "duration": 6,
    "start_time": "2022-09-07T17:34:21.493Z"
   },
   {
    "duration": 8,
    "start_time": "2022-09-07T17:34:22.086Z"
   },
   {
    "duration": 167,
    "start_time": "2022-09-07T17:34:22.789Z"
   },
   {
    "duration": 4,
    "start_time": "2022-09-07T17:34:23.118Z"
   },
   {
    "duration": 3,
    "start_time": "2022-09-07T17:34:28.949Z"
   },
   {
    "duration": 19,
    "start_time": "2022-09-07T17:34:29.157Z"
   },
   {
    "duration": 5,
    "start_time": "2022-09-07T17:34:29.389Z"
   },
   {
    "duration": 6,
    "start_time": "2022-09-07T17:34:29.710Z"
   },
   {
    "duration": 6,
    "start_time": "2022-09-07T17:34:30.438Z"
   },
   {
    "duration": 169,
    "start_time": "2022-09-07T17:34:31.014Z"
   },
   {
    "duration": 4,
    "start_time": "2022-09-07T17:34:31.445Z"
   },
   {
    "duration": 3,
    "start_time": "2022-09-07T17:36:55.461Z"
   },
   {
    "duration": 27,
    "start_time": "2022-09-07T17:36:55.858Z"
   },
   {
    "duration": 8,
    "start_time": "2022-09-07T17:36:56.474Z"
   },
   {
    "duration": 6,
    "start_time": "2022-09-07T17:36:56.931Z"
   },
   {
    "duration": 7,
    "start_time": "2022-09-07T17:36:58.010Z"
   },
   {
    "duration": 2,
    "start_time": "2022-09-07T17:37:02.946Z"
   },
   {
    "duration": 20,
    "start_time": "2022-09-07T17:37:03.441Z"
   },
   {
    "duration": 6,
    "start_time": "2022-09-07T17:37:03.745Z"
   },
   {
    "duration": 7,
    "start_time": "2022-09-07T17:37:04.057Z"
   },
   {
    "duration": 7,
    "start_time": "2022-09-07T17:37:04.417Z"
   },
   {
    "duration": 175,
    "start_time": "2022-09-07T17:37:04.929Z"
   },
   {
    "duration": 4,
    "start_time": "2022-09-07T17:37:05.300Z"
   },
   {
    "duration": 12,
    "start_time": "2022-09-07T17:37:25.864Z"
   },
   {
    "duration": 3,
    "start_time": "2022-09-07T17:39:08.025Z"
   },
   {
    "duration": 14,
    "start_time": "2022-09-07T17:39:08.393Z"
   },
   {
    "duration": 4,
    "start_time": "2022-09-07T17:39:28.056Z"
   },
   {
    "duration": 218,
    "start_time": "2022-09-07T17:40:13.747Z"
   },
   {
    "duration": 3,
    "start_time": "2022-09-07T17:40:14.131Z"
   },
   {
    "duration": 5,
    "start_time": "2022-09-07T17:40:16.442Z"
   },
   {
    "duration": 53,
    "start_time": "2022-09-07T17:41:41.804Z"
   },
   {
    "duration": 53,
    "start_time": "2022-09-07T17:42:55.446Z"
   },
   {
    "duration": 33,
    "start_time": "2022-09-07T17:43:14.094Z"
   },
   {
    "duration": 24,
    "start_time": "2022-09-07T17:43:21.428Z"
   },
   {
    "duration": 24,
    "start_time": "2022-09-07T17:43:25.796Z"
   },
   {
    "duration": 22,
    "start_time": "2022-09-07T17:43:29.628Z"
   },
   {
    "duration": 45,
    "start_time": "2022-09-07T17:43:32.299Z"
   },
   {
    "duration": 31,
    "start_time": "2022-09-07T17:43:32.819Z"
   },
   {
    "duration": 3,
    "start_time": "2022-09-07T17:44:24.488Z"
   },
   {
    "duration": 22,
    "start_time": "2022-09-07T17:44:24.903Z"
   },
   {
    "duration": 10,
    "start_time": "2022-09-07T17:44:25.448Z"
   },
   {
    "duration": 10,
    "start_time": "2022-09-07T17:44:25.967Z"
   },
   {
    "duration": 11,
    "start_time": "2022-09-07T17:44:26.480Z"
   },
   {
    "duration": 2,
    "start_time": "2022-09-07T17:44:31.647Z"
   },
   {
    "duration": 21,
    "start_time": "2022-09-07T17:44:31.943Z"
   },
   {
    "duration": 6,
    "start_time": "2022-09-07T17:44:32.183Z"
   },
   {
    "duration": 8,
    "start_time": "2022-09-07T17:44:32.566Z"
   },
   {
    "duration": 9,
    "start_time": "2022-09-07T17:44:34.086Z"
   },
   {
    "duration": 3,
    "start_time": "2022-09-07T17:44:40.087Z"
   },
   {
    "duration": 17,
    "start_time": "2022-09-07T17:44:40.462Z"
   },
   {
    "duration": 6,
    "start_time": "2022-09-07T17:44:40.718Z"
   },
   {
    "duration": 10,
    "start_time": "2022-09-07T17:44:41.101Z"
   },
   {
    "duration": 10,
    "start_time": "2022-09-07T17:44:41.510Z"
   },
   {
    "duration": 1085,
    "start_time": "2022-09-08T15:00:48.798Z"
   },
   {
    "duration": 122,
    "start_time": "2022-09-08T15:00:49.885Z"
   },
   {
    "duration": 11,
    "start_time": "2022-09-08T15:00:50.008Z"
   },
   {
    "duration": 27,
    "start_time": "2022-09-08T15:00:50.021Z"
   },
   {
    "duration": 29,
    "start_time": "2022-09-08T15:00:50.049Z"
   },
   {
    "duration": 23,
    "start_time": "2022-09-08T15:00:50.079Z"
   },
   {
    "duration": 15,
    "start_time": "2022-09-08T15:00:50.103Z"
   },
   {
    "duration": 25,
    "start_time": "2022-09-08T15:00:50.119Z"
   },
   {
    "duration": 21,
    "start_time": "2022-09-08T15:00:50.146Z"
   },
   {
    "duration": 22,
    "start_time": "2022-09-08T15:00:50.169Z"
   },
   {
    "duration": 18,
    "start_time": "2022-09-08T15:00:50.192Z"
   },
   {
    "duration": 49,
    "start_time": "2022-09-08T15:00:50.211Z"
   },
   {
    "duration": 7,
    "start_time": "2022-09-08T15:00:50.262Z"
   },
   {
    "duration": 31,
    "start_time": "2022-09-08T15:00:50.271Z"
   },
   {
    "duration": 26,
    "start_time": "2022-09-08T15:00:50.304Z"
   },
   {
    "duration": 29,
    "start_time": "2022-09-08T15:00:50.332Z"
   },
   {
    "duration": 47,
    "start_time": "2022-09-08T15:00:50.363Z"
   },
   {
    "duration": 17,
    "start_time": "2022-09-08T15:00:50.411Z"
   },
   {
    "duration": 20,
    "start_time": "2022-09-08T15:00:50.430Z"
   },
   {
    "duration": 24,
    "start_time": "2022-09-08T15:00:50.452Z"
   },
   {
    "duration": 252,
    "start_time": "2022-09-08T15:00:50.478Z"
   },
   {
    "duration": 3,
    "start_time": "2022-09-08T15:00:50.732Z"
   },
   {
    "duration": 14,
    "start_time": "2022-09-08T15:00:50.737Z"
   },
   {
    "duration": 17,
    "start_time": "2022-09-08T15:00:50.752Z"
   },
   {
    "duration": 31,
    "start_time": "2022-09-08T15:00:50.770Z"
   },
   {
    "duration": 9,
    "start_time": "2022-09-08T15:00:50.803Z"
   },
   {
    "duration": 24,
    "start_time": "2022-09-08T15:00:50.813Z"
   },
   {
    "duration": 27,
    "start_time": "2022-09-08T15:00:50.841Z"
   },
   {
    "duration": 198,
    "start_time": "2022-09-08T15:00:50.869Z"
   },
   {
    "duration": 3,
    "start_time": "2022-09-08T15:00:51.069Z"
   },
   {
    "duration": 17,
    "start_time": "2022-09-08T15:00:51.074Z"
   },
   {
    "duration": 19,
    "start_time": "2022-09-08T15:00:51.093Z"
   },
   {
    "duration": 73,
    "start_time": "2022-09-08T15:00:51.114Z"
   },
   {
    "duration": 26,
    "start_time": "2022-09-08T15:00:51.188Z"
   },
   {
    "duration": 10,
    "start_time": "2022-09-08T15:14:02.079Z"
   },
   {
    "duration": 10,
    "start_time": "2022-09-08T15:14:13.462Z"
   },
   {
    "duration": 50,
    "start_time": "2022-09-08T15:14:27.861Z"
   },
   {
    "duration": 4,
    "start_time": "2022-09-08T15:26:16.920Z"
   },
   {
    "duration": 7,
    "start_time": "2022-09-08T15:27:26.385Z"
   },
   {
    "duration": 24,
    "start_time": "2022-09-08T15:32:05.523Z"
   },
   {
    "duration": 3,
    "start_time": "2022-09-08T15:32:06.522Z"
   },
   {
    "duration": 4,
    "start_time": "2022-09-08T15:33:48.181Z"
   },
   {
    "duration": 4,
    "start_time": "2022-09-08T15:33:49.018Z"
   },
   {
    "duration": 13,
    "start_time": "2022-09-08T15:34:47.310Z"
   },
   {
    "duration": 117,
    "start_time": "2022-09-08T15:42:16.293Z"
   },
   {
    "duration": 9,
    "start_time": "2022-09-08T15:42:30.962Z"
   },
   {
    "duration": 9,
    "start_time": "2022-09-08T15:43:08.767Z"
   },
   {
    "duration": 4,
    "start_time": "2022-09-08T15:43:09.470Z"
   },
   {
    "duration": 5,
    "start_time": "2022-09-08T15:43:09.878Z"
   },
   {
    "duration": 5,
    "start_time": "2022-09-08T15:43:10.510Z"
   },
   {
    "duration": 1045,
    "start_time": "2022-09-08T15:50:56.866Z"
   },
   {
    "duration": 28,
    "start_time": "2022-09-08T15:50:57.914Z"
   },
   {
    "duration": 20,
    "start_time": "2022-09-08T15:50:57.944Z"
   },
   {
    "duration": 10,
    "start_time": "2022-09-08T15:50:57.966Z"
   },
   {
    "duration": 8,
    "start_time": "2022-09-08T15:50:57.978Z"
   },
   {
    "duration": 24,
    "start_time": "2022-09-08T15:50:57.989Z"
   },
   {
    "duration": 6,
    "start_time": "2022-09-08T15:50:58.015Z"
   },
   {
    "duration": 19,
    "start_time": "2022-09-08T15:50:58.022Z"
   },
   {
    "duration": 11,
    "start_time": "2022-09-08T15:50:58.043Z"
   },
   {
    "duration": 9,
    "start_time": "2022-09-08T15:50:58.057Z"
   },
   {
    "duration": 7,
    "start_time": "2022-09-08T15:50:58.067Z"
   },
   {
    "duration": 7,
    "start_time": "2022-09-08T15:50:58.076Z"
   },
   {
    "duration": 17,
    "start_time": "2022-09-08T15:50:58.084Z"
   },
   {
    "duration": 4,
    "start_time": "2022-09-08T15:50:58.102Z"
   },
   {
    "duration": 12,
    "start_time": "2022-09-08T15:50:58.107Z"
   },
   {
    "duration": 14,
    "start_time": "2022-09-08T15:50:58.120Z"
   },
   {
    "duration": 9,
    "start_time": "2022-09-08T15:50:58.146Z"
   },
   {
    "duration": 4,
    "start_time": "2022-09-08T15:50:58.157Z"
   },
   {
    "duration": 11,
    "start_time": "2022-09-08T15:50:58.162Z"
   },
   {
    "duration": 12,
    "start_time": "2022-09-08T15:50:58.175Z"
   },
   {
    "duration": 80,
    "start_time": "2022-09-08T15:50:58.188Z"
   },
   {
    "duration": 4,
    "start_time": "2022-09-08T15:50:58.270Z"
   },
   {
    "duration": 8,
    "start_time": "2022-09-08T15:50:58.276Z"
   },
   {
    "duration": 7,
    "start_time": "2022-09-08T15:50:58.285Z"
   },
   {
    "duration": 24,
    "start_time": "2022-09-08T15:50:58.293Z"
   },
   {
    "duration": 7,
    "start_time": "2022-09-08T15:50:58.318Z"
   },
   {
    "duration": 8,
    "start_time": "2022-09-08T15:50:58.347Z"
   },
   {
    "duration": 12,
    "start_time": "2022-09-08T15:50:58.358Z"
   },
   {
    "duration": 258,
    "start_time": "2022-09-08T15:50:58.371Z"
   },
   {
    "duration": 4,
    "start_time": "2022-09-08T15:50:58.630Z"
   },
   {
    "duration": 4,
    "start_time": "2022-09-08T15:50:58.646Z"
   },
   {
    "duration": 9,
    "start_time": "2022-09-08T15:50:58.651Z"
   },
   {
    "duration": 33,
    "start_time": "2022-09-08T15:50:58.661Z"
   },
   {
    "duration": 6,
    "start_time": "2022-09-08T15:50:58.695Z"
   },
   {
    "duration": 19,
    "start_time": "2022-09-08T15:50:58.702Z"
   },
   {
    "duration": 12,
    "start_time": "2022-09-08T15:50:58.723Z"
   },
   {
    "duration": 203,
    "start_time": "2022-09-08T15:50:58.736Z"
   },
   {
    "duration": 3,
    "start_time": "2022-09-08T15:50:58.941Z"
   },
   {
    "duration": 16,
    "start_time": "2022-09-08T15:50:58.946Z"
   },
   {
    "duration": 35,
    "start_time": "2022-09-08T15:50:58.963Z"
   },
   {
    "duration": 48,
    "start_time": "2022-09-08T15:50:59.000Z"
   },
   {
    "duration": 24,
    "start_time": "2022-09-08T15:50:59.050Z"
   },
   {
    "duration": 3,
    "start_time": "2022-09-08T15:52:47.811Z"
   },
   {
    "duration": 44,
    "start_time": "2022-09-08T15:53:21.682Z"
   },
   {
    "duration": 8,
    "start_time": "2022-09-08T15:55:00.287Z"
   },
   {
    "duration": 4,
    "start_time": "2022-09-08T15:55:00.679Z"
   },
   {
    "duration": 4,
    "start_time": "2022-09-08T15:55:01.030Z"
   },
   {
    "duration": 5,
    "start_time": "2022-09-08T15:55:01.647Z"
   },
   {
    "duration": 63,
    "start_time": "2022-09-08T15:55:03.078Z"
   },
   {
    "duration": 3,
    "start_time": "2022-09-08T15:55:03.495Z"
   },
   {
    "duration": 9,
    "start_time": "2022-09-08T15:56:55.991Z"
   },
   {
    "duration": 5,
    "start_time": "2022-09-08T15:56:56.318Z"
   },
   {
    "duration": 5,
    "start_time": "2022-09-08T15:56:56.636Z"
   },
   {
    "duration": 5,
    "start_time": "2022-09-08T15:56:57.189Z"
   },
   {
    "duration": 62,
    "start_time": "2022-09-08T15:56:58.221Z"
   },
   {
    "duration": 3,
    "start_time": "2022-09-08T15:56:58.573Z"
   },
   {
    "duration": 4,
    "start_time": "2022-09-08T15:56:59.197Z"
   },
   {
    "duration": 3,
    "start_time": "2022-09-08T15:57:02.660Z"
   },
   {
    "duration": 20,
    "start_time": "2022-09-08T15:57:03.028Z"
   },
   {
    "duration": 254,
    "start_time": "2022-09-08T15:59:47.328Z"
   },
   {
    "duration": 185,
    "start_time": "2022-09-08T16:06:17.621Z"
   },
   {
    "duration": 4,
    "start_time": "2022-09-08T16:06:24.953Z"
   },
   {
    "duration": 66,
    "start_time": "2022-09-08T16:29:11.560Z"
   },
   {
    "duration": 3,
    "start_time": "2022-09-08T16:29:11.967Z"
   },
   {
    "duration": 4,
    "start_time": "2022-09-08T16:29:12.223Z"
   },
   {
    "duration": 10,
    "start_time": "2022-09-08T16:29:25.289Z"
   },
   {
    "duration": 54,
    "start_time": "2022-09-08T16:29:26.470Z"
   },
   {
    "duration": 24,
    "start_time": "2022-09-08T16:29:27.086Z"
   },
   {
    "duration": 3,
    "start_time": "2022-09-08T16:29:32.118Z"
   },
   {
    "duration": 11,
    "start_time": "2022-09-08T16:29:32.445Z"
   },
   {
    "duration": 53,
    "start_time": "2022-09-08T16:29:32.893Z"
   },
   {
    "duration": 27,
    "start_time": "2022-09-08T16:29:33.398Z"
   },
   {
    "duration": 95,
    "start_time": "2022-09-08T16:29:54.604Z"
   },
   {
    "duration": 10,
    "start_time": "2022-09-08T16:29:58.796Z"
   },
   {
    "duration": 57,
    "start_time": "2022-09-08T16:29:59.380Z"
   },
   {
    "duration": 25,
    "start_time": "2022-09-08T16:29:59.732Z"
   },
   {
    "duration": 4,
    "start_time": "2022-09-08T16:32:10.922Z"
   },
   {
    "duration": 9,
    "start_time": "2022-09-08T16:32:11.770Z"
   },
   {
    "duration": 51,
    "start_time": "2022-09-08T16:32:12.219Z"
   },
   {
    "duration": 25,
    "start_time": "2022-09-08T16:32:12.778Z"
   },
   {
    "duration": 1689,
    "start_time": "2022-09-09T09:33:56.950Z"
   },
   {
    "duration": 79,
    "start_time": "2022-09-09T09:33:58.641Z"
   },
   {
    "duration": 17,
    "start_time": "2022-09-09T09:33:58.722Z"
   },
   {
    "duration": 11,
    "start_time": "2022-09-09T09:33:58.742Z"
   },
   {
    "duration": 6,
    "start_time": "2022-09-09T09:33:58.755Z"
   },
   {
    "duration": 7,
    "start_time": "2022-09-09T09:33:58.763Z"
   },
   {
    "duration": 5,
    "start_time": "2022-09-09T09:33:58.772Z"
   },
   {
    "duration": 5,
    "start_time": "2022-09-09T09:33:58.779Z"
   },
   {
    "duration": 7,
    "start_time": "2022-09-09T09:33:58.785Z"
   },
   {
    "duration": 5,
    "start_time": "2022-09-09T09:33:58.796Z"
   },
   {
    "duration": 7,
    "start_time": "2022-09-09T09:33:58.802Z"
   },
   {
    "duration": 6,
    "start_time": "2022-09-09T09:33:58.811Z"
   },
   {
    "duration": 49,
    "start_time": "2022-09-09T09:33:58.819Z"
   },
   {
    "duration": 4,
    "start_time": "2022-09-09T09:33:58.870Z"
   },
   {
    "duration": 6,
    "start_time": "2022-09-09T09:33:58.876Z"
   },
   {
    "duration": 7,
    "start_time": "2022-09-09T09:33:58.884Z"
   },
   {
    "duration": 8,
    "start_time": "2022-09-09T09:33:58.892Z"
   },
   {
    "duration": 4,
    "start_time": "2022-09-09T09:33:58.902Z"
   },
   {
    "duration": 9,
    "start_time": "2022-09-09T09:33:58.907Z"
   },
   {
    "duration": 39,
    "start_time": "2022-09-09T09:33:58.917Z"
   },
   {
    "duration": 62,
    "start_time": "2022-09-09T09:33:58.957Z"
   },
   {
    "duration": 4,
    "start_time": "2022-09-09T09:33:59.021Z"
   },
   {
    "duration": 15,
    "start_time": "2022-09-09T09:33:59.026Z"
   },
   {
    "duration": 13,
    "start_time": "2022-09-09T09:33:59.043Z"
   },
   {
    "duration": 26,
    "start_time": "2022-09-09T09:33:59.058Z"
   },
   {
    "duration": 7,
    "start_time": "2022-09-09T09:33:59.085Z"
   },
   {
    "duration": 11,
    "start_time": "2022-09-09T09:33:59.093Z"
   },
   {
    "duration": 10,
    "start_time": "2022-09-09T09:33:59.108Z"
   },
   {
    "duration": 258,
    "start_time": "2022-09-09T09:33:59.120Z"
   },
   {
    "duration": 4,
    "start_time": "2022-09-09T09:33:59.380Z"
   },
   {
    "duration": 8,
    "start_time": "2022-09-09T09:33:59.387Z"
   },
   {
    "duration": 8,
    "start_time": "2022-09-09T09:33:59.397Z"
   },
   {
    "duration": 34,
    "start_time": "2022-09-09T09:33:59.407Z"
   },
   {
    "duration": 7,
    "start_time": "2022-09-09T09:33:59.456Z"
   },
   {
    "duration": 14,
    "start_time": "2022-09-09T09:33:59.465Z"
   },
   {
    "duration": 13,
    "start_time": "2022-09-09T09:33:59.481Z"
   },
   {
    "duration": 228,
    "start_time": "2022-09-09T09:33:59.496Z"
   },
   {
    "duration": 4,
    "start_time": "2022-09-09T09:33:59.726Z"
   },
   {
    "duration": 6,
    "start_time": "2022-09-09T09:33:59.732Z"
   },
   {
    "duration": 24,
    "start_time": "2022-09-09T09:33:59.739Z"
   },
   {
    "duration": 14,
    "start_time": "2022-09-09T09:33:59.765Z"
   },
   {
    "duration": 48,
    "start_time": "2022-09-09T09:33:59.781Z"
   },
   {
    "duration": 40,
    "start_time": "2022-09-09T09:33:59.830Z"
   },
   {
    "duration": 3,
    "start_time": "2022-09-09T09:35:33.400Z"
   },
   {
    "duration": 36,
    "start_time": "2022-09-09T09:35:34.262Z"
   },
   {
    "duration": 14,
    "start_time": "2022-09-09T09:35:36.426Z"
   },
   {
    "duration": 3,
    "start_time": "2022-09-09T09:35:43.297Z"
   },
   {
    "duration": 4,
    "start_time": "2022-09-09T09:35:43.749Z"
   },
   {
    "duration": 4,
    "start_time": "2022-09-09T09:35:44.196Z"
   },
   {
    "duration": 4,
    "start_time": "2022-09-09T09:35:47.411Z"
   },
   {
    "duration": 12,
    "start_time": "2022-09-09T09:35:47.417Z"
   },
   {
    "duration": 20,
    "start_time": "2022-09-09T09:35:48.915Z"
   },
   {
    "duration": 4,
    "start_time": "2022-09-09T09:35:49.780Z"
   },
   {
    "duration": 4,
    "start_time": "2022-09-09T09:35:50.627Z"
   },
   {
    "duration": 4,
    "start_time": "2022-09-09T09:35:51.048Z"
   },
   {
    "duration": 8,
    "start_time": "2022-09-09T09:35:51.921Z"
   },
   {
    "duration": 5,
    "start_time": "2022-09-09T09:35:52.327Z"
   },
   {
    "duration": 4,
    "start_time": "2022-09-09T09:35:52.758Z"
   },
   {
    "duration": 5,
    "start_time": "2022-09-09T09:35:53.177Z"
   },
   {
    "duration": 58,
    "start_time": "2022-09-09T09:35:54.024Z"
   },
   {
    "duration": 4,
    "start_time": "2022-09-09T09:35:54.430Z"
   },
   {
    "duration": 4,
    "start_time": "2022-09-09T09:35:54.859Z"
   },
   {
    "duration": 3,
    "start_time": "2022-09-09T09:35:56.616Z"
   },
   {
    "duration": 17,
    "start_time": "2022-09-09T09:35:57.049Z"
   },
   {
    "duration": 9,
    "start_time": "2022-09-09T09:35:57.480Z"
   },
   {
    "duration": 7,
    "start_time": "2022-09-09T09:35:58.328Z"
   },
   {
    "duration": 8,
    "start_time": "2022-09-09T09:35:58.750Z"
   },
   {
    "duration": 219,
    "start_time": "2022-09-09T09:35:59.618Z"
   },
   {
    "duration": 3,
    "start_time": "2022-09-09T09:36:00.064Z"
   },
   {
    "duration": 4,
    "start_time": "2022-09-09T09:36:00.496Z"
   },
   {
    "duration": 2,
    "start_time": "2022-09-09T09:36:01.808Z"
   },
   {
    "duration": 19,
    "start_time": "2022-09-09T09:36:02.275Z"
   },
   {
    "duration": 5,
    "start_time": "2022-09-09T09:36:02.682Z"
   },
   {
    "duration": 6,
    "start_time": "2022-09-09T09:36:03.105Z"
   },
   {
    "duration": 7,
    "start_time": "2022-09-09T09:36:03.533Z"
   },
   {
    "duration": 161,
    "start_time": "2022-09-09T09:36:04.394Z"
   },
   {
    "duration": 3,
    "start_time": "2022-09-09T09:36:04.839Z"
   },
   {
    "duration": 4,
    "start_time": "2022-09-09T09:36:05.279Z"
   },
   {
    "duration": 4,
    "start_time": "2022-09-09T09:36:06.579Z"
   },
   {
    "duration": 45,
    "start_time": "2022-09-09T09:36:09.621Z"
   },
   {
    "duration": 26,
    "start_time": "2022-09-09T09:36:10.452Z"
   },
   {
    "duration": 1019,
    "start_time": "2022-09-10T17:02:56.574Z"
   },
   {
    "duration": 118,
    "start_time": "2022-09-10T17:02:57.595Z"
   },
   {
    "duration": 16,
    "start_time": "2022-09-10T17:02:57.714Z"
   },
   {
    "duration": 10,
    "start_time": "2022-09-10T17:02:57.732Z"
   },
   {
    "duration": 5,
    "start_time": "2022-09-10T17:02:57.744Z"
   },
   {
    "duration": 6,
    "start_time": "2022-09-10T17:02:57.751Z"
   },
   {
    "duration": 5,
    "start_time": "2022-09-10T17:02:57.759Z"
   },
   {
    "duration": 7,
    "start_time": "2022-09-10T17:02:57.765Z"
   },
   {
    "duration": 6,
    "start_time": "2022-09-10T17:02:57.774Z"
   },
   {
    "duration": 43,
    "start_time": "2022-09-10T17:02:57.783Z"
   },
   {
    "duration": 11,
    "start_time": "2022-09-10T17:02:57.828Z"
   },
   {
    "duration": 8,
    "start_time": "2022-09-10T17:02:57.840Z"
   },
   {
    "duration": 20,
    "start_time": "2022-09-10T17:02:57.849Z"
   },
   {
    "duration": 6,
    "start_time": "2022-09-10T17:02:57.871Z"
   },
   {
    "duration": 10,
    "start_time": "2022-09-10T17:02:57.878Z"
   },
   {
    "duration": 6,
    "start_time": "2022-09-10T17:02:57.889Z"
   },
   {
    "duration": 10,
    "start_time": "2022-09-10T17:02:57.897Z"
   },
   {
    "duration": 16,
    "start_time": "2022-09-10T17:02:57.908Z"
   },
   {
    "duration": 8,
    "start_time": "2022-09-10T17:02:57.926Z"
   },
   {
    "duration": 6,
    "start_time": "2022-09-10T17:02:57.936Z"
   },
   {
    "duration": 83,
    "start_time": "2022-09-10T17:02:57.944Z"
   },
   {
    "duration": 4,
    "start_time": "2022-09-10T17:02:58.029Z"
   },
   {
    "duration": 9,
    "start_time": "2022-09-10T17:02:58.034Z"
   },
   {
    "duration": 8,
    "start_time": "2022-09-10T17:02:58.044Z"
   },
   {
    "duration": 22,
    "start_time": "2022-09-10T17:02:58.053Z"
   },
   {
    "duration": 8,
    "start_time": "2022-09-10T17:02:58.076Z"
   },
   {
    "duration": 9,
    "start_time": "2022-09-10T17:02:58.086Z"
   },
   {
    "duration": 33,
    "start_time": "2022-09-10T17:02:58.098Z"
   },
   {
    "duration": 266,
    "start_time": "2022-09-10T17:02:58.132Z"
   },
   {
    "duration": 5,
    "start_time": "2022-09-10T17:02:58.399Z"
   },
   {
    "duration": 16,
    "start_time": "2022-09-10T17:02:58.406Z"
   },
   {
    "duration": 5,
    "start_time": "2022-09-10T17:02:58.424Z"
   },
   {
    "duration": 26,
    "start_time": "2022-09-10T17:02:58.431Z"
   },
   {
    "duration": 6,
    "start_time": "2022-09-10T17:02:58.459Z"
   },
   {
    "duration": 9,
    "start_time": "2022-09-10T17:02:58.466Z"
   },
   {
    "duration": 9,
    "start_time": "2022-09-10T17:02:58.476Z"
   },
   {
    "duration": 207,
    "start_time": "2022-09-10T17:02:58.487Z"
   },
   {
    "duration": 3,
    "start_time": "2022-09-10T17:02:58.696Z"
   },
   {
    "duration": 6,
    "start_time": "2022-09-10T17:02:58.701Z"
   },
   {
    "duration": 15,
    "start_time": "2022-09-10T17:02:58.708Z"
   },
   {
    "duration": 12,
    "start_time": "2022-09-10T17:02:58.725Z"
   },
   {
    "duration": 50,
    "start_time": "2022-09-10T17:02:58.739Z"
   },
   {
    "duration": 43,
    "start_time": "2022-09-10T17:02:58.790Z"
   },
   {
    "duration": 5,
    "start_time": "2022-09-10T17:03:09.282Z"
   },
   {
    "duration": 246,
    "start_time": "2022-09-10T17:03:12.000Z"
   },
   {
    "duration": 4,
    "start_time": "2022-09-10T17:03:13.110Z"
   },
   {
    "duration": 4,
    "start_time": "2022-09-10T17:03:13.607Z"
   },
   {
    "duration": 177,
    "start_time": "2022-09-10T17:03:26.535Z"
   },
   {
    "duration": 3,
    "start_time": "2022-09-10T17:03:27.166Z"
   },
   {
    "duration": 4,
    "start_time": "2022-09-10T17:03:27.646Z"
   }
  ],
  "kernelspec": {
   "display_name": "Python 3 (ipykernel)",
   "language": "python",
   "name": "python3"
  },
  "language_info": {
   "codemirror_mode": {
    "name": "ipython",
    "version": 3
   },
   "file_extension": ".py",
   "mimetype": "text/x-python",
   "name": "python",
   "nbconvert_exporter": "python",
   "pygments_lexer": "ipython3",
   "version": "3.9.5"
  },
  "toc": {
   "base_numbering": 1,
   "nav_menu": {
    "height": "12px",
    "width": "160px"
   },
   "number_sections": true,
   "sideBar": true,
   "skip_h1_title": true,
   "title_cell": "Table of Contents",
   "title_sidebar": "Contents",
   "toc_cell": false,
   "toc_position": {
    "height": "calc(100% - 180px)",
    "left": "10px",
    "top": "150px",
    "width": "366.188px"
   },
   "toc_section_display": true,
   "toc_window_display": true
  }
 },
 "nbformat": 4,
 "nbformat_minor": 2
}
